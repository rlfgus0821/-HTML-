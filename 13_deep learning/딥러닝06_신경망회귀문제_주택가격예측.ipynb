{
 "cells": [
  {
   "cell_type": "code",
   "execution_count": 2,
   "metadata": {},
   "outputs": [],
   "source": [
    "import numpy as np\n",
    "import matplotlib.pyplot as plt\n",
    "from tensorflow import keras\n",
    "import tensorflow as tf"
   ]
  },
  {
   "cell_type": "markdown",
   "metadata": {
    "id": "QHOcHxYJGoR4"
   },
   "source": [
    "## 신경망을 이용한 예측 : 회귀문제"
   ]
  },
  {
   "cell_type": "markdown",
   "metadata": {
    "id": "QHOcHxYJGoR4"
   },
   "source": [
    "### 주택 가격 예측\n",
    "\n",
    "- 1970년 중반 보스턴 주택 가격 데이터셋\n",
    "- 데이터 506개: 훈련 샘플-404개, 테스트 샘플-102개\n",
    "- 14개 변수\n",
    "  - CRIM : 자치시(town) 별 1인당 범죄율\n",
    "  - ZN : 25,000 평방피트를 초과하는 거주지역의 비율\n",
    "  - INDUS : 비소매상업지역이 점유하고 있는 토지의 비율\n",
    "  - CHAS : 찰스강에 대한 더미변수(강의 경계에 위치한 경우는 1, 아니면 0)\n",
    "  - NOX : 10ppm 당 농축 일산화질소\n",
    "  - RM :  주택 1가구당 평균 방의 개수\n",
    "  - AGE : 1940년 이전에 건축된 소유주택의 비율\n",
    "  - DIS : 5개의 보스턴 직업센터까지의 접근성 지수\n",
    "  - RAD : 방사형 도로까지의 접근성 지수\n",
    "  - TAX : 10,000 달러 당 재산세율\n",
    "  - PTRATIO : 자치시(town)별 학생/교사 비율\n",
    "  - B : 1000(Bk-0.63)^2, 여기서 Bk는 자치시별 흑인의 비율을 말함\n",
    "  - LSTAT : 모집단의 하위계층의 비율(%)\n",
    "  - MEDV : 본인 소유의 주택가격(중앙값) (단위: $1,000)"
   ]
  },
  {
   "cell_type": "markdown",
   "metadata": {
    "id": "UAlCCMvHHbyM"
   },
   "source": [
    "### 데이터 로드"
   ]
  },
  {
   "cell_type": "code",
   "execution_count": 3,
   "metadata": {
    "id": "EnQVJt-TMYeJ"
   },
   "outputs": [],
   "source": [
    "from keras.datasets import boston_housing"
   ]
  },
  {
   "cell_type": "code",
   "execution_count": 5,
   "metadata": {
    "colab": {
     "base_uri": "https://localhost:8080/"
    },
    "executionInfo": {
     "elapsed": 274,
     "status": "ok",
     "timestamp": 1644991741052,
     "user": {
      "displayName": "Kyungmi Lee",
      "photoUrl": "https://lh3.googleusercontent.com/a/default-user=s64",
      "userId": "14076883295874579202"
     },
     "user_tz": -540
    },
    "id": "vCXxE_OAHbIB",
    "outputId": "6ba15a58-e03a-4157-8fc3-c45c518c66ac"
   },
   "outputs": [
    {
     "name": "stdout",
     "output_type": "stream",
     "text": [
      "Downloading data from https://storage.googleapis.com/tensorflow/tf-keras-datasets/boston_housing.npz\n",
      "\u001b[1m57026/57026\u001b[0m \u001b[32m━━━━━━━━━━━━━━━━━━━━\u001b[0m\u001b[37m\u001b[0m \u001b[1m0s\u001b[0m 0us/step\n"
     ]
    }
   ],
   "source": [
    "(train_data, train_targets), (test_data, test_targets) = boston_housing.load_data()"
   ]
  },
  {
   "cell_type": "code",
   "execution_count": 7,
   "metadata": {
    "colab": {
     "base_uri": "https://localhost:8080/"
    },
    "executionInfo": {
     "elapsed": 273,
     "status": "ok",
     "timestamp": 1644991754581,
     "user": {
      "displayName": "Kyungmi Lee",
      "photoUrl": "https://lh3.googleusercontent.com/a/default-user=s64",
      "userId": "14076883295874579202"
     },
     "user_tz": -540
    },
    "id": "AA_lnKchcV8v",
    "outputId": "fdd42cbc-c454-445e-c9ba-676235b5646c"
   },
   "outputs": [
    {
     "data": {
      "text/plain": [
       "((404, 13), (102, 13))"
      ]
     },
     "execution_count": 7,
     "metadata": {},
     "output_type": "execute_result"
    }
   ],
   "source": [
    "train_data.shape, test_data.shape"
   ]
  },
  {
   "cell_type": "code",
   "execution_count": 8,
   "metadata": {
    "colab": {
     "base_uri": "https://localhost:8080/"
    },
    "executionInfo": {
     "elapsed": 271,
     "status": "ok",
     "timestamp": 1644992950039,
     "user": {
      "displayName": "Kyungmi Lee",
      "photoUrl": "https://lh3.googleusercontent.com/a/default-user=s64",
      "userId": "14076883295874579202"
     },
     "user_tz": -540
    },
    "id": "-bomzAdvIbOi",
    "outputId": "0786061f-638d-4eb5-908a-0222c2484f54"
   },
   "outputs": [
    {
     "data": {
      "text/plain": [
       "(5.0, 50.0)"
      ]
     },
     "execution_count": 8,
     "metadata": {},
     "output_type": "execute_result"
    }
   ],
   "source": [
    "np.min(train_targets), np.max(train_targets)"
   ]
  },
  {
   "cell_type": "markdown",
   "metadata": {
    "colab": {
     "base_uri": "https://localhost:8080/"
    },
    "executionInfo": {
     "elapsed": 3,
     "status": "ok",
     "timestamp": 1644992941622,
     "user": {
      "displayName": "Kyungmi Lee",
      "photoUrl": "https://lh3.googleusercontent.com/a/default-user=s64",
      "userId": "14076883295874579202"
     },
     "user_tz": -540
    },
    "id": "_As4es34cZLH",
    "outputId": "f37d0c0c-42dc-48e6-f6e9-cc7d3d33afa7"
   },
   "source": [
    "=> 주택가격(targets): 천달러 단위"
   ]
  },
  {
   "cell_type": "markdown",
   "metadata": {
    "id": "0ApYRmt5NQoE"
   },
   "source": [
    "### 데이터 준비\n",
    "\n",
    "- 데이터 표준화\n",
    "  - 상이한 스케일을 가진 값을 신경망에 주입하면 문제가 발생\n",
    "  - 입력 데이터에 있는 각 특성을 평균은 0, 표준편차 1이 되도록 표준화함"
   ]
  },
  {
   "cell_type": "code",
   "execution_count": 9,
   "metadata": {
    "colab": {
     "base_uri": "https://localhost:8080/"
    },
    "executionInfo": {
     "elapsed": 9,
     "status": "ok",
     "timestamp": 1644994149075,
     "user": {
      "displayName": "Kyungmi Lee",
      "photoUrl": "https://lh3.googleusercontent.com/a/default-user=s64",
      "userId": "14076883295874579202"
     },
     "user_tz": -540
    },
    "id": "z-5j1eloSo1C",
    "outputId": "abf07fb1-ba44-4b42-9fc4-34928ead363e"
   },
   "outputs": [
    {
     "data": {
      "text/plain": [
       "array([3.74511057e+00, 1.14801980e+01, 1.11044307e+01, 6.18811881e-02,\n",
       "       5.57355941e-01, 6.26708168e+00, 6.90106436e+01, 3.74027079e+00,\n",
       "       9.44059406e+00, 4.05898515e+02, 1.84759901e+01, 3.54783168e+02,\n",
       "       1.27408168e+01])"
      ]
     },
     "execution_count": 9,
     "metadata": {},
     "output_type": "execute_result"
    }
   ],
   "source": [
    "train_data.mean(axis=0)"
   ]
  },
  {
   "cell_type": "code",
   "execution_count": 10,
   "metadata": {
    "colab": {
     "base_uri": "https://localhost:8080/"
    },
    "executionInfo": {
     "elapsed": 295,
     "status": "ok",
     "timestamp": 1644994165705,
     "user": {
      "displayName": "Kyungmi Lee",
      "photoUrl": "https://lh3.googleusercontent.com/a/default-user=s64",
      "userId": "14076883295874579202"
     },
     "user_tz": -540
    },
    "id": "90u_Fa_vStnv",
    "outputId": "8a08850d-2e29-40e6-e2b9-7a180f274ba3"
   },
   "outputs": [
    {
     "data": {
      "text/plain": [
       "array([9.22929073e+00, 2.37382770e+01, 6.80287253e+00, 2.40939633e-01,\n",
       "       1.17147847e-01, 7.08908627e-01, 2.79060634e+01, 2.02770050e+00,\n",
       "       8.68758849e+00, 1.66168506e+02, 2.19765689e+00, 9.39946015e+01,\n",
       "       7.24556085e+00])"
      ]
     },
     "execution_count": 10,
     "metadata": {},
     "output_type": "execute_result"
    }
   ],
   "source": [
    "train_data.std(axis=0)"
   ]
  },
  {
   "cell_type": "code",
   "execution_count": 11,
   "metadata": {},
   "outputs": [],
   "source": [
    "# 데이터 표준화(평균= 0, 표준편차= 1)\n",
    "mean = train_data.mean(axis=0)\n",
    "std = train_data.std(axis=0)\n",
    "\n",
    "train_data -= mean\n",
    "train_data /= std\n",
    "\n",
    "test_data -= mean\n",
    "test_data /= std"
   ]
  },
  {
   "cell_type": "code",
   "execution_count": 12,
   "metadata": {
    "colab": {
     "base_uri": "https://localhost:8080/"
    },
    "executionInfo": {
     "elapsed": 5,
     "status": "ok",
     "timestamp": 1644994281371,
     "user": {
      "displayName": "Kyungmi Lee",
      "photoUrl": "https://lh3.googleusercontent.com/a/default-user=s64",
      "userId": "14076883295874579202"
     },
     "user_tz": -540
    },
    "id": "Rc8LxrJ_S4yt",
    "outputId": "75a33724-18cd-4370-de71-dd6ea26983a8"
   },
   "outputs": [
    {
     "data": {
      "text/plain": [
       "array([-1.01541438e-16,  1.09923072e-17,  1.74337992e-15, -1.26686340e-16,\n",
       "       -5.25377321e-15,  6.41414864e-15,  2.98441140e-16,  4.94653823e-16,\n",
       "        1.12671149e-17, -1.98136337e-16,  2.36686358e-14,  5.95679996e-15,\n",
       "        6.13920356e-16])"
      ]
     },
     "execution_count": 12,
     "metadata": {},
     "output_type": "execute_result"
    }
   ],
   "source": [
    "train_data.mean(axis=0)"
   ]
  },
  {
   "cell_type": "code",
   "execution_count": 13,
   "metadata": {
    "colab": {
     "base_uri": "https://localhost:8080/"
    },
    "executionInfo": {
     "elapsed": 257,
     "status": "ok",
     "timestamp": 1644994297070,
     "user": {
      "displayName": "Kyungmi Lee",
      "photoUrl": "https://lh3.googleusercontent.com/a/default-user=s64",
      "userId": "14076883295874579202"
     },
     "user_tz": -540
    },
    "id": "uMq3p6WFTNfZ",
    "outputId": "dad1d2d5-f7dc-43ae-86d1-90903827f849"
   },
   "outputs": [
    {
     "data": {
      "text/plain": [
       "array([1., 1., 1., 1., 1., 1., 1., 1., 1., 1., 1., 1., 1.])"
      ]
     },
     "execution_count": 13,
     "metadata": {},
     "output_type": "execute_result"
    }
   ],
   "source": [
    "train_data.std(axis=0)"
   ]
  },
  {
   "cell_type": "markdown",
   "metadata": {
    "id": "6KGBTr17PVvA"
   },
   "source": [
    "### 1) 신경망 모델 정의 및 컴파일"
   ]
  },
  {
   "cell_type": "markdown",
   "metadata": {
    "id": "JeBM3Ar3pdaD"
   },
   "source": [
    "- 샘플 개수가 적으므로 64개 유닛을 가진 2개의 은닉층으로 네트워크 구성\n",
    "    - 샘플 수가 적은 경우 모델의 과적합을 예방하기 위해 모델을 복잡하지 않게 구성\n",
    "    - 보통 은닉층 1~2개 정도로 구성\n",
    "\n",
    "- 모델 정의 및 컴파일을 위한 함수 생성 build_model()"
   ]
  },
  {
   "cell_type": "code",
   "execution_count": 15,
   "metadata": {
    "id": "13nPvnlyPStv"
   },
   "outputs": [],
   "source": [
    "# relu -> 입력값이 0보다 크면 그대로 출력, 그렇지 않으면 0을 출력\n",
    "from keras import models, layers\n",
    "\n",
    "def build_housing_model():\n",
    "    model = keras.Sequential([layers.Dense(64, activation='relu'),\n",
    "                             layers.Dense(64,activation='relu'),\n",
    "                             layers.Dense(1)])\n",
    "    model.compile(optimizer='rmsprop', loss='mse',metrics=['mae'])\n",
    "    return model"
   ]
  },
  {
   "cell_type": "markdown",
   "metadata": {
    "id": "WapcthhIggeZ"
   },
   "source": [
    "### 2) 모델 훈련 및 검증\n",
    "\n",
    "**K-fold cross-validation을 사용**"
   ]
  },
  {
   "cell_type": "code",
   "execution_count": 21,
   "metadata": {
    "colab": {
     "base_uri": "https://localhost:8080/"
    },
    "executionInfo": {
     "elapsed": 288,
     "status": "ok",
     "timestamp": 1645000230881,
     "user": {
      "displayName": "Kyungmi Lee",
      "photoUrl": "https://lh3.googleusercontent.com/a/default-user=s64",
      "userId": "14076883295874579202"
     },
     "user_tz": -540
    },
    "id": "3h4_HXO8p2qc",
    "outputId": "cd0bb7e0-dc09-4cf5-e196-d3147eb99012"
   },
   "outputs": [
    {
     "name": "stdout",
     "output_type": "stream",
     "text": [
      "\u001b[1m4/4\u001b[0m \u001b[32m━━━━━━━━━━━━━━━━━━━━\u001b[0m\u001b[37m\u001b[0m \u001b[1m0s\u001b[0m 4ms/step - loss: 7.9211 - mae: 2.0077  \n",
      "\u001b[1m4/4\u001b[0m \u001b[32m━━━━━━━━━━━━━━━━━━━━\u001b[0m\u001b[37m\u001b[0m \u001b[1m1s\u001b[0m 6ms/step - loss: 10.9755 - mae: 2.6545  \n",
      "\u001b[1m4/4\u001b[0m \u001b[32m━━━━━━━━━━━━━━━━━━━━\u001b[0m\u001b[37m\u001b[0m \u001b[1m0s\u001b[0m 7ms/step - loss: 12.7427 - mae: 2.5684  \n",
      "\u001b[1m4/4\u001b[0m \u001b[32m━━━━━━━━━━━━━━━━━━━━\u001b[0m\u001b[37m\u001b[0m \u001b[1m0s\u001b[0m 8ms/step - loss: 13.4791 - mae: 2.4879  \n"
     ]
    }
   ],
   "source": [
    "k=4\n",
    "n_epochs = 100\n",
    "n_val_samples = len(train_data) // k\n",
    "all_scores = []\n",
    "\n",
    "for i in range(k):\n",
    "    val_x = train_data[i * n_val_samples: (i+1) * n_val_samples]\n",
    "    val_y = train_targets[i * n_val_samples: (i+1) * n_val_samples]\n",
    "    part_train_x = np.concatenate([train_data[: i * n_val_samples], train_data[(i+1) * n_val_samples:]], \n",
    "                                     axis= 0 )\n",
    "    part_train_y = np.concatenate([train_targets[: i * n_val_samples], train_targets[(i+1) * n_val_samples:]], \n",
    "                                     axis= 0 )\n",
    "    model = build_housing_model()\n",
    "    model.fit(part_train_x, part_train_y, epochs= n_epochs, batch_size= 16, verbose= 0)\n",
    "    val_mse, val_mae = model.evaluate(val_x, val_y)\n",
    "    all_scores.append(val_mae)"
   ]
  },
  {
   "cell_type": "code",
   "execution_count": 22,
   "metadata": {},
   "outputs": [
    {
     "data": {
      "text/plain": [
       "[2.0138566493988037, 2.599287509918213, 2.527527093887329, 2.371401309967041]"
      ]
     },
     "execution_count": 22,
     "metadata": {},
     "output_type": "execute_result"
    }
   ],
   "source": [
    "all_scores"
   ]
  },
  {
   "cell_type": "code",
   "execution_count": 24,
   "metadata": {
    "colab": {
     "base_uri": "https://localhost:8080/"
    },
    "executionInfo": {
     "elapsed": 3,
     "status": "ok",
     "timestamp": 1645000251357,
     "user": {
      "displayName": "Kyungmi Lee",
      "photoUrl": "https://lh3.googleusercontent.com/a/default-user=s64",
      "userId": "14076883295874579202"
     },
     "user_tz": -540
    },
    "id": "HTBnY33ap6fZ",
    "outputId": "d5342cb6-da0a-48d2-fc58-4b9190944987"
   },
   "outputs": [
    {
     "name": "stdout",
     "output_type": "stream",
     "text": [
      "평균 MAE: 2.3780\n"
     ]
    }
   ],
   "source": [
    "print(f'평균 MAE: {np.mean(all_scores):.4f}')"
   ]
  },
  {
   "cell_type": "markdown",
   "metadata": {
    "id": "Q78SD4jeVOZa"
   },
   "source": [
    "- 각 폴드에서 검증 점수를 로그에 저장하기\n",
    "\n",
    "  - epochs를 500으로 하여 다시 훈련하여 검증"
   ]
  },
  {
   "cell_type": "code",
   "execution_count": 25,
   "metadata": {},
   "outputs": [],
   "source": [
    "# epochs = cv -> 반복횟수\n",
    "k=4\n",
    "n_epochs = 500\n",
    "n_val_samples = len(train_data) // k\n",
    "all_scores = []\n",
    "\n",
    "for i in range(k):\n",
    "    val_x = train_data[i * n_val_samples: (i+1) * n_val_samples]\n",
    "    val_y = train_targets[i * n_val_samples: (i+1) * n_val_samples]\n",
    "    part_train_x = np.concatenate([train_data[: i * n_val_samples], train_data[(i+1) * n_val_samples:]], \n",
    "                                     axis= 0 )\n",
    "    part_train_y = np.concatenate([train_targets[: i * n_val_samples], train_targets[(i+1) * n_val_samples:]], \n",
    "                                     axis= 0 )\n",
    "    model = build_housing_model()\n",
    "    history = model.fit(part_train_x, part_train_y, validation_data= (val_x, val_y), \n",
    "              epochs= n_epochs, batch_size= 16, verbose= 0)\n",
    "    \n",
    "    all_scores.append(history.history['val_mae'])"
   ]
  },
  {
   "cell_type": "code",
   "execution_count": 33,
   "metadata": {
    "colab": {
     "base_uri": "https://localhost:8080/"
    },
    "executionInfo": {
     "elapsed": 5,
     "status": "ok",
     "timestamp": 1645008294833,
     "user": {
      "displayName": "Kyungmi Lee",
      "photoUrl": "https://lh3.googleusercontent.com/a/default-user=s64",
      "userId": "14076883295874579202"
     },
     "user_tz": -540
    },
    "id": "KU6Eu3hZIniS",
    "outputId": "7c1fc2ab-2ee8-420e-87ce-9d9e67236702"
   },
   "outputs": [
    {
     "name": "stdout",
     "output_type": "stream",
     "text": [
      "평균 MAE: 2.5657\n"
     ]
    },
    {
     "data": {
      "text/plain": [
       "(4, 500)"
      ]
     },
     "execution_count": 33,
     "metadata": {},
     "output_type": "execute_result"
    }
   ],
   "source": [
    "print(f'평균 MAE: {np.mean(all_scores):.4f}')\n",
    "len(all_scores), len(all_scores[0])"
   ]
  },
  {
   "cell_type": "markdown",
   "metadata": {
    "id": "RznxVENQWWOJ"
   },
   "source": [
    "### 3) 모델 성능 시각화"
   ]
  },
  {
   "cell_type": "code",
   "execution_count": 36,
   "metadata": {
    "colab": {
     "base_uri": "https://localhost:8080/"
    },
    "executionInfo": {
     "elapsed": 282,
     "status": "ok",
     "timestamp": 1645008743137,
     "user": {
      "displayName": "Kyungmi Lee",
      "photoUrl": "https://lh3.googleusercontent.com/a/default-user=s64",
      "userId": "14076883295874579202"
     },
     "user_tz": -540
    },
    "id": "AwLFLSJ0Jf7H",
    "outputId": "c1eed40c-2d0f-4f60-8591-2d1da995127d"
   },
   "outputs": [],
   "source": [
    "def draw_metric_plot(history):\n",
    "    loss = ['loss','val_loss']\n",
    "    mae = ['mae','val_mae']\n",
    "    title = ['Loss', 'Accuracy']\n",
    "    plt.figure(figsize=(10,4))\n",
    "    \n",
    "    for i, item in enumerate([loss, mae]):\n",
    "        n = len(history.history[item[0]])\n",
    "        plt.subplot(1,2, i+1)\n",
    "        plt.plot(history.history[item[0]], label= 'train')\n",
    "        plt.plot(history.history[item[1]], label= 'validation')\n",
    "        plt.xlabel('epochs')\n",
    "        plt.ylabel(title[i])\n",
    "        plt.title(title[i] + ' plot')\n",
    "        plt.legend()    \n",
    "        plt.tight_layout()\n",
    "        plt.grid()\n",
    "    plt.show()"
   ]
  },
  {
   "cell_type": "markdown",
   "metadata": {},
   "source": [
    "- 마지막 폴드에 대한 성능 시각화"
   ]
  },
  {
   "cell_type": "code",
   "execution_count": 37,
   "metadata": {
    "colab": {
     "base_uri": "https://localhost:8080/"
    },
    "executionInfo": {
     "elapsed": 5,
     "status": "ok",
     "timestamp": 1645008773623,
     "user": {
      "displayName": "Kyungmi Lee",
      "photoUrl": "https://lh3.googleusercontent.com/a/default-user=s64",
      "userId": "14076883295874579202"
     },
     "user_tz": -540
    },
    "id": "-mX3a9jwKbsG",
    "outputId": "cb7adcc1-fe73-4b50-9abf-8c283dffbb4c"
   },
   "outputs": [
    {
     "data": {
      "image/png": "[encoded data removed]",
      "text/plain": [
       "<Figure size 1000x400 with 2 Axes>"
      ]
     },
     "metadata": {},
     "output_type": "display_data"
    }
   ],
   "source": [
    "draw_metric_plot(history)"
   ]
  },
  {
   "cell_type": "markdown",
   "metadata": {},
   "source": [
    "- 모든 폴드에 대해 에포크별 MAE 평균점수"
   ]
  },
  {
   "cell_type": "code",
   "execution_count": 42,
   "metadata": {},
   "outputs": [],
   "source": [
    "avg_mae_hist = [np.mean([x[i] for x in all_scores]) for i in range(n_epochs)]"
   ]
  },
  {
   "cell_type": "code",
   "execution_count": 43,
   "metadata": {},
   "outputs": [
    {
     "data": {
      "text/plain": [
       "(2.2129393219947815, 18.943944454193115)"
      ]
     },
     "execution_count": 43,
     "metadata": {},
     "output_type": "execute_result"
    }
   ],
   "source": [
    "np.min(avg_mae_hist), np.max(avg_mae_hist)"
   ]
  },
  {
   "cell_type": "code",
   "execution_count": 44,
   "metadata": {},
   "outputs": [
    {
     "data": {
      "text/plain": [
       "(134, 0)"
      ]
     },
     "execution_count": 44,
     "metadata": {},
     "output_type": "execute_result"
    }
   ],
   "source": [
    "# 값에 해당하는 epochs 수\n",
    "np.argmin(avg_mae_hist), np.argmax(avg_mae_hist)"
   ]
  },
  {
   "cell_type": "code",
   "execution_count": 46,
   "metadata": {},
   "outputs": [
    {
     "data": {
      "image/png": "[encoded data removed]",
      "text/plain": [
       "<Figure size 640x480 with 1 Axes>"
      ]
     },
     "metadata": {},
     "output_type": "display_data"
    }
   ],
   "source": [
    "plt.plot(range(1, len(avg_mae_hist)+ 1), avg_mae_hist)\n",
    "plt.xlabel('Epochs')\n",
    "plt.ylabel('Validation Mean MAE')\n",
    "plt.show()"
   ]
  },
  {
   "cell_type": "code",
   "execution_count": 47,
   "metadata": {},
   "outputs": [
    {
     "data": {
      "image/png": "[encoded data removed]",
      "text/plain": [
       "<Figure size 640x480 with 1 Axes>"
      ]
     },
     "metadata": {},
     "output_type": "display_data"
    }
   ],
   "source": [
    "part_mae_hist = avg_mae_hist[10:]\n",
    "plt.plot(range(1, len(part_mae_hist)+ 1), part_mae_hist)\n",
    "plt.xlabel('Epochs')\n",
    "plt.ylabel('Validation Mean MAE')\n",
    "plt.show()"
   ]
  },
  {
   "cell_type": "markdown",
   "metadata": {
    "id": "6RREaZug_OWZ"
   },
   "source": [
    "### 4) 최종 모델 훈련하기\n",
    "\n",
    "- 에포크수, 은닉층의 크기 등 모델의 여러 매개변수에 대한 튜닝이 끝나면 모든 훈련데이터를 사용하여 모델을 훈련함"
   ]
  },
  {
   "cell_type": "code",
   "execution_count": 48,
   "metadata": {
    "colab": {
     "base_uri": "https://localhost:8080/"
    },
    "executionInfo": {
     "elapsed": 5937,
     "status": "ok",
     "timestamp": 1645008958583,
     "user": {
      "displayName": "Kyungmi Lee",
      "photoUrl": "https://lh3.googleusercontent.com/a/default-user=s64",
      "userId": "14076883295874579202"
     },
     "user_tz": -540
    },
    "id": "JLvmITCZ_NtK",
    "outputId": "ab3da519-4567-4268-c1e5-80abd97ab11f"
   },
   "outputs": [
    {
     "data": {
      "text/plain": [
       "<keras.src.callbacks.history.History at 0x1d90687d510>"
      ]
     },
     "execution_count": 48,
     "metadata": {},
     "output_type": "execute_result"
    }
   ],
   "source": [
    "model = build_housing_model()\n",
    "model.fit(train_data, train_targets, epochs= 130, batch_size= 16, verbose= 0)"
   ]
  },
  {
   "cell_type": "markdown",
   "metadata": {
    "id": "TnKHWdh6-3G6"
   },
   "source": [
    "### 5) 테스트 데이터로 성능 확인"
   ]
  },
  {
   "cell_type": "code",
   "execution_count": 49,
   "metadata": {
    "colab": {
     "base_uri": "https://localhost:8080/"
    },
    "executionInfo": {
     "elapsed": 280,
     "status": "ok",
     "timestamp": 1645008962382,
     "user": {
      "displayName": "Kyungmi Lee",
      "photoUrl": "https://lh3.googleusercontent.com/a/default-user=s64",
      "userId": "14076883295874579202"
     },
     "user_tz": -540
    },
    "id": "EjC0-JWM-AC0",
    "outputId": "137994b6-91a7-4851-ab82-c8cbdcc254ca"
   },
   "outputs": [
    {
     "name": "stdout",
     "output_type": "stream",
     "text": [
      "\u001b[1m4/4\u001b[0m \u001b[32m━━━━━━━━━━━━━━━━━━━━\u001b[0m\u001b[37m\u001b[0m \u001b[1m1s\u001b[0m 9ms/step - loss: 14.2307 - mae: 2.6610  \n"
     ]
    }
   ],
   "source": [
    "test_mse, test_mae = model.evaluate(test_data, test_targets)"
   ]
  },
  {
   "cell_type": "code",
   "execution_count": 50,
   "metadata": {
    "colab": {
     "base_uri": "https://localhost:8080/"
    },
    "executionInfo": {
     "elapsed": 267,
     "status": "ok",
     "timestamp": 1645008981418,
     "user": {
      "displayName": "Kyungmi Lee",
      "photoUrl": "https://lh3.googleusercontent.com/a/default-user=s64",
      "userId": "14076883295874579202"
     },
     "user_tz": -540
    },
    "id": "OZaZvU1Txpvb",
    "outputId": "407a4198-7534-46e9-cf2c-c7985be60a40"
   },
   "outputs": [
    {
     "name": "stdout",
     "output_type": "stream",
     "text": [
      "테스트 데이터 MSE: 18.8222, 테스트 데이터 MAE: 2.8249\n"
     ]
    }
   ],
   "source": [
    "print(f'테스트 데이터 MSE: {test_mse:.4f}, 테스트 데이터 MAE: {test_mae:.4f}')"
   ]
  },
  {
   "cell_type": "markdown",
   "metadata": {},
   "source": [
    "### 6) 새로운 데이터에 대해 예측"
   ]
  },
  {
   "cell_type": "code",
   "execution_count": 53,
   "metadata": {},
   "outputs": [
    {
     "name": "stdout",
     "output_type": "stream",
     "text": [
      "\u001b[1m4/4\u001b[0m \u001b[32m━━━━━━━━━━━━━━━━━━━━\u001b[0m\u001b[37m\u001b[0m \u001b[1m0s\u001b[0m 3ms/step \n"
     ]
    },
    {
     "data": {
      "text/plain": [
       "(7.2, array([10.565947], dtype=float32))"
      ]
     },
     "execution_count": 53,
     "metadata": {},
     "output_type": "execute_result"
    }
   ],
   "source": [
    "pred_y = model.predict(test_data)\n",
    "test_targets[0], pred_y[0]"
   ]
  },
  {
   "cell_type": "markdown",
   "metadata": {},
   "source": [
    "----"
   ]
  },
  {
   "cell_type": "markdown",
   "metadata": {
    "id": "dwl7DpOpDyEF"
   },
   "source": [
    "## [정리]\n",
    "\n",
    "- 회귀는 분류에서 사용했던 것과 다른 손실함수 사용 : 평균제곱오차(MSE)\n",
    "- 회귀에서 사용되는 평가지표 : 평균절대오차(MAE)\n",
    "- 입력 데이터의 특성이 서로 다른 범위를 가지면 전처리 단계에서 각 특성을 개별적으로 스케일링해야 함 -> 정규화\n",
    "- 가용한 데이터가 적다면 K-fold 교차검증을 사용하는 것이 신뢰할 수 있는 모델 평가방법임\n",
    "- 가용한 훈련 데이터가 적다면 과대적합을 피하기 위해 은닉층의 수를 줄임 모델이 좋음(일반적으로 1개 또는 2개)"
   ]
  },
  {
   "cell_type": "markdown",
   "metadata": {},
   "source": [
    "### 연습문제.\n",
    "\n",
    "1. 위 모델에서 최적화 알고리즘을 'Adam'을 사용한 경우 모델을 학습하고 평가하여 결과를 비교해보세요.\n",
    "\n",
    "\n",
    "2. 학습의 epochs수와 batch사이즈를 조절하여 결과를 모델 성능을 비교하세요.\n",
    "\n",
    "\n",
    "3. 2개의 은닉층과 1개의 출력층을 갖는 모델을 구성하고 최적화는 'rmsprop'을 적용한 경우와 'adam'을 적용한 경우를 비교해보시오.\n",
    "\n",
    "\n",
    "4. 위의 모델에서 콜백함수의 Early stopping 기법을 적용하여 최적의 epoch가 언제인지 찾아내시오."
   ]
  },
  {
   "cell_type": "code",
   "execution_count": 55,
   "metadata": {},
   "outputs": [],
   "source": [
    "def build_housing_model_adam():\n",
    "    model = Sequential([\n",
    "        layers.Dense(64, activation='relu'),\n",
    "        layers.Dense(64, activation='relu'),\n",
    "        layers.Dense(1)\n",
    "    ])\n",
    "    model.compile(optimizer='adam', loss='mse', metrics=['mae'])\n",
    "    return model"
   ]
  },
  {
   "cell_type": "code",
   "execution_count": null,
   "metadata": {},
   "outputs": [],
   "source": [
    "# 콜백\n",
    "early_stopping = EarlyStopping(monitor='val_loss', patience= 3, restore_best_weights=True)"
   ]
  },
  {
   "cell_type": "code",
   "execution_count": 57,
   "metadata": {},
   "outputs": [],
   "source": [
    "# 모델 학습 ~ 시각화\n",
    "def model_fit_plot(train_data, train_targets, model, epochs, batch_size):\n",
    "    model = model()\n",
    "    history = model.fit(train_data, train_targets, \n",
    "                        epochs=epochs, batch_size=batch_size, \n",
    "                        validation_split=0.2, \n",
    "                        callbacks=[early_stopping], \n",
    "                        verbose=0)\n",
    "    \n",
    "    draw_metric_plot(history)"
   ]
  },
  {
   "cell_type": "code",
   "execution_count": null,
   "metadata": {},
   "outputs": [],
   "source": [
    "# epochs 100 , batch_size= 16\n",
    "\n",
    "model2 = build_housing_model_adam()\n",
    "model_fit_plot(train_data, train_targets, model, epochs= 100, batch_size= 16)"
   ]
  },
  {
   "cell_type": "code",
   "execution_count": null,
   "metadata": {},
   "outputs": [],
   "source": [
    "# epochs 100 -> 200\n",
    "\n",
    "model2 = build_housing_model_adam()\n",
    "model_fit_plot(train_data, train_targets, model, epochs= 200, batch_size= 16)"
   ]
  },
  {
   "cell_type": "code",
   "execution_count": null,
   "metadata": {},
   "outputs": [],
   "source": [
    "# epochs 100, batch_size 16 -> 32\n",
    "model2 = build_housing_model_adam()\n",
    "model_fit_plot(train_data, train_targets, model, epochs= 100, batch_size= 32)"
   ]
  },
  {
   "cell_type": "code",
   "execution_count": null,
   "metadata": {},
   "outputs": [],
   "source": [
    "# epochs 100 -> 200, batch_size 16 -> 32\n",
    "model2 = build_housing_model_adam()\n",
    "model_fit_plot(train_data, train_targets, model, epochs= 200, batch_size= 32)"
   ]
  },
  {
   "cell_type": "code",
   "execution_count": null,
   "metadata": {},
   "outputs": [],
   "source": [
    "# Adam 최적의 에포크 출력\n",
    "print(f'Adam 최적의 에포크: {np.argmin(history.history['val_loss']) + 1}')\n",
    "\n",
    "# 모델 평가\n",
    "test_mse, test_mae = model.evaluate(test_data, test_targets)\n",
    "print(f'Test MAE: {test_mae:.4f}')"
   ]
  },
  {
   "cell_type": "markdown",
   "metadata": {},
   "source": [
    "---"
   ]
  }
 ],
 "metadata": {
  "colab": {
   "authorship_tag": "ABX9TyOx0xhrOlluvgyz2oJ5qTBK",
   "collapsed_sections": [],
   "name": "1_03_신경망_회귀문제_주택가격예측.ipynb",
   "provenance": [
    {
     "file_id": "1rbkI1e-HQBRRKp86oszWrt_nzP4PjouL",
     "timestamp": 1644988778984
    },
    {
     "file_id": "1INbz6oBRXUmNFoIa6o7QY1mLQJ-pEFil",
     "timestamp": 1644979532198
    }
   ]
  },
  "kernelspec": {
   "display_name": "Python 3 (ipykernel)",
   "language": "python",
   "name": "python3"
  },
  "language_info": {
   "codemirror_mode": {
    "name": "ipython",
    "version": 3
   },
   "file_extension": ".py",
   "mimetype": "text/x-python",
   "name": "python",
   "nbconvert_exporter": "python",
   "pygments_lexer": "ipython3",
   "version": "3.11.7"
  }
 },
 "nbformat": 4,
 "nbformat_minor": 4
}
