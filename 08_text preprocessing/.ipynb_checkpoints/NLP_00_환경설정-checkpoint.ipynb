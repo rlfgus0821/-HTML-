{
 "cells": [
  {
   "cell_type": "markdown",
   "id": "b3e0f26a",
   "metadata": {},
   "source": [
    "# 자연어 처리 실습 환경 구축"
   ]
  },
  {
   "cell_type": "markdown",
   "id": "ac608b45",
   "metadata": {},
   "source": [
    "1. 아나콘다 설치\n",
    "2. 가상환경 생성\n",
    "3. 필요 라이브러리 설치\n",
    "    - NLTK\n",
    "    - gensim\n",
    "    - KoNLPy\n",
    "    "
   ]
  },
  {
   "cell_type": "markdown",
   "id": "c803a92c",
   "metadata": {},
   "source": [
    "## NLTK 설치\n",
    "\n",
    "- Natural Language ToolKit\n",
    "- 교육용으로 개발된 자연어 처리 및 문서 분석용 파이썬 라이브러리\n",
    "- 다양한 기능 및 예제를 가지고 있으며\n",
    "- 실무 및 연구에서도 많이 사용"
   ]
  },
  {
   "cell_type": "code",
   "execution_count": 1,
   "id": "1b22ea47",
   "metadata": {},
   "outputs": [],
   "source": [
    "import nltk"
   ]
  },
  {
   "cell_type": "markdown",
   "id": "115a5e8f",
   "metadata": {},
   "source": [
    "#### 품사 태깅을 위한 NLTK 관련 패키지 다운로드"
   ]
  },
  {
   "cell_type": "code",
   "execution_count": 2,
   "id": "d6d675b0",
   "metadata": {},
   "outputs": [
    {
     "name": "stdout",
     "output_type": "stream",
     "text": [
      "showing info https://raw.githubusercontent.com/nltk/nltk_data/gh-pages/index.xml\n"
     ]
    },
    {
     "data": {
      "text/plain": [
       "True"
      ]
     },
     "execution_count": 2,
     "metadata": {},
     "output_type": "execute_result"
    }
   ],
   "source": [
    "nltk.download()"
   ]
  },
  {
   "cell_type": "markdown",
   "id": "73a56cf0",
   "metadata": {},
   "source": [
    "=> 다운로드 완료되면 [File] > [Exit] 선택하여 종료"
   ]
  },
  {
   "cell_type": "markdown",
   "id": "a2e2af4e",
   "metadata": {},
   "source": [
    "#### 품사 태깅을 위한 NLTK 자원 다운로드\n",
    "\n",
    "nltk.download()로 모든 패키지 다운로드 된 경우 True 출력"
   ]
  },
  {
   "cell_type": "code",
   "execution_count": 3,
   "id": "70e831c5",
   "metadata": {},
   "outputs": [
    {
     "data": {
      "text/plain": [
       "['Is', 'it', 'possible', 'distingishing', 'cats', 'and', 'dos', '?']"
      ]
     },
     "execution_count": 3,
     "metadata": {},
     "output_type": "execute_result"
    }
   ],
   "source": [
    "text = nltk.word_tokenize('Is it possible distingishing cats and dos?')\n",
    "text"
   ]
  },
  {
   "cell_type": "code",
   "execution_count": 4,
   "id": "f3873279",
   "metadata": {},
   "outputs": [
    {
     "name": "stderr",
     "output_type": "stream",
     "text": [
      "[nltk_data] Downloading package averaged_perceptron_tagger to\n",
      "[nltk_data]     C:\\Users\\gillhk\\AppData\\Roaming\\nltk_data...\n",
      "[nltk_data]   Package averaged_perceptron_tagger is already up-to-\n",
      "[nltk_data]       date!\n"
     ]
    },
    {
     "data": {
      "text/plain": [
       "True"
      ]
     },
     "execution_count": 4,
     "metadata": {},
     "output_type": "execute_result"
    }
   ],
   "source": [
    "nltk.download('averaged_perceptron_tagger')"
   ]
  },
  {
   "cell_type": "code",
   "execution_count": 5,
   "id": "7e5ebc77-ee37-4241-ad60-0c827850f4a0",
   "metadata": {},
   "outputs": [
    {
     "data": {
      "text/plain": [
       "[('Is', 'VBZ'),\n",
       " ('it', 'PRP'),\n",
       " ('possible', 'JJ'),\n",
       " ('distingishing', 'VBG'),\n",
       " ('cats', 'NNS'),\n",
       " ('and', 'CC'),\n",
       " ('dos', 'NNS'),\n",
       " ('?', '.')]"
      ]
     },
     "execution_count": 5,
     "metadata": {},
     "output_type": "execute_result"
    }
   ],
   "source": [
    "nltk.pos_tag(text)"
   ]
  },
  {
   "cell_type": "markdown",
   "id": "c6cdc1d9",
   "metadata": {},
   "source": [
    "- VBZ : 동사, 동명사 또는 현재분사\n",
    "- PRP : 인칭 대명사(PP)\n",
    "- JJ : 형용사\n",
    "- VBG : 동사, 동명사 또는 현재 분사\n",
    "- NNS : 명사, 복수형\n",
    "- CC : 등위 접속사"
   ]
  },
  {
   "cell_type": "markdown",
   "id": "c3634f2f",
   "metadata": {},
   "source": [
    "## KoNLPy 설치\n",
    "\n",
    "- 한국어 처리를 위한 파이썬 라이브러리\n",
    "- 공식사이트 : https://konlpy.org/ko/latest/index.html\n",
    "- 설치 : https://konlpy.org/ko/latest/install/#id2\n",
    "- 주요 기능\n",
    "    - 형태소 분석\n",
    "    - 품사 태깅"
   ]
  },
  {
   "cell_type": "markdown",
   "id": "88f296e7",
   "metadata": {},
   "source": [
    "### 윈도우 환경에서 KoNLPy 설치\n",
    "\n",
    "#### 1단계. Oracle JDK 설치\n",
    "\n",
    "1. URL : https://www.oracle.com/java/technologies/downloads/\n",
    "\n",
    "2. x64 MSI Installer 선택하여 다운로드"
   ]
  },
  {
   "cell_type": "markdown",
   "id": "4d249b32",
   "metadata": {},
   "source": [
    "3. 다운로드 받은 JDK 파일을 더블클릭하여 설치 진행\n",
    "4. 설치 경로와 기능은 기본값으로 두고 [Next] 클릭\n",
    "5. 설치 완료되면 [Close] 클릭"
   ]
  },
  {
   "cell_type": "markdown",
   "id": "25f91b0f",
   "metadata": {},
   "source": [
    "6. JAVA_HOME 설정\n",
    "    - [시스템]-[정보]-[고급시스템설정]-[고급]탭-[환경변수]버튼 클릭\n",
    "    - [시스템변수]-[새로만들기] 선택\n",
    "    - 변수이름은 JAVA_HOME, 변수값은 [디렉터리 찾아보기]버튼을 클릭하여 JDK 설치 디렉토리를 선택\n",
    "    - [확인]버튼들을 클릭"
   ]
  },
  {
   "cell_type": "markdown",
   "id": "b6f59f8e-f8e1-488b-a49a-5ae5e86e2a45",
   "metadata": {},
   "source": [
    "#### 2단계. JPype1 설치\n",
    "\n",
    "1. URL에서 다운로드\n",
    "    - URL : https://pypi.org/project/JPype1/#files\n",
    "    - 파이썬 버전이 3.11인 경우 cp311가 있는 파일을 찾고,\n",
    "    - 64비트 윈도의 경우 win-amd64로 표시된 파일을 다운로드\n",
    "      - JPype1-1.5.0-cp311-cp311-win_amd64.whl"
   ]
  },
  {
   "cell_type": "markdown",
   "id": "cd8bc406",
   "metadata": {},
   "source": [
    "2. 아나콘다 프롬프트에서 가상환경으로 접속한 후 내려받은 JPype1 파일을 설치\n",
    "    - 내려받은 경로까지 모두 적어야 함\n",
    "    - 설치 시 오류 발생하는 경우 pip 업그레이드\n",
    "        - pip install --upgrade pip"
   ]
  },
  {
   "cell_type": "code",
   "execution_count": 6,
   "id": "bf177359",
   "metadata": {},
   "outputs": [
    {
     "name": "stdout",
     "output_type": "stream",
     "text": [
      "Defaulting to user installation because normal site-packages is not writeable\n",
      "Processing c:\\users\\gillhk\\downloads\\jpype1-1.5.0-cp311-cp311-win_amd64.whl\n",
      "Requirement already satisfied: packaging in c:\\programdata\\anaconda3\\lib\\site-packages (from JPype1==1.5.0) (23.1)\n",
      "JPype1 is already installed with the same version as the provided wheel. Use --force-reinstall to force an installation of the wheel.\n"
     ]
    }
   ],
   "source": [
    "!pip install C:\\Users\\gillhk\\Downloads\\JPype1-1.5.0-cp311-cp311-win_amd64.whl"
   ]
  },
  {
   "cell_type": "markdown",
   "id": "effa8048",
   "metadata": {},
   "source": [
    "#### 3단계. KoNLPy 설치"
   ]
  },
  {
   "cell_type": "code",
   "execution_count": 7,
   "id": "7c3d09c0",
   "metadata": {},
   "outputs": [
    {
     "name": "stdout",
     "output_type": "stream",
     "text": [
      "Defaulting to user installation because normal site-packages is not writeable\n",
      "Requirement already satisfied: konlpy in c:\\users\\gillhk\\appdata\\roaming\\python\\python311\\site-packages (0.6.0)\n",
      "Requirement already satisfied: JPype1>=0.7.0 in c:\\users\\gillhk\\appdata\\roaming\\python\\python311\\site-packages (from konlpy) (1.5.0)\n",
      "Requirement already satisfied: lxml>=4.1.0 in c:\\programdata\\anaconda3\\lib\\site-packages (from konlpy) (4.9.3)\n",
      "Requirement already satisfied: numpy>=1.6 in c:\\programdata\\anaconda3\\lib\\site-packages (from konlpy) (1.26.4)\n",
      "Requirement already satisfied: packaging in c:\\programdata\\anaconda3\\lib\\site-packages (from JPype1>=0.7.0->konlpy) (23.1)\n"
     ]
    }
   ],
   "source": [
    "!pip install konlpy"
   ]
  },
  {
   "cell_type": "markdown",
   "id": "22758a9d",
   "metadata": {},
   "source": [
    "#### KoNLPy 설치 확인\n",
    "\n",
    "- 문장을 형태소로 변환"
   ]
  },
  {
   "cell_type": "code",
   "execution_count": 9,
   "id": "cdaa79f4",
   "metadata": {},
   "outputs": [
    {
     "data": {
      "text/plain": [
       "['자연어', '처리', '연습', '중', '이', '에요', '!', '!']"
      ]
     },
     "execution_count": 9,
     "metadata": {},
     "output_type": "execute_result"
    }
   ],
   "source": [
    "from konlpy.tag import Komoran\n",
    "\n",
    "komoran = Komoran()\n",
    "komoran.morphs('자연어처리 연습중이에요!!')"
   ]
  },
  {
   "cell_type": "markdown",
   "id": "392162ec",
   "metadata": {},
   "source": [
    "- 문장을 형태소로 변환 후 품사 태깅"
   ]
  },
  {
   "cell_type": "code",
   "execution_count": 11,
   "id": "ec1075a8",
   "metadata": {},
   "outputs": [
    {
     "data": {
      "text/plain": [
       "[('텍스트', 'NNP'),\n",
       " ('전', 'NNP'),\n",
       " ('처리', 'NNP'),\n",
       " ('배우', 'VV'),\n",
       " ('어', 'EC'),\n",
       " ('보', 'VX'),\n",
       " ('ㅂ시다', 'EF'),\n",
       " ('!', 'SF')]"
      ]
     },
     "execution_count": 11,
     "metadata": {},
     "output_type": "execute_result"
    }
   ],
   "source": [
    "komoran.pos('텍스트전처리 배워봅시다!')"
   ]
  },
  {
   "cell_type": "code",
   "execution_count": 12,
   "id": "9fed1a1b",
   "metadata": {},
   "outputs": [
    {
     "data": {
      "text/plain": [
       "[('딥러닝', 'NA'),\n",
       " ('책', 'NNG'),\n",
       " ('이', 'JKS'),\n",
       " ('출판', 'NNG'),\n",
       " ('되', 'XSV'),\n",
       " ('었', 'EP'),\n",
       " ('습니다', 'EF'),\n",
       " ('.', 'SF')]"
      ]
     },
     "execution_count": 12,
     "metadata": {},
     "output_type": "execute_result"
    }
   ],
   "source": [
    "komoran.pos('딥러닝 책이 출판되었습니다.')"
   ]
  },
  {
   "cell_type": "markdown",
   "id": "13407b2f",
   "metadata": {},
   "source": [
    "- 형태소 : 언어를 쪼갤 때 의미를 가지는 최소 단위"
   ]
  },
  {
   "cell_type": "markdown",
   "id": "52a6a5aa",
   "metadata": {},
   "source": [
    "## Gensim\n",
    "\n",
    "- 파이썬에서 제공하는 워드투벡터(Word2Vec) 라이브러리\n",
    "- 주요기능\n",
    "    - 임베딩 : 워드투벡터\n",
    "    - 토픽 모델링\n",
    "        - 문서 집합의 추상적이 주제를 발견하기 위한 통계적 모델\n",
    "        - 텍스트 본문의 숨겨진 의미구조를 발견하기 위해 사용하는 텍스트 마이닝 기법\n",
    "    - LDA(Laten Dirichlet Allocation)\n",
    "        - 주어진 문서에 대해 각 문서에 어떤 주제들이 존재하는지 서술하는 확률적 토픽 모델 기법\n",
    "        \n",
    "\n",
    "- https://radimrehurek.com/gensim/\n",
    "- https://pypi.org/project/gensim/"
   ]
  },
  {
   "cell_type": "markdown",
   "id": "36423d39",
   "metadata": {},
   "source": [
    "### Gensim 설치"
   ]
  },
  {
   "cell_type": "code",
   "execution_count": 13,
   "id": "cd12d266",
   "metadata": {},
   "outputs": [
    {
     "name": "stdout",
     "output_type": "stream",
     "text": [
      "Defaulting to user installation because normal site-packages is not writeable\n",
      "Requirement already satisfied: gensim in c:\\programdata\\anaconda3\\lib\\site-packages (4.3.0)\n",
      "Collecting gensim\n",
      "  Downloading gensim-4.3.2-cp311-cp311-win_amd64.whl.metadata (8.5 kB)\n",
      "Requirement already satisfied: numpy>=1.18.5 in c:\\programdata\\anaconda3\\lib\\site-packages (from gensim) (1.26.4)\n",
      "Requirement already satisfied: scipy>=1.7.0 in c:\\programdata\\anaconda3\\lib\\site-packages (from gensim) (1.11.4)\n",
      "Requirement already satisfied: smart-open>=1.8.1 in c:\\programdata\\anaconda3\\lib\\site-packages (from gensim) (5.2.1)\n",
      "Downloading gensim-4.3.2-cp311-cp311-win_amd64.whl (24.0 MB)\n",
      "   ---------------------------------------- 0.0/24.0 MB ? eta -:--:--\n",
      "   -- ------------------------------------- 1.2/24.0 MB 39.6 MB/s eta 0:00:01\n",
      "   ---- ----------------------------------- 2.5/24.0 MB 32.6 MB/s eta 0:00:01\n",
      "   ------ --------------------------------- 4.1/24.0 MB 37.6 MB/s eta 0:00:01\n",
      "   ------ --------------------------------- 4.2/24.0 MB 33.4 MB/s eta 0:00:01\n",
      "   ------ --------------------------------- 4.2/24.0 MB 33.4 MB/s eta 0:00:01\n",
      "   ------ --------------------------------- 4.2/24.0 MB 33.4 MB/s eta 0:00:01\n",
      "   ------ --------------------------------- 4.2/24.0 MB 33.4 MB/s eta 0:00:01\n",
      "   ------- -------------------------------- 4.3/24.0 MB 13.7 MB/s eta 0:00:02\n",
      "   -------- ------------------------------- 5.2/24.0 MB 14.5 MB/s eta 0:00:02\n",
      "   -------- ------------------------------- 5.2/24.0 MB 14.5 MB/s eta 0:00:02\n",
      "   -------- ------------------------------- 5.2/24.0 MB 14.5 MB/s eta 0:00:02\n",
      "   -------- ------------------------------- 5.2/24.0 MB 14.5 MB/s eta 0:00:02\n",
      "   -------- ------------------------------- 5.3/24.0 MB 10.3 MB/s eta 0:00:02\n",
      "   ---------- ----------------------------- 6.4/24.0 MB 11.6 MB/s eta 0:00:02\n",
      "   ------------ --------------------------- 7.7/24.0 MB 12.9 MB/s eta 0:00:02\n",
      "   -------------- ------------------------- 9.0/24.0 MB 14.0 MB/s eta 0:00:02\n",
      "   ---------------- ----------------------- 10.0/24.0 MB 14.8 MB/s eta 0:00:01\n",
      "   ------------------ --------------------- 11.3/24.0 MB 14.9 MB/s eta 0:00:01\n",
      "   -------------------- ------------------- 12.5/24.0 MB 14.9 MB/s eta 0:00:01\n",
      "   -------------------- ------------------- 12.6/24.0 MB 14.9 MB/s eta 0:00:01\n",
      "   --------------------- ------------------ 12.8/24.0 MB 13.1 MB/s eta 0:00:01\n",
      "   ----------------------- ---------------- 14.2/24.0 MB 12.9 MB/s eta 0:00:01\n",
      "   ------------------------- -------------- 15.5/24.0 MB 17.7 MB/s eta 0:00:01\n",
      "   ---------------------------- ----------- 16.9/24.0 MB 24.2 MB/s eta 0:00:01\n",
      "   ------------------------------ --------- 18.2/24.0 MB 24.3 MB/s eta 0:00:01\n",
      "   -------------------------------- ------- 19.5/24.0 MB 24.2 MB/s eta 0:00:01\n",
      "   ---------------------------------- ----- 20.5/24.0 MB 25.1 MB/s eta 0:00:01\n",
      "   ------------------------------------ --- 22.1/24.0 MB 25.2 MB/s eta 0:00:01\n",
      "   -------------------------------------- - 23.2/24.0 MB 31.2 MB/s eta 0:00:01\n",
      "   ---------------------------------------  24.0/24.0 MB 31.2 MB/s eta 0:00:01\n",
      "   ---------------------------------------  24.0/24.0 MB 31.2 MB/s eta 0:00:01\n",
      "   ---------------------------------------- 24.0/24.0 MB 25.2 MB/s eta 0:00:00\n",
      "Installing collected packages: gensim\n",
      "Successfully installed gensim-4.3.2\n"
     ]
    }
   ],
   "source": [
    "!pip install -U gensim"
   ]
  },
  {
   "cell_type": "markdown",
   "id": "11923c76",
   "metadata": {},
   "source": [
    "----------------------"
   ]
  }
 ],
 "metadata": {
  "kernelspec": {
   "display_name": "Python 3 (ipykernel)",
   "language": "python",
   "name": "python3"
  },
  "language_info": {
   "codemirror_mode": {
    "name": "ipython",
    "version": 3
   },
   "file_extension": ".py",
   "mimetype": "text/x-python",
   "name": "python",
   "nbconvert_exporter": "python",
   "pygments_lexer": "ipython3",
   "version": "3.11.7"
  }
 },
 "nbformat": 4,
 "nbformat_minor": 5
}
