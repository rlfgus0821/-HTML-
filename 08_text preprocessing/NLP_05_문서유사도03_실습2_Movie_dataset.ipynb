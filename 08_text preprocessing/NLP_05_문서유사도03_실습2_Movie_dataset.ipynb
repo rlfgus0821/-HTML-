{
 "cells": [
  {
   "cell_type": "markdown",
   "metadata": {},
   "source": [
    "## 실습2. 유사도 이용한 추천"
   ]
  },
  {
   "cell_type": "markdown",
   "metadata": {},
   "source": [
    "#### 예제 데이터: Kaggle Movies meta dataset\n",
    "\n",
    "- 24개 컬럼을 가진 45,466개 샘플로 구성된 영화 정보 데이터 \n",
    "- 데이터파일 : movies_metadata.csv\n",
    "- 출처 : https://www.kaggle.com/rounakbanik/the-movies-dataset"
   ]
  },
  {
   "cell_type": "code",
   "execution_count": 1,
   "metadata": {},
   "outputs": [],
   "source": [
    "import pandas as pd\n",
    "import numpy as np\n",
    "import seaborn as sns\n",
    "import matplotlib.pyplot as plt\n",
    "from sklearn.feature_extraction.text import TfidfVectorizer\n",
    "from sklearn.metrics.pairwise import cosine_similarity"
   ]
  },
  {
   "cell_type": "markdown",
   "metadata": {},
   "source": [
    "#### 1. 데이터 준비\n",
    "\n",
    "- 예제 데이터 파일 다운로드 및 압축해제"
   ]
  },
  {
   "cell_type": "markdown",
   "metadata": {},
   "source": [
    "#### 2. 데이터 프레임으로 변환"
   ]
  },
  {
   "cell_type": "code",
   "execution_count": 2,
   "metadata": {},
   "outputs": [
    {
     "data": {
      "text/html": [
       "<div>\n",
       "<style scoped>\n",
       "    .dataframe tbody tr th:only-of-type {\n",
       "        vertical-align: middle;\n",
       "    }\n",
       "\n",
       "    .dataframe tbody tr th {\n",
       "        vertical-align: top;\n",
       "    }\n",
       "\n",
       "    .dataframe thead th {\n",
       "        text-align: right;\n",
       "    }\n",
       "</style>\n",
       "<table border=\"1\" class=\"dataframe\">\n",
       "  <thead>\n",
       "    <tr style=\"text-align: right;\">\n",
       "      <th></th>\n",
       "      <th>adult</th>\n",
       "      <th>belongs_to_collection</th>\n",
       "      <th>budget</th>\n",
       "      <th>genres</th>\n",
       "      <th>homepage</th>\n",
       "      <th>id</th>\n",
       "      <th>imdb_id</th>\n",
       "      <th>original_language</th>\n",
       "      <th>original_title</th>\n",
       "      <th>overview</th>\n",
       "      <th>...</th>\n",
       "      <th>release_date</th>\n",
       "      <th>revenue</th>\n",
       "      <th>runtime</th>\n",
       "      <th>spoken_languages</th>\n",
       "      <th>status</th>\n",
       "      <th>tagline</th>\n",
       "      <th>title</th>\n",
       "      <th>video</th>\n",
       "      <th>vote_average</th>\n",
       "      <th>vote_count</th>\n",
       "    </tr>\n",
       "  </thead>\n",
       "  <tbody>\n",
       "    <tr>\n",
       "      <th>0</th>\n",
       "      <td>False</td>\n",
       "      <td>{'id': 10194, 'name': 'Toy Story Collection', ...</td>\n",
       "      <td>30000000</td>\n",
       "      <td>[{'id': 16, 'name': 'Animation'}, {'id': 35, '...</td>\n",
       "      <td>http://toystory.disney.com/toy-story</td>\n",
       "      <td>862</td>\n",
       "      <td>tt0114709</td>\n",
       "      <td>en</td>\n",
       "      <td>Toy Story</td>\n",
       "      <td>Led by Woody, Andy's toys live happily in his ...</td>\n",
       "      <td>...</td>\n",
       "      <td>1995-10-30</td>\n",
       "      <td>373554033.0</td>\n",
       "      <td>81.0</td>\n",
       "      <td>[{'iso_639_1': 'en', 'name': 'English'}]</td>\n",
       "      <td>Released</td>\n",
       "      <td>NaN</td>\n",
       "      <td>Toy Story</td>\n",
       "      <td>False</td>\n",
       "      <td>7.7</td>\n",
       "      <td>5415.0</td>\n",
       "    </tr>\n",
       "    <tr>\n",
       "      <th>1</th>\n",
       "      <td>False</td>\n",
       "      <td>NaN</td>\n",
       "      <td>65000000</td>\n",
       "      <td>[{'id': 12, 'name': 'Adventure'}, {'id': 14, '...</td>\n",
       "      <td>NaN</td>\n",
       "      <td>8844</td>\n",
       "      <td>tt0113497</td>\n",
       "      <td>en</td>\n",
       "      <td>Jumanji</td>\n",
       "      <td>When siblings Judy and Peter discover an encha...</td>\n",
       "      <td>...</td>\n",
       "      <td>1995-12-15</td>\n",
       "      <td>262797249.0</td>\n",
       "      <td>104.0</td>\n",
       "      <td>[{'iso_639_1': 'en', 'name': 'English'}, {'iso...</td>\n",
       "      <td>Released</td>\n",
       "      <td>Roll the dice and unleash the excitement!</td>\n",
       "      <td>Jumanji</td>\n",
       "      <td>False</td>\n",
       "      <td>6.9</td>\n",
       "      <td>2413.0</td>\n",
       "    </tr>\n",
       "    <tr>\n",
       "      <th>2</th>\n",
       "      <td>False</td>\n",
       "      <td>{'id': 119050, 'name': 'Grumpy Old Men Collect...</td>\n",
       "      <td>0</td>\n",
       "      <td>[{'id': 10749, 'name': 'Romance'}, {'id': 35, ...</td>\n",
       "      <td>NaN</td>\n",
       "      <td>15602</td>\n",
       "      <td>tt0113228</td>\n",
       "      <td>en</td>\n",
       "      <td>Grumpier Old Men</td>\n",
       "      <td>A family wedding reignites the ancient feud be...</td>\n",
       "      <td>...</td>\n",
       "      <td>1995-12-22</td>\n",
       "      <td>0.0</td>\n",
       "      <td>101.0</td>\n",
       "      <td>[{'iso_639_1': 'en', 'name': 'English'}]</td>\n",
       "      <td>Released</td>\n",
       "      <td>Still Yelling. Still Fighting. Still Ready for...</td>\n",
       "      <td>Grumpier Old Men</td>\n",
       "      <td>False</td>\n",
       "      <td>6.5</td>\n",
       "      <td>92.0</td>\n",
       "    </tr>\n",
       "  </tbody>\n",
       "</table>\n",
       "<p>3 rows × 24 columns</p>\n",
       "</div>"
      ],
      "text/plain": [
       "   adult                              belongs_to_collection    budget  \\\n",
       "0  False  {'id': 10194, 'name': 'Toy Story Collection', ...  30000000   \n",
       "1  False                                                NaN  65000000   \n",
       "2  False  {'id': 119050, 'name': 'Grumpy Old Men Collect...         0   \n",
       "\n",
       "                                              genres  \\\n",
       "0  [{'id': 16, 'name': 'Animation'}, {'id': 35, '...   \n",
       "1  [{'id': 12, 'name': 'Adventure'}, {'id': 14, '...   \n",
       "2  [{'id': 10749, 'name': 'Romance'}, {'id': 35, ...   \n",
       "\n",
       "                               homepage     id    imdb_id original_language  \\\n",
       "0  http://toystory.disney.com/toy-story    862  tt0114709                en   \n",
       "1                                   NaN   8844  tt0113497                en   \n",
       "2                                   NaN  15602  tt0113228                en   \n",
       "\n",
       "     original_title                                           overview  ...  \\\n",
       "0         Toy Story  Led by Woody, Andy's toys live happily in his ...  ...   \n",
       "1           Jumanji  When siblings Judy and Peter discover an encha...  ...   \n",
       "2  Grumpier Old Men  A family wedding reignites the ancient feud be...  ...   \n",
       "\n",
       "  release_date      revenue runtime  \\\n",
       "0   1995-10-30  373554033.0    81.0   \n",
       "1   1995-12-15  262797249.0   104.0   \n",
       "2   1995-12-22          0.0   101.0   \n",
       "\n",
       "                                    spoken_languages    status  \\\n",
       "0           [{'iso_639_1': 'en', 'name': 'English'}]  Released   \n",
       "1  [{'iso_639_1': 'en', 'name': 'English'}, {'iso...  Released   \n",
       "2           [{'iso_639_1': 'en', 'name': 'English'}]  Released   \n",
       "\n",
       "                                             tagline             title  video  \\\n",
       "0                                                NaN         Toy Story  False   \n",
       "1          Roll the dice and unleash the excitement!           Jumanji  False   \n",
       "2  Still Yelling. Still Fighting. Still Ready for...  Grumpier Old Men  False   \n",
       "\n",
       "  vote_average vote_count  \n",
       "0          7.7     5415.0  \n",
       "1          6.9     2413.0  \n",
       "2          6.5       92.0  \n",
       "\n",
       "[3 rows x 24 columns]"
      ]
     },
     "execution_count": 2,
     "metadata": {},
     "output_type": "execute_result"
    }
   ],
   "source": [
    "movies = pd.read_csv('data/MovieDataset/movies_metadata.csv',low_memory=False)\n",
    "movies.head(3)"
   ]
  },
  {
   "cell_type": "code",
   "execution_count": 3,
   "metadata": {},
   "outputs": [
    {
     "name": "stdout",
     "output_type": "stream",
     "text": [
      "<class 'pandas.core.frame.DataFrame'>\n",
      "RangeIndex: 45466 entries, 0 to 45465\n",
      "Data columns (total 24 columns):\n",
      " #   Column                 Non-Null Count  Dtype  \n",
      "---  ------                 --------------  -----  \n",
      " 0   adult                  45466 non-null  object \n",
      " 1   belongs_to_collection  4494 non-null   object \n",
      " 2   budget                 45466 non-null  object \n",
      " 3   genres                 45466 non-null  object \n",
      " 4   homepage               7782 non-null   object \n",
      " 5   id                     45466 non-null  object \n",
      " 6   imdb_id                45449 non-null  object \n",
      " 7   original_language      45455 non-null  object \n",
      " 8   original_title         45466 non-null  object \n",
      " 9   overview               44512 non-null  object \n",
      " 10  popularity             45461 non-null  object \n",
      " 11  poster_path            45080 non-null  object \n",
      " 12  production_companies   45463 non-null  object \n",
      " 13  production_countries   45463 non-null  object \n",
      " 14  release_date           45379 non-null  object \n",
      " 15  revenue                45460 non-null  float64\n",
      " 16  runtime                45203 non-null  float64\n",
      " 17  spoken_languages       45460 non-null  object \n",
      " 18  status                 45379 non-null  object \n",
      " 19  tagline                20412 non-null  object \n",
      " 20  title                  45460 non-null  object \n",
      " 21  video                  45460 non-null  object \n",
      " 22  vote_average           45460 non-null  float64\n",
      " 23  vote_count             45460 non-null  float64\n",
      "dtypes: float64(4), object(20)\n",
      "memory usage: 8.3+ MB\n"
     ]
    }
   ],
   "source": [
    "movies.info()"
   ]
  },
  {
   "cell_type": "code",
   "execution_count": 4,
   "metadata": {},
   "outputs": [
    {
     "data": {
      "text/plain": [
       "1226"
      ]
     },
     "execution_count": 4,
     "metadata": {},
     "output_type": "execute_result"
    }
   ],
   "source": [
    "movies.budget.nunique()"
   ]
  },
  {
   "cell_type": "markdown",
   "metadata": {},
   "source": [
    "#### 3. 데이터 정제"
   ]
  },
  {
   "cell_type": "markdown",
   "metadata": {},
   "source": [
    "- overview컬럼 : 영화 리뷰"
   ]
  },
  {
   "cell_type": "code",
   "execution_count": 5,
   "metadata": {},
   "outputs": [
    {
     "data": {
      "text/plain": [
       "954"
      ]
     },
     "execution_count": 5,
     "metadata": {},
     "output_type": "execute_result"
    }
   ],
   "source": [
    "movies.overview.isna().sum()"
   ]
  },
  {
   "cell_type": "markdown",
   "metadata": {},
   "source": [
    "- overview컬럼 결측치를 ''값으로 대체"
   ]
  },
  {
   "cell_type": "code",
   "execution_count": 6,
   "metadata": {
    "scrolled": true
   },
   "outputs": [
    {
     "data": {
      "text/plain": [
       "0"
      ]
     },
     "execution_count": 6,
     "metadata": {},
     "output_type": "execute_result"
    }
   ],
   "source": [
    "movies['overview'] = movies.overview.fillna('')\n",
    "movies.overview.isna().sum()"
   ]
  },
  {
   "cell_type": "markdown",
   "metadata": {},
   "source": [
    "#### 4. TF-IDF 피처벡터화\n",
    "\n",
    "- overview 컬럼을 TF-IDF의 stop_words를 사용하여 불용어 제거 및 벡터화 수행"
   ]
  },
  {
   "cell_type": "code",
   "execution_count": 8,
   "metadata": {},
   "outputs": [
    {
     "name": "stdout",
     "output_type": "stream",
     "text": [
      "TF-IDF 행렬의 크기: (45466, 75827)\n"
     ]
    }
   ],
   "source": [
    "tfidf_v = TfidfVectorizer(stop_words='english')\n",
    "ftr_v = tfidf_v.fit_transform(movies.overview)\n",
    "print(f'TF-IDF 행렬의 크기:',ftr_v.shape)"
   ]
  },
  {
   "cell_type": "markdown",
   "metadata": {},
   "source": [
    "#### 5. 코사인 유사도\n",
    "- overview 컬럼의 기준으로 각 문서의 코사인 유사도 계산"
   ]
  },
  {
   "cell_type": "code",
   "execution_count": 98,
   "metadata": {},
   "outputs": [
    {
     "ename": "MemoryError",
     "evalue": "Unable to allocate 15.4 GiB for an array with shape (45466, 45466) and data type float64",
     "output_type": "error",
     "traceback": [
      "\u001b[1;31m---------------------------------------------------------------------------\u001b[0m",
      "\u001b[1;31mMemoryError\u001b[0m                               Traceback (most recent call last)",
      "Cell \u001b[1;32mIn[98], line 1\u001b[0m\n\u001b[1;32m----> 1\u001b[0m cos_sim \u001b[38;5;241m=\u001b[39m cosine_similarity(ftr_v, ftr_v)\n",
      "File \u001b[1;32mC:\\ProgramData\\anaconda3\\Lib\\site-packages\\sklearn\\metrics\\pairwise.py:1401\u001b[0m, in \u001b[0;36mcosine_similarity\u001b[1;34m(X, Y, dense_output)\u001b[0m\n\u001b[0;32m   1398\u001b[0m \u001b[38;5;28;01melse\u001b[39;00m:\n\u001b[0;32m   1399\u001b[0m     Y_normalized \u001b[38;5;241m=\u001b[39m normalize(Y, copy\u001b[38;5;241m=\u001b[39m\u001b[38;5;28;01mTrue\u001b[39;00m)\n\u001b[1;32m-> 1401\u001b[0m K \u001b[38;5;241m=\u001b[39m safe_sparse_dot(X_normalized, Y_normalized\u001b[38;5;241m.\u001b[39mT, dense_output\u001b[38;5;241m=\u001b[39mdense_output)\n\u001b[0;32m   1403\u001b[0m \u001b[38;5;28;01mreturn\u001b[39;00m K\n",
      "File \u001b[1;32mC:\\ProgramData\\anaconda3\\Lib\\site-packages\\sklearn\\utils\\extmath.py:197\u001b[0m, in \u001b[0;36msafe_sparse_dot\u001b[1;34m(a, b, dense_output)\u001b[0m\n\u001b[0;32m    189\u001b[0m     ret \u001b[38;5;241m=\u001b[39m a \u001b[38;5;241m@\u001b[39m b\n\u001b[0;32m    191\u001b[0m \u001b[38;5;28;01mif\u001b[39;00m (\n\u001b[0;32m    192\u001b[0m     sparse\u001b[38;5;241m.\u001b[39missparse(a)\n\u001b[0;32m    193\u001b[0m     \u001b[38;5;129;01mand\u001b[39;00m sparse\u001b[38;5;241m.\u001b[39missparse(b)\n\u001b[0;32m    194\u001b[0m     \u001b[38;5;129;01mand\u001b[39;00m dense_output\n\u001b[0;32m    195\u001b[0m     \u001b[38;5;129;01mand\u001b[39;00m \u001b[38;5;28mhasattr\u001b[39m(ret, \u001b[38;5;124m\"\u001b[39m\u001b[38;5;124mtoarray\u001b[39m\u001b[38;5;124m\"\u001b[39m)\n\u001b[0;32m    196\u001b[0m ):\n\u001b[1;32m--> 197\u001b[0m     \u001b[38;5;28;01mreturn\u001b[39;00m ret\u001b[38;5;241m.\u001b[39mtoarray()\n\u001b[0;32m    198\u001b[0m \u001b[38;5;28;01mreturn\u001b[39;00m ret\n",
      "File \u001b[1;32mC:\\ProgramData\\anaconda3\\Lib\\site-packages\\scipy\\sparse\\_compressed.py:1050\u001b[0m, in \u001b[0;36m_cs_matrix.toarray\u001b[1;34m(self, order, out)\u001b[0m\n\u001b[0;32m   1048\u001b[0m \u001b[38;5;28;01mif\u001b[39;00m out \u001b[38;5;129;01mis\u001b[39;00m \u001b[38;5;28;01mNone\u001b[39;00m \u001b[38;5;129;01mand\u001b[39;00m order \u001b[38;5;129;01mis\u001b[39;00m \u001b[38;5;28;01mNone\u001b[39;00m:\n\u001b[0;32m   1049\u001b[0m     order \u001b[38;5;241m=\u001b[39m \u001b[38;5;28mself\u001b[39m\u001b[38;5;241m.\u001b[39m_swap(\u001b[38;5;124m'\u001b[39m\u001b[38;5;124mcf\u001b[39m\u001b[38;5;124m'\u001b[39m)[\u001b[38;5;241m0\u001b[39m]\n\u001b[1;32m-> 1050\u001b[0m out \u001b[38;5;241m=\u001b[39m \u001b[38;5;28mself\u001b[39m\u001b[38;5;241m.\u001b[39m_process_toarray_args(order, out)\n\u001b[0;32m   1051\u001b[0m \u001b[38;5;28;01mif\u001b[39;00m \u001b[38;5;129;01mnot\u001b[39;00m (out\u001b[38;5;241m.\u001b[39mflags\u001b[38;5;241m.\u001b[39mc_contiguous \u001b[38;5;129;01mor\u001b[39;00m out\u001b[38;5;241m.\u001b[39mflags\u001b[38;5;241m.\u001b[39mf_contiguous):\n\u001b[0;32m   1052\u001b[0m     \u001b[38;5;28;01mraise\u001b[39;00m \u001b[38;5;167;01mValueError\u001b[39;00m(\u001b[38;5;124m'\u001b[39m\u001b[38;5;124mOutput array must be C or F contiguous\u001b[39m\u001b[38;5;124m'\u001b[39m)\n",
      "File \u001b[1;32mC:\\ProgramData\\anaconda3\\Lib\\site-packages\\scipy\\sparse\\_base.py:1267\u001b[0m, in \u001b[0;36m_spbase._process_toarray_args\u001b[1;34m(self, order, out)\u001b[0m\n\u001b[0;32m   1265\u001b[0m     \u001b[38;5;28;01mreturn\u001b[39;00m out\n\u001b[0;32m   1266\u001b[0m \u001b[38;5;28;01melse\u001b[39;00m:\n\u001b[1;32m-> 1267\u001b[0m     \u001b[38;5;28;01mreturn\u001b[39;00m np\u001b[38;5;241m.\u001b[39mzeros(\u001b[38;5;28mself\u001b[39m\u001b[38;5;241m.\u001b[39mshape, dtype\u001b[38;5;241m=\u001b[39m\u001b[38;5;28mself\u001b[39m\u001b[38;5;241m.\u001b[39mdtype, order\u001b[38;5;241m=\u001b[39morder)\n",
      "\u001b[1;31mMemoryError\u001b[0m: Unable to allocate 15.4 GiB for an array with shape (45466, 45466) and data type float64"
     ]
    }
   ],
   "source": [
    "cos_sim = cosine_similarity(ftr_v, ftr_v)"
   ]
  },
  {
   "cell_type": "code",
   "execution_count": 22,
   "metadata": {},
   "outputs": [
    {
     "name": "stdout",
     "output_type": "stream",
     "text": [
      "코사인 유사도 행렬의 크기: (45466, 45466)\n"
     ]
    }
   ],
   "source": [
    "print(f'코사인 유사도 행렬의 크기:',cos_sim.shape)"
   ]
  },
  {
   "cell_type": "markdown",
   "metadata": {},
   "source": [
    "#### 6. 영화 제목과 인덱스를 갖는 딕셔너리 생성"
   ]
  },
  {
   "cell_type": "code",
   "execution_count": 9,
   "metadata": {},
   "outputs": [
    {
     "data": {
      "text/plain": [
       "0                          Toy Story\n",
       "1                            Jumanji\n",
       "2                   Grumpier Old Men\n",
       "3                  Waiting to Exhale\n",
       "4        Father of the Bride Part II\n",
       "                    ...             \n",
       "45461                         Subdue\n",
       "45462            Century of Birthing\n",
       "45463                       Betrayal\n",
       "45464               Satan Triumphant\n",
       "45465                       Queerama\n",
       "Name: title, Length: 45466, dtype: object"
      ]
     },
     "execution_count": 9,
     "metadata": {},
     "output_type": "execute_result"
    }
   ],
   "source": [
    "movies['title']"
   ]
  },
  {
   "cell_type": "code",
   "execution_count": 11,
   "metadata": {},
   "outputs": [
    {
     "data": {
      "text/plain": [
       "4"
      ]
     },
     "execution_count": 11,
     "metadata": {},
     "output_type": "execute_result"
    }
   ],
   "source": [
    "title_to_index = dict(zip(movies['title'], movies.index))\n",
    "title_to_index['Father of the Bride Part II']"
   ]
  },
  {
   "cell_type": "markdown",
   "metadata": {},
   "source": [
    "#### 7. 선택한 영화 제목의 overview와 가장 유사한 overview 10개 영화 찾기"
   ]
  },
  {
   "cell_type": "code",
   "execution_count": 17,
   "metadata": {},
   "outputs": [
    {
     "name": "stdout",
     "output_type": "stream",
     "text": [
      "4\n"
     ]
    },
    {
     "data": {
      "text/plain": [
       "6793        Father of the Bride\n",
       "6571                      Kuffs\n",
       "6306            North to Alaska\n",
       "19801                   Babbitt\n",
       "34466         You're Killing Me\n",
       "13611       The Magic of Méliès\n",
       "5005                    Wendigo\n",
       "27974          I Start Counting\n",
       "43887    George of the Jungle 2\n",
       "7097         The Out of Towners\n",
       "Name: title, dtype: object"
      ]
     },
     "execution_count": 17,
     "metadata": {},
     "output_type": "execute_result"
    }
   ],
   "source": [
    "title = 'Father of the Bride Part II'\n",
    "idx = title_to_index[title]\n",
    "print(idx)\n",
    "sim_scores = list(enumerate(cos_sim[idx]))\n",
    "sim_scores10 = sorted(sim_scores, key=lambda x:x[1], reverse=True)[1:11]\n",
    "indices = [item[0] for item in sim_scores10]\n",
    "movies.title.iloc[indices]"
   ]
  },
  {
   "cell_type": "code",
   "execution_count": 83,
   "metadata": {},
   "outputs": [],
   "source": [
    "def recommend_movie(title, cos_sim, n=10):\n",
    "    idx = title_to_index[title]\n",
    "    sim_scores = list(enumerate(cos_sim[idx]))\n",
    "    sim_scores_top = sorted(sim_scores, key=lambda x:x[1], reverse=True)[1:n+1]\n",
    "    indices = [item[0] for item in sim_scores_top]\n",
    "    return movies.title.iloc[indices]"
   ]
  },
  {
   "cell_type": "code",
   "execution_count": 86,
   "metadata": {},
   "outputs": [
    {
     "data": {
      "text/plain": [
       "4        Father of the Bride Part II\n",
       "6306                 North to Alaska\n",
       "34466              You're Killing Me\n",
       "13740                     Trojan War\n",
       "19801                        Babbitt\n",
       "13611            The Magic of Méliès\n",
       "7097              The Out of Towners\n",
       "5005                         Wendigo\n",
       "27974               I Start Counting\n",
       "24041                    To Be Takei\n",
       "Name: title, dtype: object"
      ]
     },
     "execution_count": 86,
     "metadata": {},
     "output_type": "execute_result"
    }
   ],
   "source": [
    "title = 'Kuffs'\n",
    "recommend_movie(title, cos_sim)"
   ]
  },
  {
   "cell_type": "code",
   "execution_count": 23,
   "metadata": {},
   "outputs": [
    {
     "data": {
      "text/html": [
       "<div>\n",
       "<style scoped>\n",
       "    .dataframe tbody tr th:only-of-type {\n",
       "        vertical-align: middle;\n",
       "    }\n",
       "\n",
       "    .dataframe tbody tr th {\n",
       "        vertical-align: top;\n",
       "    }\n",
       "\n",
       "    .dataframe thead th {\n",
       "        text-align: right;\n",
       "    }\n",
       "</style>\n",
       "<table border=\"1\" class=\"dataframe\">\n",
       "  <thead>\n",
       "    <tr style=\"text-align: right;\">\n",
       "      <th></th>\n",
       "      <th>adult</th>\n",
       "      <th>belongs_to_collection</th>\n",
       "      <th>budget</th>\n",
       "      <th>genres</th>\n",
       "      <th>homepage</th>\n",
       "      <th>id</th>\n",
       "      <th>imdb_id</th>\n",
       "      <th>original_language</th>\n",
       "      <th>original_title</th>\n",
       "      <th>overview</th>\n",
       "      <th>...</th>\n",
       "      <th>release_date</th>\n",
       "      <th>revenue</th>\n",
       "      <th>runtime</th>\n",
       "      <th>spoken_languages</th>\n",
       "      <th>status</th>\n",
       "      <th>tagline</th>\n",
       "      <th>title</th>\n",
       "      <th>video</th>\n",
       "      <th>vote_average</th>\n",
       "      <th>vote_count</th>\n",
       "    </tr>\n",
       "  </thead>\n",
       "  <tbody>\n",
       "    <tr>\n",
       "      <th>4</th>\n",
       "      <td>False</td>\n",
       "      <td>{'id': 96871, 'name': 'Father of the Bride Col...</td>\n",
       "      <td>0</td>\n",
       "      <td>[{'id': 35, 'name': 'Comedy'}]</td>\n",
       "      <td>NaN</td>\n",
       "      <td>11862</td>\n",
       "      <td>tt0113041</td>\n",
       "      <td>en</td>\n",
       "      <td>Father of the Bride Part II</td>\n",
       "      <td>Just when George Banks has recovered from his ...</td>\n",
       "      <td>...</td>\n",
       "      <td>1995-02-10</td>\n",
       "      <td>76578911.0</td>\n",
       "      <td>106.0</td>\n",
       "      <td>[{'iso_639_1': 'en', 'name': 'English'}]</td>\n",
       "      <td>Released</td>\n",
       "      <td>Just When His World Is Back To Normal... He's ...</td>\n",
       "      <td>Father of the Bride Part II</td>\n",
       "      <td>False</td>\n",
       "      <td>5.7</td>\n",
       "      <td>173.0</td>\n",
       "    </tr>\n",
       "    <tr>\n",
       "      <th>6306</th>\n",
       "      <td>False</td>\n",
       "      <td>NaN</td>\n",
       "      <td>3500000</td>\n",
       "      <td>[{'id': 37, 'name': 'Western'}]</td>\n",
       "      <td>NaN</td>\n",
       "      <td>6523</td>\n",
       "      <td>tt0054127</td>\n",
       "      <td>en</td>\n",
       "      <td>North to Alaska</td>\n",
       "      <td>Sam and George strike gold in Alaska. George s...</td>\n",
       "      <td>...</td>\n",
       "      <td>1960-11-07</td>\n",
       "      <td>0.0</td>\n",
       "      <td>122.0</td>\n",
       "      <td>[{'iso_639_1': 'en', 'name': 'English'}]</td>\n",
       "      <td>Released</td>\n",
       "      <td>These were the adventures . . . fighting, laug...</td>\n",
       "      <td>North to Alaska</td>\n",
       "      <td>False</td>\n",
       "      <td>5.7</td>\n",
       "      <td>25.0</td>\n",
       "    </tr>\n",
       "    <tr>\n",
       "      <th>34466</th>\n",
       "      <td>False</td>\n",
       "      <td>NaN</td>\n",
       "      <td>0</td>\n",
       "      <td>[{'id': 10749, 'name': 'Romance'}, {'id': 35, ...</td>\n",
       "      <td>NaN</td>\n",
       "      <td>348929</td>\n",
       "      <td>tt4490654</td>\n",
       "      <td>en</td>\n",
       "      <td>You're Killing Me</td>\n",
       "      <td>Joe just told his boyfriend, George, that he i...</td>\n",
       "      <td>...</td>\n",
       "      <td>2015-07-15</td>\n",
       "      <td>0.0</td>\n",
       "      <td>88.0</td>\n",
       "      <td>[{'iso_639_1': 'en', 'name': 'English'}]</td>\n",
       "      <td>Released</td>\n",
       "      <td>George has a killer new boyfriend.</td>\n",
       "      <td>You're Killing Me</td>\n",
       "      <td>False</td>\n",
       "      <td>6.0</td>\n",
       "      <td>2.0</td>\n",
       "    </tr>\n",
       "    <tr>\n",
       "      <th>13740</th>\n",
       "      <td>False</td>\n",
       "      <td>NaN</td>\n",
       "      <td>15000000</td>\n",
       "      <td>[{'id': 35, 'name': 'Comedy'}]</td>\n",
       "      <td>NaN</td>\n",
       "      <td>14330</td>\n",
       "      <td>tt0120376</td>\n",
       "      <td>en</td>\n",
       "      <td>Trojan War</td>\n",
       "      <td>Brad is about to hook up with the girl of his ...</td>\n",
       "      <td>...</td>\n",
       "      <td>1997-09-26</td>\n",
       "      <td>0.0</td>\n",
       "      <td>85.0</td>\n",
       "      <td>[{'iso_639_1': 'en', 'name': 'English'}, {'iso...</td>\n",
       "      <td>Released</td>\n",
       "      <td>She has 24 hours to convince the guy of her dr...</td>\n",
       "      <td>Trojan War</td>\n",
       "      <td>False</td>\n",
       "      <td>5.4</td>\n",
       "      <td>25.0</td>\n",
       "    </tr>\n",
       "    <tr>\n",
       "      <th>19801</th>\n",
       "      <td>False</td>\n",
       "      <td>NaN</td>\n",
       "      <td>0</td>\n",
       "      <td>[{'id': 18, 'name': 'Drama'}]</td>\n",
       "      <td>NaN</td>\n",
       "      <td>137429</td>\n",
       "      <td>tt0024851</td>\n",
       "      <td>en</td>\n",
       "      <td>Babbitt</td>\n",
       "      <td>Middle aged George F. Babbitt is a leading cit...</td>\n",
       "      <td>...</td>\n",
       "      <td>1934-12-08</td>\n",
       "      <td>0.0</td>\n",
       "      <td>74.0</td>\n",
       "      <td>[{'iso_639_1': 'en', 'name': 'English'}]</td>\n",
       "      <td>Released</td>\n",
       "      <td>NaN</td>\n",
       "      <td>Babbitt</td>\n",
       "      <td>False</td>\n",
       "      <td>0.0</td>\n",
       "      <td>0.0</td>\n",
       "    </tr>\n",
       "    <tr>\n",
       "      <th>13611</th>\n",
       "      <td>False</td>\n",
       "      <td>NaN</td>\n",
       "      <td>0</td>\n",
       "      <td>[]</td>\n",
       "      <td>NaN</td>\n",
       "      <td>91603</td>\n",
       "      <td>tt0318413</td>\n",
       "      <td>en</td>\n",
       "      <td>La magie Méliès</td>\n",
       "      <td>A documentary about George Méliès.</td>\n",
       "      <td>...</td>\n",
       "      <td>1997-01-01</td>\n",
       "      <td>0.0</td>\n",
       "      <td>131.0</td>\n",
       "      <td>[]</td>\n",
       "      <td>Released</td>\n",
       "      <td>NaN</td>\n",
       "      <td>The Magic of Méliès</td>\n",
       "      <td>False</td>\n",
       "      <td>7.5</td>\n",
       "      <td>2.0</td>\n",
       "    </tr>\n",
       "    <tr>\n",
       "      <th>7097</th>\n",
       "      <td>False</td>\n",
       "      <td>NaN</td>\n",
       "      <td>0</td>\n",
       "      <td>[{'id': 35, 'name': 'Comedy'}]</td>\n",
       "      <td>NaN</td>\n",
       "      <td>20444</td>\n",
       "      <td>tt0066193</td>\n",
       "      <td>en</td>\n",
       "      <td>The Out of Towners</td>\n",
       "      <td>George &amp;amp; Gwen Kellerman make a trip to New...</td>\n",
       "      <td>...</td>\n",
       "      <td>1970-05-28</td>\n",
       "      <td>0.0</td>\n",
       "      <td>98.0</td>\n",
       "      <td>[{'iso_639_1': 'es', 'name': 'Español'}, {'iso...</td>\n",
       "      <td>Released</td>\n",
       "      <td>When they take you for an out-of-towner, they ...</td>\n",
       "      <td>The Out of Towners</td>\n",
       "      <td>False</td>\n",
       "      <td>7.1</td>\n",
       "      <td>24.0</td>\n",
       "    </tr>\n",
       "    <tr>\n",
       "      <th>5005</th>\n",
       "      <td>False</td>\n",
       "      <td>NaN</td>\n",
       "      <td>0</td>\n",
       "      <td>[{'id': 27, 'name': 'Horror'}]</td>\n",
       "      <td>NaN</td>\n",
       "      <td>44340</td>\n",
       "      <td>tt0275067</td>\n",
       "      <td>en</td>\n",
       "      <td>Wendigo</td>\n",
       "      <td>George is a high-strung professional photograp...</td>\n",
       "      <td>...</td>\n",
       "      <td>2001-01-23</td>\n",
       "      <td>0.0</td>\n",
       "      <td>91.0</td>\n",
       "      <td>[{'iso_639_1': 'en', 'name': 'English'}]</td>\n",
       "      <td>Released</td>\n",
       "      <td>NaN</td>\n",
       "      <td>Wendigo</td>\n",
       "      <td>False</td>\n",
       "      <td>5.0</td>\n",
       "      <td>22.0</td>\n",
       "    </tr>\n",
       "    <tr>\n",
       "      <th>27974</th>\n",
       "      <td>False</td>\n",
       "      <td>NaN</td>\n",
       "      <td>0</td>\n",
       "      <td>[{'id': 53, 'name': 'Thriller'}]</td>\n",
       "      <td>NaN</td>\n",
       "      <td>96243</td>\n",
       "      <td>tt0064462</td>\n",
       "      <td>en</td>\n",
       "      <td>I Start Counting</td>\n",
       "      <td>Jenny Agutter plays Wynne, an adopted 14-year-...</td>\n",
       "      <td>...</td>\n",
       "      <td>1970-10-27</td>\n",
       "      <td>0.0</td>\n",
       "      <td>105.0</td>\n",
       "      <td>[{'iso_639_1': 'en', 'name': 'English'}]</td>\n",
       "      <td>Released</td>\n",
       "      <td>In the world of the nightmare, a little blood ...</td>\n",
       "      <td>I Start Counting</td>\n",
       "      <td>False</td>\n",
       "      <td>5.3</td>\n",
       "      <td>5.0</td>\n",
       "    </tr>\n",
       "    <tr>\n",
       "      <th>24041</th>\n",
       "      <td>False</td>\n",
       "      <td>NaN</td>\n",
       "      <td>0</td>\n",
       "      <td>[{'id': 99, 'name': 'Documentary'}]</td>\n",
       "      <td>http://tobetakei.com/</td>\n",
       "      <td>250777</td>\n",
       "      <td>tt2174896</td>\n",
       "      <td>en</td>\n",
       "      <td>To Be Takei</td>\n",
       "      <td>Over seven decades, actor and activist George ...</td>\n",
       "      <td>...</td>\n",
       "      <td>2014-08-22</td>\n",
       "      <td>0.0</td>\n",
       "      <td>94.0</td>\n",
       "      <td>[]</td>\n",
       "      <td>Released</td>\n",
       "      <td>A star’s trek for life, liberty, and love.</td>\n",
       "      <td>To Be Takei</td>\n",
       "      <td>False</td>\n",
       "      <td>6.9</td>\n",
       "      <td>25.0</td>\n",
       "    </tr>\n",
       "  </tbody>\n",
       "</table>\n",
       "<p>10 rows × 24 columns</p>\n",
       "</div>"
      ],
      "text/plain": [
       "       adult                              belongs_to_collection    budget  \\\n",
       "4      False  {'id': 96871, 'name': 'Father of the Bride Col...         0   \n",
       "6306   False                                                NaN   3500000   \n",
       "34466  False                                                NaN         0   \n",
       "13740  False                                                NaN  15000000   \n",
       "19801  False                                                NaN         0   \n",
       "13611  False                                                NaN         0   \n",
       "7097   False                                                NaN         0   \n",
       "5005   False                                                NaN         0   \n",
       "27974  False                                                NaN         0   \n",
       "24041  False                                                NaN         0   \n",
       "\n",
       "                                                  genres  \\\n",
       "4                         [{'id': 35, 'name': 'Comedy'}]   \n",
       "6306                     [{'id': 37, 'name': 'Western'}]   \n",
       "34466  [{'id': 10749, 'name': 'Romance'}, {'id': 35, ...   \n",
       "13740                     [{'id': 35, 'name': 'Comedy'}]   \n",
       "19801                      [{'id': 18, 'name': 'Drama'}]   \n",
       "13611                                                 []   \n",
       "7097                      [{'id': 35, 'name': 'Comedy'}]   \n",
       "5005                      [{'id': 27, 'name': 'Horror'}]   \n",
       "27974                   [{'id': 53, 'name': 'Thriller'}]   \n",
       "24041                [{'id': 99, 'name': 'Documentary'}]   \n",
       "\n",
       "                    homepage      id    imdb_id original_language  \\\n",
       "4                        NaN   11862  tt0113041                en   \n",
       "6306                     NaN    6523  tt0054127                en   \n",
       "34466                    NaN  348929  tt4490654                en   \n",
       "13740                    NaN   14330  tt0120376                en   \n",
       "19801                    NaN  137429  tt0024851                en   \n",
       "13611                    NaN   91603  tt0318413                en   \n",
       "7097                     NaN   20444  tt0066193                en   \n",
       "5005                     NaN   44340  tt0275067                en   \n",
       "27974                    NaN   96243  tt0064462                en   \n",
       "24041  http://tobetakei.com/  250777  tt2174896                en   \n",
       "\n",
       "                    original_title  \\\n",
       "4      Father of the Bride Part II   \n",
       "6306               North to Alaska   \n",
       "34466            You're Killing Me   \n",
       "13740                   Trojan War   \n",
       "19801                      Babbitt   \n",
       "13611              La magie Méliès   \n",
       "7097            The Out of Towners   \n",
       "5005                       Wendigo   \n",
       "27974             I Start Counting   \n",
       "24041                  To Be Takei   \n",
       "\n",
       "                                                overview  ... release_date  \\\n",
       "4      Just when George Banks has recovered from his ...  ...   1995-02-10   \n",
       "6306   Sam and George strike gold in Alaska. George s...  ...   1960-11-07   \n",
       "34466  Joe just told his boyfriend, George, that he i...  ...   2015-07-15   \n",
       "13740  Brad is about to hook up with the girl of his ...  ...   1997-09-26   \n",
       "19801  Middle aged George F. Babbitt is a leading cit...  ...   1934-12-08   \n",
       "13611                 A documentary about George Méliès.  ...   1997-01-01   \n",
       "7097   George &amp; Gwen Kellerman make a trip to New...  ...   1970-05-28   \n",
       "5005   George is a high-strung professional photograp...  ...   2001-01-23   \n",
       "27974  Jenny Agutter plays Wynne, an adopted 14-year-...  ...   1970-10-27   \n",
       "24041  Over seven decades, actor and activist George ...  ...   2014-08-22   \n",
       "\n",
       "          revenue runtime                                   spoken_languages  \\\n",
       "4      76578911.0   106.0           [{'iso_639_1': 'en', 'name': 'English'}]   \n",
       "6306          0.0   122.0           [{'iso_639_1': 'en', 'name': 'English'}]   \n",
       "34466         0.0    88.0           [{'iso_639_1': 'en', 'name': 'English'}]   \n",
       "13740         0.0    85.0  [{'iso_639_1': 'en', 'name': 'English'}, {'iso...   \n",
       "19801         0.0    74.0           [{'iso_639_1': 'en', 'name': 'English'}]   \n",
       "13611         0.0   131.0                                                 []   \n",
       "7097          0.0    98.0  [{'iso_639_1': 'es', 'name': 'Español'}, {'iso...   \n",
       "5005          0.0    91.0           [{'iso_639_1': 'en', 'name': 'English'}]   \n",
       "27974         0.0   105.0           [{'iso_639_1': 'en', 'name': 'English'}]   \n",
       "24041         0.0    94.0                                                 []   \n",
       "\n",
       "         status                                            tagline  \\\n",
       "4      Released  Just When His World Is Back To Normal... He's ...   \n",
       "6306   Released  These were the adventures . . . fighting, laug...   \n",
       "34466  Released                 George has a killer new boyfriend.   \n",
       "13740  Released  She has 24 hours to convince the guy of her dr...   \n",
       "19801  Released                                                NaN   \n",
       "13611  Released                                                NaN   \n",
       "7097   Released  When they take you for an out-of-towner, they ...   \n",
       "5005   Released                                                NaN   \n",
       "27974  Released  In the world of the nightmare, a little blood ...   \n",
       "24041  Released         A star’s trek for life, liberty, and love.   \n",
       "\n",
       "                             title  video vote_average vote_count  \n",
       "4      Father of the Bride Part II  False          5.7      173.0  \n",
       "6306               North to Alaska  False          5.7       25.0  \n",
       "34466            You're Killing Me  False          6.0        2.0  \n",
       "13740                   Trojan War  False          5.4       25.0  \n",
       "19801                      Babbitt  False          0.0        0.0  \n",
       "13611          The Magic of Méliès  False          7.5        2.0  \n",
       "7097            The Out of Towners  False          7.1       24.0  \n",
       "5005                       Wendigo  False          5.0       22.0  \n",
       "27974             I Start Counting  False          5.3        5.0  \n",
       "24041                  To Be Takei  False          6.9       25.0  \n",
       "\n",
       "[10 rows x 24 columns]"
      ]
     },
     "execution_count": 23,
     "metadata": {},
     "output_type": "execute_result"
    }
   ],
   "source": [
    "movies.iloc[recommend_movie(title, cos_sim).index]"
   ]
  },
  {
   "cell_type": "markdown",
   "metadata": {},
   "source": [
    "#### 8. 선택한 영화와 유사도가 높은 상위 10개 영화와의 코사인 유사도 시각화"
   ]
  },
  {
   "cell_type": "markdown",
   "metadata": {},
   "source": [
    "#### 히트맵(heatmap)"
   ]
  },
  {
   "cell_type": "code",
   "execution_count": 89,
   "metadata": {},
   "outputs": [
    {
     "name": "stdout",
     "output_type": "stream",
     "text": [
      "1\n",
      "Index([21633, 45253, 41573, 35509, 44376, 17223, 8801, 6166, 30981, 9503], dtype='int64')\n"
     ]
    },
    {
     "data": {
      "image/png": "[encoded data removed]",
      "text/plain": [
       "<Figure size 1200x1200 with 2 Axes>"
      ]
     },
     "metadata": {},
     "output_type": "display_data"
    }
   ],
   "source": [
    "title = 'Jumanji'\n",
    "my_idx = title_to_index[title]\n",
    "print(my_idx)\n",
    "top10_idx = recommend_movie(title, cos_sim).index\n",
    "print(top10_idx)\n",
    "\n",
    "mv_idx = [my_idx] + list(top10_idx)\n",
    "cos_sim_10 = cosine_similarity(ftr_v[mv_idx], ftr_v[mv_idx])\n",
    "cos_sim_10\n",
    "\n",
    "plt.figure(figsize=(12,12))\n",
    "sns.heatmap(cos_sim_10, annot=True, fmt='.2f', xticklabels=mv_idx,\n",
    "           yticklabels=mv_idx)\n",
    "plt.show()"
   ]
  },
  {
   "cell_type": "markdown",
   "metadata": {},
   "source": [
    "- 사인 유사도가 큰 순으로 movie_index를 재정렬"
   ]
  },
  {
   "cell_type": "code",
   "execution_count": 91,
   "metadata": {},
   "outputs": [
    {
     "data": {
      "text/plain": [
       "array([1.        , 0.22806347, 0.19132692, 0.18912467, 0.18884059,\n",
       "       0.18711871, 0.17943949, 0.17790469, 0.17716921, 0.17118011,\n",
       "       0.1693555 ])"
      ]
     },
     "execution_count": 91,
     "metadata": {},
     "output_type": "execute_result"
    }
   ],
   "source": [
    "cos_sim_10[0]"
   ]
  },
  {
   "cell_type": "markdown",
   "metadata": {},
   "source": [
    "#### barplot"
   ]
  },
  {
   "cell_type": "code",
   "execution_count": 105,
   "metadata": {},
   "outputs": [
    {
     "ename": "IndexError",
     "evalue": "index 18252 is out of bounds for axis 0 with size 11",
     "output_type": "error",
     "traceback": [
      "\u001b[1;31m---------------------------------------------------------------------------\u001b[0m",
      "\u001b[1;31mIndexError\u001b[0m                                Traceback (most recent call last)",
      "Cell \u001b[1;32mIn[105], line 3\u001b[0m\n\u001b[0;32m      1\u001b[0m title \u001b[38;5;241m=\u001b[39m \u001b[38;5;124m'\u001b[39m\u001b[38;5;124mThe Dark Knight Rises\u001b[39m\u001b[38;5;124m'\u001b[39m\n\u001b[0;32m      2\u001b[0m n \u001b[38;5;241m=\u001b[39m \u001b[38;5;241m10\u001b[39m\n\u001b[1;32m----> 3\u001b[0m mv_info \u001b[38;5;241m=\u001b[39m recommend_movie(title, cos_sim_10, n)\n\u001b[0;32m      4\u001b[0m mv_title \u001b[38;5;241m=\u001b[39m mv_info\u001b[38;5;241m.\u001b[39mvalues\n\u001b[0;32m      5\u001b[0m mv_idx \u001b[38;5;241m=\u001b[39m mv_info\u001b[38;5;241m.\u001b[39mindex\n",
      "Cell \u001b[1;32mIn[83], line 3\u001b[0m, in \u001b[0;36mrecommend_movie\u001b[1;34m(title, cos_sim, n)\u001b[0m\n\u001b[0;32m      1\u001b[0m \u001b[38;5;28;01mdef\u001b[39;00m \u001b[38;5;21mrecommend_movie\u001b[39m(title, cos_sim, n\u001b[38;5;241m=\u001b[39m\u001b[38;5;241m10\u001b[39m):\n\u001b[0;32m      2\u001b[0m     idx \u001b[38;5;241m=\u001b[39m title_to_index[title]\n\u001b[1;32m----> 3\u001b[0m     sim_scores \u001b[38;5;241m=\u001b[39m \u001b[38;5;28mlist\u001b[39m(\u001b[38;5;28menumerate\u001b[39m(cos_sim[idx]))\n\u001b[0;32m      4\u001b[0m     sim_scores_top \u001b[38;5;241m=\u001b[39m \u001b[38;5;28msorted\u001b[39m(sim_scores, key\u001b[38;5;241m=\u001b[39m\u001b[38;5;28;01mlambda\u001b[39;00m x:x[\u001b[38;5;241m1\u001b[39m], reverse\u001b[38;5;241m=\u001b[39m\u001b[38;5;28;01mTrue\u001b[39;00m)[\u001b[38;5;241m1\u001b[39m:n\u001b[38;5;241m+\u001b[39m\u001b[38;5;241m1\u001b[39m]\n\u001b[0;32m      5\u001b[0m     indices \u001b[38;5;241m=\u001b[39m [item[\u001b[38;5;241m0\u001b[39m] \u001b[38;5;28;01mfor\u001b[39;00m item \u001b[38;5;129;01min\u001b[39;00m sim_scores_top]\n",
      "\u001b[1;31mIndexError\u001b[0m: index 18252 is out of bounds for axis 0 with size 11"
     ]
    }
   ],
   "source": [
    "title = 'The Dark Knight Rises'\n",
    "n = 10\n",
    "mv_info = recommend_movie(title, cos_sim, n)\n",
    "mv_title = mv_info.values\n",
    "mv_idx = mv_info.index\n",
    "cos_sim_10 = cosine_similarity(ftr_v[mv_idx], ftr_v[mv_idx])\n",
    "sim = cos_sim_10[0][1:]\n",
    "df_title = pd.DataFrame(sim, index=mv_title[1:], columns=['similarity'])\n",
    "df_title"
   ]
  },
  {
   "cell_type": "code",
   "execution_count": 101,
   "metadata": {},
   "outputs": [
    {
     "data": {
      "image/png": "[encoded data removed]",
      "text/plain": [
       "<Figure size 2000x500 with 1 Axes>"
      ]
     },
     "metadata": {},
     "output_type": "display_data"
    }
   ],
   "source": [
    "plt.figure(figsize=(20,5))\n",
    "sns.barplot(df_title, x='similarity',y=df_title.index)\n",
    "plt.show()"
   ]
  },
  {
   "cell_type": "markdown",
   "metadata": {},
   "source": [
    "=> The Dark Knight Rises와 리뷰와 가장 유사도가 큰 영화는 The Dark Knight(0.32667)"
   ]
  },
  {
   "cell_type": "markdown",
   "metadata": {},
   "source": [
    "------------"
   ]
  }
 ],
 "metadata": {
  "kernelspec": {
   "display_name": "Python 3 (ipykernel)",
   "language": "python",
   "name": "python3"
  },
  "language_info": {
   "codemirror_mode": {
    "name": "ipython",
    "version": 3
   },
   "file_extension": ".py",
   "mimetype": "text/x-python",
   "name": "python",
   "nbconvert_exporter": "python",
   "pygments_lexer": "ipython3",
   "version": "3.11.7"
  }
 },
 "nbformat": 4,
 "nbformat_minor": 4
}
