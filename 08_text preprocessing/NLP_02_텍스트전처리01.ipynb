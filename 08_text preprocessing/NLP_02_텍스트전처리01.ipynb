{
 "cells": [
  {
   "cell_type": "markdown",
   "metadata": {},
   "source": [
    "# 텍스트 전처리"
   ]
  },
  {
   "cell_type": "markdown",
   "metadata": {},
   "source": [
    "#### 전처리 과정"
   ]
  },
  {
   "cell_type": "markdown",
   "metadata": {},
   "source": [
    "- 클렌징(cleansing)\n",
    "- 토큰화(Tokenization)\n",
    "- 필터링/ 스톱 워드(불용어) 제거 / 철자 수정\n",
    "- 어간 추출(Stemming & Lemmatization)"
   ]
  },
  {
   "cell_type": "markdown",
   "metadata": {},
   "source": [
    "## 1. 클렌징(Cleansing)"
   ]
  },
  {
   "cell_type": "markdown",
   "metadata": {},
   "source": [
    "- 결측치 처리 및 텍스트 분석에 방해되는 불필요한 문자, 기호 등을 사전에 제거하는 작업\n",
    "- 예. HTML, XML 태그나 특정 기호 등을 사전에 제거\n",
    "- 정규표현식 사용"
   ]
  },
  {
   "cell_type": "markdown",
   "metadata": {},
   "source": [
    "### 1-1. 결측치 확인 및 처리"
   ]
  },
  {
   "cell_type": "markdown",
   "metadata": {},
   "source": [
    "#### **결측치 확인**\n",
    "- df.isnull()\n",
    "- df.isna()\n",
    "- df.isnull().sum()"
   ]
  },
  {
   "cell_type": "markdown",
   "metadata": {},
   "source": [
    "#### **결측치 처리**\n",
    "\n",
    "① 결측치 삭제\n",
    "   - df.dropna()\n",
    "   - https://pandas.pydata.org/docs/reference/api/pandas.DataFrame.dropna.html\n",
    "    \n",
    "    \n",
    "\n",
    "```python\n",
    "DataFrame.dropna(*, axis=0, how=_NoDefault.no_default, \n",
    "                 thresh=_NoDefault.no_default, subset=None, inplace=False)\n",
    "```"
   ]
  },
  {
   "cell_type": "markdown",
   "metadata": {},
   "source": [
    "② 결측치 대체\n",
    "- df.fillna()\n",
    "  - 평균값이나 다른 특정한 값으로 결측치 대체\n",
    "  - https://pandas.pydata.org/docs/reference/api/pandas.DataFrame.fillna.html\n",
    "```python\n",
    "DataFrame.fillna(value=None, *, method=None, axis=None,\n",
    "                 inplace=False, limit=None, downcast=None)\n",
    "```\n",
    "\n",
    "- df.bfill()\n",
    "   - 뒤에 있는 값으로 결측치 대체\n",
    "   - https://pandas.pydata.org/docs/reference/api/pandas.DataFrame.bfill.html\n",
    "\n",
    "```python\n",
    "DataFrame.bfill(*, axis=None, inplace=False, limit=None, \n",
    "                limit_area=None, downcast=_NoDefault.no_default)\n",
    "```\n",
    "\n",
    "- df.ffill()\n",
    "    - 앞에 있는 값으로 결측치 대체\n",
    "    - https://pandas.pydata.org/docs/reference/api/pandas.DataFrame.ffill.html\n",
    "```python\n",
    "DataFrame.ffill(*, axis=None, inplace=False, limit=None, \n",
    "                limit_area=None, downcast=_NoDefault.no_default)\n",
    "```\n",
    "\n",
    "- df.interpolate()\n",
    "  - 선형보간법(linear)을 이용하여 결측치 대체\n",
    "  - https://pandas.pydata.org/docs/reference/api/pandas.DataFrame.interpolate.html\n",
    "\n",
    "```python\n",
    "DataFrame.interpolate(method='linear', *, axis=0, limit=None, inplace=False, \n",
    "                      limit_direction=None, limit_area=None, \n",
    "                      downcast=_NoDefault.no_default, **kwargs)\n",
    "```"
   ]
  },
  {
   "cell_type": "code",
   "execution_count": 1,
   "metadata": {},
   "outputs": [],
   "source": [
    "import pandas as pd\n",
    "import numpy as np"
   ]
  },
  {
   "cell_type": "code",
   "execution_count": 4,
   "metadata": {},
   "outputs": [
    {
     "data": {
      "text/html": [
       "<div>\n",
       "<style scoped>\n",
       "    .dataframe tbody tr th:only-of-type {\n",
       "        vertical-align: middle;\n",
       "    }\n",
       "\n",
       "    .dataframe tbody tr th {\n",
       "        vertical-align: top;\n",
       "    }\n",
       "\n",
       "    .dataframe thead th {\n",
       "        text-align: right;\n",
       "    }\n",
       "</style>\n",
       "<table border=\"1\" class=\"dataframe\">\n",
       "  <thead>\n",
       "    <tr style=\"text-align: right;\">\n",
       "      <th></th>\n",
       "      <th>A</th>\n",
       "      <th>B</th>\n",
       "      <th>C</th>\n",
       "      <th>D</th>\n",
       "      <th>E</th>\n",
       "    </tr>\n",
       "  </thead>\n",
       "  <tbody>\n",
       "    <tr>\n",
       "      <th>0</th>\n",
       "      <td>NaN</td>\n",
       "      <td>2.0</td>\n",
       "      <td>NaN</td>\n",
       "      <td>NaN</td>\n",
       "      <td>0.0</td>\n",
       "    </tr>\n",
       "    <tr>\n",
       "      <th>1</th>\n",
       "      <td>3.0</td>\n",
       "      <td>4.0</td>\n",
       "      <td>1.0</td>\n",
       "      <td>NaN</td>\n",
       "      <td>NaN</td>\n",
       "    </tr>\n",
       "    <tr>\n",
       "      <th>2</th>\n",
       "      <td>NaN</td>\n",
       "      <td>NaN</td>\n",
       "      <td>NaN</td>\n",
       "      <td>NaN</td>\n",
       "      <td>NaN</td>\n",
       "    </tr>\n",
       "    <tr>\n",
       "      <th>3</th>\n",
       "      <td>NaN</td>\n",
       "      <td>NaN</td>\n",
       "      <td>3.0</td>\n",
       "      <td>NaN</td>\n",
       "      <td>4.0</td>\n",
       "    </tr>\n",
       "  </tbody>\n",
       "</table>\n",
       "</div>"
      ],
      "text/plain": [
       "     A    B    C   D    E\n",
       "0  NaN  2.0  NaN NaN  0.0\n",
       "1  3.0  4.0  1.0 NaN  NaN\n",
       "2  NaN  NaN  NaN NaN  NaN\n",
       "3  NaN  NaN  3.0 NaN  4.0"
      ]
     },
     "execution_count": 4,
     "metadata": {},
     "output_type": "execute_result"
    }
   ],
   "source": [
    "df = pd.DataFrame([[np.nan,2,np.nan,np.nan,0],\n",
    "                   [3,4,1,np.nan,np.nan],\n",
    "                   [np.nan,np.nan,np.nan,np.nan,np.nan],\n",
    "                   [np.nan,np.nan,3,np.nan,4]],columns = list('ABCDE'))\n",
    "df"
   ]
  },
  {
   "cell_type": "code",
   "execution_count": 5,
   "metadata": {},
   "outputs": [
    {
     "data": {
      "text/html": [
       "<div>\n",
       "<style scoped>\n",
       "    .dataframe tbody tr th:only-of-type {\n",
       "        vertical-align: middle;\n",
       "    }\n",
       "\n",
       "    .dataframe tbody tr th {\n",
       "        vertical-align: top;\n",
       "    }\n",
       "\n",
       "    .dataframe thead th {\n",
       "        text-align: right;\n",
       "    }\n",
       "</style>\n",
       "<table border=\"1\" class=\"dataframe\">\n",
       "  <thead>\n",
       "    <tr style=\"text-align: right;\">\n",
       "      <th></th>\n",
       "      <th>A</th>\n",
       "      <th>B</th>\n",
       "      <th>C</th>\n",
       "      <th>D</th>\n",
       "      <th>E</th>\n",
       "    </tr>\n",
       "  </thead>\n",
       "  <tbody>\n",
       "    <tr>\n",
       "      <th>0</th>\n",
       "      <td>3.0</td>\n",
       "      <td>2.0</td>\n",
       "      <td>1.0</td>\n",
       "      <td>NaN</td>\n",
       "      <td>0.0</td>\n",
       "    </tr>\n",
       "    <tr>\n",
       "      <th>1</th>\n",
       "      <td>3.0</td>\n",
       "      <td>4.0</td>\n",
       "      <td>1.0</td>\n",
       "      <td>NaN</td>\n",
       "      <td>4.0</td>\n",
       "    </tr>\n",
       "    <tr>\n",
       "      <th>2</th>\n",
       "      <td>NaN</td>\n",
       "      <td>NaN</td>\n",
       "      <td>3.0</td>\n",
       "      <td>NaN</td>\n",
       "      <td>4.0</td>\n",
       "    </tr>\n",
       "    <tr>\n",
       "      <th>3</th>\n",
       "      <td>NaN</td>\n",
       "      <td>NaN</td>\n",
       "      <td>3.0</td>\n",
       "      <td>NaN</td>\n",
       "      <td>4.0</td>\n",
       "    </tr>\n",
       "  </tbody>\n",
       "</table>\n",
       "</div>"
      ],
      "text/plain": [
       "     A    B    C   D    E\n",
       "0  3.0  2.0  1.0 NaN  0.0\n",
       "1  3.0  4.0  1.0 NaN  4.0\n",
       "2  NaN  NaN  3.0 NaN  4.0\n",
       "3  NaN  NaN  3.0 NaN  4.0"
      ]
     },
     "execution_count": 5,
     "metadata": {},
     "output_type": "execute_result"
    }
   ],
   "source": [
    "df.bfill()"
   ]
  },
  {
   "cell_type": "code",
   "execution_count": 7,
   "metadata": {},
   "outputs": [
    {
     "data": {
      "text/html": [
       "<div>\n",
       "<style scoped>\n",
       "    .dataframe tbody tr th:only-of-type {\n",
       "        vertical-align: middle;\n",
       "    }\n",
       "\n",
       "    .dataframe tbody tr th {\n",
       "        vertical-align: top;\n",
       "    }\n",
       "\n",
       "    .dataframe thead th {\n",
       "        text-align: right;\n",
       "    }\n",
       "</style>\n",
       "<table border=\"1\" class=\"dataframe\">\n",
       "  <thead>\n",
       "    <tr style=\"text-align: right;\">\n",
       "      <th></th>\n",
       "      <th>A</th>\n",
       "      <th>B</th>\n",
       "      <th>C</th>\n",
       "      <th>D</th>\n",
       "      <th>E</th>\n",
       "    </tr>\n",
       "  </thead>\n",
       "  <tbody>\n",
       "    <tr>\n",
       "      <th>0</th>\n",
       "      <td>NaN</td>\n",
       "      <td>2.0</td>\n",
       "      <td>NaN</td>\n",
       "      <td>NaN</td>\n",
       "      <td>0.0</td>\n",
       "    </tr>\n",
       "    <tr>\n",
       "      <th>1</th>\n",
       "      <td>3.0</td>\n",
       "      <td>4.0</td>\n",
       "      <td>1.0</td>\n",
       "      <td>NaN</td>\n",
       "      <td>0.0</td>\n",
       "    </tr>\n",
       "    <tr>\n",
       "      <th>2</th>\n",
       "      <td>3.0</td>\n",
       "      <td>4.0</td>\n",
       "      <td>1.0</td>\n",
       "      <td>NaN</td>\n",
       "      <td>0.0</td>\n",
       "    </tr>\n",
       "    <tr>\n",
       "      <th>3</th>\n",
       "      <td>3.0</td>\n",
       "      <td>4.0</td>\n",
       "      <td>3.0</td>\n",
       "      <td>NaN</td>\n",
       "      <td>4.0</td>\n",
       "    </tr>\n",
       "  </tbody>\n",
       "</table>\n",
       "</div>"
      ],
      "text/plain": [
       "     A    B    C   D    E\n",
       "0  NaN  2.0  NaN NaN  0.0\n",
       "1  3.0  4.0  1.0 NaN  0.0\n",
       "2  3.0  4.0  1.0 NaN  0.0\n",
       "3  3.0  4.0  3.0 NaN  4.0"
      ]
     },
     "execution_count": 7,
     "metadata": {},
     "output_type": "execute_result"
    }
   ],
   "source": [
    "df.ffill()"
   ]
  },
  {
   "cell_type": "code",
   "execution_count": 8,
   "metadata": {},
   "outputs": [
    {
     "data": {
      "text/html": [
       "<div>\n",
       "<style scoped>\n",
       "    .dataframe tbody tr th:only-of-type {\n",
       "        vertical-align: middle;\n",
       "    }\n",
       "\n",
       "    .dataframe tbody tr th {\n",
       "        vertical-align: top;\n",
       "    }\n",
       "\n",
       "    .dataframe thead th {\n",
       "        text-align: right;\n",
       "    }\n",
       "</style>\n",
       "<table border=\"1\" class=\"dataframe\">\n",
       "  <thead>\n",
       "    <tr style=\"text-align: right;\">\n",
       "      <th></th>\n",
       "      <th>A</th>\n",
       "      <th>B</th>\n",
       "      <th>C</th>\n",
       "      <th>D</th>\n",
       "      <th>E</th>\n",
       "    </tr>\n",
       "  </thead>\n",
       "  <tbody>\n",
       "    <tr>\n",
       "      <th>0</th>\n",
       "      <td>0.0</td>\n",
       "      <td>2.0</td>\n",
       "      <td>0.0</td>\n",
       "      <td>0.0</td>\n",
       "      <td>0.0</td>\n",
       "    </tr>\n",
       "    <tr>\n",
       "      <th>1</th>\n",
       "      <td>3.0</td>\n",
       "      <td>4.0</td>\n",
       "      <td>1.0</td>\n",
       "      <td>0.0</td>\n",
       "      <td>0.0</td>\n",
       "    </tr>\n",
       "    <tr>\n",
       "      <th>2</th>\n",
       "      <td>0.0</td>\n",
       "      <td>0.0</td>\n",
       "      <td>0.0</td>\n",
       "      <td>0.0</td>\n",
       "      <td>0.0</td>\n",
       "    </tr>\n",
       "    <tr>\n",
       "      <th>3</th>\n",
       "      <td>0.0</td>\n",
       "      <td>0.0</td>\n",
       "      <td>3.0</td>\n",
       "      <td>0.0</td>\n",
       "      <td>4.0</td>\n",
       "    </tr>\n",
       "  </tbody>\n",
       "</table>\n",
       "</div>"
      ],
      "text/plain": [
       "     A    B    C    D    E\n",
       "0  0.0  2.0  0.0  0.0  0.0\n",
       "1  3.0  4.0  1.0  0.0  0.0\n",
       "2  0.0  0.0  0.0  0.0  0.0\n",
       "3  0.0  0.0  3.0  0.0  4.0"
      ]
     },
     "execution_count": 8,
     "metadata": {},
     "output_type": "execute_result"
    }
   ],
   "source": [
    "df.fillna(0)"
   ]
  },
  {
   "cell_type": "code",
   "execution_count": 9,
   "metadata": {},
   "outputs": [
    {
     "data": {
      "text/html": [
       "<div>\n",
       "<style scoped>\n",
       "    .dataframe tbody tr th:only-of-type {\n",
       "        vertical-align: middle;\n",
       "    }\n",
       "\n",
       "    .dataframe tbody tr th {\n",
       "        vertical-align: top;\n",
       "    }\n",
       "\n",
       "    .dataframe thead th {\n",
       "        text-align: right;\n",
       "    }\n",
       "</style>\n",
       "<table border=\"1\" class=\"dataframe\">\n",
       "  <thead>\n",
       "    <tr style=\"text-align: right;\">\n",
       "      <th></th>\n",
       "      <th>A</th>\n",
       "      <th>B</th>\n",
       "      <th>C</th>\n",
       "      <th>D</th>\n",
       "      <th>E</th>\n",
       "    </tr>\n",
       "  </thead>\n",
       "  <tbody>\n",
       "    <tr>\n",
       "      <th>0</th>\n",
       "      <td>2.0</td>\n",
       "      <td>2.0</td>\n",
       "      <td>0.0</td>\n",
       "      <td>2.0</td>\n",
       "      <td>0.0</td>\n",
       "    </tr>\n",
       "    <tr>\n",
       "      <th>1</th>\n",
       "      <td>3.0</td>\n",
       "      <td>4.0</td>\n",
       "      <td>1.0</td>\n",
       "      <td>2.0</td>\n",
       "      <td>1.0</td>\n",
       "    </tr>\n",
       "    <tr>\n",
       "      <th>2</th>\n",
       "      <td>2.0</td>\n",
       "      <td>3.0</td>\n",
       "      <td>0.0</td>\n",
       "      <td>2.0</td>\n",
       "      <td>1.0</td>\n",
       "    </tr>\n",
       "    <tr>\n",
       "      <th>3</th>\n",
       "      <td>2.0</td>\n",
       "      <td>3.0</td>\n",
       "      <td>3.0</td>\n",
       "      <td>2.0</td>\n",
       "      <td>4.0</td>\n",
       "    </tr>\n",
       "  </tbody>\n",
       "</table>\n",
       "</div>"
      ],
      "text/plain": [
       "     A    B    C    D    E\n",
       "0  2.0  2.0  0.0  2.0  0.0\n",
       "1  3.0  4.0  1.0  2.0  1.0\n",
       "2  2.0  3.0  0.0  2.0  1.0\n",
       "3  2.0  3.0  3.0  2.0  4.0"
      ]
     },
     "execution_count": 9,
     "metadata": {},
     "output_type": "execute_result"
    }
   ],
   "source": [
    "df.fillna({'A':2,'B':3,'C':0,'D':2,'E':1})"
   ]
  },
  {
   "cell_type": "code",
   "execution_count": null,
   "metadata": {},
   "outputs": [],
   "source": [
    "df"
   ]
  },
  {
   "cell_type": "code",
   "execution_count": 10,
   "metadata": {},
   "outputs": [
    {
     "data": {
      "text/html": [
       "<div>\n",
       "<style scoped>\n",
       "    .dataframe tbody tr th:only-of-type {\n",
       "        vertical-align: middle;\n",
       "    }\n",
       "\n",
       "    .dataframe tbody tr th {\n",
       "        vertical-align: top;\n",
       "    }\n",
       "\n",
       "    .dataframe thead th {\n",
       "        text-align: right;\n",
       "    }\n",
       "</style>\n",
       "<table border=\"1\" class=\"dataframe\">\n",
       "  <thead>\n",
       "    <tr style=\"text-align: right;\">\n",
       "      <th></th>\n",
       "      <th>A</th>\n",
       "      <th>B</th>\n",
       "      <th>C</th>\n",
       "      <th>D</th>\n",
       "      <th>E</th>\n",
       "    </tr>\n",
       "  </thead>\n",
       "  <tbody>\n",
       "    <tr>\n",
       "      <th>0</th>\n",
       "      <td>NaN</td>\n",
       "      <td>2.0</td>\n",
       "      <td>NaN</td>\n",
       "      <td>NaN</td>\n",
       "      <td>0.000000</td>\n",
       "    </tr>\n",
       "    <tr>\n",
       "      <th>1</th>\n",
       "      <td>3.0</td>\n",
       "      <td>4.0</td>\n",
       "      <td>1.0</td>\n",
       "      <td>NaN</td>\n",
       "      <td>1.333333</td>\n",
       "    </tr>\n",
       "    <tr>\n",
       "      <th>2</th>\n",
       "      <td>3.0</td>\n",
       "      <td>4.0</td>\n",
       "      <td>2.0</td>\n",
       "      <td>NaN</td>\n",
       "      <td>2.666667</td>\n",
       "    </tr>\n",
       "    <tr>\n",
       "      <th>3</th>\n",
       "      <td>3.0</td>\n",
       "      <td>4.0</td>\n",
       "      <td>3.0</td>\n",
       "      <td>NaN</td>\n",
       "      <td>4.000000</td>\n",
       "    </tr>\n",
       "  </tbody>\n",
       "</table>\n",
       "</div>"
      ],
      "text/plain": [
       "     A    B    C   D         E\n",
       "0  NaN  2.0  NaN NaN  0.000000\n",
       "1  3.0  4.0  1.0 NaN  1.333333\n",
       "2  3.0  4.0  2.0 NaN  2.666667\n",
       "3  3.0  4.0  3.0 NaN  4.000000"
      ]
     },
     "execution_count": 10,
     "metadata": {},
     "output_type": "execute_result"
    }
   ],
   "source": [
    "df.interpolate()"
   ]
  },
  {
   "cell_type": "code",
   "execution_count": 11,
   "metadata": {},
   "outputs": [
    {
     "data": {
      "text/html": [
       "<div>\n",
       "<style scoped>\n",
       "    .dataframe tbody tr th:only-of-type {\n",
       "        vertical-align: middle;\n",
       "    }\n",
       "\n",
       "    .dataframe tbody tr th {\n",
       "        vertical-align: top;\n",
       "    }\n",
       "\n",
       "    .dataframe thead th {\n",
       "        text-align: right;\n",
       "    }\n",
       "</style>\n",
       "<table border=\"1\" class=\"dataframe\">\n",
       "  <thead>\n",
       "    <tr style=\"text-align: right;\">\n",
       "      <th></th>\n",
       "      <th>A</th>\n",
       "      <th>B</th>\n",
       "      <th>C</th>\n",
       "      <th>D</th>\n",
       "      <th>E</th>\n",
       "    </tr>\n",
       "  </thead>\n",
       "  <tbody>\n",
       "    <tr>\n",
       "      <th>0</th>\n",
       "      <td>NaN</td>\n",
       "      <td>2.0</td>\n",
       "      <td>1.333333</td>\n",
       "      <td>0.666667</td>\n",
       "      <td>0.0</td>\n",
       "    </tr>\n",
       "    <tr>\n",
       "      <th>1</th>\n",
       "      <td>3.0</td>\n",
       "      <td>4.0</td>\n",
       "      <td>1.000000</td>\n",
       "      <td>1.000000</td>\n",
       "      <td>1.0</td>\n",
       "    </tr>\n",
       "    <tr>\n",
       "      <th>2</th>\n",
       "      <td>NaN</td>\n",
       "      <td>NaN</td>\n",
       "      <td>NaN</td>\n",
       "      <td>NaN</td>\n",
       "      <td>NaN</td>\n",
       "    </tr>\n",
       "    <tr>\n",
       "      <th>3</th>\n",
       "      <td>NaN</td>\n",
       "      <td>NaN</td>\n",
       "      <td>3.000000</td>\n",
       "      <td>3.500000</td>\n",
       "      <td>4.0</td>\n",
       "    </tr>\n",
       "  </tbody>\n",
       "</table>\n",
       "</div>"
      ],
      "text/plain": [
       "     A    B         C         D    E\n",
       "0  NaN  2.0  1.333333  0.666667  0.0\n",
       "1  3.0  4.0  1.000000  1.000000  1.0\n",
       "2  NaN  NaN       NaN       NaN  NaN\n",
       "3  NaN  NaN  3.000000  3.500000  4.0"
      ]
     },
     "execution_count": 11,
     "metadata": {},
     "output_type": "execute_result"
    }
   ],
   "source": [
    "# default linear -> 일차\n",
    "df.interpolate(method='linear',axis=1)"
   ]
  },
  {
   "cell_type": "code",
   "execution_count": 16,
   "metadata": {},
   "outputs": [
    {
     "ename": "ValueError",
     "evalue": "The number of derivatives at boundaries does not match: expected 1, got 0+0",
     "output_type": "error",
     "traceback": [
      "\u001b[1;31m---------------------------------------------------------------------------\u001b[0m",
      "\u001b[1;31mValueError\u001b[0m                                Traceback (most recent call last)",
      "Cell \u001b[1;32mIn[16], line 1\u001b[0m\n\u001b[1;32m----> 1\u001b[0m df[\u001b[38;5;124m'\u001b[39m\u001b[38;5;124mB\u001b[39m\u001b[38;5;124m'\u001b[39m]\u001b[38;5;241m.\u001b[39minterpolate(method\u001b[38;5;241m=\u001b[39m\u001b[38;5;124m'\u001b[39m\u001b[38;5;124mpolynomial\u001b[39m\u001b[38;5;124m'\u001b[39m,order\u001b[38;5;241m=\u001b[39m\u001b[38;5;241m2\u001b[39m)\n",
      "File \u001b[1;32mC:\\ProgramData\\anaconda3\\Lib\\site-packages\\pandas\\core\\generic.py:8206\u001b[0m, in \u001b[0;36mNDFrame.interpolate\u001b[1;34m(self, method, axis, limit, inplace, limit_direction, limit_area, downcast, **kwargs)\u001b[0m\n\u001b[0;32m   8204\u001b[0m \u001b[38;5;28;01melse\u001b[39;00m:\n\u001b[0;32m   8205\u001b[0m     index \u001b[38;5;241m=\u001b[39m missing\u001b[38;5;241m.\u001b[39mget_interp_index(method, obj\u001b[38;5;241m.\u001b[39mindex)\n\u001b[1;32m-> 8206\u001b[0m     new_data \u001b[38;5;241m=\u001b[39m obj\u001b[38;5;241m.\u001b[39m_mgr\u001b[38;5;241m.\u001b[39minterpolate(\n\u001b[0;32m   8207\u001b[0m         method\u001b[38;5;241m=\u001b[39mmethod,\n\u001b[0;32m   8208\u001b[0m         index\u001b[38;5;241m=\u001b[39mindex,\n\u001b[0;32m   8209\u001b[0m         limit\u001b[38;5;241m=\u001b[39mlimit,\n\u001b[0;32m   8210\u001b[0m         limit_direction\u001b[38;5;241m=\u001b[39mlimit_direction,\n\u001b[0;32m   8211\u001b[0m         limit_area\u001b[38;5;241m=\u001b[39mlimit_area,\n\u001b[0;32m   8212\u001b[0m         inplace\u001b[38;5;241m=\u001b[39minplace,\n\u001b[0;32m   8213\u001b[0m         downcast\u001b[38;5;241m=\u001b[39mdowncast,\n\u001b[0;32m   8214\u001b[0m         \u001b[38;5;241m*\u001b[39m\u001b[38;5;241m*\u001b[39mkwargs,\n\u001b[0;32m   8215\u001b[0m     )\n\u001b[0;32m   8217\u001b[0m result \u001b[38;5;241m=\u001b[39m \u001b[38;5;28mself\u001b[39m\u001b[38;5;241m.\u001b[39m_constructor_from_mgr(new_data, axes\u001b[38;5;241m=\u001b[39mnew_data\u001b[38;5;241m.\u001b[39maxes)\n\u001b[0;32m   8218\u001b[0m \u001b[38;5;28;01mif\u001b[39;00m should_transpose:\n",
      "File \u001b[1;32mC:\\ProgramData\\anaconda3\\Lib\\site-packages\\pandas\\core\\internals\\base.py:265\u001b[0m, in \u001b[0;36mDataManager.interpolate\u001b[1;34m(self, inplace, **kwargs)\u001b[0m\n\u001b[0;32m    264\u001b[0m \u001b[38;5;28;01mdef\u001b[39;00m \u001b[38;5;21minterpolate\u001b[39m(\u001b[38;5;28mself\u001b[39m, inplace: \u001b[38;5;28mbool\u001b[39m, \u001b[38;5;241m*\u001b[39m\u001b[38;5;241m*\u001b[39mkwargs) \u001b[38;5;241m-\u001b[39m\u001b[38;5;241m>\u001b[39m Self:\n\u001b[1;32m--> 265\u001b[0m     \u001b[38;5;28;01mreturn\u001b[39;00m \u001b[38;5;28mself\u001b[39m\u001b[38;5;241m.\u001b[39mapply_with_block(\n\u001b[0;32m    266\u001b[0m         \u001b[38;5;124m\"\u001b[39m\u001b[38;5;124minterpolate\u001b[39m\u001b[38;5;124m\"\u001b[39m, inplace\u001b[38;5;241m=\u001b[39minplace, \u001b[38;5;241m*\u001b[39m\u001b[38;5;241m*\u001b[39mkwargs, using_cow\u001b[38;5;241m=\u001b[39musing_copy_on_write()\n\u001b[0;32m    267\u001b[0m     )\n",
      "File \u001b[1;32mC:\\ProgramData\\anaconda3\\Lib\\site-packages\\pandas\\core\\internals\\managers.py:354\u001b[0m, in \u001b[0;36mBaseBlockManager.apply\u001b[1;34m(self, f, align_keys, **kwargs)\u001b[0m\n\u001b[0;32m    352\u001b[0m         applied \u001b[38;5;241m=\u001b[39m b\u001b[38;5;241m.\u001b[39mapply(f, \u001b[38;5;241m*\u001b[39m\u001b[38;5;241m*\u001b[39mkwargs)\n\u001b[0;32m    353\u001b[0m     \u001b[38;5;28;01melse\u001b[39;00m:\n\u001b[1;32m--> 354\u001b[0m         applied \u001b[38;5;241m=\u001b[39m \u001b[38;5;28mgetattr\u001b[39m(b, f)(\u001b[38;5;241m*\u001b[39m\u001b[38;5;241m*\u001b[39mkwargs)\n\u001b[0;32m    355\u001b[0m     result_blocks \u001b[38;5;241m=\u001b[39m extend_blocks(applied, result_blocks)\n\u001b[0;32m    357\u001b[0m out \u001b[38;5;241m=\u001b[39m \u001b[38;5;28mtype\u001b[39m(\u001b[38;5;28mself\u001b[39m)\u001b[38;5;241m.\u001b[39mfrom_blocks(result_blocks, \u001b[38;5;28mself\u001b[39m\u001b[38;5;241m.\u001b[39maxes)\n",
      "File \u001b[1;32mC:\\ProgramData\\anaconda3\\Lib\\site-packages\\pandas\\core\\internals\\blocks.py:1507\u001b[0m, in \u001b[0;36mBlock.interpolate\u001b[1;34m(self, method, index, inplace, limit, limit_direction, limit_area, downcast, using_cow, **kwargs)\u001b[0m\n\u001b[0;32m   1504\u001b[0m copy, refs \u001b[38;5;241m=\u001b[39m \u001b[38;5;28mself\u001b[39m\u001b[38;5;241m.\u001b[39m_get_refs_and_copy(using_cow, inplace)\n\u001b[0;32m   1506\u001b[0m \u001b[38;5;66;03m# Dispatch to the EA method.\u001b[39;00m\n\u001b[1;32m-> 1507\u001b[0m new_values \u001b[38;5;241m=\u001b[39m \u001b[38;5;28mself\u001b[39m\u001b[38;5;241m.\u001b[39marray_values\u001b[38;5;241m.\u001b[39minterpolate(\n\u001b[0;32m   1508\u001b[0m     method\u001b[38;5;241m=\u001b[39mmethod,\n\u001b[0;32m   1509\u001b[0m     axis\u001b[38;5;241m=\u001b[39m\u001b[38;5;28mself\u001b[39m\u001b[38;5;241m.\u001b[39mndim \u001b[38;5;241m-\u001b[39m \u001b[38;5;241m1\u001b[39m,\n\u001b[0;32m   1510\u001b[0m     index\u001b[38;5;241m=\u001b[39mindex,\n\u001b[0;32m   1511\u001b[0m     limit\u001b[38;5;241m=\u001b[39mlimit,\n\u001b[0;32m   1512\u001b[0m     limit_direction\u001b[38;5;241m=\u001b[39mlimit_direction,\n\u001b[0;32m   1513\u001b[0m     limit_area\u001b[38;5;241m=\u001b[39mlimit_area,\n\u001b[0;32m   1514\u001b[0m     copy\u001b[38;5;241m=\u001b[39mcopy,\n\u001b[0;32m   1515\u001b[0m     \u001b[38;5;241m*\u001b[39m\u001b[38;5;241m*\u001b[39mkwargs,\n\u001b[0;32m   1516\u001b[0m )\n\u001b[0;32m   1517\u001b[0m data \u001b[38;5;241m=\u001b[39m extract_array(new_values, extract_numpy\u001b[38;5;241m=\u001b[39m\u001b[38;5;28;01mTrue\u001b[39;00m)\n\u001b[0;32m   1519\u001b[0m nb \u001b[38;5;241m=\u001b[39m \u001b[38;5;28mself\u001b[39m\u001b[38;5;241m.\u001b[39mmake_block_same_class(data, refs\u001b[38;5;241m=\u001b[39mrefs)\n",
      "File \u001b[1;32mC:\\ProgramData\\anaconda3\\Lib\\site-packages\\pandas\\core\\arrays\\numpy_.py:297\u001b[0m, in \u001b[0;36mNumpyExtensionArray.interpolate\u001b[1;34m(self, method, axis, index, limit, limit_direction, limit_area, copy, **kwargs)\u001b[0m\n\u001b[0;32m    294\u001b[0m     out_data \u001b[38;5;241m=\u001b[39m \u001b[38;5;28mself\u001b[39m\u001b[38;5;241m.\u001b[39m_ndarray\u001b[38;5;241m.\u001b[39mcopy()\n\u001b[0;32m    296\u001b[0m \u001b[38;5;66;03m# TODO: assert we have floating dtype?\u001b[39;00m\n\u001b[1;32m--> 297\u001b[0m missing\u001b[38;5;241m.\u001b[39minterpolate_2d_inplace(\n\u001b[0;32m    298\u001b[0m     out_data,\n\u001b[0;32m    299\u001b[0m     method\u001b[38;5;241m=\u001b[39mmethod,\n\u001b[0;32m    300\u001b[0m     axis\u001b[38;5;241m=\u001b[39maxis,\n\u001b[0;32m    301\u001b[0m     index\u001b[38;5;241m=\u001b[39mindex,\n\u001b[0;32m    302\u001b[0m     limit\u001b[38;5;241m=\u001b[39mlimit,\n\u001b[0;32m    303\u001b[0m     limit_direction\u001b[38;5;241m=\u001b[39mlimit_direction,\n\u001b[0;32m    304\u001b[0m     limit_area\u001b[38;5;241m=\u001b[39mlimit_area,\n\u001b[0;32m    305\u001b[0m     \u001b[38;5;241m*\u001b[39m\u001b[38;5;241m*\u001b[39mkwargs,\n\u001b[0;32m    306\u001b[0m )\n\u001b[0;32m    307\u001b[0m \u001b[38;5;28;01mif\u001b[39;00m \u001b[38;5;129;01mnot\u001b[39;00m copy:\n\u001b[0;32m    308\u001b[0m     \u001b[38;5;28;01mreturn\u001b[39;00m \u001b[38;5;28mself\u001b[39m\n",
      "File \u001b[1;32mC:\\ProgramData\\anaconda3\\Lib\\site-packages\\pandas\\core\\missing.py:370\u001b[0m, in \u001b[0;36minterpolate_2d_inplace\u001b[1;34m(data, index, axis, method, limit, limit_direction, limit_area, fill_value, **kwargs)\u001b[0m\n\u001b[0;32m    352\u001b[0m     _interpolate_1d(\n\u001b[0;32m    353\u001b[0m         indices\u001b[38;5;241m=\u001b[39mindices,\n\u001b[0;32m    354\u001b[0m         yvalues\u001b[38;5;241m=\u001b[39myvalues,\n\u001b[1;32m   (...)\u001b[0m\n\u001b[0;32m    361\u001b[0m         \u001b[38;5;241m*\u001b[39m\u001b[38;5;241m*\u001b[39mkwargs,\n\u001b[0;32m    362\u001b[0m     )\n\u001b[0;32m    364\u001b[0m \u001b[38;5;66;03m# error: Argument 1 to \"apply_along_axis\" has incompatible type\u001b[39;00m\n\u001b[0;32m    365\u001b[0m \u001b[38;5;66;03m# \"Callable[[ndarray[Any, Any]], None]\"; expected \"Callable[...,\u001b[39;00m\n\u001b[0;32m    366\u001b[0m \u001b[38;5;66;03m# Union[_SupportsArray[dtype[<nothing>]], Sequence[_SupportsArray\u001b[39;00m\n\u001b[0;32m    367\u001b[0m \u001b[38;5;66;03m# [dtype[<nothing>]]], Sequence[Sequence[_SupportsArray[dtype[<nothing>]]]],\u001b[39;00m\n\u001b[0;32m    368\u001b[0m \u001b[38;5;66;03m# Sequence[Sequence[Sequence[_SupportsArray[dtype[<nothing>]]]]],\u001b[39;00m\n\u001b[0;32m    369\u001b[0m \u001b[38;5;66;03m# Sequence[Sequence[Sequence[Sequence[_SupportsArray[dtype[<nothing>]]]]]]]]\"\u001b[39;00m\n\u001b[1;32m--> 370\u001b[0m np\u001b[38;5;241m.\u001b[39mapply_along_axis(func, axis, data)\n",
      "File \u001b[1;32mC:\\ProgramData\\anaconda3\\Lib\\site-packages\\numpy\\lib\\shape_base.py:379\u001b[0m, in \u001b[0;36mapply_along_axis\u001b[1;34m(func1d, axis, arr, *args, **kwargs)\u001b[0m\n\u001b[0;32m    375\u001b[0m \u001b[38;5;28;01mexcept\u001b[39;00m \u001b[38;5;167;01mStopIteration\u001b[39;00m:\n\u001b[0;32m    376\u001b[0m     \u001b[38;5;28;01mraise\u001b[39;00m \u001b[38;5;167;01mValueError\u001b[39;00m(\n\u001b[0;32m    377\u001b[0m         \u001b[38;5;124m'\u001b[39m\u001b[38;5;124mCannot apply_along_axis when any iteration dimensions are 0\u001b[39m\u001b[38;5;124m'\u001b[39m\n\u001b[0;32m    378\u001b[0m     ) \u001b[38;5;28;01mfrom\u001b[39;00m \u001b[38;5;28;01mNone\u001b[39;00m\n\u001b[1;32m--> 379\u001b[0m res \u001b[38;5;241m=\u001b[39m asanyarray(func1d(inarr_view[ind0], \u001b[38;5;241m*\u001b[39margs, \u001b[38;5;241m*\u001b[39m\u001b[38;5;241m*\u001b[39mkwargs))\n\u001b[0;32m    381\u001b[0m \u001b[38;5;66;03m# build a buffer for storing evaluations of func1d.\u001b[39;00m\n\u001b[0;32m    382\u001b[0m \u001b[38;5;66;03m# remove the requested axis, and add the new ones on the end.\u001b[39;00m\n\u001b[0;32m    383\u001b[0m \u001b[38;5;66;03m# laid out so that each write is contiguous.\u001b[39;00m\n\u001b[0;32m    384\u001b[0m \u001b[38;5;66;03m# for a tuple index inds, buff[inds] = func1d(inarr_view[inds])\u001b[39;00m\n\u001b[0;32m    385\u001b[0m buff \u001b[38;5;241m=\u001b[39m zeros(inarr_view\u001b[38;5;241m.\u001b[39mshape[:\u001b[38;5;241m-\u001b[39m\u001b[38;5;241m1\u001b[39m] \u001b[38;5;241m+\u001b[39m res\u001b[38;5;241m.\u001b[39mshape, res\u001b[38;5;241m.\u001b[39mdtype)\n",
      "File \u001b[1;32mC:\\ProgramData\\anaconda3\\Lib\\site-packages\\pandas\\core\\missing.py:352\u001b[0m, in \u001b[0;36minterpolate_2d_inplace.<locals>.func\u001b[1;34m(yvalues)\u001b[0m\n\u001b[0;32m    349\u001b[0m \u001b[38;5;28;01mdef\u001b[39;00m \u001b[38;5;21mfunc\u001b[39m(yvalues: np\u001b[38;5;241m.\u001b[39mndarray) \u001b[38;5;241m-\u001b[39m\u001b[38;5;241m>\u001b[39m \u001b[38;5;28;01mNone\u001b[39;00m:\n\u001b[0;32m    350\u001b[0m     \u001b[38;5;66;03m# process 1-d slices in the axis direction\u001b[39;00m\n\u001b[1;32m--> 352\u001b[0m     _interpolate_1d(\n\u001b[0;32m    353\u001b[0m         indices\u001b[38;5;241m=\u001b[39mindices,\n\u001b[0;32m    354\u001b[0m         yvalues\u001b[38;5;241m=\u001b[39myvalues,\n\u001b[0;32m    355\u001b[0m         method\u001b[38;5;241m=\u001b[39mmethod,\n\u001b[0;32m    356\u001b[0m         limit\u001b[38;5;241m=\u001b[39mlimit,\n\u001b[0;32m    357\u001b[0m         limit_direction\u001b[38;5;241m=\u001b[39mlimit_direction,\n\u001b[0;32m    358\u001b[0m         limit_area\u001b[38;5;241m=\u001b[39mlimit_area_validated,\n\u001b[0;32m    359\u001b[0m         fill_value\u001b[38;5;241m=\u001b[39mfill_value,\n\u001b[0;32m    360\u001b[0m         bounds_error\u001b[38;5;241m=\u001b[39m\u001b[38;5;28;01mFalse\u001b[39;00m,\n\u001b[0;32m    361\u001b[0m         \u001b[38;5;241m*\u001b[39m\u001b[38;5;241m*\u001b[39mkwargs,\n\u001b[0;32m    362\u001b[0m     )\n",
      "File \u001b[1;32mC:\\ProgramData\\anaconda3\\Lib\\site-packages\\pandas\\core\\missing.py:485\u001b[0m, in \u001b[0;36m_interpolate_1d\u001b[1;34m(indices, yvalues, method, limit, limit_direction, limit_area, fill_value, bounds_error, order, **kwargs)\u001b[0m\n\u001b[0;32m    481\u001b[0m     yvalues[invalid] \u001b[38;5;241m=\u001b[39m np\u001b[38;5;241m.\u001b[39minterp(\n\u001b[0;32m    482\u001b[0m         indices[invalid], indices[valid][indexer], yvalues[valid][indexer]\n\u001b[0;32m    483\u001b[0m     )\n\u001b[0;32m    484\u001b[0m \u001b[38;5;28;01melse\u001b[39;00m:\n\u001b[1;32m--> 485\u001b[0m     yvalues[invalid] \u001b[38;5;241m=\u001b[39m _interpolate_scipy_wrapper(\n\u001b[0;32m    486\u001b[0m         indices[valid],\n\u001b[0;32m    487\u001b[0m         yvalues[valid],\n\u001b[0;32m    488\u001b[0m         indices[invalid],\n\u001b[0;32m    489\u001b[0m         method\u001b[38;5;241m=\u001b[39mmethod,\n\u001b[0;32m    490\u001b[0m         fill_value\u001b[38;5;241m=\u001b[39mfill_value,\n\u001b[0;32m    491\u001b[0m         bounds_error\u001b[38;5;241m=\u001b[39mbounds_error,\n\u001b[0;32m    492\u001b[0m         order\u001b[38;5;241m=\u001b[39morder,\n\u001b[0;32m    493\u001b[0m         \u001b[38;5;241m*\u001b[39m\u001b[38;5;241m*\u001b[39mkwargs,\n\u001b[0;32m    494\u001b[0m     )\n\u001b[0;32m    496\u001b[0m \u001b[38;5;28;01mif\u001b[39;00m is_datetimelike:\n\u001b[0;32m    497\u001b[0m     yvalues[preserve_nans] \u001b[38;5;241m=\u001b[39m NaT\u001b[38;5;241m.\u001b[39mvalue\n",
      "File \u001b[1;32mC:\\ProgramData\\anaconda3\\Lib\\site-packages\\pandas\\core\\missing.py:548\u001b[0m, in \u001b[0;36m_interpolate_scipy_wrapper\u001b[1;34m(x, y, new_x, method, fill_value, bounds_error, order, **kwargs)\u001b[0m\n\u001b[0;32m    546\u001b[0m     \u001b[38;5;28;01melse\u001b[39;00m:\n\u001b[0;32m    547\u001b[0m         kind \u001b[38;5;241m=\u001b[39m method\n\u001b[1;32m--> 548\u001b[0m     terp \u001b[38;5;241m=\u001b[39m interpolate\u001b[38;5;241m.\u001b[39minterp1d(\n\u001b[0;32m    549\u001b[0m         x, y, kind\u001b[38;5;241m=\u001b[39mkind, fill_value\u001b[38;5;241m=\u001b[39mfill_value, bounds_error\u001b[38;5;241m=\u001b[39mbounds_error\n\u001b[0;32m    550\u001b[0m     )\n\u001b[0;32m    551\u001b[0m     new_y \u001b[38;5;241m=\u001b[39m terp(new_x)\n\u001b[0;32m    552\u001b[0m \u001b[38;5;28;01melif\u001b[39;00m method \u001b[38;5;241m==\u001b[39m \u001b[38;5;124m\"\u001b[39m\u001b[38;5;124mspline\u001b[39m\u001b[38;5;124m\"\u001b[39m:\n\u001b[0;32m    553\u001b[0m     \u001b[38;5;66;03m# GH #10633, #24014\u001b[39;00m\n",
      "File \u001b[1;32mC:\\ProgramData\\anaconda3\\Lib\\site-packages\\scipy\\interpolate\\_interpolate.py:619\u001b[0m, in \u001b[0;36minterp1d.__init__\u001b[1;34m(***failed resolving arguments***)\u001b[0m\n\u001b[0;32m    616\u001b[0m         yy \u001b[38;5;241m=\u001b[39m np\u001b[38;5;241m.\u001b[39mones_like(\u001b[38;5;28mself\u001b[39m\u001b[38;5;241m.\u001b[39m_y)\n\u001b[0;32m    617\u001b[0m         rewrite_nan \u001b[38;5;241m=\u001b[39m \u001b[38;5;28;01mTrue\u001b[39;00m\n\u001b[1;32m--> 619\u001b[0m \u001b[38;5;28mself\u001b[39m\u001b[38;5;241m.\u001b[39m_spline \u001b[38;5;241m=\u001b[39m make_interp_spline(xx, yy, k\u001b[38;5;241m=\u001b[39morder,\n\u001b[0;32m    620\u001b[0m                                   check_finite\u001b[38;5;241m=\u001b[39m\u001b[38;5;28;01mFalse\u001b[39;00m)\n\u001b[0;32m    621\u001b[0m \u001b[38;5;28;01mif\u001b[39;00m rewrite_nan:\n\u001b[0;32m    622\u001b[0m     \u001b[38;5;28mself\u001b[39m\u001b[38;5;241m.\u001b[39m_call \u001b[38;5;241m=\u001b[39m \u001b[38;5;28mself\u001b[39m\u001b[38;5;241m.\u001b[39m\u001b[38;5;18m__class__\u001b[39m\u001b[38;5;241m.\u001b[39m_call_nan_spline\n",
      "File \u001b[1;32mC:\\ProgramData\\anaconda3\\Lib\\site-packages\\scipy\\interpolate\\_bsplines.py:1373\u001b[0m, in \u001b[0;36mmake_interp_spline\u001b[1;34m(x, y, k, t, bc_type, axis, check_finite)\u001b[0m\n\u001b[0;32m   1370\u001b[0m nt \u001b[38;5;241m=\u001b[39m t\u001b[38;5;241m.\u001b[39msize \u001b[38;5;241m-\u001b[39m k \u001b[38;5;241m-\u001b[39m \u001b[38;5;241m1\u001b[39m\n\u001b[0;32m   1372\u001b[0m \u001b[38;5;28;01mif\u001b[39;00m nt \u001b[38;5;241m-\u001b[39m n \u001b[38;5;241m!=\u001b[39m nleft \u001b[38;5;241m+\u001b[39m nright:\n\u001b[1;32m-> 1373\u001b[0m     \u001b[38;5;28;01mraise\u001b[39;00m \u001b[38;5;167;01mValueError\u001b[39;00m(\u001b[38;5;124m\"\u001b[39m\u001b[38;5;124mThe number of derivatives at boundaries does not \u001b[39m\u001b[38;5;124m\"\u001b[39m\n\u001b[0;32m   1374\u001b[0m                      \u001b[38;5;124m\"\u001b[39m\u001b[38;5;124mmatch: expected \u001b[39m\u001b[38;5;132;01m{}\u001b[39;00m\u001b[38;5;124m, got \u001b[39m\u001b[38;5;132;01m{}\u001b[39;00m\u001b[38;5;124m+\u001b[39m\u001b[38;5;132;01m{}\u001b[39;00m\u001b[38;5;124m\"\u001b[39m\u001b[38;5;241m.\u001b[39mformat(nt\u001b[38;5;241m-\u001b[39mn, nleft, nright))\n\u001b[0;32m   1376\u001b[0m \u001b[38;5;66;03m# bail out if the `y` array is zero-sized\u001b[39;00m\n\u001b[0;32m   1377\u001b[0m \u001b[38;5;28;01mif\u001b[39;00m y\u001b[38;5;241m.\u001b[39msize \u001b[38;5;241m==\u001b[39m \u001b[38;5;241m0\u001b[39m:\n",
      "\u001b[1;31mValueError\u001b[0m: The number of derivatives at boundaries does not match: expected 1, got 0+0"
     ]
    }
   ],
   "source": [
    "df['B'].interpolate(method='polynomial',order=2)"
   ]
  },
  {
   "attachments": {},
   "cell_type": "markdown",
   "metadata": {},
   "source": [
    "### 1-2. 정규표현식(regular expression)\n",
    "\n",
    "- 정규표현식은 복잡한 문자열을 처리할 때 사용하는 기법\n",
    "- 문자열을 처리하는 모든 곳에 사용하는 일종의 형식 언어"
   ]
  },
  {
   "cell_type": "markdown",
   "metadata": {},
   "source": [
    "#### 1) 정규표현식의 필요성\n",
    "\n",
    "문제. 주민등록번호를 포함하고 있는 텍스트에서 모든 주민등록번호 뒷자리를 * 문자로 변경하시오."
   ]
  },
  {
   "cell_type": "code",
   "execution_count": 3,
   "metadata": {},
   "outputs": [],
   "source": [
    "data = '''park 700105-1049118\n",
    "choi 901010-1234103\n",
    "kim  800905-2039104\n",
    "kang 650192-1029310\n",
    "seo  001023-3019301\n",
    "han  020113-4029481'''"
   ]
  },
  {
   "cell_type": "markdown",
   "metadata": {},
   "source": [
    "정규표현식을 모르는 경우 프로그램 작성 과정\n",
    "\n",
    "1. 전체텍스트를 공백 문자로 나눈다(split)\n",
    "2. 나뉜 단어가 주민등록번호 형식인지 조사한다\n",
    "3. 단어가 주민등록번호 형식이라면 뒷자리를 *로 변환한다\n",
    "4. 나뉜 단어를 다시 조립한다"
   ]
  },
  {
   "cell_type": "code",
   "execution_count": 4,
   "metadata": {},
   "outputs": [
    {
     "data": {
      "text/plain": [
       "'park 700105-******* choi 901010-******* kim 800905-******* kang 650192-******* seo 001023-******* han 020113-*******'"
      ]
     },
     "execution_count": 4,
     "metadata": {},
     "output_type": "execute_result"
    }
   ],
   "source": [
    "num = data.split()\n",
    "for i in range(len(num)):\n",
    "    if len(num[i]) == 14:\n",
    "        num[i] = num[i][:7] + '*'*7\n",
    "data1 = ' '.join(num)\n",
    "data1"
   ]
  },
  {
   "cell_type": "markdown",
   "metadata": {},
   "source": [
    "정규표현식을 사용하는 경우"
   ]
  },
  {
   "cell_type": "code",
   "execution_count": 2,
   "metadata": {},
   "outputs": [],
   "source": [
    "import re"
   ]
  },
  {
   "cell_type": "code",
   "execution_count": 30,
   "metadata": {},
   "outputs": [
    {
     "data": {
      "text/plain": [
       "'park 700105-*******\\nchoi 901010-*******\\nkim  800905-*******\\nkang 650192-*******\\nseo  001023-*******\\nhan  020113-*******'"
      ]
     },
     "execution_count": 30,
     "metadata": {},
     "output_type": "execute_result"
    }
   ],
   "source": [
    "# complie -> 찾기, sub-> 바꾸기 / \\d -> 숫자\n",
    "pattern = re.compile('(\\d{6})[-]\\d{7}')\n",
    "pattern.sub('\\g<1>-*******', data)"
   ]
  },
  {
   "cell_type": "markdown",
   "metadata": {},
   "source": [
    "#### 2) 정규표현식 모듈 **re**"
   ]
  },
  {
   "cell_type": "markdown",
   "metadata": {},
   "source": [
    "- re(regular expression) 모듈\n",
    "- 파이썬 내장 표준 라이브러리\n",
    "- https://docs.python.org/ko/3/library/re.html"
   ]
  },
  {
   "cell_type": "markdown",
   "metadata": {},
   "source": [
    "- `re` 모듈 임포트\n",
    "\n",
    "```python\n",
    "import re\n",
    "```"
   ]
  },
  {
   "cell_type": "markdown",
   "metadata": {},
   "source": [
    "#### 3) re.compile() 함수\n",
    "\n",
    "```python\n",
    "re.compile(pattern, flags=0)\n",
    "```\n",
    "\n",
    "- 정규식 패턴을 정규식 객체로 컴파일 \n",
    "```python\n",
    "pattern = re.compile('ab*')\n",
    "```\n",
    "\n",
    "- compile로 생성된 정규식 패턴 객체는 match(), search(), findall(), finditer() 등 문자열 검색을 위한 메서드를 사용할 수 있음."
   ]
  },
  {
   "cell_type": "markdown",
   "metadata": {},
   "source": [
    "#### 4) 문자열 검색 메서드\n",
    "\n",
    "re.compile()로 생성된 패턴 객체를 이용하여 문자열을 검색하는 메서드\n",
    "\n",
    "**match()**\n",
    "- 문자열의 처음부터 정규식과 매칭되는지 조사\n",
    "- 정규식에 부합되면 match 객체 반환\n",
    "\n",
    "```python\n",
    "Pattern.match(string[, pos[, endpos]])\n",
    "```"
   ]
  },
  {
   "cell_type": "code",
   "execution_count": 32,
   "metadata": {},
   "outputs": [
    {
     "data": {
      "text/plain": [
       "<re.Match object; span=(0, 1), match='p'>"
      ]
     },
     "execution_count": 32,
     "metadata": {},
     "output_type": "execute_result"
    }
   ],
   "source": [
    "p=re.compile('[a-z]')\n",
    "p.match('python')"
   ]
  },
  {
   "cell_type": "code",
   "execution_count": 33,
   "metadata": {},
   "outputs": [
    {
     "data": {
      "text/plain": [
       "<re.Match object; span=(0, 1), match='a'>"
      ]
     },
     "execution_count": 33,
     "metadata": {},
     "output_type": "execute_result"
    }
   ],
   "source": [
    "p.match('a v 3 d')"
   ]
  },
  {
   "cell_type": "markdown",
   "metadata": {},
   "source": [
    "**search()**\n",
    "\n",
    "- match() 메서드와 동일\n",
    "- 문자열 전체를 검색하여 정규식과 패치되는지 조사\n",
    "\n",
    "```python\n",
    "Pattern.search(string[, pos[, endpos]])\n",
    "```"
   ]
  },
  {
   "cell_type": "code",
   "execution_count": 36,
   "metadata": {},
   "outputs": [
    {
     "data": {
      "text/plain": [
       "<re.Match object; span=(0, 1), match='d'>"
      ]
     },
     "execution_count": 36,
     "metadata": {},
     "output_type": "execute_result"
    }
   ],
   "source": [
    "p=re.compile('d')\n",
    "p.search('dog')"
   ]
  },
  {
   "cell_type": "code",
   "execution_count": 37,
   "metadata": {},
   "outputs": [
    {
     "name": "stdout",
     "output_type": "stream",
     "text": [
      "None\n"
     ]
    }
   ],
   "source": [
    "print(p.search('dog',1))"
   ]
  },
  {
   "cell_type": "code",
   "execution_count": 40,
   "metadata": {},
   "outputs": [
    {
     "data": {
      "text/plain": [
       "<re.Match object; span=(1, 2), match='y'>"
      ]
     },
     "execution_count": 40,
     "metadata": {},
     "output_type": "execute_result"
    }
   ],
   "source": [
    "p=re.compile('[a-z]')\n",
    "p.search('python',1)"
   ]
  },
  {
   "cell_type": "code",
   "execution_count": 43,
   "metadata": {},
   "outputs": [
    {
     "name": "stdout",
     "output_type": "stream",
     "text": [
      "None\n"
     ]
    }
   ],
   "source": [
    "# match -> 첫 글자가 패턴과 일치한지\n",
    "print(p.match('3 python'))"
   ]
  },
  {
   "cell_type": "code",
   "execution_count": 44,
   "metadata": {},
   "outputs": [
    {
     "data": {
      "text/plain": [
       "<re.Match object; span=(2, 3), match='p'>"
      ]
     },
     "execution_count": 44,
     "metadata": {},
     "output_type": "execute_result"
    }
   ],
   "source": [
    "# search -> 패턴과 일치한 문자 찾아주기\n",
    "p.search('3 python')"
   ]
  },
  {
   "cell_type": "markdown",
   "metadata": {},
   "source": [
    "**findall()**\n",
    "\n",
    "- 정규식과 매치되는 모든 문자열(substring)을 리스트로 반환\n",
    "```python\n",
    "Pattern.findall(string[, pos[, endpos]])\n",
    "```"
   ]
  },
  {
   "cell_type": "code",
   "execution_count": 46,
   "metadata": {},
   "outputs": [
    {
     "data": {
      "text/plain": [
       "['ife', 'is', 'too', 'short']"
      ]
     },
     "execution_count": 46,
     "metadata": {},
     "output_type": "execute_result"
    }
   ],
   "source": [
    "# findall -> 일치한 문자 다 찾아서 리스트로 반환\n",
    "p = re.compile('[a-z]+')\n",
    "result = p.findall('Life is too short')\n",
    "result"
   ]
  },
  {
   "cell_type": "markdown",
   "metadata": {},
   "source": [
    "**finditer()**\n",
    "\n",
    "- 정규식과 매치되는 모든 문자열(substring)을 반복 가능한 객체로 반환\n",
    "```python\n",
    "Pattern.finditer(string[, pos[, endpos]])\n",
    "```"
   ]
  },
  {
   "cell_type": "code",
   "execution_count": 50,
   "metadata": {},
   "outputs": [
    {
     "data": {
      "text/plain": [
       "<callable_iterator at 0x1ddfa08b9a0>"
      ]
     },
     "execution_count": 50,
     "metadata": {},
     "output_type": "execute_result"
    }
   ],
   "source": [
    "# findall -> 일치한 문자 다 찾아서 리스트로 반환\n",
    "p = re.compile('[a-z]+')\n",
    "result = p.finditer('Life is too short')\n",
    "result"
   ]
  },
  {
   "cell_type": "code",
   "execution_count": 51,
   "metadata": {},
   "outputs": [
    {
     "name": "stdout",
     "output_type": "stream",
     "text": [
      "<re.Match object; span=(1, 4), match='ife'>\n",
      "<re.Match object; span=(5, 7), match='is'>\n",
      "<re.Match object; span=(8, 11), match='too'>\n",
      "<re.Match object; span=(12, 17), match='short'>\n"
     ]
    }
   ],
   "source": [
    "for r in result:\n",
    "    print(r)"
   ]
  },
  {
   "cell_type": "markdown",
   "metadata": {},
   "source": [
    "#### 5) match 객체의 메서드\n",
    "\n",
    "match 객체 : match(), search(), findall(), finditer() 메서드에 의해 반환된 매치 객체(match object)\n",
    "\n",
    "- group() : 매치된 문자열을 반환\n",
    "- start() : 매치된 문자열의 시작 위치 반환\n",
    "- end() : 매치된 문자열이 끝 위치 반환\n",
    "- span() : 매치된 문자열의 (시작, 끝)에 해당하는 튜플 반환"
   ]
  },
  {
   "cell_type": "code",
   "execution_count": 52,
   "metadata": {},
   "outputs": [
    {
     "data": {
      "text/plain": [
       "<re.Match object; span=(1, 4), match='ife'>"
      ]
     },
     "execution_count": 52,
     "metadata": {},
     "output_type": "execute_result"
    }
   ],
   "source": [
    "p = re.compile('[a-z]+')\n",
    "result = p.search('Life is too short')\n",
    "result"
   ]
  },
  {
   "cell_type": "code",
   "execution_count": 53,
   "metadata": {},
   "outputs": [
    {
     "data": {
      "text/plain": [
       "'ife'"
      ]
     },
     "execution_count": 53,
     "metadata": {},
     "output_type": "execute_result"
    }
   ],
   "source": [
    "result.group()"
   ]
  },
  {
   "cell_type": "code",
   "execution_count": 54,
   "metadata": {},
   "outputs": [
    {
     "data": {
      "text/plain": [
       "1"
      ]
     },
     "execution_count": 54,
     "metadata": {},
     "output_type": "execute_result"
    }
   ],
   "source": [
    "result.start()"
   ]
  },
  {
   "cell_type": "code",
   "execution_count": 55,
   "metadata": {},
   "outputs": [
    {
     "data": {
      "text/plain": [
       "4"
      ]
     },
     "execution_count": 55,
     "metadata": {},
     "output_type": "execute_result"
    }
   ],
   "source": [
    "result.end()"
   ]
  },
  {
   "cell_type": "code",
   "execution_count": 56,
   "metadata": {},
   "outputs": [
    {
     "data": {
      "text/plain": [
       "(1, 4)"
      ]
     },
     "execution_count": 56,
     "metadata": {},
     "output_type": "execute_result"
    }
   ],
   "source": [
    "result.span()"
   ]
  },
  {
   "cell_type": "markdown",
   "metadata": {},
   "source": [
    "#### 6) 정규 표현식 기초 : 메타문자(meta character)"
   ]
  },
  {
   "cell_type": "markdown",
   "metadata": {},
   "source": [
    "**메타문자(meta character)¶**\n",
    "- 원래 그 문자가 가진 뜻이 아닌 특별한 의미를 가진 문자\n",
    "- 정규표현식에서 사용하는 메타문자 : . ^ $ * + ? { } [ ] \\ | ( )"
   ]
  },
  {
   "cell_type": "markdown",
   "metadata": {},
   "source": [
    "**① 메타 문자 [ ]**\n",
    "- 의미 :  [ ] 사이의 문자들과 매치(match)\n",
    "- `[ ]` 사이에는 어떤 문자도 들어갈 수 있음\n",
    "- 예. 정규식 [abc] : a, b, c 중 한 개의 문자와 매치"
   ]
  },
  {
   "cell_type": "markdown",
   "metadata": {},
   "source": [
    "- `[ ]`안의 두 문자 사이에 하이픈(-)을 사용하면 두 문자사이의 범위를 의미\n",
    "    - 예. [a-c]  : [abc]와 동일한 의미\n",
    "    - 예. [0-5] : [012345]와 동일한 의미\n",
    "    - 예. `[a-zA-Z]` : 모든 알파벳\n",
    "    - 예. `[0-9]` : 모든 숫자\n",
    "    - 예. `[ㄱ-ㅎ가-힣]` : 모든 한글"
   ]
  },
  {
   "cell_type": "code",
   "execution_count": 7,
   "metadata": {},
   "outputs": [
    {
     "data": {
      "text/plain": [
       "<re.Match object; span=(0, 1), match='a'>"
      ]
     },
     "execution_count": 7,
     "metadata": {},
     "output_type": "execute_result"
    }
   ],
   "source": [
    "p= re.compile('[a-c]')\n",
    "p.search('apple')"
   ]
  },
  {
   "cell_type": "code",
   "execution_count": 9,
   "metadata": {},
   "outputs": [
    {
     "name": "stdout",
     "output_type": "stream",
     "text": [
      "None\n"
     ]
    }
   ],
   "source": [
    "print(p.match('delta'))"
   ]
  },
  {
   "cell_type": "code",
   "execution_count": 10,
   "metadata": {},
   "outputs": [],
   "source": [
    "p.match('3 apple')"
   ]
  },
  {
   "cell_type": "code",
   "execution_count": 11,
   "metadata": {},
   "outputs": [
    {
     "data": {
      "text/plain": [
       "<re.Match object; span=(2, 3), match='a'>"
      ]
     },
     "execution_count": 11,
     "metadata": {},
     "output_type": "execute_result"
    }
   ],
   "source": [
    "p.match('3 apple', 2)"
   ]
  },
  {
   "cell_type": "code",
   "execution_count": 12,
   "metadata": {},
   "outputs": [
    {
     "data": {
      "text/plain": [
       "['a']"
      ]
     },
     "execution_count": 12,
     "metadata": {},
     "output_type": "execute_result"
    }
   ],
   "source": [
    "p.findall('3 apple')"
   ]
  },
  {
   "cell_type": "code",
   "execution_count": 13,
   "metadata": {},
   "outputs": [
    {
     "data": {
      "text/plain": [
       "['한', '글', 'ㅇ', 'ㄴ']"
      ]
     },
     "execution_count": 13,
     "metadata": {},
     "output_type": "execute_result"
    }
   ],
   "source": [
    "p = re.compile('[ㄱ-ㅎ가-힣]')\n",
    "p.findall('한as글ㅇㄴds')"
   ]
  },
  {
   "cell_type": "code",
   "execution_count": 14,
   "metadata": {},
   "outputs": [
    {
     "data": {
      "text/plain": [
       "['한', '글ㅇㄴ']"
      ]
     },
     "execution_count": 14,
     "metadata": {},
     "output_type": "execute_result"
    }
   ],
   "source": [
    "# +-> 단어형식으로 찾기\n",
    "p2 = re.compile('[ㄱ-ㅎ가-힣]+')\n",
    "p2.findall('한as글ㅇㄴds')"
   ]
  },
  {
   "cell_type": "markdown",
   "metadata": {},
   "source": [
    "- `[^문자]` : 해당 문자를 제외한 문자를 매치"
   ]
  },
  {
   "cell_type": "code",
   "execution_count": 17,
   "metadata": {},
   "outputs": [
    {
     "data": {
      "text/plain": [
       "['as', 'ds']"
      ]
     },
     "execution_count": 17,
     "metadata": {},
     "output_type": "execute_result"
    }
   ],
   "source": [
    "# ^ -> 한글이 아닌 나머지 찾기\n",
    "p3 = re.compile('[^ㄱ-ㅎ가-힣]+')\n",
    "p3.findall('한as글ㅇㄴds')"
   ]
  },
  {
   "cell_type": "markdown",
   "metadata": {},
   "source": [
    "##### 한글과 영문 단어 검색"
   ]
  },
  {
   "cell_type": "code",
   "execution_count": 18,
   "metadata": {},
   "outputs": [
    {
     "data": {
      "text/plain": [
       "['apple', '사과', 'banna', '바나나']"
      ]
     },
     "execution_count": 18,
     "metadata": {},
     "output_type": "execute_result"
    }
   ],
   "source": [
    "p4 = re.compile('[ㄱ-ㅎ가-힣a-zA-Z]+')\n",
    "p4.findall('apple 사과 banna 바나나 123')"
   ]
  },
  {
   "cell_type": "markdown",
   "metadata": {},
   "source": [
    "**② 메타 문자 .**\n",
    "\n",
    "- \\n을 제외한 모든 문자와 매치됨\n",
    "- 예. a.b : a와 b라는 문자 사이에 어떤 문자가 들어가도 모두 매치됨 "
   ]
  },
  {
   "cell_type": "markdown",
   "metadata": {},
   "source": [
    "- 주의. a[.]b : [ ]안에 있는 .은 메타문자가 아니라 .문자 그자체를 의미함"
   ]
  },
  {
   "cell_type": "code",
   "execution_count": 26,
   "metadata": {
    "scrolled": true
   },
   "outputs": [
    {
     "data": {
      "text/plain": [
       "<re.Match object; span=(0, 3), match='abc'>"
      ]
     },
     "execution_count": 26,
     "metadata": {},
     "output_type": "execute_result"
    }
   ],
   "source": [
    "p=re.compile('a.c')\n",
    "p.search('abc')"
   ]
  },
  {
   "cell_type": "code",
   "execution_count": 21,
   "metadata": {},
   "outputs": [
    {
     "name": "stdout",
     "output_type": "stream",
     "text": [
      "None\n"
     ]
    }
   ],
   "source": [
    "print(p.search('ac'))"
   ]
  },
  {
   "cell_type": "code",
   "execution_count": 25,
   "metadata": {},
   "outputs": [
    {
     "name": "stdout",
     "output_type": "stream",
     "text": [
      "<re.Match object; span=(0, 6), match='aㅇㄴㄴㅇc'>\n"
     ]
    }
   ],
   "source": [
    "# .의 개수가 동일해야한다\n",
    "print(p.search('aㅇㄴㄴㅇc'))"
   ]
  },
  {
   "cell_type": "code",
   "execution_count": 27,
   "metadata": {},
   "outputs": [
    {
     "data": {
      "text/plain": [
       "<re.Match object; span=(0, 3), match='a.c'>"
      ]
     },
     "execution_count": 27,
     "metadata": {},
     "output_type": "execute_result"
    }
   ],
   "source": [
    "# [ ]안에 있는 문자는 문자열 그자체를 의미\n",
    "p=re.compile('a[.]c')\n",
    "p.search('a.c')"
   ]
  },
  {
   "cell_type": "markdown",
   "metadata": {},
   "source": [
    "**③ 메타 문자** *\n",
    "- 반복을 의미\n",
    "- 0부터 무한대까지 반복될 때 사용 (실제로는 메모리 제한으로 무한대가 아닌 2억개 정도만 가능)\n",
    "- 예. ca*t : * 바로 앞에 있는 문자 a가 0부터 무한대까지 반복될 수 있다는 의미"
   ]
  },
  {
   "cell_type": "code",
   "execution_count": 38,
   "metadata": {},
   "outputs": [
    {
     "data": {
      "text/plain": [
       "<re.Match object; span=(0, 2), match='ct'>"
      ]
     },
     "execution_count": 38,
     "metadata": {},
     "output_type": "execute_result"
    }
   ],
   "source": [
    "# '*' ->  앞에 문자가 개수 상관없이 찾기\n",
    "p=re.compile('ca*t')\n",
    "print(p.search('ct'))\n",
    "print(p.search('caaaaaaaaaaaaaaaaaaaaaaaat'))"
   ]
  },
  {
   "cell_type": "markdown",
   "metadata": {},
   "source": [
    "**④ 메타 문자 +**\n",
    "\n",
    "- 반복을 의미\n",
    "- 최소 1번 이상 반복될 때 사용\n",
    "- *가 반복횟수가 -부터라면 +는 반복횟수가 1부터\n",
    "- 예. ca+t : + 앞에 있는 문자 a가 1부터 무한대까지 반복될 수 있음"
   ]
  },
  {
   "cell_type": "code",
   "execution_count": 32,
   "metadata": {},
   "outputs": [],
   "source": [
    "# '+' ->  앞에 문자가 1번 이상있는 문자 찾기\n",
    "p=re.compile('ca+t')\n",
    "print(p.search('ct'))\n",
    "print(p.search('caaaaaaaaaat'))"
   ]
  },
  {
   "cell_type": "markdown",
   "metadata": {},
   "source": [
    "**⑤ 메타 문자 { }**\n",
    "\n",
    "- 빈복 횟수를 고정\n",
    "- {m} : 반복횟수가 m\n",
    "- {m, n} : 반복횟수가 m부터 n까지인 문자와 매치\n",
    "- m 또는 n은 생략 가능\n",
    "- 예. {3, } : 반복횟수가 3이상인 경우\n",
    "- 예. {, 3} : 반복횟수가 3이하인 경우\n",
    "- 생략된 m은 0과 동일, 생략된 n은 무한대(2억개 미만)를 의미\n",
    "- 예. ca{2}t"
   ]
  },
  {
   "cell_type": "code",
   "execution_count": 33,
   "metadata": {},
   "outputs": [
    {
     "data": {
      "text/plain": [
       "<re.Match object; span=(0, 4), match='caat'>"
      ]
     },
     "execution_count": 33,
     "metadata": {},
     "output_type": "execute_result"
    }
   ],
   "source": [
    "# { } ->  앞에 문자가 반복횟수 정하기\n",
    "p=re.compile('ca{2}t')\n",
    "print(p.search('cat'))\n",
    "print(p.search('caat'))"
   ]
  },
  {
   "cell_type": "markdown",
   "metadata": {},
   "source": [
    "- 예. ca{2, 5}t"
   ]
  },
  {
   "cell_type": "code",
   "execution_count": 36,
   "metadata": {},
   "outputs": [
    {
     "data": {
      "text/plain": [
       "<re.Match object; span=(0, 5), match='caaat'>"
      ]
     },
     "execution_count": 36,
     "metadata": {},
     "output_type": "execute_result"
    }
   ],
   "source": [
    "# 2~5번 반복\n",
    "p=re.compile('ca{2,5}t')\n",
    "print(p.search('cat'))\n",
    "print(p.search('caaat'))"
   ]
  },
  {
   "cell_type": "markdown",
   "metadata": {},
   "source": [
    "**⑥ 메타문자 ?**"
   ]
  },
  {
   "cell_type": "markdown",
   "metadata": {},
   "source": [
    "- {0, 1}을 의미\n",
    "- ab?c : b가 있어도 되고 없어도 됨"
   ]
  },
  {
   "cell_type": "code",
   "execution_count": 40,
   "metadata": {},
   "outputs": [
    {
     "data": {
      "text/plain": [
       "<re.Match object; span=(0, 2), match='ct'>"
      ]
     },
     "execution_count": 40,
     "metadata": {},
     "output_type": "execute_result"
    }
   ],
   "source": [
    "# ? -> 0~1반복\n",
    "p=re.compile('ca?t')\n",
    "print(p.search('caaat'))\n",
    "print(p.search('cat'))\n",
    "print(p.search('ct'))"
   ]
  },
  {
   "cell_type": "markdown",
   "metadata": {},
   "source": [
    "**⑦ 메타문자 |**\n",
    "- or 의미\n",
    "- 예. A|B  : A 또는 B"
   ]
  },
  {
   "cell_type": "code",
   "execution_count": 45,
   "metadata": {},
   "outputs": [
    {
     "name": "stdout",
     "output_type": "stream",
     "text": [
      "<re.Match object; span=(0, 2), match='ca'>\n",
      "<re.Match object; span=(0, 2), match='ca'>\n",
      "<re.Match object; span=(1, 2), match='t'>\n",
      "None\n",
      "<re.Match object; span=(0, 2), match='ca'>\n"
     ]
    }
   ],
   "source": [
    "# | -> or\n",
    "p=re.compile('ca|t')\n",
    "print(p.search('caaat'))\n",
    "print(p.search('cat')) \n",
    "print(p.search('ct'))\n",
    "print(p.search('c'))\n",
    "print(p.search('ca'))"
   ]
  },
  {
   "cell_type": "code",
   "execution_count": 47,
   "metadata": {},
   "outputs": [
    {
     "data": {
      "text/plain": [
       "['apple', 'banana']"
      ]
     },
     "execution_count": 47,
     "metadata": {},
     "output_type": "execute_result"
    }
   ],
   "source": [
    "p=re.compile('apple|banana')\n",
    "p.findall('Apple apple Banana banana coconut')"
   ]
  },
  {
   "cell_type": "markdown",
   "metadata": {},
   "source": [
    "**⑧ 메타문자 ^**\n",
    "- 문자열의 맨처음과 일치함을 의미\n",
    "- 예. ^Life : Life 문자열이 처음에 온 경우 매치되나, 처음 위치가 아닌 경우 매치되지 않음"
   ]
  },
  {
   "cell_type": "code",
   "execution_count": 49,
   "metadata": {},
   "outputs": [
    {
     "name": "stdout",
     "output_type": "stream",
     "text": [
      "[]\n"
     ]
    }
   ],
   "source": [
    "# ^ -> match\n",
    "p = re.compile('^apple banana')\n",
    "print(p.findall('Apple apple Banana banana coconut'))"
   ]
  },
  {
   "cell_type": "code",
   "execution_count": 51,
   "metadata": {},
   "outputs": [
    {
     "name": "stdout",
     "output_type": "stream",
     "text": [
      "['apple']\n"
     ]
    }
   ],
   "source": [
    "# ^ -> 처음 위치만 가능\n",
    "p = re.compile('^apple')\n",
    "print(p.findall('apple Banana banana coconut'))"
   ]
  },
  {
   "cell_type": "markdown",
   "metadata": {},
   "source": [
    "**⑨ 메타문자 $**\n",
    "\n",
    "- 문자열의 끝과 일치함을 의미\n",
    "- 예. short$ : 검색할 문자열이 short로 끝난 경우 매치되나 그 외의 경우는 매치되지 않음"
   ]
  },
  {
   "cell_type": "code",
   "execution_count": 52,
   "metadata": {},
   "outputs": [
    {
     "name": "stdout",
     "output_type": "stream",
     "text": [
      "['coconut']\n"
     ]
    }
   ],
   "source": [
    "# $ -> 마지막 위치가 일치한 문자\n",
    "p = re.compile('coconut$')\n",
    "print(p.findall('apple Banana banana coconut'))"
   ]
  },
  {
   "cell_type": "markdown",
   "metadata": {},
   "source": [
    "**⑩ 메타문자 \\A**\n",
    "- 문자열의 처음과 일치함을 의미\n",
    "- ^ 문자와 동일하나 re.MULTILINE 옵션을 사용할 경우 다르게 해석됨\n",
    "    - ^ : 각 줄의 문자열의 처음과 매치\n",
    "    - \\A : 줄과 상관없이 전체 문자열의 처음하고만 매치"
   ]
  },
  {
   "cell_type": "code",
   "execution_count": 68,
   "metadata": {},
   "outputs": [],
   "source": [
    "p=re.compile('^python')"
   ]
  },
  {
   "cell_type": "code",
   "execution_count": 69,
   "metadata": {},
   "outputs": [],
   "source": [
    "text = '''python one\n",
    "life is too short\n",
    "python two\n",
    "you need a money\n",
    "python three\n",
    "'''"
   ]
  },
  {
   "cell_type": "code",
   "execution_count": 70,
   "metadata": {},
   "outputs": [
    {
     "data": {
      "text/plain": [
       "['python']"
      ]
     },
     "execution_count": 70,
     "metadata": {},
     "output_type": "execute_result"
    }
   ],
   "source": [
    "p.findall(text)"
   ]
  },
  {
   "cell_type": "code",
   "execution_count": 71,
   "metadata": {},
   "outputs": [
    {
     "data": {
      "text/plain": [
       "['python']"
      ]
     },
     "execution_count": 71,
     "metadata": {},
     "output_type": "execute_result"
    }
   ],
   "source": [
    "p=re.compile('\\Apython')\n",
    "p.findall(text)"
   ]
  },
  {
   "cell_type": "code",
   "execution_count": 72,
   "metadata": {},
   "outputs": [
    {
     "data": {
      "text/plain": [
       "['python']"
      ]
     },
     "execution_count": 72,
     "metadata": {},
     "output_type": "execute_result"
    }
   ],
   "source": [
    "# \\A + re.MULTILINE -> 줄과 상관없이 전체 문자열의 처음하고만 매치\n",
    "p=re.compile('\\Apython',re.MULTILINE)\n",
    "p.findall(text)"
   ]
  },
  {
   "cell_type": "code",
   "execution_count": 73,
   "metadata": {},
   "outputs": [
    {
     "data": {
      "text/plain": [
       "['python', 'python', 'python']"
      ]
     },
     "execution_count": 73,
     "metadata": {},
     "output_type": "execute_result"
    }
   ],
   "source": [
    "# ^ + re.MULTILINE -> 각 행마다 매치\n",
    "p=re.compile('^python',re.MULTILINE)\n",
    "p.findall(text)"
   ]
  },
  {
   "cell_type": "markdown",
   "metadata": {},
   "source": [
    "**⑪ 메타문자 \\Z**\n",
    "\n",
    "- 문자열의 끝과 매치됨을 의미\n",
    "- \\A와 동일하게 re.MULTILINE 옵션을 사용할 경우 $ 문자와 다르게 해석됨\n",
    "    - `$` : 각 줄의 문자열의 끝과 매치\n",
    "    - \\Z : 줄과 상관없이 전체 문자열의 끝하고만 매치"
   ]
  },
  {
   "cell_type": "markdown",
   "metadata": {},
   "source": [
    "**⑫ 메타문자 \\b**\n",
    "\n",
    "- 단어 구분자\n",
    "- 보통 whitespace에 의해 구분됨\n",
    "- 예. \\bclass\\b  : 앞 뒤가 whitespace로 구분된 class라는 단어와 매치\n",
    "- 파이썬 리터럴 규칙에 의해 \\b는 백스페이스(backspace)를 의미하므로, 정규식에서 사용할 때 단어구분자라는 것을 알리기 위해 raw string임을 알려주는 구분 기호 r' '을 반드시 사용해야 함\n",
    "    - 예. r'\\bclass\\b'"
   ]
  },
  {
   "cell_type": "code",
   "execution_count": 76,
   "metadata": {},
   "outputs": [
    {
     "name": "stdout",
     "output_type": "stream",
     "text": [
      "['python']\n"
     ]
    }
   ],
   "source": [
    "# \\b -> 공백 / r이 없으면 \\b를 문자로 봐서 적용x\n",
    "p=re.compile('\\bpython\\b')\n",
    "print(p.findall('python is good programing language'))"
   ]
  },
  {
   "cell_type": "code",
   "execution_count": 80,
   "metadata": {},
   "outputs": [
    {
     "name": "stdout",
     "output_type": "stream",
     "text": [
      "['python']\n"
     ]
    }
   ],
   "source": [
    "# r -> raw string\n",
    "p=re.compile(r'\\bpython\\b')\n",
    "print(p.findall('python is good programing language'))"
   ]
  },
  {
   "cell_type": "markdown",
   "metadata": {},
   "source": [
    "**⑬ 메타문자 \\B**\n",
    "\n",
    "- \\b 메타문자와 반대의 경우\n",
    "- whitespace로 구분된 단어가 아닌 경우에만 매치"
   ]
  },
  {
   "cell_type": "code",
   "execution_count": 81,
   "metadata": {},
   "outputs": [
    {
     "name": "stdout",
     "output_type": "stream",
     "text": [
      "None\n",
      "<re.Match object; span=(6, 11), match='class'>\n",
      "None\n"
     ]
    }
   ],
   "source": [
    "# \\B -> 공백이 아닌 다른 문자로 구분된 경우 매치\n",
    "p=re.compile(r'\\Bclass\\B')\n",
    "print(p.search(' no class all'))\n",
    "print(p.search('the declassified algorithm'))\n",
    "print(p.search('one subclass id'))"
   ]
  },
  {
   "cell_type": "markdown",
   "metadata": {},
   "source": [
    "#### 7) 그룹핑(grouping) 메타문자  ( )\n",
    "\n",
    "- 그룹을 만들어 주는 메타문자"
   ]
  },
  {
   "cell_type": "code",
   "execution_count": 86,
   "metadata": {},
   "outputs": [
    {
     "data": {
      "text/plain": [
       "<re.Match object; span=(0, 3), match='abc'>"
      ]
     },
     "execution_count": 86,
     "metadata": {},
     "output_type": "execute_result"
    }
   ],
   "source": [
    "p=re.compile('abc')\n",
    "p.search('abcabcabc')"
   ]
  },
  {
   "cell_type": "code",
   "execution_count": 87,
   "metadata": {},
   "outputs": [
    {
     "data": {
      "text/plain": [
       "<re.Match object; span=(0, 3), match='abc'>"
      ]
     },
     "execution_count": 87,
     "metadata": {},
     "output_type": "execute_result"
    }
   ],
   "source": [
    "p=re.compile('(abc)')\n",
    "p.search('abcabcabc')"
   ]
  },
  {
   "cell_type": "code",
   "execution_count": 92,
   "metadata": {},
   "outputs": [
    {
     "data": {
      "text/plain": [
       "<re.Match object; span=(0, 9), match='abcabcabc'>"
      ]
     },
     "execution_count": 92,
     "metadata": {},
     "output_type": "execute_result"
    }
   ],
   "source": [
    "# = -> (abc)\n",
    "p=re.compile('(abc)+')\n",
    "p.search('abcabcabc')"
   ]
  },
  {
   "cell_type": "code",
   "execution_count": 90,
   "metadata": {},
   "outputs": [
    {
     "data": {
      "text/plain": [
       "['abc', 'abc', 'abc']"
      ]
     },
     "execution_count": 90,
     "metadata": {},
     "output_type": "execute_result"
    }
   ],
   "source": [
    "# + -> 'c'\n",
    "p=re.compile('abc+')\n",
    "p.findall('abcabcabc')"
   ]
  },
  {
   "cell_type": "code",
   "execution_count": 95,
   "metadata": {},
   "outputs": [
    {
     "data": {
      "text/plain": [
       "<re.Match object; span=(3, 9), match='123456'>"
      ]
     },
     "execution_count": 95,
     "metadata": {},
     "output_type": "execute_result"
    }
   ],
   "source": [
    "# \\d = [0-9]\n",
    "p=re.compile('\\d{6}')\n",
    "m = p.search('34 123456 32334')\n",
    "m"
   ]
  },
  {
   "cell_type": "code",
   "execution_count": 96,
   "metadata": {
    "scrolled": true
   },
   "outputs": [
    {
     "data": {
      "text/plain": [
       "'123456'"
      ]
     },
     "execution_count": 96,
     "metadata": {},
     "output_type": "execute_result"
    }
   ],
   "source": [
    "m.group()"
   ]
  },
  {
   "cell_type": "code",
   "execution_count": 108,
   "metadata": {},
   "outputs": [
    {
     "data": {
      "text/plain": [
       "<callable_iterator at 0x2bb262fa350>"
      ]
     },
     "execution_count": 108,
     "metadata": {},
     "output_type": "execute_result"
    }
   ],
   "source": [
    "p=re.compile('\\d{6}')\n",
    "m = p.finditer('34 123456 32334 345671 232556')\n",
    "m"
   ]
  },
  {
   "cell_type": "code",
   "execution_count": 109,
   "metadata": {},
   "outputs": [
    {
     "name": "stdout",
     "output_type": "stream",
     "text": [
      "<re.Match object; span=(3, 9), match='123456'>\n",
      "<re.Match object; span=(16, 22), match='345671'>\n",
      "<re.Match object; span=(23, 29), match='232556'>\n"
     ]
    }
   ],
   "source": [
    "for i in m:\n",
    "    print(i)"
   ]
  },
  {
   "cell_type": "markdown",
   "metadata": {},
   "source": [
    "#### 8) 컴파일 옵션\n",
    "\n",
    "정규식을 컴파일할 때 사용할 수 있는 옵션\n",
    "\n",
    "- re.DOTALL : 약어는 `S`, `.` 메타문자가 줄바꿈 문자를 포함해 모든 문자와 매치될 수 있게 함\n",
    "- re.IGNORECASE : 약어는 `I`, 대소문자에 관계없이 매치될 수 있게 함\n",
    "- re.MULTILINE : 약어는 `M`, 여러 줄과 매치될 수 있게 함. `^, $` 메타문자 사용과 관계있는 옵션\n",
    "- re.VERBOSE : 약어는 `X`, verbose 모드는 사용할 수 있게 함. 정규식을 보기 편하게 만들수 있고 주석 등을 사용할 수 있게 함"
   ]
  },
  {
   "cell_type": "markdown",
   "metadata": {},
   "source": [
    "**re.DOTALL**\n",
    "\n",
    "- 여러 줄로 이루어진 문자열에서 줄바꿈 문자에 상관없이 검색할 때 많이 사용"
   ]
  },
  {
   "cell_type": "code",
   "execution_count": 110,
   "metadata": {},
   "outputs": [
    {
     "name": "stdout",
     "output_type": "stream",
     "text": [
      "None\n"
     ]
    }
   ],
   "source": [
    "p=re.compile('a.b')\n",
    "print(p.match('a\\nb'))"
   ]
  },
  {
   "cell_type": "code",
   "execution_count": 111,
   "metadata": {},
   "outputs": [
    {
     "name": "stdout",
     "output_type": "stream",
     "text": [
      "<re.Match object; span=(0, 3), match='a\\nb'>\n"
     ]
    }
   ],
   "source": [
    "# re.DOTALL -> \\n도 포함하기\n",
    "p=re.compile('a.b',re.DOTALL)\n",
    "print(p.match('a\\nb'))"
   ]
  },
  {
   "cell_type": "code",
   "execution_count": 112,
   "metadata": {},
   "outputs": [
    {
     "name": "stdout",
     "output_type": "stream",
     "text": [
      "<re.Match object; span=(0, 3), match='a\\nb'>\n"
     ]
    }
   ],
   "source": [
    "# DOTALL = S\n",
    "p=re.compile('a.b',re.S)\n",
    "print(p.match('a\\nb'))"
   ]
  },
  {
   "cell_type": "markdown",
   "metadata": {},
   "source": [
    "**re.IGNORECASE**"
   ]
  },
  {
   "cell_type": "code",
   "execution_count": 114,
   "metadata": {},
   "outputs": [
    {
     "name": "stdout",
     "output_type": "stream",
     "text": [
      "None\n"
     ]
    }
   ],
   "source": [
    "p=re.compile('[a-z]+')\n",
    "print(p.match('Python'))"
   ]
  },
  {
   "cell_type": "code",
   "execution_count": 116,
   "metadata": {},
   "outputs": [
    {
     "name": "stdout",
     "output_type": "stream",
     "text": [
      "<re.Match object; span=(0, 6), match='Python'>\n"
     ]
    }
   ],
   "source": [
    "# re.IGNIRECASE -> 대소문자에 관계없이 매치\n",
    "p=re.compile('[a-z]+',re.IGNORECASE)\n",
    "print(p.match('Python'))"
   ]
  },
  {
   "cell_type": "code",
   "execution_count": 117,
   "metadata": {},
   "outputs": [
    {
     "name": "stdout",
     "output_type": "stream",
     "text": [
      "<re.Match object; span=(0, 6), match='Python'>\n"
     ]
    }
   ],
   "source": [
    "# re.IGNIRECASE = I\n",
    "p=re.compile('[a-z]+',re.I)\n",
    "print(p.match('Python'))"
   ]
  },
  {
   "cell_type": "code",
   "execution_count": 122,
   "metadata": {},
   "outputs": [
    {
     "name": "stdout",
     "output_type": "stream",
     "text": [
      "<re.Match object; span=(0, 6), match='pYthon'>\n",
      "<re.Match object; span=(0, 6), match='PYTHON'>\n",
      "<re.Match object; span=(0, 6), match='PythoN'>\n"
     ]
    }
   ],
   "source": [
    "# 맨앞, 중간, 맨뒤 상관x\n",
    "print(p.match('pYthon'))\n",
    "print(p.match('PYTHON'))\n",
    "print(p.match('PythoN'))"
   ]
  },
  {
   "cell_type": "markdown",
   "metadata": {},
   "source": [
    "**re.MULTILINE**"
   ]
  },
  {
   "cell_type": "code",
   "execution_count": 125,
   "metadata": {},
   "outputs": [
    {
     "data": {
      "text/plain": [
       "<re.Match object; span=(0, 4), match='Life'>"
      ]
     },
     "execution_count": 125,
     "metadata": {},
     "output_type": "execute_result"
    }
   ],
   "source": [
    "p=re.compile('^Life')\n",
    "p.match('''Life is too short\n",
    "Life is good''')"
   ]
  },
  {
   "cell_type": "code",
   "execution_count": 130,
   "metadata": {},
   "outputs": [
    {
     "data": {
      "text/plain": [
       "['Life', 'Life']"
      ]
     },
     "execution_count": 130,
     "metadata": {},
     "output_type": "execute_result"
    }
   ],
   "source": [
    "# 각 줄마다 match\n",
    "p=re.compile('^Life', re.MULTILINE)\n",
    "p.findall('''Life is too short\n",
    "Life is good''')"
   ]
  },
  {
   "cell_type": "code",
   "execution_count": 134,
   "metadata": {},
   "outputs": [
    {
     "data": {
      "text/plain": [
       "['Life', 'Life']"
      ]
     },
     "execution_count": 134,
     "metadata": {},
     "output_type": "execute_result"
    }
   ],
   "source": [
    "# 각 줄마다 match\n",
    "p=re.compile('Life$', re.MULTILINE)\n",
    "p.findall('''Life is too short Life\n",
    "Life is good Life''')"
   ]
  },
  {
   "cell_type": "code",
   "execution_count": 131,
   "metadata": {},
   "outputs": [
    {
     "name": "stdout",
     "output_type": "stream",
     "text": [
      "<re.Match object; span=(0, 4), match='Life'>\n",
      "<re.Match object; span=(18, 22), match='Life'>\n"
     ]
    }
   ],
   "source": [
    "result = p.finditer('''Life is too short\n",
    "Life is good''')\n",
    "for r in result:\n",
    "    print(r)"
   ]
  },
  {
   "cell_type": "markdown",
   "metadata": {},
   "source": [
    "**re.VERBOSE**"
   ]
  },
  {
   "cell_type": "markdown",
   "metadata": {},
   "source": [
    "- 정규식이 복잡한 경우 주석을 적고 여러 줄로 표현하여 가독성을 높이기 위한 옵션\n",
    "- VERBOSE 옵션을 사용하면 문자열에 사용된 whitespace는 컴파일할 때 제거됨"
   ]
  },
  {
   "cell_type": "code",
   "execution_count": 141,
   "metadata": {},
   "outputs": [],
   "source": [
    "p= re.compile(r'&[#]([0-9])+|(x[0-9a-fA-F])+')"
   ]
  },
  {
   "cell_type": "code",
   "execution_count": 155,
   "metadata": {
    "scrolled": true
   },
   "outputs": [],
   "source": [
    "# 주석을 사용하여 가독성을 높일수 있다.\n",
    "pattern1= re.compile(r'''\n",
    "[0-9]+           # Dcimal form\n",
    "|x[0-9a-fA-F]+   # Hexadecimal form\n",
    "''',re.VERBOSE)"
   ]
  },
  {
   "cell_type": "code",
   "execution_count": 147,
   "metadata": {},
   "outputs": [],
   "source": [
    "text = '34 #ff33f apple 33 34.5'"
   ]
  },
  {
   "cell_type": "code",
   "execution_count": 152,
   "metadata": {},
   "outputs": [
    {
     "data": {
      "text/plain": [
       "[('4', ''), ('3', ''), ('3', ''), ('4', ''), ('5', '')]"
      ]
     },
     "execution_count": 152,
     "metadata": {},
     "output_type": "execute_result"
    }
   ],
   "source": [
    "p.findall(text)"
   ]
  },
  {
   "cell_type": "code",
   "execution_count": 156,
   "metadata": {},
   "outputs": [
    {
     "data": {
      "text/plain": [
       "['34', '33', '33', '34', '5']"
      ]
     },
     "execution_count": 156,
     "metadata": {},
     "output_type": "execute_result"
    }
   ],
   "source": [
    "pattern1.findall(text)"
   ]
  },
  {
   "cell_type": "markdown",
   "metadata": {},
   "source": [
    "#### 9) 역슬래시(\\) 문제\n",
    "\n",
    "- `\\s, \\t, \\n, \\r, \\f, \\v `는 공백을 의미하는 escape 문자이므로 정규표현식에서 역슬래시 한번 사용하면 공백문자로 인식할 수 있음 \n",
    "- 역슬래시를 두 번 사용하거나 raw string 표현을 사용"
   ]
  },
  {
   "cell_type": "code",
   "execution_count": 157,
   "metadata": {},
   "outputs": [
    {
     "data": {
      "text/plain": [
       "re.compile(r'\\section', re.UNICODE)"
      ]
     },
     "execution_count": 157,
     "metadata": {},
     "output_type": "execute_result"
    }
   ],
   "source": [
    "re.compile('\\\\section')"
   ]
  },
  {
   "cell_type": "code",
   "execution_count": 158,
   "metadata": {},
   "outputs": [
    {
     "data": {
      "text/plain": [
       "re.compile(r'\\section', re.UNICODE)"
      ]
     },
     "execution_count": 158,
     "metadata": {},
     "output_type": "execute_result"
    }
   ],
   "source": [
    "re.compile(r'\\section')"
   ]
  },
  {
   "cell_type": "markdown",
   "metadata": {},
   "source": [
    "#### 10) 문자 규칙\n",
    "\n",
    "- 역슬래시를 이용한 문자 규칙\n",
    "- `\\\\\\` : 역슬래스 문자 자체\n",
    "- `\\\\d` : 모든 숫자를 의미. `[0-9]`와 동일\n",
    "- `\\\\D` : 숫자를 제외한 모든 문자. `[^0-9]`와 동일\n",
    "- `\\\\s` : 공백문자. `[ \\t\\n\\r\\f\\v]`와 동일\n",
    "- `\\\\S` : 공백을 제외한 문자. `[^ \\t\\n\\r\\f\\v]`와 동일\n",
    "- `\\\\w` : 문자 또는 숫자. `[a-zA-Z0-9]`와 동일\n",
    "- `\\\\W` : 알파벳 문자 또는 숫자가 아닌 문자.  `[^a-zA-Z0-9]`와 동일"
   ]
  },
  {
   "cell_type": "code",
   "execution_count": null,
   "metadata": {},
   "outputs": [],
   "source": [
    "r'\\w+\\s+\\d+[-]\\d+[-]\\d+'\n",
    "park 010-1234-1234"
   ]
  },
  {
   "cell_type": "markdown",
   "metadata": {},
   "source": [
    "#### 11) 문자열 분리 re.split()\n",
    "\n",
    "- 정규표현식을 기준으로 문자열들을 분리하여 리스트로 반환\n",
    "- 토큰화에 유용하게 사용함"
   ]
  },
  {
   "cell_type": "code",
   "execution_count": 159,
   "metadata": {},
   "outputs": [
    {
     "data": {
      "text/plain": [
       "['사과', '배', '딸기', '바나나']"
      ]
     },
     "execution_count": 159,
     "metadata": {},
     "output_type": "execute_result"
    }
   ],
   "source": [
    "re.split(' ', '사과 배 딸기 바나나')"
   ]
  },
  {
   "cell_type": "code",
   "execution_count": 163,
   "metadata": {},
   "outputs": [
    {
     "data": {
      "text/plain": [
       "['사과', '배', '딸기', '바나나']"
      ]
     },
     "execution_count": 163,
     "metadata": {},
     "output_type": "execute_result"
    }
   ],
   "source": [
    "re.split('\\+', '사과+배+딸기+바나나')"
   ]
  },
  {
   "cell_type": "markdown",
   "metadata": {},
   "source": [
    "#### 12) 문자열 바꾸기 : re.sub()\n",
    "\n",
    "- 정규식과 매치되는 부분을 다른 문자로 변경\n",
    "- 태그나 특수문자, 기호 제거를 위해 사용\n",
    "\n",
    "```python\n",
    "Pattern.sub(repl, string, count=0)\n",
    "```"
   ]
  },
  {
   "cell_type": "code",
   "execution_count": 169,
   "metadata": {},
   "outputs": [
    {
     "data": {
      "text/plain": [
       "'AABBCC 가나다123'"
      ]
     },
     "execution_count": 169,
     "metadata": {},
     "output_type": "execute_result"
    }
   ],
   "source": [
    "text = 'AA**BB#@$CC 가나다-123'\n",
    "re.sub(r'[^\\wㄱ-ㅎ가-힣\\s]','',text)"
   ]
  },
  {
   "cell_type": "markdown",
   "metadata": {},
   "source": [
    "- 문자열에서 특수문자만 제거"
   ]
  },
  {
   "cell_type": "code",
   "execution_count": null,
   "metadata": {},
   "outputs": [],
   "source": [
    "re.sub(r'[^\\wㄱ-ㅎ가-힣\\s]','',text)"
   ]
  },
  {
   "cell_type": "markdown",
   "metadata": {},
   "source": [
    "- 문자열에서 숫자만 남기기"
   ]
  },
  {
   "cell_type": "code",
   "execution_count": 170,
   "metadata": {},
   "outputs": [
    {
     "data": {
      "text/plain": [
       "'123'"
      ]
     },
     "execution_count": 170,
     "metadata": {},
     "output_type": "execute_result"
    }
   ],
   "source": [
    "re.sub(r'[^\\d]','',text)"
   ]
  },
  {
   "cell_type": "markdown",
   "metadata": {},
   "source": [
    "- 문자열에서 숫자만 제거"
   ]
  },
  {
   "cell_type": "code",
   "execution_count": 171,
   "metadata": {},
   "outputs": [
    {
     "data": {
      "text/plain": [
       "'AA**BB#@$CC 가나다-'"
      ]
     },
     "execution_count": 171,
     "metadata": {},
     "output_type": "execute_result"
    }
   ],
   "source": [
    "re.sub(r'[\\d]','',text)"
   ]
  },
  {
   "cell_type": "markdown",
   "metadata": {},
   "source": [
    "- 문자열에서 알파벳만 남기기"
   ]
  },
  {
   "cell_type": "code",
   "execution_count": 173,
   "metadata": {},
   "outputs": [
    {
     "data": {
      "text/plain": [
       "'AABBCC'"
      ]
     },
     "execution_count": 173,
     "metadata": {},
     "output_type": "execute_result"
    }
   ],
   "source": [
    "re.sub(r'[^a-zA-Z]','',text)"
   ]
  },
  {
   "cell_type": "markdown",
   "metadata": {},
   "source": [
    "- 문자열에서 한글문자만 남기기"
   ]
  },
  {
   "cell_type": "code",
   "execution_count": 174,
   "metadata": {},
   "outputs": [
    {
     "data": {
      "text/plain": [
       "'가나다'"
      ]
     },
     "execution_count": 174,
     "metadata": {},
     "output_type": "execute_result"
    }
   ],
   "source": [
    "re.sub(r'[^ㄱ-ㅎ가-힣]','',text)"
   ]
  },
  {
   "cell_type": "markdown",
   "metadata": {},
   "source": [
    "- HTML 태그 제거"
   ]
  },
  {
   "cell_type": "code",
   "execution_count": 175,
   "metadata": {},
   "outputs": [],
   "source": [
    "html_tag = '''   <main id=\"kakaoContent\" class=\"doc-main\"> \n",
    "    <section class=\"inner-main\"> \n",
    "     <h2 class=\"screen_out\">경제</h2> \n",
    "     <div class=\"main-content\" data-cloud-area=\"addition\"> \n",
    "      <article id=\"mArticle\" class=\"box_view\" data-cloud-area=\"article\"> \n",
    "       <div class=\"head_view\" data-tiara-layer=\"article_head\" data-cloud=\"newsview_article_head\"> \n",
    "        <h3 class=\"tit_view\">서울 집값 역대 세 번째로 많이 떨어졌다</h3> \n",
    "        <div class=\"info_view\"> <span class=\"txt_info\">이송렬</span> <span class=\"txt_info\">입력 <span class=\"num_date\">2022. 10. 20. 14:01</span></span> \n",
    "        </div>  \n",
    "        <div class=\"util_wrap\"> <button type=\"button\" class=\"btn_cmt\" data-tiara-action-name=\"헤드댓글수_클릭\" data-tiara=\"댓글버튼\"> <span class=\"ico_view ico_cmt\">댓글</span> <span class=\"num_cmt alex-count-area\">0</span> </button>  \n",
    "         <div class=\"util_view\"> \n",
    "          <div class=\"item_util\" data-tiara-action-name=\"헤드음성_클릭\"> <button type=\"button\" class=\"btn_util btn_tts\" data-tiara=\"음성버튼\"> <span class=\"ico_view\">음성으로 듣기</span> </button>  \n",
    "           <div id=\"ttsViewLayer\" class=\"view_layer\"> \n",
    "            <div class=\"inner_view_layer inner_tts_layer\"> \n",
    "             <div class=\"layer_head\"> <strong class=\"tit_layer\">음성재생 설정</strong>\n",
    "              <p dmcf-pid=\"Qj3F8kJG0n\" dmcf-ptype=\"general\"><br>노원구도 0.4% 하락해 도봉구에 이어 두 번째로 많이 내렸다. 상계동 ‘임광’ 전용 122㎡는 지난 4일 10억8000만원에 매매 계약을 맺었다. 지난 5월 거래된 13억1000만원보다 2억3000만원 하락했다.</p>\n",
    "          <p dmcf-pid=\"xA036EiHzi\" dmcf-ptype=\"general\">중계동에 있는 ‘중계무지개’ 전용 49㎡도 지난 12일 5억1500만원에 손바뀜해 직전 거래 6억2900만원(6월)보다 1억1400만원 내렸고, 월계동 ‘한진한화그랑빌’ 전용 75㎡도 지난 1일 8억5000만원에 팔려 올해 1월(9억6000만원)보다 1억1000만원 몸값이 낮아졌다.</p>\n",
    "          <p dmcf-pid=\"yUNaSzZd0J\" dmcf-ptype=\"general\">노원구 상계동에 있는 A 공인 중개 관계자는 “노원, 도봉, 강북 등은 최근 수년, 특히 지난해 급등했던 곳”이라면서 “너무 급하게 오른 영향으로 요즘엔 매수 문의조차 뜸한 가운데 급매물 위주로 거래되는 중”이라고 했다.</p>\n",
    "          <p dmcf-pid=\"WHRMD5lfFd\" dmcf-ptype=\"general\">이 밖에도 △송파구(-0.38%) △성북구(-0.37%) △은평구(-0.36%) △강동구(-0.31%) △금천구(-0.3%) 등도 매물이 쌓이면서 하락률이 높아졌다.</p>\n",
    "          <figure class=\"figure_frm origin_fig\" dmcf-pid=\"YXeRw1S40e\" dmcf-ptype=\"figure\">\n",
    "           <p class=\"link_figure\"><img alt=\"매매 및 전세가격지수 변동률 사진=한국부동산원\" class=\"thumb_g_article\" data-org-src=\"https://t1.daumcdn.net/news/202210/20/ked/20221020140119337feul.jpg\" data-org-width=\"630\" dmcf-mid=\"KBbBJCA0pk\" dmcf-mtype=\"image\" height=\"auto\" src=\"https://img2.daumcdn.net/thumb/R658x0.q70/?fname=https://t1.daumcdn.net/news/202210/20/ked/20221020140119337feul.jpg\" width=\"658\"></p>\n",
    "           <figcaption class=\"txt_caption default_figure\">\n",
    "            매매 및 전세가격지수 변동률 사진=한국부동산원\n",
    "           </figcaption>\n",
    "          </figure>\n",
    "          <p dmcf-pid=\"GXeRw1S4FR\" dmcf-ptype=\"general\"><br>전셋값도 빠르게 하향 조정되고 있다. 서울 전셋값은 0.3% 내려 전주(-0.22%)보다 더 내렸다. 송파구 전셋값이 0.76% 내리면서 서울 내 자치구 가운데 가장 큰 폭으로 하락했다.</p>\n",
    "          <p dmcf-pid=\"HZdertv8UM\" dmcf-ptype=\"general\">가락동에 있는 ‘가락(1차)쌍용아파트’ 전용 84㎡는 지난 23일 6억3000만원에 세입자를 들였다. 이달 초 7억8000만원에도 계약이 맺어졌던 면적대인데 불과 며칠 만에 전셋값이 크게 내렸다. 같은 아파트 전용 59㎡도 지난 7일 5억7000만원에 거래됐는데 현장엔 5억원까지 하락한 매물도 나와 있는 것으로 전해졌다.</p>\n",
    "          <p dmcf-pid=\"X5JdmFT6px\" dmcf-ptype=\"general\">가락동 B 공인 중개 관계자는 “세입자를 찾지 못한 집주인들이 마음이 급하다 보니 가격을 빠르게 낮추고 있다”며 “불과 한 달 새 전셋값이 많이 내린 상황”이라고 했다.</p>\n",
    "          <p dmcf-pid=\"ZT68jYsbuQ\" dmcf-ptype=\"general\">송파를 제외한 강남권에선 강동구(-0.45%)가 고덕, 상일, 암사동 위주로 하락했고 양천구(-0.3%)는 신정동과 목동 대단지 아파트를 중심으로 전셋값이 내렸다. 강북권에선 강북구(-0.54%)가 가장 큰 폭으로 내렸다. 미아동에 있는 선호도가 높은 단지 위주로 매물이 쌓이면서다. 성북구(-0.34%)도 길음동과 돈암동을 중심으로 전셋값이 내렸고 은평구(-0.42%), 종로구(-0.33%)도 큰 폭으로 빠졌다.</p>\n",
    "          <p dmcf-pid=\"5yP6AGOKpP\" dmcf-ptype=\"general\">한편 최근 아파트 매매 심리는 악화하고 있다. 국토연구원 부동산시장연구센터가 발표한 부동산시장 소비자 심리조사 결과에 따르면 수도권 소비자심리지수는 89.0으로 전달보다 1.4포인트 올랐지만 석 달 연속 하강 국면을 기록했다. 전세시장에서 수도권 지수는 82.8로 전달보다 4.4포인트 하락했다. 주택시장 소비심리지수는 95 미만이면 하강 국면, 95∼114는 보합, 115 이상은 상승 국면으로 구분한다.</p>\n",
    "          <p dmcf-pid=\"1WQPcHI9p6\" dmcf-ptype=\"general\">이송렬 한경닷컴 기자 yisr0203@hankyung.com</p>\n",
    "             \n",
    "             '''"
   ]
  },
  {
   "cell_type": "code",
   "execution_count": 176,
   "metadata": {},
   "outputs": [
    {
     "data": {
      "text/plain": [
       "'    \\n     \\n     경제 \\n      \\n       \\n        \\n        서울 집값 역대 세 번째로 많이 떨어졌다 \\n         이송렬 입력 2022. 10. 20. 14:01 \\n          \\n          댓글 0   \\n          \\n            음성으로 듣기   \\n            \\n             \\n              음성재생 설정\\n              노원구도 0.4% 하락해 도봉구에 이어 두 번째로 많이 내렸다. 상계동 ‘임광’ 전용 122㎡는 지난 4일 10억8000만원에 매매 계약을 맺었다. 지난 5월 거래된 13억1000만원보다 2억3000만원 하락했다.\\n          중계동에 있는 ‘중계무지개’ 전용 49㎡도 지난 12일 5억1500만원에 손바뀜해 직전 거래 6억2900만원(6월)보다 1억1400만원 내렸고, 월계동 ‘한진한화그랑빌’ 전용 75㎡도 지난 1일 8억5000만원에 팔려 올해 1월(9억6000만원)보다 1억1000만원 몸값이 낮아졌다.\\n          노원구 상계동에 있는 A 공인 중개 관계자는 “노원, 도봉, 강북 등은 최근 수년, 특히 지난해 급등했던 곳”이라면서 “너무 급하게 오른 영향으로 요즘엔 매수 문의조차 뜸한 가운데 급매물 위주로 거래되는 중”이라고 했다.\\n          이 밖에도 △송파구(-0.38%) △성북구(-0.37%) △은평구(-0.36%) △강동구(-0.31%) △금천구(-0.3%) 등도 매물이 쌓이면서 하락률이 높아졌다.\\n          \\n           \\n           \\n            매매 및 전세가격지수 변동률 사진=한국부동산원\\n           \\n          \\n          전셋값도 빠르게 하향 조정되고 있다. 서울 전셋값은 0.3% 내려 전주(-0.22%)보다 더 내렸다. 송파구 전셋값이 0.76% 내리면서 서울 내 자치구 가운데 가장 큰 폭으로 하락했다.\\n          가락동에 있는 ‘가락(1차)쌍용아파트’ 전용 84㎡는 지난 23일 6억3000만원에 세입자를 들였다. 이달 초 7억8000만원에도 계약이 맺어졌던 면적대인데 불과 며칠 만에 전셋값이 크게 내렸다. 같은 아파트 전용 59㎡도 지난 7일 5억7000만원에 거래됐는데 현장엔 5억원까지 하락한 매물도 나와 있는 것으로 전해졌다.\\n          가락동 B 공인 중개 관계자는 “세입자를 찾지 못한 집주인들이 마음이 급하다 보니 가격을 빠르게 낮추고 있다”며 “불과 한 달 새 전셋값이 많이 내린 상황”이라고 했다.\\n          송파를 제외한 강남권에선 강동구(-0.45%)가 고덕, 상일, 암사동 위주로 하락했고 양천구(-0.3%)는 신정동과 목동 대단지 아파트를 중심으로 전셋값이 내렸다. 강북권에선 강북구(-0.54%)가 가장 큰 폭으로 내렸다. 미아동에 있는 선호도가 높은 단지 위주로 매물이 쌓이면서다. 성북구(-0.34%)도 길음동과 돈암동을 중심으로 전셋값이 내렸고 은평구(-0.42%), 종로구(-0.33%)도 큰 폭으로 빠졌다.\\n          한편 최근 아파트 매매 심리는 악화하고 있다. 국토연구원 부동산시장연구센터가 발표한 부동산시장 소비자 심리조사 결과에 따르면 수도권 소비자심리지수는 89.0으로 전달보다 1.4포인트 올랐지만 석 달 연속 하강 국면을 기록했다. 전세시장에서 수도권 지수는 82.8로 전달보다 4.4포인트 하락했다. 주택시장 소비심리지수는 95 미만이면 하강 국면, 95∼114는 보합, 115 이상은 상승 국면으로 구분한다.\\n          이송렬 한경닷컴 기자 yisr0203@hankyung.com\\n             \\n             '"
      ]
     },
     "execution_count": 176,
     "metadata": {},
     "output_type": "execute_result"
    }
   ],
   "source": [
    "re.sub('(<([^>]+)>)','',html_tag)"
   ]
  },
  {
   "cell_type": "code",
   "execution_count": 177,
   "metadata": {},
   "outputs": [
    {
     "data": {
      "text/plain": [
       "'    \\n     \\n     경제 \\n      \\n       \\n        \\n        서울 집값 역대 세 번째로 많이 떨어졌다 \\n         이송렬 입력 2022. 10. 20. 14:01 \\n          \\n          댓글 0   \\n          \\n            음성으로 듣기   \\n            \\n             \\n              음성재생 설정\\n              노원구도 0.4% 하락해 도봉구에 이어 두 번째로 많이 내렸다. 상계동 ‘임광’ 전용 122㎡는 지난 4일 10억8000만원에 매매 계약을 맺었다. 지난 5월 거래된 13억1000만원보다 2억3000만원 하락했다.\\n          중계동에 있는 ‘중계무지개’ 전용 49㎡도 지난 12일 5억1500만원에 손바뀜해 직전 거래 6억2900만원(6월)보다 1억1400만원 내렸고, 월계동 ‘한진한화그랑빌’ 전용 75㎡도 지난 1일 8억5000만원에 팔려 올해 1월(9억6000만원)보다 1억1000만원 몸값이 낮아졌다.\\n          노원구 상계동에 있는 A 공인 중개 관계자는 “노원, 도봉, 강북 등은 최근 수년, 특히 지난해 급등했던 곳”이라면서 “너무 급하게 오른 영향으로 요즘엔 매수 문의조차 뜸한 가운데 급매물 위주로 거래되는 중”이라고 했다.\\n          이 밖에도 △송파구(-0.38%) △성북구(-0.37%) △은평구(-0.36%) △강동구(-0.31%) △금천구(-0.3%) 등도 매물이 쌓이면서 하락률이 높아졌다.\\n          \\n           \\n           \\n            매매 및 전세가격지수 변동률 사진=한국부동산원\\n           \\n          \\n          전셋값도 빠르게 하향 조정되고 있다. 서울 전셋값은 0.3% 내려 전주(-0.22%)보다 더 내렸다. 송파구 전셋값이 0.76% 내리면서 서울 내 자치구 가운데 가장 큰 폭으로 하락했다.\\n          가락동에 있는 ‘가락(1차)쌍용아파트’ 전용 84㎡는 지난 23일 6억3000만원에 세입자를 들였다. 이달 초 7억8000만원에도 계약이 맺어졌던 면적대인데 불과 며칠 만에 전셋값이 크게 내렸다. 같은 아파트 전용 59㎡도 지난 7일 5억7000만원에 거래됐는데 현장엔 5억원까지 하락한 매물도 나와 있는 것으로 전해졌다.\\n          가락동 B 공인 중개 관계자는 “세입자를 찾지 못한 집주인들이 마음이 급하다 보니 가격을 빠르게 낮추고 있다”며 “불과 한 달 새 전셋값이 많이 내린 상황”이라고 했다.\\n          송파를 제외한 강남권에선 강동구(-0.45%)가 고덕, 상일, 암사동 위주로 하락했고 양천구(-0.3%)는 신정동과 목동 대단지 아파트를 중심으로 전셋값이 내렸다. 강북권에선 강북구(-0.54%)가 가장 큰 폭으로 내렸다. 미아동에 있는 선호도가 높은 단지 위주로 매물이 쌓이면서다. 성북구(-0.34%)도 길음동과 돈암동을 중심으로 전셋값이 내렸고 은평구(-0.42%), 종로구(-0.33%)도 큰 폭으로 빠졌다.\\n          한편 최근 아파트 매매 심리는 악화하고 있다. 국토연구원 부동산시장연구센터가 발표한 부동산시장 소비자 심리조사 결과에 따르면 수도권 소비자심리지수는 89.0으로 전달보다 1.4포인트 올랐지만 석 달 연속 하강 국면을 기록했다. 전세시장에서 수도권 지수는 82.8로 전달보다 4.4포인트 하락했다. 주택시장 소비심리지수는 95 미만이면 하강 국면, 95∼114는 보합, 115 이상은 상승 국면으로 구분한다.\\n          이송렬 한경닷컴 기자 yisr0203@hankyung.com\\n             \\n             '"
      ]
     },
     "execution_count": 177,
     "metadata": {},
     "output_type": "execute_result"
    }
   ],
   "source": [
    "re.sub('(<.+?>)','',html_tag)"
   ]
  },
  {
   "cell_type": "markdown",
   "metadata": {},
   "source": [
    "- BeautifulSoup 패키지 모듈의 get_text() 사용하여 태그 제거"
   ]
  },
  {
   "cell_type": "code",
   "execution_count": 178,
   "metadata": {},
   "outputs": [],
   "source": [
    "import requests\n",
    "from bs4 import BeautifulSoup"
   ]
  },
  {
   "cell_type": "code",
   "execution_count": 181,
   "metadata": {},
   "outputs": [
    {
     "data": {
      "text/plain": [
       "b'<!DOCTYPE html>\\n<html lang=\"ko\">\\n\\n\\t                                                                                <head>\\n                <script type=\"text/javascript\">if (!window.T) { window.T = {} }\\nwindow.T.config = {\"TOP_SSL_URL\":\"https://www.tistory.com\",\"PREVIEW\":false,\"ROLE\":\"guest\",\"PREV_PAGE\":\"\",\"NEXT_PAGE\":\"\",\"BLOG\":{\"id\":5011151,\"name\":\"co-no\",\"title\":\"\\xec\\xbd\\x94\\xeb\\x94\\xa9\\xed\\x95\\x98\\xeb\\x8a\\x94 \\xec\\xa3\\xbc\\xeb\\x85\\xb8 \\xec\\x9d\\xb4\\xec\\x95\\xbc\\xea\\xb8\\xb0\",\"isDormancy\":false,\"nickName\":\"\\xec\\xbd\\x94_\\xeb\\x85\\xb8\",\"status\":\"open\",\"profileStatus\":\"normal\"},\"NEED_COMMENT_LOGIN\":false,\"COMMENT_LOGIN_CONFIRM_MESSAGE\":\"\",\"LOGIN_URL\":\"https://www.tistory.com/auth/login/?redirectUrl=https://co-no.tistory.com/entry/Linux-%25EC%25A0%2595%25EA%25B7%259C%25ED%2591%259C%25ED%2598%2584%25EC%258B%259DRegex%25EC%259D%2598-%25EA%25B0%259C%25EB%2585%2590%25EA%25B3%25BC-%25EA%25B8%25B0%25EC%25B4%2588-%25EB%25AC%25B8%25EB%25B2%2595\",\"DEFAULT_URL\":\"https://co-no.tistory.com\",\"USER\":{\"name\":null,\"homepage\":null,\"id\":0,\"profileImage\":null},\"SUBSCRIPTION\":{\"status\":\"none\",\"isConnected\":false,\"isPending\":false,\"isWait\":false,\"isProcessing\":false,\"isNone\":true},\"IS_LOGIN\":false,\"HAS_BLOG\":false,\"IS_SUPPORT\":false,\"TOP_URL\":\"http://www.tistory.com\",\"JOIN_URL\":\"https://www.tistory.com/member/join\",\"ROLE_GROUP\":\"visitor\"};\\nwindow.T.entryInfo = {\"entryId\":111,\"isAuthor\":false,\"categoryId\":1220632,\"categoryLabel\":\"OS/Linux\"};\\nwindow.appInfo = {\"domain\":\"tistory.com\",\"topUrl\":\"https://www.tistory.com\",\"loginUrl\":\"https://www.tistory.com/auth/login\",\"logoutUrl\":\"https://www.tistory.com/auth/logout\"};\\nwindow.initData = {};\\n\\nwindow.TistoryBlog = {\\n    basePath: \"\",\\n    url: \"https://co-no.tistory.com\",\\n    tistoryUrl: \"https://co-no.tistory.com\",\\n    manageUrl: \"https://co-no.tistory.com/manage\",\\n    token: \"HcvHgsmPBktR/wQ/d4g1F0BtY3sowCZP3WnwHGVt2OPim37ms9qhbz4cCtD2OPKk\"\\n};\\nvar servicePath = \"\";\\nvar blogURL = \"\";</script>\\n\\n                \\n                \\n                \\n                        <!-- BusinessLicenseInfo - START -->\\n        \\n            <link href=\"https://tistory1.daumcdn.net/tistory_admin/userblog/tistory-9ab75860115d542cdd0537954f140d2cb94c6cd3/static/plugin/BusinessLicenseInfo/style.css\" rel=\"stylesheet\" type=\"text/css\"/>\\n\\n            <script>function switchFold(entryId) {\\n    var businessLayer = document.getElementById(\"businessInfoLayer_\" + entryId);\\n\\n    if (businessLayer) {\\n        if (businessLayer.className.indexOf(\"unfold_license\") > 0) {\\n            businessLayer.className = \"business_license_layer\";\\n        } else {\\n            businessLayer.className = \"business_license_layer unfold_license\";\\n        }\\n    }\\n}\\n</script>\\n\\n        \\n        <!-- BusinessLicenseInfo - END -->\\n        <!-- DaumShow - START -->\\n        <style type=\"text/css\">#daumSearchBox {\\n    height: 21px;\\n    background-image: url(//i1.daumcdn.net/imgsrc.search/search_all/show/tistory/plugin/bg_search2_2.gif);\\n    margin: 5px auto;\\n    padding: 0;\\n}\\n\\n#daumSearchBox input {\\n    background: none;\\n    margin: 0;\\n    padding: 0;\\n    border: 0;\\n}\\n\\n#daumSearchBox #daumLogo {\\n    width: 34px;\\n    height: 21px;\\n    float: left;\\n    margin-right: 5px;\\n    background-image: url(//i1.daumcdn.net/img-media/tistory/img/bg_search1_2_2010ci.gif);\\n}\\n\\n#daumSearchBox #show_q {\\n    background-color: transparent;\\n    border: none;\\n    font: 12px Gulim, Sans-serif;\\n    color: #555;\\n    margin-top: 4px;\\n    margin-right: 15px;\\n    float: left;\\n}\\n\\n#daumSearchBox #show_btn {\\n    background-image: url(//i1.daumcdn.net/imgsrc.search/search_all/show/tistory/plugin/bt_search_2.gif);\\n    width: 37px;\\n    height: 21px;\\n    float: left;\\n    margin: 0;\\n    cursor: pointer;\\n    text-indent: -1000em;\\n}\\n</style>\\n\\n        <!-- DaumShow - END -->\\n\\n<!-- System - START -->\\n\\n<!-- System - END -->\\n\\n        <!-- TistoryProfileLayer - START -->\\n        <link href=\"https://tistory1.daumcdn.net/tistory_admin/userblog/tistory-9ab75860115d542cdd0537954f140d2cb94c6cd3/static/plugin/TistoryProfileLayer/style.css\" rel=\"stylesheet\" type=\"text/css\"/>\\n<script type=\"text/javascript\" src=\"https://tistory1.daumcdn.net/tistory_admin/userblog/tistory-9ab75860115d542cdd0537954f140d2cb94c6cd3/static/plugin/TistoryProfileLayer/script.js\"></script>\\n\\n        <!-- TistoryProfileLayer - END -->\\n\\n                \\n                <meta http-equiv=\"X-UA-Compatible\" content=\"IE=Edge\">\\n<meta name=\"format-detection\" content=\"telephone=no\">\\n<script src=\"//t1.daumcdn.net/tistory_admin/lib/jquery/jquery-3.5.1.min.js\" integrity=\"sha256-9/aliU8dGd2tb6OSsuzixeV4y/faTqgFtohetphbbj0=\" crossorigin=\"anonymous\"></script>\\n<script src=\"//t1.daumcdn.net/tistory_admin/lib/lightbox/js/lightbox-v2.10.0.min.js\" defer></script>\\n<script type=\"text/javascript\" src=\"//t1.daumcdn.net/tiara/js/v1/tiara.min.js\"></script><meta name=\"referrer\" content=\"always\"/>\\n<meta name=\"google-adsense-platform-account\" content=\"ca-host-pub-9691043933427338\"/>\\n<meta name=\"google-adsense-platform-domain\" content=\"tistory.com\"/>\\n<meta name=\"description\" content=\"\\xec\\xa0\\x95\\xea\\xb7\\x9c\\xed\\x91\\x9c\\xed\\x98\\x84\\xec\\x8b\\x9d\\xec\\x9d\\xb4\\xeb\\x9e\\x80? : Regular Expression\\xec\\x9d\\x84 \\xec\\xa4\\x84\\xec\\x97\\xac\\xec\\x84\\x9c Regex, Regexp \\xeb\\x93\\xb1\\xec\\x9c\\xbc\\xeb\\xa1\\x9c \\xeb\\xb6\\x88\\xeb\\xa6\\xb0\\xeb\\x8b\\xa4. Computer Science\\xec\\x9d\\x98 \\xec\\xa0\\x95\\xea\\xb7\\x9c \\xec\\x96\\xb8\\xec\\x96\\xb4(Regular Language)\\xeb\\xa1\\x9c\\xeb\\xb6\\x80\\xed\\x84\\xb0 \\xec\\x9c\\xa0\\xeb\\x9e\\x98\\xed\\x95\\x9c \\xea\\xb2\\x83\\xec\\x9c\\xbc\\xeb\\xa1\\x9c, \\xed\\x8a\\xb9\\xec\\xa0\\x95\\xed\\x95\\x9c \\xea\\xb7\\x9c\\xec\\xb9\\x99\\xec\\x9d\\x84 \\xea\\xb0\\x80\\xec\\xa7\\x84 \\xeb\\xac\\xb8\\xec\\x9e\\x90\\xec\\x97\\xb4\\xec\\x9d\\x98 \\xec\\xa7\\x91\\xed\\x95\\xa9\\xec\\x9d\\x84 \\xed\\x91\\x9c\\xed\\x98\\x84\\xed\\x95\\x98\\xea\\xb8\\xb0 \\xec\\x9c\\x84\\xed\\x95\\xb4 \\xec\\x93\\xb0\\xec\\x9d\\xb4\\xeb\\x8a\\x94 *\\xed\\x98\\x95\\xec\\x8b\\x9d \\xec\\x96\\xb8\\xec\\x96\\xb4\\xec\\x9d\\xb4\\xeb\\x8b\\xa4. =&gt; \\xec\\x96\\xb4\\xeb\\x96\\xa4 \\xed\\x85\\x8d\\xec\\x8a\\xa4\\xed\\x8a\\xb8 \\xeb\\x82\\xb4\\xec\\x97\\x90\\xec\\x84\\x9c \\'\\xed\\x8a\\xb9\\xec\\xa0\\x95\\xed\\x95\\x9c \\xed\\x98\\x95\\xed\\x83\\x9c\\xeb\\x82\\x98 \\xea\\xb7\\x9c\\xec\\xb9\\x99\\xec\\x9d\\x84 \\xea\\xb0\\x80\\xec\\xa7\\x84 \\xeb\\xac\\xb8\\xec\\x9e\\x90\\xec\\x97\\xb4\\' \\xec\\x9d\\x84 \\xec\\xb0\\xbe\\xea\\xb8\\xb0 \\xec\\x9c\\x84\\xed\\x95\\xb4 \\xea\\xb7\\xb8 \\xed\\x98\\x95\\xed\\x83\\x9c\\xeb\\x82\\x98 \\xea\\xb7\\x9c\\xec\\xb9\\x99\\xec\\x9d\\x84 \\xeb\\x82\\x98\\xed\\x83\\x80\\xeb\\x82\\xb4\\xeb\\x8a\\x94 \\xed\\x8c\\xa8\\xed\\x84\\xb4\\xec\\x9d\\x84 \\xec\\xa0\\x95\\xec\\x9d\\x98\\xed\\x95\\x98\\xeb\\x8a\\x94 \\xec\\x8b\\x9d. *\\xed\\x98\\x95\\xec\\x8b\\x9d \\xec\\x96\\xb8\\xec\\x96\\xb4(Formal Language) : \\xec\\x88\\x98\\xed\\x95\\x99, \\xec\\xbb\\xb4\\xed\\x93\\xa8\\xed\\x84\\xb0 \\xea\\xb3\\xbc\\xed\\x95\\x99, \\xec\\x96\\xb8\\xec\\x96\\xb4\\xed\\x95\\x99\\xec\\x97\\x90\\xec\\x84\\x9c \\xec\\x93\\xb0\\xeb\\x8a\\x94 \\xeb\\xa7\\x90\\xeb\\xa1\\x9c, \\xed\\x8a\\xb9\\xec\\xa0\\x95\\xed\\x95\\x9c \\xeb\\xb2\\x95\\xec\\xb9\\x99\\xeb\\x93\\xa4\\xec\\x97\\x90 \\xeb\\x94\\xb0\\xeb\\x9d\\xbc \\xec\\xa0\\x81\\xec\\xa0\\x88\\xed\\x95\\x98\\xea\\xb2\\x8c \\xea\\xb5\\xac\\xec\\x84\\xb1\\xeb\\x90\\x9c \\xeb\\xac\\xb8\\xec\\x9e\\x90\\xec\\x97\\xb4\\xeb\\x93\\xa4\\xec\\x9d\\x98 \\xec\\xa7\\x91\\xed\\x95\\xa9\\xec\\x9d\\x84 \\xeb\\xa7\\x90\\xed\\x95\\x9c\\xeb\\x8b\\xa4. \\xec\\xa0\\x95\\xea\\xb7\\x9c \\xed\\x91\\x9c\\xed\\x98\\x84\\xec\\x8b\\x9d\\xec\\x9d\\x98 \\xec\\xa2\\x85\\xeb\\xa5\\x98 (\\xec\\x97\\xad\\xec\\x82\\xac\\xea\\xb9\\x8c\\xec\\xa7\\x80?) \\xec\\xa0\\x95\\xea\\xb7\\x9c\\xed\\x91\\x9c\\xed\\x98\\x84\\xec\\x8b\\x9d\\xec\\x9d\\x80 \\xeb\\x8b\\xa4\\xec\\x96\\x91\\xed\\x95\\x9c \\xeb\\xb6\\x84\\xec\\x95\\xbc\\xec\\x97\\x90\\xec\\x84\\x9c \\xec\\x93\\xb0\\xec\\x9d\\xb4\\xea\\xb8\\xb0 \\xec\\x8b\\x9c\\xec\\x9e\\x91\\xed\\x96\\x88\\xeb\\x8a\\x94\\xeb\\x8d\\xb0, \\xea\\xb0\\x81 \\xeb\\xb6\\x84\\xec\\x95\\xbc\\xec\\x9d\\x98 \\xec\\xa0\\x95\\xea\\xb7\\x9c\\xec\\x8b\\x9d\\xec\\x9d\\x80 \\xec\\x84\\x9c\\xeb\\xa1\\x9c \\xec\\x98\\x81\\xed\\x96\\xa5\\xec\\x9d\\x84 \\xec\\xa3\\xbc\\xea\\xb3\\xa0 \\xeb\\xb0\\x9b\\xec\\x9c\\xbc\\xeb\\xa9\\xb4\\xec\\x84\\x9c \\xeb\\xb0\\x9c\\xec\\xa0\\x84\\xed\\x96\\x88\\xea\\xb3\\xa0, \\xea\\xb7\\xb8\\xea\\xb2\\x8c \\xec\\xa7\\x80\\xea\\xb8\\x88\\xec\\x9d\\x98 \\xec\\xa0\\x95\\xea\\xb7\\x9c..\"/>\\n<meta property=\"og:type\" content=\"article\"/>\\n<meta property=\"og:url\" content=\"https://co-no.tistory.com/entry/Linux-%EC%A0%95%EA%B7%9C%ED%91%9C%ED%98%84%EC%8B%9DRegex%EC%9D%98-%EA%B0%9C%EB%85%90%EA%B3%BC-%EA%B8%B0%EC%B4%88-%EB%AC%B8%EB%B2%95\"/>\\n<meta property=\"og.article.author\" content=\"\\xec\\xbd\\x94_\\xeb\\x85\\xb8\"/>\\n<meta property=\"og:site_name\" content=\"\\xec\\xbd\\x94\\xeb\\x94\\xa9\\xed\\x95\\x98\\xeb\\x8a\\x94 \\xec\\xa3\\xbc\\xeb\\x85\\xb8 \\xec\\x9d\\xb4\\xec\\x95\\xbc\\xea\\xb8\\xb0\"/>\\n<meta property=\"og:title\" content=\"\\xec\\xa0\\x95\\xea\\xb7\\x9c\\xed\\x91\\x9c\\xed\\x98\\x84\\xec\\x8b\\x9d(Regex)\\xec\\x9d\\x98 \\xea\\xb0\\x9c\\xeb\\x85\\x90\\xea\\xb3\\xbc \\xea\\xb8\\xb0\\xec\\xb4\\x88 \\xeb\\xac\\xb8\\xeb\\xb2\\x95\"/>\\n<meta name=\"by\" content=\"\\xec\\xbd\\x94_\\xeb\\x85\\xb8\"/>\\n<meta property=\"og:description\" content=\"\\xec\\xa0\\x95\\xea\\xb7\\x9c\\xed\\x91\\x9c\\xed\\x98\\x84\\xec\\x8b\\x9d\\xec\\x9d\\xb4\\xeb\\x9e\\x80? : Regular Expression\\xec\\x9d\\x84 \\xec\\xa4\\x84\\xec\\x97\\xac\\xec\\x84\\x9c Regex, Regexp \\xeb\\x93\\xb1\\xec\\x9c\\xbc\\xeb\\xa1\\x9c \\xeb\\xb6\\x88\\xeb\\xa6\\xb0\\xeb\\x8b\\xa4. Computer Science\\xec\\x9d\\x98 \\xec\\xa0\\x95\\xea\\xb7\\x9c \\xec\\x96\\xb8\\xec\\x96\\xb4(Regular Language)\\xeb\\xa1\\x9c\\xeb\\xb6\\x80\\xed\\x84\\xb0 \\xec\\x9c\\xa0\\xeb\\x9e\\x98\\xed\\x95\\x9c \\xea\\xb2\\x83\\xec\\x9c\\xbc\\xeb\\xa1\\x9c, \\xed\\x8a\\xb9\\xec\\xa0\\x95\\xed\\x95\\x9c \\xea\\xb7\\x9c\\xec\\xb9\\x99\\xec\\x9d\\x84 \\xea\\xb0\\x80\\xec\\xa7\\x84 \\xeb\\xac\\xb8\\xec\\x9e\\x90\\xec\\x97\\xb4\\xec\\x9d\\x98 \\xec\\xa7\\x91\\xed\\x95\\xa9\\xec\\x9d\\x84 \\xed\\x91\\x9c\\xed\\x98\\x84\\xed\\x95\\x98\\xea\\xb8\\xb0 \\xec\\x9c\\x84\\xed\\x95\\xb4 \\xec\\x93\\xb0\\xec\\x9d\\xb4\\xeb\\x8a\\x94 *\\xed\\x98\\x95\\xec\\x8b\\x9d \\xec\\x96\\xb8\\xec\\x96\\xb4\\xec\\x9d\\xb4\\xeb\\x8b\\xa4. =&gt; \\xec\\x96\\xb4\\xeb\\x96\\xa4 \\xed\\x85\\x8d\\xec\\x8a\\xa4\\xed\\x8a\\xb8 \\xeb\\x82\\xb4\\xec\\x97\\x90\\xec\\x84\\x9c \\'\\xed\\x8a\\xb9\\xec\\xa0\\x95\\xed\\x95\\x9c \\xed\\x98\\x95\\xed\\x83\\x9c\\xeb\\x82\\x98 \\xea\\xb7\\x9c\\xec\\xb9\\x99\\xec\\x9d\\x84 \\xea\\xb0\\x80\\xec\\xa7\\x84 \\xeb\\xac\\xb8\\xec\\x9e\\x90\\xec\\x97\\xb4\\' \\xec\\x9d\\x84 \\xec\\xb0\\xbe\\xea\\xb8\\xb0 \\xec\\x9c\\x84\\xed\\x95\\xb4 \\xea\\xb7\\xb8 \\xed\\x98\\x95\\xed\\x83\\x9c\\xeb\\x82\\x98 \\xea\\xb7\\x9c\\xec\\xb9\\x99\\xec\\x9d\\x84 \\xeb\\x82\\x98\\xed\\x83\\x80\\xeb\\x82\\xb4\\xeb\\x8a\\x94 \\xed\\x8c\\xa8\\xed\\x84\\xb4\\xec\\x9d\\x84 \\xec\\xa0\\x95\\xec\\x9d\\x98\\xed\\x95\\x98\\xeb\\x8a\\x94 \\xec\\x8b\\x9d. *\\xed\\x98\\x95\\xec\\x8b\\x9d \\xec\\x96\\xb8\\xec\\x96\\xb4(Formal Language) : \\xec\\x88\\x98\\xed\\x95\\x99, \\xec\\xbb\\xb4\\xed\\x93\\xa8\\xed\\x84\\xb0 \\xea\\xb3\\xbc\\xed\\x95\\x99, \\xec\\x96\\xb8\\xec\\x96\\xb4\\xed\\x95\\x99\\xec\\x97\\x90\\xec\\x84\\x9c \\xec\\x93\\xb0\\xeb\\x8a\\x94 \\xeb\\xa7\\x90\\xeb\\xa1\\x9c, \\xed\\x8a\\xb9\\xec\\xa0\\x95\\xed\\x95\\x9c \\xeb\\xb2\\x95\\xec\\xb9\\x99\\xeb\\x93\\xa4\\xec\\x97\\x90 \\xeb\\x94\\xb0\\xeb\\x9d\\xbc \\xec\\xa0\\x81\\xec\\xa0\\x88\\xed\\x95\\x98\\xea\\xb2\\x8c \\xea\\xb5\\xac\\xec\\x84\\xb1\\xeb\\x90\\x9c \\xeb\\xac\\xb8\\xec\\x9e\\x90\\xec\\x97\\xb4\\xeb\\x93\\xa4\\xec\\x9d\\x98 \\xec\\xa7\\x91\\xed\\x95\\xa9\\xec\\x9d\\x84 \\xeb\\xa7\\x90\\xed\\x95\\x9c\\xeb\\x8b\\xa4. \\xec\\xa0\\x95\\xea\\xb7\\x9c \\xed\\x91\\x9c\\xed\\x98\\x84\\xec\\x8b\\x9d\\xec\\x9d\\x98 \\xec\\xa2\\x85\\xeb\\xa5\\x98 (\\xec\\x97\\xad\\xec\\x82\\xac\\xea\\xb9\\x8c\\xec\\xa7\\x80?) \\xec\\xa0\\x95\\xea\\xb7\\x9c\\xed\\x91\\x9c\\xed\\x98\\x84\\xec\\x8b\\x9d\\xec\\x9d\\x80 \\xeb\\x8b\\xa4\\xec\\x96\\x91\\xed\\x95\\x9c \\xeb\\xb6\\x84\\xec\\x95\\xbc\\xec\\x97\\x90\\xec\\x84\\x9c \\xec\\x93\\xb0\\xec\\x9d\\xb4\\xea\\xb8\\xb0 \\xec\\x8b\\x9c\\xec\\x9e\\x91\\xed\\x96\\x88\\xeb\\x8a\\x94\\xeb\\x8d\\xb0, \\xea\\xb0\\x81 \\xeb\\xb6\\x84\\xec\\x95\\xbc\\xec\\x9d\\x98 \\xec\\xa0\\x95\\xea\\xb7\\x9c\\xec\\x8b\\x9d\\xec\\x9d\\x80 \\xec\\x84\\x9c\\xeb\\xa1\\x9c \\xec\\x98\\x81\\xed\\x96\\xa5\\xec\\x9d\\x84 \\xec\\xa3\\xbc\\xea\\xb3\\xa0 \\xeb\\xb0\\x9b\\xec\\x9c\\xbc\\xeb\\xa9\\xb4\\xec\\x84\\x9c \\xeb\\xb0\\x9c\\xec\\xa0\\x84\\xed\\x96\\x88\\xea\\xb3\\xa0, \\xea\\xb7\\xb8\\xea\\xb2\\x8c \\xec\\xa7\\x80\\xea\\xb8\\x88\\xec\\x9d\\x98 \\xec\\xa0\\x95\\xea\\xb7\\x9c..\"/>\\n<meta property=\"og:image\" content=\"https://img1.daumcdn.net/thumb/R800x0/?scode=mtistory2&fname=https%3A%2F%2Ft1.daumcdn.net%2Ftistory_admin%2Fstatic%2Fimages%2FopenGraph%2Fopengraph.png\"/>\\n<meta property=\"article:section\" content=\"\\'IT \\xec\\x9d\\xb8\\xed\\x84\\xb0\\xeb\\x84\\xb7\\'\"/>\\n<meta name=\"twitter:card\" content=\"summary_large_image\"/>\\n<meta name=\"twitter:site\" content=\"@TISTORY\"/>\\n<meta name=\"twitter:title\" content=\"\\xec\\xa0\\x95\\xea\\xb7\\x9c\\xed\\x91\\x9c\\xed\\x98\\x84\\xec\\x8b\\x9d(Regex)\\xec\\x9d\\x98 \\xea\\xb0\\x9c\\xeb\\x85\\x90\\xea\\xb3\\xbc \\xea\\xb8\\xb0\\xec\\xb4\\x88 \\xeb\\xac\\xb8\\xeb\\xb2\\x95\"/>\\n<meta name=\"twitter:description\" content=\"\\xec\\xa0\\x95\\xea\\xb7\\x9c\\xed\\x91\\x9c\\xed\\x98\\x84\\xec\\x8b\\x9d\\xec\\x9d\\xb4\\xeb\\x9e\\x80? : Regular Expression\\xec\\x9d\\x84 \\xec\\xa4\\x84\\xec\\x97\\xac\\xec\\x84\\x9c Regex, Regexp \\xeb\\x93\\xb1\\xec\\x9c\\xbc\\xeb\\xa1\\x9c \\xeb\\xb6\\x88\\xeb\\xa6\\xb0\\xeb\\x8b\\xa4. Computer Science\\xec\\x9d\\x98 \\xec\\xa0\\x95\\xea\\xb7\\x9c \\xec\\x96\\xb8\\xec\\x96\\xb4(Regular Language)\\xeb\\xa1\\x9c\\xeb\\xb6\\x80\\xed\\x84\\xb0 \\xec\\x9c\\xa0\\xeb\\x9e\\x98\\xed\\x95\\x9c \\xea\\xb2\\x83\\xec\\x9c\\xbc\\xeb\\xa1\\x9c, \\xed\\x8a\\xb9\\xec\\xa0\\x95\\xed\\x95\\x9c \\xea\\xb7\\x9c\\xec\\xb9\\x99\\xec\\x9d\\x84 \\xea\\xb0\\x80\\xec\\xa7\\x84 \\xeb\\xac\\xb8\\xec\\x9e\\x90\\xec\\x97\\xb4\\xec\\x9d\\x98 \\xec\\xa7\\x91\\xed\\x95\\xa9\\xec\\x9d\\x84 \\xed\\x91\\x9c\\xed\\x98\\x84\\xed\\x95\\x98\\xea\\xb8\\xb0 \\xec\\x9c\\x84\\xed\\x95\\xb4 \\xec\\x93\\xb0\\xec\\x9d\\xb4\\xeb\\x8a\\x94 *\\xed\\x98\\x95\\xec\\x8b\\x9d \\xec\\x96\\xb8\\xec\\x96\\xb4\\xec\\x9d\\xb4\\xeb\\x8b\\xa4. =&gt; \\xec\\x96\\xb4\\xeb\\x96\\xa4 \\xed\\x85\\x8d\\xec\\x8a\\xa4\\xed\\x8a\\xb8 \\xeb\\x82\\xb4\\xec\\x97\\x90\\xec\\x84\\x9c \\'\\xed\\x8a\\xb9\\xec\\xa0\\x95\\xed\\x95\\x9c \\xed\\x98\\x95\\xed\\x83\\x9c\\xeb\\x82\\x98 \\xea\\xb7\\x9c\\xec\\xb9\\x99\\xec\\x9d\\x84 \\xea\\xb0\\x80\\xec\\xa7\\x84 \\xeb\\xac\\xb8\\xec\\x9e\\x90\\xec\\x97\\xb4\\' \\xec\\x9d\\x84 \\xec\\xb0\\xbe\\xea\\xb8\\xb0 \\xec\\x9c\\x84\\xed\\x95\\xb4 \\xea\\xb7\\xb8 \\xed\\x98\\x95\\xed\\x83\\x9c\\xeb\\x82\\x98 \\xea\\xb7\\x9c\\xec\\xb9\\x99\\xec\\x9d\\x84 \\xeb\\x82\\x98\\xed\\x83\\x80\\xeb\\x82\\xb4\\xeb\\x8a\\x94 \\xed\\x8c\\xa8\\xed\\x84\\xb4\\xec\\x9d\\x84 \\xec\\xa0\\x95\\xec\\x9d\\x98\\xed\\x95\\x98\\xeb\\x8a\\x94 \\xec\\x8b\\x9d. *\\xed\\x98\\x95\\xec\\x8b\\x9d \\xec\\x96\\xb8\\xec\\x96\\xb4(Formal Language) : \\xec\\x88\\x98\\xed\\x95\\x99, \\xec\\xbb\\xb4\\xed\\x93\\xa8\\xed\\x84\\xb0 \\xea\\xb3\\xbc\\xed\\x95\\x99, \\xec\\x96\\xb8\\xec\\x96\\xb4\\xed\\x95\\x99\\xec\\x97\\x90\\xec\\x84\\x9c \\xec\\x93\\xb0\\xeb\\x8a\\x94 \\xeb\\xa7\\x90\\xeb\\xa1\\x9c, \\xed\\x8a\\xb9\\xec\\xa0\\x95\\xed\\x95\\x9c \\xeb\\xb2\\x95\\xec\\xb9\\x99\\xeb\\x93\\xa4\\xec\\x97\\x90 \\xeb\\x94\\xb0\\xeb\\x9d\\xbc \\xec\\xa0\\x81\\xec\\xa0\\x88\\xed\\x95\\x98\\xea\\xb2\\x8c \\xea\\xb5\\xac\\xec\\x84\\xb1\\xeb\\x90\\x9c \\xeb\\xac\\xb8\\xec\\x9e\\x90\\xec\\x97\\xb4\\xeb\\x93\\xa4\\xec\\x9d\\x98 \\xec\\xa7\\x91\\xed\\x95\\xa9\\xec\\x9d\\x84 \\xeb\\xa7\\x90\\xed\\x95\\x9c\\xeb\\x8b\\xa4. \\xec\\xa0\\x95\\xea\\xb7\\x9c \\xed\\x91\\x9c\\xed\\x98\\x84\\xec\\x8b\\x9d\\xec\\x9d\\x98 \\xec\\xa2\\x85\\xeb\\xa5\\x98 (\\xec\\x97\\xad\\xec\\x82\\xac\\xea\\xb9\\x8c\\xec\\xa7\\x80?) \\xec\\xa0\\x95\\xea\\xb7\\x9c\\xed\\x91\\x9c\\xed\\x98\\x84\\xec\\x8b\\x9d\\xec\\x9d\\x80 \\xeb\\x8b\\xa4\\xec\\x96\\x91\\xed\\x95\\x9c \\xeb\\xb6\\x84\\xec\\x95\\xbc\\xec\\x97\\x90\\xec\\x84\\x9c \\xec\\x93\\xb0\\xec\\x9d\\xb4\\xea\\xb8\\xb0 \\xec\\x8b\\x9c\\xec\\x9e\\x91\\xed\\x96\\x88\\xeb\\x8a\\x94\\xeb\\x8d\\xb0, \\xea\\xb0\\x81 \\xeb\\xb6\\x84\\xec\\x95\\xbc\\xec\\x9d\\x98 \\xec\\xa0\\x95\\xea\\xb7\\x9c\\xec\\x8b\\x9d\\xec\\x9d\\x80 \\xec\\x84\\x9c\\xeb\\xa1\\x9c \\xec\\x98\\x81\\xed\\x96\\xa5\\xec\\x9d\\x84 \\xec\\xa3\\xbc\\xea\\xb3\\xa0 \\xeb\\xb0\\x9b\\xec\\x9c\\xbc\\xeb\\xa9\\xb4\\xec\\x84\\x9c \\xeb\\xb0\\x9c\\xec\\xa0\\x84\\xed\\x96\\x88\\xea\\xb3\\xa0, \\xea\\xb7\\xb8\\xea\\xb2\\x8c \\xec\\xa7\\x80\\xea\\xb8\\x88\\xec\\x9d\\x98 \\xec\\xa0\\x95\\xea\\xb7\\x9c..\"/>\\n<meta property=\"twitter:image\" content=\"https://img1.daumcdn.net/thumb/R800x0/?scode=mtistory2&fname=https%3A%2F%2Ft1.daumcdn.net%2Ftistory_admin%2Fstatic%2Fimages%2FopenGraph%2Fopengraph.png\"/>\\n<meta content=\"https://co-no.tistory.com/111\" property=\"dg:plink\" content=\"https://co-no.tistory.com/111\"/>\\n<meta name=\"plink\"/>\\n<meta name=\"title\" content=\"\\xec\\xa0\\x95\\xea\\xb7\\x9c\\xed\\x91\\x9c\\xed\\x98\\x84\\xec\\x8b\\x9d(Regex)\\xec\\x9d\\x98 \\xea\\xb0\\x9c\\xeb\\x85\\x90\\xea\\xb3\\xbc \\xea\\xb8\\xb0\\xec\\xb4\\x88 \\xeb\\xac\\xb8\\xeb\\xb2\\x95\"/>\\n<meta name=\"article:media_name\" content=\"\\xec\\xbd\\x94\\xeb\\x94\\xa9\\xed\\x95\\x98\\xeb\\x8a\\x94 \\xec\\xa3\\xbc\\xeb\\x85\\xb8 \\xec\\x9d\\xb4\\xec\\x95\\xbc\\xea\\xb8\\xb0\"/>\\n<meta property=\"article:mobile_url\" content=\"https://co-no.tistory.com/m/entry/Linux-%EC%A0%95%EA%B7%9C%ED%91%9C%ED%98%84%EC%8B%9DRegex%EC%9D%98-%EA%B0%9C%EB%85%90%EA%B3%BC-%EA%B8%B0%EC%B4%88-%EB%AC%B8%EB%B2%95\"/>\\n<meta property=\"article:pc_url\" content=\"https://co-no.tistory.com/entry/Linux-%EC%A0%95%EA%B7%9C%ED%91%9C%ED%98%84%EC%8B%9DRegex%EC%9D%98-%EA%B0%9C%EB%85%90%EA%B3%BC-%EA%B8%B0%EC%B4%88-%EB%AC%B8%EB%B2%95\"/>\\n<meta property=\"article:mobile_view_url\" content=\"https://co-no.tistory.com/m/entry/Linux-%EC%A0%95%EA%B7%9C%ED%91%9C%ED%98%84%EC%8B%9DRegex%EC%9D%98-%EA%B0%9C%EB%85%90%EA%B3%BC-%EA%B8%B0%EC%B4%88-%EB%AC%B8%EB%B2%95\"/>\\n<meta property=\"article:pc_view_url\" content=\"https://co-no.tistory.com/entry/Linux-%EC%A0%95%EA%B7%9C%ED%91%9C%ED%98%84%EC%8B%9DRegex%EC%9D%98-%EA%B0%9C%EB%85%90%EA%B3%BC-%EA%B8%B0%EC%B4%88-%EB%AC%B8%EB%B2%95\"/>\\n<meta property=\"article:talk_channel_view_url\" content=\"https://co-no.tistory.com/m/entry/Linux-%EC%A0%95%EA%B7%9C%ED%91%9C%ED%98%84%EC%8B%9DRegex%EC%9D%98-%EA%B0%9C%EB%85%90%EA%B3%BC-%EA%B8%B0%EC%B4%88-%EB%AC%B8%EB%B2%95\"/>\\n<meta property=\"article:pc_service_home\" content=\"https://www.tistory.com\"/>\\n<meta property=\"article:mobile_service_home\" content=\"https://www.tistory.com/m\"/>\\n<meta property=\"article:txid\" content=\"5011151_111\"/>\\n<meta property=\"article:published_time\" content=\"2022-08-23T10:49:29+09:00\"/>\\n<meta property=\"og:regDate\" content=\"20220817013247\"/>\\n<meta property=\"article:modified_time\" content=\"2023-10-28T14:28:47+09:00\"/>\\n<link rel=\"icon\" sizes=\"any\" href=\"https://t1.daumcdn.net/tistory_admin/favicon/tistory_favicon_32x32.ico\"/>\\n<link rel=\"icon\" type=\"image/svg+xml\" href=\"https://t1.daumcdn.net/tistory_admin/top_v2/bi-tistory-favicon.svg\"/>\\n<link rel=\"apple-touch-icon\" href=\"https://t1.daumcdn.net/tistory_admin/top_v2/tistory-apple-touch-favicon.png\"/>\\n<link rel=\"stylesheet\" type=\"text/css\" href=\"https://t1.daumcdn.net/tistory_admin/lib/lightbox/css/lightbox.min.css\"/>\\n<link rel=\"stylesheet\" type=\"text/css\" href=\"https://tistory1.daumcdn.net/tistory_admin/userblog/tistory-9ab75860115d542cdd0537954f140d2cb94c6cd3/static/style/font.css\"/>\\n<link rel=\"stylesheet\" type=\"text/css\" href=\"https://tistory1.daumcdn.net/tistory_admin/userblog/tistory-9ab75860115d542cdd0537954f140d2cb94c6cd3/static/style/content.css\"/>\\n<link rel=\"stylesheet\" type=\"text/css\" href=\"https://tistory1.daumcdn.net/tistory_admin/userblog/tistory-9ab75860115d542cdd0537954f140d2cb94c6cd3/static/style/uselessPMargin.css\"/>\\n<script type=\"text/javascript\">(function() {\\n    var tjQuery = jQuery.noConflict(true);\\n    window.tjQuery = tjQuery;\\n    window.orgjQuery = window.jQuery; window.jQuery = tjQuery;\\n    window.jQuery = window.orgjQuery; delete window.orgjQuery;\\n})()</script>\\n<script type=\"text/javascript\" src=\"https://tistory1.daumcdn.net/tistory_admin/userblog/tistory-9ab75860115d542cdd0537954f140d2cb94c6cd3/static/script/base.js\"></script>\\n<script type=\"text/javascript\" src=\"//developers.kakao.com/sdk/js/kakao.min.js\"></script>\\n\\n                \\n\\t\\t<title>\\xec\\xa0\\x95\\xea\\xb7\\x9c\\xed\\x91\\x9c\\xed\\x98\\x84\\xec\\x8b\\x9d(Regex)\\xec\\x9d\\x98 \\xea\\xb0\\x9c\\xeb\\x85\\x90\\xea\\xb3\\xbc \\xea\\xb8\\xb0\\xec\\xb4\\x88 \\xeb\\xac\\xb8\\xeb\\xb2\\x95 - \\xec\\xbd\\x94\\xeb\\x94\\xa9\\xed\\x95\\x98\\xeb\\x8a\\x94 \\xec\\xa3\\xbc\\xeb\\x85\\xb8 \\xec\\x9d\\xb4\\xec\\x95\\xbc\\xea\\xb8\\xb0</title>\\n\\t\\t<meta http-equiv=\"Content-Type\" content=\"text/html; charset=utf-8\" />\\n\\t\\t<meta name=\"title\" content=\"\\xec\\xa0\\x95\\xea\\xb7\\x9c\\xed\\x91\\x9c\\xed\\x98\\x84\\xec\\x8b\\x9d(Regex)\\xec\\x9d\\x98 \\xea\\xb0\\x9c\\xeb\\x85\\x90\\xea\\xb3\\xbc \\xea\\xb8\\xb0\\xec\\xb4\\x88 \\xeb\\xac\\xb8\\xeb\\xb2\\x95 - \\xec\\xbd\\x94\\xeb\\x94\\xa9\\xed\\x95\\x98\\xeb\\x8a\\x94 \\xec\\xa3\\xbc\\xeb\\x85\\xb8 \\xec\\x9d\\xb4\\xec\\x95\\xbc\\xea\\xb8\\xb0\" />\\n\\t\\t<meta name=\"viewport\" content=\"width=device-width, height=device-height, initial-scale=1, minimum-scale=1.0, maximum-scale=1.0\" />\\n\\t\\t<meta http-equiv=\"X-UA-Compatible\" content=\"IE=edge, chrome=1\" />\\n\\n\\t\\t<link rel=\"alternate\" type=\"application/rss+xml\" title=\"\\xec\\xbd\\x94\\xeb\\x94\\xa9\\xed\\x95\\x98\\xeb\\x8a\\x94 \\xec\\xa3\\xbc\\xeb\\x85\\xb8 \\xec\\x9d\\xb4\\xec\\x95\\xbc\\xea\\xb8\\xb0\" href=\"https://co-no.tistory.com/rss\" />\\n\\t\\t<link rel=\"shortcut icon\" href=\"https://co-no.tistory.com/favicon.ico\" />\\n\\t\\t<link rel=\"stylesheet\" href=\"https://tistory1.daumcdn.net/tistory/5011151/skin/style.css?_version_=1679118887\" />\\n\\n\\t\\t<!--\\xec\\xbd\\x94\\xeb\\x93\\x9c\\xeb\\xb8\\x94\\xeb\\x9f\\xad \\xeb\\xb3\\xb5\\xec\\x82\\xac \\xeb\\xb2\\x84\\xed\\x8a\\xbc1 -->\\n\\t\\t<script src=\"//t1.daumcdn.net/tistory_admin/lib/jquery/jquery-1.12.4.min.js\"></script>\\n\\t\\t<script type=\"text/javascript\" src=\"https://tistory1.daumcdn.net/tistory/5011151/skin/images/clipboard.min.js?_version_=1679118887\"></script>\\n\\n\\n\\t\\t<script src=\"https://tistory1.daumcdn.net/tistory/5011151/skin/images/jquery-3.3.1.min.js?_version_=1679118887\"></script>\\n\\t\\t<script src=\"https://tistory1.daumcdn.net/tistory/5011151/skin/images/common.js?_version_=1679118887\"></script>\\n\\t\\t<style>\\n\\t\\t\\t #header_wrap {\\n\\t\\t\\t\\tbackground-color: #4b5258 !important;\\n\\t\\t\\t}\\n\\n\\t\\t\\t\\n\\t\\t</style>\\n\\t\\t<meta name=\"google-site-verification\" content=\"-Egex9PmErHlarmblMvDVc6hGnJXdWf1Df40BldCNik\" />\\n\\t\\t<meta name=\"naver-site-verification\" content=\"8cf9fff3219151a1b1853e676044eaaff49569b9\" />\\n\\t\\n                \\n                \\n                <style type=\"text/css\">.another_category {\\n    border: 1px solid #E5E5E5;\\n    padding: 10px 10px 5px;\\n    margin: 10px 0;\\n    clear: both;\\n}\\n\\n.another_category h4 {\\n    font-size: 12px !important;\\n    margin: 0 !important;\\n    border-bottom: 1px solid #E5E5E5 !important;\\n    padding: 2px 0 6px !important;\\n}\\n\\n.another_category h4 a {\\n    font-weight: bold !important;\\n}\\n\\n.another_category table {\\n    table-layout: fixed;\\n    border-collapse: collapse;\\n    width: 100% !important;\\n    margin-top: 10px !important;\\n}\\n\\n* html .another_category table {\\n    width: auto !important;\\n}\\n\\n*:first-child + html .another_category table {\\n    width: auto !important;\\n}\\n\\n.another_category th, .another_category td {\\n    padding: 0 0 4px !important;\\n}\\n\\n.another_category th {\\n    text-align: left;\\n    font-size: 12px !important;\\n    font-weight: normal;\\n    word-break: break-all;\\n    overflow: hidden;\\n    line-height: 1.5;\\n}\\n\\n.another_category td {\\n    text-align: right;\\n    width: 80px;\\n    font-size: 11px;\\n}\\n\\n.another_category th a {\\n    font-weight: normal;\\n    text-decoration: none;\\n    border: none !important;\\n}\\n\\n.another_category th a.current {\\n    font-weight: bold;\\n    text-decoration: none !important;\\n    border-bottom: 1px solid !important;\\n}\\n\\n.another_category th span {\\n    font-weight: normal;\\n    text-decoration: none;\\n    font: 10px Tahoma, Sans-serif;\\n    border: none !important;\\n}\\n\\n.another_category_color_gray, .another_category_color_gray h4 {\\n    border-color: #E5E5E5 !important;\\n}\\n\\n.another_category_color_gray * {\\n    color: #909090 !important;\\n}\\n\\n.another_category_color_gray th a.current {\\n    border-color: #909090 !important;\\n}\\n\\n.another_category_color_gray h4, .another_category_color_gray h4 a {\\n    color: #737373 !important;\\n}\\n\\n.another_category_color_red, .another_category_color_red h4 {\\n    border-color: #F6D4D3 !important;\\n}\\n\\n.another_category_color_red * {\\n    color: #E86869 !important;\\n}\\n\\n.another_category_color_red th a.current {\\n    border-color: #E86869 !important;\\n}\\n\\n.another_category_color_red h4, .another_category_color_red h4 a {\\n    color: #ED0908 !important;\\n}\\n\\n.another_category_color_green, .another_category_color_green h4 {\\n    border-color: #CCE7C8 !important;\\n}\\n\\n.another_category_color_green * {\\n    color: #64C05B !important;\\n}\\n\\n.another_category_color_green th a.current {\\n    border-color: #64C05B !important;\\n}\\n\\n.another_category_color_green h4, .another_category_color_green h4 a {\\n    color: #3EA731 !important;\\n}\\n\\n.another_category_color_blue, .another_category_color_blue h4 {\\n    border-color: #C8DAF2 !important;\\n}\\n\\n.another_category_color_blue * {\\n    color: #477FD6 !important;\\n}\\n\\n.another_category_color_blue th a.current {\\n    border-color: #477FD6 !important;\\n}\\n\\n.another_category_color_blue h4, .another_category_color_blue h4 a {\\n    color: #1960CA !important;\\n}\\n\\n.another_category_color_violet, .another_category_color_violet h4 {\\n    border-color: #E1CEEC !important;\\n}\\n\\n.another_category_color_violet * {\\n    color: #9D64C5 !important;\\n}\\n\\n.another_category_color_violet th a.current {\\n    border-color: #9D64C5 !important;\\n}\\n\\n.another_category_color_violet h4, .another_category_color_violet h4 a {\\n    color: #7E2CB5 !important;\\n}\\n</style>\\n\\n                \\n                <link rel=\"stylesheet\" type=\"text/css\" href=\"https://tistory1.daumcdn.net/tistory_admin/userblog/tistory-9ab75860115d542cdd0537954f140d2cb94c6cd3/static/style/revenue.css\"/>\\n<link rel=\"canonical\" href=\"https://co-no.tistory.com/entry/Linux-%EC%A0%95%EA%B7%9C%ED%91%9C%ED%98%84%EC%8B%9DRegex%EC%9D%98-%EA%B0%9C%EB%85%90%EA%B3%BC-%EA%B8%B0%EC%B4%88-%EB%AC%B8%EB%B2%95\"/>\\n\\n<!-- BEGIN STRUCTURED_DATA -->\\n<script type=\"application/ld+json\">\\n    {\"@context\":\"http://schema.org\",\"@type\":\"BlogPosting\",\"mainEntityOfPage\":{\"@id\":\"https://co-no.tistory.com/entry/Linux-%EC%A0%95%EA%B7%9C%ED%91%9C%ED%98%84%EC%8B%9DRegex%EC%9D%98-%EA%B0%9C%EB%85%90%EA%B3%BC-%EA%B8%B0%EC%B4%88-%EB%AC%B8%EB%B2%95\",\"name\":null},\"url\":\"https://co-no.tistory.com/entry/Linux-%EC%A0%95%EA%B7%9C%ED%91%9C%ED%98%84%EC%8B%9DRegex%EC%9D%98-%EA%B0%9C%EB%85%90%EA%B3%BC-%EA%B8%B0%EC%B4%88-%EB%AC%B8%EB%B2%95\",\"headline\":\"\\xec\\xa0\\x95\\xea\\xb7\\x9c\\xed\\x91\\x9c\\xed\\x98\\x84\\xec\\x8b\\x9d(Regex)\\xec\\x9d\\x98 \\xea\\xb0\\x9c\\xeb\\x85\\x90\\xea\\xb3\\xbc \\xea\\xb8\\xb0\\xec\\xb4\\x88 \\xeb\\xac\\xb8\\xeb\\xb2\\x95\",\"description\":\"\\xec\\xa0\\x95\\xea\\xb7\\x9c\\xed\\x91\\x9c\\xed\\x98\\x84\\xec\\x8b\\x9d\\xec\\x9d\\xb4\\xeb\\x9e\\x80? : Regular Expression\\xec\\x9d\\x84 \\xec\\xa4\\x84\\xec\\x97\\xac\\xec\\x84\\x9c Regex, Regexp \\xeb\\x93\\xb1\\xec\\x9c\\xbc\\xeb\\xa1\\x9c \\xeb\\xb6\\x88\\xeb\\xa6\\xb0\\xeb\\x8b\\xa4. Computer Science\\xec\\x9d\\x98 \\xec\\xa0\\x95\\xea\\xb7\\x9c \\xec\\x96\\xb8\\xec\\x96\\xb4(Regular Language)\\xeb\\xa1\\x9c\\xeb\\xb6\\x80\\xed\\x84\\xb0 \\xec\\x9c\\xa0\\xeb\\x9e\\x98\\xed\\x95\\x9c \\xea\\xb2\\x83\\xec\\x9c\\xbc\\xeb\\xa1\\x9c, \\xed\\x8a\\xb9\\xec\\xa0\\x95\\xed\\x95\\x9c \\xea\\xb7\\x9c\\xec\\xb9\\x99\\xec\\x9d\\x84 \\xea\\xb0\\x80\\xec\\xa7\\x84 \\xeb\\xac\\xb8\\xec\\x9e\\x90\\xec\\x97\\xb4\\xec\\x9d\\x98 \\xec\\xa7\\x91\\xed\\x95\\xa9\\xec\\x9d\\x84 \\xed\\x91\\x9c\\xed\\x98\\x84\\xed\\x95\\x98\\xea\\xb8\\xb0 \\xec\\x9c\\x84\\xed\\x95\\xb4 \\xec\\x93\\xb0\\xec\\x9d\\xb4\\xeb\\x8a\\x94 *\\xed\\x98\\x95\\xec\\x8b\\x9d \\xec\\x96\\xb8\\xec\\x96\\xb4\\xec\\x9d\\xb4\\xeb\\x8b\\xa4. =&gt; \\xec\\x96\\xb4\\xeb\\x96\\xa4 \\xed\\x85\\x8d\\xec\\x8a\\xa4\\xed\\x8a\\xb8 \\xeb\\x82\\xb4\\xec\\x97\\x90\\xec\\x84\\x9c \\'\\xed\\x8a\\xb9\\xec\\xa0\\x95\\xed\\x95\\x9c \\xed\\x98\\x95\\xed\\x83\\x9c\\xeb\\x82\\x98 \\xea\\xb7\\x9c\\xec\\xb9\\x99\\xec\\x9d\\x84 \\xea\\xb0\\x80\\xec\\xa7\\x84 \\xeb\\xac\\xb8\\xec\\x9e\\x90\\xec\\x97\\xb4\\' \\xec\\x9d\\x84 \\xec\\xb0\\xbe\\xea\\xb8\\xb0 \\xec\\x9c\\x84\\xed\\x95\\xb4 \\xea\\xb7\\xb8 \\xed\\x98\\x95\\xed\\x83\\x9c\\xeb\\x82\\x98 \\xea\\xb7\\x9c\\xec\\xb9\\x99\\xec\\x9d\\x84 \\xeb\\x82\\x98\\xed\\x83\\x80\\xeb\\x82\\xb4\\xeb\\x8a\\x94 \\xed\\x8c\\xa8\\xed\\x84\\xb4\\xec\\x9d\\x84 \\xec\\xa0\\x95\\xec\\x9d\\x98\\xed\\x95\\x98\\xeb\\x8a\\x94 \\xec\\x8b\\x9d. *\\xed\\x98\\x95\\xec\\x8b\\x9d \\xec\\x96\\xb8\\xec\\x96\\xb4(Formal Language) : \\xec\\x88\\x98\\xed\\x95\\x99, \\xec\\xbb\\xb4\\xed\\x93\\xa8\\xed\\x84\\xb0 \\xea\\xb3\\xbc\\xed\\x95\\x99, \\xec\\x96\\xb8\\xec\\x96\\xb4\\xed\\x95\\x99\\xec\\x97\\x90\\xec\\x84\\x9c \\xec\\x93\\xb0\\xeb\\x8a\\x94 \\xeb\\xa7\\x90\\xeb\\xa1\\x9c, \\xed\\x8a\\xb9\\xec\\xa0\\x95\\xed\\x95\\x9c \\xeb\\xb2\\x95\\xec\\xb9\\x99\\xeb\\x93\\xa4\\xec\\x97\\x90 \\xeb\\x94\\xb0\\xeb\\x9d\\xbc \\xec\\xa0\\x81\\xec\\xa0\\x88\\xed\\x95\\x98\\xea\\xb2\\x8c \\xea\\xb5\\xac\\xec\\x84\\xb1\\xeb\\x90\\x9c \\xeb\\xac\\xb8\\xec\\x9e\\x90\\xec\\x97\\xb4\\xeb\\x93\\xa4\\xec\\x9d\\x98 \\xec\\xa7\\x91\\xed\\x95\\xa9\\xec\\x9d\\x84 \\xeb\\xa7\\x90\\xed\\x95\\x9c\\xeb\\x8b\\xa4. \\xec\\xa0\\x95\\xea\\xb7\\x9c \\xed\\x91\\x9c\\xed\\x98\\x84\\xec\\x8b\\x9d\\xec\\x9d\\x98 \\xec\\xa2\\x85\\xeb\\xa5\\x98 (\\xec\\x97\\xad\\xec\\x82\\xac\\xea\\xb9\\x8c\\xec\\xa7\\x80?) \\xec\\xa0\\x95\\xea\\xb7\\x9c\\xed\\x91\\x9c\\xed\\x98\\x84\\xec\\x8b\\x9d\\xec\\x9d\\x80 \\xeb\\x8b\\xa4\\xec\\x96\\x91\\xed\\x95\\x9c \\xeb\\xb6\\x84\\xec\\x95\\xbc\\xec\\x97\\x90\\xec\\x84\\x9c \\xec\\x93\\xb0\\xec\\x9d\\xb4\\xea\\xb8\\xb0 \\xec\\x8b\\x9c\\xec\\x9e\\x91\\xed\\x96\\x88\\xeb\\x8a\\x94\\xeb\\x8d\\xb0, \\xea\\xb0\\x81 \\xeb\\xb6\\x84\\xec\\x95\\xbc\\xec\\x9d\\x98 \\xec\\xa0\\x95\\xea\\xb7\\x9c\\xec\\x8b\\x9d\\xec\\x9d\\x80 \\xec\\x84\\x9c\\xeb\\xa1\\x9c \\xec\\x98\\x81\\xed\\x96\\xa5\\xec\\x9d\\x84 \\xec\\xa3\\xbc\\xea\\xb3\\xa0 \\xeb\\xb0\\x9b\\xec\\x9c\\xbc\\xeb\\xa9\\xb4\\xec\\x84\\x9c \\xeb\\xb0\\x9c\\xec\\xa0\\x84\\xed\\x96\\x88\\xea\\xb3\\xa0, \\xea\\xb7\\xb8\\xea\\xb2\\x8c \\xec\\xa7\\x80\\xea\\xb8\\x88\\xec\\x9d\\x98 \\xec\\xa0\\x95\\xea\\xb7\\x9c..\",\"author\":{\"@type\":\"Person\",\"name\":\"\\xec\\xbd\\x94_\\xeb\\x85\\xb8\",\"logo\":null},\"image\":{\"@type\":\"ImageObject\",\"url\":\"https://img1.daumcdn.net/thumb/R800x0/?scode=mtistory2&fname=https%3A%2F%2Ft1.daumcdn.net%2Ftistory_admin%2Fstatic%2Fimages%2FopenGraph%2Fopengraph.png\",\"width\":\"800px\",\"height\":\"800px\"},\"datePublished\":\"20220823T10:49:29\",\"dateModified\":\"20231028T14:28:47\",\"publisher\":{\"@type\":\"Organization\",\"name\":\"TISTORY\",\"logo\":{\"@type\":\"ImageObject\",\"url\":\"https://t1.daumcdn.net/tistory_admin/static/images/openGraph/opengraph.png\",\"width\":\"800px\",\"height\":\"800px\"}}}\\n</script>\\n<!-- END STRUCTURED_DATA -->\\n<link rel=\"stylesheet\" type=\"text/css\" href=\"https://tistory1.daumcdn.net/tistory_admin/userblog/tistory-9ab75860115d542cdd0537954f140d2cb94c6cd3/static/style/dialog.css\"/>\\n<link rel=\"stylesheet\" type=\"text/css\" href=\"//t1.daumcdn.net/tistory_admin/www/style/top/font.css\"/>\\n<link rel=\"stylesheet\" type=\"text/css\" href=\"https://tistory1.daumcdn.net/tistory_admin/userblog/tistory-9ab75860115d542cdd0537954f140d2cb94c6cd3/static/style/postBtn.css\"/>\\n<link rel=\"stylesheet\" type=\"text/css\" href=\"https://tistory1.daumcdn.net/tistory_admin/userblog/tistory-9ab75860115d542cdd0537954f140d2cb94c6cd3/static/style/comment.css\"/>\\n<link rel=\"stylesheet\" type=\"text/css\" href=\"https://tistory1.daumcdn.net/tistory_admin/userblog/tistory-9ab75860115d542cdd0537954f140d2cb94c6cd3/static/style/tistory.css\"/>\\n<script type=\"text/javascript\" src=\"https://tistory1.daumcdn.net/tistory_admin/userblog/tistory-9ab75860115d542cdd0537954f140d2cb94c6cd3/static/script/common.js\"></script>\\n<script type=\"text/javascript\" src=\"https://tistory1.daumcdn.net/tistory_admin/userblog/tistory-9ab75860115d542cdd0537954f140d2cb94c6cd3/static/script/comment.js\" defer=\"\"></script>\\n\\n                \\n                </head>\\n\\n\\t                                                <body id=\"tt-body-page\" class=\"sidebar-on\">\\n                \\n                \\n                \\n\\n\\t\\t\\n\\t\\t\\t<div id=\"header_wrap\">\\n\\n\\t\\t\\t\\t<div id=\"header_gnb\">\\n\\n\\t\\t\\t\\t\\t<!-- \\xed\\x97\\xa4\\xeb\\x8d\\x94 \\xec\\x98\\x81\\xec\\x97\\xad -->\\n\\t\\t\\t\\t\\t<header>\\n\\t\\t\\t\\t\\t  \\n\\t\\t\\t\\t\\t\\t\\n\\t\\t\\t\\t\\t\\t<div id=\"header-title\">\\n\\t\\t\\t\\t\\t\\t\\t<a href=\"https://co-no.tistory.com/\">\\xec\\xbd\\x94\\xeb\\x94\\xa9\\xed\\x95\\x98\\xeb\\x8a\\x94 \\xec\\xa3\\xbc\\xeb\\x85\\xb8 \\xec\\x9d\\xb4\\xec\\x95\\xbc\\xea\\xb8\\xb0</a>\\n\\t\\t\\t\\t\\t\\t</div>\\n\\n\\t\\t\\t\\t\\t\\t\\n\\t\\t\\t\\t\\t\\t\\t<div class=\"header-blog-menu\">\\n\\t\\t\\t\\t\\t\\t\\t\\t<ul>\\n  <li class=\"t_menu_home first\"><a href=\"/\" target=\"\">\\xed\\x99\\x88</a></li>\\n  <li class=\"t_menu_category last\"><a href=\"/category\" target=\"\">\\xec\\xbd\\x94\\xeb\\x94\\xa9 \\xec\\x9d\\xb4\\xec\\x95\\xbc\\xea\\xb8\\xb0</a></li>\\n</ul>\\n\\t\\t\\t\\t\\t\\t\\t</div>\\n\\t\\t\\t\\t\\t\\t\\n\\n\\t\\t\\t\\t\\t\\t<div class=\"dropdown-content\">\\n\\n\\n\\t\\t\\t\\t\\t\\t\\t<ul id=\"myDropdown\">\\n\\t\\t\\t\\t\\t\\t\\t\\t<li>\\n\\t\\t\\t\\t\\t\\t\\t\\t\\t<ul class=\"tt_category\"><li class=\"\"><a href=\"/category\" class=\"link_tit\"> \\xec\\xbd\\x94\\xeb\\x94\\xa9 \\xec\\x9d\\xb4\\xec\\x95\\xbc\\xea\\xb8\\xb0 <span class=\"c_cnt\">(115)</span> </a>\\n  <ul class=\"category_list\"><li class=\"\"><a href=\"/category/DB\" class=\"link_item\"> DB <span class=\"c_cnt\">(32)</span> </a>\\n  <ul class=\"sub_category_list\"><li class=\"\"><a href=\"/category/DB/SQL%20Server%20%28MSSQL%29\" class=\"link_sub_item\"> SQL Server (MSSQL) <span class=\"c_cnt\">(24)</span> </a></li>\\n<li class=\"\"><a href=\"/category/DB/MongoDB\" class=\"link_sub_item\"> MongoDB <span class=\"c_cnt\">(2)</span> </a></li>\\n<li class=\"\"><a href=\"/category/DB/Hadoop%20Ecosystem\" class=\"link_sub_item\"> Hadoop Ecosystem <span class=\"c_cnt\">(0)</span> </a></li>\\n<li class=\"\"><a href=\"/category/DB/SQLP%20%EA%B3%B5%EB%B6%80\" class=\"link_sub_item\"> SQLP \\xea\\xb3\\xb5\\xeb\\xb6\\x80 <span class=\"c_cnt\">(2)</span> </a></li>\\n</ul>\\n</li>\\n<li class=\"\"><a href=\"/category/%EB%8D%B0%EC%9D%B4%ED%84%B0%20%EC%97%94%EC%A7%80%EB%8B%88%EC%96%B4%EB%A7%81\" class=\"link_item\"> \\xeb\\x8d\\xb0\\xec\\x9d\\xb4\\xed\\x84\\xb0 \\xec\\x97\\x94\\xec\\xa7\\x80\\xeb\\x8b\\x88\\xec\\x96\\xb4\\xeb\\xa7\\x81 <span class=\"c_cnt\">(0)</span> </a>\\n  <ul class=\"sub_category_list\"><li class=\"\"><a href=\"/category/%EB%8D%B0%EC%9D%B4%ED%84%B0%20%EC%97%94%EC%A7%80%EB%8B%88%EC%96%B4%EB%A7%81/Spark\" class=\"link_sub_item\"> Spark <span class=\"c_cnt\">(0)</span> </a></li>\\n</ul>\\n</li>\\n<li class=\"\"><a href=\"/category/Middleware\" class=\"link_item\"> Middleware <span class=\"c_cnt\">(21)</span> </a>\\n  <ul class=\"sub_category_list\"><li class=\"\"><a href=\"/category/Middleware/%EC%9B%B9%EC%84%9C%EB%B2%84\" class=\"link_sub_item\"> \\xec\\x9b\\xb9\\xec\\x84\\x9c\\xeb\\xb2\\x84 <span class=\"c_cnt\">(7)</span> </a></li>\\n<li class=\"\"><a href=\"/category/Middleware/WAS\" class=\"link_sub_item\"> WAS <span class=\"c_cnt\">(6)</span> </a></li>\\n<li class=\"\"><a href=\"/category/Middleware/WSGI\" class=\"link_sub_item\"> WSGI <span class=\"c_cnt\">(3)</span> </a></li>\\n<li class=\"\"><a href=\"/category/Middleware/%EA%B8%B0%ED%83%80\" class=\"link_sub_item\"> \\xea\\xb8\\xb0\\xed\\x83\\x80 <span class=\"c_cnt\">(5)</span> </a></li>\\n</ul>\\n</li>\\n<li class=\"\"><a href=\"/category/OS\" class=\"link_item\"> OS <span class=\"c_cnt\">(9)</span> </a>\\n  <ul class=\"sub_category_list\"><li class=\"\"><a href=\"/category/OS/Linux\" class=\"link_sub_item\"> Linux <span class=\"c_cnt\">(6)</span> </a></li>\\n<li class=\"\"><a href=\"/category/OS/Windows\" class=\"link_sub_item\"> Windows <span class=\"c_cnt\">(3)</span> </a></li>\\n</ul>\\n</li>\\n<li class=\"\"><a href=\"/category/Network\" class=\"link_item\"> Network <span class=\"c_cnt\">(8)</span> </a></li>\\n<li class=\"\"><a href=\"/category/Cloud\" class=\"link_item\"> Cloud <span class=\"c_cnt\">(1)</span> </a>\\n  <ul class=\"sub_category_list\"><li class=\"\"><a href=\"/category/Cloud/AWS\" class=\"link_sub_item\"> AWS <span class=\"c_cnt\">(1)</span> </a></li>\\n</ul>\\n</li>\\n<li class=\"\"><a href=\"/category/DevOps\" class=\"link_item\"> DevOps <span class=\"c_cnt\">(6)</span> </a>\\n  <ul class=\"sub_category_list\"><li class=\"\"><a href=\"/category/DevOps/Github\" class=\"link_sub_item\"> Github <span class=\"c_cnt\">(2)</span> </a></li>\\n<li class=\"\"><a href=\"/category/DevOps/Ansible\" class=\"link_sub_item\"> Ansible <span class=\"c_cnt\">(1)</span> </a></li>\\n<li class=\"\"><a href=\"/category/DevOps/Terraform\" class=\"link_sub_item\"> Terraform <span class=\"c_cnt\">(3)</span> </a></li>\\n</ul>\\n</li>\\n<li class=\"\"><a href=\"/category/Security\" class=\"link_item\"> Security <span class=\"c_cnt\">(3)</span> </a></li>\\n<li class=\"\"><a href=\"/category/Observability\" class=\"link_item\"> Observability <span class=\"c_cnt\">(5)</span> </a></li>\\n<li class=\"\"><a href=\"/category/CS%20%EC%A7%80%EC%8B%9D%20%7C%20%EA%B8%B0%EC%B4%88%20%EC%9A%A9%EC%96%B4%2C%EA%B0%9C%EB%85%90\" class=\"link_item\"> CS \\xec\\xa7\\x80\\xec\\x8b\\x9d | \\xea\\xb8\\xb0\\xec\\xb4\\x88 \\xec\\x9a\\xa9\\xec\\x96\\xb4,\\xea\\xb0\\x9c\\xeb\\x85\\x90 <span class=\"c_cnt\">(7)</span> </a></li>\\n<li class=\"\"><a href=\"/category/Python\" class=\"link_item\"> Python <span class=\"c_cnt\">(1)</span> </a>\\n  <ul class=\"sub_category_list\"><li class=\"\"><a href=\"/category/Python/Flask\" class=\"link_sub_item\"> Flask <span class=\"c_cnt\">(0)</span> </a></li>\\n</ul>\\n</li>\\n<li class=\"\"><a href=\"/category/Java\" class=\"link_item\"> Java <span class=\"c_cnt\">(7)</span> </a>\\n  <ul class=\"sub_category_list\"><li class=\"\"><a href=\"/category/Java/JPA\" class=\"link_sub_item\"> JPA <span class=\"c_cnt\">(0)</span> </a></li>\\n</ul>\\n</li>\\n<li class=\"\"><a href=\"/category/%EC%95%88%EB%93%9C%EB%A1%9C%EC%9D%B4%EB%93%9C\" class=\"link_item\"> \\xec\\x95\\x88\\xeb\\x93\\x9c\\xeb\\xa1\\x9c\\xec\\x9d\\xb4\\xeb\\x93\\x9c <span class=\"c_cnt\">(1)</span> </a></li>\\n<li class=\"\"><a href=\"/category/%EC%95%8C%EA%B3%A0%EB%A6%AC%EC%A6%98%20%EA%B3%B5%EB%B6%80\" class=\"link_item\"> \\xec\\x95\\x8c\\xea\\xb3\\xa0\\xeb\\xa6\\xac\\xec\\xa6\\x98 \\xea\\xb3\\xb5\\xeb\\xb6\\x80 <span class=\"c_cnt\">(14)</span> </a></li>\\n</ul>\\n</li>\\n</ul>\\n\\n\\t\\t\\t\\t\\t\\t\\t\\t</li>\\n\\t\\t\\t\\t\\t\\t\\t\\t<li><a href=\"https://co-no.tistory.com/manage/entry/post\"><i class=\"fas fa-pen\"></i>\\xea\\xb8\\x80\\xec\\x9e\\x91\\xec\\x84\\xb1</a></li>\\n\\t\\t\\t\\t\\t\\t\\t\\t<li><a href=\"/guestbook\"><i class=\"fas fa-comment-alt\"></i>\\xeb\\xb0\\xa9\\xeb\\xaa\\x85\\xeb\\xa1\\x9d</a></li>\\n\\t\\t\\t\\t\\t\\t\\t\\t<li><a href=\"https://co-no.tistory.com/manage\"><i class=\"fas fa-cog\"></i>\\xed\\x99\\x98\\xea\\xb2\\xbd\\xec\\x84\\xa4\\xec\\xa0\\x95</a></li>\\n\\n\\t\\t\\t\\t\\t\\t\\t\\t<li><div class=\"closeBtn\">\\xeb\\xa9\\x94\\xeb\\x89\\xb4 \\xeb\\x8b\\xab\\xea\\xb8\\xb0</div></li>\\n\\n\\t\\t\\t\\t\\t\\t\\t</ul>\\n\\n\\t\\t\\t\\t\\t\\t</div>\\n\\t\\t\\t\\t\\t\\t<div id=\"header-ico\">\\n\\t\\t\\t\\t\\t\\t\\t<button class=\"btn_topMenu\" id=\"btn_topbtn\"><i id=\"topbtn\" class=\"fas fa-bars\"></i></button>\\n\\n\\t\\t\\t\\t\\t\\t</div>\\n\\t\\t\\t\\t\\t</header>\\n\\t\\t\\t\\t</div>\\n\\t\\t\\t</div>\\n\\t\\t\\n\\t\\t<div id=\"wrap\">\\n\\n\\n\\t\\t\\t<div id=\"container\">\\n\\n\\t\\t\\t\\t<div id=\"main\" role=\"main\">\\n\\t\\t\\t\\t\\t<!-- content { -->\\n\\t\\t\\t\\t\\t<div id=\"content\">\\n\\t\\t\\t\\t\\t\\t\\n\\t\\t\\t\\t\\t\\t\\n\\t\\t\\t\\t\\t\\t\\n\\n\\n\\n\\t\\t\\t\\t\\t\\t\\n\\n\\t\\t\\t\\t\\t\\t\\n\\n\\n\\t\\t\\t\\t\\t\\t          \\n              \\n\\n\\t<section  class=\"entry h-entry\">\\n\\t\\t<div class=\"content-width\">\\n\\n\\t\\t\\t\\n\\n\\t\\t\\t\\n\\t\\t\\t\\t<header class=\"hd\">\\n\\t\\t\\t\\t\\t<div class=\"hd-inner\">\\n\\t\\t\\t\\t\\t\\t<h1 class=\"hd-heading lts-narrow p-name\" role=\"heading\">\\n\\t\\t\\t\\t\\t\\t\\t<a href=\"/entry/Linux-%EC%A0%95%EA%B7%9C%ED%91%9C%ED%98%84%EC%8B%9DRegex%EC%9D%98-%EA%B0%9C%EB%85%90%EA%B3%BC-%EA%B8%B0%EC%B4%88-%EB%AC%B8%EB%B2%95\">\\xec\\xa0\\x95\\xea\\xb7\\x9c\\xed\\x91\\x9c\\xed\\x98\\x84\\xec\\x8b\\x9d(Regex)\\xec\\x9d\\x98 \\xea\\xb0\\x9c\\xeb\\x85\\x90\\xea\\xb3\\xbc \\xea\\xb8\\xb0\\xec\\xb4\\x88 \\xeb\\xac\\xb8\\xeb\\xb2\\x95</a>\\n\\t\\t\\t\\t\\t\\t</h1>\\n\\t\\t\\t\\t\\t\\t<div class=\"sub-info\">\\n\\t\\t\\t\\t\\t\\t\\t<span class=\"meta-cate\">\\n\\t\\t\\t\\t\\t\\t\\t\\t<a href=\"/category/OS/Linux\" class=\"p-category target-bread\">OS/Linux</a>\\n\\t\\t\\t\\t\\t\\t\\t</span> / \\n\\t\\t\\t\\t\\t\\t\\t<span class=\"p-author h-card\" rel=\"author\" title=\"\\xec\\x9e\\x91\\xec\\x84\\xb1\\xec\\x9e\\x90\"><a href=\"/guestbook\">\\xec\\xbd\\x94_\\xeb\\x85\\xb8</a></span> / \\n\\n\\t\\t\\t\\t\\t\\t\\t<abbr class=\"timeago dt-published\" title=\"2022. 8. 23. 10:49\">2022. 8. 23. 10:49</abbr>\\n\\n\\t\\t\\t\\t\\t\\t</div>\\n\\t\\t\\t\\t\\t</div>\\n\\t\\t\\t\\t</header>\\n\\n\\t\\t\\t\\t\\n\\n\\t\\t\\t\\t<div class=\"e-content post-content\">\\n\\t\\t\\t\\t\\t            <!-- System - START -->\\n\\n<!-- System - END -->\\n\\n            <div class=\"tt_article_useless_p_margin contents_style\"><h3 data-ke-size=\"size23\"><span style=\"font-family: \\'Noto Serif KR\\';\"><b>\\xec\\xa0\\x95\\xea\\xb7\\x9c\\xed\\x91\\x9c\\xed\\x98\\x84\\xec\\x8b\\x9d\\xec\\x9d\\xb4\\xeb\\x9e\\x80?</b></span></h3>\\n<p data-ke-size=\"size16\">: <b>Regular Expression</b>\\xec\\x9d\\x84 \\xec\\xa4\\x84\\xec\\x97\\xac\\xec\\x84\\x9c <b>Regex</b>, <b>Regexp</b> \\xeb\\x93\\xb1\\xec\\x9c\\xbc\\xeb\\xa1\\x9c \\xeb\\xb6\\x88\\xeb\\xa6\\xb0\\xeb\\x8b\\xa4. Computer Science\\xec\\x9d\\x98 \\xec\\xa0\\x95\\xea\\xb7\\x9c \\xec\\x96\\xb8\\xec\\x96\\xb4(Regular Language)\\xeb\\xa1\\x9c\\xeb\\xb6\\x80\\xed\\x84\\xb0 \\xec\\x9c\\xa0\\xeb\\x9e\\x98\\xed\\x95\\x9c \\xea\\xb2\\x83\\xec\\x9c\\xbc\\xeb\\xa1\\x9c, <span style=\"color: #8a3db6;\"><b>\\xed\\x8a\\xb9\\xec\\xa0\\x95\\xed\\x95\\x9c \\xea\\xb7\\x9c\\xec\\xb9\\x99\\xec\\x9d\\x84 \\xea\\xb0\\x80\\xec\\xa7\\x84 \\xeb\\xac\\xb8\\xec\\x9e\\x90\\xec\\x97\\xb4\\xec\\x9d\\x98 \\xec\\xa7\\x91\\xed\\x95\\xa9\\xec\\x9d\\x84 \\xed\\x91\\x9c\\xed\\x98\\x84\\xed\\x95\\x98\\xea\\xb8\\xb0 \\xec\\x9c\\x84\\xed\\x95\\xb4 \\xec\\x93\\xb0\\xec\\x9d\\xb4\\xeb\\x8a\\x94 *\\xed\\x98\\x95\\xec\\x8b\\x9d \\xec\\x96\\xb8\\xec\\x96\\xb4</b></span>\\xec\\x9d\\xb4\\xeb\\x8b\\xa4.</p>\\n<p data-ke-size=\"size16\">&nbsp;</p>\\n<p data-ke-size=\"size16\">=&gt; <span style=\"color: #006dd7;\"><b>\\xec\\x96\\xb4\\xeb\\x96\\xa4 \\xed\\x85\\x8d\\xec\\x8a\\xa4\\xed\\x8a\\xb8 \\xeb\\x82\\xb4\\xec\\x97\\x90\\xec\\x84\\x9c \\'\\xed\\x8a\\xb9\\xec\\xa0\\x95\\xed\\x95\\x9c \\xed\\x98\\x95\\xed\\x83\\x9c\\xeb\\x82\\x98 \\xea\\xb7\\x9c\\xec\\xb9\\x99\\xec\\x9d\\x84 \\xea\\xb0\\x80\\xec\\xa7\\x84 \\xeb\\xac\\xb8\\xec\\x9e\\x90\\xec\\x97\\xb4\\' \\xec\\x9d\\x84 \\xec\\xb0\\xbe\\xea\\xb8\\xb0 \\xec\\x9c\\x84\\xed\\x95\\xb4 \\xea\\xb7\\xb8 \\xed\\x98\\x95\\xed\\x83\\x9c\\xeb\\x82\\x98 \\xea\\xb7\\x9c\\xec\\xb9\\x99\\xec\\x9d\\x84 \\xeb\\x82\\x98\\xed\\x83\\x80\\xeb\\x82\\xb4\\xeb\\x8a\\x94 \\xed\\x8c\\xa8\\xed\\x84\\xb4\\xec\\x9d\\x84 \\xec\\xa0\\x95\\xec\\x9d\\x98\\xed\\x95\\x98\\xeb\\x8a\\x94 \\xec\\x8b\\x9d.</b></span></p>\\n<p data-ke-size=\"size16\">&nbsp;</p>\\n<p data-ke-size=\"size16\">&nbsp;</p>\\n<p data-ke-size=\"size16\"><b>*\\xed\\x98\\x95\\xec\\x8b\\x9d \\xec\\x96\\xb8\\xec\\x96\\xb4(Formal Language)</b> : \\xec\\x88\\x98\\xed\\x95\\x99, \\xec\\xbb\\xb4\\xed\\x93\\xa8\\xed\\x84\\xb0 \\xea\\xb3\\xbc\\xed\\x95\\x99, \\xec\\x96\\xb8\\xec\\x96\\xb4\\xed\\x95\\x99\\xec\\x97\\x90\\xec\\x84\\x9c \\xec\\x93\\xb0\\xeb\\x8a\\x94 \\xeb\\xa7\\x90\\xeb\\xa1\\x9c, \\xed\\x8a\\xb9\\xec\\xa0\\x95\\xed\\x95\\x9c \\xeb\\xb2\\x95\\xec\\xb9\\x99\\xeb\\x93\\xa4\\xec\\x97\\x90 \\xeb\\x94\\xb0\\xeb\\x9d\\xbc \\xec\\xa0\\x81\\xec\\xa0\\x88\\xed\\x95\\x98\\xea\\xb2\\x8c \\xea\\xb5\\xac\\xec\\x84\\xb1\\xeb\\x90\\x9c \\xeb\\xac\\xb8\\xec\\x9e\\x90\\xec\\x97\\xb4\\xeb\\x93\\xa4\\xec\\x9d\\x98 \\xec\\xa7\\x91\\xed\\x95\\xa9\\xec\\x9d\\x84 \\xeb\\xa7\\x90\\xed\\x95\\x9c\\xeb\\x8b\\xa4.</p>\\n<hr contenteditable=\"false\" data-ke-type=\"horizontalRule\" data-ke-style=\"style2\" />\\n<h3 data-ke-size=\"size23\"><span style=\"font-family: \\'Noto Serif KR\\';\"><b>\\xec\\xa0\\x95\\xea\\xb7\\x9c \\xed\\x91\\x9c\\xed\\x98\\x84\\xec\\x8b\\x9d\\xec\\x9d\\x98 \\xec\\xa2\\x85\\xeb\\xa5\\x98 (\\xec\\x97\\xad\\xec\\x82\\xac\\xea\\xb9\\x8c\\xec\\xa7\\x80?)</b></span></h3>\\n<p data-ke-size=\"size16\">&nbsp;\\xec\\xa0\\x95\\xea\\xb7\\x9c\\xed\\x91\\x9c\\xed\\x98\\x84\\xec\\x8b\\x9d\\xec\\x9d\\x80 \\xeb\\x8b\\xa4\\xec\\x96\\x91\\xed\\x95\\x9c \\xeb\\xb6\\x84\\xec\\x95\\xbc\\xec\\x97\\x90\\xec\\x84\\x9c \\xec\\x93\\xb0\\xec\\x9d\\xb4\\xea\\xb8\\xb0 \\xec\\x8b\\x9c\\xec\\x9e\\x91\\xed\\x96\\x88\\xeb\\x8a\\x94\\xeb\\x8d\\xb0, \\xea\\xb0\\x81 \\xeb\\xb6\\x84\\xec\\x95\\xbc\\xec\\x9d\\x98 \\xec\\xa0\\x95\\xea\\xb7\\x9c\\xec\\x8b\\x9d\\xec\\x9d\\x80 \\xec\\x84\\x9c\\xeb\\xa1\\x9c \\xec\\x98\\x81\\xed\\x96\\xa5\\xec\\x9d\\x84 \\xec\\xa3\\xbc\\xea\\xb3\\xa0 \\xeb\\xb0\\x9b\\xec\\x9c\\xbc\\xeb\\xa9\\xb4\\xec\\x84\\x9c \\xeb\\xb0\\x9c\\xec\\xa0\\x84\\xed\\x96\\x88\\xea\\xb3\\xa0, \\xea\\xb7\\xb8\\xea\\xb2\\x8c \\xec\\xa7\\x80\\xea\\xb8\\x88\\xec\\x9d\\x98 \\xec\\xa0\\x95\\xea\\xb7\\x9c\\xed\\x91\\x9c\\xed\\x98\\x84\\xec\\x8b\\x9d\\xec\\x9d\\x84 \\xeb\\xa7\\x8c\\xeb\\x93\\xa4\\xea\\xb2\\x8c \\xeb\\x90\\x98\\xec\\x97\\x88\\xeb\\x8b\\xa4. \\xec\\x97\\xac\\xea\\xb8\\xb0\\xec\\x84\\x9c \\xeb\\xac\\xb8\\xec\\xa0\\x9c\\xeb\\x8a\\x94 \\xec\\x9d\\xb4\\xeb\\x9f\\xac\\xed\\x95\\x9c \\xec\\xa0\\x95\\xea\\xb7\\x9c \\xed\\x91\\x9c\\xed\\x98\\x84\\xec\\x8b\\x9d\\xec\\x97\\x90 \\xed\\x86\\xb5\\xec\\x9d\\xbc\\xeb\\x90\\x9c \\xed\\x91\\x9c\\xec\\xa4\\x80\\xec\\x9d\\xb4 \\xec\\x97\\x86\\xeb\\x8b\\xa4\\xeb\\x8a\\x94 \\xea\\xb2\\x83\\xec\\x9d\\xb4\\xeb\\x8b\\xa4.</p>\\n<p data-ke-size=\"size16\"><s><i>(\\xec\\x95\\x84\\xeb\\x8b\\x88... \\xec\\x9d\\xb4\\xeb\\xa6\\x84\\xeb\\xb6\\x80\\xed\\x84\\xb0 \\xec\\xa0\\x95\\xea\\xb7\\x9c \\xed\\x91\\x9c\\xed\\x98\\x84\\xec\\x8b\\x9d\\xec\\x9d\\x80\\xeb\\x8d\\xb0 Regular \\xed\\x95\\x9c \\xed\\x91\\x9c\\xec\\xa4\\x80\\xec\\x9d\\xb4 \\xec\\x97\\x86\\xeb\\x8b\\xa4\\xea\\xb3\\xa0...?)</i></s></p>\\n<p data-ke-size=\"size16\">&nbsp;</p>\\n<p data-ke-size=\"size16\">&nbsp;UNIX \\xec\\x8b\\x9c\\xec\\x8a\\xa4\\xed\\x85\\x9c\\xec\\x9d\\x98 \\xeb\\xaa\\x85\\xeb\\xa0\\xb9\\xec\\xa4\\x84 \\xeb\\x8f\\x84\\xea\\xb5\\xac\\xeb\\x93\\xa4\\xec\\x97\\x90\\xec\\x84\\x9c \\xec\\x82\\xac\\xec\\x9a\\xa9\\xed\\x95\\x98\\xeb\\x8d\\x98 \\xec\\xa0\\x95\\xea\\xb7\\x9c\\xed\\x91\\x9c\\xed\\x98\\x84\\xec\\x8b\\x9d\\xec\\x9d\\x80 \\xec\\x9d\\xb4\\xed\\x9b\\x84\\xec\\x97\\x90 <span style=\"color: #006dd7;\"><b>*POSIX \\xed\\x91\\x9c\\xec\\xa4\\x80</b></span>\\xec\\x97\\x90 \\xed\\x8e\\xb8\\xec\\x9e\\x85\\xeb\\x90\\x98\\xec\\x97\\x88\\xeb\\x8b\\xa4. \\xec\\x9d\\xb4 \\xec\\x8b\\x9c\\xea\\xb8\\xb0\\xec\\x9d\\x98 \\xed\\x91\\x9c\\xec\\xa4\\x80\\xec\\x9c\\xbc\\xeb\\xa1\\x9c \\xeb\\xb0\\x9b\\xec\\x95\\x84\\xeb\\x93\\xa4\\xec\\x97\\xac\\xec\\xa7\\x84 \\xed\\x98\\x95\\xec\\x8b\\x9d\\xec\\x9d\\x84 POSIX \\xec\\xa0\\x95\\xea\\xb7\\x9c\\xec\\x8b\\x9d\\xec\\x9d\\xb4\\xeb\\x9d\\xbc\\xea\\xb3\\xa0 \\xed\\x95\\x9c\\xeb\\x8b\\xa4.</p>\\n<p data-ke-size=\"size16\">&nbsp;\\xec\\x9d\\xb4\\xed\\x9b\\x84, \\xeb\\x8b\\xa4\\xec\\x8b\\x9c POSIX \\xec\\xa0\\x95\\xea\\xb7\\x9c\\xec\\x8b\\x9d\\xec\\x9d\\x80 <span style=\"color: #006dd7;\"><b>POSIX BRE (Basic Regular Expression)</b></span>\\xec\\x99\\x80 <span style=\"color: #006dd7;\"><b>POSIX ERE (Extended Regular Expression)</b></span>\\xec\\x9c\\xbc\\xeb\\xa1\\x9c \\xeb\\x82\\x98\\xeb\\x89\\x98\\xea\\xb2\\x8c \\xeb\\x90\\x9c\\xeb\\x8b\\xa4. (<u>grep -e \\xec\\x8a\\xa4\\xec\\x9c\\x84\\xec\\xb9\\x98\\xeb\\xa5\\xbc \\xec\\x82\\xac\\xec\\x9a\\xa9</u>\\xed\\x95\\x98\\xec\\x97\\xac \\xed\\x99\\x95\\xec\\x9e\\xa5 \\xec\\xa0\\x95\\xea\\xb7\\x9c\\xec\\x8b\\x9d\\xec\\x9d\\x84 \\xec\\x93\\xb0\\xea\\xb2\\x8c \\xeb\\x90\\x98\\xeb\\x8a\\x94\\xeb\\x8d\\xb0 \\xec\\x9d\\xb4\\xeb\\x9f\\xac\\xed\\x95\\x9c \\xed\\x99\\x95\\xec\\x9e\\xa5 \\xec\\xa0\\x95\\xea\\xb7\\x9c\\xec\\x8b\\x9d\\xec\\x9d\\xb4 <u>ERE\\xeb\\xa5\\xbc \\xec\\x9d\\x98\\xeb\\xaf\\xb8</u>\\xed\\x95\\x9c\\xeb\\x8b\\xa4.)&nbsp;</p>\\n<p data-ke-size=\"size16\">&nbsp;\\xea\\xb7\\xb8 \\xec\\x99\\xb8\\xec\\x97\\x90 BRE\\xeb\\xa5\\xbc \\xea\\xb8\\xb0\\xeb\\xb3\\xb8 \\xea\\xb3\\xa8\\xea\\xb2\\xa9\\xec\\x9c\\xbc\\xeb\\xa1\\x9c \\xed\\x95\\x9c <span style=\"color: #006dd7;\"><b>vim \\xec\\xa0\\x95\\xea\\xb7\\x9c\\xec\\x8b\\x9d</b></span>\\xec\\x9d\\xb4 \\xec\\x9e\\x88\\xeb\\x8a\\x94\\xeb\\x8d\\xb0, \\xec\\x9d\\xb4\\xeb\\x8a\\x94 vim \\xec\\x97\\x90\\xeb\\x94\\x94\\xed\\x84\\xb0 \\xeb\\x82\\xb4\\xec\\x97\\x90\\xec\\x84\\x9c \\xec\\xb0\\xbe\\xea\\xb8\\xb0 \\xeb\\x98\\x90\\xeb\\x8a\\x94 \\xeb\\xb0\\x94\\xea\\xbe\\xb8\\xea\\xb8\\xb0 \\xeb\\x93\\xb1\\xec\\x9d\\x98 \\xeb\\x8f\\x99\\xec\\x9e\\x91\\xec\\x97\\x90\\xec\\x84\\x9c \\xeb\\xb2\\x94\\xec\\x9c\\x84\\xeb\\xa5\\xbc \\xec\\xa7\\x80\\xec\\xa0\\x95\\xed\\x95\\x98\\xeb\\x8a\\x94 \\xeb\\x8d\\xb0\\xec\\x97\\x90 \\xec\\x82\\xac\\xec\\x9a\\xa9\\xeb\\x90\\x9c\\xeb\\x8b\\xa4. BRE\\xec\\x97\\x90\\xec\\x84\\x9c \\xec\\x8b\\x9c\\xec\\x9e\\x91\\xeb\\x90\\x90\\xec\\xa7\\x80\\xeb\\xa7\\x8c, \\xec\\x98\\xa4\\xeb\\x9e\\x9c \\xec\\x97\\xad\\xec\\x82\\xac\\xeb\\xa5\\xbc \\xeb\\x94\\xb0\\xeb\\x9d\\xbc \\xea\\xb0\\x9c\\xec\\x84\\xa0\\xea\\xb3\\xbc \\xed\\x99\\x95\\xec\\x9e\\xa5\\xec\\x9d\\x84 \\xea\\xb1\\xb0\\xeb\\x93\\xad\\xed\\x95\\x98\\xeb\\xa9\\xb4\\xec\\x84\\x9c POSIX \\xed\\x91\\x9c\\xec\\xa4\\x80\\xea\\xb3\\xbc\\xeb\\x8a\\x94 \\xec\\xa1\\xb0\\xea\\xb8\\x88 \\xeb\\x8b\\xa4\\xeb\\xa5\\xb8 \\xea\\xb7\\x9c\\xea\\xb2\\xa9\\xec\\x9c\\xbc\\xeb\\xa1\\x9c \\xec\\xb7\\xa8\\xea\\xb8\\x89\\xeb\\x90\\xa0 \\xec\\xa0\\x95\\xeb\\x8f\\x84\\xeb\\xa1\\x9c \\xec\\xb0\\xa8\\xec\\x9d\\xb4\\xea\\xb0\\x80 \\xec\\x9e\\x88\\xeb\\x8b\\xa4.</p>\\n<p data-ke-size=\"size16\">&nbsp;\\xec\\x9d\\xb4\\xed\\x9b\\x84 \\xeb\\xac\\xb8\\xec\\x9e\\x90\\xec\\x97\\xb4\\xec\\x9d\\x84 \\xeb\\x8b\\xa4\\xeb\\xa3\\xa8\\xeb\\x8a\\x94 \\xeb\\x8d\\xb0\\xec\\x97\\x90 \\xed\\x8a\\xb9\\xed\\x99\\x94\\xeb\\x90\\x9c \\xec\\x8a\\xa4\\xed\\x81\\xac\\xeb\\xa6\\xbd\\xed\\x8a\\xb8 \\xec\\x96\\xb8\\xec\\x96\\xb4\\xec\\x9d\\xb8 <b>\\xed\\x8e\\x84(Perl)\\xec\\x9d\\xb4 \\xeb\\x93\\xb1\\xec\\x9e\\xa5</b>\\xed\\x96\\x88\\xeb\\x8a\\x94\\xeb\\x8d\\xb0, \\xed\\x8e\\x84\\xec\\x9d\\x98 \\xec\\xa0\\x95\\xea\\xb7\\x9c\\xec\\x8b\\x9d \\xec\\xb2\\xb4\\xea\\xb3\\x84 \\xec\\x97\\xad\\xec\\x8b\\x9c \\xea\\xb8\\xb0\\xeb\\xb3\\xb8 \\xea\\xb3\\xa8\\xea\\xb2\\xa9\\xec\\x9d\\x80 POSIX BRE\\xeb\\xa5\\xbc \\xeb\\x94\\xb0\\xeb\\xa5\\xb4\\xeb\\x82\\x98, \\xec\\x9d\\xb4\\xed\\x9b\\x84 \\xec\\x97\\x84\\xec\\xb2\\xad\\xeb\\x82\\x98\\xea\\xb2\\x8c \\xeb\\xa7\\x8e\\xec\\x9d\\x80 \\xed\\x99\\x95\\xec\\x9e\\xa5\\xec\\x9d\\xb4 \\xec\\xa7\\x84\\xed\\x96\\x89\\xeb\\x90\\x98\\xeb\\xa9\\xb4\\xec\\x84\\x9c \\xed\\x8e\\x84\\xec\\x9d\\x98 \\xec\\xa0\\x95\\xea\\xb7\\x9c\\xec\\x8b\\x9d\\xec\\x9d\\x80 \\xeb\\xb3\\x84\\xeb\\x8f\\x84\\xeb\\xa1\\x9c <span style=\"color: #006dd7;\"><b>PCRE</b></span> \\xeb\\x9d\\xbc\\xeb\\x8a\\x94 \\xea\\xb7\\x9c\\xea\\xb2\\xa9\\xec\\x9c\\xbc\\xeb\\xa1\\x9c \\xec\\xa0\\x95\\xeb\\xa6\\xac\\xeb\\x90\\x98\\xec\\x97\\x88\\xeb\\x8b\\xa4. <b>\\xec\\x9d\\xb4\\xed\\x9b\\x84\\xec\\x9d\\x98 \\xeb\\xa7\\x8e\\xec\\x9d\\x80 \\xed\\x94\\x84\\xeb\\xa1\\x9c\\xea\\xb7\\xb8\\xeb\\x9e\\x98\\xeb\\xb0\\x8d \\xec\\x96\\xb8\\xec\\x96\\xb4\\xeb\\x93\\xa4\\xec\\x9d\\xb4 \\xec\\x9d\\xb4 \\xea\\xb7\\x9c\\xea\\xb2\\xa9\\xec\\x9d\\x84 \\xec\\xb0\\xa8\\xec\\x9a\\xa9\\xed\\x95\\x98\\xea\\xb1\\xb0\\xeb\\x82\\x98 \\xea\\xb3\\x84\\xec\\x8a\\xb9\\xed\\x95\\x98\\xeb\\x8a\\x94\\xeb\\x8d\\xb0, \\xec\\x9d\\xb4 \\xec\\x97\\xad\\xec\\x8b\\x9c\\xeb\\x8f\\x84 \"<span style=\"color: #ee2323;\">\\xec\\x9d\\xbc\\xeb\\xb6\\x80 \\xec\\xb0\\xa8\\xec\\x9a\\xa9</span>\" \\xec\\x9d\\xb4\\xea\\xb8\\xb0 \\xeb\\x95\\x8c\\xeb\\xac\\xb8\\xec\\x97\\x90, \\xec\\x99\\x84\\xec\\xa0\\x84\\xed\\x9e\\x88 PCRE\\xeb\\xa5\\xbc \\xea\\xb3\\x84\\xec\\x8a\\xb9\\xed\\x95\\x9c\\xeb\\x8b\\xa4\\xea\\xb3\\xa0 \\xeb\\xb3\\xbc \\xec\\x88\\x98 \\xec\\x97\\x86\\xeb\\x8b\\xa4.</b></p>\\n<p data-ke-size=\"size16\"><s><i>(\\xea\\xb7\\xb8\\xeb\\x8b\\x88\\xea\\xb9\\x8c... \\xec\\x96\\xb4\\xeb\\x96\\xa4 \\xec\\xa0\\x95\\xea\\xb7\\x9c\\xec\\x8b\\x9d\\xec\\x9d\\x84 \\xec\\x82\\xac\\xec\\x9a\\xa9\\xed\\x95\\x98\\xeb\\x8a\\x94 \\xec\\xa7\\x80\\xec\\x97\\x90 \\xeb\\x94\\xb0\\xeb\\x9d\\xbc \\xed\\x91\\x9c\\xed\\x98\\x84 \\xeb\\xb0\\xa9\\xeb\\xb2\\x95\\xec\\x9d\\xb4 \\xeb\\x8b\\xa4 \\xeb\\x8b\\xa4\\xeb\\xa5\\xbc \\xec\\x88\\x98 \\xec\\x9e\\x88\\xec\\x9c\\xbc\\xeb\\x8b\\x88\\xea\\xb9\\x8c, \\xeb\\x82\\xb4\\xea\\xb0\\x80 \\xec\\x93\\xb0\\xeb\\xa0\\xa4\\xea\\xb3\\xa0 \\xed\\x95\\x98\\xeb\\x8a\\x94 \\xec\\x96\\xb8\\xec\\x96\\xb4\\xeb\\x82\\x98 \\xec\\xbb\\xa4\\xeb\\xa7\\xa8\\xeb\\x93\\x9c\\xec\\x97\\x90\\xec\\x84\\x9c \\xec\\x96\\xb4\\xeb\\x96\\xa4 \\xec\\xa0\\x95\\xea\\xb7\\x9c\\xec\\x8b\\x9d- \\xeb\\xb2\\x84\\xec\\xa0\\x84\\xec\\x9d\\xb4 \\xec\\x82\\xac\\xec\\x9a\\xa9\\xeb\\x90\\x98\\xeb\\x8a\\x94 \\xec\\xa7\\x80 \\xec\\xa0\\x95\\xed\\x99\\x95\\xed\\x9e\\x88 \\xec\\xb0\\xbe\\xec\\x95\\x84\\xeb\\xb4\\x90\\xec\\x95\\xbc \\xed\\x95\\x9c\\xeb\\x8b\\xa4\\xeb\\x8a\\x94\\xea\\xb1\\xb0\\xeb\\x84\\xa4...)</i></s></p>\\n<p data-ke-size=\"size16\">&nbsp;</p>\\n<p data-ke-size=\"size16\">&nbsp;</p>\\n<p data-ke-size=\"size16\"><b>*POSIX(\\xed\\x8f\\xac\\xec\\xa7\\x81\\xec\\x8a\\xa4, Portable Operating System Interface) \\xed\\x91\\x9c\\xec\\xa4\\x80</b> : \\xec\\x84\\x9c\\xeb\\xa1\\x9c \\xeb\\x8b\\xa4\\xeb\\xa5\\xb8 UNIX OS\\xec\\x9d\\x98 \\xea\\xb3\\xb5\\xed\\x86\\xb5&nbsp; API\\xeb\\xa5\\xbc \\xec\\xa0\\x95\\xeb\\xa6\\xac\\xed\\x95\\x98\\xec\\x97\\xac, \\xec\\x9d\\xb4\\xec\\x8b\\x9d\\xec\\x84\\xb1\\xec\\x9d\\xb4 \\xeb\\x86\\x92\\xec\\x9d\\x80 \\xec\\x9c\\xa0\\xeb\\x8b\\x89\\xec\\x8a\\xa4 \\xec\\x9d\\x91\\xec\\x9a\\xa9 \\xed\\x94\\x84\\xeb\\xa1\\x9c\\xea\\xb7\\xb8\\xeb\\x9e\\xa8\\xec\\x9d\\x84 \\xea\\xb0\\x9c\\xeb\\xb0\\x9c\\xed\\x95\\x98\\xea\\xb8\\xb0 \\xec\\x9c\\x84\\xed\\x95\\x9c \\xeb\\xaa\\xa9\\xec\\xa0\\x81\\xec\\x9c\\xbc\\xeb\\xa1\\x9c IEEE\\xea\\xb0\\x80 \\xec\\xb1\\x85\\xec\\xa0\\x95\\xed\\x95\\x9c \\xed\\x91\\x9c\\xec\\xa4\\x80 \\xec\\x95\\xa0\\xed\\x94\\x8c\\xeb\\xa6\\xac\\xec\\xbc\\x80\\xec\\x9d\\xb4\\xec\\x85\\x98 \\xec\\x9d\\xb8\\xed\\x84\\xb0\\xed\\x8e\\x98\\xec\\x9d\\xb4\\xec\\x8a\\xa4 \\xea\\xb7\\x9c\\xea\\xb2\\xa9.&nbsp;</p>\\n<hr contenteditable=\"false\" data-ke-type=\"horizontalRule\" data-ke-style=\"style2\" />\\n<h3 data-ke-size=\"size23\"><span style=\"font-family: \\'Noto Serif KR\\';\"><b>\\xec\\xa0\\x95\\xea\\xb7\\x9c\\xed\\x91\\x9c\\xed\\x98\\x84\\xec\\x8b\\x9d \\xea\\xb8\\xb0\\xeb\\xb3\\xb8 \\xeb\\xac\\xb8\\xeb\\xb2\\x95</b></span></h3>\\n<p data-ke-size=\"size16\">\\xec\\xa0\\x95\\xea\\xb7\\x9c \\xed\\x91\\x9c\\xed\\x98\\x84\\xec\\x8b\\x9d\\xec\\x9d\\x98 \\xea\\xb8\\xb0\\xeb\\xb3\\xb8 \\xeb\\xac\\xb8\\xeb\\xb2\\x95\\xec\\x9d\\x80 \\xed\\x81\\xac\\xea\\xb2\\x8c \\xeb\\x8b\\xa4\\xec\\x9d\\x8c\\xea\\xb3\\xbc \\xea\\xb0\\x99\\xec\\x9d\\xb4 3\\xea\\xb0\\x80\\xec\\xa7\\x80\\xeb\\xa1\\x9c \\xeb\\x82\\x98\\xeb\\x88\\x8c \\xec\\x88\\x98 \\xec\\x9e\\x88\\xeb\\x8b\\xa4.</p>\\n<ol style=\"list-style-type: decimal;\" data-ke-list-type=\"decimal\">\\n<li><b>\\xed\\x8c\\xa8\\xed\\x84\\xb4 \\xea\\xb7\\xb8\\xeb\\x8c\\x80\\xeb\\xa1\\x9c\\xeb\\xa5\\xbc \\xeb\\xa7\\xa4\\xec\\xb9\\xad</b>\\xed\\x95\\x98\\xeb\\x8a\\x94 \\xea\\xb2\\xbd\\xec\\x9a\\xb0 : \\xed\\x8e\\xb8\\xec\\xa7\\x91\\xea\\xb8\\xb0\\xec\\x97\\x90\\xec\\x84\\x9c \\'\\xec\\xb0\\xbe\\xea\\xb8\\xb0\\' \\xea\\xb8\\xb0\\xeb\\x8a\\xa5\\xec\\x9d\\x84 \\xed\\x86\\xb5\\xed\\x95\\xb4 \\xed\\x8a\\xb9\\xec\\xa0\\x95 \\xeb\\x8b\\xa8\\xec\\x96\\xb4\\xeb\\xa5\\xbc \\xec\\xb0\\xbe\\xeb\\x8a\\x94 \\xea\\xb2\\x83\\xec\\xb2\\x98\\xeb\\x9f\\xbc, <span style=\"color: #8a3db6;\"><b>\\xeb\\x8b\\xa8\\xec\\x96\\xb4 \\xea\\xb7\\xb8\\xeb\\x8c\\x80\\xeb\\xa1\\x9c\\xeb\\xa5\\xbc \\xed\\x8c\\xa8\\xed\\x84\\xb4\\xec\\x9c\\xbc\\xeb\\xa1\\x9c \\xec\\x82\\xac\\xec\\x9a\\xa9\\xed\\x95\\x98\\xec\\x97\\xac \\xeb\\xa7\\xa4\\xec\\xb9\\xad</b></span>\\xeb\\x90\\x98\\xeb\\x8a\\x94 \\xec\\x98\\x81\\xec\\x97\\xad\\xec\\x9d\\x84 \\xec\\xb0\\xbe\\xeb\\x8a\\x94 \\xeb\\xb0\\xa9\\xeb\\xb2\\x95.</li>\\n<li><b>\\xeb\\xa9\\x94\\xed\\x83\\x80\\xeb\\xac\\xb8\\xec\\x9e\\x90</b> \\xeb\\xb0\\x8f <b>\\xec\\x88\\x98\\xeb\\x9f\\x89 \\xed\\x95\\x9c\\xec\\xa0\\x95\\xec\\x9e\\x90</b>\\xeb\\xa5\\xbc \\xec\\x82\\xac\\xec\\x9a\\xa9\\xed\\x95\\x98\\xeb\\x8a\\x94 \\xea\\xb2\\xbd\\xec\\x9a\\xb0 : \\xec\\xa0\\x95\\xea\\xb7\\x9c\\xec\\x8b\\x9d \\xed\\x8c\\xa8\\xed\\x84\\xb4\\xec\\x97\\x90 \\xec\\x93\\xb0\\xec\\x9d\\xb4\\xeb\\x8a\\x94 \\xeb\\xac\\xb8\\xec\\x9e\\x90 \\xec\\xa4\\x91\\xec\\x97\\x90\\xeb\\x8a\\x94 <span style=\"color: #8a3db6;\"><b>\\xed\\x8a\\xb9\\xeb\\xb3\\x84\\xed\\x95\\x9c \\xec\\x9d\\x98\\xeb\\xaf\\xb8\\xeb\\xa5\\xbc \\xec\\xa7\\x80\\xeb\\x8b\\x88\\xeb\\x8a\\x94 \\xeb\\xa9\\x94\\xed\\x83\\x80 \\xeb\\xac\\xb8\\xec\\x9e\\x90</b></span>\\xeb\\x93\\xa4\\xec\\x9d\\xb4 \\xec\\x9e\\x88\\xeb\\x8a\\x94\\xeb\\x8d\\xb0, \\xec\\x9d\\xb4\\xeb\\x9f\\xac\\xed\\x95\\x9c \\xeb\\xa9\\x94\\xed\\x83\\x80\\xeb\\xac\\xb8\\xec\\x9e\\x90\\xec\\x99\\x80 \\xea\\xb7\\xb8 <span style=\"color: #8a3db6;\"><b>\\xeb\\xa9\\x94\\xed\\x83\\x80\\xeb\\xac\\xb8\\xec\\x9e\\x90\\xec\\x9d\\x98 \\xea\\xb0\\x9c\\xec\\x88\\x98\\xeb\\xa5\\xbc \\xec\\xa7\\x80\\xec\\xa0\\x95(\\xec\\x88\\x98\\xeb\\x9f\\x89 \\xed\\x95\\x9c\\xec\\xa0\\x95\\xec\\x9e\\x90\\xec\\x9d\\x98 \\xec\\x97\\xad\\xed\\x95\\xa0)\\xed\\x95\\x98\\xec\\x97\\xac \\xed\\x8f\\xad\\xeb\\x84\\x93\\xec\\x9d\\x80 \\xed\\x8c\\xa8\\xed\\x84\\xb4</b></span>\\xec\\x9d\\x84 \\xeb\\xa7\\xa4\\xec\\xb9\\xad\\xed\\x95\\x98\\xeb\\x8a\\x94 \\xeb\\xb0\\xa9\\xeb\\xb2\\x95.</li>\\n<li><b>\\xea\\xb7\\xb8\\xeb\\xa3\\xb9</b> \\xeb\\xb0\\x8f <b>Look around(\\xec\\xa0\\x84,\\xed\\x9b\\x84\\xeb\\xb0\\xa9 \\xed\\x83\\x90\\xec\\x83\\x89)</b> \\xea\\xb8\\xb0\\xeb\\x8a\\xa5\\xec\\x9d\\x84 \\xec\\x82\\xac\\xec\\x9a\\xa9\\xed\\x95\\x98\\xeb\\x8a\\x94 \\xea\\xb2\\xbd\\xec\\x9a\\xb0 : <u>\\xec\\xa0\\x9c\\xeb\\xb2\\x95 \\xea\\xb3\\xa0\\xea\\xb8\\x89 \\xec\\xa0\\x95\\xea\\xb7\\x9c\\xec\\x8b\\x9d</u>\\xec\\x9d\\xb4\\xeb\\x9d\\xbc \\xed\\x95\\xa0 \\xec\\x88\\x98 \\xec\\x9e\\x88\\xeb\\x8a\\x94 \\xeb\\xac\\xb8\\xeb\\xb2\\x95\\xec\\x9c\\xbc\\xeb\\xa1\\x9c, <span style=\"color: #8a3db6;\"><b>\\xed\\x8c\\xa8\\xed\\x84\\xb4\\xec\\x9d\\x98 \\xec\\x9d\\xbc\\xeb\\xb6\\x80\\xeb\\xa5\\xbc \\xea\\xb7\\xb8\\xeb\\xa3\\xb9\\xec\\x9c\\xbc\\xeb\\xa1\\x9c</b></span> \\xeb\\xac\\xb6\\xea\\xb1\\xb0\\xeb\\x82\\x98, <span style=\"color: #8a3db6;\"><b>\\xed\\x8a\\xb9\\xec\\xa0\\x95 \\xed\\x8c\\xa8\\xed\\x84\\xb4\\xec\\x9d\\x98 \\xec\\x95\\x9e \\xeb\\x98\\x90\\xeb\\x8a\\x94 \\xeb\\x92\\xa4\\xeb\\xa1\\x9c \\xeb\\x8b\\xa4\\xeb\\xa5\\xb8 \\xed\\x8c\\xa8\\xed\\x84\\xb4\\xec\\x9d\\xb4 \\xec\\x98\\xa4\\xeb\\x8a\\x94 \\xec\\xa1\\xb0\\xea\\xb1\\xb4\\xec\\x9d\\x84 \\xeb\\x8d\\x94\\xed\\x95\\x98\\xeb\\x8a\\x94 \\xea\\xb2\\xbd\\xec\\x9a\\xb0</b></span>(Look around \\xed\\x99\\x9c\\xec\\x9a\\xa9)\\xeb\\xa5\\xbc \\xeb\\xa7\\x90\\xed\\x95\\x9c\\xeb\\x8b\\xa4.</li>\\n</ol>\\n<hr contenteditable=\"false\" data-ke-type=\"horizontalRule\" data-ke-style=\"style2\" />\\n<p data-ke-size=\"size16\">\\xec\\x9a\\xb0\\xec\\x84\\xa0, \\xec\\xa0\\x95\\xea\\xb7\\x9c \\xed\\x91\\x9c\\xed\\x98\\x84\\xec\\x8b\\x9d\\xec\\x9d\\x98 \\xea\\xb0\\x80\\xec\\x9e\\xa5 \\xea\\xb8\\xb0\\xeb\\xb3\\xb8\\xec\\x9d\\xb4 \\xeb\\x90\\x98\\xeb\\x8a\\x94 \\xeb\\xa9\\x94\\xed\\x83\\x80 \\xeb\\xac\\xb8\\xec\\x9e\\x90\\xec\\x97\\x90 \\xeb\\x8c\\x80\\xed\\x95\\xb4\\xec\\x84\\x9c \\xec\\x95\\x8c\\xec\\x95\\x84\\xeb\\xb3\\xb4\\xeb\\x8f\\x84\\xeb\\xa1\\x9d \\xed\\x95\\x98\\xec\\x9e\\x90!</p>\\n<p data-ke-size=\"size16\">&nbsp;</p>\\n<h4 data-ke-size=\"size20\"><b>\\xec\\xa0\\x95\\xea\\xb7\\x9c\\xed\\x91\\x9c\\xed\\x98\\x84\\xec\\x8b\\x9d \\xeb\\xa9\\x94\\xed\\x83\\x80 \\xeb\\xac\\xb8\\xec\\x9e\\x90</b></h4>\\n<p data-ke-size=\"size16\">: <b>\\xeb\\xa9\\x94\\xed\\x83\\x80 \\xeb\\xac\\xb8\\xec\\x9e\\x90</b>\\xeb\\x8a\\x94 <span style=\"color: #8a3db6;\"><b>\\xed\\x8a\\xb9\\xec\\xa0\\x95\\xed\\x95\\x9c \\xeb\\xac\\xb8\\xec\\x9e\\x90 \\xed\\x98\\xb9\\xec\\x9d\\x80 \\xeb\\xac\\xb8\\xec\\x9e\\x90 \\xea\\xb3\\x84\\xec\\x97\\xb4\\xec\\x9d\\x84 \\xeb\\x8c\\x80\\xec\\x8b\\xa0\\xed\\x95\\x98\\xec\\x97\\xac \\xed\\x91\\x9c\\xec\\x8b\\x9c\\xed\\x95\\x98\\xeb\\x8a\\x94 \\xeb\\xac\\xb8\\xec\\x9e\\x90</b></span>\\xeb\\xa1\\x9c, \\xeb\\xa9\\x94\\xed\\x83\\x80 \\xeb\\xac\\xb8\\xec\\x9e\\x90\\xeb\\xa5\\xbc \\xec\\x9d\\xb4\\xec\\x9a\\xa9\\xed\\x95\\x98\\xeb\\xa9\\xb4 \\xed\\x8a\\xb9\\xec\\xa0\\x95\\xed\\x95\\x9c \\xea\\xb7\\x9c\\xec\\xb9\\x99\\xec\\x9d\\x84 \\xea\\xb0\\x80\\xec\\xa7\\x84 \\xec\\x97\\xac\\xeb\\x9f\\xac \\xeb\\x8b\\xa8\\xec\\x96\\xb4\\xeb\\xa5\\xbc \\xed\\x95\\x98\\xeb\\x82\\x98\\xec\\x9d\\x98 \\xed\\x8c\\xa8\\xed\\x84\\xb4\\xec\\x9c\\xbc\\xeb\\xa1\\x9c \\xed\\x95\\xa8\\xec\\xb6\\x95\\xed\\x95\\xa0 \\xec\\x88\\x98 \\xec\\x9e\\x88\\xeb\\x8b\\xa4.<br />\\xec\\xb0\\xb8\\xea\\xb3\\xa0\\xeb\\xa1\\x9c \\xeb\\xa9\\x94\\xed\\x83\\x80\\xeb\\xac\\xb8\\xec\\x9e\\x90\\xec\\x97\\x90\\xec\\x84\\x9c <span style=\"color: #f89009;\"><b>\\xeb\\x8c\\x80\\xec\\x86\\x8c\\xeb\\xac\\xb8\\xec\\x9e\\x90</b></span>\\xeb\\x8a\\x94 <span style=\"color: #f89009;\"><b>\\xec\\x84\\x9c\\xeb\\xa1\\x9c \\xeb\\xb0\\x98\\xeb\\x8c\\x80\\xeb\\x90\\x98\\xeb\\x8a\\x94 \\xec\\x9d\\x98\\xeb\\xaf\\xb8</b></span>\\xeb\\xa5\\xbc \\xec\\xa7\\x80\\xeb\\x8b\\x88\\xeb\\x8a\\x94 \\xea\\xb2\\xbd\\xec\\x9a\\xb0\\xea\\xb0\\x80 \\xeb\\xa7\\x8e\\xeb\\x8b\\xa4!</p>\\n<ul style=\"list-style-type: circle;\" data-ke-list-type=\"circle\">\\n<li><b><span style=\"background-color: #ffc9af;\">&nbsp;^ </span></b>: <span style=\"color: #006dd7;\"><b>\\xeb\\xac\\xb8\\xec\\x9e\\x90\\xec\\x97\\xb4\\xec\\x9d\\x98 \\xec\\x8b\\x9c\\xec\\x9e\\x91</b></span>\\xec\\x9d\\x84 \\xed\\x91\\x9c\\xed\\x98\\x84.<br />ex) <span style=\"color: #409d00;\"><b>^http</b> </span>: <u>\\xeb\\xac\\xb8\\xec\\x9e\\x90\\xec\\x97\\xb4\\xec\\x9d\\xb4 \\'http\\'\\xeb\\xa1\\x9c \\xec\\x8b\\x9c\\xec\\x9e\\x91\\xed\\x95\\x98\\xeb\\x8a\\x94 \\xea\\xb2\\xbd\\xec\\x9a\\xb0</u>\\xec\\x97\\x90\\xeb\\xa7\\x8c \\xeb\\xa7\\xa4\\xec\\xb9\\xad. \\xeb\\xac\\xb8\\xec\\x9e\\x90\\xec\\x97\\xb4 \\xec\\xa4\\x91\\xea\\xb0\\x84\\xec\\x97\\x90 \\xeb\\x82\\x98\\xed\\x83\\x80\\xeb\\x82\\x98\\xeb\\x8a\\x94 http(<b><span style=\"color: #ee2323;\">\\'ahttps\\' -&gt; \\xeb\\xa7\\xa4\\xec\\xb9\\xadX</span></b>)\\xec\\x97\\x90\\xeb\\x8a\\x94 \\xeb\\xa7\\xa4\\xec\\xb9\\xad\\xed\\x95\\x98\\xec\\xa7\\x80 \\xec\\x95\\x8a\\xec\\x9d\\x8c.<br /><br />*<b> <span style=\"background-color: #ffc9af;\">[ ... ]</span> </b>\\xeb\\x8c\\x80\\xea\\xb4\\x84\\xed\\x98\\xb8 \\xec\\x95\\x88\\xec\\x97\\x90\\xec\\x84\\x9c \\xec\\x93\\xb0\\xec\\x9d\\xb4\\xeb\\x8a\\x94 \\xea\\xb2\\xbd\\xec\\x9a\\xb0\\xeb\\x9d\\xbc\\xeb\\xa9\\xb4, ^ \\xeb\\x92\\xa4\\xec\\x97\\x90 \\xec\\x98\\xa4\\xeb\\x8a\\x94 <span style=\"color: #006dd7;\"><b>\\xeb\\xac\\xb8\\xec\\x9e\\x90\\xec\\x97\\xb4 \\xed\\x8c\\xa8\\xed\\x84\\xb4\\xea\\xb3\\xbc \\xec\\x9d\\xbc\\xec\\xb9\\x98\\xed\\x95\\x98\\xec\\xa7\\x80 \\xec\\x95\\x8a\\xeb\\x8a\\x94 \\xea\\xb2\\x83</b></span>\\xec\\x9d\\x84 \\xeb\\xa7\\xa4\\xec\\xb9\\xad\\xed\\x95\\x9c\\xeb\\x8b\\xa4.<br />ex) <span style=\"color: #409d00;\"><b>ab[^0-9]</b></span> : \\'ab\\' \\xeb\\x92\\xa4\\xec\\x97\\x90 \\xec\\x88\\xab\\xec\\x9e\\x90\\xea\\xb0\\x80 \\xec\\x95\\x84\\xeb\\x8b\\x8c \\xea\\xb2\\x83\\xec\\x9d\\xb4 \\xec\\x98\\xa4\\xeb\\x8a\\x94 \\xea\\xb2\\x83\\xeb\\xa7\\x8c \\xeb\\xa7\\xa4\\xec\\xb9\\xad. (<span style=\"color: #ee2323;\"><b>abc -&gt; \\xeb\\xa7\\xa4\\xec\\xb9\\xadO / ab1 -&gt; \\xeb\\xa7\\xa4\\xec\\xb9\\xadX</b></span>)<br /><br /></li>\\n<li><b><span style=\"background-color: #ffc9af;\">&nbsp;$&nbsp;</span></b> : <span style=\"color: #006dd7;\"><b>\\xeb\\xac\\xb8\\xec\\x9e\\x90\\xec\\x97\\xb4\\xec\\x9d\\x98 \\xeb\\x81\\x9d</b></span>\\xec\\x9d\\x84 \\xed\\x91\\x9c\\xed\\x98\\x84.<br />ex) <span style=\"color: #409d00;\"><b>tem$</b></span> : \\xeb\\xac\\xb8\\xec\\x9e\\x90\\xec\\x97\\xb4\\xec\\x9d\\xb4 \\'tem\\'\\xec\\x9c\\xbc\\xeb\\xa1\\x9c \\xeb\\x81\\x9d\\xeb\\x82\\x9c \\xea\\xb2\\xbd\\xec\\x9a\\xb0\\xec\\x97\\x90\\xeb\\xa7\\x8c \\xeb\\xa7\\xa4\\xec\\xb9\\xad (<span style=\"color: #ee2323;\"><b>\\'item\\' -&gt; \\xeb\\xa7\\xa4\\xec\\xb9\\xadO / \\'contemporary\\' -&gt; \\xeb\\xa7\\xa4\\xec\\xb9\\xadX</b></span>)<br /><br /></li>\\n<li><span style=\"background-color: #ffc9af;\"><b>&nbsp;\\\\b</b> </span>: <span style=\"color: #006dd7;\"><b>\\xeb\\xac\\xb8\\xec\\x9e\\x90\\xec\\x99\\x80 \\xea\\xb3\\xb5\\xeb\\xb0\\xb1 \\xec\\x82\\xac\\xec\\x9d\\xb4</b></span>\\xeb\\xa5\\xbc \\xed\\x91\\x9c\\xed\\x98\\x84. \\xeb\\xac\\xb8\\xec\\x9e\\x90\\xec\\x97\\xb4\\xec\\x9d\\x98 <u>\\xec\\x8b\\x9c\\xec\\x9e\\x91, \\xeb\\x81\\x9d, \\xea\\xb0\\x9c\\xed\\x96\\x89, \\xed\\x83\\xad, \\xec\\xbd\\xa4\\xeb\\xa7\\x88(\\'<b>,</b>\\'), \\xea\\xb5\\xac\\xeb\\x91\\x90\\xec\\xa0\\x90(\\'<b>.</b>\\'), \\xeb\\x8c\\x80\\xec\\x8b\\x9c(\\'-\\') \\xeb\\x93\\xb1</u>\\xec\\x9d\\xb4 \\xed\\x95\\xb4\\xeb\\x8b\\xb9\\xeb\\x90\\x9c\\xeb\\x8b\\xa4.<br />ex) <span style=\"color: #409d00;\"><b>\\\\bplay\\\\b</b></span> : \\xeb\\x8b\\xa8\\xec\\x96\\xb4 \\xea\\xb2\\xbd\\xea\\xb3\\x84\\xeb\\xa1\\x9c \\xea\\xb5\\xac\\xeb\\xb6\\x84\\xeb\\x90\\x98\\xeb\\x8a\\x94 \\'play\\'\\xec\\x97\\x90\\xeb\\x8a\\x94 \\xeb\\xa7\\xa4\\xec\\xb9\\xad. (<span style=\"color: #409d00;\"><b>\\'I play the game on the playground\\'</b> </span>\\xec\\x97\\x90\\xec\\x84\\x9c <span style=\"color: #ee2323;\"><b>\\'play\\'\\xeb\\xa5\\xbc \\xeb\\xa7\\xa4\\xec\\xb9\\xadO / \\'playground\\' \\xeb\\x8a\\x94 \\xeb\\xa7\\xa4\\xec\\xb9\\xadX</b></span>)&nbsp;<br /><br /></li>\\n<li><span style=\"background-color: #ffc9af;\"><b>&nbsp;\\\\B</b> </span>: <span style=\"color: #006dd7;\"><b>\\\\b \\xea\\xb0\\x80 \\xec\\x95\\x84\\xeb\\x8b\\x8c\\xea\\xb2\\x83.&nbsp;</b></span><br />ex) <span style=\"color: #409d00;\"><b>play\\\\B</b></span> : \\'play\\' \\xeb\\x92\\xa4\\xec\\x97\\x90 \\xeb\\x8b\\xa8\\xec\\x96\\xb4\\xec\\x9d\\x98 \\xea\\xb2\\xbd\\xea\\xb3\\x84\\xea\\xb0\\x80 \\xec\\x95\\x84\\xeb\\x8b\\x8c \\xea\\xb2\\x83\\xec\\x9d\\xb4 \\xec\\x98\\xac\\xeb\\x95\\x8c, \\xec\\xa6\\x89 \\xeb\\xac\\xb8\\xec\\x9e\\x90\\xec\\x97\\xb4\\xec\\x9d\\x98 \\xec\\x97\\xb0\\xec\\x86\\x8d\\xec\\x9d\\xb4 \\xeb\\x90\\x98\\xeb\\x8a\\x94 \\xed\\x8c\\xa8\\xed\\x84\\xb4\\xeb\\xa7\\x8c \\xeb\\xa7\\xa4\\xec\\xb9\\xad.<br />(<span style=\"color: #409d00;\"><b>\\'I play the game on the playground\\'</b> </span>\\xec\\x97\\x90\\xec\\x84\\x9c \\'<span style=\"color: #ee2323;\"><b>playground\\' \\xeb\\xa5\\xbc \\xeb\\xa7\\xa4\\xec\\xb9\\xadO / \\'play\\'\\xeb\\x8a\\x94 \\xeb\\xa7\\xa4\\xec\\xb9\\xadX</b></span>, \\xec\\x9d\\xb4\\xeb\\x95\\x8c \\'playground\\'\\xeb\\xa5\\xbc \\xeb\\xa7\\xa4\\xec\\xb9\\xad\\xed\\x95\\x9c\\xeb\\x8b\\xa4\\xea\\xb3\\xa0 \\xed\\x95\\xb4\\xec\\x84\\x9c \\'playground\\' \\xec\\xa0\\x84\\xec\\xb2\\xb4\\xeb\\xa5\\xbc \\xec\\x9d\\x98\\xeb\\xaf\\xb8\\xed\\x95\\x98\\xeb\\x8a\\x94 \\xea\\xb2\\x83\\xec\\x9d\\xb4 \\xec\\x95\\x84\\xeb\\x8b\\x8c, \\'playground\\' \\xec\\x95\\x88\\xec\\x9d\\x98 \\'play\\' \\xeb\\xa7\\x8c\\xec\\x9d\\x84 \\xec\\xb0\\xbe\\xec\\x95\\x84\\xeb\\x82\\xb8\\xeb\\x8b\\xa4.)<br /><br /></li>\\n<li><span style=\"background-color: #ffc9af;\"><b>&nbsp;\\\\s</b> </span>: <span style=\"color: #006dd7;\"><b>\\xeb\\xaa\\xa8\\xeb\\x93\\xa0 White-space (\\xea\\xb3\\xb5\\xeb\\xb0\\xb1) \\xeb\\xac\\xb8\\xec\\x9e\\x90</b></span>\\xec\\x97\\x90 \\xeb\\xa7\\xa4\\xec\\xb9\\xad. <b>[\\\\t\\\\n\\\\r\\\\f\\\\v]</b> \\xec\\x99\\x80 \\xeb\\x8f\\x99\\xec\\x9d\\xbc\\xed\\x95\\x9c \\xec\\x9d\\x98\\xeb\\xaf\\xb8.<br />ex)&nbsp;<br /><br /></li>\\n<li><span style=\"background-color: #ffc9af;\"><b>&nbsp;\\\\S</b> </span>: <span style=\"color: #006dd7;\"><b>White-space (\\xea\\xb3\\xb5\\xeb\\xb0\\xb1) \\xeb\\xac\\xb8\\xec\\x9e\\x90\\xeb\\xa5\\xbc \\xec\\xa0\\x9c\\xec\\x99\\xb8\\xed\\x95\\x9c \\xeb\\xaa\\xa8\\xeb\\x93\\xa0 \\xeb\\xac\\xb8\\xec\\x9e\\x90</b></span>\\xec\\x97\\x90 \\xeb\\xa7\\xa4\\xec\\xb9\\xad.&nbsp;<br /><br /></li>\\n<li><span style=\"background-color: #ffc9af;\"><b>&nbsp;\\\\d</b> </span>: <span style=\"color: #006dd7;\"><b>\\xeb\\xaa\\xa8\\xeb\\x93\\xa0 \\xec\\x88\\xab\\xec\\x9e\\x90</b></span>\\xeb\\xa5\\xbc \\xeb\\xa7\\xa4\\xec\\xb9\\xad. <b>[0-9]</b> \\xec\\x99\\x80 \\xeb\\x8f\\x99\\xec\\x9d\\xbc\\xed\\x95\\x9c \\xec\\x9d\\x98\\xeb\\xaf\\xb8.<br /><br /></li>\\n<li><span style=\"background-color: #ffc9af;\"><b>&nbsp;\\\\D</b> </span>: <span style=\"color: #006dd7;\"><b>\\xec\\x88\\xab\\xec\\x9e\\x90\\xea\\xb0\\x80 \\xec\\x95\\x84\\xeb\\x8b\\x8c \\xeb\\xaa\\xa8\\xeb\\x93\\xa0 \\xeb\\xac\\xb8\\xec\\x9e\\x90</b></span>\\xeb\\xa5\\xbc \\xeb\\xa7\\xa4\\xec\\xb9\\xad.<b> [^0-9]</b> \\xec\\x99\\x80 \\xeb\\x8f\\x99\\xec\\x9d\\xbc\\xed\\x95\\x9c \\xec\\x9d\\x98\\xeb\\xaf\\xb8.<br /><br /></li>\\n<li><span style=\"background-color: #ffc9af;\"><b>&nbsp;\\\\w</b> </span>: <span style=\"color: #006dd7;\"><b>\\xeb\\x8b\\xa8\\xec\\x96\\xb4\\xeb\\xa5\\xbc \\xeb\\xa7\\x8c\\xeb\\x93\\xa4 \\xec\\x88\\x98 \\xec\\x9e\\x88\\xeb\\x8a\\x94 \\xeb\\xac\\xb8\\xec\\x9e\\x90</b></span>\\xeb\\xa5\\xbc \\xeb\\xa7\\xa4\\xec\\xb9\\xad. <b>\\xec\\x95\\x8c\\xed\\x8c\\x8c\\xeb\\xb2\\xb3</b> \\xeb\\x8c\\x80\\xec\\x86\\x8c\\xeb\\xac\\xb8\\xec\\x9e\\x90, <b>\\xec\\x88\\xab\\xec\\x9e\\x90</b>, <b>\\xec\\x96\\xb8\\xeb\\x8d\\x94\\xec\\x8a\\xa4\\xec\\xbd\\x94\\xec\\x96\\xb4</b>\\xeb\\xa5\\xbc \\xed\\x8f\\xac\\xed\\x95\\xa8. <b>[A-Za-z0-9_]</b> \\xec\\x99\\x80 \\xeb\\x8f\\x99\\xec\\x9d\\xbc\\xed\\x95\\x9c \\xec\\x9d\\x98\\xeb\\xaf\\xb8.<br /><br /></li>\\n<li><span style=\"background-color: #ffc9af;\"><b>&nbsp;\\\\W</b> </span>: <span style=\"color: #006dd7;\"><b>\\\\w\\xec\\x97\\x90 \\xed\\x8f\\xac\\xed\\x95\\xa8\\xeb\\x90\\x98\\xec\\xa7\\x80 \\xec\\x95\\x8a\\xeb\\x8a\\x94 \\xeb\\xaa\\xa8\\xeb\\x93\\xa0 \\xeb\\xac\\xb8\\xec\\x9e\\x90</b></span>\\xeb\\xa5\\xbc \\xeb\\xa7\\xa4\\xec\\xb9\\xad.<br /><br /></li>\\n<li><span style=\"background-color: #ffc9af;\"><b>&nbsp;\\\\n</b> </span>: <span style=\"color: #006dd7;\"><b>LF(Line Feed)</b></span>\\xeb\\xa5\\xbc \\xec\\x9d\\x98\\xeb\\xaf\\xb8. \\xec\\xa6\\x89, \\xec\\x97\\x94\\xed\\x84\\xb0(\\xea\\xb0\\x9c\\xed\\x96\\x89\\xeb\\xac\\xb8\\xec\\x9e\\x90)\\xeb\\xa5\\xbc \\xec\\x9d\\x98\\xeb\\xaf\\xb8.<br />\\xec\\xb0\\xb8\\xea\\xb3\\xa0\\xeb\\xa1\\x9c <b>\\\\r</b> \\xec\\x9d\\x80 <b>CR(Carriage Return)</b>\\xec\\x9d\\x84 \\xec\\x9d\\x98\\xeb\\xaf\\xb8\\xed\\x95\\x98\\xeb\\x8a\\x94\\xeb\\x8d\\xb0, UNIX \\xec\\x97\\x90\\xec\\x84\\x9c \\xec\\x97\\x94\\xed\\x84\\xb0\\xec\\x9d\\x98 \\xec\\x9d\\x98\\xeb\\xaf\\xb8\\xeb\\xa5\\xbc LF \\xed\\x95\\x98\\xeb\\x82\\x98\\xeb\\xa7\\x8c \\xec\\x93\\xb0\\xeb\\x8a\\x94 \\xea\\xb2\\x83\\xec\\x9c\\xbc\\xeb\\xa1\\x9c \\xeb\\xb3\\xb4\\xea\\xb3\\xa0, Windows\\xec\\x97\\x90\\xec\\x84\\x9c\\xeb\\x8a\\x94 CRLF\\xeb\\xa5\\xbc \\xed\\x95\\xa8\\xea\\xbb\\x98 \\xec\\x93\\xb0\\xeb\\x8a\\x94 \\xea\\xb2\\x83\\xec\\x9d\\xb4 \\xec\\x97\\x94\\xed\\x84\\xb0\\xeb\\xa5\\xbc \\xec\\x9d\\x98\\xeb\\xaf\\xb8\\xed\\x95\\x9c\\xeb\\x8b\\xa4. \\xed\\x98\\x84\\xeb\\x8c\\x80\\xec\\x97\\x90 \\xec\\x99\\x80\\xec\\x84\\x9c\\xeb\\x8a\\x94 \\xec\\x97\\x90\\xeb\\x94\\x94\\xed\\x84\\xb0\\xea\\xb0\\x80 \\xec\\x95\\x8c\\xec\\x95\\x84\\xec\\x84\\x9c \\xeb\\x91\\x98\\xeb\\x8b\\xa4 \\xea\\xb0\\x99\\xec\\x9d\\xb4 \\xec\\x97\\x94\\xed\\x84\\xb0\\xeb\\xa1\\x9c \\xed\\x95\\xb4\\xec\\x84\\x9d\\xec\\x8b\\x9c\\xec\\xbc\\x9c \\xec\\xa3\\xbc\\xeb\\xaf\\x80\\xeb\\xa1\\x9c, \\xec\\x97\\x94\\xed\\x84\\xb0\\xeb\\xa5\\xbc \\xed\\x91\\x9c\\xed\\x98\\x84\\xed\\x95\\x98\\xeb\\xa0\\xa4\\xea\\xb3\\xa0 \\xed\\x95\\x9c\\xeb\\x8b\\xa4\\xeb\\xa9\\xb4 \\xea\\xb7\\xb8\\xeb\\x83\\xa5 \\\\n \\xeb\\xa7\\x8c \\xec\\x82\\xac\\xec\\x9a\\xa9\\xed\\x95\\xb4\\xeb\\x8f\\x84 \\xeb\\xac\\xb4\\xeb\\xb0\\xa9\\xed\\x95\\x98\\xeb\\x8b\\xa4.&nbsp;<br /><br /></li>\\n<li><span style=\"background-color: #ffc9af;\"><b>&nbsp;\\\\</b> </span>: <span style=\"color: #006dd7;\"><b>\\xec\\x9d\\xb4\\xec\\x8a\\xa4\\xec\\xbc\\x80\\xec\\x9d\\xb4\\xed\\x94\\x84\\xec\\x9a\\xa9 \\xeb\\xac\\xb8\\xec\\x9e\\x90</b></span>. \\xec\\xa0\\x95\\xea\\xb7\\x9c\\xec\\x8b\\x9d \\xec\\x83\\x81\\xec\\x9d\\x98 \\xed\\x8a\\xb9\\xeb\\xb3\\x84\\xed\\x95\\x9c \\xec\\x9d\\x98\\xeb\\xaf\\xb8\\xeb\\xa5\\xbc \\xea\\xb0\\x80\\xec\\xa7\\x80\\xeb\\x8a\\x94 \\xeb\\xac\\xb8\\xec\\x9e\\x90\\xeb\\x93\\xa4\\xec\\x9d\\x84 \\xed\\x95\\xb4\\xeb\\x8b\\xb9 \\xeb\\xac\\xb8\\xec\\x9e\\x90 \\xea\\xb7\\xb8\\xeb\\x8c\\x80\\xeb\\xa1\\x9c \\xec\\x82\\xac\\xec\\x9a\\xa9\\xed\\x95\\x98\\xea\\xb3\\xa0\\xec\\x9e\\x90 \\xed\\x95\\xa0 \\xeb\\x95\\x8c \\xec\\x82\\xac\\xec\\x9a\\xa9\\xed\\x95\\x98\\xeb\\x8a\\x94 \\xeb\\xac\\xb8\\xec\\x9e\\x90\\xec\\x9d\\xb4\\xeb\\x8b\\xa4.<br />ex) \\\\^ : \\'^\\' \\xeb\\xac\\xb8\\xec\\x9e\\x90 \\xea\\xb7\\xb8\\xeb\\x8c\\x80\\xeb\\xa1\\x9c\\xeb\\xa5\\xbc \\xec\\x9d\\x98\\xeb\\xaf\\xb8.<br /><br /></li>\\n<li><span style=\"background-color: #ffc9af;\"><b>&nbsp;.</b> </span>: <span style=\"color: #006dd7;\"><b>\\xeb\\xaa\\xa8\\xeb\\x93\\xa0 \\xeb\\xac\\xb8\\xec\\x9e\\x90 1\\xea\\xb0\\x9c</b></span>\\xeb\\xa5\\xbc \\xeb\\xa7\\xa4\\xec\\xb9\\xad. \\xec\\x9d\\xb4\\xeb\\x95\\x8c <u>\\xea\\xb3\\xb5\\xeb\\xb0\\xb1 \\xed\\x95\\x9c\\xec\\xb9\\xb8\\xeb\\x8f\\x84 \\xeb\\xac\\xb8\\xec\\x9e\\x90 1\\xea\\xb0\\x9c\\xeb\\xa1\\x9c \\xec\\xb7\\xa8\\xea\\xb8\\x89</u>\\xeb\\x90\\xa8.<br /><br /></li>\\n</ul>\\n<h4 data-ke-size=\"size20\"><b>\\xec\\x84\\xa0\\xed\\x83\\x9d \\xed\\x8c\\xa8\\xed\\x84\\xb4</b></h4>\\n<ul style=\"list-style-type: circle;\" data-ke-list-type=\"circle\">\\n<li><span style=\"background-color: #ffc9af;\"><b>&nbsp;| (Vertical Bar, Pipe)</b>&nbsp;</span>: <span style=\"color: #006dd7;\"><b>OR</b></span>\\xec\\x9d\\x98 \\xec\\x9d\\x98\\xeb\\xaf\\xb8.&nbsp;<br />ex) <span style=\"color: #409d00;\"><b>tomato | potato</b></span> : <b>\\'tomato\\'</b>\\xeb\\x9d\\xbc\\xeb\\x8a\\x94 \\xed\\x8c\\xa8\\xed\\x84\\xb4 <b><span style=\"color: #ee2323;\">\\xeb\\x98\\x90\\xeb\\x8a\\x94</span> \\'potato\\'</b>\\xeb\\x9d\\xbc\\xeb\\x8a\\x94 \\xed\\x8c\\xa8\\xed\\x84\\xb4\\xea\\xb3\\xbc \\xec\\x9d\\xbc\\xec\\xb9\\x98\\xed\\x95\\x98\\xeb\\x8a\\x94 \\xeb\\xaa\\xa8\\xeb\\x93\\xa0 \\xea\\xb2\\x83\\xeb\\x93\\xa4\\xec\\x9d\\x84 \\xeb\\xa7\\xa4\\xec\\xb9\\xad\\xed\\x95\\x9c\\xeb\\x8b\\xa4.</li>\\n<li><span style=\"background-color: #ffc9af;\"><b>&nbsp;[ ... ]</b> </span>: \\xeb\\x8c\\x80\\xea\\xb4\\x84\\xed\\x98\\xb8 \\xec\\x95\\x88\\xec\\x9d\\x98 <span style=\"color: #006dd7;\"><b>\\xeb\\xac\\xb8\\xec\\x9e\\x90 \\xed\\x95\\x98\\xeb\\x82\\x98\\xed\\x95\\x98\\xeb\\x82\\x98\\xeb\\x93\\xa4 \\xeb\\xaa\\xa8\\xeb\\x91\\x90\\xea\\xb0\\x80 OR\\xec\\x9d\\x98 \\xec\\x9a\\x94\\xec\\x86\\x8c</b></span>\\xeb\\xa1\\x9c \\xeb\\xb3\\xb4\\xeb\\xa9\\xb4 \\xeb\\x90\\xa8.<br />ex) <span style=\"color: #409d00;\"><b>[cfh]all</b></span> : <b>\\'call\\'</b>, <b>\\'fall\\'</b>, <b>\\'hall\\'</b> \\xec\\x97\\x90 \\xeb\\xaa\\xa8\\xeb\\x91\\x90 \\xeb\\xa7\\xa4\\xec\\xb9\\xad. [0-9], [a-z] \\xec\\x99\\x80 \\xea\\xb0\\x99\\xec\\x9d\\xb4&nbsp;<b><span style=\"background-color: #ffc9af;\"> -&nbsp;</span> </b>\\xeb\\xa5\\xbc \\xed\\x99\\x9c\\xec\\x9a\\xa9\\xed\\x95\\x98\\xec\\x97\\xac \\xec\\x88\\xab\\xec\\x9e\\x90 \\xec\\xa0\\x84\\xec\\xb2\\xb4 \\xeb\\x98\\x90\\xeb\\x8a\\x94 \\xec\\x95\\x8c\\xed\\x8c\\x8c\\xeb\\xb2\\xb3(\\xec\\x86\\x8c\\xeb\\xac\\xb8\\xec\\x9e\\x90) \\xec\\xa0\\x84\\xec\\xb2\\xb4 \\xeb\\x93\\xb1\\xec\\x9d\\x98 <b>\\xed\\x8a\\xb9\\xec\\xa0\\x95 \\xeb\\xb2\\x94\\xec\\x9c\\x84\\xeb\\xa5\\xbc \\xec\\xa7\\x80\\xec\\xa0\\x95</b>\\xed\\x95\\xa0 \\xec\\x88\\x98 \\xec\\x9e\\x88\\xec\\x9d\\x8c.</li>\\n</ul>\\n<h4 data-ke-size=\"size20\"><b>\\xec\\x88\\x98\\xeb\\x9f\\x89 \\xed\\x95\\x9c\\xec\\xa0\\x95\\xec\\x9e\\x90</b></h4>\\n<p data-ke-size=\"size16\">:<span>&nbsp;</span><b>\\xeb\\x8f\\x99\\xec\\x9d\\xbc\\xed\\x95\\x9c \\xea\\xb8\\x80\\xec\\x9e\\x90 \\xed\\x98\\xb9\\xec\\x9d\\x80 \\xea\\xb7\\xb8\\xeb\\xa3\\xb9</b>\\xec\\x9d\\xb4<span>&nbsp;</span><span style=\"color: #8a3db6;\"><b>n\\xea\\xb0\\x9c \\xeb\\xa7\\x8c\\xed\\x81\\xbc \\xeb\\x82\\x98\\xec\\x98\\xa4\\xeb\\x8a\\x94 \\xea\\xb2\\xbd\\xec\\x9a\\xb0</b></span>\\xec\\x97\\x90 \\xec\\x88\\x98\\xeb\\x9f\\x89 \\xed\\x95\\x9c\\xec\\xa0\\x95\\xec\\x9e\\x90\\xeb\\xa5\\xbc \\xeb\\x92\\xa4\\xec\\x97\\x90 \\xeb\\xb6\\x99\\xec\\x9d\\xbc \\xec\\x88\\x98 \\xec\\x9e\\x88\\xeb\\x8b\\xa4.</p>\\n<ul style=\"list-style-type: circle;\" data-ke-list-type=\"circle\">\\n<li><span style=\"background-color: #ffc9af;\"><b>&nbsp;?</b><span>&nbsp;</span></span>: \\xeb\\xb0\\x94\\xeb\\xa1\\x9c \\xec\\x95\\x9e\\xec\\x9d\\x98 \\xea\\xb8\\x80\\xec\\x9e\\x90 \\xed\\x98\\xb9\\xec\\x9d\\x80 \\xea\\xb7\\xb8\\xeb\\xa3\\xb9\\xec\\x9d\\xb4<span>&nbsp;</span><span style=\"color: #006dd7;\"><b>1\\xea\\xb0\\x9c \\xed\\x98\\xb9\\xec\\x9d\\x80 0\\xea\\xb0\\x9c</b></span><span>&nbsp;</span>\\xec\\x9e\\x84\\xec\\x9d\\x84 \\xec\\x9d\\x98\\xeb\\xaf\\xb8.<br />ex)<span>&nbsp;</span><span style=\"color: #409d00;\"><b>apples?</b></span><span>&nbsp;</span>: ? \\xeb\\xb0\\x94\\xeb\\xa1\\x9c \\xec\\x95\\x9e\\xec\\x9d\\x98 \\xea\\xb8\\x80\\xec\\x9e\\x90\\xec\\x9d\\xb8 \\'s\\'\\xea\\xb0\\x80 \\xec\\x9e\\x88\\xec\\x9d\\x84 \\xec\\x88\\x98\\xeb\\x8f\\x84 \\xec\\x9e\\x88\\xea\\xb3\\xa0, \\xec\\x97\\x86\\xec\\x9d\\x84 \\xec\\x88\\x98\\xeb\\x8f\\x84 \\xec\\x9e\\x88\\xec\\x9c\\xbc\\xeb\\xaf\\x80\\xeb\\xa1\\x9c,<span>&nbsp;</span><b>\\'apple\\'</b>,<span>&nbsp;</span><b>\\'apples\\'</b><span>&nbsp;</span>\\xec\\x97\\x90 \\xeb\\xa7\\xa4\\xec\\xb9\\xad.<br /><br /></li>\\n<li><b><span style=\"background-color: #ffc9af;\">&nbsp;*&nbsp;</span></b><span>&nbsp;</span>:<span>&nbsp;</span><span style=\"color: #006dd7;\"><b>0\\xea\\xb0\\x9c \\xec\\x9d\\xb4\\xec\\x83\\x81</b></span>\\xec\\x9d\\x84 \\xec\\x9d\\x98\\xeb\\xaf\\xb8.<br />ex)<span>&nbsp;</span><span style=\"color: #409d00;\"><b>n\\\\d*</b></span><span>&nbsp;</span>: \\'<b>n\\' \\xeb\\x92\\xa4\\xec\\x97\\x90 \\xec\\x88\\xab\\xec\\x9e\\x90\\xea\\xb0\\x80 0\\xea\\xb0\\x9c \\xec\\x9d\\xb4\\xec\\x83\\x81</b>\\xec\\x9d\\xb4\\xeb\\x9d\\xbc\\xeb\\x8a\\x94 \\xec\\x9d\\x98\\xeb\\xaf\\xb8.<span>&nbsp;</span><b>\\'n\\'</b>,<span>&nbsp;</span><b>\\'n1\\'</b>,<span>&nbsp;</span><b>\\'n123\\'</b><span>&nbsp;</span>\\xeb\\x93\\xb1\\xec\\x97\\x90 \\xeb\\xaa\\xa8\\xeb\\x91\\x90 \\xeb\\xa7\\xa4\\xec\\xb9\\xad.<br /><br /></li>\\n<li><b><span style=\"background-color: #ffc9af;\">&nbsp;+&nbsp;</span></b><span>&nbsp;</span>:<span>&nbsp;</span><span style=\"color: #006dd7;\"><b>1\\xea\\xb0\\x9c \\xec\\x9d\\xb4\\xec\\x83\\x81</b></span>\\xec\\x9d\\x84 \\xec\\x9d\\x98\\xeb\\xaf\\xb8.<br />ex)<span>&nbsp;</span><span style=\"color: #409d00;\"><b>n\\\\d+</b></span><span>&nbsp;</span>: \\'<b>n\\' \\xeb\\x92\\xa4\\xec\\x97\\x90 \\xec\\x88\\xab\\xec\\x9e\\x90\\xea\\xb0\\x80 1\\xea\\xb0\\x9c \\xec\\x9d\\xb4\\xec\\x83\\x81</b>\\xec\\x9d\\xb4\\xeb\\x9d\\xbc\\xeb\\x8a\\x94 \\xec\\x9d\\x98\\xeb\\xaf\\xb8.<b><span>&nbsp;</span>\\'n1\\'</b>,<span>&nbsp;</span><b>\\'n123\\'</b><span>&nbsp;</span>\\xeb\\x93\\xb1\\xec\\x97\\x90 \\xeb\\xaa\\xa8\\xeb\\x91\\x90 \\xeb\\xa7\\xa4\\xec\\xb9\\xad\\xeb\\x90\\x98\\xeb\\x82\\x98,<span style=\"color: #ee2323;\"><b><span>&nbsp;</span>\\'</b><b>n\\'</b><span>&nbsp;</span></span>\\xec\\x97\\x90\\xeb\\x8a\\x94 \\xeb\\xa7\\xa4\\xec\\xb9\\xad\\xeb\\x90\\x98\\xec\\xa7\\x80 \\xec\\x95\\x8a\\xec\\x9d\\x8c.<br /><br /></li>\\n<li><b><span style=\"background-color: #ffc9af;\">&nbsp;{n}&nbsp;</span></b><span>&nbsp;</span>:<span>&nbsp;</span><span style=\"color: #006dd7;\"><b>n \\xea\\xb0\\x9c</b></span>\\xea\\xb0\\x80 \\xec\\x9e\\x88\\xeb\\x8b\\xa4\\xeb\\x8a\\x94 \\xea\\xb2\\x83\\xec\\x9d\\x84 \\xec\\x9d\\x98\\xeb\\xaf\\xb8.<br />ex)<span>&nbsp;</span><span style=\"color: #409d00;\"><b>n\\\\d{2}</b><span>&nbsp;</span></span>:<span>&nbsp;</span><b>\\'n\\' \\xeb\\x92\\xa4 \\xec\\x88\\xab\\xec\\x9e\\x90\\xea\\xb0\\x80 2\\xea\\xb0\\x9c \\xec\\x98\\xa4\\xeb\\x8a\\x94 \\xed\\x8c\\xa8\\xed\\x84\\xb4</b>\\xec\\x9d\\x84 \\xec\\x9d\\x98\\xeb\\xaf\\xb8.<span>&nbsp;</span><b>\\'n12\\'</b><span>&nbsp;</span>\\xec\\x97\\x90\\xeb\\x8a\\x94 \\xeb\\xa7\\xa4\\xec\\xb9\\xad\\xeb\\x90\\x98\\xeb\\x82\\x98,<span>&nbsp;</span><span style=\"color: #ee2323;\"><b>\\'n\\', \\'n1\\', \\'n123\\'</b></span><span>&nbsp;</span>\\xec\\x97\\x90\\xeb\\x8a\\x94 \\xeb\\xa7\\xa4\\xec\\xb9\\xad\\xeb\\x90\\x98\\xec\\xa7\\x80 \\xec\\x95\\x8a\\xec\\x9d\\x8c.&nbsp;<br />\\'n123\\' \\xec\\x9d\\xb4\\xeb\\x9d\\xbc\\xeb\\x8a\\x94 \\xeb\\xac\\xb8\\xec\\x9e\\x90\\xec\\x97\\xb4\\xec\\x97\\x90\\xec\\x84\\x9c\\xeb\\x8a\\x94 \\'n12\\' \\xea\\xb9\\x8c\\xec\\xa7\\x80\\xeb\\xa7\\x8c \\xeb\\xa7\\xa4\\xec\\xb9\\xad\\xed\\x95\\x98\\xea\\xb3\\xa0, 3\\xec\\x9d\\x80 \\xec\\xa0\\x9c\\xec\\x99\\xb8\\xec\\x8b\\x9c\\xed\\x82\\xa4\\xea\\xb2\\x8c \\xeb\\x90\\xa8.<br /><br /></li>\\n<li><span style=\"background-color: #ffc9af;\"><b>&nbsp;{n, m}</b><span>&nbsp;</span></span>:<span>&nbsp;</span><span style=\"color: #006dd7;\"><b>n\\xea\\xb0\\x9c \\xec\\x9d\\xb4\\xec\\x83\\x81, m\\xea\\xb0\\x9c \\xec\\x9d\\xb4\\xed\\x95\\x98</b></span>\\xeb\\xa5\\xbc \\xec\\x9d\\x98\\xeb\\xaf\\xb8. \\xec\\x9d\\xb4\\xeb\\x95\\x8c m\\xec\\x9d\\x84 \\xec\\x83\\x9d\\xeb\\x9e\\xb5\\xed\\x95\\x98\\xec\\x97\\xac<span style=\"background-color: #ffc9af;\">&nbsp;<span>&nbsp;</span><b>{n, }<span>&nbsp;</span></b></span>\\xec\\x99\\x80 \\xea\\xb0\\x99\\xec\\x9d\\xb4 \\xec\\x93\\xb8 \\xec\\x88\\x98 \\xec\\x9e\\x88\\xeb\\x8a\\x94\\xeb\\x8d\\xb0, \\xec\\x9d\\xb4\\xeb\\x8a\\x94<span>&nbsp;</span><span style=\"color: #006dd7;\"><b>n\\xea\\xb0\\x9c \\xec\\x9d\\xb4\\xec\\x83\\x81 \\xeb\\xa7\\x8c\\xec\\x9d\\x84 \\xec\\x9d\\x98\\xeb\\xaf\\xb8.</b></span><br />ex 1)<span>&nbsp;</span><span style=\"color: #409d00;\"><b>n\\\\d{2, 3}</b></span>&nbsp;:<span>&nbsp;</span><b>\\'n12\\', \\'n123\\'</b><span>&nbsp;</span>\\xec\\x97\\x90\\xeb\\x8a\\x94 \\xeb\\xa7\\xa4\\xec\\xb9\\xad\\xeb\\x90\\x98\\xec\\xa7\\x80\\xeb\\xa7\\x8c,<span style=\"color: #ee2323;\"><b><span>&nbsp;</span>\\'n1\\'</b></span>\\xec\\x9d\\xb4\\xeb\\x82\\x98<span>&nbsp;</span><span style=\"color: #ee2323;\"><b>\\'n1234\\'</b></span>\\xec\\x97\\x90\\xeb\\x8a\\x94 \\xeb\\xa7\\xa4\\xec\\xb9\\xad\\xeb\\x90\\x98\\xec\\xa7\\x80 \\xec\\x95\\x8a\\xec\\x9d\\x8c.<br /><br /></li>\\n</ul>\\n<p data-ke-size=\"size16\"><b>\\xe2\\x80\\xbb \\xec\\x88\\x98\\xeb\\x9f\\x89\\xed\\x95\\x9c\\xec\\xa0\\x95\\xec\\x9e\\x90\\xec\\x9d\\x98 \\xeb\\xa7\\xa4\\xec\\xb9\\xad \\xeb\\xb0\\xa9\\xec\\x8b\\x9d</b><span>&nbsp;</span>:<span style=\"background-color: #ffc9af;\"><b><span>&nbsp;</span>*</b><span>&nbsp;</span></span>,<span style=\"background-color: #ffc9af;\"><b><span>&nbsp;</span>+</b><span>&nbsp;</span></span>\\xeb\\x8a\\x94 \\xea\\xb8\\xb0\\xeb\\xb3\\xb8\\xec\\xa0\\x81\\xec\\x9c\\xbc\\xeb\\xa1\\x9c<span>&nbsp;</span><span style=\"color: #ee2323;\"><b>greedy \\xed\\x95\\x98\\xea\\xb2\\x8c \\xeb\\x8f\\x99\\xec\\x9e\\x91</b></span>\\xed\\x95\\x9c\\xeb\\x8b\\xa4. \\xec\\xa6\\x89, \\xea\\xb0\\x80\\xeb\\x8a\\xa5\\xed\\x95\\x9c \\xed\\x95\\x9c \\xeb\\xa7\\x8e\\xec\\x9d\\x80 \\xea\\xb8\\x80\\xec\\x9e\\x90\\xeb\\xa5\\xbc \\xed\\x8f\\xac\\xed\\x95\\xa8\\xed\\x95\\x98\\xea\\xb3\\xa0, \\xeb\\x8b\\xa4\\xec\\x9d\\x8c \\xed\\x8c\\xa8\\xed\\x84\\xb4\\xec\\x9d\\x84 \\xec\\xb0\\xbe\\xeb\\x8a\\x94\\xeb\\x8b\\xa4\\xeb\\x8a\\x94 \\xeb\\xa7\\x90\\xec\\x9d\\xb4\\xeb\\x8b\\xa4. \\xeb\\x94\\xb0\\xeb\\x9d\\xbc\\xec\\x84\\x9c<span style=\"background-color: #ffc9af;\"><b><span>&nbsp;</span>.</b><span>&nbsp;</span></span>\\xec\\xb2\\x98\\xeb\\x9f\\xbc \\xeb\\xaa\\xa8\\xeb\\x93\\xa0 \\xeb\\xac\\xb8\\xec\\x9e\\x90\\xeb\\xa5\\xbc \\xec\\x9d\\x98\\xeb\\xaf\\xb8\\xed\\x95\\x98\\xeb\\x8a\\x94 \\xeb\\xa9\\x94\\xed\\x83\\x80\\xeb\\xac\\xb8\\xec\\x9e\\x90\\xec\\x99\\x80\\xeb\\x8a\\x94 \\xea\\xb0\\x80\\xea\\xb8\\x89\\xec\\xa0\\x81 \\xec\\x82\\xac\\xec\\x9a\\xa9\\xec\\x9d\\x84 \\xed\\x95\\x98\\xec\\xa7\\x80 \\xec\\x95\\x8a\\xec\\x95\\x84\\xec\\x95\\xbc \\xed\\x95\\x9c\\xeb\\x8b\\xa4. \\xec\\x98\\x88\\xeb\\xa5\\xbc \\xed\\x86\\xb5\\xed\\x95\\xb4 \\xec\\x82\\xb4\\xed\\x8e\\xb4\\xeb\\xb3\\xb4\\xec\\x9e\\x90.</p>\\n<p data-ke-size=\"size16\">ex)<span>&nbsp;</span><span style=\"color: #409d00;\"><b>\\'I like apples and bananas\\'</b></span><span>&nbsp;</span>\\xec\\x97\\x90\\xec\\x84\\x9c<span style=\"background-color: #ffc9af;\">&nbsp;<span>&nbsp;</span></span><span style=\"color: #000000; background-color: #ffc9af;\"><b><span style=\"background-color: #ffc9af;\">^</span>.*s&nbsp;</b></span><span>&nbsp;</span>\\xeb\\xa5\\xbc \\xec\\x82\\xac\\xec\\x9a\\xa9\\xed\\x95\\x98\\xea\\xb2\\x8c \\xeb\\x90\\x98\\xeb\\xa9\\xb4,<span style=\"background-color: #ffc9af;\"><b><span>&nbsp;</span>.</b><span>&nbsp;</span></span>(\\xec\\x95\\x84\\xeb\\xac\\xb4 \\xeb\\xac\\xb8\\xec\\x9e\\x90)\\xec\\x9d\\x98 \\xea\\xb0\\x9c\\xec\\x88\\x98\\xea\\xb0\\x80 \\xec\\xa0\\x9c\\xed\\x95\\x9c\\xec\\x9d\\xb4 \\xec\\x97\\x86\\xec\\x9c\\xbc\\xeb\\xaf\\x80\\xeb\\xa1\\x9c, ^.*s \\xeb\\xa5\\xbc \\xed\\x95\\xb4\\xec\\x84\\x9d\\xed\\x95\\x98\\xeb\\xa9\\xb4,<span>&nbsp;</span><b>s\\xeb\\xa1\\x9c \\xeb\\x81\\x9d\\xeb\\x82\\x98\\xeb\\x8a\\x94 \\xea\\xb0\\x80\\xec\\x9e\\xa5 \\xea\\xb8\\xb4 \\xeb\\xac\\xb8\\xec\\x9e\\x90\\xec\\x97\\xb4</b>\\xec\\x9d\\xb4 \\xeb\\x90\\x98\\xea\\xb2\\x8c \\xeb\\x90\\x9c\\xeb\\x8b\\xa4. \\xec\\xa6\\x89,<span>&nbsp;</span><span style=\"color: #ee2323;\"><b>\\'I like apples and bananas\\' \\xea\\xb7\\xb8\\xeb\\x8c\\x80\\xeb\\xa1\\x9c \\xeb\\xa7\\xa4\\xec\\xb9\\xad\\xeb\\x90\\x98\\xea\\xb2\\x8c \\xeb\\x90\\x98\\xeb\\x8a\\x94 \\xea\\xb2\\x83</b></span>\\xec\\x9d\\xb4\\xeb\\x8b\\xa4. \\xec\\x9d\\xb4\\xeb\\xa0\\x87\\xea\\xb2\\x8c \\xeb\\x90\\x98\\xeb\\xa9\\xb4,<span>&nbsp;</span><u>\\xec\\xa0\\x95\\xea\\xb7\\x9c \\xed\\x91\\x9c\\xed\\x98\\x84\\xec\\x8b\\x9d\\xec\\x9d\\x84 \\xec\\x82\\xac\\xec\\x9a\\xa9\\xed\\x95\\x98\\xeb\\x8a\\x94 \\xec\\x9d\\x98\\xeb\\xaf\\xb8\\xea\\xb0\\x80 \\xec\\xa0\\x84\\xed\\x98\\x80 \\xec\\x97\\x86\\xec\\x96\\xb4\\xec\\xa7\\x80\\xea\\xb2\\x8c \\xeb\\x90\\x9c\\xeb\\x8b\\xa4.</u></p>\\n<hr contenteditable=\"false\" data-ke-type=\"horizontalRule\" data-ke-style=\"style2\" />\\n<h4 data-ke-size=\"size20\"><b>\\xea\\xb7\\xb8\\xeb\\xa3\\xb9&nbsp;</b></h4>\\n<p data-ke-size=\"size16\">: <span style=\"color: #8a3db6;\"><b>\\xec\\x86\\x8c\\xea\\xb4\\x84\\xed\\x98\\xb8\\xeb\\xa1\\x9c \\xeb\\x91\\x98\\xeb\\x9f\\xac\\xec\\x8b\\xbc \\xeb\\x8b\\xa8\\xec\\x9c\\x84</b></span>\\xeb\\x8a\\x94 \\xea\\xb7\\xb8\\xeb\\xa3\\xb9\\xec\\x9d\\x84 \\xeb\\x82\\x98\\xed\\x83\\x80\\xeb\\x82\\xb4\\xeb\\x8a\\x94\\xeb\\x8d\\xb0, \\xed\\x8a\\xb9\\xed\\x9e\\x88 <b>\\xec\\x88\\x98\\xeb\\x9f\\x89 \\xed\\x95\\x9c\\xec\\xa0\\x95\\xec\\x9e\\x90\\xeb\\xa5\\xbc \\xea\\xb7\\xb8\\xeb\\xa3\\xb9\\xec\\x97\\x90 \\xeb\\xb6\\x99\\xec\\x9d\\xb4\\xeb\\x8a\\x94 \\xed\\x98\\x95\\xed\\x83\\x9c\\xeb\\xa1\\x9c \\xec\\x82\\xac\\xec\\x9a\\xa9</b>\\xed\\x95\\x98\\xec\\x97\\xac, <u>\\xea\\xb7\\xb8\\xeb\\xa3\\xb9\\xec\\x97\\x90 \\xed\\x95\\xb4\\xeb\\x8b\\xb9\\xed\\x95\\x98\\xeb\\x8a\\x94 \\xed\\x8c\\xa8\\xed\\x84\\xb4\\xec\\x9d\\xb4 \\xeb\\xb0\\x98\\xeb\\xb3\\xb5\\xec\\xa0\\x81\\xec\\x9c\\xbc\\xeb\\xa1\\x9c \\xeb\\x82\\x98\\xed\\x83\\x80\\xeb\\x82\\x98\\xeb\\x8a\\x94 \\xed\\x8c\\xa8\\xed\\x84\\xb4\\xec\\x97\\x90 \\xeb\\x8c\\x80\\xed\\x95\\xb4\\xec\\x84\\x9c \\xeb\\xa7\\xa4\\xec\\xb9\\xad\\xec\\x9d\\xb4 \\xea\\xb0\\x80\\xeb\\x8a\\xa5\\xed\\x95\\x98\\xea\\xb2\\x8c\\xeb\\x81\\x94 \\xed\\x95\\xb4\\xec\\xa3\\xbc\\xeb\\x8a\\x94 \\xec\\x97\\xad\\xed\\x95\\xa0</u>\\xec\\x9d\\x84 \\xed\\x95\\x9c\\xeb\\x8b\\xa4.</p>\\n<p data-ke-size=\"size16\">ex 1) <span style=\"color: #409d00;\"><b>(tom|pot)ato</b></span> :<span style=\"color: #409d00;\"> <b>tomato | potato</b></span> \\xec\\x99\\x80 \\xea\\xb0\\x99\\xec\\x9d\\x80 \\xec\\x9d\\x98\\xeb\\xaf\\xb8. \\'tomato\\' \\xeb\\x98\\x90\\xeb\\x8a\\x94 \\'potato\\' \\xec\\x97\\x90 \\xeb\\xaa\\xa8\\xeb\\x91\\x90 \\xeb\\xa7\\xa4\\xec\\xb9\\xad\\xeb\\x90\\x98\\xeb\\x8a\\x94 \\xed\\x8c\\xa8\\xed\\x84\\xb4\\xec\\x9d\\x84 \\xea\\xb7\\xb8\\xeb\\xa3\\xb9\\xec\\x9d\\x84 \\xec\\x8d\\xa8\\xec\\x84\\x9c \\xec\\xa0\\x95\\xea\\xb7\\x9c\\xec\\x8b\\x9d\\xec\\x9d\\x84 \\xec\\xa2\\x80 \\xeb\\x8d\\x94 \\xea\\xb9\\x94\\xeb\\x81\\x94\\xed\\x95\\x98\\xea\\xb2\\x8c \\xed\\x91\\x9c\\xed\\x98\\x84\\xed\\x95\\x98\\xec\\x98\\x80\\xeb\\x8b\\xa4.</p>\\n<p data-ke-size=\"size16\">ex 2) <b>(a|i){3}bc</b> : <span style=\"color: #409d00;\"><b>a \\xed\\x98\\xb9\\xec\\x9d\\x80 i \\xea\\xb0\\x80 3\\xea\\xb0\\x9c \\xec\\x98\\xa8 \\xed\\x9b\\x84\\xec\\x97\\x90 bc\\xea\\xb0\\x80 \\xec\\x98\\xa4\\xeb\\x8a\\x94</b></span> \\xed\\x8c\\xa8\\xed\\x84\\xb4. aaabc, iiibc, aiabc, aaibc, iiabc \\xeb\\x93\\xb1\\xec\\x9d\\xb4 \\xeb\\xa7\\xa4\\xec\\xb9\\xad.</p>\\n<p data-ke-size=\"size16\">&nbsp;</p>\\n<h4 data-ke-size=\"size20\"><b>\\xec\\xa0\\x84\\xed\\x9b\\x84\\xeb\\xb0\\xa9\\xed\\x83\\x90\\xec\\x83\\x89</b></h4>\\n<p data-ke-size=\"size16\">: <span style=\"color: #8a3db6;\"><b>\\xeb\\xb0\\x98\\xed\\x99\\x98\\xed\\x95\\x98\\xec\\xa7\\x80 \\xec\\x95\\x8a\\xec\\x9d\\x84 \\xed\\x8c\\xa8\\xed\\x84\\xb4\\xec\\x9d\\x84 \\xed\\x8f\\xac\\xed\\x95\\xa8\\xed\\x95\\x98\\xec\\x97\\xac&nbsp; Regex\\xec\\x9d\\x98 \\xed\\x8c\\xa8\\xed\\x84\\xb4\\xec\\x9d\\x84 \\xea\\xb5\\xac\\xec\\x84\\xb1</b></span>\\xed\\x95\\x98\\xeb\\x8a\\x94 \\xea\\xb2\\x83, \\xec\\xa6\\x89, \\xec\\xa0\\x95\\xed\\x99\\x95\\xed\\x95\\x9c \\xec\\x9d\\xbc\\xec\\xb9\\x98 \\xec\\xa7\\x80\\xec\\xa0\\x90\\xec\\x9d\\x84 \\xec\\xb0\\xbe\\xeb\\x8a\\x94 \\xeb\\x8d\\xb0\\xeb\\x8a\\x94 \\xec\\x82\\xac\\xec\\x9a\\xa9\\xeb\\x90\\x98\\xec\\xa7\\x80\\xeb\\xa7\\x8c \\xec\\x8b\\xa4\\xec\\xa0\\x9c \\xec\\x9d\\xbc\\xec\\xb9\\x98\\xed\\x95\\x98\\xeb\\x8a\\x94 \\xeb\\xb6\\x80\\xeb\\xb6\\x84\\xec\\x9d\\x98 \\xec\\x9d\\xbc\\xeb\\xb6\\x80\\xeb\\xa1\\x9c\\xeb\\x8a\\x94 \\xec\\x82\\xac\\xec\\x9a\\xa9\\xeb\\x90\\x98\\xec\\xa7\\x80 \\xec\\x95\\x8a\\xeb\\x8a\\x94 \\'\\xec\\x96\\xb4\\xeb\\x96\\xa4 \\xea\\xb2\\x83\\'\\xec\\x9d\\xb4 \\xed\\x95\\x84\\xec\\x9a\\x94\\xed\\x95\\x98\\xea\\xb2\\x8c \\xeb\\x90\\x98\\xeb\\x8a\\x94\\xeb\\x8d\\xb0, \\xec\\x9d\\xb4\\xeb\\x95\\x8c \\xec\\x82\\xac\\xec\\x9a\\xa9 \\xeb\\x90\\x98\\xeb\\x8a\\x94 \\xea\\xb2\\x83\\xec\\x9d\\xb4 Regex\\xec\\x9d\\x98 <b>\\xec\\xa0\\x84\\xed\\x9b\\x84\\xeb\\xb0\\xa9\\xed\\x83\\x90\\xec\\x83\\x89(Look Around) \\xea\\xb8\\xb0\\xeb\\xb2\\x95</b>\\xec\\x9d\\xb4\\xeb\\x8b\\xa4.</p>\\n<p data-ke-size=\"size16\">&nbsp;</p>\\n<p data-ke-size=\"size18\"><b>\\xe2\\x96\\xa0 \\xec\\xa0\\x84\\xeb\\xb0\\xa9 \\xed\\x83\\x90\\xec\\x83\\x89(Look Ahead)</b></p>\\n<p data-ke-size=\"size16\">- <span style=\"color: #006dd7;\"><b><span style=\"color: #333333;\">\\'</span>?=<span style=\"color: #333333;\">\\'</span></b></span> \\xec\\x82\\xac\\xec\\x9a\\xa9</p>\\n<p data-ke-size=\"size16\">- \\'?=\\' \\xeb\\x8b\\xa4\\xec\\x9d\\x8c\\xec\\x97\\x90 \\xec\\x98\\xa4\\xeb\\x8a\\x94 \\xed\\x85\\x8d\\xec\\x8a\\xa4\\xed\\x8a\\xb8\\xeb\\xa5\\xbc \\xea\\xb8\\xb0\\xec\\xa4\\x80\\xec\\x9c\\xbc\\xeb\\xa1\\x9c, <span style=\"color: #8a3db6;\"><b>\\xea\\xb7\\xb8 \\xec\\x9d\\xb4\\xec\\xa0\\x84 \\xed\\x85\\x8d\\xec\\x8a\\xa4\\xed\\x8a\\xb8\\xeb\\xa7\\x8c\\xec\\x9d\\x84 \\xed\\x95\\xb4\\xeb\\x8b\\xb9 \\xed\\x8c\\xa8\\xed\\x84\\xb4\\xec\\x9d\\x84 \\xec\\xa0\\x81\\xec\\x9a\\xa9\\xed\\x95\\x98\\xec\\x97\\xac \\xec\\xb6\\x94\\xec\\xb6\\x9c</b></span>\\xed\\x95\\x98\\xea\\xb3\\xa0\\xec\\x9e\\x90 \\xed\\x95\\xa0 \\xeb\\x95\\x8c \\xec\\x82\\xac\\xec\\x9a\\xa9</p>\\n<p data-ke-size=\"size16\"><span style=\"color: #409d00;\"><b>ex) \\'.+(?=:)\\'</b></span></p>\\n<ul style=\"list-style-type: circle;\" data-ke-list-type=\"circle\">\\n<li>http://www.co-no_blog.com/<br />\\xe2\\x98\\x9e <b><span style=\"background-color: #ffc9af;\">http</span></b>://www.co-no_blog.com/</li>\\n<li>http://mail.co-no.com/<br />\\xe2\\x98\\x9e <span style=\"background-color: #ffc9af;\"><b>http</b></span>://mail.co-no.com/</li>\\n<li>ftp://ftp.co-no.com/<br />\\xe2\\x98\\x9e <span style=\"background-color: #ffc9af;\"><b>ftp</b></span>://ftp.co-no.com/<br /><br /></li>\\n</ul>\\n<p data-ke-size=\"size18\"><b>\\xe2\\x96\\xa0<span>&nbsp;</span>\\xed\\x9b\\x84\\xeb\\xb0\\xa9 \\xed\\x83\\x90\\xec\\x83\\x89(Look Behind)</b></p>\\n<p data-ke-size=\"size16\">-<span>&nbsp;</span><span style=\"color: #006dd7;\"><b><span style=\"color: #333333;\">\\'</span>?&lt;=<span style=\"color: #333333;\">\\'</span></b></span><span>&nbsp;</span>\\xec\\x82\\xac\\xec\\x9a\\xa9</p>\\n<p data-ke-size=\"size16\">- \\'?&lt;=\\' \\xeb\\x8b\\xa4\\xec\\x9d\\x8c\\xec\\x97\\x90 \\xec\\x98\\xa4\\xeb\\x8a\\x94 \\xed\\x85\\x8d\\xec\\x8a\\xa4\\xed\\x8a\\xb8\\xeb\\xa5\\xbc \\xea\\xb8\\xb0\\xec\\xa4\\x80\\xec\\x9c\\xbc\\xeb\\xa1\\x9c,<span>&nbsp;</span><span style=\"color: #8a3db6;\"><b>\\xea\\xb7\\xb8 \\xec\\x9d\\xb4\\xed\\x9b\\x84 \\xed\\x85\\x8d\\xec\\x8a\\xa4\\xed\\x8a\\xb8\\xeb\\xa7\\x8c\\xec\\x9d\\x84 \\xed\\x95\\xb4\\xeb\\x8b\\xb9 \\xed\\x8c\\xa8\\xed\\x84\\xb4\\xec\\x9d\\x84 \\xec\\xa0\\x81\\xec\\x9a\\xa9\\xed\\x95\\x98\\xec\\x97\\xac \\xec\\xb6\\x94\\xec\\xb6\\x9c</b></span>\\xed\\x95\\x98\\xea\\xb3\\xa0\\xec\\x9e\\x90 \\xed\\x95\\xa0 \\xeb\\x95\\x8c \\xec\\x82\\xac\\xec\\x9a\\xa9</p>\\n<p data-ke-size=\"size16\"><span style=\"color: #409d00;\"><b>ex) <span style=\"color: #333333;\">\\'</span>(?&lt;=\\\\$)[0-9.]+<span style=\"color: #333333;\">\\'</span></b></span></p>\\n<ul style=\"list-style-type: circle;\" data-ke-list-type=\"circle\">\\n<li>ABC01: $23.45<br /><span>\\xe2\\x98\\x9e<span> ABC01: $<span style=\"background-color: #ffc9af;\"><b>23.45</b></span></span></span></li>\\n<li>HGG42: $5.31<br /><span>\\xe2\\x98\\x9e<span> HGG42: $<span style=\"background-color: #ffc9af;\"><b>5.31</b></span></span></span></li>\\n<li>CFMX1: $899.00<br /><span>\\xe2\\x98\\x9e<span> CFMX1: $<span style=\"background-color: #ffc9af;\"><b>899.00</b></span></span></span></li>\\n<li>XTC99: $69.96<br /><span>\\xe2\\x98\\x9e XTC99: $<span style=\"background-color: #ffc9af;\"><b>69.96</b></span></span></li>\\n</ul>\\n<p data-ke-size=\"size16\"><b>\\xe2\\x80\\xbb \\xec\\xa3\\xbc\\xec\\x9d\\x98\\xec\\x82\\xac\\xed\\x95\\xad :&nbsp;</b>\\xec\\xa0\\x84\\xeb\\xb0\\xa9 \\xed\\x83\\x90\\xec\\x83\\x89\\xec\\x9d\\x80 \\xeb\\xa7\\x88\\xec\\xb9\\xa8\\xed\\x91\\x9c(.)\\xec\\x99\\x80 \\xeb\\x8d\\x94\\xed\\x95\\x98\\xea\\xb8\\xb0(+)\\xeb\\xa5\\xbc \\xed\\x8f\\xac\\xed\\x95\\xa8\\xed\\x95\\x98\\xec\\x97\\xac \\xed\\x85\\x8d\\xec\\x8a\\xa4\\xed\\x8a\\xb8\\xec\\x9d\\x98 \\xea\\xb8\\xb8\\xec\\x9d\\xb4\\xeb\\xa5\\xbc \\xeb\\x8b\\xa4\\xec\\x96\\x91\\xed\\x95\\x98\\xea\\xb2\\x8c \\xec\\x9d\\xbc\\xec\\xb9\\x98\\xec\\x8b\\x9c\\xed\\x82\\xac \\xec\\x88\\x98 \\xec\\x9e\\x88\\xec\\x9c\\xbc\\xeb\\xa9\\xb0, \\xeb\\xa7\\xa4\\xec\\x9a\\xb0 \\xeb\\x8f\\x99\\xec\\xa0\\x81\\xec\\x9d\\xb8 \\xeb\\xb0\\x98\\xeb\\xa9\\xb4,<span style=\"color: #ee2323;\"><b> \\xed\\x9b\\x84\\xeb\\xb0\\xa9 \\xed\\x83\\x90\\xec\\x83\\x89\\xec\\x9d\\x80 \\xeb\\xb3\\xb4\\xed\\x86\\xb5 \\xec\\x9d\\xbc\\xec\\xb9\\x98\\xec\\x8b\\x9c\\xed\\x82\\xac \\xed\\x85\\x8d\\xec\\x8a\\xa4\\xed\\x8a\\xb8\\xec\\x9d\\x98 \\xea\\xb8\\xb8\\xec\\x9d\\xb4\\xeb\\xa5\\xbc \\xea\\xb3\\xa0\\xec\\xa0\\x95\\xed\\x95\\xb4\\xec\\x95\\xbc \\xed\\x95\\x9c\\xeb\\x8b\\xa4.&nbsp;</b></span></p>\\n<p data-ke-size=\"size16\">&nbsp;</p>\\n<p data-ke-size=\"size18\"><b>\\xe2\\x96\\xa0<span>&nbsp;</span>\\xec\\xa0\\x84\\xeb\\xb0\\xa9\\xed\\x83\\x90\\xec\\x83\\x89\\xea\\xb3\\xbc \\xed\\x9b\\x84\\xeb\\xb0\\xa9\\xed\\x83\\x90\\xec\\x83\\x89\\xec\\x9d\\x98 \\xeb\\x8f\\x99\\xec\\x8b\\x9c \\xec\\x82\\xac\\xec\\x9a\\xa9</b></p>\\n<p data-ke-size=\"size16\">\\xeb\\x8b\\xa4\\xec\\x9d\\x8c \\xec\\x98\\x88\\xec\\x8b\\x9c\\xec\\x99\\x80 \\xea\\xb0\\x99\\xec\\x9d\\xb4 HTML \\xed\\x83\\x9c\\xea\\xb7\\xb8\\xeb\\xa5\\xbc \\xec\\xa0\\x9c\\xec\\x99\\xb8\\xed\\x95\\x9c \\xed\\x85\\x8d\\xec\\x8a\\xa4\\xed\\x8a\\xb8\\xeb\\xa5\\xbc \\xec\\xb6\\x94\\xec\\xb6\\x9c\\xed\\x95\\x98\\xea\\xb3\\xa0\\xec\\x9e\\x90 \\xed\\x95\\xa0 \\xeb\\x95\\x8c, \\xec\\xa0\\x84\\xeb\\xb0\\xa9\\xed\\x83\\x90\\xec\\x83\\x89\\xea\\xb3\\xbc \\xed\\x9b\\x84\\xeb\\xb0\\xa9\\xed\\x83\\x90\\xec\\x83\\x89\\xec\\x9d\\x98 \\xeb\\x8f\\x99\\xec\\x8b\\x9c \\xec\\x82\\xac\\xec\\x9a\\xa9\\xec\\x9d\\x84 \\xec\\x9c\\xa0\\xec\\x9a\\xa9\\xed\\x95\\x98\\xea\\xb2\\x8c \\xed\\x99\\x9c\\xec\\x9a\\xa9\\xed\\x95\\xa0 \\xec\\x88\\x98 \\xec\\x9e\\x88\\xeb\\x8b\\xa4.</p>\\n<p data-ke-size=\"size16\"><span style=\"color: #409d00;\"><b>ex)</b> <b><span style=\"color: #333333;\">\\'</span>(?&lt;=\\\\&lt;[tT][iI][tT][lL][eE]\\\\&gt;).*(?=&lt;\\\\/[tT][iI][tT][lL][eE]\\\\&gt;)<span style=\"color: #333333;\">\\' (\\\\ : \\xec\\x9d\\xb4\\xec\\x8a\\xa4\\xec\\xbc\\x80\\xec\\x9d\\xb4\\xed\\x94\\x84 \\xeb\\xac\\xb8\\xec\\x9e\\x90)</span></b></span></p>\\n<p data-ke-size=\"size16\"><span style=\"color: #409d00;\"><b><span style=\"color: #333333;\">&lt;head&gt;</span></b></span></p>\\n<p data-ke-size=\"size16\"><span style=\"color: #409d00;\"><b><span style=\"color: #333333;\">&lt;title&gt;</span></b><span style=\"color: #333333; background-color: #ffc9af;\">co-no\\xec\\x9d\\x98 \\xed\\x99\\x88\\xed\\x8e\\x98\\xec\\x9d\\xb4\\xec\\xa7\\x80</span><b><span style=\"color: #333333;\">&lt;/title&gt;</span></b></span></p>\\n<p data-ke-size=\"size16\"><span style=\"color: #409d00;\"><b><span style=\"color: #333333;\">&lt;/head&gt;</span></b></span></p>\\n<hr contenteditable=\"false\" data-ke-type=\"horizontalRule\" data-ke-style=\"style1\" />\\n<p data-ke-size=\"size18\"><b>\\xe2\\x96\\xa0<span>&nbsp;</span>\\xeb\\xb6\\x80\\xec\\xa0\\x95\\xed\\x98\\x95 \\xec\\xa0\\x84\\xed\\x9b\\x84\\xeb\\xb0\\xa9\\xed\\x83\\x90\\xec\\x83\\x89</b></p>\\n<p data-ke-size=\"size16\">&nbsp;\\xec\\xa7\\x80\\xea\\xb8\\x88\\xea\\xb9\\x8c\\xec\\xa7\\x80 \\xec\\x82\\xb4\\xed\\x8e\\xb4\\xeb\\xb3\\xb8 \\xec\\xa0\\x84\\xeb\\xb0\\xa9\\xed\\x83\\x90\\xec\\x83\\x89\\xea\\xb3\\xbc \\xed\\x9b\\x84\\xeb\\xb0\\xa9\\xed\\x83\\x90\\xec\\x83\\x89\\xec\\x9d\\x98 \\xea\\xb2\\xbd\\xec\\x9a\\xb0, \\xeb\\xb0\\x98\\xed\\x99\\x98\\xed\\x95\\xa0 \\xed\\x85\\x8d\\xec\\x8a\\xa4\\xed\\x8a\\xb8\\xec\\x9d\\x98 \\xec\\x9c\\x84\\xec\\xb9\\x98, \\xec\\xa6\\x89, \\xec\\xb0\\xbe\\xea\\xb3\\xa0\\xec\\x9e\\x90 \\xed\\x95\\x98\\xeb\\x8a\\x94 \\xeb\\xb6\\x80\\xeb\\xb6\\x84\\xec\\x9d\\x98 \\xec\\x95\\x9e\\xeb\\x92\\xa4\\xeb\\xa5\\xbc \\xed\\x8a\\xb9\\xeb\\xb3\\x84\\xed\\x9e\\x88 \\xec\\xa7\\x80\\xec\\xa0\\x95\\xed\\x95\\x98\\xea\\xb3\\xa0 \\xec\\x8b\\xb6\\xec\\x9d\\x84 \\xeb\\x95\\x8c \\xec\\xa3\\xbc\\xeb\\xa1\\x9c \\xec\\x82\\xac\\xec\\x9a\\xa9\\xed\\x95\\x98\\xea\\xb2\\x8c \\xeb\\x90\\x9c\\xeb\\x8b\\xa4. \\xec\\x9d\\xb4\\xeb\\x9f\\xac\\xed\\x95\\x9c \\xeb\\xb0\\xa9\\xec\\x8b\\x9d\\xec\\x9d\\x84 \\xea\\xb8\\x8d\\xec\\xa0\\x95\\xed\\x98\\x95 \\xec\\xa0\\x84\\xeb\\xb0\\xa9\\xed\\x83\\x90\\xec\\x83\\x89(Positive Lookahead) \\xeb\\x98\\x90\\xeb\\x8a\\x94 \\xea\\xb8\\x8d\\xec\\xa0\\x95\\xed\\x98\\x95 \\xed\\x9b\\x84\\xeb\\xb0\\xa9\\xed\\x83\\x90\\xec\\x83\\x89(Positive Lookbehind) \\xeb\\x9d\\xbc\\xea\\xb3\\xa0 \\xed\\x95\\x98\\xeb\\x8a\\x94\\xeb\\x8d\\xb0, \\xec\\x97\\xac\\xea\\xb8\\xb0\\xec\\x84\\x9c \\'Positive\\' \\xeb\\x9d\\xbc\\xeb\\x8a\\x94 \\xeb\\xa7\\x90\\xec\\x9d\\x84 \\xec\\x93\\xb0\\xeb\\x8a\\x94 \\xec\\x9d\\xb4\\xec\\x9c\\xa0\\xeb\\x8a\\x94, \\xec\\x8b\\xa4\\xec\\xa0\\x9c\\xeb\\xa1\\x9c \\xec\\x9d\\xbc\\xec\\xb9\\x98\\xed\\x95\\x98\\xeb\\x8a\\x94 \\xed\\x85\\x8d\\xec\\x8a\\xa4\\xed\\x8a\\xb8\\xeb\\xa5\\xbc \\xec\\xb0\\xbe\\xeb\\x8a\\x94 \\xeb\\xb0\\xa9\\xec\\x8b\\x9d\\xec\\x9d\\xb4\\xea\\xb8\\xb0 \\xeb\\x95\\x8c\\xeb\\xac\\xb8\\xec\\x9d\\xb4\\xeb\\x8b\\xa4.</p>\\n<p data-ke-size=\"size16\">&nbsp;</p>\\n<p data-ke-size=\"size16\">\\xea\\xb7\\xb8\\xeb\\xa0\\x87\\xeb\\x8b\\xa4\\xeb\\xa9\\xb4 \\xeb\\xb6\\x80\\xec\\xa0\\x95\\xed\\x98\\x95(Negative) \\xec\\xa0\\x84\\xed\\x9b\\x84\\xeb\\xb0\\xa9\\xed\\x83\\x90\\xec\\x83\\x89\\xec\\x97\\x90 \\xeb\\x8c\\x80\\xed\\x95\\xb4 \\xec\\x95\\x8c\\xec\\x95\\x84\\xeb\\xb3\\xb4\\xec\\x9e\\x90!</p>\\n<p data-ke-size=\"size16\">&nbsp;</p>\\n<p data-ke-size=\"size18\"><b>\\xe2\\x96\\xa0<span>&nbsp;</span>\\xeb\\xb6\\x80\\xec\\xa0\\x95\\xed\\x98\\x95 \\xec\\xa0\\x84\\xeb\\xb0\\xa9\\xed\\x83\\x90\\xec\\x83\\x89(Negative Lookahead)</b></p>\\n<p data-ke-size=\"size16\">- <b>\\'<span style=\"color: #006dd7;\">?!-</span>\\'</b> \\xec\\x82\\xac\\xec\\x9a\\xa9</p>\\n<p data-ke-size=\"size16\">- \\'?!-\\' \\xeb\\x8b\\xa4\\xec\\x9d\\x8c\\xec\\x97\\x90 \\xec\\x98\\xa4\\xeb\\x8a\\x94 <span style=\"color: #ee2323;\"><b>\\xed\\x85\\x8d\\xec\\x8a\\xa4\\xed\\x8a\\xb8\\xea\\xb0\\x80 \\xeb\\xb6\\x99\\xec\\xa7\\x80 \\xec\\x95\\x8a\\xec\\x9d\\x80</b></span>, \\xed\\x95\\xb4\\xeb\\x8b\\xb9 \\xed\\x85\\x8d\\xec\\x8a\\xa4\\xed\\x8a\\xb8 \\xea\\xb8\\xb0\\xec\\xa4\\x80\\xec\\x9d\\x98 <span style=\"color: #8a3db6;\"><b>\\xec\\x9d\\xb4\\xec\\xa0\\x84 \\xed\\x85\\x8d\\xec\\x8a\\xa4\\xed\\x8a\\xb8 \\xed\\x8c\\xa8\\xed\\x84\\xb4\\xeb\\xa7\\x8c \\xec\\xa0\\x81\\xec\\x9a\\xa9\\xeb\\x90\\x9c \\xed\\x85\\x8d\\xec\\x8a\\xa4\\xed\\x8a\\xb8\\xeb\\xa5\\xbc \\xec\\xb6\\x94\\xec\\xb6\\x9c</b></span>\\xed\\x95\\x98\\xea\\xb2\\x8c \\xeb\\x90\\x9c\\xeb\\x8b\\xa4.</p>\\n<p data-ke-size=\"size16\"><b><span style=\"color: #409d00;\">ex)</span> \\'<span style=\"color: #409d00;\">\\\\d{4}(?!-)</span>\\'</b></p>\\n<ul style=\"list-style-type: circle;\" data-ke-list-type=\"circle\">\\n<li>010-1234-5678<br />\\xe2\\x98\\x9e 010-1234-<span style=\"background-color: #ffc9af;\">5678</span></li>\\n<li>02-1212-3434<br /><span>\\xe2\\x98\\x9e<span>&nbsp;</span></span>02-1212-<span style=\"background-color: #ffc9af;\">3434</span></li>\\n</ul>\\n<p data-ke-size=\"size16\">&nbsp;</p>\\n<p data-ke-size=\"size18\"><b>\\xe2\\x96\\xa0<span>&nbsp;</span>\\xeb\\xb6\\x80\\xec\\xa0\\x95\\xed\\x98\\x95 \\xed\\x9b\\x84\\xeb\\xb0\\xa9\\xed\\x83\\x90\\xec\\x83\\x89(Negative Lookbehind)</b></p>\\n<p data-ke-size=\"size16\">- <b>\\'<span style=\"color: #006dd7;\">?&lt;!</span>\\'</b> \\xec\\x82\\xac\\xec\\x9a\\xa9</p>\\n<p data-ke-size=\"size16\">- \\'?&lt;!\\' \\xeb\\x8b\\xa4\\xec\\x9d\\x8c\\xec\\x97\\x90 \\xec\\x98\\xa4\\xeb\\x8a\\x94 <span style=\"color: #ee2323;\"><b>\\xed\\x85\\x8d\\xec\\x8a\\xa4\\xed\\x8a\\xb8\\xea\\xb0\\x80 \\xeb\\xb6\\x99\\xec\\xa7\\x80 \\xec\\x95\\x8a\\xec\\x9d\\x80</b></span>, \\xed\\x95\\xb4\\xeb\\x8b\\xb9 \\xed\\x85\\x8d\\xec\\x8a\\xa4\\xed\\x8a\\xb8 \\xea\\xb8\\xb0\\xec\\xa4\\x80\\xec\\x9d\\x98 <span style=\"color: #8a3db6;\"><b>\\xec\\x9d\\xb4\\xed\\x9b\\x84 \\xed\\x85\\x8d\\xec\\x8a\\xa4\\xed\\x8a\\xb8 \\xed\\x8c\\xa8\\xed\\x84\\xb4\\xeb\\xa7\\x8c \\xec\\xa0\\x81\\xec\\x9a\\xa9\\xeb\\x90\\x9c \\xed\\x85\\x8d\\xec\\x8a\\xa4\\xed\\x8a\\xb8\\xeb\\xa5\\xbc \\xec\\xb6\\x94\\xec\\xb6\\x9c</b></span>\\xed\\x95\\x98\\xea\\xb2\\x8c \\xeb\\x90\\x9c\\xeb\\x8b\\xa4.</p>\\n<p data-ke-size=\"size16\"><b><span style=\"color: #409d00;\">ex)</span> \\'<span style=\"color: #409d00;\">\\\\b(?&lt;!\\\\$)\\\\d+\\\\b</span>\\'</b></p>\\n<ul style=\"list-style-type: circle;\" data-ke-list-type=\"circle\">\\n<li>I paid $30 for 100 apples, 50 oranges, and 60 pears.<br />\\xe2\\x98\\x9e I paid $30 for <span style=\"background-color: #ffc9af;\">100</span> apples, <span style=\"background-color: #ffc9af;\">50</span> oranges, and <span style=\"background-color: #ffc9af;\">60</span> pears.</li>\\n</ul>\\n<hr contenteditable=\"false\" data-ke-type=\"horizontalRule\" data-ke-style=\"style5\" />\\n<h3 data-ke-size=\"size23\"><span style=\"font-family: \\'Noto Serif KR\\';\"><b>\\xec\\xb0\\xb8\\xea\\xb3\\xa0</b></span></h3>\\n<p data-ke-size=\"size16\"><a href=\"https://soooprmx.com/%EC%A0%95%EA%B7%9C%ED%91%9C%ED%98%84%EC%8B%9D%EC%9D%98-%EA%B0%9C%EB%85%90%EA%B3%BC-%EA%B8%B0%EC%B4%88-%EB%AC%B8%EB%B2%95/\" target=\"_blank\" rel=\"noopener\">https://soooprmx.com/%EC%A0%95%EA%B7%9C%ED%91%9C%ED%98%84%EC%8B%9D%EC%9D%98-%EA%B0%9C%EB%85%90%EA%B3%BC-%EA%B8%B0%EC%B4%88-%EB%AC%B8%EB%B2%95/</a></p>\\n<figure id=\"og_1660710646892\" contenteditable=\"false\" data-ke-type=\"opengraph\" data-ke-align=\"alignCenter\" data-og-type=\"article\" data-og-title=\"\\xec\\xa0\\x95\\xea\\xb7\\x9c\\xed\\x91\\x9c\\xed\\x98\\x84\\xec\\x8b\\x9d\\xec\\x9d\\x98 \\xea\\xb0\\x9c\\xeb\\x85\\x90\\xea\\xb3\\xbc \\xed\\x8c\\xa8\\xed\\x84\\xb4 \\xec\\x82\\xac\\xec\\x9a\\xa9\\xeb\\xb2\\x95 \\xec\\xb4\\x9d\\xec\\xa0\\x95\\xeb\\xa6\\xac &middot; Wireframe\" data-og-description=\"\\xec\\xa0\\x95\\xea\\xb7\\x9c \\xed\\x91\\x9c\\xed\\x98\\x84\\xec\\x8b\\x9d\\xec\\x9d\\x80 \\xed\\x85\\x8d\\xec\\x8a\\xa4\\xed\\x8a\\xb8 \\xeb\\x82\\xb4\\xec\\x97\\x90\\xec\\x84\\x9c \\xed\\x8a\\xb9\\xec\\xa0\\x95\\xed\\x95\\x9c \\xea\\xb7\\x9c\\xec\\xb9\\x99\\xec\\x97\\x90 \\xeb\\x94\\xb0\\xeb\\xa5\\xb8 \\xeb\\xac\\xb8\\xec\\x9e\\x90\\xec\\x97\\xb4\\xec\\x9d\\xb4 \\xeb\\x82\\x98\\xed\\x83\\x80\\xeb\\x82\\x98\\xeb\\x8a\\x94 \\xeb\\xb2\\x94\\xec\\x9c\\x84\\xeb\\xa5\\xbc \\xea\\xb2\\x80\\xec\\x83\\x89\\xed\\x95\\x98\\xeb\\x8a\\x94 \\xea\\xb8\\xb0\\xeb\\xb2\\x95\\xec\\x9c\\xbc\\xeb\\xa1\\x9c \\xed\\x85\\x8d\\xec\\x8a\\xa4\\xed\\x8a\\xb8\\xeb\\xa5\\xbc \\xeb\\x8b\\xa4\\xeb\\xa3\\xb0 \\xeb\\x95\\x8c \\xeb\\x84\\x90\\xeb\\xa6\\xac \\xec\\x82\\xac\\xec\\x9a\\xa9\\xeb\\x90\\x98\\xeb\\xa9\\xb0, \\xed\\x8a\\xb9\\xed\\x9e\\x88 \\xed\\x85\\x8d\\xec\\x8a\\xa4\\xed\\x8a\\xb8 \\xed\\x8e\\xb8\\xec\\xa7\\x91\\xea\\xb8\\xb0\\xec\\x97\\x90\\xec\\x84\\x9c \\xec\\xb0\\xbe\\xea\\xb8\\xb0/\\xeb\\xb0\\x94\\xea\\xbe\\xb8\\xea\\xb8\\xb0\\xec\\x99\\x80 \\xea\\xb4\\x80\\xeb\\xa0\\xa8\\xed\\x95\\xb4\\xec\\x84\\x9c \\xec\\xa0\\x95\\xea\\xb7\\x9c\\xec\\x8b\\x9d\\xec\\x9d\\x84 \\xec\\x96\\xb4\" data-og-host=\"soooprmx.com\" data-og-source-url=\"https://soooprmx.com/%EC%A0%95%EA%B7%9C%ED%91%9C%ED%98%84%EC%8B%9D%EC%9D%98-%EA%B0%9C%EB%85%90%EA%B3%BC-%EA%B8%B0%EC%B4%88-%EB%AC%B8%EB%B2%95/\" data-og-url=\"https://soooprmx.com/\\xec\\xa0\\x95\\xea\\xb7\\x9c\\xed\\x91\\x9c\\xed\\x98\\x84\\xec\\x8b\\x9d\\xec\\x9d\\x98-\\xea\\xb0\\x9c\\xeb\\x85\\x90\\xea\\xb3\\xbc-\\xea\\xb8\\xb0\\xec\\xb4\\x88-\\xeb\\xac\\xb8\\xeb\\xb2\\x95/\" data-og-image=\"\"><a href=\"https://soooprmx.com/%EC%A0%95%EA%B7%9C%ED%91%9C%ED%98%84%EC%8B%9D%EC%9D%98-%EA%B0%9C%EB%85%90%EA%B3%BC-%EA%B8%B0%EC%B4%88-%EB%AC%B8%EB%B2%95/\" target=\"_blank\" rel=\"noopener\" data-source-url=\"https://soooprmx.com/%EC%A0%95%EA%B7%9C%ED%91%9C%ED%98%84%EC%8B%9D%EC%9D%98-%EA%B0%9C%EB%85%90%EA%B3%BC-%EA%B8%B0%EC%B4%88-%EB%AC%B8%EB%B2%95/\">\\n<div class=\"og-image\" style=\"background-image: url();\">&nbsp;</div>\\n<div class=\"og-text\">\\n<p class=\"og-title\" data-ke-size=\"size16\">\\xec\\xa0\\x95\\xea\\xb7\\x9c\\xed\\x91\\x9c\\xed\\x98\\x84\\xec\\x8b\\x9d\\xec\\x9d\\x98 \\xea\\xb0\\x9c\\xeb\\x85\\x90\\xea\\xb3\\xbc \\xed\\x8c\\xa8\\xed\\x84\\xb4 \\xec\\x82\\xac\\xec\\x9a\\xa9\\xeb\\xb2\\x95 \\xec\\xb4\\x9d\\xec\\xa0\\x95\\xeb\\xa6\\xac &middot; Wireframe</p>\\n<p class=\"og-desc\" data-ke-size=\"size16\">\\xec\\xa0\\x95\\xea\\xb7\\x9c \\xed\\x91\\x9c\\xed\\x98\\x84\\xec\\x8b\\x9d\\xec\\x9d\\x80 \\xed\\x85\\x8d\\xec\\x8a\\xa4\\xed\\x8a\\xb8 \\xeb\\x82\\xb4\\xec\\x97\\x90\\xec\\x84\\x9c \\xed\\x8a\\xb9\\xec\\xa0\\x95\\xed\\x95\\x9c \\xea\\xb7\\x9c\\xec\\xb9\\x99\\xec\\x97\\x90 \\xeb\\x94\\xb0\\xeb\\xa5\\xb8 \\xeb\\xac\\xb8\\xec\\x9e\\x90\\xec\\x97\\xb4\\xec\\x9d\\xb4 \\xeb\\x82\\x98\\xed\\x83\\x80\\xeb\\x82\\x98\\xeb\\x8a\\x94 \\xeb\\xb2\\x94\\xec\\x9c\\x84\\xeb\\xa5\\xbc \\xea\\xb2\\x80\\xec\\x83\\x89\\xed\\x95\\x98\\xeb\\x8a\\x94 \\xea\\xb8\\xb0\\xeb\\xb2\\x95\\xec\\x9c\\xbc\\xeb\\xa1\\x9c \\xed\\x85\\x8d\\xec\\x8a\\xa4\\xed\\x8a\\xb8\\xeb\\xa5\\xbc \\xeb\\x8b\\xa4\\xeb\\xa3\\xb0 \\xeb\\x95\\x8c \\xeb\\x84\\x90\\xeb\\xa6\\xac \\xec\\x82\\xac\\xec\\x9a\\xa9\\xeb\\x90\\x98\\xeb\\xa9\\xb0, \\xed\\x8a\\xb9\\xed\\x9e\\x88 \\xed\\x85\\x8d\\xec\\x8a\\xa4\\xed\\x8a\\xb8 \\xed\\x8e\\xb8\\xec\\xa7\\x91\\xea\\xb8\\xb0\\xec\\x97\\x90\\xec\\x84\\x9c \\xec\\xb0\\xbe\\xea\\xb8\\xb0/\\xeb\\xb0\\x94\\xea\\xbe\\xb8\\xea\\xb8\\xb0\\xec\\x99\\x80 \\xea\\xb4\\x80\\xeb\\xa0\\xa8\\xed\\x95\\xb4\\xec\\x84\\x9c \\xec\\xa0\\x95\\xea\\xb7\\x9c\\xec\\x8b\\x9d\\xec\\x9d\\x84 \\xec\\x96\\xb4</p>\\n<p class=\"og-host\" data-ke-size=\"size16\">soooprmx.com</p>\\n</div>\\n</a></figure>\\n<p data-ke-size=\"size16\"><a href=\"https://junstar92.tistory.com/373\" target=\"_blank\" rel=\"noopener\">https://junstar92.tistory.com/373</a></p>\\n<figure id=\"og_1661154269888\" contenteditable=\"false\" data-ke-type=\"opengraph\" data-ke-align=\"alignCenter\" data-og-type=\"article\" data-og-title=\"[REGEX] \\xec\\xa0\\x84\\xeb\\xb0\\xa9\\xed\\x83\\x90\\xec\\x83\\x89\\xea\\xb3\\xbc \\xed\\x9b\\x84\\xeb\\xb0\\xa9\\xed\\x83\\x90\\xec\\x83\\x89\" data-og-description=\"References Learning Regular Expressions Contents \\xec\\xa0\\x84\\xeb\\xb0\\xa9\\xed\\x83\\x90\\xec\\x83\\x89 (Looking Ahead) \\xed\\x9b\\x84\\xeb\\xb0\\xa9\\xed\\x83\\x90\\xec\\x83\\x89 (Looking Behind) \\xeb\\xb6\\x80\\xec\\xa0\\x95\\xed\\x98\\x95 \\xec\\xa0\\x84\\xed\\x9b\\x84\\xeb\\xb0\\xa9\\xed\\x83\\x90\\xec\\x83\\x89 (Nagative Lookaround) \\xec\\x9d\\xb4\\xec\\xa0\\x84 \\xed\\x8f\\xac\\xec\\x8a\\xa4\\xed\\x8c\\x85\\xeb\\x93\\xa4\\xec\\x97\\x90\\xec\\x84\\x9c \\xec\\x82\\xac\\xec\\x9a\\xa9\\xed\\x95\\x9c \\xed\\x91\\x9c\\xed\\x98\\x84\\xec\\x8b\\x9d\\xeb\\x93\\xa4\\xec\\x9d\\x80 \\xeb\\xaa\\xa8\\xeb\\x91\\x90 \\xec\\x9d\\xbc\\xec\\xb9\\x98\\xed\\x95\\x98\\xeb\\x8a\\x94 \\xed\\x85\\x8d\\xec\\x8a\\xa4\\xed\\x8a\\xb8\\xeb\\xa5\\xbc..\" data-og-host=\"junstar92.tistory.com\" data-og-source-url=\"https://junstar92.tistory.com/373\" data-og-url=\"https://junstar92.tistory.com/373\" data-og-image=\"https://scrap.kakaocdn.net/dn/i8s5b/hyPxd9kOf6/fyKdAMKpEgKgAjkc1m28kK/img.png?width=515&amp;height=83&amp;face=0_0_515_83,https://scrap.kakaocdn.net/dn/BqwTA/hyPxgEYE9p/Hde1ilYDYUxeghHYgucRK0/img.png?width=515&amp;height=83&amp;face=0_0_515_83\"><a href=\"https://junstar92.tistory.com/373\" target=\"_blank\" rel=\"noopener\" data-source-url=\"https://junstar92.tistory.com/373\">\\n<div class=\"og-image\" style=\"background-image: url(\\'https://scrap.kakaocdn.net/dn/i8s5b/hyPxd9kOf6/fyKdAMKpEgKgAjkc1m28kK/img.png?width=515&amp;height=83&amp;face=0_0_515_83,https://scrap.kakaocdn.net/dn/BqwTA/hyPxgEYE9p/Hde1ilYDYUxeghHYgucRK0/img.png?width=515&amp;height=83&amp;face=0_0_515_83\\');\">&nbsp;</div>\\n<div class=\"og-text\">\\n<p class=\"og-title\" data-ke-size=\"size16\">[REGEX] \\xec\\xa0\\x84\\xeb\\xb0\\xa9\\xed\\x83\\x90\\xec\\x83\\x89\\xea\\xb3\\xbc \\xed\\x9b\\x84\\xeb\\xb0\\xa9\\xed\\x83\\x90\\xec\\x83\\x89</p>\\n<p class=\"og-desc\" data-ke-size=\"size16\">References Learning Regular Expressions Contents \\xec\\xa0\\x84\\xeb\\xb0\\xa9\\xed\\x83\\x90\\xec\\x83\\x89 (Looking Ahead) \\xed\\x9b\\x84\\xeb\\xb0\\xa9\\xed\\x83\\x90\\xec\\x83\\x89 (Looking Behind) \\xeb\\xb6\\x80\\xec\\xa0\\x95\\xed\\x98\\x95 \\xec\\xa0\\x84\\xed\\x9b\\x84\\xeb\\xb0\\xa9\\xed\\x83\\x90\\xec\\x83\\x89 (Nagative Lookaround) \\xec\\x9d\\xb4\\xec\\xa0\\x84 \\xed\\x8f\\xac\\xec\\x8a\\xa4\\xed\\x8c\\x85\\xeb\\x93\\xa4\\xec\\x97\\x90\\xec\\x84\\x9c \\xec\\x82\\xac\\xec\\x9a\\xa9\\xed\\x95\\x9c \\xed\\x91\\x9c\\xed\\x98\\x84\\xec\\x8b\\x9d\\xeb\\x93\\xa4\\xec\\x9d\\x80 \\xeb\\xaa\\xa8\\xeb\\x91\\x90 \\xec\\x9d\\xbc\\xec\\xb9\\x98\\xed\\x95\\x98\\xeb\\x8a\\x94 \\xed\\x85\\x8d\\xec\\x8a\\xa4\\xed\\x8a\\xb8\\xeb\\xa5\\xbc..</p>\\n<p class=\"og-host\" data-ke-size=\"size16\">junstar92.tistory.com</p>\\n</div>\\n</a></figure>\\n<p data-ke-size=\"size16\">&nbsp;</p></div>\\n            <!-- System - START -->\\n\\n<!-- System - END -->\\n\\n                    <div class=\"container_postbtn #post_button_group\">\\n  <div class=\"postbtn_like\"><script>window.ReactionButtonType = \\'reaction\\';\\nwindow.ReactionApiUrl = \\'//co-no.tistory.com/reaction\\';\\nwindow.ReactionReqBody = {\\n    entryId: 111\\n}</script>\\n<div class=\"wrap_btn\" id=\"reaction-111\"></div>\\n<script src=\"https://tistory1.daumcdn.net/tistory_admin/userblog/tistory-9ab75860115d542cdd0537954f140d2cb94c6cd3/static/script/reaction-button-container.min.js\"></script><div class=\"wrap_btn wrap_btn_share\"><button type=\"button\" class=\"btn_post sns_btn btn_share\" aria-expanded=\"false\" data-thumbnail-url=\"https://t1.daumcdn.net/tistory_admin/static/images/openGraph/opengraph.png\" data-title=\"\\xec\\xa0\\x95\\xea\\xb7\\x9c\\xed\\x91\\x9c\\xed\\x98\\x84\\xec\\x8b\\x9d(Regex)\\xec\\x9d\\x98 \\xea\\xb0\\x9c\\xeb\\x85\\x90\\xea\\xb3\\xbc \\xea\\xb8\\xb0\\xec\\xb4\\x88 \\xeb\\xac\\xb8\\xeb\\xb2\\x95\" data-description=\"\\xec\\xa0\\x95\\xea\\xb7\\x9c\\xed\\x91\\x9c\\xed\\x98\\x84\\xec\\x8b\\x9d\\xec\\x9d\\xb4\\xeb\\x9e\\x80? : Regular Expression\\xec\\x9d\\x84 \\xec\\xa4\\x84\\xec\\x97\\xac\\xec\\x84\\x9c Regex, Regexp \\xeb\\x93\\xb1\\xec\\x9c\\xbc\\xeb\\xa1\\x9c \\xeb\\xb6\\x88\\xeb\\xa6\\xb0\\xeb\\x8b\\xa4. Computer Science\\xec\\x9d\\x98 \\xec\\xa0\\x95\\xea\\xb7\\x9c \\xec\\x96\\xb8\\xec\\x96\\xb4(Regular Language)\\xeb\\xa1\\x9c\\xeb\\xb6\\x80\\xed\\x84\\xb0 \\xec\\x9c\\xa0\\xeb\\x9e\\x98\\xed\\x95\\x9c \\xea\\xb2\\x83\\xec\\x9c\\xbc\\xeb\\xa1\\x9c, \\xed\\x8a\\xb9\\xec\\xa0\\x95\\xed\\x95\\x9c \\xea\\xb7\\x9c\\xec\\xb9\\x99\\xec\\x9d\\x84 \\xea\\xb0\\x80\\xec\\xa7\\x84 \\xeb\\xac\\xb8\\xec\\x9e\\x90\\xec\\x97\\xb4\\xec\\x9d\\x98 \\xec\\xa7\\x91\\xed\\x95\\xa9\\xec\\x9d\\x84 \\xed\\x91\\x9c\\xed\\x98\\x84\\xed\\x95\\x98\\xea\\xb8\\xb0 \\xec\\x9c\\x84\\xed\\x95\\xb4 \\xec\\x93\\xb0\\xec\\x9d\\xb4\\xeb\\x8a\\x94 *\\xed\\x98\\x95\\xec\\x8b\\x9d \\xec\\x96\\xb8\\xec\\x96\\xb4\\xec\\x9d\\xb4\\xeb\\x8b\\xa4. =&gt; \\xec\\x96\\xb4\\xeb\\x96\\xa4 \\xed\\x85\\x8d\\xec\\x8a\\xa4\\xed\\x8a\\xb8 \\xeb\\x82\\xb4\\xec\\x97\\x90\\xec\\x84\\x9c \\'\\xed\\x8a\\xb9\\xec\\xa0\\x95\\xed\\x95\\x9c \\xed\\x98\\x95\\xed\\x83\\x9c\\xeb\\x82\\x98 \\xea\\xb7\\x9c\\xec\\xb9\\x99\\xec\\x9d\\x84 \\xea\\xb0\\x80\\xec\\xa7\\x84 \\xeb\\xac\\xb8\\xec\\x9e\\x90\\xec\\x97\\xb4\\' \\xec\\x9d\\x84 \\xec\\xb0\\xbe\\xea\\xb8\\xb0 \\xec\\x9c\\x84\\xed\\x95\\xb4 \\xea\\xb7\\xb8 \\xed\\x98\\x95\\xed\\x83\\x9c\\xeb\\x82\\x98 \\xea\\xb7\\x9c\\xec\\xb9\\x99\\xec\\x9d\\x84 \\xeb\\x82\\x98\\xed\\x83\\x80\\xeb\\x82\\xb4\\xeb\\x8a\\x94 \\xed\\x8c\\xa8\\xed\\x84\\xb4\\xec\\x9d\\x84 \\xec\\xa0\\x95\\xec\\x9d\\x98\\xed\\x95\\x98\\xeb\\x8a\\x94 \\xec\\x8b\\x9d. *\\xed\\x98\\x95\\xec\\x8b\\x9d \\xec\\x96\\xb8\\xec\\x96\\xb4(Formal Language) : \\xec\\x88\\x98\\xed\\x95\\x99, \\xec\\xbb\\xb4\\xed\\x93\\xa8\\xed\\x84\\xb0 \\xea\\xb3\\xbc\\xed\\x95\\x99, \\xec\\x96\\xb8\\xec\\x96\\xb4\\xed\\x95\\x99\\xec\\x97\\x90\\xec\\x84\\x9c \\xec\\x93\\xb0\\xeb\\x8a\\x94 \\xeb\\xa7\\x90\\xeb\\xa1\\x9c, \\xed\\x8a\\xb9\\xec\\xa0\\x95\\xed\\x95\\x9c \\xeb\\xb2\\x95\\xec\\xb9\\x99\\xeb\\x93\\xa4\\xec\\x97\\x90 \\xeb\\x94\\xb0\\xeb\\x9d\\xbc \\xec\\xa0\\x81\\xec\\xa0\\x88\\xed\\x95\\x98\\xea\\xb2\\x8c \\xea\\xb5\\xac\\xec\\x84\\xb1\\xeb\\x90\\x9c \\xeb\\xac\\xb8\\xec\\x9e\\x90\\xec\\x97\\xb4\\xeb\\x93\\xa4\\xec\\x9d\\x98 \\xec\\xa7\\x91\\xed\\x95\\xa9\\xec\\x9d\\x84 \\xeb\\xa7\\x90\\xed\\x95\\x9c\\xeb\\x8b\\xa4. \\xec\\xa0\\x95\\xea\\xb7\\x9c \\xed\\x91\\x9c\\xed\\x98\\x84\\xec\\x8b\\x9d\\xec\\x9d\\x98 \\xec\\xa2\\x85\\xeb\\xa5\\x98 (\\xec\\x97\\xad\\xec\\x82\\xac\\xea\\xb9\\x8c\\xec\\xa7\\x80?) \\xec\\xa0\\x95\\xea\\xb7\\x9c\\xed\\x91\\x9c\\xed\\x98\\x84\\xec\\x8b\\x9d\\xec\\x9d\\x80 \\xeb\\x8b\\xa4\\xec\\x96\\x91\\xed\\x95\\x9c \\xeb\\xb6\\x84\\xec\\x95\\xbc\\xec\\x97\\x90\\xec\\x84\\x9c \\xec\\x93\\xb0\\xec\\x9d\\xb4\\xea\\xb8\\xb0 \\xec\\x8b\\x9c\\xec\\x9e\\x91\\xed\\x96\\x88\\xeb\\x8a\\x94\\xeb\\x8d\\xb0, \\xea\\xb0\\x81 \\xeb\\xb6\\x84\\xec\\x95\\xbc\\xec\\x9d\\x98 \\xec\\xa0\\x95\\xea\\xb7\\x9c\\xec\\x8b\\x9d\\xec\\x9d\\x80 \\xec\\x84\\x9c\\xeb\\xa1\\x9c \\xec\\x98\\x81\\xed\\x96\\xa5\\xec\\x9d\\x84 \\xec\\xa3\\xbc\\xea\\xb3\\xa0 \\xeb\\xb0\\x9b\\xec\\x9c\\xbc\\xeb\\xa9\\xb4\\xec\\x84\\x9c \\xeb\\xb0\\x9c\\xec\\xa0\\x84\\xed\\x96\\x88\\xea\\xb3\\xa0, \\xea\\xb7\\xb8\\xea\\xb2\\x8c \\xec\\xa7\\x80\\xea\\xb8\\x88\\xec\\x9d\\x98 \\xec\\xa0\\x95\\xea\\xb7\\x9c..\" data-profile-image=\"https://t1.daumcdn.net/tistory_admin/static/manage/images/r3/default_L.png\" data-profile-name=\"\\xec\\xbd\\x94_\\xeb\\x85\\xb8\" data-pc-url=\"https://co-no.tistory.com/entry/Linux-%EC%A0%95%EA%B7%9C%ED%91%9C%ED%98%84%EC%8B%9DRegex%EC%9D%98-%EA%B0%9C%EB%85%90%EA%B3%BC-%EA%B8%B0%EC%B4%88-%EB%AC%B8%EB%B2%95\" data-relative-pc-url=\"/entry/Linux-%EC%A0%95%EA%B7%9C%ED%91%9C%ED%98%84%EC%8B%9DRegex%EC%9D%98-%EA%B0%9C%EB%85%90%EA%B3%BC-%EA%B8%B0%EC%B4%88-%EB%AC%B8%EB%B2%95\" data-blog-title=\"\\xec\\xbd\\x94\\xeb\\x94\\xa9\\xed\\x95\\x98\\xeb\\x8a\\x94 \\xec\\xa3\\xbc\\xeb\\x85\\xb8 \\xec\\x9d\\xb4\\xec\\x95\\xbc\\xea\\xb8\\xb0\"><span class=\"ico_postbtn ico_share\">\\xea\\xb3\\xb5\\xec\\x9c\\xa0\\xed\\x95\\x98\\xea\\xb8\\xb0</span></button>\\n  <div class=\"layer_post\" id=\"tistorySnsLayer\"></div>\\n</div><div class=\"wrap_btn wrap_btn_etc\" data-entry-id=\"111\" data-entry-visibility=\"public\" data-category-visibility=\"public\"><button type=\"button\" class=\"btn_post btn_etc2\" aria-expanded=\"false\"><span class=\"ico_postbtn ico_etc\">\\xea\\xb2\\x8c\\xec\\x8b\\x9c\\xea\\xb8\\x80 \\xea\\xb4\\x80\\xeb\\xa6\\xac</span></button>\\n  <div class=\"layer_post\" id=\"tistoryEtcLayer\"></div>\\n</div></div>\\n<button type=\"button\" class=\"btn_menu_toolbar btn_subscription  #subscribe\" data-blog-id=\"5011151\" data-url=\"https://co-no.tistory.com/entry/Linux-%EC%A0%95%EA%B7%9C%ED%91%9C%ED%98%84%EC%8B%9DRegex%EC%9D%98-%EA%B0%9C%EB%85%90%EA%B3%BC-%EA%B8%B0%EC%B4%88-%EB%AC%B8%EB%B2%95\" data-device=\"web_pc\"><em class=\"txt_state\">\\xea\\xb5\\xac\\xeb\\x8f\\x85\\xed\\x95\\x98\\xea\\xb8\\xb0</em><strong class=\"txt_tool_id\">\\xec\\xbd\\x94\\xeb\\x94\\xa9\\xed\\x95\\x98\\xeb\\x8a\\x94 \\xec\\xa3\\xbc\\xeb\\x85\\xb8 \\xec\\x9d\\xb4\\xec\\x95\\xbc\\xea\\xb8\\xb0</strong><span class=\"img_common_tistory ico_check_type1\"></span></button>  <div data-tistory-react-app=\"SupportButton\"></div>\\n</div>\\n\\n                    <!-- PostListinCategory - START -->\\n<div class=\"another_category another_category_color_gray\">\\n  <h4>\\'<a href=\"/category/OS\">OS</a> &gt; <a href=\"/category/OS/Linux\">Linux</a>\\' \\xec\\xb9\\xb4\\xed\\x85\\x8c\\xea\\xb3\\xa0\\xeb\\xa6\\xac\\xec\\x9d\\x98 \\xeb\\x8b\\xa4\\xeb\\xa5\\xb8 \\xea\\xb8\\x80</h4>\\n  <table>\\n    <tr>\\n      <th><a href=\"/entry/LinuxCentOS-7-vi-vim-%ED%85%8C%EB%A7%88-%EC%84%A4%EC%A0%95\">[Linux][CentOS 7] vi, vim \\xed\\x85\\x8c\\xeb\\xa7\\x88(colorscheme) \\xec\\x84\\xa4\\xec\\xa0\\x95 - onehalf</a>&nbsp;&nbsp;<span>(0)</span></th>\\n      <td>2023.03.08</td>\\n    </tr>\\n    <tr>\\n      <th><a href=\"/entry/Linux-CentOS7-%EC%97%90%EC%84%9C-User-%EC%83%9D%EC%84%B1useradd%EA%B3%BC-User-%ED%99%88-%EB%94%94%EB%A0%89%ED%86%A0%EB%A6%AC-%EC%84%A4%EC%A0%95\">[Linux] CentOS 7 \\xec\\x97\\x90\\xec\\x84\\x9c User \\xec\\x83\\x9d\\xec\\x84\\xb1(useradd)\\xea\\xb3\\xbc User \\xed\\x99\\x88 \\xeb\\x94\\x94\\xeb\\xa0\\x89\\xed\\x86\\xa0\\xeb\\xa6\\xac \\xec\\x84\\xa4\\xec\\xa0\\x95</a>&nbsp;&nbsp;<span>(0)</span></th>\\n      <td>2023.02.28</td>\\n    </tr>\\n    <tr>\\n      <th><a href=\"/entry/Linux-%EC%89%98-%EC%8A%A4%ED%81%AC%EB%A6%BD%ED%8A%B8-%EC%9D%98-%EC%9A%A9%EB%8F%84\">[Linux][\\xec\\x89\\x98\\xec\\x8a\\xa4\\xed\\x81\\xac\\xeb\\xa6\\xbd\\xed\\x8a\\xb8] \\'$\\' \\xec\\x9d\\x98 \\xed\\x99\\x9c\\xec\\x9a\\xa9</a>&nbsp;&nbsp;<span>(1)</span></th>\\n      <td>2022.08.23</td>\\n    </tr>\\n    <tr>\\n      <th><a href=\"/entry/Linux-%EC%89%98-%EC%8A%A4%ED%81%AC%EB%A6%BD%ED%8A%B8-%ED%8C%8C%EC%9D%BC-%EC%A1%B4%EC%9E%AC-%EC%97%AC%EB%B6%80-%ED%99%95%EC%9D%B8%ED%95%98%EA%B8%B0\">[Linux] \\xec\\x89\\x98 \\xec\\x8a\\xa4\\xed\\x81\\xac\\xeb\\xa6\\xbd\\xed\\x8a\\xb8 - \\xed\\x8c\\x8c\\xec\\x9d\\xbc \\xec\\xa1\\xb4\\xec\\x9e\\xac \\xec\\x97\\xac\\xeb\\xb6\\x80 \\xed\\x99\\x95\\xec\\x9d\\xb8\\xed\\x95\\x98\\xea\\xb8\\xb0!</a>&nbsp;&nbsp;<span>(0)</span></th>\\n      <td>2022.08.17</td>\\n    </tr>\\n    <tr>\\n      <th><a href=\"/entry/Linux-%ED%94%84%EB%A1%9C%EC%84%B8%EC%8A%A4-%EB%AA%A8%EB%8B%88%ED%84%B0%EB%A7%81%EC%9D%84-%EC%9C%84%ED%95%9C-%EC%9C%A0%EC%9A%A9%ED%95%9C-ps-%EB%AA%85%EB%A0%B9-%EC%98%88%EC%A0%9C\">[Linux] ps \\xea\\xb2\\xb0\\xea\\xb3\\xbc \\xed\\x95\\xad\\xeb\\xaa\\xa9 \\xec\\x84\\xa4\\xeb\\xaa\\x85 \\xeb\\xb0\\x8f \\xec\\x9c\\xa0\\xec\\x9a\\xa9\\xed\\x95\\x9c ps \\xec\\x98\\x88\\xec\\xa0\\x9c</a>&nbsp;&nbsp;<span>(0)</span></th>\\n      <td>2022.03.25</td>\\n    </tr>\\n  </table>\\n</div>\\n\\n<!-- PostListinCategory - END -->\\n\\n\\n\\t\\t\\t\\t\\t<!-- SNS \\xea\\xb3\\xb5\\xec\\x9c\\xa0 \\xeb\\xb2\\x84\\xed\\x8a\\xbc -->\\n\\t\\t\\t\\t\\t<div class=\"sns-go\">\\n\\t\\t\\t\\t\\t\\t<ul>\\n\\t\\t\\t\\t\\t\\t\\t<li>\\n\\t\\t\\t\\t\\t\\t\\t\\t<a href=\"#\" onclick=\"javascript:window.open(\\'http://share.naver.com/web/shareView.nhn?url=\\' +encodeURIComponent(document.URL)+\\'&title=\\'+encodeURIComponent(document.title), \\'naversharedialog\\', \\'menubar=no,toolbar=no,resizable=yes,scrollbars=yes,height=300,width=600\\');return false;\" target=\"_blank\" alt=\"Share on Naver\"><img src=\"https://tistory1.daumcdn.net/tistory/5011151/skin/images/sns_naver.png\" width=\"35px\" height=\"35px\" alt=\"\\xeb\\x84\\xa4\\xec\\x9d\\xb4\\xeb\\xb2\\x84 \\xeb\\xb8\\x94\\xeb\\x9f\\xac\\xea\\xb7\\xb8 \\xea\\xb3\\xb5\\xec\\x9c\\xa0\\xed\\x95\\x98\\xea\\xb8\\xb0\"></a>\\n\\t\\t\\t\\t\\t\\t\\t</li>\\n\\t\\t\\t\\t\\t\\t\\t<li>\\n\\t\\t\\t\\t\\t\\t\\t\\t<a href=\"#\" onclick=\"javascript:window.open(\\'http://band.us/plugin/share?body=\\'+encodeURIComponent(document.title)+encodeURIComponent(\\'\\\\r\\\\n\\')+encodeURIComponent(document.URL)+\\'&route=\\'+encodeURIComponent(document.URL), \\'menubar=no,toolbar=no,resizable=yes,scrollbars=yes,height=600,width=600\\');return false;\" target=\"_blank\" alt=\"\\xeb\\x84\\xa4\\xec\\x9d\\xb4\\xeb\\xb2\\x84 \\xeb\\xb0\\xb4\\xeb\\x93\\x9c\\xec\\x97\\x90 \\xea\\xb3\\xb5\\xec\\x9c\\xa0\\xed\\x95\\x98\\xea\\xb8\\xb0\"><img src=\"https://tistory1.daumcdn.net/tistory/5011151/skin/images/naverband.png\" width=\"35px\" height=\"35px\" alt=\\'\\xeb\\x84\\xa4\\xec\\x9d\\xb4\\xeb\\xb2\\x84 \\xeb\\xb0\\xb4\\xeb\\x93\\x9c\\xec\\x97\\x90 \\xea\\xb3\\xb5\\xec\\x9c\\xa0\\xed\\x95\\x98\\xea\\xb8\\xb0\\'></a>\\n\\t\\t\\t\\t\\t\\t\\t</li>\\n\\t\\t\\t\\t\\t\\t\\t<li>\\n\\t\\t\\t\\t\\t\\t\\t\\t<a href=\"#\" onclick=\"javascript:window.open(\\'https://www.facebook.com/sharer/sharer.php?u=\\' +encodeURIComponent(document.URL)+\\'&t=\\'+encodeURIComponent(document.title), \\'facebooksharedialog\\', \\'menubar=no,toolbar=no,resizable=yes,scrollbars=yes,height=300,width=600\\');return false;\" target=\"_blank\" alt=\"Share on Facebook\"><img src=\"https://tistory1.daumcdn.net/tistory/5011151/skin/images/sns_face.png\" width=\"35px\" height=\"35px\"  alt=\"\\xed\\x8e\\x98\\xec\\x9d\\xb4\\xec\\x8a\\xa4\\xeb\\xb6\\x81 \\xea\\xb3\\xb5\\xec\\x9c\\xa0\\xed\\x95\\x98\\xea\\xb8\\xb0\"></a>\\n\\t\\t\\t\\t\\t\\t\\t</li>\\n\\t\\t\\t\\t\\t\\t\\t<li>\\n\\t\\t\\t\\t\\t\\t\\t\\t<a href=\"#\" onclick=\"javascript:window.open(\\'https://story.kakao.com/s/share?url=\\' +encodeURIComponent(document.URL), \\'kakaostorysharedialog\\', \\'menubar=no,toolbar=no,resizable=yes,scrollbars=yes, height=400,width=600\\');return false;\" target=\"_blank\" alt=\"Share on kakaostory\"><img src=\"https://tistory1.daumcdn.net/tistory/5011151/skin/images/sns_kakao.png\" width=\"35px\" height=\"35px\" alt=\"\\xec\\xb9\\xb4\\xec\\xb9\\xb4\\xec\\x98\\xa4\\xec\\x8a\\xa4\\xed\\x86\\xa0\\xeb\\xa6\\xac \\xea\\xb3\\xb5\\xec\\x9c\\xa0\\xed\\x95\\x98\\xea\\xb8\\xb0\"></a>\\n\\t\\t\\t\\t\\t\\t\\t</li>\\n\\t\\t\\t\\t\\t\\t</ul>\\n\\t\\t\\t\\t\\t</div>\\n\\n\\t\\t\\t\\t</div>\\n\\n\\t\\t\\t\\t\\n\\t\\t\\t\\t\\t<div class=\"entry-tag\">\\n\\t\\t\\t\\t\\t\\t<span class=\"txt\">\\xed\\x83\\x9c\\xea\\xb7\\xb8</span><a href=\"/tag/Regex%20Lookahead\" rel=\"tag\">Regex Lookahead</a>, <a href=\"/tag/Regex%20Lookbehind\" rel=\"tag\">Regex Lookbehind</a>, <a href=\"/tag/Regex%20%EA%B7%B8%EB%A3%B9\" rel=\"tag\">Regex \\xea\\xb7\\xb8\\xeb\\xa3\\xb9</a>, <a href=\"/tag/Regex%20%EB%A9%94%ED%83%80%EB%AC%B8%EC%9E%90\" rel=\"tag\">Regex \\xeb\\xa9\\x94\\xed\\x83\\x80\\xeb\\xac\\xb8\\xec\\x9e\\x90</a>, <a href=\"/tag/%EC%A0%95%EA%B7%9C%EC%8B%9D%20%EB%A9%94%ED%83%80%EB%AC%B8%EC%9E%90\" rel=\"tag\">\\xec\\xa0\\x95\\xea\\xb7\\x9c\\xec\\x8b\\x9d \\xeb\\xa9\\x94\\xed\\x83\\x80\\xeb\\xac\\xb8\\xec\\x9e\\x90</a>, <a href=\"/tag/%EC%A0%95%EA%B7%9C%EC%8B%9D%20%EB%B6%80%EC%A0%95%ED%98%95\" rel=\"tag\">\\xec\\xa0\\x95\\xea\\xb7\\x9c\\xec\\x8b\\x9d \\xeb\\xb6\\x80\\xec\\xa0\\x95\\xed\\x98\\x95</a>, <a href=\"/tag/%EC%A0%95%EA%B7%9C%EC%8B%9D%20%EC%88%98%EB%9F%89%ED%95%9C%EC%A0%95%EC%9E%90\" rel=\"tag\">\\xec\\xa0\\x95\\xea\\xb7\\x9c\\xec\\x8b\\x9d \\xec\\x88\\x98\\xeb\\x9f\\x89\\xed\\x95\\x9c\\xec\\xa0\\x95\\xec\\x9e\\x90</a>, <a href=\"/tag/%EC%A0%95%EA%B7%9C%EC%8B%9D%20%EC%A0%84%ED%9B%84%EB%B0%A9%ED%83%90%EC%83%89\" rel=\"tag\">\\xec\\xa0\\x95\\xea\\xb7\\x9c\\xec\\x8b\\x9d \\xec\\xa0\\x84\\xed\\x9b\\x84\\xeb\\xb0\\xa9\\xed\\x83\\x90\\xec\\x83\\x89</a>\\n\\t\\t\\t\\t\\t</div>\\n\\t\\t\\t\\t\\n\\n\\t\\t\\t\\t<!-- \\xec\\xb9\\xb4\\xed\\x85\\x8c\\xea\\xb3\\xa0\\xeb\\xa6\\xac\\xec\\x9d\\x98 \\xeb\\x8b\\xa4\\xeb\\xa5\\xb8 \\xea\\xb8\\x80 -->\\n\\t\\t\\t\\t\\n\\t\\t\\t\\t\\t<div class=\"area_related_wrap\">\\n\\t\\t\\t\\t\\t\\t<strong class=\"tit_related\">OS/Linux \\xea\\xb4\\x80\\xeb\\xa0\\xa8 \\xea\\xb8\\x80</strong>\\n\\t\\t\\t\\t\\t\\t<ul class=\"list_related\">\\n\\t\\t\\t\\t\\t\\t\\t\\n\\t\\t\\t\\t\\t\\t\\t\\t<li class=\"text_type list_item\">\\n\\t\\t\\t\\t\\t\\t\\t\\t\\t<a href=\"/entry/Linux-CentOS7-%EC%97%90%EC%84%9C-User-%EC%83%9D%EC%84%B1useradd%EA%B3%BC-User-%ED%99%88-%EB%94%94%EB%A0%89%ED%86%A0%EB%A6%AC-%EC%84%A4%EC%A0%95?category=1220632\" class=\"area_thumb\">\\n\\t\\t\\t\\t\\t\\t\\t\\t\\t\\t\\n\\t\\t\\t\\t\\t\\t\\t\\t\\t</a>\\n\\t\\t\\t\\t\\t\\t\\t\\t\\t<a href=\"/entry/Linux-CentOS7-%EC%97%90%EC%84%9C-User-%EC%83%9D%EC%84%B1useradd%EA%B3%BC-User-%ED%99%88-%EB%94%94%EB%A0%89%ED%86%A0%EB%A6%AC-%EC%84%A4%EC%A0%95?category=1220632\" class=\"area_info\">\\n\\t\\t\\t\\t\\t\\t\\t\\t\\t\\t<strong class=\"title\">[Linux] CentOS 7 \\xec\\x97\\x90\\xec\\x84\\x9c User \\xec\\x83\\x9d\\xec\\x84\\xb1(useradd)\\xea\\xb3\\xbc User \\xed\\x99\\x88 \\xeb\\x94\\x94\\xeb\\xa0\\x89\\xed\\x86\\xa0\\xeb\\xa6\\xac \\xec\\x84\\xa4\\xec\\xa0\\x95</strong>\\n\\t\\t\\t\\t\\t\\t\\t\\t\\t\\t<div class=\"list_date\"><span>2023.02.28</span></div>\\n\\t\\t\\t\\t\\t\\t\\t\\t\\t</a>\\n\\t\\t\\t\\t\\t\\t\\t\\t</li>\\n\\t\\t\\t\\t\\t\\t\\t\\n\\t\\t\\t\\t\\t\\t\\t\\t<li class=\"thumb_type list_item\">\\n\\t\\t\\t\\t\\t\\t\\t\\t\\t<a href=\"/entry/Linux-%EC%89%98-%EC%8A%A4%ED%81%AC%EB%A6%BD%ED%8A%B8-%EC%9D%98-%EC%9A%A9%EB%8F%84?category=1220632\" class=\"area_thumb\">\\n\\t\\t\\t\\t\\t\\t\\t\\t\\t\\t\\n\\t\\t\\t\\t\\t\\t\\t\\t\\t\\t\\t<span class=\"thumb_related\">\\n\\t\\t\\t\\t\\t\\t\\t\\t\\t\\t\\t\\t<img src=\"//i1.daumcdn.net/thumb/C70x70/?fname=https://img1.daumcdn.net/thumb/R750x0/?scode=mtistory2&fname=https%3A%2F%2Fblog.kakaocdn.net%2Fdn%2FbfGbLv%2FbtrKl3r71pp%2F0KZ0Vuv6JQYSwXuwqaT3qk%2Fimg.png\" class=\"img_related\" alt=\"thumbnail\">\\n\\t\\t\\t\\t\\t\\t\\t\\t\\t\\t\\t</span>\\n\\t\\t\\t\\t\\t\\t\\t\\t\\t\\t\\n\\t\\t\\t\\t\\t\\t\\t\\t\\t</a>\\n\\t\\t\\t\\t\\t\\t\\t\\t\\t<a href=\"/entry/Linux-%EC%89%98-%EC%8A%A4%ED%81%AC%EB%A6%BD%ED%8A%B8-%EC%9D%98-%EC%9A%A9%EB%8F%84?category=1220632\" class=\"area_info\">\\n\\t\\t\\t\\t\\t\\t\\t\\t\\t\\t<strong class=\"title\">[Linux][\\xec\\x89\\x98\\xec\\x8a\\xa4\\xed\\x81\\xac\\xeb\\xa6\\xbd\\xed\\x8a\\xb8] \\'$\\' \\xec\\x9d\\x98 \\xed\\x99\\x9c\\xec\\x9a\\xa9</strong>\\n\\t\\t\\t\\t\\t\\t\\t\\t\\t\\t<div class=\"list_date\"><span>2022.08.23</span></div>\\n\\t\\t\\t\\t\\t\\t\\t\\t\\t</a>\\n\\t\\t\\t\\t\\t\\t\\t\\t</li>\\n\\t\\t\\t\\t\\t\\t\\t\\n\\t\\t\\t\\t\\t\\t\\t\\t<li class=\"text_type list_item\">\\n\\t\\t\\t\\t\\t\\t\\t\\t\\t<a href=\"/entry/Linux-%EC%89%98-%EC%8A%A4%ED%81%AC%EB%A6%BD%ED%8A%B8-%ED%8C%8C%EC%9D%BC-%EC%A1%B4%EC%9E%AC-%EC%97%AC%EB%B6%80-%ED%99%95%EC%9D%B8%ED%95%98%EA%B8%B0?category=1220632\" class=\"area_thumb\">\\n\\t\\t\\t\\t\\t\\t\\t\\t\\t\\t\\n\\t\\t\\t\\t\\t\\t\\t\\t\\t</a>\\n\\t\\t\\t\\t\\t\\t\\t\\t\\t<a href=\"/entry/Linux-%EC%89%98-%EC%8A%A4%ED%81%AC%EB%A6%BD%ED%8A%B8-%ED%8C%8C%EC%9D%BC-%EC%A1%B4%EC%9E%AC-%EC%97%AC%EB%B6%80-%ED%99%95%EC%9D%B8%ED%95%98%EA%B8%B0?category=1220632\" class=\"area_info\">\\n\\t\\t\\t\\t\\t\\t\\t\\t\\t\\t<strong class=\"title\">[Linux] \\xec\\x89\\x98 \\xec\\x8a\\xa4\\xed\\x81\\xac\\xeb\\xa6\\xbd\\xed\\x8a\\xb8 - \\xed\\x8c\\x8c\\xec\\x9d\\xbc \\xec\\xa1\\xb4\\xec\\x9e\\xac \\xec\\x97\\xac\\xeb\\xb6\\x80 \\xed\\x99\\x95\\xec\\x9d\\xb8\\xed\\x95\\x98\\xea\\xb8\\xb0!</strong>\\n\\t\\t\\t\\t\\t\\t\\t\\t\\t\\t<div class=\"list_date\"><span>2022.08.17</span></div>\\n\\t\\t\\t\\t\\t\\t\\t\\t\\t</a>\\n\\t\\t\\t\\t\\t\\t\\t\\t</li>\\n\\t\\t\\t\\t\\t\\t\\t\\n\\t\\t\\t\\t\\t\\t\\t\\t<li class=\"thumb_type list_item\">\\n\\t\\t\\t\\t\\t\\t\\t\\t\\t<a href=\"/entry/Linux-%ED%94%84%EB%A1%9C%EC%84%B8%EC%8A%A4-%EB%AA%A8%EB%8B%88%ED%84%B0%EB%A7%81%EC%9D%84-%EC%9C%84%ED%95%9C-%EC%9C%A0%EC%9A%A9%ED%95%9C-ps-%EB%AA%85%EB%A0%B9-%EC%98%88%EC%A0%9C?category=1220632\" class=\"area_thumb\">\\n\\t\\t\\t\\t\\t\\t\\t\\t\\t\\t\\n\\t\\t\\t\\t\\t\\t\\t\\t\\t\\t\\t<span class=\"thumb_related\">\\n\\t\\t\\t\\t\\t\\t\\t\\t\\t\\t\\t\\t<img src=\"//i1.daumcdn.net/thumb/C70x70/?fname=https://img1.daumcdn.net/thumb/R750x0/?scode=mtistory2&fname=https%3A%2F%2Fblog.kakaocdn.net%2Fdn%2F4Usbd%2FbtrwVciDI1l%2Ff4yj8YGCmC1qaWN45Zp8u0%2Fimg.png\" class=\"img_related\" alt=\"thumbnail\">\\n\\t\\t\\t\\t\\t\\t\\t\\t\\t\\t\\t</span>\\n\\t\\t\\t\\t\\t\\t\\t\\t\\t\\t\\n\\t\\t\\t\\t\\t\\t\\t\\t\\t</a>\\n\\t\\t\\t\\t\\t\\t\\t\\t\\t<a href=\"/entry/Linux-%ED%94%84%EB%A1%9C%EC%84%B8%EC%8A%A4-%EB%AA%A8%EB%8B%88%ED%84%B0%EB%A7%81%EC%9D%84-%EC%9C%84%ED%95%9C-%EC%9C%A0%EC%9A%A9%ED%95%9C-ps-%EB%AA%85%EB%A0%B9-%EC%98%88%EC%A0%9C?category=1220632\" class=\"area_info\">\\n\\t\\t\\t\\t\\t\\t\\t\\t\\t\\t<strong class=\"title\">[Linux] ps \\xea\\xb2\\xb0\\xea\\xb3\\xbc \\xed\\x95\\xad\\xeb\\xaa\\xa9 \\xec\\x84\\xa4\\xeb\\xaa\\x85 \\xeb\\xb0\\x8f \\xec\\x9c\\xa0\\xec\\x9a\\xa9\\xed\\x95\\x9c ps \\xec\\x98\\x88\\xec\\xa0\\x9c</strong>\\n\\t\\t\\t\\t\\t\\t\\t\\t\\t\\t<div class=\"list_date\"><span>2022.03.25</span></div>\\n\\t\\t\\t\\t\\t\\t\\t\\t\\t</a>\\n\\t\\t\\t\\t\\t\\t\\t\\t</li>\\n\\t\\t\\t\\t\\t\\t\\t\\n\\t\\t\\t\\t\\t\\t</ul>\\n\\t\\t\\t\\t\\t\\t<div class=\"area_btn_more_wrap\">\\n\\t\\t\\t\\t\\t\\t\\t<a href=\"/category/OS/Linux\" class=\"link_more\">\\xea\\xb8\\x80 \\xeb\\x8d\\x94\\xeb\\xb3\\xb4\\xea\\xb8\\xb0</a>\\n\\t\\t\\t\\t\\t\\t</div>\\n\\t\\t\\t\\t\\t</div>\\n\\t\\t\\t\\t\\n\\n\\t\\t\\t\\t<div class=\"post-reply\">\\n\\t\\t\\t\\t\\t<div class=\"action-trail\">\\n\\t\\t\\t\\t\\t\\t<a href=\"#rp\" onclick=\"\" class=\"toggle-rp ie-nanum\">\\n\\t\\t\\t\\t\\t\\t\\t<i class=\"far fa-comment-alt\"></i>\\n\\t\\t\\t\\t\\t\\t\\t<span id=\"commentCount111_0\">\\n\\t\\t\\t\\t\\t\\t\\t\\t<span class=\"cnt ff-h ci-color\"> 0</span>\\n\\t\\t\\t\\t\\t\\t\\t</span>\\n\\t\\t\\t\\t\\t\\t</a>\\n\\t\\t\\t\\t\\t</div>\\n\\t\\t\\t\\t\\t<div data-tistory-react-app=\"Namecard\"></div><div id=\"entry111Comment\">\\n\\t\\t\\t\\t\\t\\t<div id=\"comment\">\\n\\t\\t\\t\\t\\t\\t\\t<h3 class=\"sr-only\">\\xeb\\x8c\\x93\\xea\\xb8\\x80\\xec\\x9d\\x84 \\xeb\\x8b\\xac\\xec\\x95\\x84 \\xec\\xa3\\xbc\\xec\\x84\\xb8\\xec\\x9a\\x94</h3>\\n\\n\\t\\t\\t\\t\\t\\t\\t<!-- comment-form { -->\\n\\t\\t\\t\\t\\t\\t\\t<div id=\"comment-form\" class=\"write-form\">\\n\\t\\t\\t\\t\\t\\t\\t\\t   <form method=\"post\" action=\"/comment/add/111\" onsubmit=\"return false\" style=\"margin: 0\">\\n       \\n<div class=\"checkbox\">\\n\\t<label for=\"secret\" class=\"secret-wrap\">\\xeb\\xb9\\x84\\xea\\xb3\\xb5\\xea\\xb0\\x9c\\n\\t\\t<input type=\"checkbox\" name=\"secret\" id=\"secret\">\\n\\t\\t<span class=\"checkmark\"></span>\\n\\t</label>\\n</div>\\n\\n\\n\\t\\n\\t\\t<div class=\"input-wrap\">\\n\\t\\t\\t<div class=\"input-box textbox-left focus-wrap\">\\n\\t\\t\\t\\t<i class=\"fas fa-user\"></i>\\n\\t\\t\\t\\t<input type=\"text\" placeholder=\"\\xec\\x9e\\x91\\xec\\x84\\xb1\\xec\\x9e\\x90\\xeb\\xaa\\x85\" id=\"input-name\" class=\"focus-target\" name=\"name\" value=\"\" required>\\n\\t\\t\\t</div>\\n\\t\\t\\t<div class=\"input-box textbox-right focus-wrap\">\\n\\t\\t\\t\\t<i class=\"fas fa-key\"></i>\\n\\t\\t\\t\\t<input type=\"password\" placeholder=\"\\xeb\\xb9\\x84\\xeb\\xb0\\x80\\xeb\\xb2\\x88\\xed\\x98\\xb8\" id=\"input-passwd\" class=\"focus-target\" maxlength=\"10\" name=\"password\" value=\"\" required>\\n\\t\\t\\t</div>\\n\\t\\t</div>\\n\\n\\t\\n\\n<div class=\"textboxs focus-wrap\">\\n\\t<label for=\"textarea-input\" class=\"textarea-input sr-only\">\\xeb\\x8c\\x93\\xea\\xb8\\x80\\xec\\x9d\\x84 \\xeb\\x82\\xa8\\xea\\xb2\\xa8\\xec\\xa3\\xbc\\xec\\x84\\xb8\\xec\\x9a\\x94</label>\\n\\t<textarea name=\"comment\" rows=\"5\" id=\"textarea-input\" class=\"focus-target\" placeholder=\"\\xec\\x86\\x8c\\xec\\xa4\\x91\\xed\\x95\\x9c \\xeb\\x8c\\x93\\xea\\xb8\\x80 \\xed\\x95\\x98\\xeb\\x82\\x98\\xea\\xb0\\x80 \\xeb\\xb8\\x94\\xeb\\xa1\\x9c\\xea\\xb1\\xb0\\xec\\x97\\x90\\xea\\xb2\\x8c \\xed\\x9e\\x98\\xec\\x9d\\xb4 \\xeb\\x90\\xa9\\xeb\\x8b\\x88\\xeb\\x8b\\xa4.\"></textarea>\\n</div>\\n<div class=\"comment_submit_form\">\\n\\t<span class=\"sr-only\">TistoryWhaleSkin3.4\"></span>\\n\\n\\t<div class=\"submit-wrap\">\\n\\t\\t<button type=\"submit\" onclick=\"addComment(this, 111); return false;\" class=\"ccz-btn default\">\\xeb\\x8c\\x93\\xea\\xb8\\x80 \\xeb\\x93\\xb1\\xeb\\xa1\\x9d</button>\\n\\t</div>\\n</div>\\n\\n   </form>\\n\\t\\t\\t\\t\\t\\t\\t</div>\\n\\t\\t\\t\\t\\t\\t\\t<!-- } comment-form -->\\n\\n\\t\\t\\t\\t\\t\\t\\t\\n\\t\\t\\t\\t\\t\\t\\t\\t<ol>\\n\\t\\t\\t\\t\\t\\t\\t\\t\\t            \\n\\n            \\n\\t\\t\\t\\t\\t\\t\\t\\t</ol>\\n\\t\\t\\t\\t\\t\\t\\t\\n\\n\\t\\t\\t\\t\\t\\t</div>\\n\\t\\t\\t\\t\\t</div>\\n<script type=\"text/javascript\">loadedComments[111]=true;\\nfindFragmentAndHighlight(111);</script>\\n\\n\\t\\t\\t\\t</div>\\n\\t\\t\\t\\t<!-- } post-reply -->\\n\\t\\t\\t\\n\\n\\t\\t</div>\\n\\t\\t<!-- /.content-width -->\\n\\t</section>\\n\\n              \\n          \\n\\n\\t\\t\\t\\t\\t\\t\\n\\t\\t\\t\\t\\t</div>\\n\\t\\t\\t\\t\\t<!-- } content -->\\n\\n\\t\\t\\t\\t\\t<div id=\"sidebar\">\\n\\t\\t\\t\\t\\t\\t\\n\\t\\t\\t\\t\\t\\t\\t\\t<!-- \\xea\\xb2\\x80\\xec\\x83\\x89 \\xec\\x98\\x81\\xec\\x97\\xad -->\\n\\t\\t\\t\\t\\t\\t\\t\\t\\n\\t\\t\\t\\t\\t\\t\\t\\t\\t<form id=\"search-form\" autocomplete=\"off\" role=\"form\">\\n\\t\\t\\t\\t\\t\\t\\t\\t\\t\\t<div class=\"search-bar\">\\n\\t\\t\\t\\t\\t\\t\\t\\t\\t\\t\\t<i class=\"icon fa fa-search\"></i>\\n\\t\\t\\t\\t\\t\\t\\t\\t\\t\\t\\t<input class=\"input-text\" type=\"text\"  name=\"search\" value=\"\" id=\"search-input\" class=\"ie-nanum\" onkeypress=\"if (event.keyCode == 13) { try {\\n    window.location.href = \\'/search\\' + \\'/\\' + looseURIEncode(document.getElementsByName(\\'search\\')[0].value);\\n    document.getElementsByName(\\'search\\')[0].value = \\'\\';\\n    return false;\\n} catch (e) {} }\"  placeholder=\"\\xea\\xb2\\x80\\xec\\x83\\x89\\xec\\x96\\xb4 \\xec\\x9e\\x85\\xeb\\xa0\\xa5 \\xed\\x9b\\x84 \\xec\\x97\\x94\\xed\\x84\\xb0\\xeb\\xa5\\xbc \\xeb\\x88\\x84\\xeb\\xa5\\xb4\\xec\\x84\\xb8\\xec\\x9a\\x94.\">\\n\\t\\t\\t\\t\\t\\t\\t\\t\\t\\t</div>\\n\\t\\t\\t\\t\\t\\t\\t\\t\\t</form>\\n\\t\\t\\t\\t\\t\\t\\t\\t\\n\\t\\t\\t\\t\\t\\t\\t\\n\\t\\t\\t\\t\\t\\t\\t\\t<!-- \\xea\\xb3\\xb5\\xec\\xa7\\x80\\xec\\x82\\xac\\xed\\x95\\xad -->\\n\\t\\t\\t\\t\\t\\t\\t\\t<div class=\"module module-notice\">\\n\\t\\t\\t\\t\\t\\t\\t\\t\\t<h3 class=\"module-title\"><i class=\"fas fa-exclamation-circle fa-sm\"></i><span>\\xea\\xb3\\xb5\\xec\\xa7\\x80\\xec\\x82\\xac\\xed\\x95\\xad</span></h3>\\n\\t\\t\\t\\t\\t\\t\\t\\t\\t<div class=\"module-content\">\\n\\t\\t\\t\\t\\t\\t\\t\\t\\t\\t\\n\\t\\t\\t\\t\\t\\t\\t\\t\\t\\t\\t<ul id=\"module-notice-ul\" class=\"ci-link\">\\n\\t\\t\\t\\t\\t\\t\\t\\t\\t\\t\\t\\t\\n\\t\\t\\t\\t\\t\\t\\t\\t\\t\\t\\t</ul>\\n\\t\\t\\t\\t\\t\\t\\t\\t\\t\\t\\n\\t\\t\\t\\t\\t\\t\\t\\t\\t</div>\\n\\t\\t\\t\\t\\t\\t\\t\\t</div>\\n\\t\\t\\t\\t\\t\\t\\t\\n\\t\\t\\t\\t\\t\\t\\t\\t<!-- \\xec\\xb9\\xb4\\xed\\x85\\x8c\\xea\\xb3\\xa0\\xeb\\xa6\\xac -->\\n\\t\\t\\t\\t\\t\\t\\t\\t<div class=\"module module-category\" id=\"sidebar-category\">\\n\\t\\t\\t\\t\\t\\t\\t\\t\\t<h3 class=\"module-title\"><i class=\"fas fa-align-left fa-sm\"></i><span>\\xec\\xa0\\x84\\xec\\xb2\\xb4 \\xec\\xb9\\xb4\\xed\\x85\\x8c\\xea\\xb3\\xa0\\xeb\\xa6\\xac</span></h3>\\n\\t\\t\\t\\t\\t\\t\\t\\t\\t<div class=\"module-content tt-cate ci-link\"><ul class=\"tt_category\"><li class=\"\"><a href=\"/category\" class=\"link_tit\"> \\xec\\xbd\\x94\\xeb\\x94\\xa9 \\xec\\x9d\\xb4\\xec\\x95\\xbc\\xea\\xb8\\xb0 <span class=\"c_cnt\">(115)</span> </a>\\n  <ul class=\"category_list\"><li class=\"\"><a href=\"/category/DB\" class=\"link_item\"> DB <span class=\"c_cnt\">(32)</span> </a>\\n  <ul class=\"sub_category_list\"><li class=\"\"><a href=\"/category/DB/SQL%20Server%20%28MSSQL%29\" class=\"link_sub_item\"> SQL Server (MSSQL) <span class=\"c_cnt\">(24)</span> </a></li>\\n<li class=\"\"><a href=\"/category/DB/MongoDB\" class=\"link_sub_item\"> MongoDB <span class=\"c_cnt\">(2)</span> </a></li>\\n<li class=\"\"><a href=\"/category/DB/Hadoop%20Ecosystem\" class=\"link_sub_item\"> Hadoop Ecosystem <span class=\"c_cnt\">(0)</span> </a></li>\\n<li class=\"\"><a href=\"/category/DB/SQLP%20%EA%B3%B5%EB%B6%80\" class=\"link_sub_item\"> SQLP \\xea\\xb3\\xb5\\xeb\\xb6\\x80 <span class=\"c_cnt\">(2)</span> </a></li>\\n</ul>\\n</li>\\n<li class=\"\"><a href=\"/category/%EB%8D%B0%EC%9D%B4%ED%84%B0%20%EC%97%94%EC%A7%80%EB%8B%88%EC%96%B4%EB%A7%81\" class=\"link_item\"> \\xeb\\x8d\\xb0\\xec\\x9d\\xb4\\xed\\x84\\xb0 \\xec\\x97\\x94\\xec\\xa7\\x80\\xeb\\x8b\\x88\\xec\\x96\\xb4\\xeb\\xa7\\x81 <span class=\"c_cnt\">(0)</span> </a>\\n  <ul class=\"sub_category_list\"><li class=\"\"><a href=\"/category/%EB%8D%B0%EC%9D%B4%ED%84%B0%20%EC%97%94%EC%A7%80%EB%8B%88%EC%96%B4%EB%A7%81/Spark\" class=\"link_sub_item\"> Spark <span class=\"c_cnt\">(0)</span> </a></li>\\n</ul>\\n</li>\\n<li class=\"\"><a href=\"/category/Middleware\" class=\"link_item\"> Middleware <span class=\"c_cnt\">(21)</span> </a>\\n  <ul class=\"sub_category_list\"><li class=\"\"><a href=\"/category/Middleware/%EC%9B%B9%EC%84%9C%EB%B2%84\" class=\"link_sub_item\"> \\xec\\x9b\\xb9\\xec\\x84\\x9c\\xeb\\xb2\\x84 <span class=\"c_cnt\">(7)</span> </a></li>\\n<li class=\"\"><a href=\"/category/Middleware/WAS\" class=\"link_sub_item\"> WAS <span class=\"c_cnt\">(6)</span> </a></li>\\n<li class=\"\"><a href=\"/category/Middleware/WSGI\" class=\"link_sub_item\"> WSGI <span class=\"c_cnt\">(3)</span> </a></li>\\n<li class=\"\"><a href=\"/category/Middleware/%EA%B8%B0%ED%83%80\" class=\"link_sub_item\"> \\xea\\xb8\\xb0\\xed\\x83\\x80 <span class=\"c_cnt\">(5)</span> </a></li>\\n</ul>\\n</li>\\n<li class=\"\"><a href=\"/category/OS\" class=\"link_item\"> OS <span class=\"c_cnt\">(9)</span> </a>\\n  <ul class=\"sub_category_list\"><li class=\"\"><a href=\"/category/OS/Linux\" class=\"link_sub_item\"> Linux <span class=\"c_cnt\">(6)</span> </a></li>\\n<li class=\"\"><a href=\"/category/OS/Windows\" class=\"link_sub_item\"> Windows <span class=\"c_cnt\">(3)</span> </a></li>\\n</ul>\\n</li>\\n<li class=\"\"><a href=\"/category/Network\" class=\"link_item\"> Network <span class=\"c_cnt\">(8)</span> </a></li>\\n<li class=\"\"><a href=\"/category/Cloud\" class=\"link_item\"> Cloud <span class=\"c_cnt\">(1)</span> </a>\\n  <ul class=\"sub_category_list\"><li class=\"\"><a href=\"/category/Cloud/AWS\" class=\"link_sub_item\"> AWS <span class=\"c_cnt\">(1)</span> </a></li>\\n</ul>\\n</li>\\n<li class=\"\"><a href=\"/category/DevOps\" class=\"link_item\"> DevOps <span class=\"c_cnt\">(6)</span> </a>\\n  <ul class=\"sub_category_list\"><li class=\"\"><a href=\"/category/DevOps/Github\" class=\"link_sub_item\"> Github <span class=\"c_cnt\">(2)</span> </a></li>\\n<li class=\"\"><a href=\"/category/DevOps/Ansible\" class=\"link_sub_item\"> Ansible <span class=\"c_cnt\">(1)</span> </a></li>\\n<li class=\"\"><a href=\"/category/DevOps/Terraform\" class=\"link_sub_item\"> Terraform <span class=\"c_cnt\">(3)</span> </a></li>\\n</ul>\\n</li>\\n<li class=\"\"><a href=\"/category/Security\" class=\"link_item\"> Security <span class=\"c_cnt\">(3)</span> </a></li>\\n<li class=\"\"><a href=\"/category/Observability\" class=\"link_item\"> Observability <span class=\"c_cnt\">(5)</span> </a></li>\\n<li class=\"\"><a href=\"/category/CS%20%EC%A7%80%EC%8B%9D%20%7C%20%EA%B8%B0%EC%B4%88%20%EC%9A%A9%EC%96%B4%2C%EA%B0%9C%EB%85%90\" class=\"link_item\"> CS \\xec\\xa7\\x80\\xec\\x8b\\x9d | \\xea\\xb8\\xb0\\xec\\xb4\\x88 \\xec\\x9a\\xa9\\xec\\x96\\xb4,\\xea\\xb0\\x9c\\xeb\\x85\\x90 <span class=\"c_cnt\">(7)</span> </a></li>\\n<li class=\"\"><a href=\"/category/Python\" class=\"link_item\"> Python <span class=\"c_cnt\">(1)</span> </a>\\n  <ul class=\"sub_category_list\"><li class=\"\"><a href=\"/category/Python/Flask\" class=\"link_sub_item\"> Flask <span class=\"c_cnt\">(0)</span> </a></li>\\n</ul>\\n</li>\\n<li class=\"\"><a href=\"/category/Java\" class=\"link_item\"> Java <span class=\"c_cnt\">(7)</span> </a>\\n  <ul class=\"sub_category_list\"><li class=\"\"><a href=\"/category/Java/JPA\" class=\"link_sub_item\"> JPA <span class=\"c_cnt\">(0)</span> </a></li>\\n</ul>\\n</li>\\n<li class=\"\"><a href=\"/category/%EC%95%88%EB%93%9C%EB%A1%9C%EC%9D%B4%EB%93%9C\" class=\"link_item\"> \\xec\\x95\\x88\\xeb\\x93\\x9c\\xeb\\xa1\\x9c\\xec\\x9d\\xb4\\xeb\\x93\\x9c <span class=\"c_cnt\">(1)</span> </a></li>\\n<li class=\"\"><a href=\"/category/%EC%95%8C%EA%B3%A0%EB%A6%AC%EC%A6%98%20%EA%B3%B5%EB%B6%80\" class=\"link_item\"> \\xec\\x95\\x8c\\xea\\xb3\\xa0\\xeb\\xa6\\xac\\xec\\xa6\\x98 \\xea\\xb3\\xb5\\xeb\\xb6\\x80 <span class=\"c_cnt\">(14)</span> </a></li>\\n</ul>\\n</li>\\n</ul>\\n</div>\\n\\t\\t\\t\\t\\t\\t\\t\\t</div>\\n\\t\\t\\t\\t\\t\\t\\t\\n\\t\\t\\t\\t\\t\\t\\t\\t<!-- \\xea\\xb5\\xac\\xea\\xb8\\x80 \\xea\\xb4\\x91\\xea\\xb3\\xa0 -->\\n\\n\\t\\t\\t\\t\\t\\t\\t\\t<div class=\"side_ads\">\\n\\t\\t\\t\\t\\t\\t\\t\\t\\t\\xec\\x95\\xa0\\xeb\\x93\\x9c\\xec\\x84\\xbc\\xec\\x8a\\xa4 \\xea\\xb4\\x91\\xea\\xb3\\xa0 \\xec\\x98\\x81\\xec\\x97\\xad\\n\\t\\t\\t\\t\\t\\t\\t\\t</div>\\n\\n\\t\\t\\t\\t\\t\\t\\t\\n\\t\\t\\t\\t\\t\\t\\t\\t<!-- \\xec\\xb5\\x9c\\xec\\x8b\\xa0 \\xea\\xb8\\x80, \\xeb\\x8c\\x93\\xea\\xb8\\x80 \\xed\\x83\\xad\\xed\\x98\\x95 -->\\n\\t\\t\\t\\t\\t\\t\\t\\t<div class=\"module module-recents\">\\n\\t\\t\\t\\t\\t\\t\\t\\t\\t<div class=\"module-content\">\\n\\t\\t\\t\\t\\t\\t\\t\\t\\t\\t<ul id=\"recent-tab\" class=\"nav-recent\" role=\"tablist\">\\n\\t\\t\\t\\t\\t\\t\\t\\t\\t\\t\\t<li class=\"active\" id=\"#tab-rpost\"><a class=\"btn-rpost\" href=\"javascript:void(0);\" data-toggle=\"tab\" role=\"tab\">\\xec\\xb5\\x9c\\xea\\xb7\\xbc \\xea\\xb8\\x80</a></li>\\n\\t\\t\\t\\t\\t\\t\\t\\t\\t\\t\\t<li id=\"#tab-rcomment\"><a class=\"btn-rcomment\" href=\"javascript:void(0);\" data-toggle=\"tab\" role=\"tab\">\\xec\\xb5\\x9c\\xea\\xb7\\xbc \\xeb\\x8c\\x93\\xea\\xb8\\x80</a></li>\\n\\t\\t\\t\\t\\t\\t\\t\\t\\t\\t</ul>\\n\\n\\t\\t\\t\\t\\t\\t\\t\\t\\t\\t<div class=\"tab-content\">\\n\\t\\t\\t\\t\\t\\t\\t\\t\\t\\t\\t<!-- #tab-rpost -->\\n\\t\\t\\t\\t\\t\\t\\t\\t\\t\\t\\t<div id=\"tab-rpost\" class=\"tab-pane active fade in\">\\n\\t\\t\\t\\t\\t\\t\\t\\t\\t\\t\\t\\t<!-- \\xec\\xb5\\x9c\\xea\\xb7\\xbc \\xea\\xb8\\x80 -->\\n\\t\\t\\t\\t\\t\\t\\t\\t\\t\\t\\t\\t<section class=\"rpost ci-link\">\\n\\t\\t\\t\\t\\t\\t\\t\\t\\t\\t\\t\\t\\t<h4 class=\"sr-only\">\\xec\\xb5\\x9c\\xea\\xb7\\xbc \\xea\\xb8\\x80</h4>\\n\\t\\t\\t\\t\\t\\t\\t\\t\\t\\t\\t\\t\\t<ul class=\"list-unstyled\">\\n\\t\\t\\t\\t\\t\\t\\t\\t\\t\\t\\t\\t\\t\\t\\n\\t\\t\\t\\t\\t\\t\\t\\t\\t\\t\\t\\t\\t\\t\\t<li>\\n\\t\\t\\t\\t\\t\\t\\t\\t\\t\\t\\t\\t\\t\\t\\t\\t<a href=\"/entry/httpd-httpsIP-%EB%A1%9C-URL%EC%9D%84-%EC%9E%85%EB%A0%A5%EB%B0%9B%EC%95%98%EC%9D%84-%EB%95%8C-httpsdomain-name%EC%9C%BC%EB%A1%9C-%EB%A6%AC%EB%8B%A4%EC%9D%B4%EB%A0%89%EC%85%98-%EC%8B%9C%ED%82%A4%EB%8A%94-%EB%B0%A9%EB%B2%95\" class=\"cut\">\\n\\t\\t\\t\\t\\t\\t\\t\\t\\t\\t\\t\\t\\t\\t\\t\\t\\t<span class=\"rpost-title\">[httpd] https://{IP} \\xeb\\xa1\\x9c URL\\xec\\x9d\\x84 \\xec\\x9e\\x85\\xeb\\xa0\\xa5\\xeb\\xb0\\x9b\\xec\\x95\\x98\\xec\\x9d\\x84 \\xeb\\x95\\x8c, htt\\xe2\\x8b\\xaf <span class=\"c_cnt\"><span id=\"commentCountOnRecentEntries184\"></span></span></span>\\n\\t\\t\\t\\t\\t\\t\\t\\t\\t\\t\\t\\t\\t\\t\\t\\t</a>\\n\\t\\t\\t\\t\\t\\t\\t\\t\\t\\t\\t\\t\\t\\t\\t</li>\\n\\t\\t\\t\\t\\t\\t\\t\\t\\t\\t\\t\\t\\t\\t\\n\\t\\t\\t\\t\\t\\t\\t\\t\\t\\t\\t\\t\\t\\t\\t<li>\\n\\t\\t\\t\\t\\t\\t\\t\\t\\t\\t\\t\\t\\t\\t\\t\\t<a href=\"/entry/MSSQL-SQL-Server-%EC%A0%90%EA%B2%80-%EC%8B%9C-%EC%9C%A0%EC%9A%A9%ED%95%9C-%EC%BF%BC%EB%A6%AC-%EB%AA%A8%EC%9D%8C\" class=\"cut\">\\n\\t\\t\\t\\t\\t\\t\\t\\t\\t\\t\\t\\t\\t\\t\\t\\t\\t<span class=\"rpost-title\">[MSSQL] SQL Server \\xec\\xa0\\x90\\xea\\xb2\\x80 \\xec\\x8b\\x9c \\xec\\x9c\\xa0\\xec\\x9a\\xa9\\xed\\x95\\x9c \\xec\\xbf\\xbc\\xeb\\xa6\\xac \\xeb\\xaa\\xa8\\xec\\x9d\\x8c <span class=\"c_cnt\"><span id=\"commentCountOnRecentEntries173\">1</span></span></span>\\n\\t\\t\\t\\t\\t\\t\\t\\t\\t\\t\\t\\t\\t\\t\\t\\t</a>\\n\\t\\t\\t\\t\\t\\t\\t\\t\\t\\t\\t\\t\\t\\t\\t</li>\\n\\t\\t\\t\\t\\t\\t\\t\\t\\t\\t\\t\\t\\t\\t\\n\\t\\t\\t\\t\\t\\t\\t\\t\\t\\t\\t\\t\\t\\t\\t<li>\\n\\t\\t\\t\\t\\t\\t\\t\\t\\t\\t\\t\\t\\t\\t\\t\\t<a href=\"/entry/httpd-RedHat-JBCS-httpd-%EC%97%90%EC%84%9C-Apache-httpd%EB%A1%9C-%EC%9D%B4%EC%A0%84%ED%95%98%EA%B8%B0-1\" class=\"cut\">\\n\\t\\t\\t\\t\\t\\t\\t\\t\\t\\t\\t\\t\\t\\t\\t\\t\\t<span class=\"rpost-title\">[httpd] RedHat JBCS httpd \\xec\\x97\\x90\\xec\\x84\\x9c Apache http\\xe2\\x8b\\xaf <span class=\"c_cnt\"><span id=\"commentCountOnRecentEntries182\"></span></span></span>\\n\\t\\t\\t\\t\\t\\t\\t\\t\\t\\t\\t\\t\\t\\t\\t\\t</a>\\n\\t\\t\\t\\t\\t\\t\\t\\t\\t\\t\\t\\t\\t\\t\\t</li>\\n\\t\\t\\t\\t\\t\\t\\t\\t\\t\\t\\t\\t\\t\\t\\n\\t\\t\\t\\t\\t\\t\\t\\t\\t\\t\\t\\t\\t\\t\\t<li>\\n\\t\\t\\t\\t\\t\\t\\t\\t\\t\\t\\t\\t\\t\\t\\t\\t<a href=\"/entry/Java-Java%EC%9D%98-%EB%A9%94%EB%AA%A8%EB%A6%AC-%EC%98%81%EC%97%ADRuntime-Data-Area%EA%B3%BC-OOM-%EC%A2%85%EB%A5%98\" class=\"cut\">\\n\\t\\t\\t\\t\\t\\t\\t\\t\\t\\t\\t\\t\\t\\t\\t\\t\\t<span class=\"rpost-title\">[Java] Java\\xec\\x9d\\x98 \\xeb\\xa9\\x94\\xeb\\xaa\\xa8\\xeb\\xa6\\xac \\xec\\x98\\x81\\xec\\x97\\xad(Runtime Data Area)\\xea\\xb3\\xbc \\xe2\\x8b\\xaf <span class=\"c_cnt\"><span id=\"commentCountOnRecentEntries171\"></span></span></span>\\n\\t\\t\\t\\t\\t\\t\\t\\t\\t\\t\\t\\t\\t\\t\\t\\t</a>\\n\\t\\t\\t\\t\\t\\t\\t\\t\\t\\t\\t\\t\\t\\t\\t</li>\\n\\t\\t\\t\\t\\t\\t\\t\\t\\t\\t\\t\\t\\t\\t\\n\\t\\t\\t\\t\\t\\t\\t\\t\\t\\t\\t\\t\\t\\t\\t<li>\\n\\t\\t\\t\\t\\t\\t\\t\\t\\t\\t\\t\\t\\t\\t\\t\\t<a href=\"/entry/%EA%B0%9C%EB%85%90-%ED%94%84%EB%A1%AC%ED%94%84%ED%8A%B8-%EC%97%94%EC%A7%80%EB%8B%88%EC%96%B4%EB%A7%81%EC%9D%98-%EA%B0%9C%EB%85%90%EA%B3%BC-LLM-%ED%99%9C%EC%9A%A9-%EC%8B%9C-%EA%BF%80%ED%8C%81\" class=\"cut\">\\n\\t\\t\\t\\t\\t\\t\\t\\t\\t\\t\\t\\t\\t\\t\\t\\t\\t<span class=\"rpost-title\">[\\xea\\xb0\\x9c\\xeb\\x85\\x90] \\xed\\x94\\x84\\xeb\\xa1\\xac\\xed\\x94\\x84\\xed\\x8a\\xb8 \\xec\\x97\\x94\\xec\\xa7\\x80\\xeb\\x8b\\x88\\xec\\x96\\xb4\\xeb\\xa7\\x81\\xec\\x9d\\x98 \\xea\\xb0\\x9c\\xeb\\x85\\x90\\xea\\xb3\\xbc LLM \\xed\\x99\\x9c\\xec\\x9a\\xa9 \\xec\\x8b\\x9c \\xea\\xbf\\x80\\xed\\x8c\\x81 <span class=\"c_cnt\"><span id=\"commentCountOnRecentEntries164\">2</span></span></span>\\n\\t\\t\\t\\t\\t\\t\\t\\t\\t\\t\\t\\t\\t\\t\\t\\t</a>\\n\\t\\t\\t\\t\\t\\t\\t\\t\\t\\t\\t\\t\\t\\t\\t</li>\\n\\t\\t\\t\\t\\t\\t\\t\\t\\t\\t\\t\\t\\t\\t\\n\\t\\t\\t\\t\\t\\t\\t\\t\\t\\t\\t\\t\\t\\t\\t<li>\\n\\t\\t\\t\\t\\t\\t\\t\\t\\t\\t\\t\\t\\t\\t\\t\\t<a href=\"/entry/Terraform-AWS-3-tier-Achitecture%EB%A5%BC-%EA%B5%AC%EC%84%B1%ED%95%98%EA%B8%B0-%EC%9C%84%ED%95%9C-Terraform-%ED%94%84%EB%A1%9C%EC%A0%9D%ED%8A%B8-%EA%B5%AC%EC%A1%B0-%EC%9E%A1%EA%B8%B0\" class=\"cut\">\\n\\t\\t\\t\\t\\t\\t\\t\\t\\t\\t\\t\\t\\t\\t\\t\\t\\t<span class=\"rpost-title\">[Terraform] AWS 3-tier Achitecture\\xeb\\xa5\\xbc \\xea\\xb5\\xac\\xec\\x84\\xb1\\xed\\x95\\x98\\xea\\xb8\\xb0\\xe2\\x8b\\xaf <span class=\"c_cnt\"><span id=\"commentCountOnRecentEntries165\">1</span></span></span>\\n\\t\\t\\t\\t\\t\\t\\t\\t\\t\\t\\t\\t\\t\\t\\t\\t</a>\\n\\t\\t\\t\\t\\t\\t\\t\\t\\t\\t\\t\\t\\t\\t\\t</li>\\n\\t\\t\\t\\t\\t\\t\\t\\t\\t\\t\\t\\t\\t\\t\\n\\t\\t\\t\\t\\t\\t\\t\\t\\t\\t\\t\\t\\t\\t\\t<li>\\n\\t\\t\\t\\t\\t\\t\\t\\t\\t\\t\\t\\t\\t\\t\\t\\t<a href=\"/entry/RDBMS\" class=\"cut\">\\n\\t\\t\\t\\t\\t\\t\\t\\t\\t\\t\\t\\t\\t\\t\\t\\t\\t<span class=\"rpost-title\">[RDBMS] DB\\xec\\x9d\\x98 \\xec\\xa0\\x95\\xea\\xb7\\x9c\\xed\\x99\\x94 \\xeb\\x8b\\xa8\\xea\\xb3\\x84(1NF, 2NF, 3NF, BCNF, \\xe2\\x8b\\xaf <span class=\"c_cnt\"><span id=\"commentCountOnRecentEntries162\">1</span></span></span>\\n\\t\\t\\t\\t\\t\\t\\t\\t\\t\\t\\t\\t\\t\\t\\t\\t</a>\\n\\t\\t\\t\\t\\t\\t\\t\\t\\t\\t\\t\\t\\t\\t\\t</li>\\n\\t\\t\\t\\t\\t\\t\\t\\t\\t\\t\\t\\t\\t\\t\\n\\t\\t\\t\\t\\t\\t\\t\\t\\t\\t\\t\\t\\t\\t\\t<li>\\n\\t\\t\\t\\t\\t\\t\\t\\t\\t\\t\\t\\t\\t\\t\\t\\t<a href=\"/entry/%EA%B0%9C%EB%85%90-%EC%A0%95%EA%B7%9C%ED%99%94%EC%99%80-%EB%B9%84%EC%A0%95%EA%B7%9C%ED%99%94%EC%9D%98-%EA%B0%9C%EB%85%90-%ED%95%84%EC%9A%94%EC%84%B1-%EC%98%88%EC%8B%9C\" class=\"cut\">\\n\\t\\t\\t\\t\\t\\t\\t\\t\\t\\t\\t\\t\\t\\t\\t\\t\\t<span class=\"rpost-title\">[RDBMS] RDB \\xec\\xa0\\x95\\xea\\xb7\\x9c\\xed\\x99\\x94\\xec\\x99\\x80 \\xec\\x9d\\xb4\\xec\\x83\\x81(Anomaly)\\xed\\x98\\x84\\xec\\x83\\x81\\xec\\x9d\\x98 \\xea\\xb0\\x9c\\xeb\\x85\\x90 \\xeb\\xb0\\x8f \\xec\\x98\\x88\\xec\\x8b\\x9c <span class=\"c_cnt\"><span id=\"commentCountOnRecentEntries161\"></span></span></span>\\n\\t\\t\\t\\t\\t\\t\\t\\t\\t\\t\\t\\t\\t\\t\\t\\t</a>\\n\\t\\t\\t\\t\\t\\t\\t\\t\\t\\t\\t\\t\\t\\t\\t</li>\\n\\t\\t\\t\\t\\t\\t\\t\\t\\t\\t\\t\\t\\t\\t\\n\\t\\t\\t\\t\\t\\t\\t\\t\\t\\t\\t\\t\\t\\t\\t<li>\\n\\t\\t\\t\\t\\t\\t\\t\\t\\t\\t\\t\\t\\t\\t\\t\\t<a href=\"/entry/Terraform-%ED%85%8C%EB%9D%BC%ED%8F%BC%EC%9D%84-%ED%86%B5%ED%95%9C-AWS-%EA%B5%AC%EC%84%B1-VPC-%EC%83%9D%EC%84%B1\" class=\"cut\">\\n\\t\\t\\t\\t\\t\\t\\t\\t\\t\\t\\t\\t\\t\\t\\t\\t\\t<span class=\"rpost-title\">[Terraform] \\xed\\x85\\x8c\\xeb\\x9d\\xbc\\xed\\x8f\\xbc\\xec\\x9d\\x84 \\xed\\x86\\xb5\\xed\\x95\\x9c AWS 3-tier \\xea\\xb5\\xac\\xec\\x84\\xb1 (1) - \\xe2\\x8b\\xaf <span class=\"c_cnt\"><span id=\"commentCountOnRecentEntries160\">1</span></span></span>\\n\\t\\t\\t\\t\\t\\t\\t\\t\\t\\t\\t\\t\\t\\t\\t\\t</a>\\n\\t\\t\\t\\t\\t\\t\\t\\t\\t\\t\\t\\t\\t\\t\\t</li>\\n\\t\\t\\t\\t\\t\\t\\t\\t\\t\\t\\t\\t\\t\\t\\n\\t\\t\\t\\t\\t\\t\\t\\t\\t\\t\\t\\t\\t\\t\\t<li>\\n\\t\\t\\t\\t\\t\\t\\t\\t\\t\\t\\t\\t\\t\\t\\t\\t<a href=\"/entry/Terraform-Terraform-%EA%B0%9C%EB%85%90-Architecture-%EC%84%A4%EC%B9%98\" class=\"cut\">\\n\\t\\t\\t\\t\\t\\t\\t\\t\\t\\t\\t\\t\\t\\t\\t\\t\\t<span class=\"rpost-title\">[Terraform] Terraform \\xea\\xb0\\x9c\\xeb\\x85\\x90, Architecture, \\xe2\\x8b\\xaf <span class=\"c_cnt\"><span id=\"commentCountOnRecentEntries159\">1</span></span></span>\\n\\t\\t\\t\\t\\t\\t\\t\\t\\t\\t\\t\\t\\t\\t\\t\\t</a>\\n\\t\\t\\t\\t\\t\\t\\t\\t\\t\\t\\t\\t\\t\\t\\t</li>\\n\\t\\t\\t\\t\\t\\t\\t\\t\\t\\t\\t\\t\\t\\t\\n\\t\\t\\t\\t\\t\\t\\t\\t\\t\\t\\t\\t\\t</ul>\\n\\t\\t\\t\\t\\t\\t\\t\\t\\t\\t\\t\\t</section>\\n\\t\\t\\t\\t\\t\\t\\t\\t\\t\\t\\t</div>\\n\\n\\t\\t\\t\\t\\t\\t\\t\\t\\t\\t\\t<!-- #tab-rcomment -->\\n\\n\\t\\t\\t\\t\\t\\t\\t\\t\\t\\t\\t<div id=\"tab-rcomment\" class=\"tab-pane fade\">\\n\\t\\t\\t\\t\\t\\t\\t\\t\\t\\t\\t\\t<!-- \\xec\\xb5\\x9c\\xea\\xb7\\xbc \\xeb\\x8c\\x93\\xea\\xb8\\x80 -->\\n\\t\\t\\t\\t\\t\\t\\t\\t\\t\\t\\t\\t<section class=\"rcomment\">\\n\\t\\t\\t\\t\\t\\t\\t\\t\\t\\t\\t\\t\\t<h4 class=\"nospace sr-only\">\\xec\\xb5\\x9c\\xea\\xb7\\xbc\\xeb\\x8c\\x93\\xea\\xb8\\x80</h4>\\n\\t\\t\\t\\t\\t\\t\\t\\t\\t\\t\\t\\t\\t<ul class=\"list-unstyled\">\\n\\t\\t\\t\\t\\t\\t\\t\\t\\t\\t\\t\\t\\t\\t\\n\\t\\t\\t\\t\\t\\t\\t\\t\\t\\t\\t\\t\\t\\t\\t<li>\\n\\t\\t\\t\\t\\t\\t\\t\\t\\t\\t\\t\\t\\t\\t\\t\\t<a href=\"/3#comment16797059\">\\n\\t\\t\\t\\t\\t\\t\\t\\t\\t\\t\\t\\t\\t\\t\\t\\t\\t<span class=\"rcomment-meta cut\">\\n\\t\\t\\t\\t\\t\\t\\t\\t\\t\\t\\t\\t\\t\\t\\t\\t\\t\\t<span class=\"author\">fivedumplings</span>\\n\\t\\t\\t\\t\\t\\t\\t\\t\\t\\t\\t\\t\\t\\t\\t\\t\\t\\t<span class=\"dt-published\"> 11.08</span>\\n\\t\\t\\t\\t\\t\\t\\t\\t\\t\\t\\t\\t\\t\\t\\t\\t\\t</span>\\n\\t\\t\\t\\t\\t\\t\\t\\t\\t\\t\\t\\t\\t\\t\\t\\t\\t\\xea\\xb7\\xb8\\xeb\\xa6\\xbc \\xec\\xa0\\x95\\xeb\\xa7\\x90 \\xec\\x9d\\xb4\\xed\\x95\\xb4\\xea\\xb0\\x80 \\xec\\x9e\\x98 \\xeb\\x90\\x98\\xeb\\x8a\\x94\\xea\\xb2\\x83 \\xea\\xb0\\x99\\xec\\x8a\\xb5\\xeb\\x8b\\x88\\xeb\\x8b\\xa4. NAT\\xea\\xb0\\x80 \\xeb\\x8b\\xa8\\xec\\x88\\x9c\\xed\\x9e\\x88 \\xec\\x99\\xb8\\xeb\\xb6\\x80\\xeb\\xa1\\x9c\\xeb\\xb6\\x80\\xed\\x84\\xb0 \\xeb\\xb0\\x9b\\xec\\x9d\\x80 \\xe2\\x8b\\xaf\\n\\t\\t\\t\\t\\t\\t\\t\\t\\t\\t\\t\\t\\t\\t\\t\\t</a>\\n\\t\\t\\t\\t\\t\\t\\t\\t\\t\\t\\t\\t\\t\\t\\t</li>\\n\\t\\t\\t\\t\\t\\t\\t\\t\\t\\t\\t\\t\\t\\t\\n\\t\\t\\t\\t\\t\\t\\t\\t\\t\\t\\t\\t\\t\\t\\t<li>\\n\\t\\t\\t\\t\\t\\t\\t\\t\\t\\t\\t\\t\\t\\t\\t\\t<a href=\"/3#comment16752672\">\\n\\t\\t\\t\\t\\t\\t\\t\\t\\t\\t\\t\\t\\t\\t\\t\\t\\t<span class=\"rcomment-meta cut\">\\n\\t\\t\\t\\t\\t\\t\\t\\t\\t\\t\\t\\t\\t\\t\\t\\t\\t\\t<span class=\"author\">08genie</span>\\n\\t\\t\\t\\t\\t\\t\\t\\t\\t\\t\\t\\t\\t\\t\\t\\t\\t\\t<span class=\"dt-published\"> 11.03</span>\\n\\t\\t\\t\\t\\t\\t\\t\\t\\t\\t\\t\\t\\t\\t\\t\\t\\t</span>\\n\\t\\t\\t\\t\\t\\t\\t\\t\\t\\t\\t\\t\\t\\t\\t\\t\\t\\xeb\\xb2\\x84\\xec\\xb6\\x94\\xec\\x96\\xbc\\xeb\\xb0\\x95\\xec\\x8a\\xa4 \\xeb\\x84\\xa4\\xed\\x8a\\xb8\\xec\\x9b\\x8c\\xed\\x81\\xac \\xec\\xa2\\x85\\xeb\\xa5\\x98 \\xeb\\x95\\x8c\\xeb\\xac\\xb8\\xec\\x97\\x90 \\xeb\\xaa\\x87\\xec\\xa3\\xbc\\xeb\\xa5\\xbc \\xec\\x95\\x93\\xec\\x95\\x98\\xeb\\x8a\\x94\\xeb\\x8d\\xb0 \\xec\\x9d\\xb4 \\xeb\\xb8\\x94\\xeb\\xa1\\x9c\\xea\\xb7\\xb8 \\xeb\\xb3\\xb4\\xeb\\x8b\\x88\\xea\\xb9\\x8c \\xec\\xb0\\xb8 \\xec\\x9d\\xb4\\xe2\\x8b\\xaf\\n\\t\\t\\t\\t\\t\\t\\t\\t\\t\\t\\t\\t\\t\\t\\t\\t</a>\\n\\t\\t\\t\\t\\t\\t\\t\\t\\t\\t\\t\\t\\t\\t\\t</li>\\n\\t\\t\\t\\t\\t\\t\\t\\t\\t\\t\\t\\t\\t\\t\\n\\t\\t\\t\\t\\t\\t\\t\\t\\t\\t\\t\\t\\t\\t\\t<li>\\n\\t\\t\\t\\t\\t\\t\\t\\t\\t\\t\\t\\t\\t\\t\\t\\t<a href=\"/3#comment16311576\">\\n\\t\\t\\t\\t\\t\\t\\t\\t\\t\\t\\t\\t\\t\\t\\t\\t\\t<span class=\"rcomment-meta cut\">\\n\\t\\t\\t\\t\\t\\t\\t\\t\\t\\t\\t\\t\\t\\t\\t\\t\\t\\t<span class=\"author\">soko</span>\\n\\t\\t\\t\\t\\t\\t\\t\\t\\t\\t\\t\\t\\t\\t\\t\\t\\t\\t<span class=\"dt-published\"> 09.18</span>\\n\\t\\t\\t\\t\\t\\t\\t\\t\\t\\t\\t\\t\\t\\t\\t\\t\\t</span>\\n\\t\\t\\t\\t\\t\\t\\t\\t\\t\\t\\t\\t\\t\\t\\t\\t\\t\\xec\\x95\\x88\\xeb\\x85\\x95\\xed\\x95\\x98\\xec\\x84\\xb8\\xec\\x9a\\x94! \\xea\\xb6\\x81\\xea\\xb8\\x88\\xed\\x95\\x9c \\xeb\\x82\\xb4\\xec\\x9a\\xa9\\xec\\x9d\\x84 \\xec\\x9e\\x98 \\xec\\xa0\\x95\\xeb\\xa6\\xac\\xed\\x95\\xb4\\xec\\xa3\\xbc\\xec\\x85\\x94\\xec\\x84\\x9c \\xea\\xb0\\x90\\xec\\x82\\xac\\xed\\x95\\xa9\\xeb\\x8b\\x88\\xeb\\x8b\\xa4! \\xec\\xa0\\x81\\xec\\x96\\xb4\\xec\\xa3\\xbc\\xec\\x8b\\xa0 \\xeb\\x82\\xb4\\xec\\x9a\\xa9\\xea\\xb3\\xbc \\xe2\\x8b\\xaf\\n\\t\\t\\t\\t\\t\\t\\t\\t\\t\\t\\t\\t\\t\\t\\t\\t</a>\\n\\t\\t\\t\\t\\t\\t\\t\\t\\t\\t\\t\\t\\t\\t\\t</li>\\n\\t\\t\\t\\t\\t\\t\\t\\t\\t\\t\\t\\t\\t\\t\\n\\t\\t\\t\\t\\t\\t\\t\\t\\t\\t\\t\\t\\t\\t\\t<li>\\n\\t\\t\\t\\t\\t\\t\\t\\t\\t\\t\\t\\t\\t\\t\\t\\t<a href=\"/21#comment16223476\">\\n\\t\\t\\t\\t\\t\\t\\t\\t\\t\\t\\t\\t\\t\\t\\t\\t\\t<span class=\"rcomment-meta cut\">\\n\\t\\t\\t\\t\\t\\t\\t\\t\\t\\t\\t\\t\\t\\t\\t\\t\\t\\t<span class=\"author\">test1</span>\\n\\t\\t\\t\\t\\t\\t\\t\\t\\t\\t\\t\\t\\t\\t\\t\\t\\t\\t<span class=\"dt-published\"> 09.06</span>\\n\\t\\t\\t\\t\\t\\t\\t\\t\\t\\t\\t\\t\\t\\t\\t\\t\\t</span>\\n\\t\\t\\t\\t\\t\\t\\t\\t\\t\\t\\t\\t\\t\\t\\t\\t\\twow\\n~!\\n\\t\\t\\t\\t\\t\\t\\t\\t\\t\\t\\t\\t\\t\\t\\t\\t</a>\\n\\t\\t\\t\\t\\t\\t\\t\\t\\t\\t\\t\\t\\t\\t\\t</li>\\n\\t\\t\\t\\t\\t\\t\\t\\t\\t\\t\\t\\t\\t\\t\\n\\t\\t\\t\\t\\t\\t\\t\\t\\t\\t\\t\\t\\t\\t\\t<li>\\n\\t\\t\\t\\t\\t\\t\\t\\t\\t\\t\\t\\t\\t\\t\\t\\t<a href=\"/11#comment15562425\">\\n\\t\\t\\t\\t\\t\\t\\t\\t\\t\\t\\t\\t\\t\\t\\t\\t\\t<span class=\"rcomment-meta cut\">\\n\\t\\t\\t\\t\\t\\t\\t\\t\\t\\t\\t\\t\\t\\t\\t\\t\\t\\t<span class=\"author\">\\xec\\xa7\\x80\\xeb\\x82\\x98\\xea\\xb0\\x80\\xeb\\x8a\\x94\\xed\\x96\\x89\\xec\\x9d\\xb8</span>\\n\\t\\t\\t\\t\\t\\t\\t\\t\\t\\t\\t\\t\\t\\t\\t\\t\\t\\t<span class=\"dt-published\"> 2023</span>\\n\\t\\t\\t\\t\\t\\t\\t\\t\\t\\t\\t\\t\\t\\t\\t\\t\\t</span>\\n\\t\\t\\t\\t\\t\\t\\t\\t\\t\\t\\t\\t\\t\\t\\t\\t\\t\\xec\\x95\\x88\\xeb\\x85\\x95\\xed\\x95\\x98\\xec\\x84\\xb8\\xec\\x9a\\x94, \\n\\xec\\xb9\\xb4\\xeb\\x94\\x94\\xeb\\x84\\x90\\xeb\\xa6\\xac\\xed\\x8b\\xb0\\xeb\\x8a\\x94 \\xec\\x84\\xa0\\xed\\x83\\x9d\\xeb\\x8f\\x84 * \\xec\\xb4\\x9d \\xeb\\xa1\\x9c\\xec\\x9a\\xb0 \\xec\\x88\\x98 \\xec\\x95\\x84\\xeb\\x8b\\x8c\\xea\\xb0\\x80\\xec\\x9a\\x94?\\n\\nMS\\xec\\x97\\x90\\xec\\x84\\x9c\\xeb\\x8f\\x84\\xe2\\x8b\\xaf\\n\\t\\t\\t\\t\\t\\t\\t\\t\\t\\t\\t\\t\\t\\t\\t\\t</a>\\n\\t\\t\\t\\t\\t\\t\\t\\t\\t\\t\\t\\t\\t\\t\\t</li>\\n\\t\\t\\t\\t\\t\\t\\t\\t\\t\\t\\t\\t\\t\\t\\n\\t\\t\\t\\t\\t\\t\\t\\t\\t\\t\\t\\t\\t\\t\\t<li>\\n\\t\\t\\t\\t\\t\\t\\t\\t\\t\\t\\t\\t\\t\\t\\t\\t<a href=\"/23#comment15550863\">\\n\\t\\t\\t\\t\\t\\t\\t\\t\\t\\t\\t\\t\\t\\t\\t\\t\\t<span class=\"rcomment-meta cut\">\\n\\t\\t\\t\\t\\t\\t\\t\\t\\t\\t\\t\\t\\t\\t\\t\\t\\t\\t<span class=\"author\">\\xec\\xbd\\x94_\\xeb\\x85\\xb8</span>\\n\\t\\t\\t\\t\\t\\t\\t\\t\\t\\t\\t\\t\\t\\t\\t\\t\\t\\t<span class=\"dt-published\"> 2023</span>\\n\\t\\t\\t\\t\\t\\t\\t\\t\\t\\t\\t\\t\\t\\t\\t\\t\\t</span>\\n\\t\\t\\t\\t\\t\\t\\t\\t\\t\\t\\t\\t\\t\\t\\t\\t\\t\\xec\\x95\\x88\\xeb\\x85\\x95\\xed\\x95\\x98\\xec\\x84\\xb8\\xec\\x9a\\x94! \\xeb\\x8c\\x93\\xea\\xb8\\x80 \\xeb\\x82\\xa8\\xea\\xb2\\xa8\\xec\\xa3\\xbc\\xec\\x85\\x94\\xec\\x84\\x9c \\xea\\xb0\\x90\\xec\\x82\\xac\\xed\\x95\\xa9\\xeb\\x8b\\x88\\xeb\\x8b\\xa4.\\n\\xeb\\x8c\\x80\\xed\\x91\\x9c\\xec\\xa3\\xbc\\xec\\x86\\x8c\\xeb\\x8a\\x94, \\xec\\x84\\x9c\\xeb\\xb8\\x8c\\xeb\\x84\\xb7\\xec\\x9d\\x98 \\xea\\xb0\\x80\\xec\\x9e\\xa5 \\xec\\xb2\\xab\\xe2\\x8b\\xaf\\n\\t\\t\\t\\t\\t\\t\\t\\t\\t\\t\\t\\t\\t\\t\\t\\t</a>\\n\\t\\t\\t\\t\\t\\t\\t\\t\\t\\t\\t\\t\\t\\t\\t</li>\\n\\t\\t\\t\\t\\t\\t\\t\\t\\t\\t\\t\\t\\t\\t\\n\\t\\t\\t\\t\\t\\t\\t\\t\\t\\t\\t\\t\\t\\t\\t<li>\\n\\t\\t\\t\\t\\t\\t\\t\\t\\t\\t\\t\\t\\t\\t\\t\\t<a href=\"/23#comment15546988\">\\n\\t\\t\\t\\t\\t\\t\\t\\t\\t\\t\\t\\t\\t\\t\\t\\t\\t<span class=\"rcomment-meta cut\">\\n\\t\\t\\t\\t\\t\\t\\t\\t\\t\\t\\t\\t\\t\\t\\t\\t\\t\\t<span class=\"author\">\\xec\\xb4\\x88\\xeb\\xb3\\xb4\\xec\\x9e\\x90</span>\\n\\t\\t\\t\\t\\t\\t\\t\\t\\t\\t\\t\\t\\t\\t\\t\\t\\t\\t<span class=\"dt-published\"> 2023</span>\\n\\t\\t\\t\\t\\t\\t\\t\\t\\t\\t\\t\\t\\t\\t\\t\\t\\t</span>\\n\\t\\t\\t\\t\\t\\t\\t\\t\\t\\t\\t\\t\\t\\t\\t\\t\\t\\xec\\x95\\x88\\xeb\\x85\\x95\\xed\\x95\\x98\\xec\\x84\\xb8\\xec\\x9a\\x94, \\xea\\xb6\\x81\\xea\\xb8\\x88\\xed\\x95\\x9c \\xec\\xa0\\x90\\xec\\x9d\\xb4 \\xec\\x9e\\x88\\xec\\x96\\xb4\\xec\\x84\\x9c \\xec\\xa7\\x88\\xeb\\xac\\xb8 \\xeb\\x82\\xa8\\xea\\xb9\\x80\\xeb\\x8b\\x88\\xeb\\x8b\\xa4.\\n\\xeb\\x84\\xa4\\xed\\x8a\\xb8\\xec\\x9b\\x8c\\xed\\x81\\xac \\xec\\xa3\\xbc\\xec\\x86\\x8c(\\xeb\\x8c\\x80\\xed\\x91\\x9c\\xec\\xa3\\xbc\\xec\\x86\\x8c)\\xe2\\x8b\\xaf\\n\\t\\t\\t\\t\\t\\t\\t\\t\\t\\t\\t\\t\\t\\t\\t\\t</a>\\n\\t\\t\\t\\t\\t\\t\\t\\t\\t\\t\\t\\t\\t\\t\\t</li>\\n\\t\\t\\t\\t\\t\\t\\t\\t\\t\\t\\t\\t\\t\\t\\n\\t\\t\\t\\t\\t\\t\\t\\t\\t\\t\\t\\t\\t\\t\\t<li>\\n\\t\\t\\t\\t\\t\\t\\t\\t\\t\\t\\t\\t\\t\\t\\t\\t<a href=\"/3#comment15437172\">\\n\\t\\t\\t\\t\\t\\t\\t\\t\\t\\t\\t\\t\\t\\t\\t\\t\\t<span class=\"rcomment-meta cut\">\\n\\t\\t\\t\\t\\t\\t\\t\\t\\t\\t\\t\\t\\t\\t\\t\\t\\t\\t<span class=\"author\">\\xec\\xbd\\x94_\\xeb\\x85\\xb8</span>\\n\\t\\t\\t\\t\\t\\t\\t\\t\\t\\t\\t\\t\\t\\t\\t\\t\\t\\t<span class=\"dt-published\"> 2023</span>\\n\\t\\t\\t\\t\\t\\t\\t\\t\\t\\t\\t\\t\\t\\t\\t\\t\\t</span>\\n\\t\\t\\t\\t\\t\\t\\t\\t\\t\\t\\t\\t\\t\\t\\t\\t\\t\\xec\\xa0\\x95\\xec\\xa0\\x95 \\xea\\xb0\\x90\\xec\\x82\\xac\\xeb\\x93\\x9c\\xeb\\xa6\\xbd\\xeb\\x8b\\x88\\xeb\\x8b\\xa4! \\xed\\x8f\\xac\\xec\\x8a\\xa4\\xed\\x8c\\x85\\xeb\\x8f\\x84 \\xeb\\xb0\\x94\\xeb\\xa1\\x9c \\xec\\x88\\x98\\xec\\xa0\\x95\\xed\\x95\\x98\\xec\\x98\\x80\\xec\\x8a\\xb5\\xeb\\x8b\\x88\\xeb\\x8b\\xa4. \\xeb\\x98\\x90 \\xed\\x8b\\x80\\xeb\\xa6\\xb0\\xea\\xb2\\x8c \\xec\\x9e\\x88\\xeb\\x8b\\xa4\\xeb\\xa9\\xb4 \\xec\\xa7\\x80\\xec\\xa0\\x81\\xe2\\x8b\\xaf\\n\\t\\t\\t\\t\\t\\t\\t\\t\\t\\t\\t\\t\\t\\t\\t\\t</a>\\n\\t\\t\\t\\t\\t\\t\\t\\t\\t\\t\\t\\t\\t\\t\\t</li>\\n\\t\\t\\t\\t\\t\\t\\t\\t\\t\\t\\t\\t\\t\\t\\n\\t\\t\\t\\t\\t\\t\\t\\t\\t\\t\\t\\t\\t\\t\\t<li>\\n\\t\\t\\t\\t\\t\\t\\t\\t\\t\\t\\t\\t\\t\\t\\t\\t<a href=\"/3#comment15437115\">\\n\\t\\t\\t\\t\\t\\t\\t\\t\\t\\t\\t\\t\\t\\t\\t\\t\\t<span class=\"rcomment-meta cut\">\\n\\t\\t\\t\\t\\t\\t\\t\\t\\t\\t\\t\\t\\t\\t\\t\\t\\t\\t<span class=\"author\">\\xe3\\x85\\x87\\xe3\\x85\\x87</span>\\n\\t\\t\\t\\t\\t\\t\\t\\t\\t\\t\\t\\t\\t\\t\\t\\t\\t\\t<span class=\"dt-published\"> 2023</span>\\n\\t\\t\\t\\t\\t\\t\\t\\t\\t\\t\\t\\t\\t\\t\\t\\t\\t</span>\\n\\t\\t\\t\\t\\t\\t\\t\\t\\t\\t\\t\\t\\t\\t\\t\\t\\t\\xec\\x9e\\x98 \\xec\\xa0\\x95\\xeb\\xa6\\xac\\xed\\x95\\xb4\\xec\\xa3\\xbc\\xec\\x85\\xa8\\xeb\\x8a\\x94\\xeb\\x8d\\xb0 \\xed\\x95\\x9c\\xea\\xb0\\x80\\xec\\xa7\\x80\\xeb\\xa7\\x8c \\xec\\xa0\\x95\\xec\\xa0\\x95\\xed\\x95\\xb4\\xeb\\x93\\x9c\\xeb\\xa6\\xac\\xec\\x9e\\x90\\xeb\\xa9\\xb4 NAT, NAT Network \\xe2\\x8b\\xaf\\n\\t\\t\\t\\t\\t\\t\\t\\t\\t\\t\\t\\t\\t\\t\\t\\t</a>\\n\\t\\t\\t\\t\\t\\t\\t\\t\\t\\t\\t\\t\\t\\t\\t</li>\\n\\t\\t\\t\\t\\t\\t\\t\\t\\t\\t\\t\\t\\t\\t\\n\\t\\t\\t\\t\\t\\t\\t\\t\\t\\t\\t\\t\\t\\t\\t<li>\\n\\t\\t\\t\\t\\t\\t\\t\\t\\t\\t\\t\\t\\t\\t\\t\\t<a href=\"/61#comment15154633\">\\n\\t\\t\\t\\t\\t\\t\\t\\t\\t\\t\\t\\t\\t\\t\\t\\t\\t<span class=\"rcomment-meta cut\">\\n\\t\\t\\t\\t\\t\\t\\t\\t\\t\\t\\t\\t\\t\\t\\t\\t\\t\\t<span class=\"author\">\\xe3\\x85\\x87\\xe3\\x85\\x87</span>\\n\\t\\t\\t\\t\\t\\t\\t\\t\\t\\t\\t\\t\\t\\t\\t\\t\\t\\t<span class=\"dt-published\"> 2022</span>\\n\\t\\t\\t\\t\\t\\t\\t\\t\\t\\t\\t\\t\\t\\t\\t\\t\\t</span>\\n\\t\\t\\t\\t\\t\\t\\t\\t\\t\\t\\t\\t\\t\\t\\t\\t\\t\\xec\\xa2\\x8b\\xec\\x9d\\x80\\xea\\xb8\\x80 \\xea\\xb0\\x90\\xec\\x82\\xac\\xed\\x95\\xa9\\xeb\\x8b\\x88\\xeb\\x8b\\xa4!\\n\\t\\t\\t\\t\\t\\t\\t\\t\\t\\t\\t\\t\\t\\t\\t\\t</a>\\n\\t\\t\\t\\t\\t\\t\\t\\t\\t\\t\\t\\t\\t\\t\\t</li>\\n\\t\\t\\t\\t\\t\\t\\t\\t\\t\\t\\t\\t\\t\\t\\n\\t\\t\\t\\t\\t\\t\\t\\t\\t\\t\\t\\t\\t</ul>\\n\\t\\t\\t\\t\\t\\t\\t\\t\\t\\t\\t\\t</section>\\n\\t\\t\\t\\t\\t\\t\\t\\t\\t\\t\\t</div>\\n\\t\\t\\t\\t\\t\\t\\t\\t\\t\\t</div>\\n\\t\\t\\t\\t\\t\\t\\t\\t\\t</div>\\n\\t\\t\\t\\t\\t\\t\\t\\t</div>\\n\\t\\t\\t\\t\\t\\t\\t\\n\\t\\t\\t\\t\\t\\t\\t\\t<!-- \\xed\\x83\\x9c\\xea\\xb7\\xb8 \\xed\\x81\\xb4\\xeb\\x9d\\xbc\\xec\\x9a\\xb0\\xeb\\x93\\x9c -->\\n\\t\\t\\t\\t\\t\\t\\t\\t<div class=\"module module-tag\">\\n\\t\\t\\t\\t\\t\\t\\t\\t\\t<h3 class=\"module-title\"><i class=\"fas fa-tags fa-sm\"></i><span class=\"inline-block\">\\xed\\x83\\x9c\\xea\\xb7\\xb8</span></h3>\\n\\t\\t\\t\\t\\t\\t\\t\\t\\t<ul class=\"module-content\">\\n\\t\\t\\t\\t\\t\\t\\t\\t\\t\\t\\n\\t\\t\\t\\t\\t\\t\\t\\t\\t\\t\\t<li>\\n\\t\\t\\t\\t\\t\\t\\t\\t\\t\\t\\t\\t<a href=\"/tag/%EB%B0%B1%EC%A4%80%20%EA%B3%A8%EB%93%9C4\" class=\"cloud4 cut\">#\\xeb\\xb0\\xb1\\xec\\xa4\\x80 \\xea\\xb3\\xa8\\xeb\\x93\\x9c4</a>\\n\\t\\t\\t\\t\\t\\t\\t\\t\\t\\t\\t</li>\\n\\t\\t\\t\\t\\t\\t\\t\\t\\t\\t\\n\\t\\t\\t\\t\\t\\t\\t\\t\\t\\t\\t<li>\\n\\t\\t\\t\\t\\t\\t\\t\\t\\t\\t\\t\\t<a href=\"/tag/SAS%20%EC%95%84%ED%82%A4%ED%85%8D%EC%B2%98\" class=\"cloud4 cut\">#SAS \\xec\\x95\\x84\\xed\\x82\\xa4\\xed\\x85\\x8d\\xec\\xb2\\x98</a>\\n\\t\\t\\t\\t\\t\\t\\t\\t\\t\\t\\t</li>\\n\\t\\t\\t\\t\\t\\t\\t\\t\\t\\t\\n\\t\\t\\t\\t\\t\\t\\t\\t\\t\\t\\t<li>\\n\\t\\t\\t\\t\\t\\t\\t\\t\\t\\t\\t\\t<a href=\"/tag/Windows%20AD\" class=\"cloud4 cut\">#Windows AD</a>\\n\\t\\t\\t\\t\\t\\t\\t\\t\\t\\t\\t</li>\\n\\t\\t\\t\\t\\t\\t\\t\\t\\t\\t\\n\\t\\t\\t\\t\\t\\t\\t\\t\\t\\t\\t<li>\\n\\t\\t\\t\\t\\t\\t\\t\\t\\t\\t\\t\\t<a href=\"/tag/db\" class=\"cloud2 cut\">#db</a>\\n\\t\\t\\t\\t\\t\\t\\t\\t\\t\\t\\t</li>\\n\\t\\t\\t\\t\\t\\t\\t\\t\\t\\t\\n\\t\\t\\t\\t\\t\\t\\t\\t\\t\\t\\t<li>\\n\\t\\t\\t\\t\\t\\t\\t\\t\\t\\t\\t\\t<a href=\"/tag/%EB%B0%B1%EC%A4%80%20%EA%B3%A8%EB%93%9C2\" class=\"cloud4 cut\">#\\xeb\\xb0\\xb1\\xec\\xa4\\x80 \\xea\\xb3\\xa8\\xeb\\x93\\x9c2</a>\\n\\t\\t\\t\\t\\t\\t\\t\\t\\t\\t\\t</li>\\n\\t\\t\\t\\t\\t\\t\\t\\t\\t\\t\\n\\t\\t\\t\\t\\t\\t\\t\\t\\t\\t\\t<li>\\n\\t\\t\\t\\t\\t\\t\\t\\t\\t\\t\\t\\t<a href=\"/tag/%EB%B0%B1%EC%A4%80%20%ED%8C%8C%EC%9D%B4%EC%8D%AC\" class=\"cloud2 cut\">#\\xeb\\xb0\\xb1\\xec\\xa4\\x80 \\xed\\x8c\\x8c\\xec\\x9d\\xb4\\xec\\x8d\\xac</a>\\n\\t\\t\\t\\t\\t\\t\\t\\t\\t\\t\\t</li>\\n\\t\\t\\t\\t\\t\\t\\t\\t\\t\\t\\n\\t\\t\\t\\t\\t\\t\\t\\t\\t\\t\\t<li>\\n\\t\\t\\t\\t\\t\\t\\t\\t\\t\\t\\t\\t<a href=\"/tag/SQL%20Server\" class=\"cloud1 cut\">#SQL Server</a>\\n\\t\\t\\t\\t\\t\\t\\t\\t\\t\\t\\t</li>\\n\\t\\t\\t\\t\\t\\t\\t\\t\\t\\t\\n\\t\\t\\t\\t\\t\\t\\t\\t\\t\\t\\t<li>\\n\\t\\t\\t\\t\\t\\t\\t\\t\\t\\t\\t\\t<a href=\"/tag/SAS%20Intelligence%20Platform\" class=\"cloud4 cut\">#SAS Intelligence Platform</a>\\n\\t\\t\\t\\t\\t\\t\\t\\t\\t\\t\\t</li>\\n\\t\\t\\t\\t\\t\\t\\t\\t\\t\\t\\n\\t\\t\\t\\t\\t\\t\\t\\t\\t\\t\\t<li>\\n\\t\\t\\t\\t\\t\\t\\t\\t\\t\\t\\t\\t<a href=\"/tag/%EB%B0%B1%EC%A4%80%20python\" class=\"cloud4 cut\">#\\xeb\\xb0\\xb1\\xec\\xa4\\x80 python</a>\\n\\t\\t\\t\\t\\t\\t\\t\\t\\t\\t\\t</li>\\n\\t\\t\\t\\t\\t\\t\\t\\t\\t\\t\\n\\t\\t\\t\\t\\t\\t\\t\\t\\t\\t\\t<li>\\n\\t\\t\\t\\t\\t\\t\\t\\t\\t\\t\\t\\t<a href=\"/tag/%EB%B0%B1%EC%A4%80\" class=\"cloud4 cut\">#\\xeb\\xb0\\xb1\\xec\\xa4\\x80</a>\\n\\t\\t\\t\\t\\t\\t\\t\\t\\t\\t\\t</li>\\n\\t\\t\\t\\t\\t\\t\\t\\t\\t\\t\\n\\t\\t\\t\\t\\t\\t\\t\\t\\t\\t\\t<li>\\n\\t\\t\\t\\t\\t\\t\\t\\t\\t\\t\\t\\t<a href=\"/tag/DBA\" class=\"cloud2 cut\">#DBA</a>\\n\\t\\t\\t\\t\\t\\t\\t\\t\\t\\t\\t</li>\\n\\t\\t\\t\\t\\t\\t\\t\\t\\t\\t\\n\\t\\t\\t\\t\\t\\t\\t\\t\\t\\t\\t<li>\\n\\t\\t\\t\\t\\t\\t\\t\\t\\t\\t\\t\\t<a href=\"/tag/%EB%B0%B1%EC%A4%80%20%EC%95%8C%EA%B3%A0%EB%A6%AC%EC%A6%98\" class=\"cloud3 cut\">#\\xeb\\xb0\\xb1\\xec\\xa4\\x80 \\xec\\x95\\x8c\\xea\\xb3\\xa0\\xeb\\xa6\\xac\\xec\\xa6\\x98</a>\\n\\t\\t\\t\\t\\t\\t\\t\\t\\t\\t\\t</li>\\n\\t\\t\\t\\t\\t\\t\\t\\t\\t\\t\\n\\t\\t\\t\\t\\t\\t\\t\\t\\t\\t\\t<li>\\n\\t\\t\\t\\t\\t\\t\\t\\t\\t\\t\\t\\t<a href=\"/tag/MongoDB%20Sharding\" class=\"cloud4 cut\">#MongoDB Sharding</a>\\n\\t\\t\\t\\t\\t\\t\\t\\t\\t\\t\\t</li>\\n\\t\\t\\t\\t\\t\\t\\t\\t\\t\\t\\n\\t\\t\\t\\t\\t\\t\\t\\t\\t\\t\\t<li>\\n\\t\\t\\t\\t\\t\\t\\t\\t\\t\\t\\t\\t<a href=\"/tag/MSSQL\" class=\"cloud2 cut\">#MSSQL</a>\\n\\t\\t\\t\\t\\t\\t\\t\\t\\t\\t\\t</li>\\n\\t\\t\\t\\t\\t\\t\\t\\t\\t\\t\\n\\t\\t\\t\\t\\t\\t\\t\\t\\t\\t\\t<li>\\n\\t\\t\\t\\t\\t\\t\\t\\t\\t\\t\\t\\t<a href=\"/tag/jvm%20%EC%8B%A4%ED%96%89%20%EC%98%B5%EC%85%98\" class=\"cloud4 cut\">#jvm \\xec\\x8b\\xa4\\xed\\x96\\x89 \\xec\\x98\\xb5\\xec\\x85\\x98</a>\\n\\t\\t\\t\\t\\t\\t\\t\\t\\t\\t\\t</li>\\n\\t\\t\\t\\t\\t\\t\\t\\t\\t\\t\\n\\t\\t\\t\\t\\t\\t\\t\\t\\t\\t\\t<li>\\n\\t\\t\\t\\t\\t\\t\\t\\t\\t\\t\\t\\t<a href=\"/tag/SQL%20Server%202019%20Restore\" class=\"cloud4 cut\">#SQL Server 2019 Restore</a>\\n\\t\\t\\t\\t\\t\\t\\t\\t\\t\\t\\t</li>\\n\\t\\t\\t\\t\\t\\t\\t\\t\\t\\t\\n\\t\\t\\t\\t\\t\\t\\t\\t\\t\\t\\t<li>\\n\\t\\t\\t\\t\\t\\t\\t\\t\\t\\t\\t\\t<a href=\"/tag/SQL%20Server%202019\" class=\"cloud4 cut\">#SQL Server 2019</a>\\n\\t\\t\\t\\t\\t\\t\\t\\t\\t\\t\\t</li>\\n\\t\\t\\t\\t\\t\\t\\t\\t\\t\\t\\n\\t\\t\\t\\t\\t\\t\\t\\t\\t\\t\\t<li>\\n\\t\\t\\t\\t\\t\\t\\t\\t\\t\\t\\t\\t<a href=\"/tag/SAS\" class=\"cloud4 cut\">#SAS</a>\\n\\t\\t\\t\\t\\t\\t\\t\\t\\t\\t\\t</li>\\n\\t\\t\\t\\t\\t\\t\\t\\t\\t\\t\\n\\t\\t\\t\\t\\t\\t\\t\\t\\t\\t\\t<li>\\n\\t\\t\\t\\t\\t\\t\\t\\t\\t\\t\\t\\t<a href=\"/tag/SSMS\" class=\"cloud3 cut\">#SSMS</a>\\n\\t\\t\\t\\t\\t\\t\\t\\t\\t\\t\\t</li>\\n\\t\\t\\t\\t\\t\\t\\t\\t\\t\\t\\n\\t\\t\\t\\t\\t\\t\\t\\t\\t\\t\\t<li>\\n\\t\\t\\t\\t\\t\\t\\t\\t\\t\\t\\t\\t<a href=\"/tag/%EB%B0%B1%EC%A4%80%20%EA%B3%A8%EB%93%9C%202\" class=\"cloud4 cut\">#\\xeb\\xb0\\xb1\\xec\\xa4\\x80 \\xea\\xb3\\xa8\\xeb\\x93\\x9c 2</a>\\n\\t\\t\\t\\t\\t\\t\\t\\t\\t\\t\\t</li>\\n\\t\\t\\t\\t\\t\\t\\t\\t\\t\\t\\n\\t\\t\\t\\t\\t\\t\\t\\t\\t</ul>\\n\\t\\t\\t\\t\\t\\t\\t\\t\\t<a href=\"https://co-no.tistory.com/tag\" class=\"btn-more\">\\xeb\\x8d\\x94\\xeb\\xb3\\xb4\\xea\\xb8\\xb0+</a>\\n\\t\\t\\t\\t\\t\\t\\t\\t</div>\\n\\t\\t\\t\\t\\t\\t\\t\\n\\t\\t\\t\\t\\t\\t\\t\\t<!-- \\xec\\xb9\\xb4\\xec\\x9a\\xb4\\xed\\x84\\xb0 -->\\n\\t\\t\\t\\t\\t\\t\\t\\t<div class=\"module module-visitor\">\\n\\t\\t\\t\\t\\t\\t\\t\\t\\t<h3 class=\"module-title\"><i class=\"fas fa-globe-europe fa-sm\"></i><span>\\xec\\xa0\\x84\\xec\\xb2\\xb4 \\xeb\\xb0\\xa9\\xeb\\xac\\xb8\\xec\\x9e\\x90</span></h3>\\n\\t\\t\\t\\t\\t\\t\\t\\t\\t<div class=\"module-content visitor\">\\n\\t\\t\\t\\t\\t\\t\\t\\t\\t\\t<div class=\"visitor-row\">\\n\\t\\t\\t\\t\\t\\t\\t\\t\\t\\t\\t<span class=\"visitor-cell\">\\xec\\x98\\xa4\\xeb\\x8a\\x98</span>\\n\\t\\t\\t\\t\\t\\t\\t\\t\\t\\t\\t<span class=\"ff-h today visitor-date\">325</span>\\n\\t\\t\\t\\t\\t\\t\\t\\t\\t\\t</div>\\n\\t\\t\\t\\t\\t\\t\\t\\t\\t\\t<div class=\"visitor-row\">\\n\\t\\t\\t\\t\\t\\t\\t\\t\\t\\t\\t<span class=\"visitor-cell\">\\xec\\x96\\xb4\\xec\\xa0\\x9c</span>\\n\\t\\t\\t\\t\\t\\t\\t\\t\\t\\t\\t<span class=\"ff-h yesterday visitor-date\">731</span>\\n\\t\\t\\t\\t\\t\\t\\t\\t\\t\\t</div>\\n\\t\\t\\t\\t\\t\\t\\t\\t\\t\\t<div class=\"visitor-row\">\\n\\t\\t\\t\\t\\t\\t\\t\\t\\t\\t\\t<span class=\"visitor-cell\">\\xec\\xa0\\x84\\xec\\xb2\\xb4</span>\\n\\t\\t\\t\\t\\t\\t\\t\\t\\t\\t\\t<span class=\"ff-h total visitor-date\">212,186</span>\\n\\t\\t\\t\\t\\t\\t\\t\\t\\t\\t</div>\\n\\t\\t\\t\\t\\t\\t\\t\\t\\t</div>\\n\\t\\t\\t\\t\\t\\t\\t\\t</div>\\n\\t\\t\\t\\t\\t\\t\\t\\n\\t\\t\\t\\t\\t\\t\\t\\t<!-- \\xec\\x9d\\xb4 \\xeb\\xb8\\x94\\xeb\\xa1\\x9c\\xea\\xb7\\xb8 \\xec\\x9d\\xb8\\xea\\xb8\\xb0\\xea\\xb8\\x80 -->\\n\\t\\t\\t\\t\\t\\t\\t\\t<div class=\"module popularPost\">\\n\\t\\t\\t\\t\\t\\t\\t\\t\\t<h3 class=\"module-title\"><i class=\"fas fa-fire-alt fa-sm\"></i><span>\\xeb\\xb8\\x94\\xeb\\xa1\\x9c\\xea\\xb7\\xb8 \\xec\\x9d\\xb8\\xea\\xb8\\xb0\\xea\\xb8\\x80</span></h3>\\n\\n\\t\\t\\t\\t\\t\\t\\t\\t\\t\\n\\t\\t\\t\\t\\t\\t\\t\\t\\t\\t<div class=\"popularPost-list\">\\n\\t\\t\\t\\t\\t\\t\\t\\t\\t\\t\\t<a href=\"/entry/%ED%86%B5%EC%8B%A0-RPCRemote-Procedure-Call%EC%9D%98-%EA%B0%9C%EB%85%90-%EB%B0%8F-%ED%8A%B9%EC%A7%95\">\\n\\t\\t\\t\\t\\t\\t\\t\\t\\t\\t\\t\\t<div class=\"popularPost-info\">\\n\\t\\t\\t\\t\\t\\t\\t\\t\\t\\t\\t\\t\\t\\n\\t\\t\\t\\t\\t\\t\\t\\t\\t\\t\\t\\t\\t\\t<div class=\"left-pop\">\\n\\n\\t\\t\\t\\t\\t\\t\\t\\t\\t\\t\\t\\t\\t\\t\\t<img src=\"//i1.daumcdn.net/thumb/C50x50/?fname=https://img1.daumcdn.net/thumb/R750x0/?scode=mtistory2&fname=https%3A%2F%2Fblog.kakaocdn.net%2Fdn%2FbzsvVI%2FbtrqMR3NwFg%2F3pXKq0JUKikJJezbFIgmf1%2Fimg.png\" width=\"50\" height=\"50\" alt=\"thumbnail\" />\\n\\t\\t\\t\\t\\t\\t\\t\\t\\t\\t\\t\\t\\t\\t</div>\\n\\t\\t\\t\\t\\t\\t\\t\\t\\t\\t\\t\\t\\t\\n\\t\\t\\t\\t\\t\\t\\t\\t\\t\\t\\t\\t\\t<div class=\"right-pop\">\\n\\t\\t\\t\\t\\t\\t\\t\\t\\t\\t\\t\\t\\t\\t<div class=\"popular-right\">\\n\\t\\t\\t\\t\\t\\t\\t\\t\\t\\t\\t\\t\\t\\t\\t<span>[\\xea\\xb0\\x9c\\xeb\\x85\\x90] RPC(Remote Procedure Call)\\xec\\x9d\\x98 \\xea\\xb0\\x9c\\xeb\\x85\\x90 \\xeb\\xb0\\x8f \\xed\\x8a\\xb9\\xec\\xa7\\x95</span>\\n\\t\\t\\t\\t\\t\\t\\t\\t\\t\\t\\t\\t\\t\\t</div>\\n\\t\\t\\t\\t\\t\\t\\t\\t\\t\\t\\t\\t\\t</div>\\n\\t\\t\\t\\t\\t\\t\\t\\t\\t\\t\\t\\t</div>\\n\\t\\t\\t\\t\\t\\t\\t\\t\\t\\t\\t</a>\\n\\t\\t\\t\\t\\t\\t\\t\\t\\t\\t</div>\\n\\t\\t\\t\\t\\t\\t\\t\\t\\t\\n\\t\\t\\t\\t\\t\\t\\t\\t\\t\\t<div class=\"popularPost-list\">\\n\\t\\t\\t\\t\\t\\t\\t\\t\\t\\t\\t<a href=\"/entry/Linux-%EC%A0%95%EA%B7%9C%ED%91%9C%ED%98%84%EC%8B%9DRegex%EC%9D%98-%EA%B0%9C%EB%85%90%EA%B3%BC-%EA%B8%B0%EC%B4%88-%EB%AC%B8%EB%B2%95\">\\n\\t\\t\\t\\t\\t\\t\\t\\t\\t\\t\\t\\t<div class=\"popularPost-info\">\\n\\t\\t\\t\\t\\t\\t\\t\\t\\t\\t\\t\\t\\t\\n\\t\\t\\t\\t\\t\\t\\t\\t\\t\\t\\t\\t\\t<div class=\"right-pop\">\\n\\t\\t\\t\\t\\t\\t\\t\\t\\t\\t\\t\\t\\t\\t<div class=\"popular-right\">\\n\\t\\t\\t\\t\\t\\t\\t\\t\\t\\t\\t\\t\\t\\t\\t<span>\\xec\\xa0\\x95\\xea\\xb7\\x9c\\xed\\x91\\x9c\\xed\\x98\\x84\\xec\\x8b\\x9d(Regex)\\xec\\x9d\\x98 \\xea\\xb0\\x9c\\xeb\\x85\\x90\\xea\\xb3\\xbc \\xea\\xb8\\xb0\\xec\\xb4\\x88 \\xeb\\xac\\xb8\\xeb\\xb2\\x95</span>\\n\\t\\t\\t\\t\\t\\t\\t\\t\\t\\t\\t\\t\\t\\t</div>\\n\\t\\t\\t\\t\\t\\t\\t\\t\\t\\t\\t\\t\\t</div>\\n\\t\\t\\t\\t\\t\\t\\t\\t\\t\\t\\t\\t</div>\\n\\t\\t\\t\\t\\t\\t\\t\\t\\t\\t\\t</a>\\n\\t\\t\\t\\t\\t\\t\\t\\t\\t\\t</div>\\n\\t\\t\\t\\t\\t\\t\\t\\t\\t\\n\\t\\t\\t\\t\\t\\t\\t\\t\\t\\t<div class=\"popularPost-list\">\\n\\t\\t\\t\\t\\t\\t\\t\\t\\t\\t\\t<a href=\"/entry/Apache-Virtualhost-%EC%84%A4%EC%A0%95-%ED%95%9C-%EC%84%9C%EB%B2%84%EC%97%90%EC%84%9C-%EC%97%AC%EB%9F%AC-%EC%9B%B9%EC%82%AC%EC%9D%B4%ED%8A%B8-%EC%84%9C%EB%B9%84%EC%8A%A4%ED%95%98%EA%B8%B0\">\\n\\t\\t\\t\\t\\t\\t\\t\\t\\t\\t\\t\\t<div class=\"popularPost-info\">\\n\\t\\t\\t\\t\\t\\t\\t\\t\\t\\t\\t\\t\\t\\n\\t\\t\\t\\t\\t\\t\\t\\t\\t\\t\\t\\t\\t<div class=\"right-pop\">\\n\\t\\t\\t\\t\\t\\t\\t\\t\\t\\t\\t\\t\\t\\t<div class=\"popular-right\">\\n\\t\\t\\t\\t\\t\\t\\t\\t\\t\\t\\t\\t\\t\\t\\t<span>[httpd] Apache httpd Virtualhost \\xec\\x84\\xa4\\xec\\xa0\\x95 - \\xed\\x95\\x9c \\xe2\\x8b\\xaf</span>\\n\\t\\t\\t\\t\\t\\t\\t\\t\\t\\t\\t\\t\\t\\t</div>\\n\\t\\t\\t\\t\\t\\t\\t\\t\\t\\t\\t\\t\\t</div>\\n\\t\\t\\t\\t\\t\\t\\t\\t\\t\\t\\t\\t</div>\\n\\t\\t\\t\\t\\t\\t\\t\\t\\t\\t\\t</a>\\n\\t\\t\\t\\t\\t\\t\\t\\t\\t\\t</div>\\n\\t\\t\\t\\t\\t\\t\\t\\t\\t\\n\\t\\t\\t\\t\\t\\t\\t\\t\\t\\t<div class=\"popularPost-list\">\\n\\t\\t\\t\\t\\t\\t\\t\\t\\t\\t\\t<a href=\"/entry/%EC%84%9C%EB%B2%84-%EA%B3%B5%ED%86%B5-SSOSingle-Sign-On-%EC%9D%B4%EB%9E%80\">\\n\\t\\t\\t\\t\\t\\t\\t\\t\\t\\t\\t\\t<div class=\"popularPost-info\">\\n\\t\\t\\t\\t\\t\\t\\t\\t\\t\\t\\t\\t\\t\\n\\t\\t\\t\\t\\t\\t\\t\\t\\t\\t\\t\\t\\t\\t<div class=\"left-pop\">\\n\\n\\t\\t\\t\\t\\t\\t\\t\\t\\t\\t\\t\\t\\t\\t\\t<img src=\"//i1.daumcdn.net/thumb/C50x50/?fname=https://img1.daumcdn.net/thumb/R750x0/?scode=mtistory2&fname=https%3A%2F%2Fblog.kakaocdn.net%2Fdn%2F1hH9q%2FbtrrVqyTjum%2FrVx0m2HLFJaJYVDUrxpMA0%2Fimg.png\" width=\"50\" height=\"50\" alt=\"thumbnail\" />\\n\\t\\t\\t\\t\\t\\t\\t\\t\\t\\t\\t\\t\\t\\t</div>\\n\\t\\t\\t\\t\\t\\t\\t\\t\\t\\t\\t\\t\\t\\n\\t\\t\\t\\t\\t\\t\\t\\t\\t\\t\\t\\t\\t<div class=\"right-pop\">\\n\\t\\t\\t\\t\\t\\t\\t\\t\\t\\t\\t\\t\\t\\t<div class=\"popular-right\">\\n\\t\\t\\t\\t\\t\\t\\t\\t\\t\\t\\t\\t\\t\\t\\t<span>[\\xea\\xb0\\x9c\\xeb\\x85\\x90] SSO(Single Sign-On) \\xec\\x9d\\xb4\\xeb\\x9e\\x80?</span>\\n\\t\\t\\t\\t\\t\\t\\t\\t\\t\\t\\t\\t\\t\\t</div>\\n\\t\\t\\t\\t\\t\\t\\t\\t\\t\\t\\t\\t\\t</div>\\n\\t\\t\\t\\t\\t\\t\\t\\t\\t\\t\\t\\t</div>\\n\\t\\t\\t\\t\\t\\t\\t\\t\\t\\t\\t</a>\\n\\t\\t\\t\\t\\t\\t\\t\\t\\t\\t</div>\\n\\t\\t\\t\\t\\t\\t\\t\\t\\t\\n\\t\\t\\t\\t\\t\\t\\t\\t\\t\\t<div class=\"popularPost-list\">\\n\\t\\t\\t\\t\\t\\t\\t\\t\\t\\t\\t<a href=\"/entry/Linux-%EC%89%98-%EC%8A%A4%ED%81%AC%EB%A6%BD%ED%8A%B8-%ED%8C%8C%EC%9D%BC-%EC%A1%B4%EC%9E%AC-%EC%97%AC%EB%B6%80-%ED%99%95%EC%9D%B8%ED%95%98%EA%B8%B0\">\\n\\t\\t\\t\\t\\t\\t\\t\\t\\t\\t\\t\\t<div class=\"popularPost-info\">\\n\\t\\t\\t\\t\\t\\t\\t\\t\\t\\t\\t\\t\\t\\n\\t\\t\\t\\t\\t\\t\\t\\t\\t\\t\\t\\t\\t<div class=\"right-pop\">\\n\\t\\t\\t\\t\\t\\t\\t\\t\\t\\t\\t\\t\\t\\t<div class=\"popular-right\">\\n\\t\\t\\t\\t\\t\\t\\t\\t\\t\\t\\t\\t\\t\\t\\t<span>[Linux] \\xec\\x89\\x98 \\xec\\x8a\\xa4\\xed\\x81\\xac\\xeb\\xa6\\xbd\\xed\\x8a\\xb8 - \\xed\\x8c\\x8c\\xec\\x9d\\xbc \\xec\\xa1\\xb4\\xec\\x9e\\xac \\xec\\x97\\xac\\xeb\\xb6\\x80 \\xed\\x99\\x95\\xec\\x9d\\xb8\\xed\\x95\\x98\\xea\\xb8\\xb0!</span>\\n\\t\\t\\t\\t\\t\\t\\t\\t\\t\\t\\t\\t\\t\\t</div>\\n\\t\\t\\t\\t\\t\\t\\t\\t\\t\\t\\t\\t\\t</div>\\n\\t\\t\\t\\t\\t\\t\\t\\t\\t\\t\\t\\t</div>\\n\\t\\t\\t\\t\\t\\t\\t\\t\\t\\t\\t</a>\\n\\t\\t\\t\\t\\t\\t\\t\\t\\t\\t</div>\\n\\t\\t\\t\\t\\t\\t\\t\\t\\t\\n\\t\\t\\t\\t\\t\\t\\t\\t\\t\\t<div class=\"popularPost-list\">\\n\\t\\t\\t\\t\\t\\t\\t\\t\\t\\t\\t<a href=\"/entry/MSSQL-%EC%82%AC%EC%9A%A9%EC%9E%90-%EA%B3%84%EC%A0%95-%EC%B6%94%EA%B0%80-%EB%B0%8F-%EA%B6%8C%ED%95%9C-%EB%B6%80%EC%97%AC-%EC%82%AC%EC%9A%A9%EC%9E%90-%EC%97%AD%ED%95%A0-%EB%A9%A4%EB%B2%84-%EC%9E%90%EA%B2%A9-%EC%A2%85%EB%A5%98\">\\n\\t\\t\\t\\t\\t\\t\\t\\t\\t\\t\\t\\t<div class=\"popularPost-info\">\\n\\t\\t\\t\\t\\t\\t\\t\\t\\t\\t\\t\\t\\t\\n\\t\\t\\t\\t\\t\\t\\t\\t\\t\\t\\t\\t\\t\\t<div class=\"left-pop\">\\n\\n\\t\\t\\t\\t\\t\\t\\t\\t\\t\\t\\t\\t\\t\\t\\t<img src=\"//i1.daumcdn.net/thumb/C50x50/?fname=https://img1.daumcdn.net/thumb/R750x0/?scode=mtistory2&fname=https%3A%2F%2Fblog.kakaocdn.net%2Fdn%2FVwAYc%2FbtrK47lAxkY%2FAdOMvEQ6p9sIJ3m3aKBqUK%2Fimg.png\" width=\"50\" height=\"50\" alt=\"thumbnail\" />\\n\\t\\t\\t\\t\\t\\t\\t\\t\\t\\t\\t\\t\\t\\t</div>\\n\\t\\t\\t\\t\\t\\t\\t\\t\\t\\t\\t\\t\\t\\n\\t\\t\\t\\t\\t\\t\\t\\t\\t\\t\\t\\t\\t<div class=\"right-pop\">\\n\\t\\t\\t\\t\\t\\t\\t\\t\\t\\t\\t\\t\\t\\t<div class=\"popular-right\">\\n\\t\\t\\t\\t\\t\\t\\t\\t\\t\\t\\t\\t\\t\\t\\t<span>[MSSQL] \\xec\\x82\\xac\\xec\\x9a\\xa9\\xec\\x9e\\x90 \\xea\\xb3\\x84\\xec\\xa0\\x95(SQL Server Authentication\\xe2\\x8b\\xaf</span>\\n\\t\\t\\t\\t\\t\\t\\t\\t\\t\\t\\t\\t\\t\\t</div>\\n\\t\\t\\t\\t\\t\\t\\t\\t\\t\\t\\t\\t\\t</div>\\n\\t\\t\\t\\t\\t\\t\\t\\t\\t\\t\\t\\t</div>\\n\\t\\t\\t\\t\\t\\t\\t\\t\\t\\t\\t</a>\\n\\t\\t\\t\\t\\t\\t\\t\\t\\t\\t</div>\\n\\t\\t\\t\\t\\t\\t\\t\\t\\t\\n\\t\\t\\t\\t\\t\\t\\t\\t\\t\\t<div class=\"popularPost-list\">\\n\\t\\t\\t\\t\\t\\t\\t\\t\\t\\t\\t<a href=\"/entry/MSSQL-%EB%8D%B0%EC%9D%B4%ED%84%B0%EB%B2%A0%EC%9D%B4%EC%8A%A4-%EB%B0%B1%EC%97%85-%EB%B3%B5%EA%B5%AC\">\\n\\t\\t\\t\\t\\t\\t\\t\\t\\t\\t\\t\\t<div class=\"popularPost-info\">\\n\\t\\t\\t\\t\\t\\t\\t\\t\\t\\t\\t\\t\\t\\n\\t\\t\\t\\t\\t\\t\\t\\t\\t\\t\\t\\t\\t\\t<div class=\"left-pop\">\\n\\n\\t\\t\\t\\t\\t\\t\\t\\t\\t\\t\\t\\t\\t\\t\\t<img src=\"//i1.daumcdn.net/thumb/C50x50/?fname=https://img1.daumcdn.net/thumb/R750x0/?scode=mtistory2&fname=https%3A%2F%2Fblog.kakaocdn.net%2Fdn%2FnHB0g%2FbtrlYMNH9pO%2Fm7lYRwpoY7W6gFcsNWsm6k%2Fimg.png\" width=\"50\" height=\"50\" alt=\"thumbnail\" />\\n\\t\\t\\t\\t\\t\\t\\t\\t\\t\\t\\t\\t\\t\\t</div>\\n\\t\\t\\t\\t\\t\\t\\t\\t\\t\\t\\t\\t\\t\\n\\t\\t\\t\\t\\t\\t\\t\\t\\t\\t\\t\\t\\t<div class=\"right-pop\">\\n\\t\\t\\t\\t\\t\\t\\t\\t\\t\\t\\t\\t\\t\\t<div class=\"popular-right\">\\n\\t\\t\\t\\t\\t\\t\\t\\t\\t\\t\\t\\t\\t\\t\\t<span>[MSSQL] \\xeb\\x8d\\xb0\\xec\\x9d\\xb4\\xed\\x84\\xb0\\xeb\\xb2\\xa0\\xec\\x9d\\xb4\\xec\\x8a\\xa4 \\xeb\\xb0\\xb1\\xec\\x97\\x85 &amp; \\xeb\\xb3\\xb5\\xea\\xb5\\xac (\\xeb\\x8b\\xa8\\xec\\x88\\x9c\\xed\\x9e\\x88 \\xeb\\xad\\x94\\xec\\xa7\\x80\\xeb\\xa7\\x8c \\xeb\\xb3\\xbc\\xeb\\x95\\x8c!)</span>\\n\\t\\t\\t\\t\\t\\t\\t\\t\\t\\t\\t\\t\\t\\t</div>\\n\\t\\t\\t\\t\\t\\t\\t\\t\\t\\t\\t\\t\\t</div>\\n\\t\\t\\t\\t\\t\\t\\t\\t\\t\\t\\t\\t</div>\\n\\t\\t\\t\\t\\t\\t\\t\\t\\t\\t\\t</a>\\n\\t\\t\\t\\t\\t\\t\\t\\t\\t\\t</div>\\n\\t\\t\\t\\t\\t\\t\\t\\t\\t\\n\\t\\t\\t\\t\\t\\t\\t\\t\\t\\t<div class=\"popularPost-list\">\\n\\t\\t\\t\\t\\t\\t\\t\\t\\t\\t\\t<a href=\"/entry/%EB%84%A4%ED%8A%B8%EC%9B%8C%ED%81%AC-%EB%B0%A9%ED%99%94%EB%B2%BDFirewall\">\\n\\t\\t\\t\\t\\t\\t\\t\\t\\t\\t\\t\\t<div class=\"popularPost-info\">\\n\\t\\t\\t\\t\\t\\t\\t\\t\\t\\t\\t\\t\\t\\n\\t\\t\\t\\t\\t\\t\\t\\t\\t\\t\\t\\t\\t\\t<div class=\"left-pop\">\\n\\n\\t\\t\\t\\t\\t\\t\\t\\t\\t\\t\\t\\t\\t\\t\\t<img src=\"//i1.daumcdn.net/thumb/C50x50/?fname=https://img1.daumcdn.net/thumb/R750x0/?scode=mtistory2&fname=https%3A%2F%2Fblog.kakaocdn.net%2Fdn%2FctNB7H%2FbtrqmIN3mLu%2FYKNKtxCM9HcgIigZLhUYj0%2Fimg.png\" width=\"50\" height=\"50\" alt=\"thumbnail\" />\\n\\t\\t\\t\\t\\t\\t\\t\\t\\t\\t\\t\\t\\t\\t</div>\\n\\t\\t\\t\\t\\t\\t\\t\\t\\t\\t\\t\\t\\t\\n\\t\\t\\t\\t\\t\\t\\t\\t\\t\\t\\t\\t\\t<div class=\"right-pop\">\\n\\t\\t\\t\\t\\t\\t\\t\\t\\t\\t\\t\\t\\t\\t<div class=\"popular-right\">\\n\\t\\t\\t\\t\\t\\t\\t\\t\\t\\t\\t\\t\\t\\t\\t<span>[\\xeb\\x84\\xa4\\xed\\x8a\\xb8\\xec\\x9b\\x8c\\xed\\x81\\xac] \\xeb\\xb0\\xa9\\xed\\x99\\x94\\xeb\\xb2\\xbd(Firewall) (1) - \\xea\\xb0\\x9c\\xeb\\x85\\x90, \\xea\\xb8\\xb0\\xeb\\x8a\\xa5, \\xeb\\x8f\\x99\\xec\\x9e\\x91\\xeb\\xb0\\xa9\\xec\\x8b\\x9d</span>\\n\\t\\t\\t\\t\\t\\t\\t\\t\\t\\t\\t\\t\\t\\t</div>\\n\\t\\t\\t\\t\\t\\t\\t\\t\\t\\t\\t\\t\\t</div>\\n\\t\\t\\t\\t\\t\\t\\t\\t\\t\\t\\t\\t</div>\\n\\t\\t\\t\\t\\t\\t\\t\\t\\t\\t\\t</a>\\n\\t\\t\\t\\t\\t\\t\\t\\t\\t\\t</div>\\n\\t\\t\\t\\t\\t\\t\\t\\t\\t\\n\\t\\t\\t\\t\\t\\t\\t\\t\\t\\t<div class=\"popularPost-list\">\\n\\t\\t\\t\\t\\t\\t\\t\\t\\t\\t\\t<a href=\"/entry/Windows-ADActive-Directory%EC%9D%98-%EA%B0%9C%EB%85%90-%EB%B0%8F-%ED%99%9C%EC%9A%A9\">\\n\\t\\t\\t\\t\\t\\t\\t\\t\\t\\t\\t\\t<div class=\"popularPost-info\">\\n\\t\\t\\t\\t\\t\\t\\t\\t\\t\\t\\t\\t\\t\\n\\t\\t\\t\\t\\t\\t\\t\\t\\t\\t\\t\\t\\t\\t<div class=\"left-pop\">\\n\\n\\t\\t\\t\\t\\t\\t\\t\\t\\t\\t\\t\\t\\t\\t\\t<img src=\"//i1.daumcdn.net/thumb/C50x50/?fname=https://img1.daumcdn.net/thumb/R750x0/?scode=mtistory2&fname=https%3A%2F%2Fblog.kakaocdn.net%2Fdn%2FbOFsGz%2FbtrrcuCogvx%2F8qIFGftxVtZDQw0l64WubK%2Fimg.png\" width=\"50\" height=\"50\" alt=\"thumbnail\" />\\n\\t\\t\\t\\t\\t\\t\\t\\t\\t\\t\\t\\t\\t\\t</div>\\n\\t\\t\\t\\t\\t\\t\\t\\t\\t\\t\\t\\t\\t\\n\\t\\t\\t\\t\\t\\t\\t\\t\\t\\t\\t\\t\\t<div class=\"right-pop\">\\n\\t\\t\\t\\t\\t\\t\\t\\t\\t\\t\\t\\t\\t\\t<div class=\"popular-right\">\\n\\t\\t\\t\\t\\t\\t\\t\\t\\t\\t\\t\\t\\t\\t\\t<span>[Windows] AD (1) - AD(Active Directory)\\xec\\x9d\\x98\\xe2\\x8b\\xaf</span>\\n\\t\\t\\t\\t\\t\\t\\t\\t\\t\\t\\t\\t\\t\\t</div>\\n\\t\\t\\t\\t\\t\\t\\t\\t\\t\\t\\t\\t\\t</div>\\n\\t\\t\\t\\t\\t\\t\\t\\t\\t\\t\\t\\t</div>\\n\\t\\t\\t\\t\\t\\t\\t\\t\\t\\t\\t</a>\\n\\t\\t\\t\\t\\t\\t\\t\\t\\t\\t</div>\\n\\t\\t\\t\\t\\t\\t\\t\\t\\t\\n\\t\\t\\t\\t\\t\\t\\t\\t\\t\\t<div class=\"popularPost-list\">\\n\\t\\t\\t\\t\\t\\t\\t\\t\\t\\t\\t<a href=\"/entry/%EB%84%A4%ED%8A%B8%EC%9B%8C%ED%81%AC-%EB%A1%9C%EB%93%9C%EB%B0%B8%EB%9F%B0%EC%8B%B1\">\\n\\t\\t\\t\\t\\t\\t\\t\\t\\t\\t\\t\\t<div class=\"popularPost-info\">\\n\\t\\t\\t\\t\\t\\t\\t\\t\\t\\t\\t\\t\\t\\n\\t\\t\\t\\t\\t\\t\\t\\t\\t\\t\\t\\t\\t\\t<div class=\"left-pop\">\\n\\n\\t\\t\\t\\t\\t\\t\\t\\t\\t\\t\\t\\t\\t\\t\\t<img src=\"//i1.daumcdn.net/thumb/C50x50/?fname=https://img1.daumcdn.net/thumb/R750x0/?scode=mtistory2&fname=https%3A%2F%2Fblog.kakaocdn.net%2Fdn%2Fbx0V6M%2FbtrpMjf4yLq%2FZDDhPdTMsYaGkF3s95wAK1%2Fimg.png\" width=\"50\" height=\"50\" alt=\"thumbnail\" />\\n\\t\\t\\t\\t\\t\\t\\t\\t\\t\\t\\t\\t\\t\\t</div>\\n\\t\\t\\t\\t\\t\\t\\t\\t\\t\\t\\t\\t\\t\\n\\t\\t\\t\\t\\t\\t\\t\\t\\t\\t\\t\\t\\t<div class=\"right-pop\">\\n\\t\\t\\t\\t\\t\\t\\t\\t\\t\\t\\t\\t\\t\\t<div class=\"popular-right\">\\n\\t\\t\\t\\t\\t\\t\\t\\t\\t\\t\\t\\t\\t\\t\\t<span>[\\xeb\\x84\\xa4\\xed\\x8a\\xb8\\xec\\x9b\\x8c\\xed\\x81\\xac] \\xeb\\xa1\\x9c\\xeb\\x93\\x9c\\xeb\\xb0\\xb8\\xeb\\x9f\\xb0\\xec\\x8b\\xb1\\xec\\x9d\\x98 \\xea\\xb0\\x9c\\xeb\\x85\\x90 \\xeb\\xb0\\x8f \\xea\\xb8\\xb0\\xeb\\xb2\\x95 \\xec\\x84\\xa4\\xeb\\xaa\\x85</span>\\n\\t\\t\\t\\t\\t\\t\\t\\t\\t\\t\\t\\t\\t\\t</div>\\n\\t\\t\\t\\t\\t\\t\\t\\t\\t\\t\\t\\t\\t</div>\\n\\t\\t\\t\\t\\t\\t\\t\\t\\t\\t\\t\\t</div>\\n\\t\\t\\t\\t\\t\\t\\t\\t\\t\\t\\t</a>\\n\\t\\t\\t\\t\\t\\t\\t\\t\\t\\t</div>\\n\\t\\t\\t\\t\\t\\t\\t\\t\\t\\n\\n\\t\\t\\t\\t\\t\\t\\t\\t</div>\\n\\t\\t\\t\\t\\t\\t\\t\\n\\t\\t\\t\\t\\t</div>\\n\\t\\t\\t\\t\\t<!-- } sidebar -->\\n\\n\\t\\t\\t\\t</div>\\n\\n\\t\\t\\t\\t<!-- // aside -->\\n\\t\\t\\t</div>\\n\\n\\t\\t\\t<!-- \\xec\\xa0\\x80\\xec\\x9e\\x91\\xec\\x9e\\x90 \\xeb\\xaa\\x85\\xec\\x8b\\x9c \\xec\\x88\\x98\\xec\\xa0\\x95 \\xea\\xb8\\x88\\xec\\xa7\\x80  -->\\n\\t\\t\\t<footer id=\"footer\">\\n\\t\\t\\t\\t<span class=\"fleft\">\\n\\t\\t\\t\\t\\t<a href=\"https://privatenote.tistory.com\">Powered by Privatenote</a>\\n\\t\\t\\t\\t</span> Copyright \\xc2\\xa9 <a href=\"https://co-no.tistory.com/\">\\xec\\xbd\\x94\\xeb\\x94\\xa9\\xed\\x95\\x98\\xeb\\x8a\\x94 \\xec\\xa3\\xbc\\xeb\\x85\\xb8 \\xec\\x9d\\xb4\\xec\\x95\\xbc\\xea\\xb8\\xb0</a> All rights reserved.\\n\\t\\t\\t\\t<!---->\\n\\t\\t\\t\\t<span class=\"sr-only\">TistoryWhaleSkin3.4</span>\\n\\t\\t\\t</footer>\\n\\n\\t\\t\\t<div id=\"mobile-arrow\">\\n\\t\\t\\t\\t<span id=\"btn_scroll_up\"><i class=\"fas fa-arrow-circle-up\"></i></span>\\n\\t\\t\\t\\t<span id=\"btn_scroll_down\"><i class=\"fas fa-arrow-circle-down\"></i></span>\\n\\t\\t\\t</div>\\n\\n\\t\\t</div>\\n\\n\\t\\t<script>\\n\\n\\n\\t\\t\\t/* \\xeb\\xaa\\xa8\\xeb\\xb0\\x94\\xec\\x9d\\xbc \\xec\\x8a\\xa4\\xed\\x81\\xac\\xeb\\xa1\\xa4 */\\n\\t\\t\\t$(\\'#btn_scroll_up\\').click(function() {\\n\\t\\t\\t\\t$(document).scrollTop($(\\'body\\').offset().top);\\n\\t\\t\\t});\\n\\n\\t\\t\\t$(\\'#btn_scroll_down\\').click(function() {\\n\\t\\t\\t\\tif ($(\".sidebar-mobile-off\").length >= 1) {\\n\\t\\t\\t\\t\\t$(document).scrollTop($(document).height());\\n\\t\\t\\t\\t} else {\\n\\t\\t\\t\\t\\t$(document).scrollTop($(\\'#sidebar\\').offset().top);\\n\\t\\t\\t\\t}\\n\\t\\t\\t});\\n\\n\\t\\t\\t/* \\xec\\xb9\\xb4\\xed\\x85\\x8c\\xea\\xb3\\xa0\\xeb\\xa6\\xac \\xeb\\xb2\\x88\\xed\\x98\\xb8 */\\n\\t\\t\\tvar sc = $(\"#sidebar .c_cnt\");\\n\\t\\t\\tsc.length > 0 && sc.each(function() {\\n\\t\\t\\t\\t$(this).html($(this).html().replace(/[()]/g, \"\"))\\n\\t\\t\\t})\\n\\n\\t\\t\\t/* \\xeb\\x8c\\x93\\xea\\xb8\\x80 */\\n\\t\\t\\t$(document).on(\\'click\\', \\'.cmtbtn\\', function(e) {\\n\\t\\t\\t\\t$(this).parent().children(\\'.cmt_dropdown\\').fadeToggle(\"middle\");\\n\\t\\t\\t\\tif ($(this).parent().children(\\'.cmt_dropdown\\').hasClass(\"active\")) {\\n\\t\\t\\t\\t\\t$(this).parent().children(\\'.cmt_dropdown\\').removeClass(\"active\");\\n\\t\\t\\t\\t} else {\\n\\t\\t\\t\\t\\t$(this).parent().children(\\'.cmt_dropdown\\').addClass(\"active\");\\n\\t\\t\\t\\t}\\n\\t\\t\\t});\\n\\t\\t\\t$(document).on(\\'click\\', \\'.cmt_dropdown li a\\', function(e) {\\n\\t\\t\\t\\t$(this).parent().parent().fadeToggle(\"middle\");\\n\\t\\t\\t});\\n\\n\\t\\t\\t/* \\xeb\\xa9\\x94\\xeb\\x89\\xb4  */\\n\\n\\t\\t\\t$(\".btn_topMenu\").on(\\'click\\', function() {\\n\\t\\t\\t\\t$(\"#myDropdown\").fadeToggle(\\'middle\\');\\n\\t\\t\\t\\tif ($(window).width() <= 930) {\\n\\t\\t\\t\\t\\t$(\"#tt-search\").attr(\"style\", \"display:block !important\");\\n\\t\\t\\t\\t}\\n\\t\\t\\t\\tif ($(\"#myDropdwon\").hasClass(\"active\")) {\\n\\t\\t\\t\\t\\t$(\"#myDropdown\").removeClass(\"active\");\\n\\t\\t\\t\\t} else {\\n\\t\\t\\t\\t\\t$(\"#myDropdown\").addClass(\"active\");\\n\\t\\t\\t\\t}\\n\\t\\t\\t});\\n\\n\\t\\t\\t$(\\'body\\').on(\\'click\\', function(e) {\\n\\t\\t\\t\\t$(\\'.cmt_dropdown\\').each(function() {\\n\\t\\t\\t\\t\\tif ($(this).hasClass(\"active\")) {\\n\\t\\t\\t\\t\\t\\t$(this).removeClass(\"active\");\\n\\t\\t\\t\\t\\t\\t$(this).fadeOut();\\n\\t\\t\\t\\t\\t}\\n\\t\\t\\t\\t});\\n\\t\\t\\t});\\n\\n\\t\\t\\t$(\\'.closeBtn\\').click(function() {\\n\\t\\t\\t\\t$(\\'#myDropdown\\').fadeOut();\\n\\t\\t\\t\\tif ($(window).width() <= 930) {\\n\\t\\t\\t\\t\\t$(\"#tt-search\").css(\"display\", \"none\");\\n\\t\\t\\t\\t}\\n\\t\\t\\t});\\n\\t\\t\\t$(window).resize(function() { \\n\\t\\t\\t\\tif($(window).width() > 930) {\\n\\n\\t\\t\\t\\t} \\n\\t\\t\\t});\\n\\t\\t\\t/* \\xec\\x82\\xac\\xec\\x9d\\xb4\\xeb\\x93\\x9c\\xeb\\xb0\\x94 \\xed\\x83\\xad \\xeb\\xb6\\x84\\xeb\\xa5\\x98 */\\n\\t\\t\\t$(\"#recent-tab li\").click(function() {\\n\\t\\t\\t\\t$(\"#recent-tab > li\").removeClass(\"active\");\\n\\t\\t\\t\\t$(this).addClass(\"active\");\\n\\t\\t\\t\\t$(\".tab-content .tab-pane\").removeClass(\"active\");\\n\\t\\t\\t\\t$($(this).attr(\"id\")).addClass(\"active\");\\n\\t\\t\\t});\\n\\n\\n\\t\\t\\t/* \\xeb\\xb3\\xb5\\xec\\x82\\xac \\xeb\\xb0\\xa9\\xec\\xa7\\x80, \\xea\\xb0\\x9c\\xeb\\xb0\\x9c\\xec\\x9e\\x90 \\xeb\\x8f\\x84\\xea\\xb5\\xac \\xeb\\xb0\\xa9\\xec\\xa7\\x80 */\\n\\t\\t\\t$(document).keydown(function(event) {\\n\\t\\t\\t\\tif (event.keyCode == 123) { // Prevent F12\\n\\t\\t\\t\\t\\treturn false;\\n\\t\\t\\t\\t} else if (event.ctrlKey && event.shiftKey && event.keyCode == 73) { // Prevent Ctrl+Shift+I        \\n\\t\\t\\t\\t\\treturn false;\\n\\t\\t\\t\\t} else if (event.ctrlKey &&\\n\\t\\t\\t\\t\\t\\t\\t\\t\\t (event.keyCode === 67 ||\\n\\t\\t\\t\\t\\t\\t\\t\\t\\t\\tevent.keyCode === 86 ||\\n\\t\\t\\t\\t\\t\\t\\t\\t\\t\\tevent.keyCode === 85 ||\\n\\t\\t\\t\\t\\t\\t\\t\\t\\t\\tevent.keyCode === 117)) {\\n\\t\\t\\t\\t\\treturn false;\\n\\t\\t\\t\\t}\\n\\t\\t\\t});\\n\\t\\t</script>\\n\\n\\t\\t<script>\\n\\t\\t$(document).ready(function () {\\n\\t\\t\\t$(\\'pre[id^=\"code\"]\\').each(function (index, e) {\\n\\t\\t\\t\\tlet button = document.createElement(\\'button\\');\\n\\t\\t\\t\\tbutton.innerText = \"Copy\";\\n\\t\\t\\t\\tbutton.className = \\'copy-button\\';\\n\\t\\t\\t\\tbutton.style.cursor = \\'pointer\\';\\n\\t\\t\\t\\tbutton.setAttribute(\\'data-clipboard-text\\', e.innerText);\\n\\t\\t\\t\\tbutton.addEventListener(\\'mouseleave\\', function(event) {\\n\\t\\t\\t\\t\\tevent.currentTarget.setAttribute(\\'class\\', \\'copy-button\\');\\n\\t\\t\\t\\t\\tevent.currentTarget.removeAttribute(\\'copy-message\\');\\n\\t\\t\\t\\t});\\n\\t\\t\\t\\te.appendChild(button);\\n\\t\\t\\t});\\n \\n\\t\\t\\tvar clipboard = new ClipboardJS(\\'.copy-button\\');\\n\\t\\t\\tclipboard.on(\\'success\\', function (e) {\\n  \\t\\t\\te.clearSelection();\\n\\t\\t\\t\\te.trigger.setAttribute(\\'class\\', \\'copy-button copy-message\\');\\n\\t\\t\\t\\te.trigger.setAttribute(\\'copy-message\\', \\'\\xeb\\xb3\\xb5\\xec\\x82\\xac\\xec\\x99\\x84\\xeb\\xa3\\x8c!\\');\\n\\t\\t\\t});\\n\\t\\t});\\n\\t\\t/script>\\t\\n\\n\\t<div class=\"#menubar menu_toolbar \">\\n  <h2 class=\"screen_out\">\\xed\\x8b\\xb0\\xec\\x8a\\xa4\\xed\\x86\\xa0\\xeb\\xa6\\xac\\xed\\x88\\xb4\\xeb\\xb0\\x94</h2>\\n</div>\\n<div class=\"#menubar menu_toolbar \"></div>\\n<div class=\"layer_tooltip\">\\n  <div class=\"inner_layer_tooltip\">\\n    <p class=\"desc_g\"></p>\\n  </div>\\n</div>\\n<iframe id=\"editEntry\" style=\"position:absolute;width:1px;height:1px;left:-100px;top:-100px\" src=\"//co-no.tistory.com/api\"></iframe>\\n\\n                <!-- DragSearchHandler - START -->\\n<script src=\"//search1.daumcdn.net/search/statics/common/js/g/search_dragselection.min.js\"></script>\\n\\n<!-- DragSearchHandler - END -->\\n\\n        <!-- SyntaxHighlight - START -->\\n        <link href=\"//cdnjs.cloudflare.com/ajax/libs/highlight.js/10.7.3/styles/atom-one-dark-reasonable.min.css\" rel=\"stylesheet\"/><script src=\"//cdnjs.cloudflare.com/ajax/libs/highlight.js/10.7.3/highlight.min.js\"></script>\\n<script src=\"//cdnjs.cloudflare.com/ajax/libs/highlight.js/10.7.3/languages/delphi.min.js\"></script>\\n<script src=\"//cdnjs.cloudflare.com/ajax/libs/highlight.js/10.7.3/languages/php.min.js\"></script>\\n<script src=\"//cdnjs.cloudflare.com/ajax/libs/highlight.js/10.7.3/languages/python.min.js\"></script>\\n<script src=\"//cdnjs.cloudflare.com/ajax/libs/highlight.js/10.7.3/languages/r.min.js\" defer></script>\\n<script src=\"//cdnjs.cloudflare.com/ajax/libs/highlight.js/10.7.3/languages/ruby.min.js\"></script>\\n<script src=\"//cdnjs.cloudflare.com/ajax/libs/highlight.js/10.7.3/languages/scala.min.js\" defer></script>\\n<script src=\"//cdnjs.cloudflare.com/ajax/libs/highlight.js/10.7.3/languages/shell.min.js\"></script>\\n<script src=\"//cdnjs.cloudflare.com/ajax/libs/highlight.js/10.7.3/languages/sql.min.js\"></script>\\n<script src=\"//cdnjs.cloudflare.com/ajax/libs/highlight.js/10.7.3/languages/swift.min.js\" defer></script>\\n<script src=\"//cdnjs.cloudflare.com/ajax/libs/highlight.js/10.7.3/languages/typescript.min.js\" defer></script>\\n<script src=\"//cdnjs.cloudflare.com/ajax/libs/highlight.js/10.7.3/languages/vbnet.min.js\" defer></script>\\n  <script>hljs.initHighlightingOnLoad();</script>\\n\\n\\n        <!-- SyntaxHighlight - END -->\\n\\n                \\n                <script type=\"text/javascript\">(function($) {\\n    $(document).ready(function() {\\n        lightbox.options.fadeDuration = 200;\\n        lightbox.options.resizeDuration = 200;\\n        lightbox.options.wrapAround = false;\\n        lightbox.options.albumLabel = \"%1 / %2\";\\n    })\\n})(tjQuery);</script>\\n<div style=\"margin:0; padding:0; border:none; background:none; float:none; clear:none; z-index:0\"></div>\\n<script type=\"text/javascript\" src=\"https://tistory1.daumcdn.net/tistory_admin/userblog/tistory-9ab75860115d542cdd0537954f140d2cb94c6cd3/static/script/common.js\"></script>\\n<script type=\"text/javascript\">window.roosevelt_params_queue = window.roosevelt_params_queue || [{channel_id: \\'dk\\', channel_label: \\'{tistory}\\'}]</script>\\n<script type=\"text/javascript\" src=\"//t1.daumcdn.net/midas/rt/dk_bt/roosevelt_dk_bt.js\" async=\"async\"></script>\\n<script type=\"text/javascript\" src=\"https://tistory1.daumcdn.net/tistory_admin/userblog/tistory-9ab75860115d542cdd0537954f140d2cb94c6cd3/static/script/menubar.min.js\"></script>\\n\\n                \\n                <script>window.tiara = {\"svcDomain\":\"user.tistory.com\",\"section\":\"\\xea\\xb8\\x80\\xeb\\xb7\\xb0\",\"trackPage\":\"\\xea\\xb8\\x80\\xeb\\xb7\\xb0_\\xeb\\xb3\\xb4\\xea\\xb8\\xb0\",\"page\":\"\\xea\\xb8\\x80\\xeb\\xb7\\xb0\",\"key\":\"5011151-111\",\"customProps\":{\"userId\":\"0\",\"blogId\":\"5011151\",\"entryId\":\"111\",\"role\":\"guest\",\"trackPage\":\"\\xea\\xb8\\x80\\xeb\\xb7\\xb0_\\xeb\\xb3\\xb4\\xea\\xb8\\xb0\",\"filterTarget\":false},\"entry\":{\"entryId\":\"111\",\"categoryName\":\"OS/Linux\",\"categoryId\":\"1220632\",\"author\":\"5116098\",\"image\":\"\",\"plink\":\"/entry/Linux-%EC%A0%95%EA%B7%9C%ED%91%9C%ED%98%84%EC%8B%9DRegex%EC%9D%98-%EA%B0%9C%EB%85%90%EA%B3%BC-%EA%B8%B0%EC%B4%88-%EB%AC%B8%EB%B2%95\",\"tags\":[\"Regex Lookahead\",\"Regex Lookbehind\",\"Regex \\xea\\xb7\\xb8\\xeb\\xa3\\xb9\",\"Regex \\xeb\\xa9\\x94\\xed\\x83\\x80\\xeb\\xac\\xb8\\xec\\x9e\\x90\",\"\\xec\\xa0\\x95\\xea\\xb7\\x9c\\xec\\x8b\\x9d \\xeb\\xa9\\x94\\xed\\x83\\x80\\xeb\\xac\\xb8\\xec\\x9e\\x90\",\"\\xec\\xa0\\x95\\xea\\xb7\\x9c\\xec\\x8b\\x9d \\xeb\\xb6\\x80\\xec\\xa0\\x95\\xed\\x98\\x95\",\"\\xec\\xa0\\x95\\xea\\xb7\\x9c\\xec\\x8b\\x9d \\xec\\x88\\x98\\xeb\\x9f\\x89\\xed\\x95\\x9c\\xec\\xa0\\x95\\xec\\x9e\\x90\",\"\\xec\\xa0\\x95\\xea\\xb7\\x9c\\xec\\x8b\\x9d \\xec\\xa0\\x84\\xed\\x9b\\x84\\xeb\\xb0\\xa9\\xed\\x83\\x90\\xec\\x83\\x89\"]},\"kakaoAppKey\":\"3e6ddd834b023f24221217e370daed18\",\"appUserId\":\"null\"}</script>\\n<script type=\"module\" src=\"https://t1.daumcdn.net/tistory_admin/frontend/tiara/v1.0.0/index.js\"></script>\\n<script src=\"https://t1.daumcdn.net/tistory_admin/frontend/tiara/v1.0.0/polyfills-legacy.min.js\" nomodule=\"true\" defer=\"true\"></script>\\n<script src=\"https://t1.daumcdn.net/tistory_admin/frontend/tiara/v1.0.0/index-legacy.js\" nomodule=\"true\" defer=\"true\"></script>\\n\\n                </body>\\n\\n</html>'"
      ]
     },
     "execution_count": 181,
     "metadata": {},
     "output_type": "execute_result"
    }
   ],
   "source": [
    "url = 'https://co-no.tistory.com/entry/Linux-%EC%A0%95%EA%B7%9C%ED%91%9C%ED%98%84%EC%8B%9DRegex%EC%9D%98-%EA%B0%9C%EB%85%90%EA%B3%BC-%EA%B8%B0%EC%B4%88-%EB%AC%B8%EB%B2%95'\n",
    "text = requests.get(url).content\n",
    "text"
   ]
  },
  {
   "cell_type": "code",
   "execution_count": 180,
   "metadata": {},
   "outputs": [
    {
     "data": {
      "text/plain": [
       "'\\n\\n\\n\\n\\n\\n\\n\\n\\n\\n\\n\\n\\n\\n\\n\\n\\n\\n\\n\\n\\n\\n\\n\\n\\n\\n\\n\\n\\n\\n\\n\\n\\n\\n\\n\\n\\n\\n\\n\\n\\n\\n\\n\\n\\n\\n\\n\\n\\n\\n\\n\\n\\n\\n\\n\\n\\n\\n\\n\\n\\n\\n\\n\\n정규표현식(Regex)의 개념과 기초 문법 - 코딩하는 주노 이야기\\n\\n\\n\\n\\n\\n\\n\\n\\n\\n\\n\\n\\n\\n\\n\\n\\n\\n\\n\\n\\n\\n\\n\\n\\n\\n\\n\\n\\n\\n\\n\\n\\n\\n\\n\\n코딩하는 주노 이야기\\n\\n\\n\\n홈\\n코딩 이야기\\n\\n\\n\\n\\n\\n 코딩 이야기 (115) \\n DB (32) \\n SQL Server (MSSQL) (24) \\n MongoDB (2) \\n Hadoop Ecosystem (0) \\n SQLP 공부 (2) \\n\\n\\n 데이터 엔지니어링 (0) \\n Spark (0) \\n\\n\\n Middleware (21) \\n 웹서버 (7) \\n WAS (6) \\n WSGI (3) \\n 기타 (5) \\n\\n\\n OS (9) \\n Linux (6) \\n Windows (3) \\n\\n\\n Network (8) \\n Cloud (1) \\n AWS (1) \\n\\n\\n DevOps (6) \\n Github (2) \\n Ansible (1) \\n Terraform (3) \\n\\n\\n Security (3) \\n Observability (5) \\n CS 지식 | 기초 용어,개념 (7) \\n Python (1) \\n Flask (0) \\n\\n\\n Java (7) \\n JPA (0) \\n\\n\\n 안드로이드 (1) \\n 알고리즘 공부 (14) \\n\\n\\n\\n\\n글작성\\n방명록\\n환경설정\\n메뉴 닫기\\n\\n\\n\\n\\n\\n\\n\\n\\n\\n\\n\\n\\n\\n\\n\\n\\n\\n\\n정규표현식(Regex)의 개념과 기초 문법\\n\\n\\n\\nOS/Linux\\n / \\n\\t\\t\\t\\t\\t\\t\\t코_노 / \\n\\n\\t\\t\\t\\t\\t\\t\\t2022. 8. 23. 10:49\\n\\n\\n\\n\\n\\n\\n정규표현식이란?\\n: Regular Expression을 줄여서 Regex, Regexp 등으로 불린다. Computer Science의 정규 언어(Regular Language)로부터 유래한 것으로, 특정한 규칙을 가진 문자열의 집합을 표현하기 위해 쓰이는 *형식 언어이다.\\n\\xa0\\n=> 어떤 텍스트 내에서 \\'특정한 형태나 규칙을 가진 문자열\\' 을 찾기 위해 그 형태나 규칙을 나타내는 패턴을 정의하는 식.\\n\\xa0\\n\\xa0\\n*형식 언어(Formal Language) : 수학, 컴퓨터 과학, 언어학에서 쓰는 말로, 특정한 법칙들에 따라 적절하게 구성된 문자열들의 집합을 말한다.\\n\\n정규 표현식의 종류 (역사까지?)\\n\\xa0정규표현식은 다양한 분야에서 쓰이기 시작했는데, 각 분야의 정규식은 서로 영향을 주고 받으면서 발전했고, 그게 지금의 정규표현식을 만들게 되었다. 여기서 문제는 이러한 정규 표현식에 통일된 표준이 없다는 것이다.\\n(아니... 이름부터 정규 표현식은데 Regular 한 표준이 없다고...?)\\n\\xa0\\n\\xa0UNIX 시스템의 명령줄 도구들에서 사용하던 정규표현식은 이후에 *POSIX 표준에 편입되었다. 이 시기의 표준으로 받아들여진 형식을 POSIX 정규식이라고 한다.\\n\\xa0이후, 다시 POSIX 정규식은 POSIX BRE (Basic Regular Expression)와 POSIX ERE (Extended Regular Expression)으로 나뉘게 된다. (grep -e 스위치를 사용하여 확장 정규식을 쓰게 되는데 이러한 확장 정규식이 ERE를 의미한다.)\\xa0\\n\\xa0그 외에 BRE를 기본 골격으로 한 vim 정규식이 있는데, 이는 vim 에디터 내에서 찾기 또는 바꾸기 등의 동작에서 범위를 지정하는 데에 사용된다. BRE에서 시작됐지만, 오랜 역사를 따라 개선과 확장을 거듭하면서 POSIX 표준과는 조금 다른 규격으로 취급될 정도로 차이가 있다.\\n\\xa0이후 문자열을 다루는 데에 특화된 스크립트 언어인 펄(Perl)이 등장했는데, 펄의 정규식 체계 역시 기본 골격은 POSIX BRE를 따르나, 이후 엄청나게 많은 확장이 진행되면서 펄의 정규식은 별도로 PCRE 라는 규격으로 정리되었다. 이후의 많은 프로그래밍 언어들이 이 규격을 차용하거나 계승하는데, 이 역시도 \"일부 차용\" 이기 때문에, 완전히 PCRE를 계승한다고 볼 수 없다.\\n(그니까... 어떤 정규식을 사용하는 지에 따라 표현 방법이 다 다를 수 있으니까, 내가 쓰려고 하는 언어나 커맨드에서 어떤 정규식- 버전이 사용되는 지 정확히 찾아봐야 한다는거네...)\\n\\xa0\\n\\xa0\\n*POSIX(포직스, Portable Operating System Interface) 표준 : 서로 다른 UNIX OS의 공통\\xa0 API를 정리하여, 이식성이 높은 유닉스 응용 프로그램을 개발하기 위한 목적으로 IEEE가 책정한 표준 애플리케이션 인터페이스 규격.\\xa0\\n\\n정규표현식 기본 문법\\n정규 표현식의 기본 문법은 크게 다음과 같이 3가지로 나눌 수 있다.\\n\\n패턴 그대로를 매칭하는 경우 : 편집기에서 \\'찾기\\' 기능을 통해 특정 단어를 찾는 것처럼, 단어 그대로를 패턴으로 사용하여 매칭되는 영역을 찾는 방법.\\n메타문자 및 수량 한정자를 사용하는 경우 : 정규식 패턴에 쓰이는 문자 중에는 특별한 의미를 지니는 메타 문자들이 있는데, 이러한 메타문자와 그 메타문자의 개수를 지정(수량 한정자의 역할)하여 폭넓은 패턴을 매칭하는 방법.\\n그룹 및 Look around(전,후방 탐색) 기능을 사용하는 경우 : 제법 고급 정규식이라 할 수 있는 문법으로, 패턴의 일부를 그룹으로 묶거나, 특정 패턴의 앞 또는 뒤로 다른 패턴이 오는 조건을 더하는 경우(Look around 활용)를 말한다.\\n\\n\\n우선, 정규 표현식의 가장 기본이 되는 메타 문자에 대해서 알아보도록 하자!\\n\\xa0\\n정규표현식 메타 문자\\n: 메타 문자는 특정한 문자 혹은 문자 계열을 대신하여 표시하는 문자로, 메타 문자를 이용하면 특정한 규칙을 가진 여러 단어를 하나의 패턴으로 함축할 수 있다.참고로 메타문자에서 대소문자는 서로 반대되는 의미를 지니는 경우가 많다!\\n\\n\\xa0^ : 문자열의 시작을 표현.ex) ^http : 문자열이 \\'http\\'로 시작하는 경우에만 매칭. 문자열 중간에 나타나는 http(\\'ahttps\\' -> 매칭X)에는 매칭하지 않음.* [ ... ] 대괄호 안에서 쓰이는 경우라면, ^ 뒤에 오는 문자열 패턴과 일치하지 않는 것을 매칭한다.ex) ab[^0-9] : \\'ab\\' 뒤에 숫자가 아닌 것이 오는 것만 매칭. (abc -> 매칭O / ab1 -> 매칭X)\\n\\xa0$\\xa0 : 문자열의 끝을 표현.ex) tem$ : 문자열이 \\'tem\\'으로 끝난 경우에만 매칭 (\\'item\\' -> 매칭O / \\'contemporary\\' -> 매칭X)\\n\\xa0\\\\b : 문자와 공백 사이를 표현. 문자열의 시작, 끝, 개행, 탭, 콤마(\\',\\'), 구두점(\\'.\\'), 대시(\\'-\\') 등이 해당된다.ex) \\\\bplay\\\\b : 단어 경계로 구분되는 \\'play\\'에는 매칭. (\\'I play the game on the playground\\' 에서 \\'play\\'를 매칭O / \\'playground\\' 는 매칭X)\\xa0\\n\\xa0\\\\B : \\\\b 가 아닌것.\\xa0ex) play\\\\B : \\'play\\' 뒤에 단어의 경계가 아닌 것이 올때, 즉 문자열의 연속이 되는 패턴만 매칭.(\\'I play the game on the playground\\' 에서 \\'playground\\' 를 매칭O / \\'play\\'는 매칭X, 이때 \\'playground\\'를 매칭한다고 해서 \\'playground\\' 전체를 의미하는 것이 아닌, \\'playground\\' 안의 \\'play\\' 만을 찾아낸다.)\\n\\xa0\\\\s : 모든 White-space (공백) 문자에 매칭. [\\\\t\\\\n\\\\r\\\\f\\\\v] 와 동일한 의미.ex)\\xa0\\n\\xa0\\\\S : White-space (공백) 문자를 제외한 모든 문자에 매칭.\\xa0\\n\\xa0\\\\d : 모든 숫자를 매칭. [0-9] 와 동일한 의미.\\n\\xa0\\\\D : 숫자가 아닌 모든 문자를 매칭. [^0-9] 와 동일한 의미.\\n\\xa0\\\\w : 단어를 만들 수 있는 문자를 매칭. 알파벳 대소문자, 숫자, 언더스코어를 포함. [A-Za-z0-9_] 와 동일한 의미.\\n\\xa0\\\\W : \\\\w에 포함되지 않는 모든 문자를 매칭.\\n\\xa0\\\\n : LF(Line Feed)를 의미. 즉, 엔터(개행문자)를 의미.참고로 \\\\r 은 CR(Carriage Return)을 의미하는데, UNIX 에서 엔터의 의미를 LF 하나만 쓰는 것으로 보고, Windows에서는 CRLF를 함께 쓰는 것이 엔터를 의미한다. 현대에 와서는 에디터가 알아서 둘다 같이 엔터로 해석시켜 주므로, 엔터를 표현하려고 한다면 그냥 \\\\n 만 사용해도 무방하다.\\xa0\\n\\xa0\\\\ : 이스케이프용 문자. 정규식 상의 특별한 의미를 가지는 문자들을 해당 문자 그대로 사용하고자 할 때 사용하는 문자이다.ex) \\\\^ : \\'^\\' 문자 그대로를 의미.\\n\\xa0. : 모든 문자 1개를 매칭. 이때 공백 한칸도 문자 1개로 취급됨.\\n\\n선택 패턴\\n\\n\\xa0| (Vertical Bar, Pipe)\\xa0: OR의 의미.\\xa0ex) tomato | potato : \\'tomato\\'라는 패턴 또는 \\'potato\\'라는 패턴과 일치하는 모든 것들을 매칭한다.\\n\\xa0[ ... ] : 대괄호 안의 문자 하나하나들 모두가 OR의 요소로 보면 됨.ex) [cfh]all : \\'call\\', \\'fall\\', \\'hall\\' 에 모두 매칭. [0-9], [a-z] 와 같이\\xa0 -\\xa0 를 활용하여 숫자 전체 또는 알파벳(소문자) 전체 등의 특정 범위를 지정할 수 있음.\\n\\n수량 한정자\\n:\\xa0동일한 글자 혹은 그룹이\\xa0n개 만큼 나오는 경우에 수량 한정자를 뒤에 붙일 수 있다.\\n\\n\\xa0?\\xa0: 바로 앞의 글자 혹은 그룹이\\xa01개 혹은 0개\\xa0임을 의미.ex)\\xa0apples?\\xa0: ? 바로 앞의 글자인 \\'s\\'가 있을 수도 있고, 없을 수도 있으므로,\\xa0\\'apple\\',\\xa0\\'apples\\'\\xa0에 매칭.\\n\\xa0*\\xa0\\xa0:\\xa00개 이상을 의미.ex)\\xa0n\\\\d*\\xa0: \\'n\\' 뒤에 숫자가 0개 이상이라는 의미.\\xa0\\'n\\',\\xa0\\'n1\\',\\xa0\\'n123\\'\\xa0등에 모두 매칭.\\n\\xa0+\\xa0\\xa0:\\xa01개 이상을 의미.ex)\\xa0n\\\\d+\\xa0: \\'n\\' 뒤에 숫자가 1개 이상이라는 의미.\\xa0\\'n1\\',\\xa0\\'n123\\'\\xa0등에 모두 매칭되나,\\xa0\\'n\\'\\xa0에는 매칭되지 않음.\\n\\xa0{n}\\xa0\\xa0:\\xa0n 개가 있다는 것을 의미.ex)\\xa0n\\\\d{2}\\xa0:\\xa0\\'n\\' 뒤 숫자가 2개 오는 패턴을 의미.\\xa0\\'n12\\'\\xa0에는 매칭되나,\\xa0\\'n\\', \\'n1\\', \\'n123\\'\\xa0에는 매칭되지 않음.\\xa0\\'n123\\' 이라는 문자열에서는 \\'n12\\' 까지만 매칭하고, 3은 제외시키게 됨.\\n\\xa0{n, m}\\xa0:\\xa0n개 이상, m개 이하를 의미. 이때 m을 생략하여\\xa0\\xa0{n, }\\xa0와 같이 쓸 수 있는데, 이는\\xa0n개 이상 만을 의미.ex 1)\\xa0n\\\\d{2, 3}\\xa0:\\xa0\\'n12\\', \\'n123\\'\\xa0에는 매칭되지만,\\xa0\\'n1\\'이나\\xa0\\'n1234\\'에는 매칭되지 않음.\\n\\n※ 수량한정자의 매칭 방식\\xa0:\\xa0*\\xa0,\\xa0+\\xa0는 기본적으로\\xa0greedy 하게 동작한다. 즉, 가능한 한 많은 글자를 포함하고, 다음 패턴을 찾는다는 말이다. 따라서\\xa0.\\xa0처럼 모든 문자를 의미하는 메타문자와는 가급적 사용을 하지 않아야 한다. 예를 통해 살펴보자.\\nex)\\xa0\\'I like apples and bananas\\'\\xa0에서\\xa0\\xa0^.*s\\xa0\\xa0를 사용하게 되면,\\xa0.\\xa0(아무 문자)의 개수가 제한이 없으므로, ^.*s 를 해석하면,\\xa0s로 끝나는 가장 긴 문자열이 되게 된다. 즉,\\xa0\\'I like apples and bananas\\' 그대로 매칭되게 되는 것이다. 이렇게 되면,\\xa0정규 표현식을 사용하는 의미가 전혀 없어지게 된다.\\n\\n그룹\\xa0\\n: 소괄호로 둘러싼 단위는 그룹을 나타내는데, 특히 수량 한정자를 그룹에 붙이는 형태로 사용하여, 그룹에 해당하는 패턴이 반복적으로 나타나는 패턴에 대해서 매칭이 가능하게끔 해주는 역할을 한다.\\nex 1) (tom|pot)ato : tomato | potato 와 같은 의미. \\'tomato\\' 또는 \\'potato\\' 에 모두 매칭되는 패턴을 그룹을 써서 정규식을 좀 더 깔끔하게 표현하였다.\\nex 2) (a|i){3}bc : a 혹은 i 가 3개 온 후에 bc가 오는 패턴. aaabc, iiibc, aiabc, aaibc, iiabc 등이 매칭.\\n\\xa0\\n전후방탐색\\n: 반환하지 않을 패턴을 포함하여\\xa0 Regex의 패턴을 구성하는 것, 즉, 정확한 일치 지점을 찾는 데는 사용되지만 실제 일치하는 부분의 일부로는 사용되지 않는 \\'어떤 것\\'이 필요하게 되는데, 이때 사용 되는 것이 Regex의 전후방탐색(Look Around) 기법이다.\\n\\xa0\\n■ 전방 탐색(Look Ahead)\\n- \\'?=\\' 사용\\n- \\'?=\\' 다음에 오는 텍스트를 기준으로, 그 이전 텍스트만을 해당 패턴을 적용하여 추출하고자 할 때 사용\\nex) \\'.+(?=:)\\'\\n\\nhttp://www.co-no_blog.com/☞ http://www.co-no_blog.com/\\nhttp://mail.co-no.com/☞ http://mail.co-no.com/\\nftp://ftp.co-no.com/☞ ftp://ftp.co-no.com/\\n\\n■\\xa0후방 탐색(Look Behind)\\n-\\xa0\\'?<=\\'\\xa0사용\\n- \\'?<=\\' 다음에 오는 텍스트를 기준으로,\\xa0그 이후 텍스트만을 해당 패턴을 적용하여 추출하고자 할 때 사용\\nex) \\'(?<=\\\\$)[0-9.]+\\'\\n\\nABC01: $23.45☞ ABC01: $23.45\\nHGG42: $5.31☞ HGG42: $5.31\\nCFMX1: $899.00☞ CFMX1: $899.00\\nXTC99: $69.96☞ XTC99: $69.96\\n\\n※ 주의사항 :\\xa0전방 탐색은 마침표(.)와 더하기(+)를 포함하여 텍스트의 길이를 다양하게 일치시킬 수 있으며, 매우 동적인 반면, 후방 탐색은 보통 일치시킬 텍스트의 길이를 고정해야 한다.\\xa0\\n\\xa0\\n■\\xa0전방탐색과 후방탐색의 동시 사용\\n다음 예시와 같이 HTML 태그를 제외한 텍스트를 추출하고자 할 때, 전방탐색과 후방탐색의 동시 사용을 유용하게 활용할 수 있다.\\nex) \\'(?<=\\\\<[tT][iI][tT][lL][eE]\\\\>).*(?=<\\\\/[tT][iI][tT][lL][eE]\\\\>)\\' (\\\\ : 이스케이프 문자)\\n<head>\\n<title>co-no의 홈페이지</title>\\n</head>\\n\\n■\\xa0부정형 전후방탐색\\n\\xa0지금까지 살펴본 전방탐색과 후방탐색의 경우, 반환할 텍스트의 위치, 즉, 찾고자 하는 부분의 앞뒤를 특별히 지정하고 싶을 때 주로 사용하게 된다. 이러한 방식을 긍정형 전방탐색(Positive Lookahead) 또는 긍정형 후방탐색(Positive Lookbehind) 라고 하는데, 여기서 \\'Positive\\' 라는 말을 쓰는 이유는, 실제로 일치하는 텍스트를 찾는 방식이기 때문이다.\\n\\xa0\\n그렇다면 부정형(Negative) 전후방탐색에 대해 알아보자!\\n\\xa0\\n■\\xa0부정형 전방탐색(Negative Lookahead)\\n- \\'?!-\\' 사용\\n- \\'?!-\\' 다음에 오는 텍스트가 붙지 않은, 해당 텍스트 기준의 이전 텍스트 패턴만 적용된 텍스트를 추출하게 된다.\\nex) \\'\\\\d{4}(?!-)\\'\\n\\n010-1234-5678☞ 010-1234-5678\\n02-1212-3434☞\\xa002-1212-3434\\n\\n\\xa0\\n■\\xa0부정형 후방탐색(Negative Lookbehind)\\n- \\'?<!\\' 사용\\n- \\'?<!\\' 다음에 오는 텍스트가 붙지 않은, 해당 텍스트 기준의 이후 텍스트 패턴만 적용된 텍스트를 추출하게 된다.\\nex) \\'\\\\b(?<!\\\\$)\\\\d+\\\\b\\'\\n\\nI paid $30 for 100 apples, 50 oranges, and 60 pears.☞ I paid $30 for 100 apples, 50 oranges, and 60 pears.\\n\\n\\n참고\\nhttps://soooprmx.com/%EC%A0%95%EA%B7%9C%ED%91%9C%ED%98%84%EC%8B%9D%EC%9D%98-%EA%B0%9C%EB%85%90%EA%B3%BC-%EA%B8%B0%EC%B4%88-%EB%AC%B8%EB%B2%95/\\n\\n\\xa0\\n\\n정규표현식의 개념과 패턴 사용법 총정리 · Wireframe\\n정규 표현식은 텍스트 내에서 특정한 규칙에 따른 문자열이 나타나는 범위를 검색하는 기법으로 텍스트를 다룰 때 널리 사용되며, 특히 텍스트 편집기에서 찾기/바꾸기와 관련해서 정규식을 어\\nsoooprmx.com\\n\\n\\nhttps://junstar92.tistory.com/373\\n\\n\\xa0\\n\\n[REGEX] 전방탐색과 후방탐색\\nReferences Learning Regular Expressions Contents 전방탐색 (Looking Ahead) 후방탐색 (Looking Behind) 부정형 전후방탐색 (Nagative Lookaround) 이전 포스팅들에서 사용한 표현식들은 모두 일치하는 텍스트를..\\njunstar92.tistory.com\\n\\n\\n\\xa0\\n\\n\\n\\n\\n\\n공유하기\\n\\n게시글 관리\\n\\n\\n구독하기코딩하는 주노 이야기 \\n\\n\\n\\n\\'OS > Linux\\' 카테고리의 다른 글\\n\\n\\n[Linux][CentOS 7] vi, vim 테마(colorscheme) 설정 - onehalf\\xa0\\xa0(0)\\n2023.03.08\\n\\n\\n[Linux] CentOS 7 에서 User 생성(useradd)과 User 홈 디렉토리 설정\\xa0\\xa0(0)\\n2023.02.28\\n\\n\\n[Linux][쉘스크립트] \\'$\\' 의 활용\\xa0\\xa0(1)\\n2022.08.23\\n\\n\\n[Linux] 쉘 스크립트 - 파일 존재 여부 확인하기!\\xa0\\xa0(0)\\n2022.08.17\\n\\n\\n[Linux] ps 결과 항목 설명 및 유용한 ps 예제\\xa0\\xa0(0)\\n2022.03.25\\n\\n\\n\\n\\n\\n\\n\\n\\n\\n\\n\\n\\n\\n\\n\\n\\n\\n\\n\\n\\n\\n\\n\\n태그Regex Lookahead, Regex Lookbehind, Regex 그룹, Regex 메타문자, 정규식 메타문자, 정규식 부정형, 정규식 수량한정자, 정규식 전후방탐색\\n\\n\\n\\nOS/Linux 관련 글\\n\\n\\n\\n\\n\\n[Linux] CentOS 7 에서 User 생성(useradd)과 User 홈 디렉토리 설정\\n2023.02.28\\n\\n\\n\\n\\n\\n\\n\\n\\n\\n[Linux][쉘스크립트] \\'$\\' 의 활용\\n2022.08.23\\n\\n\\n\\n\\n\\n\\n[Linux] 쉘 스크립트 - 파일 존재 여부 확인하기!\\n2022.08.17\\n\\n\\n\\n\\n\\n\\n\\n\\n\\n[Linux] ps 결과 항목 설명 및 유용한 ps 예제\\n2022.03.25\\n\\n\\n\\n\\n글 더보기\\n\\n\\n\\n\\n\\n\\n\\n 0\\n\\n\\n\\n\\n\\n댓글을 달아 주세요\\n\\n\\n\\n\\n비공개\\n\\t\\t\\n\\n\\n\\n\\n\\n\\n\\n\\n\\n\\n\\n\\n\\n\\n댓글을 남겨주세요\\n\\n\\n\\nTistoryWhaleSkin3.4\">\\n\\n댓글 등록\\n\\n\\n\\n\\n\\n\\n\\n\\n\\n\\n\\n\\n\\n\\n\\n\\n\\n\\n\\n\\n\\n\\n\\n\\n\\n\\n\\n공지사항\\n\\n\\n\\n\\n\\n\\n\\n전체 카테고리\\n 코딩 이야기 (115) \\n DB (32) \\n SQL Server (MSSQL) (24) \\n MongoDB (2) \\n Hadoop Ecosystem (0) \\n SQLP 공부 (2) \\n\\n\\n 데이터 엔지니어링 (0) \\n Spark (0) \\n\\n\\n Middleware (21) \\n 웹서버 (7) \\n WAS (6) \\n WSGI (3) \\n 기타 (5) \\n\\n\\n OS (9) \\n Linux (6) \\n Windows (3) \\n\\n\\n Network (8) \\n Cloud (1) \\n AWS (1) \\n\\n\\n DevOps (6) \\n Github (2) \\n Ansible (1) \\n Terraform (3) \\n\\n\\n Security (3) \\n Observability (5) \\n CS 지식 | 기초 용어,개념 (7) \\n Python (1) \\n Flask (0) \\n\\n\\n Java (7) \\n JPA (0) \\n\\n\\n 안드로이드 (1) \\n 알고리즘 공부 (14) \\n\\n\\n\\n\\n\\n\\n\\n\\t\\t\\t\\t\\t\\t\\t\\t\\t애드센스 광고 영역\\n\\t\\t\\t\\t\\t\\t\\t\\t\\n\\n\\n\\n\\n최근 글\\n최근 댓글\\n\\n\\n\\n\\n\\n\\n최근 글\\n\\n\\n\\n[httpd] https://{IP} 로 URL을 입력받았을 때, htt⋯ \\n\\n\\n\\n\\n[MSSQL] SQL Server 점검 시 유용한 쿼리 모음 1\\n\\n\\n\\n\\n[httpd] RedHat JBCS httpd 에서 Apache http⋯ \\n\\n\\n\\n\\n[Java] Java의 메모리 영역(Runtime Data Area)과 ⋯ \\n\\n\\n\\n\\n[개념] 프롬프트 엔지니어링의 개념과 LLM 활용 시 꿀팁 2\\n\\n\\n\\n\\n[Terraform] AWS 3-tier Achitecture를 구성하기⋯ 1\\n\\n\\n\\n\\n[RDBMS] DB의 정규화 단계(1NF, 2NF, 3NF, BCNF, ⋯ 1\\n\\n\\n\\n\\n[RDBMS] RDB 정규화와 이상(Anomaly)현상의 개념 및 예시 \\n\\n\\n\\n\\n[Terraform] 테라폼을 통한 AWS 3-tier 구성 (1) - ⋯ 1\\n\\n\\n\\n\\n[Terraform] Terraform 개념, Architecture, ⋯ 1\\n\\n\\n\\n\\n\\n\\n\\n\\n\\n최근댓글\\n\\n\\n\\n\\nfivedumplings\\n 11.08\\n\\n\\t\\t\\t\\t\\t\\t\\t\\t\\t\\t\\t\\t\\t\\t\\t\\t\\t그림 정말 이해가 잘 되는것 같습니다. NAT가 단순히 외부로부터 받은 ⋯\\n\\t\\t\\t\\t\\t\\t\\t\\t\\t\\t\\t\\t\\t\\t\\t\\t\\n\\n\\n\\n\\n08genie\\n 11.03\\n\\n\\t\\t\\t\\t\\t\\t\\t\\t\\t\\t\\t\\t\\t\\t\\t\\t\\t버추얼박스 네트워크 종류 때문에 몇주를 앓았는데 이 블로그 보니까 참 이⋯\\n\\t\\t\\t\\t\\t\\t\\t\\t\\t\\t\\t\\t\\t\\t\\t\\t\\n\\n\\n\\n\\nsoko\\n 09.18\\n\\n\\t\\t\\t\\t\\t\\t\\t\\t\\t\\t\\t\\t\\t\\t\\t\\t\\t안녕하세요! 궁금한 내용을 잘 정리해주셔서 감사합니다! 적어주신 내용과 ⋯\\n\\t\\t\\t\\t\\t\\t\\t\\t\\t\\t\\t\\t\\t\\t\\t\\t\\n\\n\\n\\n\\ntest1\\n 09.06\\n\\n\\t\\t\\t\\t\\t\\t\\t\\t\\t\\t\\t\\t\\t\\t\\t\\t\\twow\\n~!\\n\\t\\t\\t\\t\\t\\t\\t\\t\\t\\t\\t\\t\\t\\t\\t\\t\\n\\n\\n\\n\\n지나가는행인\\n 2023\\n\\n\\t\\t\\t\\t\\t\\t\\t\\t\\t\\t\\t\\t\\t\\t\\t\\t\\t안녕하세요, \\n카디널리티는 선택도 * 총 로우 수 아닌가요?\\n\\nMS에서도⋯\\n\\t\\t\\t\\t\\t\\t\\t\\t\\t\\t\\t\\t\\t\\t\\t\\t\\n\\n\\n\\n\\n코_노\\n 2023\\n\\n\\t\\t\\t\\t\\t\\t\\t\\t\\t\\t\\t\\t\\t\\t\\t\\t\\t안녕하세요! 댓글 남겨주셔서 감사합니다.\\n대표주소는, 서브넷의 가장 첫⋯\\n\\t\\t\\t\\t\\t\\t\\t\\t\\t\\t\\t\\t\\t\\t\\t\\t\\n\\n\\n\\n\\n초보자\\n 2023\\n\\n\\t\\t\\t\\t\\t\\t\\t\\t\\t\\t\\t\\t\\t\\t\\t\\t\\t안녕하세요, 궁금한 점이 있어서 질문 남김니다.\\n네트워크 주소(대표주소)⋯\\n\\t\\t\\t\\t\\t\\t\\t\\t\\t\\t\\t\\t\\t\\t\\t\\t\\n\\n\\n\\n\\n코_노\\n 2023\\n\\n\\t\\t\\t\\t\\t\\t\\t\\t\\t\\t\\t\\t\\t\\t\\t\\t\\t정정 감사드립니다! 포스팅도 바로 수정하였습니다. 또 틀린게 있다면 지적⋯\\n\\t\\t\\t\\t\\t\\t\\t\\t\\t\\t\\t\\t\\t\\t\\t\\t\\n\\n\\n\\n\\nㅇㅇ\\n 2023\\n\\n\\t\\t\\t\\t\\t\\t\\t\\t\\t\\t\\t\\t\\t\\t\\t\\t\\t잘 정리해주셨는데 한가지만 정정해드리자면 NAT, NAT Network ⋯\\n\\t\\t\\t\\t\\t\\t\\t\\t\\t\\t\\t\\t\\t\\t\\t\\t\\n\\n\\n\\n\\nㅇㅇ\\n 2022\\n\\n\\t\\t\\t\\t\\t\\t\\t\\t\\t\\t\\t\\t\\t\\t\\t\\t\\t좋은글 감사합니다!\\n\\t\\t\\t\\t\\t\\t\\t\\t\\t\\t\\t\\t\\t\\t\\t\\t\\n\\n\\n\\n\\n\\n\\n\\n\\n\\n태그\\n\\n\\n#백준 골드4\\n\\n\\n#SAS 아키텍처\\n\\n\\n#Windows AD\\n\\n\\n#db\\n\\n\\n#백준 골드2\\n\\n\\n#백준 파이썬\\n\\n\\n#SQL Server\\n\\n\\n#SAS Intelligence Platform\\n\\n\\n#백준 python\\n\\n\\n#백준\\n\\n\\n#DBA\\n\\n\\n#백준 알고리즘\\n\\n\\n#MongoDB Sharding\\n\\n\\n#MSSQL\\n\\n\\n#jvm 실행 옵션\\n\\n\\n#SQL Server 2019 Restore\\n\\n\\n#SQL Server 2019\\n\\n\\n#SAS\\n\\n\\n#SSMS\\n\\n\\n#백준 골드 2\\n\\n\\n더보기+\\n\\n\\n\\n전체 방문자\\n\\n\\n오늘\\n325\\n\\n\\n어제\\n731\\n\\n\\n전체\\n212,186\\n\\n\\n\\n\\n\\n블로그 인기글\\n\\n\\n\\n\\n\\n\\n\\n\\n[개념] RPC(Remote Procedure Call)의 개념 및 특징\\n\\n\\n\\n\\n\\n\\n\\n\\n\\n\\n정규표현식(Regex)의 개념과 기초 문법\\n\\n\\n\\n\\n\\n\\n\\n\\n\\n\\n[httpd] Apache httpd Virtualhost 설정 - 한 ⋯\\n\\n\\n\\n\\n\\n\\n\\n\\n\\n\\n\\n\\n\\n[개념] SSO(Single Sign-On) 이란?\\n\\n\\n\\n\\n\\n\\n\\n\\n\\n\\n[Linux] 쉘 스크립트 - 파일 존재 여부 확인하기!\\n\\n\\n\\n\\n\\n\\n\\n\\n\\n\\n\\n\\n\\n[MSSQL] 사용자 계정(SQL Server Authentication⋯\\n\\n\\n\\n\\n\\n\\n\\n\\n\\n\\n\\n\\n\\n[MSSQL] 데이터베이스 백업 & 복구 (단순히 뭔지만 볼때!)\\n\\n\\n\\n\\n\\n\\n\\n\\n\\n\\n\\n\\n\\n[네트워크] 방화벽(Firewall) (1) - 개념, 기능, 동작방식\\n\\n\\n\\n\\n\\n\\n\\n\\n\\n\\n\\n\\n\\n[Windows] AD (1) - AD(Active Directory)의⋯\\n\\n\\n\\n\\n\\n\\n\\n\\n\\n\\n\\n\\n\\n[네트워크] 로드밸런싱의 개념 및 기법 설명\\n\\n\\n\\n\\n\\n\\n\\n\\n\\n\\n\\n\\n\\n\\nPowered by Privatenote\\n Copyright © 코딩하는 주노 이야기 All rights reserved.\\n\\t\\t\\t\\t\\nTistoryWhaleSkin3.4\\n\\n\\n\\n\\n\\n\\n\\n\\n\\n\\n\\n\\n\\n\\n\\n\\n\\n\\n\\n\\n\\n\\n\\n\\n\\n\\n\\n\\n\\n\\n\\n\\n\\n\\n\\n'"
      ]
     },
     "execution_count": 180,
     "metadata": {},
     "output_type": "execute_result"
    }
   ],
   "source": [
    "result = BeautifulSoup(text, 'html.parser').get_text()\n",
    "result"
   ]
  },
  {
   "cell_type": "markdown",
   "metadata": {},
   "source": [
    "### 정규표현식 연습문제\n",
    "\n",
    "#### 1. 날짜 표현 탐색\n",
    "\n",
    "- DD/MM/YY 형태로 작성된 날짜를 탐지하는 정규표현식 작성\n",
    "- day는 01-31, month는 01-12, year는 1000-2999까지 있다고 가정\n",
    "- 1,2,3 등의 한자리 숫자의 경우 0을 앞에 붙임"
   ]
  },
  {
   "cell_type": "code",
   "execution_count": 183,
   "metadata": {},
   "outputs": [
    {
     "data": {
      "text/plain": [
       "'0[1-9]|[1-2][0-9]|3[0-1][/]0[1-9]|1[0-2][/][1-2][0-9]{3}'"
      ]
     },
     "execution_count": 183,
     "metadata": {},
     "output_type": "execute_result"
    }
   ],
   "source": [
    "r'0[1-9]|[1-2][0-9]|3[0-1][/]0[1-9]|1[0-2][/][1-2][0-9]{3}'"
   ]
  },
  {
   "cell_type": "markdown",
   "metadata": {},
   "source": [
    "#### 2. 강력한 비밀번호 탐색\n",
    "\n",
    "- 비밀번호 길이가 8자리 이상, 영문 대문자와 소문자를 포함하며, 적어도 하나의 숫자가 있어야함"
   ]
  },
  {
   "cell_type": "code",
   "execution_count": null,
   "metadata": {},
   "outputs": [],
   "source": [
    "r'^(?=*[A-Z])(?=*[a-z])(?=*\\d).{8,}$'"
   ]
  },
  {
   "cell_type": "markdown",
   "metadata": {},
   "source": [
    "#### 3. 다음 조건에 맞는 정규표현식 지정\n",
    "\n",
    "- 문장 끝에 마침표가 없어야 할 때\n",
    "- 소수(실수) 표현"
   ]
  },
  {
   "cell_type": "code",
   "execution_count": null,
   "metadata": {},
   "outputs": [],
   "source": [
    "r'\\d*[.]\\d*|[.][1-9]'"
   ]
  },
  {
   "cell_type": "markdown",
   "metadata": {},
   "source": [
    "-------------"
   ]
  }
 ],
 "metadata": {
  "kernelspec": {
   "display_name": "Python 3 (ipykernel)",
   "language": "python",
   "name": "python3"
  },
  "language_info": {
   "codemirror_mode": {
    "name": "ipython",
    "version": 3
   },
   "file_extension": ".py",
   "mimetype": "text/x-python",
   "name": "python",
   "nbconvert_exporter": "python",
   "pygments_lexer": "ipython3",
   "version": "3.11.7"
  }
 },
 "nbformat": 4,
 "nbformat_minor": 4
}
