{
 "cells": [
  {
   "cell_type": "markdown",
   "metadata": {},
   "source": [
    "## 실습1. 문장 간의 유사성"
   ]
  },
  {
   "cell_type": "markdown",
   "metadata": {},
   "source": [
    "#### 샘플 예제"
   ]
  },
  {
   "cell_type": "code",
   "execution_count": 20,
   "metadata": {},
   "outputs": [],
   "source": [
    "doc_list = ['if you take the blue pill, the story ends' ,\n",
    "            'if you take the red pill, you stay in Wonderland',\n",
    "            'if you take the red pill, I show you how deep the rabbit hole goes']"
   ]
  },
  {
   "cell_type": "markdown",
   "metadata": {},
   "source": [
    "#### TF-IDF 피처 벡터화"
   ]
  },
  {
   "cell_type": "code",
   "execution_count": 21,
   "metadata": {},
   "outputs": [
    {
     "name": "stdout",
     "output_type": "stream",
     "text": [
      "크기: (3, 18)\n",
      "인덱스:\n",
      " {'if': 6, 'you': 17, 'take': 14, 'the': 15, 'blue': 0, 'pill': 8, 'story': 13, 'ends': 2, 'red': 10, 'stay': 12, 'in': 7, 'wonderland': 16, 'show': 11, 'how': 5, 'deep': 1, 'rabbit': 9, 'hole': 4, 'goes': 3}\n"
     ]
    }
   ],
   "source": [
    "tfidf_v = TfidfVectorizer()\n",
    "tfidf_v.fit(doc_list)\n",
    "ftr_mat = tfidf_v.transform(doc_list)\n",
    "print(f'크기:',ftr_mat.shape)\n",
    "print(f'인덱스:\\n',tfidf_v.vocabulary_)"
   ]
  },
  {
   "cell_type": "code",
   "execution_count": 22,
   "metadata": {},
   "outputs": [
    {
     "data": {
      "text/plain": [
       "array([[0.4155636 , 0.        , 0.4155636 , 0.        , 0.        ,\n",
       "        0.        , 0.24543856, 0.        , 0.24543856, 0.        ,\n",
       "        0.        , 0.        , 0.        , 0.4155636 , 0.24543856,\n",
       "        0.49087711, 0.        , 0.24543856],\n",
       "       [0.        , 0.        , 0.        , 0.        , 0.        ,\n",
       "        0.        , 0.23402865, 0.39624495, 0.23402865, 0.        ,\n",
       "        0.3013545 , 0.        , 0.39624495, 0.        , 0.23402865,\n",
       "        0.23402865, 0.39624495, 0.4680573 ],\n",
       "       [0.        , 0.30985601, 0.        , 0.30985601, 0.30985601,\n",
       "        0.30985601, 0.18300595, 0.        , 0.18300595, 0.30985601,\n",
       "        0.23565348, 0.30985601, 0.        , 0.        , 0.18300595,\n",
       "        0.3660119 , 0.        , 0.3660119 ]])"
      ]
     },
     "execution_count": 22,
     "metadata": {},
     "output_type": "execute_result"
    }
   ],
   "source": [
    "ftr_mat.toarray()"
   ]
  },
  {
   "cell_type": "markdown",
   "metadata": {},
   "source": [
    "#### 피처 벡터 희소행렬을 dense matrix로 변환\n",
    "\n",
    "TF-IDF로 피처 벡터화한 행렬은 희소행렬이므로 dense 행렬로 변환한 후 각각을 배열로 변환\n",
    "- 피처벡터객체.todense()"
   ]
  },
  {
   "cell_type": "code",
   "execution_count": 23,
   "metadata": {},
   "outputs": [
    {
     "data": {
      "text/plain": [
       "matrix([[0.4155636 , 0.        , 0.4155636 , 0.        , 0.        ,\n",
       "         0.        , 0.24543856, 0.        , 0.24543856, 0.        ,\n",
       "         0.        , 0.        , 0.        , 0.4155636 , 0.24543856,\n",
       "         0.49087711, 0.        , 0.24543856],\n",
       "        [0.        , 0.        , 0.        , 0.        , 0.        ,\n",
       "         0.        , 0.23402865, 0.39624495, 0.23402865, 0.        ,\n",
       "         0.3013545 , 0.        , 0.39624495, 0.        , 0.23402865,\n",
       "         0.23402865, 0.39624495, 0.4680573 ],\n",
       "        [0.        , 0.30985601, 0.        , 0.30985601, 0.30985601,\n",
       "         0.30985601, 0.18300595, 0.        , 0.18300595, 0.30985601,\n",
       "         0.23565348, 0.30985601, 0.        , 0.        , 0.18300595,\n",
       "         0.3660119 , 0.        , 0.3660119 ]])"
      ]
     },
     "execution_count": 23,
     "metadata": {},
     "output_type": "execute_result"
    }
   ],
   "source": [
    "ftr_mat.todense()"
   ]
  },
  {
   "cell_type": "markdown",
   "metadata": {},
   "source": [
    "### 1. 코사인 유사도\n",
    "\n",
    "- 방법1. cos_similarity() 함수 사용 : 두 문장의 코사인 유사도 계산\n",
    "\n",
    "\n",
    "- 방법2. 사이킷런의 코사인 유사도 측정 API 사용\n",
    "    -  sklearn.metrics.pairwise.cosine_similarity(비교기준 문서의 피처행렬, 비교되는 문서의 피처행렬)\n",
    "    - https://scikit-learn.org/stable/modules/generated/sklearn.metrics.pairwise.cosine_similarity.html"
   ]
  },
  {
   "cell_type": "markdown",
   "metadata": {},
   "source": [
    "#### 1) 코사인 유사도 함수 cos_similarity() 사용"
   ]
  },
  {
   "cell_type": "code",
   "execution_count": 8,
   "metadata": {},
   "outputs": [],
   "source": [
    "from sklearn.feature_extraction.text import TfidfVectorizer\n",
    "from sklearn.metrics.pairwise import cosine_similarity\n",
    "import numpy as np"
   ]
  },
  {
   "cell_type": "code",
   "execution_count": 6,
   "metadata": {},
   "outputs": [
    {
     "data": {
      "text/plain": [
       "array([[1.        , 0.        , 0.        , 0.        ],\n",
       "       [0.        , 1.        , 0.32591355, 0.25632484],\n",
       "       [0.        , 0.32591355, 1.        , 0.        ],\n",
       "       [0.        , 0.25632484, 0.        , 1.        ]])"
      ]
     },
     "execution_count": 6,
     "metadata": {},
     "output_type": "execute_result"
    }
   ],
   "source": [
    "text2 = ['나는 배가 고프다', '내일 점심 뭐먹지','내일 공부해야겠다','점심 먹고 공부해야지']\n",
    "tfidf_v2 = TfidfVectorizer()\n",
    "tfidf_v2.fit(text2)\n",
    "ftr_mat2 = tfidf_v2.transform(text2)\n",
    "\n",
    "cos_sim_mat2 = cosine_similarity(ftr_mat2, ftr_mat2)\n",
    "cos_sim_mat2"
   ]
  },
  {
   "cell_type": "markdown",
   "metadata": {},
   "source": [
    "### 2. 유클리드 거리를 이용한 유사도"
   ]
  },
  {
   "cell_type": "markdown",
   "metadata": {},
   "source": [
    "| |바나나|사과|저는|좋아요|\n",
    "|---|---|---|---|---|\n",
    "|문서1|2|3|0|1|\n",
    "|문서2|1|2|3|1|\n",
    "|문서3|2|1|2|2|\n",
    "|문서Q|1|1|0|1|"
   ]
  },
  {
   "cell_type": "code",
   "execution_count": 9,
   "metadata": {},
   "outputs": [
    {
     "name": "stdout",
     "output_type": "stream",
     "text": [
      "0.012\n"
     ]
    }
   ],
   "source": [
    "def euclid_dist(x,y):\n",
    "    return np.sqrt(np.sum(x-y)**2)\n",
    "\n",
    "doc1 = ftr_mat2[0]\n",
    "doc2 = ftr_mat2[1]\n",
    "doc3 = ftr_mat2[2]\n",
    "docQ = ftr_mat2[3]\n",
    "\n",
    "print(f'{euclid_dist(doc1,doc2):.3f}')"
   ]
  },
  {
   "cell_type": "markdown",
   "metadata": {},
   "source": [
    "### 3. 자카드 유사도\n",
    "- 뉴스 기사들 탐지\n",
    "- 추천 시스템에서 두 고객간의 유사도"
   ]
  },
  {
   "cell_type": "code",
   "execution_count": 11,
   "metadata": {},
   "outputs": [
    {
     "name": "stdout",
     "output_type": "stream",
     "text": [
      "문서1 토큰: ['apple', 'banana', 'everyone', 'like', 'likey', 'watch', 'card', 'holder']\n",
      "문서2 토큰: ['apple', 'banana', 'coupon', 'passport', 'love', 'you']\n"
     ]
    }
   ],
   "source": [
    "doc1 = \"apple banana everyone like likey watch card holder\"\n",
    "doc2 = \"apple banana coupon passport love you\"\n",
    "\n",
    "# 토큰화\n",
    "tokens_doc1 = doc1.split()\n",
    "tokens_doc2 = doc2.split()\n",
    "\n",
    "print(f'문서1 토큰:', tokens_doc1)\n",
    "print(f'문서2 토큰:', tokens_doc2)"
   ]
  },
  {
   "cell_type": "markdown",
   "metadata": {},
   "source": [
    "- 문서1과 문서2의 합집합"
   ]
  },
  {
   "cell_type": "code",
   "execution_count": 12,
   "metadata": {},
   "outputs": [
    {
     "name": "stdout",
     "output_type": "stream",
     "text": [
      "두 문서의 합집합: {'you', 'banana', 'card', 'love', 'coupon', 'holder', 'watch', 'everyone', 'likey', 'apple', 'passport', 'like'}\n"
     ]
    }
   ],
   "source": [
    "union = set(tokens_doc1).union(set(tokens_doc2))\n",
    "print(f'두 문서의 합집합:', union)"
   ]
  },
  {
   "cell_type": "markdown",
   "metadata": {},
   "source": [
    "- 문서1과 문서2의 교집합"
   ]
  },
  {
   "cell_type": "code",
   "execution_count": 14,
   "metadata": {},
   "outputs": [
    {
     "name": "stdout",
     "output_type": "stream",
     "text": [
      "두 문서의 합집합: {'banana', 'apple'}\n"
     ]
    }
   ],
   "source": [
    "intersection= set(tokens_doc1).intersection(set(tokens_doc2))\n",
    "print(f'두 문서의 합집합:', intersection)"
   ]
  },
  {
   "cell_type": "markdown",
   "metadata": {},
   "source": [
    "- 문서1과 문서2의 자카드 유사도"
   ]
  },
  {
   "cell_type": "code",
   "execution_count": 18,
   "metadata": {},
   "outputs": [
    {
     "name": "stdout",
     "output_type": "stream",
     "text": [
      "자카드 유사도: 0.167\n"
     ]
    }
   ],
   "source": [
    "print(f'자카드 유사도: {len(intersection)/len(union):.3f}')"
   ]
  },
  {
   "cell_type": "code",
   "execution_count": 25,
   "metadata": {},
   "outputs": [],
   "source": [
    "def jacard_similarity(s1,s2):\n",
    "    s1 = set(s1)\n",
    "    s2 = set(s2)\n",
    "    return len(s1&s2) / len(s1 | s2)"
   ]
  },
  {
   "cell_type": "code",
   "execution_count": 27,
   "metadata": {},
   "outputs": [
    {
     "data": {
      "text/plain": [
       "1.0"
      ]
     },
     "execution_count": 27,
     "metadata": {},
     "output_type": "execute_result"
    }
   ],
   "source": [
    "jacard_similarity(tokens_doc1, tokens_doc1)"
   ]
  },
  {
   "cell_type": "markdown",
   "metadata": {},
   "source": [
    "------------"
   ]
  }
 ],
 "metadata": {
  "kernelspec": {
   "display_name": "Python 3 (ipykernel)",
   "language": "python",
   "name": "python3"
  },
  "language_info": {
   "codemirror_mode": {
    "name": "ipython",
    "version": 3
   },
   "file_extension": ".py",
   "mimetype": "text/x-python",
   "name": "python",
   "nbconvert_exporter": "python",
   "pygments_lexer": "ipython3",
   "version": "3.11.7"
  }
 },
 "nbformat": 4,
 "nbformat_minor": 4
}
