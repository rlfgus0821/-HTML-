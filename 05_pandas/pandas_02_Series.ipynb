{
 "cells": [
  {
   "cell_type": "code",
   "execution_count": 2,
   "metadata": {},
   "outputs": [],
   "source": [
    "import numpy as np\n",
    "import pandas as pd"
   ]
  },
  {
   "cell_type": "markdown",
   "metadata": {},
   "source": [
    "##### 설정변경코드\n",
    "* 변수 명이 두 번 이상 출력되어도 모두 콘솔에서 보여줄 것\n",
    "* \n",
    "from IPython.core.interactiveshell import InteractiveShell <br> \n",
    "InteractiveShell.ast_node_interactivity=\"all\"\n",
    "* InteractiveShell.ast_node_interactivity : 'all' | 'last' | 'last_expr' | 'none' (기본값은 'last_expr')"
   ]
  },
  {
   "cell_type": "code",
   "execution_count": 6,
   "metadata": {},
   "outputs": [],
   "source": [
    "from IPython.core.interactiveshell import InteractiveShell\n",
    "InteractiveShell.ast_node_interactivity=\"all\""
   ]
  },
  {
   "cell_type": "markdown",
   "metadata": {},
   "source": [
    "# pandas 데이터 구조 #1. Series"
   ]
  },
  {
   "cell_type": "markdown",
   "metadata": {},
   "source": [
    "#### 학습내용\n",
    "1. 시리즈 소개\n",
    "2. 시리즈 생성\n",
    "3. 시리즈 속성들\n",
    "4. 시리즈 인덱싱\n",
    "5. 시리즈 슬라이싱\n",
    "6. 시리즈 연산\n",
    "7. 시리즈 데이터의 갱신, 추가, 삭제\n",
    "8. 시리즈 관련 함수들\n",
    "9. 날짜 인덱스를 사용한 시리즈"
   ]
  },
  {
   "cell_type": "markdown",
   "metadata": {},
   "source": [
    "## 1. Series 소개"
   ]
  },
  {
   "cell_type": "markdown",
   "metadata": {},
   "source": [
    "- pandas의 기본 객체 중 하나\n",
    "- numpy의 ndarray를 기반으로 **인덱싱 기능**을 추가하여 **1차원 배열**을 나타냄\n",
    "- index를 지정하지 않으며 기본적으로 ndarray와 같이 0-based 인덱스 생성\n",
    "- index를 지정할 경우 명시적으로 지정된 index를 사용\n",
    "- 같은 타입의 0개 이상의 데이터를 가질 수 있음"
   ]
  },
  {
   "cell_type": "markdown",
   "metadata": {},
   "source": [
    "#### 시리즈의 자료구조\n",
    "- 데이터가 순차적으로 나열된 1차원 배열 형태\n",
    "- 인덱스(index)와 데이터 값(value)이 일대일로 대응\n",
    "    - 딕셔너리와 비슷한 구조 : {key(index):value}\n",
    "\n",
    "#### 시리즈의 인덱스\n",
    "- 데이터 값의 위치를 나타내는 이름표 역할\n",
    "- 데이터 값의 순서와 위치를 저장\n",
    "- 데이터 값의 탐색, 정렬, 선택, 결합 등 데이터 조작을 쉽게 할 수 있음"
   ]
  },
  {
   "cell_type": "markdown",
   "metadata": {},
   "source": [
    "#### 시리즈 생성 : 판다스 내장함수인 Series()이용\n",
    "- 리스트, 딕셔너리, 튜플 등으로 시리즈 생성"
   ]
  },
  {
   "cell_type": "markdown",
   "metadata": {},
   "source": [
    "## 2. Series 생성하기"
   ]
  },
  {
   "cell_type": "markdown",
   "metadata": {},
   "source": [
    "**pd.Series(seq_data, index=None, dtype=None, name=None,...) 함수 이용**\n",
    "\n",
    "- seq_data : array-like, Iterable, dict, or scalar value\n",
    "- index : array-like or Index(1d)\n",
    "- dtype : str, numpy.dtype, or ExtentionDtype\n",
    "- name : str, optional (시리즈의 이름)\n",
    "\n",
    "https://pandas.pydata.org/docs/reference/series.html"
   ]
  },
  {
   "cell_type": "markdown",
   "metadata": {},
   "source": [
    "### 1) seq_data를 이용하여 Series 생성\n",
    "\n",
    "- index를 지정하지 않아도 자동적으로 생성됨 : 0부터 숫자로 생성됨"
   ]
  },
  {
   "cell_type": "markdown",
   "metadata": {},
   "source": [
    "#### ① 리스트로 시리즈 만들기"
   ]
  },
  {
   "cell_type": "code",
   "execution_count": 8,
   "metadata": {
    "scrolled": true
   },
   "outputs": [
    {
     "data": {
      "text/plain": [
       "0    10\n",
       "1    20\n",
       "2    30\n",
       "3    40\n",
       "4    50\n",
       "dtype: int64"
      ]
     },
     "execution_count": 8,
     "metadata": {},
     "output_type": "execute_result"
    }
   ],
   "source": [
    "# 인덱스 없이 시리즈 생성 시 자동으로 정수(위치)인덱스 생성됨\n",
    "s = pd.Series([10,20,30,40,50])\n",
    "s"
   ]
  },
  {
   "cell_type": "code",
   "execution_count": 9,
   "metadata": {},
   "outputs": [
    {
     "data": {
      "text/plain": [
       "0    11\n",
       "1    22\n",
       "2    33\n",
       "3    44\n",
       "4    55\n",
       "dtype: int64"
      ]
     },
     "execution_count": 9,
     "metadata": {},
     "output_type": "execute_result"
    }
   ],
   "source": [
    "# 정수값을 갖은 리스트로 시리즈 생성\n",
    "s1 = pd.Series([11,22,33,44,55])\n",
    "s1"
   ]
  },
  {
   "cell_type": "code",
   "execution_count": 12,
   "metadata": {},
   "outputs": [
    {
     "data": {
      "text/plain": [
       "0    a\n",
       "1    b\n",
       "2    c\n",
       "dtype: object"
      ]
     },
     "execution_count": 12,
     "metadata": {},
     "output_type": "execute_result"
    }
   ],
   "source": [
    "# 문자열을 갖은 리스트로 시리즈 생성\n",
    "s2 = pd.Series(['a','b','c'])\n",
    "s2"
   ]
  },
  {
   "cell_type": "code",
   "execution_count": 14,
   "metadata": {},
   "outputs": [
    {
     "data": {
      "text/plain": [
       "0    a\n",
       "1    b\n",
       "2    c\n",
       "dtype: object"
      ]
     },
     "execution_count": 14,
     "metadata": {},
     "output_type": "execute_result"
    }
   ],
   "source": [
    "s2 = pd.Series('a b c'.split())\n",
    "s2"
   ]
  },
  {
   "cell_type": "markdown",
   "metadata": {},
   "source": [
    "#### ② 정수 범위 자료를 시리즈로 생성\n",
    "- range() / np.arange() 함수 사용"
   ]
  },
  {
   "cell_type": "code",
   "execution_count": 15,
   "metadata": {},
   "outputs": [
    {
     "data": {
      "text/plain": [
       "0    10\n",
       "1    11\n",
       "2    12\n",
       "3    13\n",
       "dtype: int64"
      ]
     },
     "execution_count": 15,
     "metadata": {},
     "output_type": "execute_result"
    }
   ],
   "source": [
    "# range()함수를 이용하여 시리즈 생성\n",
    "s = pd.Series(range(10,14))\n",
    "s"
   ]
  },
  {
   "cell_type": "code",
   "execution_count": 18,
   "metadata": {},
   "outputs": [
    {
     "data": {
      "text/plain": [
       "0    10\n",
       "1    11\n",
       "2    12\n",
       "3    13\n",
       "dtype: int32"
      ]
     },
     "execution_count": 18,
     "metadata": {},
     "output_type": "execute_result"
    }
   ],
   "source": [
    "# numpy.arange() 함수를 이용하여 시리즈 생성\n",
    "sn = pd.Series(np.arange(10,14))\n",
    "sn"
   ]
  },
  {
   "cell_type": "markdown",
   "metadata": {},
   "source": [
    "#### ③ 결측값을 포함한 시리즈 생성\n",
    "- 결측값 NaN : numpy 모듈 nan 사용\n",
    "- 결측값 생성을 위해 numpy 모듈 임포트"
   ]
  },
  {
   "cell_type": "code",
   "execution_count": 20,
   "metadata": {},
   "outputs": [
    {
     "data": {
      "text/plain": [
       "0    1.0\n",
       "1    2.0\n",
       "2    3.0\n",
       "3    NaN\n",
       "4    4.0\n",
       "5    5.0\n",
       "dtype: float64"
      ]
     },
     "execution_count": 20,
     "metadata": {},
     "output_type": "execute_result"
    }
   ],
   "source": [
    "s = pd.Series([1,2,3,np.nan,4,5])\n",
    "s"
   ]
  },
  {
   "cell_type": "markdown",
   "metadata": {},
   "source": [
    "#### ④ 딕셔너리로 시리즈 생성\n",
    "- **Series({key1:value1, key2:value2, key3:value3, ... })**\n",
    "    - 인덱스 -> key\n",
    "    - 값 -> value"
   ]
  },
  {
   "cell_type": "code",
   "execution_count": 23,
   "metadata": {},
   "outputs": [
    {
     "data": {
      "text/plain": [
       "홍길동     50\n",
       "강감찬     90\n",
       "이순신    100\n",
       "dtype: int64"
      ]
     },
     "execution_count": 23,
     "metadata": {},
     "output_type": "execute_result"
    }
   ],
   "source": [
    "dic = {'홍길동':50, '강감찬':90, '이순신':100} \n",
    "d = pd.Series(dic)\n",
    "d"
   ]
  },
  {
   "cell_type": "markdown",
   "metadata": {},
   "source": [
    "### 2) 인덱스를 명시하여 시리즈 생성"
   ]
  },
  {
   "cell_type": "markdown",
   "metadata": {},
   "source": [
    "**[형식]** pd.Series([값1, 값2, 값3, ... ], **`index=[1,2,3, ...]`**)"
   ]
  },
  {
   "cell_type": "markdown",
   "metadata": {},
   "source": [
    "#### ① 숫자 인덱스 지정\n",
    "\n",
    "- s = pd.Series([값1, 값2, 값3, ... ], **index=[1,2,3, ...]**)"
   ]
  },
  {
   "cell_type": "code",
   "execution_count": 27,
   "metadata": {},
   "outputs": [
    {
     "data": {
      "text/plain": [
       "5    1.0\n",
       "4    2.0\n",
       "3    3.0\n",
       "2    NaN\n",
       "1    4.0\n",
       "0    5.0\n",
       "dtype: float64"
      ]
     },
     "execution_count": 27,
     "metadata": {},
     "output_type": "execute_result"
    }
   ],
   "source": [
    "# 숫자(정수, 위치) 인덱스 지정\n",
    "s = pd.Series([1,2,3,np.nan,4,5], index = [5,4,3,2,1,0])\n",
    "s"
   ]
  },
  {
   "cell_type": "markdown",
   "metadata": {},
   "source": [
    "#### ② 문자 인덱스 지정"
   ]
  },
  {
   "cell_type": "code",
   "execution_count": 31,
   "metadata": {},
   "outputs": [
    {
     "data": {
      "text/plain": [
       "kim     10\n",
       "lee     20\n",
       "choi    30\n",
       "dtype: int64"
      ]
     },
     "execution_count": 31,
     "metadata": {},
     "output_type": "execute_result"
    }
   ],
   "source": [
    "# 문자 인덱스 지정\n",
    "s2 = pd.Series([10,20,30], index = ['kim', 'lee','choi'])\n",
    "s2"
   ]
  },
  {
   "cell_type": "markdown",
   "metadata": {},
   "source": [
    "#### ③ 딕셔너리 기반으로 생성한 시리즈 인덱스 설정"
   ]
  },
  {
   "cell_type": "markdown",
   "metadata": {},
   "source": [
    "- 딕셔너리의 원소는 순서를 갖지 않는다.\n",
    "    - 딕셔너리로 생성된 시리즈의 원소도 순서가 보장되지 않는다.\n",
    "    - 만약 순서를 보장하고 싶으면 인덱스를 리스트로 지정해야 한다."
   ]
  },
  {
   "cell_type": "code",
   "execution_count": 36,
   "metadata": {
    "scrolled": true
   },
   "outputs": [
    {
     "data": {
      "text/plain": [
       "{'서울': 9900000, '부산': 3400000, '인천': 2700000, '대전': 1500000}"
      ]
     },
     "execution_count": 36,
     "metadata": {},
     "output_type": "execute_result"
    },
    {
     "data": {
      "text/plain": [
       "서울    9900000\n",
       "부산    3400000\n",
       "인천    2700000\n",
       "대전    1500000\n",
       "dtype: int64"
      ]
     },
     "execution_count": 36,
     "metadata": {},
     "output_type": "execute_result"
    }
   ],
   "source": [
    "city = {'서울':9900000, '부산':3400000, '인천':2700000, '대전':1500000}\n",
    "city\n",
    "s3 = pd.Series(city)\n",
    "s3"
   ]
  },
  {
   "cell_type": "code",
   "execution_count": 54,
   "metadata": {},
   "outputs": [
    {
     "data": {
      "text/plain": [
       "seoul      9900000\n",
       "busan      3400000\n",
       "incheon    2700000\n",
       "daejeon    1500000\n",
       "dtype: int64"
      ]
     },
     "execution_count": 54,
     "metadata": {},
     "output_type": "execute_result"
    }
   ],
   "source": [
    "# 딕셔너리 기반으로 생성한 시리즈 인덱스 변경설정\n",
    "s4 = pd.Series(s3.values, index= ['seoul', 'busan', 'incheon','daejeon'])\n",
    "s4"
   ]
  },
  {
   "cell_type": "markdown",
   "metadata": {},
   "source": [
    "-------"
   ]
  },
  {
   "cell_type": "markdown",
   "metadata": {},
   "source": [
    "## 3. 시리즈의 속성들"
   ]
  },
  {
   "cell_type": "markdown",
   "metadata": {},
   "source": [
    "### 1) 시리즈의 index"
   ]
  },
  {
   "cell_type": "markdown",
   "metadata": {},
   "source": [
    "- 시리즈의 index는 index 속성으로 접근 : **시리즈.index**"
   ]
  },
  {
   "cell_type": "code",
   "execution_count": 40,
   "metadata": {},
   "outputs": [
    {
     "data": {
      "text/plain": [
       "0    11\n",
       "1    22\n",
       "2    33\n",
       "3    44\n",
       "4    55\n",
       "dtype: int64"
      ]
     },
     "execution_count": 40,
     "metadata": {},
     "output_type": "execute_result"
    }
   ],
   "source": [
    "# 시리즈객체.index\n",
    "s1"
   ]
  },
  {
   "cell_type": "code",
   "execution_count": 41,
   "metadata": {},
   "outputs": [
    {
     "data": {
      "text/plain": [
       "RangeIndex(start=0, stop=5, step=1)"
      ]
     },
     "execution_count": 41,
     "metadata": {},
     "output_type": "execute_result"
    }
   ],
   "source": [
    "s1.index"
   ]
  },
  {
   "cell_type": "code",
   "execution_count": 42,
   "metadata": {},
   "outputs": [
    {
     "data": {
      "text/plain": [
       "서울    9900000\n",
       "부산    3400000\n",
       "인천    2700000\n",
       "대전    1500000\n",
       "dtype: int64"
      ]
     },
     "execution_count": 42,
     "metadata": {},
     "output_type": "execute_result"
    },
    {
     "data": {
      "text/plain": [
       "Index(['서울', '부산', '인천', '대전'], dtype='object')"
      ]
     },
     "execution_count": 42,
     "metadata": {},
     "output_type": "execute_result"
    }
   ],
   "source": [
    "s3\n",
    "s3.index"
   ]
  },
  {
   "cell_type": "markdown",
   "metadata": {},
   "source": [
    "### 2) 시리즈.index.name 속성\n",
    "\n",
    "- 시리즈의 인덱스에 이름을 붙일 수 있음"
   ]
  },
  {
   "cell_type": "code",
   "execution_count": 47,
   "metadata": {},
   "outputs": [
    {
     "name": "stdout",
     "output_type": "stream",
     "text": [
      "도시\n"
     ]
    }
   ],
   "source": [
    "print(s3.index.name)"
   ]
  },
  {
   "cell_type": "code",
   "execution_count": 48,
   "metadata": {},
   "outputs": [],
   "source": [
    "s3.index.name = '도시'"
   ]
  },
  {
   "cell_type": "code",
   "execution_count": 50,
   "metadata": {},
   "outputs": [
    {
     "data": {
      "text/plain": [
       "도시\n",
       "서울    9900000\n",
       "부산    3400000\n",
       "인천    2700000\n",
       "대전    1500000\n",
       "dtype: int64"
      ]
     },
     "execution_count": 50,
     "metadata": {},
     "output_type": "execute_result"
    }
   ],
   "source": [
    "s3"
   ]
  },
  {
   "cell_type": "markdown",
   "metadata": {},
   "source": [
    "### 3) 시리즈의 값(value)\n",
    "- numpy 자료구조 : 1차원 배열 \n",
    "- values 속성으로 접근 : **시리즈.values**"
   ]
  },
  {
   "cell_type": "code",
   "execution_count": 52,
   "metadata": {},
   "outputs": [
    {
     "data": {
      "text/plain": [
       "array([9900000, 3400000, 2700000, 1500000], dtype=int64)"
      ]
     },
     "execution_count": 52,
     "metadata": {},
     "output_type": "execute_result"
    }
   ],
   "source": [
    "s3.values"
   ]
  },
  {
   "cell_type": "markdown",
   "metadata": {},
   "source": [
    "### 4) 시리즈.name 속성\n",
    "- 시리즈 데이터에 이름을 붙일 수 있음\n",
    "- name 속성은 값의 의미 전달에 사용"
   ]
  },
  {
   "cell_type": "code",
   "execution_count": 56,
   "metadata": {},
   "outputs": [
    {
     "data": {
      "text/plain": [
       "0    11\n",
       "1    22\n",
       "2    33\n",
       "3    44\n",
       "4    55\n",
       "dtype: int64"
      ]
     },
     "execution_count": 56,
     "metadata": {},
     "output_type": "execute_result"
    },
    {
     "name": "stdout",
     "output_type": "stream",
     "text": [
      "None\n"
     ]
    }
   ],
   "source": [
    "s1\n",
    "print(s1.name)"
   ]
  },
  {
   "cell_type": "code",
   "execution_count": 59,
   "metadata": {},
   "outputs": [
    {
     "data": {
      "text/plain": [
       "도시\n",
       "서울    9900000\n",
       "부산    3400000\n",
       "인천    2700000\n",
       "대전    1500000\n",
       "Name: 인구수, dtype: int64"
      ]
     },
     "execution_count": 59,
     "metadata": {},
     "output_type": "execute_result"
    }
   ],
   "source": [
    "s3.name = '인구수'\n",
    "s3"
   ]
  },
  {
   "cell_type": "markdown",
   "metadata": {},
   "source": [
    "## 4. 시리즈 인덱싱(indexing)"
   ]
  },
  {
   "cell_type": "markdown",
   "metadata": {},
   "source": [
    "#### 시리즈의 인덱싱 종류\n",
    "\n",
    "- 정수형 위치 인덱스(integer position)\n",
    "    - RangeIndex 객체\n",
    "    \n",
    "    \n",
    "- 인덱스 이름(index name) 또는  인덱스 라벨(index label)"
   ]
  },
  {
   "cell_type": "markdown",
   "metadata": {},
   "source": [
    "#### <인덱스 구조>"
   ]
  },
  {
   "cell_type": "markdown",
   "metadata": {},
   "source": [
    "※인덱스를 지정하지 않으면 0부터 시작하는 정수형 인덱스가 지정됨"
   ]
  },
  {
   "cell_type": "markdown",
   "metadata": {},
   "source": [
    "### 1) 원소 접근\n",
    "- 정수형 위치인덱스 : 객체명[정수인덱스]\n",
    "    - 예. s[0]\n",
    "\n",
    "\n",
    "- 문자형 인덱스 : 객체명['문자인덱스'] 또는 객체명.문자인덱스명\n",
    "    - 예. s['인천'],  s.인천"
   ]
  },
  {
   "cell_type": "markdown",
   "metadata": {},
   "source": [
    "#### ① 정수형 위치인덱스 접근"
   ]
  },
  {
   "cell_type": "code",
   "execution_count": 61,
   "metadata": {
    "scrolled": true
   },
   "outputs": [
    {
     "data": {
      "text/plain": [
       "0    11\n",
       "1    22\n",
       "2    33\n",
       "3    44\n",
       "4    55\n",
       "Name: 숫자, dtype: int64"
      ]
     },
     "execution_count": 61,
     "metadata": {},
     "output_type": "execute_result"
    }
   ],
   "source": [
    "s1"
   ]
  },
  {
   "cell_type": "code",
   "execution_count": 62,
   "metadata": {},
   "outputs": [
    {
     "data": {
      "text/plain": [
       "11"
      ]
     },
     "execution_count": 62,
     "metadata": {},
     "output_type": "execute_result"
    }
   ],
   "source": [
    "s1[0]"
   ]
  },
  {
   "cell_type": "code",
   "execution_count": 63,
   "metadata": {},
   "outputs": [
    {
     "data": {
      "text/plain": [
       "RangeIndex(start=0, stop=5, step=1)"
      ]
     },
     "execution_count": 63,
     "metadata": {},
     "output_type": "execute_result"
    }
   ],
   "source": [
    "s1.index"
   ]
  },
  {
   "cell_type": "markdown",
   "metadata": {},
   "source": [
    "#### ② 문자형 인덱스 접근"
   ]
  },
  {
   "cell_type": "code",
   "execution_count": 64,
   "metadata": {},
   "outputs": [
    {
     "data": {
      "text/plain": [
       "Index(['서울', '부산', '인천', '대전'], dtype='object', name='도시')"
      ]
     },
     "execution_count": 64,
     "metadata": {},
     "output_type": "execute_result"
    }
   ],
   "source": [
    "s3.index"
   ]
  },
  {
   "cell_type": "code",
   "execution_count": 70,
   "metadata": {},
   "outputs": [
    {
     "data": {
      "text/plain": [
       "9900000"
      ]
     },
     "execution_count": 70,
     "metadata": {},
     "output_type": "execute_result"
    },
    {
     "data": {
      "text/plain": [
       "9900000"
      ]
     },
     "execution_count": 70,
     "metadata": {},
     "output_type": "execute_result"
    },
    {
     "data": {
      "text/plain": [
       "9900000"
      ]
     },
     "execution_count": 70,
     "metadata": {},
     "output_type": "execute_result"
    }
   ],
   "source": [
    "s3['서울']\n",
    "s3.서울\n",
    "s3.iloc[0]"
   ]
  },
  {
   "cell_type": "code",
   "execution_count": 71,
   "metadata": {},
   "outputs": [
    {
     "data": {
      "text/plain": [
       "3400000"
      ]
     },
     "execution_count": 71,
     "metadata": {},
     "output_type": "execute_result"
    },
    {
     "data": {
      "text/plain": [
       "3400000"
      ]
     },
     "execution_count": 71,
     "metadata": {},
     "output_type": "execute_result"
    },
    {
     "data": {
      "text/plain": [
       "3400000"
      ]
     },
     "execution_count": 71,
     "metadata": {},
     "output_type": "execute_result"
    }
   ],
   "source": [
    "# 문제. s3 시리즈에서 부산의 값을 가져오기\n",
    "s3.부산\n",
    "s3['부산']\n",
    "s3.iloc[1]"
   ]
  },
  {
   "cell_type": "markdown",
   "metadata": {},
   "source": [
    "### 2) 리스트 이용 인덱싱\n",
    "- 자료의 순서를 바꾸거나 특정자료 여러 개를 선택할 수 있다.\n",
    "- 인덱스값 여러 개를 이용해 접근시 [ ]안에 넣는다"
   ]
  },
  {
   "cell_type": "code",
   "execution_count": 74,
   "metadata": {
    "scrolled": true
   },
   "outputs": [
    {
     "data": {
      "text/plain": [
       "0    11\n",
       "1    22\n",
       "2    33\n",
       "3    44\n",
       "4    55\n",
       "Name: 숫자, dtype: int64"
      ]
     },
     "execution_count": 74,
     "metadata": {},
     "output_type": "execute_result"
    },
    {
     "data": {
      "text/plain": [
       "1    22\n",
       "2    33\n",
       "3    44\n",
       "Name: 숫자, dtype: int64"
      ]
     },
     "execution_count": 74,
     "metadata": {},
     "output_type": "execute_result"
    }
   ],
   "source": [
    "# 여러 개 접근\n",
    "# [정수인덱스1,정수인덱스2,...]\n",
    "s1\n",
    "s1[[1,2,3]]"
   ]
  },
  {
   "cell_type": "code",
   "execution_count": 75,
   "metadata": {},
   "outputs": [
    {
     "data": {
      "text/plain": [
       "kim     10\n",
       "choi    30\n",
       "dtype: int64"
      ]
     },
     "execution_count": 75,
     "metadata": {},
     "output_type": "execute_result"
    }
   ],
   "source": [
    "# [문자인덱스1, 문자인덱스2,...]\n",
    "s2[['kim', 'choi']]"
   ]
  },
  {
   "cell_type": "markdown",
   "metadata": {},
   "source": [
    "### 3) 인덱스 통한 시리즈 데이터 변경"
   ]
  },
  {
   "cell_type": "code",
   "execution_count": 76,
   "metadata": {},
   "outputs": [
    {
     "data": {
      "text/plain": [
       "도시\n",
       "서울    9900000\n",
       "부산    3400000\n",
       "인천    2700000\n",
       "대전    1500000\n",
       "Name: 인구수, dtype: int64"
      ]
     },
     "execution_count": 76,
     "metadata": {},
     "output_type": "execute_result"
    }
   ],
   "source": [
    "s3"
   ]
  },
  {
   "cell_type": "code",
   "execution_count": 78,
   "metadata": {},
   "outputs": [
    {
     "data": {
      "text/plain": [
       "도시\n",
       "서울    9000000\n",
       "부산    3400000\n",
       "인천    2700000\n",
       "대전    1500000\n",
       "Name: 인구수, dtype: int64"
      ]
     },
     "execution_count": 78,
     "metadata": {},
     "output_type": "execute_result"
    }
   ],
   "source": [
    "# '서울' 데이터 변경\n",
    "s3.서울 = 9000000\n",
    "s3"
   ]
  },
  {
   "cell_type": "markdown",
   "metadata": {},
   "source": [
    "### 4) 인덱스 재사용"
   ]
  },
  {
   "cell_type": "code",
   "execution_count": 81,
   "metadata": {},
   "outputs": [
    {
     "data": {
      "text/plain": [
       "도시\n",
       "서울     11320036\n",
       "부산      3566796\n",
       "인천    123457754\n",
       "대전    321321112\n",
       "dtype: int64"
      ]
     },
     "execution_count": 81,
     "metadata": {},
     "output_type": "execute_result"
    }
   ],
   "source": [
    "s5 = pd.Series([11320036, 3566796,123457754,321321112], index = s3.index)\n",
    "s5"
   ]
  },
  {
   "cell_type": "code",
   "execution_count": null,
   "metadata": {},
   "outputs": [],
   "source": []
  },
  {
   "cell_type": "markdown",
   "metadata": {},
   "source": [
    "## 5. 시리즈 슬라이싱(slicing)\n",
    "\n",
    "- 정수형 위치 인덱스를 사용한 슬라이싱\n",
    "    - 시리즈[start : stop+1]\n",
    "\n",
    "\n",
    "- 문자(라벨)인덱스 이용 슬라이싱\n",
    "    - 시리즈['시작라벨' : '끝라벨']  : 표시된 라벨 범위 모두 추출"
   ]
  },
  {
   "cell_type": "code",
   "execution_count": 82,
   "metadata": {},
   "outputs": [
    {
     "data": {
      "text/plain": [
       "0    11\n",
       "1    22\n",
       "2    33\n",
       "3    44\n",
       "4    55\n",
       "Name: 숫자, dtype: int64"
      ]
     },
     "execution_count": 82,
     "metadata": {},
     "output_type": "execute_result"
    },
    {
     "data": {
      "text/plain": [
       "1    22\n",
       "2    33\n",
       "Name: 숫자, dtype: int64"
      ]
     },
     "execution_count": 82,
     "metadata": {},
     "output_type": "execute_result"
    }
   ],
   "source": [
    "# 정수형 위치인덱스를 사용하여 슬라이싱\n",
    "s1\n",
    "s1[1:3]"
   ]
  },
  {
   "cell_type": "code",
   "execution_count": 83,
   "metadata": {},
   "outputs": [
    {
     "data": {
      "text/plain": [
       "도시\n",
       "서울    9000000\n",
       "부산    3400000\n",
       "인천    2700000\n",
       "Name: 인구수, dtype: int64"
      ]
     },
     "execution_count": 83,
     "metadata": {},
     "output_type": "execute_result"
    }
   ],
   "source": [
    "# 문자열인덱스를 사용하여 슬라이싱\n",
    "s3['서울':'인천']"
   ]
  },
  {
   "cell_type": "markdown",
   "metadata": {},
   "source": [
    "## 6. 시리즈 연산"
   ]
  },
  {
   "cell_type": "markdown",
   "metadata": {},
   "source": [
    "### 1) 벡터화 연산\n",
    "- numpy 배열처럼 pandas의 시리즈도 벡터화 연산 가능 \n",
    "- 벡터화 연산이란 집합적 자료형의 원소 각각을 독립적으로 계산을 진행하는 방법\n",
    "    - 단, 연산은 시리즈의 값에만 적용되며 인덱스 값은 변경 불가\n",
    "    \n",
    "#### 시리즈와 숫자(스칼라) 연산 : Series객체 + 연산자(+, \\*, -, / ) + 숫자"
   ]
  },
  {
   "cell_type": "code",
   "execution_count": 86,
   "metadata": {
    "scrolled": true
   },
   "outputs": [
    {
     "data": {
      "text/plain": [
       "5    2.321233\n",
       "4    3.321233\n",
       "3    4.321233\n",
       "2         NaN\n",
       "1    5.321233\n",
       "0    6.321233\n",
       "dtype: float64"
      ]
     },
     "execution_count": 86,
     "metadata": {},
     "output_type": "execute_result"
    }
   ],
   "source": [
    "# 시리즈와 스칼라의 합\n",
    "s +1.321233"
   ]
  },
  {
   "cell_type": "code",
   "execution_count": 92,
   "metadata": {},
   "outputs": [
    {
     "data": {
      "text/plain": [
       "5    1.0\n",
       "4    2.0\n",
       "3    3.0\n",
       "2    NaN\n",
       "1    4.0\n",
       "0    5.0\n",
       "dtype: float64"
      ]
     },
     "execution_count": 92,
     "metadata": {},
     "output_type": "execute_result"
    },
    {
     "data": {
      "text/plain": [
       "0    11\n",
       "1    22\n",
       "2    33\n",
       "3    44\n",
       "4    55\n",
       "Name: 숫자, dtype: int64"
      ]
     },
     "execution_count": 92,
     "metadata": {},
     "output_type": "execute_result"
    },
    {
     "data": {
      "text/plain": [
       "0    16.0\n",
       "1    26.0\n",
       "2     NaN\n",
       "3    47.0\n",
       "4    57.0\n",
       "5     NaN\n",
       "dtype: float64"
      ]
     },
     "execution_count": 92,
     "metadata": {},
     "output_type": "execute_result"
    }
   ],
   "source": [
    "s\n",
    "s1\n",
    "s1 + s"
   ]
  },
  {
   "cell_type": "code",
   "execution_count": 90,
   "metadata": {
    "scrolled": true
   },
   "outputs": [
    {
     "data": {
      "text/plain": [
       "도시\n",
       "서울    9.0\n",
       "부산    3.4\n",
       "인천    2.7\n",
       "대전    1.5\n",
       "Name: 인구수, dtype: float64"
      ]
     },
     "execution_count": 90,
     "metadata": {},
     "output_type": "execute_result"
    }
   ],
   "source": [
    "# 시리즈의 값을 1/1000000로 변경\n",
    "s3 / 1000000"
   ]
  },
  {
   "cell_type": "markdown",
   "metadata": {},
   "source": [
    "### 2) 벡터화 인덱싱(Boolean selection)\n",
    "- boolean Series가 []와 함께 사용되면 True 값에 해당하는 값만 새로 반환되는 Series객체에 포함됨\n",
    "- 다중조건의 경우, &(and), |(or)를 사용하여 연결 가능"
   ]
  },
  {
   "cell_type": "code",
   "execution_count": 93,
   "metadata": {},
   "outputs": [
    {
     "data": {
      "text/plain": [
       "도시\n",
       "서울     11320036\n",
       "부산      3566796\n",
       "인천    123457754\n",
       "대전    321321112\n",
       "dtype: int64"
      ]
     },
     "execution_count": 93,
     "metadata": {},
     "output_type": "execute_result"
    }
   ],
   "source": [
    "s5"
   ]
  },
  {
   "cell_type": "code",
   "execution_count": 100,
   "metadata": {},
   "outputs": [
    {
     "data": {
      "text/plain": [
       "도시\n",
       "서울    False\n",
       "부산    False\n",
       "인천     True\n",
       "대전    False\n",
       "dtype: bool"
      ]
     },
     "execution_count": 100,
     "metadata": {},
     "output_type": "execute_result"
    }
   ],
   "source": [
    "(s5 > 25000000) & (s5 < 150000000)"
   ]
  },
  {
   "cell_type": "code",
   "execution_count": 103,
   "metadata": {},
   "outputs": [
    {
     "data": {
      "text/plain": [
       "Index(['인천'], dtype='object', name='도시')"
      ]
     },
     "execution_count": 103,
     "metadata": {},
     "output_type": "execute_result"
    },
    {
     "data": {
      "text/plain": [
       "['인천']"
      ]
     },
     "execution_count": 103,
     "metadata": {},
     "output_type": "execute_result"
    }
   ],
   "source": [
    "s5[(s5 > 25000000) & (s5 < 150000000)].index\n",
    "list(s5[(s5 > 25000000) & (s5 < 150000000)].index)"
   ]
  },
  {
   "cell_type": "code",
   "execution_count": 106,
   "metadata": {},
   "outputs": [
    {
     "data": {
      "text/plain": [
       "0      1\n",
       "1      2\n",
       "2      3\n",
       "3      4\n",
       "4      5\n",
       "5      6\n",
       "6      7\n",
       "7      8\n",
       "8      9\n",
       "9     10\n",
       "10    11\n",
       "11    12\n",
       "12    13\n",
       "13    14\n",
       "14    15\n",
       "15    16\n",
       "16    17\n",
       "17    18\n",
       "18    19\n",
       "19    20\n",
       "dtype: int32"
      ]
     },
     "execution_count": 106,
     "metadata": {},
     "output_type": "execute_result"
    }
   ],
   "source": [
    "s6 = pd.Series(np.arange(1,21))\n",
    "s6"
   ]
  },
  {
   "cell_type": "code",
   "execution_count": 110,
   "metadata": {},
   "outputs": [
    {
     "data": {
      "text/plain": [
       "5      6\n",
       "6      7\n",
       "7      8\n",
       "8      9\n",
       "9     10\n",
       "10    11\n",
       "11    12\n",
       "12    13\n",
       "13    14\n",
       "14    15\n",
       "15    16\n",
       "16    17\n",
       "17    18\n",
       "18    19\n",
       "19    20\n",
       "dtype: int32"
      ]
     },
     "execution_count": 110,
     "metadata": {},
     "output_type": "execute_result"
    }
   ],
   "source": [
    "# 값이 5보다 큰 요소 추출\n",
    "s6[(s6 > 5)]"
   ]
  },
  {
   "cell_type": "code",
   "execution_count": 111,
   "metadata": {},
   "outputs": [
    {
     "data": {
      "text/plain": [
       "1      2\n",
       "3      4\n",
       "5      6\n",
       "7      8\n",
       "9     10\n",
       "11    12\n",
       "13    14\n",
       "15    16\n",
       "17    18\n",
       "19    20\n",
       "dtype: int32"
      ]
     },
     "execution_count": 111,
     "metadata": {},
     "output_type": "execute_result"
    }
   ],
   "source": [
    "# 짝수 추출\n",
    "s6[s6 % 2 ==0]"
   ]
  },
  {
   "cell_type": "code",
   "execution_count": 113,
   "metadata": {},
   "outputs": [
    {
     "data": {
      "text/plain": [
       "5      6\n",
       "6      7\n",
       "7      8\n",
       "8      9\n",
       "9     10\n",
       "10    11\n",
       "11    12\n",
       "12    13\n",
       "13    14\n",
       "14    15\n",
       "15    16\n",
       "16    17\n",
       "17    18\n",
       "18    19\n",
       "19    20\n",
       "dtype: int32"
      ]
     },
     "execution_count": 113,
     "metadata": {},
     "output_type": "execute_result"
    }
   ],
   "source": [
    "# 인덱스가 5이상인 요소들 추출\n",
    "s6[s6.index >= 5]"
   ]
  },
  {
   "cell_type": "code",
   "execution_count": 114,
   "metadata": {},
   "outputs": [
    {
     "data": {
      "text/plain": [
       "4    5\n",
       "5    6\n",
       "6    7\n",
       "7    8\n",
       "dtype: int32"
      ]
     },
     "execution_count": 114,
     "metadata": {},
     "output_type": "execute_result"
    }
   ],
   "source": [
    "# 값이 5이상 8이하인 요소 추출\n",
    "s6[(s6 >= 5) & (s6 <= 8)]"
   ]
  },
  {
   "cell_type": "code",
   "execution_count": 122,
   "metadata": {},
   "outputs": [
    {
     "data": {
      "text/plain": [
       "189"
      ]
     },
     "execution_count": 122,
     "metadata": {},
     "output_type": "execute_result"
    }
   ],
   "source": [
    "# 값이 7이상인 수들의 합\n",
    "s6[s6 >= 7].sum()"
   ]
  },
  {
   "cell_type": "code",
   "execution_count": 121,
   "metadata": {},
   "outputs": [
    {
     "data": {
      "text/plain": [
       "13.5"
      ]
     },
     "execution_count": 121,
     "metadata": {},
     "output_type": "execute_result"
    },
    {
     "data": {
      "text/plain": [
       "13.5"
      ]
     },
     "execution_count": 121,
     "metadata": {},
     "output_type": "execute_result"
    }
   ],
   "source": [
    "# 값이 7이상인 수들의 평균\n",
    "np.mean(s6[s6 >= 7])\n",
    "s6[s6 >= 7].mean()"
   ]
  },
  {
   "cell_type": "code",
   "execution_count": 123,
   "metadata": {},
   "outputs": [
    {
     "data": {
      "text/plain": [
       "14"
      ]
     },
     "execution_count": 123,
     "metadata": {},
     "output_type": "execute_result"
    }
   ],
   "source": [
    "# 값이 7이상인 수들의 개수\n",
    "s6[s6 >= 7].count()"
   ]
  },
  {
   "cell_type": "markdown",
   "metadata": {},
   "source": [
    "### 3) 두 시리즈 간의 연산"
   ]
  },
  {
   "cell_type": "markdown",
   "metadata": {},
   "source": [
    "#### 시리즈와 시리즈 연산 : Series1 + 연산자(+, \\*, -, /) +Series2"
   ]
  },
  {
   "cell_type": "markdown",
   "metadata": {},
   "source": [
    "- 시리즈간의 연산은 같은 인덱스를 찾아 연산을 진행\n",
    "- 동일한 인덱스는 연산을 진행하고 나머지 인덱스는 연산처리가 불가 해 NaN 값 처리"
   ]
  },
  {
   "cell_type": "code",
   "execution_count": 128,
   "metadata": {},
   "outputs": [
    {
     "data": {
      "text/plain": [
       "a    1\n",
       "b    2\n",
       "c    3\n",
       "d    4\n",
       "dtype: int64"
      ]
     },
     "execution_count": 128,
     "metadata": {},
     "output_type": "execute_result"
    }
   ],
   "source": [
    "s1=pd.Series([1,2,3,4], index = 'a b c d'.split())\n",
    "s1"
   ]
  },
  {
   "cell_type": "code",
   "execution_count": 129,
   "metadata": {
    "scrolled": true
   },
   "outputs": [
    {
     "data": {
      "text/plain": [
       "b    5\n",
       "c    6\n",
       "d    7\n",
       "e    8\n",
       "dtype: int64"
      ]
     },
     "execution_count": 129,
     "metadata": {},
     "output_type": "execute_result"
    }
   ],
   "source": [
    "s2 = pd.Series([5,6,7,8], index='b c d e'.split())\n",
    "s2"
   ]
  },
  {
   "cell_type": "markdown",
   "metadata": {},
   "source": [
    "#### ① 시리즈 + 시리즈\n",
    "- **같은 인덱스를 찾아 + 연산을 진행**"
   ]
  },
  {
   "cell_type": "code",
   "execution_count": 130,
   "metadata": {},
   "outputs": [
    {
     "data": {
      "text/plain": [
       "a     NaN\n",
       "b     7.0\n",
       "c     9.0\n",
       "d    11.0\n",
       "e     NaN\n",
       "dtype: float64"
      ]
     },
     "execution_count": 130,
     "metadata": {},
     "output_type": "execute_result"
    }
   ],
   "source": [
    "# 두 시리즈에 대한 + 연산 : 같은 인덱스를 기준으로 + 연산 수행\n",
    "s1 + s2"
   ]
  },
  {
   "cell_type": "markdown",
   "metadata": {},
   "source": [
    "- **동일한 인덱스가 없는 경우 나머지 인덱스는 연산처리가 불가하여 NaN으로 처리**"
   ]
  },
  {
   "cell_type": "code",
   "execution_count": 137,
   "metadata": {},
   "outputs": [
    {
     "data": {
      "text/plain": [
       "e    10\n",
       "d    11\n",
       "f    12\n",
       "g    13\n",
       "dtype: int64"
      ]
     },
     "execution_count": 137,
     "metadata": {},
     "output_type": "execute_result"
    },
    {
     "data": {
      "text/plain": [
       "a    10\n",
       "b    20\n",
       "h    30\n",
       "i    40\n",
       "dtype: int64"
      ]
     },
     "execution_count": 137,
     "metadata": {},
     "output_type": "execute_result"
    }
   ],
   "source": [
    "s3 = pd.Series([10,11,12,13], index = 'e d f g'.split())\n",
    "s3\n",
    "s4 = pd.Series([10,20,30,40], index = 'a b h i'.split())\n",
    "s4"
   ]
  },
  {
   "cell_type": "code",
   "execution_count": 138,
   "metadata": {
    "scrolled": true
   },
   "outputs": [
    {
     "data": {
      "text/plain": [
       "a   NaN\n",
       "b   NaN\n",
       "d   NaN\n",
       "e   NaN\n",
       "f   NaN\n",
       "g   NaN\n",
       "h   NaN\n",
       "i   NaN\n",
       "dtype: float64"
      ]
     },
     "execution_count": 138,
     "metadata": {},
     "output_type": "execute_result"
    }
   ],
   "source": [
    "s3 + s4"
   ]
  },
  {
   "cell_type": "code",
   "execution_count": 139,
   "metadata": {},
   "outputs": [
    {
     "data": {
      "text/plain": [
       "0    -10.0\n",
       "1     50.0\n",
       "2      NaN\n",
       "3    100.0\n",
       "dtype: float64"
      ]
     },
     "execution_count": 139,
     "metadata": {},
     "output_type": "execute_result"
    }
   ],
   "source": [
    "s5 = pd.Series([-10,50, np.nan, 100])\n",
    "s5"
   ]
  },
  {
   "cell_type": "code",
   "execution_count": 142,
   "metadata": {},
   "outputs": [
    {
     "data": {
      "text/plain": [
       "a     -9.0\n",
       "b     52.0\n",
       "c      NaN\n",
       "d    104.0\n",
       "dtype: float64"
      ]
     },
     "execution_count": 142,
     "metadata": {},
     "output_type": "execute_result"
    }
   ],
   "source": [
    "s1 + s5"
   ]
  },
  {
   "cell_type": "markdown",
   "metadata": {},
   "source": [
    "#### ② 시리즈 - 시리즈"
   ]
  },
  {
   "cell_type": "code",
   "execution_count": 143,
   "metadata": {
    "scrolled": true
   },
   "outputs": [
    {
     "data": {
      "text/plain": [
       "a    NaN\n",
       "b   -3.0\n",
       "c   -3.0\n",
       "d   -3.0\n",
       "e    NaN\n",
       "dtype: float64"
      ]
     },
     "execution_count": 143,
     "metadata": {},
     "output_type": "execute_result"
    }
   ],
   "source": [
    "s1 - s2"
   ]
  },
  {
   "cell_type": "code",
   "execution_count": 144,
   "metadata": {},
   "outputs": [
    {
     "data": {
      "text/plain": [
       "a   NaN\n",
       "b   NaN\n",
       "d   NaN\n",
       "e   NaN\n",
       "f   NaN\n",
       "g   NaN\n",
       "h   NaN\n",
       "i   NaN\n",
       "dtype: float64"
      ]
     },
     "execution_count": 144,
     "metadata": {},
     "output_type": "execute_result"
    }
   ],
   "source": [
    "s3 -s4"
   ]
  },
  {
   "cell_type": "code",
   "execution_count": 147,
   "metadata": {},
   "outputs": [
    {
     "data": {
      "text/plain": [
       "a     True\n",
       "b    False\n",
       "c    False\n",
       "d    False\n",
       "dtype: bool"
      ]
     },
     "execution_count": 147,
     "metadata": {},
     "output_type": "execute_result"
    },
    {
     "ename": "ValueError",
     "evalue": "Can only compare identically-labeled Series objects",
     "output_type": "error",
     "traceback": [
      "\u001b[1;31m---------------------------------------------------------------------------\u001b[0m",
      "\u001b[1;31mValueError\u001b[0m                                Traceback (most recent call last)",
      "Cell \u001b[1;32mIn[147], line 3\u001b[0m\n\u001b[0;32m      1\u001b[0m \u001b[38;5;66;03m# 참고. >, >=, <, <=\u001b[39;00m\n\u001b[0;32m      2\u001b[0m s1 \u001b[38;5;241m>\u001b[39m s5\n\u001b[1;32m----> 3\u001b[0m s1 \u001b[38;5;241m>\u001b[39m s2\n",
      "File \u001b[1;32mC:\\ProgramData\\anaconda3\\Lib\\site-packages\\pandas\\core\\ops\\common.py:76\u001b[0m, in \u001b[0;36m_unpack_zerodim_and_defer.<locals>.new_method\u001b[1;34m(self, other)\u001b[0m\n\u001b[0;32m     72\u001b[0m             \u001b[38;5;28;01mreturn\u001b[39;00m \u001b[38;5;28mNotImplemented\u001b[39m\n\u001b[0;32m     74\u001b[0m other \u001b[38;5;241m=\u001b[39m item_from_zerodim(other)\n\u001b[1;32m---> 76\u001b[0m \u001b[38;5;28;01mreturn\u001b[39;00m method(\u001b[38;5;28mself\u001b[39m, other)\n",
      "File \u001b[1;32mC:\\ProgramData\\anaconda3\\Lib\\site-packages\\pandas\\core\\arraylike.py:56\u001b[0m, in \u001b[0;36mOpsMixin.__gt__\u001b[1;34m(self, other)\u001b[0m\n\u001b[0;32m     54\u001b[0m \u001b[38;5;129m@unpack_zerodim_and_defer\u001b[39m(\u001b[38;5;124m\"\u001b[39m\u001b[38;5;124m__gt__\u001b[39m\u001b[38;5;124m\"\u001b[39m)\n\u001b[0;32m     55\u001b[0m \u001b[38;5;28;01mdef\u001b[39;00m \u001b[38;5;21m__gt__\u001b[39m(\u001b[38;5;28mself\u001b[39m, other):\n\u001b[1;32m---> 56\u001b[0m     \u001b[38;5;28;01mreturn\u001b[39;00m \u001b[38;5;28mself\u001b[39m\u001b[38;5;241m.\u001b[39m_cmp_method(other, operator\u001b[38;5;241m.\u001b[39mgt)\n",
      "File \u001b[1;32mC:\\ProgramData\\anaconda3\\Lib\\site-packages\\pandas\\core\\series.py:5798\u001b[0m, in \u001b[0;36mSeries._cmp_method\u001b[1;34m(self, other, op)\u001b[0m\n\u001b[0;32m   5795\u001b[0m res_name \u001b[38;5;241m=\u001b[39m ops\u001b[38;5;241m.\u001b[39mget_op_result_name(\u001b[38;5;28mself\u001b[39m, other)\n\u001b[0;32m   5797\u001b[0m \u001b[38;5;28;01mif\u001b[39;00m \u001b[38;5;28misinstance\u001b[39m(other, Series) \u001b[38;5;129;01mand\u001b[39;00m \u001b[38;5;129;01mnot\u001b[39;00m \u001b[38;5;28mself\u001b[39m\u001b[38;5;241m.\u001b[39m_indexed_same(other):\n\u001b[1;32m-> 5798\u001b[0m     \u001b[38;5;28;01mraise\u001b[39;00m \u001b[38;5;167;01mValueError\u001b[39;00m(\u001b[38;5;124m\"\u001b[39m\u001b[38;5;124mCan only compare identically-labeled Series objects\u001b[39m\u001b[38;5;124m\"\u001b[39m)\n\u001b[0;32m   5800\u001b[0m lvalues \u001b[38;5;241m=\u001b[39m \u001b[38;5;28mself\u001b[39m\u001b[38;5;241m.\u001b[39m_values\n\u001b[0;32m   5801\u001b[0m rvalues \u001b[38;5;241m=\u001b[39m extract_array(other, extract_numpy\u001b[38;5;241m=\u001b[39m\u001b[38;5;28;01mTrue\u001b[39;00m, extract_range\u001b[38;5;241m=\u001b[39m\u001b[38;5;28;01mTrue\u001b[39;00m)\n",
      "\u001b[1;31mValueError\u001b[0m: Can only compare identically-labeled Series objects"
     ]
    }
   ],
   "source": [
    "# 참고. >, >=, <, <=\n",
    "s1 > s5\n",
    "s1 > s2"
   ]
  },
  {
   "cell_type": "markdown",
   "metadata": {},
   "source": [
    "#### ③ 시리즈의 values 속성을 이용한 연산\n",
    "- values 속성을 사용하면 시리즈의 형태가 사라지므로 동일 위치 원소들끼리 연산\n",
    "- 시리즈.values 는 array 형태 반환"
   ]
  },
  {
   "cell_type": "code",
   "execution_count": 148,
   "metadata": {},
   "outputs": [
    {
     "data": {
      "text/plain": [
       "a    1\n",
       "b    2\n",
       "c    3\n",
       "d    4\n",
       "dtype: int64"
      ]
     },
     "execution_count": 148,
     "metadata": {},
     "output_type": "execute_result"
    },
    {
     "data": {
      "text/plain": [
       "array([1, 2, 3, 4], dtype=int64)"
      ]
     },
     "execution_count": 148,
     "metadata": {},
     "output_type": "execute_result"
    },
    {
     "data": {
      "text/plain": [
       "b    5\n",
       "c    6\n",
       "d    7\n",
       "e    8\n",
       "dtype: int64"
      ]
     },
     "execution_count": 148,
     "metadata": {},
     "output_type": "execute_result"
    },
    {
     "data": {
      "text/plain": [
       "array([5, 6, 7, 8], dtype=int64)"
      ]
     },
     "execution_count": 148,
     "metadata": {},
     "output_type": "execute_result"
    }
   ],
   "source": [
    "# 시리즈의 values속성은 ndarray 형태로 가져옴\n",
    "s1\n",
    "s1.values\n",
    "s2\n",
    "s2.values"
   ]
  },
  {
   "cell_type": "code",
   "execution_count": 149,
   "metadata": {},
   "outputs": [
    {
     "data": {
      "text/plain": [
       "array([-4, -4, -4, -4], dtype=int64)"
      ]
     },
     "execution_count": 149,
     "metadata": {},
     "output_type": "execute_result"
    }
   ],
   "source": [
    "# 시리즈의 요소간에 - 연산 수행 : 인덱스 무시\n",
    "s1.values - s2.values"
   ]
  },
  {
   "cell_type": "markdown",
   "metadata": {},
   "source": [
    "### 4) 시리즈 산술연산 메서드\n",
    "\n",
    "- Series1.add(Series2)\n",
    "- Series1.sub(Series2)\n",
    "- Series1.mul(Series2)\n",
    "- Series1.div(Series2)"
   ]
  },
  {
   "cell_type": "code",
   "execution_count": 153,
   "metadata": {},
   "outputs": [
    {
     "data": {
      "text/plain": [
       "a     NaN\n",
       "b     7.0\n",
       "c     9.0\n",
       "d    11.0\n",
       "e     NaN\n",
       "dtype: float64"
      ]
     },
     "execution_count": 153,
     "metadata": {},
     "output_type": "execute_result"
    },
    {
     "data": {
      "text/plain": [
       "a    NaN\n",
       "b   -3.0\n",
       "c   -3.0\n",
       "d   -3.0\n",
       "e    NaN\n",
       "dtype: float64"
      ]
     },
     "execution_count": 153,
     "metadata": {},
     "output_type": "execute_result"
    },
    {
     "data": {
      "text/plain": [
       "a     NaN\n",
       "b    10.0\n",
       "c    18.0\n",
       "d    28.0\n",
       "e     NaN\n",
       "dtype: float64"
      ]
     },
     "execution_count": 153,
     "metadata": {},
     "output_type": "execute_result"
    },
    {
     "data": {
      "text/plain": [
       "a         NaN\n",
       "b    0.400000\n",
       "c    0.500000\n",
       "d    0.571429\n",
       "e         NaN\n",
       "dtype: float64"
      ]
     },
     "execution_count": 153,
     "metadata": {},
     "output_type": "execute_result"
    }
   ],
   "source": [
    "s1.add(s2)\n",
    "s1.sub(s2)\n",
    "s1.mul(s2)\n",
    "s1.div(s2)"
   ]
  },
  {
   "cell_type": "markdown",
   "metadata": {},
   "source": [
    "### 5) in 연산자"
   ]
  },
  {
   "cell_type": "markdown",
   "metadata": {},
   "source": [
    "- 시리즈 객체는 라벨(문자)에 의해 인덱싱이 가능\n",
    "- 실질적으로는 라벨을 key로 가지는 딕셔너리 형과 같다고 볼 수 있음\n",
    "- 딕셔너리에서 제공하는 대부분의 연산자 사용 가능\n",
    "    - in 연산자 : True / False\n",
    "    - for 루프를 통해 각 원소의 key와 value에 접근"
   ]
  },
  {
   "cell_type": "code",
   "execution_count": 155,
   "metadata": {},
   "outputs": [
    {
     "data": {
      "text/plain": [
       "서울    9900000\n",
       "부산    3400000\n",
       "인천    2700000\n",
       "대전    1500000\n",
       "dtype: int64"
      ]
     },
     "execution_count": 155,
     "metadata": {},
     "output_type": "execute_result"
    }
   ],
   "source": [
    "city = {'서울':9900000, '부산':3400000, '인천':2700000, '대전':1500000}\n",
    "s = pd.Series(city)\n",
    "s"
   ]
  },
  {
   "cell_type": "code",
   "execution_count": 156,
   "metadata": {
    "scrolled": true
   },
   "outputs": [
    {
     "data": {
      "text/plain": [
       "True"
      ]
     },
     "execution_count": 156,
     "metadata": {},
     "output_type": "execute_result"
    }
   ],
   "source": [
    "# 인덱스가 '서울'인 요소가 시리즈에 있는지?\n",
    "'서울' in s"
   ]
  },
  {
   "cell_type": "code",
   "execution_count": 157,
   "metadata": {},
   "outputs": [
    {
     "data": {
      "text/plain": [
       "True"
      ]
     },
     "execution_count": 157,
     "metadata": {},
     "output_type": "execute_result"
    }
   ],
   "source": [
    "# 인덱스가 '대전'인 요소가 시리즈에 있는가?\n",
    "'대전' in s"
   ]
  },
  {
   "cell_type": "code",
   "execution_count": 158,
   "metadata": {},
   "outputs": [
    {
     "data": {
      "text/plain": [
       "False"
      ]
     },
     "execution_count": 158,
     "metadata": {},
     "output_type": "execute_result"
    }
   ],
   "source": [
    "# 인덱스가 '대구'인 요소가 시리즈에 있는가?\n",
    "'대구' in s"
   ]
  },
  {
   "cell_type": "code",
   "execution_count": 159,
   "metadata": {},
   "outputs": [
    {
     "data": {
      "text/plain": [
       "False"
      ]
     },
     "execution_count": 159,
     "metadata": {},
     "output_type": "execute_result"
    }
   ],
   "source": [
    "# 인덱스가 '인천'인 요소가 시리즈에 없는가?\n",
    "'인천' not in s"
   ]
  },
  {
   "cell_type": "code",
   "execution_count": 163,
   "metadata": {},
   "outputs": [
    {
     "data": {
      "text/plain": [
       "[('서울', 9900000), ('부산', 3400000), ('인천', 2700000), ('대전', 1500000)]"
      ]
     },
     "execution_count": 163,
     "metadata": {},
     "output_type": "execute_result"
    }
   ],
   "source": [
    "# 딕셔너리의 items()와 같은 함수를 시리즈에서도 제공 : 키와 값\n",
    "list(s.items())"
   ]
  },
  {
   "cell_type": "code",
   "execution_count": 164,
   "metadata": {},
   "outputs": [
    {
     "name": "stdout",
     "output_type": "stream",
     "text": [
      "key=서울, value=9900000\n",
      "key=부산, value=3400000\n",
      "key=인천, value=2700000\n",
      "key=대전, value=1500000\n"
     ]
    }
   ],
   "source": [
    "# 시리즈의 각 요소의 인덱스와 값을 출력\n",
    "for key, value in list(s.items()):\n",
    "    print(f'key={key}, value={value}')"
   ]
  },
  {
   "cell_type": "markdown",
   "metadata": {},
   "source": [
    "## 7. 시리즈 데이터의 갱신, 추가, 삭제"
   ]
  },
  {
   "cell_type": "markdown",
   "metadata": {},
   "source": [
    "**인덱싱을 이용하면 딕셔너리 처럼 갱신, 추가 가능**"
   ]
  },
  {
   "cell_type": "code",
   "execution_count": 165,
   "metadata": {},
   "outputs": [
    {
     "data": {
      "text/plain": [
       "서울    9900000\n",
       "부산    3400000\n",
       "인천    2700000\n",
       "대전    1500000\n",
       "dtype: int64"
      ]
     },
     "execution_count": 165,
     "metadata": {},
     "output_type": "execute_result"
    }
   ],
   "source": [
    "s"
   ]
  },
  {
   "cell_type": "markdown",
   "metadata": {},
   "source": [
    "### 1) 시리즈 데이터 갱신"
   ]
  },
  {
   "cell_type": "code",
   "execution_count": 166,
   "metadata": {},
   "outputs": [],
   "source": [
    "s.부산 = 3500000"
   ]
  },
  {
   "cell_type": "code",
   "execution_count": 167,
   "metadata": {},
   "outputs": [
    {
     "data": {
      "text/plain": [
       "서울    9900000\n",
       "부산    3500000\n",
       "인천    2700000\n",
       "대전    1500000\n",
       "dtype: int64"
      ]
     },
     "execution_count": 167,
     "metadata": {},
     "output_type": "execute_result"
    }
   ],
   "source": [
    "s"
   ]
  },
  {
   "cell_type": "markdown",
   "metadata": {},
   "source": [
    "### 2) 시리즈 데이터 삭제"
   ]
  },
  {
   "cell_type": "code",
   "execution_count": 176,
   "metadata": {},
   "outputs": [
    {
     "data": {
      "text/plain": [
       "서울    9900000\n",
       "인천    2700000\n",
       "대전    1500000\n",
       "dtype: int64"
      ]
     },
     "execution_count": 176,
     "metadata": {},
     "output_type": "execute_result"
    }
   ],
   "source": [
    "# 딕셔너리에서 요소 삭제를 위해 사용한 del 사용\n",
    "del s['부산']\n",
    "s"
   ]
  },
  {
   "cell_type": "markdown",
   "metadata": {},
   "source": [
    "### 3) 시리즈 데이터 추가"
   ]
  },
  {
   "cell_type": "code",
   "execution_count": 180,
   "metadata": {},
   "outputs": [
    {
     "data": {
      "text/plain": [
       "서울     9900000\n",
       "인천     2700000\n",
       "대전     1500000\n",
       "부산    46000000\n",
       "대구    26000000\n",
       "dtype: int64"
      ]
     },
     "execution_count": 180,
     "metadata": {},
     "output_type": "execute_result"
    }
   ],
   "source": [
    "# 시리즈에 새로운 값 추가 : 딕셔너리의 방식과 동일\n",
    "s['부산'] = 46000000\n",
    "s['대구'] = 26000000\n",
    "s"
   ]
  },
  {
   "cell_type": "markdown",
   "metadata": {},
   "source": [
    "## 8. Series 관련 함수들"
   ]
  },
  {
   "cell_type": "markdown",
   "metadata": {},
   "source": [
    "**Series size, shape, unique, count, value_counts 함수**\n",
    " - size : 시리즈 원소 개수 반환\n",
    " - shape : 튜플형태로 shape 반환\n",
    " - unique(): 유일한 값만 ndarray로 반환\n",
    " - count() : NaN을 제외한 개수를 반환\n",
    " - mean() : NaN을 제외한 평균 \n",
    " - value_counts() : NaN을 제외하고 각 값들의 빈도를 반환 "
   ]
  },
  {
   "cell_type": "code",
   "execution_count": 192,
   "metadata": {},
   "outputs": [
    {
     "data": {
      "text/plain": [
       "0     1.0\n",
       "1     1.0\n",
       "2     1.0\n",
       "3     2.0\n",
       "4     1.0\n",
       "5     2.0\n",
       "6     1.0\n",
       "7     1.0\n",
       "8     3.0\n",
       "9     5.0\n",
       "10    2.0\n",
       "11    4.0\n",
       "12    3.0\n",
       "13    NaN\n",
       "14    5.0\n",
       "15    3.0\n",
       "16    2.0\n",
       "17    1.0\n",
       "dtype: float64"
      ]
     },
     "execution_count": 192,
     "metadata": {},
     "output_type": "execute_result"
    }
   ],
   "source": [
    "s = pd.Series([1,1,1,2,1,2,1,1,3,5,2,4,3,np.nan, 5,3,2,1])\n",
    "s"
   ]
  },
  {
   "cell_type": "markdown",
   "metadata": {},
   "source": [
    "### 1) 시리즈 원소 크기"
   ]
  },
  {
   "cell_type": "code",
   "execution_count": 193,
   "metadata": {},
   "outputs": [
    {
     "data": {
      "text/plain": [
       "18"
      ]
     },
     "execution_count": 193,
     "metadata": {},
     "output_type": "execute_result"
    },
    {
     "data": {
      "text/plain": [
       "pandas.core.series.Series"
      ]
     },
     "execution_count": 193,
     "metadata": {},
     "output_type": "execute_result"
    }
   ],
   "source": [
    "len(s)\n",
    "type(s)"
   ]
  },
  {
   "cell_type": "code",
   "execution_count": 194,
   "metadata": {},
   "outputs": [
    {
     "data": {
      "text/plain": [
       "18"
      ]
     },
     "execution_count": 194,
     "metadata": {},
     "output_type": "execute_result"
    }
   ],
   "source": [
    "s.size"
   ]
  },
  {
   "cell_type": "code",
   "execution_count": 195,
   "metadata": {},
   "outputs": [
    {
     "data": {
      "text/plain": [
       "(18,)"
      ]
     },
     "execution_count": 195,
     "metadata": {},
     "output_type": "execute_result"
    }
   ],
   "source": [
    "s.shape"
   ]
  },
  {
   "cell_type": "markdown",
   "metadata": {},
   "source": [
    "### 2) unique() : 시리즈의 유일한 값 반환"
   ]
  },
  {
   "cell_type": "code",
   "execution_count": 197,
   "metadata": {},
   "outputs": [
    {
     "data": {
      "text/plain": [
       "{1.0, 2.0, 3.0, 4.0, 5.0, nan}"
      ]
     },
     "execution_count": 197,
     "metadata": {},
     "output_type": "execute_result"
    }
   ],
   "source": [
    "set(s)"
   ]
  },
  {
   "cell_type": "code",
   "execution_count": 200,
   "metadata": {},
   "outputs": [
    {
     "data": {
      "text/plain": [
       "array([ 1.,  2.,  3.,  5.,  4., nan])"
      ]
     },
     "execution_count": 200,
     "metadata": {},
     "output_type": "execute_result"
    }
   ],
   "source": [
    "s.unique()"
   ]
  },
  {
   "cell_type": "markdown",
   "metadata": {},
   "source": [
    "### 3) count() : NaN을 제외한 개수를 반환"
   ]
  },
  {
   "cell_type": "code",
   "execution_count": 201,
   "metadata": {},
   "outputs": [
    {
     "data": {
      "text/plain": [
       "17"
      ]
     },
     "execution_count": 201,
     "metadata": {},
     "output_type": "execute_result"
    }
   ],
   "source": [
    "s.count()"
   ]
  },
  {
   "cell_type": "markdown",
   "metadata": {},
   "source": [
    "### 4) mean() : 데이터의 평균"
   ]
  },
  {
   "cell_type": "code",
   "execution_count": 202,
   "metadata": {},
   "outputs": [
    {
     "data": {
      "text/plain": [
       "2.235294117647059"
      ]
     },
     "execution_count": 202,
     "metadata": {},
     "output_type": "execute_result"
    }
   ],
   "source": [
    "s.mean()"
   ]
  },
  {
   "cell_type": "markdown",
   "metadata": {},
   "source": [
    "### 5) value_counts() : 그룹핑된 원소별 개수 "
   ]
  },
  {
   "cell_type": "code",
   "execution_count": 204,
   "metadata": {},
   "outputs": [
    {
     "data": {
      "text/plain": [
       "1.0    7\n",
       "2.0    4\n",
       "3.0    3\n",
       "5.0    2\n",
       "4.0    1\n",
       "Name: count, dtype: int64"
      ]
     },
     "execution_count": 204,
     "metadata": {},
     "output_type": "execute_result"
    }
   ],
   "source": [
    "s.value_counts()"
   ]
  },
  {
   "cell_type": "markdown",
   "metadata": {},
   "source": [
    "--------------------------------------------------------"
   ]
  },
  {
   "cell_type": "markdown",
   "metadata": {},
   "source": [
    "## 참고. 날짜 인덱스 생성"
   ]
  },
  {
   "cell_type": "code",
   "execution_count": 206,
   "metadata": {
    "scrolled": true
   },
   "outputs": [
    {
     "data": {
      "text/plain": [
       "2021-10-07    200.0\n",
       "2021-10-08    195.0\n",
       "2021-10-09      NaN\n",
       "2021-10-10    205.0\n",
       "dtype: float64"
      ]
     },
     "execution_count": 206,
     "metadata": {},
     "output_type": "execute_result"
    }
   ],
   "source": [
    "index_date = ['2021-10-07', '2021-10-08', '2021-10-09', '2021-10-10']\n",
    "s = pd.Series([200, 195, np.nan, 205], index = index_date)\n",
    "s"
   ]
  },
  {
   "cell_type": "code",
   "execution_count": 207,
   "metadata": {},
   "outputs": [
    {
     "data": {
      "text/plain": [
       "Index(['2021-10-07', '2021-10-08', '2021-10-09', '2021-10-10'], dtype='object')"
      ]
     },
     "execution_count": 207,
     "metadata": {},
     "output_type": "execute_result"
    }
   ],
   "source": [
    "s.index"
   ]
  },
  {
   "cell_type": "markdown",
   "metadata": {},
   "source": [
    "### 날짜 생성 함수 : date_range()"
   ]
  },
  {
   "cell_type": "markdown",
   "metadata": {},
   "source": [
    "- 판다스 패키지의 date_range 함수 (날짜생성)\n",
    "- pd.date_range(start=None, end=None, periods=None, freq='D')\n",
    "    - start : 시작날짜\n",
    "    - end : 끝날짜\n",
    "    - periods : 날짜 생성기간\n",
    "    - freq : 날짜 생성 주기, 기본값은 'D' (Day)\n",
    "    - start는 필수 옵션/end나 periods는 둘 중 하나가 있어야 함"
   ]
  },
  {
   "cell_type": "markdown",
   "metadata": {},
   "source": [
    "### 일별 간격으로 날짜 생성"
   ]
  },
  {
   "cell_type": "code",
   "execution_count": 208,
   "metadata": {},
   "outputs": [
    {
     "data": {
      "text/plain": [
       "DatetimeIndex(['2021-10-01', '2021-10-02', '2021-10-03', '2021-10-04',\n",
       "               '2021-10-05', '2021-10-06', '2021-10-07', '2021-10-08',\n",
       "               '2021-10-09', '2021-10-10', '2021-10-11', '2021-10-12',\n",
       "               '2021-10-13', '2021-10-14', '2021-10-15', '2021-10-16',\n",
       "               '2021-10-17', '2021-10-18', '2021-10-19', '2021-10-20',\n",
       "               '2021-10-21', '2021-10-22', '2021-10-23', '2021-10-24',\n",
       "               '2021-10-25', '2021-10-26', '2021-10-27', '2021-10-28',\n",
       "               '2021-10-29', '2021-10-30'],\n",
       "              dtype='datetime64[ns]', freq='D')"
      ]
     },
     "execution_count": 208,
     "metadata": {},
     "output_type": "execute_result"
    }
   ],
   "source": [
    "date = pd.date_range(start='2021-10-01', end='2021-10-30')\n",
    "date"
   ]
  },
  {
   "cell_type": "markdown",
   "metadata": {},
   "source": [
    "### 주간격으로 날짜 생성\n",
    "- 지정한 일자가 포함된 주의 요일 시작 일자 기준으로 일주일 주기로 생성\n",
    "- freq='W' : 일요일 기준으로 일주일 주기로 생성\n",
    "- freq='W-MON' : 월요일 기준으로 일주일 주기로 생성"
   ]
  },
  {
   "cell_type": "code",
   "execution_count": 209,
   "metadata": {},
   "outputs": [
    {
     "data": {
      "text/plain": [
       "DatetimeIndex(['2021-10-03', '2021-10-10', '2021-10-17', '2021-10-24'], dtype='datetime64[ns]', freq='W-SUN')"
      ]
     },
     "execution_count": 209,
     "metadata": {},
     "output_type": "execute_result"
    }
   ],
   "source": [
    "date = pd.date_range(start='2021-10-01', end='2021-10-30',freq = 'W')\n",
    "date"
   ]
  },
  {
   "cell_type": "code",
   "execution_count": 210,
   "metadata": {},
   "outputs": [
    {
     "data": {
      "text/plain": [
       "DatetimeIndex(['2021-10-04', '2021-10-11', '2021-10-18', '2021-10-25'], dtype='datetime64[ns]', freq='W-MON')"
      ]
     },
     "execution_count": 210,
     "metadata": {},
     "output_type": "execute_result"
    }
   ],
   "source": [
    "date = pd.date_range(start='2021-10-01', end='2021-10-30',freq = 'W-MON')\n",
    "date"
   ]
  },
  {
   "cell_type": "code",
   "execution_count": 214,
   "metadata": {},
   "outputs": [
    {
     "data": {
      "text/plain": [
       "DatetimeIndex(['2021-10-05', '2021-10-12', '2021-10-19', '2021-10-26'], dtype='datetime64[ns]', freq='W-TUE')"
      ]
     },
     "execution_count": 214,
     "metadata": {},
     "output_type": "execute_result"
    }
   ],
   "source": [
    "date = pd.date_range(start='2021-10-01', periods=4,freq = 'W-TUE')\n",
    "date"
   ]
  },
  {
   "cell_type": "markdown",
   "metadata": {},
   "source": [
    "### 월간격으로 날짜 생성"
   ]
  },
  {
   "cell_type": "code",
   "execution_count": 216,
   "metadata": {},
   "outputs": [
    {
     "data": {
      "text/plain": [
       "DatetimeIndex(['2021-10-31', '2021-11-30', '2021-12-31', '2022-01-31',\n",
       "               '2022-02-28', '2022-03-31', '2022-04-30', '2022-05-31',\n",
       "               '2022-06-30', '2022-07-31', '2022-08-31', '2022-09-30',\n",
       "               '2022-10-31', '2022-11-30', '2022-12-31', '2023-01-31',\n",
       "               '2023-02-28', '2023-03-31', '2023-04-30', '2023-05-31',\n",
       "               '2023-06-30', '2023-07-31', '2023-08-31', '2023-09-30',\n",
       "               '2023-10-31', '2023-11-30', '2023-12-31', '2024-01-31',\n",
       "               '2024-02-29', '2024-03-31', '2024-04-30', '2024-05-31',\n",
       "               '2024-06-30', '2024-07-31', '2024-08-31', '2024-09-30',\n",
       "               '2024-10-31'],\n",
       "              dtype='datetime64[ns]', freq='M')"
      ]
     },
     "execution_count": 216,
     "metadata": {},
     "output_type": "execute_result"
    }
   ],
   "source": [
    "# 'M' : 월말 날짜 기준 주기\n",
    "date = pd.date_range(start='2021-10-01', end='2024-10-31',freq = 'M')\n",
    "date"
   ]
  },
  {
   "cell_type": "code",
   "execution_count": 217,
   "metadata": {},
   "outputs": [
    {
     "data": {
      "text/plain": [
       "DatetimeIndex(['2021-10-01', '2021-11-01', '2021-12-01', '2022-01-01',\n",
       "               '2022-02-01', '2022-03-01', '2022-04-01', '2022-05-01',\n",
       "               '2022-06-01', '2022-07-01', '2022-08-01', '2022-09-01',\n",
       "               '2022-10-01', '2022-11-01', '2022-12-01', '2023-01-01',\n",
       "               '2023-02-01', '2023-03-01', '2023-04-01', '2023-05-01',\n",
       "               '2023-06-01', '2023-07-01', '2023-08-01', '2023-09-01',\n",
       "               '2023-10-01', '2023-11-01', '2023-12-01', '2024-01-01',\n",
       "               '2024-02-01', '2024-03-01', '2024-04-01', '2024-05-01',\n",
       "               '2024-06-01', '2024-07-01', '2024-08-01', '2024-09-01',\n",
       "               '2024-10-01'],\n",
       "              dtype='datetime64[ns]', freq='MS')"
      ]
     },
     "execution_count": 217,
     "metadata": {},
     "output_type": "execute_result"
    }
   ],
   "source": [
    "# 'MS' : 월초 날짜 기준 주기\n",
    "date = pd.date_range(start='2021-10-01', end='2024-10-31',freq = 'MS')\n",
    "date"
   ]
  },
  {
   "cell_type": "code",
   "execution_count": 218,
   "metadata": {},
   "outputs": [
    {
     "data": {
      "text/plain": [
       "DatetimeIndex(['2021-10-29', '2021-11-30', '2021-12-31', '2022-01-31',\n",
       "               '2022-02-28', '2022-03-31', '2022-04-29', '2022-05-31',\n",
       "               '2022-06-30', '2022-07-29', '2022-08-31', '2022-09-30',\n",
       "               '2022-10-31', '2022-11-30', '2022-12-30', '2023-01-31',\n",
       "               '2023-02-28', '2023-03-31', '2023-04-28', '2023-05-31',\n",
       "               '2023-06-30', '2023-07-31', '2023-08-31', '2023-09-29',\n",
       "               '2023-10-31', '2023-11-30', '2023-12-29', '2024-01-31',\n",
       "               '2024-02-29', '2024-03-29', '2024-04-30', '2024-05-31',\n",
       "               '2024-06-28', '2024-07-31', '2024-08-30', '2024-09-30',\n",
       "               '2024-10-31'],\n",
       "              dtype='datetime64[ns]', freq='BM')"
      ]
     },
     "execution_count": 218,
     "metadata": {},
     "output_type": "execute_result"
    }
   ],
   "source": [
    "# 'BM' : 업무 월말 날짜 기준 주기\n",
    "date = pd.date_range(start='2021-10-01', end='2024-10-31',freq = 'BM')\n",
    "date"
   ]
  },
  {
   "cell_type": "markdown",
   "metadata": {},
   "source": [
    "### 분기별 주기로 날짜 생성"
   ]
  },
  {
   "cell_type": "code",
   "execution_count": 219,
   "metadata": {
    "scrolled": true
   },
   "outputs": [
    {
     "data": {
      "text/plain": [
       "DatetimeIndex(['2021-12-31', '2022-03-31', '2022-06-30', '2022-09-30',\n",
       "               '2022-12-31', '2023-03-31', '2023-06-30', '2023-09-30',\n",
       "               '2023-12-31', '2024-03-31', '2024-06-30', '2024-09-30'],\n",
       "              dtype='datetime64[ns]', freq='Q-DEC')"
      ]
     },
     "execution_count": 219,
     "metadata": {},
     "output_type": "execute_result"
    }
   ],
   "source": [
    "# Q : 분기 끝 날짜 기준 주기\n",
    "date = pd.date_range(start='2021-10-01', end='2024-10-31',freq = 'Q')\n",
    "date"
   ]
  },
  {
   "cell_type": "code",
   "execution_count": 220,
   "metadata": {},
   "outputs": [
    {
     "data": {
      "text/plain": [
       "DatetimeIndex(['2021-12-31', '2022-03-31', '2022-06-30', '2022-09-30',\n",
       "               '2022-12-30', '2023-03-31', '2023-06-30', '2023-09-29',\n",
       "               '2023-12-29', '2024-03-29', '2024-06-28', '2024-09-30'],\n",
       "              dtype='datetime64[ns]', freq='BQ-DEC')"
      ]
     },
     "execution_count": 220,
     "metadata": {},
     "output_type": "execute_result"
    }
   ],
   "source": [
    "# BQ : 업무 분기 끝 날짜 기준 주기\n",
    "date = pd.date_range(start='2021-10-01', end='2024-10-31',freq = 'BQ')\n",
    "date"
   ]
  },
  {
   "cell_type": "code",
   "execution_count": 221,
   "metadata": {},
   "outputs": [
    {
     "data": {
      "text/plain": [
       "DatetimeIndex(['2021-10-01', '2022-01-01', '2022-04-01', '2022-07-01',\n",
       "               '2022-10-01', '2023-01-01', '2023-04-01', '2023-07-01',\n",
       "               '2023-10-01', '2024-01-01', '2024-04-01', '2024-07-01',\n",
       "               '2024-10-01'],\n",
       "              dtype='datetime64[ns]', freq='QS-JAN')"
      ]
     },
     "execution_count": 221,
     "metadata": {},
     "output_type": "execute_result"
    }
   ],
   "source": [
    "# QS : 분기 시작 날짜 기준 주기\n",
    "date = pd.date_range(start='2021-10-01', end='2024-10-31',freq = 'QS')\n",
    "date"
   ]
  },
  {
   "cell_type": "markdown",
   "metadata": {},
   "source": [
    "### 연별 주기로 날짜 생성"
   ]
  },
  {
   "cell_type": "code",
   "execution_count": 224,
   "metadata": {},
   "outputs": [
    {
     "data": {
      "text/plain": [
       "DatetimeIndex(['2021-12-31', '2022-12-31', '2023-12-31'], dtype='datetime64[ns]', freq='A-DEC')"
      ]
     },
     "execution_count": 224,
     "metadata": {},
     "output_type": "execute_result"
    }
   ],
   "source": [
    "# A : 일년 끝 날짜 기준 주기\n",
    "date = pd.date_range(start='2021-10-01', end='2024-10-31',freq = 'A')\n",
    "date"
   ]
  },
  {
   "cell_type": "code",
   "execution_count": 223,
   "metadata": {},
   "outputs": [
    {
     "data": {
      "text/plain": [
       "DatetimeIndex(['2021-12-31', '2022-12-30', '2023-12-29'], dtype='datetime64[ns]', freq='BA-DEC')"
      ]
     },
     "execution_count": 223,
     "metadata": {},
     "output_type": "execute_result"
    }
   ],
   "source": [
    "# BA : 업무 일년 끝 날짜 기준 주기\n",
    "date = pd.date_range(start='2021-10-01', end='2024-10-31',freq = 'BA')\n",
    "date"
   ]
  },
  {
   "cell_type": "code",
   "execution_count": 225,
   "metadata": {},
   "outputs": [
    {
     "data": {
      "text/plain": [
       "DatetimeIndex(['2022-01-01', '2023-01-01', '2024-01-01', '2025-01-01',\n",
       "               '2026-01-01', '2027-01-01', '2028-01-01', '2029-01-01',\n",
       "               '2030-01-01', '2031-01-01'],\n",
       "              dtype='datetime64[ns]', freq='AS-JAN')"
      ]
     },
     "execution_count": 225,
     "metadata": {},
     "output_type": "execute_result"
    }
   ],
   "source": [
    "# AS : 일년 시작 날짜 기준 주기\n",
    "date = pd.date_range(start='2021-10-01',periods=10,freq = 'AS')\n",
    "date"
   ]
  },
  {
   "cell_type": "markdown",
   "metadata": {},
   "source": [
    "### 시간 기준 주기로 날짜와 시간 생성"
   ]
  },
  {
   "cell_type": "code",
   "execution_count": 227,
   "metadata": {},
   "outputs": [
    {
     "data": {
      "text/plain": [
       "DatetimeIndex(['2021-10-01 00:00:00', '2021-10-01 01:00:00',\n",
       "               '2021-10-01 02:00:00', '2021-10-01 03:00:00',\n",
       "               '2021-10-01 04:00:00', '2021-10-01 05:00:00',\n",
       "               '2021-10-01 06:00:00', '2021-10-01 07:00:00',\n",
       "               '2021-10-01 08:00:00', '2021-10-01 09:00:00'],\n",
       "              dtype='datetime64[ns]', freq='H')"
      ]
     },
     "execution_count": 227,
     "metadata": {},
     "output_type": "execute_result"
    }
   ],
   "source": [
    "# H : 시간 주기\n",
    "date = pd.date_range(start='2021-10-01',periods=10,freq = 'H')\n",
    "date"
   ]
  },
  {
   "cell_type": "code",
   "execution_count": 228,
   "metadata": {},
   "outputs": [
    {
     "data": {
      "text/plain": [
       "DatetimeIndex(['2021-10-01 09:00:00', '2021-10-01 10:00:00',\n",
       "               '2021-10-01 11:00:00', '2021-10-01 12:00:00',\n",
       "               '2021-10-01 13:00:00', '2021-10-01 14:00:00',\n",
       "               '2021-10-01 15:00:00', '2021-10-01 16:00:00',\n",
       "               '2021-10-04 09:00:00', '2021-10-04 10:00:00'],\n",
       "              dtype='datetime64[ns]', freq='BH')"
      ]
     },
     "execution_count": 228,
     "metadata": {},
     "output_type": "execute_result"
    }
   ],
   "source": [
    "# BH : 업무 시간 주기\n",
    "date = pd.date_range(start='2021-10-01',periods=10,freq = 'BH')\n",
    "date"
   ]
  },
  {
   "cell_type": "code",
   "execution_count": 229,
   "metadata": {},
   "outputs": [
    {
     "data": {
      "text/plain": [
       "DatetimeIndex(['2021-10-01 00:00:00', '2021-10-01 00:01:00',\n",
       "               '2021-10-01 00:02:00', '2021-10-01 00:03:00',\n",
       "               '2021-10-01 00:04:00', '2021-10-01 00:05:00',\n",
       "               '2021-10-01 00:06:00', '2021-10-01 00:07:00',\n",
       "               '2021-10-01 00:08:00', '2021-10-01 00:09:00'],\n",
       "              dtype='datetime64[ns]', freq='T')"
      ]
     },
     "execution_count": 229,
     "metadata": {},
     "output_type": "execute_result"
    }
   ],
   "source": [
    "# T 또는 min : 분 주기\n",
    "date = pd.date_range(start='2021-10-01',periods=10,freq = 'min')\n",
    "date"
   ]
  },
  {
   "cell_type": "code",
   "execution_count": 230,
   "metadata": {},
   "outputs": [
    {
     "data": {
      "text/plain": [
       "DatetimeIndex(['2021-10-01 00:00:00', '2021-10-01 00:00:01',\n",
       "               '2021-10-01 00:00:02', '2021-10-01 00:00:03',\n",
       "               '2021-10-01 00:00:04', '2021-10-01 00:00:05',\n",
       "               '2021-10-01 00:00:06', '2021-10-01 00:00:07',\n",
       "               '2021-10-01 00:00:08', '2021-10-01 00:00:09'],\n",
       "              dtype='datetime64[ns]', freq='S')"
      ]
     },
     "execution_count": 230,
     "metadata": {},
     "output_type": "execute_result"
    }
   ],
   "source": [
    "# S : 초 주기\n",
    "date = pd.date_range(start='2021-10-01',periods=10,freq = 'S')\n",
    "date"
   ]
  },
  {
   "cell_type": "markdown",
   "metadata": {},
   "source": [
    "------------------------------------------------"
   ]
  }
 ],
 "metadata": {
  "kernelspec": {
   "display_name": "Python 3 (ipykernel)",
   "language": "python",
   "name": "python3"
  },
  "language_info": {
   "codemirror_mode": {
    "name": "ipython",
    "version": 3
   },
   "file_extension": ".py",
   "mimetype": "text/x-python",
   "name": "python",
   "nbconvert_exporter": "python",
   "pygments_lexer": "ipython3",
   "version": "3.11.7"
  }
 },
 "nbformat": 4,
 "nbformat_minor": 4
}
