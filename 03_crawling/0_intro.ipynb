{
 "cells": [
  {
   "cell_type": "markdown",
   "id": "91191e62-4288-4249-aaa1-3eca9493b066",
   "metadata": {},
   "source": [
    "# 노트북 사용"
   ]
  },
  {
   "cell_type": "markdown",
   "id": "f0fbc960-b3a0-4a0f-b4a1-8f6bede1fdf8",
   "metadata": {},
   "source": [
    "## 셀 종류\n",
    "- code 셀\n",
    "- Markdown 셀\n",
    "- raw 셀"
   ]
  },
  {
   "cell_type": "markdown",
   "id": "159dc1d0-748c-4d42-aaea-7bbdb2b43aca",
   "metadata": {},
   "source": [
    "# 셀 모드\n",
    "\n",
    "- **편집**모드: 마우스나 Enter키를 입력하여 내용을 작성할 수 있는 상태\n",
    "  - 실행 단축키: Ctrl + Enter | Shift + Enter(실행 후 다음 셀로) | Alt + Enter(실행 후 다음 셀 추가)\n",
    "  - 셀 나누기: 나누려는 곳에 커서를 두고 Ctrl + Shift + -\n",
    "  - 선택된 셀의 전체 코드 선택: Ctrl + a\n",
    "  - 실행 취소: Ctrl + z\n",
    "  - 재실행: Ctrl + y\n",
    "  - 주석: 커서 위치 Ctrl + /"
   ]
  },
  {
   "cell_type": "markdown",
   "id": "c7753e75-22c0-4eb5-8fb8-911e530ac9dc",
   "metadata": {},
   "source": [
    "- **명령**모드: 편집모드에서 Esc키 또는 Ctrl + m\n",
    "  - 셀의 종류 변경: 단축키 M(markdown), R(raw), Y(code)\n",
    "  - 셀 복사(c), 잘라내기(x), 붙여넣기(v)\n",
    "  - 셀 삭제, 삽입, 이동\n",
    "  - 여러 셀 선택: 마우스로 셀들을 클릭하여 여러 셀 선택\n",
    "  - 셀 이동: 방향키\n",
    "  - 셀 병합: 셀 선택 후 Shift + m"
   ]
  },
  {
   "cell_type": "markdown",
   "id": "0da79a1b-20d6-493e-97d8-ad28d54e6ca5",
   "metadata": {},
   "source": [
    "---"
   ]
  },
  {
   "cell_type": "markdown",
   "id": "47298ff9-951b-4137-bbd9-5f0aba9e8638",
   "metadata": {},
   "source": [
    "셀은 위에서 아래로 차례로 실행된 순서대로 적용"
   ]
  }
 ],
 "metadata": {
  "kernelspec": {
   "display_name": "Python 3 (ipykernel)",
   "language": "python",
   "name": "python3"
  },
  "language_info": {
   "codemirror_mode": {
    "name": "ipython",
    "version": 3
   },
   "file_extension": ".py",
   "mimetype": "text/x-python",
   "name": "python",
   "nbconvert_exporter": "python",
   "pygments_lexer": "ipython3",
   "version": "3.11.7"
  }
 },
 "nbformat": 4,
 "nbformat_minor": 5
}
