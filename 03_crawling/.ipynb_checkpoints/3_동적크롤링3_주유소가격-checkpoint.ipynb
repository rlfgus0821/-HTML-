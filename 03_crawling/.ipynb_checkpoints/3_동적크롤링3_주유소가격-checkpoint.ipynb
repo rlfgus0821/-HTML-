{
 "cells": [
  {
   "cell_type": "markdown",
   "metadata": {},
   "source": [
    "# Selenium이용한 크롤링실습"
   ]
  },
  {
   "cell_type": "code",
   "execution_count": 1,
   "metadata": {},
   "outputs": [],
   "source": [
    "import requests\n",
    "from bs4 import BeautifulSoup\n",
    "import numpy as np\n",
    "import pandas as pd"
   ]
  },
  {
   "cell_type": "code",
   "execution_count": 3,
   "metadata": {},
   "outputs": [],
   "source": [
    "from selenium import webdriver\n",
    "from selenium.webdriver.common.by import By\n",
    "from selenium.webdriver.chrome.service import Service\n",
    "from webdriver_manager.chrome import ChromeDriverManager"
   ]
  },
  {
   "cell_type": "code",
   "execution_count": 4,
   "metadata": {},
   "outputs": [],
   "source": [
    "service = Service(executable_path=ChromeDriverManager().install())"
   ]
  },
  {
   "cell_type": "code",
   "execution_count": null,
   "metadata": {},
   "outputs": [],
   "source": []
  },
  {
   "cell_type": "markdown",
   "metadata": {},
   "source": [
    "## 싼 주유소 찾기 Opinet\n",
    "\n",
    "- https://www.opinet.co.kr/user/main/mainView.do"
   ]
  },
  {
   "cell_type": "markdown",
   "metadata": {},
   "source": [
    "### 서울시 구별 주유소 가격 정도 얻어오기\n",
    "\n",
    "- 사이트에서 [싼주유소찾기] > [지역별] 메뉴 선택\n",
    "- 지역은 '서울' > 원하는 구 지정\n",
    "    - '시/군/구'를 선택하는 select option의 XPath 찾기\n",
    "\n",
    "- '조회'버튼 클릭\n",
    "- 조회된 주유소 정보 '엑셀저장' 버튼 클릭하여 엑셀파일 다운로드"
   ]
  },
  {
   "cell_type": "markdown",
   "metadata": {},
   "source": [
    "#### 크롬 드라이버 객체 생성"
   ]
  },
  {
   "cell_type": "code",
   "execution_count": 5,
   "metadata": {},
   "outputs": [],
   "source": [
    "driver = webdriver.Chrome(service=service)"
   ]
  },
  {
   "cell_type": "markdown",
   "metadata": {},
   "source": [
    "#### 웹페이지 로드"
   ]
  },
  {
   "cell_type": "code",
   "execution_count": 11,
   "metadata": {},
   "outputs": [],
   "source": [
    "url = 'https://www.opinet.co.kr/user/main/mainView.do'"
   ]
  },
  {
   "cell_type": "code",
   "execution_count": 12,
   "metadata": {},
   "outputs": [],
   "source": [
    "driver.get(url)"
   ]
  },
  {
   "cell_type": "markdown",
   "metadata": {},
   "source": [
    "#### [싼주유소찾기]-[지역] 페이지로 이동\n",
    "\n",
    "- 자바스트립트 코드 실행으로 통해서 이동"
   ]
  },
  {
   "cell_type": "code",
   "execution_count": 13,
   "metadata": {},
   "outputs": [],
   "source": [
    "driver.execute_script('goSubPage(0,0,99)')"
   ]
  },
  {
   "cell_type": "markdown",
   "metadata": {},
   "source": [
    "#### 시 이름 찾기"
   ]
  },
  {
   "cell_type": "code",
   "execution_count": 17,
   "metadata": {
    "scrolled": true
   },
   "outputs": [
    {
     "data": {
      "text/plain": [
       "['',\n",
       " '서울특별시',\n",
       " '부산광역시',\n",
       " '대구광역시',\n",
       " '인천광역시',\n",
       " '광주광역시',\n",
       " '대전광역시',\n",
       " '울산광역시',\n",
       " '세종특별자치시',\n",
       " '경기도',\n",
       " '강원특별자치도',\n",
       " '충청북도',\n",
       " '충청남도',\n",
       " '전북특별자치도',\n",
       " '전라남도',\n",
       " '경상북도',\n",
       " '경상남도',\n",
       " '제주특별자치도']"
      ]
     },
     "execution_count": 17,
     "metadata": {},
     "output_type": "execute_result"
    }
   ],
   "source": [
    "xpath = '//*[@id=\"SIDO_NM0\"]'\n",
    "sido_lists = driver.find_element(By.XPATH, xpath)\n",
    "sido_opt= sido_lists.find_elements(By.TAG_NAME, 'option')\n",
    "sido_names = [opt.get_attribute('value') for opt in sido_opt]\n",
    "sido_names"
   ]
  },
  {
   "cell_type": "markdown",
   "metadata": {},
   "source": [
    "#### 구 이름 찾기"
   ]
  },
  {
   "cell_type": "code",
   "execution_count": 16,
   "metadata": {},
   "outputs": [
    {
     "data": {
      "text/plain": [
       "['',\n",
       " '강릉시',\n",
       " '고성군',\n",
       " '동해시',\n",
       " '삼척시',\n",
       " '속초시',\n",
       " '양구군',\n",
       " '양양군',\n",
       " '영월군',\n",
       " '원주시',\n",
       " '인제군',\n",
       " '정선군',\n",
       " '철원군',\n",
       " '춘천시',\n",
       " '태백시',\n",
       " '평창군',\n",
       " '홍천군',\n",
       " '화천군',\n",
       " '횡성군']"
      ]
     },
     "execution_count": 16,
     "metadata": {},
     "output_type": "execute_result"
    }
   ],
   "source": [
    "xpath = '//*[@id=\"SIGUNGU_NM0\"]'\n",
    "gu_lists = driver.find_element(By.XPATH, xpath)\n",
    "gu_opt= gu_lists.find_elements(By.TAG_NAME, 'option')\n",
    "gu_names = [opt.get_attribute('value') for opt in gu_opt]\n",
    "gu_names"
   ]
  },
  {
   "cell_type": "markdown",
   "metadata": {},
   "source": [
    "#### '강남구' 주유소 지정"
   ]
  },
  {
   "cell_type": "code",
   "execution_count": 22,
   "metadata": {},
   "outputs": [],
   "source": [
    "elementsido = driver.find_element(By.ID, 'SIDO_NM0')\n",
    "elementsido.send_keys('서울시')"
   ]
  },
  {
   "cell_type": "code",
   "execution_count": 23,
   "metadata": {},
   "outputs": [],
   "source": [
    "elementgu = driver.find_element(By.ID, 'SIGUNGU_NM0')\n",
    "elementgu.send_keys('강남구')"
   ]
  },
  {
   "cell_type": "markdown",
   "metadata": {},
   "source": [
    "#### '조회' 버튼 클릭"
   ]
  },
  {
   "cell_type": "code",
   "execution_count": 24,
   "metadata": {},
   "outputs": [],
   "source": [
    "xpath = '//*[@id=\"searRgSelect\"]'\n",
    "driver.find_element(By.XPATH, xpath).click()"
   ]
  },
  {
   "cell_type": "markdown",
   "metadata": {},
   "source": [
    "#### 조회된 주유소 '엑셀저장' 버튼 클릭"
   ]
  },
  {
   "cell_type": "code",
   "execution_count": 25,
   "metadata": {},
   "outputs": [],
   "source": [
    "xpath = '//*[@id=\"glopopd_excel\"]'\n",
    "driver.find_element(By.XPATH, xpath).click()"
   ]
  },
  {
   "cell_type": "markdown",
   "metadata": {},
   "source": [
    "=> '지역_위치별(주유소).xls'파일 다운로드 폴더에 저장됨"
   ]
  },
  {
   "cell_type": "markdown",
   "metadata": {},
   "source": [
    "### 25개 구 주유소 엑셀파일 다운로드\n",
    "\n",
    "- 함수로 작성하여 실행"
   ]
  },
  {
   "cell_type": "code",
   "execution_count": 26,
   "metadata": {},
   "outputs": [],
   "source": [
    "import time"
   ]
  },
  {
   "cell_type": "code",
   "execution_count": 28,
   "metadata": {},
   "outputs": [],
   "source": [
    "# 시도 이름 찾기\n",
    "xpath = '//*[@id=\"SIDO_NM0\"]'\n",
    "sido_lists = driver.find_element(By.XPATH, xpath)\n",
    "sido_opt= sido_lists.find_elements(By.TAG_NAME, 'option')\n",
    "sido_names = [opt.get_attribute('value') for opt in sido_opt]\n",
    "\n",
    "# 구 이름 찾기\n",
    "xpath = '//*[@id=\"SIGUNGU_NM0\"]'\n",
    "gu_lists = driver.find_element(By.XPATH, xpath)\n",
    "gu_opt= gu_lists.find_elements(By.TAG_NAME, 'option')\n",
    "gu_names = [opt.get_attribute('value') for opt in gu_opt]\n",
    "\n",
    "# 시도 이름 지정\n",
    "elementsido = driver.find_element(By.ID, 'SIDO_NM0')\n",
    "elementsido.send_keys('서울시')\n",
    "\n",
    "\n",
    "# 시군구 휘발유 가격 엑셀파일 다운로드 함수\n",
    "def search_download_sigungu(sigungu):\n",
    "    # 구 이름 지정\n",
    "    elementgu = driver.find_element(By.ID, 'SIGUNGU_NM0')\n",
    "    elementgu.send_keys(sigungu)\n",
    "    time.sleep(2)\n",
    "\n",
    "# 조회버튼 클릭\n",
    "    xpath = '//*[@id=\"searRgSelect\"]'\n",
    "    driver.find_element(By.XPATH, xpath).click()\n",
    "    time.sleep(2)\n",
    "\n",
    "# 엑셀저장 버튼 클릭\n",
    "    xpath = '//*[@id=\"glopopd_excel\"]'\n",
    "    driver.find_element(By.XPATH, xpath).click()\n",
    "    time.sleep(2)\n",
    "    \n",
    "# 입력한 시도의 모든 시군구 휘발유 가격 엑셀파일 다운로드 함수\n",
    "def search_download_sido(sido):\n",
    "    # 시도 이름 선택\n",
    "    elementsido = driver.find_element(By.ID, 'SIDO_NM0')\n",
    "    elementsido.send_keys(sido)\n",
    "    time.sleep(2)\n",
    "    \n",
    "    # 시군구 이름 찾기\n",
    "    xpath = '//*[@id=\"SIGUNGU_NM0\"]'\n",
    "    gu_lists = driver.find_element(By.XPATH, xpath)\n",
    "    gu_opt= gu_lists.find_elements(By.TAG_NAME, 'option')\n",
    "    gu_names = [opt.get_attribute('value') for opt in gu_opt][1:]\n",
    "\n",
    "    # 시군구 조회후 엑셀다운\n",
    "    for sigungu in gu_names:\n",
    "        search_download_sigungu(sigungu)\n",
    "\n",
    "# 전체 시도별 주유소 가격 다운로드\n",
    "def search_download_all():\n",
    "    # 시도이름 찾기\n",
    "    xpath = '//*[@id=\"SIDO_NM0\"]'\n",
    "    sido_lists = driver.find_element(By.XPATH, xpath)\n",
    "    sido_opt= sido_lists.find_elements(By.TAG_NAME, 'option')\n",
    "    sido_names = [opt.get_attribute('value') for opt in sido_opt]\n",
    "    \n",
    "    # 시도별 주유소 가격 다운로드\n",
    "    for sido in sido_names:\n",
    "        search_download_sido(sido)"
   ]
  },
  {
   "cell_type": "code",
   "execution_count": 29,
   "metadata": {},
   "outputs": [],
   "source": [
    "search_download_sido('서울특별시')"
   ]
  },
  {
   "cell_type": "markdown",
   "metadata": {},
   "source": [
    "### 엑셀 파일 읽어오기"
   ]
  },
  {
   "cell_type": "code",
   "execution_count": 61,
   "metadata": {},
   "outputs": [],
   "source": [
    "# glob 함수: 파일 경로 및 이름을 모아서 리스트에 저장\n",
    "from glob import glob"
   ]
  },
  {
   "cell_type": "code",
   "execution_count": 59,
   "metadata": {},
   "outputs": [
    {
     "data": {
      "text/plain": [
       "'C:\\\\workspace_multi07\\\\web\\\\03_crawling'"
      ]
     },
     "execution_count": 59,
     "metadata": {},
     "output_type": "execute_result"
    }
   ],
   "source": [
    "import os\n",
    "cpath = os.getcwd()\n",
    "cpath"
   ]
  },
  {
   "cell_type": "code",
   "execution_count": 62,
   "metadata": {},
   "outputs": [],
   "source": [
    "path = 'C:/Users/gillhk/Downloads/'"
   ]
  },
  {
   "cell_type": "code",
   "execution_count": 64,
   "metadata": {},
   "outputs": [
    {
     "data": {
      "text/plain": [
       "25"
      ]
     },
     "execution_count": 64,
     "metadata": {},
     "output_type": "execute_result"
    }
   ],
   "source": [
    "filename = '지역_위치별*.xls'\n",
    "files = glob(path+filename)\n",
    "len(files)"
   ]
  },
  {
   "cell_type": "code",
   "execution_count": 66,
   "metadata": {},
   "outputs": [
    {
     "name": "stdout",
     "output_type": "stream",
     "text": [
      "Defaulting to user installation because normal site-packages is not writeable\n",
      "Collecting xlrd\n",
      "  Downloading xlrd-2.0.1-py2.py3-none-any.whl.metadata (3.4 kB)\n",
      "Downloading xlrd-2.0.1-py2.py3-none-any.whl (96 kB)\n",
      "   ---------------------------------------- 0.0/96.5 kB ? eta -:--:--\n",
      "   ---------------------------------------- 96.5/96.5 kB 2.8 MB/s eta 0:00:00\n",
      "Installing collected packages: xlrd\n",
      "Successfully installed xlrd-2.0.1\n"
     ]
    }
   ],
   "source": [
    "!pip install xlrd"
   ]
  },
  {
   "cell_type": "code",
   "execution_count": 67,
   "metadata": {},
   "outputs": [
    {
     "data": {
      "text/html": [
       "<div>\n",
       "<style scoped>\n",
       "    .dataframe tbody tr th:only-of-type {\n",
       "        vertical-align: middle;\n",
       "    }\n",
       "\n",
       "    .dataframe tbody tr th {\n",
       "        vertical-align: top;\n",
       "    }\n",
       "\n",
       "    .dataframe thead th {\n",
       "        text-align: right;\n",
       "    }\n",
       "</style>\n",
       "<table border=\"1\" class=\"dataframe\">\n",
       "  <thead>\n",
       "    <tr style=\"text-align: right;\">\n",
       "      <th></th>\n",
       "      <th>지역</th>\n",
       "      <th>상호</th>\n",
       "      <th>주소</th>\n",
       "      <th>상표</th>\n",
       "      <th>전화번호</th>\n",
       "      <th>셀프여부</th>\n",
       "      <th>고급휘발유</th>\n",
       "      <th>휘발유</th>\n",
       "      <th>경유</th>\n",
       "      <th>실내등유</th>\n",
       "    </tr>\n",
       "  </thead>\n",
       "  <tbody>\n",
       "    <tr>\n",
       "      <th>0</th>\n",
       "      <td>서울특별시</td>\n",
       "      <td>재건에너지 재정제2주유소 고속셀프지점</td>\n",
       "      <td>서울특별시 강동구  천호대로 1246 (둔촌제2동)</td>\n",
       "      <td>HD현대오일뱅크</td>\n",
       "      <td>02-487-2030</td>\n",
       "      <td>Y</td>\n",
       "      <td>-</td>\n",
       "      <td>1629</td>\n",
       "      <td>1529</td>\n",
       "      <td>-</td>\n",
       "    </tr>\n",
       "    <tr>\n",
       "      <th>1</th>\n",
       "      <td>서울특별시</td>\n",
       "      <td>구천면주유소</td>\n",
       "      <td>서울 강동구 구천면로 357 (암사동)</td>\n",
       "      <td>HD현대오일뱅크</td>\n",
       "      <td>02-441-0536</td>\n",
       "      <td>N</td>\n",
       "      <td>-</td>\n",
       "      <td>1654</td>\n",
       "      <td>1565</td>\n",
       "      <td>-</td>\n",
       "    </tr>\n",
       "    <tr>\n",
       "      <th>2</th>\n",
       "      <td>서울특별시</td>\n",
       "      <td>방아다리주유소</td>\n",
       "      <td>서울 강동구 동남로 811 (명일동)</td>\n",
       "      <td>SK에너지</td>\n",
       "      <td>02-442-5145</td>\n",
       "      <td>Y</td>\n",
       "      <td>-</td>\n",
       "      <td>1665</td>\n",
       "      <td>1575</td>\n",
       "      <td>-</td>\n",
       "    </tr>\n",
       "    <tr>\n",
       "      <th>3</th>\n",
       "      <td>서울특별시</td>\n",
       "      <td>(주)소모 신월주유소</td>\n",
       "      <td>서울 강동구 양재대로 1323 (성내동)</td>\n",
       "      <td>GS칼텍스</td>\n",
       "      <td>02-6956-6674</td>\n",
       "      <td>Y</td>\n",
       "      <td>1896</td>\n",
       "      <td>1686</td>\n",
       "      <td>1588</td>\n",
       "      <td>1590</td>\n",
       "    </tr>\n",
       "    <tr>\n",
       "      <th>4</th>\n",
       "      <td>서울특별시</td>\n",
       "      <td>(주)삼표에너지 고덕주유소</td>\n",
       "      <td>서울 강동구 고덕로 39 (암사동)</td>\n",
       "      <td>GS칼텍스</td>\n",
       "      <td>02-441-3327</td>\n",
       "      <td>Y</td>\n",
       "      <td>1895</td>\n",
       "      <td>1695</td>\n",
       "      <td>1595</td>\n",
       "      <td>1599</td>\n",
       "    </tr>\n",
       "    <tr>\n",
       "      <th>5</th>\n",
       "      <td>서울특별시</td>\n",
       "      <td>대성석유(주)길동주유소</td>\n",
       "      <td>서울 강동구 천호대로 1168</td>\n",
       "      <td>GS칼텍스</td>\n",
       "      <td>02-474-7222</td>\n",
       "      <td>N</td>\n",
       "      <td>1895</td>\n",
       "      <td>1696</td>\n",
       "      <td>1598</td>\n",
       "      <td>1500</td>\n",
       "    </tr>\n",
       "    <tr>\n",
       "      <th>6</th>\n",
       "      <td>서울특별시</td>\n",
       "      <td>sk해뜨는주유소</td>\n",
       "      <td>서울 강동구  상일로 132 (강일동)</td>\n",
       "      <td>SK에너지</td>\n",
       "      <td>02-442-7801</td>\n",
       "      <td>Y</td>\n",
       "      <td>1929</td>\n",
       "      <td>1699</td>\n",
       "      <td>1609</td>\n",
       "      <td>1600</td>\n",
       "    </tr>\n",
       "    <tr>\n",
       "      <th>7</th>\n",
       "      <td>서울특별시</td>\n",
       "      <td>주)지유에너지직영 오렌지주유소</td>\n",
       "      <td>서울 강동구 성안로 102 (성내동)</td>\n",
       "      <td>SK에너지</td>\n",
       "      <td>02-484-6165</td>\n",
       "      <td>N</td>\n",
       "      <td>1894</td>\n",
       "      <td>1734</td>\n",
       "      <td>1634</td>\n",
       "      <td>-</td>\n",
       "    </tr>\n",
       "    <tr>\n",
       "      <th>8</th>\n",
       "      <td>서울특별시</td>\n",
       "      <td>(주)퍼스트오일 코알라주유소</td>\n",
       "      <td>서울특별시 강동구  올림픽로 556 (성내동)</td>\n",
       "      <td>S-OIL</td>\n",
       "      <td>02-484-1162</td>\n",
       "      <td>Y</td>\n",
       "      <td>-</td>\n",
       "      <td>1750</td>\n",
       "      <td>1650</td>\n",
       "      <td>-</td>\n",
       "    </tr>\n",
       "    <tr>\n",
       "      <th>9</th>\n",
       "      <td>서울특별시</td>\n",
       "      <td>(주)소모 성내주유소</td>\n",
       "      <td>서울 강동구 올림픽로 578 (성내동)</td>\n",
       "      <td>GS칼텍스</td>\n",
       "      <td>02-479-3838</td>\n",
       "      <td>Y</td>\n",
       "      <td>-</td>\n",
       "      <td>1768</td>\n",
       "      <td>1668</td>\n",
       "      <td>-</td>\n",
       "    </tr>\n",
       "    <tr>\n",
       "      <th>10</th>\n",
       "      <td>서울특별시</td>\n",
       "      <td>지에스칼텍스㈜ 동서울주유소</td>\n",
       "      <td>서울 강동구 천호대로 1456 (상일동)</td>\n",
       "      <td>GS칼텍스</td>\n",
       "      <td>02-426-5372</td>\n",
       "      <td>Y</td>\n",
       "      <td>1969</td>\n",
       "      <td>1799</td>\n",
       "      <td>1729</td>\n",
       "      <td>-</td>\n",
       "    </tr>\n",
       "    <tr>\n",
       "      <th>11</th>\n",
       "      <td>서울특별시</td>\n",
       "      <td>천호현대주유소</td>\n",
       "      <td>서울 강동구 천중로 67 (천호동)</td>\n",
       "      <td>HD현대오일뱅크</td>\n",
       "      <td>02-484-9323</td>\n",
       "      <td>N</td>\n",
       "      <td>-</td>\n",
       "      <td>1843</td>\n",
       "      <td>1743</td>\n",
       "      <td>-</td>\n",
       "    </tr>\n",
       "    <tr>\n",
       "      <th>12</th>\n",
       "      <td>서울특별시</td>\n",
       "      <td>광성주유소</td>\n",
       "      <td>서울 강동구 올림픽로 673 (천호동)</td>\n",
       "      <td>S-OIL</td>\n",
       "      <td>02-470-5133</td>\n",
       "      <td>N</td>\n",
       "      <td>-</td>\n",
       "      <td>1968</td>\n",
       "      <td>1858</td>\n",
       "      <td>1800</td>\n",
       "    </tr>\n",
       "  </tbody>\n",
       "</table>\n",
       "</div>"
      ],
      "text/plain": [
       "       지역                    상호                            주소        상표  \\\n",
       "0   서울특별시  재건에너지 재정제2주유소 고속셀프지점  서울특별시 강동구  천호대로 1246 (둔촌제2동)  HD현대오일뱅크   \n",
       "1   서울특별시                구천면주유소         서울 강동구 구천면로 357 (암사동)  HD현대오일뱅크   \n",
       "2   서울특별시               방아다리주유소          서울 강동구 동남로 811 (명일동)     SK에너지   \n",
       "3   서울특별시           (주)소모 신월주유소        서울 강동구 양재대로 1323 (성내동)     GS칼텍스   \n",
       "4   서울특별시        (주)삼표에너지 고덕주유소           서울 강동구 고덕로 39 (암사동)     GS칼텍스   \n",
       "5   서울특별시          대성석유(주)길동주유소              서울 강동구 천호대로 1168     GS칼텍스   \n",
       "6   서울특별시              sk해뜨는주유소         서울 강동구  상일로 132 (강일동)     SK에너지   \n",
       "7   서울특별시      주)지유에너지직영 오렌지주유소          서울 강동구 성안로 102 (성내동)     SK에너지   \n",
       "8   서울특별시       (주)퍼스트오일 코알라주유소     서울특별시 강동구  올림픽로 556 (성내동)     S-OIL   \n",
       "9   서울특별시           (주)소모 성내주유소         서울 강동구 올림픽로 578 (성내동)     GS칼텍스   \n",
       "10  서울특별시        지에스칼텍스㈜ 동서울주유소        서울 강동구 천호대로 1456 (상일동)     GS칼텍스   \n",
       "11  서울특별시               천호현대주유소           서울 강동구 천중로 67 (천호동)  HD현대오일뱅크   \n",
       "12  서울특별시                 광성주유소         서울 강동구 올림픽로 673 (천호동)     S-OIL   \n",
       "\n",
       "            전화번호 셀프여부 고급휘발유   휘발유    경유  실내등유  \n",
       "0    02-487-2030    Y     -  1629  1529     -  \n",
       "1    02-441-0536    N     -  1654  1565     -  \n",
       "2    02-442-5145    Y     -  1665  1575     -  \n",
       "3   02-6956-6674    Y  1896  1686  1588  1590  \n",
       "4    02-441-3327    Y  1895  1695  1595  1599  \n",
       "5    02-474-7222    N  1895  1696  1598  1500  \n",
       "6    02-442-7801    Y  1929  1699  1609  1600  \n",
       "7    02-484-6165    N  1894  1734  1634     -  \n",
       "8    02-484-1162    Y     -  1750  1650     -  \n",
       "9    02-479-3838    Y     -  1768  1668     -  \n",
       "10   02-426-5372    Y  1969  1799  1729     -  \n",
       "11   02-484-9323    N     -  1843  1743     -  \n",
       "12   02-470-5133    N     -  1968  1858  1800  "
      ]
     },
     "execution_count": 67,
     "metadata": {},
     "output_type": "execute_result"
    }
   ],
   "source": [
    "station = pd.read_excel(files[0], header=2)\n",
    "station"
   ]
  },
  {
   "cell_type": "code",
   "execution_count": 68,
   "metadata": {},
   "outputs": [
    {
     "data": {
      "text/plain": [
       "pandas.core.frame.DataFrame"
      ]
     },
     "execution_count": 68,
     "metadata": {},
     "output_type": "execute_result"
    }
   ],
   "source": [
    "type(station)"
   ]
  },
  {
   "cell_type": "markdown",
   "metadata": {},
   "source": [
    "#### 데이터 합치기"
   ]
  },
  {
   "cell_type": "code",
   "execution_count": 71,
   "metadata": {},
   "outputs": [],
   "source": [
    "tmp = []\n",
    "for file in files:\n",
    "    station = pd.read_excel(file, header=2)\n",
    "    tmp.append(station)\n",
    "stations = pd.concat(tmp)"
   ]
  },
  {
   "cell_type": "code",
   "execution_count": 72,
   "metadata": {},
   "outputs": [
    {
     "data": {
      "text/html": [
       "<div>\n",
       "<style scoped>\n",
       "    .dataframe tbody tr th:only-of-type {\n",
       "        vertical-align: middle;\n",
       "    }\n",
       "\n",
       "    .dataframe tbody tr th {\n",
       "        vertical-align: top;\n",
       "    }\n",
       "\n",
       "    .dataframe thead th {\n",
       "        text-align: right;\n",
       "    }\n",
       "</style>\n",
       "<table border=\"1\" class=\"dataframe\">\n",
       "  <thead>\n",
       "    <tr style=\"text-align: right;\">\n",
       "      <th></th>\n",
       "      <th>지역</th>\n",
       "      <th>상호</th>\n",
       "      <th>주소</th>\n",
       "      <th>상표</th>\n",
       "      <th>전화번호</th>\n",
       "      <th>셀프여부</th>\n",
       "      <th>고급휘발유</th>\n",
       "      <th>휘발유</th>\n",
       "      <th>경유</th>\n",
       "      <th>실내등유</th>\n",
       "    </tr>\n",
       "  </thead>\n",
       "  <tbody>\n",
       "    <tr>\n",
       "      <th>0</th>\n",
       "      <td>서울특별시</td>\n",
       "      <td>재건에너지 재정제2주유소 고속셀프지점</td>\n",
       "      <td>서울특별시 강동구  천호대로 1246 (둔촌제2동)</td>\n",
       "      <td>HD현대오일뱅크</td>\n",
       "      <td>02-487-2030</td>\n",
       "      <td>Y</td>\n",
       "      <td>-</td>\n",
       "      <td>1629</td>\n",
       "      <td>1529</td>\n",
       "      <td>-</td>\n",
       "    </tr>\n",
       "    <tr>\n",
       "      <th>1</th>\n",
       "      <td>서울특별시</td>\n",
       "      <td>구천면주유소</td>\n",
       "      <td>서울 강동구 구천면로 357 (암사동)</td>\n",
       "      <td>HD현대오일뱅크</td>\n",
       "      <td>02-441-0536</td>\n",
       "      <td>N</td>\n",
       "      <td>-</td>\n",
       "      <td>1654</td>\n",
       "      <td>1565</td>\n",
       "      <td>-</td>\n",
       "    </tr>\n",
       "    <tr>\n",
       "      <th>2</th>\n",
       "      <td>서울특별시</td>\n",
       "      <td>방아다리주유소</td>\n",
       "      <td>서울 강동구 동남로 811 (명일동)</td>\n",
       "      <td>SK에너지</td>\n",
       "      <td>02-442-5145</td>\n",
       "      <td>Y</td>\n",
       "      <td>-</td>\n",
       "      <td>1665</td>\n",
       "      <td>1575</td>\n",
       "      <td>-</td>\n",
       "    </tr>\n",
       "    <tr>\n",
       "      <th>3</th>\n",
       "      <td>서울특별시</td>\n",
       "      <td>(주)소모 신월주유소</td>\n",
       "      <td>서울 강동구 양재대로 1323 (성내동)</td>\n",
       "      <td>GS칼텍스</td>\n",
       "      <td>02-6956-6674</td>\n",
       "      <td>Y</td>\n",
       "      <td>1896</td>\n",
       "      <td>1686</td>\n",
       "      <td>1588</td>\n",
       "      <td>1590</td>\n",
       "    </tr>\n",
       "    <tr>\n",
       "      <th>4</th>\n",
       "      <td>서울특별시</td>\n",
       "      <td>(주)삼표에너지 고덕주유소</td>\n",
       "      <td>서울 강동구 고덕로 39 (암사동)</td>\n",
       "      <td>GS칼텍스</td>\n",
       "      <td>02-441-3327</td>\n",
       "      <td>Y</td>\n",
       "      <td>1895</td>\n",
       "      <td>1695</td>\n",
       "      <td>1595</td>\n",
       "      <td>1599</td>\n",
       "    </tr>\n",
       "    <tr>\n",
       "      <th>...</th>\n",
       "      <td>...</td>\n",
       "      <td>...</td>\n",
       "      <td>...</td>\n",
       "      <td>...</td>\n",
       "      <td>...</td>\n",
       "      <td>...</td>\n",
       "      <td>...</td>\n",
       "      <td>...</td>\n",
       "      <td>...</td>\n",
       "      <td>...</td>\n",
       "    </tr>\n",
       "    <tr>\n",
       "      <th>27</th>\n",
       "      <td>서울특별시</td>\n",
       "      <td>대청주유소</td>\n",
       "      <td>서울 강남구 개포로 654 (일원동)</td>\n",
       "      <td>SK에너지</td>\n",
       "      <td>02-445-5500</td>\n",
       "      <td>N</td>\n",
       "      <td>2489</td>\n",
       "      <td>2195</td>\n",
       "      <td>2086</td>\n",
       "      <td>1846</td>\n",
       "    </tr>\n",
       "    <tr>\n",
       "      <th>28</th>\n",
       "      <td>서울특별시</td>\n",
       "      <td>㈜새서울석유 새서울주유소</td>\n",
       "      <td>서울 강남구 압구정로 154</td>\n",
       "      <td>HD현대오일뱅크</td>\n",
       "      <td>02-543-1154</td>\n",
       "      <td>N</td>\n",
       "      <td>2397</td>\n",
       "      <td>2198</td>\n",
       "      <td>1998</td>\n",
       "      <td>-</td>\n",
       "    </tr>\n",
       "    <tr>\n",
       "      <th>29</th>\n",
       "      <td>서울특별시</td>\n",
       "      <td>SK논현주유소</td>\n",
       "      <td>서울 강남구 논현로 747 (논현동)</td>\n",
       "      <td>SK에너지</td>\n",
       "      <td>02-511-0955</td>\n",
       "      <td>N</td>\n",
       "      <td>2561</td>\n",
       "      <td>2363</td>\n",
       "      <td>2198</td>\n",
       "      <td>1798</td>\n",
       "    </tr>\n",
       "    <tr>\n",
       "      <th>30</th>\n",
       "      <td>서울특별시</td>\n",
       "      <td>(주)제이제이네트웍스 제이제이주유소</td>\n",
       "      <td>서울 강남구 언주로 716</td>\n",
       "      <td>HD현대오일뱅크</td>\n",
       "      <td>02-518-5631</td>\n",
       "      <td>N</td>\n",
       "      <td>2780</td>\n",
       "      <td>2490</td>\n",
       "      <td>2380</td>\n",
       "      <td>-</td>\n",
       "    </tr>\n",
       "    <tr>\n",
       "      <th>31</th>\n",
       "      <td>서울특별시</td>\n",
       "      <td>(주)만정에너지 삼보주유소</td>\n",
       "      <td>서울 강남구 봉은사로 433 (삼성동)</td>\n",
       "      <td>GS칼텍스</td>\n",
       "      <td>02-518-5141</td>\n",
       "      <td>N</td>\n",
       "      <td>2838</td>\n",
       "      <td>2598</td>\n",
       "      <td>2560</td>\n",
       "      <td>1850</td>\n",
       "    </tr>\n",
       "  </tbody>\n",
       "</table>\n",
       "<p>438 rows × 10 columns</p>\n",
       "</div>"
      ],
      "text/plain": [
       "       지역                    상호                            주소        상표  \\\n",
       "0   서울특별시  재건에너지 재정제2주유소 고속셀프지점  서울특별시 강동구  천호대로 1246 (둔촌제2동)  HD현대오일뱅크   \n",
       "1   서울특별시                구천면주유소         서울 강동구 구천면로 357 (암사동)  HD현대오일뱅크   \n",
       "2   서울특별시               방아다리주유소          서울 강동구 동남로 811 (명일동)     SK에너지   \n",
       "3   서울특별시           (주)소모 신월주유소        서울 강동구 양재대로 1323 (성내동)     GS칼텍스   \n",
       "4   서울특별시        (주)삼표에너지 고덕주유소           서울 강동구 고덕로 39 (암사동)     GS칼텍스   \n",
       "..    ...                   ...                           ...       ...   \n",
       "27  서울특별시                 대청주유소          서울 강남구 개포로 654 (일원동)     SK에너지   \n",
       "28  서울특별시         ㈜새서울석유 새서울주유소               서울 강남구 압구정로 154  HD현대오일뱅크   \n",
       "29  서울특별시               SK논현주유소          서울 강남구 논현로 747 (논현동)     SK에너지   \n",
       "30  서울특별시   (주)제이제이네트웍스 제이제이주유소                서울 강남구 언주로 716  HD현대오일뱅크   \n",
       "31  서울특별시        (주)만정에너지 삼보주유소         서울 강남구 봉은사로 433 (삼성동)     GS칼텍스   \n",
       "\n",
       "            전화번호 셀프여부 고급휘발유   휘발유    경유  실내등유  \n",
       "0    02-487-2030    Y     -  1629  1529     -  \n",
       "1    02-441-0536    N     -  1654  1565     -  \n",
       "2    02-442-5145    Y     -  1665  1575     -  \n",
       "3   02-6956-6674    Y  1896  1686  1588  1590  \n",
       "4    02-441-3327    Y  1895  1695  1595  1599  \n",
       "..           ...  ...   ...   ...   ...   ...  \n",
       "27   02-445-5500    N  2489  2195  2086  1846  \n",
       "28   02-543-1154    N  2397  2198  1998     -  \n",
       "29   02-511-0955    N  2561  2363  2198  1798  \n",
       "30   02-518-5631    N  2780  2490  2380     -  \n",
       "31   02-518-5141    N  2838  2598  2560  1850  \n",
       "\n",
       "[438 rows x 10 columns]"
      ]
     },
     "execution_count": 72,
     "metadata": {},
     "output_type": "execute_result"
    }
   ],
   "source": [
    "stations"
   ]
  },
  {
   "cell_type": "code",
   "execution_count": 73,
   "metadata": {},
   "outputs": [
    {
     "name": "stdout",
     "output_type": "stream",
     "text": [
      "<class 'pandas.core.frame.DataFrame'>\n",
      "Index: 438 entries, 0 to 31\n",
      "Data columns (total 10 columns):\n",
      " #   Column  Non-Null Count  Dtype \n",
      "---  ------  --------------  ----- \n",
      " 0   지역      438 non-null    object\n",
      " 1   상호      438 non-null    object\n",
      " 2   주소      438 non-null    object\n",
      " 3   상표      438 non-null    object\n",
      " 4   전화번호    438 non-null    object\n",
      " 5   셀프여부    438 non-null    object\n",
      " 6   고급휘발유   438 non-null    object\n",
      " 7   휘발유     438 non-null    object\n",
      " 8   경유      438 non-null    object\n",
      " 9   실내등유    438 non-null    object\n",
      "dtypes: object(10)\n",
      "memory usage: 37.6+ KB\n"
     ]
    }
   ],
   "source": [
    "stations.info()"
   ]
  },
  {
   "cell_type": "code",
   "execution_count": 74,
   "metadata": {},
   "outputs": [],
   "source": [
    "stations.to_csv('주유소.csv')"
   ]
  },
  {
   "cell_type": "code",
   "execution_count": 76,
   "metadata": {},
   "outputs": [],
   "source": [
    "driver.close()"
   ]
  },
  {
   "cell_type": "markdown",
   "metadata": {},
   "source": [
    "-----"
   ]
  }
 ],
 "metadata": {
  "kernelspec": {
   "display_name": "Python 3 (ipykernel)",
   "language": "python",
   "name": "python3"
  },
  "language_info": {
   "codemirror_mode": {
    "name": "ipython",
    "version": 3
   },
   "file_extension": ".py",
   "mimetype": "text/x-python",
   "name": "python",
   "nbconvert_exporter": "python",
   "pygments_lexer": "ipython3",
   "version": "3.11.7"
  }
 },
 "nbformat": 4,
 "nbformat_minor": 4
}
