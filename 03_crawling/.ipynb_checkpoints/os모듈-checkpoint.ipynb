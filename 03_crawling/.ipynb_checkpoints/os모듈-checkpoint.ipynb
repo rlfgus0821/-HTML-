{
 "cells": [
  {
   "cell_type": "markdown",
   "id": "0fb4923e-e889-4e5c-bc9c-296d18e10dab",
   "metadata": {},
   "source": [
    "### 파일 및 디렉터리 관리"
   ]
  },
  {
   "cell_type": "code",
   "execution_count": 1,
   "id": "e6550d16-9aed-4729-b86b-2ae2ca8fb28a",
   "metadata": {},
   "outputs": [],
   "source": [
    "import os"
   ]
  },
  {
   "cell_type": "code",
   "execution_count": 4,
   "id": "6398c2d7-ae8f-4d0a-b562-697ca559c651",
   "metadata": {},
   "outputs": [
    {
     "data": {
      "text/plain": [
       "'C:\\\\workspace_multi07\\\\web\\\\03_crawling'"
      ]
     },
     "execution_count": 4,
     "metadata": {},
     "output_type": "execute_result"
    }
   ],
   "source": [
    "os.getcwd()"
   ]
  },
  {
   "cell_type": "code",
   "execution_count": 5,
   "id": "c3e185b2-ab2f-418f-8812-191c6df1b52a",
   "metadata": {},
   "outputs": [],
   "source": [
    "os.chdir('c:/')"
   ]
  },
  {
   "cell_type": "code",
   "execution_count": 6,
   "id": "88592a47-cd81-457c-853a-3daeb815e036",
   "metadata": {},
   "outputs": [
    {
     "data": {
      "text/plain": [
       "'c:\\\\'"
      ]
     },
     "execution_count": 6,
     "metadata": {},
     "output_type": "execute_result"
    }
   ],
   "source": [
    "os.getcwd()"
   ]
  },
  {
   "cell_type": "code",
   "execution_count": 7,
   "id": "328511b9-b2cc-41e7-9e5e-1aecb8513177",
   "metadata": {},
   "outputs": [],
   "source": [
    "os.chdir('C:\\\\workspace_multi07\\\\web\\\\03_crawling')"
   ]
  },
  {
   "cell_type": "code",
   "execution_count": 9,
   "id": "30fa4c7b-76da-44ae-8c11-58c4b1df8ca8",
   "metadata": {},
   "outputs": [
    {
     "data": {
      "text/plain": [
       "'C:\\\\workspace_multi07\\\\web\\\\03_crawling'"
      ]
     },
     "execution_count": 9,
     "metadata": {},
     "output_type": "execute_result"
    }
   ],
   "source": [
    "os.getcwd()"
   ]
  },
  {
   "cell_type": "code",
   "execution_count": 19,
   "id": "dbe4c4e1-d985-4605-bbef-74a456c09042",
   "metadata": {},
   "outputs": [
    {
     "data": {
      "text/plain": [
       "['.ipynb_checkpoints',\n",
       " '0_intro.ipynb',\n",
       " '1_웹크롤링_개요.ipynb',\n",
       " '2_정적크롤링1_명언사이트.ipynb',\n",
       " '2_정적크롤링2_다음뉴스크롤링.ipynb',\n",
       " '2_정적크롤링3_쇼핑몰.ipynb',\n",
       " '2_정적크롤링4_음악차트순위.ipynb',\n",
       " '3_동적크롤링1_소개_네이버로그인.ipynb',\n",
       " '3_동적크롤링2_네이버뉴스_댓글수.ipynb',\n",
       " '3_동적크롤링3_주유소가격.ipynb',\n",
       " 'data',\n",
       " 'img',\n",
       " 'os모듈.ipynb']"
      ]
     },
     "execution_count": 19,
     "metadata": {},
     "output_type": "execute_result"
    }
   ],
   "source": [
    "# 현재 위치 파일에 있는 파일과 디렉터리 목록\n",
    "os.listdir()"
   ]
  },
  {
   "cell_type": "code",
   "execution_count": 12,
   "id": "8e159588-f955-4db3-ae4c-6240a7c9c181",
   "metadata": {},
   "outputs": [],
   "source": [
    "# 디렉터리 생성\n",
    "os.mkdir('test')"
   ]
  },
  {
   "cell_type": "code",
   "execution_count": 18,
   "id": "67e3c124-00b7-4f20-b822-8d67ac215d48",
   "metadata": {},
   "outputs": [],
   "source": [
    "# 디렉터리 삭제\n",
    "import shutil\n",
    "shutil.rmtree('test')\n",
    "# 파일삭제\n",
    "os.remove('test.ipynb')"
   ]
  },
  {
   "cell_type": "code",
   "execution_count": 16,
   "id": "c66284cf-fc52-4a5d-a684-169176694152",
   "metadata": {},
   "outputs": [],
   "source": [
    "# 디렉터리 확인하고 없으면 생성\n",
    "if not os.path.isdir('test'):\n",
    "    os.mkdir('test')"
   ]
  },
  {
   "cell_type": "code",
   "execution_count": 22,
   "id": "335aad64-81f6-4276-a70d-9f6f01db5a0d",
   "metadata": {},
   "outputs": [
    {
     "data": {
      "text/plain": [
       "[('C:\\\\workspace_multi07\\\\web\\\\03_crawling',\n",
       "  ['.ipynb_checkpoints', 'data', 'img'],\n",
       "  ['0_intro.ipynb',\n",
       "   '1_웹크롤링_개요.ipynb',\n",
       "   '2_정적크롤링1_명언사이트.ipynb',\n",
       "   '2_정적크롤링2_다음뉴스크롤링.ipynb',\n",
       "   '2_정적크롤링3_쇼핑몰.ipynb',\n",
       "   '2_정적크롤링4_음악차트순위.ipynb',\n",
       "   '3_동적크롤링1_소개_네이버로그인.ipynb',\n",
       "   '3_동적크롤링2_네이버뉴스_댓글수.ipynb',\n",
       "   '3_동적크롤링3_주유소가격.ipynb',\n",
       "   'os모듈.ipynb']),\n",
       " ('C:\\\\workspace_multi07\\\\web\\\\03_crawling\\\\.ipynb_checkpoints',\n",
       "  [],\n",
       "  ['0_intro-checkpoint.ipynb',\n",
       "   '1_웹크롤링_개요-checkpoint.ipynb',\n",
       "   '2_정적크롤링1_명언사이트-checkpoint.ipynb',\n",
       "   '2_정적크롤링2_다음뉴스크롤링-checkpoint.ipynb',\n",
       "   '3_동적크롤링1_소개_네이버로그인-checkpoint.ipynb',\n",
       "   '3_동적크롤링3_주유소가격-checkpoint.ipynb',\n",
       "   'os모듈-checkpoint.ipynb']),\n",
       " ('C:\\\\workspace_multi07\\\\web\\\\03_crawling\\\\data',\n",
       "  [],\n",
       "  ['sshot1.png', 'sshot2.png']),\n",
       " ('C:\\\\workspace_multi07\\\\web\\\\03_crawling\\\\img', [], [])]"
      ]
     },
     "execution_count": 22,
     "metadata": {},
     "output_type": "execute_result"
    }
   ],
   "source": [
    "# 지정된 위치에 디렉터리 목록 모두보기\n",
    "list(os.walk('C:\\\\workspace_multi07\\\\web\\\\03_crawling'))"
   ]
  },
  {
   "cell_type": "code",
   "execution_count": 24,
   "id": "03e32d6e-74fe-485b-8660-8f772f9f26bf",
   "metadata": {},
   "outputs": [
    {
     "data": {
      "text/plain": [
       "False"
      ]
     },
     "execution_count": 24,
     "metadata": {},
     "output_type": "execute_result"
    }
   ],
   "source": [
    "# 파일 또는 디렉터리 존재 여부 확인\n",
    "os.path.exists('test.ipynb')\n",
    "# 파일만\n",
    "os.path.isfile('test.ipynb')\n",
    "# 디렉터리만\n",
    "os.path.isdir('test.ipynb')"
   ]
  },
  {
   "cell_type": "code",
   "execution_count": 25,
   "id": "c38aba58-4f4b-42eb-bdd4-c6e8ab0b3914",
   "metadata": {},
   "outputs": [
    {
     "data": {
      "text/plain": [
       "2330"
      ]
     },
     "execution_count": 25,
     "metadata": {},
     "output_type": "execute_result"
    }
   ],
   "source": [
    "# 파일 크기 확인\n",
    "os.path.getsize('0_intro.ipynb')"
   ]
  },
  {
   "cell_type": "code",
   "execution_count": 31,
   "id": "84b269d6-914f-4fdd-b556-7b1e10e01660",
   "metadata": {},
   "outputs": [],
   "source": [
    "# log디렉토리에 log파일 생성\n",
    "import random, datetime\n",
    "dir ='log'\n",
    "if not os.path.isdir(dir):\n",
    "    os.mkdir(dir)\n",
    "path = 'log/count_log.txt'\n",
    "if not os.path.exists(path):\n",
    "    f = open(path, 'w', encoding='utf-8')\n",
    "    f.write('기록시작\\n')\n",
    "    f.close()\n",
    "with open(path, 'a', encoding='utf-8') as f:\n",
    "    for i in range(20):\n",
    "        stamp = str(datetime.datetime.now())\n",
    "        value = random.random() * 1000\n",
    "        log = stamp + '\\t' + str(value) + '값 생성\\n'\n",
    "        f.write(log)"
   ]
  },
  {
   "cell_type": "code",
   "execution_count": 32,
   "id": "56ad32cd-5e6a-4e96-98ca-ab10847d07fe",
   "metadata": {},
   "outputs": [],
   "source": [
    "os.chdir('log')"
   ]
  },
  {
   "cell_type": "code",
   "execution_count": 33,
   "id": "45a10e01-da86-4804-a451-7dabb339d068",
   "metadata": {},
   "outputs": [
    {
     "data": {
      "text/plain": [
       "['count_log.txt']"
      ]
     },
     "execution_count": 33,
     "metadata": {},
     "output_type": "execute_result"
    }
   ],
   "source": [
    "os.listdir()"
   ]
  }
 ],
 "metadata": {
  "kernelspec": {
   "display_name": "Python 3 (ipykernel)",
   "language": "python",
   "name": "python3"
  },
  "language_info": {
   "codemirror_mode": {
    "name": "ipython",
    "version": 3
   },
   "file_extension": ".py",
   "mimetype": "text/x-python",
   "name": "python",
   "nbconvert_exporter": "python",
   "pygments_lexer": "ipython3",
   "version": "3.11.7"
  }
 },
 "nbformat": 4,
 "nbformat_minor": 5
}
