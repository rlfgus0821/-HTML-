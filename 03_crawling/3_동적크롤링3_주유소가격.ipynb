{
 "cells": [
  {
   "cell_type": "markdown",
   "metadata": {},
   "source": [
    "# Selenium이용한 크롤링실습"
   ]
  },
  {
   "cell_type": "code",
   "execution_count": 1,
   "metadata": {},
   "outputs": [],
   "source": [
    "import requests\n",
    "from bs4 import BeautifulSoup\n",
    "import numpy as np\n",
    "import pandas as pd"
   ]
  },
  {
   "cell_type": "code",
   "execution_count": 2,
   "metadata": {},
   "outputs": [],
   "source": [
    "from selenium import webdriver\n",
    "from selenium.webdriver.common.by import By\n",
    "from selenium.webdriver.chrome.service import Service\n",
    "from webdriver_manager.chrome import ChromeDriverManager"
   ]
  },
  {
   "cell_type": "code",
   "execution_count": 3,
   "metadata": {},
   "outputs": [],
   "source": [
    "service = Service(executable_path=ChromeDriverManager().install())"
   ]
  },
  {
   "cell_type": "markdown",
   "metadata": {},
   "source": [
    "## 싼 주유소 찾기 Opinet\n",
    "\n",
    "- https://www.opinet.co.kr/user/main/mainView.do"
   ]
  },
  {
   "cell_type": "markdown",
   "metadata": {},
   "source": [
    "### 서울시 구별 주유소 가격 정도 얻어오기\n",
    "\n",
    "- 사이트에서 [싼주유소찾기] > [지역별] 메뉴 선택\n",
    "- 지역은 '서울' > 원하는 구 지정\n",
    "    - '시/군/구'를 선택하는 select option의 XPath 찾기\n",
    "\n",
    "- '조회'버튼 클릭\n",
    "- 조회된 주유소 정보 '엑셀저장' 버튼 클릭하여 엑셀파일 다운로드"
   ]
  },
  {
   "cell_type": "markdown",
   "metadata": {},
   "source": [
    "#### 크롬 드라이버 객체 생성"
   ]
  },
  {
   "cell_type": "code",
   "execution_count": 4,
   "metadata": {},
   "outputs": [],
   "source": [
    "driver = webdriver.Chrome(service=service)"
   ]
  },
  {
   "cell_type": "markdown",
   "metadata": {},
   "source": [
    "#### 웹페이지 로드"
   ]
  },
  {
   "cell_type": "code",
   "execution_count": 5,
   "metadata": {},
   "outputs": [],
   "source": [
    "url = 'https://www.opinet.co.kr/user/main/mainView.do'"
   ]
  },
  {
   "cell_type": "code",
   "execution_count": 6,
   "metadata": {},
   "outputs": [],
   "source": [
    "driver.get(url)"
   ]
  },
  {
   "cell_type": "markdown",
   "metadata": {},
   "source": [
    "#### [싼주유소찾기]-[지역] 페이지로 이동\n",
    "\n",
    "- 자바스트립트 코드 실행으로 통해서 이동"
   ]
  },
  {
   "cell_type": "code",
   "execution_count": 7,
   "metadata": {},
   "outputs": [],
   "source": [
    "driver.execute_script('goSubPage(0,0,99)')"
   ]
  },
  {
   "cell_type": "markdown",
   "metadata": {},
   "source": [
    "#### 시 이름 찾기"
   ]
  },
  {
   "cell_type": "code",
   "execution_count": 8,
   "metadata": {
    "scrolled": true
   },
   "outputs": [
    {
     "data": {
      "text/plain": [
       "['',\n",
       " '서울특별시',\n",
       " '부산광역시',\n",
       " '대구광역시',\n",
       " '인천광역시',\n",
       " '광주광역시',\n",
       " '대전광역시',\n",
       " '울산광역시',\n",
       " '세종특별자치시',\n",
       " '경기도',\n",
       " '강원특별자치도',\n",
       " '충청북도',\n",
       " '충청남도',\n",
       " '전북특별자치도',\n",
       " '전라남도',\n",
       " '경상북도',\n",
       " '경상남도',\n",
       " '제주특별자치도']"
      ]
     },
     "execution_count": 8,
     "metadata": {},
     "output_type": "execute_result"
    }
   ],
   "source": [
    "xpath = '//*[@id=\"SIDO_NM0\"]'\n",
    "sido_lists = driver.find_element(By.XPATH, xpath)\n",
    "sido_opt= sido_lists.find_elements(By.TAG_NAME, 'option')\n",
    "sido_names = [opt.get_attribute('value') for opt in sido_opt]\n",
    "sido_names"
   ]
  },
  {
   "cell_type": "markdown",
   "metadata": {},
   "source": [
    "#### 구 이름 찾기"
   ]
  },
  {
   "cell_type": "code",
   "execution_count": 9,
   "metadata": {},
   "outputs": [
    {
     "data": {
      "text/plain": [
       "['',\n",
       " '강릉시',\n",
       " '고성군',\n",
       " '동해시',\n",
       " '삼척시',\n",
       " '속초시',\n",
       " '양구군',\n",
       " '양양군',\n",
       " '영월군',\n",
       " '원주시',\n",
       " '인제군',\n",
       " '정선군',\n",
       " '철원군',\n",
       " '춘천시',\n",
       " '태백시',\n",
       " '평창군',\n",
       " '홍천군',\n",
       " '화천군',\n",
       " '횡성군']"
      ]
     },
     "execution_count": 9,
     "metadata": {},
     "output_type": "execute_result"
    }
   ],
   "source": [
    "xpath = '//*[@id=\"SIGUNGU_NM0\"]'\n",
    "gu_lists = driver.find_element(By.XPATH, xpath)\n",
    "gu_opt= gu_lists.find_elements(By.TAG_NAME, 'option')\n",
    "gu_names = [opt.get_attribute('value') for opt in gu_opt]\n",
    "gu_names"
   ]
  },
  {
   "cell_type": "markdown",
   "metadata": {},
   "source": [
    "#### '강남구' 주유소 지정"
   ]
  },
  {
   "cell_type": "code",
   "execution_count": 10,
   "metadata": {},
   "outputs": [],
   "source": [
    "elementsido = driver.find_element(By.ID, 'SIDO_NM0')\n",
    "elementsido.send_keys('서울시')"
   ]
  },
  {
   "cell_type": "code",
   "execution_count": 11,
   "metadata": {},
   "outputs": [],
   "source": [
    "elementgu = driver.find_element(By.ID, 'SIGUNGU_NM0')\n",
    "elementgu.send_keys('강남구')"
   ]
  },
  {
   "cell_type": "markdown",
   "metadata": {},
   "source": [
    "#### '조회' 버튼 클릭"
   ]
  },
  {
   "cell_type": "code",
   "execution_count": 12,
   "metadata": {},
   "outputs": [],
   "source": [
    "xpath = '//*[@id=\"searRgSelect\"]'\n",
    "driver.find_element(By.XPATH, xpath).click()"
   ]
  },
  {
   "cell_type": "markdown",
   "metadata": {},
   "source": [
    "#### 조회된 주유소 '엑셀저장' 버튼 클릭"
   ]
  },
  {
   "cell_type": "code",
   "execution_count": 13,
   "metadata": {},
   "outputs": [
    {
     "ename": "NoSuchElementException",
     "evalue": "Message: no such element: Unable to locate element: {\"method\":\"xpath\",\"selector\":\"//*[@id=\"glopopd_excel\"]\"}\n  (Session info: chrome=124.0.6367.62); For documentation on this error, please visit: https://www.selenium.dev/documentation/webdriver/troubleshooting/errors#no-such-element-exception\nStacktrace:\n\tGetHandleVerifier [0x00CAC113+48259]\n\t(No symbol) [0x00C3CA41]\n\t(No symbol) [0x00B30A17]\n\t(No symbol) [0x00B70BED]\n\t(No symbol) [0x00B70C9B]\n\t(No symbol) [0x00BABC12]\n\t(No symbol) [0x00B90DE4]\n\t(No symbol) [0x00BA9B9C]\n\t(No symbol) [0x00B90B36]\n\t(No symbol) [0x00B6570D]\n\t(No symbol) [0x00B662CD]\n\tGetHandleVerifier [0x00F66533+2908323]\n\tGetHandleVerifier [0x00FA3B4B+3159739]\n\tGetHandleVerifier [0x00D4505B+674763]\n\tGetHandleVerifier [0x00D4B21C+699788]\n\t(No symbol) [0x00C46244]\n\t(No symbol) [0x00C42298]\n\t(No symbol) [0x00C4242C]\n\t(No symbol) [0x00C34BB0]\n\tBaseThreadInitThunk [0x76DAFCC9+25]\n\tRtlGetAppContainerNamedObjectPath [0x77B27C5E+286]\n\tRtlGetAppContainerNamedObjectPath [0x77B27C2E+238]\n",
     "output_type": "error",
     "traceback": [
      "\u001b[1;31m---------------------------------------------------------------------------\u001b[0m",
      "\u001b[1;31mNoSuchElementException\u001b[0m                    Traceback (most recent call last)",
      "Cell \u001b[1;32mIn[13], line 2\u001b[0m\n\u001b[0;32m      1\u001b[0m xpath \u001b[38;5;241m=\u001b[39m \u001b[38;5;124m'\u001b[39m\u001b[38;5;124m//*[@id=\u001b[39m\u001b[38;5;124m\"\u001b[39m\u001b[38;5;124mglopopd_excel\u001b[39m\u001b[38;5;124m\"\u001b[39m\u001b[38;5;124m]\u001b[39m\u001b[38;5;124m'\u001b[39m\n\u001b[1;32m----> 2\u001b[0m driver\u001b[38;5;241m.\u001b[39mfind_element(By\u001b[38;5;241m.\u001b[39mXPATH, xpath)\u001b[38;5;241m.\u001b[39mclick()\n",
      "File \u001b[1;32m~\\AppData\\Roaming\\Python\\Python311\\site-packages\\selenium\\webdriver\\remote\\webdriver.py:741\u001b[0m, in \u001b[0;36mWebDriver.find_element\u001b[1;34m(self, by, value)\u001b[0m\n\u001b[0;32m    738\u001b[0m     by \u001b[38;5;241m=\u001b[39m By\u001b[38;5;241m.\u001b[39mCSS_SELECTOR\n\u001b[0;32m    739\u001b[0m     value \u001b[38;5;241m=\u001b[39m \u001b[38;5;124mf\u001b[39m\u001b[38;5;124m'\u001b[39m\u001b[38;5;124m[name=\u001b[39m\u001b[38;5;124m\"\u001b[39m\u001b[38;5;132;01m{\u001b[39;00mvalue\u001b[38;5;132;01m}\u001b[39;00m\u001b[38;5;124m\"\u001b[39m\u001b[38;5;124m]\u001b[39m\u001b[38;5;124m'\u001b[39m\n\u001b[1;32m--> 741\u001b[0m \u001b[38;5;28;01mreturn\u001b[39;00m \u001b[38;5;28mself\u001b[39m\u001b[38;5;241m.\u001b[39mexecute(Command\u001b[38;5;241m.\u001b[39mFIND_ELEMENT, {\u001b[38;5;124m\"\u001b[39m\u001b[38;5;124musing\u001b[39m\u001b[38;5;124m\"\u001b[39m: by, \u001b[38;5;124m\"\u001b[39m\u001b[38;5;124mvalue\u001b[39m\u001b[38;5;124m\"\u001b[39m: value})[\u001b[38;5;124m\"\u001b[39m\u001b[38;5;124mvalue\u001b[39m\u001b[38;5;124m\"\u001b[39m]\n",
      "File \u001b[1;32m~\\AppData\\Roaming\\Python\\Python311\\site-packages\\selenium\\webdriver\\remote\\webdriver.py:347\u001b[0m, in \u001b[0;36mWebDriver.execute\u001b[1;34m(self, driver_command, params)\u001b[0m\n\u001b[0;32m    345\u001b[0m response \u001b[38;5;241m=\u001b[39m \u001b[38;5;28mself\u001b[39m\u001b[38;5;241m.\u001b[39mcommand_executor\u001b[38;5;241m.\u001b[39mexecute(driver_command, params)\n\u001b[0;32m    346\u001b[0m \u001b[38;5;28;01mif\u001b[39;00m response:\n\u001b[1;32m--> 347\u001b[0m     \u001b[38;5;28mself\u001b[39m\u001b[38;5;241m.\u001b[39merror_handler\u001b[38;5;241m.\u001b[39mcheck_response(response)\n\u001b[0;32m    348\u001b[0m     response[\u001b[38;5;124m\"\u001b[39m\u001b[38;5;124mvalue\u001b[39m\u001b[38;5;124m\"\u001b[39m] \u001b[38;5;241m=\u001b[39m \u001b[38;5;28mself\u001b[39m\u001b[38;5;241m.\u001b[39m_unwrap_value(response\u001b[38;5;241m.\u001b[39mget(\u001b[38;5;124m\"\u001b[39m\u001b[38;5;124mvalue\u001b[39m\u001b[38;5;124m\"\u001b[39m, \u001b[38;5;28;01mNone\u001b[39;00m))\n\u001b[0;32m    349\u001b[0m     \u001b[38;5;28;01mreturn\u001b[39;00m response\n",
      "File \u001b[1;32m~\\AppData\\Roaming\\Python\\Python311\\site-packages\\selenium\\webdriver\\remote\\errorhandler.py:229\u001b[0m, in \u001b[0;36mErrorHandler.check_response\u001b[1;34m(self, response)\u001b[0m\n\u001b[0;32m    227\u001b[0m         alert_text \u001b[38;5;241m=\u001b[39m value[\u001b[38;5;124m\"\u001b[39m\u001b[38;5;124malert\u001b[39m\u001b[38;5;124m\"\u001b[39m]\u001b[38;5;241m.\u001b[39mget(\u001b[38;5;124m\"\u001b[39m\u001b[38;5;124mtext\u001b[39m\u001b[38;5;124m\"\u001b[39m)\n\u001b[0;32m    228\u001b[0m     \u001b[38;5;28;01mraise\u001b[39;00m exception_class(message, screen, stacktrace, alert_text)  \u001b[38;5;66;03m# type: ignore[call-arg]  # mypy is not smart enough here\u001b[39;00m\n\u001b[1;32m--> 229\u001b[0m \u001b[38;5;28;01mraise\u001b[39;00m exception_class(message, screen, stacktrace)\n",
      "\u001b[1;31mNoSuchElementException\u001b[0m: Message: no such element: Unable to locate element: {\"method\":\"xpath\",\"selector\":\"//*[@id=\"glopopd_excel\"]\"}\n  (Session info: chrome=124.0.6367.62); For documentation on this error, please visit: https://www.selenium.dev/documentation/webdriver/troubleshooting/errors#no-such-element-exception\nStacktrace:\n\tGetHandleVerifier [0x00CAC113+48259]\n\t(No symbol) [0x00C3CA41]\n\t(No symbol) [0x00B30A17]\n\t(No symbol) [0x00B70BED]\n\t(No symbol) [0x00B70C9B]\n\t(No symbol) [0x00BABC12]\n\t(No symbol) [0x00B90DE4]\n\t(No symbol) [0x00BA9B9C]\n\t(No symbol) [0x00B90B36]\n\t(No symbol) [0x00B6570D]\n\t(No symbol) [0x00B662CD]\n\tGetHandleVerifier [0x00F66533+2908323]\n\tGetHandleVerifier [0x00FA3B4B+3159739]\n\tGetHandleVerifier [0x00D4505B+674763]\n\tGetHandleVerifier [0x00D4B21C+699788]\n\t(No symbol) [0x00C46244]\n\t(No symbol) [0x00C42298]\n\t(No symbol) [0x00C4242C]\n\t(No symbol) [0x00C34BB0]\n\tBaseThreadInitThunk [0x76DAFCC9+25]\n\tRtlGetAppContainerNamedObjectPath [0x77B27C5E+286]\n\tRtlGetAppContainerNamedObjectPath [0x77B27C2E+238]\n"
     ]
    }
   ],
   "source": [
    "xpath = '//*[@id=\"glopopd_excel\"]'\n",
    "driver.find_element(By.XPATH, xpath).click()"
   ]
  },
  {
   "cell_type": "markdown",
   "metadata": {},
   "source": [
    "=> '지역_위치별(주유소).xls'파일 다운로드 폴더에 저장됨"
   ]
  },
  {
   "cell_type": "markdown",
   "metadata": {},
   "source": [
    "### 25개 구 주유소 엑셀파일 다운로드\n",
    "\n",
    "- 함수로 작성하여 실행"
   ]
  },
  {
   "cell_type": "code",
   "execution_count": null,
   "metadata": {},
   "outputs": [],
   "source": [
    "import time"
   ]
  },
  {
   "cell_type": "code",
   "execution_count": null,
   "metadata": {},
   "outputs": [],
   "source": [
    "# 시도 이름 찾기\n",
    "xpath = '//*[@id=\"SIDO_NM0\"]'\n",
    "sido_lists = driver.find_element(By.XPATH, xpath)\n",
    "sido_opt= sido_lists.find_elements(By.TAG_NAME, 'option')\n",
    "sido_names = [opt.get_attribute('value') for opt in sido_opt]\n",
    "\n",
    "# 구 이름 찾기\n",
    "xpath = '//*[@id=\"SIGUNGU_NM0\"]'\n",
    "gu_lists = driver.find_element(By.XPATH, xpath)\n",
    "gu_opt= gu_lists.find_elements(By.TAG_NAME, 'option')\n",
    "gu_names = [opt.get_attribute('value') for opt in gu_opt]\n",
    "\n",
    "# 시도 이름 지정\n",
    "elementsido = driver.find_element(By.ID, 'SIDO_NM0')\n",
    "elementsido.send_keys('서울시')\n",
    "\n",
    "\n",
    "# 시군구 휘발유 가격 엑셀파일 다운로드 함수\n",
    "def search_download_sigungu(sigungu):\n",
    "    # 구 이름 지정\n",
    "    elementgu = driver.find_element(By.ID, 'SIGUNGU_NM0')\n",
    "    elementgu.send_keys(sigungu)\n",
    "    time.sleep(2)\n",
    "\n",
    "# 조회버튼 클릭\n",
    "    xpath = '//*[@id=\"searRgSelect\"]'\n",
    "    driver.find_element(By.XPATH, xpath).click()\n",
    "    time.sleep(2)\n",
    "\n",
    "# 엑셀저장 버튼 클릭\n",
    "    xpath = '//*[@id=\"glopopd_excel\"]'\n",
    "    driver.find_element(By.XPATH, xpath).click()\n",
    "    time.sleep(2)\n",
    "    \n",
    "# 입력한 시도의 모든 시군구 휘발유 가격 엑셀파일 다운로드 함수\n",
    "def search_download_sido(sido):\n",
    "    # 시도 이름 선택\n",
    "    elementsido = driver.find_element(By.ID, 'SIDO_NM0')\n",
    "    elementsido.send_keys(sido)\n",
    "    time.sleep(2)\n",
    "    \n",
    "    # 시군구 이름 찾기\n",
    "    xpath = '//*[@id=\"SIGUNGU_NM0\"]'\n",
    "    gu_lists = driver.find_element(By.XPATH, xpath)\n",
    "    gu_opt= gu_lists.find_elements(By.TAG_NAME, 'option')\n",
    "    gu_names = [opt.get_attribute('value') for opt in gu_opt][1:]\n",
    "\n",
    "    # 시군구 조회후 엑셀다운\n",
    "    for sigungu in gu_names:\n",
    "        search_download_sigungu(sigungu)\n",
    "\n",
    "# 전체 시도별 주유소 가격 다운로드\n",
    "def search_download_all():\n",
    "    # 시도이름 찾기\n",
    "    xpath = '//*[@id=\"SIDO_NM0\"]'\n",
    "    sido_lists = driver.find_element(By.XPATH, xpath)\n",
    "    sido_opt= sido_lists.find_elements(By.TAG_NAME, 'option')\n",
    "    sido_names = [opt.get_attribute('value') for opt in sido_opt]\n",
    "    \n",
    "    # 시도별 주유소 가격 다운로드\n",
    "    for sido in sido_names:\n",
    "        search_download_sido(sido)"
   ]
  },
  {
   "cell_type": "code",
   "execution_count": null,
   "metadata": {},
   "outputs": [],
   "source": [
    "search_download_sido('서울특별시')"
   ]
  },
  {
   "cell_type": "markdown",
   "metadata": {},
   "source": [
    "### 엑셀 파일 읽어오기"
   ]
  },
  {
   "cell_type": "code",
   "execution_count": null,
   "metadata": {},
   "outputs": [],
   "source": [
    "# glob 함수: 파일 경로 및 이름을 모아서 리스트에 저장\n",
    "from glob import glob"
   ]
  },
  {
   "cell_type": "code",
   "execution_count": null,
   "metadata": {},
   "outputs": [],
   "source": [
    "import os\n",
    "cpath = os.getcwd()\n",
    "cpath"
   ]
  },
  {
   "cell_type": "code",
   "execution_count": null,
   "metadata": {},
   "outputs": [],
   "source": [
    "path = 'C:/Users/gillhk/Downloads/'"
   ]
  },
  {
   "cell_type": "code",
   "execution_count": null,
   "metadata": {},
   "outputs": [],
   "source": [
    "filename = '지역_위치별*.xls'\n",
    "files = glob(path+filename)\n",
    "len(files)"
   ]
  },
  {
   "cell_type": "code",
   "execution_count": null,
   "metadata": {},
   "outputs": [],
   "source": [
    "!pip install xlrd"
   ]
  },
  {
   "cell_type": "code",
   "execution_count": null,
   "metadata": {},
   "outputs": [],
   "source": [
    "station = pd.read_excel(files[0], header=2)\n",
    "station"
   ]
  },
  {
   "cell_type": "code",
   "execution_count": null,
   "metadata": {},
   "outputs": [],
   "source": [
    "type(station)"
   ]
  },
  {
   "cell_type": "markdown",
   "metadata": {},
   "source": [
    "#### 데이터 합치기"
   ]
  },
  {
   "cell_type": "code",
   "execution_count": null,
   "metadata": {},
   "outputs": [],
   "source": [
    "tmp = []\n",
    "for file in files:\n",
    "    station = pd.read_excel(file, header=2)\n",
    "    tmp.append(station)\n",
    "stations = pd.concat(tmp)"
   ]
  },
  {
   "cell_type": "code",
   "execution_count": null,
   "metadata": {},
   "outputs": [],
   "source": [
    "stations"
   ]
  },
  {
   "cell_type": "code",
   "execution_count": null,
   "metadata": {},
   "outputs": [],
   "source": [
    "stations.info()"
   ]
  },
  {
   "cell_type": "code",
   "execution_count": null,
   "metadata": {},
   "outputs": [],
   "source": [
    "stations.to_csv('주유소.csv')"
   ]
  },
  {
   "cell_type": "code",
   "execution_count": null,
   "metadata": {},
   "outputs": [],
   "source": [
    "driver.close()"
   ]
  },
  {
   "cell_type": "markdown",
   "metadata": {},
   "source": [
    "-----"
   ]
  }
 ],
 "metadata": {
  "kernelspec": {
   "display_name": "Python 3 (ipykernel)",
   "language": "python",
   "name": "python3"
  },
  "language_info": {
   "codemirror_mode": {
    "name": "ipython",
    "version": 3
   },
   "file_extension": ".py",
   "mimetype": "text/x-python",
   "name": "python",
   "nbconvert_exporter": "python",
   "pygments_lexer": "ipython3",
   "version": "3.11.7"
  }
 },
 "nbformat": 4,
 "nbformat_minor": 4
}
