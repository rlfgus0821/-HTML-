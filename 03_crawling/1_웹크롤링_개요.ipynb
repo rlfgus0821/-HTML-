{
 "cells": [
  {
   "cell_type": "markdown",
   "metadata": {},
   "source": [
    "# 파이썬을 이용한  웹 데이터 수집"
   ]
  },
  {
   "cell_type": "markdown",
   "metadata": {},
   "source": [
    "#### 웹 데이터 수집 방법\n",
    "\n",
    "- 데이터 제공 사이트에서 파일로 다운로드\n",
    "- 크롤링(스크래핑)을 통한 수집\n",
    "- 오픈API를 이용하여 수집"
   ]
  },
  {
   "cell_type": "markdown",
   "metadata": {},
   "source": [
    "## 1. 웹 크롤링(Web Crawling)"
   ]
  },
  {
   "cell_type": "markdown",
   "metadata": {},
   "source": [
    "### 웹 크롤링 개념\n",
    "\n",
    "- 웹의 정보를 자동으로 수집하는 것\n",
    "- 웹 크롤러(crawler) :  웹의 정보를 수집하기 위해 만든 프로그램\n",
    "- 웹 페이지의 링크를 통해 계속해서 정보를 찾아 나감\n",
    "    - 중복된 데이트 수집이 될 수 있으므로 중복된 데이터 처리가 필수\n",
    "\n",
    "- 웹 스크래핑(scrapping) : 특정 웹 사이트에서만 데이터를 추적(수집)"
   ]
  },
  {
   "cell_type": "markdown",
   "metadata": {},
   "source": [
    "### 웹 크롤링의 활용 예\n",
    "\n",
    "- 기업의 경우 웹 크롤링 과정을 통해 고객과 제품의 정보를 다양한 소셜미디어 플랫폼에서 웹 크롤링을 통해 정보를 수집하고 브랜드 성과와 고객 만족도를 파악\n",
    "- 주식시장 : 웹 크롤링을 통해 다양한 플랫폼에서 원하는 기간의 주가 데이터 수집하여 트렌드 발견 및 미래 주가 예측 모델에 활용\n",
    "- 부동산 시장 : 부동산 가격 예측과 책정에 활용\n",
    "    - 미국의 부동산 거래 플랫폼 질로우(zillow) : 웹 크롤링을 통해 정보를 수집하여 부동산 가격을 평가\n",
    "        - https://zillow.com"
   ]
  },
  {
   "cell_type": "markdown",
   "metadata": {},
   "source": [
    "### 웹 크롤링 허용 문제"
   ]
  },
  {
   "cell_type": "markdown",
   "metadata": {},
   "source": [
    "- 모든 사이트는 웹 크롤링 권한에 관해 명시한 페이지가 존재함\n",
    "- robots.txt 파일 : 크롤링을 위한 규칙 명시한 페이지\n",
    "- 사이트 URL 끝에 robots.txt 를 붙이면 크롤링 권한에 관한 내용 확인"
   ]
  },
  {
   "attachments": {
    "image.png": {
     "image/png": "[encoded data removed]"
    }
   },
   "cell_type": "markdown",
   "metadata": {},
   "source": [
    "![image.png](attachment:image.png)"
   ]
  },
  {
   "cell_type": "markdown",
   "metadata": {},
   "source": [
    "- 'Disallow' : 크롤링 허용하지 않는 경로\n",
    "- 'Allow' : 크롤링 허용 경로"
   ]
  },
  {
   "cell_type": "markdown",
   "metadata": {},
   "source": [
    "#### 예. http://www.google.com/robots.txt"
   ]
  },
  {
   "cell_type": "markdown",
   "metadata": {},
   "source": [
    "- 크롤링 전에 항상 robots.txt 파일을 확인할 것"
   ]
  },
  {
   "cell_type": "markdown",
   "metadata": {},
   "source": [
    "----"
   ]
  },
  {
   "cell_type": "markdown",
   "metadata": {
    "collapsed": true,
    "jupyter": {
     "outputs_hidden": true
    }
   },
   "source": [
    "## 2. 파이썬을 이용한  웹 크롤링"
   ]
  },
  {
   "cell_type": "markdown",
   "metadata": {},
   "source": [
    "## 2.1 웹크롤링 준비"
   ]
  },
  {
   "cell_type": "markdown",
   "metadata": {},
   "source": [
    "#### 크롤링하는 웹사이트 살펴보기\n",
    "\n",
    "- http://www.naver.com"
   ]
  },
  {
   "cell_type": "markdown",
   "metadata": {
    "collapsed": true,
    "jupyter": {
     "outputs_hidden": true
    }
   },
   "source": [
    "### 기본 모듈 임포트"
   ]
  },
  {
   "cell_type": "code",
   "execution_count": 1,
   "metadata": {},
   "outputs": [],
   "source": [
    "import requests"
   ]
  },
  {
   "cell_type": "markdown",
   "metadata": {},
   "source": [
    "### requests 모듈\n",
    "- Python에서 HTTP 요청을 보내는 모듈\n",
    "- URL 주소에 있는 내용을 요청할 때 사용\n",
    "    - HTTP request types: GET, PUT, DELETE, HEAD and OPTIONS\n",
    "\n",
    "- https://requests.readthedocs.io/en/latest/\n",
    "- https://requests.readthedocs.io/en/latest/user/quickstart/\n",
    "- https://requests.readthedocs.io/en/latest/api/"
   ]
  },
  {
   "cell_type": "markdown",
   "metadata": {},
   "source": [
    "#### requests 모듈의 get() 함수\n",
    "\n",
    "형식 : request(method, url, **kwargs)\n",
    "    \n",
    "- 지정된 url을 요청하면 response 객체 반환"
   ]
  },
  {
   "cell_type": "code",
   "execution_count": 2,
   "metadata": {},
   "outputs": [
    {
     "data": {
      "text/plain": [
       "<Response [200]>"
      ]
     },
     "execution_count": 2,
     "metadata": {},
     "output_type": "execute_result"
    }
   ],
   "source": [
    "url = 'https://www.naver.com'\n",
    "response = requests.get(url)\n",
    "response"
   ]
  },
  {
   "cell_type": "markdown",
   "metadata": {},
   "source": [
    "#### response 객체의 필드들"
   ]
  },
  {
   "cell_type": "markdown",
   "metadata": {},
   "source": [
    "response 객체의 필드 : status-code \n",
    "- Integer Code of responded HTTP Status\n",
    "- 예.404 or 200"
   ]
  },
  {
   "cell_type": "code",
   "execution_count": 3,
   "metadata": {},
   "outputs": [
    {
     "data": {
      "text/plain": [
       "200"
      ]
     },
     "execution_count": 3,
     "metadata": {},
     "output_type": "execute_result"
    }
   ],
   "source": [
    "response.status_code"
   ]
  },
  {
   "cell_type": "markdown",
   "metadata": {},
   "source": [
    "response 객체의 필드 : headers"
   ]
  },
  {
   "cell_type": "code",
   "execution_count": 4,
   "metadata": {},
   "outputs": [
    {
     "data": {
      "text/plain": [
       "{'Date': 'Wed, 13 Mar 2024 05:24:13 GMT', 'content-type': 'text/html; charset=UTF-8', 'transfer-encoding': 'chunked', 'set-cookie': 'PM_CK_loc=ea4e41a7774e16bef57768e542c75a062a579f208c3ab62ee605303837c5fd2c; Expires=Thu, 14 Mar 2024 05:24:13 GMT; Path=/; HttpOnly', 'cache-control': 'no-cache, no-store, must-revalidate', 'pragma': 'no-cache', 'x-frame-options': 'DENY', 'x-xss-protection': '1; mode=block', 'content-encoding': 'gzip', 'strict-transport-security': 'max-age=63072000; includeSubdomains', 'referrer-policy': 'unsafe-url', 'server': 'nfront'}"
      ]
     },
     "execution_count": 4,
     "metadata": {},
     "output_type": "execute_result"
    }
   ],
   "source": [
    "response.headers"
   ]
  },
  {
   "cell_type": "markdown",
   "metadata": {},
   "source": [
    "##### headers는 딕셔너리 형태이기 떄문에 key를 입력하면 value를 알 수 있다.\n",
    "---"
   ]
  },
  {
   "cell_type": "code",
   "execution_count": 6,
   "metadata": {},
   "outputs": [
    {
     "data": {
      "text/plain": [
       "'Wed, 13 Mar 2024 05:24:13 GMT'"
      ]
     },
     "execution_count": 6,
     "metadata": {},
     "output_type": "execute_result"
    }
   ],
   "source": [
    "response.headers['Date']"
   ]
  },
  {
   "cell_type": "markdown",
   "metadata": {},
   "source": [
    "response 객체의 필드 : encoding"
   ]
  },
  {
   "cell_type": "code",
   "execution_count": 5,
   "metadata": {},
   "outputs": [
    {
     "data": {
      "text/plain": [
       "'UTF-8'"
      ]
     },
     "execution_count": 5,
     "metadata": {},
     "output_type": "execute_result"
    }
   ],
   "source": [
    "response.encoding"
   ]
  },
  {
   "cell_type": "markdown",
   "metadata": {},
   "source": [
    "response 객체의 필드 : text\n",
    "- 브라우저가 사이트에 요청해서 받은 결과와 같은 결과"
   ]
  },
  {
   "cell_type": "code",
   "execution_count": 8,
   "metadata": {
    "scrolled": true
   },
   "outputs": [],
   "source": [
    "# response.text"
   ]
  },
  {
   "cell_type": "markdown",
   "metadata": {},
   "source": [
    "##### 예1.\n",
    "\n",
    "request모듈의 get()을 이용하여 http://www.tistory.com 사이트 메인페이지 요청"
   ]
  },
  {
   "cell_type": "code",
   "execution_count": 13,
   "metadata": {},
   "outputs": [],
   "source": [
    "url = 'http://ww.tistory.com'\n",
    "response = requests.get(url)\n",
    "response.status_code\n",
    "print(f'상태코드 : {response.status_code}')\n",
    "print(response.text)"
   ]
  },
  {
   "cell_type": "markdown",
   "metadata": {},
   "source": [
    "##### 예2.\n",
    "\n",
    "request모듈의 get()을 이용하여 https://www.google.co.kr 사이트 메인페이지 요청"
   ]
  },
  {
   "cell_type": "code",
   "execution_count": null,
   "metadata": {},
   "outputs": [],
   "source": [
    "url = 'http://ww.google.co.kr'\n",
    "response = requests.get(url)\n",
    "response.status_code\n",
    "print(f'상태코드 : {response.status_code}')\n",
    "print(response.text)"
   ]
  },
  {
   "cell_type": "markdown",
   "metadata": {},
   "source": [
    "#### 파라미터 전달 : requests.get(URL, params= {} )\n",
    "\n",
    "- 파라미터란? : 사이트의 문서를 요청할 때 서버로 전달되는 정보\n",
    "- 함수의 파라미터 처럼 문서를 찾기위한 정보나 명령을 수행하기 위한 정보를 같이 전달하게 되는데 그 정보를 파라미터라고 함    \n",
    "\n",
    "- https://sports.news.naver.com/news?oid=144&aid=0000948747\n",
    "\n",
    "\n",
    "- params = {'param1': 'value1', 'param2': 'value'}\n",
    "- res = requests.get(URL, params=params)"
   ]
  },
  {
   "cell_type": "code",
   "execution_count": 15,
   "metadata": {},
   "outputs": [
    {
     "name": "stdout",
     "output_type": "stream",
     "text": [
      "상태코드 : 200\n"
     ]
    }
   ],
   "source": [
    "url = 'https://sports.news.naver.com/news?oid=144&aid=0000948895'\n",
    "params = {'oid':'144', 'aid' : '0000948895'}\n",
    "response = requests.get(url, params)\n",
    "print(f'상태코드 : {response.status_code}')"
   ]
  },
  {
   "cell_type": "code",
   "execution_count": null,
   "metadata": {},
   "outputs": [],
   "source": [
    "print(response.text)"
   ]
  },
  {
   "cell_type": "code",
   "execution_count": 16,
   "metadata": {},
   "outputs": [
    {
     "data": {
      "text/plain": [
       "'<!DOCTYPE html>\\n<html lang=\"ko\">\\n<head>\\n\\t<meta charset=\"UTF-8\">\\n\\t<meta http-equiv=\"X-UA-Compatible\" '"
      ]
     },
     "execution_count": 16,
     "metadata": {},
     "output_type": "execute_result"
    }
   ],
   "source": [
    "response.text[:100]"
   ]
  },
  {
   "cell_type": "markdown",
   "metadata": {},
   "source": [
    "## 2.2 웹크롤링"
   ]
  },
  {
   "cell_type": "markdown",
   "metadata": {},
   "source": [
    "### 데이터 수집을 위한 절차"
   ]
  },
  {
   "cell_type": "markdown",
   "metadata": {
    "collapsed": true,
    "jupyter": {
     "outputs_hidden": true
    }
   },
   "source": [
    "1. 문서 내용 읽어오기\n",
    "    - **urllib.request 패키지** 사용 :\n",
    "        - url을 넘겨주면 데이터를 텍스트 형태로 반환(기본 내장 패키지)\n",
    "        - urlopen() : url 접속\n",
    "        - read() : 데이터 읽어오기\n",
    "        - text 속성을 사용해서 데이터 읽어올 수도 있음 \n",
    "    \n",
    "\n",
    "2. 문서에서 원하는 내용 추출하기(파싱)  \n",
    "    - **BeautifulSoup 패키지** 사용\n",
    "    - find() / findAll() 함수 사용"
   ]
  },
  {
   "cell_type": "markdown",
   "metadata": {},
   "source": [
    "### ① 웹페이지 데이터 가져오기"
   ]
  },
  {
   "cell_type": "markdown",
   "metadata": {},
   "source": [
    "### urllib 모듈\n",
    "\n",
    "- 웹에서 얻은 데이터를 다루는 파이썬 패키지\n",
    "- 총 4개의 모듈로 구성\n",
    "    - urllib.request : opening and reading URLs\n",
    "    - urllib.error : containing the exceptions raised by urllib.request\n",
    "    - urllib.parse : parsing URLs\n",
    "    - urllib.robotparser : parsing robots.txt files\n",
    "    \n",
    "    \n",
    "- https://docs.python.org/3/library/urllib.html"
   ]
  },
  {
   "cell_type": "markdown",
   "metadata": {},
   "source": [
    "### urllib.request"
   ]
  },
  {
   "cell_type": "markdown",
   "metadata": {},
   "source": [
    "- 웹문서를 열어 데이터를 읽어오는 모듈\n",
    "- higher-level HTTP client interface.\n",
    "\n",
    "\n",
    "- https://docs.python.org/3/library/urllib.request.html"
   ]
  },
  {
   "cell_type": "markdown",
   "metadata": {},
   "source": [
    "#### 웹 데이터를 다루기 위한 모듈 임포트"
   ]
  },
  {
   "cell_type": "code",
   "execution_count": 17,
   "metadata": {},
   "outputs": [],
   "source": [
    "from urllib.request import urlopen"
   ]
  },
  {
   "cell_type": "markdown",
   "metadata": {},
   "source": [
    "#### urllib.request.urlopen() 함수\n",
    "\n",
    "- Open the URL url, which can be either a string or a Request object\n",
    "- \n",
    "urllib.request.urlopen(url, data=None, [timeout, ]*, cafile=None, capath=None, cadefault=False, context=None)\n"
   ]
  },
  {
   "cell_type": "code",
   "execution_count": null,
   "metadata": {},
   "outputs": [],
   "source": [
    "url = 'https://www.naver.com'\n",
    "\n",
    "response = urlopen(url)\n",
    "response"
   ]
  },
  {
   "cell_type": "markdown",
   "metadata": {},
   "source": [
    "- HTTPResponse 객체에서 소스 코드 읽기 : read()"
   ]
  },
  {
   "cell_type": "code",
   "execution_count": null,
   "metadata": {},
   "outputs": [],
   "source": [
    "response.read()"
   ]
  },
  {
   "cell_type": "markdown",
   "metadata": {},
   "source": [
    "### ② 원하는 내용 추출하기(parsing)  \n",
    "\n",
    "- html 문서에서 필요한 내용만 추출\n",
    "- **BeautifulSoup** 라이브러리 사용\n",
    "- find() / findAll() 등 함수 사용"
   ]
  },
  {
   "cell_type": "markdown",
   "metadata": {},
   "source": [
    "### BeautifulSoup\n",
    "\n",
    "- 데이터를 추출하는데 필요한 기능이 들어 있는 라이브러리 (파싱 라이브러리)\n",
    "- 외부 라이브러리\n",
    "- https://beautiful-soup-4.readthedocs.io/en/latest/\n",
    "- https://www.crummy.com/software/BeautifulSoup/bs4/doc/"
   ]
  },
  {
   "cell_type": "markdown",
   "metadata": {},
   "source": [
    "#### BeautifulSoup 패키지 설치"
   ]
  },
  {
   "cell_type": "code",
   "execution_count": null,
   "metadata": {
    "scrolled": true
   },
   "outputs": [],
   "source": [
    "# !pip install BeautifulSoup4"
   ]
  },
  {
   "cell_type": "markdown",
   "metadata": {},
   "source": [
    "- 파이참 설치방법\n",
    "    - File/Settings\n",
    "    - Project Interpreter에서 bs4 검색\n",
    "    - [Install Package]"
   ]
  },
  {
   "cell_type": "code",
   "execution_count": 7,
   "metadata": {},
   "outputs": [
    {
     "data": {
      "text/plain": [
       "'4.12.2'"
      ]
     },
     "execution_count": 7,
     "metadata": {},
     "output_type": "execute_result"
    }
   ],
   "source": [
    "import bs4\n",
    "bs4.__version__ #(버전 확인)"
   ]
  },
  {
   "cell_type": "code",
   "execution_count": 28,
   "metadata": {},
   "outputs": [],
   "source": [
    "url = 'https://www.naver.com'\n",
    "response = urlopen(url)"
   ]
  },
  {
   "cell_type": "markdown",
   "metadata": {},
   "source": [
    "#### bs4 파싱 객체 생성하기"
   ]
  },
  {
   "cell_type": "markdown",
   "metadata": {},
   "source": [
    "- BeautifulSoup 패키지 임포트"
   ]
  },
  {
   "cell_type": "code",
   "execution_count": 8,
   "metadata": {},
   "outputs": [],
   "source": [
    "from bs4 import BeautifulSoup"
   ]
  },
  {
   "cell_type": "markdown",
   "metadata": {},
   "source": [
    "- BeautifulSoup(접속객체, 파서기)"
   ]
  },
  {
   "cell_type": "code",
   "execution_count": 29,
   "metadata": {},
   "outputs": [],
   "source": [
    "soup = BeautifulSoup(response, 'html.parser')"
   ]
  },
  {
   "cell_type": "markdown",
   "metadata": {},
   "source": [
    "- prettify()\n",
    "    - 들여쓰기, 계층적인 구조로 출력\n",
    "    - 가독성 높음"
   ]
  },
  {
   "cell_type": "code",
   "execution_count": 30,
   "metadata": {},
   "outputs": [
    {
     "name": "stdout",
     "output_type": "stream",
     "text": [
      "<!DOCTYPE html>\n",
      "<html class=\"fzoom\" lang=\"ko\">\n",
      " <head>\n",
      "  <meta charset=\"utf-8\"/>\n",
      "  <meta content=\"origin\" name=\"Referrer\"/>\n",
      "  <meta content=\"IE=edge\" http-equiv=\"X-UA-Compatible\"/>\n",
      "  <meta content=\"width=1190\" name=\"viewport\"/>\n",
      "  <title>\n",
      "   NAVER\n",
      "  </title>\n",
      "  <meta content=\"NAVER\" name=\"apple-mobile-web-app-title\">\n",
      "   <meta content=\"index,nofollow\" name=\"robots\">\n",
      "    <meta content=\"네이버 메인에서 다양한 정보와 유용한 컨텐츠를 만나 보세요\" name=\"description\">\n",
      "     <meta content=\"네이버\" property=\"og:title\"/>\n",
      "     <meta content=\"https://www.naver.com/\" property=\"og:url\"/>\n",
      "     <meta content=\"https://s.pstatic.net/static/www/mobile/edit/2016/0705/mobile_212852414260.png\" property=\"og:image\"/>\n",
      "     <meta content=\"네이버 메인에서 다양한 정보와 유용한 컨텐츠를 만나 보세요\" property=\"og:description\">\n",
      "      <meta content=\"summary\" name=\"twitter:card\"/>\n",
      "      <meta content=\"\" name=\"twitter:title\"/>\n",
      "      <meta content=\"https://www.naver.com/\" name=\"twitter:url\"/>\n",
      "      <meta content=\"https://s.pstatic.net/static/www/mobile/edit/2016/0705/mobile_212852414260.png\" name=\"twitter:image\"/>\n",
      "      <meta content=\"네이버 메인에서 다양한 정보와 유용한 컨텐츠를 만나 보세요\" name=\"twitter:description\">\n",
      "       <link href=\"/favicon.ico?1\" rel=\"shortcut icon\" type=\"image/x-icon\"/>\n",
      "       <link href=\"https://s.pstatic.net/static/www/nFavicon96.png\" rel=\"apple-touch-icon-precomposed\">\n",
      "        <link href=\"https://s.pstatic.net/static/www/u/2014/0328/mma_204243574.png\" rel=\"apple-touch-icon\" sizes=\"114x114\"/>\n",
      "        <link href=\"https://s.pstatic.net/static/www/u/2014/0328/mma_20432863.png\" rel=\"apple-touch-icon\"/>\n",
      "        <link href=\"https://ssl.pstatic.net/sstatic/search/pc/css/sp_autocomplete_231130.css\" rel=\"stylesheet\"/>\n",
      "        <script>\n",
      "         window.gladsdk=window.gladsdk||{},window.gladsdk.cmd=window.gladsdk.cmd||[],window.ndpsdk=window.ndpsdk||{},window.ndpsdk.cmd=window.ndpsdk.cmd||[],window.ndpsdk.polyfill=window.ndpsdk.polyfill||{cmd:[]};var g_ssc=\"navertop.v5\";window.nsc=g_ssc,window.nmain=window.nmain||{},window.nmain.jsOrigin=\"www\"\n",
      "        </script>\n",
      "        <script async=\"\" src=\"https://ssl.pstatic.net/tveta/libs/ndpsdk/prod/ndp-loader.js\">\n",
      "        </script>\n",
      "        <script async=\"\" src=\"https://ssl.pstatic.net/tveta/libs/glad/prod/gfp-core.js\">\n",
      "        </script>\n",
      "        <script defer=\"defer\" src=\"https://ssl.pstatic.net/tveta/libs/assets/js/pc/main/min/pc.veta.core.min.js\">\n",
      "        </script>\n",
      "        <script>\n",
      "         window[\"EAGER-DATA\"] = window[\"EAGER-DATA\"] || {};\n",
      "window[\"EAGER-DATA\"][\"PC-FEED-WRAPPER\"] = {\"@type\":\"BLOCK\",\"blocks\":[{\"@type\":\"BLOCK\",\"blocks\":[{\"@type\":\"PC-FEED-BLOCK\",\"blocks\":[{\"@type\":\"PC-FEED-BLOCK\",\"materials\":[{\"@type\":\"MATERIAL-PC-FEED\",\"title\":\"로요일\",\"url\":\"https://chzzk.naver.com/live/bdc57cc4217173f0e89f63fba2f1c6e5\",\"image\":{\"url\":\"https://s.pstatic.net/dthumb.phinf/?src=%22https%3A%2F%2Flivecloud-thumb.akamaized.net%2Fchzzk%2Flivecloud%2FKR%2Fstream%2F26479034%2Flive%2F4785880%2Frecord%2F25911881%2Fthumbnail%2Fimage_720.jpg%22&type=f504_292&service=navermain\"},\"highlight\":\"로스트아크\",\"source\":{\"name\":\"다주\",\"image\":{\"url\":\"https://s.pstatic.net/dthumb.phinf/?src=%22https%3A%2F%2Fnng-phinf.pstatic.net%2FMjAyNDAxMDFfNDIg%2FMDAxNzA0MDc3OTAxNTEw.BFkbuXeeAI7VHdH4iWFNwhRO8J9gnSqlLQczMUPWU-4g.kUOuvYabUvpL347-O5mofCGz3h58DrvCNgHWky1mGmcg.PNG%2Fe19ac520d13f081f-profile_image-300x300.png%22&type=nf40_40&service=navermain\"}},\"chzzkLiveId\":\"4785880\",\"showLiveBadge\":true,\"viewCount\":\"3,857\",\"_id\":\"65308fd13c50cd9912162f6a\"},{\"@type\":\"MATERIAL-PC-FEED\",\"title\":\"릴카 공포게임 엘든링\",\"url\":\"https://chzzk.naver.com/live/4d0b7d3f825ea982b95f0a5c2b4782d3\",\"image\":{\"url\":\"https://s.pstatic.net/dthumb.phinf/?src=%22https%3A%2F%2Flivecloud-thumb.akamaized.net%2Fchzzk%2Flivecloud%2FKR%2Fstream%2F26441745%2Flive%2F4785920%2Frecord%2F25911926%2Fthumbnail%2Fimage_720.jpg%22&type=f504_292&service=navermain\"},\"highlight\":\"엘든 링\",\"source\":{\"name\":\"릴카\",\"image\":{\"url\":\"https://s.pstatic.net/dthumb.phinf/?src=%22https%3A%2F%2Fnng-phinf.pstatic.net%2FMjAyMzEyMTlfNzkg%2FMDAxNzAyOTU0MTY4MDM4.2EH-ix9ISRu6b9NHV4NX-ZbLR_IWtnSx05rra91S9g8g.LQl6er9Fy9_Axi0B8vdVYXoEYfl_i-eY7OwoPlDmcl0g.PNG%2F%25ED%2594%2584%25EB%25A1%259C%25ED%2595%2584_%25EC%2582%25AC%25EC%25A7%2584%2528%25EC%25A0%2595%25EB%25B0%25A9%25ED%2598%2595%2529.png%22&type=nf40_40&service=navermain\"}},\"chzzkLiveId\":\"4785920\",\"showLiveBadge\":true,\"viewCount\":\"1,668\",\"_id\":\"65308fd13c50cd9912162f6b\"},{\"@type\":\"MATERIAL-PC-FEED\",\"title\":\"12 lets go\",\"url\":\"https://chzzk.naver.com/live/c100f81959d1c17044be0541eed56f5b\",\"image\":{\"url\":\"https://s.pstatic.net/dthumb.phinf/?src=%22https%3A%2F%2Flivecloud-thumb.akamaized.net%2Fchzzk%2Flivecloud%2FKR%2Fstream%2F27298982%2Flive%2F4785489%2Frecord%2F25911340%2Fthumbnail%2Fimage_720.jpg%22&type=f504_292&service=navermain\"},\"highlight\":\"이터널 리턴\",\"source\":{\"name\":\"피닉스박\",\"image\":{\"url\":\"https://s.pstatic.net/dthumb.phinf/?src=%22https%3A%2F%2Fnng-phinf.pstatic.net%2FMjAyNDAyMDNfMTE3%2FMDAxNzA2OTUxMjkzMjQ4.3B2KxxTyEpzfCKZTKouycd8ZwRn7CmZG8d8TFz9HZhwg.DWNZZLS2JZD5WYVnHijsBForfURuBsaEkqWzLzyLSzog.PNG%2F123.png%22&type=nf40_40&service=navermain\"}},\"chzzkLiveId\":\"4785489\",\"showLiveBadge\":true,\"viewCount\":\"1,526\",\"_id\":\"654ad80598c6dbca70ba6ce6\"}],\"excludeInPaging\":false,\"positionForPaging\":0,\"realtime\":false,\"needCologger\":false,\"ad\":false,\"@type\":\"PC-FEED-BLOCK\",\"@template\":\"NONE\"}],\"excludeInPaging\":false,\"positionForPaging\":0,\"realtime\":false,\"needCologger\":false,\"ad\":false,\"@type\":\"PC-FEED-BLOCK\",\"@code\":\"PC-FEED-GAMEAPP-TOP-HIGHLIGHTED\",\"@template\":\"HIGHLIGHTED-COLUMNS\"},{\"@type\":\"PC-FEED-BLOCK\",\"materials\":[{\"@type\":\"MATERIAL-PC-FEED\",\"title\":\"귀엽고 상큼한 뉴페이스!! 미우뮤님의 원신 각청 코스프레!\",\"url\":\"https://game.naver.com/original_series/19/temp/118088\",\"image\":{\"url\":\"https://s.pstatic.net/dthumb.phinf/?src=%22https%3A%2F%2Fs.pstatic.net%2Fstatic%2Fwww%2Fmobile%2Fedit%2F20240312_1095%2Fupload_1710241270958zW31S.jpg%22&type=nf308_200&service=navermain\"},\"source\":{\"name\":\"cosis\"},\"showLiveBadge\":false,\"_id\":\"6441ca92c499cc07f334c4b3\"},{\"@type\":\"MATERIAL-PC-FEED\",\"title\":\"파이널 판타지 7 리버스, 명작의 리메이크의 후속작의 재미는?\",\"url\":\"https://game.naver.com/original_series/72/temp/117193\",\"image\":{\"url\":\"https://s.pstatic.net/dthumb.phinf/?src=%22https%3A%2F%2Fs.pstatic.net%2Fstatic%2Fwww%2Fmobile%2Fedit%2F20240312_1095%2Fupload_1710241310895eSR66.jpg%22&type=nf308_200&service=navermain\"},\"source\":{\"name\":\"게임조선\"},\"showLiveBadge\":false,\"_id\":\"6441ca92c499cc07f334c4b4\"},{\"@type\":\"MATERIAL-PC-FEED\",\"title\":\"소니-MS, 독점을 버리고 멀티 플랫폼을 취한 속내\",\"url\":\"https://game.naver.com/original_series/69/temp/115662\",\"image\":{\"url\":\"https://s.pstatic.net/dthumb.phinf/?src=%22https%3A%2F%2Fs.pstatic.net%2Fstatic%2Fwww%2Fmobile%2Fedit%2F20240312_1095%2Fupload_1710241354911tT0sK.jpg%22&type=nf308_200&service=navermain\"},\"source\":{\"name\":\"GAMEVU\"},\"showLiveBadge\":false,\"_id\":\"6441ca92c499cc07f334c4b5\"},{\"@type\":\"MATERIAL-PC-FEED\",\"title\":\"죽음도 우리의 사슬을 끊을 순 없어!\",\"url\":\"https://game.naver.com/original_series/24/temp/116356\",\"image\":{\"url\":\"https://s.pstatic.net/dthumb.phinf/?src=%22https%3A%2F%2Fs.pstatic.net%2Fstatic%2Fwww%2Fmobile%2Fedit%2F20240312_1095%2Fupload_1710241393771peJN3.jpg%22&type=nf308_200&service=navermain\"},\"source\":{\"name\":\"국민트리\"},\"showLiveBadge\":false,\"_id\":\"6441ca92c499cc07f334c4b6\"},{\"@type\":\"MATERIAL-PC-FEED\",\"title\":\"생과 사, 허와 실은 한 끗 차이지. 붕괴: 스타레일 '단항' 코스프레\",\"url\":\"https://game.naver.com/original_series/14/temp/116761\",\"image\":{\"url\":\"https://s.pstatic.net/dthumb.phinf/?src=%22https%3A%2F%2Fs.pstatic.net%2Fstatic%2Fwww%2Fmobile%2Fedit%2F20240311_1095%2Fupload_1710148658777UEEel.jpg%22&type=nf308_200&service=navermain\"},\"source\":{\"name\":\"ACROW\"},\"showLiveBadge\":false,\"_id\":\"6441ca92c499cc07f334c4b7\"},{\"@type\":\"MATERIAL-PC-FEED\",\"title\":\"NC 소프트가 고소한 신작 게임 '롬(ROM)'\",\"url\":\"https://game.naver.com/original_series/64/temp/116358\",\"image\":{\"url\":\"https://s.pstatic.net/dthumb.phinf/?src=%22https%3A%2F%2Fs.pstatic.net%2Fstatic%2Fwww%2Fmobile%2Fedit%2F20240311_1095%2Fupload_1710148721154HcYdh.jpg%22&type=nf308_200&service=navermain\"},\"source\":{\"name\":\"게임인\"},\"showLiveBadge\":false,\"_id\":\"6441ca92c499cc07f334c4b8\"},{\"@type\":\"MATERIAL-PC-FEED\",\"title\":\"위대한 초목의 여신이시여 - 원신 '룩카데바타' 코스프레\",\"url\":\"https://game.naver.com/original_series/2/temp/117096\",\"image\":{\"url\":\"https://s.pstatic.net/dthumb.phinf/?src=%22https%3A%2F%2Fs.pstatic.net%2Fstatic%2Fwww%2Fmobile%2Fedit%2F20240310_1095%2Fupload_1710067965736kwDKQ.jpg%22&type=nf308_200&service=navermain\"},\"source\":{\"name\":\"CSL 코스프레\"},\"showLiveBadge\":false,\"_id\":\"6441ca92c499cc07f334c4b9\"},{\"@type\":\"MATERIAL-PC-FEED\",\"title\":\"2023 대한민국 게임백서, 국내 게임 산업 매출액 5.8% 성장\",\"url\":\"https://game.naver.com/original_series/6/temp/117049\",\"image\":{\"url\":\"https://s.pstatic.net/dthumb.phinf/?src=%22https%3A%2F%2Fs.pstatic.net%2Fstatic%2Fwww%2Fmobile%2Fedit%2F20240310_1095%2Fupload_1710068013463z3mNG.jpg%22&type=nf308_200&service=navermain\"},\"source\":{\"name\":\"게임조선\"},\"showLiveBadge\":false,\"_id\":\"6441ca92c499cc07f334c4ba\"}],\"excludeInPaging\":false,\"positionForPaging\":0,\"realtime\":false,\"needCologger\":false,\"ad\":false,\"@type\":\"PC-FEED-BLOCK\",\"@code\":\"PC-FEED-GAMEAPP-ORIGINAL-SERIES\",\"@template\":\"TWO-COLUMNS\"},{\"@type\":\"PC-FEED-BLOCK\",\"materials\":[{\"@type\":\"MATERIAL-PC-FEED\",\"title\":\"역전재판 3-2 가보자고 \",\"url\":\"https://chzzk.naver.com/live/e14259667937be6e561d28ab156718be\",\"image\":{\"url\":\"https://s.pstatic.net/dthumb.phinf/?src=%22https%3A%2F%2Flivecloud-thumb.akamaized.net%2Fchzzk%2Flivecloud%2FKR%2Fstream%2F26590898%2Flive%2F4783853%2Frecord%2F25908668%2Fthumbnail%2Fimage_720.jpg%22&type=nf365_240&service=navermain\"},\"highlight\":\"역전재판 123 나루호도 셀렉션\",\"source\":{\"name\":\"해블린\",\"image\":{\"url\":\"https://s.pstatic.net/dthumb.phinf/?src=%22https%3A%2F%2Fnng-phinf.pstatic.net%2FMjAyMzEyMjFfMjYy%2FMDAxNzAzMTM3NDM4NjQ1.TPNh8y0UMBidUyoFVUp8dtyUAUxS0TW1Mq4Fl_Ehs_sg.EkA7dtMh1PoqE3ggvtF2ktER7Uaj2dpoWYzDDzRoypsg.JPEG%2FNNG-1703137438035352016431824736816.jpg%22&type=nf40_40&service=navermain\"}},\"chzzkLiveId\":\"4783853\",\"showLiveBadge\":true,\"viewCount\":\"386\",\"_id\":\"6441ca92c499cc07f334c4bf\"},{\"@type\":\"MATERIAL-PC-FEED\",\"title\":\"로스트(LOST)\",\"url\":\"https://chzzk.naver.com/live/effe648202c8f7fba081c2f2aeea1979\",\"image\":{\"url\":\"https://s.pstatic.net/dthumb.phinf/?src=%22https%3A%2F%2Flivecloud-thumb.akamaized.net%2Fchzzk%2Flivecloud%2FKR%2Fstream%2F26445174%2Flive%2F4786528%2Frecord%2F25912684%2Fthumbnail%2Fimage_720.jpg%22&type=nf365_240&service=navermain\"},\"highlight\":\"로스트아크\",\"source\":{\"name\":\"꼴랑이\",\"image\":{\"url\":\"https://s.pstatic.net/dthumb.phinf/?src=%22https%3A%2F%2Fnng-phinf.pstatic.net%2FMjAyMzEyMTlfMTk3%2FMDAxNzAyOTY1MjI2Njk4.PMXQJKEWD7MBYtU1VJgfnS6P6SQQLn-YgCgjHRqexzgg.2W1KbylFeA3VsYrMhtzxvOZY6QdcUTH-APMhL7PzFQQg.JPEG%2F%25EC%258A%25A4%25EC%259C%2584%25EB%25B0%258D%25EB%2582%2598%25EB%25AC%25B4%25EC%25A0%259C.jpg%22&type=nf40_40&service=navermain\"}},\"chzzkLiveId\":\"4786528\",\"showLiveBadge\":true,\"viewCount\":\"1,333\",\"_id\":\"6441ca92c499cc07f334c4c0\"},{\"@type\":\"MATERIAL-PC-FEED\",\"title\":\"치오리 명함 전무\",\"url\":\"https://chzzk.naver.com/live/e5e98cf9f2433a0b0e7c6e5339f40576\",\"image\":{\"url\":\"https://s.pstatic.net/dthumb.phinf/?src=%22https%3A%2F%2Fnng-phinf.pstatic.net%2FMjAyNDAzMTNfNTkg%2FMDAxNzEwMjY1NTAxMDA5.T1sev6A3ZaQjbKys9syZf5-p99rNu970NdDJpidr1p8g.AAMhrZlEtqr-oObgVMCP99cSG6ld1sdBvZvCeiyByyYg.PNG%2F240313.png%3Ftype%3Do500x280_blur%22&type=nf365_240&service=navermain\"},\"highlight\":\"원신\",\"source\":{\"name\":\"몽키매직 게임채널\",\"image\":{\"url\":\"https://s.pstatic.net/dthumb.phinf/?src=%22https%3A%2F%2Fnng-phinf.pstatic.net%2FMjAyNDAxMjJfNjIg%2FMDAxNzA1OTMzMjUyMDgw.5XxgSUGs6E8wYyHg6Jt0GBxcpxvs5L14nAw-sv1VAJ4g.okl3HPYXhsUJRrciEYRMxgz2sRUL77ayJ4lhx7CZR7Ug.PNG%2F001-T.png%22&type=nf40_40&service=navermain\"}},\"chzzkLiveId\":\"4785559\",\"showLiveBadge\":true,\"viewCount\":\"334\",\"_id\":\"6441ca92c499cc07f334c4c1\"},{\"@type\":\"MATERIAL-PC-FEED\",\"title\":\"시청자 대리뽑 치오리 풀돌에 전무까지-!!\",\"url\":\"https://chzzk.naver.com/live/d185099b64dd8ca6b96a51ee3e9011c2\",\"image\":{\"url\":\"https://s.pstatic.net/dthumb.phinf/?src=%22https%3A%2F%2Flivecloud-thumb.akamaized.net%2Fchzzk%2Flivecloud%2FKR%2Fstream%2F26557363%2Flive%2F4786554%2Frecord%2F25912714%2Fthumbnail%2Fimage_720.jpg%22&type=nf365_240&service=navermain\"},\"highlight\":\"원신\",\"source\":{\"name\":\"얏따\",\"image\":{\"url\":\"https://s.pstatic.net/dthumb.phinf/?src=%22https%3A%2F%2Fnng-phinf.pstatic.net%2FMjAyMzEyMDZfMjM0%2FMDAxNzAxODY2MjYwMDIz.4ARqN-sFxQtKwwT3QLF7zEMKukD2IY_ijhSUacxUYvAg.6gShKla4HPg-l9RHcbg1vbo-YRcrEv8iFsv06Fzr1vkg.PNG%2F%25EC%2596%258F%25EB%2594%25B0-%25ED%2594%2584%25EB%25A1%259C%25ED%2595%2584.png%22&type=nf40_40&service=navermain\"}},\"chzzkLiveId\":\"4786554\",\"showLiveBadge\":true,\"viewCount\":\"202\",\"_id\":\"6441ca92c499cc07f334c4c2\"},{\"@type\":\"MATERIAL-PC-FEED\",\"title\":\"지 구 방 위 군 6 with 토곰, 아루다루송송\",\"url\":\"https://chzzk.naver.com/live/bee4b42475b5937226b8b7ccbe2eb2dc\",\"image\":{\"url\":\"https://s.pstatic.net/dthumb.phinf/?src=%22https%3A%2F%2Flivecloud-thumb.akamaized.net%2Fchzzk%2Flivecloud%2FKR%2Fstream%2F26479964%2Flive%2F4784281%2Frecord%2F25909393%2Fthumbnail%2Fimage_720.jpg%22&type=nf365_240&service=navermain\"},\"highlight\":\"지구방위군 6\",\"source\":{\"name\":\"칸데르니아\",\"image\":{\"url\":\"https://s.pstatic.net/dthumb.phinf/?src=%22https%3A%2F%2Fnng-phinf.pstatic.net%2FMjAyMzEyMDZfMjc0%2FMDAxNzAxODI5NTAwMzQ1.tWiGOf27WjmRWaBfM24lGMX9Qz5CJzEuzU0wvTnL4KUg.8O9cCU8LcyqE4LgJVQxGQkCzogF8M3X67yHfXVxw0Jog.PNG%2F%25EB%25B9%25BC%25EA%25BC%25BC.png%22&type=nf40_40&service=navermain\"}},\"chzzkLiveId\":\"4784281\",\"showLiveBadge\":true,\"viewCount\":\"597\",\"_id\":\"6441ca92c499cc07f334c4c3\"},{\"@type\":\"MATERIAL-PC-FEED\",\"title\":\"정품창고 낡은창고 의 이모티콘그리기 방송 \",\"url\":\"https://chzzk.naver.com/live/f5feedab25060a675ed62f3348e625cf\",\"image\":{\"url\":\"https://s.pstatic.net/dthumb.phinf/?src=%22https%3A%2F%2Flivecloud-thumb.akamaized.net%2Fchzzk%2Flivecloud%2FKR%2Fstream%2F27950194%2Flive%2F4787066%2Frecord%2F25913331%2Fthumbnail%2Fimage_720.jpg%22&type=nf365_240&service=navermain\"},\"highlight\":\"아트\",\"source\":{\"name\":\"낡은창고 oldstore\",\"image\":{\"url\":\"https://s.pstatic.net/dthumb.phinf/?src=%22https%3A%2F%2Fnng-phinf.pstatic.net%2FMjAyNDAxMDJfNTQg%2FMDAxNzA0MjAzODU0Njkx.FDYXzMCxLHThuAEM0hNFi-EOazkMVUnh9iYQstwTVcAg.H6EL0lEe8h_UhDf0q6JWi9ChSGfyjiNc_Pbkfhilmfkg.PNG%2F%25EB%2582%2599%25EC%2584%259C.png%22&type=nf40_40&service=navermain\"}},\"chzzkLiveId\":\"4787066\",\"showLiveBadge\":true,\"viewCount\":\"120\",\"_id\":\"65e03bedf9834a2ada7d6cd9\"},{\"@type\":\"MATERIAL-PC-FEED\",\"title\":\"무굴| 98%를 위한 방송! 하스10주년 불타는군마 받고 모두의 주차!!, 이사 준비 잘되갑니다 \",\"url\":\"https://chzzk.naver.com/live/7fc78fa17c3ef69865c6e25c2b01d705\",\"image\":{\"url\":\"https://s.pstatic.net/dthumb.phinf/?src=%22https%3A%2F%2Flivecloud-thumb.akamaized.net%2Fchzzk%2Flivecloud%2FKR%2Fstream%2F26591013%2Flive%2F4786813%2Frecord%2F25913043%2Fthumbnail%2Fimage_720.jpg%22&type=nf365_240&service=navermain\"},\"highlight\":\"월드 오브 워크래프트: 용군단\",\"source\":{\"name\":\"박무굴\",\"image\":{\"url\":\"https://s.pstatic.net/dthumb.phinf/?src=%22https%3A%2F%2Fnng-phinf.pstatic.net%2FMjAyMzEyMDdfMTMy%2FMDAxNzAxODkzODE3NDY1.kDoUqnU25T-zUETRGWhUK-guVGmPOMWkwuhdlWl6hZYg.xoaWxQAlm6O-1h7-7LcK4q_dj0jeEaofIekB_TolftAg.JPEG%2Fee.jpg%22&type=nf40_40&service=navermain\"}},\"chzzkLiveId\":\"4786813\",\"showLiveBadge\":true,\"viewCount\":\"237\",\"_id\":\"65e03bedf9834a2ada7d6cda\"},{\"@type\":\"MATERIAL-PC-FEED\",\"title\":\"지구를 지키는 게임 EDF6\",\"url\":\"https://chzzk.naver.com/live/0d800f435656efb53ecd910079b73a0a\",\"image\":{\"url\":\"https://s.pstatic.net/dthumb.phinf/?src=%22https%3A%2F%2Flivecloud-thumb.akamaized.net%2Fchzzk%2Flivecloud%2FKR%2Fstream%2F26699715%2Flive%2F4784326%2Frecord%2F25909475%2Fthumbnail%2Fimage_720.jpg%22&type=nf365_240&service=navermain\"},\"highlight\":\"지구방위군 6\",\"source\":{\"name\":\"아루다루송송\",\"image\":{\"url\":\"https://s.pstatic.net/dthumb.phinf/?src=%22https%3A%2F%2Fnng-phinf.pstatic.net%2FMjAyMzEyMDlfNjAg%2FMDAxNzAyMDgwMzU2ODAx.6W1b29h6H0EEECqfButO3nPgf5VeNZBShzuSwiPlpekg.LEFwcDVCRSplA-sNlvFm_1RnHusDp2Fwhhds6OzBIH8g.JPEG%2Fchannels4_profile.jpg%22&type=nf40_40&service=navermain\"}},\"chzzkLiveId\":\"4784326\",\"showLiveBadge\":true,\"viewCount\":\"147\",\"_id\":\"65e03bedf9834a2ada7d6cdb\"},{\"@type\":\"MATERIAL-PC-FEED\",\"title\":\"플레임 생방송:3\",\"url\":\"https://chzzk.naver.com/live/0552325465ff40056559e412847f9908\",\"image\":{\"url\":\"https://s.pstatic.net/dthumb.phinf/?src=%22https%3A%2F%2Flivecloud-thumb.akamaized.net%2Fchzzk%2Flivecloud%2FKR%2Fstream%2F26563383%2Flive%2F4788016%2Frecord%2F25914600%2Fthumbnail%2Fimage_720.jpg%22&type=nf365_240&service=navermain\"},\"highlight\":\"talk\",\"source\":{\"name\":\"플레임TV\",\"image\":{\"url\":\"https://s.pstatic.net/dthumb.phinf/?src=%22https%3A%2F%2Fnng-phinf.pstatic.net%2FMjAyMzEyMjBfNzEg%2FMDAxNzAzMDI4MTU2NjQx.-UizeU1H0jxiav0FQ63GYTDBqwYfTaSBsg8g2W8LUakg.pVsZgh0f3xy9Lhx1uYNHRG0wTt4iNvjkHRFrcNuhh4Ig.JPEG%2FNNG-17030281561481123354301186795656.jpg%22&type=nf40_40&service=navermain\"}},\"chzzkLiveId\":\"4788016\",\"showLiveBadge\":true,\"viewCount\":\"144\",\"_id\":\"65e03bedf9834a2ada7d6cdc\"},{\"@type\":\"MATERIAL-PC-FEED\",\"title\":\"[눈물] 눈수술 후 복귀...현재심정발표 \",\"url\":\"https://chzzk.naver.com/live/b68af124ae2f1743a1dcbf5e2ab41e0b\",\"image\":{\"url\":\"https://s.pstatic.net/dthumb.phinf/?src=%22https%3A%2F%2Flivecloud-thumb.akamaized.net%2Fchzzk%2Flivecloud%2FKR%2Fstream%2F27305177%2Flive%2F4787228%2Frecord%2F25913542%2Fthumbnail%2Fimage_720.jpg%22&type=nf365_240&service=navermain\"},\"highlight\":\"talk\",\"source\":{\"name\":\"독케익\",\"image\":{\"url\":\"https://s.pstatic.net/dthumb.phinf/?src=%22https%3A%2F%2Fnng-phinf.pstatic.net%2FMjAyMzEyMDZfMTc0%2FMDAxNzAxODMzNzYyMjQw.9-yJrRptE438wweRhcDRzPQcbcTt-3N4JE6SHbOyVzog.9gyQ4qoeaG3hXtoCVR4dFoS4LQUK2tdtDsLYraZljGQg.PNG%2F%25EB%258F%2585%25EC%25BC%2580%25EC%259D%25B5%25EA%25B8%25B0%25EB%25B3%25B8%25ED%2582%25A4%25EB%25A7%2581.png%22&type=nf40_40&service=navermain\"}},\"chzzkLiveId\":\"4787228\",\"showLiveBadge\":true,\"viewCount\":\"215\",\"_id\":\"65e03bedf9834a2ada7d6cdd\"},{\"@type\":\"MATERIAL-PC-FEED\",\"title\":\"갓겜 투기장\",\"url\":\"https://chzzk.naver.com/live/dc740d5bb5680666b6bf2ebc58a8203f\",\"image\":{\"url\":\"https://s.pstatic.net/dthumb.phinf/?src=%22https%3A%2F%2Flivecloud-thumb.akamaized.net%2Fchzzk%2Flivecloud%2FKR%2Fstream%2F26446655%2Flive%2F4784278%2Frecord%2F25909388%2Fthumbnail%2Fimage_720.jpg%22&type=nf365_240&service=navermain\"},\"highlight\":\"하스스톤\",\"source\":{\"name\":\"던\",\"image\":{\"url\":\"https://s.pstatic.net/dthumb.phinf/?src=%22https%3A%2F%2Fnng-phinf.pstatic.net%2FMjAyMzEyMTlfMTQ2%2FMDAxNzAyOTY2ODA4MTgx.jx6mgz6Vr42P8s5PFpftvoPoTOKRsx1ijKutLC_uENEg.dfm-LsljQZLzpyM1-uFLxxmLXa8m3yzVwOUvq1ow0zUg.JPEG%2Fssss.jpg%22&type=nf40_40&service=navermain\"}},\"chzzkLiveId\":\"4784278\",\"showLiveBadge\":true,\"viewCount\":\"1,399\",\"_id\":\"65e03bedf9834a2ada7d6cde\"},{\"@type\":\"MATERIAL-PC-FEED\",\"title\":\"네리아 보러 왔습니다\",\"url\":\"https://chzzk.naver.com/live/a9983d950a0ba4471b3d60bb9c5e0dd7\",\"image\":{\"url\":\"https://s.pstatic.net/dthumb.phinf/?src=%22https%3A%2F%2Flivecloud-thumb.akamaized.net%2Fchzzk%2Flivecloud%2FKR%2Fstream%2F26620872%2Flive%2F4785855%2Frecord%2F25911850%2Fthumbnail%2Fimage_720.jpg%22&type=nf365_240&service=navermain\"},\"highlight\":\"로스트아크\",\"source\":{\"name\":\"조이냥\",\"image\":{\"url\":\"https://s.pstatic.net/dthumb.phinf/?src=%22https%3A%2F%2Fnng-phinf.pstatic.net%2FMjAyMzEyMjhfMjc1%2FMDAxNzAzNzQ3MTM3NDc5.xk9mwg78V_-TJ_YKcJ6uCrsqINcumEAkmQ44Qh6nh8og.RoHYl4ueneaVxwiUi41g4vepsefjeUwLfRvd0-4mBOYg.JPEG%2F543534534534.jpg%22&type=nf40_40&service=navermain\"}},\"chzzkLiveId\":\"4785855\",\"showLiveBadge\":true,\"viewCount\":\"249\",\"_id\":\"65e03bedf9834a2ada7d6cdf\"},{\"@type\":\"MATERIAL-PC-FEED\",\"title\":\"✨도르꽁스 접대쐐기\",\"url\":\"https://chzzk.naver.com/live/7dc9561a4e60fb5221bdea64346672f1\",\"image\":{\"url\":\"https://s.pstatic.net/dthumb.phinf/?src=%22https%3A%2F%2Flivecloud-thumb.akamaized.net%2Fchzzk%2Flivecloud%2FKR%2Fstream%2F26647188%2Flive%2F4784633%2Frecord%2F25909997%2Fthumbnail%2Fimage_720.jpg%22&type=nf365_240&service=navermain\"},\"highlight\":\"월드 오브 워크래프트: 용군단\",\"source\":{\"name\":\"갓단미\",\"image\":{\"url\":\"https://s.pstatic.net/dthumb.phinf/?src=%22https%3A%2F%2Fnng-phinf.pstatic.net%2FMjAyMzEyMDhfMjU5%2FMDAxNzAyMDIwODUzMzM1.2N6Jp18lsmV8AYDxstbs5Aw4BFDNqOFjXBnp5SkHJSEg.5P3Q1Pfpp4TQKCbUuJRYyaclEEAb271wt5ABvs2duwIg.JPEG%2FKakaoTalk_20231108_132425235.jpg%22&type=nf40_40&service=navermain\"}},\"chzzkLiveId\":\"4784633\",\"showLiveBadge\":true,\"viewCount\":\"121\",\"_id\":\"65e03bedf9834a2ada7d6ce0\"},{\"@type\":\"MATERIAL-PC-FEED\",\"title\":\"💎 굶지않고 생존하는 게임  ٩₍ ᐢ. ̫ .ᐢ ₎و\",\"url\":\"https://chzzk.naver.com/live/2c3d33db0543d96700ec6d1ad83090a2\",\"image\":{\"url\":\"https://s.pstatic.net/dthumb.phinf/?src=%22https%3A%2F%2Flivecloud-thumb.akamaized.net%2Fchzzk%2Flivecloud%2FKR%2Fstream%2F26441756%2Flive%2F4786231%2Frecord%2F25912325%2Fthumbnail%2Fimage_720.jpg%22&type=nf365_240&service=navermain\"},\"highlight\":\"돈 스타브 투게더\",\"source\":{\"name\":\"햇살살\",\"image\":{\"url\":\"https://s.pstatic.net/dthumb.phinf/?src=%22https%3A%2F%2Fnng-phinf.pstatic.net%2FMjAyMzEyMjBfMjIx%2FMDAxNzAzMDc5NDI2Mjkx.z0HzCPXrotRZ99KSGpQsjunx4TR9cNCxX7E2Xnxptbog.6-8Pg6p_2vOyhh80pk8GYF6hjUnluxRhv2fry6n397kg.JPEG%2F7.jpg%22&type=nf40_40&service=navermain\"}},\"chzzkLiveId\":\"4786231\",\"showLiveBadge\":true,\"viewCount\":\"556\",\"_id\":\"65e03bedf9834a2ada7d6ce1\"},{\"@type\":\"MATERIAL-PC-FEED\",\"title\":\"ㅇㅅㅇ\",\"url\":\"https://chzzk.naver.com/live/f65bc98ffd4829fb4e3ce99453caff83\",\"image\":{\"url\":\"https://s.pstatic.net/dthumb.phinf/?src=%22https%3A%2F%2Flivecloud-thumb.akamaized.net%2Fchzzk%2Flivecloud%2FKR%2Fstream%2F27054806%2Flive%2F4787029%2Frecord%2F25913285%2Fthumbnail%2Fimage_720.jpg%22&type=nf365_240&service=navermain\"},\"highlight\":\"talk\",\"source\":{\"name\":\"몽글이 mongle\",\"image\":{\"url\":\"https://s.pstatic.net/dthumb.phinf/?src=%22https%3A%2F%2Fnng-phinf.pstatic.net%2FMjAyMzEyMjFfMjI3%2FMDAxNzAzMDg1NzMwOTM5.ENN2F0k9J34jZWjTnLVzlqa1yktqMo7Oa-SkHXwJNAIg.6bGHdWBjfpEJiTfQigoiuehRSKc2pUc1O1n9InczDZQg.JPEG%2FNNG-17030857307798199687174530822530.jpg%22&type=nf40_40&service=navermain\"}},\"chzzkLiveId\":\"4787029\",\"showLiveBadge\":true,\"viewCount\":\"131\",\"_id\":\"65e03bedf9834a2ada7d6ce2\"},{\"@type\":\"MATERIAL-PC-FEED\",\"title\":\"🍊 쿠하롱~ 🍊\",\"url\":\"https://chzzk.naver.com/live/861f250480408cb290bb5463e079a238\",\"image\":{\"url\":\"https://s.pstatic.net/dthumb.phinf/?src=%22https%3A%2F%2Flivecloud-thumb.akamaized.net%2Fchzzk%2Flivecloud%2FKR%2Fstream%2F26447913%2Flive%2F4785915%2Frecord%2F25911917%2Fthumbnail%2Fimage_720.jpg%22&type=nf365_240&service=navermain\"},\"highlight\":\"talk\",\"source\":{\"name\":\"쿠우\",\"image\":{\"url\":\"https://s.pstatic.net/dthumb.phinf/?src=%22https%3A%2F%2Fnng-phinf.pstatic.net%2FMjAyMzEyMTlfOTUg%2FMDAxNzAyOTY5MzgyNjgy.iJnEAr3ibFnoMR0WEKrfJQHJkjP8aJyhBYcr3bRkjKQg.QQtsty-IpqHwM_TJSqAjTGiYL6E1fifv8E7l-6eJmEQg.PNG%2F%25EC%25BA%25AC.png%22&type=nf40_40&service=navermain\"}},\"chzzkLiveId\":\"4785915\",\"showLiveBadge\":true,\"viewCount\":\"678\",\"_id\":\"65e03bedf9834a2ada7d6ce3\"},{\"@type\":\"MATERIAL-PC-FEED\",\"title\":\"로요로요로요일🎧 | 로스트아크\",\"url\":\"https://chzzk.naver.com/live/21af742541dda05e027392b20d35f6b1\",\"image\":{\"url\":\"https://s.pstatic.net/dthumb.phinf/?src=%22https%3A%2F%2Flivecloud-thumb.akamaized.net%2Fchzzk%2Flivecloud%2FKR%2Fstream%2F26480246%2Flive%2F4785968%2Frecord%2F25912004%2Fthumbnail%2Fimage_720.jpg%22&type=nf365_240&service=navermain\"},\"highlight\":\"로스트아크\",\"source\":{\"name\":\"곰캐\",\"image\":{\"url\":\"https://s.pstatic.net/dthumb.phinf/?src=%22https%3A%2F%2Fnng-phinf.pstatic.net%2FMjAyMzEyMTlfMzgg%2FMDAxNzAyOTc3NjA0NjMz.bsMfqNjznYQKYAHoRiTNVwdtO9ighEGoJeY66bPGuqIg.lhKntYf086iXSssWLemMGgt2wOWFSuLKfu_ZXT9U5NYg.PNG%2F1500x1500.png%22&type=nf40_40&service=navermain\"}},\"chzzkLiveId\":\"4785968\",\"showLiveBadge\":true,\"viewCount\":\"120\",\"_id\":\"65e03bedf9834a2ada7d6ce4\"},{\"@type\":\"MATERIAL-PC-FEED\",\"title\":\"오랜만의 아야아야가 왔어\",\"url\":\"https://chzzk.naver.com/live/abe8aa82baf3d3ef54ad8468ee73e7fc\",\"image\":{\"url\":\"https://s.pstatic.net/dthumb.phinf/?src=%22https%3A%2F%2Flivecloud-thumb.akamaized.net%2Fchzzk%2Flivecloud%2FKR%2Fstream%2F27387462%2Flive%2F4787151%2Frecord%2F25913439%2Fthumbnail%2Fimage_720.jpg%22&type=nf365_240&service=navermain\"},\"highlight\":\"talk\",\"source\":{\"name\":\"아야 AyaUke\",\"image\":{\"url\":\"https://s.pstatic.net/dthumb.phinf/?src=%22https%3A%2F%2Fnng-phinf.pstatic.net%2FMjAyNDAyMDNfMTUg%2FMDAxNzA2OTI5MzE1ODkz.DjeBVKId5Y6ukIOnx3ouNR-vfeJuPOpPKA58M55HyJkg.4HkbwyoMtw8mfLsCsQoj2z2bGz6geyyjT4BbwOTYKtEg.JPEG%2F20240203_120148.jpg%22&type=nf40_40&service=navermain\"}},\"chzzkLiveId\":\"4787151\",\"showLiveBadge\":true,\"viewCount\":\"239\",\"_id\":\"65e03bedf9834a2ada7d6ce5\"},{\"@type\":\"MATERIAL-PC-FEED\",\"title\":\"등대지기도 찍먹해보려 합니다\",\"url\":\"https://chzzk.naver.com/live/9e731707f6524b88436c5b3ede3a9848\",\"image\":{\"url\":\"https://s.pstatic.net/dthumb.phinf/?src=%22https%3A%2F%2Flivecloud-thumb.akamaized.net%2Fchzzk%2Flivecloud%2FKR%2Fstream%2F26647023%2Flive%2F4784333%2Frecord%2F25909491%2Fthumbnail%2Fimage_720.jpg%22&type=nf365_240&service=navermain\"},\"highlight\":\"이스케이프 프롬 타르코프\",\"source\":{\"name\":\"지니어스매드\",\"image\":{\"url\":\"https://s.pstatic.net/dthumb.phinf/?src=%22https%3A%2F%2Fnng-phinf.pstatic.net%2FMjAyNDAxMDFfMjE1%2FMDAxNzA0MDY0MzEzNzM2.L1n2rAV1ZC8noi2nJpQDQhGCYInaajMieDhtUQMrRD8g.oEkQyEC3Qg6Dv0tXWk07BORQz18YzeUg6yLg3zPOsREg.GIF%2F22222222222222.gif%22&type=nf40_40&service=navermain\"}},\"chzzkLiveId\":\"4784333\",\"showLiveBadge\":true,\"viewCount\":\"205\",\"_id\":\"65e03bedf9834a2ada7d6ce6\"},{\"@type\":\"MATERIAL-PC-FEED\",\"title\":\"롤 재밌다ㅋㅋ (억롤아님. 진짜아님)\",\"url\":\"https://chzzk.naver.com/live/ed4ef35b61140c9fa1457d58fa90472c\",\"image\":{\"url\":\"https://s.pstatic.net/dthumb.phinf/?src=%22https%3A%2F%2Flivecloud-thumb.akamaized.net%2Fchzzk%2Flivecloud%2FKR%2Fstream%2F27734532%2Flive%2F4784236%2Frecord%2F25909330%2Fthumbnail%2Fimage_720.jpg%22&type=nf365_240&service=navermain\"},\"highlight\":\"리그 오브 레전드\",\"source\":{\"name\":\"재슥89\",\"image\":{\"url\":\"https://s.pstatic.net/dthumb.phinf/?src=%22https%3A%2F%2Fnng-phinf.pstatic.net%2FMjAyNDAyMjFfMjc1%2FMDAxNzA4NDkzMjY3NDIz.9ESq0AzmZkNCj6iw9suZi-d4PH2P4j0erEC9rwqqjtkg.NSf9jpgITsJMEPxBJRQm68vd6MWZSI-Y78Ofq_tKFkcg.JPEG%2FkaHrZn9KxvkhZpol9M-9yEi5PDysypIboEZ4EVkfTyK0NdbYYtKPvXBOjp7xXK_kxnLOLt4tVnu6NYkxICrHG_paCgYT1ksQvL2VNEe64v0E1-7uEyl5cWpywAyoz0s58Ye0rvuOThX6X74TnefxiQ.jpg%22&type=nf40_40&service=navermain\"}},\"chzzkLiveId\":\"4784236\",\"showLiveBadge\":true,\"viewCount\":\"316\",\"_id\":\"65e03bedf9834a2ada7d6ce7\"},{\"@type\":\"MATERIAL-PC-FEED\",\"title\":\"망내랑 떠들사람~ (하잇~!!)\",\"url\":\"https://chzzk.naver.com/live/bd07973b6021d72512240c01a386d5c9\",\"image\":{\"url\":\"https://s.pstatic.net/dthumb.phinf/?src=%22https%3A%2F%2Flivecloud-thumb.akamaized.net%2Fchzzk%2Flivecloud%2FKR%2Fstream%2F27396913%2Flive%2F4787734%2Frecord%2F25914212%2Fthumbnail%2Fimage_720.jpg%22&type=nf365_240&service=navermain\"},\"highlight\":\"talk\",\"source\":{\"name\":\"망내\",\"image\":{\"url\":\"https://s.pstatic.net/dthumb.phinf/?src=%22https%3A%2F%2Fnng-phinf.pstatic.net%2FMjAyNDAyMDNfMjc1%2FMDAxNzA2OTI5Nzc0MjQy.p7TlTgAzUjvukhdFj8rin0ZoPgYt8ATmVQfBNrGrwawg.lNUwsQHWBTP6ySJ2XHUYl-GbpKb0rEdlfc6PdhUAeCsg.PNG%2F49CF11E1-D47B-4D3B-907C-40850EEEBF0E-1706929762.png%22&type=nf40_40&service=navermain\"}},\"chzzkLiveId\":\"4787734\",\"showLiveBadge\":true,\"viewCount\":\"113\",\"_id\":\"65f12ba1e478971841be2c08\"}],\"excludeInPaging\":false,\"positionForPaging\":0,\"realtime\":false,\"title\":\"치지직 추천 LIVE\",\"needCologger\":false,\"ad\":false,\"@type\":\"PC-FEED-BLOCK\",\"@code\":\"PC-FEED-GAMEAPP-CHZZK-RECOMMEND\",\"@template\":\"FOUR-COLUMNS\"},{\"@type\":\"PC-FEED-BLOCK\",\"materials\":[{\"@type\":\"MATERIAL-PC-FEED\",\"title\":\"사진 찰칵 인증 이벤트📸봄날 함께할 영웅 찍기!\",\"url\":\"https://game.naver.com/lounge/ZIO_and_the_Magic_Scrolls/board/detail/3731376\",\"image\":{\"url\":\"https://s.pstatic.net/dthumb.phinf/?src=%22https%3A%2F%2Fs.pstatic.net%2Fstatic%2Fwww%2Fmobile%2Fedit%2F20240312_1095%2Fupload_1710241486547Fpr3I.jpg%22&type=nf308_200&service=navermain\"},\"source\":{\"name\":\"마법스크롤 상인 지오 with NAVER WEBTOON\"},\"showLiveBadge\":false,\"_id\":\"654ad80598c6dbca70ba6c24\"},{\"@type\":\"MATERIAL-PC-FEED\",\"title\":\"[이벤트] 테마극장 <다시 피어오르는 푸른 장미> 오픈 예정 안내\",\"url\":\"https://game.naver.com/lounge/Trickcal/board/detail/3732500\",\"image\":{\"url\":\"https://s.pstatic.net/dthumb.phinf/?src=%22https%3A%2F%2Fs.pstatic.net%2Fstatic%2Fwww%2Fmobile%2Fedit%2F20240312_1095%2Fupload_1710241530348QQJBR.jpg%22&type=nf308_200&service=navermain\"},\"source\":{\"name\":\"트릭컬 리바이브\"},\"showLiveBadge\":false,\"_id\":\"654ad80598c6dbca70ba6c25\"},{\"@type\":\"MATERIAL-PC-FEED\",\"title\":\"신규 콘텐츠 빙룡성 업데이트\",\"url\":\"https://game.naver.com/lounge/theplayofgenesis/board/detail/3728557\",\"image\":{\"url\":\"https://s.pstatic.net/dthumb.phinf/?src=%22https%3A%2F%2Fs.pstatic.net%2Fstatic%2Fwww%2Fmobile%2Fedit%2F20240312_1095%2Fupload_1710241705039QvTzo.jpg%22&type=nf308_200&service=navermain\"},\"source\":{\"name\":\"창세기전 모바일 아수라 프로젝트\"},\"showLiveBadge\":false,\"_id\":\"654ad80598c6dbca70ba6c26\"},{\"@type\":\"MATERIAL-PC-FEED\",\"title\":\"진 마징가 ZERO VS 암흑 대장군 콜라보!\",\"url\":\"https://game.naver.com/lounge/Iron_Saga/board/detail/3726956\",\"image\":{\"url\":\"https://s.pstatic.net/dthumb.phinf/?src=%22https%3A%2F%2Fs.pstatic.net%2Fstatic%2Fwww%2Fmobile%2Fedit%2F20240312_1095%2Fupload_1710241763291YN4BJ.jpg%22&type=nf308_200&service=navermain\"},\"source\":{\"name\":\"기동전대 : 아이언사가\"},\"showLiveBadge\":false,\"_id\":\"654ad80598c6dbca70ba6c27\"},{\"@type\":\"MATERIAL-PC-FEED\",\"title\":\"GM케로로 VS CM스모모의 한판 승부 이벤트\",\"url\":\"https://game.naver.com/lounge/Keroro_M/board/detail/3727049\",\"image\":{\"url\":\"https://s.pstatic.net/dthumb.phinf/?src=%22https%3A%2F%2Fs.pstatic.net%2Fstatic%2Fwww%2Fmobile%2Fedit%2F20240311_1095%2Fupload_17101489069702InKI.jpg%22&type=nf308_200&service=navermain\"},\"source\":{\"name\":\"케로로M\"},\"showLiveBadge\":false,\"_id\":\"654ad80598c6dbca70ba6c28\"},{\"@type\":\"MATERIAL-PC-FEED\",\"title\":\"💍소울링의 힘 맞추기 이벤트V 안내 \",\"url\":\"https://game.naver.com/lounge/SoulofRing/board/detail/3727549\",\"image\":{\"url\":\"https://s.pstatic.net/dthumb.phinf/?src=%22https%3A%2F%2Fs.pstatic.net%2Fstatic%2Fwww%2Fmobile%2Fedit%2F20240311_1095%2Fupload_17101491750046RzHQ.jpg%22&type=nf308_200&service=navermain\"},\"source\":{\"name\":\"소울 오프 링\"},\"showLiveBadge\":false,\"_id\":\"654ad80598c6dbca70ba6c29\"},{\"@type\":\"MATERIAL-PC-FEED\",\"title\":\"<양대마켓 인기 게임 1위> \",\"url\":\"https://game.naver.com/lounge/ShootShoot/board/detail/3710273\",\"image\":{\"url\":\"https://s.pstatic.net/dthumb.phinf/?src=%22https%3A%2F%2Fs.pstatic.net%2Fstatic%2Fwww%2Fmobile%2Fedit%2F20240311_1095%2Fupload_1710149302382zrgcT.jpg%22&type=nf308_200&service=navermain\"},\"source\":{\"name\":\"마녀 슈슈슉 - 1000 뽑기 증정\"},\"showLiveBadge\":false,\"_id\":\"654ad80598c6dbca70ba6c2a\"},{\"@type\":\"MATERIAL-PC-FEED\",\"title\":\"🌸봄맞이 이벤트🌸 \",\"url\":\"https://game.naver.com/lounge/Doodle_Magic_Wizard_vs_Slime/board/detail/3721370\",\"image\":{\"url\":\"https://s.pstatic.net/dthumb.phinf/?src=%22https%3A%2F%2Fs.pstatic.net%2Fstatic%2Fwww%2Fmobile%2Fedit%2F20240311_1095%2Fupload_1710149408050jgBhI.jpg%22&type=nf308_200&service=navermain\"},\"source\":{\"name\":\"땡땡 마법사\"},\"showLiveBadge\":false,\"_id\":\"654ad80598c6dbca70ba6c2b\"}],\"excludeInPaging\":false,\"positionForPaging\":0,\"realtime\":false,\"needCologger\":false,\"ad\":false,\"@type\":\"PC-FEED-BLOCK\",\"@code\":\"PC-FEED-GAMEAPP-LOUNGE-NEWS\",\"@template\":\"TWO-COLUMNS\"},{\"@type\":\"PC-FEED-BLOCK\",\"materials\":[{\"@type\":\"MATERIAL-PC-FEED\",\"title\":\"마지막 남은 LCK PO 한 자리…주인공은 누구?\",\"url\":\"https://n.news.naver.com/sports/esports/article/347/0000178840\",\"image\":{\"url\":\"https://s.pstatic.net/dthumb.phinf/?src=%22https%3A%2F%2Fs.pstatic.net%2Fimgnews%2Fimage%2F347%2F2024%2F03%2F13%2F2024031313313509474a7594bcb2f1839820252_20240313135301347.jpg%22&type=nf365_240&service=navermain\"},\"showLiveBadge\":false,\"_id\":\"65e03bedf9834a2ada7d6ce9\"},{\"@type\":\"MATERIAL-PC-FEED\",\"title\":\"선수들 성장 염원하는 ‘히라이’의 바람 [Oh!쎈 롤챔스]\",\"url\":\"https://n.news.naver.com/sports/esports/article/109/0005034468\",\"image\":{\"url\":\"https://s.pstatic.net/dthumb.phinf/?src=%22https%3A%2F%2Fs.pstatic.net%2Fimgnews%2Fimage%2F109%2F2024%2F03%2F13%2F0005034468_001_20240313143805465.jpeg%22&type=nf365_240&service=navermain\"},\"showLiveBadge\":false,\"_id\":\"65e03bedf9834a2ada7d6cea\"},{\"@type\":\"MATERIAL-PC-FEED\",\"title\":\"오버워치2, e스포츠 월드컵 정식 종목 채택...선발 방식은?\",\"url\":\"https://n.news.naver.com/sports/esports/article/347/0000178835\",\"image\":{\"url\":\"https://s.pstatic.net/dthumb.phinf/?src=%22https%3A%2F%2Fs.pstatic.net%2Fimgnews%2Fimage%2F347%2F2024%2F03%2F13%2F2024031221225101811b91e133c1f61742314_20240313114001381.jpg%22&type=nf365_240&service=navermain\"},\"showLiveBadge\":false,\"_id\":\"65e03bedf9834a2ada7d6ceb\"},{\"@type\":\"MATERIAL-PC-FEED\",\"title\":\"루키-스카웃, 함께 웃었다 [LPL]\",\"url\":\"https://n.news.naver.com/sports/esports/article/445/0000177852\",\"image\":{\"url\":\"https://s.pstatic.net/dthumb.phinf/?src=%22https%3A%2F%2Fs.pstatic.net%2Fimgnews%2Fimage%2F445%2F2024%2F03%2F13%2F0000177852_001_20240313113101487.jpg%22&type=nf365_240&service=navermain\"},\"showLiveBadge\":false,\"_id\":\"65e03bedf9834a2ada7d6cec\"},{\"@type\":\"MATERIAL-PC-FEED\",\"title\":\"'파죽지세' DK, 2R서 다시 시험대 오른다... T1-젠지와 연전 [LCK 프리뷰]\",\"url\":\"https://n.news.naver.com/sports/esports/article/311/0001701618\",\"image\":{\"url\":\"https://s.pstatic.net/dthumb.phinf/?src=%22https%3A%2F%2Fs.pstatic.net%2Fimgnews%2Fimage%2F311%2F2024%2F03%2F13%2F0001701618_001_20240313110208859.jpg%22&type=nf365_240&service=navermain\"},\"showLiveBadge\":false,\"_id\":\"65e03bedf9834a2ada7d6ced\"}],\"excludeInPaging\":false,\"positionForPaging\":0,\"realtime\":false,\"title\":\"e스포츠 소식\",\"needCologger\":false,\"ad\":false,\"@type\":\"PC-FEED-BLOCK\",\"@code\":\"PC-FEED-GAMEAPP-ESPORTS-NEWS\",\"@template\":\"FOUR-COLUMNS\"}],\"materials\":null,\"excludeInPaging\":false,\"positionForPaging\":0,\"realtime\":false,\"_id\":null,\"@type\":\"BLOCK\",\"@code\":\"PC-FEED-GAMEAPP\",\"@template\":\"NONE\",\"@flowId\":null,\"@flowExecutionId\":null,\"@provider\":null,\"@lastModifiedAt\":null}],\"materials\":null,\"excludeInPaging\":false,\"positionForPaging\":0,\"realtime\":false,\"_id\":\"6441ca92a10d3006855f9acd\",\"@type\":\"BLOCK\",\"@code\":\"PC-FEED-WRAPPER\",\"@template\":\"PC-FEED-WRAPPER\",\"@flowId\":\"PC-FEED-WRAPPER\",\"@flowExecutionId\":\"a6d831f5-e100-11ee-a13d-d1febd3a6a6b\",\"@provider\":\"lambda\",\"@lastModifiedAt\":[2024,3,13,6,12,22,121000000]}\n",
      "window[\"EAGER-DATA\"][\"CAS-MINICONTENT-PC-SPECIAL-LOGO\"] = {\"@type\":\"MINI-CONTENT-BLOCK\",\"blocks\":null,\"materials\":null,\"excludeInPaging\":false,\"positionForPaging\":0,\"realtime\":false,\"items\":[],\"_id\":\"6433d8e3a10d3006850274e8\",\"@type\":\"MINI-CONTENT-BLOCK\",\"@code\":\"CAS-MINICONTENT-PC-SPECIAL-LOGO\",\"@template\":\"NONE\",\"@flowId\":\"CAS-MINICONTENT\",\"@flowExecutionId\":\"b1938aeb-e100-11ee-8373-bd8602510cb5\",\"@provider\":\"lambda\",\"@lastModifiedAt\":[2024,3,13,6,12,39,97000000]}\n",
      "window[\"EAGER-DATA\"][\"PC-MEDIA-WRAPPER\"] = {\"@type\":\"PC-MEDIA-CONTENTS-BLOCK\",\"blocks\":[{\"@type\":\"BLOCK\",\"blocks\":[{\"@type\":\"PC-NEWSSTAND-BLOCK\",\"blocks\":[{\"@type\":\"PC-NEWSSTAND-PRESS-BLOCK\",\"blocks\":null,\"materials\":null,\"excludeInPaging\":false,\"positionForPaging\":0,\"realtime\":false,\"pid\":\"907\",\"name\":\"경북매일신문\",\"logoLight\":{\"url\":\"https://s.pstatic.net/static/newsstand/2020/logo/light/0604/907.png\"},\"logoDark\":{\"url\":\"https://s.pstatic.net/static/newsstand/2020/logo/dark/0604/907.png\"},\"showThumbnailView\":true,\"showListView\":true,\"regDate\":\"20240313 15:00:12\",\"_id\":null,\"@type\":\"PC-NEWSSTAND-PRESS-BLOCK\",\"@code\":null,\"@template\":\"NONE\",\"@flowId\":null,\"@flowExecutionId\":null,\"@provider\":null,\"@lastModifiedAt\":null},{\"@type\":\"PC-NEWSSTAND-PRESS-BLOCK\",\"blocks\":null,\"materials\":null,\"excludeInPaging\":false,\"positionForPaging\":0,\"realtime\":false,\"pid\":\"908\",\"name\":\"국방일보\",\"logoLight\":{\"url\":\"https://s.pstatic.net/static/newsstand/2020/logo/light/0604/908.png\"},\"logoDark\":{\"url\":\"https://s.pstatic.net/static/newsstand/2020/logo/dark/0604/908.png\"},\"showThumbnailView\":true,\"showListView\":true,\"regDate\":\"20240312 17:31:54\",\"_id\":null,\"@type\":\"PC-NEWSSTAND-PRESS-BLOCK\",\"@code\":null,\"@template\":\"NONE\",\"@flowId\":null,\"@flowExecutionId\":null,\"@provider\":null,\"@lastModifiedAt\":null},{\"@type\":\"PC-NEWSSTAND-PRESS-BLOCK\",\"blocks\":null,\"materials\":null,\"excludeInPaging\":false,\"positionForPaging\":0,\"realtime\":false,\"pid\":\"909\",\"name\":\"기호일보\",\"logoLight\":{\"url\":\"https://s.pstatic.net/static/newsstand/2020/logo/light/0604/909.png\"},\"logoDark\":{\"url\":\"https://s.pstatic.net/static/newsstand/2020/logo/dark/0604/909.png\"},\"showThumbnailView\":true,\"showListView\":true,\"regDate\":\"20240313 11:00:50\",\"_id\":null,\"@type\":\"PC-NEWSSTAND-PRESS-BLOCK\",\"@code\":null,\"@template\":\"NONE\",\"@flowId\":null,\"@flowExecutionId\":null,\"@provider\":null,\"@lastModifiedAt\":null},{\"@type\":\"PC-NEWSSTAND-PRESS-BLOCK\",\"blocks\":null,\"materials\":null,\"excludeInPaging\":false,\"positionForPaging\":0,\"realtime\":false,\"pid\":\"353\",\"name\":\"중앙SUNDAY\",\"logoLight\":{\"url\":\"https://s.pstatic.net/static/newsstand/2020/logo/light/0604/353.png\"},\"logoDark\":{\"url\":\"https://s.pstatic.net/static/newsstand/2020/logo/dark/0604/353.png\"},\"showThumbnailView\":true,\"showListView\":true,\"regDate\":\"20240313 10:02:26\",\"_id\":null,\"@type\":\"PC-NEWSSTAND-PRESS-BLOCK\",\"@code\":null,\"@template\":\"NONE\",\"@flowId\":null,\"@flowExecutionId\":null,\"@provider\":null,\"@lastModifiedAt\":null},{\"@type\":\"PC-NEWSSTAND-PRESS-BLOCK\",\"blocks\":null,\"materials\":null,\"excludeInPaging\":false,\"positionForPaging\":0,\"realtime\":false,\"pid\":\"354\",\"name\":\"엘르\",\"logoLight\":{\"url\":\"https://s.pstatic.net/static/newsstand/2020/logo/light/0604/354.png\"},\"logoDark\":{\"url\":\"https://s.pstatic.net/static/newsstand/2020/logo/dark/0604/354.png\"},\"showThumbnailView\":true,\"showListView\":true,\"regDate\":\"20240313 14:00:00\",\"_id\":null,\"@type\":\"PC-NEWSSTAND-PRESS-BLOCK\",\"@code\":null,\"@template\":\"NONE\",\"@flowId\":null,\"@flowExecutionId\":null,\"@provider\":null,\"@lastModifiedAt\":null},{\"@type\":\"PC-NEWSSTAND-PRESS-BLOCK\",\"blocks\":null,\"materials\":null,\"excludeInPaging\":false,\"positionForPaging\":0,\"realtime\":false,\"pid\":\"355\",\"name\":\"사이언스타임즈\",\"logoLight\":{\"url\":\"https://s.pstatic.net/static/newsstand/2020/logo/light/0604/355.png\"},\"logoDark\":{\"url\":\"https://s.pstatic.net/static/newsstand/2020/logo/dark/0604/355.png\"},\"showThumbnailView\":true,\"showListView\":true,\"regDate\":\"20240313 13:01:17\",\"_id\":null,\"@type\":\"PC-NEWSSTAND-PRESS-BLOCK\",\"@code\":null,\"@template\":\"NONE\",\"@flowId\":null,\"@flowExecutionId\":null,\"@provider\":null,\"@lastModifiedAt\":null},{\"@type\":\"PC-NEWSSTAND-PRESS-BLOCK\",\"blocks\":null,\"materials\":null,\"excludeInPaging\":false,\"positionForPaging\":0,\"realtime\":false,\"pid\":\"356\",\"name\":\"게임메카\",\"logoLight\":{\"url\":\"https://s.pstatic.net/static/newsstand/2020/logo/light/0604/356.png\"},\"logoDark\":{\"url\":\"https://s.pstatic.net/static/newsstand/2020/logo/dark/0604/356.png\"},\"showThumbnailView\":true,\"showListView\":true,\"regDate\":\"20240313 14:31:46\",\"_id\":null,\"@type\":\"PC-NEWSSTAND-PRESS-BLOCK\",\"@code\":null,\"@template\":\"NONE\",\"@flowId\":null,\"@flowExecutionId\":null,\"@provider\":null,\"@lastModifiedAt\":null},{\"@type\":\"PC-NEWSSTAND-PRESS-BLOCK\",\"blocks\":null,\"materials\":null,\"excludeInPaging\":false,\"positionForPaging\":0,\"realtime\":false,\"pid\":\"477\",\"name\":\"스포티비뉴스\",\"logoLight\":{\"url\":\"https://s.pstatic.net/static/newsstand/up/2021/1130/nsd10159718.png\"},\"logoDark\":{\"url\":\"https://s.pstatic.net/static/newsstand/up/2021/1130/nsd101536636.png\"},\"showThumbnailView\":true,\"showListView\":true,\"regDate\":\"20240313 15:00:05\",\"_id\":null,\"@type\":\"PC-NEWSSTAND-PRESS-BLOCK\",\"@code\":null,\"@template\":\"NONE\",\"@flowId\":null,\"@flowExecutionId\":null,\"@provider\":null,\"@lastModifiedAt\":null},{\"@type\":\"PC-NEWSSTAND-PRESS-BLOCK\",\"blocks\":null,\"materials\":null,\"excludeInPaging\":false,\"positionForPaging\":0,\"realtime\":false,\"pid\":\"117\",\"name\":\"마이데일리\",\"logoLight\":{\"url\":\"https://s.pstatic.net/static/newsstand/2020/logo/light/0604/117.png\"},\"logoDark\":{\"url\":\"https://s.pstatic.net/static/newsstand/2020/logo/dark/0604/117.png\"},\"showThumbnailView\":true,\"showListView\":true,\"regDate\":\"20240313 14:27:50\",\"_id\":null,\"@type\":\"PC-NEWSSTAND-PRESS-BLOCK\",\"@code\":null,\"@template\":\"NONE\",\"@flowId\":null,\"@flowExecutionId\":null,\"@provider\":null,\"@lastModifiedAt\":null},{\"@type\":\"PC-NEWSSTAND-PRESS-BLOCK\",\"blocks\":null,\"materials\":null,\"excludeInPaging\":false,\"positionForPaging\":0,\"realtime\":false,\"pid\":\"910\",\"name\":\"넥스트데일리\",\"logoLight\":{\"url\":\"https://s.pstatic.net/static/newsstand/2020/logo/light/0604/910.png\"},\"logoDark\":{\"url\":\"https://s.pstatic.net/static/newsstand/2020/logo/dark/0604/910.png\"},\"showThumbnailView\":true,\"showListView\":true,\"regDate\":\"20240313 15:00:22\",\"_id\":null,\"@type\":\"PC-NEWSSTAND-PRESS-BLOCK\",\"@code\":null,\"@template\":\"NONE\",\"@flowId\":null,\"@flowExecutionId\":null,\"@provider\":null,\"@lastModifiedAt\":null},{\"@type\":\"PC-NEWSSTAND-PRESS-BLOCK\",\"blocks\":null,\"materials\":null,\"excludeInPaging\":false,\"positionForPaging\":0,\"realtime\":false,\"pid\":\"911\",\"name\":\"농민신문\",\"logoLight\":{\"url\":\"https://s.pstatic.net/static/newsstand/2020/logo/light/0604/911.png\"},\"logoDark\":{\"url\":\"https://s.pstatic.net/static/newsstand/2020/logo/dark/0604/911.png\"},\"showThumbnailView\":true,\"showListView\":true,\"regDate\":\"20240313 07:00:01\",\"_id\":null,\"@type\":\"PC-NEWSSTAND-PRESS-BLOCK\",\"@code\":null,\"@template\":\"NONE\",\"@flowId\":null,\"@flowExecutionId\":null,\"@provider\":null,\"@lastModifiedAt\":null},{\"@type\":\"PC-NEWSSTAND-PRESS-BLOCK\",\"blocks\":null,\"materials\":null,\"excludeInPaging\":false,\"positionForPaging\":0,\"realtime\":false,\"pid\":\"913\",\"name\":\"뉴스토마토\",\"logoLight\":{\"url\":\"https://s.pstatic.net/static/newsstand/2020/logo/light/0604/913.png\"},\"logoDark\":{\"url\":\"https://s.pstatic.net/static/newsstand/2020/logo/dark/0604/913.png\"},\"showThumbnailView\":true,\"showListView\":true,\"regDate\":\"20240313 15:01:59\",\"_id\":null,\"@type\":\"PC-NEWSSTAND-PRESS-BLOCK\",\"@code\":null,\"@template\":\"NONE\",\"@flowId\":null,\"@flowExecutionId\":null,\"@provider\":null,\"@lastModifiedAt\":null},{\"@type\":\"PC-NEWSSTAND-PRESS-BLOCK\",\"blocks\":null,\"materials\":null,\"excludeInPaging\":false,\"positionForPaging\":0,\"realtime\":false,\"pid\":\"914\",\"name\":\"뉴스핌\",\"logoLight\":{\"url\":\"https://s.pstatic.net/static/newsstand/2020/logo/light/0604/914.png\"},\"logoDark\":{\"url\":\"https://s.pstatic.net/static/newsstand/2020/logo/dark/0604/914.png\"},\"showThumbnailView\":true,\"showListView\":true,\"regDate\":\"20240313 08:31:41\",\"_id\":null,\"@type\":\"PC-NEWSSTAND-PRESS-BLOCK\",\"@code\":null,\"@template\":\"NONE\",\"@flowId\":null,\"@flowExecutionId\":null,\"@provider\":null,\"@lastModifiedAt\":null},{\"@type\":\"PC-NEWSSTAND-PRESS-BLOCK\",\"blocks\":null,\"materials\":null,\"excludeInPaging\":false,\"positionForPaging\":0,\"realtime\":false,\"pid\":\"915\",\"name\":\"르몽드 디플로마티크\",\"logoLight\":{\"url\":\"https://s.pstatic.net/static/newsstand/2020/logo/light/0604/915.png\"},\"logoDark\":{\"url\":\"https://s.pstatic.net/static/newsstand/2020/logo/dark/0604/915.png\"},\"showThumbnailView\":true,\"showListView\":true,\"regDate\":\"20240308 12:15:56\",\"_id\":null,\"@type\":\"PC-NEWSSTAND-PRESS-BLOCK\",\"@code\":null,\"@template\":\"NONE\",\"@flowId\":null,\"@flowExecutionId\":null,\"@provider\":null,\"@lastModifiedAt\":null},{\"@type\":\"PC-NEWSSTAND-PRESS-BLOCK\",\"blocks\":null,\"materials\":null,\"excludeInPaging\":false,\"positionForPaging\":0,\"realtime\":false,\"pid\":\"916\",\"name\":\"머니투데이방송\",\"logoLight\":{\"url\":\"https://s.pstatic.net/static/newsstand/up/2021/0420/nsd105139164.png\"},\"logoDark\":{\"url\":\"https://s.pstatic.net/static/newsstand/up/2021/0420/nsd104943516.png\"},\"showThumbnailView\":true,\"showListView\":true,\"regDate\":\"20240313 14:07:06\",\"_id\":null,\"@type\":\"PC-NEWSSTAND-PRESS-BLOCK\",\"@code\":null,\"@template\":\"NONE\",\"@flowId\":null,\"@flowExecutionId\":null,\"@provider\":null,\"@lastModifiedAt\":null},{\"@type\":\"PC-NEWSSTAND-PRESS-BLOCK\",\"blocks\":null,\"materials\":null,\"excludeInPaging\":false,\"positionForPaging\":0,\"realtime\":false,\"pid\":\"917\",\"name\":\"IT조선\",\"logoLight\":{\"url\":\"https://s.pstatic.net/static/newsstand/2020/logo/light/0604/917.png\"},\"logoDark\":{\"url\":\"https://s.pstatic.net/static/newsstand/2020/logo/dark/0604/917.png\"},\"showThumbnailView\":true,\"showListView\":true,\"regDate\":\"20240313 15:00:33\",\"_id\":null,\"@type\":\"PC-NEWSSTAND-PRESS-BLOCK\",\"@code\":null,\"@template\":\"NONE\",\"@flowId\":null,\"@flowExecutionId\":null,\"@provider\":null,\"@lastModifiedAt\":null},{\"@type\":\"PC-NEWSSTAND-PRESS-BLOCK\",\"blocks\":null,\"materials\":null,\"excludeInPaging\":false,\"positionForPaging\":0,\"realtime\":false,\"pid\":\"361\",\"name\":\"채널예스\",\"logoLight\":{\"url\":\"https://s.pstatic.net/static/newsstand/up/2023/0418/nsd124959421.png\"},\"logoDark\":{\"url\":\"https://s.pstatic.net/static/newsstand/up/2023/0418/nsd124945796.png\"},\"showThumbnailView\":true,\"showListView\":true,\"regDate\":\"20240313 14:50:46\",\"_id\":null,\"@type\":\"PC-NEWSSTAND-PRESS-BLOCK\",\"@code\":null,\"@template\":\"NONE\",\"@flowId\":null,\"@flowExecutionId\":null,\"@provider\":null,\"@lastModifiedAt\":null},{\"@type\":\"PC-NEWSSTAND-PRESS-BLOCK\",\"blocks\":null,\"materials\":null,\"excludeInPaging\":false,\"positionForPaging\":0,\"realtime\":false,\"pid\":\"120\",\"name\":\"EBN\",\"logoLight\":{\"url\":\"https://s.pstatic.net/static/newsstand/2020/logo/light/0604/120.png\"},\"logoDark\":{\"url\":\"https://s.pstatic.net/static/newsstand/2020/logo/dark/0604/120.png\"},\"showThumbnailView\":true,\"showListView\":true,\"regDate\":\"20240313 15:00:50\",\"_id\":null,\"@type\":\"PC-NEWSSTAND-PRESS-BLOCK\",\"@code\":null,\"@template\":\"NONE\",\"@flowId\":null,\"@flowExecutionId\":null,\"@provider\":null,\"@lastModifiedAt\":null},{\"@type\":\"PC-NEWSSTAND-PRESS-BLOCK\",\"blocks\":null,\"materials\":null,\"excludeInPaging\":false,\"positionForPaging\":0,\"realtime\":false,\"pid\":\"241\",\"name\":\"일간스포츠\",\"logoLight\":{\"url\":\"https://s.pstatic.net/static/newsstand/up/2023/0112/nsd92558162.png\"},\"logoDark\":{\"url\":\"https://s.pstatic.net/static/newsstand/2020/logo/dark/0604/241.png\"},\"showThumbnailView\":true,\"showListView\":true,\"regDate\":\"20240313 14:29:19\",\"_id\":null,\"@type\":\"PC-NEWSSTAND-PRESS-BLOCK\",\"@code\":null,\"@template\":\"NONE\",\"@flowId\":null,\"@flowExecutionId\":null,\"@provider\":null,\"@lastModifiedAt\":null},{\"@type\":\"PC-NEWSSTAND-PRESS-BLOCK\",\"blocks\":null,\"materials\":null,\"excludeInPaging\":false,\"positionForPaging\":0,\"realtime\":false,\"pid\":\"363\",\"name\":\"동아사이언스\",\"logoLight\":{\"url\":\"https://s.pstatic.net/static/newsstand/2020/logo/light/0604/363.png\"},\"logoDark\":{\"url\":\"https://s.pstatic.net/static/newsstand/2020/logo/dark/0604/363.png\"},\"showThumbnailView\":true,\"showListView\":true,\"regDate\":\"20240312 17:39:31\",\"_id\":null,\"@type\":\"PC-NEWSSTAND-PRESS-BLOCK\",\"@code\":null,\"@template\":\"NONE\",\"@flowId\":null,\"@flowExecutionId\":null,\"@provider\":null,\"@lastModifiedAt\":null},{\"@type\":\"PC-NEWSSTAND-PRESS-BLOCK\",\"blocks\":null,\"materials\":null,\"excludeInPaging\":false,\"positionForPaging\":0,\"realtime\":false,\"pid\":\"122\",\"name\":\"법률신문\",\"logoLight\":{\"url\":\"https://s.pstatic.net/static/newsstand/up/2022/1103/nsd124326426.png\"},\"logoDark\":{\"url\":\"https://s.pstatic.net/static/newsstand/up/2022/1103/nsd124320554.png\"},\"showThumbnailView\":true,\"showListView\":true,\"regDate\":\"20240313 07:41:36\",\"_id\":null,\"@type\":\"PC-NEWSSTAND-PRESS-BLOCK\",\"@code\":null,\"@template\":\"NONE\",\"@flowId\":null,\"@flowExecutionId\":null,\"@provider\":null,\"@lastModifiedAt\":null},{\"@type\":\"PC-NEWSSTAND-PRESS-BLOCK\",\"blocks\":null,\"materials\":null,\"excludeInPaging\":false,\"positionForPaging\":0,\"realtime\":false,\"pid\":\"243\",\"name\":\"이코노미스트\",\"logoLight\":{\"url\":\"https://s.pstatic.net/static/newsstand/2020/logo/light/0604/243.png\"},\"logoDark\":{\"url\":\"https://s.pstatic.net/static/newsstand/2020/logo/dark/0604/243.png\"},\"showThumbnailView\":true,\"showListView\":true,\"regDate\":\"20240313 09:04:49\",\"_id\":null,\"@type\":\"PC-NEWSSTAND-PRESS-BLOCK\",\"@code\":null,\"@template\":\"NONE\",\"@flowId\":null,\"@flowExecutionId\":null,\"@provider\":null,\"@lastModifiedAt\":null},{\"@type\":\"PC-NEWSSTAND-PRESS-BLOCK\",\"blocks\":null,\"materials\":null,\"excludeInPaging\":false,\"positionForPaging\":0,\"realtime\":false,\"pid\":\"364\",\"name\":\"PC사랑\",\"logoLight\":{\"url\":\"https://s.pstatic.net/static/newsstand/2020/logo/light/0604/364.png\"},\"logoDark\":{\"url\":\"https://s.pstatic.net/static/newsstand/2020/logo/dark/0604/364.png\"},\"showThumbnailView\":true,\"showListView\":true,\"regDate\":\"20240311 16:57:19\",\"_id\":null,\"@type\":\"PC-NEWSSTAND-PRESS-BLOCK\",\"@code\":null,\"@template\":\"NONE\",\"@flowId\":null,\"@flowExecutionId\":null,\"@provider\":null,\"@lastModifiedAt\":null},{\"@type\":\"PC-NEWSSTAND-PRESS-BLOCK\",\"blocks\":null,\"materials\":null,\"excludeInPaging\":false,\"positionForPaging\":0,\"realtime\":false,\"pid\":\"002\",\"name\":\"프레시안\",\"logoLight\":{\"url\":\"https://s.pstatic.net/static/newsstand/2020/logo/light/0604/002.png\"},\"logoDark\":{\"url\":\"https://s.pstatic.net/static/newsstand/2020/logo/dark/0604/002.png\"},\"showThumbnailView\":true,\"showListView\":true,\"regDate\":\"20240313 13:59:54\",\"_id\":null,\"@type\":\"PC-NEWSSTAND-PRESS-BLOCK\",\"@code\":null,\"@template\":\"NONE\",\"@flowId\":null,\"@flowExecutionId\":null,\"@provider\":null,\"@lastModifiedAt\":null},{\"@type\":\"PC-NEWSSTAND-PRESS-BLOCK\",\"blocks\":null,\"materials\":null,\"excludeInPaging\":false,\"positionForPaging\":0,\"realtime\":false,\"pid\":\"123\",\"name\":\"조세일보\",\"logoLight\":{\"url\":\"https://s.pstatic.net/static/newsstand/2020/logo/light/0604/123.png\"},\"logoDark\":{\"url\":\"https://s.pstatic.net/static/newsstand/2020/logo/dark/0604/123.png\"},\"showThumbnailView\":true,\"showListView\":true,\"regDate\":\"20240313 14:42:34\",\"_id\":null,\"@type\":\"PC-NEWSSTAND-PRESS-BLOCK\",\"@code\":null,\"@template\":\"NONE\",\"@flowId\":null,\"@flowExecutionId\":null,\"@provider\":null,\"@lastModifiedAt\":null},{\"@type\":\"PC-NEWSSTAND-PRESS-BLOCK\",\"blocks\":null,\"materials\":null,\"excludeInPaging\":false,\"positionForPaging\":0,\"realtime\":false,\"pid\":\"003\",\"name\":\"뉴시스\",\"logoLight\":{\"url\":\"https://s.pstatic.net/static/newsstand/2020/logo/light/0604/003.png\"},\"logoDark\":{\"url\":\"https://s.pstatic.net/static/newsstand/2020/logo/dark/0604/003.png\"},\"showThumbnailView\":true,\"showListView\":true,\"regDate\":\"20240313 14:59:20\",\"_id\":null,\"@type\":\"PC-NEWSSTAND-PRESS-BLOCK\",\"@code\":null,\"@template\":\"NONE\",\"@flowId\":null,\"@flowExecutionId\":null,\"@provider\":null,\"@lastModifiedAt\":null},{\"@type\":\"PC-NEWSSTAND-PRESS-BLOCK\",\"blocks\":null,\"materials\":null,\"excludeInPaging\":false,\"positionForPaging\":0,\"realtime\":false,\"pid\":\"366\",\"name\":\"조선비즈\",\"logoLight\":{\"url\":\"https://s.pstatic.net/static/newsstand/2020/logo/light/0604/366.png\"},\"logoDark\":{\"url\":\"https://s.pstatic.net/static/newsstand/2020/logo/dark/0604/366.png\"},\"showThumbnailView\":true,\"showListView\":true,\"regDate\":\"20240313 14:56:32\",\"_id\":null,\"@type\":\"PC-NEWSSTAND-PRESS-BLOCK\",\"@code\":null,\"@template\":\"NONE\",\"@flowId\":null,\"@flowExecutionId\":null,\"@provider\":null,\"@lastModifiedAt\":null},{\"@type\":\"PC-NEWSSTAND-PRESS-BLOCK\",\"blocks\":null,\"materials\":null,\"excludeInPaging\":false,\"positionForPaging\":0,\"realtime\":false,\"pid\":\"005\",\"name\":\"국민일보\",\"logoLight\":{\"url\":\"https://s.pstatic.net/static/newsstand/2020/logo/light/0604/005.png\"},\"logoDark\":{\"url\":\"https://s.pstatic.net/static/newsstand/2020/logo/dark/0604/005.png\"},\"showThumbnailView\":true,\"showListView\":true,\"regDate\":\"20240313 15:02:57\",\"_id\":null,\"@type\":\"PC-NEWSSTAND-PRESS-BLOCK\",\"@code\":null,\"@template\":\"NONE\",\"@flowId\":null,\"@flowExecutionId\":null,\"@provider\":null,\"@lastModifiedAt\":null},{\"@type\":\"PC-NEWSSTAND-PRESS-BLOCK\",\"blocks\":null,\"materials\":null,\"excludeInPaging\":false,\"positionForPaging\":0,\"realtime\":false,\"pid\":\"368\",\"name\":\"데일리안\",\"logoLight\":{\"url\":\"https://s.pstatic.net/static/newsstand/2020/logo/light/0604/368.png\"},\"logoDark\":{\"url\":\"https://s.pstatic.net/static/newsstand/2020/logo/dark/0604/368.png\"},\"showThumbnailView\":true,\"showListView\":true,\"regDate\":\"20240313 14:36:24\",\"_id\":null,\"@type\":\"PC-NEWSSTAND-PRESS-BLOCK\",\"@code\":null,\"@template\":\"NONE\",\"@flowId\":null,\"@flowExecutionId\":null,\"@provider\":null,\"@lastModifiedAt\":null},{\"@type\":\"PC-NEWSSTAND-PRESS-BLOCK\",\"blocks\":null,\"materials\":null,\"excludeInPaging\":false,\"positionForPaging\":0,\"realtime\":false,\"pid\":\"006\",\"name\":\"미디어오늘\",\"logoLight\":{\"url\":\"https://s.pstatic.net/static/newsstand/2020/logo/light/0604/006.png\"},\"logoDark\":{\"url\":\"https://s.pstatic.net/static/newsstand/2020/logo/dark/0604/006.png\"},\"showThumbnailView\":true,\"showListView\":true,\"regDate\":\"20240313 15:05:01\",\"_id\":null,\"@type\":\"PC-NEWSSTAND-PRESS-BLOCK\",\"@code\":null,\"@template\":\"NONE\",\"@flowId\":null,\"@flowExecutionId\":null,\"@provider\":null,\"@lastModifiedAt\":null},{\"@type\":\"PC-NEWSSTAND-PRESS-BLOCK\",\"blocks\":null,\"materials\":null,\"excludeInPaging\":false,\"positionForPaging\":0,\"realtime\":false,\"pid\":\"920\",\"name\":\"아시아투데이\",\"logoLight\":{\"url\":\"https://s.pstatic.net/static/newsstand/2020/logo/light/0604/920.png\"},\"logoDark\":{\"url\":\"https://s.pstatic.net/static/newsstand/2020/logo/dark/0604/920.png\"},\"showThumbnailView\":true,\"showListView\":true,\"regDate\":\"20240313 15:00:52\",\"_id\":null,\"@type\":\"PC-NEWSSTAND-PRESS-BLOCK\",\"@code\":null,\"@template\":\"NONE\",\"@flowId\":null,\"@flowExecutionId\":null,\"@provider\":null,\"@lastModifiedAt\":null},{\"@type\":\"PC-NEWSSTAND-PRESS-BLOCK\",\"blocks\":null,\"materials\":null,\"excludeInPaging\":false,\"positionForPaging\":0,\"realtime\":false,\"pid\":\"008\",\"name\":\"머니투데이\",\"logoLight\":{\"url\":\"https://s.pstatic.net/static/newsstand/2020/logo/light/0604/008.png\"},\"logoDark\":{\"url\":\"https://s.pstatic.net/static/newsstand/2020/logo/dark/0604/008.png\"},\"showThumbnailView\":true,\"showListView\":true,\"regDate\":\"20240313 15:00:12\",\"_id\":null,\"@type\":\"PC-NEWSSTAND-PRESS-BLOCK\",\"@code\":null,\"@template\":\"NONE\",\"@flowId\":null,\"@flowExecutionId\":null,\"@provider\":null,\"@lastModifiedAt\":null},{\"@type\":\"PC-NEWSSTAND-PRESS-BLOCK\",\"blocks\":null,\"materials\":null,\"excludeInPaging\":false,\"positionForPaging\":0,\"realtime\":false,\"pid\":\"921\",\"name\":\"아주경제\",\"logoLight\":{\"url\":\"https://s.pstatic.net/static/newsstand/up/2023/0731/nsd13387289.png\"},\"logoDark\":{\"url\":\"https://s.pstatic.net/static/newsstand/up/2023/0731/nsd133759965.png\"},\"showThumbnailView\":true,\"showListView\":true,\"regDate\":\"20240313 15:04:01\",\"_id\":null,\"@type\":\"PC-NEWSSTAND-PRESS-BLOCK\",\"@code\":null,\"@template\":\"NONE\",\"@flowId\":null,\"@flowExecutionId\":null,\"@provider\":null,\"@lastModifiedAt\":null},{\"@type\":\"PC-NEWSSTAND-PRESS-BLOCK\",\"blocks\":null,\"materials\":null,\"excludeInPaging\":false,\"positionForPaging\":0,\"realtime\":false,\"pid\":\"009\",\"name\":\"매일경제\",\"logoLight\":{\"url\":\"https://s.pstatic.net/static/newsstand/2020/logo/light/0604/009.png\"},\"logoDark\":{\"url\":\"https://s.pstatic.net/static/newsstand/2020/logo/dark/0604/009.png\"},\"showThumbnailView\":true,\"showListView\":true,\"regDate\":\"20240313 15:05:06\",\"_id\":null,\"@type\":\"PC-NEWSSTAND-PRESS-BLOCK\",\"@code\":null,\"@template\":\"NONE\",\"@flowId\":null,\"@flowExecutionId\":null,\"@provider\":null,\"@lastModifiedAt\":null},{\"@type\":\"PC-NEWSSTAND-PRESS-BLOCK\",\"blocks\":null,\"materials\":null,\"excludeInPaging\":false,\"positionForPaging\":0,\"realtime\":false,\"pid\":\"801\",\"name\":\"위키리크스한국\",\"logoLight\":{\"url\":\"https://s.pstatic.net/static/newsstand/2020/logo/light/0604/801.png\"},\"logoDark\":{\"url\":\"https://s.pstatic.net/static/newsstand/2020/logo/dark/0604/801.png\"},\"showThumbnailView\":true,\"showListView\":true,\"regDate\":\"20240313 15:00:09\",\"_id\":null,\"@type\":\"PC-NEWSSTAND-PRESS-BLOCK\",\"@code\":null,\"@template\":\"NONE\",\"@flowId\":null,\"@flowExecutionId\":null,\"@provider\":null,\"@lastModifiedAt\":null},{\"@type\":\"PC-NEWSSTAND-PRESS-BLOCK\",\"blocks\":null,\"materials\":null,\"excludeInPaging\":false,\"positionForPaging\":0,\"realtime\":false,\"pid\":\"922\",\"name\":\"이투데이\",\"logoLight\":{\"url\":\"https://s.pstatic.net/static/newsstand/2020/logo/light/0604/922.png\"},\"logoDark\":{\"url\":\"https://s.pstatic.net/static/newsstand/2020/logo/dark/0604/922.png\"},\"showThumbnailView\":true,\"showListView\":true,\"regDate\":\"20240313 14:39:40\",\"_id\":null,\"@type\":\"PC-NEWSSTAND-PRESS-BLOCK\",\"@code\":null,\"@template\":\"NONE\",\"@flowId\":null,\"@flowExecutionId\":null,\"@provider\":null,\"@lastModifiedAt\":null},{\"@type\":\"PC-NEWSSTAND-PRESS-BLOCK\",\"blocks\":null,\"materials\":null,\"excludeInPaging\":false,\"positionForPaging\":0,\"realtime\":false,\"pid\":\"802\",\"name\":\"스포츠Q\",\"logoLight\":{\"url\":\"https://s.pstatic.net/static/newsstand/2020/logo/light/0604/802.png\"},\"logoDark\":{\"url\":\"https://s.pstatic.net/static/newsstand/2020/logo/dark/0604/802.png\"},\"showThumbnailView\":true,\"showListView\":true,\"regDate\":\"20240313 15:00:09\",\"_id\":null,\"@type\":\"PC-NEWSSTAND-PRESS-BLOCK\",\"@code\":null,\"@template\":\"NONE\",\"@flowId\":null,\"@flowExecutionId\":null,\"@provider\":null,\"@lastModifiedAt\":null},{\"@type\":\"PC-NEWSSTAND-PRESS-BLOCK\",\"blocks\":null,\"materials\":null,\"excludeInPaging\":false,\"positionForPaging\":0,\"realtime\":false,\"pid\":\"923\",\"name\":\"인민망\",\"logoLight\":{\"url\":\"https://s.pstatic.net/static/newsstand/2020/logo/light/0604/923.png\"},\"logoDark\":{\"url\":\"https://s.pstatic.net/static/newsstand/2020/logo/dark/0604/923.png\"},\"showThumbnailView\":true,\"showListView\":true,\"regDate\":\"20240313 12:30:02\",\"_id\":null,\"@type\":\"PC-NEWSSTAND-PRESS-BLOCK\",\"@code\":null,\"@template\":\"NONE\",\"@flowId\":null,\"@flowExecutionId\":null,\"@provider\":null,\"@lastModifiedAt\":null},{\"@type\":\"PC-NEWSSTAND-PRESS-BLOCK\",\"blocks\":null,\"materials\":null,\"excludeInPaging\":false,\"positionForPaging\":0,\"realtime\":false,\"pid\":\"803\",\"name\":\"인더스트리뉴스\",\"logoLight\":{\"url\":\"https://s.pstatic.net/static/newsstand/up/2021/0907/nsd9423633.png\"},\"logoDark\":{\"url\":\"https://s.pstatic.net/static/newsstand/up/2021/0907/nsd94216114.png\"},\"showThumbnailView\":true,\"showListView\":true,\"regDate\":\"20240313 15:00:10\",\"_id\":null,\"@type\":\"PC-NEWSSTAND-PRESS-BLOCK\",\"@code\":null,\"@template\":\"NONE\",\"@flowId\":null,\"@flowExecutionId\":null,\"@provider\":null,\"@lastModifiedAt\":null},{\"@type\":\"PC-NEWSSTAND-PRESS-BLOCK\",\"blocks\":null,\"materials\":null,\"excludeInPaging\":false,\"positionForPaging\":0,\"realtime\":false,\"pid\":\"924\",\"name\":\"인벤\",\"logoLight\":{\"url\":\"https://s.pstatic.net/static/newsstand/2020/logo/light/0604/924.png\"},\"logoDark\":{\"url\":\"https://s.pstatic.net/static/newsstand/2020/logo/dark/0604/924.png\"},\"showThumbnailView\":true,\"showListView\":true,\"regDate\":\"20240313 13:17:19\",\"_id\":null,\"@type\":\"PC-NEWSSTAND-PRESS-BLOCK\",\"@code\":null,\"@template\":\"NONE\",\"@flowId\":null,\"@flowExecutionId\":null,\"@provider\":null,\"@lastModifiedAt\":null},{\"@type\":\"PC-NEWSSTAND-PRESS-BLOCK\",\"blocks\":null,\"materials\":null,\"excludeInPaging\":false,\"positionForPaging\":0,\"realtime\":false,\"pid\":\"804\",\"name\":\"데이터뉴스\",\"logoLight\":{\"url\":\"https://s.pstatic.net/static/newsstand/2020/logo/light/0604/804.png\"},\"logoDark\":{\"url\":\"https://s.pstatic.net/static/newsstand/2020/logo/dark/0604/804.png\"},\"showThumbnailView\":true,\"showListView\":true,\"regDate\":\"20240313 15:00:03\",\"_id\":null,\"@type\":\"PC-NEWSSTAND-PRESS-BLOCK\",\"@code\":null,\"@template\":\"NONE\",\"@flowId\":null,\"@flowExecutionId\":null,\"@provider\":null,\"@lastModifiedAt\":null},{\"@type\":\"PC-NEWSSTAND-PRESS-BLOCK\",\"blocks\":null,\"materials\":null,\"excludeInPaging\":false,\"positionForPaging\":0,\"realtime\":false,\"pid\":\"925\",\"name\":\"일요신문\",\"logoLight\":{\"url\":\"https://s.pstatic.net/static/newsstand/2020/logo/light/0604/925.png\"},\"logoDark\":{\"url\":\"https://s.pstatic.net/static/newsstand/2020/logo/dark/0604/925.png\"},\"showThumbnailView\":true,\"showListView\":true,\"regDate\":\"20240313 11:16:49\",\"_id\":null,\"@type\":\"PC-NEWSSTAND-PRESS-BLOCK\",\"@code\":null,\"@template\":\"NONE\",\"@flowId\":null,\"@flowExecutionId\":null,\"@provider\":null,\"@lastModifiedAt\":null},{\"@type\":\"PC-NEWSSTAND-PRESS-BLOCK\",\"blocks\":null,\"materials\":null,\"excludeInPaging\":false,\"positionForPaging\":0,\"realtime\":false,\"pid\":\"805\",\"name\":\"한경잡앤조이\",\"logoLight\":{\"url\":\"https://s.pstatic.net/static/newsstand/up/2020/0615/nsd10319824.png\"},\"logoDark\":{\"url\":\"https://s.pstatic.net/static/newsstand/up/2020/0615/nsd10311145.png\"},\"showThumbnailView\":true,\"showListView\":true,\"regDate\":\"20240313 09:49:11\",\"_id\":null,\"@type\":\"PC-NEWSSTAND-PRESS-BLOCK\",\"@code\":null,\"@template\":\"NONE\",\"@flowId\":null,\"@flowExecutionId\":null,\"@provider\":null,\"@lastModifiedAt\":null},{\"@type\":\"PC-NEWSSTAND-PRESS-BLOCK\",\"blocks\":null,\"materials\":null,\"excludeInPaging\":false,\"positionForPaging\":0,\"realtime\":false,\"pid\":\"926\",\"name\":\"중부일보\",\"logoLight\":{\"url\":\"https://s.pstatic.net/static/newsstand/up/2022/0704/nsd231551300.png\"},\"logoDark\":{\"url\":\"https://s.pstatic.net/static/newsstand/up/2022/0704/nsd231545458.png\"},\"showThumbnailView\":true,\"showListView\":true,\"regDate\":\"20240312 21:49:09\",\"_id\":null,\"@type\":\"PC-NEWSSTAND-PRESS-BLOCK\",\"@code\":null,\"@template\":\"NONE\",\"@flowId\":null,\"@flowExecutionId\":null,\"@provider\":null,\"@lastModifiedAt\":null},{\"@type\":\"PC-NEWSSTAND-PRESS-BLOCK\",\"blocks\":null,\"materials\":null,\"excludeInPaging\":false,\"positionForPaging\":0,\"realtime\":false,\"pid\":\"806\",\"name\":\"머니\",\"logoLight\":{\"url\":\"https://s.pstatic.net/static/newsstand/2020/logo/light/0604/806.png\"},\"logoDark\":{\"url\":\"https://s.pstatic.net/static/newsstand/2020/logo/dark/0604/806.png\"},\"showThumbnailView\":true,\"showListView\":true,\"regDate\":\"20240313 09:26:48\",\"_id\":null,\"@type\":\"PC-NEWSSTAND-PRESS-BLOCK\",\"@code\":null,\"@template\":\"NONE\",\"@flowId\":null,\"@flowExecutionId\":null,\"@provider\":null,\"@lastModifiedAt\":null},{\"@type\":\"PC-NEWSSTAND-PRESS-BLOCK\",\"blocks\":null,\"materials\":null,\"excludeInPaging\":false,\"positionForPaging\":0,\"realtime\":false,\"pid\":\"927\",\"name\":\"충북일보\",\"logoLight\":{\"url\":\"https://s.pstatic.net/static/newsstand/2020/logo/light/0604/927.png\"},\"logoDark\":{\"url\":\"https://s.pstatic.net/static/newsstand/2020/logo/dark/0604/927.png\"},\"showThumbnailView\":true,\"showListView\":true,\"regDate\":\"20240312 19:52:05\",\"_id\":null,\"@type\":\"PC-NEWSSTAND-PRESS-BLOCK\",\"@code\":null,\"@template\":\"NONE\",\"@flowId\":null,\"@flowExecutionId\":null,\"@provider\":null,\"@lastModifiedAt\":null},{\"@type\":\"PC-NEWSSTAND-PRESS-BLOCK\",\"blocks\":null,\"materials\":null,\"excludeInPaging\":false,\"positionForPaging\":0,\"realtime\":false,\"pid\":\"807\",\"name\":\"인사이트코리아\",\"logoLight\":{\"url\":\"https://s.pstatic.net/static/newsstand/2020/logo/light/0604/807.png\"},\"logoDark\":{\"url\":\"https://s.pstatic.net/static/newsstand/2020/logo/dark/0604/807.png\"},\"showThumbnailView\":true,\"showListView\":true,\"regDate\":\"20240313 15:00:11\",\"_id\":null,\"@type\":\"PC-NEWSSTAND-PRESS-BLOCK\",\"@code\":null,\"@template\":\"NONE\",\"@flowId\":null,\"@flowExecutionId\":null,\"@provider\":null,\"@lastModifiedAt\":null},{\"@type\":\"PC-NEWSSTAND-PRESS-BLOCK\",\"blocks\":null,\"materials\":null,\"excludeInPaging\":false,\"positionForPaging\":0,\"realtime\":false,\"pid\":\"928\",\"name\":\"컴퓨터월드\",\"logoLight\":{\"url\":\"https://s.pstatic.net/static/newsstand/2020/logo/light/0604/928.png\"},\"logoDark\":{\"url\":\"https://s.pstatic.net/static/newsstand/2020/logo/dark/0604/928.png\"},\"showThumbnailView\":true,\"showListView\":true,\"regDate\":\"20240229 17:34:18\",\"_id\":null,\"@type\":\"PC-NEWSSTAND-PRESS-BLOCK\",\"@code\":null,\"@template\":\"NONE\",\"@flowId\":null,\"@flowExecutionId\":null,\"@provider\":null,\"@lastModifiedAt\":null},{\"@type\":\"PC-NEWSSTAND-PRESS-BLOCK\",\"blocks\":null,\"materials\":null,\"excludeInPaging\":false,\"positionForPaging\":0,\"realtime\":false,\"pid\":\"808\",\"name\":\"산업일보\",\"logoLight\":{\"url\":\"https://s.pstatic.net/static/newsstand/2020/logo/light/0604/808.png\"},\"logoDark\":{\"url\":\"https://s.pstatic.net/static/newsstand/2020/logo/dark/0604/808.png\"},\"showThumbnailView\":true,\"showListView\":true,\"regDate\":\"20240313 15:03:03\",\"_id\":null,\"@type\":\"PC-NEWSSTAND-PRESS-BLOCK\",\"@code\":null,\"@template\":\"NONE\",\"@flowId\":null,\"@flowExecutionId\":null,\"@provider\":null,\"@lastModifiedAt\":null},{\"@type\":\"PC-NEWSSTAND-PRESS-BLOCK\",\"blocks\":null,\"materials\":null,\"excludeInPaging\":false,\"positionForPaging\":0,\"realtime\":false,\"pid\":\"809\",\"name\":\"미디어펜\",\"logoLight\":{\"url\":\"https://s.pstatic.net/static/newsstand/2020/logo/light/0604/809.png\"},\"logoDark\":{\"url\":\"https://s.pstatic.net/static/newsstand/2020/logo/dark/0604/809.png\"},\"showThumbnailView\":true,\"showListView\":true,\"regDate\":\"20240313 15:01:32\",\"_id\":null,\"@type\":\"PC-NEWSSTAND-PRESS-BLOCK\",\"@code\":null,\"@template\":\"NONE\",\"@flowId\":null,\"@flowExecutionId\":null,\"@provider\":null,\"@lastModifiedAt\":null},{\"@type\":\"PC-NEWSSTAND-PRESS-BLOCK\",\"blocks\":null,\"materials\":null,\"excludeInPaging\":false,\"positionForPaging\":0,\"realtime\":false,\"pid\":\"011\",\"name\":\"서울경제\",\"logoLight\":{\"url\":\"https://s.pstatic.net/static/newsstand/2019/logo/011.png\"},\"logoDark\":{\"url\":\"https://s.pstatic.net/static/newsstand/2020/logo/dark/0604/011.png\"},\"showThumbnailView\":true,\"showListView\":true,\"regDate\":\"20240313 14:57:33\",\"_id\":null,\"@type\":\"PC-NEWSSTAND-PRESS-BLOCK\",\"@code\":null,\"@template\":\"NONE\",\"@flowId\":null,\"@flowExecutionId\":null,\"@provider\":null,\"@lastModifiedAt\":null},{\"@type\":\"PC-NEWSSTAND-PRESS-BLOCK\",\"blocks\":null,\"materials\":null,\"excludeInPaging\":false,\"positionForPaging\":0,\"realtime\":false,\"pid\":\"374\",\"name\":\"SBS Biz\",\"logoLight\":{\"url\":\"https://s.pstatic.net/static/newsstand/up/2020/1229/nsd165811867.png\"},\"logoDark\":{\"url\":\"https://s.pstatic.net/static/newsstand/up/2020/1229/nsd165811867.png\"},\"showThumbnailView\":true,\"showListView\":true,\"regDate\":\"20240313 14:00:31\",\"_id\":null,\"@type\":\"PC-NEWSSTAND-PRESS-BLOCK\",\"@code\":null,\"@template\":\"NONE\",\"@flowId\":null,\"@flowExecutionId\":null,\"@provider\":null,\"@lastModifiedAt\":null},{\"@type\":\"PC-NEWSSTAND-PRESS-BLOCK\",\"blocks\":null,\"materials\":null,\"excludeInPaging\":false,\"positionForPaging\":0,\"realtime\":false,\"pid\":\"013\",\"name\":\"연합인포맥스\",\"logoLight\":{\"url\":\"https://s.pstatic.net/static/newsstand/2020/logo/light/0604/013.png\"},\"logoDark\":{\"url\":\"https://s.pstatic.net/static/newsstand/2020/logo/dark/0604/013.png\"},\"showThumbnailView\":true,\"showListView\":true,\"regDate\":\"20240313 15:00:28\",\"_id\":null,\"@type\":\"PC-NEWSSTAND-PRESS-BLOCK\",\"@code\":null,\"@template\":\"NONE\",\"@flowId\":null,\"@flowExecutionId\":null,\"@provider\":null,\"@lastModifiedAt\":null},{\"@type\":\"PC-NEWSSTAND-PRESS-BLOCK\",\"blocks\":null,\"materials\":null,\"excludeInPaging\":false,\"positionForPaging\":0,\"realtime\":false,\"pid\":\"376\",\"name\":\"지지통신\",\"logoLight\":{\"url\":\"https://s.pstatic.net/static/newsstand/2020/logo/light/0604/376.png\"},\"logoDark\":{\"url\":\"https://s.pstatic.net/static/newsstand/2020/logo/dark/0604/376.png\"},\"showThumbnailView\":true,\"showListView\":true,\"regDate\":\"20240313 14:10:05\",\"_id\":null,\"@type\":\"PC-NEWSSTAND-PRESS-BLOCK\",\"@code\":null,\"@template\":\"NONE\",\"@flowId\":null,\"@flowExecutionId\":null,\"@provider\":null,\"@lastModifiedAt\":null},{\"@type\":\"PC-NEWSSTAND-PRESS-BLOCK\",\"blocks\":null,\"materials\":null,\"excludeInPaging\":false,\"positionForPaging\":0,\"realtime\":false,\"pid\":\"014\",\"name\":\"파이낸셜뉴스\",\"logoLight\":{\"url\":\"https://s.pstatic.net/static/newsstand/2020/logo/light/0604/014.png\"},\"logoDark\":{\"url\":\"https://s.pstatic.net/static/newsstand/2020/logo/dark/0604/014.png\"},\"showThumbnailView\":true,\"showListView\":true,\"regDate\":\"20240313 14:51:39\",\"_id\":null,\"@type\":\"PC-NEWSSTAND-PRESS-BLOCK\",\"@code\":null,\"@template\":\"NONE\",\"@flowId\":null,\"@flowExecutionId\":null,\"@provider\":null,\"@lastModifiedAt\":null},{\"@type\":\"PC-NEWSSTAND-PRESS-BLOCK\",\"blocks\":null,\"materials\":null,\"excludeInPaging\":false,\"positionForPaging\":0,\"realtime\":false,\"pid\":\"135\",\"name\":\"시사저널\",\"logoLight\":{\"url\":\"https://s.pstatic.net/static/newsstand/2020/logo/light/0604/135.png\"},\"logoDark\":{\"url\":\"https://s.pstatic.net/static/newsstand/2020/logo/dark/0604/135.png\"},\"showThumbnailView\":true,\"showListView\":true,\"regDate\":\"20240313 15:00:07\",\"_id\":null,\"@type\":\"PC-NEWSSTAND-PRESS-BLOCK\",\"@code\":null,\"@template\":\"NONE\",\"@flowId\":null,\"@flowExecutionId\":null,\"@provider\":null,\"@lastModifiedAt\":null},{\"@type\":\"PC-NEWSSTAND-PRESS-BLOCK\",\"blocks\":null,\"materials\":null,\"excludeInPaging\":false,\"positionForPaging\":0,\"realtime\":false,\"pid\":\"015\",\"name\":\"한국경제\",\"logoLight\":{\"url\":\"https://s.pstatic.net/static/newsstand/2020/logo/light/0604/015.png\"},\"logoDark\":{\"url\":\"https://s.pstatic.net/static/newsstand/2020/logo/dark/0604/015.png\"},\"showThumbnailView\":true,\"showListView\":true,\"regDate\":\"20240313 14:31:24\",\"_id\":null,\"@type\":\"PC-NEWSSTAND-PRESS-BLOCK\",\"@code\":null,\"@template\":\"NONE\",\"@flowId\":null,\"@flowExecutionId\":null,\"@provider\":null,\"@lastModifiedAt\":null},{\"@type\":\"PC-NEWSSTAND-PRESS-BLOCK\",\"blocks\":null,\"materials\":null,\"excludeInPaging\":false,\"positionForPaging\":0,\"realtime\":false,\"pid\":\"016\",\"name\":\"헤럴드경제\",\"logoLight\":{\"url\":\"https://s.pstatic.net/static/newsstand/2020/logo/light/0604/016.png\"},\"logoDark\":{\"url\":\"https://s.pstatic.net/static/newsstand/2020/logo/dark/0604/016.png\"},\"showThumbnailView\":true,\"showListView\":true,\"regDate\":\"20240313 14:52:53\",\"_id\":null,\"@type\":\"PC-NEWSSTAND-PRESS-BLOCK\",\"@code\":null,\"@template\":\"NONE\",\"@flowId\":null,\"@flowExecutionId\":null,\"@provider\":null,\"@lastModifiedAt\":null},{\"@type\":\"PC-NEWSSTAND-PRESS-BLOCK\",\"blocks\":null,\"materials\":null,\"excludeInPaging\":false,\"positionForPaging\":0,\"realtime\":false,\"pid\":\"138\",\"name\":\"디지털데일리\",\"logoLight\":{\"url\":\"https://s.pstatic.net/static/newsstand/2020/logo/light/0604/138.png\"},\"logoDark\":{\"url\":\"https://s.pstatic.net/static/newsstand/2020/logo/dark/0604/138.png\"},\"showThumbnailView\":true,\"showListView\":true,\"regDate\":\"20240312 17:57:57\",\"_id\":null,\"@type\":\"PC-NEWSSTAND-PRESS-BLOCK\",\"@code\":null,\"@template\":\"NONE\",\"@flowId\":null,\"@flowExecutionId\":null,\"@provider\":null,\"@lastModifiedAt\":null},{\"@type\":\"PC-NEWSSTAND-PRESS-BLOCK\",\"blocks\":null,\"materials\":null,\"excludeInPaging\":false,\"positionForPaging\":0,\"realtime\":false,\"pid\":\"930\",\"name\":\"뉴스타파\",\"logoLight\":{\"url\":\"https://s.pstatic.net/static/newsstand/2020/logo/light/0604/930.png\"},\"logoDark\":{\"url\":\"https://s.pstatic.net/static/newsstand/2020/logo/dark/0604/930.png\"},\"showThumbnailView\":true,\"showListView\":true,\"regDate\":\"20240313 15:02:02\",\"_id\":null,\"@type\":\"PC-NEWSSTAND-PRESS-BLOCK\",\"@code\":null,\"@template\":\"NONE\",\"@flowId\":null,\"@flowExecutionId\":null,\"@provider\":null,\"@lastModifiedAt\":null},{\"@type\":\"PC-NEWSSTAND-PRESS-BLOCK\",\"blocks\":null,\"materials\":null,\"excludeInPaging\":false,\"positionForPaging\":0,\"realtime\":false,\"pid\":\"018\",\"name\":\"이데일리\",\"logoLight\":{\"url\":\"https://s.pstatic.net/static/newsstand/2020/logo/light/0604/018.png\"},\"logoDark\":{\"url\":\"https://s.pstatic.net/static/newsstand/2020/logo/dark/0604/018.png\"},\"showThumbnailView\":true,\"showListView\":true,\"regDate\":\"20240313 15:03:26\",\"_id\":null,\"@type\":\"PC-NEWSSTAND-PRESS-BLOCK\",\"@code\":null,\"@template\":\"NONE\",\"@flowId\":null,\"@flowExecutionId\":null,\"@provider\":null,\"@lastModifiedAt\":null},{\"@type\":\"PC-NEWSSTAND-PRESS-BLOCK\",\"blocks\":null,\"materials\":null,\"excludeInPaging\":false,\"positionForPaging\":0,\"realtime\":false,\"pid\":\"139\",\"name\":\"스포탈코리아\",\"logoLight\":{\"url\":\"https://s.pstatic.net/static/newsstand/2020/logo/light/0604/139.png\"},\"logoDark\":{\"url\":\"https://s.pstatic.net/static/newsstand/2020/logo/dark/0604/139.png\"},\"showThumbnailView\":true,\"showListView\":true,\"regDate\":\"20240312 16:08:15\",\"_id\":null,\"@type\":\"PC-NEWSSTAND-PRESS-BLOCK\",\"@code\":null,\"@template\":\"NONE\",\"@flowId\":null,\"@flowExecutionId\":null,\"@provider\":null,\"@lastModifiedAt\":null},{\"@type\":\"PC-NEWSSTAND-PRESS-BLOCK\",\"blocks\":null,\"materials\":null,\"excludeInPaging\":false,\"positionForPaging\":0,\"realtime\":false,\"pid\":\"810\",\"name\":\"신아일보\",\"logoLight\":{\"url\":\"https://s.pstatic.net/static/newsstand/up/2021/0316/nsd103953129.png\"},\"logoDark\":{\"url\":\"https://s.pstatic.net/static/newsstand/up/2021/0316/nsd104012979.png\"},\"showThumbnailView\":true,\"showListView\":true,\"regDate\":\"20240313 15:00:11\",\"_id\":null,\"@type\":\"PC-NEWSSTAND-PRESS-BLOCK\",\"@code\":null,\"@template\":\"NONE\",\"@flowId\":null,\"@flowExecutionId\":null,\"@provider\":null,\"@lastModifiedAt\":null},{\"@type\":\"PC-NEWSSTAND-PRESS-BLOCK\",\"blocks\":null,\"materials\":null,\"excludeInPaging\":false,\"positionForPaging\":0,\"realtime\":false,\"pid\":\"811\",\"name\":\"한국농어촌방송\",\"logoLight\":{\"url\":\"https://s.pstatic.net/static/newsstand/up/2022/0315/nsd181452869.png\"},\"logoDark\":{\"url\":\"https://s.pstatic.net/static/newsstand/up/2022/0315/nsd18156958.png\"},\"showThumbnailView\":true,\"showListView\":true,\"regDate\":\"20240313 14:50:12\",\"_id\":null,\"@type\":\"PC-NEWSSTAND-PRESS-BLOCK\",\"@code\":null,\"@template\":\"NONE\",\"@flowId\":null,\"@flowExecutionId\":null,\"@provider\":null,\"@lastModifiedAt\":null},{\"@type\":\"PC-NEWSSTAND-PRESS-BLOCK\",\"blocks\":null,\"materials\":null,\"excludeInPaging\":false,\"positionForPaging\":0,\"realtime\":false,\"pid\":\"932\",\"name\":\"CEO스코어데일리\",\"logoLight\":{\"url\":\"https://s.pstatic.net/static/newsstand/2020/logo/light/0604/932.png\"},\"logoDark\":{\"url\":\"https://s.pstatic.net/static/newsstand/2020/logo/dark/0604/932.png\"},\"showThumbnailView\":true,\"showListView\":true,\"regDate\":\"20240313 07:52:03\",\"_id\":null,\"@type\":\"PC-NEWSSTAND-PRESS-BLOCK\",\"@code\":null,\"@template\":\"NONE\",\"@flowId\":null,\"@flowExecutionId\":null,\"@provider\":null,\"@lastModifiedAt\":null},{\"@type\":\"PC-NEWSSTAND-PRESS-BLOCK\",\"blocks\":null,\"materials\":null,\"excludeInPaging\":false,\"positionForPaging\":0,\"realtime\":false,\"pid\":\"812\",\"name\":\"데일리임팩트\",\"logoLight\":{\"url\":\"https://s.pstatic.net/static/newsstand/up/2021/0819/nsd151219656.png\"},\"logoDark\":{\"url\":\"https://s.pstatic.net/static/newsstand/up/2021/0819/nsd151254429.png\"},\"showThumbnailView\":true,\"showListView\":true,\"regDate\":\"20240313 14:50:13\",\"_id\":null,\"@type\":\"PC-NEWSSTAND-PRESS-BLOCK\",\"@code\":null,\"@template\":\"NONE\",\"@flowId\":null,\"@flowExecutionId\":null,\"@provider\":null,\"@lastModifiedAt\":null},{\"@type\":\"PC-NEWSSTAND-PRESS-BLOCK\",\"blocks\":null,\"materials\":null,\"excludeInPaging\":false,\"positionForPaging\":0,\"realtime\":false,\"pid\":\"813\",\"name\":\"이코노믹리뷰\",\"logoLight\":{\"url\":\"https://s.pstatic.net/static/newsstand/up/2022/0418/nsd164755323.png\"},\"logoDark\":{\"url\":\"https://s.pstatic.net/static/newsstand/up/2022/0418/nsd164818946.png\"},\"showThumbnailView\":true,\"showListView\":true,\"regDate\":\"20240313 15:00:15\",\"_id\":null,\"@type\":\"PC-NEWSSTAND-PRESS-BLOCK\",\"@code\":null,\"@template\":\"NONE\",\"@flowId\":null,\"@flowExecutionId\":null,\"@provider\":null,\"@lastModifiedAt\":null},{\"@type\":\"PC-NEWSSTAND-PRESS-BLOCK\",\"blocks\":null,\"materials\":null,\"excludeInPaging\":false,\"positionForPaging\":0,\"realtime\":false,\"pid\":\"934\",\"name\":\"Arirang TV\",\"logoLight\":{\"url\":\"https://s.pstatic.net/static/newsstand/2020/logo/light/0604/934.png\"},\"logoDark\":{\"url\":\"https://s.pstatic.net/static/newsstand/2020/logo/dark/0604/934.png\"},\"showThumbnailView\":true,\"showListView\":true,\"regDate\":\"20240313 14:39:04\",\"_id\":null,\"@type\":\"PC-NEWSSTAND-PRESS-BLOCK\",\"@code\":null,\"@template\":\"NONE\",\"@flowId\":null,\"@flowExecutionId\":null,\"@provider\":null,\"@lastModifiedAt\":null},{\"@type\":\"PC-NEWSSTAND-PRESS-BLOCK\",\"blocks\":null,\"materials\":null,\"excludeInPaging\":false,\"positionForPaging\":0,\"realtime\":false,\"pid\":\"814\",\"name\":\"미주한국일보\",\"logoLight\":{\"url\":\"https://s.pstatic.net/static/newsstand/2020/logo/light/0604/814.png\"},\"logoDark\":{\"url\":\"https://s.pstatic.net/static/newsstand/2020/logo/dark/0604/814.png\"},\"showThumbnailView\":true,\"showListView\":true,\"regDate\":\"20240313 11:38:46\",\"_id\":null,\"@type\":\"PC-NEWSSTAND-PRESS-BLOCK\",\"@code\":null,\"@template\":\"NONE\",\"@flowId\":null,\"@flowExecutionId\":null,\"@provider\":null,\"@lastModifiedAt\":null},{\"@type\":\"PC-NEWSSTAND-PRESS-BLOCK\",\"blocks\":null,\"materials\":null,\"excludeInPaging\":false,\"positionForPaging\":0,\"realtime\":false,\"pid\":\"935\",\"name\":\"경상일보\",\"logoLight\":{\"url\":\"https://s.pstatic.net/static/newsstand/2020/logo/light/0604/935.png\"},\"logoDark\":{\"url\":\"https://s.pstatic.net/static/newsstand/2020/logo/dark/0604/935.png\"},\"showThumbnailView\":true,\"showListView\":true,\"regDate\":\"20240312 14:38:07\",\"_id\":null,\"@type\":\"PC-NEWSSTAND-PRESS-BLOCK\",\"@code\":null,\"@template\":\"NONE\",\"@flowId\":null,\"@flowExecutionId\":null,\"@provider\":null,\"@lastModifiedAt\":null},{\"@type\":\"PC-NEWSSTAND-PRESS-BLOCK\",\"blocks\":null,\"materials\":null,\"excludeInPaging\":false,\"positionForPaging\":0,\"realtime\":false,\"pid\":\"815\",\"name\":\"법률방송뉴스\",\"logoLight\":{\"url\":\"https://s.pstatic.net/static/newsstand/2020/logo/light/0604/815.png\"},\"logoDark\":{\"url\":\"https://s.pstatic.net/static/newsstand/2020/logo/dark/0604/815.png\"},\"showThumbnailView\":true,\"showListView\":true,\"regDate\":\"20240313 15:00:14\",\"_id\":null,\"@type\":\"PC-NEWSSTAND-PRESS-BLOCK\",\"@code\":null,\"@template\":\"NONE\",\"@flowId\":null,\"@flowExecutionId\":null,\"@provider\":null,\"@lastModifiedAt\":null},{\"@type\":\"PC-NEWSSTAND-PRESS-BLOCK\",\"blocks\":null,\"materials\":null,\"excludeInPaging\":false,\"positionForPaging\":0,\"realtime\":false,\"pid\":\"936\",\"name\":\"대구일보\",\"logoLight\":{\"url\":\"https://s.pstatic.net/static/newsstand/2020/logo/light/0604/936.png\"},\"logoDark\":{\"url\":\"https://s.pstatic.net/static/newsstand/2020/logo/dark/0604/936.png\"},\"showThumbnailView\":true,\"showListView\":true,\"regDate\":\"20240310 12:21:58\",\"_id\":null,\"@type\":\"PC-NEWSSTAND-PRESS-BLOCK\",\"@code\":null,\"@template\":\"NONE\",\"@flowId\":null,\"@flowExecutionId\":null,\"@provider\":null,\"@lastModifiedAt\":null},{\"@type\":\"PC-NEWSSTAND-PRESS-BLOCK\",\"blocks\":null,\"materials\":null,\"excludeInPaging\":false,\"positionForPaging\":0,\"realtime\":false,\"pid\":\"816\",\"name\":\"시사오늘\",\"logoLight\":{\"url\":\"https://s.pstatic.net/static/newsstand/2020/logo/light/0604/816.png\"},\"logoDark\":{\"url\":\"https://s.pstatic.net/static/newsstand/2020/logo/dark/0604/816.png\"},\"showThumbnailView\":true,\"showListView\":true,\"regDate\":\"20240313 15:00:15\",\"_id\":null,\"@type\":\"PC-NEWSSTAND-PRESS-BLOCK\",\"@code\":null,\"@template\":\"NONE\",\"@flowId\":null,\"@flowExecutionId\":null,\"@provider\":null,\"@lastModifiedAt\":null},{\"@type\":\"PC-NEWSSTAND-PRESS-BLOCK\",\"blocks\":null,\"materials\":null,\"excludeInPaging\":false,\"positionForPaging\":0,\"realtime\":false,\"pid\":\"937\",\"name\":\"전북도민일보\",\"logoLight\":{\"url\":\"https://s.pstatic.net/static/newsstand/2020/logo/light/0604/937.png\"},\"logoDark\":{\"url\":\"https://s.pstatic.net/static/newsstand/2020/logo/dark/0604/937.png\"},\"showThumbnailView\":true,\"showListView\":true,\"regDate\":\"20240313 09:14:54\",\"_id\":null,\"@type\":\"PC-NEWSSTAND-PRESS-BLOCK\",\"@code\":null,\"@template\":\"NONE\",\"@flowId\":null,\"@flowExecutionId\":null,\"@provider\":null,\"@lastModifiedAt\":null},{\"@type\":\"PC-NEWSSTAND-PRESS-BLOCK\",\"blocks\":null,\"materials\":null,\"excludeInPaging\":false,\"positionForPaging\":0,\"realtime\":false,\"pid\":\"817\",\"name\":\"미디어제주\",\"logoLight\":{\"url\":\"https://s.pstatic.net/static/newsstand/2020/logo/light/0604/817.png\"},\"logoDark\":{\"url\":\"https://s.pstatic.net/static/newsstand/2020/logo/dark/0604/817.png\"},\"showThumbnailView\":true,\"showListView\":true,\"regDate\":\"20240313 14:50:16\",\"_id\":null,\"@type\":\"PC-NEWSSTAND-PRESS-BLOCK\",\"@code\":null,\"@template\":\"NONE\",\"@flowId\":null,\"@flowExecutionId\":null,\"@provider\":null,\"@lastModifiedAt\":null},{\"@type\":\"PC-NEWSSTAND-PRESS-BLOCK\",\"blocks\":null,\"materials\":null,\"excludeInPaging\":false,\"positionForPaging\":0,\"realtime\":false,\"pid\":\"938\",\"name\":\"그린포스트코리아\",\"logoLight\":{\"url\":\"https://s.pstatic.net/static/newsstand/2020/logo/light/0604/938.png\"},\"logoDark\":{\"url\":\"https://s.pstatic.net/static/newsstand/2020/logo/dark/0604/938.png\"},\"showThumbnailView\":true,\"showListView\":true,\"regDate\":\"20240313 15:00:32\",\"_id\":null,\"@type\":\"PC-NEWSSTAND-PRESS-BLOCK\",\"@code\":null,\"@template\":\"NONE\",\"@flowId\":null,\"@flowExecutionId\":null,\"@provider\":null,\"@lastModifiedAt\":null},{\"@type\":\"PC-NEWSSTAND-PRESS-BLOCK\",\"blocks\":null,\"materials\":null,\"excludeInPaging\":false,\"positionForPaging\":0,\"realtime\":false,\"pid\":\"818\",\"name\":\"IT동아\",\"logoLight\":{\"url\":\"https://s.pstatic.net/static/newsstand/2020/logo/light/0604/818.png\"},\"logoDark\":{\"url\":\"https://s.pstatic.net/static/newsstand/2020/logo/dark/0604/818.png\"},\"showThumbnailView\":true,\"showListView\":true,\"regDate\":\"20240312 21:49:16\",\"_id\":null,\"@type\":\"PC-NEWSSTAND-PRESS-BLOCK\",\"@code\":null,\"@template\":\"NONE\",\"@flowId\":null,\"@flowExecutionId\":null,\"@provider\":null,\"@lastModifiedAt\":null},{\"@type\":\"PC-NEWSSTAND-PRESS-BLOCK\",\"blocks\":null,\"materials\":null,\"excludeInPaging\":false,\"positionForPaging\":0,\"realtime\":false,\"pid\":\"819\",\"name\":\"바이라인네트워크\",\"logoLight\":{\"url\":\"https://s.pstatic.net/static/newsstand/2020/logo/light/0604/819.png\"},\"logoDark\":{\"url\":\"https://s.pstatic.net/static/newsstand/2020/logo/dark/0604/819.png\"},\"showThumbnailView\":true,\"showListView\":true,\"regDate\":\"20240313 14:39:31\",\"_id\":null,\"@type\":\"PC-NEWSSTAND-PRESS-BLOCK\",\"@code\":null,\"@template\":\"NONE\",\"@flowId\":null,\"@flowExecutionId\":null,\"@provider\":null,\"@lastModifiedAt\":null},{\"@type\":\"PC-NEWSSTAND-PRESS-BLOCK\",\"blocks\":null,\"materials\":null,\"excludeInPaging\":false,\"positionForPaging\":0,\"realtime\":false,\"pid\":\"140\",\"name\":\"씨네21\",\"logoLight\":{\"url\":\"https://s.pstatic.net/static/newsstand/2020/logo/light/0604/140.png\"},\"logoDark\":{\"url\":\"https://s.pstatic.net/static/newsstand/2020/logo/dark/0604/140.png\"},\"showThumbnailView\":true,\"showListView\":true,\"regDate\":\"20240313 15:00:00\",\"_id\":null,\"@type\":\"PC-NEWSSTAND-PRESS-BLOCK\",\"@code\":null,\"@template\":\"NONE\",\"@flowId\":null,\"@flowExecutionId\":null,\"@provider\":null,\"@lastModifiedAt\":null},{\"@type\":\"PC-NEWSSTAND-PRESS-BLOCK\",\"blocks\":null,\"materials\":null,\"excludeInPaging\":false,\"positionForPaging\":0,\"realtime\":false,\"pid\":\"020\",\"name\":\"동아일보\",\"logoLight\":{\"url\":\"https://s.pstatic.net/static/newsstand/2020/logo/light/0604/020.png\"},\"logoDark\":{\"url\":\"https://s.pstatic.net/static/newsstand/2020/logo/dark/0604/020.png\"},\"showThumbnailView\":true,\"showListView\":true,\"regDate\":\"20240313 14:57:58\",\"_id\":null,\"@type\":\"PC-NEWSSTAND-PRESS-BLOCK\",\"@code\":null,\"@template\":\"NONE\",\"@flowId\":null,\"@flowExecutionId\":null,\"@provider\":null,\"@lastModifiedAt\":null},{\"@type\":\"PC-NEWSSTAND-PRESS-BLOCK\",\"blocks\":null,\"materials\":null,\"excludeInPaging\":false,\"positionForPaging\":0,\"realtime\":false,\"pid\":\"021\",\"name\":\"문화일보\",\"logoLight\":{\"url\":\"https://s.pstatic.net/static/newsstand/2020/logo/light/0604/021.png\"},\"logoDark\":{\"url\":\"https://s.pstatic.net/static/newsstand/2020/logo/dark/0604/021.png\"},\"showThumbnailView\":true,\"showListView\":true,\"regDate\":\"20240313 14:46:58\",\"_id\":null,\"@type\":\"PC-NEWSSTAND-PRESS-BLOCK\",\"@code\":null,\"@template\":\"NONE\",\"@flowId\":null,\"@flowExecutionId\":null,\"@provider\":null,\"@lastModifiedAt\":null},{\"@type\":\"PC-NEWSSTAND-PRESS-BLOCK\",\"blocks\":null,\"materials\":null,\"excludeInPaging\":false,\"positionForPaging\":0,\"realtime\":false,\"pid\":\"384\",\"name\":\"한국대학신문\",\"logoLight\":{\"url\":\"https://s.pstatic.net/static/newsstand/2020/logo/light/0604/384.png\"},\"logoDark\":{\"url\":\"https://s.pstatic.net/static/newsstand/2020/logo/dark/0604/384.png\"},\"showThumbnailView\":true,\"showListView\":true,\"regDate\":\"20240313 15:00:05\",\"_id\":null,\"@type\":\"PC-NEWSSTAND-PRESS-BLOCK\",\"@code\":null,\"@template\":\"NONE\",\"@flowId\":null,\"@flowExecutionId\":null,\"@provider\":null,\"@lastModifiedAt\":null},{\"@type\":\"PC-NEWSSTAND-PRESS-BLOCK\",\"blocks\":null,\"materials\":null,\"excludeInPaging\":false,\"positionForPaging\":0,\"realtime\":false,\"pid\":\"022\",\"name\":\"세계일보\",\"logoLight\":{\"url\":\"https://s.pstatic.net/static/newsstand/2020/logo/light/0604/022.png\"},\"logoDark\":{\"url\":\"https://s.pstatic.net/static/newsstand/2020/logo/dark/0604/022.png\"},\"showThumbnailView\":true,\"showListView\":true,\"regDate\":\"20240313 14:52:44\",\"_id\":null,\"@type\":\"PC-NEWSSTAND-PRESS-BLOCK\",\"@code\":null,\"@template\":\"NONE\",\"@flowId\":null,\"@flowExecutionId\":null,\"@provider\":null,\"@lastModifiedAt\":null},{\"@type\":\"PC-NEWSSTAND-PRESS-BLOCK\",\"blocks\":null,\"materials\":null,\"excludeInPaging\":false,\"positionForPaging\":0,\"realtime\":false,\"pid\":\"143\",\"name\":\"쿠키뉴스\",\"logoLight\":{\"url\":\"https://s.pstatic.net/static/newsstand/up/2022/0823/nsd105911492.png\"},\"logoDark\":{\"url\":\"https://s.pstatic.net/static/newsstand/up/2022/0819/nsd181056744.png\"},\"showThumbnailView\":true,\"showListView\":true,\"regDate\":\"20240313 14:07:29\",\"_id\":null,\"@type\":\"PC-NEWSSTAND-PRESS-BLOCK\",\"@code\":null,\"@template\":\"NONE\",\"@flowId\":null,\"@flowExecutionId\":null,\"@provider\":null,\"@lastModifiedAt\":null},{\"@type\":\"PC-NEWSSTAND-PRESS-BLOCK\",\"blocks\":null,\"materials\":null,\"excludeInPaging\":false,\"positionForPaging\":0,\"realtime\":false,\"pid\":\"385\",\"name\":\"영남일보\",\"logoLight\":{\"url\":\"https://s.pstatic.net/static/newsstand/2020/logo/light/0604/385.png\"},\"logoDark\":{\"url\":\"https://s.pstatic.net/static/newsstand/2020/logo/dark/0604/385.png\"},\"showThumbnailView\":true,\"showListView\":true,\"regDate\":\"20240313 15:00:06\",\"_id\":null,\"@type\":\"PC-NEWSSTAND-PRESS-BLOCK\",\"@code\":null,\"@template\":\"NONE\",\"@flowId\":null,\"@flowExecutionId\":null,\"@provider\":null,\"@lastModifiedAt\":null},{\"@type\":\"PC-NEWSSTAND-PRESS-BLOCK\",\"blocks\":null,\"materials\":null,\"excludeInPaging\":false,\"positionForPaging\":0,\"realtime\":false,\"pid\":\"023\",\"name\":\"조선일보\",\"logoLight\":{\"url\":\"https://s.pstatic.net/static/newsstand/up/2020/0903/nsd185255316.png\"},\"logoDark\":{\"url\":\"https://s.pstatic.net/static/newsstand/up/2020/0903/nsd185246724.png\"},\"showThumbnailView\":true,\"showListView\":true,\"regDate\":\"20240313 14:45:14\",\"_id\":null,\"@type\":\"PC-NEWSSTAND-PRESS-BLOCK\",\"@code\":null,\"@template\":\"NONE\",\"@flowId\":null,\"@flowExecutionId\":null,\"@provider\":null,\"@lastModifiedAt\":null},{\"@type\":\"PC-NEWSSTAND-PRESS-BLOCK\",\"blocks\":null,\"materials\":null,\"excludeInPaging\":false,\"positionForPaging\":0,\"realtime\":false,\"pid\":\"144\",\"name\":\"스포츠경향\",\"logoLight\":{\"url\":\"https://s.pstatic.net/static/newsstand/2020/logo/light/0604/144.png\"},\"logoDark\":{\"url\":\"https://s.pstatic.net/static/newsstand/2020/logo/dark/0604/144.png\"},\"showThumbnailView\":true,\"showListView\":true,\"regDate\":\"20240313 13:40:01\",\"_id\":null,\"@type\":\"PC-NEWSSTAND-PRESS-BLOCK\",\"@code\":null,\"@template\":\"NONE\",\"@flowId\":null,\"@flowExecutionId\":null,\"@provider\":null,\"@lastModifiedAt\":null},{\"@type\":\"PC-NEWSSTAND-PRESS-BLOCK\",\"blocks\":null,\"materials\":null,\"excludeInPaging\":false,\"positionForPaging\":0,\"realtime\":false,\"pid\":\"024\",\"name\":\"매경이코노미\",\"logoLight\":{\"url\":\"https://s.pstatic.net/static/newsstand/2020/logo/light/0604/024.png\"},\"logoDark\":{\"url\":\"https://s.pstatic.net/static/newsstand/2020/logo/dark/0604/024.png\"},\"showThumbnailView\":true,\"showListView\":true,\"regDate\":\"20240313 15:04:01\",\"_id\":null,\"@type\":\"PC-NEWSSTAND-PRESS-BLOCK\",\"@code\":null,\"@template\":\"NONE\",\"@flowId\":null,\"@flowExecutionId\":null,\"@provider\":null,\"@lastModifiedAt\":null},{\"@type\":\"PC-NEWSSTAND-PRESS-BLOCK\",\"blocks\":null,\"materials\":null,\"excludeInPaging\":false,\"positionForPaging\":0,\"realtime\":false,\"pid\":\"387\",\"name\":\"인천일보\",\"logoLight\":{\"url\":\"https://s.pstatic.net/static/newsstand/up/2022/0331/nsd155937506.png\"},\"logoDark\":{\"url\":\"https://s.pstatic.net/static/newsstand/up/2022/0331/nsd15594915.png\"},\"showThumbnailView\":true,\"showListView\":true,\"regDate\":\"20240313 15:00:02\",\"_id\":null,\"@type\":\"PC-NEWSSTAND-PRESS-BLOCK\",\"@code\":null,\"@template\":\"NONE\",\"@flowId\":null,\"@flowExecutionId\":null,\"@provider\":null,\"@lastModifiedAt\":null},{\"@type\":\"PC-NEWSSTAND-PRESS-BLOCK\",\"blocks\":null,\"materials\":null,\"excludeInPaging\":false,\"positionForPaging\":0,\"realtime\":false,\"pid\":\"025\",\"name\":\"중앙일보\",\"logoLight\":{\"url\":\"https://s.pstatic.net/static/newsstand/up/2021/0824/nsd115034872.png\"},\"logoDark\":{\"url\":\"https://s.pstatic.net/static/newsstand/up/2021/0823/nsd101834185.png\"},\"showThumbnailView\":true,\"showListView\":true,\"regDate\":\"20240313 14:57:08\",\"_id\":null,\"@type\":\"PC-NEWSSTAND-PRESS-BLOCK\",\"@code\":null,\"@template\":\"NONE\",\"@flowId\":null,\"@flowExecutionId\":null,\"@provider\":null,\"@lastModifiedAt\":null},{\"@type\":\"PC-NEWSSTAND-PRESS-BLOCK\",\"blocks\":null,\"materials\":null,\"excludeInPaging\":false,\"positionForPaging\":0,\"realtime\":false,\"pid\":\"388\",\"name\":\"전남일보\",\"logoLight\":{\"url\":\"https://s.pstatic.net/static/newsstand/2020/logo/light/0604/388.png\"},\"logoDark\":{\"url\":\"https://s.pstatic.net/static/newsstand/2020/logo/dark/0604/388.png\"},\"showThumbnailView\":true,\"showListView\":true,\"regDate\":\"20240313 15:05:01\",\"_id\":null,\"@type\":\"PC-NEWSSTAND-PRESS-BLOCK\",\"@code\":null,\"@template\":\"NONE\",\"@flowId\":null,\"@flowExecutionId\":null,\"@provider\":null,\"@lastModifiedAt\":null},{\"@type\":\"PC-NEWSSTAND-PRESS-BLOCK\",\"blocks\":null,\"materials\":null,\"excludeInPaging\":false,\"positionForPaging\":0,\"realtime\":false,\"pid\":\"389\",\"name\":\"제주도민일보\",\"logoLight\":{\"url\":\"https://s.pstatic.net/static/newsstand/2020/logo/light/0604/389.png\"},\"logoDark\":{\"url\":\"https://s.pstatic.net/static/newsstand/2020/logo/dark/0604/389.png\"},\"showThumbnailView\":true,\"showListView\":true,\"regDate\":\"20240313 15:00:20\",\"_id\":null,\"@type\":\"PC-NEWSSTAND-PRESS-BLOCK\",\"@code\":null,\"@template\":\"NONE\",\"@flowId\":null,\"@flowExecutionId\":null,\"@provider\":null,\"@lastModifiedAt\":null},{\"@type\":\"PC-NEWSSTAND-PRESS-BLOCK\",\"blocks\":null,\"materials\":null,\"excludeInPaging\":false,\"positionForPaging\":0,\"realtime\":false,\"pid\":\"940\",\"name\":\"스포츠투데이\",\"logoLight\":{\"url\":\"https://s.pstatic.net/static/newsstand/up/2022/0328/nsd223244325.png\"},\"logoDark\":{\"url\":\"https://s.pstatic.net/static/newsstand/up/2022/0328/nsd223257107.png\"},\"showThumbnailView\":true,\"showListView\":true,\"regDate\":\"20240313 10:50:01\",\"_id\":null,\"@type\":\"PC-NEWSSTAND-PRESS-BLOCK\",\"@code\":null,\"@template\":\"NONE\",\"@flowId\":null,\"@flowExecutionId\":null,\"@provider\":null,\"@lastModifiedAt\":null},{\"@type\":\"PC-NEWSSTAND-PRESS-BLOCK\",\"blocks\":null,\"materials\":null,\"excludeInPaging\":false,\"positionForPaging\":0,\"realtime\":false,\"pid\":\"028\",\"name\":\"한겨레\",\"logoLight\":{\"url\":\"https://s.pstatic.net/static/newsstand/up/2024/0219/nsd145828169.png\"},\"logoDark\":{\"url\":\"https://s.pstatic.net/static/newsstand/up/2024/0219/nsd14592425.png\"},\"showThumbnailView\":true,\"showListView\":true,\"regDate\":\"20240313 15:03:34\",\"_id\":null,\"@type\":\"PC-NEWSSTAND-PRESS-BLOCK\",\"@code\":null,\"@template\":\"NONE\",\"@flowId\":null,\"@flowExecutionId\":null,\"@provider\":null,\"@lastModifiedAt\":null},{\"@type\":\"PC-NEWSSTAND-PRESS-BLOCK\",\"blocks\":null,\"materials\":null,\"excludeInPaging\":false,\"positionForPaging\":0,\"realtime\":false,\"pid\":\"820\",\"name\":\"월간노동법률\",\"logoLight\":{\"url\":\"https://s.pstatic.net/static/newsstand/up/2022/0817/nsd14480190.png\"},\"logoDark\":{\"url\":\"https://s.pstatic.net/static/newsstand/up/2022/0817/nsd144754102.png\"},\"showThumbnailView\":true,\"showListView\":true,\"regDate\":\"20240313 14:30:34\",\"_id\":null,\"@type\":\"PC-NEWSSTAND-PRESS-BLOCK\",\"@code\":null,\"@template\":\"NONE\",\"@flowId\":null,\"@flowExecutionId\":null,\"@provider\":null,\"@lastModifiedAt\":null},{\"@type\":\"PC-NEWSSTAND-PRESS-BLOCK\",\"blocks\":null,\"materials\":null,\"excludeInPaging\":false,\"positionForPaging\":0,\"realtime\":false,\"pid\":\"941\",\"name\":\"초이스경제\",\"logoLight\":{\"url\":\"https://s.pstatic.net/static/newsstand/2020/logo/light/0604/941.png\"},\"logoDark\":{\"url\":\"https://s.pstatic.net/static/newsstand/2020/logo/dark/0604/941.png\"},\"showThumbnailView\":true,\"showListView\":true,\"regDate\":\"20240313 14:20:44\",\"_id\":null,\"@type\":\"PC-NEWSSTAND-PRESS-BLOCK\",\"@code\":null,\"@template\":\"NONE\",\"@flowId\":null,\"@flowExecutionId\":null,\"@provider\":null,\"@lastModifiedAt\":null},{\"@type\":\"PC-NEWSSTAND-PRESS-BLOCK\",\"blocks\":null,\"materials\":null,\"excludeInPaging\":false,\"positionForPaging\":0,\"realtime\":false,\"pid\":\"029\",\"name\":\"디지털타임스\",\"logoLight\":{\"url\":\"https://s.pstatic.net/static/newsstand/2020/logo/light/0604/029.png\"},\"logoDark\":{\"url\":\"https://s.pstatic.net/static/newsstand/2020/logo/dark/0604/029.png\"},\"showThumbnailView\":true,\"showListView\":true,\"regDate\":\"20240313 14:30:53\",\"_id\":null,\"@type\":\"PC-NEWSSTAND-PRESS-BLOCK\",\"@code\":null,\"@template\":\"NONE\",\"@flowId\":null,\"@flowExecutionId\":null,\"@provider\":null,\"@lastModifiedAt\":null},{\"@type\":\"PC-NEWSSTAND-PRESS-BLOCK\",\"blocks\":null,\"materials\":null,\"excludeInPaging\":false,\"positionForPaging\":0,\"realtime\":false,\"pid\":\"821\",\"name\":\"경남도민일보\",\"logoLight\":{\"url\":\"https://s.pstatic.net/static/newsstand/2020/logo/light/0604/821.png\"},\"logoDark\":{\"url\":\"https://s.pstatic.net/static/newsstand/2020/logo/dark/0604/821.png\"},\"showThumbnailView\":true,\"showListView\":true,\"regDate\":\"20240313 15:00:17\",\"_id\":null,\"@type\":\"PC-NEWSSTAND-PRESS-BLOCK\",\"@code\":null,\"@template\":\"NONE\",\"@flowId\":null,\"@flowExecutionId\":null,\"@provider\":null,\"@lastModifiedAt\":null},{\"@type\":\"PC-NEWSSTAND-PRESS-BLOCK\",\"blocks\":null,\"materials\":null,\"excludeInPaging\":false,\"positionForPaging\":0,\"realtime\":false,\"pid\":\"942\",\"name\":\"비즈니스포스트\",\"logoLight\":{\"url\":\"https://s.pstatic.net/static/newsstand/2020/logo/light/0604/942.png\"},\"logoDark\":{\"url\":\"https://s.pstatic.net/static/newsstand/2020/logo/dark/0604/942.png\"},\"showThumbnailView\":true,\"showListView\":true,\"regDate\":\"20240313 10:48:29\",\"_id\":null,\"@type\":\"PC-NEWSSTAND-PRESS-BLOCK\",\"@code\":null,\"@template\":\"NONE\",\"@flowId\":null,\"@flowExecutionId\":null,\"@provider\":null,\"@lastModifiedAt\":null},{\"@type\":\"PC-NEWSSTAND-PRESS-BLOCK\",\"blocks\":null,\"materials\":null,\"excludeInPaging\":false,\"positionForPaging\":0,\"realtime\":false,\"pid\":\"822\",\"name\":\"프라임경제\",\"logoLight\":{\"url\":\"https://s.pstatic.net/static/newsstand/up/2020/0730/nsd13728808.png\"},\"logoDark\":{\"url\":\"https://s.pstatic.net/static/newsstand/up/2020/0730/nsd13719939.png\"},\"showThumbnailView\":true,\"showListView\":true,\"regDate\":\"20240313 14:30:10\",\"_id\":null,\"@type\":\"PC-NEWSSTAND-PRESS-BLOCK\",\"@code\":null,\"@template\":\"NONE\",\"@flowId\":null,\"@flowExecutionId\":null,\"@provider\":null,\"@lastModifiedAt\":null},{\"@type\":\"PC-NEWSSTAND-PRESS-BLOCK\",\"blocks\":null,\"materials\":null,\"excludeInPaging\":false,\"positionForPaging\":0,\"realtime\":false,\"pid\":\"943\",\"name\":\"비즈워치\",\"logoLight\":{\"url\":\"https://s.pstatic.net/static/newsstand/up/2023/0213/nsd17943530.png\"},\"logoDark\":{\"url\":\"https://s.pstatic.net/static/newsstand/up/2023/0213/nsd17100999.png\"},\"showThumbnailView\":true,\"showListView\":true,\"regDate\":\"20240313 14:48:22\",\"_id\":null,\"@type\":\"PC-NEWSSTAND-PRESS-BLOCK\",\"@code\":null,\"@template\":\"NONE\",\"@flowId\":null,\"@flowExecutionId\":null,\"@provider\":null,\"@lastModifiedAt\":null},{\"@type\":\"PC-NEWSSTAND-PRESS-BLOCK\",\"blocks\":null,\"materials\":null,\"excludeInPaging\":false,\"positionForPaging\":0,\"realtime\":false,\"pid\":\"823\",\"name\":\"UPI뉴스\",\"logoLight\":{\"url\":\"https://s.pstatic.net/static/newsstand/2020/logo/light/0604/823.png\"},\"logoDark\":{\"url\":\"https://s.pstatic.net/static/newsstand/2020/logo/dark/0604/823.png\"},\"showThumbnailView\":true,\"showListView\":true,\"regDate\":\"20240313 14:48:31\",\"_id\":null,\"@type\":\"PC-NEWSSTAND-PRESS-BLOCK\",\"@code\":null,\"@template\":\"NONE\",\"@flowId\":null,\"@flowExecutionId\":null,\"@provider\":null,\"@lastModifiedAt\":null},{\"@type\":\"PC-NEWSSTAND-PRESS-BLOCK\",\"blocks\":null,\"materials\":null,\"excludeInPaging\":false,\"positionForPaging\":0,\"realtime\":false,\"pid\":\"944\",\"name\":\"나우뉴스\",\"logoLight\":{\"url\":\"https://s.pstatic.net/static/newsstand/up/2022/0804/nsd1343054.png\"},\"logoDark\":{\"url\":\"https://s.pstatic.net/static/newsstand/up/2022/0804/nsd13457540.png\"},\"showThumbnailView\":true,\"showListView\":true,\"regDate\":\"20240313 14:32:57\",\"_id\":null,\"@type\":\"PC-NEWSSTAND-PRESS-BLOCK\",\"@code\":null,\"@template\":\"NONE\",\"@flowId\":null,\"@flowExecutionId\":null,\"@provider\":null,\"@lastModifiedAt\":null},{\"@type\":\"PC-NEWSSTAND-PRESS-BLOCK\",\"blocks\":null,\"materials\":null,\"excludeInPaging\":false,\"positionForPaging\":0,\"realtime\":false,\"pid\":\"824\",\"name\":\"서울파이낸스\",\"logoLight\":{\"url\":\"https://s.pstatic.net/static/newsstand/2020/logo/light/0604/824.png\"},\"logoDark\":{\"url\":\"https://s.pstatic.net/static/newsstand/2020/logo/dark/0604/824.png\"},\"showThumbnailView\":true,\"showListView\":true,\"regDate\":\"20240313 14:50:17\",\"_id\":null,\"@type\":\"PC-NEWSSTAND-PRESS-BLOCK\",\"@code\":null,\"@template\":\"NONE\",\"@flowId\":null,\"@flowExecutionId\":null,\"@provider\":null,\"@lastModifiedAt\":null},{\"@type\":\"PC-NEWSSTAND-PRESS-BLOCK\",\"blocks\":null,\"materials\":null,\"excludeInPaging\":false,\"positionForPaging\":0,\"realtime\":false,\"pid\":\"945\",\"name\":\"YTN사이언스\",\"logoLight\":{\"url\":\"https://s.pstatic.net/static/newsstand/up/2020/0922/nsd152336602.png\"},\"logoDark\":{\"url\":\"https://s.pstatic.net/static/newsstand/up/2020/0922/nsd152323211.png\"},\"showThumbnailView\":true,\"showListView\":true,\"regDate\":\"20240313 15:00:00\",\"_id\":null,\"@type\":\"PC-NEWSSTAND-PRESS-BLOCK\",\"@code\":null,\"@template\":\"NONE\",\"@flowId\":null,\"@flowExecutionId\":null,\"@provider\":null,\"@lastModifiedAt\":null},{\"@type\":\"PC-NEWSSTAND-PRESS-BLOCK\",\"blocks\":null,\"materials\":null,\"excludeInPaging\":false,\"positionForPaging\":0,\"realtime\":false,\"pid\":\"825\",\"name\":\"이로운넷\",\"logoLight\":{\"url\":\"https://s.pstatic.net/static/newsstand/2020/logo/light/0604/825.png\"},\"logoDark\":{\"url\":\"https://s.pstatic.net/static/newsstand/2020/logo/dark/0604/825.png\"},\"showThumbnailView\":true,\"showListView\":true,\"regDate\":\"20240313 14:50:18\",\"_id\":null,\"@type\":\"PC-NEWSSTAND-PRESS-BLOCK\",\"@code\":null,\"@template\":\"NONE\",\"@flowId\":null,\"@flowExecutionId\":null,\"@provider\":null,\"@lastModifiedAt\":null},{\"@type\":\"PC-NEWSSTAND-PRESS-BLOCK\",\"blocks\":null,\"materials\":null,\"excludeInPaging\":false,\"positionForPaging\":0,\"realtime\":false,\"pid\":\"946\",\"name\":\"YONHAPNEWS\",\"logoLight\":{\"url\":\"https://s.pstatic.net/static/newsstand/2020/logo/light/0604/946.png\"},\"logoDark\":{\"url\":\"https://s.pstatic.net/static/newsstand/2020/logo/dark/0604/946.png\"},\"showThumbnailView\":true,\"showListView\":true,\"regDate\":\"20240313 14:35:39\",\"_id\":null,\"@type\":\"PC-NEWSSTAND-PRESS-BLOCK\",\"@code\":null,\"@template\":\"NONE\",\"@flowId\":null,\"@flowExecutionId\":null,\"@provider\":null,\"@lastModifiedAt\":null},{\"@type\":\"PC-NEWSSTAND-PRESS-BLOCK\",\"blocks\":null,\"materials\":null,\"excludeInPaging\":false,\"positionForPaging\":0,\"realtime\":false,\"pid\":\"826\",\"name\":\"톱데일리\",\"logoLight\":{\"url\":\"https://s.pstatic.net/static/newsstand/up/2022/0817/nsd14491516.png\"},\"logoDark\":{\"url\":\"https://s.pstatic.net/static/newsstand/up/2022/0817/nsd14499446.png\"},\"showThumbnailView\":true,\"showListView\":true,\"regDate\":\"20240313 14:50:11\",\"_id\":null,\"@type\":\"PC-NEWSSTAND-PRESS-BLOCK\",\"@code\":null,\"@template\":\"NONE\",\"@flowId\":null,\"@flowExecutionId\":null,\"@provider\":null,\"@lastModifiedAt\":null},{\"@type\":\"PC-NEWSSTAND-PRESS-BLOCK\",\"blocks\":null,\"materials\":null,\"excludeInPaging\":false,\"positionForPaging\":0,\"realtime\":false,\"pid\":\"947\",\"name\":\"조이뉴스24\",\"logoLight\":{\"url\":\"https://s.pstatic.net/static/newsstand/2020/logo/light/0604/947.png\"},\"logoDark\":{\"url\":\"https://s.pstatic.net/static/newsstand/2020/logo/dark/0604/947.png\"},\"showThumbnailView\":true,\"showListView\":true,\"regDate\":\"20240313 14:51:52\",\"_id\":null,\"@type\":\"PC-NEWSSTAND-PRESS-BLOCK\",\"@code\":null,\"@template\":\"NONE\",\"@flowId\":null,\"@flowExecutionId\":null,\"@provider\":null,\"@lastModifiedAt\":null},{\"@type\":\"PC-NEWSSTAND-PRESS-BLOCK\",\"blocks\":null,\"materials\":null,\"excludeInPaging\":false,\"positionForPaging\":0,\"realtime\":false,\"pid\":\"827\",\"name\":\"베이비뉴스\",\"logoLight\":{\"url\":\"https://s.pstatic.net/static/newsstand/up/2021/0222/nsd13325188.png\"},\"logoDark\":{\"url\":\"https://s.pstatic.net/static/newsstand/up/2021/0222/nsd13338358.png\"},\"showThumbnailView\":true,\"showListView\":true,\"regDate\":\"20240313 14:50:21\",\"_id\":null,\"@type\":\"PC-NEWSSTAND-PRESS-BLOCK\",\"@code\":null,\"@template\":\"NONE\",\"@flowId\":null,\"@flowExecutionId\":null,\"@provider\":null,\"@lastModifiedAt\":null},{\"@type\":\"PC-NEWSSTAND-PRESS-BLOCK\",\"blocks\":null,\"materials\":null,\"excludeInPaging\":false,\"positionForPaging\":0,\"realtime\":false,\"pid\":\"948\",\"name\":\"한겨레21\",\"logoLight\":{\"url\":\"https://s.pstatic.net/static/newsstand/2020/logo/light/0604/948.png\"},\"logoDark\":{\"url\":\"https://s.pstatic.net/static/newsstand/2020/logo/dark/0604/948.png\"},\"showThumbnailView\":true,\"showListView\":true,\"regDate\":\"20240313 14:27:28\",\"_id\":null,\"@type\":\"PC-NEWSSTAND-PRESS-BLOCK\",\"@code\":null,\"@template\":\"NONE\",\"@flowId\":null,\"@flowExecutionId\":null,\"@provider\":null,\"@lastModifiedAt\":null},{\"@type\":\"PC-NEWSSTAND-PRESS-BLOCK\",\"blocks\":null,\"materials\":null,\"excludeInPaging\":false,\"positionForPaging\":0,\"realtime\":false,\"pid\":\"828\",\"name\":\"식품저널 foodnews\",\"logoLight\":{\"url\":\"https://s.pstatic.net/static/newsstand/up/2021/0211/nsd0427277.png\"},\"logoDark\":{\"url\":\"https://s.pstatic.net/static/newsstand/up/2021/0211/nsd0439284.png\"},\"showThumbnailView\":true,\"showListView\":true,\"regDate\":\"20240313 14:50:20\",\"_id\":null,\"@type\":\"PC-NEWSSTAND-PRESS-BLOCK\",\"@code\":null,\"@template\":\"NONE\",\"@flowId\":null,\"@flowExecutionId\":null,\"@provider\":null,\"@lastModifiedAt\":null},{\"@type\":\"PC-NEWSSTAND-PRESS-BLOCK\",\"blocks\":null,\"materials\":null,\"excludeInPaging\":false,\"positionForPaging\":0,\"realtime\":false,\"pid\":\"829\",\"name\":\"미디어스\",\"logoLight\":{\"url\":\"https://s.pstatic.net/static/newsstand/up/2021/0211/nsd01153196.png\"},\"logoDark\":{\"url\":\"https://s.pstatic.net/static/newsstand/up/2021/0211/nsd01153196.png\"},\"showThumbnailView\":true,\"showListView\":true,\"regDate\":\"20240313 14:50:27\",\"_id\":null,\"@type\":\"PC-NEWSSTAND-PRESS-BLOCK\",\"@code\":null,\"@template\":\"NONE\",\"@flowId\":null,\"@flowExecutionId\":null,\"@provider\":null,\"@lastModifiedAt\":null},{\"@type\":\"PC-NEWSSTAND-PRESS-BLOCK\",\"blocks\":null,\"materials\":null,\"excludeInPaging\":false,\"positionForPaging\":0,\"realtime\":false,\"pid\":\"391\",\"name\":\"충청일보\",\"logoLight\":{\"url\":\"https://s.pstatic.net/static/newsstand/2020/logo/light/0604/391.png\"},\"logoDark\":{\"url\":\"https://s.pstatic.net/static/newsstand/2020/logo/dark/0604/391.png\"},\"showThumbnailView\":true,\"showListView\":true,\"regDate\":\"20240312 21:22:31\",\"_id\":null,\"@type\":\"PC-NEWSSTAND-PRESS-BLOCK\",\"@code\":null,\"@template\":\"NONE\",\"@flowId\":null,\"@flowExecutionId\":null,\"@provider\":null,\"@lastModifiedAt\":null},{\"@type\":\"PC-NEWSSTAND-PRESS-BLOCK\",\"blocks\":null,\"materials\":null,\"excludeInPaging\":false,\"positionForPaging\":0,\"realtime\":false,\"pid\":\"030\",\"name\":\"전자신문\",\"logoLight\":{\"url\":\"https://s.pstatic.net/static/newsstand/2020/logo/light/0604/030.png\"},\"logoDark\":{\"url\":\"https://s.pstatic.net/static/newsstand/2020/logo/dark/0604/030.png\"},\"showThumbnailView\":true,\"showListView\":true,\"regDate\":\"20240313 15:04:36\",\"_id\":null,\"@type\":\"PC-NEWSSTAND-PRESS-BLOCK\",\"@code\":null,\"@template\":\"NONE\",\"@flowId\":null,\"@flowExecutionId\":null,\"@provider\":null,\"@lastModifiedAt\":null},{\"@type\":\"PC-NEWSSTAND-PRESS-BLOCK\",\"blocks\":null,\"materials\":null,\"excludeInPaging\":false,\"positionForPaging\":0,\"realtime\":false,\"pid\":\"031\",\"name\":\"아이뉴스24\",\"logoLight\":{\"url\":\"https://s.pstatic.net/static/newsstand/2020/logo/light/0604/031.png\"},\"logoDark\":{\"url\":\"https://s.pstatic.net/static/newsstand/2020/logo/dark/0604/031.png\"},\"showThumbnailView\":true,\"showListView\":true,\"regDate\":\"20240313 15:05:08\",\"_id\":null,\"@type\":\"PC-NEWSSTAND-PRESS-BLOCK\",\"@code\":null,\"@template\":\"NONE\",\"@flowId\":null,\"@flowExecutionId\":null,\"@provider\":null,\"@lastModifiedAt\":null},{\"@type\":\"PC-NEWSSTAND-PRESS-BLOCK\",\"blocks\":null,\"materials\":null,\"excludeInPaging\":false,\"positionForPaging\":0,\"realtime\":false,\"pid\":\"032\",\"name\":\"경향신문\",\"logoLight\":{\"url\":\"https://s.pstatic.net/static/newsstand/2020/logo/light/0604/032.png\"},\"logoDark\":{\"url\":\"https://s.pstatic.net/static/newsstand/2020/logo/dark/0604/032.png\"},\"showThumbnailView\":true,\"showListView\":true,\"regDate\":\"20240313 14:56:05\",\"_id\":null,\"@type\":\"PC-NEWSSTAND-PRESS-BLOCK\",\"@code\":null,\"@template\":\"NONE\",\"@flowId\":null,\"@flowExecutionId\":null,\"@provider\":null,\"@lastModifiedAt\":null},{\"@type\":\"PC-NEWSSTAND-PRESS-BLOCK\",\"blocks\":null,\"materials\":null,\"excludeInPaging\":false,\"positionForPaging\":0,\"realtime\":false,\"pid\":\"396\",\"name\":\"스포츠월드\",\"logoLight\":{\"url\":\"https://s.pstatic.net/static/newsstand/2020/logo/light/0604/396.png\"},\"logoDark\":{\"url\":\"https://s.pstatic.net/static/newsstand/2020/logo/dark/0604/396.png\"},\"showThumbnailView\":true,\"showListView\":true,\"regDate\":\"20240313 14:42:55\",\"_id\":null,\"@type\":\"PC-NEWSSTAND-PRESS-BLOCK\",\"@code\":null,\"@template\":\"NONE\",\"@flowId\":null,\"@flowExecutionId\":null,\"@provider\":null,\"@lastModifiedAt\":null},{\"@type\":\"PC-NEWSSTAND-PRESS-BLOCK\",\"blocks\":null,\"materials\":null,\"excludeInPaging\":false,\"positionForPaging\":0,\"realtime\":false,\"pid\":\"277\",\"name\":\"아시아경제\",\"logoLight\":{\"url\":\"https://s.pstatic.net/static/newsstand/2020/logo/light/0604/277.png\"},\"logoDark\":{\"url\":\"https://s.pstatic.net/static/newsstand/2020/logo/dark/0604/277.png\"},\"showThumbnailView\":true,\"showListView\":true,\"regDate\":\"20240313 15:01:16\",\"_id\":null,\"@type\":\"PC-NEWSSTAND-PRESS-BLOCK\",\"@code\":null,\"@template\":\"NONE\",\"@flowId\":null,\"@flowExecutionId\":null,\"@provider\":null,\"@lastModifiedAt\":null},{\"@type\":\"PC-NEWSSTAND-PRESS-BLOCK\",\"blocks\":null,\"materials\":null,\"excludeInPaging\":false,\"positionForPaging\":0,\"realtime\":false,\"pid\":\"950\",\"name\":\"월간중앙\",\"logoLight\":{\"url\":\"https://s.pstatic.net/static/newsstand/2020/logo/light/0604/950.png\"},\"logoDark\":{\"url\":\"https://s.pstatic.net/static/newsstand/2020/logo/dark/0604/950.png\"},\"showThumbnailView\":true,\"showListView\":true,\"regDate\":\"20240313 15:00:00\",\"_id\":null,\"@type\":\"PC-NEWSSTAND-PRESS-BLOCK\",\"@code\":null,\"@template\":\"NONE\",\"@flowId\":null,\"@flowExecutionId\":null,\"@provider\":null,\"@lastModifiedAt\":null},{\"@type\":\"PC-NEWSSTAND-PRESS-BLOCK\",\"blocks\":null,\"materials\":null,\"excludeInPaging\":false,\"positionForPaging\":0,\"realtime\":false,\"pid\":\"038\",\"name\":\"한국일보\",\"logoLight\":{\"url\":\"https://s.pstatic.net/static/newsstand/2020/logo/light/0604/038.png\"},\"logoDark\":{\"url\":\"https://s.pstatic.net/static/newsstand/2020/logo/dark/0604/038.png\"},\"showThumbnailView\":true,\"showListView\":true,\"regDate\":\"20240313 14:54:50\",\"_id\":null,\"@type\":\"PC-NEWSSTAND-PRESS-BLOCK\",\"@code\":null,\"@template\":\"NONE\",\"@flowId\":null,\"@flowExecutionId\":null,\"@provider\":null,\"@lastModifiedAt\":null},{\"@type\":\"PC-NEWSSTAND-PRESS-BLOCK\",\"blocks\":null,\"materials\":null,\"excludeInPaging\":false,\"positionForPaging\":0,\"realtime\":false,\"pid\":\"830\",\"name\":\"게임동아\",\"logoLight\":{\"url\":\"https://s.pstatic.net/static/newsstand/up/2021/0211/nsd02321523.png\"},\"logoDark\":{\"url\":\"https://s.pstatic.net/static/newsstand/up/2021/0211/nsd02332888.png\"},\"showThumbnailView\":true,\"showListView\":true,\"regDate\":\"20240313 14:31:19\",\"_id\":null,\"@type\":\"PC-NEWSSTAND-PRESS-BLOCK\",\"@code\":null,\"@template\":\"NONE\",\"@flowId\":null,\"@flowExecutionId\":null,\"@provider\":null,\"@lastModifiedAt\":null},{\"@type\":\"PC-NEWSSTAND-PRESS-BLOCK\",\"blocks\":null,\"materials\":null,\"excludeInPaging\":false,\"positionForPaging\":0,\"realtime\":false,\"pid\":\"951\",\"name\":\"포브스코리아\",\"logoLight\":{\"url\":\"https://s.pstatic.net/static/newsstand/2020/logo/light/0604/951.png\"},\"logoDark\":{\"url\":\"https://s.pstatic.net/static/newsstand/2020/logo/dark/0604/951.png\"},\"showThumbnailView\":true,\"showListView\":true,\"regDate\":\"20240313 15:00:00\",\"_id\":null,\"@type\":\"PC-NEWSSTAND-PRESS-BLOCK\",\"@code\":null,\"@template\":\"NONE\",\"@flowId\":null,\"@flowExecutionId\":null,\"@provider\":null,\"@lastModifiedAt\":null},{\"@type\":\"PC-NEWSSTAND-PRESS-BLOCK\",\"blocks\":null,\"materials\":null,\"excludeInPaging\":false,\"positionForPaging\":0,\"realtime\":false,\"pid\":\"952\",\"name\":\"보안뉴스\",\"logoLight\":{\"url\":\"https://s.pstatic.net/static/newsstand/2020/logo/light/0604/952.png\"},\"logoDark\":{\"url\":\"https://s.pstatic.net/static/newsstand/2020/logo/dark/0604/952.png\"},\"showThumbnailView\":true,\"showListView\":true,\"regDate\":\"20240313 14:10:00\",\"_id\":null,\"@type\":\"PC-NEWSSTAND-PRESS-BLOCK\",\"@code\":null,\"@template\":\"NONE\",\"@flowId\":null,\"@flowExecutionId\":null,\"@provider\":null,\"@lastModifiedAt\":null},{\"@type\":\"PC-NEWSSTAND-PRESS-BLOCK\",\"blocks\":null,\"materials\":null,\"excludeInPaging\":false,\"positionForPaging\":0,\"realtime\":false,\"pid\":\"953\",\"name\":\"디지털투데이\",\"logoLight\":{\"url\":\"https://s.pstatic.net/static/newsstand/2020/logo/light/0604/953.png\"},\"logoDark\":{\"url\":\"https://s.pstatic.net/static/newsstand/2020/logo/dark/0604/953.png\"},\"showThumbnailView\":true,\"showListView\":true,\"regDate\":\"20240313 15:00:04\",\"_id\":null,\"@type\":\"PC-NEWSSTAND-PRESS-BLOCK\",\"@code\":null,\"@template\":\"NONE\",\"@flowId\":null,\"@flowExecutionId\":null,\"@provider\":null,\"@lastModifiedAt\":null},{\"@type\":\"PC-NEWSSTAND-PRESS-BLOCK\",\"blocks\":null,\"materials\":null,\"excludeInPaging\":false,\"positionForPaging\":0,\"realtime\":false,\"pid\":\"954\",\"name\":\"CNB뉴스\",\"logoLight\":{\"url\":\"https://s.pstatic.net/static/newsstand/2020/logo/light/0604/954.png\"},\"logoDark\":{\"url\":\"https://s.pstatic.net/static/newsstand/2020/logo/dark/0604/954.png\"},\"showThumbnailView\":true,\"showListView\":true,\"regDate\":\"20240313 14:55:02\",\"_id\":null,\"@type\":\"PC-NEWSSTAND-PRESS-BLOCK\",\"@code\":null,\"@template\":\"NONE\",\"@flowId\":null,\"@flowExecutionId\":null,\"@provider\":null,\"@lastModifiedAt\":null},{\"@type\":\"PC-NEWSSTAND-PRESS-BLOCK\",\"blocks\":null,\"materials\":null,\"excludeInPaging\":false,\"positionForPaging\":0,\"realtime\":false,\"pid\":\"955\",\"name\":\"독서신문\",\"logoLight\":{\"url\":\"https://s.pstatic.net/static/newsstand/2020/logo/light/0604/955.png\"},\"logoDark\":{\"url\":\"https://s.pstatic.net/static/newsstand/2020/logo/dark/0604/955.png\"},\"showThumbnailView\":true,\"showListView\":true,\"regDate\":\"20240313 15:00:04\",\"_id\":null,\"@type\":\"PC-NEWSSTAND-PRESS-BLOCK\",\"@code\":null,\"@template\":\"NONE\",\"@flowId\":null,\"@flowExecutionId\":null,\"@provider\":null,\"@lastModifiedAt\":null},{\"@type\":\"PC-NEWSSTAND-PRESS-BLOCK\",\"blocks\":null,\"materials\":null,\"excludeInPaging\":false,\"positionForPaging\":0,\"realtime\":false,\"pid\":\"956\",\"name\":\"철강금속신문\",\"logoLight\":{\"url\":\"https://s.pstatic.net/static/newsstand/2020/logo/light/0604/956.png\"},\"logoDark\":{\"url\":\"https://s.pstatic.net/static/newsstand/2020/logo/dark/0604/956.png\"},\"showThumbnailView\":true,\"showListView\":true,\"regDate\":\"20240313 15:00:03\",\"_id\":null,\"@type\":\"PC-NEWSSTAND-PRESS-BLOCK\",\"@code\":null,\"@template\":\"NONE\",\"@flowId\":null,\"@flowExecutionId\":null,\"@provider\":null,\"@lastModifiedAt\":null},{\"@type\":\"PC-NEWSSTAND-PRESS-BLOCK\",\"blocks\":null,\"materials\":null,\"excludeInPaging\":false,\"positionForPaging\":0,\"realtime\":false,\"pid\":\"957\",\"name\":\"시사위크\",\"logoLight\":{\"url\":\"https://s.pstatic.net/static/newsstand/2020/logo/light/0604/957.png\"},\"logoDark\":{\"url\":\"https://s.pstatic.net/static/newsstand/2020/logo/dark/0604/957.png\"},\"showThumbnailView\":true,\"showListView\":true,\"regDate\":\"20240312 18:02:53\",\"_id\":null,\"@type\":\"PC-NEWSSTAND-PRESS-BLOCK\",\"@code\":null,\"@template\":\"NONE\",\"@flowId\":null,\"@flowExecutionId\":null,\"@provider\":null,\"@lastModifiedAt\":null},{\"@type\":\"PC-NEWSSTAND-PRESS-BLOCK\",\"blocks\":null,\"materials\":null,\"excludeInPaging\":false,\"positionForPaging\":0,\"realtime\":false,\"pid\":\"958\",\"name\":\"베리타스알파\",\"logoLight\":{\"url\":\"https://s.pstatic.net/static/newsstand/up/2023/0826/nsd0145257.png\"},\"logoDark\":{\"url\":\"https://s.pstatic.net/static/newsstand/up/2023/0826/nsd0136682.png\"},\"showThumbnailView\":true,\"showListView\":true,\"regDate\":\"20240313 15:00:34\",\"_id\":null,\"@type\":\"PC-NEWSSTAND-PRESS-BLOCK\",\"@code\":null,\"@template\":\"NONE\",\"@flowId\":null,\"@flowExecutionId\":null,\"@provider\":null,\"@lastModifiedAt\":null},{\"@type\":\"PC-NEWSSTAND-PRESS-BLOCK\",\"blocks\":null,\"materials\":null,\"excludeInPaging\":false,\"positionForPaging\":0,\"realtime\":false,\"pid\":\"959\",\"name\":\"M이코노미뉴스\",\"logoLight\":{\"url\":\"https://s.pstatic.net/static/newsstand/up/2021/1221/nsd15292271.png\"},\"logoDark\":{\"url\":\"https://s.pstatic.net/static/newsstand/up/2021/1221/nsd171157172.png\"},\"showThumbnailView\":true,\"showListView\":true,\"regDate\":\"20240313 15:00:04\",\"_id\":null,\"@type\":\"PC-NEWSSTAND-PRESS-BLOCK\",\"@code\":null,\"@template\":\"NONE\",\"@flowId\":null,\"@flowExecutionId\":null,\"@provider\":null,\"@lastModifiedAt\":null},{\"@type\":\"PC-NEWSSTAND-PRESS-BLOCK\",\"blocks\":null,\"materials\":null,\"excludeInPaging\":false,\"positionForPaging\":0,\"realtime\":false,\"pid\":\"040\",\"name\":\"코리아타임스\",\"logoLight\":{\"url\":\"https://s.pstatic.net/static/newsstand/2020/logo/light/0604/040.png\"},\"logoDark\":{\"url\":\"https://s.pstatic.net/static/newsstand/2020/logo/dark/0604/040.png\"},\"showThumbnailView\":true,\"showListView\":true,\"regDate\":\"20240313 14:55:11\",\"_id\":null,\"@type\":\"PC-NEWSSTAND-PRESS-BLOCK\",\"@code\":null,\"@template\":\"NONE\",\"@flowId\":null,\"@flowExecutionId\":null,\"@provider\":null,\"@lastModifiedAt\":null},{\"@type\":\"PC-NEWSSTAND-PRESS-BLOCK\",\"blocks\":null,\"materials\":null,\"excludeInPaging\":false,\"positionForPaging\":0,\"realtime\":false,\"pid\":\"042\",\"name\":\"데일리한국\",\"logoLight\":{\"url\":\"https://s.pstatic.net/static/newsstand/2020/logo/light/0604/042.png\"},\"logoDark\":{\"url\":\"https://s.pstatic.net/static/newsstand/2020/logo/dark/0604/042.png\"},\"showThumbnailView\":true,\"showListView\":true,\"regDate\":\"20240313 15:00:24\",\"_id\":null,\"@type\":\"PC-NEWSSTAND-PRESS-BLOCK\",\"@code\":null,\"@template\":\"NONE\",\"@flowId\":null,\"@flowExecutionId\":null,\"@provider\":null,\"@lastModifiedAt\":null},{\"@type\":\"PC-NEWSSTAND-PRESS-BLOCK\",\"blocks\":null,\"materials\":null,\"excludeInPaging\":false,\"positionForPaging\":0,\"realtime\":false,\"pid\":\"044\",\"name\":\"코리아헤럴드\",\"logoLight\":{\"url\":\"https://s.pstatic.net/static/newsstand/2020/logo/light/0604/044.png\"},\"logoDark\":{\"url\":\"https://s.pstatic.net/static/newsstand/2020/logo/dark/0604/044.png\"},\"showThumbnailView\":true,\"showListView\":true,\"regDate\":\"20240313 11:21:58\",\"_id\":null,\"@type\":\"PC-NEWSSTAND-PRESS-BLOCK\",\"@code\":null,\"@template\":\"NONE\",\"@flowId\":null,\"@flowExecutionId\":null,\"@provider\":null,\"@lastModifiedAt\":null},{\"@type\":\"PC-NEWSSTAND-PRESS-BLOCK\",\"blocks\":null,\"materials\":null,\"excludeInPaging\":false,\"positionForPaging\":0,\"realtime\":false,\"pid\":\"047\",\"name\":\"오마이뉴스\",\"logoLight\":{\"url\":\"https://s.pstatic.net/static/newsstand/2020/logo/light/0604/047.png\"},\"logoDark\":{\"url\":\"https://s.pstatic.net/static/newsstand/2020/logo/dark/0604/047.png\"},\"showThumbnailView\":true,\"showListView\":true,\"regDate\":\"20240313 15:01:08\",\"_id\":null,\"@type\":\"PC-NEWSSTAND-PRESS-BLOCK\",\"@code\":null,\"@template\":\"NONE\",\"@flowId\":null,\"@flowExecutionId\":null,\"@provider\":null,\"@lastModifiedAt\":null},{\"@type\":\"PC-NEWSSTAND-PRESS-BLOCK\",\"blocks\":null,\"materials\":null,\"excludeInPaging\":false,\"positionForPaging\":0,\"realtime\":false,\"pid\":\"960\",\"name\":\"대한경제\",\"logoLight\":{\"url\":\"https://s.pstatic.net/static/newsstand/up/2022/1115/nsd153942530.png\"},\"logoDark\":{\"url\":\"https://s.pstatic.net/static/newsstand/up/2022/1115/nsd153934427.png\"},\"showThumbnailView\":true,\"showListView\":true,\"regDate\":\"20240313 15:00:25\",\"_id\":null,\"@type\":\"PC-NEWSSTAND-PRESS-BLOCK\",\"@code\":null,\"@template\":\"NONE\",\"@flowId\":null,\"@flowExecutionId\":null,\"@provider\":null,\"@lastModifiedAt\":null},{\"@type\":\"PC-NEWSSTAND-PRESS-BLOCK\",\"blocks\":null,\"materials\":null,\"excludeInPaging\":false,\"positionForPaging\":0,\"realtime\":false,\"pid\":\"961\",\"name\":\"메트로신문\",\"logoLight\":{\"url\":\"https://s.pstatic.net/static/newsstand/2020/logo/light/0604/961.png\"},\"logoDark\":{\"url\":\"https://s.pstatic.net/static/newsstand/2020/logo/dark/0604/961.png\"},\"showThumbnailView\":true,\"showListView\":true,\"regDate\":\"20240313 12:38:19\",\"_id\":null,\"@type\":\"PC-NEWSSTAND-PRESS-BLOCK\",\"@code\":null,\"@template\":\"NONE\",\"@flowId\":null,\"@flowExecutionId\":null,\"@provider\":null,\"@lastModifiedAt\":null},{\"@type\":\"PC-NEWSSTAND-PRESS-BLOCK\",\"blocks\":null,\"materials\":null,\"excludeInPaging\":false,\"positionForPaging\":0,\"realtime\":false,\"pid\":\"962\",\"name\":\"스포츠한국\",\"logoLight\":{\"url\":\"https://s.pstatic.net/static/newsstand/2020/logo/light/0604/962.png\"},\"logoDark\":{\"url\":\"https://s.pstatic.net/static/newsstand/2020/logo/dark/0604/962.png\"},\"showThumbnailView\":true,\"showListView\":true,\"regDate\":\"20240313 15:00:26\",\"_id\":null,\"@type\":\"PC-NEWSSTAND-PRESS-BLOCK\",\"@code\":null,\"@template\":\"NONE\",\"@flowId\":null,\"@flowExecutionId\":null,\"@provider\":null,\"@lastModifiedAt\":null},{\"@type\":\"PC-NEWSSTAND-PRESS-BLOCK\",\"blocks\":null,\"materials\":null,\"excludeInPaging\":false,\"positionForPaging\":0,\"realtime\":false,\"pid\":\"963\",\"name\":\"에너지경제\",\"logoLight\":{\"url\":\"https://s.pstatic.net/static/newsstand/2020/logo/light/0604/963.png\"},\"logoDark\":{\"url\":\"https://s.pstatic.net/static/newsstand/2020/logo/dark/0604/963.png\"},\"showThumbnailView\":true,\"showListView\":true,\"regDate\":\"20240313 15:00:01\",\"_id\":null,\"@type\":\"PC-NEWSSTAND-PRESS-BLOCK\",\"@code\":null,\"@template\":\"NONE\",\"@flowId\":null,\"@flowExecutionId\":null,\"@provider\":null,\"@lastModifiedAt\":null},{\"@type\":\"PC-NEWSSTAND-PRESS-BLOCK\",\"blocks\":null,\"materials\":null,\"excludeInPaging\":false,\"positionForPaging\":0,\"realtime\":false,\"pid\":\"964\",\"name\":\"이뉴스투데이\",\"logoLight\":{\"url\":\"https://s.pstatic.net/static/newsstand/2020/logo/light/0604/964.png\"},\"logoDark\":{\"url\":\"https://s.pstatic.net/static/newsstand/2020/logo/dark/0604/964.png\"},\"showThumbnailView\":true,\"showListView\":true,\"regDate\":\"20240313 14:34:52\",\"_id\":null,\"@type\":\"PC-NEWSSTAND-PRESS-BLOCK\",\"@code\":null,\"@template\":\"NONE\",\"@flowId\":null,\"@flowExecutionId\":null,\"@provider\":null,\"@lastModifiedAt\":null},{\"@type\":\"PC-NEWSSTAND-PRESS-BLOCK\",\"blocks\":null,\"materials\":null,\"excludeInPaging\":false,\"positionForPaging\":0,\"realtime\":false,\"pid\":\"965\",\"name\":\"전기신문\",\"logoLight\":{\"url\":\"https://s.pstatic.net/static/newsstand/2020/logo/light/0604/965.png\"},\"logoDark\":{\"url\":\"https://s.pstatic.net/static/newsstand/2020/logo/dark/0604/965.png\"},\"showThumbnailView\":true,\"showListView\":true,\"regDate\":\"20240313 15:00:24\",\"_id\":null,\"@type\":\"PC-NEWSSTAND-PRESS-BLOCK\",\"@code\":null,\"@template\":\"NONE\",\"@flowId\":null,\"@flowExecutionId\":null,\"@provider\":null,\"@lastModifiedAt\":null},{\"@type\":\"PC-NEWSSTAND-PRESS-BLOCK\",\"blocks\":null,\"materials\":null,\"excludeInPaging\":false,\"positionForPaging\":0,\"realtime\":false,\"pid\":\"966\",\"name\":\"정신의학신문\",\"logoLight\":{\"url\":\"https://s.pstatic.net/static/newsstand/2020/logo/light/0604/966.png\"},\"logoDark\":{\"url\":\"https://s.pstatic.net/static/newsstand/2020/logo/dark/0604/966.png\"},\"showThumbnailView\":true,\"showListView\":true,\"regDate\":\"20240313 15:00:21\",\"_id\":null,\"@type\":\"PC-NEWSSTAND-PRESS-BLOCK\",\"@code\":null,\"@template\":\"NONE\",\"@flowId\":null,\"@flowExecutionId\":null,\"@provider\":null,\"@lastModifiedAt\":null},{\"@type\":\"PC-NEWSSTAND-PRESS-BLOCK\",\"blocks\":null,\"materials\":null,\"excludeInPaging\":false,\"positionForPaging\":0,\"realtime\":false,\"pid\":\"967\",\"name\":\"코리아쉬핑가제트\",\"logoLight\":{\"url\":\"https://s.pstatic.net/static/newsstand/2020/logo/light/0604/967.png\"},\"logoDark\":{\"url\":\"https://s.pstatic.net/static/newsstand/2020/logo/dark/0604/967.png\"},\"showThumbnailView\":true,\"showListView\":true,\"regDate\":\"20240313 15:00:01\",\"_id\":null,\"@type\":\"PC-NEWSSTAND-PRESS-BLOCK\",\"@code\":null,\"@template\":\"NONE\",\"@flowId\":null,\"@flowExecutionId\":null,\"@provider\":null,\"@lastModifiedAt\":null},{\"@type\":\"PC-NEWSSTAND-PRESS-BLOCK\",\"blocks\":null,\"materials\":null,\"excludeInPaging\":false,\"positionForPaging\":0,\"realtime\":false,\"pid\":\"968\",\"name\":\"한국금융신문\",\"logoLight\":{\"url\":\"https://s.pstatic.net/static/newsstand/2020/logo/light/0604/968.png\"},\"logoDark\":{\"url\":\"https://s.pstatic.net/static/newsstand/2020/logo/dark/0604/968.png\"},\"showThumbnailView\":true,\"showListView\":true,\"regDate\":\"20240313 14:48:44\",\"_id\":null,\"@type\":\"PC-NEWSSTAND-PRESS-BLOCK\",\"@code\":null,\"@template\":\"NONE\",\"@flowId\":null,\"@flowExecutionId\":null,\"@provider\":null,\"@lastModifiedAt\":null},{\"@type\":\"PC-NEWSSTAND-PRESS-BLOCK\",\"blocks\":null,\"materials\":null,\"excludeInPaging\":false,\"positionForPaging\":0,\"realtime\":false,\"pid\":\"969\",\"name\":\"매일노동뉴스\",\"logoLight\":{\"url\":\"https://s.pstatic.net/static/newsstand/2020/logo/light/0604/969.png\"},\"logoDark\":{\"url\":\"https://s.pstatic.net/static/newsstand/2020/logo/dark/0604/969.png\"},\"showThumbnailView\":true,\"showListView\":true,\"regDate\":\"20240313 07:40:04\",\"_id\":null,\"@type\":\"PC-NEWSSTAND-PRESS-BLOCK\",\"@code\":null,\"@template\":\"NONE\",\"@flowId\":null,\"@flowExecutionId\":null,\"@provider\":null,\"@lastModifiedAt\":null},{\"@type\":\"PC-NEWSSTAND-PRESS-BLOCK\",\"blocks\":null,\"materials\":null,\"excludeInPaging\":false,\"positionForPaging\":0,\"realtime\":false,\"pid\":\"050\",\"name\":\"한경비즈니스\",\"logoLight\":{\"url\":\"https://s.pstatic.net/static/newsstand/up/2020/0928/nsd125033437.png\"},\"logoDark\":{\"url\":\"https://s.pstatic.net/static/newsstand/up/2020/0928/nsd125026855.png\"},\"showThumbnailView\":true,\"showListView\":true,\"regDate\":\"20240313 10:35:08\",\"_id\":null,\"@type\":\"PC-NEWSSTAND-PRESS-BLOCK\",\"@code\":null,\"@template\":\"NONE\",\"@flowId\":null,\"@flowExecutionId\":null,\"@provider\":null,\"@lastModifiedAt\":null},{\"@type\":\"PC-NEWSSTAND-PRESS-BLOCK\",\"blocks\":null,\"materials\":null,\"excludeInPaging\":false,\"positionForPaging\":0,\"realtime\":false,\"pid\":\"293\",\"name\":\"블로터\",\"logoLight\":{\"url\":\"https://s.pstatic.net/static/newsstand/2020/logo/light/0604/293.png\"},\"logoDark\":{\"url\":\"https://s.pstatic.net/static/newsstand/2020/logo/dark/0604/293.png\"},\"showThumbnailView\":true,\"showListView\":true,\"regDate\":\"20240313 15:00:31\",\"_id\":null,\"@type\":\"PC-NEWSSTAND-PRESS-BLOCK\",\"@code\":null,\"@template\":\"NONE\",\"@flowId\":null,\"@flowExecutionId\":null,\"@provider\":null,\"@lastModifiedAt\":null},{\"@type\":\"PC-NEWSSTAND-PRESS-BLOCK\",\"blocks\":null,\"materials\":null,\"excludeInPaging\":false,\"positionForPaging\":0,\"realtime\":false,\"pid\":\"052\",\"name\":\"YTN\",\"logoLight\":{\"url\":\"https://s.pstatic.net/static/newsstand/2020/logo/light/0604/052.png\"},\"logoDark\":{\"url\":\"https://s.pstatic.net/static/newsstand/2020/logo/dark/0604/052.png\"},\"showThumbnailView\":true,\"showListView\":true,\"regDate\":\"20240313 14:49:23\",\"_id\":null,\"@type\":\"PC-NEWSSTAND-PRESS-BLOCK\",\"@code\":null,\"@template\":\"NONE\",\"@flowId\":null,\"@flowExecutionId\":null,\"@provider\":null,\"@lastModifiedAt\":null},{\"@type\":\"PC-NEWSSTAND-PRESS-BLOCK\",\"blocks\":null,\"materials\":null,\"excludeInPaging\":false,\"positionForPaging\":0,\"realtime\":false,\"pid\":\"296\",\"name\":\"코메디닷컴\",\"logoLight\":{\"url\":\"https://s.pstatic.net/static/newsstand/2020/logo/light/0604/296.png\"},\"logoDark\":{\"url\":\"https://s.pstatic.net/static/newsstand/2020/logo/dark/0604/296.png\"},\"showThumbnailView\":true,\"showListView\":true,\"regDate\":\"20240313 12:05:19\",\"_id\":null,\"@type\":\"PC-NEWSSTAND-PRESS-BLOCK\",\"@code\":null,\"@template\":\"NONE\",\"@flowId\":null,\"@flowExecutionId\":null,\"@provider\":null,\"@lastModifiedAt\":null},{\"@type\":\"PC-NEWSSTAND-PRESS-BLOCK\",\"blocks\":null,\"materials\":null,\"excludeInPaging\":false,\"positionForPaging\":0,\"realtime\":false,\"pid\":\"055\",\"name\":\"SBS\",\"logoLight\":{\"url\":\"https://s.pstatic.net/static/newsstand/2020/logo/light/0604/055.png\"},\"logoDark\":{\"url\":\"https://s.pstatic.net/static/newsstand/2020/logo/dark/0604/055.png\"},\"showThumbnailView\":true,\"showListView\":true,\"regDate\":\"20240313 15:01:35\",\"_id\":null,\"@type\":\"PC-NEWSSTAND-PRESS-BLOCK\",\"@code\":null,\"@template\":\"NONE\",\"@flowId\":null,\"@flowExecutionId\":null,\"@provider\":null,\"@lastModifiedAt\":null},{\"@type\":\"PC-NEWSSTAND-PRESS-BLOCK\",\"blocks\":null,\"materials\":null,\"excludeInPaging\":false,\"positionForPaging\":0,\"realtime\":false,\"pid\":\"056\",\"name\":\"KBS\",\"logoLight\":{\"url\":\"https://s.pstatic.net/static/newsstand/2020/logo/light/0604/056.png\"},\"logoDark\":{\"url\":\"https://s.pstatic.net/static/newsstand/2020/logo/dark/0604/056.png\"},\"showThumbnailView\":true,\"showListView\":true,\"regDate\":\"20240313 15:04:20\",\"_id\":null,\"@type\":\"PC-NEWSSTAND-PRESS-BLOCK\",\"@code\":null,\"@template\":\"NONE\",\"@flowId\":null,\"@flowExecutionId\":null,\"@provider\":null,\"@lastModifiedAt\":null},{\"@type\":\"PC-NEWSSTAND-PRESS-BLOCK\",\"blocks\":null,\"materials\":null,\"excludeInPaging\":false,\"positionForPaging\":0,\"realtime\":false,\"pid\":\"057\",\"name\":\"MBN\",\"logoLight\":{\"url\":\"https://s.pstatic.net/static/newsstand/2020/logo/light/0604/057.png\"},\"logoDark\":{\"url\":\"https://s.pstatic.net/static/newsstand/2020/logo/dark/0604/057.png\"},\"showThumbnailView\":true,\"showListView\":true,\"regDate\":\"20240313 15:05:01\",\"_id\":null,\"@type\":\"PC-NEWSSTAND-PRESS-BLOCK\",\"@code\":null,\"@template\":\"NONE\",\"@flowId\":null,\"@flowExecutionId\":null,\"@provider\":null,\"@lastModifiedAt\":null},{\"@type\":\"PC-NEWSSTAND-PRESS-BLOCK\",\"blocks\":null,\"materials\":null,\"excludeInPaging\":false,\"positionForPaging\":0,\"realtime\":false,\"pid\":\"970\",\"name\":\"소비자가만드는신문\",\"logoLight\":{\"url\":\"https://s.pstatic.net/static/newsstand/2020/logo/light/0604/970.png\"},\"logoDark\":{\"url\":\"https://s.pstatic.net/static/newsstand/2020/logo/dark/0604/970.png\"},\"showThumbnailView\":true,\"showListView\":true,\"regDate\":\"20240313 07:31:46\",\"_id\":null,\"@type\":\"PC-NEWSSTAND-PRESS-BLOCK\",\"@code\":null,\"@template\":\"NONE\",\"@flowId\":null,\"@flowExecutionId\":null,\"@provider\":null,\"@lastModifiedAt\":null},{\"@type\":\"PC-NEWSSTAND-PRESS-BLOCK\",\"blocks\":null,\"materials\":null,\"excludeInPaging\":false,\"positionForPaging\":0,\"realtime\":false,\"pid\":\"971\",\"name\":\"일요시사\",\"logoLight\":{\"url\":\"https://s.pstatic.net/static/newsstand/2020/logo/light/0604/971.png\"},\"logoDark\":{\"url\":\"https://s.pstatic.net/static/newsstand/2020/logo/dark/0604/971.png\"},\"showThumbnailView\":true,\"showListView\":true,\"regDate\":\"20240313 15:00:01\",\"_id\":null,\"@type\":\"PC-NEWSSTAND-PRESS-BLOCK\",\"@code\":null,\"@template\":\"NONE\",\"@flowId\":null,\"@flowExecutionId\":null,\"@provider\":null,\"@lastModifiedAt\":null},{\"@type\":\"PC-NEWSSTAND-PRESS-BLOCK\",\"blocks\":null,\"materials\":null,\"excludeInPaging\":false,\"positionForPaging\":0,\"realtime\":false,\"pid\":\"972\",\"name\":\"PD저널\",\"logoLight\":{\"url\":\"https://s.pstatic.net/static/newsstand/2020/logo/light/0604/972.png\"},\"logoDark\":{\"url\":\"https://s.pstatic.net/static/newsstand/2020/logo/dark/0604/972.png\"},\"showThumbnailView\":true,\"showListView\":true,\"regDate\":\"20240312 14:45:26\",\"_id\":null,\"@type\":\"PC-NEWSSTAND-PRESS-BLOCK\",\"@code\":null,\"@template\":\"NONE\",\"@flowId\":null,\"@flowExecutionId\":null,\"@provider\":null,\"@lastModifiedAt\":null},{\"@type\":\"PC-NEWSSTAND-PRESS-BLOCK\",\"blocks\":null,\"materials\":null,\"excludeInPaging\":false,\"positionForPaging\":0,\"realtime\":false,\"pid\":\"973\",\"name\":\"비즈한국\",\"logoLight\":{\"url\":\"https://s.pstatic.net/static/newsstand/2020/logo/light/0604/973.png\"},\"logoDark\":{\"url\":\"https://s.pstatic.net/static/newsstand/2020/logo/dark/0604/973.png\"},\"showThumbnailView\":true,\"showListView\":true,\"regDate\":\"20240313 15:02:14\",\"_id\":null,\"@type\":\"PC-NEWSSTAND-PRESS-BLOCK\",\"@code\":null,\"@template\":\"NONE\",\"@flowId\":null,\"@flowExecutionId\":null,\"@provider\":null,\"@lastModifiedAt\":null},{\"@type\":\"PC-NEWSSTAND-PRESS-BLOCK\",\"blocks\":null,\"materials\":null,\"excludeInPaging\":false,\"positionForPaging\":0,\"realtime\":false,\"pid\":\"974\",\"name\":\"BBS NEWS\",\"logoLight\":{\"url\":\"https://s.pstatic.net/static/newsstand/2020/logo/light/0604/974.png\"},\"logoDark\":{\"url\":\"https://s.pstatic.net/static/newsstand/2020/logo/dark/0604/974.png\"},\"showThumbnailView\":true,\"showListView\":true,\"regDate\":\"20240313 10:31:47\",\"_id\":null,\"@type\":\"PC-NEWSSTAND-PRESS-BLOCK\",\"@code\":null,\"@template\":\"NONE\",\"@flowId\":null,\"@flowExecutionId\":null,\"@provider\":null,\"@lastModifiedAt\":null},{\"@type\":\"PC-NEWSSTAND-PRESS-BLOCK\",\"blocks\":null,\"materials\":null,\"excludeInPaging\":false,\"positionForPaging\":0,\"realtime\":false,\"pid\":\"975\",\"name\":\"시사저널이코노미\",\"logoLight\":{\"url\":\"https://s.pstatic.net/static/newsstand/2020/logo/light/0604/975.png\"},\"logoDark\":{\"url\":\"https://s.pstatic.net/static/newsstand/2020/logo/dark/0604/975.png\"},\"showThumbnailView\":true,\"showListView\":true,\"regDate\":\"20240313 15:00:07\",\"_id\":null,\"@type\":\"PC-NEWSSTAND-PRESS-BLOCK\",\"@code\":null,\"@template\":\"NONE\",\"@flowId\":null,\"@flowExecutionId\":null,\"@provider\":null,\"@lastModifiedAt\":null},{\"@type\":\"PC-NEWSSTAND-PRESS-BLOCK\",\"blocks\":null,\"materials\":null,\"excludeInPaging\":false,\"positionForPaging\":0,\"realtime\":false,\"pid\":\"976\",\"name\":\"무등일보\",\"logoLight\":{\"url\":\"https://s.pstatic.net/static/newsstand/2020/logo/light/0604/976.png\"},\"logoDark\":{\"url\":\"https://s.pstatic.net/static/newsstand/2020/logo/dark/0604/976.png\"},\"showThumbnailView\":true,\"showListView\":true,\"regDate\":\"20240313 15:00:08\",\"_id\":null,\"@type\":\"PC-NEWSSTAND-PRESS-BLOCK\",\"@code\":null,\"@template\":\"NONE\",\"@flowId\":null,\"@flowExecutionId\":null,\"@provider\":null,\"@lastModifiedAt\":null},{\"@type\":\"PC-NEWSSTAND-PRESS-BLOCK\",\"blocks\":null,\"materials\":null,\"excludeInPaging\":false,\"positionForPaging\":0,\"realtime\":false,\"pid\":\"977\",\"name\":\"헬로디디\",\"logoLight\":{\"url\":\"https://s.pstatic.net/static/newsstand/2020/logo/light/0604/977.png\"},\"logoDark\":{\"url\":\"https://s.pstatic.net/static/newsstand/2020/logo/dark/0604/977.png\"},\"showThumbnailView\":true,\"showListView\":true,\"regDate\":\"20240313 15:00:19\",\"_id\":null,\"@type\":\"PC-NEWSSTAND-PRESS-BLOCK\",\"@code\":null,\"@template\":\"NONE\",\"@flowId\":null,\"@flowExecutionId\":null,\"@provider\":null,\"@lastModifiedAt\":null},{\"@type\":\"PC-NEWSSTAND-PRESS-BLOCK\",\"blocks\":null,\"materials\":null,\"excludeInPaging\":false,\"positionForPaging\":0,\"realtime\":false,\"pid\":\"978\",\"name\":\"경북도민일보\",\"logoLight\":{\"url\":\"https://s.pstatic.net/static/newsstand/2020/logo/light/0604/978.png\"},\"logoDark\":{\"url\":\"https://s.pstatic.net/static/newsstand/2020/logo/dark/0604/978.png\"},\"showThumbnailView\":true,\"showListView\":true,\"regDate\":\"20240312 19:01:00\",\"_id\":null,\"@type\":\"PC-NEWSSTAND-PRESS-BLOCK\",\"@code\":null,\"@template\":\"NONE\",\"@flowId\":null,\"@flowExecutionId\":null,\"@provider\":null,\"@lastModifiedAt\":null},{\"@type\":\"PC-NEWSSTAND-PRESS-BLOCK\",\"blocks\":null,\"materials\":null,\"excludeInPaging\":false,\"positionForPaging\":0,\"realtime\":false,\"pid\":\"979\",\"name\":\"약사공론\",\"logoLight\":{\"url\":\"https://s.pstatic.net/static/newsstand/2020/logo/light/0604/979.png\"},\"logoDark\":{\"url\":\"https://s.pstatic.net/static/newsstand/2020/logo/dark/0604/979.png\"},\"showThumbnailView\":true,\"showListView\":true,\"regDate\":\"20240313 12:00:58\",\"_id\":null,\"@type\":\"PC-NEWSSTAND-PRESS-BLOCK\",\"@code\":null,\"@template\":\"NONE\",\"@flowId\":null,\"@flowExecutionId\":null,\"@provider\":null,\"@lastModifiedAt\":null},{\"@type\":\"PC-NEWSSTAND-PRESS-BLOCK\",\"blocks\":null,\"materials\":null,\"excludeInPaging\":false,\"positionForPaging\":0,\"realtime\":false,\"pid\":\"980\",\"name\":\"KBC광주방송\",\"logoLight\":{\"url\":\"https://s.pstatic.net/static/newsstand/2020/logo/light/0604/980.png\"},\"logoDark\":{\"url\":\"https://s.pstatic.net/static/newsstand/2020/logo/dark/0604/980.png\"},\"showThumbnailView\":true,\"showListView\":true,\"regDate\":\"20240313 15:00:35\",\"_id\":null,\"@type\":\"PC-NEWSSTAND-PRESS-BLOCK\",\"@code\":null,\"@template\":\"NONE\",\"@flowId\":null,\"@flowExecutionId\":null,\"@provider\":null,\"@lastModifiedAt\":null},{\"@type\":\"PC-NEWSSTAND-PRESS-BLOCK\",\"blocks\":null,\"materials\":null,\"excludeInPaging\":false,\"positionForPaging\":0,\"realtime\":false,\"pid\":\"981\",\"name\":\"TBS\",\"logoLight\":{\"url\":\"https://s.pstatic.net/static/newsstand/2020/logo/light/0604/981.png\"},\"logoDark\":{\"url\":\"https://s.pstatic.net/static/newsstand/2020/logo/dark/0604/981.png\"},\"showThumbnailView\":true,\"showListView\":true,\"regDate\":\"20240313 15:02:21\",\"_id\":null,\"@type\":\"PC-NEWSSTAND-PRESS-BLOCK\",\"@code\":null,\"@template\":\"NONE\",\"@flowId\":null,\"@flowExecutionId\":null,\"@provider\":null,\"@lastModifiedAt\":null},{\"@type\":\"PC-NEWSSTAND-PRESS-BLOCK\",\"blocks\":null,\"materials\":null,\"excludeInPaging\":false,\"positionForPaging\":0,\"realtime\":false,\"pid\":\"982\",\"name\":\"이코노미조선\",\"logoLight\":{\"url\":\"https://s.pstatic.net/static/newsstand/2020/logo/light/0604/982.png\"},\"logoDark\":{\"url\":\"https://s.pstatic.net/static/newsstand/2020/logo/dark/0604/982.png\"},\"showThumbnailView\":true,\"showListView\":true,\"regDate\":\"20240311 14:39:47\",\"_id\":null,\"@type\":\"PC-NEWSSTAND-PRESS-BLOCK\",\"@code\":null,\"@template\":\"NONE\",\"@flowId\":null,\"@flowExecutionId\":null,\"@provider\":null,\"@lastModifiedAt\":null},{\"@type\":\"PC-NEWSSTAND-PRESS-BLOCK\",\"blocks\":null,\"materials\":null,\"excludeInPaging\":false,\"positionForPaging\":0,\"realtime\":false,\"pid\":\"983\",\"name\":\"중부매일\",\"logoLight\":{\"url\":\"https://s.pstatic.net/static/newsstand/2020/logo/light/0604/983.png\"},\"logoDark\":{\"url\":\"https://s.pstatic.net/static/newsstand/2020/logo/dark/0604/983.png\"},\"showThumbnailView\":true,\"showListView\":true,\"regDate\":\"20240312 19:37:16\",\"_id\":null,\"@type\":\"PC-NEWSSTAND-PRESS-BLOCK\",\"@code\":null,\"@template\":\"NONE\",\"@flowId\":null,\"@flowExecutionId\":null,\"@provider\":null,\"@lastModifiedAt\":null},{\"@type\":\"PC-NEWSSTAND-PRESS-BLOCK\",\"blocks\":null,\"materials\":null,\"excludeInPaging\":false,\"positionForPaging\":0,\"realtime\":false,\"pid\":\"984\",\"name\":\"낚시춘추\",\"logoLight\":{\"url\":\"https://s.pstatic.net/static/newsstand/2020/logo/light/0604/984.png\"},\"logoDark\":{\"url\":\"https://s.pstatic.net/static/newsstand/2020/logo/dark/0604/984.png\"},\"showThumbnailView\":true,\"showListView\":true,\"regDate\":\"20240311 15:30:00\",\"_id\":null,\"@type\":\"PC-NEWSSTAND-PRESS-BLOCK\",\"@code\":null,\"@template\":\"NONE\",\"@flowId\":null,\"@flowExecutionId\":null,\"@provider\":null,\"@lastModifiedAt\":null},{\"@type\":\"PC-NEWSSTAND-PRESS-BLOCK\",\"blocks\":null,\"materials\":null,\"excludeInPaging\":false,\"positionForPaging\":0,\"realtime\":false,\"pid\":\"986\",\"name\":\"투데이신문\",\"logoLight\":{\"url\":\"https://s.pstatic.net/static/newsstand/up/2020/1019/nsd144531857.png\"},\"logoDark\":{\"url\":\"https://s.pstatic.net/static/newsstand/up/2020/1019/nsd144525568.png\"},\"showThumbnailView\":true,\"showListView\":true,\"regDate\":\"20240313 15:00:03\",\"_id\":null,\"@type\":\"PC-NEWSSTAND-PRESS-BLOCK\",\"@code\":null,\"@template\":\"NONE\",\"@flowId\":null,\"@flowExecutionId\":null,\"@provider\":null,\"@lastModifiedAt\":null},{\"@type\":\"PC-NEWSSTAND-PRESS-BLOCK\",\"blocks\":null,\"materials\":null,\"excludeInPaging\":false,\"positionForPaging\":0,\"realtime\":false,\"pid\":\"988\",\"name\":\"이웃집과학자\",\"logoLight\":{\"url\":\"https://s.pstatic.net/static/newsstand/2020/logo/light/0604/988.png\"},\"logoDark\":{\"url\":\"https://s.pstatic.net/static/newsstand/2020/logo/dark/0604/988.png\"},\"showThumbnailView\":true,\"showListView\":true,\"regDate\":\"20240311 14:29:05\",\"_id\":null,\"@type\":\"PC-NEWSSTAND-PRESS-BLOCK\",\"@code\":null,\"@template\":\"NONE\",\"@flowId\":null,\"@flowExecutionId\":null,\"@provider\":null,\"@lastModifiedAt\":null},{\"@type\":\"PC-NEWSSTAND-PRESS-BLOCK\",\"blocks\":null,\"materials\":null,\"excludeInPaging\":false,\"positionForPaging\":0,\"realtime\":false,\"pid\":\"989\",\"name\":\"TBC\",\"logoLight\":{\"url\":\"https://s.pstatic.net/static/newsstand/2020/logo/light/0604/989.png\"},\"logoDark\":{\"url\":\"https://s.pstatic.net/static/newsstand/2020/logo/dark/0604/989.png\"},\"showThumbnailView\":true,\"showListView\":true,\"regDate\":\"20240313 08:10:04\",\"_id\":null,\"@type\":\"PC-NEWSSTAND-PRESS-BLOCK\",\"@code\":null,\"@template\":\"NONE\",\"@flowId\":null,\"@flowExecutionId\":null,\"@provider\":null,\"@lastModifiedAt\":null},{\"@type\":\"PC-NEWSSTAND-PRESS-BLOCK\",\"blocks\":null,\"materials\":null,\"excludeInPaging\":false,\"positionForPaging\":0,\"realtime\":false,\"pid\":\"073\",\"name\":\"스포츠서울\",\"logoLight\":{\"url\":\"https://s.pstatic.net/static/newsstand/up/2020/0708/nsd94830278.png\"},\"logoDark\":{\"url\":\"https://s.pstatic.net/static/newsstand/up/2020/0708/nsd94820151.png\"},\"showThumbnailView\":true,\"showListView\":true,\"regDate\":\"20240313 15:05:08\",\"_id\":null,\"@type\":\"PC-NEWSSTAND-PRESS-BLOCK\",\"@code\":null,\"@template\":\"NONE\",\"@flowId\":null,\"@flowExecutionId\":null,\"@provider\":null,\"@lastModifiedAt\":null},{\"@type\":\"PC-NEWSSTAND-PRESS-BLOCK\",\"blocks\":null,\"materials\":null,\"excludeInPaging\":false,\"positionForPaging\":0,\"realtime\":false,\"pid\":\"075\",\"name\":\"맥스무비\",\"logoLight\":{\"url\":\"https://s.pstatic.net/static/newsstand/2020/logo/light/0604/075.png\"},\"logoDark\":{\"url\":\"https://s.pstatic.net/static/newsstand/2020/logo/dark/0604/075.png\"},\"showThumbnailView\":true,\"showListView\":true,\"regDate\":\"20240313 11:34:34\",\"_id\":null,\"@type\":\"PC-NEWSSTAND-PRESS-BLOCK\",\"@code\":null,\"@template\":\"NONE\",\"@flowId\":null,\"@flowExecutionId\":null,\"@provider\":null,\"@lastModifiedAt\":null},{\"@type\":\"PC-NEWSSTAND-PRESS-BLOCK\",\"blocks\":null,\"materials\":null,\"excludeInPaging\":false,\"positionForPaging\":0,\"realtime\":false,\"pid\":\"076\",\"name\":\"스포츠조선\",\"logoLight\":{\"url\":\"https://s.pstatic.net/static/newsstand/2020/logo/light/0604/076.png\"},\"logoDark\":{\"url\":\"https://s.pstatic.net/static/newsstand/2020/logo/dark/0604/076.png\"},\"showThumbnailView\":true,\"showListView\":true,\"regDate\":\"20240313 14:19:07\",\"_id\":null,\"@type\":\"PC-NEWSSTAND-PRESS-BLOCK\",\"@code\":null,\"@template\":\"NONE\",\"@flowId\":null,\"@flowExecutionId\":null,\"@provider\":null,\"@lastModifiedAt\":null},{\"@type\":\"PC-NEWSSTAND-PRESS-BLOCK\",\"blocks\":null,\"materials\":null,\"excludeInPaging\":false,\"positionForPaging\":0,\"realtime\":false,\"pid\":\"990\",\"name\":\"주간조선\",\"logoLight\":{\"url\":\"https://s.pstatic.net/static/newsstand/2020/logo/light/0604/990.png\"},\"logoDark\":{\"url\":\"https://s.pstatic.net/static/newsstand/2020/logo/dark/0604/990.png\"},\"showThumbnailView\":true,\"showListView\":true,\"regDate\":\"20240313 15:00:27\",\"_id\":null,\"@type\":\"PC-NEWSSTAND-PRESS-BLOCK\",\"@code\":null,\"@template\":\"NONE\",\"@flowId\":null,\"@flowExecutionId\":null,\"@provider\":null,\"@lastModifiedAt\":null},{\"@type\":\"PC-NEWSSTAND-PRESS-BLOCK\",\"blocks\":null,\"materials\":null,\"excludeInPaging\":false,\"positionForPaging\":0,\"realtime\":false,\"pid\":\"991\",\"name\":\"데일리NK\",\"logoLight\":{\"url\":\"https://s.pstatic.net/static/newsstand/2020/logo/light/0604/991.png\"},\"logoDark\":{\"url\":\"https://s.pstatic.net/static/newsstand/2020/logo/dark/0604/991.png\"},\"showThumbnailView\":true,\"showListView\":true,\"regDate\":\"20240313 05:22:15\",\"_id\":null,\"@type\":\"PC-NEWSSTAND-PRESS-BLOCK\",\"@code\":null,\"@template\":\"NONE\",\"@flowId\":null,\"@flowExecutionId\":null,\"@provider\":null,\"@lastModifiedAt\":null},{\"@type\":\"PC-NEWSSTAND-PRESS-BLOCK\",\"blocks\":null,\"materials\":null,\"excludeInPaging\":false,\"positionForPaging\":0,\"realtime\":false,\"pid\":\"079\",\"name\":\"노컷뉴스\",\"logoLight\":{\"url\":\"https://s.pstatic.net/static/newsstand/2020/logo/light/0604/079.png\"},\"logoDark\":{\"url\":\"https://s.pstatic.net/static/newsstand/2020/logo/dark/0604/079.png\"},\"showThumbnailView\":true,\"showListView\":true,\"regDate\":\"20240313 14:53:27\",\"_id\":null,\"@type\":\"PC-NEWSSTAND-PRESS-BLOCK\",\"@code\":null,\"@template\":\"NONE\",\"@flowId\":null,\"@flowExecutionId\":null,\"@provider\":null,\"@lastModifiedAt\":null},{\"@type\":\"PC-NEWSSTAND-PRESS-BLOCK\",\"blocks\":null,\"materials\":null,\"excludeInPaging\":false,\"positionForPaging\":0,\"realtime\":false,\"pid\":\"993\",\"name\":\"허프포스트코리아\",\"logoLight\":{\"url\":\"https://s.pstatic.net/static/newsstand/2020/logo/light/0604/993.png\"},\"logoDark\":{\"url\":\"https://s.pstatic.net/static/newsstand/2020/logo/dark/0604/993.png\"},\"showThumbnailView\":true,\"showListView\":true,\"regDate\":\"20240313 15:00:28\",\"_id\":null,\"@type\":\"PC-NEWSSTAND-PRESS-BLOCK\",\"@code\":null,\"@template\":\"NONE\",\"@flowId\":null,\"@flowExecutionId\":null,\"@provider\":null,\"@lastModifiedAt\":null},{\"@type\":\"PC-NEWSSTAND-PRESS-BLOCK\",\"blocks\":null,\"materials\":null,\"excludeInPaging\":false,\"positionForPaging\":0,\"realtime\":false,\"pid\":\"994\",\"name\":\"AI타임스\",\"logoLight\":{\"url\":\"https://s.pstatic.net/static/newsstand/up/2021/1112/nsd102040597.png\"},\"logoDark\":{\"url\":\"https://s.pstatic.net/static/newsstand/up/2021/1112/nsd102110770.png\"},\"showThumbnailView\":true,\"showListView\":true,\"regDate\":\"20240313 14:50:22\",\"_id\":null,\"@type\":\"PC-NEWSSTAND-PRESS-BLOCK\",\"@code\":null,\"@template\":\"NONE\",\"@flowId\":null,\"@flowExecutionId\":null,\"@provider\":null,\"@lastModifiedAt\":null},{\"@type\":\"PC-NEWSSTAND-PRESS-BLOCK\",\"blocks\":null,\"materials\":null,\"excludeInPaging\":false,\"positionForPaging\":0,\"realtime\":false,\"pid\":\"995\",\"name\":\"뉴스포스트\",\"logoLight\":{\"url\":\"https://s.pstatic.net/static/newsstand/up/2021/1112/nsd10248812.png\"},\"logoDark\":{\"url\":\"https://s.pstatic.net/static/newsstand/up/2021/1112/nsd102419893.png\"},\"showThumbnailView\":true,\"showListView\":true,\"regDate\":\"20240313 14:50:23\",\"_id\":null,\"@type\":\"PC-NEWSSTAND-PRESS-BLOCK\",\"@code\":null,\"@template\":\"NONE\",\"@flowId\":null,\"@flowExecutionId\":null,\"@provider\":null,\"@lastModifiedAt\":null},{\"@type\":\"PC-NEWSSTAND-PRESS-BLOCK\",\"blocks\":null,\"materials\":null,\"excludeInPaging\":false,\"positionForPaging\":0,\"realtime\":false,\"pid\":\"996\",\"name\":\"매경헬스\",\"logoLight\":{\"url\":\"https://s.pstatic.net/static/newsstand/up/2023/0330/nsd10125746.png\"},\"logoDark\":{\"url\":\"https://s.pstatic.net/static/newsstand/up/2023/0330/nsd10148542.png\"},\"showThumbnailView\":true,\"showListView\":true,\"regDate\":\"20240313 14:50:25\",\"_id\":null,\"@type\":\"PC-NEWSSTAND-PRESS-BLOCK\",\"@code\":null,\"@template\":\"NONE\",\"@flowId\":null,\"@flowExecutionId\":null,\"@provider\":null,\"@lastModifiedAt\":null},{\"@type\":\"PC-NEWSSTAND-PRESS-BLOCK\",\"blocks\":null,\"materials\":null,\"excludeInPaging\":false,\"positionForPaging\":0,\"realtime\":false,\"pid\":\"997\",\"name\":\"뉴스펭귄\",\"logoLight\":{\"url\":\"https://s.pstatic.net/static/newsstand/up/2022/0405/nsd15024245.png\"},\"logoDark\":{\"url\":\"https://s.pstatic.net/static/newsstand/up/2022/0405/nsd15014578.png\"},\"showThumbnailView\":true,\"showListView\":true,\"regDate\":\"20240313 14:50:26\",\"_id\":null,\"@type\":\"PC-NEWSSTAND-PRESS-BLOCK\",\"@code\":null,\"@template\":\"NONE\",\"@flowId\":null,\"@flowExecutionId\":null,\"@provider\":null,\"@lastModifiedAt\":null},{\"@type\":\"PC-NEWSSTAND-PRESS-BLOCK\",\"blocks\":null,\"materials\":null,\"excludeInPaging\":false,\"positionForPaging\":0,\"realtime\":false,\"pid\":\"998\",\"name\":\"뉴스앤조이\",\"logoLight\":{\"url\":\"https://s.pstatic.net/static/newsstand/up/2022/0328/nsd22503109.png\"},\"logoDark\":{\"url\":\"https://s.pstatic.net/static/newsstand/up/2022/0328/nsd22509287.png\"},\"showThumbnailView\":true,\"showListView\":true,\"regDate\":\"20240313 14:50:26\",\"_id\":null,\"@type\":\"PC-NEWSSTAND-PRESS-BLOCK\",\"@code\":null,\"@template\":\"NONE\",\"@flowId\":null,\"@flowExecutionId\":null,\"@provider\":null,\"@lastModifiedAt\":null},{\"@type\":\"PC-NEWSSTAND-PRESS-BLOCK\",\"blocks\":null,\"materials\":null,\"excludeInPaging\":false,\"positionForPaging\":0,\"realtime\":false,\"pid\":\"081\",\"name\":\"서울신문\",\"logoLight\":{\"url\":\"https://s.pstatic.net/static/newsstand/up/2022/0208/nsd16121208.png\"},\"logoDark\":{\"url\":\"https://s.pstatic.net/static/newsstand/up/2022/0208/nsd161212576.png\"},\"showThumbnailView\":true,\"showListView\":true,\"regDate\":\"20240313 14:19:33\",\"_id\":null,\"@type\":\"PC-NEWSSTAND-PRESS-BLOCK\",\"@code\":null,\"@template\":\"NONE\",\"@flowId\":null,\"@flowExecutionId\":null,\"@provider\":null,\"@lastModifiedAt\":null},{\"@type\":\"PC-NEWSSTAND-PRESS-BLOCK\",\"blocks\":null,\"materials\":null,\"excludeInPaging\":false,\"positionForPaging\":0,\"realtime\":false,\"pid\":\"082\",\"name\":\"부산일보\",\"logoLight\":{\"url\":\"https://s.pstatic.net/static/newsstand/up/2021/0322/nsd21527882.png\"},\"logoDark\":{\"url\":\"https://s.pstatic.net/static/newsstand/up/2021/0322/nsd215225866.png\"},\"showThumbnailView\":true,\"showListView\":true,\"regDate\":\"20240313 11:43:40\",\"_id\":null,\"@type\":\"PC-NEWSSTAND-PRESS-BLOCK\",\"@code\":null,\"@template\":\"NONE\",\"@flowId\":null,\"@flowExecutionId\":null,\"@provider\":null,\"@lastModifiedAt\":null},{\"@type\":\"PC-NEWSSTAND-PRESS-BLOCK\",\"blocks\":null,\"materials\":null,\"excludeInPaging\":false,\"positionForPaging\":0,\"realtime\":false,\"pid\":\"083\",\"name\":\"광주일보\",\"logoLight\":{\"url\":\"https://s.pstatic.net/static/newsstand/up/2023/0309/nsd195548501.png\"},\"logoDark\":{\"url\":\"https://s.pstatic.net/static/newsstand/up/2023/0309/nsd1956932.png\"},\"showThumbnailView\":true,\"showListView\":true,\"regDate\":\"20240313 15:04:51\",\"_id\":null,\"@type\":\"PC-NEWSSTAND-PRESS-BLOCK\",\"@code\":null,\"@template\":\"NONE\",\"@flowId\":null,\"@flowExecutionId\":null,\"@provider\":null,\"@lastModifiedAt\":null},{\"@type\":\"PC-NEWSSTAND-PRESS-BLOCK\",\"blocks\":null,\"materials\":null,\"excludeInPaging\":false,\"positionForPaging\":0,\"realtime\":false,\"pid\":\"087\",\"name\":\"강원일보\",\"logoLight\":{\"url\":\"https://s.pstatic.net/static/newsstand/2020/logo/light/0604/087.png\"},\"logoDark\":{\"url\":\"https://s.pstatic.net/static/newsstand/2020/logo/dark/0604/087.png\"},\"showThumbnailView\":true,\"showListView\":true,\"regDate\":\"20240313 07:30:32\",\"_id\":null,\"@type\":\"PC-NEWSSTAND-PRESS-BLOCK\",\"@code\":null,\"@template\":\"NONE\",\"@flowId\":null,\"@flowExecutionId\":null,\"@provider\":null,\"@lastModifiedAt\":null},{\"@type\":\"PC-NEWSSTAND-PRESS-BLOCK\",\"blocks\":null,\"materials\":null,\"excludeInPaging\":false,\"positionForPaging\":0,\"realtime\":false,\"pid\":\"088\",\"name\":\"매일신문\",\"logoLight\":{\"url\":\"https://s.pstatic.net/static/newsstand/2020/logo/light/0604/088.png\"},\"logoDark\":{\"url\":\"https://s.pstatic.net/static/newsstand/2020/logo/dark/0604/088.png\"},\"showThumbnailView\":true,\"showListView\":true,\"regDate\":\"20240313 11:15:08\",\"_id\":null,\"@type\":\"PC-NEWSSTAND-PRESS-BLOCK\",\"@code\":null,\"@template\":\"NONE\",\"@flowId\":null,\"@flowExecutionId\":null,\"@provider\":null,\"@lastModifiedAt\":null},{\"@type\":\"PC-NEWSSTAND-PRESS-BLOCK\",\"blocks\":null,\"materials\":null,\"excludeInPaging\":false,\"positionForPaging\":0,\"realtime\":false,\"pid\":\"089\",\"name\":\"대전일보\",\"logoLight\":{\"url\":\"https://s.pstatic.net/static/newsstand/2020/logo/light/0604/089.png\"},\"logoDark\":{\"url\":\"https://s.pstatic.net/static/newsstand/2020/logo/dark/0604/089.png\"},\"showThumbnailView\":true,\"showListView\":true,\"regDate\":\"20240313 15:05:01\",\"_id\":null,\"@type\":\"PC-NEWSSTAND-PRESS-BLOCK\",\"@code\":null,\"@template\":\"NONE\",\"@flowId\":null,\"@flowExecutionId\":null,\"@provider\":null,\"@lastModifiedAt\":null},{\"@type\":\"PC-NEWSSTAND-PRESS-BLOCK\",\"blocks\":null,\"materials\":null,\"excludeInPaging\":false,\"positionForPaging\":0,\"realtime\":false,\"pid\":\"529\",\"name\":\"스포츠춘추\",\"logoLight\":{\"url\":\"https://s.pstatic.net/static/newsstand/up/2022/0116/nsd19454239.png\"},\"logoDark\":{\"url\":\"https://s.pstatic.net/static/newsstand/up/2022/0116/nsd194523259.png\"},\"showThumbnailView\":true,\"showListView\":true,\"regDate\":\"20240313 15:00:23\",\"_id\":null,\"@type\":\"PC-NEWSSTAND-PRESS-BLOCK\",\"@code\":null,\"@template\":\"NONE\",\"@flowId\":null,\"@flowExecutionId\":null,\"@provider\":null,\"@lastModifiedAt\":null},{\"@type\":\"PC-NEWSSTAND-PRESS-BLOCK\",\"blocks\":null,\"materials\":null,\"excludeInPaging\":false,\"positionForPaging\":0,\"realtime\":false,\"pid\":\"092\",\"name\":\"지디넷코리아\",\"logoLight\":{\"url\":\"https://s.pstatic.net/static/newsstand/up/2022/0905/nsd131925414.png\"},\"logoDark\":{\"url\":\"https://s.pstatic.net/static/newsstand/up/2022/0905/nsd91639628.png\"},\"showThumbnailView\":true,\"showListView\":true,\"regDate\":\"20240313 15:01:08\",\"_id\":null,\"@type\":\"PC-NEWSSTAND-PRESS-BLOCK\",\"@code\":null,\"@template\":\"NONE\",\"@flowId\":null,\"@flowExecutionId\":null,\"@provider\":null,\"@lastModifiedAt\":null},{\"@type\":\"PC-NEWSSTAND-PRESS-BLOCK\",\"blocks\":null,\"materials\":null,\"excludeInPaging\":false,\"positionForPaging\":0,\"realtime\":false,\"pid\":\"094\",\"name\":\"월간 산\",\"logoLight\":{\"url\":\"https://s.pstatic.net/static/newsstand/2020/logo/light/0604/094.png\"},\"logoDark\":{\"url\":\"https://s.pstatic.net/static/newsstand/2020/logo/dark/0604/094.png\"},\"showThumbnailView\":true,\"showListView\":true,\"regDate\":\"20240313 15:00:27\",\"_id\":null,\"@type\":\"PC-NEWSSTAND-PRESS-BLOCK\",\"@code\":null,\"@template\":\"NONE\",\"@flowId\":null,\"@flowExecutionId\":null,\"@provider\":null,\"@lastModifiedAt\":null},{\"@type\":\"PC-NEWSSTAND-PRESS-BLOCK\",\"blocks\":null,\"materials\":null,\"excludeInPaging\":false,\"positionForPaging\":0,\"realtime\":false,\"pid\":\"536\",\"name\":\"더팩트\",\"logoLight\":{\"url\":\"https://s.pstatic.net/static/newsstand/2020/logo/light/0604/536.png\"},\"logoDark\":{\"url\":\"https://s.pstatic.net/static/newsstand/2020/logo/dark/0604/536.png\"},\"showThumbnailView\":true,\"showListView\":true,\"regDate\":\"20240313 14:35:13\",\"_id\":null,\"@type\":\"PC-NEWSSTAND-PRESS-BLOCK\",\"@code\":null,\"@template\":\"NONE\",\"@flowId\":null,\"@flowExecutionId\":null,\"@provider\":null,\"@lastModifiedAt\":null},{\"@type\":\"PC-NEWSSTAND-PRESS-BLOCK\",\"blocks\":null,\"materials\":null,\"excludeInPaging\":false,\"positionForPaging\":0,\"realtime\":false,\"pid\":\"416\",\"name\":\"SBS연예뉴스\",\"logoLight\":{\"url\":\"https://s.pstatic.net/static/newsstand/up/2020/1228/nsd1681569.png\"},\"logoDark\":{\"url\":\"https://s.pstatic.net/static/newsstand/up/2020/1228/nsd1688305.png\"},\"showThumbnailView\":true,\"showListView\":true,\"regDate\":\"20240313 15:05:28\",\"_id\":null,\"@type\":\"PC-NEWSSTAND-PRESS-BLOCK\",\"@code\":null,\"@template\":\"NONE\",\"@flowId\":null,\"@flowExecutionId\":null,\"@provider\":null,\"@lastModifiedAt\":null},{\"@type\":\"PC-NEWSSTAND-PRESS-BLOCK\",\"blocks\":null,\"materials\":null,\"excludeInPaging\":false,\"positionForPaging\":0,\"realtime\":false,\"pid\":\"417\",\"name\":\"머니S\",\"logoLight\":{\"url\":\"https://s.pstatic.net/static/newsstand/2020/logo/light/0604/417.png\"},\"logoDark\":{\"url\":\"https://s.pstatic.net/static/newsstand/2020/logo/dark/0604/417.png\"},\"showThumbnailView\":true,\"showListView\":true,\"regDate\":\"20240313 15:05:29\",\"_id\":null,\"@type\":\"PC-NEWSSTAND-PRESS-BLOCK\",\"@code\":null,\"@template\":\"NONE\",\"@flowId\":null,\"@flowExecutionId\":null,\"@provider\":null,\"@lastModifiedAt\":null},{\"@type\":\"PC-NEWSSTAND-PRESS-BLOCK\",\"blocks\":null,\"materials\":null,\"excludeInPaging\":false,\"positionForPaging\":0,\"realtime\":false,\"pid\":\"539\",\"name\":\"위키트리\",\"logoLight\":{\"url\":\"https://s.pstatic.net/static/newsstand/2020/logo/light/0604/539.png\"},\"logoDark\":{\"url\":\"https://s.pstatic.net/static/newsstand/2020/logo/dark/0604/539.png\"},\"showThumbnailView\":true,\"showListView\":true,\"regDate\":\"20240313 15:05:28\",\"_id\":null,\"@type\":\"PC-NEWSSTAND-PRESS-BLOCK\",\"@code\":null,\"@template\":\"NONE\",\"@flowId\":null,\"@flowExecutionId\":null,\"@provider\":null,\"@lastModifiedAt\":null},{\"@type\":\"PC-NEWSSTAND-PRESS-BLOCK\",\"blocks\":null,\"materials\":null,\"excludeInPaging\":false,\"positionForPaging\":0,\"realtime\":false,\"pid\":\"421\",\"name\":\"뉴스1\",\"logoLight\":{\"url\":\"https://s.pstatic.net/static/newsstand/up/2024/0229/nsd103734195.png\"},\"logoDark\":{\"url\":\"https://s.pstatic.net/static/newsstand/up/2024/0229/nsd10375418.png\"},\"showThumbnailView\":true,\"showListView\":true,\"regDate\":\"20240313 14:58:49\",\"_id\":null,\"@type\":\"PC-NEWSSTAND-PRESS-BLOCK\",\"@code\":null,\"@template\":\"NONE\",\"@flowId\":null,\"@flowExecutionId\":null,\"@provider\":null,\"@lastModifiedAt\":null},{\"@type\":\"PC-NEWSSTAND-PRESS-BLOCK\",\"blocks\":null,\"materials\":null,\"excludeInPaging\":false,\"positionForPaging\":0,\"realtime\":false,\"pid\":\"301\",\"name\":\"광주드림\",\"logoLight\":{\"url\":\"https://s.pstatic.net/static/newsstand/2020/logo/light/0604/301.png\"},\"logoDark\":{\"url\":\"https://s.pstatic.net/static/newsstand/2020/logo/dark/0604/301.png\"},\"showThumbnailView\":true,\"showListView\":true,\"regDate\":\"20240313 15:00:19\",\"_id\":null,\"@type\":\"PC-NEWSSTAND-PRESS-BLOCK\",\"@code\":null,\"@template\":\"NONE\",\"@flowId\":null,\"@flowExecutionId\":null,\"@provider\":null,\"@lastModifiedAt\":null},{\"@type\":\"PC-NEWSSTAND-PRESS-BLOCK\",\"blocks\":null,\"materials\":null,\"excludeInPaging\":false,\"positionForPaging\":0,\"realtime\":false,\"pid\":\"422\",\"name\":\"연합뉴스TV\",\"logoLight\":{\"url\":\"https://s.pstatic.net/static/newsstand/2020/logo/light/0604/422.png\"},\"logoDark\":{\"url\":\"https://s.pstatic.net/static/newsstand/2020/logo/dark/0604/422.png\"},\"showThumbnailView\":true,\"showListView\":true,\"regDate\":\"20240313 15:01:56\",\"_id\":null,\"@type\":\"PC-NEWSSTAND-PRESS-BLOCK\",\"@code\":null,\"@template\":\"NONE\",\"@flowId\":null,\"@flowExecutionId\":null,\"@provider\":null,\"@lastModifiedAt\":null},{\"@type\":\"PC-NEWSSTAND-PRESS-BLOCK\",\"blocks\":null,\"materials\":null,\"excludeInPaging\":false,\"positionForPaging\":0,\"realtime\":false,\"pid\":\"308\",\"name\":\"시사IN\",\"logoLight\":{\"url\":\"https://s.pstatic.net/static/newsstand/2020/logo/light/0604/308.png\"},\"logoDark\":{\"url\":\"https://s.pstatic.net/static/newsstand/2020/logo/dark/0604/308.png\"},\"showThumbnailView\":true,\"showListView\":true,\"regDate\":\"20240313 06:08:21\",\"_id\":null,\"@type\":\"PC-NEWSSTAND-PRESS-BLOCK\",\"@code\":null,\"@template\":\"NONE\",\"@flowId\":null,\"@flowExecutionId\":null,\"@provider\":null,\"@lastModifiedAt\":null},{\"@type\":\"PC-NEWSSTAND-PRESS-BLOCK\",\"blocks\":null,\"materials\":null,\"excludeInPaging\":false,\"positionForPaging\":0,\"realtime\":false,\"pid\":\"310\",\"name\":\"여성신문\",\"logoLight\":{\"url\":\"https://s.pstatic.net/static/newsstand/2020/logo/light/0604/310.png\"},\"logoDark\":{\"url\":\"https://s.pstatic.net/static/newsstand/2020/logo/dark/0604/310.png\"},\"showThumbnailView\":true,\"showListView\":true,\"regDate\":\"20240313 15:00:02\",\"_id\":null,\"@type\":\"PC-NEWSSTAND-PRESS-BLOCK\",\"@code\":null,\"@template\":\"NONE\",\"@flowId\":null,\"@flowExecutionId\":null,\"@provider\":null,\"@lastModifiedAt\":null},{\"@type\":\"PC-NEWSSTAND-PRESS-BLOCK\",\"blocks\":null,\"materials\":null,\"excludeInPaging\":false,\"positionForPaging\":0,\"realtime\":false,\"pid\":\"311\",\"name\":\"엑스포츠뉴스\",\"logoLight\":{\"url\":\"https://s.pstatic.net/static/newsstand/2020/logo/light/0604/311.png\"},\"logoDark\":{\"url\":\"https://s.pstatic.net/static/newsstand/2020/logo/dark/0604/311.png\"},\"showThumbnailView\":true,\"showListView\":true,\"regDate\":\"20240313 13:28:05\",\"_id\":null,\"@type\":\"PC-NEWSSTAND-PRESS-BLOCK\",\"@code\":null,\"@template\":\"NONE\",\"@flowId\":null,\"@flowExecutionId\":null,\"@provider\":null,\"@lastModifiedAt\":null},{\"@type\":\"PC-NEWSSTAND-PRESS-BLOCK\",\"blocks\":null,\"materials\":null,\"excludeInPaging\":false,\"positionForPaging\":0,\"realtime\":false,\"pid\":\"312\",\"name\":\"텐아시아\",\"logoLight\":{\"url\":\"https://s.pstatic.net/static/newsstand/2020/logo/light/0604/312.png\"},\"logoDark\":{\"url\":\"https://s.pstatic.net/static/newsstand/2020/logo/dark/0604/312.png\"},\"showThumbnailView\":true,\"showListView\":true,\"regDate\":\"20240313 14:17:11\",\"_id\":null,\"@type\":\"PC-NEWSSTAND-PRESS-BLOCK\",\"@code\":null,\"@template\":\"NONE\",\"@flowId\":null,\"@flowExecutionId\":null,\"@provider\":null,\"@lastModifiedAt\":null},{\"@type\":\"PC-NEWSSTAND-PRESS-BLOCK\",\"blocks\":null,\"materials\":null,\"excludeInPaging\":false,\"positionForPaging\":0,\"realtime\":false,\"pid\":\"314\",\"name\":\"스포츠동아\",\"logoLight\":{\"url\":\"https://s.pstatic.net/static/newsstand/2020/logo/light/0604/314.png\"},\"logoDark\":{\"url\":\"https://s.pstatic.net/static/newsstand/2020/logo/dark/0604/314.png\"},\"showThumbnailView\":true,\"showListView\":true,\"regDate\":\"20240313 14:33:19\",\"_id\":null,\"@type\":\"PC-NEWSSTAND-PRESS-BLOCK\",\"@code\":null,\"@template\":\"NONE\",\"@flowId\":null,\"@flowExecutionId\":null,\"@provider\":null,\"@lastModifiedAt\":null},{\"@type\":\"PC-NEWSSTAND-PRESS-BLOCK\",\"blocks\":null,\"materials\":null,\"excludeInPaging\":false,\"positionForPaging\":0,\"realtime\":false,\"pid\":\"681\",\"name\":\"이코노타임즈\",\"logoLight\":{\"url\":\"https://s.pstatic.net/static/newsstand/up/2022/0615/nsd7251644.png\"},\"logoDark\":{\"url\":\"https://s.pstatic.net/static/newsstand/up/2022/0615/nsd7244919.png\"},\"showThumbnailView\":true,\"showListView\":true,\"regDate\":\"20240312 11:23:22\",\"_id\":null,\"@type\":\"PC-NEWSSTAND-PRESS-BLOCK\",\"@code\":null,\"@template\":\"NONE\",\"@flowId\":null,\"@flowExecutionId\":null,\"@provider\":null,\"@lastModifiedAt\":null},{\"@type\":\"PC-NEWSSTAND-PRESS-BLOCK\",\"blocks\":null,\"materials\":null,\"excludeInPaging\":false,\"positionForPaging\":0,\"realtime\":false,\"pid\":\"440\",\"name\":\"티브이데일리\",\"logoLight\":{\"url\":\"https://s.pstatic.net/static/newsstand/2020/logo/light/0604/440.png\"},\"logoDark\":{\"url\":\"https://s.pstatic.net/static/newsstand/2020/logo/dark/0604/440.png\"},\"showThumbnailView\":true,\"showListView\":true,\"regDate\":\"20240313 15:00:01\",\"_id\":null,\"@type\":\"PC-NEWSSTAND-PRESS-BLOCK\",\"@code\":null,\"@template\":\"NONE\",\"@flowId\":null,\"@flowExecutionId\":null,\"@provider\":null,\"@lastModifiedAt\":null},{\"@type\":\"PC-NEWSSTAND-PRESS-BLOCK\",\"blocks\":null,\"materials\":null,\"excludeInPaging\":false,\"positionForPaging\":0,\"realtime\":false,\"pid\":\"682\",\"name\":\"여성경제신문\",\"logoLight\":{\"url\":\"https://s.pstatic.net/static/newsstand/up/2022/1018/nsd132851977.png\"},\"logoDark\":{\"url\":\"https://s.pstatic.net/static/newsstand/up/2022/1018/nsd132844419.png\"},\"showThumbnailView\":true,\"showListView\":true,\"regDate\":\"20240313 14:50:30\",\"_id\":null,\"@type\":\"PC-NEWSSTAND-PRESS-BLOCK\",\"@code\":null,\"@template\":\"NONE\",\"@flowId\":null,\"@flowExecutionId\":null,\"@provider\":null,\"@lastModifiedAt\":null},{\"@type\":\"PC-NEWSSTAND-PRESS-BLOCK\",\"blocks\":null,\"materials\":null,\"excludeInPaging\":false,\"positionForPaging\":0,\"realtime\":false,\"pid\":\"683\",\"name\":\"MS투데이\",\"logoLight\":{\"url\":\"https://s.pstatic.net/static/newsstand/up/2022/1017/nsd202940832.png\"},\"logoDark\":{\"url\":\"https://s.pstatic.net/static/newsstand/up/2022/1017/nsd202933363.png\"},\"showThumbnailView\":true,\"showListView\":true,\"regDate\":\"20240313 14:50:31\",\"_id\":null,\"@type\":\"PC-NEWSSTAND-PRESS-BLOCK\",\"@code\":null,\"@template\":\"NONE\",\"@flowId\":null,\"@flowExecutionId\":null,\"@provider\":null,\"@lastModifiedAt\":null},{\"@type\":\"PC-NEWSSTAND-PRESS-BLOCK\",\"blocks\":null,\"materials\":null,\"excludeInPaging\":false,\"positionForPaging\":0,\"realtime\":false,\"pid\":\"684\",\"name\":\"TJB대전방송\",\"logoLight\":{\"url\":\"https://s.pstatic.net/static/newsstand/up/2023/0103/nsd95227559.png\"},\"logoDark\":{\"url\":\"https://s.pstatic.net/static/newsstand/up/2023/0103/nsd9522095.png\"},\"showThumbnailView\":true,\"showListView\":true,\"regDate\":\"20240313 08:00:01\",\"_id\":null,\"@type\":\"PC-NEWSSTAND-PRESS-BLOCK\",\"@code\":null,\"@template\":\"NONE\",\"@flowId\":null,\"@flowExecutionId\":null,\"@provider\":null,\"@lastModifiedAt\":null},{\"@type\":\"PC-NEWSSTAND-PRESS-BLOCK\",\"blocks\":null,\"materials\":null,\"excludeInPaging\":false,\"positionForPaging\":0,\"realtime\":false,\"pid\":\"685\",\"name\":\"서울와이어\",\"logoLight\":{\"url\":\"https://s.pstatic.net/static/newsstand/up/2022/1024/nsd174430433.png\"},\"logoDark\":{\"url\":\"https://s.pstatic.net/static/newsstand/up/2022/1024/nsd174424325.png\"},\"showThumbnailView\":true,\"showListView\":true,\"regDate\":\"20240313 14:50:31\",\"_id\":null,\"@type\":\"PC-NEWSSTAND-PRESS-BLOCK\",\"@code\":null,\"@template\":\"NONE\",\"@flowId\":null,\"@flowExecutionId\":null,\"@provider\":null,\"@lastModifiedAt\":null},{\"@type\":\"PC-NEWSSTAND-PRESS-BLOCK\",\"blocks\":null,\"materials\":null,\"excludeInPaging\":false,\"positionForPaging\":0,\"realtime\":false,\"pid\":\"686\",\"name\":\"주간경향\",\"logoLight\":{\"url\":\"https://s.pstatic.net/static/newsstand/up/2022/1007/nsd161849944.png\"},\"logoDark\":{\"url\":\"https://s.pstatic.net/static/newsstand/up/2022/1007/nsd161842489.png\"},\"showThumbnailView\":true,\"showListView\":true,\"regDate\":\"20240313 06:28:55\",\"_id\":null,\"@type\":\"PC-NEWSSTAND-PRESS-BLOCK\",\"@code\":null,\"@template\":\"NONE\",\"@flowId\":null,\"@flowExecutionId\":null,\"@provider\":null,\"@lastModifiedAt\":null},{\"@type\":\"PC-NEWSSTAND-PRESS-BLOCK\",\"blocks\":null,\"materials\":null,\"excludeInPaging\":false,\"positionForPaging\":0,\"realtime\":false,\"pid\":\"687\",\"name\":\"뉴스클레임\",\"logoLight\":{\"url\":\"https://s.pstatic.net/static/newsstand/up/2022/1006/nsd205818702.png\"},\"logoDark\":{\"url\":\"https://s.pstatic.net/static/newsstand/up/2022/1006/nsd205810265.png\"},\"showThumbnailView\":true,\"showListView\":true,\"regDate\":\"20240313 14:50:29\",\"_id\":null,\"@type\":\"PC-NEWSSTAND-PRESS-BLOCK\",\"@code\":null,\"@template\":\"NONE\",\"@flowId\":null,\"@flowExecutionId\":null,\"@provider\":null,\"@lastModifiedAt\":null},{\"@type\":\"PC-NEWSSTAND-PRESS-BLOCK\",\"blocks\":null,\"materials\":null,\"excludeInPaging\":false,\"positionForPaging\":0,\"realtime\":false,\"pid\":\"688\",\"name\":\"경기신문\",\"logoLight\":{\"url\":\"https://s.pstatic.net/static/newsstand/up/2022/1017/nsd202616515.png\"},\"logoDark\":{\"url\":\"https://s.pstatic.net/static/newsstand/up/2022/1017/nsd20268714.png\"},\"showThumbnailView\":true,\"showListView\":true,\"regDate\":\"20240313 14:50:03\",\"_id\":null,\"@type\":\"PC-NEWSSTAND-PRESS-BLOCK\",\"@code\":null,\"@template\":\"NONE\",\"@flowId\":null,\"@flowExecutionId\":null,\"@provider\":null,\"@lastModifiedAt\":null},{\"@type\":\"PC-NEWSSTAND-PRESS-BLOCK\",\"blocks\":null,\"materials\":null,\"excludeInPaging\":false,\"positionForPaging\":0,\"realtime\":false,\"pid\":\"326\",\"name\":\"KBS World\",\"logoLight\":{\"url\":\"https://s.pstatic.net/static/newsstand/2020/logo/light/0604/326.png\"},\"logoDark\":{\"url\":\"https://s.pstatic.net/static/newsstand/2020/logo/dark/0604/326.png\"},\"showThumbnailView\":true,\"showListView\":true,\"regDate\":\"20240313 15:00:08\",\"_id\":null,\"@type\":\"PC-NEWSSTAND-PRESS-BLOCK\",\"@code\":null,\"@template\":\"NONE\",\"@flowId\":null,\"@flowExecutionId\":null,\"@provider\":null,\"@lastModifiedAt\":null},{\"@type\":\"PC-NEWSSTAND-PRESS-BLOCK\",\"blocks\":null,\"materials\":null,\"excludeInPaging\":false,\"positionForPaging\":0,\"realtime\":false,\"pid\":\"447\",\"name\":\"뉴스엔\",\"logoLight\":{\"url\":\"https://s.pstatic.net/static/newsstand/2020/logo/light/0604/447.png\"},\"logoDark\":{\"url\":\"https://s.pstatic.net/static/newsstand/2020/logo/dark/0604/447.png\"},\"showThumbnailView\":true,\"showListView\":true,\"regDate\":\"20240313 13:20:02\",\"_id\":null,\"@type\":\"PC-NEWSSTAND-PRESS-BLOCK\",\"@code\":null,\"@template\":\"NONE\",\"@flowId\":null,\"@flowExecutionId\":null,\"@provider\":null,\"@lastModifiedAt\":null},{\"@type\":\"PC-NEWSSTAND-PRESS-BLOCK\",\"blocks\":null,\"materials\":null,\"excludeInPaging\":false,\"positionForPaging\":0,\"realtime\":false,\"pid\":\"689\",\"name\":\"인천투데이\",\"logoLight\":{\"url\":\"https://s.pstatic.net/static/newsstand/up/2022/1107/nsd1054226.png\"},\"logoDark\":{\"url\":\"https://s.pstatic.net/static/newsstand/up/2022/1107/nsd105354391.png\"},\"showThumbnailView\":true,\"showListView\":true,\"regDate\":\"20240313 14:50:30\",\"_id\":null,\"@type\":\"PC-NEWSSTAND-PRESS-BLOCK\",\"@code\":null,\"@template\":\"NONE\",\"@flowId\":null,\"@flowExecutionId\":null,\"@provider\":null,\"@lastModifiedAt\":null},{\"@type\":\"PC-NEWSSTAND-PRESS-BLOCK\",\"blocks\":null,\"materials\":null,\"excludeInPaging\":false,\"positionForPaging\":0,\"realtime\":false,\"pid\":\"327\",\"name\":\"뉴데일리\",\"logoLight\":{\"url\":\"https://s.pstatic.net/static/newsstand/up/2024/0124/nsd95528325.png\"},\"logoDark\":{\"url\":\"https://s.pstatic.net/static/newsstand/up/2024/0124/nsd95520363.png\"},\"showThumbnailView\":true,\"showListView\":true,\"regDate\":\"20240313 15:00:10\",\"_id\":null,\"@type\":\"PC-NEWSSTAND-PRESS-BLOCK\",\"@code\":null,\"@template\":\"NONE\",\"@flowId\":null,\"@flowExecutionId\":null,\"@provider\":null,\"@lastModifiedAt\":null},{\"@type\":\"PC-NEWSSTAND-PRESS-BLOCK\",\"blocks\":null,\"materials\":null,\"excludeInPaging\":false,\"positionForPaging\":0,\"realtime\":false,\"pid\":\"328\",\"name\":\"에이블뉴스\",\"logoLight\":{\"url\":\"https://s.pstatic.net/static/newsstand/2020/logo/light/0604/328.png\"},\"logoDark\":{\"url\":\"https://s.pstatic.net/static/newsstand/2020/logo/dark/0604/328.png\"},\"showThumbnailView\":true,\"showListView\":true,\"regDate\":\"20240313 15:00:30\",\"_id\":null,\"@type\":\"PC-NEWSSTAND-PRESS-BLOCK\",\"@code\":null,\"@template\":\"NONE\",\"@flowId\":null,\"@flowExecutionId\":null,\"@provider\":null,\"@lastModifiedAt\":null},{\"@type\":\"PC-NEWSSTAND-PRESS-BLOCK\",\"blocks\":null,\"materials\":null,\"excludeInPaging\":false,\"positionForPaging\":0,\"realtime\":false,\"pid\":\"329\",\"name\":\"소년한국일보\",\"logoLight\":{\"url\":\"https://s.pstatic.net/static/newsstand/up/2021/0728/nsd1110888.png\"},\"logoDark\":{\"url\":\"https://s.pstatic.net/static/newsstand/up/2021/0728/nsd111059924.png\"},\"showThumbnailView\":true,\"showListView\":true,\"regDate\":\"20240313 15:00:22\",\"_id\":null,\"@type\":\"PC-NEWSSTAND-PRESS-BLOCK\",\"@code\":null,\"@template\":\"NONE\",\"@flowId\":null,\"@flowExecutionId\":null,\"@provider\":null,\"@lastModifiedAt\":null},{\"@type\":\"PC-NEWSSTAND-PRESS-BLOCK\",\"blocks\":null,\"materials\":null,\"excludeInPaging\":false,\"positionForPaging\":0,\"realtime\":false,\"pid\":\"690\",\"name\":\"정책브리핑\",\"logoLight\":{\"url\":\"https://s.pstatic.net/static/newsstand/up/2022/1116/nsd113848865.png\"},\"logoDark\":{\"url\":\"https://s.pstatic.net/static/newsstand/up/2022/1116/nsd113840778.png\"},\"showThumbnailView\":true,\"showListView\":true,\"regDate\":\"20240313 14:42:00\",\"_id\":null,\"@type\":\"PC-NEWSSTAND-PRESS-BLOCK\",\"@code\":null,\"@template\":\"NONE\",\"@flowId\":null,\"@flowExecutionId\":null,\"@provider\":null,\"@lastModifiedAt\":null},{\"@type\":\"PC-NEWSSTAND-PRESS-BLOCK\",\"blocks\":null,\"materials\":null,\"excludeInPaging\":false,\"positionForPaging\":0,\"realtime\":false,\"pid\":\"691\",\"name\":\"여성동아\",\"logoLight\":{\"url\":\"https://s.pstatic.net/static/newsstand/up/2023/0418/nsd124451202.png\"},\"logoDark\":{\"url\":\"https://s.pstatic.net/static/newsstand/up/2023/0418/nsd124439166.png\"},\"showThumbnailView\":true,\"showListView\":true,\"regDate\":\"20240313 09:02:40\",\"_id\":null,\"@type\":\"PC-NEWSSTAND-PRESS-BLOCK\",\"@code\":null,\"@template\":\"NONE\",\"@flowId\":null,\"@flowExecutionId\":null,\"@provider\":null,\"@lastModifiedAt\":null},{\"@type\":\"PC-NEWSSTAND-PRESS-BLOCK\",\"blocks\":null,\"materials\":null,\"excludeInPaging\":false,\"positionForPaging\":0,\"realtime\":false,\"pid\":\"330\",\"name\":\"중앙데일리\",\"logoLight\":{\"url\":\"https://s.pstatic.net/static/newsstand/2020/logo/light/0604/330.png\"},\"logoDark\":{\"url\":\"https://s.pstatic.net/static/newsstand/2020/logo/dark/0604/330.png\"},\"showThumbnailView\":true,\"showListView\":true,\"regDate\":\"20240313 13:54:45\",\"_id\":null,\"@type\":\"PC-NEWSSTAND-PRESS-BLOCK\",\"@code\":null,\"@template\":\"NONE\",\"@flowId\":null,\"@flowExecutionId\":null,\"@provider\":null,\"@lastModifiedAt\":null},{\"@type\":\"PC-NEWSSTAND-PRESS-BLOCK\",\"blocks\":null,\"materials\":null,\"excludeInPaging\":false,\"positionForPaging\":0,\"realtime\":false,\"pid\":\"331\",\"name\":\"충청투데이\",\"logoLight\":{\"url\":\"https://s.pstatic.net/static/newsstand/2020/logo/light/0604/331.png\"},\"logoDark\":{\"url\":\"https://s.pstatic.net/static/newsstand/2020/logo/dark/0604/331.png\"},\"showThumbnailView\":true,\"showListView\":true,\"regDate\":\"20240313 13:34:52\",\"_id\":null,\"@type\":\"PC-NEWSSTAND-PRESS-BLOCK\",\"@code\":null,\"@template\":\"NONE\",\"@flowId\":null,\"@flowExecutionId\":null,\"@provider\":null,\"@lastModifiedAt\":null},{\"@type\":\"PC-NEWSSTAND-PRESS-BLOCK\",\"blocks\":null,\"materials\":null,\"excludeInPaging\":false,\"positionForPaging\":0,\"realtime\":false,\"pid\":\"332\",\"name\":\"국제신문\",\"logoLight\":{\"url\":\"https://s.pstatic.net/static/newsstand/2020/logo/light/0604/332.png\"},\"logoDark\":{\"url\":\"https://s.pstatic.net/static/newsstand/2020/logo/dark/0604/332.png\"},\"showThumbnailView\":true,\"showListView\":true,\"regDate\":\"20240312 22:18:33\",\"_id\":null,\"@type\":\"PC-NEWSSTAND-PRESS-BLOCK\",\"@code\":null,\"@template\":\"NONE\",\"@flowId\":null,\"@flowExecutionId\":null,\"@provider\":null,\"@lastModifiedAt\":null},{\"@type\":\"PC-NEWSSTAND-PRESS-BLOCK\",\"blocks\":null,\"materials\":null,\"excludeInPaging\":false,\"positionForPaging\":0,\"realtime\":false,\"pid\":\"333\",\"name\":\"경남신문\",\"logoLight\":{\"url\":\"https://s.pstatic.net/static/newsstand/2020/logo/light/0604/333.png\"},\"logoDark\":{\"url\":\"https://s.pstatic.net/static/newsstand/2020/logo/dark/0604/333.png\"},\"showThumbnailView\":true,\"showListView\":true,\"regDate\":\"20240313 15:01:04\",\"_id\":null,\"@type\":\"PC-NEWSSTAND-PRESS-BLOCK\",\"@code\":null,\"@template\":\"NONE\",\"@flowId\":null,\"@flowExecutionId\":null,\"@provider\":null,\"@lastModifiedAt\":null},{\"@type\":\"PC-NEWSSTAND-PRESS-BLOCK\",\"blocks\":null,\"materials\":null,\"excludeInPaging\":false,\"positionForPaging\":0,\"realtime\":false,\"pid\":\"213\",\"name\":\"TV리포트\",\"logoLight\":{\"url\":\"https://s.pstatic.net/static/newsstand/up/2023/0714/nsd125517690.png\"},\"logoDark\":{\"url\":\"https://s.pstatic.net/static/newsstand/up/2023/0714/nsd125510155.png\"},\"showThumbnailView\":true,\"showListView\":true,\"regDate\":\"20240313 13:54:39\",\"_id\":null,\"@type\":\"PC-NEWSSTAND-PRESS-BLOCK\",\"@code\":null,\"@template\":\"NONE\",\"@flowId\":null,\"@flowExecutionId\":null,\"@provider\":null,\"@lastModifiedAt\":null},{\"@type\":\"PC-NEWSSTAND-PRESS-BLOCK\",\"blocks\":null,\"materials\":null,\"excludeInPaging\":false,\"positionForPaging\":0,\"realtime\":false,\"pid\":\"334\",\"name\":\"제주의소리\",\"logoLight\":{\"url\":\"https://s.pstatic.net/static/newsstand/2020/logo/light/0604/334.png\"},\"logoDark\":{\"url\":\"https://s.pstatic.net/static/newsstand/2020/logo/dark/0604/334.png\"},\"showThumbnailView\":true,\"showListView\":true,\"regDate\":\"20240313 14:46:38\",\"_id\":null,\"@type\":\"PC-NEWSSTAND-PRESS-BLOCK\",\"@code\":null,\"@template\":\"NONE\",\"@flowId\":null,\"@flowExecutionId\":null,\"@provider\":null,\"@lastModifiedAt\":null},{\"@type\":\"PC-NEWSSTAND-PRESS-BLOCK\",\"blocks\":null,\"materials\":null,\"excludeInPaging\":false,\"positionForPaging\":0,\"realtime\":false,\"pid\":\"214\",\"name\":\"MBC\",\"logoLight\":{\"url\":\"https://s.pstatic.net/static/newsstand/2020/logo/light/0604/214.png\"},\"logoDark\":{\"url\":\"https://s.pstatic.net/static/newsstand/2020/logo/dark/0604/214.png\"},\"showThumbnailView\":true,\"showListView\":true,\"regDate\":\"20240313 14:27:21\",\"_id\":null,\"@type\":\"PC-NEWSSTAND-PRESS-BLOCK\",\"@code\":null,\"@template\":\"NONE\",\"@flowId\":null,\"@flowExecutionId\":null,\"@provider\":null,\"@lastModifiedAt\":null},{\"@type\":\"PC-NEWSSTAND-PRESS-BLOCK\",\"blocks\":null,\"materials\":null,\"excludeInPaging\":false,\"positionForPaging\":0,\"realtime\":false,\"pid\":\"335\",\"name\":\"강원도민일보\",\"logoLight\":{\"url\":\"https://s.pstatic.net/static/newsstand/2020/logo/light/0604/335.png\"},\"logoDark\":{\"url\":\"https://s.pstatic.net/static/newsstand/2020/logo/dark/0604/335.png\"},\"showThumbnailView\":true,\"showListView\":true,\"regDate\":\"20240313 14:02:37\",\"_id\":null,\"@type\":\"PC-NEWSSTAND-PRESS-BLOCK\",\"@code\":null,\"@template\":\"NONE\",\"@flowId\":null,\"@flowExecutionId\":null,\"@provider\":null,\"@lastModifiedAt\":null},{\"@type\":\"PC-NEWSSTAND-PRESS-BLOCK\",\"blocks\":null,\"materials\":null,\"excludeInPaging\":false,\"positionForPaging\":0,\"realtime\":false,\"pid\":\"215\",\"name\":\"한국경제TV\",\"logoLight\":{\"url\":\"https://s.pstatic.net/static/newsstand/2020/logo/light/0604/215.png\"},\"logoDark\":{\"url\":\"https://s.pstatic.net/static/newsstand/2020/logo/dark/0604/215.png\"},\"showThumbnailView\":true,\"showListView\":true,\"regDate\":\"20240313 15:00:31\",\"_id\":null,\"@type\":\"PC-NEWSSTAND-PRESS-BLOCK\",\"@code\":null,\"@template\":\"NONE\",\"@flowId\":null,\"@flowExecutionId\":null,\"@provider\":null,\"@lastModifiedAt\":null},{\"@type\":\"PC-NEWSSTAND-PRESS-BLOCK\",\"blocks\":null,\"materials\":null,\"excludeInPaging\":false,\"positionForPaging\":0,\"realtime\":false,\"pid\":\"336\",\"name\":\"전북일보\",\"logoLight\":{\"url\":\"https://s.pstatic.net/static/newsstand/2020/logo/light/0604/336.png\"},\"logoDark\":{\"url\":\"https://s.pstatic.net/static/newsstand/2020/logo/dark/0604/336.png\"},\"showThumbnailView\":true,\"showListView\":true,\"regDate\":\"20240312 19:50:13\",\"_id\":null,\"@type\":\"PC-NEWSSTAND-PRESS-BLOCK\",\"@code\":null,\"@template\":\"NONE\",\"@flowId\":null,\"@flowExecutionId\":null,\"@provider\":null,\"@lastModifiedAt\":null},{\"@type\":\"PC-NEWSSTAND-PRESS-BLOCK\",\"blocks\":null,\"materials\":null,\"excludeInPaging\":false,\"positionForPaging\":0,\"realtime\":false,\"pid\":\"337\",\"name\":\"경북일보\",\"logoLight\":{\"url\":\"https://s.pstatic.net/static/newsstand/2020/logo/light/0604/337.png\"},\"logoDark\":{\"url\":\"https://s.pstatic.net/static/newsstand/2020/logo/dark/0604/337.png\"},\"showThumbnailView\":true,\"showListView\":true,\"regDate\":\"20240312 22:35:58\",\"_id\":null,\"@type\":\"PC-NEWSSTAND-PRESS-BLOCK\",\"@code\":null,\"@template\":\"NONE\",\"@flowId\":null,\"@flowExecutionId\":null,\"@provider\":null,\"@lastModifiedAt\":null},{\"@type\":\"PC-NEWSSTAND-PRESS-BLOCK\",\"blocks\":null,\"materials\":null,\"excludeInPaging\":false,\"positionForPaging\":0,\"realtime\":false,\"pid\":\"338\",\"name\":\"경인일보\",\"logoLight\":{\"url\":\"https://s.pstatic.net/static/newsstand/2020/logo/light/0604/338.png\"},\"logoDark\":{\"url\":\"https://s.pstatic.net/static/newsstand/2020/logo/dark/0604/338.png\"},\"showThumbnailView\":true,\"showListView\":true,\"regDate\":\"20240313 13:51:42\",\"_id\":null,\"@type\":\"PC-NEWSSTAND-PRESS-BLOCK\",\"@code\":null,\"@template\":\"NONE\",\"@flowId\":null,\"@flowExecutionId\":null,\"@provider\":null,\"@lastModifiedAt\":null},{\"@type\":\"PC-NEWSSTAND-PRESS-BLOCK\",\"blocks\":null,\"materials\":null,\"excludeInPaging\":false,\"positionForPaging\":0,\"realtime\":false,\"pid\":\"339\",\"name\":\"경기일보\",\"logoLight\":{\"url\":\"https://s.pstatic.net/static/newsstand/2020/logo/light/0604/339.png\"},\"logoDark\":{\"url\":\"https://s.pstatic.net/static/newsstand/2020/logo/dark/0604/339.png\"},\"showThumbnailView\":true,\"showListView\":true,\"regDate\":\"20240313 13:32:58\",\"_id\":null,\"@type\":\"PC-NEWSSTAND-PRESS-BLOCK\",\"@code\":null,\"@template\":\"NONE\",\"@flowId\":null,\"@flowExecutionId\":null,\"@provider\":null,\"@lastModifiedAt\":null},{\"@type\":\"PC-NEWSSTAND-PRESS-BLOCK\",\"blocks\":null,\"materials\":null,\"excludeInPaging\":false,\"positionForPaging\":0,\"realtime\":false,\"pid\":\"340\",\"name\":\"OBS\",\"logoLight\":{\"url\":\"https://s.pstatic.net/static/newsstand/2020/logo/light/0604/340.png\"},\"logoDark\":{\"url\":\"https://s.pstatic.net/static/newsstand/2020/logo/dark/0604/340.png\"},\"showThumbnailView\":true,\"showListView\":true,\"regDate\":\"20240313 14:58:58\",\"_id\":null,\"@type\":\"PC-NEWSSTAND-PRESS-BLOCK\",\"@code\":null,\"@template\":\"NONE\",\"@flowId\":null,\"@flowExecutionId\":null,\"@provider\":null,\"@lastModifiedAt\":null},{\"@type\":\"PC-NEWSSTAND-PRESS-BLOCK\",\"blocks\":null,\"materials\":null,\"excludeInPaging\":false,\"positionForPaging\":0,\"realtime\":false,\"pid\":\"344\",\"name\":\"EBS\",\"logoLight\":{\"url\":\"https://s.pstatic.net/static/newsstand/up/2020/0803/nsd20247547.png\"},\"logoDark\":{\"url\":\"https://s.pstatic.net/static/newsstand/up/2020/0803/nsd202358800.png\"},\"showThumbnailView\":true,\"showListView\":true,\"regDate\":\"20240313 14:34:55\",\"_id\":null,\"@type\":\"PC-NEWSSTAND-PRESS-BLOCK\",\"@code\":null,\"@template\":\"NONE\",\"@flowId\":null,\"@flowExecutionId\":null,\"@provider\":null,\"@lastModifiedAt\":null},{\"@type\":\"PC-NEWSSTAND-PRESS-BLOCK\",\"blocks\":null,\"materials\":null,\"excludeInPaging\":false,\"positionForPaging\":0,\"realtime\":false,\"pid\":\"345\",\"name\":\"디자인정글\",\"logoLight\":{\"url\":\"https://s.pstatic.net/static/newsstand/2020/logo/light/0604/345.png\"},\"logoDark\":{\"url\":\"https://s.pstatic.net/static/newsstand/2020/logo/dark/0604/345.png\"},\"showThumbnailView\":true,\"showListView\":true,\"regDate\":\"20240312 09:53:43\",\"_id\":null,\"@type\":\"PC-NEWSSTAND-PRESS-BLOCK\",\"@code\":null,\"@template\":\"NONE\",\"@flowId\":null,\"@flowExecutionId\":null,\"@provider\":null,\"@lastModifiedAt\":null},{\"@type\":\"PC-NEWSSTAND-PRESS-BLOCK\",\"blocks\":null,\"materials\":null,\"excludeInPaging\":false,\"positionForPaging\":0,\"realtime\":false,\"pid\":\"346\",\"name\":\"헬스조선\",\"logoLight\":{\"url\":\"https://s.pstatic.net/static/newsstand/2020/logo/light/0604/346.png\"},\"logoDark\":{\"url\":\"https://s.pstatic.net/static/newsstand/2020/logo/dark/0604/346.png\"},\"showThumbnailView\":true,\"showListView\":true,\"regDate\":\"20240313 15:04:03\",\"_id\":null,\"@type\":\"PC-NEWSSTAND-PRESS-BLOCK\",\"@code\":null,\"@template\":\"NONE\",\"@flowId\":null,\"@flowExecutionId\":null,\"@provider\":null,\"@lastModifiedAt\":null},{\"@type\":\"PC-NEWSSTAND-PRESS-BLOCK\",\"blocks\":null,\"materials\":null,\"excludeInPaging\":false,\"positionForPaging\":0,\"realtime\":false,\"pid\":\"108\",\"name\":\"스타뉴스\",\"logoLight\":{\"url\":\"https://s.pstatic.net/static/newsstand/2020/logo/light/0604/108.png\"},\"logoDark\":{\"url\":\"https://s.pstatic.net/static/newsstand/2020/logo/dark/0604/108.png\"},\"showThumbnailView\":true,\"showListView\":true,\"regDate\":\"20240313 15:00:10\",\"_id\":null,\"@type\":\"PC-NEWSSTAND-PRESS-BLOCK\",\"@code\":null,\"@template\":\"NONE\",\"@flowId\":null,\"@flowExecutionId\":null,\"@provider\":null,\"@lastModifiedAt\":null},{\"@type\":\"PC-NEWSSTAND-PRESS-BLOCK\",\"blocks\":null,\"materials\":null,\"excludeInPaging\":false,\"positionForPaging\":0,\"realtime\":false,\"pid\":\"109\",\"name\":\"OSEN\",\"logoLight\":{\"url\":\"https://s.pstatic.net/static/newsstand/up/2020/0610/nsd151458769.png\"},\"logoDark\":{\"url\":\"https://s.pstatic.net/static/newsstand/up/2020/0610/nsd151458769.png\"},\"showThumbnailView\":true,\"showListView\":true,\"regDate\":\"20240313 08:13:17\",\"_id\":null,\"@type\":\"PC-NEWSSTAND-PRESS-BLOCK\",\"@code\":null,\"@template\":\"NONE\",\"@flowId\":null,\"@flowExecutionId\":null,\"@provider\":null,\"@lastModifiedAt\":null},{\"@type\":\"PC-NEWSSTAND-PRESS-BLOCK\",\"blocks\":null,\"materials\":null,\"excludeInPaging\":false,\"positionForPaging\":0,\"realtime\":false,\"pid\":\"901\",\"name\":\"제민일보\",\"logoLight\":{\"url\":\"https://s.pstatic.net/static/newsstand/up/2020/1119/nsd213345745.png\"},\"logoDark\":{\"url\":\"https://s.pstatic.net/static/newsstand/up/2020/1119/nsd213339585.png\"},\"showThumbnailView\":true,\"showListView\":true,\"regDate\":\"20240312 19:27:06\",\"_id\":null,\"@type\":\"PC-NEWSSTAND-PRESS-BLOCK\",\"@code\":null,\"@template\":\"NONE\",\"@flowId\":null,\"@flowExecutionId\":null,\"@provider\":null,\"@lastModifiedAt\":null},{\"@type\":\"PC-NEWSSTAND-PRESS-BLOCK\",\"blocks\":null,\"materials\":null,\"excludeInPaging\":false,\"positionForPaging\":0,\"realtime\":false,\"pid\":\"902\",\"name\":\"TV조선\",\"logoLight\":{\"url\":\"https://s.pstatic.net/static/newsstand/2020/logo/light/0604/902.png\"},\"logoDark\":{\"url\":\"https://s.pstatic.net/static/newsstand/2020/logo/dark/0604/902.png\"},\"showThumbnailView\":true,\"showListView\":true,\"regDate\":\"20240313 15:02:52\",\"_id\":null,\"@type\":\"PC-NEWSSTAND-PRESS-BLOCK\",\"@code\":null,\"@template\":\"NONE\",\"@flowId\":null,\"@flowExecutionId\":null,\"@provider\":null,\"@lastModifiedAt\":null},{\"@type\":\"PC-NEWSSTAND-PRESS-BLOCK\",\"blocks\":null,\"materials\":null,\"excludeInPaging\":false,\"positionForPaging\":0,\"realtime\":false,\"pid\":\"903\",\"name\":\"채널A\",\"logoLight\":{\"url\":\"https://s.pstatic.net/static/newsstand/2020/logo/light/0604/903.png\"},\"logoDark\":{\"url\":\"https://s.pstatic.net/static/newsstand/2020/logo/dark/0604/903.png\"},\"showThumbnailView\":true,\"showListView\":true,\"regDate\":\"20240313 15:01:39\",\"_id\":null,\"@type\":\"PC-NEWSSTAND-PRESS-BLOCK\",\"@code\":null,\"@template\":\"NONE\",\"@flowId\":null,\"@flowExecutionId\":null,\"@provider\":null,\"@lastModifiedAt\":null},{\"@type\":\"PC-NEWSSTAND-PRESS-BLOCK\",\"blocks\":null,\"materials\":null,\"excludeInPaging\":false,\"positionForPaging\":0,\"realtime\":false,\"pid\":\"904\",\"name\":\"JTBC\",\"logoLight\":{\"url\":\"https://s.pstatic.net/static/newsstand/2020/logo/light/0604/904.png\"},\"logoDark\":{\"url\":\"https://s.pstatic.net/static/newsstand/2020/logo/dark/0604/904.png\"},\"showThumbnailView\":true,\"showListView\":true,\"regDate\":\"20240313 15:05:00\",\"_id\":null,\"@type\":\"PC-NEWSSTAND-PRESS-BLOCK\",\"@code\":null,\"@template\":\"NONE\",\"@flowId\":null,\"@flowExecutionId\":null,\"@provider\":null,\"@lastModifiedAt\":null},{\"@type\":\"PC-NEWSSTAND-PRESS-BLOCK\",\"blocks\":null,\"materials\":null,\"excludeInPaging\":false,\"positionForPaging\":0,\"realtime\":false,\"pid\":\"905\",\"name\":\"더스쿠프\",\"logoLight\":{\"url\":\"https://s.pstatic.net/static/newsstand/up/2024/0304/nsd101630742.png\"},\"logoDark\":{\"url\":\"https://s.pstatic.net/static/newsstand/up/2024/0304/nsd101639503.png\"},\"showThumbnailView\":true,\"showListView\":true,\"regDate\":\"20240313 13:02:02\",\"_id\":null,\"@type\":\"PC-NEWSSTAND-PRESS-BLOCK\",\"@code\":null,\"@template\":\"NONE\",\"@flowId\":null,\"@flowExecutionId\":null,\"@provider\":null,\"@lastModifiedAt\":null},{\"@type\":\"PC-NEWSSTAND-PRESS-BLOCK\",\"blocks\":null,\"materials\":null,\"excludeInPaging\":false,\"positionForPaging\":0,\"realtime\":false,\"pid\":\"906\",\"name\":\"KNN\",\"logoLight\":{\"url\":\"https://s.pstatic.net/static/newsstand/2020/logo/light/0604/906.png\"},\"logoDark\":{\"url\":\"https://s.pstatic.net/static/newsstand/2020/logo/dark/0604/906.png\"},\"showThumbnailView\":true,\"showListView\":true,\"regDate\":\"20240313 12:50:03\",\"_id\":null,\"@type\":\"PC-NEWSSTAND-PRESS-BLOCK\",\"@code\":null,\"@template\":\"NONE\",\"@flowId\":null,\"@flowExecutionId\":null,\"@provider\":null,\"@lastModifiedAt\":null},{\"@type\":\"PC-NEWSSTAND-PRESS-BLOCK\",\"blocks\":null,\"materials\":null,\"excludeInPaging\":false,\"positionForPaging\":0,\"realtime\":false,\"pid\":\"410\",\"name\":\"MK스포츠\",\"logoLight\":{\"url\":\"https://s.pstatic.net/static/newsstand/2020/logo/light/0604/410.png\"},\"logoDark\":{\"url\":\"https://s.pstatic.net/static/newsstand/2020/logo/dark/0604/410.png\"},\"showThumbnailView\":false,\"showListView\":false,\"regDate\":null,\"_id\":null,\"@type\":\"PC-NEWSSTAND-PRESS-BLOCK\",\"@code\":null,\"@template\":\"NONE\",\"@flowId\":null,\"@flowExecutionId\":null,\"@provider\":null,\"@lastModifiedAt\":null}],\"materials\":null,\"excludeInPaging\":false,\"positionForPaging\":0,\"realtime\":false,\"majorPidList\":[\"032\",\"005\",\"079\",\"327\",\"930\",\"003\",\"368\",\"020\",\"029\",\"117\",\"009\",\"008\",\"021\",\"006\",\"293\",\"011\",\"081\",\"022\",\"314\",\"073\",\"076\",\"139\",\"308\",\"277\",\"031\",\"422\",\"047\",\"018\",\"241\",\"030\",\"366\",\"023\",\"330\",\"025\",\"092\",\"376\",\"044\",\"014\",\"002\",\"028\",\"015\",\"215\",\"038\",\"016\",\"904\",\"056\",\"326\",\"214\",\"057\",\"109\",\"055\",\"052\"],\"minorPidList\":[\"944\",\"687\",\"913\",\"914\",\"960\",\"536\",\"804\",\"812\",\"042\",\"969\",\"417\",\"961\",\"809\",\"814\",\"942\",\"943\",\"973\",\"685\",\"824\",\"970\",\"816\",\"957\",\"975\",\"810\",\"920\",\"921\",\"963\",\"682\",\"013\",\"801\",\"539\",\"964\",\"825\",\"243\",\"922\",\"803\",\"923\",\"971\",\"925\",\"690\",\"123\",\"353\",\"941\",\"143\",\"826\",\"822\",\"968\",\"993\",\"974\",\"932\",\"954\",\"120\",\"959\",\"972\",\"823\",\"421\",\"916\",\"903\",\"934\",\"344\",\"980\",\"906\",\"340\",\"374\",\"989\",\"981\",\"684\",\"902\",\"945\",\"910\",\"138\",\"953\",\"952\",\"977\",\"994\",\"818\",\"917\",\"681\",\"040\",\"946\",\"830\",\"447\",\"108\",\"802\",\"144\",\"396\",\"529\",\"940\",\"962\",\"477\",\"311\",\"947\",\"312\",\"440\",\"410\",\"416\",\"213\",\"356\",\"908\",\"938\",\"984\",\"911\",\"998\",\"997\",\"995\",\"905\",\"991\",\"955\",\"363\",\"345\",\"915\",\"024\",\"996\",\"075\",\"806\",\"829\",\"819\",\"815\",\"122\",\"958\",\"827\",\"355\",\"808\",\"329\",\"135\",\"828\",\"140\",\"979\",\"328\",\"354\",\"691\",\"310\",\"094\",\"820\",\"950\",\"988\",\"982\",\"813\",\"924\",\"807\",\"965\",\"966\",\"686\",\"990\",\"361\",\"956\",\"928\",\"967\",\"296\",\"986\",\"951\",\"948\",\"050\",\"805\",\"811\",\"384\",\"346\",\"364\"],\"catePidList\":{\"ct7\":[\"356\",\"908\",\"938\",\"984\",\"911\",\"998\",\"997\",\"995\",\"905\",\"991\",\"955\",\"363\",\"345\",\"915\",\"024\",\"996\",\"075\",\"806\",\"829\",\"819\",\"815\",\"122\",\"958\",\"827\",\"355\",\"808\",\"329\",\"308\",\"135\",\"828\",\"140\",\"979\",\"328\",\"354\",\"691\",\"310\",\"094\",\"820\",\"950\",\"988\",\"982\",\"813\",\"924\",\"807\",\"965\",\"966\",\"686\",\"990\",\"361\",\"956\",\"928\",\"967\",\"296\",\"986\",\"951\",\"948\",\"050\",\"805\",\"811\",\"384\",\"346\",\"364\"],\"ct8\":[\"335\",\"087\",\"688\",\"339\",\"821\",\"333\",\"978\",\"907\",\"337\",\"935\",\"338\",\"301\",\"083\",\"332\",\"909\",\"936\",\"089\",\"088\",\"976\",\"817\",\"082\",\"385\",\"387\",\"689\",\"388\",\"937\",\"336\",\"901\",\"389\",\"334\",\"983\",\"926\",\"927\",\"391\",\"331\",\"683\"],\"ct5\":[\"681\",\"330\",\"040\",\"044\",\"326\",\"946\"],\"ct6\":[\"830\",\"447\",\"117\",\"108\",\"802\",\"144\",\"314\",\"073\",\"396\",\"076\",\"529\",\"940\",\"962\",\"139\",\"477\",\"311\",\"241\",\"947\",\"312\",\"440\",\"410\",\"109\",\"416\",\"213\"],\"ct3\":[\"421\",\"003\",\"916\",\"422\",\"376\",\"903\",\"215\",\"934\",\"344\",\"904\",\"980\",\"056\",\"906\",\"214\",\"057\",\"340\",\"055\",\"374\",\"989\",\"981\",\"684\",\"902\",\"052\",\"945\"],\"ct4\":[\"910\",\"138\",\"029\",\"953\",\"952\",\"293\",\"030\",\"092\",\"977\",\"994\",\"818\",\"917\"],\"ct2\":[\"032\",\"005\",\"944\",\"079\",\"327\",\"687\",\"930\",\"913\",\"914\",\"960\",\"536\",\"804\",\"368\",\"812\",\"042\",\"020\",\"009\",\"969\",\"417\",\"008\",\"961\",\"021\",\"006\",\"809\",\"814\",\"942\",\"943\",\"973\",\"011\",\"081\",\"685\",\"824\",\"022\",\"970\",\"816\",\"957\",\"975\",\"810\",\"277\",\"920\",\"031\",\"921\",\"963\",\"682\",\"013\",\"047\",\"801\",\"539\",\"964\",\"018\",\"825\",\"243\",\"922\",\"803\",\"923\",\"971\",\"925\",\"690\",\"366\",\"023\",\"123\",\"353\",\"025\",\"941\",\"143\",\"826\",\"014\",\"822\",\"002\",\"028\",\"015\",\"968\",\"038\",\"993\",\"016\",\"974\",\"932\",\"954\",\"120\",\"959\",\"972\",\"823\"]},\"targetLocalPidList\":[\"688\",\"339\",\"338\",\"909\",\"387\",\"926\"],\"subsPidList\":[],\"firstPressBlock\":null,\"rcode2\":\"default\",\"rcode\":\"02285106\",\"_id\":null,\"@type\":\"PC-NEWSSTAND-BLOCK\",\"@code\":\"PC-NEWSSTAND\",\"@template\":\"PC-NEWSSTAND\",\"@flowId\":null,\"@flowExecutionId\":null,\"@provider\":null,\"@lastModifiedAt\":null}],\"materials\":null,\"excludeInPaging\":false,\"positionForPaging\":0,\"realtime\":false,\"_id\":null,\"@type\":\"BLOCK\",\"@code\":\"PC-MEDIA-NEWSSTAND\",\"@template\":\"NONE\",\"@flowId\":null,\"@flowExecutionId\":null,\"@provider\":null,\"@lastModifiedAt\":null}],\"materials\":null,\"excludeInPaging\":false,\"positionForPaging\":0,\"realtime\":false,\"sportsLive\":false,\"_id\":\"643e68a5a10d3006855e268d\",\"@type\":\"PC-MEDIA-CONTENTS-BLOCK\",\"@code\":\"PC-MEDIA-WRAPPER\",\"@template\":\"PC-MEDIA-WRAPPER\",\"@flowId\":\"PC-MEDIA-WRAPPER\",\"@flowExecutionId\":\"b1938ae9-e100-11ee-8373-3fd5f7ad8543\",\"@provider\":\"lambda\",\"@lastModifiedAt\":[2024,3,13,6,12,44,415000000]}\n",
      "window[\"EAGER-DATA\"][\"PC-NEWSSTAND-YONHAP\"] = {\"@type\":\"BLOCK\",\"blocks\":[{\"@type\":\"BLOCK\",\"blocks\":null,\"materials\":[],\"excludeInPaging\":false,\"positionForPaging\":0,\"realtime\":false,\"_id\":null,\"@type\":\"BLOCK\",\"@code\":null,\"@template\":\"NONE\",\"@flowId\":null,\"@flowExecutionId\":null,\"@provider\":null,\"@lastModifiedAt\":null}],\"materials\":[{\"@type\":\"MATERIAL-PC-NEWS-ONELINE\",\"gdid\":null,\"title\":\"\\\"교수들, 환자 떠나면 국민 잃을 것…'비상상황'도 유지 힘들어\\\"\",\"url\":\"https://news.naver.com/main/list.naver?mode=LPOD&mid=sec&sid1=001&sid2=140&oid=001&isYeonhapFlash=Y&aid=0014560448\",\"aid\":null,\"emergency\":false,\"notCompleted\":false,\"officeName\":\"연합뉴스\",\"officeId\":\"001\",\"officeHomeUrl\":null,\"officeWeight\":0,\"officeWeightRate\":0.0,\"_id\":\"643543b2caf3d87b7e0a0da6\"},{\"@type\":\"MATERIAL-PC-NEWS-ONELINE\",\"gdid\":null,\"title\":\"이재명, 한국노총 찾아 \\\"주4.5일제 도입\\\"…총선앞 勞心 공략\",\"url\":\"https://news.naver.com/main/list.naver?mode=LPOD&mid=sec&sid1=001&sid2=140&oid=001&isYeonhapFlash=Y&aid=0014560542\",\"aid\":null,\"emergency\":false,\"notCompleted\":false,\"officeName\":\"연합뉴스\",\"officeId\":\"001\",\"officeHomeUrl\":null,\"officeWeight\":0,\"officeWeightRate\":0.0,\"_id\":\"65692532e9bedeca62543dbb\"},{\"@type\":\"MATERIAL-PC-NEWS-ONELINE\",\"gdid\":null,\"title\":\"'공보의 파견'에 의협 \\\"의대생들 현역입대…오지 의사 없을것\\\"\",\"url\":\"https://news.naver.com/main/list.naver?mode=LPOD&mid=sec&sid1=001&sid2=140&oid=001&isYeonhapFlash=Y&aid=0014560525\",\"aid\":null,\"emergency\":false,\"notCompleted\":false,\"officeName\":\"연합뉴스\",\"officeId\":\"001\",\"officeHomeUrl\":null,\"officeWeight\":0,\"officeWeightRate\":0.0,\"_id\":\"65692532e9bedeca62543dbc\"},{\"@type\":\"MATERIAL-PC-NEWS-ONELINE\",\"gdid\":null,\"title\":\"\\\"덜 해로운 담배 없다\\\"…건강증진개발원, 전자담배 소송 승소\",\"url\":\"https://news.naver.com/main/list.naver?mode=LPOD&mid=sec&sid1=001&sid2=140&oid=001&isYeonhapFlash=Y&aid=0014560407\",\"aid\":null,\"emergency\":false,\"notCompleted\":false,\"officeName\":\"연합뉴스\",\"officeId\":\"001\",\"officeHomeUrl\":null,\"officeWeight\":0,\"officeWeightRate\":0.0,\"_id\":\"65692532e9bedeca62543dbd\"},{\"@type\":\"MATERIAL-PC-NEWS-ONELINE\",\"gdid\":null,\"title\":\"문경 소방관 순직 화재, 온도제어기 고장에 식용유 가열 발생\",\"url\":\"https://news.naver.com/main/list.naver?mode=LPOD&mid=sec&sid1=001&sid2=140&oid=001&isYeonhapFlash=Y&aid=0014560348\",\"aid\":null,\"emergency\":false,\"notCompleted\":false,\"officeName\":\"연합뉴스\",\"officeId\":\"001\",\"officeHomeUrl\":null,\"officeWeight\":0,\"officeWeightRate\":0.0,\"_id\":\"65692532e9bedeca62543dbe\"},{\"@type\":\"MATERIAL-PC-NEWS-ONELINE\",\"gdid\":null,\"title\":\"푸틴 \\\"북한, 자체 '핵우산' 보유…러에 도움 요청 없었다\\\"\",\"url\":\"https://news.naver.com/main/list.naver?mode=LPOD&mid=sec&sid1=001&sid2=140&oid=001&isYeonhapFlash=Y&aid=0014560144\",\"aid\":null,\"emergency\":false,\"notCompleted\":false,\"officeName\":\"연합뉴스\",\"officeId\":\"001\",\"officeHomeUrl\":null,\"officeWeight\":0,\"officeWeightRate\":0.0,\"_id\":\"65692532e9bedeca62543dbf\"},{\"@type\":\"MATERIAL-PC-NEWS-ONELINE\",\"gdid\":null,\"title\":\"尹대통령 \\\"2027년까지 우주개발 예산 1.5조 이상으로 확대\\\"\",\"url\":\"https://news.naver.com/main/list.naver?mode=LPOD&mid=sec&sid1=001&sid2=140&oid=001&isYeonhapFlash=Y&aid=0014560143\",\"aid\":null,\"emergency\":false,\"notCompleted\":false,\"officeName\":\"연합뉴스\",\"officeId\":\"001\",\"officeHomeUrl\":null,\"officeWeight\":0,\"officeWeightRate\":0.0,\"_id\":\"65692532e9bedeca62543dc0\"},{\"@type\":\"MATERIAL-PC-NEWS-ONELINE\",\"gdid\":null,\"title\":\"150배 폭리 '알박기'…부동산 탈세 96명 세무조사 착수\",\"url\":\"https://news.naver.com/main/list.naver?mode=LPOD&mid=sec&sid1=001&sid2=140&oid=001&isYeonhapFlash=Y&aid=0014560005\",\"aid\":null,\"emergency\":false,\"notCompleted\":false,\"officeName\":\"연합뉴스\",\"officeId\":\"001\",\"officeHomeUrl\":null,\"officeWeight\":0,\"officeWeightRate\":0.0,\"_id\":\"6573c24ecaf3d87b7e4d5269\"},{\"@type\":\"MATERIAL-PC-NEWS-ONELINE\",\"gdid\":null,\"title\":\"주유소에서 담배피우면 과태료 500만원…위험물안전관리법 개정\",\"url\":\"https://news.naver.com/main/list.naver?mode=LPOD&mid=sec&sid1=001&sid2=140&oid=001&isYeonhapFlash=Y&aid=0014560020\",\"aid\":null,\"emergency\":false,\"notCompleted\":false,\"officeName\":\"연합뉴스\",\"officeId\":\"001\",\"officeHomeUrl\":null,\"officeWeight\":0,\"officeWeightRate\":0.0,\"_id\":\"65e070f6cd8ef9780f7b4f76\"},{\"@type\":\"MATERIAL-PC-NEWS-ONELINE\",\"gdid\":null,\"title\":\"與, 도태우·장예찬 과거 발언 논란에 수도권·호남 표심 촉각\",\"url\":\"https://news.naver.com/main/list.naver?mode=LPOD&mid=sec&sid1=001&sid2=140&oid=001&isYeonhapFlash=Y&aid=0014559996\",\"aid\":null,\"emergency\":false,\"notCompleted\":false,\"officeName\":\"연합뉴스\",\"officeId\":\"001\",\"officeHomeUrl\":null,\"officeWeight\":0,\"officeWeightRate\":0.0,\"_id\":\"65eb8bee338c462ac5ad324b\"}],\"excludeInPaging\":false,\"positionForPaging\":0,\"realtime\":false,\"_id\":\"643543b2a10d3006850fa263\",\"@type\":\"BLOCK\",\"@code\":\"PC-NEWSSTAND-YONHAP\",\"@template\":\"PC-NEWSSTAND-YONHAP\",\"@flowId\":\"PC-YONHAP\",\"@flowExecutionId\":\"b0fb909f-e100-11ee-8373-599b9767c12e\",\"@provider\":\"lambda\",\"@lastModifiedAt\":[2024,3,13,6,12,38,216000000]}\n",
      "window[\"EAGER-DATA\"][\"CAS-MINICONTENT-PC-SEARCH-RIGHT\"] = {\"@type\":\"MINI-CONTENT-BLOCK\",\"blocks\":null,\"materials\":null,\"excludeInPaging\":false,\"positionForPaging\":0,\"realtime\":false,\"items\":[],\"_id\":\"6433d8a5a10d300685012682\",\"@type\":\"MINI-CONTENT-BLOCK\",\"@code\":\"CAS-MINICONTENT-PC-SEARCH-RIGHT\",\"@template\":\"NONE\",\"@flowId\":\"CAS-MINICONTENT\",\"@flowExecutionId\":\"b06458e4-e100-11ee-ada4-e5b678055da7\",\"@provider\":\"lambda\",\"@lastModifiedAt\":[2024,3,13,6,12,37,110000000]}\n",
      "window[\"EAGER-DATA\"][\"CAS-MINICONTENT-PC-MEDIA-TAB-EVENT\"] = {\"@type\":\"MINI-CONTENT-BLOCK\",\"blocks\":null,\"materials\":null,\"excludeInPaging\":false,\"positionForPaging\":0,\"realtime\":false,\"items\":[{\"content\":{\"url\":\"https://news.naver.com/election/nation2024\",\"darkImage\":\"https://s.pstatic.net/static/www/mobile/edit/20240222_1095/upload_1708585885601gXx80.png\",\"lightImage\":\"https://s.pstatic.net/static/www/mobile/edit/20240222_1095/upload_1708585880722aZITS.png\",\"altText\":\"2024 총선\",\"clickCode\":\"nst.elc2024\"},\"exposure\":true,\"@miniContentId\":\"65d6faabf90934116e0b0de4\",\"@miniContentCode\":\"PC-MEDIA-TAB-EVENT\",\"@startAt\":\"2024-03-07 16:00\",\"@endAt\":\"2024-04-11 23:59\",\"@createdAt\":\"2024-02-22T16:41:31.32\",\"@updatedAt\":\"2024-03-07T16:32:55.514\"}],\"_id\":\"643687e1a10d300685630556\",\"@type\":\"MINI-CONTENT-BLOCK\",\"@code\":\"CAS-MINICONTENT-PC-MEDIA-TAB-EVENT\",\"@template\":\"NONE\",\"@flowId\":\"CAS-MINICONTENT\",\"@flowExecutionId\":\"b78943eb-e100-11ee-8373-696e05924602\",\"@provider\":\"lambda\",\"@lastModifiedAt\":[2024,3,13,6,12,49,99000000]}\n",
      "window[\"EAGER-DATA\"][\"CAS-MINICONTENT-PC-MID-BANNER\"] = {\"@type\":\"MINI-CONTENT-BLOCK\",\"blocks\":null,\"materials\":null,\"excludeInPaging\":false,\"positionForPaging\":0,\"realtime\":false,\"items\":[],\"_id\":\"648ae476a10d300685fbab10\",\"@type\":\"MINI-CONTENT-BLOCK\",\"@code\":\"CAS-MINICONTENT-PC-MID-BANNER\",\"@template\":\"NONE\",\"@flowId\":\"CAS-MINICONTENT\",\"@flowExecutionId\":\"acd0ab95-e100-11ee-8373-15562e9caa54\",\"@provider\":\"lambda\",\"@lastModifiedAt\":[2024,3,13,6,12,31,101000000]}\n",
      "window[\"EAGER-DATA\"][\"CAS-MINICONTENT-PC-TAB-META\"] = {\"@type\":\"MINI-CONTENT-BLOCK\",\"blocks\":null,\"materials\":null,\"excludeInPaging\":false,\"positionForPaging\":0,\"realtime\":false,\"items\":[{\"content\":{\"area\":\"FEED\",\"tabList\":[{\"clickCode\":\"tct.mynr\",\"name\":\"추천・구독\",\"id\":\"PC-FEED-RECOMMEND\",\"contingencyEnabled\":true,\"enabled\":true,\"useFeedCasEditTemplate\":false,\"weight\":1},{\"clickCode\":\"tct.wtn\",\"name\":\"자동차\",\"id\":\"PC-FEED-CARGAME\",\"contingencyEnabled\":true,\"enabled\":true,\"useFeedCasEditTemplate\":true,\"weight\":1},{\"clickCode\":\"tct.wtn\",\"name\":\"웹툰\",\"id\":\"PC-FEED-WEBTOON\",\"contingencyEnabled\":true,\"enabled\":true,\"useFeedCasEditTemplate\":true,\"weight\":1},{\"clickCode\":\"tct.bty\",\"name\":\"패션뷰티\",\"id\":\"PC-FEED-BEAUTY\",\"contingencyEnabled\":true,\"enabled\":true,\"useFeedCasEditTemplate\":false,\"weight\":1},{\"clickCode\":\"tct.fod\",\"name\":\"레시피\",\"id\":\"PC-FEED-RECIPE\",\"contingencyEnabled\":true,\"enabled\":true,\"useFeedCasEditTemplate\":true,\"weight\":1},{\"clickCode\":\"tct.lif\",\"name\":\"리빙\",\"id\":\"PC-FEED-LIVINGHOME\",\"contingencyEnabled\":true,\"enabled\":true,\"useFeedCasEditTemplate\":true,\"weight\":1},{\"clickCode\":\"tct.bok\",\"name\":\"책방\",\"id\":\"PC-FEED-CULTURE\",\"contingencyEnabled\":true,\"enabled\":true,\"useFeedCasEditTemplate\":true,\"weight\":1},{\"clickCode\":\"tct.lec\",\"name\":\"지식+\",\"id\":\"PC-FEED-LECTURE\",\"contingencyEnabled\":true,\"enabled\":true,\"useFeedCasEditTemplate\":true,\"weight\":1},{\"clickCode\":\"tct.health\",\"name\":\"건강\",\"id\":\"PC-FEED-HEALTH\",\"contingencyEnabled\":true,\"enabled\":true,\"useFeedCasEditTemplate\":false,\"weight\":1},{\"clickCode\":\"tct.gameapp\",\"name\":\"게임\",\"id\":\"PC-FEED-GAMEAPP\",\"contingencyEnabled\":true,\"enabled\":true,\"useFeedCasEditTemplate\":false,\"weight\":1}],\"@type\":\"BLOCK-PC-TAB-META\"},\"exposure\":true,\"@miniContentId\":\"643e64d370a065058f369bac\",\"@miniContentCode\":\"PC-TAB-META\",\"@startAt\":\"2023-04-10 00:00\",\"@endAt\":\"2030-05-30 23:59\",\"@createdAt\":\"2023-04-18T18:37:23.412\",\"@updatedAt\":\"2023-11-08T11:34:03.902\"},{\"content\":{\"area\":\"MEDIA\",\"tabList\":[{\"clickCode\":\"nst.nsd\",\"name\":\"뉴스스탠드\",\"id\":\"PC-MEDIA-NEWSSTAND\",\"contingencyEnabled\":true,\"enabled\":true,\"useFeedCasEditTemplate\":false,\"weight\":1},{\"clickCode\":\"nst.nch\",\"name\":\"언론사편집\",\"id\":\"PC-MEDIA-NEWS\",\"contingencyEnabled\":true,\"enabled\":true,\"useFeedCasEditTemplate\":false,\"weight\":1},{\"clickCode\":\"nst.ent\",\"name\":\"엔터\",\"id\":\"PC-MEDIA-ENTER\",\"contingencyEnabled\":true,\"enabled\":true,\"useFeedCasEditTemplate\":false,\"weight\":1},{\"clickCode\":\"nst.spo\",\"name\":\"스포츠\",\"id\":\"PC-MEDIA-SPORTS\",\"contingencyEnabled\":true,\"enabled\":true,\"useFeedCasEditTemplate\":false,\"weight\":1},{\"clickCode\":\"nst.fin\",\"name\":\"경제\",\"id\":\"PC-MEDIA-ECONOMIC\",\"contingencyEnabled\":true,\"enabled\":true,\"useFeedCasEditTemplate\":false,\"weight\":1}],\"@type\":\"BLOCK-PC-TAB-META\"},\"exposure\":true,\"@miniContentId\":\"643e642c8793487c84743a38\",\"@miniContentCode\":\"PC-TAB-META\",\"@startAt\":\"2023-04-11 00:00\",\"@endAt\":\"2030-05-31 23:59\",\"@createdAt\":\"2023-04-18T18:34:36.648\",\"@updatedAt\":\"2023-04-18T18:34:36.648\"}],\"_id\":\"643e6299a10d3006853cc04c\",\"@type\":\"MINI-CONTENT-BLOCK\",\"@code\":\"CAS-MINICONTENT-PC-TAB-META\",\"@template\":\"NONE\",\"@flowId\":\"CAS-MINICONTENT\",\"@flowExecutionId\":\"b9eadade-e100-11ee-ada4-111e81f40582\",\"@provider\":\"lambda\",\"@lastModifiedAt\":[2024,3,13,6,12,53,479000000]}\n",
      "        </script>\n",
      "        <script crossorigin=\"anonymous\" defer=\"defer\" src=\"https://pm.pstatic.net/resources/js/polyfill.37930f2b.js?o=www\">\n",
      "        </script>\n",
      "        <script crossorigin=\"anonymous\" defer=\"defer\" src=\"https://pm.pstatic.net/resources/js/preload.8c808364.js?o=www\">\n",
      "        </script>\n",
      "        <script crossorigin=\"anonymous\" defer=\"defer\" src=\"https://pm.pstatic.net/resources/js/search.b95a15be.js?o=www\">\n",
      "        </script>\n",
      "        <script crossorigin=\"anonymous\" defer=\"defer\" src=\"https://pm.pstatic.net/resources/js/main.dac8b8c8.js?o=www\">\n",
      "        </script>\n",
      "        <link href=\"https://pm.pstatic.net/resources/css/main.81ca9597.css\" rel=\"stylesheet\"/>\n",
      "       </link>\n",
      "      </meta>\n",
      "     </meta>\n",
      "    </meta>\n",
      "   </meta>\n",
      "  </meta>\n",
      " </head>\n",
      " <body>\n",
      "  <div id=\"u_skip\">\n",
      "   <a href=\"#topAsideButton\">\n",
      "    <span>\n",
      "     상단영역 바로가기\n",
      "    </span>\n",
      "   </a>\n",
      "   <a href=\"#shortcutArea\">\n",
      "    <span>\n",
      "     서비스 메뉴 바로가기\n",
      "    </span>\n",
      "   </a>\n",
      "   <a href=\"#newsstand\">\n",
      "    <span>\n",
      "     새소식 블록 바로가기\n",
      "    </span>\n",
      "   </a>\n",
      "   <a href=\"#shopping\">\n",
      "    <span>\n",
      "     쇼핑 블록 바로가기\n",
      "    </span>\n",
      "   </a>\n",
      "   <a href=\"#feed\">\n",
      "    <span>\n",
      "     관심사 블록 바로가기\n",
      "    </span>\n",
      "   </a>\n",
      "   <a href=\"#account\">\n",
      "    <span>\n",
      "     MY 영역 바로가기\n",
      "    </span>\n",
      "   </a>\n",
      "   <a href=\"#widgetboard\">\n",
      "    <span>\n",
      "     위젯 보드 바로가기\n",
      "    </span>\n",
      "   </a>\n",
      "   <a href=\"#viewSetting\">\n",
      "    <span>\n",
      "     보기 설정 바로가기\n",
      "    </span>\n",
      "   </a>\n",
      "  </div>\n",
      "  <script data-gfp-banner-size=\"830x130\" data-gfp-banner-type=\"full\" id=\"ad-timeboard-response\" type=\"text/plain\">\n",
      "   {\"payload\":{\"requestId\":\"b325f7f3eadf466c986e59b3d4bb87c5\",\"head\":{\"version\":\"0.0.1\",\"description\":\"Naver SSP Waterfall List\"},\"eventTracking\":{\"ackImpressions\":[{\"url\":\"https://tivan.naver.com/sc2/1/\"}],\"activeViewImpressions\":[{\"url\":\"https://tivan.naver.com/sc2/2/\"}],\"clicks\":[{\"url\":\"https://tivan.naver.com/sc2/3/\"}],\"completions\":[{\"url\":\"https://tivan.naver.com/sc2/4/\"}],\"attached\":[{\"url\":\"https://tivan.naver.com/sc2/10/\"}],\"renderedImpressions\":[{\"url\":\"https://tivan.naver.com/sc2/11/\"}],\"viewableImpressions\":[{\"url\":\"https://tivan.naver.com/sc2/12/\"}],\"loadErrors\":[{\"url\":\"https://tivan.naver.com/sc2/91/\"}],\"startErrors\":[{\"url\":\"https://tivan.naver.com/sc2/92/\"}],\"mute\":[{\"url\":\"https://tivan.naver.com/sc2/5/\"}],\"close\":[{\"url\":\"https://tivan.naver.com/sc2/6/\"}]},\"adUnit\":\"p_main_timeboard_v1\",\"randomNumber\":13,\"adDivId\":\"ad_timeboard\",\"advertiserDomains\":[\"www.brain-study.co.kr\"],\"adDuplicationKeys\":[\"URL:http://www.brain-study.co.kr/home\"],\"ads\":[{\"encrypted\":\"HQtAyv7s8XA36Z-14ko2MUn1Z9jPAtiLshQETYLvNsSqhW2e6ygCvFYIU7cUw7SnXVzOJL3eKUeTTfuNEQM0WIcI_0YaP94j2UCPGdh97Xi6sZ5av-tJljO-aZV4y-oAWB9fY_A2e6YLDzoK0a4Flc9rJfBd52VQbk0PQ1rBFSAJW0CW8eH1jcsIwt5Hu47rWBKodR2HzTBWZN_v-FKV9vy0peVTCLSzlyHF5Cs7D0cKb0yRZqEl-CjMRC1mybQZdZAcSBo3xh7l2oVxnpaQhuKcU4HAXu6fPY2CD5WxBlobJ_K_njgIT_d_MtZXVwJH5rV4r2SVMojPxASyiFQ44YPnQFivO6qnjY_T6GkaeTmh4aSrAMy4zKz7FyDkXyUp8ziQBt5Hdf9TJTtbrDDxgEIhIyysQBPG-YqxM7PzftIXhj7bp3ltfAdS2Ac0eZonzgzhgVX0a66HMWZUu7Cbc7SIuCz0ahvUc32MGgTgDR6CGzprSE4o9fE_Z1dqcMCIGRGGWRp4yA4V-UL5_xwIlzf6zbdlHcNg6RvmNtG_l2obJxCWf38MSwTxS1Fbic1pLOYbsDF9GkW-__SEH2iNvzF2GlLVYKFuQBYKYs0rF_Wi-xvX7V1BNlM0LplAuUELFXuqAbDryWsicnUjrCGhYpaxo89wbKPYpofeGRjIxqJbw5Pbu_Chp_wyWhVC6HABNmgg_6QztLcnHzLTL3UJ7foTK_Ctx3NU1YCy_5E44fSTIaC5kRU3VWUbPUsH0IHm\",\"connectionType\":\"S2S\",\"adProviderType\":\"IN_NAVER\",\"adProviderName\":\"NDP_SF\",\"layoutType\":\"FLUID\",\"creativeType\":\"BANNER\",\"renderType\":\"SF\",\"eventTracking\":{\"ackImpressions\":[{\"url\":\"https://siape.veta.naver.com/openrtb/nurl?eu=EU10043565\\u0026calp=-\\u0026oj=cQgn6aire5P9CXGAVmDRbrIx2R8diM%2F6cTE65KEJu4xEzJzaDir%2B7eWp1U3%2BtY%2FNJL1qM2Pf%2FakJWNatjPM8DxYKU8U3HZY1%2BdlShD4OadDIBWexIpibH0plqdgUSG%2BUXrQSw%2B%2FX1bbNCF9%2F110BZDp0hCNKO%2BcHo2M9jEOAPSLbaIdXv9YIFqKzdZWOwZvbdMAtSn%2B9Id4vH4MuGzFJiErLLp1Ox71Vg1K%2FFXnNMQA\\u0026ac=8933472\\u0026src=6978462\\u0026evtcd=BID_WIN\\u0026x_ti=1505\\u0026rk=opHKbzGmeiR2YsOsPY3Uog\\u0026eltts=iCyxyZ%2F286i3so%2BvBP3NZQ%3D%3D\\u0026brs=Y\\u0026\"}],\"attached\":[],\"activeViewImpressions\":[],\"renderedImpressions\":[],\"viewableImpressions\":[],\"clicks\":[],\"vimp1px\":[],\"vimp100\":[],\"vimp100p\":[],\"admute\":[],\"advmute\":[],\"like\":[],\"unlike\":[],\"close\":[],\"bounce\":[]},\"adInfo\":{\"placeId\":\"6436232db28a76002ea3f30c\",\"adomain\":[\"www.brain-study.co.kr\"],\"cid\":\"1488309\",\"crid\":\"2609076\",\"exp\":2772,\"adm\":\"%3Cscript%20src%3D%22https%3A%2F%2Fssl.pstatic.net%2Fmelona%2Flibs%2Fglad%2Fbridge%2Fgfp-bridge.js%22%3E%3C%2Fscript%3E%0D%0A%3Clink%20rel%3D%22stylesheet%22%20href%3D%22https%3A%2F%2Fssl.pstatic.net%2Fmelona%2Flibs%2Fassets%2Fcss%2Fpc%2Fmain%2Fmin%2Fmain_image_rolling_830.min.css%3F20221021%22%20%2F%3E%0D%0A%0D%0A%3Cdiv%20class%3D%22image_rolling_area%20time_board_type%22%3E%0D%0A%20%20%20%20%3Ca%20href%3D%22https%3A%2F%2Fsiape.veta.naver.com%2Ffxclick%3Feu%3DEU10043565%26calp%3D-%26oj%3DcQgn6aire5P9CXGAVmDRbrIx2R8diM%252F6cTE65KEJu4xEzJzaDir%252B7eWp1U3%252BtY%252FNJL1qM2Pf%252FakJWNatjPM8DxYKU8U3HZY1%252BdlShD4OadDIBWexIpibH0plqdgUSG%252BUXrQSw%252B%252FX1bbNCF9%252F110BZDp0hCNKO%252BcHo2M9jEOAPSLbaIdXv9YIFqKzdZWOwZvbdMAtSn%252B9Id4vH4MuGzFJiErLLp1Ox71Vg1K%252FFXnNMQA%26ac%3D8933472%26src%3D6978462%26br%3D4463347%26evtcd%3DP901%26x_ti%3D1505%26tb%3D%26oid%3D%26sid1%3D%26sid2%3D%26rk%3DopHKbzGmeiR2YsOsPY3Uog%26eltts%3DiCyxyZ%252F286i3so%252BvBP3NZQ%253D%253D%26lu%3D%26brs%3DY%26%22%20class%3D%22image_rolling_link%22%20target%3D%22_blank%22%3E%0D%0A%20%20%20%20%20%20%20%20%3Cdiv%20class%3D%22image_area%20three_images%22%3E%0D%0A%20%20%20%20%20%20%20%20%20%20%20%20%3Cimg%20src%3D%22https%3A%2F%2Fssl.pstatic.net%2Fmelona%2Flibs%2F1488%2F1488309%2F8a93b8e79e00115c0ed6_20240312174249619.jpg%22%20width%3D%22830%22%20height%3D%22130%22%20alt%3D%22%5B%EA%B4%91%EA%B3%A0%5D%EB%87%8C%EC%83%88%EA%B9%80%20%EC%95%BC%EA%B7%BC%ED%96%88%EB%8B%A4%EA%B3%A0%EC%89%AC%EB%A0%A4%EA%B3%A0%EC%9A%94%20%ED%87%B4%EA%B7%BC%20%ED%9B%84%20%EA%B0%80%EB%B3%8D%EA%B2%8C%201%EC%A3%BC%201%EA%B6%8C%ED%95%98%EB%A9%B4%EB%8F%BC%EC%9A%94%20%EB%A7%90%EB%8F%84%EC%95%88%EB%90%98%EC%A7%80%EB%A7%8C%20%EB%8B%A8%EB%8F%88500%EC%9B%90%20%EB%8B%A8%204%EC%8B%9C%EA%B9%8C%EC%A7%80%EB%A7%8C%22%3E%0D%0A%20%20%20%20%20%20%20%20%20%20%20%20%3Cimg%20src%3D%22https%3A%2F%2Fssl.pstatic.net%2Fmelona%2Flibs%2F1488%2F1488309%2F22cc95459a98ab89a9f1_20240312174253453.jpg%22%20width%3D%22830%22%20height%3D%22130%22%20alt%3D%22%22%3E%0D%0A%20%20%20%20%20%20%20%20%20%20%20%20%3Cimg%20src%3D%22https%3A%2F%2Fssl.pstatic.net%2Fmelona%2Flibs%2F1488%2F1488309%2F24de658261bd19ab997c_20240312174257419.jpg%22%20width%3D%22830%22%20height%3D%22130%22%20alt%3D%22%22%3E%0D%0A%20%20%20%20%20%20%20%20%3C%2Fdiv%3E%0D%0A%20%20%20%20%3C%2Fa%3E%0D%0A%3C%2Fdiv%3E%0D%0A%0D%0A%3Cscript%20type%3D%22text%2Fjavascript%22%20src%3D%22https%3A%2F%2Fssl.pstatic.net%2Fmelona%2Flibs%2Fassets%2Fjs%2Fpc%2Fmain%2Fmin%2Fpc.veta.core.min.js%3F20240228%22%3E%3C%2Fscript%3E%0D%0A%3Cscript%20type%3D%22text%2Fjavascript%22%3E%0D%0A%20%20%20%20%28function%28ns%2C%20bridge%29%20%7B%0D%0A%20%20%20%20%20%20%20%20var%20LOG%20%3D%20%7B%0D%0A%20%20%20%20%20%20%20%20%20%20%20%20VIEWABLED%3A%20%22https%3A%2F%2Fsiape.veta.naver.com%2Ffxview%3Feu%3DEU10043565%26calp%3D-%26oj%3DcQgn6aire5P9CXGAVmDRbrIx2R8diM%252F6cTE65KEJu4xEzJzaDir%252B7eWp1U3%252BtY%252FNJL1qM2Pf%252FakJWNatjPM8DxYKU8U3HZY1%252BdlShD4OadDIBWexIpibH0plqdgUSG%252BUXrQSw%252B%252FX1bbNCF9%252F110BZDp0hCNKO%252BcHo2M9jEOAPSLbaIdXv9YIFqKzdZWOwZvbdMAtSn%252B9Id4vH4MuGzFJiErLLp1Ox71Vg1K%252FFXnNMQA%26ac%3D8933472%26src%3D6978462%26evtcd%3DV900%26x_ti%3D1505%26tb%3D%26oid%3D%26sid1%3D%26sid2%3D%26rk%3DopHKbzGmeiR2YsOsPY3Uog%26eltts%3DiCyxyZ%252F286i3so%252BvBP3NZQ%253D%253D%26brs%3DY%26%26eid%3DV900%22%2C%0D%0A%20%20%20%20%20%20%20%20%20%20%20%20RENDERED%3A%20%22https%3A%2F%2Fsiape.veta.naver.com%2Ffxview%3Feu%3DEU10043565%26calp%3D-%26oj%3DcQgn6aire5P9CXGAVmDRbrIx2R8diM%252F6cTE65KEJu4xEzJzaDir%252B7eWp1U3%252BtY%252FNJL1qM2Pf%252FakJWNatjPM8DxYKU8U3HZY1%252BdlShD4OadDIBWexIpibH0plqdgUSG%252BUXrQSw%252B%252FX1bbNCF9%252F110BZDp0hCNKO%252BcHo2M9jEOAPSLbaIdXv9YIFqKzdZWOwZvbdMAtSn%252B9Id4vH4MuGzFJiErLLp1Ox71Vg1K%252FFXnNMQA%26ac%3D8933472%26src%3D6978463%26evtcd%3DNO_EVENT%26x_ti%3D1505%26tb%3D%26oid%3D%26sid1%3D%26sid2%3D%26rk%3DopHKbzGmeiR2YsOsPY3Uog%26eltts%3DiCyxyZ%252F286i3so%252BvBP3NZQ%253D%253D%26brs%3DY%26%26eid%3DV810%22%0D%0A%20%20%20%20%20%20%20%20%7D%3B%0D%0A%0D%0A%20%20%20%20%20%20%20%20var%20util%20%3D%20ns.Util%20%3F%20new%20ns.Util%28%29%20%3A%20new%20NBP_CORP.Nimp%28%29%3B%0D%0A%20%20%20%20%20%20%20%20var%20gladSdkBridge%20%3D%20bridge.createSdkBridge%28%29%3B%0D%0A%20%20%20%20%20%20%20%20var%20eventList%20%3D%20%7B%7D%3B%0D%0A%0D%0A%20%20%20%20%20%20%20%20%2F%2F%20%EC%9D%91%EB%8B%B5%EB%85%B8%EC%B6%9C%0D%0A%20%20%20%20%20%20%20%20util.log%28LOG.RENDERED%29%3B%0D%0A%0D%0A%20%20%20%20%20%20%20%20%2F%2F%20%EC%9C%A0%ED%9A%A8%EB%85%B8%EC%B6%9C%0D%0A%20%20%20%20%20%20%20%20eventList%5Bbridge.EVENT.VIEWABLED%5D%20%3D%20function%28%29%20%7B%0D%0A%20%20%20%20%20%20%20%20%20%20%20%20util.log%28LOG.VIEWABLED%29%3B%0D%0A%20%20%20%20%20%20%20%20%7D%3B%0D%0A%0D%0A%20%20%20%20%20%20%20%20gladSdkBridge.setEventListeners%28eventList%29%3B%0D%0A%0D%0A%20%20%20%20%20%20%20%20window.onload%20%3D%20function%28%29%20%7B%0D%0A%20%20%20%20%20%20%20%20%20%20%20%20document.querySelector%28%27.image_area%27%29.classList.add%28%27animation_start%27%29%3B%0D%0A%20%20%20%20%20%20%20%20%7D%3B%0D%0A%20%20%20%20%7D%29%28%0D%0A%20%20%20%20%20%20%20%20window.naver_corp_da%20%7C%7C%20%7B%7D%2C%0D%0A%20%20%20%20%20%20%20%20window.gladBridge%0D%0A%20%20%20%20%29%3B%0D%0A%3C%2Fscript%3E\",\"encoded\":1,\"responseSize\":{\"height\":130,\"width\":830,\"force\":0},\"template\":\"%3C%21doctype%20html%3E%3Chtml%3E%3Chead%3E%3Cmeta%20name%3D%22viewport%22%20content%3D%22width%3Ddevice-width%2C%20user-scalable%3Dno%22%2F%3E%3Cstyle%20data-gfp-role%3D%22adMarkLegacyStyle%22%3E%5Bdata-gfp-role%3D%22adMarkLegacy%22%5D%20%7Bdisplay%3A%20none%3B%7D%3C%2Fstyle%3E%3Cscript%3Ewindow.gladBridge%20%3D%20%7BRUNTIME%3A%20%22InApp%22%7D%3B%3C%2Fscript%3E%3C%2Fhead%3E%3Cbody%20style%3D%22margin%3A%200%3B%20padding%3A%200%22%3E%7B%7Badm%7D%7D%3Cscript%20src%3D%22https%3A%2F%2Fssl.pstatic.net%2Ftveta%2Flibs%2Fglad_admute%2Fprod%2Fglad-admute.js%22%3E%3C%2Fscript%3E%3Cscript%3Econst%20adMuteOptions%20%3D%20%7BmuteUrl%3A%20%22%25%25MUTE_URL%25%25%22%2C%20privacyUrl%3A%20%22%25%25PRIV_URL%25%25%22%2C%20creativeType%3A%20%22BANNER%22%2C%20runtimeType%3A%20%22InApp%22%7D%3B%20window.gladAdMute.checkAdMarkLegacyStyle%28adMuteOptions%29%3B%20const%20adMuteController%20%3D%20window.gladAdMute.createAdMuteController%28adMuteOptions%29%3B%20adMuteController.render%28%29%3B%3C%2Fscript%3E%3C%2Fbody%3E%3C%2Fhtml%3E\"}},{\"encrypted\":\"sRNatxVBquOzqItUaBhNQvJ7zI7dTmV1BMcZjWsrAtW3mbXghui_ITbVvYh0rC0hli-xty-fMnPfywNQo2ogswQIDT9p_irupRGT5aR2UL5jQBV34l_hR7JWIcORF9g81Y77lc2oz6CO48P9ntICmtDLOV3bycJ9Z4bAvOGybG_2OhHFdJ9urrZNmJoJYwB8sh29RNAQ5GJOMGfiFdfFCa2B7GQ1dCA10CgtjIH16IUr0NgGPWwIwOtwSEOWVtPCvgp2PZNmDDBz3GO4cKzot6rNKaS9_VrKhLIgN99Cw16f1-Jjud9iu5ax3dgH2Nns7P2GWBdFW93e2CVnUaY6ZwpcigKekYhr8sDTKXSfKoy31z1Z5raXrcKKvR4fuP35kcQAafaKAxqC34yA-qOcJ09c38-jHh3dL7F_tgj59ve79W3LHS5CxLhoPsZVyvYtSuHwO9RoIgtAfJhYM_0bR2l7uRvSVVXP52Tjg3OdrCE1iT2SrPQONai5wWoPyLB_\",\"connectionType\":\"S2S\",\"adProviderName\":\"GFP\",\"layoutType\":\"FLUID\",\"creativeType\":\"BANNER\",\"renderType\":\"EMPTY\",\"eventTracking\":{\"ackImpressions\":[{\"url\":\"https://siape.veta.naver.com/openrtb/nbackimp?eu=EU10043565\\u0026calp=-\\u0026oj=cQgn6aire5P9CXGAVmDRbrIx2R8diM%2F6cTE65KEJu4xEzJzaDir%2B7eWp1U3%2BtY%2FNJL1qM2Pf%2FakJWNatjPM8DxYKU8U3HZY1%2BdlShD4OadDIBWexIpibH0plqdgUSG%2BUXrQSw%2B%2FX1bbNCF9%2F110BZDp0hCNKO%2BcHo2M9jEOAPSLbaIdXv9YIFqKzdZWOwZvbdMAtSn%2B9Id4vH4MuGzFJiErLLp1Ox71Vg1K%2FFXnNMQA\\u0026evtcd=BID_LOSE\\u0026x_ti=1505\\u0026rk=opHKbzGmeiR2YsOsPY3Uog\\u0026eltts=iCyxyZ%2F286i3so%2BvBP3NZQ%3D%3D\\u0026brs=Y\\u0026ac=8933472\\u0026src=6978462\"}],\"attached\":[],\"activeViewImpressions\":[{\"url\":\"https://siape.veta.naver.com/openrtb/nbimp?oj=cQgn6aire5P9CXGAVmDRbrIx2R8diM%2F6cTE65KEJu4xEzJzaDir%2B7eWp1U3%2BtY%2FNJL1qM2Pf%2FakJWNatjPM8DxYKU8U3HZY1%2BdlShD4OadDIBWexIpibH0plqdgUSG%2BUXrQSw%2B%2FX1bbNCF9%2F110BZDp0hCNKO%2BcHo2M9jEOAPSLbaIdXv9YIFqKzdZWOwZvbdMAtSn%2B9Id4vH4MuGzFJiErLLp1Ox71Vg1K%2FFXnNMQA\\u0026rk=opHKbzGmeiR2YsOsPY3Uog\\u0026eltts=iCyxyZ%2F286i3so%2BvBP3NZQ%3D%3D\"}],\"renderedImpressions\":[],\"viewableImpressions\":[{\"url\":\"https://siape.veta.naver.com/openrtb/nbimp?oj=cQgn6aire5P9CXGAVmDRbrIx2R8diM%2F6cTE65KEJu4xEzJzaDir%2B7eWp1U3%2BtY%2FNJL1qM2Pf%2FakJWNatjPM8DxYKU8U3HZY1%2BdlShD4OadDIBWexIpibH0plqdgUSG%2BUXrQSw%2B%2FX1bbNCF9%2F110BZDp0hCNKO%2BcHo2M9jEOAPSLbaIdXv9YIFqKzdZWOwZvbdMAtSn%2B9Id4vH4MuGzFJiErLLp1Ox71Vg1K%2FFXnNMQA\\u0026rk=opHKbzGmeiR2YsOsPY3Uog\\u0026eltts=iCyxyZ%2F286i3so%2BvBP3NZQ%3D%3D\"}],\"clicks\":[],\"vimp1px\":[],\"vimp100\":[],\"vimp100p\":[],\"admute\":[],\"advmute\":[],\"like\":[],\"unlike\":[],\"close\":[],\"bounce\":[]},\"adInfo\":{\"responseSize\":{\"height\":0,\"width\":0}}}],\"config\":{\"imp\":{\"ratio\":100,\"ms\":0}}},\"additionalInfo\":{\"adCount\":1,\"adDuplicate\":{\"advertiserDomains\":[\"www.brain-study.co.kr\"],\"adDuplicationKeys\":[\"URL:http://www.brain-study.co.kr/home\"]},\"adSize\":{\"h\":130,\"w\":830}}}\n",
      "  </script>\n",
      "  <div id=\"wrap\">\n",
      "   <div id=\"header\" role=\"banner\">\n",
      "    <div class=\"header_inner\" id=\"topSearchWrap\">\n",
      "     <div class=\"search_special_bg\" id=\"special-logo\">\n",
      "     </div>\n",
      "     <div class=\"ad_area\" id=\"timeboard-ex\" style=\"min-width:1340px\">\n",
      "     </div>\n",
      "     <div class=\"search_area\" id=\"search_area\" style=\"border-color:#fff\">\n",
      "      <div class=\"link_search_special\" id=\"special-input-logo-ex\" style=\"display:none\">\n",
      "      </div>\n",
      "      <div class=\"search_group\">\n",
      "       <div class=\"search_group_inner\" id=\"search\">\n",
      "        <h1 class=\"search_logo\" id=\"special-input-logo\">\n",
      "        </h1>\n",
      "        <form action=\"https://search.naver.com/search.naver\" id=\"sform\" method=\"get\" name=\"search\" role=\"search\">\n",
      "         <fieldset>\n",
      "          <legend class=\"blind\">\n",
      "           검색\n",
      "          </legend>\n",
      "          <input name=\"where\" type=\"hidden\" value=\"nexearch\"/>\n",
      "          <input id=\"sm\" name=\"sm\" type=\"hidden\" value=\"top_hty\"/>\n",
      "          <input id=\"fbm\" name=\"fbm\" type=\"hidden\" value=\"0\"/>\n",
      "          <input disabled=\"disabled\" id=\"acr\" name=\"acr\" type=\"hidden\" value=\"\"/>\n",
      "          <input disabled=\"disabled\" id=\"acq\" name=\"acq\" type=\"hidden\" value=\"\"/>\n",
      "          <input disabled=\"disabled\" id=\"qdt\" name=\"qdt\" type=\"hidden\" value=\"\"/>\n",
      "          <input id=\"ie\" name=\"ie\" type=\"hidden\" value=\"utf8\"/>\n",
      "          <input disabled=\"disabled\" id=\"acir\" name=\"acir\" type=\"hidden\" value=\"\"/>\n",
      "          <input disabled=\"disabled\" id=\"os\" name=\"os\" type=\"hidden\" value=\"\"/>\n",
      "          <input disabled=\"disabled\" id=\"bid\" name=\"bid\" type=\"hidden\" value=\"\"/>\n",
      "          <input disabled=\"disabled\" id=\"pkid\" name=\"pkid\" type=\"hidden\" value=\"\"/>\n",
      "          <input disabled=\"disabled\" id=\"eid\" name=\"eid\" type=\"hidden\" value=\"\"/>\n",
      "          <input disabled=\"disabled\" id=\"mra\" name=\"mra\" type=\"hidden\" value=\"\"/>\n",
      "          <div class=\"search_input_box\">\n",
      "           <input autocomplete=\"off\" class=\"search_input\" data-atcmp-element=\"\" id=\"query\" maxlength=\"255\" name=\"query\" placeholder=\"검색어를 입력해 주세요.\" title=\"검색어를 입력해 주세요.\" type=\"search\"/>\n",
      "          </div>\n",
      "          <button class=\"btn_search\" onclick='window.nclk_v2(this,\"sch.action\")' type=\"submit\">\n",
      "           <span class=\"ico_btn_search_svg\">\n",
      "            <svg id=\"search-btn\" viewbox=\"0 0 50 50\" xmlns=\"http://www.w3.org/2000/svg\">\n",
      "             <path d=\"M22.13.5c11.378 0 20.632 9.256 20.632 20.63 0 4.699-1.566 9.155-4.439 12.782l10.164 10.165a2.41 2.41 0 0 1-1.706 4.115 2.412 2.412 0 0 1-1.706-.705L33.31 35.719a2.41 2.41 0 0 1 0-3.41 15.71 15.71 0 0 0 4.628-11.178c0-8.718-7.09-15.808-15.807-15.808-8.718 0-15.808 7.09-15.808 15.808 0 7.15 4.817 13.43 11.714 15.273a2.41 2.41 0 0 1 1.705 2.954 2.41 2.41 0 0 1-2.95 1.705C7.788 38.658 1.5 30.46 1.5 21.131 1.5 9.756 10.756.5 22.13.5zm4.716 34.746a3.483 3.483 0 1 1 0 6.966 3.483 3.483 0 0 1 0-6.966z\">\n",
      "             </path>\n",
      "            </svg>\n",
      "           </span>\n",
      "           <span class=\"blind\">\n",
      "            검색\n",
      "           </span>\n",
      "          </button>\n",
      "         </fieldset>\n",
      "        </form>\n",
      "        <div class=\"search_box\">\n",
      "         <button aria-pressed=\"false\" class=\"btn_keyboard\" id=\"ke_kbd_btn\" type=\"button\">\n",
      "          <span class=\"keybord_text\">\n",
      "           <span class=\"blind\">\n",
      "            입력도구\n",
      "           </span>\n",
      "          </span>\n",
      "         </button>\n",
      "         <div id=\"_nx_kbd\" style=\"display:none\">\n",
      "         </div>\n",
      "         <button class=\"btn_arrow\" data-atcmp-element=\"\" id=\"nautocomplete\" type=\"button\">\n",
      "          <span class=\"blind\">\n",
      "           자동완성/최근검색어펼치기\n",
      "          </span>\n",
      "         </button>\n",
      "        </div>\n",
      "        <div class=\"layer_atcmp\" id=\"autoFrame\" style=\"display:none\">\n",
      "         <div class=\"ly_atcmp\" data-atcmp-element=\"\">\n",
      "          <div class=\"api_atcmp_wrap\">\n",
      "           <div class=\"atcmp_fixer _recent_layer\" style=\"display:none\">\n",
      "            <div class=\"atcmp_header _recent_header\">\n",
      "             <strong class=\"tit\">\n",
      "              최근 검색어\n",
      "             </strong>\n",
      "             <div class=\"option\">\n",
      "              <a aria-pressed=\"false\" class=\"item _delAll\" href=\"#\" role=\"button\">\n",
      "               전체삭제\n",
      "              </a>\n",
      "             </div>\n",
      "            </div>\n",
      "            <div class=\"atcmp_container\">\n",
      "             <ul class=\"kwd_lst _recent\">\n",
      "             </ul>\n",
      "             <div class=\"kwd_info kwd_off _offMsg\" style=\"display:none\">\n",
      "              검색어 저장 기능이 꺼져 있습니다.\n",
      "              <br/>\n",
      "              <span class=\"kwd_dsc\">\n",
      "               설정이 초기화 된다면\n",
      "               <a class=\"kwd_help\" data-clk=\"sly.help\" href=\"https://help.naver.com/alias/search/word/word_35.naver\" target=\"_blank\">\n",
      "                도움말\n",
      "               </a>\n",
      "               을 확인해주세요.\n",
      "              </span>\n",
      "             </div>\n",
      "             <div class=\"kwd_info kwd_none _recentNone\" style=\"display:none\">\n",
      "              최근 검색어 내역이 없습니다.\n",
      "              <br/>\n",
      "              <span class=\"kwd_dsc\">\n",
      "               설정이 초기화 된다면\n",
      "               <a class=\"kwd_help\" data-clk=\"sly.help\" href=\"https://help.naver.com/alias/search/word/word_35.naver\" target=\"_blank\">\n",
      "                도움말\n",
      "               </a>\n",
      "               을 확인해주세요.\n",
      "              </span>\n",
      "             </div>\n",
      "            </div>\n",
      "            <div class=\"atcmp_footer\">\n",
      "             <span class=\"side_opt_area\">\n",
      "              <span class=\"opt_item\">\n",
      "               <a class=\"close _keywordOnOff\" href=\"#\">\n",
      "                자동저장 끄기\n",
      "               </a>\n",
      "              </span>\n",
      "              <span class=\"opt_item\">\n",
      "               <a data-clk=\"sly.help\" href=\"https://help.naver.com/alias/search/word/word_35.naver\" target=\"_blank\">\n",
      "                도움말\n",
      "               </a>\n",
      "              </span>\n",
      "             </span>\n",
      "             <span class=\"rside_opt_area\">\n",
      "              <span class=\"opt_item\">\n",
      "               <a class=\"close _close\" href=\"#\">\n",
      "                닫기\n",
      "               </a>\n",
      "              </span>\n",
      "             </span>\n",
      "            </div>\n",
      "           </div>\n",
      "           <div class=\"atcmp_fixer _atcmp_layer\" style=\"display:none\">\n",
      "            <div class=\"atcmp_container _words\">\n",
      "             <ul class=\"kwd_lst _kwd_list\">\n",
      "             </ul>\n",
      "             <div class=\"atcmp_cue type_line _cue_root\">\n",
      "              <div class=\"cue_header\">\n",
      "               <i class=\"imgsvg ico_cue\">\n",
      "                CUE\n",
      "               </i>\n",
      "               대화하듯 질문해 보세요\n",
      "               <a aria-pressed=\"false\" class=\"btn_help _tg_btn\" href=\"#\" role=\"button\">\n",
      "                <i class=\"imgsvg ico_alert\">\n",
      "                 이 정보가 표시된 이유\n",
      "                </i>\n",
      "               </a>\n",
      "               <div class=\"layer_plus\">\n",
      "                <p class=\"dsc\">\n",
      "                 검색어와 포함된 키워드를 기반으로 AI 기술을 활용하여 연관된 추천 질문을 제공합니다.\n",
      "                </p>\n",
      "                <a class=\"btn_close _tg_btn\" href=\"#\" role=\"button\">\n",
      "                 <i class=\"imgsvg ico_close\">\n",
      "                  레이어 닫기\n",
      "                 </i>\n",
      "                </a>\n",
      "               </div>\n",
      "              </div>\n",
      "              <ul class=\"cue_list _ul\">\n",
      "              </ul>\n",
      "             </div>\n",
      "             <div class=\"atcmp_alert _alert\">\n",
      "              <div class=\"dsc_election\">\n",
      "               <p class=\"dsc\">\n",
      "                <i class=\"imgsvg ico_election\">\n",
      "                </i>\n",
      "                <span class=\"_alert_passage\">\n",
      "                </span>\n",
      "               </p>\n",
      "               <span class=\"dsc_inner\">\n",
      "                <span class=\"_alert_passage2\">\n",
      "                </span>\n",
      "                <a class=\"link _alert_link\" href=\"#\" target=\"_blank\">\n",
      "                 자세히보기\n",
      "                </a>\n",
      "               </span>\n",
      "              </div>\n",
      "             </div>\n",
      "             <div class=\"atcmp_plus _plus\">\n",
      "              <div class=\"dsc_plus\">\n",
      "               <a class=\"link_dsc\" data-clk=\"sug.cxhelp\" href=\"https://help.naver.com/alias/search/word/word_16.naver\" target=\"_blank\">\n",
      "                관심사를 반영한 컨텍스트 자동완성\n",
      "                <i class=\"imgsvg ico_help\">\n",
      "                 도움말\n",
      "                </i>\n",
      "               </a>\n",
      "              </div>\n",
      "              <div class=\"switch\">\n",
      "               <a aria-pressed=\"false\" class=\"bt_switch active _plus_btn\" href=\"#\" role=\"button\">\n",
      "                <i class=\"imgsvg ico_option\">\n",
      "                 컨텍스트 자동완성\n",
      "                </i>\n",
      "               </a>\n",
      "              </div>\n",
      "              <div class=\"layer_plus _plus_layer\">\n",
      "               <strong class=\"tit\">\n",
      "                컨텍스트 자동완성\n",
      "               </strong>\n",
      "               <div class=\"_plus_layer_isloggedin\" style=\"display:none\">\n",
      "                <p class=\"dsc\">\n",
      "                 ON/OFF 설정은 해당기기(브라우저)에 저장됩니다.\n",
      "                </p>\n",
      "                <div class=\"btn_area\">\n",
      "                 <a class=\"link_view\" data-clk=\"sug.cxlink\" href=\"https://help.naver.com/alias/search/word/word_16.naver\" target=\"_blank\">\n",
      "                  자세히 보기\n",
      "                 </a>\n",
      "                </div>\n",
      "               </div>\n",
      "               <div class=\"_plus_layer_isnotloggedin\" style=\"display:none\">\n",
      "                <p class=\"dsc\">\n",
      "                 동일한 시간대・연령대・남녀별 사용자 그룹의 관심사에 맞춰 자동완성을 제공합니다.\n",
      "                 <a class=\"link_view\" data-clk=\"sug.cxlink\" href=\"https://help.naver.com/support/alias/search/word/word_16.naver\" target=\"_blank\">\n",
      "                  자세히 보기\n",
      "                 </a>\n",
      "                </p>\n",
      "                <div class=\"btn_area\">\n",
      "                 <a class=\"btn btn_login\" data-clk=\"sug.cxlogin\" href=\"https://nid.naver.com/nidlogin.login\">\n",
      "                  <i class=\"imgsvg ico_naver\">\n",
      "                   네이버\n",
      "                  </i>\n",
      "                  로그인\n",
      "                 </a>\n",
      "                </div>\n",
      "               </div>\n",
      "               <a class=\"btn_close _plus_layer_close\" href=\"#\" role=\"button\">\n",
      "                <i class=\"imgsvg ico_close\">\n",
      "                 컨텍스트 자동완성 레이어 닫기\n",
      "                </i>\n",
      "               </a>\n",
      "              </div>\n",
      "             </div>\n",
      "            </div>\n",
      "            <div class=\"atcmp_footer\">\n",
      "             <span class=\"side_opt_area\">\n",
      "              <span class=\"opt_item\">\n",
      "               <a class=\"close _suggestOnOff\" href=\"#\">\n",
      "                자동완성 끄기\n",
      "               </a>\n",
      "              </span>\n",
      "              <span class=\"opt_item\">\n",
      "               <a data-clk=\"sug.help\" href=\"https://help.naver.com/alias/search/word/word_17.naver\" target=\"_blank\">\n",
      "                도움말\n",
      "               </a>\n",
      "              </span>\n",
      "              <span class=\"opt_item\">\n",
      "               <a class=\"report\" data-clk=\"sug.report\" href=\"https://help.naver.com/alias/search/word/word_18.naver\" target=\"_blank\">\n",
      "                신고\n",
      "               </a>\n",
      "              </span>\n",
      "             </span>\n",
      "             <span class=\"rside_opt_area\">\n",
      "              <span class=\"opt_item\">\n",
      "               <a class=\"close _close\" href=\"#\">\n",
      "                닫기\n",
      "               </a>\n",
      "              </span>\n",
      "             </span>\n",
      "            </div>\n",
      "           </div>\n",
      "          </div>\n",
      "         </div>\n",
      "        </div>\n",
      "       </div>\n",
      "      </div>\n",
      "     </div>\n",
      "     <div id=\"search-right-banner\">\n",
      "     </div>\n",
      "     <div aria-label=\"주요 서비스\" class=\"shortcut_area\" id=\"shortcutArea\" role=\"navigation\">\n",
      "     </div>\n",
      "     <div class=\"menu_area\" id=\"topAsideArea\">\n",
      "     </div>\n",
      "     <div class=\"pay_area\" id=\"topPayArea\">\n",
      "     </div>\n",
      "     <div class=\"talk_area\" id=\"topTalkArea\">\n",
      "     </div>\n",
      "     <div class=\"notify_area\" id=\"topNotiArea\">\n",
      "     </div>\n",
      "    </div>\n",
      "   </div>\n",
      "   <div id=\"container\" role=\"main\">\n",
      "    <div id=\"root\">\n",
      "    </div>\n",
      "   </div>\n",
      "   <div id=\"footer\" role=\"contentinfo\">\n",
      "   </div>\n",
      "  </div>\n",
      "  <script>\n",
      "   window['EAGER-DATA'] = window['EAGER-DATA'] || {};\n",
      "        window['EAGER-DATA']['GV'] = {\n",
      "            svt: '20240313151346',  };\n",
      "  </script>\n",
      "  <script>\n",
      "   !function(){function t(t){var e=document.getElementById(\"search_area\"),n=document.getElementById(\"search-btn\");if(!t)return e&&e.removeAttribute(\"style\"),void(n&&n.setAttribute(\"style\",\"fill: #03c75a\"));e&&e.setAttribute(\"style\",\"border-color: \"+t),n&&n.setAttribute(\"class\",\"ico_btn_search type_color\"),n&&n.setAttribute(\"style\",\"fill: \"+t)}var e=window[\"EAGER-DATA\"][\"CAS-MINICONTENT-PC-SPECIAL-LOGO\"];if(!e||!e.items||e.items.length>0==!1)return void t();var n=Math.floor(Math.random()*e.items.length),i=e.items[n];e.items=[i],t(i&&i.content&&i.content.input&&i.content.input.color);const l=document.getElementById(\"search\");l&&l.classList.add(\"type_special_logo_full\"),window.addEventListener(\"header-sticky-state-change\",(()=>{var t;(t=document.getElementById(\"header\"))&&t.classList.contains(\"ani_fixed\")?l&&l.classList.remove(\"type_special_logo_full\"):l&&l.classList.add(\"type_special_logo_full\")}));var s=i&&i.content&&i.content.input&&i.content.input.placeholder;if(s){var o=document.getElementById(\"query\");o&&s&&o.setAttribute(\"title\",s),o&&s&&o.setAttribute(\"placeholder\",s)}}()\n",
      "  </script>\n",
      " </body>\n",
      "</html>\n",
      "\n"
     ]
    }
   ],
   "source": [
    "print(soup.prettity())"
   ]
  },
  {
   "cell_type": "markdown",
   "metadata": {},
   "source": [
    "### 특정 태그에서 텍스트 추출하기\n",
    "\n",
    ": BeautifulSoup의 find(), find_all(), findAll() 메서드 사용\n",
    "- find(name, attrs, recursive, string, **kwargs)\n",
    "- find_all(name, attrs, recursive, string, limit, **kwargs)"
   ]
  },
  {
   "cell_type": "markdown",
   "metadata": {},
   "source": [
    "##### find() 메서드\n",
    "\n",
    "- find(name, attrs, recursive, string, **kwargs)\n",
    "    - attrs : {\"속성\":\"값\"}\n",
    "- 찾은 태그의 첫번째 태그 반환"
   ]
  },
  {
   "cell_type": "code",
   "execution_count": 34,
   "metadata": {},
   "outputs": [
    {
     "name": "stdout",
     "output_type": "stream",
     "text": [
      "<html><head></head><body><div>hello</div></body></html>\n"
     ]
    }
   ],
   "source": [
    "# 예제1. html문서\n",
    "html_str = '<html><head></head><body><div>hello</div></body></html>'\n",
    "\n",
    "soup = BeautifulSoup(html_str, 'html.parser')\n",
    "print(soup)"
   ]
  },
  {
   "cell_type": "code",
   "execution_count": 40,
   "metadata": {},
   "outputs": [
    {
     "name": "stdout",
     "output_type": "stream",
     "text": [
      "<div>hello</div>\n",
      "<class 'bs4.element.Tag'>\n"
     ]
    }
   ],
   "source": [
    "result = soup.find('div')\n",
    "print(result)\n",
    "print(type(result))"
   ]
  },
  {
   "cell_type": "markdown",
   "metadata": {},
   "source": [
    "- find().text : 찾은 태그의 텍스트 가져오기"
   ]
  },
  {
   "cell_type": "code",
   "execution_count": 42,
   "metadata": {},
   "outputs": [
    {
     "data": {
      "text/plain": [
       "'hello'"
      ]
     },
     "execution_count": 42,
     "metadata": {},
     "output_type": "execute_result"
    }
   ],
   "source": [
    "soup.find('div').text"
   ]
  },
  {
   "cell_type": "markdown",
   "metadata": {},
   "source": [
    "##### find_all() 메서드\n",
    "\n",
    "- find_all(name, attrs, recursive, string, **kwargs)\n",
    "    - attrs : {\"속성\":\"값\"}\n",
    "- 기준에 맞는 태그를 모두 가져옴\n",
    "- 리스트 타입을 반환"
   ]
  },
  {
   "cell_type": "code",
   "execution_count": 47,
   "metadata": {},
   "outputs": [],
   "source": [
    "html_str = \"\"\"\n",
    "<html>\n",
    "    <body>\n",
    "        <!-- 예. 찾은 태그들의 모든 text 가져오기 -->\n",
    "        <ul>\n",
    "            <li>hello</li>\n",
    "            <li>bye</li>\n",
    "            <li>welcome</li>\n",
    "        </ul>\n",
    "    </body>\n",
    "</html>\n",
    "\"\"\""
   ]
  },
  {
   "cell_type": "code",
   "execution_count": 49,
   "metadata": {},
   "outputs": [
    {
     "name": "stdout",
     "output_type": "stream",
     "text": [
      "<ul>\n",
      "<li>hello</li>\n",
      "<li>bye</li>\n",
      "<li>welcome</li>\n",
      "</ul>\n"
     ]
    }
   ],
   "source": [
    "soup = BeautifulSoup(html_str, 'html.parser')\n",
    "result = soup.find('ul')\n",
    "print(result)"
   ]
  },
  {
   "cell_type": "code",
   "execution_count": 51,
   "metadata": {},
   "outputs": [
    {
     "data": {
      "text/plain": [
       "[<li>hello</li>, <li>bye</li>, <li>welcome</li>]"
      ]
     },
     "execution_count": 51,
     "metadata": {},
     "output_type": "execute_result"
    }
   ],
   "source": [
    "soup.find_all('li')"
   ]
  },
  {
   "cell_type": "code",
   "execution_count": 52,
   "metadata": {},
   "outputs": [
    {
     "name": "stdout",
     "output_type": "stream",
     "text": [
      "hello\n",
      "bye\n",
      "welcome\n"
     ]
    }
   ],
   "source": [
    "for i in soup.find_all('li'):\n",
    "    print(i.text)"
   ]
  },
  {
   "cell_type": "markdown",
   "metadata": {},
   "source": [
    "#### 해당 태그의 class 속성을 기준으로 찾기"
   ]
  },
  {
   "cell_type": "code",
   "execution_count": 53,
   "metadata": {},
   "outputs": [],
   "source": [
    "html_str = \"\"\"\n",
    "<html>\n",
    "    <body>\n",
    "        <ul class=\"greet\">\n",
    "            <li>hello</li>\n",
    "            <li>bye</li>\n",
    "            <li>welcome</li>\n",
    "        </ul>\n",
    "        <ul class=\"reply\">\n",
    "            <li>ok</li>\n",
    "            <li>no</li>\n",
    "            <li>sure</li>\n",
    "        </ul>\n",
    "    </body>\n",
    "</html>\n",
    "\"\"\""
   ]
  },
  {
   "cell_type": "code",
   "execution_count": 54,
   "metadata": {},
   "outputs": [],
   "source": [
    "soup = BeautifulSoup(html_str,'html.parser')"
   ]
  },
  {
   "cell_type": "code",
   "execution_count": 59,
   "metadata": {
    "scrolled": true
   },
   "outputs": [
    {
     "data": {
      "text/plain": [
       "<ul class=\"greet\">\n",
       "<li>hello</li>\n",
       "<li>bye</li>\n",
       "<li>welcome</li>\n",
       "</ul>"
      ]
     },
     "execution_count": 59,
     "metadata": {},
     "output_type": "execute_result"
    }
   ],
   "source": [
    "soup.find('ul', {'class':'greet'})"
   ]
  },
  {
   "cell_type": "code",
   "execution_count": 61,
   "metadata": {},
   "outputs": [
    {
     "name": "stdout",
     "output_type": "stream",
     "text": [
      "hello\n",
      "bye\n",
      "welcome\n",
      "ok\n",
      "no\n",
      "sure\n"
     ]
    }
   ],
   "source": [
    "soup.find_all('li')\n",
    "for i in soup.find_all('li'):\n",
    "    print(i.text)"
   ]
  },
  {
   "cell_type": "markdown",
   "metadata": {},
   "source": [
    "#### 해당 태그의 id 속성을 기준으로 찾기"
   ]
  },
  {
   "cell_type": "code",
   "execution_count": 67,
   "metadata": {},
   "outputs": [],
   "source": [
    "html_str = \"\"\"\n",
    "<html>\n",
    "    <body>\n",
    "        <h1 id='title'>Hello Python</h1>\n",
    "        <p id=\"crawling\">웹 크롤링</p>\n",
    "        <p id=\"parsing\">파싱</p>\n",
    "    </body>\n",
    "</html>\n",
    "\"\"\""
   ]
  },
  {
   "cell_type": "code",
   "execution_count": 68,
   "metadata": {},
   "outputs": [],
   "source": [
    "soup = BeautifulSoup(html_str,'html.parser')"
   ]
  },
  {
   "cell_type": "code",
   "execution_count": 75,
   "metadata": {},
   "outputs": [
    {
     "data": {
      "text/plain": [
       "<p id=\"parsing\">파싱</p>"
      ]
     },
     "execution_count": 75,
     "metadata": {},
     "output_type": "execute_result"
    }
   ],
   "source": [
    "soup.find('p', {'id':'parsing'})"
   ]
  },
  {
   "cell_type": "code",
   "execution_count": 72,
   "metadata": {},
   "outputs": [
    {
     "name": "stdout",
     "output_type": "stream",
     "text": [
      "웹 크롤링\n",
      "파싱\n"
     ]
    }
   ],
   "source": [
    "soup.find_all('p')\n",
    "for i in soup.find_all('p'):\n",
    "    print(i.text)"
   ]
  },
  {
   "cell_type": "markdown",
   "metadata": {},
   "source": [
    "------"
   ]
  },
  {
   "cell_type": "code",
   "execution_count": 9,
   "metadata": {},
   "outputs": [],
   "source": [
    "html_str = \"\"\"\n",
    "<html>\n",
    "    <head><title>크롤링예제</title></head>\n",
    "    <body>\n",
    "        <h1>파이썬 프로그래밍</h1>\n",
    "        <p>웹 페이지 분석</p>\n",
    "        <p>크롤링</p>\n",
    "        <p>파싱</p>        \n",
    "    </body>\n",
    "</html>\n",
    "\"\"\""
   ]
  },
  {
   "cell_type": "code",
   "execution_count": 10,
   "metadata": {},
   "outputs": [],
   "source": [
    "soup = BeautifulSoup(html_str, 'html.parser')"
   ]
  },
  {
   "cell_type": "markdown",
   "metadata": {},
   "source": [
    "### 태그 이름 사용하여 찾기\n",
    "\n",
    ": .태그명\n",
    "\n",
    "- .title\n",
    "- .head\n",
    "- .body\n",
    "- .p"
   ]
  },
  {
   "cell_type": "markdown",
   "metadata": {},
   "source": [
    "#### title 태그 찾기"
   ]
  },
  {
   "cell_type": "code",
   "execution_count": 11,
   "metadata": {},
   "outputs": [
    {
     "data": {
      "text/plain": [
       "<title>크롤링예제</title>"
      ]
     },
     "execution_count": 11,
     "metadata": {},
     "output_type": "execute_result"
    }
   ],
   "source": [
    "soup.title"
   ]
  },
  {
   "cell_type": "markdown",
   "metadata": {},
   "source": [
    "#### head 태그 찾기"
   ]
  },
  {
   "cell_type": "code",
   "execution_count": null,
   "metadata": {},
   "outputs": [],
   "source": [
    "soup.head"
   ]
  },
  {
   "cell_type": "markdown",
   "metadata": {},
   "source": [
    "#### body 태그 찾기"
   ]
  },
  {
   "cell_type": "code",
   "execution_count": null,
   "metadata": {
    "scrolled": true
   },
   "outputs": [],
   "source": [
    "soup.body"
   ]
  },
  {
   "cell_type": "markdown",
   "metadata": {},
   "source": [
    "### 형제, 부모, 자식(자손) 태그 찾기\n",
    "\n",
    "- 속성 :\n",
    "    - .children, .contents\n",
    "    - .next_sibling, .next_siblings\n",
    "    - .previous_sibling, .previous_siblings\n",
    "    - .parent, .parents\n",
    "    \n",
    "    \n",
    "- 메서드 : \n",
    "    - find_next_siblings(name, attrs, string, limit, **kwargs)\n",
    "    - find_next_sibling(name, attrs, string, **kwargs)\n",
    "    - find_previous_sibling(name, attrs, string, **kwargs)\n",
    "    - find_previous_siblings(name, attrs, string, limit, **kwargs)\n",
    "    - find_parent(name, attrs, string, **kwargs)\n",
    "    - find_parents(name, attrs, string, limit, **kwargs)"
   ]
  },
  {
   "cell_type": "markdown",
   "metadata": {},
   "source": [
    "#### 태그의 자손 태그 찾기 : .contents, .children"
   ]
  },
  {
   "cell_type": "code",
   "execution_count": 12,
   "metadata": {},
   "outputs": [
    {
     "data": {
      "text/plain": [
       "['\\n',\n",
       " <h1>파이썬 프로그래밍</h1>,\n",
       " '\\n',\n",
       " <p>웹 페이지 분석</p>,\n",
       " '\\n',\n",
       " <p>크롤링</p>,\n",
       " '\\n',\n",
       " <p>파싱</p>,\n",
       " '\\n']"
      ]
     },
     "execution_count": 12,
     "metadata": {},
     "output_type": "execute_result"
    }
   ],
   "source": [
    "soup.body.contents"
   ]
  },
  {
   "cell_type": "code",
   "execution_count": 13,
   "metadata": {},
   "outputs": [
    {
     "data": {
      "text/plain": [
       "['\\n',\n",
       " <h1>파이썬 프로그래밍</h1>,\n",
       " '\\n',\n",
       " <p>웹 페이지 분석</p>,\n",
       " '\\n',\n",
       " <p>크롤링</p>,\n",
       " '\\n',\n",
       " <p>파싱</p>,\n",
       " '\\n']"
      ]
     },
     "execution_count": 13,
     "metadata": {},
     "output_type": "execute_result"
    }
   ],
   "source": [
    "list(soup.body.children)"
   ]
  },
  {
   "cell_type": "markdown",
   "metadata": {},
   "source": [
    "#### 형제 태그 찾기 : **.next_sibling**, **.next_siblings**"
   ]
  },
  {
   "cell_type": "code",
   "execution_count": null,
   "metadata": {},
   "outputs": [],
   "source": [
    "soup.find('p')"
   ]
  },
  {
   "cell_type": "code",
   "execution_count": null,
   "metadata": {},
   "outputs": [],
   "source": [
    "soup.find_all('p')"
   ]
  },
  {
   "cell_type": "code",
   "execution_count": 14,
   "metadata": {},
   "outputs": [
    {
     "data": {
      "text/plain": [
       "<p>크롤링</p>"
      ]
     },
     "execution_count": 14,
     "metadata": {},
     "output_type": "execute_result"
    }
   ],
   "source": [
    "soup.find('p').next_sibling.next_sibling"
   ]
  },
  {
   "cell_type": "code",
   "execution_count": 16,
   "metadata": {},
   "outputs": [
    {
     "name": "stdout",
     "output_type": "stream",
     "text": [
      "\n",
      "\n",
      "<p>크롤링</p>\n",
      "\n",
      "\n",
      "<p>파싱</p>\n",
      "\n",
      "\n"
     ]
    }
   ],
   "source": [
    "for ns in soup.find('p').next_siblings:\n",
    "    print(ns)"
   ]
  },
  {
   "cell_type": "markdown",
   "metadata": {},
   "source": [
    "#### 형제 태그 찾기2 :  .previous_sibling, .previous_siblings"
   ]
  },
  {
   "cell_type": "code",
   "execution_count": 17,
   "metadata": {},
   "outputs": [
    {
     "data": {
      "text/plain": [
       "'\\n'"
      ]
     },
     "execution_count": 17,
     "metadata": {},
     "output_type": "execute_result"
    }
   ],
   "source": [
    "soup.find('p').previous_sibling"
   ]
  },
  {
   "cell_type": "code",
   "execution_count": 18,
   "metadata": {},
   "outputs": [
    {
     "data": {
      "text/plain": [
       "<h1>파이썬 프로그래밍</h1>"
      ]
     },
     "execution_count": 18,
     "metadata": {},
     "output_type": "execute_result"
    }
   ],
   "source": [
    "soup.find('p').previous_sibling.previous_sibling"
   ]
  },
  {
   "cell_type": "markdown",
   "metadata": {},
   "source": [
    "#### 부모 태그 찾기 : **.parent**,  **.parents**"
   ]
  },
  {
   "cell_type": "code",
   "execution_count": 19,
   "metadata": {
    "scrolled": true
   },
   "outputs": [
    {
     "data": {
      "text/plain": [
       "<body>\n",
       "<h1>파이썬 프로그래밍</h1>\n",
       "<p>웹 페이지 분석</p>\n",
       "<p>크롤링</p>\n",
       "<p>파싱</p>\n",
       "</body>"
      ]
     },
     "execution_count": 19,
     "metadata": {},
     "output_type": "execute_result"
    }
   ],
   "source": [
    "soup.find('p').parent"
   ]
  },
  {
   "cell_type": "code",
   "execution_count": 26,
   "metadata": {},
   "outputs": [
    {
     "name": "stdout",
     "output_type": "stream",
     "text": [
      "body\n",
      "html\n",
      "[document]\n"
     ]
    }
   ],
   "source": [
    "for i in soup.find('p').parents:\n",
    "    if i is None: \n",
    "        print(i)\n",
    "    else:\n",
    "        print(i.name)"
   ]
  },
  {
   "cell_type": "markdown",
   "metadata": {},
   "source": [
    "### 다음/이전 태그 찾기 \n",
    "\n",
    "- find_all_next(name, attrs, string, limit, **kwargs)\n",
    "- find_next(name, attrs, string, **kwargs)\n",
    "- find_all_previous(name, attrs, string, limit, **kwargs)\n",
    "- find_previous(name, attrs, string, **kwargs"
   ]
  },
  {
   "cell_type": "markdown",
   "metadata": {},
   "source": [
    "###  태그의 속성값 추출하기\n",
    "\n",
    "- a 태그의 href 속성"
   ]
  },
  {
   "cell_type": "code",
   "execution_count": 27,
   "metadata": {},
   "outputs": [],
   "source": [
    "html_str = \"\"\"\n",
    "<html>\n",
    "    <body>\n",
    "        <ul class=\"ko\">\n",
    "            <li><a href=\"https://www.naver.com/\">네이버</a></li>\n",
    "            <li><a href=\"https://www.daum.net/\">다음</a></li>\n",
    "        </ul>\n",
    "        <ul class=\"sns\">\n",
    "            <li><a href=\"https://www.goole.com/\">구글</a></li>\n",
    "            <li><a href=\"https://www.facebook.net/\">페이스북</a></li>\n",
    "        </ul>\n",
    "    </body>\n",
    "</html>\n",
    "\"\"\""
   ]
  },
  {
   "cell_type": "code",
   "execution_count": 28,
   "metadata": {},
   "outputs": [],
   "source": [
    "soup = BeautifulSoup(html_str, 'html.parser')"
   ]
  },
  {
   "cell_type": "code",
   "execution_count": 31,
   "metadata": {},
   "outputs": [],
   "source": [
    "a1 = soup.find('a')"
   ]
  },
  {
   "cell_type": "code",
   "execution_count": 32,
   "metadata": {},
   "outputs": [
    {
     "data": {
      "text/plain": [
       "'네이버'"
      ]
     },
     "execution_count": 32,
     "metadata": {},
     "output_type": "execute_result"
    }
   ],
   "source": [
    "a1.text"
   ]
  },
  {
   "cell_type": "code",
   "execution_count": 35,
   "metadata": {},
   "outputs": [
    {
     "data": {
      "text/plain": [
       "'https://www.naver.com/'"
      ]
     },
     "execution_count": 35,
     "metadata": {},
     "output_type": "execute_result"
    }
   ],
   "source": [
    "a1['href']"
   ]
  },
  {
   "cell_type": "code",
   "execution_count": 36,
   "metadata": {},
   "outputs": [
    {
     "data": {
      "text/plain": [
       "[<a href=\"https://www.naver.com/\">네이버</a>,\n",
       " <a href=\"https://www.daum.net/\">다음</a>,\n",
       " <a href=\"https://www.goole.com/\">구글</a>,\n",
       " <a href=\"https://www.facebook.net/\">페이스북</a>]"
      ]
     },
     "execution_count": 36,
     "metadata": {},
     "output_type": "execute_result"
    }
   ],
   "source": [
    "soup.find_all('a')"
   ]
  },
  {
   "cell_type": "code",
   "execution_count": 37,
   "metadata": {},
   "outputs": [
    {
     "data": {
      "text/plain": [
       "['https://www.naver.com/',\n",
       " 'https://www.daum.net/',\n",
       " 'https://www.goole.com/',\n",
       " 'https://www.facebook.net/']"
      ]
     },
     "execution_count": 37,
     "metadata": {},
     "output_type": "execute_result"
    }
   ],
   "source": [
    "linklist= []\n",
    "for a in soup.find_all('a'):\n",
    "    linklist.append(a['href'])\n",
    "linklist"
   ]
  },
  {
   "cell_type": "markdown",
   "metadata": {},
   "source": [
    "### select() 메서드를 사용하여 찾기"
   ]
  },
  {
   "cell_type": "code",
   "execution_count": 38,
   "metadata": {},
   "outputs": [],
   "source": [
    "html_str = \"\"\"\n",
    "<html>\n",
    "   <body>\n",
    "        <div id=\"wrap\">\n",
    "            <div id=\"mainMenuBox\">\n",
    "                <ul>  \n",
    "                    <li><a href=\"#\">패션잡화</a></li>    \n",
    "                    <li><a href=\"#\">주방용품</a></li>         \n",
    "                    <li><a href=\"#\">생활건강</a></li>\n",
    "                    <li><a href=\"#\">DIY가구</a></li>\n",
    "                </ul>\n",
    "            </div>\n",
    "            <div>\n",
    "                <table>\n",
    "                    <tr>\n",
    "                        <td><img src=\"shoes1.jpg\"></td>\n",
    "                        <td><img src=\"shoes2.jpg\"></td>\n",
    "                        <td><img src=\"shoes3.jpg\"></td></tr>\n",
    "                    <tr id=\"prdName\">\n",
    "                        <td>솔로이스트<br>걸리쉬 리본단화</td>\n",
    "                        <td>맥컬린<br>그레이가보시스트랩 펌프스</td>\n",
    "                        <td>맥컬린<br>섹슈얼인사이드펌프스</td></tr>\n",
    "                    <tr id=\"price\">\n",
    "                        <td>100,000원</td><td>200,000원</td><td>120,000원</td></tr>\n",
    "                </table>\n",
    "            </div>\n",
    "            <div id=\"out_box\">\n",
    "                <div class=\"box\">\n",
    "                    <h4>공지사항</h4>\n",
    "                    <hr>\n",
    "                    <a href=\"#\">[배송] : 무표배송 변경 안내 18.10.20</a><br>\n",
    "                    <a href=\"#\">[전시] : DIY 가구 전시 안내 18.10.31</a><br>\n",
    "                    <a href=\"#\">[판매] : 11월 특가 상품 안내 18.11.05</a>                               \n",
    "                </div>\n",
    "                <div class=\"box\">\n",
    "                    <h4>커뮤니티</h4>\n",
    "                    <hr>\n",
    "                    <a href=\"#\">[레시피] : 살 안찌는 야식 만들기</a><br>\n",
    "                    <a href=\"#\">[가구] : 헌집 새집 베스트 가구</a><br>\n",
    "                    <a href=\"#\">[후기] : 배송이 잘못 됐어요 ㅠㅠ</a><br>\n",
    "                 </div>\n",
    "            </div>            \n",
    "        </div>\n",
    "    </body>\n",
    "</html>\"\"\""
   ]
  },
  {
   "cell_type": "code",
   "execution_count": 39,
   "metadata": {},
   "outputs": [],
   "source": [
    "soup = BeautifulSoup(html_str, 'html.parser')"
   ]
  },
  {
   "cell_type": "markdown",
   "metadata": {},
   "source": [
    "- select(태그명[속성])"
   ]
  },
  {
   "cell_type": "code",
   "execution_count": 48,
   "metadata": {},
   "outputs": [
    {
     "name": "stdout",
     "output_type": "stream",
     "text": [
      "패션잡화\n",
      "주방용품\n",
      "생활건강\n",
      "DIY가구\n",
      "[배송] : 무표배송 변경 안내 18.10.20\n",
      "[전시] : DIY 가구 전시 안내 18.10.31\n",
      "[판매] : 11월 특가 상품 안내 18.11.05\n",
      "[레시피] : 살 안찌는 야식 만들기\n",
      "[가구] : 헌집 새집 베스트 가구\n",
      "[후기] : 배송이 잘못 됐어요 ㅠㅠ\n"
     ]
    }
   ],
   "source": [
    "for a in soup.select('a'):\n",
    "    print(a.text)"
   ]
  },
  {
   "cell_type": "markdown",
   "metadata": {},
   "source": [
    "- select(아이디선택자)"
   ]
  },
  {
   "cell_type": "code",
   "execution_count": 52,
   "metadata": {},
   "outputs": [],
   "source": [
    "soup.select('#mainMenuBox')"
   ]
  },
  {
   "cell_type": "code",
   "execution_count": 56,
   "metadata": {},
   "outputs": [
    {
     "data": {
      "text/plain": [
       "[<a href=\"#\">[배송] : 무표배송 변경 안내 18.10.20</a>,\n",
       " <a href=\"#\">[전시] : DIY 가구 전시 안내 18.10.31</a>,\n",
       " <a href=\"#\">[판매] : 11월 특가 상품 안내 18.11.05</a>,\n",
       " <a href=\"#\">[레시피] : 살 안찌는 야식 만들기</a>,\n",
       " <a href=\"#\">[가구] : 헌집 새집 베스트 가구</a>,\n",
       " <a href=\"#\">[후기] : 배송이 잘못 됐어요 ㅠㅠ</a>]"
      ]
     },
     "execution_count": 56,
     "metadata": {},
     "output_type": "execute_result"
    }
   ],
   "source": [
    "soup.select('#out_box>div>a')"
   ]
  },
  {
   "cell_type": "markdown",
   "metadata": {},
   "source": [
    "- select(클래스선택자)"
   ]
  },
  {
   "cell_type": "code",
   "execution_count": 58,
   "metadata": {},
   "outputs": [
    {
     "data": {
      "text/plain": [
       "[<a href=\"#\">[배송] : 무표배송 변경 안내 18.10.20</a>,\n",
       " <a href=\"#\">[전시] : DIY 가구 전시 안내 18.10.31</a>,\n",
       " <a href=\"#\">[판매] : 11월 특가 상품 안내 18.11.05</a>,\n",
       " <a href=\"#\">[레시피] : 살 안찌는 야식 만들기</a>,\n",
       " <a href=\"#\">[가구] : 헌집 새집 베스트 가구</a>,\n",
       " <a href=\"#\">[후기] : 배송이 잘못 됐어요 ㅠㅠ</a>]"
      ]
     },
     "execution_count": 58,
     "metadata": {},
     "output_type": "execute_result"
    }
   ],
   "source": [
    "soup.select('.box')"
   ]
  },
  {
   "cell_type": "code",
   "execution_count": 60,
   "metadata": {},
   "outputs": [
    {
     "data": {
      "text/plain": [
       "<div class=\"box\">\n",
       "<h4>커뮤니티</h4>\n",
       "<hr/>\n",
       "<a href=\"#\">[레시피] : 살 안찌는 야식 만들기</a><br/>\n",
       "<a href=\"#\">[가구] : 헌집 새집 베스트 가구</a><br/>\n",
       "<a href=\"#\">[후기] : 배송이 잘못 됐어요 ㅠㅠ</a><br/>\n",
       "</div>"
      ]
     },
     "execution_count": 60,
     "metadata": {},
     "output_type": "execute_result"
    }
   ],
   "source": [
    "soup.select('.box')[1]"
   ]
  },
  {
   "cell_type": "code",
   "execution_count": 66,
   "metadata": {},
   "outputs": [
    {
     "data": {
      "text/plain": [
       "<a href=\"#\">[레시피] : 살 안찌는 야식 만들기</a>"
      ]
     },
     "execution_count": 66,
     "metadata": {},
     "output_type": "execute_result"
    }
   ],
   "source": [
    "soup.select('.box')[1].select('a')[0]"
   ]
  },
  {
   "cell_type": "code",
   "execution_count": 64,
   "metadata": {},
   "outputs": [
    {
     "data": {
      "text/plain": [
       "'[레시피] : 살 안찌는 야식 만들기'"
      ]
     },
     "execution_count": 64,
     "metadata": {},
     "output_type": "execute_result"
    }
   ],
   "source": [
    "soup.select('.box')[1].select('a')[0].text"
   ]
  },
  {
   "cell_type": "code",
   "execution_count": 65,
   "metadata": {},
   "outputs": [
    {
     "data": {
      "text/plain": [
       "'#'"
      ]
     },
     "execution_count": 65,
     "metadata": {},
     "output_type": "execute_result"
    }
   ],
   "source": [
    "soup.select('.box')[1].select('a')[0]['href']"
   ]
  },
  {
   "cell_type": "code",
   "execution_count": 72,
   "metadata": {},
   "outputs": [
    {
     "data": {
      "text/plain": [
       "'[레시피] : 살 안찌는 야식 만들기'"
      ]
     },
     "execution_count": 72,
     "metadata": {},
     "output_type": "execute_result"
    }
   ],
   "source": [
    "# :nth-of-type(n): n번쨰 요소들을 다 가지고 옴.\n",
    "soup.select('#out_box>div:nth-of-type(2)>a')[0].text"
   ]
  },
  {
   "cell_type": "markdown",
   "metadata": {},
   "source": [
    "-----"
   ]
  },
  {
   "cell_type": "markdown",
   "metadata": {},
   "source": [
    "#### [정리] 크롤링 단계\n",
    "\n",
    "1. 크롤링하려는 HTML 페이지의 구조와 코드 살펴보기\n",
    "    - F12 (개발자도구) : URL주소, 태그 확인\n",
    "2. 문서 내용 읽어오기 : \n",
    "    - html = urllib.request.urlopen(URL주소).read()\n",
    "3. 원하는 내용 추출하기(parsing)\n",
    "    - soup = bs4.BeautifulSoup(html, 'html.parser')\n",
    "    - soup.find_all(찾아낼태그)"
   ]
  },
  {
   "cell_type": "markdown",
   "metadata": {},
   "source": [
    "----"
   ]
  }
 ],
 "metadata": {
  "kernelspec": {
   "display_name": "Python 3 (ipykernel)",
   "language": "python",
   "name": "python3"
  },
  "language_info": {
   "codemirror_mode": {
    "name": "ipython",
    "version": 3
   },
   "file_extension": ".py",
   "mimetype": "text/x-python",
   "name": "python",
   "nbconvert_exporter": "python",
   "pygments_lexer": "ipython3",
   "version": "3.11.7"
  }
 },
 "nbformat": 4,
 "nbformat_minor": 4
}
