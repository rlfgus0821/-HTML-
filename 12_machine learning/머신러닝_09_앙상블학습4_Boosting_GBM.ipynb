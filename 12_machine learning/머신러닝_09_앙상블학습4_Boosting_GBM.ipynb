{
 "cells": [
  {
   "cell_type": "markdown",
   "metadata": {},
   "source": [
    "# 부스팅(boosting)"
   ]
  },
  {
   "cell_type": "markdown",
   "metadata": {},
   "source": [
    "### 부스팅(Boosting)\n",
    "- 여러 개의 약한 학습기(weak learner)를 순차적으로 학습-예측하면서\n",
    "- 잘못 예측된 데이터에 가중치(weight) 부여를 통해\n",
    "- 오류를 개선해 나가면서 학습하는 방식"
   ]
  },
  {
   "cell_type": "markdown",
   "metadata": {},
   "source": [
    "### 대표적 부스팅 알고리즘\n",
    "\n",
    "- AdaBoost(Adaptive Boosting) 계열\n",
    "- Gradient Boosting 계열\n",
    "    - GBM(Gradient Boosting Model)\n",
    "    - XGBoost(eXtra Gradient Boosting)\n",
    "    - LightGBM"
   ]
  },
  {
   "cell_type": "markdown",
   "metadata": {},
   "source": [
    "---------------------------------------------"
   ]
  },
  {
   "cell_type": "markdown",
   "metadata": {},
   "source": [
    "## GBM(Gradient Boosting Machine)"
   ]
  },
  {
   "cell_type": "markdown",
   "metadata": {},
   "source": [
    "- AdaBoost와 유사하지만\n",
    "- 가중치 업데이터를 **경사 하강법**을 이용하는 것이 큰 차이\n",
    "    - 반복 수행을 통해 오류를 최소화할 수 있도록\n",
    "    - 가중치의 업데이트 값을 도출\n",
    "    - 오류값 = 실제값 - 예측값\n",
    "    \n",
    "    \n",
    "- 분류와 회귀 둘 다 가능"
   ]
  },
  {
   "cell_type": "markdown",
   "metadata": {},
   "source": [
    "#### 참고. 경사 하강법(Gradient Descent)\n",
    "- 함수의 기울기(경사)를 구하고 경사의 절대값이 낮은 쪽으로 계속 이동시켜 극값에 이를 때까지 반복시키는 것(위키백과)\n",
    "- 제시된 함수의 기울기로 최소값을 찾아내는 머신러닝 알고리즘\n",
    "- 매개변수를 반복적으로 조정해서 최소 함수값을 갖게하는 독립변수를 찾는 방법\n",
    "\n",
    "\n",
    "- https://en.wikipedia.org/wiki/Gradient_descent\n",
    "- https://ko.wikipedia.org/wiki/경사하강법"
   ]
  },
  {
   "cell_type": "markdown",
   "metadata": {},
   "source": [
    "#### GBM이 극복해야 할 중요 과제 : 수행 시간"
   ]
  },
  {
   "cell_type": "markdown",
   "metadata": {},
   "source": [
    "- GBM은 **`수행 시간이 오래 걸린다`** 는 단점이 있지만 **`과적합에도 강해서`** 예측 성능이 뛰어난 알고리즘  \n",
    "- 많은 알고리즘이 GBM을 기반으로 새롭게 만들어지고 있음\n",
    "- 머신러닝 세계에서 가장 각광을 받는 그래디언트 부스팅 기반 ML 패키지\n",
    "    - XGBoost\n",
    "    - LightGBM"
   ]
  },
  {
   "cell_type": "markdown",
   "metadata": {},
   "source": [
    "### 사이킷런의 GBM 클래스\n",
    "\n",
    "- sklearn.ensemble.GradientBoostingClassifier\n",
    "\n",
    "- https://scikit-learn.org/stable/modules/generated/sklearn.ensemble.GradientBoostingClassifier.html"
   ]
  },
  {
   "cell_type": "code",
   "execution_count": 1,
   "metadata": {},
   "outputs": [],
   "source": [
    "from sklearn.ensemble import GradientBoostingClassifier"
   ]
  },
  {
   "cell_type": "raw",
   "metadata": {},
   "source": [
    "GradientBoostingClassifier(*, loss='log_loss',\n",
    "                           learning_rate=0.1, n_estimators=100,\n",
    "                           subsample=1.0, criterion='friedman_mse', min_samples_split=2,\n",
    "                           min_samples_leaf=1, min_weight_fraction_leaf=0.0, max_depth=3,\n",
    "                           min_impurity_decrease=0.0, init=None, random_state=None,\n",
    "                           max_features=None, verbose=0, max_leaf_nodes=None,\n",
    "                           warm_start=False, validation_fraction=0.1,\n",
    "                           n_iter_no_change=None, tol=0.0001, ccp_alpha=0.0)"
   ]
  },
  {
   "cell_type": "markdown",
   "metadata": {},
   "source": [
    "#### GBM의 주요 하이퍼 파라미터  \n",
    "\n",
    "**`loss`** : 경사 하강법에서 사용할 비용 함수 지정. 기본값은 'deviance'\n",
    "    \n",
    "**`n_estimators`** : weak learner의 개수. 기본값 100\n",
    "\n",
    "**`learning_rate`** : GBM이 학습을 진행할 때마다 적용하는 학습률\n",
    "- weak learner가 순차적으로 오류값을 보정해 나가는 데 적용하는 계수\n",
    "- 0 ~ 1 사이의 값 지정 (기본값 0.1)\n",
    "\n",
    "**`subsample`** : weak learner가 학습에 사용하는 데이터의 샘플링 비율\n",
    "- 기본값 1 : 전체 학습 데이터를 기반으로 학습한다는 의미\n",
    "- 0.5 : 학습 데이터의 50%\n",
    "- 과적합이 염려되는 경우 1보다 작은 값으로 설정"
   ]
  },
  {
   "cell_type": "markdown",
   "metadata": {},
   "source": [
    "--------------------------------------"
   ]
  },
  {
   "cell_type": "code",
   "execution_count": null,
   "metadata": {},
   "outputs": [],
   "source": []
  },
  {
   "cell_type": "code",
   "execution_count": null,
   "metadata": {},
   "outputs": [],
   "source": []
  },
  {
   "cell_type": "code",
   "execution_count": null,
   "metadata": {},
   "outputs": [],
   "source": []
  },
  {
   "cell_type": "markdown",
   "metadata": {},
   "source": [
    "### 실습. 유방암 악성/양성 분류"
   ]
  },
  {
   "cell_type": "markdown",
   "metadata": {},
   "source": [
    "#### 데이터세트 로딩"
   ]
  },
  {
   "cell_type": "code",
   "execution_count": null,
   "metadata": {},
   "outputs": [],
   "source": []
  },
  {
   "cell_type": "markdown",
   "metadata": {},
   "source": [
    "#### Split Dataset"
   ]
  },
  {
   "cell_type": "code",
   "execution_count": null,
   "metadata": {},
   "outputs": [],
   "source": []
  },
  {
   "cell_type": "markdown",
   "metadata": {},
   "source": [
    "#### 학습/예측/평가"
   ]
  },
  {
   "cell_type": "code",
   "execution_count": null,
   "metadata": {},
   "outputs": [],
   "source": []
  },
  {
   "cell_type": "markdown",
   "metadata": {},
   "source": [
    "#### 교차검증 및 하이퍼 파라미터 튜닝"
   ]
  },
  {
   "cell_type": "markdown",
   "metadata": {},
   "source": [
    "- GridSearchCV 사용"
   ]
  },
  {
   "cell_type": "code",
   "execution_count": null,
   "metadata": {},
   "outputs": [],
   "source": []
  },
  {
   "cell_type": "markdown",
   "metadata": {},
   "source": [
    "- GridSearchCV 결과"
   ]
  },
  {
   "cell_type": "code",
   "execution_count": null,
   "metadata": {},
   "outputs": [],
   "source": []
  },
  {
   "cell_type": "code",
   "execution_count": null,
   "metadata": {},
   "outputs": [],
   "source": []
  },
  {
   "cell_type": "markdown",
   "metadata": {},
   "source": [
    "#### 최적의 하이퍼파라미터를 가진 분류기 성능 "
   ]
  },
  {
   "cell_type": "code",
   "execution_count": null,
   "metadata": {},
   "outputs": [],
   "source": []
  },
  {
   "cell_type": "markdown",
   "metadata": {},
   "source": [
    "#### 최적의 하이퍼 파라미터로 재 학습 및 예측/평가"
   ]
  },
  {
   "cell_type": "code",
   "execution_count": null,
   "metadata": {},
   "outputs": [],
   "source": []
  },
  {
   "cell_type": "markdown",
   "metadata": {},
   "source": [
    "-----------------------------------------------------"
   ]
  }
 ],
 "metadata": {
  "kernelspec": {
   "display_name": "Python 3 (ipykernel)",
   "language": "python",
   "name": "python3"
  },
  "language_info": {
   "codemirror_mode": {
    "name": "ipython",
    "version": 3
   },
   "file_extension": ".py",
   "mimetype": "text/x-python",
   "name": "python",
   "nbconvert_exporter": "python",
   "pygments_lexer": "ipython3",
   "version": "3.11.7"
  }
 },
 "nbformat": 4,
 "nbformat_minor": 4
}
