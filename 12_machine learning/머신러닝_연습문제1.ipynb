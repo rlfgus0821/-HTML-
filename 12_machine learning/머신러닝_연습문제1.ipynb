{
 "cells": [
  {
   "cell_type": "markdown",
   "id": "54a3557e-c33d-46db-8f1d-784c4d976d4d",
   "metadata": {},
   "source": [
    "## 연습문제. iris 데이터 품종 분류"
   ]
  },
  {
   "cell_type": "markdown",
   "id": "111e9da1-897e-4790-ab8d-eba2fa961304",
   "metadata": {},
   "source": [
    "1. KNN 알고리즘을 적용하여 분류하고 정확도를 제시하시오."
   ]
  },
  {
   "cell_type": "markdown",
   "id": "2a8af8a7-3811-4a14-8707-b4ea13617b2d",
   "metadata": {},
   "source": [
    "2. KNN 알고리즘을 적용하되, 교차검증을 수행하고 평균 정확도를 제시하시오."
   ]
  },
  {
   "cell_type": "markdown",
   "id": "3dad83d7-3cf5-442a-b503-86560147efd6",
   "metadata": {},
   "source": [
    "3. KNN 알고리즘을 적용하되, GridSearchCV를 이용하여 최적의 이웃개수를 찾아 제시하시오."
   ]
  },
  {
   "cell_type": "markdown",
   "id": "e0ce71ee-8456-4b8e-9ca4-fdec64b20bbe",
   "metadata": {},
   "source": [
    "4. 앞의 결과들을 DecisionTree 알고리즘을 사용한 분류 결과와 비교하시오."
   ]
  },
  {
   "cell_type": "markdown",
   "id": "5a1e80fc-5fce-432c-a539-025620f71371",
   "metadata": {},
   "source": [
    "---"
   ]
  }
 ],
 "metadata": {
  "kernelspec": {
   "display_name": "Python 3 (ipykernel)",
   "language": "python",
   "name": "python3"
  },
  "language_info": {
   "codemirror_mode": {
    "name": "ipython",
    "version": 3
   },
   "file_extension": ".py",
   "mimetype": "text/x-python",
   "name": "python",
   "nbconvert_exporter": "python",
   "pygments_lexer": "ipython3",
   "version": "3.11.7"
  }
 },
 "nbformat": 4,
 "nbformat_minor": 5
}
