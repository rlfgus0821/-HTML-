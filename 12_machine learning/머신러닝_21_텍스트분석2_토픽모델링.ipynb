{
 "cells": [
  {
   "cell_type": "code",
   "execution_count": null,
   "metadata": {},
   "outputs": [],
   "source": [
    "import numpy as np\n",
    "import pandas as pd\n",
    "import matplotlib.pyplot as plt\n",
    "import seaborn as sns\n",
    "\n",
    "import warnings\n",
    "warnings.filterwarnings('ignore')"
   ]
  },
  {
   "cell_type": "markdown",
   "metadata": {},
   "source": [
    "# 토픽 모델링(Topic Modeling)"
   ]
  },
  {
   "cell_type": "markdown",
   "metadata": {},
   "source": [
    "### 토픽 모델링이란?\n",
    "- 문서 집합에 숨어 있는 추상적인 주제를 발견하기 위한 통계적 모델\n",
    "    - 많은 문서에서 주요 주제를 효과적으로 찾아낼 수 있음\n",
    "- Topic : 어떤 주제를 구성하는 단어들\n",
    "- 숨겨진 주제를 효과적으로 표현할 수 있는 중심 단어를 함축적으로 추출함\n",
    "    - 특정 주제에 관한 문헌에는 그 주제에 관한 단어가 다른 단어들에 비해 더 자주 등장할 것이므로\n",
    "    - 문헌 내에 어떤 주제가 들어있고, 주제 간의 비중이 어떤지를 문헌 집합 내의 단어 통계를 수학적으로 분석함으로 알아냄\n",
    "- 일종의 word-level semantic clustering"
   ]
  },
  {
   "cell_type": "markdown",
   "metadata": {},
   "source": [
    "### 토픽 모델링 기법\n",
    "\n",
    "- LSA(Latent Semantic Analysis)\n",
    "- LDA(Latent Dirichlet Allocation: 잠재 디리클레 할당)"
   ]
  },
  {
   "cell_type": "markdown",
   "metadata": {},
   "source": [
    "#### LSA(Latent Semantic Analysis)\n",
    "- 분포 의미론에서 문서 및 용어와 관련된 개념 집합을 생성하여 문서 집합과 해당 문서에 포함된 용어 간의 관계를 분석하는 기술\n",
    "- 의미가 유사한 단어가 유사한 텍스트 부분에 나타날 것이라고 가정한다(분포 가설)\n",
    "- 알고리즘 주요 내용\n",
    "    - 문서당 단어 수를 포함하는 행렬(행은 고유한 단어를 나타내고 열은 각 문서를 나타냄)은 큰 텍스트 조각으로 구성되며 특잇값 분해(SVD)라는 수학적 기법을 사용하여 유사성 구조를 유지하면서 열 중에서 행 수를 줄인다\n",
    "    - 두 열 간의 코사인 유사성을 기준으로 문서를 비교한다\n",
    "    - 1에 가까운 값은 매우 유사한 문서를 나타내고, 0에 가까운 값은 매우 다른 문서를 나타낸다\n",
    "- 잠재 의미 구조를 이용한 정보 검색 기술에 활용\n",
    "    - LSI(Latent Semantic Indexing)라고도 부름"
   ]
  },
  {
   "cell_type": "markdown",
   "metadata": {},
   "source": [
    "#### LDA(Latent Dirichlet Allocation: 잠재 디리클레 할당)"
   ]
  },
  {
   "cell_type": "markdown",
   "metadata": {},
   "source": [
    "- 2002, 데이비드 블라이(David Blei), 앤드류 응(Andrew Ng), 마이클 어윈 조던(Michael I. Jordan)\n",
    "- 미리 알고 있는 주제별 **`단어수 분포`** 를 바탕으로 주어진 문서에서 발견된 단어수 분포를 분석함으로써 해당 문서가 어떤 주제들을 함께 다루고 있을지를 예측\n",
    "- 확률적 토픽 모델 기법 중 하나 : 이산 자료들에 대한 확률적 생성 모형"
   ]
  },
  {
   "cell_type": "markdown",
   "metadata": {},
   "source": [
    "#### LDA의 주요한 가정\n",
    "- 문서는 여러 개의 토픽을 지닐 수 있고 한 문서는 특정 토픽을 얼마나 지녔는지의 확률 벡터로 표현된다\n",
    "    - $P(t|d)$ , $t$는 토픽, $d$는 문서\n",
    "- 하나의 토픽은 해당 토픽에서 이용되는 단어의 비율로 표현된다\n",
    "    - 각 토픽 별 단어의 생성 활률 분포식 : $P(w|t)$, $w$는 단어\n",
    "        - 토픽  $t$마다 단어 $w$가 얼마나 자주 등장하는지에 대한 확률분포 \n",
    "- 한 문서에서 특정 단어들이 이용될 가능성은 위의 두 확률 분포의 곱으로 표현된다\n",
    "    - $ \\prod_i P(w_i | t_i )P(t_i | d) $\n",
    "    - 토픽 $t$의 분포를 모르기 때문에 이를 추정해야 하므로, $P(w|t)$를 학습함          \n",
    "- 단어의 교환성(exchangeability) : 단어들의 순서는 상관하지 않고 오로지 단어들의 유무만 중요하다는 가정\n",
    "- 특정 단어들의 묶음을 한 단위로 생각하는 방식(n-gram)으로 LDA의 교환성 가정을 확장시킬 수도 있음"
   ]
  },
  {
   "cell_type": "markdown",
   "metadata": {},
   "source": [
    "#### LDA 이해하기"
   ]
  },
  {
   "cell_type": "markdown",
   "metadata": {},
   "source": [
    "예. 다음의 문서 집합에서 2개의 토픽 찾기\n",
    "\n",
    "- 문서1 : 저는 사과랑 바나나를 먹어요\n",
    "- 문서2 : 우리는 귀여운 강아지가 좋아요\n",
    "- 문서3 : 저의 깜찍하고 귀여운 강아지가 바나나를 먹어요"
   ]
  },
  {
   "cell_type": "markdown",
   "metadata": {},
   "source": [
    "- LDA 입력 전에 주어와 불필요한 조사 등을 제거하는 전처리 과정을 거쳤다고 가정하고 각 문서의 토픽 분포와 단어분포를 추정\n",
    "    - 각 토픽의 단어 분포\n",
    "        - 토픽A : **사과20%, 바나나 40%, 먹어요 40%** , 귀여운  0%, 강아지  0%, 깜찍하고  0%, 좋아요  0%\n",
    "        - 토픽B : 사과 0%, 바나나  0%, 먹어요  0%, **귀여운 33%, 강아지 33%, 깜찍하고 16%, 좋아요 16%**\n",
    "    - 각 문서의 토픽 분포\n",
    "        - 문서1 : 토픽A 100%\n",
    "        - 문서2 : 토픽B 100%\n",
    "        - 문서3 : 토픽B 60%, 토픽A 40%    "
   ]
  },
  {
   "cell_type": "markdown",
   "metadata": {},
   "source": [
    "#### LDA 수행알고리즘 이해"
   ]
  },
  {
   "cell_type": "markdown",
   "metadata": {},
   "source": [
    "1. 사용자는 알고리즘에게 토픽의 개수 k를 알려줌\n",
    "    - k개 토픽이 M개의 전체 문서에 걸쳐 분포되어 있다고 가정함 \n",
    "2. 모든 단어를 k개 중 하나의 토픽에 할당함\n",
    "    - LDA는 모든 문서의 모든 단어에 대해서 k개 중 하나의 토픽을 랜덤으로 할당함\n",
    "    - 이 작업이 끝나면 각 문서는 토픽을 가지면 토픽은 단어 분포를 가지는 상태가 됨(랜덤으로 할당, 각 단어는 서로 다른 토픽에 할당되었을 수도 있음)\n",
    "3. 모든 문서의 모든 단어에 대해서 다음의 사항을 반복 수행\n",
    "    - 어떤 문서의 각 단어 w는 자신은 잘못된 토픽에 할당되어져 있지만, 다른 단어들은 전부 올바른 토픽에 할당되어 있는 상태라고 가정하며, 단어 w는 다음 두 기준에 따라 토픽이 재할당됨\n",
    "        - $P(t|d)$ : 문서 d의 단어들 중 토픽 t에 해당하는 단어들의 비율\n",
    "        - $p(w|t)$ : 각 토픽들 t에서 해당 단어 w 분포"
   ]
  },
  {
   "attachments": {
    "98161e2b-e46d-4ba9-98d3-7122c75e65dd.png": {
     "image/png": "[encoded data removed]"
    }
   },
   "cell_type": "markdown",
   "metadata": {},
   "source": [
    "![image.png](attachment:98161e2b-e46d-4ba9-98d3-7122c75e65dd.png)"
   ]
  },
  {
   "cell_type": "markdown",
   "metadata": {},
   "source": [
    "- [첫번째 그림] doc1의 세번째 단어인 apple의 토픽을 결정하려고 함\n",
    "- [두번째 그림] 첫번째 사용 기준 : doc1의 단어들이 어떤 토픽에 해당하는지 확인\n",
    "    - 토픽A와 토픽B 비중이 50 대 50비율 => apple은 토픽A와 토픽B 어디에도 속할 가능성이 있음\n",
    "- [세번째 그림] 두번째 사용 기준 : apple 단어가 전체 문서에서 어떤 토픽에 할당되었는지 확인\n",
    "    - apple는 토픽B에 할당될 가능성이 높음\n",
    "- LDA는 첫번째 기준과 두번째 기준을 참고하여 doc1의 apple을 어떤 토픽에 할당할지 결정"
   ]
  },
  {
   "cell_type": "markdown",
   "metadata": {},
   "source": [
    "#### LSA와 LDA 차이점\n",
    "- LSA : DTM을 차원 축소하여 축소 차원에서 근접 단어들을 토픽으로 묶어줌\n",
    "- LDA : 단어가 특정 토픽에 존재할 확률과 문서에 특정 토픽이 존재할 확률을 결합확률로 추정하여 토픽 추출함"
   ]
  },
  {
   "cell_type": "markdown",
   "metadata": {},
   "source": [
    "#### LDA 토픽 모델링 패키지\n",
    "- gensim\n",
    "- 사이킷런 : **`LatentDirichletAllocation` 클래스**"
   ]
  },
  {
   "cell_type": "markdown",
   "metadata": {},
   "source": [
    "#### LDA 응용\n",
    "- 문헌의 주제를 찾기 위한 방법으로 고안되었지만, 이미지, 소리 등 텍스트 처리 이외의 다양한 분야에 쓰일 수 있음\n",
    "- 이산 자료들, 즉 불연속적인 자료들뿐만 아니라 연속적인 자료들에 대해서 적용 할 수 있고 또한 다항 분포가 아닌 자료들에 대해서도 적용 할 수 있는 가능성이 있음"
   ]
  },
  {
   "cell_type": "markdown",
   "metadata": {},
   "source": [
    "### LDA 실습1. \n",
    "\n",
    "- 데이터셋 : 사이킷런의 샘플데이터 20뉴스그룹 데이터"
   ]
  },
  {
   "cell_type": "code",
   "execution_count": null,
   "metadata": {},
   "outputs": [],
   "source": [
    "from sklearn.datasets import fetch_20newsgroups\n",
    "from sklearn.feature_extraction.text import CountVectorizer\n",
    "from sklearn.decomposition import LatentDirichletAllocation"
   ]
  },
  {
   "cell_type": "markdown",
   "metadata": {},
   "source": [
    "#### 데이터 로딩"
   ]
  },
  {
   "cell_type": "code",
   "execution_count": 4,
   "metadata": {},
   "outputs": [
    {
     "name": "stdout",
     "output_type": "stream",
     "text": [
      "['alt.atheism', 'comp.graphics', 'comp.os.ms-windows.misc', 'comp.sys.ibm.pc.hardware', 'comp.sys.mac.hardware', 'comp.windows.x', 'misc.forsale', 'rec.autos', 'rec.motorcycles', 'rec.sport.baseball', 'rec.sport.hockey', 'sci.crypt', 'sci.electronics', 'sci.med', 'sci.space', 'soc.religion.christian', 'talk.politics.guns', 'talk.politics.mideast', 'talk.politics.misc', 'talk.religion.misc']\n"
     ]
    }
   ],
   "source": [
    "news = fetch_20newsgroups(subset='all', random_state= 156)\n",
    "print(news.target_names)"
   ]
  },
  {
   "cell_type": "code",
   "execution_count": 5,
   "metadata": {},
   "outputs": [
    {
     "name": "stdout",
     "output_type": "stream",
     "text": [
      "['comp.graphics', 'comp.windows.x', 'rec.motorcycles', 'rec.sport.baseball', 'sci.electronics', 'sci.med', 'soc.religion.christian', 'talk.politics.mideast']\n"
     ]
    }
   ],
   "source": [
    "cats = ['comp.graphics', 'comp.windows.x', 'rec.motorcycles', 'rec.sport.baseball', \n",
    "       'sci.electronics', 'sci.med', 'soc.religion.christian', 'talk.politics.mideast']\n",
    "news = fetch_20newsgroups(subset='all', remove= ('headers','footer','quotes') , \n",
    "                          categories = cats, random_state= 156)\n",
    "print(news.target_names)"
   ]
  },
  {
   "cell_type": "code",
   "execution_count": 9,
   "metadata": {},
   "outputs": [
    {
     "data": {
      "text/plain": [
       "7862"
      ]
     },
     "execution_count": 9,
     "metadata": {},
     "output_type": "execute_result"
    }
   ],
   "source": [
    "len(news.data)"
   ]
  },
  {
   "cell_type": "markdown",
   "metadata": {},
   "source": [
    "#### 데이터 벡터화"
   ]
  },
  {
   "cell_type": "code",
   "execution_count": 11,
   "metadata": {},
   "outputs": [
    {
     "name": "stdout",
     "output_type": "stream",
     "text": [
      "(7862, 1000)\n"
     ]
    }
   ],
   "source": [
    "cnt = CountVectorizer(max_df = 0.95, max_features= 1000, \n",
    "                      min_df= 2, stop_words='english',ngram_range= (1,2))\n",
    "ftr_vect = cnt.fit_transform(news.data)\n",
    "print(ftr_vect.shape)"
   ]
  },
  {
   "cell_type": "markdown",
   "metadata": {},
   "source": [
    "#### 토픽 모델링"
   ]
  },
  {
   "cell_type": "markdown",
   "metadata": {},
   "source": [
    "**LDA 토픽 모델링 수행**\n",
    "- LatentDirichletAllocation 객체 생성 후 fit()으로 피처 벡터화된 데이터 세트에 대핸 토픽 모델링\n",
    "- n_components 파라미터\n",
    "    - 토픽 개수 = 뉴스그룹에서 추출한 주제와 동일한 8개\n",
    "- random_state=0\n",
    "    - 수행할 때 마다 결과가 같게 하기 위해"
   ]
  },
  {
   "cell_type": "code",
   "execution_count": 12,
   "metadata": {},
   "outputs": [
    {
     "data": {
      "text/html": [
       "<style>#sk-container-id-1 {color: black;background-color: white;}#sk-container-id-1 pre{padding: 0;}#sk-container-id-1 div.sk-toggleable {background-color: white;}#sk-container-id-1 label.sk-toggleable__label {cursor: pointer;display: block;width: 100%;margin-bottom: 0;padding: 0.3em;box-sizing: border-box;text-align: center;}#sk-container-id-1 label.sk-toggleable__label-arrow:before {content: \"▸\";float: left;margin-right: 0.25em;color: #696969;}#sk-container-id-1 label.sk-toggleable__label-arrow:hover:before {color: black;}#sk-container-id-1 div.sk-estimator:hover label.sk-toggleable__label-arrow:before {color: black;}#sk-container-id-1 div.sk-toggleable__content {max-height: 0;max-width: 0;overflow: hidden;text-align: left;background-color: #f0f8ff;}#sk-container-id-1 div.sk-toggleable__content pre {margin: 0.2em;color: black;border-radius: 0.25em;background-color: #f0f8ff;}#sk-container-id-1 input.sk-toggleable__control:checked~div.sk-toggleable__content {max-height: 200px;max-width: 100%;overflow: auto;}#sk-container-id-1 input.sk-toggleable__control:checked~label.sk-toggleable__label-arrow:before {content: \"▾\";}#sk-container-id-1 div.sk-estimator input.sk-toggleable__control:checked~label.sk-toggleable__label {background-color: #d4ebff;}#sk-container-id-1 div.sk-label input.sk-toggleable__control:checked~label.sk-toggleable__label {background-color: #d4ebff;}#sk-container-id-1 input.sk-hidden--visually {border: 0;clip: rect(1px 1px 1px 1px);clip: rect(1px, 1px, 1px, 1px);height: 1px;margin: -1px;overflow: hidden;padding: 0;position: absolute;width: 1px;}#sk-container-id-1 div.sk-estimator {font-family: monospace;background-color: #f0f8ff;border: 1px dotted black;border-radius: 0.25em;box-sizing: border-box;margin-bottom: 0.5em;}#sk-container-id-1 div.sk-estimator:hover {background-color: #d4ebff;}#sk-container-id-1 div.sk-parallel-item::after {content: \"\";width: 100%;border-bottom: 1px solid gray;flex-grow: 1;}#sk-container-id-1 div.sk-label:hover label.sk-toggleable__label {background-color: #d4ebff;}#sk-container-id-1 div.sk-serial::before {content: \"\";position: absolute;border-left: 1px solid gray;box-sizing: border-box;top: 0;bottom: 0;left: 50%;z-index: 0;}#sk-container-id-1 div.sk-serial {display: flex;flex-direction: column;align-items: center;background-color: white;padding-right: 0.2em;padding-left: 0.2em;position: relative;}#sk-container-id-1 div.sk-item {position: relative;z-index: 1;}#sk-container-id-1 div.sk-parallel {display: flex;align-items: stretch;justify-content: center;background-color: white;position: relative;}#sk-container-id-1 div.sk-item::before, #sk-container-id-1 div.sk-parallel-item::before {content: \"\";position: absolute;border-left: 1px solid gray;box-sizing: border-box;top: 0;bottom: 0;left: 50%;z-index: -1;}#sk-container-id-1 div.sk-parallel-item {display: flex;flex-direction: column;z-index: 1;position: relative;background-color: white;}#sk-container-id-1 div.sk-parallel-item:first-child::after {align-self: flex-end;width: 50%;}#sk-container-id-1 div.sk-parallel-item:last-child::after {align-self: flex-start;width: 50%;}#sk-container-id-1 div.sk-parallel-item:only-child::after {width: 0;}#sk-container-id-1 div.sk-dashed-wrapped {border: 1px dashed gray;margin: 0 0.4em 0.5em 0.4em;box-sizing: border-box;padding-bottom: 0.4em;background-color: white;}#sk-container-id-1 div.sk-label label {font-family: monospace;font-weight: bold;display: inline-block;line-height: 1.2em;}#sk-container-id-1 div.sk-label-container {text-align: center;}#sk-container-id-1 div.sk-container {/* jupyter's `normalize.less` sets `[hidden] { display: none; }` but bootstrap.min.css set `[hidden] { display: none !important; }` so we also need the `!important` here to be able to override the default hidden behavior on the sphinx rendered scikit-learn.org. See: https://github.com/scikit-learn/scikit-learn/issues/21755 */display: inline-block !important;position: relative;}#sk-container-id-1 div.sk-text-repr-fallback {display: none;}</style><div id=\"sk-container-id-1\" class=\"sk-top-container\"><div class=\"sk-text-repr-fallback\"><pre>LatentDirichletAllocation(n_components=8, random_state=0)</pre><b>In a Jupyter environment, please rerun this cell to show the HTML representation or trust the notebook. <br />On GitHub, the HTML representation is unable to render, please try loading this page with nbviewer.org.</b></div><div class=\"sk-container\" hidden><div class=\"sk-item\"><div class=\"sk-estimator sk-toggleable\"><input class=\"sk-toggleable__control sk-hidden--visually\" id=\"sk-estimator-id-1\" type=\"checkbox\" checked><label for=\"sk-estimator-id-1\" class=\"sk-toggleable__label sk-toggleable__label-arrow\">LatentDirichletAllocation</label><div class=\"sk-toggleable__content\"><pre>LatentDirichletAllocation(n_components=8, random_state=0)</pre></div></div></div></div></div>"
      ],
      "text/plain": [
       "LatentDirichletAllocation(n_components=8, random_state=0)"
      ]
     },
     "execution_count": 12,
     "metadata": {},
     "output_type": "execute_result"
    }
   ],
   "source": [
    "lda = LatentDirichletAllocation(n_components= 8, random_state=0)\n",
    "lda.fit(ftr_vect)"
   ]
  },
  {
   "cell_type": "markdown",
   "metadata": {},
   "source": [
    "**LatentDirichletAllocation 객체 속성 `components_`**\n",
    "- 개별 토픽별로 각 word 피처가 얼마나 많이 토픽에 할당됐는지에 대한 수치"
   ]
  },
  {
   "cell_type": "code",
   "execution_count": 14,
   "metadata": {},
   "outputs": [
    {
     "data": {
      "text/plain": [
       "(8, 1000)"
      ]
     },
     "execution_count": 14,
     "metadata": {},
     "output_type": "execute_result"
    }
   ],
   "source": [
    "lda.components_.shape"
   ]
  },
  {
   "cell_type": "markdown",
   "metadata": {},
   "source": [
    "**display_topics(model, feature_names, n_top_words)**\n",
    "- components_ 배열의 값만으로는 각 토픽별 word 연관도를 보기어려우므로 각 토픽별 연관도가 높은 순으로 word를 나열하는 함수 생성"
   ]
  },
  {
   "cell_type": "code",
   "execution_count": null,
   "metadata": {},
   "outputs": [],
   "source": [
    "def display_topics(model, feature_names, n_top_words= 10):\n",
    "    for idx, topic in enumerate(model.components_):\n",
    "        topic_word_idx = topic.argsort()[::-1]\n",
    "        top_idx = topic_word_idx[:n_top_words]\n",
    "        top_words_text= ' '.join([feature_names[i] for i in top_idx])\n",
    "        print(f'Topic {idx+1}: {top_words_text}')"
   ]
  },
  {
   "cell_type": "code",
   "execution_count": 24,
   "metadata": {},
   "outputs": [
    {
     "name": "stdout",
     "output_type": "stream",
     "text": [
      "Topic 1: like don just good think ve time know use make better way really dod bike\n",
      "Topic 2: dos dos dos medical health research software 10 cancer 1993 use information number windows disease patients\n",
      "Topic 3: file image jpeg gif program color output files images format entry bit 00 __ 03\n",
      "Topic 4: said people know didn don went just did told came like time say going saw\n",
      "Topic 5: edu com mail thanks university know email phone new does information fax internet computer cs\n",
      "Topic 6: god people think jesus church does believe christ say know christian don just christians like\n",
      "Topic 7: armenian israel turkish jews people armenians israeli jewish armenia government turks war arab turkey 000\n",
      "Topic 8: edu window graphics available server use ftp file com version display using pub program motif\n"
     ]
    }
   ],
   "source": [
    "# get_feature_names_out ->  CountVectorizer가 추출한 단어들의 리스트 추출\n",
    "ftr_names = cnt.get_feature_names_out()\n",
    "ftr_names.shape\n",
    "display_topics(lda, ftr_names, 15)"
   ]
  },
  {
   "cell_type": "code",
   "execution_count": 22,
   "metadata": {},
   "outputs": [
    {
     "name": "stdout",
     "output_type": "stream",
     "text": [
      "['comp.graphics', 'comp.windows.x', 'rec.motorcycles', 'rec.sport.baseball', 'sci.electronics', 'sci.med', 'soc.religion.christian', 'talk.politics.mideast']\n"
     ]
    }
   ],
   "source": [
    "print(cats)"
   ]
  },
  {
   "cell_type": "markdown",
   "metadata": {},
   "source": [
    "### LDA 실습2.\n",
    "\n",
    "- 데이터셋 : 약15년 동안 발행되었던 ABC 뉴스기사 제목 데이터\n",
    "    - https://www.kaggle.com/therohk/million-headlines"
   ]
  },
  {
   "cell_type": "markdown",
   "metadata": {},
   "source": [
    "#### 데이터 로딩"
   ]
  },
  {
   "cell_type": "code",
   "execution_count": null,
   "metadata": {},
   "outputs": [],
   "source": [
    "import urllib.request\n",
    "import nltk\n",
    "from nltk.corpus import stopwords\n",
    "from nltk.stem import WordNetLemmatizer\n",
    "\n",
    "from sklearn.feature_extraction.text import TfidfVectorizer"
   ]
  },
  {
   "cell_type": "code",
   "execution_count": 28,
   "metadata": {},
   "outputs": [
    {
     "data": {
      "text/plain": [
       "('abcnews.csv', <http.client.HTTPMessage at 0x1e700d35b10>)"
      ]
     },
     "execution_count": 28,
     "metadata": {},
     "output_type": "execute_result"
    }
   ],
   "source": [
    "url = 'https://raw.githubusercontent.com/ukairia777/tensorflow-nlp-tutorial/main/19.%20Topic%20Modeling%20(LDA%2C%20BERT-Based)/dataset/abcnews-date-text.csv'\n",
    "\n",
    "urllib.request.urlretrieve(url, 'abcnews.csv')"
   ]
  },
  {
   "cell_type": "code",
   "execution_count": 29,
   "metadata": {},
   "outputs": [
    {
     "data": {
      "text/plain": [
       "1082168"
      ]
     },
     "execution_count": 29,
     "metadata": {},
     "output_type": "execute_result"
    }
   ],
   "source": [
    "abcnews = pd.read_csv('abcnews.csv', on_bad_lines= 'error')\n",
    "len(abcnews)"
   ]
  },
  {
   "cell_type": "code",
   "execution_count": 30,
   "metadata": {},
   "outputs": [
    {
     "data": {
      "text/html": [
       "<div>\n",
       "<style scoped>\n",
       "    .dataframe tbody tr th:only-of-type {\n",
       "        vertical-align: middle;\n",
       "    }\n",
       "\n",
       "    .dataframe tbody tr th {\n",
       "        vertical-align: top;\n",
       "    }\n",
       "\n",
       "    .dataframe thead th {\n",
       "        text-align: right;\n",
       "    }\n",
       "</style>\n",
       "<table border=\"1\" class=\"dataframe\">\n",
       "  <thead>\n",
       "    <tr style=\"text-align: right;\">\n",
       "      <th></th>\n",
       "      <th>publish_date</th>\n",
       "      <th>headline_text</th>\n",
       "    </tr>\n",
       "  </thead>\n",
       "  <tbody>\n",
       "    <tr>\n",
       "      <th>0</th>\n",
       "      <td>20030219</td>\n",
       "      <td>aba decides against community broadcasting lic...</td>\n",
       "    </tr>\n",
       "    <tr>\n",
       "      <th>1</th>\n",
       "      <td>20030219</td>\n",
       "      <td>act fire witnesses must be aware of defamation</td>\n",
       "    </tr>\n",
       "    <tr>\n",
       "      <th>2</th>\n",
       "      <td>20030219</td>\n",
       "      <td>a g calls for infrastructure protection summit</td>\n",
       "    </tr>\n",
       "  </tbody>\n",
       "</table>\n",
       "</div>"
      ],
      "text/plain": [
       "   publish_date                                      headline_text\n",
       "0      20030219  aba decides against community broadcasting lic...\n",
       "1      20030219     act fire witnesses must be aware of defamation\n",
       "2      20030219     a g calls for infrastructure protection summit"
      ]
     },
     "execution_count": 30,
     "metadata": {},
     "output_type": "execute_result"
    }
   ],
   "source": [
    "abcnews.head(3)"
   ]
  },
  {
   "cell_type": "code",
   "execution_count": 32,
   "metadata": {},
   "outputs": [
    {
     "data": {
      "text/html": [
       "<div>\n",
       "<style scoped>\n",
       "    .dataframe tbody tr th:only-of-type {\n",
       "        vertical-align: middle;\n",
       "    }\n",
       "\n",
       "    .dataframe tbody tr th {\n",
       "        vertical-align: top;\n",
       "    }\n",
       "\n",
       "    .dataframe thead th {\n",
       "        text-align: right;\n",
       "    }\n",
       "</style>\n",
       "<table border=\"1\" class=\"dataframe\">\n",
       "  <thead>\n",
       "    <tr style=\"text-align: right;\">\n",
       "      <th></th>\n",
       "      <th>headline_text</th>\n",
       "    </tr>\n",
       "  </thead>\n",
       "  <tbody>\n",
       "    <tr>\n",
       "      <th>0</th>\n",
       "      <td>aba decides against community broadcasting lic...</td>\n",
       "    </tr>\n",
       "    <tr>\n",
       "      <th>1</th>\n",
       "      <td>act fire witnesses must be aware of defamation</td>\n",
       "    </tr>\n",
       "    <tr>\n",
       "      <th>2</th>\n",
       "      <td>a g calls for infrastructure protection summit</td>\n",
       "    </tr>\n",
       "    <tr>\n",
       "      <th>3</th>\n",
       "      <td>air nz staff in aust strike for pay rise</td>\n",
       "    </tr>\n",
       "    <tr>\n",
       "      <th>4</th>\n",
       "      <td>air nz strike to affect australian travellers</td>\n",
       "    </tr>\n",
       "  </tbody>\n",
       "</table>\n",
       "</div>"
      ],
      "text/plain": [
       "                                       headline_text\n",
       "0  aba decides against community broadcasting lic...\n",
       "1     act fire witnesses must be aware of defamation\n",
       "2     a g calls for infrastructure protection summit\n",
       "3           air nz staff in aust strike for pay rise\n",
       "4      air nz strike to affect australian travellers"
      ]
     },
     "execution_count": 32,
     "metadata": {},
     "output_type": "execute_result"
    }
   ],
   "source": [
    "news_text = abcnews[['headline_text']]\n",
    "news_text.head()"
   ]
  },
  {
   "cell_type": "markdown",
   "metadata": {},
   "source": [
    "#### 텍스트 전처리"
   ]
  },
  {
   "cell_type": "markdown",
   "metadata": {},
   "source": [
    "- 단어 토큰화"
   ]
  },
  {
   "cell_type": "code",
   "execution_count": 33,
   "metadata": {},
   "outputs": [
    {
     "data": {
      "text/html": [
       "<div>\n",
       "<style scoped>\n",
       "    .dataframe tbody tr th:only-of-type {\n",
       "        vertical-align: middle;\n",
       "    }\n",
       "\n",
       "    .dataframe tbody tr th {\n",
       "        vertical-align: top;\n",
       "    }\n",
       "\n",
       "    .dataframe thead th {\n",
       "        text-align: right;\n",
       "    }\n",
       "</style>\n",
       "<table border=\"1\" class=\"dataframe\">\n",
       "  <thead>\n",
       "    <tr style=\"text-align: right;\">\n",
       "      <th></th>\n",
       "      <th>headline_text</th>\n",
       "    </tr>\n",
       "  </thead>\n",
       "  <tbody>\n",
       "    <tr>\n",
       "      <th>0</th>\n",
       "      <td>[aba, decides, against, community, broadcastin...</td>\n",
       "    </tr>\n",
       "    <tr>\n",
       "      <th>1</th>\n",
       "      <td>[act, fire, witnesses, must, be, aware, of, de...</td>\n",
       "    </tr>\n",
       "    <tr>\n",
       "      <th>2</th>\n",
       "      <td>[a, g, calls, for, infrastructure, protection,...</td>\n",
       "    </tr>\n",
       "    <tr>\n",
       "      <th>3</th>\n",
       "      <td>[air, nz, staff, in, aust, strike, for, pay, r...</td>\n",
       "    </tr>\n",
       "    <tr>\n",
       "      <th>4</th>\n",
       "      <td>[air, nz, strike, to, affect, australian, trav...</td>\n",
       "    </tr>\n",
       "  </tbody>\n",
       "</table>\n",
       "</div>"
      ],
      "text/plain": [
       "                                       headline_text\n",
       "0  [aba, decides, against, community, broadcastin...\n",
       "1  [act, fire, witnesses, must, be, aware, of, de...\n",
       "2  [a, g, calls, for, infrastructure, protection,...\n",
       "3  [air, nz, staff, in, aust, strike, for, pay, r...\n",
       "4  [air, nz, strike, to, affect, australian, trav..."
      ]
     },
     "execution_count": 33,
     "metadata": {},
     "output_type": "execute_result"
    }
   ],
   "source": [
    "news_text['headline_text'] = [nltk.word_tokenize(item) for item in news_text['headline_text']]\n",
    "news_text.head()"
   ]
  },
  {
   "cell_type": "markdown",
   "metadata": {},
   "source": [
    "- 불용어 제거"
   ]
  },
  {
   "cell_type": "code",
   "execution_count": 34,
   "metadata": {},
   "outputs": [
    {
     "data": {
      "text/html": [
       "<div>\n",
       "<style scoped>\n",
       "    .dataframe tbody tr th:only-of-type {\n",
       "        vertical-align: middle;\n",
       "    }\n",
       "\n",
       "    .dataframe tbody tr th {\n",
       "        vertical-align: top;\n",
       "    }\n",
       "\n",
       "    .dataframe thead th {\n",
       "        text-align: right;\n",
       "    }\n",
       "</style>\n",
       "<table border=\"1\" class=\"dataframe\">\n",
       "  <thead>\n",
       "    <tr style=\"text-align: right;\">\n",
       "      <th></th>\n",
       "      <th>headline_text</th>\n",
       "    </tr>\n",
       "  </thead>\n",
       "  <tbody>\n",
       "    <tr>\n",
       "      <th>0</th>\n",
       "      <td>[aba, decides, community, broadcasting, licence]</td>\n",
       "    </tr>\n",
       "    <tr>\n",
       "      <th>1</th>\n",
       "      <td>[act, fire, witnesses, must, aware, defamation]</td>\n",
       "    </tr>\n",
       "    <tr>\n",
       "      <th>2</th>\n",
       "      <td>[g, calls, infrastructure, protection, summit]</td>\n",
       "    </tr>\n",
       "    <tr>\n",
       "      <th>3</th>\n",
       "      <td>[air, nz, staff, aust, strike, pay, rise]</td>\n",
       "    </tr>\n",
       "    <tr>\n",
       "      <th>4</th>\n",
       "      <td>[air, nz, strike, affect, australian, travellers]</td>\n",
       "    </tr>\n",
       "  </tbody>\n",
       "</table>\n",
       "</div>"
      ],
      "text/plain": [
       "                                       headline_text\n",
       "0   [aba, decides, community, broadcasting, licence]\n",
       "1    [act, fire, witnesses, must, aware, defamation]\n",
       "2     [g, calls, infrastructure, protection, summit]\n",
       "3          [air, nz, staff, aust, strike, pay, rise]\n",
       "4  [air, nz, strike, affect, australian, travellers]"
      ]
     },
     "execution_count": 34,
     "metadata": {},
     "output_type": "execute_result"
    }
   ],
   "source": [
    "stop_words = stopwords.words('english')\n",
    "news_text['headline_text'] = news_text['headline_text'].apply(lambda x: [word for word in x if word not in (stop_words)])\n",
    "news_text.head()"
   ]
  },
  {
   "cell_type": "markdown",
   "metadata": {},
   "source": [
    "- 표제어 추출\n",
    "    - 3인칭 단수 표현을 1인칭으로, 과거 현재형동사를 현재형으로 변경"
   ]
  },
  {
   "cell_type": "code",
   "execution_count": 35,
   "metadata": {},
   "outputs": [
    {
     "data": {
      "text/html": [
       "<div>\n",
       "<style scoped>\n",
       "    .dataframe tbody tr th:only-of-type {\n",
       "        vertical-align: middle;\n",
       "    }\n",
       "\n",
       "    .dataframe tbody tr th {\n",
       "        vertical-align: top;\n",
       "    }\n",
       "\n",
       "    .dataframe thead th {\n",
       "        text-align: right;\n",
       "    }\n",
       "</style>\n",
       "<table border=\"1\" class=\"dataframe\">\n",
       "  <thead>\n",
       "    <tr style=\"text-align: right;\">\n",
       "      <th></th>\n",
       "      <th>headline_text</th>\n",
       "    </tr>\n",
       "  </thead>\n",
       "  <tbody>\n",
       "    <tr>\n",
       "      <th>0</th>\n",
       "      <td>[aba, decide, community, broadcast, licence]</td>\n",
       "    </tr>\n",
       "    <tr>\n",
       "      <th>1</th>\n",
       "      <td>[act, fire, witness, must, aware, defamation]</td>\n",
       "    </tr>\n",
       "    <tr>\n",
       "      <th>2</th>\n",
       "      <td>[g, call, infrastructure, protection, summit]</td>\n",
       "    </tr>\n",
       "    <tr>\n",
       "      <th>3</th>\n",
       "      <td>[air, nz, staff, aust, strike, pay, rise]</td>\n",
       "    </tr>\n",
       "    <tr>\n",
       "      <th>4</th>\n",
       "      <td>[air, nz, strike, affect, australian, travellers]</td>\n",
       "    </tr>\n",
       "  </tbody>\n",
       "</table>\n",
       "</div>"
      ],
      "text/plain": [
       "                                       headline_text\n",
       "0       [aba, decide, community, broadcast, licence]\n",
       "1      [act, fire, witness, must, aware, defamation]\n",
       "2      [g, call, infrastructure, protection, summit]\n",
       "3          [air, nz, staff, aust, strike, pay, rise]\n",
       "4  [air, nz, strike, affect, australian, travellers]"
      ]
     },
     "execution_count": 35,
     "metadata": {},
     "output_type": "execute_result"
    }
   ],
   "source": [
    "news_text['headline_text'] = news_text['headline_text'].apply(lambda x: [WordNetLemmatizer().lemmatize(word, pos='v') for word in x])\n",
    "news_text.head()"
   ]
  },
  {
   "cell_type": "markdown",
   "metadata": {},
   "source": [
    "- 길이가 3이하인 단어 제거"
   ]
  },
  {
   "cell_type": "code",
   "execution_count": 36,
   "metadata": {},
   "outputs": [
    {
     "data": {
      "text/html": [
       "<div>\n",
       "<style scoped>\n",
       "    .dataframe tbody tr th:only-of-type {\n",
       "        vertical-align: middle;\n",
       "    }\n",
       "\n",
       "    .dataframe tbody tr th {\n",
       "        vertical-align: top;\n",
       "    }\n",
       "\n",
       "    .dataframe thead th {\n",
       "        text-align: right;\n",
       "    }\n",
       "</style>\n",
       "<table border=\"1\" class=\"dataframe\">\n",
       "  <thead>\n",
       "    <tr style=\"text-align: right;\">\n",
       "      <th></th>\n",
       "      <th>headline_text</th>\n",
       "    </tr>\n",
       "  </thead>\n",
       "  <tbody>\n",
       "    <tr>\n",
       "      <th>0</th>\n",
       "      <td>[decide, community, broadcast, licence]</td>\n",
       "    </tr>\n",
       "    <tr>\n",
       "      <th>1</th>\n",
       "      <td>[fire, witness, must, aware, defamation]</td>\n",
       "    </tr>\n",
       "    <tr>\n",
       "      <th>2</th>\n",
       "      <td>[call, infrastructure, protection, summit]</td>\n",
       "    </tr>\n",
       "    <tr>\n",
       "      <th>3</th>\n",
       "      <td>[staff, aust, strike, rise]</td>\n",
       "    </tr>\n",
       "    <tr>\n",
       "      <th>4</th>\n",
       "      <td>[strike, affect, australian, travellers]</td>\n",
       "    </tr>\n",
       "  </tbody>\n",
       "</table>\n",
       "</div>"
      ],
      "text/plain": [
       "                                headline_text\n",
       "0     [decide, community, broadcast, licence]\n",
       "1    [fire, witness, must, aware, defamation]\n",
       "2  [call, infrastructure, protection, summit]\n",
       "3                 [staff, aust, strike, rise]\n",
       "4    [strike, affect, australian, travellers]"
      ]
     },
     "execution_count": 36,
     "metadata": {},
     "output_type": "execute_result"
    }
   ],
   "source": [
    "news_text['headline_text'] = news_text['headline_text'].apply(lambda x: [word for word in x if len(word) >3])\n",
    "news_text.head()"
   ]
  },
  {
   "cell_type": "markdown",
   "metadata": {},
   "source": [
    "#### TF-IDF 벡터화\n",
    "\n",
    "- 1000개 단어로 제한하여 생성"
   ]
  },
  {
   "cell_type": "markdown",
   "metadata": {},
   "source": [
    "- 역토큰화"
   ]
  },
  {
   "cell_type": "code",
   "execution_count": 38,
   "metadata": {},
   "outputs": [
    {
     "data": {
      "text/plain": [
       "['decide community broadcast licence',\n",
       " 'fire witness must aware defamation',\n",
       " 'call infrastructure protection summit',\n",
       " 'staff aust strike rise',\n",
       " 'strike affect australian travellers',\n",
       " 'ambitious olsson triple jump',\n",
       " 'antic delight record break barca',\n",
       " 'aussie qualifier stosur waste four memphis match',\n",
       " 'aust address security council iraq',\n",
       " 'australia lock timetable']"
      ]
     },
     "execution_count": 38,
     "metadata": {},
     "output_type": "execute_result"
    }
   ],
   "source": [
    "docs_list = []\n",
    "for i in range(len(news_text['headline_text'])):\n",
    "    doc = news_text['headline_text'][i]\n",
    "    docs_list.append(' '.join([token for token in doc]))\n",
    "docs_list[:10]"
   ]
  },
  {
   "cell_type": "markdown",
   "metadata": {},
   "source": [
    "- TF-IDF 벡터화"
   ]
  },
  {
   "cell_type": "code",
   "execution_count": 42,
   "metadata": {},
   "outputs": [
    {
     "name": "stdout",
     "output_type": "stream",
     "text": [
      "TFIDF 피처벡터 크기: (1082168, 1000)\n"
     ]
    }
   ],
   "source": [
    "tf = TfidfVectorizer(stop_words='english', max_features= 1000)\n",
    "ftr_mat = tf.fit_transform(docs_list)\n",
    "print(f'TFIDF 피처벡터 크기: {ftr_mat.shape}')"
   ]
  },
  {
   "cell_type": "markdown",
   "metadata": {},
   "source": [
    "#### 토픽 모델링"
   ]
  },
  {
   "cell_type": "code",
   "execution_count": 43,
   "metadata": {},
   "outputs": [],
   "source": [
    "lda_model = LatentDirichletAllocation(n_components= 10, learning_method='online',\n",
    "                                     random_state= 777, max_iter=1)\n",
    "lda_topic = lda_model.fit_transform(ftr_mat)"
   ]
  },
  {
   "cell_type": "code",
   "execution_count": 44,
   "metadata": {},
   "outputs": [
    {
     "name": "stdout",
     "output_type": "stream",
     "text": [
      "LDA 모델 컴포넌트:\n",
      "[[1.00001533e-01 1.00001269e-01 1.00004179e-01 ... 1.00006124e-01\n",
      "  1.00003111e-01 1.00003064e-01]\n",
      " [1.00001199e-01 1.13513398e+03 3.50170830e+03 ... 1.00009349e-01\n",
      "  1.00001896e-01 1.00002937e-01]\n",
      " [1.00001811e-01 1.00001151e-01 1.00003566e-01 ... 1.00002693e-01\n",
      "  1.00002061e-01 7.53381835e+02]\n",
      " ...\n",
      " [1.00001065e-01 1.00001689e-01 1.00003278e-01 ... 1.00006721e-01\n",
      "  1.00004902e-01 1.00004759e-01]\n",
      " [1.00002401e-01 1.00000732e-01 1.00002989e-01 ... 1.00003517e-01\n",
      "  1.00001428e-01 1.00005266e-01]\n",
      " [1.00003427e-01 1.00002313e-01 1.00007340e-01 ... 1.00003732e-01\n",
      "  1.00001207e-01 1.00005153e-01]]\n",
      "LDA 모델 컴포넌트 크기: (10, 1000)\n"
     ]
    }
   ],
   "source": [
    "print(f'LDA 모델 컴포넌트:\\n{lda_model.components_}')\n",
    "print(f'LDA 모델 컴포넌트 크기: {lda_model.components_.shape}')"
   ]
  },
  {
   "cell_type": "markdown",
   "metadata": {},
   "source": [
    "- 단어 집합"
   ]
  },
  {
   "cell_type": "code",
   "execution_count": null,
   "metadata": {},
   "outputs": [],
   "source": [
    "# topic = lda.components_ -> 가중치를 적용하여 topic 비중\n",
    "def display_topics(model, feature_names, n_top_words= 10):\n",
    "    for idx, topic in enumerate(model.components_):\n",
    "        topic_word_idx = topic.argsort()[::-1]\n",
    "        top_idx = topic_word_idx[:n_top_words]\n",
    "        top_words_text= [(feature_names[i], topic[i].round(2)) for i in top_idx]\n",
    "        print(f'Topic {idx+1}:\\n{top_words_text}\\n')\n",
    "display_topics(lda_model, tf.get_feature_names_out())"
   ]
  },
  {
   "cell_type": "markdown",
   "metadata": {},
   "source": [
    "- 각 문서별 토픽비중"
   ]
  },
  {
   "cell_type": "code",
   "execution_count": 47,
   "metadata": {},
   "outputs": [
    {
     "data": {
      "text/plain": [
       "(1082168, 10)"
      ]
     },
     "execution_count": 47,
     "metadata": {},
     "output_type": "execute_result"
    }
   ],
   "source": [
    "lda_topic.shape"
   ]
  },
  {
   "cell_type": "code",
   "execution_count": 49,
   "metadata": {},
   "outputs": [
    {
     "data": {
      "text/html": [
       "<div>\n",
       "<style scoped>\n",
       "    .dataframe tbody tr th:only-of-type {\n",
       "        vertical-align: middle;\n",
       "    }\n",
       "\n",
       "    .dataframe tbody tr th {\n",
       "        vertical-align: top;\n",
       "    }\n",
       "\n",
       "    .dataframe thead th {\n",
       "        text-align: right;\n",
       "    }\n",
       "</style>\n",
       "<table border=\"1\" class=\"dataframe\">\n",
       "  <thead>\n",
       "    <tr style=\"text-align: right;\">\n",
       "      <th></th>\n",
       "      <th>doc_num</th>\n",
       "      <th>topic</th>\n",
       "      <th>percentage</th>\n",
       "    </tr>\n",
       "  </thead>\n",
       "  <tbody>\n",
       "    <tr>\n",
       "      <th>0</th>\n",
       "      <td>0</td>\n",
       "      <td>0</td>\n",
       "      <td>0.485006</td>\n",
       "    </tr>\n",
       "    <tr>\n",
       "      <th>1</th>\n",
       "      <td>1</td>\n",
       "      <td>1</td>\n",
       "      <td>0.550000</td>\n",
       "    </tr>\n",
       "    <tr>\n",
       "      <th>2</th>\n",
       "      <td>2</td>\n",
       "      <td>4</td>\n",
       "      <td>0.455280</td>\n",
       "    </tr>\n",
       "    <tr>\n",
       "      <th>3</th>\n",
       "      <td>3</td>\n",
       "      <td>6</td>\n",
       "      <td>0.699519</td>\n",
       "    </tr>\n",
       "    <tr>\n",
       "      <th>4</th>\n",
       "      <td>4</td>\n",
       "      <td>1</td>\n",
       "      <td>0.465112</td>\n",
       "    </tr>\n",
       "    <tr>\n",
       "      <th>...</th>\n",
       "      <td>...</td>\n",
       "      <td>...</td>\n",
       "      <td>...</td>\n",
       "    </tr>\n",
       "    <tr>\n",
       "      <th>1082163</th>\n",
       "      <td>1082163</td>\n",
       "      <td>0</td>\n",
       "      <td>0.100000</td>\n",
       "    </tr>\n",
       "    <tr>\n",
       "      <th>1082164</th>\n",
       "      <td>1082164</td>\n",
       "      <td>3</td>\n",
       "      <td>0.360714</td>\n",
       "    </tr>\n",
       "    <tr>\n",
       "      <th>1082165</th>\n",
       "      <td>1082165</td>\n",
       "      <td>5</td>\n",
       "      <td>0.444518</td>\n",
       "    </tr>\n",
       "    <tr>\n",
       "      <th>1082166</th>\n",
       "      <td>1082166</td>\n",
       "      <td>1</td>\n",
       "      <td>0.323685</td>\n",
       "    </tr>\n",
       "    <tr>\n",
       "      <th>1082167</th>\n",
       "      <td>1082167</td>\n",
       "      <td>2</td>\n",
       "      <td>0.550000</td>\n",
       "    </tr>\n",
       "  </tbody>\n",
       "</table>\n",
       "<p>1082168 rows × 3 columns</p>\n",
       "</div>"
      ],
      "text/plain": [
       "         doc_num  topic  percentage\n",
       "0              0      0    0.485006\n",
       "1              1      1    0.550000\n",
       "2              2      4    0.455280\n",
       "3              3      6    0.699519\n",
       "4              4      1    0.465112\n",
       "...          ...    ...         ...\n",
       "1082163  1082163      0    0.100000\n",
       "1082164  1082164      3    0.360714\n",
       "1082165  1082165      5    0.444518\n",
       "1082166  1082166      1    0.323685\n",
       "1082167  1082167      2    0.550000\n",
       "\n",
       "[1082168 rows x 3 columns]"
      ]
     },
     "execution_count": 49,
     "metadata": {},
     "output_type": "execute_result"
    }
   ],
   "source": [
    "# argsort() -> 정렬했을 때 각 요소의 인덱스 -> ex) argsort([3, 1, 2]) -> [1,2,0]\n",
    "# argmax() -> 가증 큰 값 인덱스 반환\n",
    "doc_per_topic_list= []\n",
    "\n",
    "for n in range(lda_topic.shape[0]):\n",
    "    topic_most_per = lda_topic[n].argmax()\n",
    "    topic_pr = lda_topic[n].max()\n",
    "    doc_per_topic_list.append([n, topic_most_per, topic_pr])\n",
    "\n",
    "doc_topic_df = pd.DataFrame(doc_per_topic_list, columns=['doc_num','topic','percentage'])\n",
    "doc_topic_df"
   ]
  },
  {
   "cell_type": "code",
   "execution_count": 51,
   "metadata": {},
   "outputs": [
    {
     "data": {
      "text/html": [
       "<div>\n",
       "<style scoped>\n",
       "    .dataframe tbody tr th:only-of-type {\n",
       "        vertical-align: middle;\n",
       "    }\n",
       "\n",
       "    .dataframe tbody tr th {\n",
       "        vertical-align: top;\n",
       "    }\n",
       "\n",
       "    .dataframe thead th {\n",
       "        text-align: right;\n",
       "    }\n",
       "</style>\n",
       "<table border=\"1\" class=\"dataframe\">\n",
       "  <thead>\n",
       "    <tr style=\"text-align: right;\">\n",
       "      <th></th>\n",
       "      <th>doc_num</th>\n",
       "      <th>topic</th>\n",
       "      <th>percentage</th>\n",
       "      <th>headline_text</th>\n",
       "    </tr>\n",
       "  </thead>\n",
       "  <tbody>\n",
       "    <tr>\n",
       "      <th>0</th>\n",
       "      <td>0</td>\n",
       "      <td>0</td>\n",
       "      <td>0.485006</td>\n",
       "      <td>[decide, community, broadcast, licence]</td>\n",
       "    </tr>\n",
       "    <tr>\n",
       "      <th>1</th>\n",
       "      <td>1</td>\n",
       "      <td>1</td>\n",
       "      <td>0.550000</td>\n",
       "      <td>[fire, witness, must, aware, defamation]</td>\n",
       "    </tr>\n",
       "    <tr>\n",
       "      <th>2</th>\n",
       "      <td>2</td>\n",
       "      <td>4</td>\n",
       "      <td>0.455280</td>\n",
       "      <td>[call, infrastructure, protection, summit]</td>\n",
       "    </tr>\n",
       "    <tr>\n",
       "      <th>3</th>\n",
       "      <td>3</td>\n",
       "      <td>6</td>\n",
       "      <td>0.699519</td>\n",
       "      <td>[staff, aust, strike, rise]</td>\n",
       "    </tr>\n",
       "    <tr>\n",
       "      <th>4</th>\n",
       "      <td>4</td>\n",
       "      <td>1</td>\n",
       "      <td>0.465112</td>\n",
       "      <td>[strike, affect, australian, travellers]</td>\n",
       "    </tr>\n",
       "    <tr>\n",
       "      <th>...</th>\n",
       "      <td>...</td>\n",
       "      <td>...</td>\n",
       "      <td>...</td>\n",
       "      <td>...</td>\n",
       "    </tr>\n",
       "    <tr>\n",
       "      <th>1082163</th>\n",
       "      <td>1082163</td>\n",
       "      <td>0</td>\n",
       "      <td>0.100000</td>\n",
       "      <td>[compliment, womans, smile, guide]</td>\n",
       "    </tr>\n",
       "    <tr>\n",
       "      <th>1082164</th>\n",
       "      <td>1082164</td>\n",
       "      <td>3</td>\n",
       "      <td>0.360714</td>\n",
       "      <td>[white, house, defend, trump, tweet]</td>\n",
       "    </tr>\n",
       "    <tr>\n",
       "      <th>1082165</th>\n",
       "      <td>1082165</td>\n",
       "      <td>5</td>\n",
       "      <td>0.444518</td>\n",
       "      <td>[winter, close, tasmania, snow, fall]</td>\n",
       "    </tr>\n",
       "    <tr>\n",
       "      <th>1082166</th>\n",
       "      <td>1082166</td>\n",
       "      <td>1</td>\n",
       "      <td>0.323685</td>\n",
       "      <td>[womens, world, australia, despite, atapattus]</td>\n",
       "    </tr>\n",
       "    <tr>\n",
       "      <th>1082167</th>\n",
       "      <td>1082167</td>\n",
       "      <td>2</td>\n",
       "      <td>0.550000</td>\n",
       "      <td>[youtube, stunt, death, foreshadow, tweet]</td>\n",
       "    </tr>\n",
       "  </tbody>\n",
       "</table>\n",
       "<p>1082168 rows × 4 columns</p>\n",
       "</div>"
      ],
      "text/plain": [
       "         doc_num  topic  percentage  \\\n",
       "0              0      0    0.485006   \n",
       "1              1      1    0.550000   \n",
       "2              2      4    0.455280   \n",
       "3              3      6    0.699519   \n",
       "4              4      1    0.465112   \n",
       "...          ...    ...         ...   \n",
       "1082163  1082163      0    0.100000   \n",
       "1082164  1082164      3    0.360714   \n",
       "1082165  1082165      5    0.444518   \n",
       "1082166  1082166      1    0.323685   \n",
       "1082167  1082167      2    0.550000   \n",
       "\n",
       "                                          headline_text  \n",
       "0               [decide, community, broadcast, licence]  \n",
       "1              [fire, witness, must, aware, defamation]  \n",
       "2            [call, infrastructure, protection, summit]  \n",
       "3                           [staff, aust, strike, rise]  \n",
       "4              [strike, affect, australian, travellers]  \n",
       "...                                                 ...  \n",
       "1082163              [compliment, womans, smile, guide]  \n",
       "1082164            [white, house, defend, trump, tweet]  \n",
       "1082165           [winter, close, tasmania, snow, fall]  \n",
       "1082166  [womens, world, australia, despite, atapattus]  \n",
       "1082167      [youtube, stunt, death, foreshadow, tweet]  \n",
       "\n",
       "[1082168 rows x 4 columns]"
      ]
     },
     "execution_count": 51,
     "metadata": {},
     "output_type": "execute_result"
    }
   ],
   "source": [
    "doc_topic_df = doc_topic_df.join(news_text['headline_text'])\n",
    "doc_topic_df"
   ]
  },
  {
   "cell_type": "markdown",
   "metadata": {},
   "source": [
    "#### 토픽별 문서 수 계산 "
   ]
  },
  {
   "cell_type": "code",
   "execution_count": 53,
   "metadata": {},
   "outputs": [
    {
     "data": {
      "text/plain": [
       "topic\n",
       "0    152522\n",
       "1     98362\n",
       "2     96998\n",
       "3     92523\n",
       "4    113090\n",
       "5    105034\n",
       "6    141932\n",
       "7     91788\n",
       "8    106465\n",
       "9     83454\n",
       "Name: doc_num, dtype: int64"
      ]
     },
     "execution_count": 53,
     "metadata": {},
     "output_type": "execute_result"
    }
   ],
   "source": [
    "doc_topic_df.groupby('topic')['doc_num'].count()"
   ]
  },
  {
   "cell_type": "markdown",
   "metadata": {},
   "source": [
    "#### 토픽별로 가장 높은 확률로 할당된 문서 TOP3"
   ]
  },
  {
   "cell_type": "code",
   "execution_count": 61,
   "metadata": {},
   "outputs": [
    {
     "data": {
      "text/plain": [
       "topic\n",
       "0    0.721465\n",
       "1    0.699865\n",
       "2    0.721175\n",
       "3    0.721156\n",
       "4    0.721737\n",
       "5    0.721574\n",
       "6    0.721672\n",
       "7    0.736919\n",
       "8    0.738580\n",
       "9    0.721326\n",
       "Name: percentage, dtype: float64"
      ]
     },
     "execution_count": 61,
     "metadata": {},
     "output_type": "execute_result"
    }
   ],
   "source": [
    "doc_topic_df.groupby('topic')['percentage'].max()"
   ]
  },
  {
   "cell_type": "code",
   "execution_count": 82,
   "metadata": {},
   "outputs": [
    {
     "name": "stdout",
     "output_type": "stream",
     "text": [
      "-- TOPIC 0 --\n",
      "TOP1(0.721): ['nurse', 'vote', 'suspend', 'industrial', 'action']\n",
      "TOP2(0.721): ['nurse', 'union', 'industrial', 'action', 'hold']\n",
      "TOP3(0.700): ['mortgage', 'lender', 'wont', 'hurt', 'aussie', 'bank']\n",
      "\n",
      "-- TOPIC 1 --\n",
      "TOP1(0.700): ['australian', 'fighters', 'fear', 'punishments', 'return', 'australia']\n",
      "TOP2(0.700): ['indonesia', 'investigate', 'bali', 'bomb']\n",
      "TOP3(0.700): ['collar', 'bomb', 'hoax', 'accuse', 'return', 'australia']\n",
      "\n",
      "-- TOPIC 2 --\n",
      "TOP1(0.721): ['care', 'connect', 'wait', 'list', 'mental', 'health']\n",
      "TOP2(0.721): ['soldier', 'death', 'bring', 'british', 'toll']\n",
      "TOP3(0.721): ['british', 'soldier', 'kill', 'afghan', 'blast']\n",
      "\n",
      "-- TOPIC 3 --\n",
      "TOP1(0.721): ['maroon', 'team', 'announce', 'state', 'origin', 'press']\n",
      "TOP2(0.700): ['2016', 'aussies', 'struggle', 'olympics']\n",
      "TOP3(0.700): ['baden', 'clay', 'crowd', 'sign', 'healthy', 'legal', 'system', 'lawyer']\n",
      "\n",
      "-- TOPIC 4 --\n",
      "TOP1(0.722): ['fishermen', 'spot', 'suspect', 'illegal', 'fish', 'boat']\n",
      "TOP2(0.721): ['plant', 'stay', 'open', 'amid', 'financial', 'audit']\n",
      "TOP3(0.720): ['pair', 'face', '140k', 'fine', 'illegal', 'fish']\n",
      "\n",
      "-- TOPIC 5 --\n",
      "TOP1(0.722): ['market', 'close', 'flat', 'despite', 'industry', 'fall']\n",
      "TOP2(0.722): ['market', 'record', 'high', 'despite', 'soar', 'price']\n",
      "TOP3(0.721): ['water', 'price', 'reach', 'record', 'high']\n",
      "\n",
      "-- TOPIC 6 --\n",
      "TOP1(0.722): ['swoop', 'season', 'start', 'early', 'break', 'hill']\n",
      "TOP2(0.722): ['teen', 'stand', 'trial', 'monash', 'party', 'bash']\n",
      "TOP3(0.721): ['taxi', 'driver', 'stand', 'trial', 'rape']\n",
      "\n",
      "-- TOPIC 7 --\n",
      "TOP1(0.737): ['police', 'probe', 'fatal', 'pacific', 'truck', 'crash']\n",
      "TOP2(0.722): ['hacker', 'gain', 'access', 'eight', 'million', 'credit', 'card']\n",
      "TOP3(0.721): ['former', 'military', 'head', 'challenge', 'brown', 'iraq']\n",
      "\n",
      "-- TOPIC 8 --\n",
      "TOP1(0.739): ['field', 'visit', 'christmas', 'island', 'detention', 'centre']\n",
      "TOP2(0.736): ['land', 'council', 'urge', 'govt', 'rethink', 'field']\n",
      "TOP3(0.721): ['freeze', 'order', 'christmas', 'island', 'detention', 'centre', 'demolition']\n",
      "\n",
      "-- TOPIC 9 --\n",
      "TOP1(0.721): ['group', 'meet', 'north', 'west', 'rock']\n",
      "TOP2(0.700): ['record', 'break', 'gold', 'coast', 'marathon']\n",
      "TOP3(0.700): ['gold', 'coast', 'runner', 'break', '1972', 'hurdle', 'record']\n",
      "\n"
     ]
    }
   ],
   "source": [
    "for n in range(len(doc_topic_df['topic'].unique())):\n",
    "    topic_per_top = doc_topic_df[doc_topic_df['topic'] == n].sort_values('percentage',ascending= False)\n",
    "    print(f'-- TOPIC {n} --')\n",
    "    for h in range(3):\n",
    "        print(f\"TOP{h+1}({topic_per_top['percentage'].iloc[h].max():.3f}): {topic_per_top['headline_text'].iloc[h]}\")\n",
    "    print()"
   ]
  },
  {
   "cell_type": "markdown",
   "metadata": {},
   "source": [
    "#### LDA 시각화\n",
    ": pyLDAvis 패키지"
   ]
  },
  {
   "cell_type": "code",
   "execution_count": 83,
   "metadata": {},
   "outputs": [
    {
     "name": "stdout",
     "output_type": "stream",
     "text": [
      "Defaulting to user installation because normal site-packages is not writeable\n",
      "Collecting pyLDAvis\n",
      "  Downloading pyLDAvis-3.4.1-py3-none-any.whl.metadata (4.2 kB)\n",
      "Requirement already satisfied: numpy>=1.24.2 in c:\\programdata\\anaconda3\\lib\\site-packages (from pyLDAvis) (1.26.4)\n",
      "Requirement already satisfied: scipy in c:\\programdata\\anaconda3\\lib\\site-packages (from pyLDAvis) (1.11.4)\n",
      "Requirement already satisfied: pandas>=2.0.0 in c:\\programdata\\anaconda3\\lib\\site-packages (from pyLDAvis) (2.1.4)\n",
      "Requirement already satisfied: joblib>=1.2.0 in c:\\programdata\\anaconda3\\lib\\site-packages (from pyLDAvis) (1.2.0)\n",
      "Requirement already satisfied: jinja2 in c:\\programdata\\anaconda3\\lib\\site-packages (from pyLDAvis) (3.1.3)\n",
      "Requirement already satisfied: numexpr in c:\\programdata\\anaconda3\\lib\\site-packages (from pyLDAvis) (2.8.7)\n",
      "Collecting funcy (from pyLDAvis)\n",
      "  Downloading funcy-2.0-py2.py3-none-any.whl.metadata (5.9 kB)\n",
      "Requirement already satisfied: scikit-learn>=1.0.0 in c:\\programdata\\anaconda3\\lib\\site-packages (from pyLDAvis) (1.2.2)\n",
      "Requirement already satisfied: gensim in c:\\users\\gillhk\\appdata\\roaming\\python\\python311\\site-packages (from pyLDAvis) (4.3.2)\n",
      "Requirement already satisfied: setuptools in c:\\programdata\\anaconda3\\lib\\site-packages (from pyLDAvis) (68.2.2)\n",
      "Requirement already satisfied: python-dateutil>=2.8.2 in c:\\programdata\\anaconda3\\lib\\site-packages (from pandas>=2.0.0->pyLDAvis) (2.8.2)\n",
      "Requirement already satisfied: pytz>=2020.1 in c:\\programdata\\anaconda3\\lib\\site-packages (from pandas>=2.0.0->pyLDAvis) (2023.3.post1)\n",
      "Requirement already satisfied: tzdata>=2022.1 in c:\\programdata\\anaconda3\\lib\\site-packages (from pandas>=2.0.0->pyLDAvis) (2023.3)\n",
      "Requirement already satisfied: threadpoolctl>=2.0.0 in c:\\programdata\\anaconda3\\lib\\site-packages (from scikit-learn>=1.0.0->pyLDAvis) (2.2.0)\n",
      "Requirement already satisfied: smart-open>=1.8.1 in c:\\programdata\\anaconda3\\lib\\site-packages (from gensim->pyLDAvis) (5.2.1)\n",
      "Requirement already satisfied: MarkupSafe>=2.0 in c:\\programdata\\anaconda3\\lib\\site-packages (from jinja2->pyLDAvis) (2.1.3)\n",
      "Requirement already satisfied: six>=1.5 in c:\\programdata\\anaconda3\\lib\\site-packages (from python-dateutil>=2.8.2->pandas>=2.0.0->pyLDAvis) (1.16.0)\n",
      "Downloading pyLDAvis-3.4.1-py3-none-any.whl (2.6 MB)\n",
      "   ---------------------------------------- 0.0/2.6 MB ? eta -:--:--\n",
      "   --- ------------------------------------ 0.2/2.6 MB 5.0 MB/s eta 0:00:01\n",
      "   -------------------- ------------------- 1.3/2.6 MB 13.8 MB/s eta 0:00:01\n",
      "   ---------------------------------------  2.6/2.6 MB 20.6 MB/s eta 0:00:01\n",
      "   ---------------------------------------- 2.6/2.6 MB 15.1 MB/s eta 0:00:00\n",
      "Downloading funcy-2.0-py2.py3-none-any.whl (30 kB)\n",
      "Installing collected packages: funcy, pyLDAvis\n",
      "Successfully installed funcy-2.0 pyLDAvis-3.4.1\n"
     ]
    }
   ],
   "source": [
    "!pip install pyLDAvis"
   ]
  },
  {
   "cell_type": "code",
   "execution_count": 88,
   "metadata": {},
   "outputs": [],
   "source": [
    "import pyLDAvis.lda_model\n",
    "\n",
    "pyLDAvis.enable_notebook()\n",
    "vis = pyLDAvis.lda_model.prepare(lda_model, ftr_mat, tf)"
   ]
  },
  {
   "cell_type": "code",
   "execution_count": 89,
   "metadata": {},
   "outputs": [
    {
     "data": {
      "text/html": [
       "\n",
       "<link rel=\"stylesheet\" type=\"text/css\" href=\"https://cdn.jsdelivr.net/gh/bmabey/pyLDAvis@3.4.0/pyLDAvis/js/ldavis.v1.0.0.css\">\n",
       "\n",
       "\n",
       "<div id=\"ldavis_el3577620941020274403603816144\" style=\"background-color:white;\"></div>\n",
       "<script type=\"text/javascript\">\n",
       "\n",
       "var ldavis_el3577620941020274403603816144_data = {\"mdsDat\": {\"x\": [0.22314025802319587, 0.01260597629121391, 0.20655867920794918, -0.25727538855386906, 0.13489421978609412, -0.02059746163410526, -0.012938673089122964, 0.013580887688225523, -0.04186747839795728, -0.25810101932162405], \"y\": [0.17905999971249553, -0.2054563592929785, 0.14759482289134218, 0.13835761928889645, -0.04333270497927206, -0.18593495745090677, -0.22600261273183542, -0.06939484849884736, 0.16742189308772812, 0.09768714797337721], \"topics\": [1, 2, 3, 4, 5, 6, 7, 8, 9, 10], \"cluster\": [1, 1, 1, 1, 1, 1, 1, 1, 1, 1], \"Freq\": [12.098687498767484, 10.466350049150687, 10.301741158873218, 10.259589747113344, 9.738719905801988, 9.5816465031766, 9.541280449529742, 9.494899477636705, 9.341298748756685, 9.175786461193546]}, \"tinfo\": {\"Term\": [\"police\", \"australia\", \"trump\", \"australian\", \"government\", \"sydney\", \"queensland\", \"court\", \"melbourne\", \"attack\", \"charge\", \"death\", \"interview\", \"kill\", \"world\", \"south\", \"election\", \"perth\", \"market\", \"crash\", \"rural\", \"house\", \"change\", \"home\", \"open\", \"canberra\", \"year\", \"live\", \"adelaide\", \"2016\", \"charge\", \"election\", \"adelaide\", \"make\", \"test\", \"tasmanian\", \"share\", \"league\", \"child\", \"need\", \"trial\", \"release\", \"federal\", \"victorian\", \"talk\", \"program\", \"darwin\", \"party\", \"season\", \"premier\", \"look\", \"young\", \"week\", \"australias\", \"shark\", \"energy\", \"study\", \"protest\", \"start\", \"laws\", \"fund\", \"labor\", \"national\", \"council\", \"claim\", \"flood\", \"park\", \"farm\", \"guilty\", \"island\", \"centre\", \"search\", \"drum\", \"port\", \"hobart\", \"build\", \"aboriginal\", \"business\", \"continue\", \"road\", \"risk\", \"land\", \"residents\", \"christmas\", \"debate\", \"seek\", \"coal\", \"youth\", \"plead\", \"issue\", \"court\", \"attack\", \"open\", \"face\", \"warn\", \"years\", \"shoot\", \"turnbull\", \"people\", \"sentence\", \"tell\", \"abuse\", \"community\", \"near\", \"body\", \"public\", \"appeal\", \"company\", \"damage\", \"injure\", \"hunter\", \"history\", \"suspect\", \"super\", \"drop\", \"politics\", \"social\", \"leader\", \"amid\", \"prepare\", \"murder\", \"market\", \"rural\", \"indigenous\", \"power\", \"price\", \"water\", \"fall\", \"deal\", \"high\", \"victoria\", \"close\", \"case\", \"support\", \"farmers\", \"industry\", \"president\", \"reveal\", \"rescue\", \"food\", \"peter\", \"cause\", \"inquest\", \"great\", \"celebrate\", \"black\", \"boost\", \"long\", \"remain\", \"liberal\", \"rain\", \"plan\", \"record\", \"police\", \"crash\", \"drug\", \"beat\", \"want\", \"head\", \"turn\", \"station\", \"western\", \"launch\", \"workers\", \"second\", \"million\", \"trade\", \"inquiry\", \"free\", \"challenge\", \"northern\", \"target\", \"link\", \"battle\", \"prison\", \"truck\", \"march\", \"fatal\", \"offer\", \"post\", \"french\", \"grand\", \"town\", \"rise\", \"green\", \"death\", \"interview\", \"kill\", \"jail\", \"life\", \"health\", \"minister\", \"leave\", \"news\", \"lead\", \"push\", \"campaign\", \"future\", \"race\", \"violence\", \"question\", \"media\", \"play\", \"speak\", \"australians\", \"defend\", \"street\", \"bring\", \"doctor\", \"chinese\", \"india\", \"domestic\", \"care\", \"mental\", \"andrew\", \"australia\", \"australian\", \"melbourne\", \"world\", \"south\", \"canberra\", \"country\", \"accuse\", \"lose\", \"dead\", \"2015\", \"return\", \"city\", \"assault\", \"fear\", \"mark\", \"mother\", \"michael\", \"rugby\", \"newcastle\", \"increase\", \"cancer\", \"coach\", \"investigate\", \"islamic\", \"bomb\", \"sell\", \"confirm\", \"film\", \"opposition\", \"government\", \"sydney\", \"queensland\", \"change\", \"home\", \"year\", \"live\", \"arrest\", \"final\", \"bank\", \"hold\", \"review\", \"vote\", \"students\", \"david\", \"rule\", \"river\", \"sport\", \"action\", \"climate\", \"weather\", \"beach\", \"light\", \"fail\", \"cricket\", \"stop\", \"chief\", \"club\", \"begin\", \"point\", \"trump\", \"perth\", \"report\", \"school\", \"woman\", \"coast\", \"help\", \"north\", \"china\", \"women\", \"west\", \"time\", \"gold\", \"service\", \"meet\", \"hour\", \"budget\", \"train\", \"children\", \"john\", \"allege\", \"hear\", \"force\", \"group\", \"storm\", \"commission\", \"project\", \"cyclone\", \"come\", \"cost\", \"break\", \"house\", \"2016\", \"state\", \"brisbane\", \"tasmania\", \"miss\", \"hospital\", \"family\", \"fight\", \"concern\", \"work\", \"game\", \"star\", \"royal\", \"save\", \"festival\", \"announce\", \"ahead\", \"baby\", \"parliament\", \"podcast\", \"stab\", \"team\", \"steal\", \"officer\", \"wall\", \"sign\", \"cattle\", \"syria\", \"senate\"], \"Freq\": [13061.0, 11656.0, 10407.0, 9441.0, 8062.0, 7756.0, 7134.0, 7172.0, 6409.0, 6618.0, 7038.0, 6316.0, 6305.0, 6227.0, 5711.0, 5685.0, 6314.0, 5615.0, 5844.0, 5704.0, 5799.0, 5504.0, 5428.0, 5243.0, 5385.0, 5204.0, 5162.0, 5072.0, 5643.0, 4941.0, 7037.415097141699, 6313.391735622598, 5642.722281042952, 4724.829948602846, 4226.961574692643, 4056.912508664527, 3348.9107857136487, 3265.4883282596393, 3204.809632085523, 3096.615778904878, 2995.6346686906577, 2698.8919603044715, 2605.7426763598837, 2568.269692814632, 2567.967889784512, 2488.798874874148, 2418.0007286955847, 2392.863988239485, 2324.5747374741986, 2320.723238407621, 2307.5897142632184, 2291.914599716932, 2264.6260940627603, 2228.7950679791697, 2183.5635629442363, 2149.5245405872424, 2094.0751238057696, 2008.5364380932933, 1969.3630659491184, 1959.2139874039544, 4932.796407373559, 4254.479418113976, 4245.017094324993, 4211.317214025503, 3788.9175897715145, 3616.488091410149, 3571.5027205240026, 3535.9196242931775, 3481.086866002967, 3327.585932513191, 3166.301414946448, 3130.9755137603943, 3088.080297741826, 3039.0953573418537, 3018.6193119528234, 2908.2340389662377, 2897.3898719198505, 2835.747178636466, 2736.1752157706533, 2673.3273270684176, 2640.223292973229, 2629.369627931007, 2531.3252072899595, 2529.1904079874566, 2498.782536332029, 2344.3340080980965, 2315.3239923305596, 2249.218337889865, 2207.480331935832, 2183.9683550433165, 7171.832197504786, 6617.397281384063, 5384.526986590483, 4938.238929540994, 4863.481758997631, 4830.908823957372, 4271.173870806202, 4059.8772738004677, 3918.415546496737, 3136.5791697408285, 3072.7931344240183, 3048.3351258957928, 2978.8734477152525, 2861.6961062382293, 2638.8189183557943, 2516.712150671849, 2304.124843608426, 2203.3865991563207, 2111.9364749918673, 2104.307280724489, 1981.2715481182972, 1959.3197777998214, 1905.7226336034848, 1899.6104159270956, 1732.6339397605248, 1707.238836144706, 1646.4447729329318, 1645.2125203487637, 1617.4239563487845, 1578.6465229159005, 4018.7894670065734, 5843.728448628891, 5798.453267680978, 4450.233821009931, 4181.3974190262015, 4023.318709357687, 3935.3481561708795, 3795.1983355608036, 3702.1912375552774, 3611.758098455448, 3513.993418157204, 3355.793295086104, 3336.4277480366677, 3197.7367680393963, 2924.104082192323, 2913.102146694355, 2756.2262988388934, 2615.78019208203, 2558.6224164656364, 2429.1503193850667, 2232.660362037667, 2162.310316531755, 2135.77696822266, 2125.9963712719223, 2116.124570996961, 2055.0838871894016, 2034.5064799847971, 1879.1887690758415, 1847.491850207686, 1846.684178483658, 1792.8015892518802, 5088.056046623165, 3349.618133272196, 13060.302036132234, 5703.830955530613, 4634.299874899703, 3518.310256271933, 3139.3044538703284, 2907.284221681485, 2843.4500718365057, 2827.58501675893, 2761.233469735822, 2755.0530715430236, 2649.1046266768094, 2643.6413696696222, 2609.7935835100584, 2552.602390500202, 2514.125101125976, 2459.145325517477, 2407.9750331690498, 2374.7560342813686, 2322.052127976044, 2298.2400182168863, 2281.3574580379945, 2244.02971010321, 2203.840828096083, 2168.034055924761, 2062.7353984667857, 2054.5196519470924, 2045.5210171303631, 1924.7152361877188, 1902.833088204148, 1884.5434788538682, 3169.8261740227604, 2352.168933413515, 6315.173246020198, 6304.4494199119345, 6226.36751973627, 4929.560400696494, 4549.087075336084, 4540.3682943450085, 4227.688824626158, 4096.26244854179, 3832.187377964244, 3772.1543378470096, 3032.8748417987713, 2952.8088951064665, 2912.974130335535, 2904.0973322888153, 2844.895941055289, 2829.511055052654, 2755.715537042503, 2550.9741628188262, 2516.889503061927, 2391.847759991442, 2384.1976201999382, 2340.609775853813, 2319.556329285205, 2273.057084778453, 2262.6356688590618, 2212.4893454122425, 2181.834341363144, 2127.9303871662846, 2018.7762369774612, 1889.3437444287183, 11655.380772243068, 9440.153565255641, 6409.038893217359, 5710.346079220838, 5684.236534920234, 5203.414897801086, 4470.709961526029, 3465.3893165281675, 3093.184248022702, 2982.861963852611, 2981.0458799259104, 2910.6696153784924, 2625.5022330410716, 2510.402664003287, 2320.206467160512, 2266.653343042953, 2221.8097673092916, 1930.133080730006, 1907.2492035074263, 1889.1837230773024, 1775.7511422017897, 1740.702018578568, 1695.373179322449, 1672.5654724902527, 1653.1955109642954, 1623.6318143067324, 1534.0053940453558, 1488.3655053332811, 1441.971599992967, 1422.046886077843, 8061.899208781773, 7755.234141779663, 7133.235423198239, 5427.712361070711, 5243.016692923593, 5161.743169772104, 5071.37427580668, 3635.778968735107, 3375.0960673897152, 3021.5530516063477, 2671.3457430041567, 2638.6431589332674, 2581.032363444025, 2519.4412263820354, 2482.721458520568, 2358.8758478731047, 2228.6686395318393, 2092.9969825725775, 2050.7773973701364, 2041.0787238525666, 2038.4616182389395, 2011.3714910378171, 1988.5744154384442, 1958.3080917607522, 1915.145311429929, 1905.4004128894958, 1815.1830073138813, 1815.1631418885681, 1800.5306620640586, 1769.0730629956677, 10406.62443395703, 5614.941753264656, 4879.912965803911, 4752.70582011108, 4745.487081331542, 4721.699003637911, 4544.42757002458, 4472.088463774496, 3942.4150781047015, 3680.834725458918, 3480.635390677773, 3449.735326575475, 3299.2083338477782, 3213.60837661734, 3179.6123135928715, 3161.358567625338, 3131.8833171761603, 3056.2196948592496, 2971.3983330665533, 2689.084429173595, 2556.2226107769343, 2463.271069549018, 2422.120422324401, 2298.615888963606, 2194.1809316878903, 2179.25629949154, 2131.6215313850576, 2058.389787889531, 1850.6644288005639, 1842.3400248034877, 2273.5992066738454, 5503.42612988601, 4940.526301461117, 4432.1040359189155, 4372.5131635256785, 4150.842993135419, 4093.2439399903255, 3900.017387647277, 3569.3823642260027, 3486.4593359879827, 3244.995317153992, 3237.4810241848127, 2754.2372258570776, 2639.1054901221555, 2448.1963530045346, 2405.544706784893, 2288.4888976825273, 2268.2238861160104, 2209.966308833861, 2173.5438743343125, 2160.93719292055, 2104.4549326886568, 2084.415362314588, 2056.1754756606097, 2043.1192603729908, 1955.870239577538, 1924.6423195602079, 1893.0451227690571, 1861.178251106857, 1855.8716970924083, 1784.9419586393856], \"Total\": [13061.0, 11656.0, 10407.0, 9441.0, 8062.0, 7756.0, 7134.0, 7172.0, 6409.0, 6618.0, 7038.0, 6316.0, 6305.0, 6227.0, 5711.0, 5685.0, 6314.0, 5615.0, 5844.0, 5704.0, 5799.0, 5504.0, 5428.0, 5243.0, 5385.0, 5204.0, 5162.0, 5072.0, 5643.0, 4941.0, 7038.289704695355, 6314.266345350729, 5643.596875831628, 4725.704527547206, 4227.836168470629, 4057.787088259194, 3349.7853654197706, 3266.3628947414486, 3205.684239708118, 3097.4903572286485, 2996.5092327643815, 2699.766526065271, 2606.6172637253144, 2569.1442708927593, 2568.842455229537, 2489.673442232661, 2418.875293964758, 2393.738562061721, 2325.4492785676443, 2321.59778470222, 2308.464280926451, 2292.7891619463308, 2265.5006473035983, 2229.669627531138, 2184.4381345674583, 2150.399128705852, 2094.9496921596724, 2009.4110124292708, 1970.2376203810643, 1960.088563749343, 4933.649358903658, 4255.332372386154, 4245.87001360412, 4212.17014171297, 3789.7705306049834, 3617.3410528116788, 3572.3556475207415, 3536.7725384087103, 3481.9397813157934, 3328.4388561413307, 3167.1543441313665, 3131.8284417603427, 3088.933226844781, 3039.9482783771105, 3019.4722526449295, 2909.086974731477, 2898.2428058088576, 2836.6001051322623, 2737.028144073115, 2674.1802675470544, 2641.0762344651976, 2630.2225511186784, 2532.1781351115583, 2530.0433335264715, 2499.6354571840875, 2345.1869479991483, 2316.176915999717, 2250.0712684109894, 2208.3332288524975, 2184.821290306682, 7172.695176678783, 6618.260270628562, 5385.38995126623, 4939.101906217231, 4864.344749237046, 4831.771784355145, 4272.036829490029, 4060.740249548063, 3919.278511299563, 3137.4421166312713, 3073.6560987804937, 3049.1981037831724, 2979.7364223944737, 2862.5590698203605, 2639.681874036532, 2517.5751166923815, 2304.9877878210145, 2204.2495672157074, 2112.799438803461, 2105.17023737007, 1982.1344752317482, 1960.1827197788007, 1906.5855828399735, 1900.4733773209257, 1733.4969036092157, 1708.1017813469716, 1647.307735714661, 1646.0754763011769, 1618.2869357665707, 1579.5094760718257, 5724.150080461364, 5844.581117421065, 5799.305899045018, 4451.086504635067, 4182.250107206632, 4024.171364866167, 3936.2008277226064, 3796.050998010625, 3703.0439230687443, 3612.610788905397, 3514.8460933051183, 3356.6459597124003, 3337.2804273548372, 3198.5894413154647, 2924.9567430670977, 2913.9548121550856, 2757.0789573587135, 2616.6328515749246, 2559.4750802197714, 2430.002976354612, 2233.513008807471, 2163.1629989274234, 2136.629645519085, 2126.8490420609, 2116.97722431967, 2055.936551294407, 2035.3591535555063, 1880.0414392771474, 1848.344513248351, 1847.5368462583378, 1793.6542565210032, 6173.172644405004, 4054.007149741595, 13061.152134166154, 5704.680994462332, 4635.149919595915, 3519.16027472685, 3140.1544895970887, 2908.1342543864894, 2844.300098028495, 2828.435049601573, 2762.0835054403615, 2755.9031035066337, 2649.9546637518615, 2644.4914053863686, 2610.643617373233, 2553.4524218761144, 2514.9751333251293, 2459.9953441462585, 2408.82505924263, 2375.6060601135755, 2322.902162459091, 2299.0900564714148, 2282.2074888356965, 2244.879745314268, 2204.690849487808, 2168.884076631528, 2063.585413338829, 2055.3696815584067, 2046.3710377487637, 1925.565264824385, 1903.6831061865312, 1885.3935103382082, 4093.89692488631, 2857.3940430994553, 6316.024893653707, 6305.301004633388, 6227.219176045882, 4930.412047056062, 4549.938703512864, 4541.219923344696, 4228.540454658389, 4097.114090366866, 3833.0389829481187, 3773.005974546725, 3033.7264883133375, 2953.66052671748, 2913.8257587539156, 2904.9489605095823, 2845.747551576593, 2830.3626928704166, 2756.567161651442, 2551.8257901475436, 2517.741111176702, 2392.699384917469, 2385.0492545594952, 2341.4614236105904, 2320.407954474151, 2273.9087156035735, 2263.487298027461, 2213.340973855494, 2182.685940284057, 2128.7820239101334, 2019.6278339346966, 1890.1953496112756, 11656.253712284097, 9441.02649969166, 6409.911828726593, 5711.218990830841, 5685.109471157953, 5204.287817898204, 4471.582846450845, 3466.262252625283, 3094.057167730891, 2983.7348925265082, 2981.9187640935, 2911.5425261859255, 2626.37514334176, 2511.2755740150405, 2321.07940742197, 2267.5262461201733, 2222.682689359796, 1931.0059782709811, 1908.1221035851138, 1890.0566191412706, 1776.6240557930673, 1741.574925073549, 1696.2460683481543, 1673.438383525272, 1654.0684293369072, 1624.5047395000024, 1534.8782921897919, 1489.238405992552, 1442.8444981234084, 1422.9198042576875, 8062.764871502944, 7756.099814087355, 7134.10107918321, 5428.5780074780005, 5243.882357890776, 5162.608816826251, 5072.239917190309, 3636.64461921269, 3375.96171627047, 3022.4186967567016, 2672.211384873345, 2639.5087893879145, 2581.897998398294, 2520.306867744799, 2483.5870830793738, 2359.7414887105206, 2229.534286077915, 2093.8626130335924, 2051.6430340968277, 2041.9443421399478, 2039.3272633112883, 2012.2371224998874, 1989.440050928799, 1959.1737396400756, 1916.0109491997127, 1906.2660621906805, 1816.0486504512116, 1816.0287793116602, 1801.3963076378113, 1769.938692044784, 10407.495573815026, 5615.812848266513, 4880.78406040979, 4753.576922125895, 4746.358178682121, 4722.570061646307, 4545.298673936201, 4472.959551633009, 3943.2861600199585, 3681.7058011063036, 3481.5064632561507, 3450.6064055230054, 3300.0793803761494, 3214.4794764894846, 3180.4833907442267, 3162.2296229004937, 3132.7543973707993, 3057.0907788185586, 2972.269414270258, 2689.955497099392, 2557.0937029180077, 2464.1421593227506, 2422.9915141123597, 2299.4869788867263, 2195.0520157762076, 2180.1273861930163, 2132.4926056323166, 2059.260858754252, 1851.5354918795258, 1843.2111000133648, 3244.0035518874984, 5504.294171571236, 4941.39433772022, 4432.972066501377, 4373.3811955827905, 4151.711012236182, 4094.111967256143, 3900.8854174095536, 3570.2503935197456, 3487.3273569584367, 3245.863345823039, 3238.349049032769, 2755.1052365623855, 2639.9735024057245, 2449.0643803105095, 2406.4127298078843, 2289.356906030992, 2269.091893728989, 2210.8343306420093, 2174.411893221238, 2161.8052002245095, 2105.322907730041, 2085.28338846494, 2057.043491028157, 2043.9872700744386, 1956.7382729608257, 1925.5103735316268, 1893.9131252888205, 1862.0462504469915, 1856.7397104576578, 1785.8099706572948], \"Category\": [\"Default\", \"Default\", \"Default\", \"Default\", \"Default\", \"Default\", \"Default\", \"Default\", \"Default\", \"Default\", \"Default\", \"Default\", \"Default\", \"Default\", \"Default\", \"Default\", \"Default\", \"Default\", \"Default\", \"Default\", \"Default\", \"Default\", \"Default\", \"Default\", \"Default\", \"Default\", \"Default\", \"Default\", \"Default\", \"Default\", \"Topic1\", \"Topic1\", \"Topic1\", \"Topic1\", \"Topic1\", \"Topic1\", \"Topic1\", \"Topic1\", \"Topic1\", \"Topic1\", \"Topic1\", \"Topic1\", \"Topic1\", \"Topic1\", \"Topic1\", \"Topic1\", \"Topic1\", \"Topic1\", \"Topic1\", \"Topic1\", \"Topic1\", \"Topic1\", \"Topic1\", \"Topic1\", \"Topic1\", \"Topic1\", \"Topic1\", \"Topic1\", \"Topic1\", \"Topic1\", \"Topic2\", \"Topic2\", \"Topic2\", \"Topic2\", \"Topic2\", \"Topic2\", \"Topic2\", \"Topic2\", \"Topic2\", \"Topic2\", \"Topic2\", \"Topic2\", \"Topic2\", \"Topic2\", \"Topic2\", \"Topic2\", \"Topic2\", \"Topic2\", \"Topic2\", \"Topic2\", \"Topic2\", \"Topic2\", \"Topic2\", \"Topic2\", \"Topic2\", \"Topic2\", \"Topic2\", \"Topic2\", \"Topic2\", \"Topic2\", \"Topic3\", \"Topic3\", \"Topic3\", \"Topic3\", \"Topic3\", \"Topic3\", \"Topic3\", \"Topic3\", \"Topic3\", \"Topic3\", \"Topic3\", \"Topic3\", \"Topic3\", \"Topic3\", \"Topic3\", \"Topic3\", \"Topic3\", \"Topic3\", \"Topic3\", \"Topic3\", \"Topic3\", \"Topic3\", \"Topic3\", \"Topic3\", \"Topic3\", \"Topic3\", \"Topic3\", \"Topic3\", \"Topic3\", \"Topic3\", \"Topic3\", \"Topic4\", \"Topic4\", \"Topic4\", \"Topic4\", \"Topic4\", \"Topic4\", \"Topic4\", \"Topic4\", \"Topic4\", \"Topic4\", \"Topic4\", \"Topic4\", \"Topic4\", \"Topic4\", \"Topic4\", \"Topic4\", \"Topic4\", \"Topic4\", \"Topic4\", \"Topic4\", \"Topic4\", \"Topic4\", \"Topic4\", \"Topic4\", \"Topic4\", \"Topic4\", \"Topic4\", \"Topic4\", \"Topic4\", \"Topic4\", \"Topic4\", \"Topic4\", \"Topic5\", \"Topic5\", \"Topic5\", \"Topic5\", \"Topic5\", \"Topic5\", \"Topic5\", \"Topic5\", \"Topic5\", \"Topic5\", \"Topic5\", \"Topic5\", \"Topic5\", \"Topic5\", \"Topic5\", \"Topic5\", \"Topic5\", \"Topic5\", \"Topic5\", \"Topic5\", \"Topic5\", \"Topic5\", \"Topic5\", \"Topic5\", \"Topic5\", \"Topic5\", \"Topic5\", \"Topic5\", \"Topic5\", \"Topic5\", \"Topic5\", \"Topic5\", \"Topic6\", \"Topic6\", \"Topic6\", \"Topic6\", \"Topic6\", \"Topic6\", \"Topic6\", \"Topic6\", \"Topic6\", \"Topic6\", \"Topic6\", \"Topic6\", \"Topic6\", \"Topic6\", \"Topic6\", \"Topic6\", \"Topic6\", \"Topic6\", \"Topic6\", \"Topic6\", \"Topic6\", \"Topic6\", \"Topic6\", \"Topic6\", \"Topic6\", \"Topic6\", \"Topic6\", \"Topic6\", \"Topic6\", \"Topic6\", \"Topic7\", \"Topic7\", \"Topic7\", \"Topic7\", \"Topic7\", \"Topic7\", \"Topic7\", \"Topic7\", \"Topic7\", \"Topic7\", \"Topic7\", \"Topic7\", \"Topic7\", \"Topic7\", \"Topic7\", \"Topic7\", \"Topic7\", \"Topic7\", \"Topic7\", \"Topic7\", \"Topic7\", \"Topic7\", \"Topic7\", \"Topic7\", \"Topic7\", \"Topic7\", \"Topic7\", \"Topic7\", \"Topic7\", \"Topic7\", \"Topic8\", \"Topic8\", \"Topic8\", \"Topic8\", \"Topic8\", \"Topic8\", \"Topic8\", \"Topic8\", \"Topic8\", \"Topic8\", \"Topic8\", \"Topic8\", \"Topic8\", \"Topic8\", \"Topic8\", \"Topic8\", \"Topic8\", \"Topic8\", \"Topic8\", \"Topic8\", \"Topic8\", \"Topic8\", \"Topic8\", \"Topic8\", \"Topic8\", \"Topic8\", \"Topic8\", \"Topic8\", \"Topic8\", \"Topic8\", \"Topic9\", \"Topic9\", \"Topic9\", \"Topic9\", \"Topic9\", \"Topic9\", \"Topic9\", \"Topic9\", \"Topic9\", \"Topic9\", \"Topic9\", \"Topic9\", \"Topic9\", \"Topic9\", \"Topic9\", \"Topic9\", \"Topic9\", \"Topic9\", \"Topic9\", \"Topic9\", \"Topic9\", \"Topic9\", \"Topic9\", \"Topic9\", \"Topic9\", \"Topic9\", \"Topic9\", \"Topic9\", \"Topic9\", \"Topic9\", \"Topic9\", \"Topic10\", \"Topic10\", \"Topic10\", \"Topic10\", \"Topic10\", \"Topic10\", \"Topic10\", \"Topic10\", \"Topic10\", \"Topic10\", \"Topic10\", \"Topic10\", \"Topic10\", \"Topic10\", \"Topic10\", \"Topic10\", \"Topic10\", \"Topic10\", \"Topic10\", \"Topic10\", \"Topic10\", \"Topic10\", \"Topic10\", \"Topic10\", \"Topic10\", \"Topic10\", \"Topic10\", \"Topic10\", \"Topic10\", \"Topic10\"], \"logprob\": [30.0, 29.0, 28.0, 27.0, 26.0, 25.0, 24.0, 23.0, 22.0, 21.0, 20.0, 19.0, 18.0, 17.0, 16.0, 15.0, 14.0, 13.0, 12.0, 11.0, 10.0, 9.0, 8.0, 7.0, 6.0, 5.0, 4.0, 3.0, 2.0, 1.0, -3.3381, -3.4466, -3.5589, -3.7365, -3.8478, -3.8889, -4.0807, -4.1059, -4.1246, -4.159, -4.1921, -4.2965, -4.3316, -4.3461, -4.3462, -4.3775, -4.4064, -4.4168, -4.4458, -4.4474, -4.4531, -4.4599, -4.4719, -4.4878, -4.5083, -4.524, -4.5502, -4.5919, -4.6116, -4.6168, -3.5485, -3.6964, -3.6986, -3.7066, -3.8123, -3.8589, -3.8714, -3.8814, -3.897, -3.9421, -3.9918, -4.003, -4.0168, -4.0328, -4.0396, -4.0768, -4.0806, -4.1021, -4.1378, -4.161, -4.1735, -4.1776, -4.2156, -4.2165, -4.2286, -4.2924, -4.3048, -4.3338, -4.3525, -4.3632, -3.1583, -3.2388, -3.445, -3.5315, -3.5468, -3.5535, -3.6766, -3.7274, -3.7628, -3.9854, -4.0059, -4.0139, -4.037, -4.0771, -4.1582, -4.2056, -4.2938, -4.3385, -4.3809, -4.3845, -4.4448, -4.4559, -4.4836, -4.4869, -4.5789, -4.5936, -4.6299, -4.6306, -4.6477, -4.6719, -3.7375, -3.359, -3.3668, -3.6315, -3.6938, -3.7323, -3.7544, -3.7907, -3.8155, -3.8402, -3.8677, -3.9137, -3.9195, -3.962, -4.0514, -4.0552, -4.1105, -4.1628, -4.1849, -4.2369, -4.3212, -4.3532, -4.3656, -4.3702, -4.3748, -4.4041, -4.4142, -4.4936, -4.5106, -4.511, -4.5406, -3.4975, -3.9156, -2.5027, -3.3312, -3.5388, -3.8143, -3.9283, -4.0051, -4.0273, -4.0329, -4.0566, -4.0589, -4.0981, -4.1002, -4.113, -4.1352, -4.1504, -4.1725, -4.1935, -4.2074, -4.2299, -4.2402, -4.2475, -4.264, -4.2821, -4.2985, -4.3483, -4.3523, -4.3567, -4.4175, -4.429, -4.4386, -3.9186, -4.217, -3.2131, -3.2148, -3.2273, -3.4608, -3.5411, -3.543, -3.6144, -3.646, -3.7126, -3.7284, -3.9465, -3.9733, -3.9869, -3.9899, -4.0105, -4.0159, -4.0424, -4.1196, -4.133, -4.184, -4.1872, -4.2056, -4.2147, -4.2349, -4.2395, -4.2619, -4.2759, -4.3009, -4.3536, -4.4198, -2.5961, -2.8069, -3.1941, -3.3095, -3.3141, -3.4025, -3.5543, -3.809, -3.9226, -3.9589, -3.9596, -3.9834, -4.0866, -4.1314, -4.2102, -4.2335, -4.2535, -4.3942, -4.4062, -4.4157, -4.4776, -4.4975, -4.5239, -4.5375, -4.5491, -4.5672, -4.6239, -4.6541, -4.6858, -4.6997, -2.9598, -2.9986, -3.0822, -3.3554, -3.3901, -3.4057, -3.4233, -3.7561, -3.8305, -3.9412, -4.0644, -4.0767, -4.0988, -4.1229, -4.1376, -4.1888, -4.2455, -4.3084, -4.3287, -4.3335, -4.3348, -4.3481, -4.3595, -4.3749, -4.3972, -4.4023, -4.4508, -4.4508, -4.4589, -4.4765, -2.6882, -3.3052, -3.4455, -3.4719, -3.4734, -3.4785, -3.5167, -3.5328, -3.6588, -3.7275, -3.7834, -3.7923, -3.837, -3.8632, -3.8739, -3.8796, -3.889, -3.9135, -3.9416, -4.0414, -4.0921, -4.1292, -4.146, -4.1983, -4.2448, -4.2517, -4.2738, -4.3087, -4.4151, -4.4196, -4.2093, -3.3074, -3.4153, -3.5239, -3.5374, -3.5895, -3.6034, -3.6518, -3.7404, -3.7639, -3.8357, -3.838, -3.9996, -4.0423, -4.1174, -4.135, -4.1849, -4.1938, -4.2198, -4.2364, -4.2422, -4.2687, -4.2783, -4.2919, -4.2983, -4.3419, -4.358, -4.3746, -4.3916, -4.3944, -4.4334], \"loglift\": [30.0, 29.0, 28.0, 27.0, 26.0, 25.0, 24.0, 23.0, 22.0, 21.0, 20.0, 19.0, 18.0, 17.0, 16.0, 15.0, 14.0, 13.0, 12.0, 11.0, 10.0, 9.0, 8.0, 7.0, 6.0, 5.0, 4.0, 3.0, 2.0, 1.0, 2.1119, 2.1119, 2.1119, 2.1119, 2.1119, 2.1119, 2.1118, 2.1118, 2.1118, 2.1118, 2.1118, 2.1117, 2.1117, 2.1117, 2.1117, 2.1117, 2.1117, 2.1117, 2.1117, 2.1117, 2.1117, 2.1117, 2.1117, 2.1117, 2.1117, 2.1117, 2.1117, 2.1116, 2.1116, 2.1116, 2.2568, 2.2568, 2.2568, 2.2568, 2.2568, 2.2568, 2.2568, 2.2568, 2.2568, 2.2567, 2.2567, 2.2567, 2.2567, 2.2567, 2.2567, 2.2567, 2.2567, 2.2567, 2.2567, 2.2567, 2.2567, 2.2567, 2.2567, 2.2567, 2.2567, 2.2566, 2.2566, 2.2566, 2.2566, 2.2566, 2.2727, 2.2727, 2.2727, 2.2727, 2.2727, 2.2727, 2.2727, 2.2726, 2.2726, 2.2726, 2.2726, 2.2726, 2.2726, 2.2726, 2.2725, 2.2725, 2.2725, 2.2725, 2.2724, 2.2724, 2.2724, 2.2724, 2.2724, 2.2724, 2.2724, 2.2724, 2.2723, 2.2723, 2.2723, 2.2723, 1.9191, 2.2768, 2.2768, 2.2768, 2.2768, 2.2767, 2.2767, 2.2767, 2.2767, 2.2767, 2.2767, 2.2767, 2.2767, 2.2767, 2.2767, 2.2767, 2.2766, 2.2766, 2.2766, 2.2766, 2.2766, 2.2766, 2.2766, 2.2766, 2.2766, 2.2765, 2.2765, 2.2765, 2.2765, 2.2765, 2.2765, 2.0836, 2.0861, 2.329, 2.3289, 2.3289, 2.3288, 2.3288, 2.3288, 2.3288, 2.3288, 2.3288, 2.3288, 2.3287, 2.3287, 2.3287, 2.3287, 2.3287, 2.3287, 2.3287, 2.3287, 2.3287, 2.3287, 2.3287, 2.3287, 2.3287, 2.3287, 2.3286, 2.3286, 2.3286, 2.3286, 2.3286, 2.3286, 2.0732, 2.1345, 2.3452, 2.3452, 2.3452, 2.3451, 2.3451, 2.3451, 2.3451, 2.3451, 2.3451, 2.3451, 2.345, 2.345, 2.345, 2.345, 2.345, 2.345, 2.345, 2.345, 2.345, 2.345, 2.345, 2.345, 2.345, 2.3449, 2.3449, 2.3449, 2.3449, 2.3449, 2.3449, 2.3449, 2.3495, 2.3495, 2.3494, 2.3494, 2.3494, 2.3494, 2.3493, 2.3493, 2.3493, 2.3492, 2.3492, 2.3492, 2.3492, 2.3492, 2.3492, 2.3492, 2.3491, 2.3491, 2.3491, 2.3491, 2.3491, 2.349, 2.349, 2.349, 2.349, 2.349, 2.349, 2.349, 2.3489, 2.3489, 2.3543, 2.3543, 2.3543, 2.3543, 2.3543, 2.3542, 2.3542, 2.3542, 2.3542, 2.3541, 2.3541, 2.3541, 2.3541, 2.3541, 2.3541, 2.354, 2.354, 2.354, 2.354, 2.354, 2.354, 2.354, 2.354, 2.354, 2.354, 2.354, 2.3539, 2.3539, 2.3539, 2.3539, 2.3706, 2.3706, 2.3705, 2.3705, 2.3705, 2.3705, 2.3705, 2.3705, 2.3705, 2.3705, 2.3705, 2.3705, 2.3705, 2.3705, 2.3705, 2.3704, 2.3704, 2.3704, 2.3704, 2.3704, 2.3704, 2.3704, 2.3704, 2.3703, 2.3703, 2.3703, 2.3703, 2.3703, 2.3703, 2.3703, 2.0153, 2.3884, 2.3884, 2.3884, 2.3884, 2.3884, 2.3884, 2.3884, 2.3884, 2.3884, 2.3883, 2.3883, 2.3883, 2.3883, 2.3882, 2.3882, 2.3882, 2.3882, 2.3882, 2.3882, 2.3882, 2.3882, 2.3882, 2.3882, 2.3882, 2.3882, 2.3882, 2.3881, 2.3881, 2.3881, 2.3881]}, \"token.table\": {\"Topic\": [7, 10, 2, 3, 7, 8, 1, 10, 9, 3, 6, 10, 3, 8, 7, 3, 7, 7, 6, 1, 10, 8, 5, 8, 5, 8, 4, 3, 7, 4, 1, 9, 6, 10, 9, 2, 2, 6, 7, 7, 6, 4, 10, 4, 4, 2, 5, 8, 1, 8, 1, 9, 9, 6, 2, 7, 2, 8, 4, 8, 7, 2, 9, 9, 9, 3, 3, 10, 7, 2, 9, 2, 7, 3, 5, 8, 9, 3, 1, 8, 7, 4, 6, 2, 6, 6, 6, 3, 5, 2, 1, 1, 3, 8, 4, 10, 2, 4, 5, 7, 1, 10, 10, 7, 8, 2, 4, 9, 5, 5, 2, 6, 10, 9, 8, 5, 4, 2, 5, 9, 2, 5, 6, 9, 9, 4, 3, 2, 8, 8, 10, 9, 10, 3, 7, 6, 4, 4, 3, 4, 5, 6, 7, 7, 2, 2, 6, 9, 6, 2, 2, 5, 1, 6, 3, 1, 6, 4, 6, 8, 5, 8, 4, 1, 7, 1, 5, 7, 4, 6, 9, 7, 6, 7, 5, 6, 10, 7, 1, 3, 2, 3, 1, 7, 6, 9, 5, 5, 10, 3, 7, 2, 10, 1, 3, 9, 4, 4, 10, 6, 2, 10, 8, 5, 3, 2, 5, 4, 1, 3, 4, 4, 5, 1, 9, 1, 3, 6, 8, 6, 6, 4, 4, 9, 1, 4, 9, 4, 2, 7, 4, 8, 1, 5, 2, 8, 2, 10, 7, 8, 4, 10, 9, 2, 1, 5, 2, 7, 10, 3, 9, 1, 1, 3, 10, 3, 7, 6, 8, 10, 10, 1, 10, 5, 10, 8, 9, 6, 8, 1, 3, 4, 3, 8, 10, 1, 5, 10, 1, 10, 3, 1, 9, 5, 5, 9, 1, 5, 9, 5, 3, 4, 1, 6, 8, 10, 5, 3, 4, 8, 1, 9, 5, 9, 9, 10, 5, 7, 8, 3, 1, 2], \"Freq\": [0.9996918882886539, 0.9999201970753052, 0.999571186442224, 0.9996070757811092, 0.9996358461843656, 0.9996865760338709, 0.9998942384006584, 0.9996226172940932, 0.9995722867266227, 0.9992047542755692, 0.9993676052522712, 0.9995187970429904, 0.9995714563755028, 0.999822743413177, 0.9994920613140831, 0.9998095767502293, 0.9998924429482197, 0.9998912724488493, 0.9997077004650573, 0.9996996741028942, 0.9998105725863061, 0.9998614696378265, 0.9994709118949073, 0.9993852004388277, 0.999670297844863, 0.9997799997501211, 0.9995444648844746, 0.9997416832523499, 0.9996892963820113, 0.9998235429089363, 0.2990132361093171, 0.7009856689820486, 0.9998241884693747, 0.9999128373298043, 0.9997591903880392, 0.9996263519307197, 0.9997884421102655, 0.9997763701307225, 0.9997525467569693, 0.9996698820904736, 0.9996326425621084, 0.999616326112621, 0.9994381179056426, 0.9994623618617737, 0.9995383869469905, 0.9996355264044818, 0.9996574847810288, 0.9998935250673004, 0.99981675879376, 0.9994225647804363, 0.9997865542402328, 0.999572914129465, 0.9996738354844752, 0.9997847136019339, 0.9995876222700829, 0.999857163077898, 0.999796681461645, 0.9995375279725018, 0.999807557984919, 0.9994335005461477, 0.999265396470827, 0.9994918712851393, 0.9998792899546506, 0.9997107849771855, 0.9994828805875491, 0.999752856531558, 0.999433109918998, 0.9997340165832459, 0.9991684299924251, 0.9996243575078534, 0.999342940147574, 0.9997221997987731, 0.9998696554506851, 0.9999030801307375, 0.9998806253210315, 0.9994723677335273, 0.9993877129510369, 0.9996216210640828, 0.9996381401029885, 0.9997636148603875, 0.9997537004616768, 0.9997180905518724, 0.9998377312200373, 0.9997457800567434, 0.9995600700666918, 0.9996003728745407, 0.9996857356931673, 0.999713351891093, 0.9997519131816959, 0.999697880537957, 0.9997994469536969, 0.9998143931977446, 0.9997769015019018, 0.9994009006877097, 0.9997231338537929, 0.9996497742785729, 0.999781569665473, 0.9996729035157988, 0.9997163125233175, 0.9995349545480787, 0.9997631935712602, 0.9994072981685742, 0.9996193770120869, 0.9994146991415175, 0.9997151282060354, 0.9996292711159661, 0.999587253034514, 0.9995907892757425, 0.9995953877926529, 0.9997064421369085, 0.999868381626577, 0.9997166066806037, 0.9995988405278615, 0.9996729229052586, 0.9999051353332097, 0.999641166019538, 0.9996007981553419, 0.17638449314232635, 0.8231276346641896, 0.9997882228117847, 0.9997300983432177, 0.9996099717938474, 0.9997313666007618, 0.9995364880559227, 0.9997142819362679, 0.9998309286715101, 0.9993966277904265, 0.9998435976205723, 0.9995466732608795, 0.9998317357578688, 0.9997730214259558, 0.9996111531902715, 0.9997648796501611, 0.9994276497150297, 0.9996487406601118, 0.9993941404097543, 0.999755901253787, 0.9996723311730495, 0.999444112713881, 0.9997053090036425, 0.9996122691981292, 0.9997936649443964, 0.9997380342595295, 0.9993540597728865, 0.9998681495559034, 0.9996240926842275, 0.999916427460397, 0.9996447907408051, 0.999804218221422, 0.9996868934622357, 0.9995351909981312, 0.9996723021555132, 0.9994446354264418, 0.9997333758405071, 0.9993466421700216, 0.999582748523245, 0.9997280792425368, 0.999709425953033, 0.9997936887562597, 0.9997788066402937, 0.9995258748267183, 0.9997555483946833, 0.9994460551478334, 0.9997988788779245, 0.9996583231422107, 0.9998509158701947, 0.999592381796218, 0.9997679206046353, 0.9999005715876998, 0.9997942507408011, 0.9998480134354314, 0.9998577470718853, 0.9996891338472627, 0.9994790392767805, 0.9997534641002127, 0.999872188840527, 0.9997283984255838, 0.9996928534319973, 0.2978608135764633, 0.7021129676034054, 0.9997950917947718, 0.9998046957960607, 0.9998416920887246, 0.9994409590006088, 0.9997289401561683, 0.9997854772389662, 0.9997448818961396, 0.9998201386535358, 0.9996227022433058, 0.9999275908950404, 0.9993535796923093, 0.9999004445369295, 0.9996275334038304, 0.9996914608498078, 0.999673789118105, 0.9998552572372913, 0.9997703130425262, 0.8242115186283443, 0.1755985232297809, 0.9996763924282246, 0.9993962736986074, 0.9993716366619183, 0.9994696471414501, 0.9999117892392403, 0.9993549673918712, 0.9996880610160852, 0.9998186850077923, 0.9997010921932963, 0.9997425115124768, 0.9996774466506572, 0.9996086592457449, 0.9997089177472923, 0.999608110271339, 0.9997295057973319, 0.9997690000748347, 0.9997954562671706, 0.999771559272028, 0.9997605293963922, 0.9998456597164816, 0.999871856398005, 0.9996733297133675, 0.9996352382190578, 0.8263428938978391, 0.17365534247882947, 0.9997160769059581, 0.9992725851491895, 0.9998393576933367, 0.9998143837291315, 0.9995347345057514, 0.9998136636573067, 0.9997581427694208, 0.9998072408813488, 0.22545755717228574, 0.7743233545353693, 0.9995925015525289, 0.999760359783991, 0.9995586432368162, 0.9995653930868185, 0.9994119330293352, 0.9996857754486803, 0.9997748180441329, 0.9998284875230372, 0.9998786341032561, 0.9997354766470296, 0.999806799240136, 0.999814177733621, 0.9994938791552798, 0.999427777306995, 0.9995464407352387, 0.9998590837329149, 0.9998508385282932, 0.9997655475398878, 0.9997994291710417, 0.9997572985600518, 0.9995178631603383, 0.9992061375744747, 0.9998048461223867, 0.9997056444074365, 0.9995880278733557, 0.9993845496146763, 0.9996312453875627, 0.9993718420721126, 0.9997807190104528, 0.9998461871692494, 0.999516988149147, 0.9993358418240812, 0.9995207330994225, 0.9998029334987382, 0.9994814648321105, 0.9995466754341517, 0.9997509160998651, 0.999815718357645, 0.9996928630714278, 0.9998582001116905, 0.9996016078863981, 0.9996720486973337, 0.9996116227047049, 0.9998287423584912, 0.9998060301730785, 0.999492722913877, 0.9997865412526945, 0.9998022230669995, 0.9998242611727507, 0.9997912847710303, 0.9998228195394445, 0.9996431971120661, 0.999830058002554, 0.9996866456410574, 0.9999523829905561, 0.9995429110910637, 0.9998177057623557, 0.9997592801270218, 0.9995546101066711, 0.9997373092436892, 0.9996521944713342, 0.9997349411674731, 0.9996323462425453, 0.9997235497674672, 0.9996949272216629, 0.9993491661023874, 0.999779012509136, 0.9998545275553856, 0.9996077216933422, 0.999713848253547, 0.9998082950826512, 0.9995834145694789, 0.9996397433643224, 0.9997865620574525, 0.9998820718656298, 0.999840268872457, 0.9996558070146926, 0.9995238957867562], \"Term\": [\"2015\", \"2016\", \"aboriginal\", \"abuse\", \"accuse\", \"action\", \"adelaide\", \"ahead\", \"allege\", \"amid\", \"andrew\", \"announce\", \"appeal\", \"arrest\", \"assault\", \"attack\", \"australia\", \"australian\", \"australians\", \"australias\", \"baby\", \"bank\", \"battle\", \"beach\", \"beat\", \"begin\", \"black\", \"body\", \"bomb\", \"boost\", \"break\", \"break\", \"bring\", \"brisbane\", \"budget\", \"build\", \"business\", \"campaign\", \"canberra\", \"cancer\", \"care\", \"case\", \"cattle\", \"cause\", \"celebrate\", \"centre\", \"challenge\", \"change\", \"charge\", \"chief\", \"child\", \"children\", \"china\", \"chinese\", \"christmas\", \"city\", \"claim\", \"climate\", \"close\", \"club\", \"coach\", \"coal\", \"coast\", \"come\", \"commission\", \"community\", \"company\", \"concern\", \"confirm\", \"continue\", \"cost\", \"council\", \"country\", \"court\", \"crash\", \"cricket\", \"cyclone\", \"damage\", \"darwin\", \"david\", \"dead\", \"deal\", \"death\", \"debate\", \"defend\", \"doctor\", \"domestic\", \"drop\", \"drug\", \"drum\", \"election\", \"energy\", \"face\", \"fail\", \"fall\", \"family\", \"farm\", \"farmers\", \"fatal\", \"fear\", \"federal\", \"festival\", \"fight\", \"film\", \"final\", \"flood\", \"food\", \"force\", \"free\", \"french\", \"fund\", \"future\", \"game\", \"gold\", \"government\", \"grand\", \"great\", \"green\", \"green\", \"group\", \"guilty\", \"head\", \"health\", \"hear\", \"help\", \"high\", \"history\", \"hobart\", \"hold\", \"home\", \"hospital\", \"hour\", \"house\", \"hunter\", \"increase\", \"india\", \"indigenous\", \"industry\", \"injure\", \"inquest\", \"inquiry\", \"interview\", \"investigate\", \"islamic\", \"island\", \"issue\", \"jail\", \"john\", \"kill\", \"labor\", \"land\", \"launch\", \"laws\", \"lead\", \"leader\", \"league\", \"leave\", \"liberal\", \"life\", \"light\", \"link\", \"live\", \"long\", \"look\", \"lose\", \"make\", \"march\", \"mark\", \"market\", \"media\", \"meet\", \"melbourne\", \"mental\", \"michael\", \"million\", \"minister\", \"miss\", \"mother\", \"murder\", \"murder\", \"national\", \"near\", \"need\", \"newcastle\", \"news\", \"north\", \"northern\", \"offer\", \"officer\", \"open\", \"opposition\", \"park\", \"parliament\", \"party\", \"people\", \"perth\", \"peter\", \"plan\", \"plan\", \"play\", \"plead\", \"podcast\", \"point\", \"police\", \"politics\", \"port\", \"post\", \"power\", \"premier\", \"prepare\", \"president\", \"price\", \"prison\", \"program\", \"project\", \"protest\", \"public\", \"push\", \"queensland\", \"question\", \"race\", \"rain\", \"record\", \"record\", \"release\", \"remain\", \"report\", \"rescue\", \"residents\", \"return\", \"reveal\", \"review\", \"rise\", \"rise\", \"risk\", \"river\", \"road\", \"royal\", \"rugby\", \"rule\", \"rural\", \"save\", \"school\", \"search\", \"season\", \"second\", \"seek\", \"sell\", \"senate\", \"sentence\", \"service\", \"share\", \"shark\", \"shoot\", \"sign\", \"social\", \"south\", \"speak\", \"sport\", \"stab\", \"star\", \"start\", \"state\", \"station\", \"steal\", \"stop\", \"storm\", \"street\", \"students\", \"study\", \"super\", \"support\", \"suspect\", \"sydney\", \"syria\", \"talk\", \"target\", \"tasmania\", \"tasmanian\", \"team\", \"tell\", \"test\", \"time\", \"town\", \"trade\", \"train\", \"trial\", \"truck\", \"trump\", \"turn\", \"turnbull\", \"victoria\", \"victorian\", \"violence\", \"vote\", \"wall\", \"want\", \"warn\", \"water\", \"weather\", \"week\", \"west\", \"western\", \"woman\", \"women\", \"work\", \"workers\", \"world\", \"year\", \"years\", \"young\", \"youth\"]}, \"R\": 30, \"lambda.step\": 0.01, \"plot.opts\": {\"xlab\": \"PC1\", \"ylab\": \"PC2\"}, \"topic.order\": [7, 9, 5, 6, 8, 3, 2, 1, 10, 4]};\n",
       "\n",
       "function LDAvis_load_lib(url, callback){\n",
       "  var s = document.createElement('script');\n",
       "  s.src = url;\n",
       "  s.async = true;\n",
       "  s.onreadystatechange = s.onload = callback;\n",
       "  s.onerror = function(){console.warn(\"failed to load library \" + url);};\n",
       "  document.getElementsByTagName(\"head\")[0].appendChild(s);\n",
       "}\n",
       "\n",
       "if(typeof(LDAvis) !== \"undefined\"){\n",
       "   // already loaded: just create the visualization\n",
       "   !function(LDAvis){\n",
       "       new LDAvis(\"#\" + \"ldavis_el3577620941020274403603816144\", ldavis_el3577620941020274403603816144_data);\n",
       "   }(LDAvis);\n",
       "}else if(typeof define === \"function\" && define.amd){\n",
       "   // require.js is available: use it to load d3/LDAvis\n",
       "   require.config({paths: {d3: \"https://d3js.org/d3.v5\"}});\n",
       "   require([\"d3\"], function(d3){\n",
       "      window.d3 = d3;\n",
       "      LDAvis_load_lib(\"https://cdn.jsdelivr.net/gh/bmabey/pyLDAvis@3.4.0/pyLDAvis/js/ldavis.v3.0.0.js\", function(){\n",
       "        new LDAvis(\"#\" + \"ldavis_el3577620941020274403603816144\", ldavis_el3577620941020274403603816144_data);\n",
       "      });\n",
       "    });\n",
       "}else{\n",
       "    // require.js not available: dynamically load d3 & LDAvis\n",
       "    LDAvis_load_lib(\"https://d3js.org/d3.v5.js\", function(){\n",
       "         LDAvis_load_lib(\"https://cdn.jsdelivr.net/gh/bmabey/pyLDAvis@3.4.0/pyLDAvis/js/ldavis.v3.0.0.js\", function(){\n",
       "                 new LDAvis(\"#\" + \"ldavis_el3577620941020274403603816144\", ldavis_el3577620941020274403603816144_data);\n",
       "            })\n",
       "         });\n",
       "}\n",
       "</script>"
      ],
      "text/plain": [
       "PreparedData(topic_coordinates=              x         y  topics  cluster       Freq\n",
       "topic                                                \n",
       "6      0.223140  0.179060       1        1  12.098687\n",
       "8      0.012606 -0.205456       2        1  10.466350\n",
       "4      0.206559  0.147595       3        1  10.301741\n",
       "5     -0.257275  0.138358       4        1  10.259590\n",
       "7      0.134894 -0.043333       5        1   9.738720\n",
       "2     -0.020597 -0.185935       6        1   9.581647\n",
       "1     -0.012939 -0.226003       7        1   9.541280\n",
       "0      0.013581 -0.069395       8        1   9.494899\n",
       "9     -0.041867  0.167422       9        1   9.341299\n",
       "3     -0.258101  0.097687      10        1   9.175786, topic_info=           Term          Freq         Total Category  logprob  loglift\n",
       "640      police  13061.000000  13061.000000  Default  30.0000  30.0000\n",
       "60    australia  11656.000000  11656.000000  Default  29.0000  29.0000\n",
       "927       trump  10407.000000  10407.000000  Default  28.0000  28.0000\n",
       "61   australian   9441.000000   9441.000000  Default  27.0000  27.0000\n",
       "387  government   8062.000000   8062.000000  Default  26.0000  26.0000\n",
       "..          ...           ...           ...      ...      ...      ...\n",
       "957        wall   1924.642320   1925.510374  Topic10  -4.3580   2.3882\n",
       "807        sign   1893.045123   1893.913125  Topic10  -4.3746   2.3881\n",
       "148      cattle   1861.178251   1862.046250  Topic10  -4.3916   2.3881\n",
       "874       syria   1855.871697   1856.739710  Topic10  -4.3944   2.3881\n",
       "787      senate   1784.941959   1785.809971  Topic10  -4.4334   2.3881\n",
       "\n",
       "[336 rows x 6 columns], token_table=      Topic      Freq        Term\n",
       "term                             \n",
       "2         7  0.999692        2015\n",
       "3        10  0.999920        2016\n",
       "5         2  0.999571  aboriginal\n",
       "6         3  0.999607       abuse\n",
       "11        7  0.999636      accuse\n",
       "...     ...       ...         ...\n",
       "990       7  0.999787       world\n",
       "993       8  0.999882        year\n",
       "994       3  0.999840       years\n",
       "995       1  0.999656       young\n",
       "996       2  0.999524       youth\n",
       "\n",
       "[312 rows x 3 columns], R=30, lambda_step=0.01, plot_opts={'xlab': 'PC1', 'ylab': 'PC2'}, topic_order=[7, 9, 5, 6, 8, 3, 2, 1, 10, 4])"
      ]
     },
     "execution_count": 89,
     "metadata": {},
     "output_type": "execute_result"
    }
   ],
   "source": [
    "vis"
   ]
  },
  {
   "cell_type": "markdown",
   "metadata": {},
   "source": [
    "### LDA 실습3. gensim을 이용한 토픽 모델링\n",
    "\n",
    "- 데이터셋 : 20뉴스그룹"
   ]
  },
  {
   "cell_type": "markdown",
   "metadata": {},
   "source": [
    "#### 데이터 로딩"
   ]
  },
  {
   "cell_type": "code",
   "execution_count": 135,
   "metadata": {},
   "outputs": [
    {
     "data": {
      "text/plain": [
       "11314"
      ]
     },
     "execution_count": 135,
     "metadata": {},
     "output_type": "execute_result"
    }
   ],
   "source": [
    "news20 = fetch_20newsgroups(shuffle= True, remove=('header','footer','quotes'), random_state=1)\n",
    "docs = news20.data\n",
    "len(docs)"
   ]
  },
  {
   "cell_type": "code",
   "execution_count": 136,
   "metadata": {},
   "outputs": [
    {
     "data": {
      "text/plain": [
       "['alt.atheism',\n",
       " 'comp.graphics',\n",
       " 'comp.os.ms-windows.misc',\n",
       " 'comp.sys.ibm.pc.hardware',\n",
       " 'comp.sys.mac.hardware',\n",
       " 'comp.windows.x',\n",
       " 'misc.forsale',\n",
       " 'rec.autos',\n",
       " 'rec.motorcycles',\n",
       " 'rec.sport.baseball',\n",
       " 'rec.sport.hockey',\n",
       " 'sci.crypt',\n",
       " 'sci.electronics',\n",
       " 'sci.med',\n",
       " 'sci.space',\n",
       " 'soc.religion.christian',\n",
       " 'talk.politics.guns',\n",
       " 'talk.politics.mideast',\n",
       " 'talk.politics.misc',\n",
       " 'talk.religion.misc']"
      ]
     },
     "execution_count": 136,
     "metadata": {},
     "output_type": "execute_result"
    }
   ],
   "source": [
    "news20.target_names"
   ]
  },
  {
   "cell_type": "markdown",
   "metadata": {},
   "source": [
    "#### 텍스트 전처리"
   ]
  },
  {
   "cell_type": "markdown",
   "metadata": {},
   "source": [
    "- 특수문자 제거, 길이가 3이하인 문자제거, 소문자 변환"
   ]
  },
  {
   "cell_type": "code",
   "execution_count": 137,
   "metadata": {},
   "outputs": [
    {
     "data": {
      "text/plain": [
       "0    from virginia andi beyer subject israeli terro...\n",
       "1    from timmbake ucsb bake timmons subject amusin...\n",
       "2    from cleveland freenet mark kaufman subject re...\n",
       "Name: clean_doc, dtype: object"
      ]
     },
     "execution_count": 137,
     "metadata": {},
     "output_type": "execute_result"
    }
   ],
   "source": [
    "news_df = pd.DataFrame({'document': docs})\n",
    "# 영어 제외 제거\n",
    "news_df['clean_doc'] = news_df['document'].str.replace('[^a-zA-Z]', ' ', regex=True)\n",
    "\n",
    "# 길이가 3 이하인 단어 제거\n",
    "news_df['clean_doc'] = news_df['clean_doc'].apply(lambda x: ' '.join([w for w in x.split() if len(w) > 3]))\n",
    "\n",
    "# 소문자로 통일\n",
    "news_df['clean_doc'] = news_df['clean_doc'].apply(lambda x: x.lower())\n",
    "\n",
    "news_df['clean_doc'].head(3)"
   ]
  },
  {
   "cell_type": "markdown",
   "metadata": {},
   "source": [
    "- 불용어 제거"
   ]
  },
  {
   "cell_type": "code",
   "execution_count": 138,
   "metadata": {},
   "outputs": [],
   "source": [
    "stop_words = stopwords.words('english')\n",
    "tokenize_doc = news_df['clean_doc'].apply(lambda x: x.split())\n",
    "tokenize_doc = tokenize_doc.apply(lambda x: ' '.join([item for item in x if item not in stop_words]))\n",
    "news_df['clean_doc'] = tokenize_doc"
   ]
  },
  {
   "cell_type": "markdown",
   "metadata": {},
   "source": [
    "#### TF-IDF 벡터화"
   ]
  },
  {
   "cell_type": "code",
   "execution_count": 139,
   "metadata": {},
   "outputs": [
    {
     "name": "stdout",
     "output_type": "stream",
     "text": [
      "TFIDF 크기: (11314, 1000)\n"
     ]
    }
   ],
   "source": [
    "tf = TfidfVectorizer(stop_words='english', max_features=1000, max_df=0.5, smooth_idf=True)\n",
    "x = tf.fit_transform(news_df['clean_doc'])\n",
    "\n",
    "print(f'TFIDF 크기: {x.shape}')"
   ]
  },
  {
   "cell_type": "markdown",
   "metadata": {},
   "source": [
    "#### 각 뉴스에서 단어 빈도수 기록 \n",
    "- gensim.corpora.Dictionary() 이용 :  (word_id, word_frequency)의 형태로 저장"
   ]
  },
  {
   "cell_type": "code",
   "execution_count": 140,
   "metadata": {},
   "outputs": [],
   "source": [
    "from gensim import corpora"
   ]
  },
  {
   "cell_type": "code",
   "execution_count": 141,
   "metadata": {},
   "outputs": [],
   "source": [
    "tokenize_doc = news_df['clean_doc'].apply(lambda x: x.split())\n",
    "dictionary = corpora.Dictionary(tokenize_doc)"
   ]
  },
  {
   "cell_type": "code",
   "execution_count": 142,
   "metadata": {},
   "outputs": [
    {
     "name": "stdout",
     "output_type": "stream",
     "text": [
      "[(0, 1), (1, 1), (2, 1), (3, 1), (4, 1), (5, 1), (6, 1), (7, 1), (8, 1), (9, 1), (10, 1), (11, 1), (12, 1), (13, 1), (14, 1), (15, 1), (16, 1), (17, 1), (18, 1), (19, 1), (20, 1), (21, 1), (22, 1), (23, 3), (24, 2), (25, 1), (26, 1), (27, 1), (28, 1), (29, 1), (30, 1), (31, 1), (32, 4), (33, 1), (34, 1), (35, 1), (36, 1), (37, 1), (38, 1), (39, 1), (40, 1), (41, 1), (42, 1), (43, 1), (44, 1), (45, 1), (46, 2), (47, 1), (48, 1), (49, 1), (50, 1), (51, 1), (52, 1), (53, 1), (54, 1), (55, 1), (56, 1), (57, 1), (58, 1), (59, 2), (60, 1), (61, 1), (62, 1)]\n"
     ]
    }
   ],
   "source": [
    "corpus = [dictionary.doc2bow(text) for text in tokenize_doc]\n",
    "print(corpus[0])"
   ]
  },
  {
   "cell_type": "markdown",
   "metadata": {},
   "source": [
    "#### gensim을 이용한 토픽모델링"
   ]
  },
  {
   "attachments": {},
   "cell_type": "markdown",
   "metadata": {},
   "source": [
    "총20개 토픽으로 모델링\n",
    "\n",
    "- passes : 알고리즘의 동작 횟수\n",
    "    - 알고리즘이 결정하는 토픽의 값이 적절히 수렴할 수 있도록 충분히 적당한 횟수를 정해주어야 함\n",
    "    - 총 15회 수행\n",
    "- num_words=4 : 4개의 단어만 출력"
   ]
  },
  {
   "cell_type": "code",
   "execution_count": 144,
   "metadata": {},
   "outputs": [
    {
     "name": "stdout",
     "output_type": "stream",
     "text": [
      "(0, '0.082*\"drive\" + 0.037*\"disk\" + 0.027*\"hard\" + 0.026*\"drives\"')\n",
      "(1, '0.057*\"space\" + 0.034*\"nasa\" + 0.011*\"launch\" + 0.010*\"earth\"')\n",
      "(2, '0.023*\"game\" + 0.020*\"team\" + 0.016*\"games\" + 0.014*\"play\"')\n",
      "(3, '0.012*\"health\" + 0.009*\"medical\" + 0.007*\"food\" + 0.007*\"study\"')\n",
      "(4, '0.023*\"cleveland\" + 0.021*\"cwru\" + 0.020*\"berkeley\" + 0.019*\"access\"')\n",
      "(5, '0.011*\"people\" + 0.011*\"would\" + 0.008*\"subject\" + 0.007*\"lines\"')\n",
      "(6, '0.034*\"subject\" + 0.034*\"lines\" + 0.033*\"organization\" + 0.029*\"posting\"')\n",
      "(7, '0.011*\"would\" + 0.008*\"like\" + 0.008*\"people\" + 0.008*\"time\"')\n",
      "(8, '0.013*\"baalke\" + 0.011*\"kelvin\" + 0.010*\"picture\" + 0.009*\"sleeve\"')\n",
      "(9, '0.025*\"sale\" + 0.016*\"austin\" + 0.012*\"keyboard\" + 0.012*\"shipping\"')\n",
      "(10, '0.011*\"university\" + 0.011*\"public\" + 0.010*\"information\" + 0.009*\"mail\"')\n",
      "(11, '0.028*\"subject\" + 0.027*\"lines\" + 0.025*\"organization\" + 0.013*\"windows\"')\n",
      "(12, '0.011*\"armenian\" + 0.010*\"israel\" + 0.010*\"turkish\" + 0.009*\"armenians\"')\n",
      "(13, '0.022*\"andrew\" + 0.021*\"lines\" + 0.020*\"organization\" + 0.020*\"subject\"')\n",
      "(14, '0.008*\"chip\" + 0.007*\"clipper\" + 0.007*\"government\" + 0.007*\"encryption\"')\n",
      "(15, '0.012*\"file\" + 0.011*\"available\" + 0.009*\"program\" + 0.008*\"data\"')\n",
      "(16, '0.022*\"file\" + 0.021*\"output\" + 0.020*\"entry\" + 0.010*\"guns\"')\n",
      "(17, '0.023*\"scsi\" + 0.013*\"wire\" + 0.012*\"ground\" + 0.010*\"power\"')\n",
      "(18, '0.032*\"stanford\" + 0.018*\"kent\" + 0.016*\"sandvik\" + 0.015*\"water\"')\n",
      "(19, '0.035*\"lines\" + 0.034*\"organization\" + 0.034*\"subject\" + 0.024*\"university\"')\n"
     ]
    }
   ],
   "source": [
    "import gensim\n",
    "\n",
    "ldamodel = gensim.models.ldamodel.LdaModel(corpus, num_topics= 20, id2word=dictionary, passes= 15)\n",
    "topics = ldamodel.print_topics(num_words=4)\n",
    "for topic in topics:\n",
    "    print(topic)"
   ]
  },
  {
   "cell_type": "markdown",
   "metadata": {},
   "source": [
    "#### LDA 시각화\n",
    "\n",
    "- pyLDAvis 패키지 이용"
   ]
  },
  {
   "cell_type": "code",
   "execution_count": 149,
   "metadata": {},
   "outputs": [
    {
     "data": {
      "text/html": [
       "\n",
       "<link rel=\"stylesheet\" type=\"text/css\" href=\"https://cdn.jsdelivr.net/gh/bmabey/pyLDAvis@3.4.0/pyLDAvis/js/ldavis.v1.0.0.css\">\n",
       "\n",
       "\n",
       "<div id=\"ldavis_el3577620933280969925559866626\" style=\"background-color:white;\"></div>\n",
       "<script type=\"text/javascript\">\n",
       "\n",
       "var ldavis_el3577620933280969925559866626_data = {\"mdsDat\": {\"x\": [0.2531139784453018, 0.24780776831521972, 0.19629275261832874, 0.14032446342588115, 0.1986579514218227, 0.13478065983761142, 0.09148284334204607, 0.04012875536032413, 0.04422918107790218, -0.032738056567933, -0.01755669654753669, -0.0139729796640827, -0.12480983676314424, -0.08012420605253706, -0.09714607163766505, -0.1394026176317725, -0.14482981780399662, -0.19354761824246103, -0.24483422117726802, -0.2578562317560416], \"y\": [-0.04367569535683941, -0.016083677815076542, 0.1310015921638824, 0.2183660043265932, -0.06451954421198643, -0.1511407639598557, -0.13549048051740237, -0.07453777313771881, 0.24087503547766226, -0.005796405688762283, -0.1551777923869232, -0.1518581336724558, -0.000995682450387876, 0.018300231474910857, 0.1898061947989854, -0.03885417453645269, 0.1825488278441639, -0.06299158839141085, -0.030040592029589214, -0.04973558193133733], \"topics\": [1, 2, 3, 4, 5, 6, 7, 8, 9, 10, 11, 12, 13, 14, 15, 16, 17, 18, 19, 20], \"cluster\": [1, 1, 1, 1, 1, 1, 1, 1, 1, 1, 1, 1, 1, 1, 1, 1, 1, 1, 1, 1], \"Freq\": [17.58661824298485, 15.635700133100366, 10.186597315450358, 8.682548665057075, 7.874720540151625, 7.519336728724216, 5.673472654804253, 4.094867188372327, 3.8179942113826275, 3.163388318205518, 2.904794562727036, 2.5068415898893814, 1.9959092567502137, 1.9165747768587185, 1.707844971227212, 1.312202076938579, 1.306547945621756, 1.0518503693747494, 0.5485734466675701, 0.5136170057115932]}, \"tinfo\": {\"Term\": [\"organization\", \"subject\", \"lines\", \"posting\", \"nntp\", \"host\", \"university\", \"space\", \"drive\", \"file\", \"nasa\", \"windows\", \"people\", \"hard\", \"reply\", \"game\", \"access\", \"program\", \"disk\", \"output\", \"team\", \"year\", \"mail\", \"scsi\", \"thanks\", \"system\", \"available\", \"sale\", \"distribution\", \"would\", \"jobs\", \"apartment\", \"sumgait\", \"karina\", \"economy\", \"paying\", \"helmet\", \"weaver\", \"investment\", \"mamma\", \"behanna\", \"tires\", \"income\", \"shit\", \"tire\", \"walked\", \"alcohol\", \"rare\", \"republicans\", \"deficit\", \"lyuda\", \"hawaii\", \"encore\", \"sister\", \"aged\", \"marina\", \"sorenson\", \"accidents\", \"shouting\", \"vitamin\", \"kids\", \"mile\", \"myers\", \"money\", \"hour\", \"pain\", \"cars\", \"morning\", \"went\", \"president\", \"funds\", \"door\", \"going\", \"bike\", \"started\", \"engine\", \"insurance\", \"back\", \"took\", \"front\", \"said\", \"told\", \"fire\", \"time\", \"happened\", \"around\", \"well\", \"clinton\", \"enough\", \"would\", \"think\", \"much\", \"take\", \"like\", \"people\", \"know\", \"left\", \"could\", \"getting\", \"years\", \"right\", \"still\", \"something\", \"even\", \"good\", \"make\", \"long\", \"little\", \"really\", \"want\", \"first\", \"also\", \"work\", \"last\", \"jesus\", \"bible\", \"christians\", \"christ\", \"church\", \"moral\", \"christianity\", \"belief\", \"atheism\", \"spirit\", \"holy\", \"beliefs\", \"biblical\", \"religions\", \"atheist\", \"scripture\", \"interpretation\", \"dyer\", \"doctrine\", \"easter\", \"resurrection\", \"sabbath\", \"arrogance\", \"testament\", \"worship\", \"secular\", \"taught\", \"homosexuality\", \"passages\", \"revelation\", \"christian\", \"religion\", \"faith\", \"truth\", \"lord\", \"heaven\", \"judas\", \"argument\", \"islam\", \"morality\", \"evidence\", \"koresh\", \"religious\", \"claim\", \"evil\", \"existence\", \"believe\", \"life\", \"true\", \"people\", \"atheists\", \"words\", \"word\", \"would\", \"many\", \"think\", \"question\", \"exist\", \"even\", \"must\", \"human\", \"things\", \"fact\", \"point\", \"subject\", \"mean\", \"know\", \"lines\", \"organization\", \"like\", \"also\", \"well\", \"good\", \"make\", \"time\", \"could\", \"world\", \"mouse\", \"printer\", \"cache\", \"diamond\", \"sony\", \"turbo\", \"vesa\", \"cursor\", \"svga\", \"macs\", \"nubus\", \"xpert\", \"ethernet\", \"apps\", \"uoknor\", \"megs\", \"callison\", \"printers\", \"iisi\", \"preferably\", \"hong\", \"deskjet\", \"toolkits\", \"packaging\", \"mikey\", \"studio\", \"refresh\", \"upgraded\", \"truetype\", \"xputimage\", \"windows\", \"upgrade\", \"video\", \"monitor\", \"monitors\", \"linux\", \"advance\", \"thanks\", \"memory\", \"appreciated\", \"forsale\", \"intel\", \"card\", \"microsoft\", \"hello\", \"cards\", \"drivers\", \"driver\", \"help\", \"simms\", \"problem\", \"mode\", \"please\", \"sound\", \"port\", \"anyone\", \"apple\", \"looking\", \"computer\", \"subject\", \"lines\", \"organization\", \"need\", \"email\", \"mail\", \"know\", \"university\", \"like\", \"software\", \"host\", \"posting\", \"system\", \"nntp\", \"work\", \"distribution\", \"would\", \"using\", \"reply\", \"also\", \"henry\", \"henrik\", \"magnus\", \"ingr\", \"spencer\", \"cornell\", \"cray\", \"zoology\", \"handheld\", \"intergraph\", \"dick\", \"missouri\", \"pitcher\", \"jays\", \"catbyte\", \"dtmedin\", \"umanitoba\", \"louisville\", \"cooper\", \"indians\", \"covington\", \"clarkson\", \"salmon\", \"dragon\", \"mcovingt\", \"wales\", \"plymouth\", \"clemens\", \"alchemy\", \"alberta\", \"orion\", \"ucsu\", \"uchicago\", \"colorado\", \"ford\", \"princeton\", \"rose\", \"morris\", \"boulder\", \"frank\", \"ohio\", \"doug\", \"bellcore\", \"toronto\", \"ball\", \"university\", \"jason\", \"baseball\", \"nntp\", \"host\", \"posting\", \"organization\", \"lines\", \"subject\", \"state\", \"dave\", \"distribution\", \"john\", \"dept\", \"steve\", \"washington\", \"reply\", \"smith\", \"david\", \"news\", \"article\", \"would\", \"world\", \"good\", \"like\", \"michael\", \"think\", \"never\", \"know\", \"anyone\", \"clipper\", \"encryption\", \"algorithm\", \"escrow\", \"encrypted\", \"wiretap\", \"nist\", \"convex\", \"hamburg\", \"phones\", \"vram\", \"ncsl\", \"keys\", \"bontchev\", \"classified\", \"patents\", \"gtoal\", \"config\", \"arens\", \"denning\", \"decrypt\", \"shearson\", \"ctrl\", \"sequences\", \"scheme\", \"vesselin\", \"mime\", \"rwing\", \"limiting\", \"hades\", \"cipher\", \"secure\", \"crypto\", \"chip\", \"agencies\", \"brad\", \"enforcement\", \"judges\", \"oracle\", \"privacy\", \"security\", \"announcement\", \"secret\", \"random\", \"lance\", \"government\", \"devices\", \"bits\", \"block\", \"communications\", \"technology\", \"public\", \"system\", \"data\", \"number\", \"message\", \"chips\", \"information\", \"used\", \"phone\", \"using\", \"would\", \"subject\", \"code\", \"access\", \"lines\", \"need\", \"organization\", \"make\", \"even\", \"first\", \"people\", \"motif\", \"widget\", \"jpeg\", \"contrib\", \"xterm\", \"visual\", \"umich\", \"widgets\", \"formats\", \"clients\", \"larc\", \"toolkit\", \"binaries\", \"telescope\", \"sunos\", \"platforms\", \"openwindows\", \"interactive\", \"colormap\", \"resource\", \"xview\", \"pixmap\", \"hulman\", \"engin\", \"servers\", \"bitmap\", \"readme\", \"dresden\", \"defaults\", \"titan\", \"images\", \"imaging\", \"directory\", \"image\", \"server\", \"xlib\", \"format\", \"libraries\", \"processing\", \"available\", \"files\", \"display\", \"window\", \"export\", \"sites\", \"file\", \"data\", \"graphics\", \"program\", \"application\", \"archive\", \"version\", \"software\", \"based\", \"code\", \"color\", \"source\", \"sources\", \"include\", \"list\", \"also\", \"programs\", \"information\", \"user\", \"using\", \"system\", \"info\", \"armenian\", \"israel\", \"turkish\", \"armenians\", \"israeli\", \"armenia\", \"turkey\", \"turks\", \"soviet\", \"arab\", \"argic\", \"serdar\", \"soldiers\", \"nazi\", \"azerbaijan\", \"zuma\", \"sera\", \"palestinian\", \"villages\", \"sdpa\", \"arabs\", \"candida\", \"karabakh\", \"nazis\", \"extermination\", \"civilians\", \"azeri\", \"ottoman\", \"cyprus\", \"palestine\", \"troops\", \"greece\", \"genocide\", \"jews\", \"greek\", \"jewish\", \"muslim\", \"russian\", \"killed\", \"german\", \"population\", \"anti\", \"military\", \"government\", \"uucp\", \"world\", \"people\", \"said\", \"children\", \"history\", \"states\", \"today\", \"ripem\", \"urbana\", \"borland\", \"uiuc\", \"cryptographic\", \"harley\", \"prevention\", \"cryptology\", \"uicvm\", \"ciphertext\", \"bulletin\", \"cryptanalysis\", \"ieee\", \"paradox\", \"patent\", \"johns\", \"publish\", \"anon\", \"cipriani\", \"cryptosystem\", \"authentication\", \"overhead\", \"wordperfect\", \"decryption\", \"implementations\", \"ferguson\", \"champaign\", \"cryptosystems\", \"nationwide\", \"orleans\", \"marc\", \"academic\", \"hopkins\", \"illinois\", \"proceedings\", \"rockwell\", \"creative\", \"journal\", \"newsgroups\", \"conference\", \"crypt\", \"ncsu\", \"public\", \"service\", \"june\", \"denver\", \"information\", \"internet\", \"usenet\", \"send\", \"mail\", \"electronic\", \"address\", \"national\", \"anonymous\", \"april\", \"list\", \"news\", \"university\", \"books\", \"email\", \"group\", \"users\", \"computer\", \"network\", \"center\", \"research\", \"please\", \"part\", \"available\", \"caltech\", \"gatech\", \"prism\", \"maynard\", \"blah\", \"laurentian\", \"rockefeller\", \"polytechnic\", \"hawks\", \"liar\", \"habs\", \"ists\", \"allan\", \"cactus\", \"ramsey\", \"nuntius\", \"useragent\", \"xxdate\", \"dcoleman\", \"offset\", \"alomar\", \"astros\", \"stpl\", \"cluster\", \"rtsg\", \"hiram\", \"erich\", \"nords\", \"beaverton\", \"utxvms\", \"schneider\", \"evans\", \"keith\", \"hanging\", \"rutgers\", \"institute\", \"pasadena\", \"rochester\", \"technology\", \"posting\", \"nntp\", \"host\", \"scott\", \"organization\", \"lines\", \"subject\", \"california\", \"bradley\", \"distribution\", \"paul\", \"craig\", \"vnet\", \"reply\", \"world\", \"georgia\", \"university\", \"opinions\", \"jeff\", \"disclaimer\", \"article\", \"john\", \"think\", \"please\", \"little\", \"good\", \"computer\", \"hockey\", \"season\", \"gordon\", \"teams\", \"detroit\", \"montreal\", \"puck\", \"playoff\", \"playoffs\", \"scorer\", \"scoring\", \"ericsson\", \"leafs\", \"flyers\", \"devils\", \"islanders\", \"scored\", \"quebec\", \"sharks\", \"coach\", \"lemieux\", \"hartford\", \"skepticism\", \"bruins\", \"intellect\", \"cadre\", \"score\", \"saves\", \"shameful\", \"chastity\", \"game\", \"espn\", \"rangers\", \"team\", \"games\", \"pitt\", \"league\", \"banks\", \"play\", \"wings\", \"player\", \"players\", \"kings\", \"calgary\", \"pittsburgh\", \"played\", \"period\", \"fans\", \"year\", \"goal\", \"flames\", \"first\", \"second\", \"power\", \"division\", \"third\", \"last\", \"chicago\", \"points\", \"patients\", \"cancer\", \"diseases\", \"aids\", \"syndrome\", \"clinical\", \"foods\", \"hicnet\", \"infection\", \"illness\", \"disciples\", \"redesign\", \"oulu\", \"conductor\", \"suck\", \"gamma\", \"meat\", \"bishop\", \"glutamate\", \"restaurant\", \"protein\", \"apostles\", \"infectious\", \"mangoe\", \"immune\", \"schism\", \"cosmic\", \"transfers\", \"genes\", \"unity\", \"disease\", \"patient\", \"diet\", \"sensitivity\", \"therapy\", \"medical\", \"symptoms\", \"genetic\", \"health\", \"acid\", \"chinese\", \"food\", \"superstition\", \"treatment\", \"medicine\", \"study\", \"subjective\", \"married\", \"drug\", \"risk\", \"among\", \"scientific\", \"effects\", \"doctors\", \"cause\", \"reported\", \"natural\", \"studies\", \"theory\", \"blood\", \"years\", \"research\", \"results\", \"page\", \"high\", \"number\", \"doctor\", \"center\", \"three\", \"printf\", \"char\", \"stratus\", \"firearms\", \"filename\", \"militia\", \"weapon\", \"tobacco\", \"uuencode\", \"smokeless\", \"handgun\", \"prog\", \"firearm\", \"handguns\", \"homicide\", \"argv\", \"veal\", \"laptop\", \"regulated\", \"utkvm\", \"mccall\", \"homicides\", \"ireland\", \"manes\", \"argc\", \"creed\", \"volvo\", \"shah\", \"sternlight\", \"imag\", \"contest\", \"entries\", \"entry\", \"amendment\", \"output\", \"remark\", \"guns\", \"stream\", \"null\", \"weapons\", \"rules\", \"constitution\", \"crime\", \"section\", \"file\", \"build\", \"control\", \"check\", \"define\", \"program\", \"input\", \"line\", \"year\", \"info\", \"open\", \"states\", \"launch\", \"orbit\", \"moon\", \"radar\", \"lunar\", \"duke\", \"alaska\", \"satellite\", \"detector\", \"satellites\", \"mars\", \"spacecraft\", \"polygon\", \"mcrcim\", \"orbital\", \"shuttle\", \"livesey\", \"acad\", \"solntze\", \"gerard\", \"aerospace\", \"exploration\", \"detectors\", \"payload\", \"halat\", \"aurora\", \"antenna\", \"nsmca\", \"kidney\", \"planetary\", \"flight\", \"space\", \"launched\", \"mission\", \"nasa\", \"solar\", \"earth\", \"mcgill\", \"station\", \"radio\", \"project\", \"vehicle\", \"cost\", \"high\", \"organization\", \"first\", \"lines\", \"subject\", \"science\", \"austin\", \"curt\", \"tamu\", \"ccwf\", \"novell\", \"socket\", \"muenchen\", \"countersteering\", \"howland\", \"comics\", \"dortmund\", \"albany\", \"keyboards\", \"connectors\", \"hulk\", \"warwick\", \"intake\", \"coprocessor\", \"soundblaster\", \"waters\", \"wolverine\", \"plugs\", \"rainer\", \"archer\", \"midi\", \"cousineau\", \"noring\", \"kris\", \"mint\", \"castle\", \"shipping\", \"dartmouth\", \"utexas\", \"sale\", \"keyboard\", \"centris\", \"gateway\", \"sync\", \"cable\", \"eisa\", \"offer\", \"condition\", \"typing\", \"baud\", \"texas\", \"asking\", \"motherboard\", \"price\", \"factory\", \"modem\", \"manuals\", \"cover\", \"supply\", \"sell\", \"selling\", \"apple\", \"power\", \"copies\", \"mail\", \"original\", \"lines\", \"subject\", \"organization\", \"distribution\", \"plus\", \"included\", \"mellon\", \"carnegie\", \"udel\", \"fnal\", \"pitching\", \"cubs\", \"intercon\", \"walker\", \"phillies\", \"amanda\", \"higgins\", \"delaware\", \"yankees\", \"beam\", \"reds\", \"oasys\", \"tigers\", \"giants\", \"kirk\", \"nswc\", \"icons\", \"ravel\", \"chopin\", \"freshman\", \"init\", \"beckman\", \"bonds\", \"uvic\", \"mahan\", \"orioles\", \"cunixb\", \"andrew\", \"navy\", \"virginia\", \"braves\", \"gary\", \"columbia\", \"dare\", \"iowa\", \"accelerator\", \"mets\", \"east\", \"buffalo\", \"williams\", \"pittsburgh\", \"lines\", \"organization\", \"subject\", \"reply\", \"host\", \"nntp\", \"posting\", \"university\", \"engineering\", \"robert\", \"wiring\", \"psuvm\", \"outlet\", \"outlets\", \"exhaust\", \"grounded\", \"crashes\", \"powerpc\", \"rows\", \"fuse\", \"hallam\", \"asynchronous\", \"cacs\", \"phill\", \"partition\", \"khan\", \"wire\", \"impulse\", \"graeme\", \"amongst\", \"utrecht\", \"kawasaki\", \"fraering\", \"logos\", \"radiosity\", \"dbstu\", \"atlantaga\", \"dante\", \"messenger\", \"southwestern\", \"circuit\", \"voltage\", \"panix\", \"aluminum\", \"allah\", \"darren\", \"nmsu\", \"penn\", \"obfuscate\", \"scsi\", \"wires\", \"neutral\", \"quadra\", \"ground\", \"panel\", \"benedikt\", \"connected\", \"electrical\", \"andy\", \"power\", \"phil\", \"hole\", \"howard\", \"timing\", \"current\", \"charlie\", \"devices\", \"subject\", \"cable\", \"used\", \"cleveland\", \"cwru\", \"freenet\", \"purdue\", \"digex\", \"upenn\", \"carleton\", \"greenbelt\", \"pointer\", \"hela\", \"garnet\", \"keller\", \"deaf\", \"xsun\", \"kkeller\", \"cunixa\", \"fleury\", \"liverpool\", \"prisoners\", \"wong\", \"hemisphere\", \"czech\", \"oates\", \"turgeon\", \"wagner\", \"sussex\", \"mayo\", \"cogsci\", \"janney\", \"carb\", \"reserve\", \"gsfc\", \"berkeley\", \"reed\", \"robinson\", \"melbourne\", \"western\", \"tony\", \"joel\", \"jupiter\", \"access\", \"express\", \"pennsylvania\", \"online\", \"steve\", \"case\", \"posting\", \"nntp\", \"host\", \"university\", \"organization\", \"subject\", \"lines\", \"mark\", \"reply\", \"communications\", \"mail\", \"columbia\", \"drives\", \"jake\", \"cramer\", \"bony\", \"optilink\", \"adaptec\", \"jumper\", \"clayton\", \"livni\", \"temp\", \"journalism\", \"pyron\", \"lyme\", \"controllers\", \"toshiba\", \"seagate\", \"joystick\", \"cylinders\", \"fujitsu\", \"skndiv\", \"wade\", \"petaluma\", \"dwarner\", \"floppy\", \"brook\", \"dillon\", \"syquest\", \"interleave\", \"drive\", \"hank\", \"controller\", \"sunysb\", \"boot\", \"jumpers\", \"backup\", \"disk\", \"tape\", \"slave\", \"scsi\", \"bios\", \"hard\", \"quantum\", \"disks\", \"dseg\", \"master\", \"opinions\", \"transfer\", \"system\", \"interface\", \"standard\", \"data\", \"department\", \"kent\", \"sandvik\", \"okcforum\", \"seizures\", \"conner\", \"tourist\", \"llnl\", \"osrhe\", \"msstate\", \"alink\", \"cookamunga\", \"ksand\", \"newton\", \"towers\", \"sega\", \"auth\", \"nintendo\", \"csiro\", \"steam\", \"proton\", \"mcguire\", \"rickey\", \"salary\", \"isis\", \"hoskyns\", \"boyle\", \"festival\", \"guyd\", \"chunk\", \"usaf\", \"leland\", \"cooling\", \"tyre\", \"stanford\", \"portal\", \"emacs\", \"mono\", \"water\", \"bureau\", \"apple\", \"plants\", \"tower\", \"activities\", \"nuclear\", \"unix\", \"bill\", \"private\", \"cheers\", \"sleeve\", \"uwaterloo\", \"kelvin\", \"cure\", \"bgsu\", \"lopez\", \"sasghm\", \"theseus\", \"baalke\", \"mpeg\", \"bowling\", \"bmug\", \"marijuana\", \"bison\", \"telos\", \"parcplace\", \"acker\", \"merrill\", \"slider\", \"household\", \"monsanto\", \"obfuscation\", \"firstclass\", \"undergrad\", \"gaul\", \"jarthur\", \"brandt\", \"kirsch\", \"skrudland\", \"baden\", \"bone\", \"compaq\", \"waterloo\", \"hayes\", \"walter\", \"mykotronx\", \"yale\", \"fork\", \"galileo\", \"symbol\", \"claremont\", \"shaft\", \"picture\", \"timer\", \"marshall\", \"propulsion\", \"kennedy\", \"april\"], \"Freq\": [11813.0, 12862.0, 12450.0, 5650.0, 5070.0, 5233.0, 5725.0, 1629.0, 1130.0, 1997.0, 1093.0, 1686.0, 4696.0, 942.0, 2546.0, 917.0, 1107.0, 1776.0, 698.0, 830.0, 858.0, 1695.0, 1837.0, 683.0, 1611.0, 2359.0, 1617.0, 701.0, 2901.0, 6875.0, 274.65357518262874, 187.1052827307703, 131.66785029806795, 131.11790490867904, 115.93582849371371, 112.90120249941756, 108.60418624290978, 102.04996829655302, 96.72577179448056, 95.03160428082538, 90.19796685445685, 87.26520050973419, 86.57954406299247, 85.05017945563124, 70.16836248244965, 64.91813003376565, 64.75774944484137, 64.30234620146462, 63.50660904897445, 62.062604711417585, 61.15109828954084, 59.817931860274875, 59.41153043857264, 56.15111173656063, 53.5953877166429, 53.14662749389051, 52.61861552604581, 51.49332664686363, 50.695435603107796, 50.12816363789499, 153.52327361736823, 88.84841558026011, 196.3882041181877, 617.2332834064492, 129.99550167111863, 256.14197101679974, 288.49019812539166, 164.22134928917117, 555.7236465315437, 655.4602783413626, 141.4521924816929, 209.5528511643453, 1197.2134234302043, 360.8730344399388, 406.1554008694603, 253.14711406359768, 203.147121272864, 1079.069872296809, 389.0339187627906, 277.3872672522042, 1187.0978083157888, 467.36887610457643, 270.7825012638552, 1645.0463721312992, 300.5021538322916, 690.1850524413653, 1315.437301663563, 356.22322542912366, 588.8088925988312, 2357.737011264911, 1440.9673826875182, 1055.5095979086543, 787.0467579998287, 1743.0151968894497, 1734.0403487650103, 1513.2348951459392, 485.51765935469575, 1152.644303617374, 450.0577752099701, 774.8407039202033, 898.8808139581437, 765.309980046967, 805.9226593081729, 993.3149408916645, 1103.7785493308302, 907.5473852021149, 676.8126773767184, 608.0823061528122, 746.583890307186, 786.3475864421616, 794.6076353665457, 843.2535845722006, 710.9156545654066, 645.025289193252, 1070.8601618131472, 620.8371808768926, 545.2075910379352, 440.61780385055414, 558.1471034667568, 299.36825976786355, 296.9566033717696, 240.69086632441935, 225.64289978945234, 223.82846071079408, 210.63946658582486, 206.23838317852756, 168.52413899980462, 147.59773878492862, 140.7793418002188, 140.5939899114981, 139.09756362348034, 125.12430313795916, 123.1760038349416, 116.55162554073245, 111.2266904810295, 110.13374567901268, 107.46848915877116, 106.26630418549333, 105.34256567671406, 100.22590540443451, 99.86752296790495, 98.21352155144052, 97.93048145571129, 93.88951723960832, 783.4254771207677, 475.86294861407464, 431.06522324841774, 484.0885355086836, 260.01609188198347, 185.60715205612772, 157.6918021541505, 409.38464156324176, 254.7029803312363, 265.36923364774066, 521.8335208106914, 228.86633907603164, 309.0255208531182, 379.81966890314067, 209.5826372293456, 229.9203624705769, 988.0316050878192, 680.9677684287183, 720.2015880814145, 2105.1179079208296, 249.21422461491102, 369.1148562387691, 467.5277934316882, 2046.6311614878205, 973.7453667030311, 1194.8988857991665, 683.2767130407927, 321.44878154353506, 890.2347801979398, 653.0201160214122, 416.9883910873167, 622.6315030187822, 538.9430999904864, 617.1715989271814, 1591.660002453315, 479.0544135118416, 926.1226712741476, 1352.134764396493, 1280.267833738673, 828.8247645191129, 747.4191020390243, 688.3093867992172, 648.1829091919059, 581.0596382133089, 612.5488218983731, 595.2232741645615, 579.7871344762415, 435.8291319190772, 304.0431288697776, 138.81209917800868, 133.61699526476798, 130.08439123998076, 134.34592470889442, 121.4388507693268, 97.71814154940111, 96.51051492228972, 94.33367042354163, 112.3221023187786, 89.2925374494332, 88.754545827805, 88.40961495238581, 80.00848344519457, 67.14027817481715, 58.27065131247317, 56.91923714590449, 53.97939691160905, 52.568710420185774, 51.72043654432718, 50.82835156751431, 49.40193111546399, 48.90510431141451, 48.50133601565092, 46.647920418487814, 46.39526669748874, 45.79610096518175, 42.49010061835964, 42.054392640517335, 1613.1011048672926, 168.07185543736776, 588.2823280234331, 418.9555445650239, 148.84481549711566, 99.34797200075033, 385.4012020939769, 1396.9524428719517, 581.3470311109359, 298.83102682432514, 126.33743089051111, 139.6759817030253, 814.2051076933654, 217.48479184831837, 169.7816346059627, 273.5874884050822, 353.9553061733724, 376.35247565732726, 1018.5633462497291, 159.8939257703204, 1047.3901734973533, 337.63482890112346, 1026.4884563423625, 349.3889857267087, 243.05039548551264, 970.1231216890224, 444.6532707181607, 509.7181698278355, 972.8961907861866, 3558.6407405778805, 3465.162040822528, 3173.1501103225883, 919.6236021587874, 525.7283759027483, 729.1122514459818, 1103.7016684465846, 1299.4838259424553, 1122.2004718414214, 638.1807652930112, 1129.6476882187242, 1144.0509000147042, 755.8536009983118, 1067.7868706895986, 686.6007631083626, 773.5069500253433, 1064.711461873962, 590.0572691559274, 625.6891873284565, 635.0174320536879, 306.38784297469607, 195.79755958834903, 192.90678579648, 167.493608137439, 153.53960651812085, 146.51649552233235, 127.50878231900073, 102.88292713499067, 95.92707455894814, 91.8431784962002, 84.5856023245051, 79.70940773175762, 78.3783067447609, 77.63751541000447, 74.58281453456776, 74.58281453456776, 74.17418743476038, 73.04800943874305, 69.00740254106282, 67.59768365530091, 66.71769472227527, 65.16881593563029, 63.178117500694235, 62.261090885800066, 61.8175434406449, 61.34762039099709, 60.760646957428946, 60.713858218349245, 60.42506482613782, 59.87699509505141, 111.05966610679371, 68.9968535558453, 214.90802330046395, 572.4651672806231, 201.15187012932896, 161.29471279190312, 227.65655047204933, 130.67989900569134, 184.11116883665107, 270.82498337778117, 431.69624143133416, 223.20069430039896, 134.88340887461615, 439.4607971832386, 154.2123917683065, 2559.271523020335, 167.8471970535028, 229.79328858083642, 2081.123908983534, 2108.3695691479415, 2174.474298088915, 3705.7121656593217, 3723.908643679023, 3692.7884964317964, 868.2917356899293, 311.91659188707507, 944.2542808395959, 487.3670375772504, 338.49739581817863, 337.215006136954, 392.22572105180905, 710.0692719067044, 242.2712741779929, 389.71552750446983, 379.3681227763666, 382.67657104071316, 696.4599626203244, 473.93269442567527, 462.62945990655913, 462.63207359199714, 274.3450898994283, 352.8697755945153, 295.8241557765942, 319.3722301254747, 293.3634965946242, 676.4501117976433, 669.7752655338109, 350.6302837329379, 272.934910933372, 157.90262827098226, 157.74341681513621, 144.7839348126476, 134.1064874761752, 106.52943360007517, 104.37550888217392, 98.11713106723069, 89.12368962554568, 484.76070421249733, 81.70615098169552, 71.89498719438346, 71.81078860914432, 67.72325386616129, 67.13388656282395, 62.39519747943345, 62.2899435495504, 62.178900112182035, 57.75843449878879, 54.45914461893132, 54.0094491836771, 126.80564501715936, 52.033050367544924, 51.42192112613041, 50.99085354517686, 49.69665929217601, 49.427173674070374, 94.925665065953, 236.5546943891593, 215.4685559475503, 828.4385872223562, 184.43384408919934, 172.0130825962199, 209.64647678430032, 114.18487199589802, 132.7994263846883, 316.51727478931156, 481.1157305904264, 138.57606703151325, 277.8398546136044, 180.27557592454784, 99.14895122313148, 672.1678820721302, 171.29285874771261, 203.83597663602092, 170.27243526009, 251.71037135219288, 400.5652644538129, 450.3533877072554, 635.297198511898, 470.9421983385416, 457.9514096882928, 360.70101803695366, 183.98355032886053, 435.18834268289714, 444.45515600657063, 286.4677479202671, 359.07708398066046, 572.7430744933255, 556.5608084451309, 258.84422982759696, 273.07992214054343, 499.8264614628161, 317.59660765526405, 415.55083474612655, 308.50060759574376, 281.35078062338755, 269.38209077099833, 269.5632294166116, 530.7896596644771, 443.6443161910694, 302.4425810895027, 268.6656912384429, 257.36357584918636, 216.04232967161695, 178.8190897994181, 157.89705113901238, 155.95191992168316, 139.88806254541802, 125.9337032499308, 121.64973951853996, 114.54499708124754, 111.07279062025458, 110.54493183592984, 109.98358809140704, 102.60751627074826, 102.10294569403608, 96.40007717863986, 216.33321461997386, 95.35412106897566, 93.22847359562904, 88.69948853783603, 88.24520525429098, 134.59926706724517, 87.17159711867185, 73.32887430813486, 68.43468880208485, 66.39380387504396, 65.86039509731623, 363.58731546856524, 105.97174815420298, 379.09145056896847, 723.0455664333832, 669.3411749750542, 166.37985693826815, 407.64753780221207, 135.143971713899, 187.96920068783382, 1065.924332987778, 737.8080265330264, 490.96347288627413, 686.516815735679, 284.1078622948527, 216.09278019988417, 1083.956718612385, 792.6154084449904, 518.5953447474992, 877.4890416774927, 330.9851306917791, 224.04204663333215, 629.2116320868475, 657.027502552892, 496.28902890898684, 444.6964208228369, 363.0438731733521, 401.242279533477, 287.5816575774865, 351.26659129007925, 451.350057619866, 716.5363600529121, 345.38690651426765, 483.5394099461895, 335.14283751442184, 409.36268164585726, 383.03390470629506, 335.41019484368604, 762.1891845794377, 718.393132462092, 684.0669621561846, 651.9541926349158, 479.15821181948326, 381.9751311524349, 337.3016274775987, 307.6233623449897, 287.35661581758814, 260.0232903784272, 253.26207551277378, 248.43313601604035, 226.15770331538803, 199.47939566095584, 196.71821168266513, 152.46666709170597, 143.95171506144905, 135.20214425589143, 131.0599084770388, 124.3763442643573, 120.47927829063187, 115.6360928509032, 113.4386048256448, 111.04727344463295, 105.18059705714634, 104.99434880068429, 99.04046425149582, 96.98392484724997, 96.63470628728933, 96.03530926212824, 163.16509932085242, 140.95872044186592, 237.70430696789188, 566.8522956576335, 288.85622506535964, 342.7011272549402, 195.95331539121435, 261.0757658672648, 273.1167981672632, 162.6544787427604, 192.57309387154083, 218.23523471720748, 220.6454676318073, 364.71243114045035, 250.1616985055871, 393.9031647968132, 488.2778158625191, 335.83949286027695, 224.06158728564523, 210.30376695273134, 211.16722710568942, 211.34896756808553, 277.5458049052341, 202.48427739339633, 97.25000899758511, 419.17888687477375, 80.10552549574615, 69.42488318846398, 64.69609840965768, 64.07139086506338, 61.98863334651823, 58.787070147257005, 58.03009383422047, 57.219982444439786, 53.752056412327434, 53.55362066509326, 52.94344437280508, 52.370574048407214, 64.6236673469801, 73.7255886528003, 44.73175191187424, 44.19374888883978, 43.47245177829469, 43.43042256077633, 40.741897906433934, 40.05992762717083, 39.99615783090655, 39.42895303554809, 38.58049265161043, 38.24160689865483, 37.39526219867853, 37.13680206768313, 216.01958184570188, 159.65972864155816, 71.71511403979258, 297.64577444911276, 85.31851743999768, 66.94997149879293, 71.23293959031024, 122.34989681303415, 128.3188042651987, 199.92032918877945, 122.667806478087, 137.48446869899797, 535.3369293711424, 295.7501927351502, 113.85488641613317, 105.71697028471249, 522.8564563464353, 348.2202691188836, 196.1860818078152, 324.0637333724969, 458.0053500104648, 150.8691862340529, 256.6395760572186, 279.7704614063313, 189.93021175403277, 225.47032432229628, 290.6716741375864, 293.93599077513045, 568.7425953578045, 163.30356460931594, 241.02476169088007, 232.71136824266318, 165.7130501058958, 254.75162739911673, 169.6566375996094, 194.29855984227694, 186.81530862918933, 200.35591118082675, 180.99819705653906, 179.19214966551326, 340.49610561121375, 151.37959401478955, 123.15954090631656, 100.369963410996, 90.49908042920477, 79.93204043130238, 79.54700683130352, 72.33234844108337, 71.29433472216905, 69.25773231140612, 68.36336714590834, 68.3157532064234, 66.56658604204175, 65.48153304416313, 62.58547609453186, 62.46327232458302, 62.46327232458302, 57.40008766785443, 56.44032724022314, 55.05212424095625, 53.864361726175446, 52.555290585718346, 50.514140621027586, 49.502638644210144, 46.041466616712505, 44.68270944354696, 44.0207640679512, 43.717180308381465, 43.05644227243726, 41.555404127382694, 67.6901854994593, 79.02102116186964, 297.8803202092668, 82.81023317455617, 114.98402249766119, 492.2787355719279, 133.5068450876357, 206.19336675364266, 444.8003275605409, 1389.2435768558191, 1247.648462298192, 1249.122333919691, 170.3436674753118, 1580.6387721329118, 1596.2988901857802, 1624.2326960479868, 233.26736996531926, 90.19566519988389, 388.70422197218664, 179.02997067751352, 90.27938881727694, 84.77973291836943, 254.8437727945661, 238.17282688587542, 113.7881981588455, 281.91070326137316, 148.0033639955004, 99.50406051801613, 122.01626485164871, 149.38562146861133, 130.09726265582114, 147.28028634422958, 131.97030231589426, 120.65543558525967, 118.46951537402073, 115.60622512523032, 477.8583088771743, 461.623736510772, 323.13797070630864, 288.05842487665876, 204.20236848356302, 189.34118445529273, 140.43159462024303, 134.16188896712526, 126.52525940175641, 124.30422550910005, 120.13956033920711, 116.29187179133037, 115.67117702984116, 111.03040597818222, 109.33748637947778, 108.58807995423903, 103.3157637945345, 99.87571864639663, 96.18240718117032, 93.00977500449189, 90.41373115946118, 89.06669497102484, 85.42306618969303, 83.21714037452026, 79.8117064584357, 79.37644732433894, 119.72971940092516, 75.45553496092508, 74.9666421517616, 72.80455265231771, 896.2001686334786, 112.40946213447316, 145.31889287079167, 805.194310713588, 634.893204518525, 374.45877308209595, 356.22810320574143, 248.81697911311593, 547.9160940096386, 140.12881959106141, 261.27927512931103, 339.37609576002217, 171.81680346667986, 153.10217150826784, 311.5808957544663, 180.17309027926066, 321.51552799996244, 141.9822785367475, 438.7751225143747, 163.87068722316243, 147.1029462241592, 275.91546783641365, 203.12691143340737, 205.0472854277298, 171.48869264937878, 167.0121235089399, 168.85497933115568, 150.62316490347663, 148.42506781936353, 174.18127186176667, 136.88220039027232, 111.71799135479547, 99.05638161785993, 82.27922490348082, 68.80662998066762, 67.02273582888824, 65.98705338936914, 63.66074379200443, 62.03505291903354, 55.84171741751511, 52.443621804993356, 52.270267468127194, 50.8090395647106, 48.606956872341414, 47.621335142963986, 47.424749744270244, 47.10072141410648, 46.53904344132355, 45.28100535175292, 42.237496626836965, 41.995785962551956, 40.1976109716433, 40.03386687859507, 39.650049883698784, 38.904688453725704, 38.224589239426074, 37.16614658117108, 37.06076180775559, 36.250625821025466, 214.4468650087292, 90.05709034305268, 100.35738834350363, 77.4650308570899, 53.11716705161488, 327.37121521982596, 76.81020582731931, 60.5688265117239, 427.0283842147725, 58.62543005867768, 62.18174576583264, 250.31093285543173, 60.9614213671153, 128.831338444555, 141.6998248649027, 243.2911332013963, 61.163349994108515, 74.54523195055984, 134.55042564987906, 112.82159711424733, 178.39488032096745, 126.33924163144061, 89.21434006431052, 72.96553656210861, 150.80172630204942, 105.99852579341561, 94.75589420032965, 108.61757367512743, 109.32048355563707, 101.41412839950742, 169.57160028332947, 148.75095240036038, 101.17351917174048, 98.8012182938123, 122.78482190852095, 117.14099392665645, 92.83886496041818, 95.95715786174581, 94.62542021645686, 231.62989366599948, 228.20182129480622, 218.15480411564056, 208.45233272068154, 146.15178808693278, 141.80417232973704, 141.0173273958778, 140.5992489063988, 138.92947456234165, 86.62685999988733, 79.84342077425916, 79.73079252764016, 78.62562513667649, 70.39153670677, 61.75375851390463, 59.23446156595251, 59.126263131507265, 53.047954949820806, 50.52068361435198, 49.717628688033855, 45.99879229812421, 44.92684668445373, 42.61395866688732, 39.721400158024835, 39.06767452660549, 37.9042774178788, 36.39070383821846, 35.852026342623574, 35.24715199778858, 32.60175596570631, 179.6643148867693, 223.1864902618488, 611.44973889331, 185.11361513592234, 655.4945377763769, 141.75574552146907, 326.83025060396557, 184.485793565863, 167.5652171492789, 194.1582104448127, 256.4794347914119, 129.0877742796024, 193.92041551515175, 253.92275472745789, 676.3602954820481, 245.0641752496669, 266.5116351377212, 219.0462230921665, 144.02587006967272, 307.3042190252589, 147.9795264130087, 208.19184089916232, 226.05319187360868, 188.2215220159536, 156.72241559547095, 144.27560844050973, 269.8283615692919, 237.0351858512373, 232.0391076671592, 193.43436301073862, 185.00059250076356, 149.86831860533263, 147.64247565080632, 235.31306404498358, 110.79312917707368, 110.72574451479443, 111.47865719451016, 151.18840863449338, 97.11868756193181, 93.61284221298031, 85.23144733299698, 199.73809880000417, 79.39999344885216, 78.25503190497372, 78.11991595149405, 73.67145369140849, 72.9048376150084, 69.65164430956325, 67.77495489020245, 60.23525591094886, 59.028213127285376, 58.77911980736991, 55.543951205826616, 55.373161359207856, 51.78946893170589, 99.78000043014849, 218.6480005321976, 1408.403221357624, 88.12971573173881, 192.72338087618945, 835.6568854475842, 134.05246128656884, 253.2498859610191, 140.71053271337166, 167.48279873325666, 187.53552446431456, 132.36263374147262, 95.23591480500413, 121.1305510593294, 123.52467080079585, 138.67163829034024, 116.49770532176576, 125.9353362961004, 117.52759761810667, 104.84903244783963, 381.2392420163491, 79.24691292510964, 78.2686751442675, 69.86372323401889, 63.44135349320014, 59.31601019300461, 59.11448005144446, 57.61438749146329, 56.426531291523176, 54.5934602112033, 53.25342456721788, 52.8819296470539, 45.37941426642859, 43.19899660073365, 41.19502321169754, 38.85456804631096, 38.52062148452482, 38.29295699764179, 37.93672606626065, 37.254905905130926, 36.63488783996165, 38.58164692832113, 33.67313590709271, 32.69120348095551, 31.700861021383908, 31.662291920161795, 31.194411692671885, 29.8212684764328, 29.410103273228295, 27.20880753310697, 289.2950980456316, 99.04009303845305, 287.2535679769445, 584.2438688051215, 295.2940925017227, 93.88439859720242, 151.7832848714165, 46.328463794688176, 190.6817088011811, 76.52349335134956, 244.02382149802688, 203.18270203497582, 68.12101008547978, 54.28582274147698, 198.03221116322484, 183.98964104885366, 117.50199148720384, 246.19869164826375, 62.86302500669813, 145.39540958171594, 71.32117204267401, 122.62768496485731, 99.3822970769985, 121.60898360626413, 77.51259871497402, 114.61036014972468, 129.59984677266183, 78.25716959720751, 122.19197200575091, 97.49717365913571, 122.04686009639917, 119.67059294497312, 110.387302912251, 82.58715519513515, 78.76175496072563, 78.45313558076322, 167.19748034560902, 158.81314664168153, 147.66888234533815, 125.40462559206868, 119.01077056759107, 115.18695235968885, 109.1896922706028, 104.73535000614683, 91.29996248255674, 90.25383137362584, 86.56051755688803, 61.96040027561286, 60.73192388346676, 58.35894375420145, 54.53621802624043, 53.883755390596214, 51.20038243098193, 49.43660075435057, 46.54075280454582, 43.764919461130816, 43.360855126684335, 40.08255268887156, 39.85804558928358, 38.71889796988507, 38.607892615499004, 38.49925759655094, 38.46488402518875, 37.74826661725167, 37.4386177607993, 37.37171943028309, 133.41110953679, 475.746046366717, 193.2858815677586, 284.8684453773641, 106.78913320200772, 205.85679614024014, 291.42409618679665, 95.95342281050144, 75.44365423934101, 74.72935526168636, 61.93164481942334, 154.21875932413133, 105.14551937555876, 59.68712747853641, 128.2653510532665, 440.9132379613818, 428.88342227741754, 422.33680790840344, 214.5493179412416, 253.2466579698438, 248.86821587288546, 249.7051642614939, 173.9344333917971, 94.48412132652366, 91.6247800028079, 133.30389088190748, 75.10562833818423, 73.83569771253754, 61.15184997502476, 59.658849502524575, 47.747240245412385, 42.489178848729516, 41.97847040263434, 41.641364542739524, 37.86756784617491, 37.63285283492011, 35.27614274885672, 31.430412663969783, 31.391680907941645, 31.14851308736685, 29.36485637599132, 207.77549964958274, 28.185373278873787, 28.113318349370495, 28.052036906111265, 27.011346241333055, 26.623764708799264, 26.110152567927575, 25.702256566443893, 25.39143018877106, 25.162733365055026, 25.158318001840247, 25.023965620768088, 24.69443139663126, 24.412349508256877, 139.51393117483008, 100.05987869718263, 76.59554850137931, 49.478377873043954, 56.414657107533436, 41.748225827941944, 65.60599242285589, 50.06762091285266, 44.57064373784785, 379.83250742218314, 57.139551499785874, 97.267333330661, 92.29728655124842, 191.64906632812333, 93.81583725888478, 41.805585669034066, 86.9135287844753, 94.5678809124355, 76.62343460608719, 165.09063190317423, 72.92301459936887, 62.13645508203004, 49.55461078064295, 50.9944141974991, 88.01566421347466, 50.473370952859916, 60.211379509357755, 86.3529352799174, 56.630350923967065, 62.052732199154015, 380.5170274776363, 343.26594305588776, 257.35654612650336, 223.4395536131818, 205.41065780188364, 153.37858990882458, 94.8249508682663, 66.77623936159672, 56.14851129620942, 48.36942488899816, 47.37957002668226, 45.02352621329596, 42.582834458871474, 35.79251375671306, 35.61147917969041, 32.08274957384073, 30.89564379303, 30.21359309320523, 28.169923742839238, 25.052267804280298, 24.609818466041812, 24.270303943652312, 24.078445866328035, 23.590715193057576, 21.757497120306894, 21.10206837379215, 21.00444130870254, 19.853347680799647, 19.49449683519484, 19.404093000565084, 208.33056740666493, 95.01761824994577, 317.3745268528729, 54.101247348695736, 37.63952403966641, 54.4802627308513, 281.6911935481892, 123.00937590806801, 62.64855267878296, 58.72991233635109, 314.74950657706427, 102.1327271606661, 60.629932054569245, 91.39902938809786, 133.68652070247046, 170.7020446117146, 288.38079745788326, 273.1354699400896, 272.3023251425881, 251.97529237905613, 308.51153987911766, 306.5915068961908, 300.0212262155383, 95.5973600211682, 108.17444133427566, 75.71694980781844, 90.59891479731695, 70.37200886606517, 337.4823768099159, 126.79706124519824, 112.87363394139899, 110.34762290322108, 107.53381425318398, 94.61530991132577, 78.09023214114713, 75.20108852043631, 53.50956135666129, 48.57346757315796, 46.580175005061264, 40.71032520673532, 40.37111385216005, 40.46054520636993, 39.972913851577545, 38.36134404265994, 35.58460309662996, 34.36936696364957, 34.27109720740825, 32.57673626296163, 32.11469151880382, 30.74405112991905, 29.156399504383785, 232.66783105524297, 23.23505528209689, 21.626747735589436, 20.63629411765612, 20.08891449532469, 1076.1968588997906, 18.339286898147936, 284.14063853171706, 32.748237188359695, 98.55165955543558, 47.439883904552694, 103.40661236321044, 477.9808792862589, 263.1595447415633, 66.92527528713582, 302.2986072714837, 105.86960069313805, 348.7949712082979, 54.049997825071706, 107.98393644055396, 60.69880220822091, 75.31827422287856, 117.79618849864197, 58.48296641019395, 98.20948582911501, 63.37752305318235, 64.68498546047763, 62.848497652913096, 55.908631873206915, 119.49389323002872, 111.64357246629181, 49.78669701377063, 40.42147248978418, 37.2193077968443, 34.513426581819424, 34.05087206304679, 33.67201909555143, 32.537673646085025, 32.14869341649522, 31.692118714130185, 31.692118714130185, 81.417566275403, 28.65713165005129, 28.390723366231057, 27.437407887192272, 25.28578705833804, 22.43106780008887, 22.334463437306518, 21.518232788255432, 20.658025241906184, 20.588885797977323, 20.24548936271289, 19.781932915062615, 18.874166297805132, 18.620230520060762, 17.944096839001944, 17.761871222861394, 17.502589178031418, 17.13713284118685, 49.21610248756149, 40.26838855461248, 38.18153742599255, 215.44866312560058, 78.03003680088501, 36.53603358620901, 38.856958165583755, 100.65221896173732, 38.78700098255508, 96.01243399877377, 26.605625904658435, 29.75878976532575, 42.27173184879043, 43.303658254729754, 42.17395248225301, 42.24366196178737, 37.19582677585768, 32.001366999723395, 56.32173771655775, 45.82226690393564, 70.76924675457022, 40.90006685244118, 30.93056119570886, 28.721774417064697, 26.580972677073024, 26.580972677073024, 84.58126144395928, 24.31670071118661, 23.48317113341776, 21.27450477436972, 21.09069838416902, 20.471735713433556, 19.92155047202633, 18.499078382837773, 18.091807415445473, 17.88811395194378, 17.842431811823207, 17.13056765266889, 16.22996584651942, 15.72464656797013, 15.71044894892068, 15.410503061572127, 15.000237957555157, 14.934939316559458, 14.67609962467868, 14.53393462815076, 14.438978573289358, 14.273284182343048, 28.961442119912835, 29.3072277335201, 50.249283736218956, 40.37894138690406, 31.335655690400806, 20.804147318562407, 50.372527989538256, 19.31303011293519, 29.294002391209744, 34.87328311892951, 33.45960166025817, 32.859133060829, 63.596050625996824, 26.28521322901696, 23.173159059830063, 33.04933060959448, 23.19821822911776, 31.264982767429842], \"Total\": [11813.0, 12862.0, 12450.0, 5650.0, 5070.0, 5233.0, 5725.0, 1629.0, 1130.0, 1997.0, 1093.0, 1686.0, 4696.0, 942.0, 2546.0, 917.0, 1107.0, 1776.0, 698.0, 830.0, 858.0, 1695.0, 1837.0, 683.0, 1611.0, 2359.0, 1617.0, 701.0, 2901.0, 6875.0, 275.58505107908024, 188.03675862165684, 132.59932618895448, 132.04938079956557, 116.86730439370807, 113.83267839643979, 109.53566248966361, 102.9814441874396, 97.65724803614935, 95.96308017171197, 91.12944274534344, 88.19667642940357, 87.51101995387906, 85.98187572587918, 71.10006998872325, 65.84986601783726, 65.68922553157496, 65.23382215676614, 64.43808494355417, 62.9940806084398, 62.082574180427414, 60.749407769704355, 60.343264151812356, 57.082587638496385, 54.526863811197664, 54.07810338477709, 53.55009142458079, 52.42480254129319, 51.62691149399437, 51.05963953288699, 158.93538325068468, 91.23792731418469, 205.18716321909253, 675.7851666398324, 136.48713597007654, 276.918607404977, 315.5515091871093, 176.3863891853835, 650.0927773422952, 779.768691977106, 152.91763424495903, 235.62581016185135, 1588.1253567004999, 440.2786798973863, 510.75687525855017, 301.2527549107426, 235.6294944669767, 1684.590630263627, 525.8731039813483, 354.7241534800547, 2057.8486004410424, 666.0536741189721, 345.61795637763953, 3451.0057628385025, 402.8256641009883, 1191.1817882197581, 2847.4580284554677, 521.51382947456, 1026.4218247355052, 6875.615602568675, 3517.2809811904344, 2312.840311921403, 1539.9023593905508, 4693.6767738297485, 4696.4078781072, 4064.0809534134423, 805.4400787634468, 2871.4202726373856, 727.7968882692237, 1654.4249074687443, 2100.7828029578623, 1652.7169159584855, 1802.8208921466119, 2583.7675934392737, 3100.503391946633, 2337.8262258842274, 1401.3754715121813, 1175.2318917814032, 1720.6199064678501, 2034.806976693757, 2490.150432135356, 3773.4783556275843, 2149.0696262448732, 1547.1145148921216, 1071.791868699767, 621.7688877635121, 546.1392979486101, 441.549510737174, 559.6595379952321, 300.30022932353756, 297.8883102583894, 241.62257321514443, 226.57460668017742, 224.76016759741373, 211.57118404841236, 207.1700900651472, 169.45584588642427, 148.52944567154827, 141.71104869796798, 141.52569679811776, 140.0292705299685, 126.05601002868431, 124.10771072156132, 117.4833324334878, 112.15839736764921, 111.06545256932556, 108.40019604539089, 107.19801107211305, 106.27427256333378, 101.15761252759924, 100.79927665483584, 99.14522849553622, 98.86218834233101, 94.82122412622805, 792.5231128030906, 482.0611124481564, 441.91900613329483, 499.51063124456414, 266.1218468802402, 189.44883267220305, 160.48559660225877, 435.99899268535285, 266.8835603303601, 280.375550538039, 591.5695778956151, 242.85391300962146, 341.3509263202662, 453.0125619123413, 228.53842063923636, 256.0931335525907, 1553.0884224281508, 997.0088700655832, 1128.3121803845738, 4696.4078781072, 285.98124826208374, 505.6107717934371, 721.6195758910953, 6875.615602568675, 2462.072676137818, 3517.2809811904344, 1439.8118701557237, 421.0824226266713, 2583.7675934392737, 1507.7080589466293, 675.4200109844816, 1441.9139040623684, 1123.9562909301292, 1481.6289268129317, 12862.439197194593, 900.99803020528, 4064.0809534134423, 12450.950441223544, 11813.717545258058, 4693.6767738297485, 3773.4783556275843, 2847.4580284554677, 3100.503391946633, 2337.8262258842274, 3451.0057628385025, 2871.4202726373856, 2512.5486863734577, 436.76119748045534, 304.9751944270503, 139.7772397414149, 134.54906082229166, 131.01645693788694, 135.31436132191183, 122.37091632575667, 98.65020711578148, 97.44258047981344, 95.26802789801921, 113.46160398656052, 90.2246030641495, 89.68661138532873, 89.34168060757175, 80.94054901670188, 68.07238904818497, 59.20271686443212, 57.85130270317708, 54.91146917143651, 53.50823118323353, 52.65250211560731, 51.76041711947326, 50.33399668159321, 49.83716986337346, 49.43340157115286, 47.57998708234912, 47.33748804239859, 46.728166631437055, 43.42216617031859, 42.98645819778993, 1686.5553142740466, 172.53338488345528, 613.2971797851719, 439.96103248815047, 153.8051323317028, 103.02291980060212, 419.69356823899284, 1611.0095425890745, 651.1992374966674, 327.94666112958487, 134.64965724366638, 149.9596313916616, 985.6598185375283, 241.60396295198552, 185.4310532615547, 319.5789499392908, 430.4418807612431, 490.10285382874235, 1660.8588479080315, 181.47581881087228, 1861.5421603303812, 466.5344763091513, 1914.0849277399266, 491.14056893770555, 310.1290934745845, 1846.5680326255092, 673.3864931367518, 826.0652875595772, 2071.2334931192386, 12862.439197194593, 12450.950441223544, 11813.717545258058, 2033.297117497808, 1089.1459445434266, 1837.9798214352452, 4064.0809534134423, 5725.216826178896, 4693.6767738297485, 1627.341792307108, 5233.772464219933, 5650.333256143186, 2359.145768745348, 5070.011349794612, 2149.0696262448732, 2901.6082239251878, 6875.615602568675, 1664.4450202591486, 2546.3292347037527, 3773.4783556275843, 307.31750228287336, 196.72721891697248, 193.83644510465714, 168.42326744561615, 154.46926583040343, 147.44769494521023, 128.454241665268, 103.81258644316783, 96.8567338671253, 92.7728752942964, 85.51526163820687, 80.63906704524844, 79.30796605776557, 78.56717471818163, 75.51247384274492, 75.51247384274492, 75.10384674293755, 73.97766874692022, 69.93706185877382, 68.52734296758351, 67.64735403045243, 66.0984828964692, 64.10777680887139, 63.190750316802855, 62.74720274882206, 62.27729053343213, 61.69030626920536, 61.64351752652641, 61.36103136342473, 60.80667577616085, 112.82638705251195, 70.10743508587392, 222.63086237062345, 614.8763969470407, 213.3090409446144, 172.4720943111479, 249.9649199414321, 139.2786722652163, 203.4526273038415, 315.3315501034774, 534.124636664316, 259.0523221681339, 147.9852447165903, 599.571354999022, 182.66007099533783, 5725.216826178896, 206.4071753357922, 307.9212389916355, 5070.011349794612, 5233.772464219933, 5650.333256143186, 11813.717545258058, 12450.950441223544, 12862.439197194593, 1972.185616267619, 484.38218458524557, 2901.6082239251878, 1144.713700374555, 671.0063631200142, 670.8551059189747, 874.1286725892022, 2546.3292347037527, 420.5628379549275, 1298.0085439140228, 1256.1906608243908, 1394.5445997657334, 6875.615602568675, 2512.5486863734577, 3100.503391946633, 4693.6767738297485, 663.9276278046852, 3517.2809811904344, 1487.5666490575902, 4064.0809534134423, 1846.5680326255092, 677.382603235257, 670.7077582967364, 351.5697578160935, 273.867402370986, 158.8351197085961, 158.67590825275005, 145.71642625026143, 135.03897891378904, 107.46192503768903, 105.30800032333077, 99.04962250844379, 90.05618106315954, 490.2091527618967, 82.63864241930938, 72.82747867651828, 72.74329015844619, 68.65574530377515, 68.06637802124357, 63.32800776773096, 63.22243498716426, 63.11139296191864, 58.69092593640265, 55.391636066090875, 54.94194063602367, 128.9996227183765, 52.965541805158786, 52.35441256969071, 51.92334500488909, 50.62915072978987, 50.35966511168424, 96.89949017908468, 244.20587397570887, 222.2778287945944, 881.4635627409159, 193.66189407007886, 183.11891398506063, 227.7615758402304, 120.51359862451318, 143.75048586644573, 378.3538607062572, 611.6990064035093, 157.72198199559648, 355.80679746970134, 214.39313267843846, 107.84385506236615, 1369.8762596954439, 232.3895152084411, 311.5406776697047, 243.80812119555551, 461.8785378691582, 1055.1026290021075, 1300.1125096861003, 2359.145768745348, 1506.490247763599, 1535.4116989165725, 1025.9523935268073, 282.81089957418055, 1854.550211879985, 2145.6502162560923, 782.9419165999798, 1664.4450202591486, 6875.615602568675, 12862.439197194593, 884.2869636511463, 1107.973998687153, 12450.950441223544, 2033.297117497808, 11813.717545258058, 2337.8262258842274, 2583.7675934392737, 2490.150432135356, 4696.4078781072, 531.7223481518799, 444.5769107738873, 303.3744686956795, 269.59757881876754, 258.29547260795977, 216.99013227412166, 179.75097738947753, 158.8289493806456, 156.8838075020077, 140.82031952592413, 126.8655908333566, 122.58162715645251, 115.4768846615721, 112.0046782042723, 111.47681956122636, 110.91567608860436, 103.53940385107282, 103.03483353182152, 97.33228315936898, 218.46357158493876, 96.30619826839727, 94.16036126593484, 89.63137613323805, 89.17709284263401, 136.03703543511003, 88.10348469899641, 74.2607901936798, 69.3665763824094, 67.32569966898296, 66.79228267764078, 371.36615780841436, 107.8849333226106, 394.9814869038546, 764.4941039936962, 752.9437105610328, 174.0296042585103, 455.23037688296967, 140.61565948992273, 204.58237935700024, 1617.6477675035064, 1053.7406719223495, 657.1787315198885, 993.3354622137254, 350.61776089359154, 251.23063008781628, 1997.9066271435931, 1506.490247763599, 860.3293690784499, 1776.9482754450203, 511.90622304615, 292.6299460205342, 1482.273077442331, 1627.341792307108, 1057.3837446015777, 884.2869636511463, 656.5758683167995, 840.9215115778875, 455.74310871914975, 682.8643534945114, 1155.000827102634, 3773.4783556275843, 688.4012131370808, 1854.550211879985, 640.8998872937144, 1664.4450202591486, 2359.145768745348, 1145.5925761368271, 763.1221439270626, 719.3260919754948, 684.9999215038094, 652.8871519887546, 480.0911711671085, 382.90809050006015, 338.2345868252239, 308.5563216926149, 288.2895751707379, 260.9562497260524, 254.19503486039883, 249.3660953636654, 227.09071468588996, 200.4123550693514, 197.651171042718, 153.39962643933103, 144.8846744090741, 136.13510360351648, 131.99286782466385, 125.30930361198239, 121.41223763825695, 116.56905220263371, 114.37156417326989, 111.98023279225804, 106.11355640477143, 105.9273081545233, 99.9734235991209, 97.91688419487505, 97.56766563491442, 96.96826860975332, 166.67086739388228, 146.45935874473597, 262.1184047265432, 684.1882017053152, 364.1108993588283, 482.1849243716341, 238.84191743792877, 380.97777218570866, 408.43223849967956, 204.606663859677, 288.7374740241426, 410.3179959995638, 424.590716575196, 1369.8762596954439, 670.6304955933888, 2512.5486863734577, 4696.4078781072, 2057.8486004410424, 654.9643938624521, 522.8980188943774, 630.5252743875662, 800.799080635894, 278.4766712107385, 203.41514417159541, 98.18087530643753, 423.9611102877128, 81.03639180125045, 70.35574949323099, 65.62723826641547, 65.00225716500289, 62.919499646457744, 59.7179364527613, 58.96096014010643, 58.15084874994408, 54.68292271226695, 54.48448712524592, 53.87431067830938, 53.30144034834673, 65.83988364435713, 75.22416988977709, 45.662618215356744, 45.124615194344074, 44.40331807823421, 44.36128889046247, 41.67276421528634, 40.990793932675125, 40.92702416126466, 40.35981933548761, 39.51136137214213, 39.17247321455139, 38.32612965045406, 38.067668382564406, 223.18286742043736, 165.1967298023233, 74.14272857329807, 354.09236660268573, 92.42859510543167, 71.37638378917767, 78.19738866070522, 151.26069432660034, 160.50142373766744, 278.4918272758037, 154.77399984586998, 194.3193186956873, 1300.1125096861003, 578.8624954795948, 158.80381840970196, 153.0507370734678, 1854.550211879985, 1011.8978935151484, 415.9760102673102, 980.6244996228932, 1837.9798214352452, 282.53890814507156, 758.541844205652, 906.3695104493273, 465.14163802625984, 674.7143735703522, 1155.000827102634, 1256.1906608243908, 5725.216826178896, 401.62366788211637, 1089.1459445434266, 1118.6494891447944, 462.0650309556806, 2071.2334931192386, 533.8492566932198, 1077.703555399586, 1189.1488468304826, 1914.0849277399266, 1345.9521651953362, 1617.6477675035064, 341.43017899402525, 152.31366760141873, 124.09361435327574, 101.30403679380737, 91.43315381201614, 80.86611381411376, 80.48108023024804, 73.26642182389475, 72.22840810945134, 70.19180571697831, 69.29744053766153, 69.24982659370568, 67.50065942485313, 66.4156064269745, 63.51954950104591, 63.39734570739441, 63.39734570739441, 58.33416105066581, 57.374400623034525, 55.986198956867995, 54.79843511512247, 53.489363998089644, 51.448214008309876, 50.43671209837986, 46.975540003533126, 45.616782826358346, 44.95483746850405, 44.65125370013466, 43.990515660773234, 42.48947751019408, 70.13406765060655, 83.1791064031609, 364.90203844359263, 90.0265770721757, 131.15599875991367, 750.2922723097084, 163.37773367771857, 314.13142397837237, 1055.1026290021075, 5650.333256143186, 5070.011349794612, 5233.772464219933, 318.02823515888053, 11813.717545258058, 12450.950441223544, 12862.439197194593, 673.2397496263231, 123.23148006878709, 2901.6082239251878, 611.680614461807, 132.64165034414586, 115.05788650437188, 2546.3292347037527, 2512.5486863734577, 291.2336534946262, 5725.216826178896, 801.1518885650237, 191.40299917585347, 436.9824834912114, 1394.5445997657334, 1144.713700374555, 3517.2809811904344, 1914.0849277399266, 1175.2318917814032, 3100.503391946633, 2071.2334931192386, 478.79390676176655, 462.55941344650705, 324.0735683690284, 288.9940395091775, 205.13936051054233, 190.2768291063141, 141.36719227885726, 135.09748663727123, 127.4608570603707, 125.23984621756718, 121.07515800747638, 117.22746954197927, 116.60677471617538, 111.9660036367965, 110.27308404291956, 109.52367761285332, 104.25136186441483, 100.81131636394083, 97.1180048397846, 93.94537283472566, 91.34932882176862, 90.00229262963913, 86.3586638538319, 84.15273837894168, 80.74730411704998, 80.31204498295322, 121.20618613309999, 76.39113440859482, 75.90223981438513, 73.740150310932, 917.835174014116, 113.9059572143805, 148.49585753250642, 858.0867477197136, 679.3452433066459, 414.2781535346206, 399.54213723961465, 277.4603848900952, 669.3821962421929, 149.88076646369615, 316.49440935887566, 445.82076008857337, 198.00111737766377, 172.45912962079314, 467.2095898209716, 222.64718706733586, 521.0631090347375, 165.6903488716746, 1695.9902153191272, 272.931598276412, 205.9551559292787, 2490.150432135356, 1053.3904762687032, 1197.2799172156263, 498.3089630185489, 482.24072996576035, 1547.1145148921216, 444.8846758661344, 406.94010956561976, 175.11539145661175, 137.8163198407449, 112.65211082736649, 99.99050134023939, 83.21334437394445, 69.74074943114027, 67.9568552793609, 66.92117284385102, 64.59486363878736, 62.96917796285399, 56.77583687351235, 53.37774156798497, 53.20438692307074, 51.74315902631068, 49.54107633824809, 48.55545531153019, 48.35886919474289, 48.034840881152896, 47.47316289548935, 46.21512480222556, 43.17161649400156, 42.92990541854919, 41.1317314963805, 40.96798632906771, 40.58416934619914, 39.83880790419835, 39.15870871521462, 38.10026606237836, 37.99488440822371, 37.18474528753506, 220.0011302583021, 93.17334067774075, 105.08877132027652, 80.68420576933055, 55.13212524108825, 375.4820174420841, 82.08822809563526, 63.723715710758945, 528.370726386539, 61.622390308180925, 66.64279290180917, 349.4580522349844, 65.31324737364588, 169.86427431164162, 194.43687526968478, 401.2100858042776, 67.11733077257583, 94.92160620618463, 263.5762976168147, 207.0399967243517, 509.3715242401511, 294.13022479247235, 147.25704597999413, 98.096904259899, 514.84695498582, 245.56309772261196, 192.44273927186094, 283.6853205853672, 331.60573772638844, 271.8771611114686, 1654.4249074687443, 1189.1488468304826, 320.52444411600356, 297.783251579712, 1027.3062495458557, 1535.4116989165725, 247.2297775293919, 1077.703555399586, 919.4576963377212, 232.5680786654428, 229.14000629424956, 219.09298912103034, 209.39054287538158, 147.08997309539893, 142.742357886178, 141.95552183317903, 141.53755785022486, 139.8676737970335, 87.56504501976168, 80.78160579234431, 80.66898098837638, 79.56381101001553, 71.3297217062134, 62.69194351334803, 60.172649689817746, 60.064448130950666, 53.98613997535695, 51.458872814922536, 50.655813687477256, 46.93697730239509, 45.86503168389713, 43.552152336895155, 40.659585157468236, 40.00585953136253, 38.84246242284679, 37.32888883766186, 36.79021135638267, 36.18533700279676, 33.53994096514971, 185.71104628286054, 236.9858581073204, 676.8746687698225, 209.85044135641965, 830.85632965473, 160.29895423289148, 401.21967369531075, 250.4395337558661, 232.1748391868056, 279.4456737356529, 399.7367925639299, 178.64431534776267, 311.38364752097226, 481.86566843359464, 1997.9066271435931, 524.7798969755916, 858.8560674339823, 654.898537229684, 273.7706414690981, 1776.9482754450203, 393.1176479572089, 1212.5867258817682, 1695.9902153191272, 1145.5925761368271, 757.2507639842445, 630.5252743875662, 270.7632245233376, 237.97919084785408, 232.97331842598834, 194.36856654154434, 185.93554029433054, 150.80252740364799, 148.5766790893036, 236.83089707719395, 111.72733261928016, 111.66002622324699, 112.43146824947524, 152.630808121205, 98.05295093670289, 94.54704568590549, 86.16603288084596, 202.0538707553822, 80.33419688734949, 79.18923534347105, 79.05411938999138, 74.60565714348908, 73.8390649470848, 70.58668898107896, 68.70915833240893, 61.16988243069129, 59.96241656578272, 59.71332324586725, 56.47908602334865, 56.3073647977052, 52.723672394161824, 101.77671209072827, 231.0396991907575, 1629.035178302706, 91.11753820192159, 216.34293271909118, 1093.5348041932216, 156.9379339105755, 481.26976264875265, 212.05667948873696, 309.0259991041079, 473.7600524821356, 396.352202454218, 167.36898598560109, 508.89597002086657, 1027.3062495458557, 11813.717545258058, 2490.150432135356, 12450.950441223544, 12862.439197194593, 1258.364505968279, 382.2097549972475, 80.18478402904654, 79.20654614386476, 70.80159424081464, 64.37927384596142, 60.25388124279487, 60.05235105104172, 58.55225849106055, 57.36440229466342, 55.53133121080056, 54.19129557659968, 53.819800651122065, 46.31728527133949, 44.136867604040056, 42.1328942112948, 39.79243904590822, 39.458492491936646, 39.23082799723905, 38.874597065857905, 38.19277704020724, 37.57275883955891, 39.57368218348959, 34.61100691200361, 33.629074519762796, 32.638732020981166, 32.60016291975905, 32.13228270189916, 30.759139499271566, 30.34797427282555, 28.146678532704225, 300.2845838112585, 102.74446742519403, 308.1111595407649, 701.2847678854098, 386.2081512022681, 108.32814569672, 190.1471509386968, 50.12977571104437, 262.3063885284345, 92.14080197605108, 390.46049971794173, 338.9017796468015, 85.03678878361212, 62.826024754540434, 371.50119291294516, 353.6520478371369, 190.15717460738213, 673.0303211711573, 80.32206103661784, 347.74242529722784, 102.9693299848911, 327.84094876589603, 232.88051633093542, 383.70269327834563, 164.5589323055229, 673.3864931367518, 1197.2799172156263, 187.87075834235608, 1837.9798214352452, 651.7242823220234, 12450.950441223544, 12862.439197194593, 11813.717545258058, 2901.6082239251878, 408.75863796886097, 359.10944591516073, 168.13531328640588, 159.75097958247838, 148.606715286135, 126.34245854107641, 119.94860433669965, 116.12478530662136, 110.12752521139969, 105.67318299666503, 92.23779542335362, 91.19166431442272, 87.49835049768491, 62.898233216409736, 61.66975683039928, 59.29677673224129, 55.47405097104654, 54.82158833139309, 52.138215371778806, 50.37443478515482, 47.47858577685975, 44.70275240192769, 44.298688081707745, 41.02038562966843, 40.7958786326059, 39.656730910681944, 39.54572556160952, 39.437090537347814, 39.40271707319218, 38.68609955804855, 38.37645070159618, 38.30955237721561, 137.20093378214113, 545.7050968024549, 222.32407864565224, 351.46172149007236, 120.43234475654113, 257.4883571195866, 396.6657577638569, 114.30690208618876, 97.42588705334614, 101.91616327103232, 77.75043478279342, 343.1315750104016, 217.5066348792696, 73.51683987568111, 467.2095898209716, 12450.950441223544, 11813.717545258058, 12862.439197194593, 2546.3292347037527, 5233.772464219933, 5070.011349794612, 5650.333256143186, 5725.216826178896, 651.2579501325642, 546.6960495759944, 134.2418847689952, 76.0436233787651, 74.77369159962528, 62.0898438621125, 60.59684338961232, 48.68523413732762, 43.42717293154976, 42.91646431426465, 42.57935844228991, 38.80556173326265, 38.57084672200785, 36.21413663594446, 32.368406551057525, 32.32967479502938, 32.08650699332316, 30.302850267088296, 214.67829937706898, 29.12336761542428, 29.051312236458234, 28.990033548178406, 27.949340128420793, 27.561758599486254, 27.048146455015313, 26.640250472468935, 26.32942408117244, 26.100727252142764, 26.096311888927985, 25.961959507855827, 25.63242528924359, 25.350343796239287, 147.19654455216295, 106.17347089708835, 81.56043926674742, 52.93436853501294, 61.24911837131697, 44.85576695102076, 74.94378982459074, 56.79407904719132, 50.630128910599346, 683.0232262634336, 69.77456913619886, 139.46334118840244, 136.25992559886902, 370.28570082316776, 154.41606482461376, 48.828801265163946, 148.4882898253526, 224.37397199296436, 173.19076730465426, 1197.2799172156263, 183.93138228127165, 139.53619115754591, 75.76088734304875, 88.55939867138171, 747.4871630793182, 88.68038704180591, 232.3895152084411, 12862.439197194593, 262.3063885284345, 2145.6502162560923, 381.45829348806325, 344.2063424270593, 258.2969454915393, 224.3799530006339, 206.35105716691956, 154.31898928825748, 95.76535386325483, 67.7166387319463, 57.088910681036666, 49.30982425403409, 48.319969408081015, 45.96392557833189, 43.52325800625085, 36.73291316102423, 36.55187854472634, 33.02314893887666, 31.836043195169527, 31.15399245824116, 29.1103231412154, 25.993399064707678, 25.550217921631845, 25.21070503597927, 25.018845244776674, 24.531114562564408, 22.697896506301447, 22.04246774414172, 21.944840683368486, 20.793747050663065, 20.434896204701673, 20.344492374137644, 220.15441779075695, 105.26931870186071, 415.4452940833661, 62.2376928796796, 41.916135144417794, 66.74370018290972, 475.4835012169604, 196.36333934814894, 92.53585011699705, 85.64589768498739, 1107.973998687153, 211.746888036402, 100.07043934607123, 266.44973461051825, 670.8551059189747, 1430.7580591855603, 5650.333256143186, 5070.011349794612, 5233.772464219933, 5725.216826178896, 11813.717545258058, 12862.439197194593, 12450.950441223544, 789.4111078438518, 2546.3292347037527, 461.8785378691582, 1837.9798214352452, 396.6657577638569, 338.4217040203741, 127.73638823666946, 113.81296093287021, 111.2869498946923, 108.4731412446552, 95.55463690279699, 79.02955913261835, 76.14041551190753, 54.44888834813251, 49.512984871806346, 47.51950200361847, 41.649652198206546, 41.310440897828194, 41.40227925260985, 40.91224086337422, 39.30067104754387, 36.52393008810119, 35.30869395866378, 35.21042422398444, 33.51606325443286, 33.0540185414453, 31.683378121390273, 30.095726495855008, 241.88695679109816, 24.174382282144443, 22.56607472706066, 21.575621109127344, 21.028241486795913, 1130.177806176417, 19.281010989350182, 300.49194532349287, 35.1405096655564, 116.72360166882149, 53.131856526591605, 125.80337688145099, 698.3628677992217, 380.04320189034377, 85.53713642732959, 683.0232262634336, 167.2247896521971, 942.0435813572432, 67.97014491996089, 226.2080166727441, 89.95244945587437, 165.73789578129367, 801.1518885650237, 209.43056195261403, 2359.145768745348, 370.6888980785348, 782.0663068245204, 1506.490247763599, 806.9242830393454, 120.44048712867703, 112.5901663503281, 50.73329089780692, 41.3680663779259, 38.16590168980024, 35.46002046585571, 34.99746595239672, 34.618612979587716, 33.484267530121315, 33.09528730053151, 32.63871259816648, 32.63871259816648, 83.95925035802995, 29.60372553408758, 29.337317250267347, 28.38400185201641, 26.232380961808413, 23.3776616894388, 23.281059450410673, 22.46482667229172, 21.604619125942474, 21.535479697447645, 21.192083275134255, 20.728526799098905, 19.820760187155063, 19.566824416524874, 18.890690732668247, 18.708465106897684, 18.449183158665484, 18.083726745925702, 52.71623966382977, 45.72816505351405, 43.84452439342455, 309.24946190009655, 106.41489422641216, 44.81029583256299, 53.835000392356434, 287.2322006864774, 85.17153466880261, 673.3864931367518, 38.75245438146315, 57.434315058844625, 179.66546253222623, 199.8902855394299, 723.5586325663539, 737.7905803735805, 466.05963441516707, 122.58256147263266, 57.27140528259984, 46.77193448107876, 72.35571531273021, 41.84973442811329, 31.880228766221855, 29.671441983106785, 27.530640243115112, 27.530640243115112, 87.68798465416604, 25.266368287855983, 24.432838703930752, 22.22417234041181, 22.040365963384115, 21.421403279475644, 20.871218038068417, 19.448746017488578, 19.04147498148756, 18.837781526004342, 18.792099377865295, 18.080235270204593, 17.179633412561508, 16.674314957643283, 16.66011651496277, 16.360171652902316, 15.949905523597247, 15.884606906924002, 15.625767190720769, 15.48360219419285, 15.388646148273255, 15.222951748385137, 32.37231583389884, 32.82146735404393, 58.76720748626788, 48.69746878083154, 37.92411805549945, 23.846804157490528, 71.48004800635638, 22.124980426059274, 41.980948952618654, 59.236815851851496, 62.235990862406624, 61.285611748325415, 260.0370367027477, 44.15131944845723, 38.17235397326566, 132.01121958732716, 41.946905903836594, 674.7143735703522], \"Category\": [\"Default\", \"Default\", \"Default\", \"Default\", \"Default\", \"Default\", \"Default\", \"Default\", \"Default\", \"Default\", \"Default\", \"Default\", \"Default\", \"Default\", \"Default\", \"Default\", \"Default\", \"Default\", \"Default\", \"Default\", \"Default\", \"Default\", \"Default\", \"Default\", \"Default\", \"Default\", \"Default\", \"Default\", \"Default\", \"Default\", \"Topic1\", \"Topic1\", \"Topic1\", \"Topic1\", \"Topic1\", \"Topic1\", \"Topic1\", \"Topic1\", \"Topic1\", \"Topic1\", \"Topic1\", \"Topic1\", \"Topic1\", \"Topic1\", \"Topic1\", \"Topic1\", \"Topic1\", \"Topic1\", \"Topic1\", \"Topic1\", \"Topic1\", \"Topic1\", \"Topic1\", \"Topic1\", \"Topic1\", \"Topic1\", \"Topic1\", \"Topic1\", \"Topic1\", \"Topic1\", \"Topic1\", \"Topic1\", \"Topic1\", \"Topic1\", \"Topic1\", \"Topic1\", \"Topic1\", \"Topic1\", \"Topic1\", \"Topic1\", \"Topic1\", \"Topic1\", \"Topic1\", \"Topic1\", \"Topic1\", \"Topic1\", \"Topic1\", \"Topic1\", \"Topic1\", \"Topic1\", \"Topic1\", \"Topic1\", \"Topic1\", \"Topic1\", \"Topic1\", \"Topic1\", \"Topic1\", \"Topic1\", \"Topic1\", \"Topic1\", \"Topic1\", \"Topic1\", \"Topic1\", \"Topic1\", \"Topic1\", \"Topic1\", \"Topic1\", \"Topic1\", \"Topic1\", \"Topic1\", \"Topic1\", \"Topic1\", \"Topic1\", \"Topic1\", \"Topic1\", \"Topic1\", \"Topic1\", \"Topic1\", \"Topic1\", \"Topic1\", \"Topic1\", \"Topic1\", \"Topic1\", \"Topic1\", \"Topic2\", \"Topic2\", \"Topic2\", \"Topic2\", \"Topic2\", \"Topic2\", \"Topic2\", \"Topic2\", \"Topic2\", \"Topic2\", \"Topic2\", \"Topic2\", \"Topic2\", \"Topic2\", \"Topic2\", \"Topic2\", \"Topic2\", \"Topic2\", \"Topic2\", \"Topic2\", \"Topic2\", \"Topic2\", \"Topic2\", \"Topic2\", \"Topic2\", \"Topic2\", \"Topic2\", \"Topic2\", \"Topic2\", \"Topic2\", \"Topic2\", \"Topic2\", \"Topic2\", \"Topic2\", \"Topic2\", \"Topic2\", \"Topic2\", \"Topic2\", \"Topic2\", \"Topic2\", \"Topic2\", \"Topic2\", \"Topic2\", \"Topic2\", \"Topic2\", \"Topic2\", \"Topic2\", \"Topic2\", \"Topic2\", \"Topic2\", \"Topic2\", \"Topic2\", \"Topic2\", \"Topic2\", \"Topic2\", \"Topic2\", \"Topic2\", \"Topic2\", \"Topic2\", \"Topic2\", \"Topic2\", \"Topic2\", \"Topic2\", \"Topic2\", \"Topic2\", \"Topic2\", \"Topic2\", \"Topic2\", \"Topic2\", \"Topic2\", \"Topic2\", \"Topic2\", \"Topic2\", \"Topic2\", \"Topic2\", \"Topic2\", \"Topic2\", \"Topic3\", \"Topic3\", \"Topic3\", \"Topic3\", \"Topic3\", \"Topic3\", \"Topic3\", \"Topic3\", \"Topic3\", \"Topic3\", \"Topic3\", \"Topic3\", \"Topic3\", \"Topic3\", \"Topic3\", \"Topic3\", \"Topic3\", \"Topic3\", \"Topic3\", \"Topic3\", \"Topic3\", \"Topic3\", \"Topic3\", \"Topic3\", \"Topic3\", \"Topic3\", \"Topic3\", \"Topic3\", \"Topic3\", \"Topic3\", \"Topic3\", \"Topic3\", \"Topic3\", \"Topic3\", \"Topic3\", \"Topic3\", \"Topic3\", \"Topic3\", \"Topic3\", \"Topic3\", \"Topic3\", \"Topic3\", \"Topic3\", \"Topic3\", \"Topic3\", \"Topic3\", \"Topic3\", \"Topic3\", \"Topic3\", \"Topic3\", \"Topic3\", \"Topic3\", \"Topic3\", \"Topic3\", \"Topic3\", \"Topic3\", \"Topic3\", \"Topic3\", \"Topic3\", \"Topic3\", \"Topic3\", \"Topic3\", \"Topic3\", \"Topic3\", \"Topic3\", \"Topic3\", \"Topic3\", \"Topic3\", \"Topic3\", \"Topic3\", \"Topic3\", \"Topic3\", \"Topic3\", \"Topic3\", \"Topic3\", \"Topic3\", \"Topic3\", \"Topic3\", \"Topic3\", \"Topic4\", \"Topic4\", \"Topic4\", \"Topic4\", \"Topic4\", \"Topic4\", \"Topic4\", \"Topic4\", \"Topic4\", \"Topic4\", \"Topic4\", \"Topic4\", \"Topic4\", \"Topic4\", \"Topic4\", \"Topic4\", \"Topic4\", \"Topic4\", \"Topic4\", \"Topic4\", \"Topic4\", \"Topic4\", \"Topic4\", \"Topic4\", \"Topic4\", \"Topic4\", \"Topic4\", \"Topic4\", \"Topic4\", \"Topic4\", \"Topic4\", \"Topic4\", \"Topic4\", \"Topic4\", \"Topic4\", \"Topic4\", \"Topic4\", \"Topic4\", \"Topic4\", \"Topic4\", \"Topic4\", \"Topic4\", \"Topic4\", \"Topic4\", \"Topic4\", \"Topic4\", \"Topic4\", \"Topic4\", \"Topic4\", \"Topic4\", \"Topic4\", \"Topic4\", \"Topic4\", \"Topic4\", \"Topic4\", \"Topic4\", \"Topic4\", \"Topic4\", \"Topic4\", \"Topic4\", \"Topic4\", \"Topic4\", \"Topic4\", \"Topic4\", \"Topic4\", \"Topic4\", \"Topic4\", \"Topic4\", \"Topic4\", \"Topic4\", \"Topic4\", \"Topic4\", \"Topic4\", \"Topic4\", \"Topic4\", \"Topic5\", \"Topic5\", \"Topic5\", \"Topic5\", \"Topic5\", \"Topic5\", \"Topic5\", \"Topic5\", \"Topic5\", \"Topic5\", \"Topic5\", \"Topic5\", \"Topic5\", \"Topic5\", \"Topic5\", \"Topic5\", \"Topic5\", \"Topic5\", \"Topic5\", \"Topic5\", \"Topic5\", \"Topic5\", \"Topic5\", \"Topic5\", \"Topic5\", \"Topic5\", \"Topic5\", \"Topic5\", \"Topic5\", \"Topic5\", \"Topic5\", \"Topic5\", \"Topic5\", \"Topic5\", \"Topic5\", \"Topic5\", \"Topic5\", \"Topic5\", \"Topic5\", \"Topic5\", \"Topic5\", \"Topic5\", \"Topic5\", \"Topic5\", \"Topic5\", \"Topic5\", \"Topic5\", \"Topic5\", \"Topic5\", \"Topic5\", \"Topic5\", \"Topic5\", \"Topic5\", \"Topic5\", \"Topic5\", \"Topic5\", \"Topic5\", \"Topic5\", \"Topic5\", \"Topic5\", \"Topic5\", \"Topic5\", \"Topic5\", \"Topic5\", \"Topic5\", \"Topic5\", \"Topic5\", \"Topic5\", \"Topic5\", \"Topic5\", \"Topic5\", \"Topic5\", \"Topic6\", \"Topic6\", \"Topic6\", \"Topic6\", \"Topic6\", \"Topic6\", \"Topic6\", \"Topic6\", \"Topic6\", \"Topic6\", \"Topic6\", \"Topic6\", \"Topic6\", \"Topic6\", \"Topic6\", \"Topic6\", \"Topic6\", \"Topic6\", \"Topic6\", \"Topic6\", \"Topic6\", \"Topic6\", \"Topic6\", \"Topic6\", \"Topic6\", \"Topic6\", \"Topic6\", \"Topic6\", \"Topic6\", \"Topic6\", \"Topic6\", \"Topic6\", \"Topic6\", \"Topic6\", \"Topic6\", \"Topic6\", \"Topic6\", \"Topic6\", \"Topic6\", \"Topic6\", \"Topic6\", \"Topic6\", \"Topic6\", \"Topic6\", \"Topic6\", \"Topic6\", \"Topic6\", \"Topic6\", \"Topic6\", \"Topic6\", \"Topic6\", \"Topic6\", \"Topic6\", \"Topic6\", \"Topic6\", \"Topic6\", \"Topic6\", \"Topic6\", \"Topic6\", \"Topic6\", \"Topic6\", \"Topic6\", \"Topic6\", \"Topic6\", \"Topic6\", \"Topic6\", \"Topic6\", \"Topic7\", \"Topic7\", \"Topic7\", \"Topic7\", \"Topic7\", \"Topic7\", \"Topic7\", \"Topic7\", \"Topic7\", \"Topic7\", \"Topic7\", \"Topic7\", \"Topic7\", \"Topic7\", \"Topic7\", \"Topic7\", \"Topic7\", \"Topic7\", \"Topic7\", \"Topic7\", \"Topic7\", \"Topic7\", \"Topic7\", \"Topic7\", \"Topic7\", \"Topic7\", \"Topic7\", \"Topic7\", \"Topic7\", \"Topic7\", \"Topic7\", \"Topic7\", \"Topic7\", \"Topic7\", \"Topic7\", \"Topic7\", \"Topic7\", \"Topic7\", \"Topic7\", \"Topic7\", \"Topic7\", \"Topic7\", \"Topic7\", \"Topic7\", \"Topic7\", \"Topic7\", \"Topic7\", \"Topic7\", \"Topic7\", \"Topic7\", \"Topic7\", \"Topic7\", \"Topic8\", \"Topic8\", \"Topic8\", \"Topic8\", \"Topic8\", \"Topic8\", \"Topic8\", \"Topic8\", \"Topic8\", \"Topic8\", \"Topic8\", \"Topic8\", \"Topic8\", \"Topic8\", \"Topic8\", \"Topic8\", \"Topic8\", \"Topic8\", \"Topic8\", \"Topic8\", \"Topic8\", \"Topic8\", \"Topic8\", \"Topic8\", \"Topic8\", \"Topic8\", \"Topic8\", \"Topic8\", \"Topic8\", \"Topic8\", \"Topic8\", \"Topic8\", \"Topic8\", \"Topic8\", \"Topic8\", \"Topic8\", \"Topic8\", \"Topic8\", \"Topic8\", \"Topic8\", \"Topic8\", \"Topic8\", \"Topic8\", \"Topic8\", \"Topic8\", \"Topic8\", \"Topic8\", \"Topic8\", \"Topic8\", \"Topic8\", \"Topic8\", \"Topic8\", \"Topic8\", \"Topic8\", \"Topic8\", \"Topic8\", \"Topic8\", \"Topic8\", \"Topic8\", \"Topic8\", \"Topic8\", \"Topic8\", \"Topic8\", \"Topic8\", \"Topic8\", \"Topic8\", \"Topic8\", \"Topic8\", \"Topic8\", \"Topic8\", \"Topic9\", \"Topic9\", \"Topic9\", \"Topic9\", \"Topic9\", \"Topic9\", \"Topic9\", \"Topic9\", \"Topic9\", \"Topic9\", \"Topic9\", \"Topic9\", \"Topic9\", \"Topic9\", \"Topic9\", \"Topic9\", \"Topic9\", \"Topic9\", \"Topic9\", \"Topic9\", \"Topic9\", \"Topic9\", \"Topic9\", \"Topic9\", \"Topic9\", \"Topic9\", \"Topic9\", \"Topic9\", \"Topic9\", \"Topic9\", \"Topic9\", \"Topic9\", \"Topic9\", \"Topic9\", \"Topic9\", \"Topic9\", \"Topic9\", \"Topic9\", \"Topic9\", \"Topic9\", \"Topic9\", \"Topic9\", \"Topic9\", \"Topic9\", \"Topic9\", \"Topic9\", \"Topic9\", \"Topic9\", \"Topic9\", \"Topic9\", \"Topic9\", \"Topic9\", \"Topic9\", \"Topic9\", \"Topic9\", \"Topic9\", \"Topic9\", \"Topic9\", \"Topic9\", \"Topic9\", \"Topic9\", \"Topic9\", \"Topic9\", \"Topic9\", \"Topic9\", \"Topic9\", \"Topic10\", \"Topic10\", \"Topic10\", \"Topic10\", \"Topic10\", \"Topic10\", \"Topic10\", \"Topic10\", \"Topic10\", \"Topic10\", \"Topic10\", \"Topic10\", \"Topic10\", \"Topic10\", \"Topic10\", \"Topic10\", \"Topic10\", \"Topic10\", \"Topic10\", \"Topic10\", \"Topic10\", \"Topic10\", \"Topic10\", \"Topic10\", \"Topic10\", \"Topic10\", \"Topic10\", \"Topic10\", \"Topic10\", \"Topic10\", \"Topic10\", \"Topic10\", \"Topic10\", \"Topic10\", \"Topic10\", \"Topic10\", \"Topic10\", \"Topic10\", \"Topic10\", \"Topic10\", \"Topic10\", \"Topic10\", \"Topic10\", \"Topic10\", \"Topic10\", \"Topic10\", \"Topic10\", \"Topic10\", \"Topic10\", \"Topic10\", \"Topic10\", \"Topic10\", \"Topic10\", \"Topic10\", \"Topic10\", \"Topic10\", \"Topic10\", \"Topic10\", \"Topic10\", \"Topic11\", \"Topic11\", \"Topic11\", \"Topic11\", \"Topic11\", \"Topic11\", \"Topic11\", \"Topic11\", \"Topic11\", \"Topic11\", \"Topic11\", \"Topic11\", \"Topic11\", \"Topic11\", \"Topic11\", \"Topic11\", \"Topic11\", \"Topic11\", \"Topic11\", \"Topic11\", \"Topic11\", \"Topic11\", \"Topic11\", \"Topic11\", \"Topic11\", \"Topic11\", \"Topic11\", \"Topic11\", \"Topic11\", \"Topic11\", \"Topic11\", \"Topic11\", \"Topic11\", \"Topic11\", \"Topic11\", \"Topic11\", \"Topic11\", \"Topic11\", \"Topic11\", \"Topic11\", \"Topic11\", \"Topic11\", \"Topic11\", \"Topic11\", \"Topic11\", \"Topic11\", \"Topic11\", \"Topic11\", \"Topic11\", \"Topic11\", \"Topic11\", \"Topic11\", \"Topic11\", \"Topic11\", \"Topic11\", \"Topic11\", \"Topic11\", \"Topic11\", \"Topic11\", \"Topic11\", \"Topic11\", \"Topic11\", \"Topic11\", \"Topic11\", \"Topic11\", \"Topic11\", \"Topic11\", \"Topic11\", \"Topic11\", \"Topic12\", \"Topic12\", \"Topic12\", \"Topic12\", \"Topic12\", \"Topic12\", \"Topic12\", \"Topic12\", \"Topic12\", \"Topic12\", \"Topic12\", \"Topic12\", \"Topic12\", \"Topic12\", \"Topic12\", \"Topic12\", \"Topic12\", \"Topic12\", \"Topic12\", \"Topic12\", \"Topic12\", \"Topic12\", \"Topic12\", \"Topic12\", \"Topic12\", \"Topic12\", \"Topic12\", \"Topic12\", \"Topic12\", \"Topic12\", \"Topic12\", \"Topic12\", \"Topic12\", \"Topic12\", \"Topic12\", \"Topic12\", \"Topic12\", \"Topic12\", \"Topic12\", \"Topic12\", \"Topic12\", \"Topic12\", \"Topic12\", \"Topic12\", \"Topic12\", \"Topic12\", \"Topic12\", \"Topic12\", \"Topic12\", \"Topic12\", \"Topic12\", \"Topic12\", \"Topic12\", \"Topic12\", \"Topic12\", \"Topic12\", \"Topic13\", \"Topic13\", \"Topic13\", \"Topic13\", \"Topic13\", \"Topic13\", \"Topic13\", \"Topic13\", \"Topic13\", \"Topic13\", \"Topic13\", \"Topic13\", \"Topic13\", \"Topic13\", \"Topic13\", \"Topic13\", \"Topic13\", \"Topic13\", \"Topic13\", \"Topic13\", \"Topic13\", \"Topic13\", \"Topic13\", \"Topic13\", \"Topic13\", \"Topic13\", \"Topic13\", \"Topic13\", \"Topic13\", \"Topic13\", \"Topic13\", \"Topic13\", \"Topic13\", \"Topic13\", \"Topic13\", \"Topic13\", \"Topic13\", \"Topic13\", \"Topic13\", \"Topic13\", \"Topic13\", \"Topic13\", \"Topic13\", \"Topic13\", \"Topic13\", \"Topic13\", \"Topic13\", \"Topic13\", \"Topic13\", \"Topic14\", \"Topic14\", \"Topic14\", \"Topic14\", \"Topic14\", \"Topic14\", \"Topic14\", \"Topic14\", \"Topic14\", \"Topic14\", \"Topic14\", \"Topic14\", \"Topic14\", \"Topic14\", \"Topic14\", \"Topic14\", \"Topic14\", \"Topic14\", \"Topic14\", \"Topic14\", \"Topic14\", \"Topic14\", \"Topic14\", \"Topic14\", \"Topic14\", \"Topic14\", \"Topic14\", \"Topic14\", \"Topic14\", \"Topic14\", \"Topic14\", \"Topic14\", \"Topic14\", \"Topic14\", \"Topic14\", \"Topic14\", \"Topic14\", \"Topic14\", \"Topic14\", \"Topic14\", \"Topic14\", \"Topic14\", \"Topic14\", \"Topic14\", \"Topic14\", \"Topic14\", \"Topic14\", \"Topic14\", \"Topic14\", \"Topic14\", \"Topic14\", \"Topic14\", \"Topic14\", \"Topic14\", \"Topic14\", \"Topic14\", \"Topic14\", \"Topic14\", \"Topic14\", \"Topic14\", \"Topic14\", \"Topic14\", \"Topic14\", \"Topic14\", \"Topic14\", \"Topic14\", \"Topic15\", \"Topic15\", \"Topic15\", \"Topic15\", \"Topic15\", \"Topic15\", \"Topic15\", \"Topic15\", \"Topic15\", \"Topic15\", \"Topic15\", \"Topic15\", \"Topic15\", \"Topic15\", \"Topic15\", \"Topic15\", \"Topic15\", \"Topic15\", \"Topic15\", \"Topic15\", \"Topic15\", \"Topic15\", \"Topic15\", \"Topic15\", \"Topic15\", \"Topic15\", \"Topic15\", \"Topic15\", \"Topic15\", \"Topic15\", \"Topic15\", \"Topic15\", \"Topic15\", \"Topic15\", \"Topic15\", \"Topic15\", \"Topic15\", \"Topic15\", \"Topic15\", \"Topic15\", \"Topic15\", \"Topic15\", \"Topic15\", \"Topic15\", \"Topic15\", \"Topic15\", \"Topic15\", \"Topic15\", \"Topic15\", \"Topic15\", \"Topic15\", \"Topic15\", \"Topic15\", \"Topic15\", \"Topic15\", \"Topic16\", \"Topic16\", \"Topic16\", \"Topic16\", \"Topic16\", \"Topic16\", \"Topic16\", \"Topic16\", \"Topic16\", \"Topic16\", \"Topic16\", \"Topic16\", \"Topic16\", \"Topic16\", \"Topic16\", \"Topic16\", \"Topic16\", \"Topic16\", \"Topic16\", \"Topic16\", \"Topic16\", \"Topic16\", \"Topic16\", \"Topic16\", \"Topic16\", \"Topic16\", \"Topic16\", \"Topic16\", \"Topic16\", \"Topic16\", \"Topic16\", \"Topic16\", \"Topic16\", \"Topic16\", \"Topic16\", \"Topic16\", \"Topic16\", \"Topic16\", \"Topic16\", \"Topic16\", \"Topic16\", \"Topic16\", \"Topic16\", \"Topic16\", \"Topic16\", \"Topic16\", \"Topic16\", \"Topic16\", \"Topic16\", \"Topic16\", \"Topic16\", \"Topic16\", \"Topic16\", \"Topic16\", \"Topic16\", \"Topic16\", \"Topic16\", \"Topic16\", \"Topic16\", \"Topic16\", \"Topic17\", \"Topic17\", \"Topic17\", \"Topic17\", \"Topic17\", \"Topic17\", \"Topic17\", \"Topic17\", \"Topic17\", \"Topic17\", \"Topic17\", \"Topic17\", \"Topic17\", \"Topic17\", \"Topic17\", \"Topic17\", \"Topic17\", \"Topic17\", \"Topic17\", \"Topic17\", \"Topic17\", \"Topic17\", \"Topic17\", \"Topic17\", \"Topic17\", \"Topic17\", \"Topic17\", \"Topic17\", \"Topic17\", \"Topic17\", \"Topic17\", \"Topic17\", \"Topic17\", \"Topic17\", \"Topic17\", \"Topic17\", \"Topic17\", \"Topic17\", \"Topic17\", \"Topic17\", \"Topic17\", \"Topic17\", \"Topic17\", \"Topic17\", \"Topic17\", \"Topic17\", \"Topic17\", \"Topic17\", \"Topic17\", \"Topic17\", \"Topic17\", \"Topic17\", \"Topic17\", \"Topic17\", \"Topic17\", \"Topic17\", \"Topic17\", \"Topic17\", \"Topic18\", \"Topic18\", \"Topic18\", \"Topic18\", \"Topic18\", \"Topic18\", \"Topic18\", \"Topic18\", \"Topic18\", \"Topic18\", \"Topic18\", \"Topic18\", \"Topic18\", \"Topic18\", \"Topic18\", \"Topic18\", \"Topic18\", \"Topic18\", \"Topic18\", \"Topic18\", \"Topic18\", \"Topic18\", \"Topic18\", \"Topic18\", \"Topic18\", \"Topic18\", \"Topic18\", \"Topic18\", \"Topic18\", \"Topic18\", \"Topic18\", \"Topic18\", \"Topic18\", \"Topic18\", \"Topic18\", \"Topic18\", \"Topic18\", \"Topic18\", \"Topic18\", \"Topic18\", \"Topic18\", \"Topic18\", \"Topic18\", \"Topic18\", \"Topic18\", \"Topic18\", \"Topic18\", \"Topic18\", \"Topic18\", \"Topic18\", \"Topic18\", \"Topic18\", \"Topic19\", \"Topic19\", \"Topic19\", \"Topic19\", \"Topic19\", \"Topic19\", \"Topic19\", \"Topic19\", \"Topic19\", \"Topic19\", \"Topic19\", \"Topic19\", \"Topic19\", \"Topic19\", \"Topic19\", \"Topic19\", \"Topic19\", \"Topic19\", \"Topic19\", \"Topic19\", \"Topic19\", \"Topic19\", \"Topic19\", \"Topic19\", \"Topic19\", \"Topic19\", \"Topic19\", \"Topic19\", \"Topic19\", \"Topic19\", \"Topic19\", \"Topic19\", \"Topic19\", \"Topic19\", \"Topic19\", \"Topic19\", \"Topic19\", \"Topic19\", \"Topic19\", \"Topic19\", \"Topic19\", \"Topic19\", \"Topic19\", \"Topic19\", \"Topic19\", \"Topic19\", \"Topic19\", \"Topic19\", \"Topic20\", \"Topic20\", \"Topic20\", \"Topic20\", \"Topic20\", \"Topic20\", \"Topic20\", \"Topic20\", \"Topic20\", \"Topic20\", \"Topic20\", \"Topic20\", \"Topic20\", \"Topic20\", \"Topic20\", \"Topic20\", \"Topic20\", \"Topic20\", \"Topic20\", \"Topic20\", \"Topic20\", \"Topic20\", \"Topic20\", \"Topic20\", \"Topic20\", \"Topic20\", \"Topic20\", \"Topic20\", \"Topic20\", \"Topic20\", \"Topic20\", \"Topic20\", \"Topic20\", \"Topic20\", \"Topic20\", \"Topic20\", \"Topic20\", \"Topic20\", \"Topic20\", \"Topic20\", \"Topic20\", \"Topic20\", \"Topic20\", \"Topic20\", \"Topic20\", \"Topic20\", \"Topic20\", \"Topic20\"], \"logprob\": [30.0, 29.0, 28.0, 27.0, 26.0, 25.0, 24.0, 23.0, 22.0, 21.0, 20.0, 19.0, 18.0, 17.0, 16.0, 15.0, 14.0, 13.0, 12.0, 11.0, 10.0, 9.0, 8.0, 7.0, 6.0, 5.0, 4.0, 3.0, 2.0, 1.0, -6.6796, -7.0635, -7.4149, -7.4191, -7.5421, -7.5686, -7.6074, -7.6697, -7.7233, -7.7409, -7.7931, -7.8262, -7.8341, -7.8519, -8.0443, -8.122, -8.1245, -8.1316, -8.144, -8.167, -8.1818, -8.2038, -8.2107, -8.2671, -8.3137, -8.3221, -8.3321, -8.3537, -8.3693, -8.3806, -7.2613, -7.8082, -7.0151, -5.8699, -7.4276, -6.7494, -6.6305, -7.1939, -5.9749, -5.8098, -7.3432, -6.9502, -5.2074, -6.4066, -6.2884, -6.7612, -6.9812, -5.3113, -6.3315, -6.6697, -5.2159, -6.148, -6.6938, -4.8896, -6.5897, -5.7582, -5.1132, -6.4196, -5.917, -4.5297, -5.0221, -5.3334, -5.6269, -4.8318, -4.8369, -4.9731, -6.1099, -5.2453, -6.1858, -5.6425, -5.494, -5.6549, -5.6032, -5.3941, -5.2887, -5.4844, -5.7778, -5.8848, -5.6796, -5.6277, -5.6173, -5.5579, -5.7286, -5.8259, -5.2013, -5.7465, -5.8764, -6.0894, -5.8529, -6.4759, -6.484, -6.6941, -6.7586, -6.7667, -6.8274, -6.8485, -7.0505, -7.1831, -7.2304, -7.2317, -7.2424, -7.3483, -7.364, -7.4192, -7.466, -7.4759, -7.5004, -7.5116, -7.5203, -7.5701, -7.5737, -7.5904, -7.5933, -7.6354, -5.5139, -6.0124, -6.1113, -5.9953, -6.6168, -6.9539, -7.1169, -6.1629, -6.6375, -6.5964, -5.9202, -6.7444, -6.4441, -6.2379, -6.8324, -6.7398, -5.2819, -5.6541, -5.598, -4.5254, -6.6593, -6.2665, -6.0301, -4.5536, -5.2964, -5.0917, -5.6507, -6.4047, -5.3861, -5.696, -6.1445, -5.7436, -5.888, -5.7524, -4.805, -6.0058, -5.3466, -4.9681, -5.0227, -5.4576, -5.5609, -5.6433, -5.7034, -5.8127, -5.7599, -5.7886, -5.8149, -5.6718, -6.0319, -6.816, -6.8541, -6.8809, -6.8487, -6.9497, -7.167, -7.1794, -7.2022, -7.0277, -7.2572, -7.2632, -7.2671, -7.3669, -7.5423, -7.684, -7.7074, -7.7605, -7.787, -7.8032, -7.8206, -7.8491, -7.8592, -7.8675, -7.9065, -7.9119, -7.9249, -7.9998, -8.0101, -4.3632, -6.6247, -5.3719, -5.7113, -6.7462, -7.1505, -5.7948, -4.507, -5.3837, -6.0492, -6.9101, -6.8098, -5.0469, -6.367, -6.6146, -6.1375, -5.8799, -5.8186, -4.8229, -6.6746, -4.795, -5.9271, -4.8152, -5.8929, -6.2558, -4.8717, -5.6518, -5.5152, -4.8688, -3.5719, -3.5986, -3.6866, -4.9251, -5.4843, -5.1573, -4.7427, -4.5794, -4.726, -5.2905, -4.7194, -4.7068, -5.1212, -4.7757, -5.2173, -5.0981, -4.7786, -5.3689, -5.3102, -5.2954, -5.8645, -6.3122, -6.3271, -6.4684, -6.5554, -6.6022, -6.7411, -6.9557, -7.0257, -7.0692, -7.1516, -7.2109, -7.2278, -7.2373, -7.2774, -7.2774, -7.2829, -7.2982, -7.3551, -7.3758, -7.3889, -7.4123, -7.4434, -7.458, -7.4651, -7.4728, -7.4824, -7.4832, -7.4879, -7.497, -6.8793, -7.3553, -6.2191, -5.2394, -6.2853, -6.5061, -6.1615, -6.7166, -6.3738, -5.9879, -5.5216, -6.1813, -6.6849, -5.5038, -6.551, -3.7418, -6.4663, -6.1521, -3.9487, -3.9357, -3.9048, -3.3717, -3.3668, -3.3752, -4.8228, -5.8466, -4.7389, -5.4003, -5.7648, -5.7686, -5.6175, -5.024, -6.0993, -5.6239, -5.6508, -5.6421, -5.0433, -5.4283, -5.4524, -5.4524, -5.9749, -5.7232, -5.8996, -5.823, -5.9079, -4.9748, -4.9847, -5.6319, -5.8824, -6.4297, -6.4307, -6.5164, -6.593, -6.8232, -6.8437, -6.9055, -7.0016, -5.308, -7.0885, -7.2165, -7.2176, -7.2762, -7.285, -7.3582, -7.3599, -7.3617, -7.4354, -7.4942, -7.5025, -6.649, -7.5398, -7.5516, -7.56, -7.5857, -7.5912, -6.9386, -6.0255, -6.1189, -4.7721, -6.2744, -6.3441, -6.1462, -6.7538, -6.6028, -5.7343, -5.3156, -6.5602, -5.8646, -6.2972, -6.895, -4.9812, -6.3483, -6.1744, -6.3543, -5.9634, -5.4988, -5.3816, -5.0376, -5.3369, -5.3649, -5.6036, -6.2768, -5.4159, -5.3948, -5.834, -5.6081, -5.1412, -5.1699, -5.9354, -5.8819, -5.2774, -5.7309, -5.4621, -5.7599, -5.8521, -5.8955, -5.8949, -5.1711, -5.3505, -5.7336, -5.852, -5.895, -6.07, -6.2591, -6.3835, -6.3959, -6.5046, -6.6097, -6.6443, -6.7045, -6.7353, -6.7401, -6.7452, -6.8146, -6.8195, -6.877, -6.0687, -6.8879, -6.9104, -6.9602, -6.9654, -6.5432, -6.9776, -7.1505, -7.2196, -7.2499, -7.258, -5.5495, -6.7823, -5.5077, -4.862, -4.9392, -6.3312, -5.4351, -6.5391, -6.2092, -4.4739, -4.8418, -5.2491, -4.9139, -5.7961, -6.0698, -4.4571, -4.7701, -5.1944, -4.6684, -5.6434, -6.0337, -5.001, -4.9578, -5.2383, -5.3481, -5.551, -5.4509, -5.784, -5.5839, -5.3332, -4.8711, -5.6008, -5.2644, -5.6309, -5.4309, -5.4974, -5.6301, -4.5276, -4.5868, -4.6358, -4.6838, -4.9918, -5.2185, -5.3428, -5.4349, -5.5031, -5.603, -5.6294, -5.6486, -5.7426, -5.8681, -5.882, -6.1369, -6.1943, -6.257, -6.2882, -6.3405, -6.3723, -6.4134, -6.4325, -6.4539, -6.5081, -6.5099, -6.5683, -6.5893, -6.5929, -6.5991, -6.069, -6.2153, -5.6928, -4.8237, -5.4979, -5.327, -5.8859, -5.599, -5.5539, -6.0722, -5.9033, -5.7782, -5.7673, -5.2647, -5.6417, -5.1877, -4.9729, -5.3472, -5.7519, -5.8153, -5.8112, -5.8103, -5.2118, -5.5271, -6.2605, -4.7994, -6.4544, -6.5975, -6.668, -6.6777, -6.7108, -6.7638, -6.7768, -6.7908, -6.8534, -6.8571, -6.8685, -6.8794, -6.6692, -6.5374, -7.0371, -7.0492, -7.0656, -7.0666, -7.1305, -7.1474, -7.149, -7.1632, -7.185, -7.1938, -7.2162, -7.2231, -5.4624, -5.7647, -6.565, -5.1418, -6.3914, -6.6338, -6.5718, -6.0309, -5.9832, -5.5398, -6.0283, -5.9142, -4.5548, -5.1482, -6.1028, -6.177, -4.5784, -4.9849, -5.5587, -5.0568, -4.7109, -5.8213, -5.2901, -5.2038, -5.5911, -5.4196, -5.1655, -5.1544, -4.4943, -5.7421, -5.3528, -5.3879, -5.7275, -5.2975, -5.704, -5.5683, -5.6076, -5.5376, -5.6393, -5.6493, -4.9373, -5.7479, -5.9543, -6.1589, -6.2624, -6.3866, -6.3914, -6.4865, -6.5009, -6.5299, -6.5429, -6.5436, -6.5695, -6.586, -6.6312, -6.6332, -6.6332, -6.7177, -6.7346, -6.7595, -6.7813, -6.8059, -6.8455, -6.8657, -6.9382, -6.9681, -6.9831, -6.99, -7.0052, -7.0407, -6.5528, -6.398, -5.071, -6.3512, -6.0229, -4.5687, -5.8736, -5.4389, -4.6701, -3.5312, -3.6387, -3.6375, -5.6299, -3.4022, -3.3923, -3.3749, -5.3155, -6.2658, -4.8049, -5.5802, -6.2648, -6.3277, -5.2271, -5.2947, -6.0334, -5.1261, -5.7705, -6.1675, -5.9636, -5.7612, -5.8995, -5.7754, -5.8852, -5.9748, -5.9931, -6.0175, -4.4103, -4.4449, -4.8016, -4.9165, -5.2605, -5.3361, -5.6349, -5.6806, -5.7392, -5.7569, -5.791, -5.8236, -5.8289, -5.8698, -5.8852, -5.8921, -5.9419, -5.9757, -6.0134, -6.0469, -6.0753, -6.0903, -6.132, -6.1582, -6.2, -6.2055, -5.7944, -6.2561, -6.2626, -6.2919, -3.7815, -5.8575, -5.6007, -3.8886, -4.1262, -4.6542, -4.7041, -5.0629, -4.2735, -5.6371, -5.0141, -4.7525, -5.4332, -5.5485, -4.838, -5.3857, -4.8066, -5.624, -4.4957, -5.4806, -5.5885, -4.9596, -5.2658, -5.2564, -5.4351, -5.4616, -5.4506, -5.5649, -5.5796, -5.3343, -5.5753, -5.7784, -5.8987, -6.0843, -6.2631, -6.2893, -6.3049, -6.3408, -6.3667, -6.4719, -6.5346, -6.5379, -6.5663, -6.6106, -6.6311, -6.6352, -6.6421, -6.6541, -6.6815, -6.7511, -6.7568, -6.8006, -6.8046, -6.8143, -6.8333, -6.8509, -6.879, -6.8818, -6.9039, -5.1263, -5.9939, -5.8856, -6.1445, -6.5219, -4.7033, -6.153, -6.3906, -4.4375, -6.4232, -6.3643, -4.9717, -6.3841, -5.6359, -5.5407, -5.0001, -6.3808, -6.183, -5.5924, -5.7686, -5.3104, -5.6554, -6.0033, -6.2044, -5.4784, -5.8309, -5.9431, -5.8065, -5.8001, -5.8752, -5.3611, -5.4921, -5.8775, -5.9013, -5.6839, -5.731, -5.9635, -5.9305, -5.9444, -4.9019, -4.9168, -4.9618, -5.0073, -5.3624, -5.3926, -5.3982, -5.4011, -5.4131, -5.8854, -5.967, -5.9684, -5.9823, -6.093, -6.2239, -6.2655, -6.2674, -6.3758, -6.4247, -6.4407, -6.5184, -6.542, -6.5949, -6.6651, -6.6817, -6.712, -6.7527, -6.7676, -6.7846, -6.8627, -5.1559, -4.939, -3.9312, -5.1261, -3.8616, -5.3929, -4.5576, -5.1295, -5.2257, -5.0784, -4.8, -5.4865, -5.0796, -4.81, -3.8303, -4.8455, -4.7616, -4.9578, -5.377, -4.6192, -5.35, -5.0086, -4.9263, -5.1094, -5.2926, -5.3753, -4.5213, -4.6509, -4.6722, -4.8542, -4.8988, -5.1094, -5.1243, -4.6582, -5.4114, -5.4121, -5.4053, -5.1006, -5.5432, -5.5799, -5.6737, -4.8221, -5.7446, -5.7591, -5.7609, -5.8195, -5.83, -5.8756, -5.9029, -6.0209, -6.0411, -6.0453, -6.1019, -6.105, -6.1719, -5.5161, -4.7316, -2.8689, -5.6403, -4.8579, -3.3909, -5.2209, -4.5847, -5.1724, -4.9982, -4.8851, -5.2336, -5.5628, -5.3222, -5.3027, -5.187, -5.3612, -5.2833, -5.3524, -5.4666, -4.1351, -5.706, -5.7184, -5.832, -5.9284, -5.9957, -5.9991, -6.0248, -6.0456, -6.0786, -6.1035, -6.1105, -6.2635, -6.3127, -6.3602, -6.4187, -6.4274, -6.4333, -6.4426, -6.4608, -6.4775, -6.4258, -6.5618, -6.5914, -6.6222, -6.6234, -6.6383, -6.6833, -6.6972, -6.775, -4.4111, -5.483, -4.4182, -3.7082, -4.3906, -5.5365, -5.0561, -6.2428, -4.8279, -5.741, -4.5813, -4.7644, -5.8573, -6.0843, -4.7901, -4.8637, -5.3121, -4.5724, -5.9376, -5.0991, -5.8114, -5.2694, -5.4796, -5.2777, -5.7281, -5.337, -5.2141, -5.7185, -5.273, -5.4987, -5.2741, -5.2938, -5.3746, -5.6647, -5.7121, -5.716, -4.8441, -4.8955, -4.9683, -5.1317, -5.184, -5.2167, -5.2702, -5.3118, -5.4491, -5.4606, -5.5024, -5.8367, -5.8568, -5.8966, -5.9644, -5.9764, -6.0275, -6.0626, -6.1229, -6.1844, -6.1937, -6.2723, -6.2779, -6.3069, -6.3098, -6.3126, -6.3135, -6.3323, -6.3405, -6.3423, -5.0698, -3.7984, -4.6991, -4.3112, -5.2924, -4.6361, -4.2885, -5.3994, -5.6399, -5.6494, -5.8372, -4.9249, -5.3079, -5.8741, -5.1091, -3.8744, -3.9021, -3.9174, -4.5947, -4.4289, -4.4463, -4.443, -4.8046, -5.4148, -5.4455, -4.8071, -5.3808, -5.3979, -5.5864, -5.6111, -5.8338, -5.9505, -5.9626, -5.9706, -6.0656, -6.0718, -6.1365, -6.2519, -6.2532, -6.2609, -6.3199, -4.3633, -6.3609, -6.3635, -6.3657, -6.4035, -6.4179, -6.4374, -6.4531, -6.4653, -6.4744, -6.4745, -6.4799, -6.4931, -6.5046, -4.7616, -5.0939, -5.3612, -5.7982, -5.667, -5.9681, -5.516, -5.7863, -5.9026, -3.76, -5.6542, -5.1223, -5.1747, -4.4441, -5.1584, -5.9667, -5.2348, -5.1504, -5.3608, -4.5932, -5.4103, -5.5704, -5.7966, -5.768, -5.2222, -5.7783, -5.6019, -5.2413, -5.6632, -5.5717, -3.7539, -3.8569, -4.1449, -4.2863, -4.3704, -4.6625, -5.1434, -5.4941, -5.6674, -5.8165, -5.8372, -5.8882, -5.9439, -6.1177, -6.1227, -6.2271, -6.2648, -6.2871, -6.3571, -6.4744, -6.4923, -6.5061, -6.5141, -6.5345, -6.6154, -6.646, -6.6507, -6.707, -6.7253, -6.7299, -4.3563, -5.1413, -3.9353, -5.7045, -6.0673, -5.6976, -4.0546, -4.8831, -5.5579, -5.6224, -3.9436, -5.0691, -5.5906, -5.1802, -4.7999, -4.5555, -4.0311, -4.0854, -4.0885, -4.1661, -3.9636, -3.9699, -3.9915, -5.1353, -5.0117, -5.3684, -5.189, -5.4416, -3.657, -4.636, -4.7523, -4.7749, -4.8008, -4.9287, -5.1207, -5.1584, -5.4987, -5.5955, -5.6374, -5.7721, -5.7804, -5.7782, -5.7904, -5.8315, -5.9066, -5.9414, -5.9443, -5.995, -6.0092, -6.0529, -6.1059, -4.0289, -6.3329, -6.4046, -6.4515, -6.4784, -2.4974, -6.5695, -3.8291, -5.9897, -4.888, -5.6191, -4.8399, -3.309, -3.9058, -5.275, -3.7671, -4.8164, -3.6241, -5.4887, -4.7966, -5.3726, -5.1568, -4.7096, -5.4098, -4.8915, -5.3295, -5.309, -5.3378, -5.4548, -4.0443, -4.1123, -4.9198, -5.1282, -5.2107, -5.2862, -5.2997, -5.3109, -5.3452, -5.3572, -5.3715, -5.3715, -4.428, -5.4722, -5.4815, -5.5157, -5.5973, -5.7171, -5.7214, -5.7587, -5.7995, -5.8028, -5.8196, -5.8428, -5.8898, -5.9033, -5.9403, -5.9505, -5.9652, -5.9863, -4.9314, -5.132, -5.1852, -3.4549, -4.4705, -5.2293, -5.1677, -4.2159, -5.1695, -4.2631, -5.5465, -5.4345, -5.0835, -5.0593, -5.0858, -5.0841, -5.2114, -5.3618, -4.7307, -4.937, -4.5023, -5.0506, -5.33, -5.4041, -5.4815, -5.4815, -4.324, -5.5706, -5.6054, -5.7042, -5.7129, -5.7427, -5.7699, -5.844, -5.8663, -5.8776, -5.8802, -5.9209, -5.9749, -6.0065, -6.0074, -6.0267, -6.0537, -6.058, -6.0755, -6.0852, -6.0918, -6.1033, -5.3958, -5.3839, -4.8447, -5.0634, -5.317, -5.7266, -4.8423, -5.801, -5.3843, -5.21, -5.2514, -5.2695, -4.6092, -5.4927, -5.6187, -5.2637, -5.6177, -5.3192], \"loglift\": [30.0, 29.0, 28.0, 27.0, 26.0, 25.0, 24.0, 23.0, 22.0, 21.0, 20.0, 19.0, 18.0, 17.0, 16.0, 15.0, 14.0, 13.0, 12.0, 11.0, 10.0, 9.0, 8.0, 7.0, 6.0, 5.0, 4.0, 3.0, 2.0, 1.0, 1.7346, 1.7331, 1.731, 1.731, 1.73, 1.7298, 1.7295, 1.7289, 1.7284, 1.7283, 1.7278, 1.7274, 1.7273, 1.7271, 1.7248, 1.7238, 1.7238, 1.7236, 1.7235, 1.7231, 1.7229, 1.7226, 1.7225, 1.7216, 1.7208, 1.7207, 1.7205, 1.7201, 1.7198, 1.7196, 1.7034, 1.7115, 1.6942, 1.6474, 1.6893, 1.66, 1.6484, 1.6666, 1.5812, 1.5644, 1.6601, 1.6208, 1.4555, 1.5392, 1.5089, 1.5641, 1.5897, 1.2926, 1.4366, 1.4921, 1.1879, 1.3838, 1.494, 0.9971, 1.445, 1.1923, 0.9658, 1.3569, 1.1823, 0.6678, 0.8457, 0.9536, 1.0668, 0.7474, 0.7417, 0.7501, 1.2319, 0.8253, 1.2574, 0.9795, 0.8891, 0.9681, 0.9329, 0.7821, 0.7052, 0.7918, 1.0102, 1.0791, 0.9031, 0.7873, 0.5958, 0.2395, 0.6318, 0.8632, 1.8547, 1.8541, 1.8539, 1.8535, 1.8529, 1.8525, 1.8525, 1.8517, 1.8515, 1.8515, 1.8512, 1.8511, 1.8501, 1.8493, 1.849, 1.849, 1.8489, 1.8482, 1.8481, 1.8477, 1.8473, 1.8472, 1.847, 1.8469, 1.8468, 1.8464, 1.8463, 1.8462, 1.8461, 1.8457, 1.8441, 1.8427, 1.8307, 1.8243, 1.8324, 1.8351, 1.8381, 1.7926, 1.8089, 1.8006, 1.7302, 1.7963, 1.7561, 1.6794, 1.769, 1.7478, 1.4033, 1.4744, 1.4067, 1.0532, 1.718, 1.541, 1.4216, 0.6438, 0.928, 0.776, 1.1102, 1.5856, 0.7901, 1.0189, 1.3733, 1.0158, 1.1206, 0.9799, -0.2339, 1.2239, 0.3767, -0.3645, -0.3666, 0.1217, 0.2365, 0.4357, 0.2905, 0.4635, 0.1268, 0.282, 0.3892, 2.282, 2.281, 2.2772, 2.2771, 2.277, 2.2769, 2.2765, 2.2746, 2.2745, 2.2742, 2.274, 2.2737, 2.2737, 2.2736, 2.2725, 2.2703, 2.2682, 2.2679, 2.267, 2.2664, 2.2662, 2.2659, 2.2654, 2.2652, 2.2651, 2.2643, 2.264, 2.2639, 2.2624, 2.2622, 2.2396, 2.2579, 2.2425, 2.2352, 2.2513, 2.2478, 2.1989, 2.1415, 2.1706, 2.1911, 2.2204, 2.2131, 2.093, 2.1789, 2.1959, 2.1287, 2.0885, 2.02, 1.7952, 2.1575, 1.709, 1.9607, 1.661, 1.9436, 2.0404, 1.6404, 1.8691, 1.8013, 1.5285, 0.9992, 1.0051, 0.9696, 1.4906, 1.5557, 1.3595, 0.9806, 0.8012, 0.8532, 1.348, 0.7509, 0.687, 1.1459, 0.7263, 1.1431, 0.962, 0.4188, 1.2471, 0.8805, 0.502, 2.4408, 2.4391, 2.439, 2.4383, 2.4378, 2.4375, 2.4365, 2.4349, 2.4342, 2.4338, 2.4329, 2.4323, 2.4321, 2.432, 2.4315, 2.4315, 2.4314, 2.4312, 2.4305, 2.4302, 2.43, 2.4297, 2.4292, 2.429, 2.4289, 2.4288, 2.4287, 2.4287, 2.4285, 2.4284, 2.4281, 2.4279, 2.4086, 2.3724, 2.3852, 2.3769, 2.3504, 2.3801, 2.344, 2.2917, 2.2309, 2.2949, 2.3512, 2.1332, 2.2746, 1.6387, 2.2371, 2.1512, 1.5534, 1.5346, 1.4889, 1.2845, 1.2368, 1.1959, 1.6235, 2.0037, 1.3212, 1.59, 1.7596, 1.756, 1.6425, 1.1668, 1.8923, 1.2407, 1.2465, 1.1507, 0.1541, 0.7759, 0.5415, 0.1268, 1.5601, 0.1445, 0.8287, -0.0997, 0.6042, 2.5401, 2.5401, 2.5388, 2.5381, 2.5356, 2.5356, 2.5351, 2.5346, 2.5328, 2.5326, 2.5321, 2.5311, 2.5303, 2.5302, 2.5286, 2.5286, 2.5278, 2.5277, 2.5267, 2.5267, 2.5266, 2.5255, 2.5245, 2.5244, 2.5244, 2.5238, 2.5235, 2.5234, 2.5229, 2.5228, 2.5209, 2.5097, 2.5104, 2.4795, 2.4927, 2.4789, 2.4586, 2.4876, 2.4623, 2.3631, 2.3014, 2.4121, 2.2942, 2.3682, 2.4575, 1.8295, 2.2365, 2.1173, 2.1825, 1.9345, 1.573, 1.4813, 1.2296, 1.3787, 1.3317, 1.4962, 2.1116, 1.0919, 0.9672, 1.5361, 1.0078, 0.0562, -0.5988, 1.313, 1.141, -0.6738, 0.6849, -0.8059, 0.5163, 0.3241, 0.3175, -0.3162, 2.5859, 2.5856, 2.5846, 2.5842, 2.5841, 2.5833, 2.5825, 2.5818, 2.5817, 2.5811, 2.5803, 2.5801, 2.5796, 2.5793, 2.5793, 2.5793, 2.5787, 2.5786, 2.5781, 2.5779, 2.5778, 2.5777, 2.5772, 2.5772, 2.5771, 2.5771, 2.5751, 2.5742, 2.5738, 2.5736, 2.5665, 2.5698, 2.5466, 2.532, 2.47, 2.5427, 2.4773, 2.548, 2.503, 2.1706, 2.2313, 2.2961, 2.2183, 2.3773, 2.437, 1.9762, 1.9455, 2.0815, 1.8821, 2.1516, 2.3206, 1.7308, 1.6807, 1.8313, 1.9003, 1.9952, 1.8478, 2.1273, 1.9229, 1.6481, 0.9264, 1.898, 1.2434, 1.9394, 1.185, 0.7698, 1.3594, 2.8681, 2.8681, 2.868, 2.8679, 2.8674, 2.8669, 2.8666, 2.8663, 2.8661, 2.8658, 2.8657, 2.8656, 2.8653, 2.8647, 2.8646, 2.8633, 2.8629, 2.8625, 2.8623, 2.8619, 2.8617, 2.8613, 2.8612, 2.861, 2.8605, 2.8605, 2.86, 2.8598, 2.8598, 2.8597, 2.8481, 2.8311, 2.7716, 2.6812, 2.6378, 2.5279, 2.6714, 2.4914, 2.4669, 2.6399, 2.4643, 2.238, 2.2148, 1.546, 1.8833, 1.0164, 0.6057, 1.0566, 1.7967, 1.9585, 1.7755, 1.5373, 3.1921, 3.1908, 3.1859, 3.1841, 3.1839, 3.1821, 3.1811, 3.181, 3.1805, 3.1797, 3.1795, 3.1793, 3.1783, 3.1782, 3.178, 3.1778, 3.1768, 3.1753, 3.1748, 3.1746, 3.1742, 3.1742, 3.1728, 3.1725, 3.1724, 3.1721, 3.1716, 3.1714, 3.1708, 3.1707, 3.1628, 3.1613, 3.1621, 3.0218, 3.1154, 3.1314, 3.1022, 2.9833, 2.9717, 2.864, 2.9629, 2.8494, 2.3081, 2.5239, 2.8627, 2.8254, 1.9293, 2.1287, 2.4439, 2.0882, 1.8059, 2.568, 2.1117, 2.02, 2.2998, 2.0993, 1.8158, 1.743, 0.8862, 2.2955, 1.6872, 1.6254, 2.17, 1.0998, 2.0491, 1.4822, 1.3446, 0.9385, 1.1891, 0.9952, 3.2627, 3.2593, 3.2579, 3.2562, 3.2552, 3.2538, 3.2538, 3.2526, 3.2524, 3.252, 3.2519, 3.2519, 3.2515, 3.2513, 3.2506, 3.2506, 3.2506, 3.2493, 3.249, 3.2486, 3.2483, 3.2478, 3.2471, 3.2468, 3.2454, 3.2448, 3.2444, 3.2443, 3.244, 3.2432, 3.23, 3.2142, 3.0625, 3.1819, 3.1339, 2.844, 3.0635, 2.8444, 2.4017, 1.8625, 1.8634, 1.8328, 2.6411, 1.254, 1.2113, 1.1962, 2.2055, 2.9534, 1.2552, 2.0368, 2.8807, 2.9601, 0.9637, 0.9094, 2.3257, 0.2544, 1.5766, 2.6113, 1.9897, 1.0317, 1.0908, 0.0923, 0.591, 0.9892, 0.0008, 0.3797, 3.4516, 3.4515, 3.4506, 3.4503, 3.4489, 3.4486, 3.4469, 3.4466, 3.4462, 3.446, 3.4458, 3.4455, 3.4455, 3.4451, 3.445, 3.4449, 3.4445, 3.4442, 3.4438, 3.4435, 3.4432, 3.4431, 3.4426, 3.4423, 3.4419, 3.4418, 3.4413, 3.4412, 3.4411, 3.4408, 3.4297, 3.4403, 3.4319, 3.3899, 3.3859, 3.3525, 3.3388, 3.3446, 3.2533, 3.3862, 3.2618, 3.1807, 3.3117, 3.3345, 3.0484, 3.2419, 2.9707, 3.2991, 2.1015, 2.9434, 3.117, 1.2535, 1.8076, 1.689, 2.3868, 2.3931, 1.2384, 2.3705, 2.4449, 3.5335, 3.532, 3.5305, 3.5294, 3.5275, 3.5253, 3.525, 3.5248, 3.5242, 3.5239, 3.5222, 3.5212, 3.5211, 3.5206, 3.5198, 3.5194, 3.5193, 3.5192, 3.5189, 3.5184, 3.5169, 3.5168, 3.5158, 3.5157, 3.5155, 3.5151, 3.5147, 3.514, 3.5139, 3.5134, 3.5132, 3.5048, 3.4927, 3.4981, 3.5016, 3.4017, 3.4724, 3.488, 3.3259, 3.489, 3.4695, 3.2051, 3.4699, 3.2623, 3.2224, 3.0386, 3.4459, 3.2972, 2.8664, 2.9317, 2.4896, 2.6938, 3.0377, 3.2428, 2.3109, 2.6987, 2.8303, 2.5788, 2.4291, 2.5527, 1.2609, 1.4601, 2.3857, 2.4356, 1.4145, 0.9656, 2.5594, 1.1201, 1.2649, 3.6821, 3.682, 3.6819, 3.6817, 3.6797, 3.6796, 3.6795, 3.6795, 3.6794, 3.6754, 3.6745, 3.6744, 3.6743, 3.6729, 3.6711, 3.6704, 3.6704, 3.6686, 3.6677, 3.6675, 3.666, 3.6655, 3.6644, 3.6628, 3.6624, 3.6617, 3.6607, 3.6603, 3.6599, 3.6578, 3.653, 3.6262, 3.5845, 3.5607, 3.4491, 3.5632, 3.4811, 3.3805, 3.36, 3.322, 3.2424, 3.3612, 3.2126, 3.0455, 2.603, 2.9247, 2.516, 2.5909, 3.0438, 1.9313, 2.7091, 1.9241, 1.6709, 1.8801, 2.1109, 2.2113, 3.9106, 3.9101, 3.9101, 3.9093, 3.909, 3.9079, 3.9078, 3.9076, 3.9057, 3.9057, 3.9056, 3.9046, 3.9045, 3.9041, 3.9032, 3.9025, 3.9024, 3.9022, 3.9022, 3.9015, 3.9013, 3.9007, 3.9004, 3.8987, 3.8984, 3.8983, 3.8974, 3.8973, 3.8962, 3.8943, 3.8589, 3.7685, 3.8807, 3.7985, 3.6451, 3.7565, 3.272, 3.5039, 3.3015, 2.9873, 2.8173, 3.3502, 2.4787, 1.7958, -0.5308, 0.8518, -0.6797, -0.7813, 1.429, 3.9521, 3.9429, 3.9427, 3.9413, 3.94, 3.9389, 3.9389, 3.9385, 3.9381, 3.9376, 3.9372, 3.9371, 3.9342, 3.9332, 3.9321, 3.9308, 3.9306, 3.9304, 3.9302, 3.9298, 3.9294, 3.9292, 3.9272, 3.9263, 3.9255, 3.9254, 3.925, 3.9237, 3.9232, 3.9207, 3.9173, 3.9179, 3.8845, 3.772, 3.6862, 3.8115, 3.7293, 3.8758, 3.6357, 3.7689, 3.4846, 3.443, 3.7328, 3.8085, 3.3255, 3.3012, 3.4732, 2.949, 3.7095, 3.0826, 3.5874, 2.9713, 3.1031, 2.8056, 3.2018, 2.1838, 1.7313, 3.0789, 1.2438, 2.0548, -0.6705, -0.7227, -0.7184, 0.3955, 2.3079, 2.4335, 4.0643, 4.0641, 4.0636, 4.0625, 4.0621, 4.0618, 4.0614, 4.061, 4.0597, 4.0596, 4.0592, 4.0549, 4.0546, 4.054, 4.0529, 4.0527, 4.0518, 4.0511, 4.05, 4.0487, 4.0485, 4.0468, 4.0467, 4.046, 4.0459, 4.0459, 4.0458, 4.0454, 4.0452, 4.0452, 4.0419, 3.9327, 3.93, 3.8599, 3.9497, 3.8461, 3.7616, 3.8949, 3.8142, 3.7597, 3.8425, 3.2702, 3.3431, 3.8615, 2.7773, 0.7292, 0.7541, 0.6537, 1.5961, 1.0414, 1.0558, 0.9507, 0.576, 2.1395, 2.2837, 4.3265, 4.3211, 4.3208, 4.3182, 4.3179, 4.314, 4.3116, 4.3114, 4.3112, 4.309, 4.3088, 4.3072, 4.3041, 4.304, 4.3038, 4.302, 4.3008, 4.3007, 4.3006, 4.3006, 4.2993, 4.2988, 4.2982, 4.2976, 4.2972, 4.2969, 4.2969, 4.2967, 4.2962, 4.2958, 4.2799, 4.2742, 4.2707, 4.2659, 4.2512, 4.2617, 4.2004, 4.2074, 4.206, 3.7467, 4.1337, 3.9731, 3.9439, 3.6749, 3.8351, 4.1782, 3.7979, 3.4695, 3.518, 2.3522, 3.4083, 3.5245, 3.909, 3.7815, 2.1943, 3.7699, 2.9829, -0.6702, 2.8005, 0.7903, 4.3353, 4.335, 4.3341, 4.3336, 4.3332, 4.3317, 4.3279, 4.3238, 4.3212, 4.3185, 4.3181, 4.3171, 4.3159, 4.3118, 4.3117, 4.3089, 4.3078, 4.3071, 4.3049, 4.3009, 4.3003, 4.2998, 4.2995, 4.2987, 4.2955, 4.2942, 4.294, 4.2915, 4.2907, 4.2905, 4.2826, 4.2353, 4.0685, 4.1977, 4.2302, 4.1348, 3.8143, 3.8701, 3.9477, 3.9605, 3.0793, 3.6087, 3.8367, 3.2678, 2.7247, 2.2117, 1.3626, 1.4167, 1.3818, 1.2145, 0.6925, 0.6012, 0.6121, 2.2266, 1.1791, 2.5295, 1.3278, 2.6085, 4.5518, 4.5472, 4.5463, 4.5461, 4.5459, 4.5447, 4.5427, 4.5422, 4.5372, 4.5355, 4.5347, 4.5318, 4.5316, 4.5316, 4.5314, 4.5304, 4.5286, 4.5277, 4.5276, 4.5262, 4.5258, 4.5245, 4.5229, 4.5158, 4.515, 4.5121, 4.5101, 4.5089, 4.5057, 4.5045, 4.4987, 4.4841, 4.3854, 4.4413, 4.3586, 4.1755, 4.1871, 4.3092, 3.7395, 4.0975, 3.5611, 4.3255, 3.8151, 4.1613, 3.7659, 2.6375, 3.279, 1.3757, 2.7884, 2.0622, 1.3778, 1.8851, 5.1977, 5.1972, 5.1868, 5.1825, 5.1805, 5.1785, 5.1782, 5.1779, 5.1769, 5.1766, 5.1762, 5.1762, 5.1749, 5.1731, 5.1728, 5.1717, 5.1689, 5.1643, 5.1641, 5.1626, 5.1608, 5.1607, 5.1599, 5.1589, 5.1567, 5.156, 5.1542, 5.1537, 5.1529, 5.1518, 5.1369, 5.0785, 5.0673, 4.8442, 4.8954, 5.0015, 4.8796, 4.157, 4.419, 3.2578, 4.8295, 4.5481, 3.7586, 3.6761, 2.3632, 2.3454, 2.6775, 3.8626, 5.2547, 5.2509, 5.2493, 5.2485, 5.2412, 5.2389, 5.2363, 5.2363, 5.2354, 5.2331, 5.2318, 5.2278, 5.2274, 5.2261, 5.2249, 5.2214, 5.2203, 5.2197, 5.2196, 5.2175, 5.2146, 5.2128, 5.2128, 5.2116, 5.2101, 5.2098, 5.2087, 5.2082, 5.2077, 5.207, 5.1601, 5.1582, 5.1149, 5.0841, 5.0806, 5.1349, 4.9215, 5.1355, 4.9116, 4.7416, 4.6509, 4.6481, 3.8632, 4.7528, 4.7723, 3.8866, 4.6791, 2.1997]}, \"token.table\": {\"Topic\": [13, 8, 14, 15, 16, 17, 2, 3, 5, 6, 8, 12, 14, 17, 1, 11, 14, 20, 1, 2, 5, 6, 7, 8, 11, 19, 18, 1, 2, 3, 5, 6, 8, 12, 14, 17, 1, 2, 3, 5, 7, 13, 1, 5, 7, 11, 13, 14, 4, 4, 1, 5, 19, 1, 16, 9, 9, 1, 2, 3, 4, 5, 6, 7, 8, 9, 10, 11, 14, 16, 18, 13, 16, 15, 5, 12, 1, 2, 6, 7, 9, 11, 16, 2, 4, 6, 8, 9, 15, 17, 2, 4, 9, 15, 16, 20, 5, 7, 8, 15, 5, 8, 5, 6, 8, 13, 1, 2, 4, 7, 8, 1, 2, 3, 4, 5, 9, 17, 1, 11, 3, 14, 16, 19, 3, 5, 6, 8, 3, 4, 11, 3, 1, 4, 5, 6, 7, 8, 9, 10, 11, 15, 16, 20, 7, 7, 14, 5, 6, 7, 8, 5, 12, 7, 1, 2, 4, 6, 12, 7, 7, 7, 1, 2, 3, 4, 5, 6, 7, 9, 10, 2, 1, 2, 3, 4, 5, 6, 7, 8, 9, 11, 12, 13, 14, 15, 16, 17, 1, 2, 3, 8, 14, 9, 16, 2, 2, 2, 9, 16, 13, 14, 19, 8, 1, 3, 5, 6, 8, 12, 7, 7, 6, 20, 1, 2, 3, 4, 5, 6, 7, 9, 10, 14, 16, 3, 10, 18, 20, 1, 4, 8, 5, 10, 4, 9, 15, 1, 2, 3, 4, 5, 6, 7, 8, 10, 11, 6, 14, 15, 9, 15, 1, 2, 2, 1, 2, 3, 4, 5, 9, 12, 4, 6, 2, 16, 5, 6, 7, 8, 17, 20, 2, 2, 1, 9, 14, 1, 2, 3, 4, 5, 8, 9, 10, 12, 15, 19, 6, 3, 14, 18, 11, 20, 6, 5, 6, 12, 9, 1, 5, 7, 8, 1, 2, 7, 10, 11, 20, 15, 9, 20, 5, 18, 2, 3, 6, 7, 8, 14, 4, 14, 18, 8, 4, 5, 20, 20, 19, 5, 10, 3, 7, 9, 10, 20, 9, 15, 18, 10, 2, 10, 13, 15, 1, 2, 3, 4, 5, 6, 12, 17, 8, 7, 8, 12, 19, 14, 16, 18, 3, 16, 9, 10, 4, 10, 1, 3, 4, 5, 7, 8, 9, 11, 15, 3, 9, 11, 7, 17, 3, 4, 12, 14, 18, 3, 5, 7, 14, 15, 17, 15, 1, 4, 1, 2, 3, 4, 5, 6, 7, 11, 12, 14, 16, 17, 14, 4, 1, 2, 3, 4, 5, 7, 11, 14, 1, 3, 4, 5, 6, 7, 8, 9, 10, 11, 15, 17, 14, 15, 8, 12, 4, 10, 16, 10, 1, 3, 4, 5, 6, 8, 9, 12, 14, 16, 18, 3, 4, 9, 13, 19, 4, 8, 9, 10, 15, 1, 2, 7, 11, 8, 11, 3, 5, 16, 3, 5, 15, 2, 2, 17, 2, 2, 19, 2, 11, 5, 8, 8, 8, 13, 16, 7, 2, 4, 5, 7, 9, 4, 20, 4, 5, 18, 4, 17, 6, 11, 1, 4, 5, 5, 9, 10, 2, 3, 5, 6, 8, 9, 11, 12, 15, 16, 17, 3, 6, 12, 3, 4, 5, 12, 6, 7, 15, 17, 14, 3, 4, 5, 11, 14, 17, 19, 14, 20, 2, 3, 4, 5, 6, 8, 9, 10, 12, 14, 15, 16, 1, 2, 3, 8, 14, 11, 1, 6, 7, 8, 10, 5, 1, 2, 3, 5, 7, 11, 16, 18, 14, 19, 2, 7, 12, 12, 13, 6, 1, 2, 3, 5, 6, 7, 8, 10, 11, 12, 13, 14, 18, 18, 5, 19, 14, 19, 4, 2, 5, 6, 8, 14, 14, 4, 11, 1, 3, 5, 6, 8, 13, 16, 18, 1, 2, 3, 4, 5, 7, 9, 10, 11, 15, 14, 14, 1, 2, 5, 7, 8, 14, 4, 3, 4, 9, 10, 17, 18, 16, 4, 4, 8, 12, 1, 2, 5, 7, 12, 15, 5, 8, 8, 5, 8, 8, 8, 8, 8, 19, 5, 15, 17, 7, 15, 20, 1, 2, 3, 4, 5, 6, 8, 11, 12, 13, 14, 16, 3, 14, 17, 18, 7, 17, 16, 1, 2, 15, 16, 17, 10, 14, 3, 5, 6, 9, 11, 12, 18, 2, 3, 4, 6, 9, 10, 16, 17, 1, 2, 3, 4, 5, 6, 7, 8, 9, 11, 12, 13, 14, 15, 17, 16, 9, 17, 5, 8, 6, 1, 2, 5, 6, 12, 15, 5, 4, 8, 1, 2, 3, 4, 5, 7, 8, 10, 11, 14, 16, 17, 18, 2, 3, 4, 8, 9, 11, 14, 3, 13, 13, 10, 5, 16, 10, 3, 4, 11, 17, 17, 18, 5, 6, 11, 1, 2, 3, 4, 5, 8, 9, 7, 11, 11, 3, 5, 6, 18, 3, 5, 6, 14, 18, 3, 6, 1, 2, 3, 4, 5, 6, 7, 8, 9, 11, 12, 14, 15, 16, 17, 1, 3, 4, 7, 8, 10, 11, 12, 15, 1, 11, 1, 7, 11, 2, 1, 5, 14, 4, 5, 9, 10, 15, 17, 4, 6, 1, 18, 1, 3, 10, 1, 3, 5, 12, 18, 1, 2, 5, 11, 12, 12, 18, 4, 13, 18, 2, 1, 2, 6, 9, 13, 17, 1, 2, 4, 6, 7, 15, 2, 1, 1, 2, 6, 11, 12, 13, 14, 14, 16, 2, 4, 8, 9, 14, 15, 16, 3, 5, 6, 8, 9, 14, 5, 19, 2, 3, 4, 5, 6, 8, 14, 15, 1, 5, 5, 1, 5, 12, 6, 1, 8, 13, 14, 16, 2, 3, 4, 5, 6, 8, 9, 13, 15, 16, 17, 1, 2, 3, 4, 5, 6, 10, 11, 14, 6, 12, 5, 6, 10, 12, 9, 10, 5, 4, 10, 3, 7, 9, 1, 2, 3, 4, 5, 7, 9, 10, 16, 2, 7, 11, 1, 2, 16, 2, 5, 6, 12, 14, 16, 17, 2, 7, 11, 13, 5, 6, 1, 2, 4, 7, 12, 14, 17, 7, 1, 2, 3, 4, 5, 7, 11, 11, 13, 14, 18, 2, 9, 4, 9, 10, 15, 8, 19, 3, 5, 6, 7, 12, 12, 3, 5, 6, 7, 8, 9, 1, 2, 4, 7, 12, 12, 1, 2, 3, 4, 5, 6, 7, 8, 9, 10, 11, 12, 13, 15, 18, 20, 1, 2, 9, 10, 17, 6, 7, 10, 13, 14, 6, 14, 18, 10, 15, 1, 7, 11, 11, 1, 4, 11, 20, 3, 5, 6, 17, 18, 6, 3, 8, 16, 2, 4, 9, 14, 17, 15, 1, 3, 4, 5, 7, 9, 10, 14, 18, 1, 5, 16, 6, 20, 2, 10, 12, 15, 3, 8, 10, 11, 17, 10, 15, 20, 9, 5, 11, 14, 20, 11, 4, 11, 2, 7, 4, 7, 9, 13, 2, 6, 7, 10, 14, 1, 2, 3, 4, 5, 9, 10, 15, 11, 1, 2, 5, 7, 9, 10, 11, 13, 1, 2, 3, 4, 5, 9, 10, 1, 2, 3, 4, 5, 6, 8, 9, 10, 11, 14, 15, 10, 1, 2, 5, 7, 12, 16, 3, 6, 6, 7, 2, 7, 17, 1, 2, 7, 11, 13, 16, 16, 1, 2, 3, 5, 6, 7, 8, 9, 11, 12, 14, 17, 19, 10, 17, 5, 1, 7, 12, 19, 9, 5, 13, 16, 5, 12, 12, 4, 5, 9, 18, 1, 2, 4, 7, 1, 2, 3, 4, 5, 9, 10, 14, 18, 8, 10, 1, 9, 6, 13, 20, 1, 11, 2, 7, 17, 2, 3, 9, 14, 1, 1, 2, 3, 4, 5, 6, 7, 14, 17, 4, 4, 11, 15, 1, 2, 3, 4, 5, 6, 8, 10, 11, 12, 13, 14, 15, 18, 9, 1, 2, 4, 7, 8, 10, 5, 6, 7, 8, 9, 10, 11, 15, 16, 2, 12, 12, 2, 3, 2, 8, 19, 1, 3, 4, 5, 6, 9, 12, 13, 14, 15, 17, 1, 11, 20, 4, 16, 19, 14, 14, 6, 1, 2, 6, 7, 11, 13, 15, 8, 3, 3, 4, 8, 11, 12, 2, 6, 7, 14, 5, 6, 4, 6, 11, 8, 16, 2, 3, 4, 5, 6, 7, 8, 9, 11, 12, 14, 1, 2, 3, 5, 6, 7, 8, 14, 1, 4, 11, 11, 3, 4, 5, 6, 8, 12, 14, 16, 1, 2, 3, 4, 5, 6, 7, 8, 10, 11, 12, 14, 4, 15, 3, 5, 6, 12, 14, 3, 5, 6, 7, 8, 9, 11, 16, 1, 3, 4, 14, 3, 14, 15, 10, 6, 15, 3, 6, 18, 4, 18, 3, 4, 5, 6, 8, 9, 11, 14, 15, 2, 1, 1, 15, 12, 19, 2, 7, 10, 7, 7, 9, 18, 17, 20, 1, 2, 4, 10, 15, 16, 17, 4, 1, 3, 4, 9, 10, 14, 17, 18, 2, 2, 7, 15, 2, 7, 1, 1, 17, 2, 4, 5, 6, 7, 8, 9, 10, 15, 17, 8, 6, 7, 8, 12, 14, 18, 18, 6, 2, 17, 5, 7, 9, 18, 14, 18, 1, 6, 7, 8, 11, 6, 17, 20, 7, 1, 16, 9, 14, 17, 17, 6, 20, 2, 13, 20, 19, 3, 6, 14, 14, 1, 5, 13, 16, 13, 1, 2, 1, 2, 7, 12, 2, 10, 15, 20, 17, 1, 2, 3, 4, 5, 9, 15, 17, 1, 2, 14, 19, 5, 14, 12, 6, 1, 2, 3, 4, 5, 6, 7, 8, 9, 10, 14, 15, 13, 7, 13, 9, 10, 4, 7, 8, 10, 15, 1, 2, 3, 4, 5, 7, 8, 9, 10, 14, 15, 10, 19, 10, 9, 6, 15, 1, 2, 3, 4, 5, 7, 11, 1, 2, 3, 4, 5, 6, 7, 8, 9, 13, 14, 15, 16, 5, 1, 2, 3, 4, 5, 6, 7, 9, 10, 12, 15, 16, 1, 2, 3, 4, 5, 7, 8, 9, 10, 11, 12, 13, 14, 15, 16, 17, 18, 19, 3, 19, 1, 2, 3, 4, 5, 6, 7, 8, 9, 10, 14, 15, 16, 1, 2, 3, 4, 5, 7, 9, 13, 17, 13, 18, 19, 16, 1, 2, 3, 4, 5, 6, 7, 9, 11, 12, 13, 15, 1, 2, 3, 4, 14, 15, 20, 2, 9, 4, 13, 18, 1, 3, 4, 15, 2, 3, 4, 5, 6, 8, 9, 10, 14, 15, 17, 1, 2, 3, 4, 5, 6, 8, 9, 10, 12, 14, 1, 12, 11, 3, 14, 1, 2, 3, 4, 5, 6, 7, 8, 9, 11, 5, 8, 20, 1, 1, 2, 3, 4, 6, 8, 9, 10, 11, 14, 15, 16, 17, 1, 11, 13, 6, 8, 20, 1, 2, 5, 14, 18, 9, 17, 12, 6, 10, 13, 19, 4, 13, 1, 2, 3, 4, 5, 9, 13, 14, 11, 1, 4, 7, 8, 11, 1, 3, 4, 8, 11, 3, 2, 6, 16, 17, 15, 2, 3, 6, 7, 9, 11, 14, 20, 20, 1, 2, 3, 4, 5, 6, 8, 9, 17, 16, 4, 15, 2, 3, 4, 8, 9, 13, 14, 15, 2, 3, 14, 3, 1, 14, 1, 2, 7, 8, 13, 15, 12, 5, 14, 2, 6, 7, 13, 4, 3, 5, 6, 12, 16, 18, 3, 5, 14, 1, 2, 3, 4, 5, 3, 5, 14, 3, 6, 6, 19, 20, 10, 13, 2, 2, 9, 1, 4, 4, 8, 12, 3, 14, 6, 3, 20, 19, 1, 2, 3, 4, 5, 6, 9, 10, 11, 13, 16, 14, 2, 7, 1, 2, 3, 4, 5, 6, 7, 8, 9, 10, 11, 12, 13, 14, 16, 18, 1, 4, 15, 20, 6, 13, 1, 3, 4, 5, 6, 7, 8, 11, 12, 15, 17, 19, 8, 2, 9, 11, 4, 9, 15, 7, 7, 5, 8, 13, 1, 2, 3, 4, 5, 6, 9, 11, 13, 14, 15, 16, 18, 3, 4, 5, 6, 8, 9, 10, 13, 17, 2, 7, 10, 16, 1, 2, 3, 4, 5, 7, 9, 1, 2, 3, 4, 5, 6, 7, 8, 9, 10, 14, 15, 2, 5, 6, 8, 14, 2, 19, 19, 5, 5, 16, 1, 3, 4, 5, 9, 13, 14, 15, 17, 9, 14, 14, 13, 15, 3, 1, 2, 7, 12, 13, 19, 3, 6, 12, 1, 2, 3, 4, 5, 6, 7, 8, 9, 10, 11, 12, 14, 15, 18, 9, 15, 17, 2, 16, 20, 2, 3, 6, 8, 13, 14, 15, 9, 3, 4, 6, 8, 17, 19, 3, 4, 5, 6, 8, 14, 17, 1, 2, 3, 4, 5, 6, 7, 9, 10, 12, 18, 6, 1, 2, 4, 5, 8, 9, 14, 15, 16, 18, 18, 5, 14, 20, 13, 13, 1, 2, 3, 4, 5, 7, 8, 9, 10, 11, 12, 13, 14, 15, 16, 17, 18, 19, 2, 3, 4, 5, 6, 8, 9, 14, 16, 15, 4, 5, 8, 19, 7, 11, 16, 16, 3, 5, 6, 12, 8, 3, 3, 6, 7, 8, 11, 15, 17, 1, 2, 7, 7, 5, 6, 8, 9, 11, 16, 9, 16, 8, 20, 1, 2, 4, 5, 6, 7, 8, 10, 11, 16, 16, 6, 9, 20, 2, 8, 5, 10, 11, 11, 2, 3, 5, 6, 7, 8, 9, 10, 18, 1, 13, 14, 16, 1, 8, 17, 1, 2, 3, 4, 5, 6, 7, 9, 11, 16, 1, 2, 6, 7, 10, 12, 20, 18, 1, 4, 5, 9, 16, 17, 16, 15, 1, 3, 4, 5, 6, 8, 9, 14, 5, 1, 2, 3, 4, 6, 7, 15, 17, 20, 4, 15, 4, 10, 1, 10, 15, 6, 6, 13, 4, 19, 6, 1, 2, 3, 4, 5, 10, 18, 1, 7, 10, 3, 4, 10, 15, 4, 10, 15, 10, 10, 1, 2, 3, 4, 5, 6, 8, 9, 12, 14, 17, 14, 1, 3, 6, 8, 9, 10, 11, 14, 4, 1, 2, 3, 4, 5, 6, 10, 15, 17, 1, 2, 4, 5, 6, 10, 14, 13, 9, 1, 2, 7, 11, 12, 3, 7, 14, 18, 2, 19, 1, 2, 3, 4, 5, 6, 8, 9, 12, 13, 14, 15, 17, 1, 2, 3, 4, 5, 7, 9, 10, 12, 13, 14, 16, 18, 16, 3, 1, 5, 7, 18, 8, 1, 3, 4, 8, 14, 17, 4, 6, 7, 3, 3, 12, 9, 17, 5, 8, 1, 2, 5, 8, 14, 15, 19, 1, 2, 3, 4, 5, 6, 7, 11, 12, 14, 16, 6, 8, 1, 5, 6, 12, 1, 3, 5, 6, 8, 12, 13, 1, 3, 4, 5, 6, 8, 11, 1, 3, 4, 5, 6, 8, 11, 13, 6, 20, 11, 19, 16, 1, 2, 3, 5, 6, 7, 8, 11, 12, 8, 10, 17, 18, 14, 16, 11, 18, 10, 1, 2, 3, 4, 5, 9, 16, 13, 1, 4, 5, 7, 8, 10, 13, 16, 14, 9, 2, 5, 8, 10, 17, 1, 15, 6, 1, 2, 3, 4, 5, 9, 14, 11, 15, 7, 15, 17, 3, 12, 2, 7, 2, 2, 7, 2, 12, 2, 3, 4, 5, 7, 8, 9, 10, 11, 13, 14, 15, 17, 18, 1, 4, 5, 6, 7, 11, 12, 1, 1, 2, 3, 4, 5, 6, 7, 8, 9, 11, 13, 5, 12, 17, 5, 6, 11, 1, 2, 3, 4, 5, 6, 10, 11, 2, 2, 19, 1, 2, 3, 4, 5, 7, 9, 10, 12, 14, 8, 1, 2, 5, 11, 12, 2, 3, 4, 5, 7, 9, 11, 13, 15, 17, 7, 17, 8, 9, 9, 8, 13, 2, 4, 16, 9, 2, 5, 10, 12, 1, 7, 13, 7, 9, 15, 5, 2, 1, 2, 4, 5, 7, 9, 10, 19, 3, 8, 9, 14, 4, 19, 20, 6, 13, 13, 10, 5, 19, 11, 9, 17, 2, 3, 4, 6, 8, 9, 10, 11, 13, 20, 2, 6, 8, 11, 15, 4, 10, 10, 10, 10, 2, 3, 6, 8, 9, 10, 15, 17, 2, 16, 18, 7, 18, 10, 1, 2, 3, 4, 5, 6, 7, 10, 12, 13, 18, 1, 5, 7, 8, 2, 5, 6, 7, 8, 12, 16, 2, 2, 5, 5, 7, 8, 19, 19, 1, 2, 3, 4, 5, 8, 9, 13, 14, 17, 1, 3, 4, 8, 14, 1, 2, 3, 5, 6, 7, 8, 9, 10, 12, 14, 8, 11, 5, 7, 7, 3, 4, 6, 9, 16, 5, 6, 1, 3, 4, 5, 6, 7, 8, 9, 11, 13, 14, 16, 12, 14, 20, 12, 10, 10, 5, 3, 14, 1, 1, 6, 13, 3, 14, 1, 6, 7, 8, 10, 18, 20, 2, 18, 20, 20, 2, 4, 9, 10, 13, 14, 15, 16, 17, 12, 14, 1, 3, 4, 5, 6, 8, 9, 15, 17, 9, 13, 7, 13, 1, 2, 3, 4, 5, 9, 15, 3, 1, 1, 2, 3, 4, 5, 14, 2, 3, 4, 5, 6, 7, 11, 12, 13, 1, 2, 5, 6, 7, 11, 12, 16, 7, 1, 5, 6, 13, 13, 20, 4, 2, 2, 3, 4, 5, 6, 11, 14, 16, 18, 6, 7, 10, 16, 19, 1, 2, 3, 5, 6, 7, 10, 1, 2, 3, 4, 5, 6, 7, 8, 11, 12, 14, 16, 1, 2, 5, 7, 8, 11, 12, 1, 3, 4, 6, 13, 14, 19, 12, 2, 3, 4, 5, 6, 8, 11, 12, 17, 1, 2, 3, 4, 5, 6, 7, 9, 10, 11, 15, 9, 12, 5, 7, 12, 1, 2, 6, 7, 11, 13, 3, 2, 4, 8, 11, 12, 1, 2, 3, 4, 5, 6, 7, 8, 9, 10, 11, 12, 13, 14, 15, 16, 17, 18, 19, 9, 11, 13, 11, 1, 6, 11, 18, 2, 11, 1, 4, 5, 7, 9, 12, 14, 16, 17, 3, 2, 5, 20, 11, 18, 14, 16, 11, 18, 1, 2, 3, 5, 6, 8, 9, 11, 13, 14, 15, 16, 18, 1, 2, 3, 4, 5, 9, 10, 14, 1, 3, 5, 6, 16, 18, 2, 1, 10, 13, 15, 10, 4, 5, 6, 8, 9, 11, 13, 17, 6, 20, 18, 2, 1, 3, 4, 9, 12, 14, 15, 1, 2, 3, 4, 7, 9, 14, 15, 17, 2, 8, 11, 16, 10, 11, 20, 1, 2, 3, 4, 5, 6, 9, 13, 16, 1, 2, 3, 4, 5, 9, 10, 15, 1, 2, 3, 4, 5, 6, 7, 10, 16, 1, 2, 3, 4, 5, 6, 7, 8, 10, 11, 14, 15, 16, 15, 1, 2, 3, 4, 5, 6, 7, 9, 10, 11, 12, 13, 3, 20, 1, 5, 9, 16, 1, 1, 6, 12, 1, 2, 4, 5, 7, 9, 12, 15, 1, 2, 3, 4, 7, 2, 9, 17, 1, 2, 7, 9, 10, 13, 6, 3, 3, 4, 6, 10, 18, 19, 5, 6, 19, 19, 1, 5, 6, 7, 8, 11, 12, 16, 18, 11, 1, 2, 7, 11, 1, 7, 1, 2, 3, 4, 5, 6, 9, 10, 12, 3, 1, 2, 4, 3, 17, 7, 7, 7, 6, 14, 2, 19, 2, 4, 4, 15, 8, 6, 8, 4, 6, 20, 11, 1, 2, 3, 4, 5, 7, 8, 9, 11, 12, 13, 14, 15, 16, 17, 2, 3, 5, 6, 8, 19, 3, 17, 3, 14, 3, 8, 19, 1, 2, 3, 4, 5, 6, 8, 9, 11, 12, 13, 14, 16, 19, 1, 2, 4, 5, 6, 8, 9, 13, 17, 3, 5, 6, 12, 9, 3, 5, 6, 8, 11, 14, 19, 1, 2, 3, 5, 6, 7, 8, 11, 12, 16, 18, 6, 9, 14, 12, 16, 9, 3, 4, 5, 6, 7, 9, 14, 15, 17, 12, 15, 20, 12, 1, 13, 2, 3, 4, 5, 6, 9, 12, 14, 16, 19, 3, 5, 1, 3, 5, 7, 10, 15, 7, 1, 8, 12, 13, 15, 6, 1, 4, 8, 9, 14, 16, 12, 5, 18, 17, 4, 1, 15, 3, 7, 20, 1, 2, 3, 4, 5, 6, 7, 9, 14, 16, 17, 14, 1, 3, 4, 7, 8, 9, 10, 11, 12, 1, 2, 19, 6, 20, 14, 12, 7, 12, 1, 1, 2, 3, 4, 5, 6, 7, 8, 9, 10, 11, 12, 17, 1, 2, 7, 9, 10, 2, 4, 7, 9, 17, 18, 6, 6, 6, 10, 11, 15, 1, 3, 6, 1, 3, 6, 7, 10, 8, 16, 14, 16, 5, 16, 14, 17, 1, 2, 3, 4, 6, 8, 1, 2, 4, 5, 6, 9, 11, 12, 1, 2, 3, 4, 5, 6, 7, 8, 9, 13, 14, 15, 1, 2, 3, 4, 5, 6, 7, 8, 9, 11, 12, 13, 14, 15, 16, 17, 2, 1, 2, 3, 4, 5, 7, 9, 10, 11, 12, 13, 3, 6, 3, 3, 17, 6, 6, 9, 5, 6, 19, 20, 15, 1, 3, 4, 7, 8, 9, 10, 11, 12, 13, 15, 1, 2, 3, 4, 5, 7, 8, 9, 10, 11, 13, 18, 4, 7], \"Freq\": [0.9849823610707575, 0.9685421750869901, 0.030266942971468442, 0.73589897414552, 0.17661575379492478, 0.07849589057552213, 0.01444077209299002, 0.28430270058074103, 0.2463956738366422, 0.01714841686042565, 0.14260262441827645, 0.00722038604649501, 0.002707644767435629, 0.28430270058074103, 0.9728219760070451, 0.95744419690528, 0.032455735488314576, 0.9453049208372724, 0.033395400069859235, 0.033395400069859235, 0.12801570026779374, 0.11688390024450733, 0.1948065004075122, 0.2003724004191554, 0.05009310010478885, 0.23376780048901466, 0.9941956045172231, 0.04218620270515271, 0.051414434546904864, 0.3256247521303975, 0.006591594172680111, 0.12392197044638609, 0.3388079404757577, 0.08437240541030543, 0.019774782518040334, 0.005273275338144089, 0.04527112502515294, 0.01667883553558266, 0.9173359544570463, 0.007148072372392569, 0.011913453953987614, 0.9886365713367837, 0.9903375368694969, 0.9501094724056423, 0.04130910749589749, 0.9900940456647077, 0.9961186432969269, 0.9847676758144036, 0.9867337629320446, 0.9778192880207031, 0.9895077841762091, 0.9983793890019643, 0.966905037246378, 0.06530706247476706, 0.9142988746467389, 0.9925828957951071, 0.9854296000707851, 0.2234013079054211, 0.1979605895674372, 0.16827975150645597, 0.046641316952970475, 0.06333678836227241, 0.19001036508681723, 0.0410761598165365, 0.029150823095606546, 0.006095172101808642, 0.005565157136433977, 0.023850673441859902, 0.001060029930749329, 0.0029150823095606547, 0.0005300149653746645, 0.056673954616378926, 0.9256745920675225, 0.9869323109367327, 0.11436716475252627, 0.8815802283007234, 0.14331386134883942, 0.24147404035489378, 0.08441775394520677, 0.17276191505065572, 0.005889610740363263, 0.3494502372615536, 0.965849175492223, 0.0164924243015784, 0.023822390657835465, 0.04764478131567093, 0.010994949534385599, 0.009162457945321332, 0.8722659963945908, 0.018324915890642664, 0.034643879078412966, 0.23095919385608643, 0.011547959692804323, 0.15589745585285836, 0.4445964481729664, 0.11547959692804322, 0.8812975733711031, 0.031701351560111626, 0.057062432808200926, 0.0253610812480893, 0.013293599669697375, 0.9837263755576059, 0.13114284986147856, 0.45792503312286775, 0.4084777290767365, 0.9915174614697094, 0.14622804894003183, 0.2705218905390589, 0.029245609788006367, 0.5312952444821156, 0.021934207341004777, 0.09477040483105267, 0.1619220059684843, 0.5252988153492634, 0.15867273494570536, 0.029243439205010543, 0.028701894034547384, 0.0005415451704631582, 0.9944864045240065, 0.9783389828260046, 0.6608389157422988, 0.17077859620306599, 0.025245531612627145, 0.1425630020477768, 0.2246505215656118, 0.05079055270179049, 0.6466028055497174, 0.07423234625646302, 0.9117336306157822, 0.07318263255778854, 0.012197105426298089, 0.9849825904499715, 0.11264025634704447, 0.07262332317112077, 0.001482108636145322, 0.008892651816871933, 0.15265718952296817, 0.3334744431326974, 0.002964217272290644, 0.18081725360972928, 0.08003386635184738, 0.002964217272290644, 0.002964217272290644, 0.04594536772050498, 0.9963355936979618, 0.9883682430558223, 0.9812937308342189, 0.041007423071998055, 0.7654718973439637, 0.034172852559998385, 0.1606124070319924, 0.9790296929503655, 0.9748571948423208, 0.9952987482188426, 0.0022935832806422777, 0.9380755617826916, 0.025229416087065054, 0.032110165928991886, 0.9805119153658248, 0.9976284374172554, 0.9985295356241558, 0.99864118632745, 0.5792566733506034, 0.088987257065455, 0.12424635892157869, 0.088987257065455, 0.005876516976020613, 0.08059223281399698, 0.0008395024251458019, 0.018469053353207643, 0.011753033952041227, 0.9870830856726073, 0.05019559791186252, 0.11688403513762272, 0.20006531167728062, 0.27464162857490493, 0.027966118836609117, 0.03585399850847323, 0.02079531913491447, 0.053780997762709844, 0.10684491555525022, 0.03226859865762591, 0.005736639761355716, 0.030834438717286975, 0.007170799701694645, 0.010039119582372504, 0.005736639761355716, 0.02079531913491447, 0.1922793899141091, 0.13289899008769304, 0.05938039982641604, 0.09613969495705454, 0.5202854080028834, 0.9908511905636582, 0.9664734065552907, 0.9974639405156797, 0.9949824046572159, 0.8706864576372757, 0.12588237941743746, 0.9579897767318943, 0.9880542028630668, 0.9968348400807923, 0.9512400732203979, 0.9683960987833904, 0.03461816665220268, 0.05749088390455088, 0.13229085113520309, 0.6589815294865724, 0.11065449697757643, 0.005563633926246859, 0.9967054531512122, 0.9902631763114946, 0.022808141935155995, 0.9693460322441299, 0.6405116950170522, 0.05461267464464208, 0.07301477153577147, 0.09675941268561586, 0.05758075478837263, 0.005342544258714986, 0.007123392344953314, 0.008310624402445534, 0.04927013038592709, 0.005342544258714986, 0.0017808480862383286, 0.07948912221508456, 0.08743803443659301, 0.8187379588153709, 0.9196639542318152, 0.10949300463433234, 0.843096135684359, 0.03832255162201632, 0.10091530728284355, 0.8974254111938588, 0.7469442535149315, 0.00649516742186897, 0.24356877832008636, 0.03877494827145163, 0.251564298541613, 0.06903832253209681, 0.02175180024983872, 0.06809259208645164, 0.4690823010400002, 0.04161213960838712, 0.01702314802161291, 0.0028371913369354853, 0.018914608912903235, 0.12733576620923864, 0.8595164219123608, 0.9781307382339351, 0.9774834269183963, 0.9635599249902359, 0.9876061708343854, 0.9974233648501455, 0.9943520318749717, 0.18028593604621593, 0.6361518029059334, 0.04120821395342079, 0.11074707499981837, 0.02253574200577699, 0.003219391715110999, 0.005794905087199798, 0.912253111845991, 0.08108916549742143, 0.1228782981465612, 0.8601480870259284, 0.019256446309377777, 0.16127273784103888, 0.016849390520705554, 0.03610583683008333, 0.7630366850090944, 0.9723895091005593, 0.9987633865594694, 0.9973099429881587, 0.8199352284878672, 0.11356443607865196, 0.0635960842040451, 0.2724350314939282, 0.006776990833182295, 0.03524035233254793, 0.22906229016156157, 0.1314736221637365, 0.020330972499546882, 0.005421592666545835, 0.02710796333272918, 0.1585815854964657, 0.055571324832094815, 0.05692672299873128, 0.995870301983209, 0.3348785794048343, 0.023919898528916735, 0.6338773110162935, 0.9784564523964328, 0.9336456505238606, 0.9874751299251506, 0.6548101568177261, 0.2792572727605009, 0.06419707419781628, 0.9843256657758666, 0.2789078545314659, 0.6972696363286647, 0.008203172192101938, 0.012304758288152907, 0.1029876871066787, 0.20965350589573878, 0.2868942712257478, 0.022068790094288294, 0.3714912999205196, 0.9449170785007904, 0.9644004988136586, 0.0926717759518006, 0.8958271675340724, 0.9922718670029828, 0.9884357519375803, 0.44320097204093595, 0.0547776482297786, 0.07718668614196075, 0.007469679304060718, 0.40585257552063236, 0.00995957240541429, 0.1028069715844398, 0.04283623816018325, 0.8481575155716283, 0.9879724508184324, 0.9043874362222394, 0.024575745549517376, 0.06881208753864865, 0.9413560282006758, 0.9710313536597093, 0.9392803629997077, 0.054609323430215566, 0.08114809620413597, 0.03245923848165439, 0.7303328658372238, 0.14606657316744476, 0.9599528661163994, 0.1079444232882788, 0.8884656378342948, 0.9514203809454995, 0.9863018316320157, 0.0229878044997355, 0.3402195065960854, 0.1517195096982543, 0.4827438944944455, 0.1581615463518041, 0.0019055607994193265, 0.055261263183160464, 0.011433364796515959, 0.16768935034890073, 0.12957813436051419, 0.466862395857735, 0.011433364796515959, 0.9837017555714334, 0.09392809500390877, 0.3404893443891693, 0.09392809500390877, 0.4578994631440552, 0.7281561119099287, 0.21730313287364364, 0.05337269930229844, 0.9944394399055757, 0.9577240063115552, 0.9786856357544368, 0.9836631605728416, 0.1043725550487167, 0.887166717914092, 0.049016713612522744, 0.014853549579552348, 0.29558563663309173, 0.05941419831820939, 0.057928843360254154, 0.14705014083756823, 0.3460877052035697, 0.026736389243194224, 0.0029707099159104696, 0.9796847690759495, 0.9958112109531763, 0.9940767549032784, 0.9951183252168464, 0.9339136927374608, 0.825842734674699, 0.022320073910127, 0.03550920849338387, 0.0618874776598976, 0.05275653833302746, 0.857378122220036, 0.018774703406278157, 0.037549406812556314, 0.025032937875037544, 0.06258234468759387, 0.9920080297061535, 0.995299061173577, 0.9126877597318911, 0.08239542275357349, 0.20408761504109021, 0.2446255659739095, 0.039839020744322405, 0.05661334526824763, 0.17473254712422107, 0.016075394335428338, 0.006989301884968843, 0.02795720753987537, 0.06360264715321647, 0.04263474149830994, 0.002795720753987537, 0.11951706223296721, 0.9592606093336421, 0.993213388243482, 0.30882964045961814, 0.23113664914902238, 0.03884649565529788, 0.02525022217594362, 0.0660390426140064, 0.03496184608976809, 0.29329104219749896, 0.9886783023827372, 0.08815040047332527, 0.03154856437992694, 0.16052651875668708, 0.04917864447459199, 0.16794971037549342, 0.16794971037549342, 0.1800123967560537, 0.007423191618806339, 0.03154856437992694, 0.08907829942567606, 0.007423191618806339, 0.017630080094665053, 0.8677338598886971, 0.1292369578557634, 0.9870578650194859, 0.9950248482895404, 0.18042320893860378, 0.23680546173191747, 0.5638225279331368, 0.9899627230509962, 0.15880322536668826, 0.08398247495353706, 0.03817385225160776, 0.05191643906218655, 0.2091927103388105, 0.0030539081801286205, 0.042754714521800685, 0.3344029457240839, 0.025958219531093275, 0.039700806341672064, 0.010688678630450171, 0.34262622264894316, 0.187628645736326, 0.19578641294225324, 0.008157767205927218, 0.26104855058967097, 0.5169879127713694, 0.11014090315563956, 0.011238867668942812, 0.3394138036020729, 0.022477735337885624, 0.28856530487929327, 0.3084137120932129, 0.34200332430138464, 0.059545221641758926, 0.06002149408554291, 0.930333158325915, 0.00794133790197006, 0.9393468261187443, 0.051051457941236104, 0.34652129796820247, 0.6506114165933597, 0.980491200109371, 0.9987554946301342, 0.9879838043216076, 0.01009434282831783, 0.9970179754364349, 0.9979139059340915, 0.9756529514178244, 0.9970347365093128, 0.0017868006030632847, 0.9803973150367031, 0.010319971737228454, 0.9879778757370625, 0.9854888256246791, 0.047555464167294816, 0.9511092833458963, 0.9912458064810769, 0.838828835994907, 0.08609032790474046, 0.04194144179974535, 0.0198669987472478, 0.01324466583149853, 0.44990044525688233, 0.5302398104813256, 0.9833811178663545, 0.9886378233661811, 0.985022205300033, 0.9895606618125014, 0.9987985751106035, 0.9941747076793621, 0.9893785278021472, 0.6826281104734655, 0.12080216561749531, 0.1936669639264607, 0.9979589035374492, 0.9913413844754982, 0.9899369941679957, 0.02261709243956474, 0.036187347903303586, 0.29289134709236336, 0.5032303067803154, 0.005654273109891185, 0.01130854621978237, 0.00791598235384766, 0.05654273109891185, 0.03166392941539064, 0.03166392941539064, 0.9618276086205563, 0.4401623847993097, 0.5528683241596866, 0.00609221293839875, 0.029274176223665224, 0.9302682666631394, 0.014637088111832612, 0.024395146853054356, 0.9863120116355686, 0.08571448211630328, 0.7336151263483603, 0.1764709925923891, 0.9904318661336681, 0.06062199843529402, 0.15372006746092412, 0.5455979859176462, 0.012990428236134433, 0.056291855689915876, 0.1645454243243695, 0.006495214118067217, 0.09140359166880362, 0.883568052798435, 0.027519833079832575, 0.46976837871363325, 0.14097879402300198, 0.10428568324989186, 0.011587298138876875, 0.12311504272556678, 0.05600527433790489, 0.03765871895134984, 0.0009656081782397396, 0.01738094720831531, 0.006759257247678177, 0.0043452368020788276, 0.1799931533660676, 0.0885212229669185, 0.08261980810245727, 0.04426061148345925, 0.5989936087428152, 0.9856375404924003, 0.04668000539608468, 0.014363078583410672, 0.025135387520968677, 0.7181539291705336, 0.19749233052189674, 0.9843332633196562, 0.02693815118151524, 0.01346907559075762, 0.16162890708909144, 0.1279562181121974, 0.02020361338613643, 0.04040722677227286, 0.5859047881979565, 0.01346907559075762, 0.974242222754929, 0.9694517451919176, 0.07836801284578539, 0.19592003211446346, 0.7221052612218796, 0.9692476759074314, 0.026923546552984207, 0.9977834414485998, 0.1397207338343966, 0.018629431177919546, 0.14787110997473638, 0.12807733934819687, 0.06054565132823852, 0.05006659629065877, 0.0570526329823786, 0.002328678897239943, 0.058216972430998576, 0.3108786327815324, 0.026779807318259345, 0.04991814334275029, 0.9451168472894055, 0.9661303851400534, 0.9923060813837141, 0.9804308274646115, 0.1093418026756306, 0.8747344214050448, 0.9866013550774259, 0.07451931382790215, 0.0798421219584666, 0.15436143578636874, 0.26614040652822196, 0.4151790341840263, 0.968626000008828, 0.9969637033296682, 0.9704099355358871, 0.4047978607328198, 0.21222412116089584, 0.0727064118791958, 0.023580457906766203, 0.02751053422456057, 0.23776961722655923, 0.013755267112280286, 0.007860152635588735, 0.4015434490684901, 0.20721452922441597, 0.1779607133339102, 0.05467677493820724, 0.08985100594941062, 0.03308467273331011, 0.028209036751559148, 0.0027860777038576936, 0.0006965194259644234, 0.003830856842804329, 0.990568109492397, 0.9815901864896728, 0.31112647881224853, 0.06710571111636733, 0.11285960505934504, 0.06710571111636733, 0.06405545152016881, 0.3751819303324173, 0.9904304604410541, 0.06031288045077524, 0.12062576090155049, 0.6785199050712215, 0.11308665084520358, 0.022617330169040717, 0.9928570443453297, 0.9671364071108363, 0.9964637861749114, 0.07672890492588848, 0.9079587082896803, 0.9783107874656457, 0.09634417298030862, 0.08992122811495472, 0.025691779461415633, 0.14130478703778598, 0.6230256519393291, 0.02248030702873868, 0.20029203891397143, 0.7947071221425318, 0.9802092527506714, 0.9672579634502377, 0.02699324549163454, 0.9872107854481935, 0.9845811944274683, 0.9750775670994524, 0.9700689510174749, 0.9410693119038002, 0.974876422418171, 0.9903139945219152, 0.9690172205936378, 0.021865740394767613, 0.9693811575013642, 0.9796955837420449, 0.11638995864704657, 0.05217480904867605, 0.038796652882348855, 0.08963364631439219, 0.13645719289653735, 0.271576570176442, 0.04281009973224702, 0.04682354658214517, 0.05618825589857421, 0.0013378156166327193, 0.029431943565919823, 0.1177277742636793, 0.9934089635005189, 0.9852243284883406, 0.9964952928567405, 0.9629356452494142, 0.9941818262103498, 0.9519765498723094, 0.9629473458055141, 0.06998702487770952, 0.08748378109713692, 0.8398442985325144, 0.9363344527329328, 0.04458735489204442, 0.029198652493714405, 0.9635555322925753, 0.07168981024625096, 0.31264722801837225, 0.5263890696784909, 0.018586247100879878, 0.022569014336782708, 0.0066379453931713845, 0.04181905597697973, 0.09496633332909984, 0.07225699275040205, 0.6441194782321554, 0.01445139855008041, 0.0970308188362542, 0.05987007970747599, 0.006193456521463033, 0.008257942028617378, 0.010015342395821003, 0.14560767021616688, 0.11016876635403103, 0.3004602718746301, 0.038520547676234626, 0.053158355793203785, 0.07241862963132109, 0.022341917652216083, 0.06933698581722232, 0.023882739559265467, 0.09938301300468534, 0.026193972419839544, 0.008474520488771618, 0.015408219070493851, 0.0053928766746728475, 0.9578277171548008, 0.9760450547960455, 0.9879775083433391, 0.9823899788966906, 0.9758288669816338, 0.9803091586793606, 0.9842194600057927, 0.18994001592340026, 0.05113769659476161, 0.23377232729033878, 0.5259877364032622, 0.9857192615678211, 0.9806645380328605, 0.30055392662316266, 0.6925807874359835, 0.04957094592486023, 0.07683496618353336, 0.16234484790391726, 0.2726402025867313, 0.06816005064668282, 0.042135304036131194, 0.1722590370888893, 0.024785472962430114, 0.042135304036131194, 0.0012392736481215058, 0.0024785472962430117, 0.016110557425579576, 0.06939932429480432, 0.053650757993722854, 0.20864183664225555, 0.5037210056077313, 0.1490298833158968, 0.04917986149424595, 0.014902988331589682, 0.019373884831066588, 0.9853089066550977, 0.993490110233289, 0.9896788383147107, 0.9944459195558242, 0.7358335415718822, 0.2581872075690815, 0.9884551696910547, 0.9959192519149811, 0.9939746236129545, 0.9515764504966225, 0.038063058019864905, 0.9934526278398144, 0.9749147898379581, 0.03797646344789639, 0.9595386431168488, 0.9863350869624204, 0.1029789561368197, 0.08238316490945577, 0.1304400111066383, 0.18765054229376035, 0.2105347547686092, 0.006865263742454647, 0.27918739219315564, 0.0227271559656513, 0.9727222753298758, 0.9942112862104661, 0.17039852129453756, 0.07445985804467188, 0.0687321766566202, 0.6844579258721761, 0.17682839268189215, 0.053048517804567645, 0.06188993743866225, 0.2254562006694125, 0.4774366602411088, 0.2510732500706416, 0.747133125967788, 0.025847734846347652, 0.006203456363123437, 0.2667486236143078, 0.3253368225993625, 0.07685393160980702, 0.02377991605863984, 0.03239582767408906, 0.033774373532560936, 0.13406358473638982, 0.0017231823230898435, 0.004824910504651562, 0.028604826563291403, 0.031017281815617186, 0.005858819898505468, 0.0031017281815617186, 0.004013574204816285, 0.12241401324689669, 0.19666513603599797, 0.020067871024081425, 0.07826469699391755, 0.34316059451179237, 0.04013574204816285, 0.0662239743794687, 0.12642758745171298, 0.6188574917186527, 0.3761682792799654, 0.22426803542865084, 0.02038800322078644, 0.7441621175587051, 0.9910746019314909, 0.8912436199402393, 0.10610043094526657, 0.9780168463602097, 0.8608299594985498, 0.0077204480672515684, 0.023161344201754704, 0.05790336050438676, 0.03860224033625784, 0.0077204480672515684, 0.9811562560844252, 0.9802992095951855, 0.046895275867527404, 0.9520625817633867, 0.19383686354374105, 0.7671859020257541, 0.036726984671445674, 0.16959316289320725, 0.8224106803314434, 0.004646388024471432, 0.002323194012235716, 0.9957990164239333, 0.14037681056507717, 0.041733646384212134, 0.2921355246894849, 0.5121856601698762, 0.01138190355933058, 0.3112755702526503, 0.6781360637647025, 0.993213388243482, 0.9946782894327766, 0.9635919572831738, 0.991622691941114, 0.05402375552726279, 0.36154359468245095, 0.012467020506291412, 0.041556735020971375, 0.5256926980152878, 0.004155673502097138, 0.0641153470045218, 0.04371500932126486, 0.19526037496831639, 0.040800675366513876, 0.20691771078732035, 0.4488074290316526, 0.9958859488961004, 0.9925787250916112, 0.1561894702350929, 0.04753592572372393, 0.06790846531960561, 0.60438534134449, 0.033954232659802804, 0.006790846531960561, 0.07469931185156617, 0.8356775537943937, 0.16279432866124552, 0.06685267398337251, 0.25849700606904036, 0.013370534796674502, 0.06685267398337251, 0.08468005371227184, 0.080223208780047, 0.4234002685613592, 0.11325873738978767, 0.2583714946704531, 0.07078671086861729, 0.5344396670580606, 0.010618006630292593, 0.010618006630292593, 0.15621409923639026, 0.8257030959637771, 0.00826335537958857, 0.4829472144070654, 0.014690409563713015, 0.022035614345569523, 0.21117463747837462, 0.2212742940534273, 0.03948047570247873, 0.0009181505977320635, 0.977739617326087, 0.994742222563069, 0.998944759042994, 0.039515005842395895, 0.9220168029892376, 0.03512444963768524, 0.9868005021792854, 0.8398263447415135, 0.006638943436691806, 0.07634784952195577, 0.03983366062015083, 0.03651418890180493, 0.010748429249232416, 0.39154992265060945, 0.22725250412662823, 0.058348615924404545, 0.004606469678242464, 0.021496858498464833, 0.04913567656791962, 0.035316267533192225, 0.14433604991826388, 0.04145822710418218, 0.01535489892747488, 0.5738381490005605, 0.19582592181513184, 0.029227749524646542, 0.06917234054166349, 0.09742583174882181, 0.023382199619717235, 0.0019485166349764362, 0.007794066539905745, 0.0019485166349764362, 0.05485559393216145, 0.9409844189901541, 0.0014773783776211298, 0.06795940537057198, 0.026592810797180337, 0.9026781887265103, 0.9787600729471434, 0.98952916456548, 0.9968327651868149, 0.00877917208595084, 0.983267273626494, 0.992344326820658, 0.03606674956880754, 0.9497577386452652, 0.3843224918995945, 0.34445822536821663, 0.049927091092696566, 0.06811758164584958, 0.1087559116050212, 0.025157061403296717, 0.002709221997278108, 0.009675792847421814, 0.005805475708453089, 0.8823983171293319, 0.030427528176873515, 0.08621132983447495, 0.07876137390664058, 0.9188826955774735, 0.9901505861324349, 0.7623210629349787, 0.06649529520928163, 0.07599462309632186, 0.03562247957640088, 0.021373487745840525, 0.011874159858800292, 0.023748319717600583, 0.8981107646635427, 0.07028692940845117, 0.027333805881064342, 0.9916883906930919, 0.18823918055888286, 0.8099988981624657, 0.16056906580915117, 0.09445239165244187, 0.09445239165244187, 0.004722619582622094, 0.13695596789604073, 0.028335717495732562, 0.48170719742745355, 0.9895059929899649, 0.2535685794010268, 0.4795560150777313, 0.0017794286273756265, 0.016014857646380637, 0.1290085754847329, 0.09342000293722039, 0.025801715096946582, 0.024899759470666777, 0.09959903788266711, 0.7843424233260035, 0.08714915814733372, 0.9752918385908902, 0.022628580941783997, 0.03621212726546273, 0.048282836353950316, 0.8570203452826181, 0.054318190898194105, 0.9663075960726131, 0.9528502824341967, 0.07057386871056516, 0.043545578566093396, 0.5425678984556924, 0.004504715024078627, 0.33835415069746133, 0.9925897525680285, 0.16322801670568404, 0.1110330113637502, 0.7003620716790397, 0.0018980001942521401, 0.017082001748269262, 0.005694000582756421, 0.784102778803228, 0.07812094106157623, 0.05497399556184993, 0.08101430924904202, 0.9929137254380066, 0.9933590941773852, 0.3192578206282385, 0.15019172945278136, 0.030520244487730976, 0.04216612725278621, 0.10802560219999516, 0.0622452354683987, 0.07951326853382543, 0.009236389779181743, 0.004417403807434746, 0.1108366773501809, 0.0008031643286244993, 0.010039554107806242, 0.04658353106022096, 0.02570125851598398, 0.00040158216431224967, 0.9603774370743502, 0.09710851816143724, 0.09710851816143724, 0.09225309225336538, 0.7137476084865637, 0.9737390984789096, 0.01298478144884986, 0.017313041931799816, 0.008656520965899908, 0.9478890457660398, 0.008656520965899908, 0.028939137905006757, 0.004134162557858108, 0.9632598759809392, 0.9913723487003243, 0.9893744465908113, 0.22034118117336515, 0.06009304941091777, 0.7153934453680687, 0.9859196651253593, 0.05156837212003661, 0.9422947996479416, 0.09039556019874971, 0.8587578218881222, 0.021966899635458188, 0.010983449817729094, 0.8962495051266941, 0.002196689963545819, 0.06809738886992038, 0.994366483602864, 0.9357617581750417, 0.05198676434305787, 0.96124886203354, 0.11733681576695477, 0.8594128938606688, 0.009513795872996333, 0.012685061163995112, 0.9949788585804946, 0.9834396104872818, 0.7808884658190467, 0.047924562884201424, 0.036648195146742266, 0.028190919343647897, 0.047924562884201424, 0.031010011278012686, 0.016914551606188738, 0.008457275803094369, 0.9656231286426838, 0.9220650103318486, 0.07193414974220096, 0.979241075318022, 0.28584394348835873, 0.6907895300968669, 0.01525328337415045, 0.9762101359456288, 0.007626641687075225, 0.0010895202410107464, 0.001472005596348329, 0.06182423504662982, 0.934723553681189, 0.9885603933076849, 0.9726827350213458, 0.13204480536651686, 0.8000361736912491, 0.06602240268325843, 0.9913752480515643, 0.11044078176469956, 0.08940444238094726, 0.7993808965825873, 0.9404444419942237, 0.9738153063571796, 0.03138548933772117, 0.9572574248004957, 0.09156167429386793, 0.9079866034141904, 0.42920863883715443, 0.175117124645559, 0.3914382786194849, 0.991881887156034, 0.058649116180447665, 0.06353654252881831, 0.7966504947844142, 0.024437131741853194, 0.05376168983207703, 0.6183043748237871, 0.060456427760548076, 0.22121556521473273, 0.05633439859505616, 0.02198415554929021, 0.008244058330983827, 0.012366087496475742, 0.9727156286513837, 0.9900330446376407, 0.0879341203127897, 0.10258980703158799, 0.06961451191429185, 0.014655686718798284, 0.04030313847669528, 0.6008831554707297, 0.010991765039098713, 0.07327843359399143, 0.7537188389755929, 0.07304209300014099, 0.0642266679828826, 0.0686343804915118, 0.028964967913849015, 0.008815425017258396, 0.0012593464310369136, 0.35607121181275664, 0.2089983199770528, 0.15158828763767718, 0.1493305897366905, 0.03580063814421738, 0.009998376418655303, 0.012578602591211512, 0.03805833604520406, 0.02451214863928397, 0.0003225282715695259, 0.0003225282715695259, 0.012578602591211512, 0.9966872695776104, 0.20001806590977547, 0.005839943530212423, 0.4905552565378435, 0.2664474235659418, 0.03649964706382764, 0.9638118847127711, 0.39635982712674966, 0.6032573321958448, 0.034139163538975344, 0.9627244117991047, 0.2032347840460376, 0.7937142241797954, 0.9894170953348247, 0.23765432962809696, 0.04320987811419944, 0.04591049549633691, 0.008101852146412396, 0.14583333863542314, 0.5185185373703933, 0.9859252163521539, 0.12783271381040298, 0.25298362243597233, 0.13587812936490387, 0.02949985703316992, 0.07151480492889677, 0.05274216863506137, 0.20828686935541185, 0.08224202566823129, 0.006257545431278468, 0.02413624666350266, 0.002681805184833629, 0.0035757402464448385, 0.002681805184833629, 0.08549499617727571, 0.9024471818712436, 0.9904487920002364, 0.17945281530406046, 0.0024924002125563953, 0.8150148695059412, 0.9621313077876988, 0.9812772228296599, 0.9730009103780006, 0.9839496701283398, 0.9852000469130968, 0.9957015004381596, 0.990324458338282, 0.9813580976568205, 0.9911546277381124, 0.06664698575832453, 0.9219499696568227, 0.9335610051745863, 0.7472215075267383, 0.13405302792838494, 0.04716680612295026, 0.07199144092450302, 0.2367194091792592, 0.13905938386763658, 0.07642958502648728, 0.029722616399189494, 0.06687588689817636, 0.004246088057027071, 0.024415006327905657, 0.05095305668432485, 0.37047118297561193, 0.9807300824311249, 0.9888636989086091, 0.9876639493746953, 0.9829927290161252, 0.10267474111443173, 0.04106989644577269, 0.8213979289154538, 0.18926105290481823, 0.8081446959035739, 0.9817954398369376, 0.01583541031995061, 0.9734368500831366, 0.032357039958872826, 0.91678279883473, 0.016178519979436413, 0.032357039958872826, 0.995109697814498, 0.18062943782240803, 0.07586436388541137, 0.6135379904701126, 0.009633570017195095, 0.042146868825228535, 0.04154477069915385, 0.034319593186257526, 0.003010490630373467, 0.9784652356657197, 0.9963034148453073, 0.9957128953831577, 0.9862349566705828, 0.994304458371497, 0.32706897300443416, 0.015574713000211151, 0.14309267568943995, 0.03893678250052788, 0.12265086487666281, 0.04185704118806747, 0.008760776062618773, 0.0321228455629355, 0.11973060618912322, 0.005840517375079181, 0.12070402575163641, 0.0038936782500527877, 0.0009734195625131969, 0.020441810812777135, 0.9864790371406473, 0.03633595713400073, 0.40925762245663977, 0.0669346578784224, 0.40160794727053434, 0.08223400825063322, 0.99834186118379, 0.05016619661129005, 0.14333199031797156, 0.12183219177027582, 0.057332796127188626, 0.07166599515898578, 0.03583299757949289, 0.07166599515898578, 0.014333199031797157, 0.4443291699857118, 0.9973002748413902, 0.9889628000892857, 0.9811396252844881, 0.9884489802190756, 0.9876073863655209, 0.02697499860721722, 0.97109994985982, 0.9585908825188774, 0.000382133540132431, 0.21590545017482352, 0.4027687512995823, 0.0296153493602634, 0.0001910667700662155, 0.23864239581270316, 0.0013374673904635085, 0.009171204963178345, 0.001528534160529724, 0.04833989282675252, 0.051970161458010616, 0.9524707151046178, 0.04396018685098236, 0.9402532514615686, 0.25078903727680923, 0.6599711507284455, 0.07919653808741345, 0.9762151745667129, 0.9731114077847731, 0.9929558580881376, 0.03701400549794252, 0.6173936117056813, 0.019247282858930112, 0.22208403298765514, 0.08883361319506206, 0.01480560219917701, 0.9706833737533638, 0.9875112251065953, 0.9834011148273806, 0.08189953451478905, 0.07625129075514843, 0.841588320186453, 0.9846086927889433, 0.9839015529064066, 0.045781909653927956, 0.9457234479939974, 0.0013080545615407988, 0.005232218246163195, 0.018849321223317443, 0.9801647036125071, 0.00926913489402342, 0.9825282987664825, 0.9856059799766765, 0.9773493387251438, 0.9614272761907753, 0.055647947949746694, 0.027823973974873347, 0.0453970101695302, 0.0351460723893137, 0.5140113086937129, 0.008786518097328425, 0.16547942416635203, 0.002928839365776142, 0.019037455877544924, 0.10690263685082918, 0.019037455877544924, 0.0696166594456728, 0.08632465771263427, 0.02784666377826912, 0.05012399480088442, 0.27289730502703735, 0.03620066291174986, 0.23669664211528751, 0.21720397747049913, 0.9941605073949729, 0.9923046342562418, 0.9907908523173945, 0.9724851968247412, 0.40241182563751104, 0.08205360435992634, 0.0008729106846800674, 0.2924250793678226, 0.008729106846800673, 0.16410720871985268, 0.04626426628804357, 0.0008729106846800674, 0.0010784286061322494, 0.00808821454599187, 0.12132321818987805, 0.010784286061322495, 0.23455822183376424, 0.2609797226840044, 0.02372542933490949, 0.2820090805035832, 0.004313714424528998, 0.0372057869115626, 0.01617642909198374, 0.0005392143030661247, 0.9915494606701196, 0.9862001378439923, 0.19332634999961298, 0.04578781973675044, 0.3103396671046419, 0.37647762894661474, 0.07122549736827846, 0.07863602249077378, 0.0639750691450363, 0.05864381338294994, 0.006664069702607947, 0.07197195278816583, 0.655744458736622, 0.05731099944242835, 0.006664069702607947, 0.861522028297906, 0.01697580351325923, 0.11883062459281463, 0.9883803849822611, 0.9335845834026544, 0.00666846131001896, 0.05334769048015168, 0.9907451508725703, 0.9899564691245711, 0.9897616403416376, 0.20772135448115484, 0.6177687035868111, 0.16995383548458123, 0.9916691673956999, 0.9511018794680683, 0.26089588850008594, 0.14823630028413973, 0.009882420018942649, 0.06720045612881001, 0.3439082166592042, 0.08597705416480105, 0.000988242001894265, 0.04249440608145339, 0.04051792207766486, 0.9926496044286096, 0.9932698488912358, 0.2155484608367109, 0.7698159315596818, 0.987322042487728, 0.9648539036970744, 0.9554728649615954, 0.0412164765277551, 0.9952185899499794, 0.9981564800856132, 0.9977271584385611, 0.9819519173522483, 0.9942350942684783, 0.9297820654272992, 0.9443104313435413, 0.0096895856296968, 0.0581375137781808, 0.8139251928945312, 0.024223964074242002, 0.0532927209633324, 0.0145343784445452, 0.0193791712593936, 0.9927810218425688, 0.020898314118500093, 0.12538988471100054, 0.224656876773876, 0.5224578529625024, 0.03657204970737516, 0.020898314118500093, 0.05224578529625023, 0.005224578529625023, 0.999261173066439, 0.26960610634895166, 0.7113453421360801, 0.0186650381318505, 0.16954399346681812, 0.8287193473766024, 0.9978770580015519, 0.3133920525216341, 0.6808172175469982, 0.2559591973994277, 0.4254338878277176, 0.060277080616247466, 0.017471617569926802, 0.0043679043924817005, 0.044552624803313345, 0.11356551420452422, 0.0034943235139853605, 0.032322492504364586, 0.04193188216782433, 0.9755833924966889, 0.07933323361645914, 0.02644441120548638, 0.8065545417673345, 0.06611102801371595, 0.01322220560274319, 0.9890676042106058, 0.9856551557612395, 0.9954693989194645, 0.9845120269053242, 0.012462177555763598, 0.9459513391114662, 0.016595637528271336, 0.03319127505654267, 0.986972480374202, 0.09410550142356844, 0.8845917133815433, 0.06926785583719923, 0.08815908924734447, 0.08815908924734447, 0.7178668695855193, 0.025188311213526993, 0.24519563187065557, 0.6888829657318418, 0.05837991235015609, 0.9880078218464162, 0.9920531183621497, 0.9796181873715154, 0.8166575371051689, 0.03288553840691955, 0.14798492283113798, 0.979028649833462, 0.013820608305479093, 0.9812631896890156, 0.2145569454069515, 0.2145569454069515, 0.548312193817765, 0.9880398430542876, 0.11392820131586492, 0.11910675592113151, 0.7638368042768217, 0.9715595319625822, 0.006119836773951778, 0.9893736117888707, 0.004079891182634518, 0.9570056857488646, 0.9862742415067058, 0.9689472340913525, 0.03145932578218677, 0.24483865516428488, 0.004896773103285698, 0.6684095285984977, 0.07834836965257116, 0.12626191372604958, 0.8686819664352211, 0.9899199656217855, 0.9687668161369952, 0.9849014998216564, 0.3722858912860049, 0.22784979202302746, 0.27164813217432215, 0.0784925309452978, 0.031987551795889385, 0.013779253081306196, 0.001476348544425664, 0.0024605809073761065, 0.053530123681741794, 0.9429537171629901, 0.975319872024068, 0.9804308274646115, 0.9179938898025136, 0.07418132442848595, 0.981733460184279, 0.9931771032029197, 0.4169051442484689, 0.0685146438609887, 0.028440040847957572, 0.1318583712041669, 0.01615911411815771, 0.04912370691919944, 0.06399009190790453, 0.06463645647263085, 0.005817281082536776, 0.10923561143874612, 0.0006463645647263084, 0.04524551953084159, 0.9971812105403856, 0.021949671155161013, 0.9657855308270845, 0.9892895333624577, 0.9947964025447724, 0.027531514137651633, 0.04505156858888449, 0.022525784294442245, 0.8910199120912711, 0.01251432460802347, 0.6033968420669261, 0.0744934372922131, 0.03103893220508879, 0.017381802034849722, 0.008690901017424861, 0.08442589559784151, 0.009932458305628413, 0.003724671864610655, 0.09684146847987703, 0.06952720813939889, 0.0012415572882035516, 0.05690845969156621, 0.9295048416289147, 0.9852289136748744, 0.9830207286334275, 0.9600637687844064, 0.03555791736238542, 0.2678010276703323, 0.6830430705748926, 0.02607800269448929, 0.008024000829073627, 0.00601800062180522, 0.00300900031090261, 0.00601800062180522, 0.37135066686277596, 0.176620598295606, 0.2390450075846441, 0.09864334983216597, 0.050493464168948884, 0.016831154722982963, 0.009587366614357383, 0.0006391577742904922, 0.020239996185865586, 0.0006391577742904922, 0.0006391577742904922, 0.008522103657206563, 0.00681768292576525, 0.9875733501210068, 0.0635006126625765, 0.05113036344259407, 0.1888524714250652, 0.06102656281858002, 0.14184552438913195, 0.2218398026783517, 0.009071516094653786, 0.00989619937598595, 0.06679934578790515, 0.1715341225170898, 0.009071516094653786, 0.005772782969325137, 0.029957552378093444, 0.10858608797636016, 0.27829200801633724, 0.2990936328579624, 0.04015757691433438, 0.013974836766188364, 0.0020881939995453878, 0.12818298551055532, 0.005300800152692138, 0.0012850424612587, 0.007308678998408856, 0.010119709382412263, 0.009798448767097588, 0.03541898283844292, 0.0031322909993180812, 0.024094546148600626, 0.0015259879227447063, 0.0016866182304020438, 0.9609512154345036, 0.029119733801045565, 0.07445882113845273, 0.03290040934024656, 0.035497810077634445, 0.08138522310482044, 0.01645020467012328, 0.39047591085397887, 0.0251082071280829, 0.25194787152662496, 0.03376620958604252, 0.03896101106081829, 0.010389602949551545, 0.005194801474775772, 0.001731600491591924, 0.5173447080970552, 0.18209172291573983, 0.09359854916229617, 0.056159129497377704, 0.044246586876721825, 0.002552687704426259, 0.10295840407852579, 0.0008508959014754198, 0.9629584407267232, 0.983391918522315, 0.9917557848883446, 0.9714989092709321, 0.9759667998192962, 0.48309679579982234, 0.1277316491110313, 0.02997055454001852, 0.06136827834384745, 0.09347958677958157, 0.00499509242333642, 0.01498527727000926, 0.020693954325250882, 0.016412446533819666, 0.06779054003099427, 0.05494601665670062, 0.024261877484776897, 0.27600723990421433, 0.04236953244143641, 0.6173846155752162, 0.05810678734825564, 0.001210558069755326, 0.0036316742092659775, 0.9773707666958328, 0.976996075474423, 0.018788386066815828, 0.9867842720177511, 0.9949684697565102, 0.9682782156436126, 0.9825623503097474, 0.98668989034415, 0.9956847892861143, 0.9641329337019975, 0.015778192808098637, 0.39663112265875533, 0.02339525140511177, 0.05495163702130904, 0.10881512281447335, 0.24918663124514398, 0.015778192808098637, 0.006528907368868401, 0.06637722491682874, 0.013057814737736801, 0.049510880880585376, 0.3883949927273018, 0.2485214656107515, 0.1274688412254801, 0.03764180546255789, 0.13217406690829986, 0.027803606307571168, 0.01026594694433397, 0.004277477893472487, 0.005560721261514233, 0.0034219823147779898, 0.014971172627153705, 0.9899640552388619, 0.9837778680005277, 0.9763721281955978, 0.301060519715421, 0.6895257064449966, 0.24857105394631435, 0.39560164467926495, 0.03899153787393166, 0.07310913351362186, 0.06864135313223386, 0.09016793133346697, 0.052801040870949126, 0.021932740054086557, 0.006498589645655277, 0.003655456675681093, 0.02688378399896195, 0.9678162239626301, 0.952797246419933, 0.9800639571786356, 0.04560361469745232, 0.16214618559094157, 0.13934437824221543, 0.19761566368896005, 0.06460512082139079, 0.03800301224787694, 0.0038003012247876935, 0.11020873551884311, 0.008867369524504619, 0.059538052521673865, 0.006333835374646156, 0.043070080547593856, 0.12160963919320619, 0.20016517586869545, 0.7901256942185346, 0.9872680818656664, 0.05239393937824001, 0.3405606059585601, 0.6025303028497601, 0.06033623120928189, 0.30168115604640944, 0.08447072369299465, 0.09653796993485102, 0.45252173406961416, 0.9871274942728927, 0.9569447462845078, 0.9800375448900651, 0.17919737351172807, 0.1556187717338691, 0.6649165701356226, 0.9720143584842716, 0.9880918556351727, 0.9942140372347241, 0.26304164055275775, 0.5316326828049407, 0.06437305971333311, 0.06881258107287333, 0.03884581189597688, 0.023307487137586128, 0.009988923058965484, 0.0011098803398850536, 0.9719003107936484, 0.06924432806961348, 0.005326486774585652, 0.03195892064751391, 0.01864270371104978, 0.8708805876447541, 0.051430573475992954, 0.08743197490918803, 0.015429172042797886, 0.1131472616471845, 0.7303141433590999, 0.9842463432945495, 0.05993074985411482, 0.044948062390586116, 0.05993074985411482, 0.8090651230305501, 0.9932476214293428, 0.026105681673325058, 0.892200061894227, 0.029176938340775064, 0.009213770002350019, 0.02764131000705006, 0.007678141668625017, 0.0046068850011750095, 0.0015356283337250034, 0.9555265292334005, 0.000974704095735287, 0.14620561436029303, 0.19006729866838096, 0.125736828349852, 0.3518681785604386, 0.11014156281808743, 0.06140635803132308, 0.005848224574411721, 0.008772336861617583, 0.9753271381031206, 0.19292496616777222, 0.7974231934934585, 0.08133416616289052, 0.2455086867509473, 0.4126955838635556, 0.015061882622757504, 0.10242080183475102, 0.07380322485151176, 0.055728965704202764, 0.012049506098206002, 0.09519711398347733, 0.8981640754093296, 0.9804302440250874, 0.9912326168667751, 0.9754715239586909, 0.010960354201783044, 0.26378344044685337, 0.016486465027928335, 0.5205012530245946, 0.12482609235431454, 0.06123544153230524, 0.014131255738224286, 0.9947993160742801, 0.9741299251923072, 0.9555827265204794, 0.07857894772127139, 0.004622291042427729, 0.018489164169710914, 0.8921021711885517, 0.9920749697551704, 0.7244909372485961, 0.07716471520990965, 0.025721571736636552, 0.08145164383268241, 0.062160465030204996, 0.03000850035940931, 0.5636355697251257, 0.014378458411355249, 0.4169752939293022, 0.9130120494770158, 0.0029595204196985925, 0.04735232671517748, 0.007398801049246481, 0.02811544398713663, 0.9523570704214241, 0.002272928569024879, 0.0431856428114727, 0.96875830956447, 0.026006934484952213, 0.2600538664059848, 0.7244357707023863, 0.9313353559861774, 0.9932896237954403, 0.9958221892851754, 0.9956702353292687, 0.9451608725920165, 0.04993302723127634, 0.9297769559057909, 0.06236308850587622, 0.9405603734543654, 0.02871940071616383, 0.02871940071616383, 0.3786341490856631, 0.6205392998903924, 0.9986414937149235, 0.9982571769542568, 0.9498792911815249, 0.985537460848272, 0.45658145724843535, 0.22137282775681713, 0.15176145027859925, 0.07955585997510616, 0.04799293726759122, 0.020321333797989075, 0.007782638475825603, 0.006053163258975469, 0.006917900867400535, 0.00043236880421253346, 0.0012971064126376004, 0.9824761057207024, 0.17584852964896808, 0.8206264716951843, 0.13397819213165757, 0.43310772010877424, 0.029846626960022726, 0.012601909160898485, 0.12203954134764848, 0.04443831125158939, 0.021224268060460606, 0.026530335075575756, 0.009285617276451516, 0.0019897751306681816, 0.02852011020624394, 0.07826448847294848, 0.005306067015115152, 0.010612134030230303, 0.02586707669868636, 0.016581459422234848, 0.9552254484395656, 0.03898879381385982, 0.08386868054903614, 0.8806211457648795, 0.23501766840389426, 0.764493271539516, 0.18094165581397148, 0.029789175042544084, 0.05516513896767423, 0.11584679183211588, 0.04744201951219983, 0.0860576167895718, 0.3089247782189757, 0.07281798343732998, 0.017652844469655753, 0.0639915612025021, 0.018756147249009238, 0.0033099083380604536, 0.9653988111361945, 0.42090442230492536, 0.0831416142824544, 0.4936533348020729, 0.05397526022867731, 0.07196701363823642, 0.8681021020112267, 0.9929527544902974, 0.9912463765450771, 0.9882719758855997, 0.7050251149477736, 0.2881854484458053, 0.21541367281285795, 0.1057395882528869, 0.45246707531467883, 0.029508722303131226, 0.15639622820659552, 0.007868992614168327, 0.017705233381878738, 0.0004918120383855205, 0.0014754361151565615, 0.002459060191927602, 0.005901744460626246, 0.002459060191927602, 0.002459060191927602, 0.4870288695548579, 0.0037463759196527534, 0.09178621003149245, 0.007492751839305507, 0.318441953170484, 0.02060506755809014, 0.02060506755809014, 0.03746375919652753, 0.013112315718784637, 0.06453308750033322, 0.12906617500066644, 0.10038480277829612, 0.6955232763924802, 0.39057073534693565, 0.2776346191020386, 0.08806328111953282, 0.19898268100291386, 0.0006722387871720063, 0.02016716361516019, 0.022856118763848216, 0.06925700270921069, 0.06527671519718709, 0.09552690028856647, 0.3017057934113891, 0.019105380057713294, 0.059704312680354046, 0.048559507646687955, 0.23404090570698785, 0.07164517521642486, 0.007164517521642486, 0.001592115004809441, 0.025473840076951058, 0.06853521759395119, 0.043613320287059845, 0.07476569192067402, 0.7975007138205229, 0.006230474326722835, 0.02382107976752222, 0.96475373058465, 0.953020621208474, 0.9950834214872178, 0.10674666998725785, 0.8806600273948773, 0.0003944764344720886, 0.21065041600809534, 0.4104527300682082, 0.01873763063742421, 0.24615329511058331, 0.009861910861802216, 0.0007889528689441772, 0.049112316091775035, 0.0538460333054401, 0.985414660369711, 0.9647618343083906, 0.9785758092074544, 0.9767816376702737, 0.984279437748952, 0.9871180739985516, 0.14007684227594333, 0.01500823310099393, 0.4452442486628199, 0.12006586480795144, 0.06003293240397572, 0.215118007780913, 0.03445679139057475, 0.24119753973402325, 0.7235926192020697, 0.12895564110897037, 0.04168263146956618, 0.07229331395502885, 0.01628227791779929, 0.298291331454083, 0.14979695684375346, 0.050149415986821815, 0.05861620050407744, 0.009769366750679574, 0.014328404567663374, 0.07620106065530068, 0.08141138958899645, 0.0006512911167119716, 0.0006512911167119716, 0.0006512911167119716, 0.977958924118941, 0.9850134161304004, 0.9592768876897152, 0.09875542700728256, 0.888798843065543, 0.9595596605104196, 0.09988206240624227, 0.21256951742866945, 0.0025610785232369816, 0.015366471139421889, 0.03585509932531774, 0.6249031596698235, 0.007683235569710944, 0.9823849631651586, 0.0018722221956379726, 0.8087999885156042, 0.061783332456053094, 0.013105555369465808, 0.11420555393391632, 0.9855461594383065, 0.18765265453571303, 0.09757938035857078, 0.11259159272142781, 0.11634464581214207, 0.06755495563285668, 0.06755495563285668, 0.3415278312549977, 0.21261120840988654, 0.10168362141342399, 0.026411330237252985, 0.011885098606763842, 0.10564532094901194, 0.23241970608782628, 0.044899261403330074, 0.025090763725390337, 0.007923399071175896, 0.20732894236243593, 0.023770197213527685, 0.9947903519721952, 0.09611161266550577, 0.15103253418865192, 0.27710101313951013, 0.09985622095117483, 0.017474838666455595, 0.18473400875967344, 0.021219446952124653, 0.0012482027618896854, 0.006241013809448427, 0.14728792590298287, 0.9956381714475471, 0.9252142641351927, 0.05565198581264317, 0.013912996453160792, 0.995885392985977, 0.9864676039750095, 0.036483012087334045, 0.10834862058419391, 0.26858607274503693, 0.31370311553517394, 0.03521330168986302, 0.0009311209581454164, 0.006009962548029506, 0.13382747589344576, 0.0037244838325816657, 0.0010157683179768178, 0.0009311209581454164, 0.011765983016564808, 0.009311209581454165, 0.03631371736767124, 0.003301247033424658, 0.026156034187903063, 0.002454773435110643, 0.0020315366359536357, 0.3130158036664983, 0.17492059616657257, 0.07825395091662457, 0.03529099747220324, 0.15650790183324914, 0.059841256583301146, 0.027619041499985144, 0.14883594586103105, 0.004603173583330857, 0.9658165575958424, 0.9838124121473295, 0.008863174884210175, 0.9719534074996456, 0.9821306249342667, 0.990636097110175, 0.9773630147301163, 0.9896528901666645, 0.9824473087010366, 0.08545400385829005, 0.03610732557392537, 0.08906473641568258, 0.7883432750307039, 0.9693135856844967, 0.9832018979876159, 0.23507030576319057, 0.15783291958385653, 0.1444003306831028, 0.11417700565640686, 0.33245657529365524, 0.006716294450376873, 0.01007444167556531, 0.9244593651506242, 0.07222338790239252, 0.9900145828771049, 0.9916619330836051, 0.20075631402218347, 0.07771212155697425, 0.03885606077848713, 0.03885606077848713, 0.03238005064873927, 0.6087449521962983, 0.049043384709072047, 0.9440851556496369, 0.991107796901305, 0.9255095410168941, 0.19019992435083832, 0.28307098116277113, 0.1121882366288148, 0.10327261517486926, 0.13670619562716504, 0.03194764354330488, 0.13447729026367866, 0.0014859369089909244, 0.002971873817981849, 0.003714842272477311, 0.9661381965463162, 0.06732863623692302, 0.8201852050679713, 0.11017413202405585, 0.9912788867332625, 0.9837712878865401, 0.9897820107280385, 0.021465367512338247, 0.9659415380552211, 0.9936305344302754, 0.49045203151314165, 0.034331642205919916, 0.009809040630262833, 0.05068004325635797, 0.006539360420175222, 0.016348401050438055, 0.2926363788028412, 0.04741036304627036, 0.05068004325635797, 0.9926850671690263, 0.9808748622000896, 0.10564481545716203, 0.880373462143017, 0.14989441535402734, 0.23983106456644374, 0.6095706224397112, 0.3692183568814846, 0.44821490267331315, 0.0034068591177068936, 0.01256279299654417, 0.05749074761130383, 0.0031939304228502125, 0.10390920309006026, 0.00021292869485668085, 0.001064643474283404, 0.0006387860845700425, 0.11323004637441464, 0.06717036649329682, 0.03646391323921827, 0.07676613313519637, 0.6179673717383307, 0.0825235931203361, 0.007676613313519636, 0.9784310208724585, 0.06524172140265522, 0.1250466326884225, 0.250093265376845, 0.027184050584439675, 0.39688713853281926, 0.13592025292219836, 0.9588713835366566, 0.9865803880321252, 0.038317018624163895, 0.28482317177295163, 0.1430502028635452, 0.3652889108836958, 0.03448531676174751, 0.0740795693400502, 0.012772339541387965, 0.04470318839485788, 0.9875792881897408, 0.12690499945099284, 0.1499786357148097, 0.13844181758290128, 0.06922090879145064, 0.1538242417587792, 0.0192280302198474, 0.06152969670351168, 0.0384560604396948, 0.24611878681404672, 0.9835077593994419, 0.9920915767053289, 0.09413964909144268, 0.9027750964153733, 0.05778990968559964, 0.6677945119224847, 0.27396697925025015, 0.9876767543121712, 0.009825430390289635, 0.9825430390289634, 0.2838529888125419, 0.6967300634489665, 0.991744394292175, 0.04481744535246876, 0.026890467211481257, 0.07021399771886773, 0.001493914845082292, 0.02838438205656355, 0.8186653351050961, 0.00746957422541146, 0.07635398508250023, 0.11228527218014739, 0.8084539596970612, 0.06003265599063313, 0.08846917724935409, 0.8246591165029077, 0.022117294312338522, 0.20187485208656336, 0.760395276192722, 0.033645808681093896, 0.9918763356403667, 0.9963843247958671, 0.011493742874814182, 0.126431171622956, 0.5360263722526978, 0.07470932868629218, 0.008881528585083686, 0.011493742874814182, 0.10448857158921984, 0.0689624572488851, 0.030824128618819852, 0.025077257181412762, 0.0005224428579460992, 0.9855034418877268, 0.19082165550698896, 0.3596254276862484, 0.04648219813631782, 0.024464314808588326, 0.04648219813631782, 0.1051965536769298, 0.02935717777030599, 0.19326808698784778, 0.9888101338613398, 0.27537259337777054, 0.41643355420118733, 0.042520768095096924, 0.09246579728616315, 0.09111593163235054, 0.05331969332559773, 0.02159785046100161, 0.006074395442156703, 0.9809260560755738, 0.007372092181334229, 0.1597286639289083, 0.27768213883025594, 0.061434101511118576, 0.12286820302223715, 0.363689880945822, 0.004914728120889486, 0.9892614049180161, 0.9827148399994372, 0.0034633537034974046, 0.09697390369792733, 0.6684272647749991, 0.16624097776787541, 0.062340366662953284, 0.7835446757913223, 0.01934678211830425, 0.154774256946434, 0.0386935642366085, 0.2537238813821854, 0.7329801017707577, 0.0007079228460818834, 0.015220341190760494, 0.20246593397941867, 0.3847560668455036, 0.03893575653450359, 0.00017698071152047085, 0.0044245177880117715, 0.24582620830193402, 0.0003539614230409417, 0.01044186197970778, 0.001238864980643296, 0.04424517788011771, 0.0509704449178956, 0.28230658105921214, 0.09438060254346442, 0.010857945425354313, 0.012528398567716516, 0.038420422274330644, 0.04259655513023615, 0.000835226571181101, 0.17122144709212572, 0.000835226571181101, 0.06264199283858257, 0.10857945425354314, 0.13781238424488168, 0.036749969131968444, 0.9786453910193148, 0.9905018130482927, 0.8399926885231125, 0.10002966367145462, 0.04360267390806996, 0.014106747440846164, 0.9904424095393259, 0.2496172827810475, 0.3135074206357204, 0.032687977507041936, 0.032687977507041936, 0.36551102121510526, 0.004457451478232991, 0.9334843450648213, 0.04058627587238353, 0.017394118231021514, 0.9968023811612534, 0.9852846407358372, 0.9975573661325207, 0.9911871826848206, 0.9618580963244834, 0.8378400035571713, 0.16122473254570172, 0.2789342616275489, 0.02789342616275489, 0.43556657777224944, 0.16521490881016357, 0.004291296332731521, 0.006436944499097282, 0.07938898215553315, 0.20037150269742, 0.17190048488786702, 0.5624368989924898, 0.007520646213844182, 0.023636316672081714, 0.0021487560610983377, 0.0032231340916475063, 0.020413182580434206, 0.0048347011374712595, 0.0005371890152745844, 0.0021487560610983377, 0.06491497564315357, 0.9196288216113422, 0.014664019498790468, 0.05865607799516187, 0.9189452219242027, 0.9917070851747493, 0.08385162475406568, 0.13056091908015596, 0.09904621447460109, 0.49354278462627926, 0.015194589720535393, 0.17276811274830983, 0.004502100657936413, 0.08425319260506664, 0.10459017013042754, 0.1365482776702804, 0.09732696387137008, 0.5011612318749653, 0.04793716130977929, 0.026147542532606885, 0.15138051366557123, 0.1463344965433855, 0.002523008561092854, 0.017661059927649977, 0.1463344965433855, 0.13876547086010696, 0.06055220546622849, 0.33303713006425667, 0.7423611440478489, 0.249978752587541, 0.9728614170802626, 0.979308690911689, 0.986275990906339, 0.06384062870069572, 0.07537809171889374, 0.01999826923154324, 0.34612389054594067, 0.022305761835182843, 0.029228239646101654, 0.41150284764906275, 0.013844955621837626, 0.016921612426690432, 0.9872435430036014, 0.9903287866384134, 0.9938499274013575, 0.9844019778336943, 0.3155733412521173, 0.6751801719812741, 0.19126044258561337, 0.7944664538171633, 0.9919521300464733, 0.13543436058692143, 0.4743675296454736, 0.21113869547909805, 0.06875898306720628, 0.058340955329750775, 0.03542129430734869, 0.01597430919743176, 0.992958910147378, 0.14775412074794875, 0.3313913851061136, 0.033772370456674, 0.006332319460626375, 0.06965551406689012, 0.01266463892125275, 0.39682535286591947, 0.9495080455586918, 0.982346456618351, 0.9918206362430616, 0.10261522710709726, 0.8395791308762504, 0.05130761355354863, 0.9764582151273737, 0.013468389174170673, 0.9810861587444457, 0.9751249137713999, 0.9830221279575463, 0.43414585475386497, 0.2522346733108131, 0.10461345897683494, 0.11739954840733698, 0.04998198595559891, 0.03545233887548295, 0.006393044715251024, 0.9741888373784006, 0.9914545456344273, 0.04820230090790351, 0.08033716817983919, 0.8676414163422632, 0.9717456904092451, 0.9910827270435378, 0.9874266720719809, 0.010372128908319126, 0.9964354160944014, 0.9052267803430142, 0.09081563168489785, 0.10605184594842353, 0.8858448308633023, 0.09896599252190513, 0.24584409253457384, 0.27883275670854224, 0.0581228844969919, 0.045948496528027384, 0.00039272219254724255, 0.10014415909954685, 0.024741498130476283, 0.00039272219254724255, 0.006676277273303124, 0.01217438796896452, 0.08443527139765715, 0.042413996795102195, 0.0007854443850944851, 0.23619184045933805, 0.05293955044778267, 0.012216819334103691, 0.04479500422504687, 0.19139683623429118, 0.4316609498049971, 0.02850591177957528, 0.9932014592932437, 0.006727500952738533, 0.02775094143004645, 0.11941314191110897, 0.23882628382221793, 0.013455001905477066, 0.1463231457220631, 0.08409376190923167, 0.1572553347702632, 0.013455001905477066, 0.12529970524475517, 0.06727500952738533, 0.027253597998213353, 0.022711331665177796, 0.9447913972713963, 0.004577422188720372, 0.9887231927636003, 0.9737072050021373, 0.0155994342765022, 0.1091960399355154, 0.16223411647562289, 0.077997171382511, 0.0623977371060088, 0.13415513477791893, 0.12167558735671716, 0.31510857238534445, 0.9896717731811729, 0.991339237245716, 0.9751350002428267, 0.42793571935862434, 0.24324266139294443, 0.07235398147109111, 0.06426175985919276, 0.07663809879503729, 0.021420586619730918, 0.03141686037560535, 0.02618071697967112, 0.03474895162756349, 0.0014280391079820613, 0.9982882903308702, 0.3429289080531032, 0.06278980006606115, 0.014489953861398728, 0.5457882621126854, 0.028979907722797456, 0.16828363781182104, 0.42253826450576804, 0.05853343923889428, 0.031095889595662583, 0.0018291699762154462, 0.06950845909618696, 0.0018291699762154462, 0.045729249405386155, 0.16828363781182104, 0.03292505957187803, 0.07157148409947157, 0.90657213192664, 0.34062176475336275, 0.6557764816746984, 0.9940224431770582, 0.9386858291657916, 0.056040945024823374, 0.08401178855385145, 0.9121279900132443, 0.9863934435960292, 0.9792330220480754, 0.27267942813286977, 0.040026338074549694, 0.045029630333868406, 0.6404214091927951, 0.19948670381471387, 0.6850793381005306, 0.11286747715832496, 0.03812254145654977, 0.8768184535006448, 0.08386959120440951, 0.9822171509789642, 0.9904069848483216, 0.576816000820274, 0.21332959086781828, 0.0194377759332864, 0.00583133277998592, 0.16327731783960578, 0.018465887136622082, 0.0024297219916608, 0.9437486508684596, 0.09126107243563805, 0.06131603304269431, 0.012833588311261602, 0.8327572859751972, 0.9827200869533492, 0.9947582780143358, 0.9807254666644444, 0.004222422041808399, 0.9922691798249736, 0.9940889658943177, 0.9817893212430381, 0.984499003359553, 0.007751960656374433, 0.978944954723157, 0.9695715973407099, 0.028516811686491464, 0.28846967494579867, 0.16132050692561195, 0.15337368392435027, 0.03417133890542519, 0.11046083971753724, 0.020661739803280347, 0.07072672471122889, 0.06993204241110271, 0.08344164151324755, 0.007152140701135505, 0.24478953174839682, 0.1053954928361153, 0.16999273038083113, 0.4283816805596944, 0.047597964506632714, 0.00825040397609633, 0.9900484771315596, 0.9879966856831827, 0.9901002256469295, 0.9911199124149812, 0.034588123895680584, 0.06917624779136117, 0.02829937409646593, 0.06917624779136117, 0.5345437329332454, 0.034588123895680584, 0.1697962445787956, 0.05345437329332454, 0.9962855028449875, 0.5563500410942669, 0.44215187476439105, 0.9895514253591527, 0.9669046096955853, 0.9987906127726622, 0.2677069959839529, 0.1442959694665278, 0.04556714825258774, 0.05411098854994793, 0.13100555122618973, 0.02278357412629387, 0.04366851707539658, 0.1927110644849023, 0.07024935355607276, 0.006645209120169045, 0.020884942949102713, 0.014052570202585222, 0.7813229032637383, 0.18830444071464197, 0.016863084243102268, 0.01867740449170489, 0.006225801497234964, 0.28016106737557334, 0.047731144812134724, 0.11621496128171932, 0.5271178600992269, 0.004150534331489976, 0.9885563478746258, 0.028664339174316048, 0.9704926263304148, 0.7863344471132044, 0.052313310410857676, 0.15857472218291233, 0.9544158302254048, 0.9669294096217197, 0.2241318643484576, 0.005212368938336223, 0.15897725261925483, 0.08339790301337957, 0.0886102719517158, 0.10424737876672446, 0.005212368938336223, 0.010424737876672446, 0.31795450523850965, 0.005212368938336223, 0.32814991713572067, 0.12761385666389136, 0.01215370063465632, 0.04861480253862528, 0.4739943247515965, 0.009177824950795152, 0.042829849770377376, 0.2039516655732256, 0.006118549967196768, 0.31612508163849967, 0.001019758327866128, 0.3304016982286255, 0.002039516655732256, 0.014276616590125793, 0.028553233180251585, 0.044869366426109634, 0.02478799885218966, 0.9543379558093019, 0.9828557086786616, 0.9938939407312586, 0.9945217277365909, 0.07171850862498548, 0.011953084770830912, 0.8885126346317644, 0.01460932583101556, 0.01062496424073859, 0.007350939373248855, 0.9923768153885955, 0.21594074754564282, 0.020730311764381712, 0.006910103921460571, 0.053553305391319424, 0.019002785784016568, 0.03627804558766799, 0.5113476901880822, 0.006910103921460571, 0.053553305391319424, 0.0034550519607302855, 0.03282299362693771, 0.038005571568033136, 0.3916090468111511, 0.04895113085139389, 0.5384624393653328, 0.9785211520334042, 0.9881131332014509, 0.9884881815516189, 0.9882277213150235, 0.0333017428769684, 0.9624203691443869, 0.9885804337531607, 0.9878568855689286, 0.004949175169282732, 0.9898350338565464, 0.8816601630366323, 0.11571789639855799, 0.981034713328828, 0.8597677756271136, 0.08756894011016898, 0.047764876423728536, 0.9842671969064791, 0.9846025098319205, 0.9097616427791425, 0.21043491460919309, 0.7832855154897742, 0.9778003477245544, 0.9578493407288869, 0.08797734050854336, 0.5754193622450674, 0.07608851071009155, 0.04517755323411686, 0.10699946818606625, 0.01664436171783253, 0.047555319193807226, 0.01902212767752289, 0.02139989363721325, 0.993547139504877, 0.9791900336221941, 0.012904480238431024, 0.39205039962471394, 0.049774423776805375, 0.08234287390236938, 0.4037258817451992, 0.009217485884593589, 0.018434971769187177, 0.02703795859480786, 0.0036869943538374353, 0.14018280636047992, 0.8538407296501958, 0.9951970088807962, 0.9866658512152772, 0.4470771353444318, 0.25848380281700395, 0.1702886855468245, 0.05879674484678631, 0.06157017620748378, 0.002218745088557974, 0.0016640588164184805, 0.9922417613661402, 0.989727535286181, 0.05701015507752001, 0.12012854105620288, 0.7105908615019458, 0.08958738655038859, 0.02036076967054286, 0.9775020930924058, 0.10821461782949221, 0.07135029746999486, 0.01070254462049923, 0.11416047595199177, 0.47685782142446564, 0.11059296107849204, 0.014270059493998972, 0.07491781234349461, 0.017837574367498714, 0.021942185868930975, 0.10751671075776177, 0.021942185868930975, 0.6319349530252121, 0.11629358510533416, 0.07899186912815151, 0.019747967282037877, 0.9467327225582002, 0.9955268060942746, 0.0012277205714389806, 0.006752463142914393, 0.1270690791439345, 0.8643152822930423, 0.9893153411078714, 0.006551757225879943, 0.9969620763853526, 0.9966178722611769, 0.153439675066996, 0.18796360195707007, 0.08183449336906452, 0.26724076740835134, 0.19179959383374498, 0.0191799593833745, 0.0012786639588916332, 0.014065303547807965, 0.08311315732795616, 0.14227995654270292, 0.045270895263587296, 0.07437361364732198, 0.038803624511646255, 0.6952316058336621, 0.794898746677622, 0.003915757372796167, 0.011747272118388502, 0.009789393431990418, 0.05677848190554442, 0.07439939008312717, 0.04894696715995209, 0.08822698967316106, 0.11155136625342203, 0.11307252124778687, 0.4401208450362287, 0.037521823194332865, 0.0035493616535179737, 0.1039455912815978, 0.0309301515520852, 0.0005070516647882819, 0.06033914810980555, 0.006591671642247665, 0.0040564133183062555, 0.24265482481825967, 0.07454102461737389, 0.017445771718959845, 0.3346416211545934, 0.08722885859479923, 0.014273813224603511, 0.22838101159365617, 0.25240594715696574, 0.016179868407497806, 0.12943894725998245, 0.006471947362999122, 0.5404076048104267, 0.05177557890399297, 0.9449741772645971, 0.9672426153525904, 0.05664412428961912, 0.0626066636885264, 0.5023439443579379, 0.023850157595629102, 0.03875650609289729, 0.04471904549180457, 0.06558793338798002, 0.004471904549180457, 0.19974506986339374, 0.4628741877167402, 0.19059525376571657, 0.1270635025104777, 0.08773432316199652, 0.047195015218177434, 0.004840514381351532, 0.038724115050812254, 0.013916478846385654, 0.018756993227737186, 0.0018151928930068245, 0.006050642976689414, 0.9912880550481795, 0.9950113003368329, 0.24357176794405042, 0.01597191920944593, 0.7347082836345127, 0.03172529329832454, 0.08107574954016272, 0.003525032588702727, 0.4018537151121109, 0.38422855216859725, 0.09517587989497363, 0.9878102723873106, 0.22681383948157413, 0.024924597745227928, 0.09471347143186612, 0.6056677252090387, 0.04486427594141027, 0.031798012315518376, 0.12377123620123535, 0.2766971291709778, 0.2871150598562576, 0.04330438352015584, 0.0013994235248883393, 0.014849438514092934, 0.003965033320516962, 0.1262591002454813, 0.003576304563603534, 0.001632660779036396, 0.0011661862707402829, 0.009173998663156891, 0.009329490165922263, 0.03280870708349329, 0.006686134618910954, 0.023867945674484456, 0.001477169276271025, 0.0012439320221229683, 0.02979856285967202, 0.9088561672199966, 0.04469784428950803, 0.9890782280434559, 0.9954801716857864, 0.9957227021446868, 0.05691437087949626, 0.9390871195116882, 0.04593248874669353, 0.9339606045161017, 0.20611428021651018, 0.047234522549616915, 0.025764285027063773, 0.055822617558638175, 0.030058332531574403, 0.017176190018042516, 0.42511070294655223, 0.18893809019846766, 0.9527063958426896, 0.9954580381837781, 0.20257672238851324, 0.18569532885613713, 0.5908487736331636, 0.9380151306261926, 0.04872805873382818, 0.9176183086306027, 0.059844672301995826, 0.9854188726210555, 0.9733207629937554, 0.044507635514121534, 0.061039042990795246, 0.320454975701675, 0.26916522429968737, 0.1623468990657957, 0.03645387289728049, 0.021617994392573316, 0.022889641121548218, 0.006782115887866138, 0.008053762616841039, 0.0016955289719665346, 0.002543293457949802, 0.0415404598131801, 0.5110713644931826, 0.25131463539880766, 0.10650025892869369, 0.04350925212330779, 0.04285986030057185, 0.024676889263965614, 0.019481754682078117, 0.984767090567574, 0.044731756588307865, 0.07630711418005459, 0.02631279799312227, 0.13682654956423582, 0.023681518193810046, 0.6920265872191158, 0.99207061120515, 0.005826916699607632, 0.9381335886368287, 0.040788416897253425, 0.013984600079058317, 0.9965603459819941, 0.01611217670462846, 0.3800578152091772, 0.051179855414702165, 0.042649879512251805, 0.4217599196211567, 0.025589927707351082, 0.053075405615246686, 0.009477751002722624, 0.9910300335630626, 0.9582574415887303, 0.9896393870590814, 0.9888243162337487, 0.0376849395562524, 0.021534251175001372, 0.14266441403438407, 0.10767125587500685, 0.11305481866875719, 0.5329727165812839, 0.043068502350002744, 0.011793846962237637, 0.009931660599779062, 0.8671581161182094, 0.07697036964828773, 0.00434510151240334, 0.00434510151240334, 0.013035304537210019, 0.009931660599779062, 0.0024829151499447654, 0.3015629364124909, 0.33171923005373993, 0.328703600689615, 0.03317192300537399, 0.01813824509080835, 0.9613269898128426, 0.9807254666644444, 0.3876791800294764, 0.4320646317680926, 0.08738385811040075, 0.009015794884406427, 0.0263538619698034, 0.029821475386882797, 0.01941863513564461, 0.00693522683415879, 0.000693522683415879, 0.40969146556846564, 0.33975107658176024, 0.07107763108405026, 0.10036161509067897, 0.03411726292034412, 0.04179364707742155, 0.001990173670353407, 0.001137242097344804, 0.2695749071407348, 0.12856649417481197, 0.043546715768887925, 0.002073653131851806, 0.07879881901036863, 0.018662878186666253, 0.08709343153777585, 0.3463000730192516, 0.022810184450369867, 0.4187250827672529, 0.058730271349173135, 0.019576757116391043, 0.06199306420190497, 0.05764267373159585, 0.06525585705463681, 0.10767216414015074, 0.022839549969122883, 0.06199306420190497, 0.10332177366984162, 0.011963573793350082, 0.007613183323040962, 0.0032627928527318405, 0.9781692686705403, 0.47667263199437937, 0.17762937593468361, 0.10315833251671676, 0.0637495313305553, 0.07070402565752497, 0.04781214849791647, 0.013908988653939337, 0.0237611889504797, 0.009852200296540364, 0.0008693117908712086, 0.011301053281325711, 0.0008693117908712086, 0.385039455499082, 0.588883873116243, 0.2258371251391872, 0.14679413134047167, 0.04516742502783744, 0.5758846691049273, 0.9845278634901805, 0.9864317287470414, 0.9881381104840424, 0.996202012678545, 0.33466571888068114, 0.18981040772337138, 0.047452601930842844, 0.12237776287427891, 0.26348681598441687, 0.006243763411953006, 0.027472559012593226, 0.006243763411953006, 0.7011446947090684, 0.1426311477459561, 0.0795731666372176, 0.016515185528479127, 0.057052459098382434, 0.12731500738880497, 0.23935221389095335, 0.6263898363529204, 0.7397221821289363, 0.06845757983712521, 0.09127677311616694, 0.0038031988798402894, 0.09127677311616694, 0.005704798319760434, 0.9952551848923479, 0.9734971039547701, 0.060042895144746734, 0.7321897491262171, 0.0066714327938607485, 0.20014298381582246, 0.977702495778204, 0.9870270671079092, 0.24375671557423864, 0.20893432763506167, 0.5223358190876543, 0.9796064338796678, 0.023874261489740475, 0.3055905470686781, 0.13369586434254666, 0.023874261489740475, 0.07639763676716953, 0.05729822757537714, 0.042973670681532856, 0.05252337527742905, 0.2769414332809895, 0.9711218273232795, 0.047096424674459764, 0.011774106168614941, 0.18249864561353157, 0.7594298478756637, 0.017999546332895106, 0.9779753507539674, 0.07533376088435792, 0.6381212686675023, 0.0868553949019656, 0.04254141791116682, 0.0576081700880384, 0.004431397699079877, 0.04165513837135085, 0.004431397699079877, 0.04963165422969463, 0.9672479220695646, 0.016015675142023435, 0.9689483460924178, 0.012011756356517576, 0.9902866088338917, 0.9783493505274761, 0.9963499095795846, 0.9985402604111044, 0.9981970173563025, 0.18815385939271784, 0.7996539024190508, 0.11403932575785586, 0.8666988757597046, 0.03144218158013865, 0.9657241485328301, 0.9842037426627086, 0.9959173090868283, 0.9853860941103414, 0.009434827636160966, 0.9882981948878612, 0.9853023940742243, 0.9958221234711268, 0.9168607957324812, 0.9681389430430708, 0.00034933174772610893, 0.07772631386905923, 0.22689097014810775, 0.44696997121555637, 0.0015719928647674902, 0.014322601656770465, 0.099384882228078, 0.04925577642938136, 0.00017466587386305446, 0.0005239976215891634, 0.004366646846576361, 0.002969319855671926, 0.030391862052171478, 0.0012226611170413812, 0.04401580021348973, 0.03869762413128595, 0.3911224153269258, 0.005528232018755136, 0.3399862691534408, 0.16308284455327648, 0.05804643619692892, 0.988379754917306, 0.991452838731378, 0.9737245931474796, 0.0231839188844638, 0.9844169655278714, 0.9930430736739952, 0.94007171413548, 0.1705776632309748, 0.14261411188163467, 0.24188471917179216, 0.0419453270240102, 0.20693027998511698, 0.08202641729139773, 0.01724418999875975, 0.005126651080712358, 0.013049657296358728, 0.02143872270116077, 0.005126651080712358, 0.0209726635120051, 0.028895669727651473, 0.0018642367566226756, 0.11058330015339095, 0.0384637565750925, 0.06250360443452532, 0.03125180221726266, 0.18991479808951925, 0.4711810180448832, 0.012019923929716408, 0.009615939143773126, 0.07452352836424173, 0.1341863241124078, 0.32922458590369824, 0.5227025416006583, 0.012482448754642586, 0.977958924118941, 0.010820987664135917, 0.2207481483483727, 0.36358518551496677, 0.3592567904493124, 0.0021641975328271835, 0.00649259259848155, 0.0389555555908893, 0.08651532387508941, 0.06008008602436765, 0.35447250754376913, 0.21568750882747986, 0.2457275518396637, 0.0030040043012183825, 0.002403203440974706, 0.010814415484386176, 0.013818419785604559, 0.007209610322924118, 0.0006008008602436765, 0.025964655132660178, 0.038946982698990266, 0.9314820028841838, 0.9870535356213342, 0.966033540539462, 0.9884800299067776, 0.20577650570139153, 0.16849815321925538, 0.09543258235426853, 0.05069855937570516, 0.37278352482136146, 0.03280495018427981, 0.0387694865814216, 0.017893609191425353, 0.014911340992854459, 0.9937964665209732, 0.9822649590967667, 0.9834957760536708, 0.9822782333964013, 0.42421240459751725, 0.5676081469966779, 0.05869363838822392, 0.34743935367741746, 0.07758354499592816, 0.035755894650297326, 0.42434825915164187, 0.04182765034563084, 0.0053971161736297854, 0.0006746395217037232, 0.0020239185651111696, 0.0053971161736297854, 0.9887970412666746, 0.981770378018398, 0.0016305308958868584, 0.9587521667814727, 0.0195663707506423, 0.008152654479434291, 0.003261061791773717, 0.008152654479434291, 0.9924778676224935, 0.056905201269734675, 0.025607340571380602, 0.014226300317433669, 0.09389358209506221, 0.8108991180937191, 0.9954369709638646, 0.9792470228426802, 0.2433557650907839, 0.008691277324670853, 0.7387585725970226, 0.047092743203680246, 0.941854864073605, 0.9644005251953518, 0.9894030640212252, 0.9681122420826471, 0.9692528113295567, 0.9794902680818067, 0.9870938838720332, 0.9936295758528796, 0.05273688888619985, 0.07910533332929978, 0.8174217777360977, 0.38627742532961384, 0.18724134739259907, 0.2560439422350239, 0.05848220561606113, 0.07666574853870198, 0.02309801398281406, 0.0014743413180519612, 0.000982894212034641, 0.002457235530086602, 0.0004914471060173205, 0.006388812378225165, 0.9800856880123888, 0.06635178757859733, 0.13270357515719466, 0.448446564324313, 0.03088790111417462, 0.1841834103474857, 0.013727956050744275, 0.05719981687810115, 0.06177580222834924, 0.0034319890126860686, 0.5883741432753515, 0.059185564708171455, 0.35163188444266574, 0.1361303410897882, 0.8508146318111761, 0.9687695650161403, 0.9932688646356291, 0.3005950991370918, 0.6942315384832835, 0.9904696987386072, 0.46181541109959356, 0.24161901356389381, 0.08920236837969336, 0.03652380437593744, 0.0632142768045071, 0.025988091575186254, 0.01650595005451019, 0.0007023808533834123, 0.03406547138909549, 0.02001785432142725, 0.0014047617067668246, 0.008428570240600947, 0.00035119042669170614, 0.8552625400224185, 0.00615296791383035, 0.019997145719948636, 0.015382419784575873, 0.10306221255665834, 0.01472185676702574, 0.0021031223952893913, 0.2670965442017527, 0.04206244790578783, 0.5930805154716083, 0.07991865102099688, 0.9987023375260694, 0.9947808671915409, 0.054409302776943405, 0.09521627985965096, 0.027204651388471703, 0.816139541654151, 0.048322044088739434, 0.25973098697697444, 0.6916092560200832, 0.008893867798493483, 0.9563872505979992, 0.0343896221541748, 0.06004773135571043, 0.9340758210888289, 0.027948796023679022, 0.9688915954875394, 0.17198243068439717, 0.8169165457508866, 0.9957403221434635, 0.9907489024671231, 0.9847560078831402, 0.9617826409607023, 0.08037475969021271, 0.6485411643968888, 0.11501905266013197, 0.015243488906764479, 0.13996294359847386, 0.9838560213617996, 0.11471274592166995, 0.7298104007775209, 0.00593341789250017, 0.053400761032501534, 0.03757831331916774, 0.027689283498334126, 0.01780025367750051, 0.01186683578500034, 0.3308408398300009, 0.07072828080753887, 0.3196732165446, 0.0600259751590297, 0.07956931590848122, 0.056303434063896075, 0.0600259751590297, 0.0032572234582419215, 0.0027919058213502186, 0.0041878587320253275, 0.0060491292795921405, 0.0060491292795921405, 0.01313407385057731, 0.23084129797984362, 0.1914390764281117, 0.18865306076283772, 0.01154206489899218, 0.023880134273776926, 0.15681288173113514, 0.029452165604324874, 0.09472453261931514, 0.007164040282133078, 0.005970033568444231, 0.0047760268547553855, 0.010746060423199616, 0.029452165604324874, 0.0003980022378962821, 0.0007960044757925642, 0.9880095856447817, 0.34295110958778297, 0.2977187961519049, 0.1548952212514796, 0.1012272995220937, 0.08333799227896507, 0.005963102414376209, 0.007999283726602231, 0.0017452982676223051, 0.0004363245669055763, 0.0026179474014334575, 0.00116353217841487, 0.04022304153264596, 0.9538606992027471, 0.9864271714969052, 0.977051884729581, 0.9800475078627335, 0.9949845322688794, 0.9864370280222566, 0.977128992229664, 0.11191934285338753, 0.13989917856673442, 0.027979835713346883, 0.6994958928336721, 0.9891396226477557, 0.33608684463592, 0.005896260432209123, 0.12146296490350793, 0.02535391985849923, 0.060141856408533055, 0.005306634388988211, 0.2588458329739805, 0.0023585041728836492, 0.13325548576792617, 0.04422195324156842, 0.006485886475430035, 0.46844072311855073, 0.10275473926471436, 0.005439956784602525, 0.1003369806937799, 0.022364266781143713, 0.12028348890398916, 0.021155387495676484, 0.013297672140139506, 0.015110991068340346, 0.10275473926471436, 0.025990904637545397, 0.0024177585709344554, 0.9921725633566342, 0.9908759462339071], \"Term\": [\"acad\", \"academic\", \"academic\", \"accelerator\", \"accelerator\", \"accelerator\", \"access\", \"access\", \"access\", \"access\", \"access\", \"access\", \"access\", \"access\", \"accidents\", \"acid\", \"acid\", \"acker\", \"activities\", \"activities\", \"activities\", \"activities\", \"activities\", \"activities\", \"activities\", \"activities\", \"adaptec\", \"address\", \"address\", \"address\", \"address\", \"address\", \"address\", \"address\", \"address\", \"address\", \"advance\", \"advance\", \"advance\", \"advance\", \"advance\", \"aerospace\", \"aged\", \"agencies\", \"agencies\", \"aids\", \"alaska\", \"albany\", \"alberta\", \"alchemy\", \"alcohol\", \"algorithm\", \"alink\", \"allah\", \"allah\", \"allan\", \"alomar\", \"also\", \"also\", \"also\", \"also\", \"also\", \"also\", \"also\", \"also\", \"also\", \"also\", \"also\", \"also\", \"also\", \"also\", \"aluminum\", \"aluminum\", \"amanda\", \"amendment\", \"amendment\", \"among\", \"among\", \"among\", \"among\", \"among\", \"among\", \"amongst\", \"andrew\", \"andrew\", \"andrew\", \"andrew\", \"andrew\", \"andrew\", \"andrew\", \"andy\", \"andy\", \"andy\", \"andy\", \"andy\", \"andy\", \"announcement\", \"announcement\", \"announcement\", \"announcement\", \"anon\", \"anon\", \"anonymous\", \"anonymous\", \"anonymous\", \"antenna\", \"anti\", \"anti\", \"anti\", \"anti\", \"anti\", \"anyone\", \"anyone\", \"anyone\", \"anyone\", \"anyone\", \"anyone\", \"anyone\", \"apartment\", \"apostles\", \"apple\", \"apple\", \"apple\", \"apple\", \"application\", \"application\", \"application\", \"application\", \"appreciated\", \"appreciated\", \"appreciated\", \"apps\", \"april\", \"april\", \"april\", \"april\", \"april\", \"april\", \"april\", \"april\", \"april\", \"april\", \"april\", \"april\", \"arab\", \"arabs\", \"archer\", \"archive\", \"archive\", \"archive\", \"archive\", \"arens\", \"argc\", \"argic\", \"argument\", \"argument\", \"argument\", \"argument\", \"argv\", \"armenia\", \"armenian\", \"armenians\", \"around\", \"around\", \"around\", \"around\", \"around\", \"around\", \"around\", \"around\", \"around\", \"arrogance\", \"article\", \"article\", \"article\", \"article\", \"article\", \"article\", \"article\", \"article\", \"article\", \"article\", \"article\", \"article\", \"article\", \"article\", \"article\", \"article\", \"asking\", \"asking\", \"asking\", \"asking\", \"asking\", \"astros\", \"asynchronous\", \"atheism\", \"atheist\", \"atheists\", \"atheists\", \"atlantaga\", \"aurora\", \"austin\", \"auth\", \"authentication\", \"available\", \"available\", \"available\", \"available\", \"available\", \"available\", \"azerbaijan\", \"azeri\", \"baalke\", \"baalke\", \"back\", \"back\", \"back\", \"back\", \"back\", \"back\", \"back\", \"back\", \"back\", \"back\", \"back\", \"backup\", \"backup\", \"backup\", \"baden\", \"ball\", \"ball\", \"ball\", \"banks\", \"banks\", \"baseball\", \"baseball\", \"baseball\", \"based\", \"based\", \"based\", \"based\", \"based\", \"based\", \"based\", \"based\", \"based\", \"based\", \"baud\", \"baud\", \"beam\", \"beaverton\", \"beckman\", \"behanna\", \"belief\", \"beliefs\", \"believe\", \"believe\", \"believe\", \"believe\", \"believe\", \"believe\", \"believe\", \"bellcore\", \"bellcore\", \"benedikt\", \"benedikt\", \"berkeley\", \"berkeley\", \"berkeley\", \"berkeley\", \"berkeley\", \"bgsu\", \"bible\", \"biblical\", \"bike\", \"bike\", \"bike\", \"bill\", \"bill\", \"bill\", \"bill\", \"bill\", \"bill\", \"bill\", \"bill\", \"bill\", \"bill\", \"bill\", \"binaries\", \"bios\", \"bios\", \"bios\", \"bishop\", \"bison\", \"bitmap\", \"bits\", \"bits\", \"bits\", \"blah\", \"block\", \"block\", \"block\", \"block\", \"blood\", \"blood\", \"blood\", \"blood\", \"blood\", \"bmug\", \"bonds\", \"bone\", \"bone\", \"bontchev\", \"bony\", \"books\", \"books\", \"books\", \"books\", \"books\", \"books\", \"boot\", \"boot\", \"boot\", \"borland\", \"boulder\", \"boulder\", \"boulder\", \"bowling\", \"boyle\", \"brad\", \"brad\", \"bradley\", \"bradley\", \"bradley\", \"bradley\", \"brandt\", \"braves\", \"braves\", \"brook\", \"bruins\", \"buffalo\", \"buffalo\", \"buffalo\", \"buffalo\", \"build\", \"build\", \"build\", \"build\", \"build\", \"build\", \"build\", \"build\", \"bulletin\", \"bureau\", \"bureau\", \"bureau\", \"bureau\", \"cable\", \"cable\", \"cable\", \"cache\", \"cacs\", \"cactus\", \"cadre\", \"calgary\", \"calgary\", \"california\", \"california\", \"california\", \"california\", \"california\", \"california\", \"california\", \"california\", \"california\", \"callison\", \"caltech\", \"cancer\", \"candida\", \"carb\", \"card\", \"card\", \"card\", \"card\", \"card\", \"cards\", \"cards\", \"cards\", \"cards\", \"cards\", \"carleton\", \"carnegie\", \"cars\", \"cars\", \"case\", \"case\", \"case\", \"case\", \"case\", \"case\", \"case\", \"case\", \"case\", \"case\", \"case\", \"case\", \"castle\", \"catbyte\", \"cause\", \"cause\", \"cause\", \"cause\", \"cause\", \"cause\", \"cause\", \"ccwf\", \"center\", \"center\", \"center\", \"center\", \"center\", \"center\", \"center\", \"center\", \"center\", \"center\", \"center\", \"center\", \"centris\", \"centris\", \"champaign\", \"char\", \"charlie\", \"charlie\", \"charlie\", \"chastity\", \"check\", \"check\", \"check\", \"check\", \"check\", \"check\", \"check\", \"check\", \"check\", \"check\", \"check\", \"cheers\", \"cheers\", \"cheers\", \"cheers\", \"cheers\", \"chicago\", \"chicago\", \"chicago\", \"chicago\", \"chicago\", \"children\", \"children\", \"children\", \"children\", \"chinese\", \"chinese\", \"chip\", \"chip\", \"chip\", \"chips\", \"chips\", \"chopin\", \"christ\", \"christian\", \"christian\", \"christianity\", \"christians\", \"chunk\", \"church\", \"church\", \"cipher\", \"cipher\", \"ciphertext\", \"cipriani\", \"circuit\", \"circuit\", \"civilians\", \"claim\", \"claim\", \"claim\", \"claim\", \"claim\", \"claremont\", \"claremont\", \"clarkson\", \"classified\", \"clayton\", \"clemens\", \"cleveland\", \"clients\", \"clinical\", \"clinton\", \"clinton\", \"clinton\", \"clipper\", \"cluster\", \"coach\", \"code\", \"code\", \"code\", \"code\", \"code\", \"code\", \"code\", \"code\", \"code\", \"code\", \"cogsci\", \"color\", \"color\", \"color\", \"colorado\", \"colorado\", \"colorado\", \"colorado\", \"colormap\", \"columbia\", \"columbia\", \"columbia\", \"comics\", \"communications\", \"communications\", \"communications\", \"communications\", \"communications\", \"communications\", \"communications\", \"compaq\", \"compaq\", \"computer\", \"computer\", \"computer\", \"computer\", \"computer\", \"computer\", \"computer\", \"computer\", \"computer\", \"computer\", \"computer\", \"computer\", \"condition\", \"condition\", \"condition\", \"condition\", \"condition\", \"conductor\", \"conference\", \"conference\", \"conference\", \"conference\", \"conference\", \"config\", \"connected\", \"connected\", \"connected\", \"connected\", \"connected\", \"connected\", \"connected\", \"connected\", \"connectors\", \"conner\", \"constitution\", \"constitution\", \"constitution\", \"contest\", \"contest\", \"contrib\", \"control\", \"control\", \"control\", \"control\", \"control\", \"control\", \"control\", \"control\", \"control\", \"control\", \"control\", \"controller\", \"controller\", \"controllers\", \"convex\", \"cookamunga\", \"cooling\", \"cooling\", \"cooper\", \"copies\", \"copies\", \"copies\", \"copies\", \"copies\", \"coprocessor\", \"cornell\", \"cosmic\", \"cost\", \"cost\", \"cost\", \"cost\", \"cost\", \"cost\", \"cost\", \"cost\", \"could\", \"could\", \"could\", \"could\", \"could\", \"could\", \"could\", \"could\", \"could\", \"could\", \"countersteering\", \"cousineau\", \"cover\", \"cover\", \"cover\", \"cover\", \"cover\", \"cover\", \"covington\", \"craig\", \"craig\", \"craig\", \"craig\", \"craig\", \"cramer\", \"crashes\", \"cray\", \"creative\", \"creative\", \"creed\", \"crime\", \"crime\", \"crime\", \"crime\", \"crime\", \"crime\", \"crypt\", \"crypt\", \"cryptanalysis\", \"crypto\", \"crypto\", \"cryptographic\", \"cryptology\", \"cryptosystem\", \"cryptosystems\", \"csiro\", \"ctrl\", \"cubs\", \"cunixa\", \"cunixb\", \"cunixb\", \"cure\", \"current\", \"current\", \"current\", \"current\", \"current\", \"current\", \"current\", \"current\", \"current\", \"current\", \"current\", \"current\", \"cursor\", \"curt\", \"cwru\", \"cylinders\", \"cyprus\", \"czech\", \"dante\", \"dare\", \"dare\", \"dare\", \"darren\", \"darren\", \"dartmouth\", \"dartmouth\", \"data\", \"data\", \"data\", \"data\", \"data\", \"data\", \"data\", \"dave\", \"dave\", \"dave\", \"dave\", \"dave\", \"dave\", \"dave\", \"dave\", \"david\", \"david\", \"david\", \"david\", \"david\", \"david\", \"david\", \"david\", \"david\", \"david\", \"david\", \"david\", \"david\", \"david\", \"david\", \"dbstu\", \"dcoleman\", \"deaf\", \"decrypt\", \"decryption\", \"defaults\", \"deficit\", \"define\", \"define\", \"define\", \"define\", \"delaware\", \"denning\", \"denver\", \"denver\", \"department\", \"department\", \"department\", \"department\", \"department\", \"department\", \"department\", \"department\", \"department\", \"department\", \"department\", \"department\", \"department\", \"dept\", \"dept\", \"dept\", \"dept\", \"dept\", \"dept\", \"dept\", \"deskjet\", \"detector\", \"detectors\", \"detroit\", \"devices\", \"devices\", \"devils\", \"diamond\", \"dick\", \"diet\", \"diet\", \"digex\", \"dillon\", \"directory\", \"directory\", \"disciples\", \"disclaimer\", \"disclaimer\", \"disclaimer\", \"disclaimer\", \"disclaimer\", \"disclaimer\", \"disclaimer\", \"disease\", \"disease\", \"diseases\", \"disk\", \"disk\", \"disk\", \"disk\", \"disks\", \"disks\", \"disks\", \"disks\", \"disks\", \"display\", \"display\", \"distribution\", \"distribution\", \"distribution\", \"distribution\", \"distribution\", \"distribution\", \"distribution\", \"distribution\", \"distribution\", \"distribution\", \"distribution\", \"distribution\", \"distribution\", \"distribution\", \"distribution\", \"division\", \"division\", \"division\", \"division\", \"division\", \"division\", \"division\", \"division\", \"division\", \"doctor\", \"doctor\", \"doctors\", \"doctors\", \"doctors\", \"doctrine\", \"door\", \"door\", \"dortmund\", \"doug\", \"doug\", \"doug\", \"doug\", \"doug\", \"doug\", \"dragon\", \"dresden\", \"drive\", \"drive\", \"driver\", \"driver\", \"driver\", \"drivers\", \"drivers\", \"drivers\", \"drivers\", \"drives\", \"drug\", \"drug\", \"drug\", \"drug\", \"drug\", \"dseg\", \"dseg\", \"dtmedin\", \"duke\", \"dwarner\", \"dyer\", \"earth\", \"earth\", \"earth\", \"earth\", \"earth\", \"earth\", \"east\", \"east\", \"east\", \"east\", \"east\", \"east\", \"easter\", \"economy\", \"effects\", \"effects\", \"effects\", \"effects\", \"effects\", \"effects\", \"effects\", \"eisa\", \"eisa\", \"electrical\", \"electrical\", \"electrical\", \"electrical\", \"electrical\", \"electrical\", \"electrical\", \"electronic\", \"electronic\", \"electronic\", \"electronic\", \"electronic\", \"electronic\", \"emacs\", \"emacs\", \"email\", \"email\", \"email\", \"email\", \"email\", \"email\", \"email\", \"email\", \"encore\", \"encrypted\", \"encryption\", \"enforcement\", \"enforcement\", \"enforcement\", \"engin\", \"engine\", \"engine\", \"engine\", \"engine\", \"engine\", \"engineering\", \"engineering\", \"engineering\", \"engineering\", \"engineering\", \"engineering\", \"engineering\", \"engineering\", \"engineering\", \"engineering\", \"engineering\", \"enough\", \"enough\", \"enough\", \"enough\", \"enough\", \"enough\", \"enough\", \"enough\", \"enough\", \"entries\", \"entries\", \"entry\", \"entry\", \"entry\", \"entry\", \"erich\", \"ericsson\", \"escrow\", \"espn\", \"espn\", \"ethernet\", \"evans\", \"evans\", \"even\", \"even\", \"even\", \"even\", \"even\", \"even\", \"even\", \"even\", \"even\", \"evidence\", \"evidence\", \"evidence\", \"evil\", \"evil\", \"exhaust\", \"exist\", \"exist\", \"exist\", \"exist\", \"exist\", \"exist\", \"exist\", \"existence\", \"existence\", \"existence\", \"exploration\", \"export\", \"export\", \"express\", \"express\", \"express\", \"express\", \"express\", \"express\", \"express\", \"extermination\", \"fact\", \"fact\", \"fact\", \"fact\", \"fact\", \"fact\", \"fact\", \"factory\", \"factory\", \"factory\", \"factory\", \"faith\", \"faith\", \"fans\", \"fans\", \"fans\", \"fans\", \"ferguson\", \"festival\", \"file\", \"file\", \"file\", \"file\", \"file\", \"filename\", \"files\", \"files\", \"files\", \"files\", \"files\", \"files\", \"fire\", \"fire\", \"fire\", \"fire\", \"firearm\", \"firearms\", \"first\", \"first\", \"first\", \"first\", \"first\", \"first\", \"first\", \"first\", \"first\", \"first\", \"first\", \"first\", \"first\", \"first\", \"first\", \"firstclass\", \"flames\", \"flames\", \"flames\", \"flames\", \"fleury\", \"flight\", \"flight\", \"flight\", \"flight\", \"flight\", \"floppy\", \"floppy\", \"floppy\", \"flyers\", \"fnal\", \"food\", \"food\", \"food\", \"foods\", \"ford\", \"ford\", \"fork\", \"fork\", \"format\", \"format\", \"format\", \"format\", \"format\", \"formats\", \"forsale\", \"forsale\", \"fraering\", \"frank\", \"frank\", \"frank\", \"frank\", \"freenet\", \"freshman\", \"front\", \"front\", \"front\", \"front\", \"front\", \"front\", \"front\", \"front\", \"fujitsu\", \"funds\", \"funds\", \"fuse\", \"galileo\", \"galileo\", \"game\", \"game\", \"game\", \"game\", \"games\", \"games\", \"games\", \"gamma\", \"garnet\", \"gary\", \"gary\", \"gary\", \"gatech\", \"gateway\", \"gateway\", \"gateway\", \"gaul\", \"genes\", \"genetic\", \"genetic\", \"genocide\", \"genocide\", \"georgia\", \"georgia\", \"georgia\", \"gerard\", \"german\", \"german\", \"german\", \"german\", \"german\", \"getting\", \"getting\", \"getting\", \"getting\", \"getting\", \"getting\", \"getting\", \"giants\", \"glutamate\", \"goal\", \"goal\", \"goal\", \"goal\", \"goal\", \"goal\", \"goal\", \"goal\", \"going\", \"going\", \"going\", \"going\", \"going\", \"going\", \"going\", \"good\", \"good\", \"good\", \"good\", \"good\", \"good\", \"good\", \"good\", \"good\", \"good\", \"good\", \"good\", \"gordon\", \"government\", \"government\", \"government\", \"government\", \"government\", \"graeme\", \"graphics\", \"graphics\", \"greece\", \"greece\", \"greek\", \"greek\", \"greenbelt\", \"ground\", \"ground\", \"ground\", \"ground\", \"ground\", \"ground\", \"grounded\", \"group\", \"group\", \"group\", \"group\", \"group\", \"group\", \"group\", \"group\", \"group\", \"group\", \"group\", \"group\", \"group\", \"gsfc\", \"gsfc\", \"gtoal\", \"guns\", \"guns\", \"guns\", \"guyd\", \"habs\", \"hades\", \"halat\", \"hallam\", \"hamburg\", \"handgun\", \"handguns\", \"handheld\", \"hanging\", \"hanging\", \"hank\", \"happened\", \"happened\", \"happened\", \"happened\", \"hard\", \"hard\", \"hard\", \"hard\", \"hard\", \"hard\", \"hard\", \"hard\", \"hard\", \"harley\", \"hartford\", \"hawaii\", \"hawks\", \"hayes\", \"hayes\", \"hayes\", \"health\", \"health\", \"heaven\", \"heaven\", \"hela\", \"hello\", \"hello\", \"hello\", \"hello\", \"helmet\", \"help\", \"help\", \"help\", \"help\", \"help\", \"help\", \"help\", \"help\", \"hemisphere\", \"henrik\", \"henry\", \"hicnet\", \"higgins\", \"high\", \"high\", \"high\", \"high\", \"high\", \"high\", \"high\", \"high\", \"high\", \"high\", \"high\", \"high\", \"high\", \"high\", \"hiram\", \"history\", \"history\", \"history\", \"history\", \"history\", \"hockey\", \"hole\", \"hole\", \"hole\", \"hole\", \"hole\", \"hole\", \"hole\", \"hole\", \"hole\", \"holy\", \"homicide\", \"homicides\", \"homosexuality\", \"hong\", \"hopkins\", \"hopkins\", \"hoskyns\", \"host\", \"host\", \"host\", \"host\", \"host\", \"host\", \"host\", \"host\", \"host\", \"host\", \"host\", \"hour\", \"hour\", \"household\", \"howard\", \"howard\", \"howard\", \"howland\", \"hulk\", \"hulman\", \"human\", \"human\", \"human\", \"human\", \"human\", \"human\", \"icons\", \"ieee\", \"iisi\", \"illinois\", \"illinois\", \"illinois\", \"illness\", \"imag\", \"image\", \"image\", \"image\", \"image\", \"images\", \"images\", \"imaging\", \"imaging\", \"immune\", \"implementations\", \"impulse\", \"include\", \"include\", \"include\", \"include\", \"include\", \"include\", \"include\", \"include\", \"include\", \"include\", \"include\", \"included\", \"included\", \"included\", \"included\", \"included\", \"included\", \"included\", \"included\", \"income\", \"indians\", \"infection\", \"infectious\", \"info\", \"info\", \"info\", \"info\", \"info\", \"info\", \"info\", \"info\", \"information\", \"information\", \"information\", \"information\", \"information\", \"information\", \"information\", \"information\", \"information\", \"information\", \"information\", \"information\", \"ingr\", \"init\", \"input\", \"input\", \"input\", \"input\", \"input\", \"institute\", \"institute\", \"institute\", \"institute\", \"institute\", \"institute\", \"institute\", \"institute\", \"insurance\", \"insurance\", \"insurance\", \"intake\", \"intel\", \"intel\", \"intel\", \"intellect\", \"interactive\", \"intercon\", \"interface\", \"interface\", \"interface\", \"intergraph\", \"interleave\", \"internet\", \"internet\", \"internet\", \"internet\", \"internet\", \"internet\", \"internet\", \"internet\", \"internet\", \"interpretation\", \"investment\", \"iowa\", \"iowa\", \"ireland\", \"isis\", \"islam\", \"islam\", \"islanders\", \"israel\", \"israeli\", \"ists\", \"jake\", \"janney\", \"jarthur\", \"jason\", \"jason\", \"jason\", \"jason\", \"jason\", \"jason\", \"jason\", \"jays\", \"jeff\", \"jeff\", \"jeff\", \"jeff\", \"jeff\", \"jeff\", \"jeff\", \"jeff\", \"jesus\", \"jewish\", \"jewish\", \"jewish\", \"jews\", \"jews\", \"jobs\", \"joel\", \"joel\", \"john\", \"john\", \"john\", \"john\", \"john\", \"john\", \"john\", \"john\", \"john\", \"john\", \"johns\", \"journal\", \"journal\", \"journal\", \"journal\", \"journal\", \"journalism\", \"joystick\", \"jpeg\", \"judas\", \"judas\", \"judges\", \"judges\", \"judges\", \"jumper\", \"jumpers\", \"jumpers\", \"june\", \"june\", \"june\", \"june\", \"june\", \"jupiter\", \"jupiter\", \"jupiter\", \"karabakh\", \"karina\", \"kawasaki\", \"keith\", \"keith\", \"keith\", \"keller\", \"kelvin\", \"kelvin\", \"kennedy\", \"kennedy\", \"kennedy\", \"kent\", \"keyboard\", \"keyboard\", \"keyboard\", \"keyboards\", \"keys\", \"keys\", \"keys\", \"khan\", \"kidney\", \"kids\", \"kids\", \"killed\", \"killed\", \"killed\", \"killed\", \"kings\", \"kings\", \"kirk\", \"kirsch\", \"kkeller\", \"know\", \"know\", \"know\", \"know\", \"know\", \"know\", \"know\", \"know\", \"koresh\", \"koresh\", \"kris\", \"ksand\", \"lance\", \"lance\", \"laptop\", \"larc\", \"last\", \"last\", \"last\", \"last\", \"last\", \"last\", \"last\", \"last\", \"last\", \"last\", \"last\", \"last\", \"launch\", \"launched\", \"launched\", \"laurentian\", \"leafs\", \"league\", \"league\", \"league\", \"league\", \"league\", \"left\", \"left\", \"left\", \"left\", \"left\", \"left\", \"left\", \"left\", \"left\", \"left\", \"left\", \"leland\", \"leland\", \"lemieux\", \"liar\", \"libraries\", \"libraries\", \"life\", \"life\", \"life\", \"life\", \"life\", \"life\", \"life\", \"like\", \"like\", \"like\", \"like\", \"like\", \"like\", \"like\", \"like\", \"like\", \"like\", \"like\", \"like\", \"like\", \"limiting\", \"line\", \"line\", \"line\", \"line\", \"line\", \"line\", \"line\", \"line\", \"line\", \"line\", \"line\", \"line\", \"lines\", \"lines\", \"lines\", \"lines\", \"lines\", \"lines\", \"lines\", \"lines\", \"lines\", \"lines\", \"lines\", \"lines\", \"lines\", \"lines\", \"lines\", \"lines\", \"lines\", \"lines\", \"linux\", \"linux\", \"list\", \"list\", \"list\", \"list\", \"list\", \"list\", \"list\", \"list\", \"list\", \"list\", \"list\", \"list\", \"list\", \"little\", \"little\", \"little\", \"little\", \"little\", \"little\", \"little\", \"little\", \"liverpool\", \"livesey\", \"livni\", \"llnl\", \"logos\", \"long\", \"long\", \"long\", \"long\", \"long\", \"long\", \"long\", \"long\", \"long\", \"long\", \"long\", \"long\", \"looking\", \"looking\", \"looking\", \"looking\", \"looking\", \"looking\", \"lopez\", \"lord\", \"lord\", \"louisville\", \"lunar\", \"lyme\", \"lyuda\", \"macs\", \"magnus\", \"mahan\", \"mail\", \"mail\", \"mail\", \"mail\", \"mail\", \"mail\", \"mail\", \"mail\", \"mail\", \"mail\", \"mail\", \"make\", \"make\", \"make\", \"make\", \"make\", \"make\", \"make\", \"make\", \"make\", \"make\", \"make\", \"mamma\", \"manes\", \"mangoe\", \"manuals\", \"manuals\", \"many\", \"many\", \"many\", \"many\", \"many\", \"many\", \"many\", \"many\", \"many\", \"many\", \"marc\", \"marc\", \"marijuana\", \"marina\", \"mark\", \"mark\", \"mark\", \"mark\", \"mark\", \"mark\", \"mark\", \"mark\", \"mark\", \"mark\", \"mark\", \"mark\", \"mark\", \"married\", \"married\", \"mars\", \"marshall\", \"marshall\", \"marshall\", \"master\", \"master\", \"master\", \"master\", \"master\", \"maynard\", \"mayo\", \"mccall\", \"mcgill\", \"mcgill\", \"mcgill\", \"mcguire\", \"mcovingt\", \"mcrcim\", \"mean\", \"mean\", \"mean\", \"mean\", \"mean\", \"mean\", \"mean\", \"mean\", \"meat\", \"medical\", \"medical\", \"medical\", \"medical\", \"medical\", \"medicine\", \"medicine\", \"medicine\", \"medicine\", \"medicine\", \"megs\", \"melbourne\", \"melbourne\", \"melbourne\", \"melbourne\", \"mellon\", \"memory\", \"memory\", \"memory\", \"memory\", \"memory\", \"memory\", \"memory\", \"memory\", \"merrill\", \"message\", \"message\", \"message\", \"message\", \"message\", \"message\", \"message\", \"message\", \"message\", \"messenger\", \"mets\", \"mets\", \"michael\", \"michael\", \"michael\", \"michael\", \"michael\", \"michael\", \"michael\", \"michael\", \"microsoft\", \"microsoft\", \"midi\", \"mikey\", \"mile\", \"mile\", \"military\", \"military\", \"military\", \"military\", \"military\", \"military\", \"militia\", \"mime\", \"mint\", \"mission\", \"mission\", \"mission\", \"mission\", \"missouri\", \"mode\", \"mode\", \"mode\", \"mode\", \"mode\", \"mode\", \"modem\", \"modem\", \"modem\", \"money\", \"money\", \"money\", \"money\", \"money\", \"monitor\", \"monitor\", \"monitor\", \"monitors\", \"monitors\", \"mono\", \"mono\", \"monsanto\", \"montreal\", \"moon\", \"moral\", \"morality\", \"morality\", \"morning\", \"morning\", \"morris\", \"morris\", \"morris\", \"motherboard\", \"motherboard\", \"motif\", \"mouse\", \"mpeg\", \"msstate\", \"much\", \"much\", \"much\", \"much\", \"much\", \"much\", \"much\", \"much\", \"much\", \"much\", \"much\", \"muenchen\", \"muslim\", \"muslim\", \"must\", \"must\", \"must\", \"must\", \"must\", \"must\", \"must\", \"must\", \"must\", \"must\", \"must\", \"must\", \"must\", \"must\", \"must\", \"must\", \"myers\", \"myers\", \"mykotronx\", \"mykotronx\", \"nasa\", \"nasa\", \"national\", \"national\", \"national\", \"national\", \"national\", \"national\", \"national\", \"national\", \"national\", \"national\", \"national\", \"national\", \"nationwide\", \"natural\", \"natural\", \"natural\", \"navy\", \"navy\", \"navy\", \"nazi\", \"nazis\", \"ncsl\", \"ncsu\", \"ncsu\", \"need\", \"need\", \"need\", \"need\", \"need\", \"need\", \"need\", \"need\", \"need\", \"need\", \"need\", \"need\", \"need\", \"network\", \"network\", \"network\", \"network\", \"network\", \"network\", \"network\", \"network\", \"network\", \"neutral\", \"neutral\", \"neutral\", \"neutral\", \"never\", \"never\", \"never\", \"never\", \"never\", \"never\", \"never\", \"news\", \"news\", \"news\", \"news\", \"news\", \"news\", \"news\", \"news\", \"news\", \"news\", \"news\", \"news\", \"newsgroups\", \"newsgroups\", \"newsgroups\", \"newsgroups\", \"newsgroups\", \"newton\", \"newton\", \"nintendo\", \"nist\", \"nmsu\", \"nmsu\", \"nntp\", \"nntp\", \"nntp\", \"nntp\", \"nntp\", \"nntp\", \"nntp\", \"nntp\", \"nntp\", \"nords\", \"noring\", \"novell\", \"nsmca\", \"nswc\", \"nubus\", \"nuclear\", \"nuclear\", \"nuclear\", \"nuclear\", \"nuclear\", \"nuclear\", \"null\", \"null\", \"null\", \"number\", \"number\", \"number\", \"number\", \"number\", \"number\", \"number\", \"number\", \"number\", \"number\", \"number\", \"number\", \"number\", \"number\", \"number\", \"nuntius\", \"oasys\", \"oates\", \"obfuscate\", \"obfuscate\", \"obfuscation\", \"offer\", \"offer\", \"offer\", \"offer\", \"offer\", \"offer\", \"offer\", \"offset\", \"ohio\", \"ohio\", \"ohio\", \"ohio\", \"ohio\", \"okcforum\", \"online\", \"online\", \"online\", \"online\", \"online\", \"online\", \"online\", \"open\", \"open\", \"open\", \"open\", \"open\", \"open\", \"open\", \"open\", \"open\", \"open\", \"open\", \"openwindows\", \"opinions\", \"opinions\", \"opinions\", \"opinions\", \"opinions\", \"opinions\", \"opinions\", \"opinions\", \"opinions\", \"opinions\", \"optilink\", \"oracle\", \"oracle\", \"oracle\", \"orbit\", \"orbital\", \"organization\", \"organization\", \"organization\", \"organization\", \"organization\", \"organization\", \"organization\", \"organization\", \"organization\", \"organization\", \"organization\", \"organization\", \"organization\", \"organization\", \"organization\", \"organization\", \"organization\", \"organization\", \"original\", \"original\", \"original\", \"original\", \"original\", \"original\", \"original\", \"original\", \"original\", \"orioles\", \"orion\", \"orion\", \"orleans\", \"osrhe\", \"ottoman\", \"oulu\", \"outlet\", \"outlets\", \"output\", \"output\", \"output\", \"output\", \"overhead\", \"packaging\", \"page\", \"page\", \"page\", \"page\", \"page\", \"page\", \"page\", \"pain\", \"pain\", \"palestine\", \"palestinian\", \"panel\", \"panel\", \"panel\", \"panel\", \"panel\", \"panel\", \"panix\", \"panix\", \"paradox\", \"parcplace\", \"part\", \"part\", \"part\", \"part\", \"part\", \"part\", \"part\", \"part\", \"part\", \"part\", \"partition\", \"pasadena\", \"pasadena\", \"pasadena\", \"passages\", \"patent\", \"patents\", \"patient\", \"patient\", \"patients\", \"paul\", \"paul\", \"paul\", \"paul\", \"paul\", \"paul\", \"paul\", \"paul\", \"paul\", \"paying\", \"payload\", \"penn\", \"penn\", \"pennsylvania\", \"pennsylvania\", \"pennsylvania\", \"people\", \"people\", \"people\", \"people\", \"people\", \"people\", \"people\", \"people\", \"people\", \"people\", \"period\", \"period\", \"period\", \"period\", \"period\", \"period\", \"period\", \"petaluma\", \"phil\", \"phil\", \"phil\", \"phil\", \"phil\", \"phil\", \"phill\", \"phillies\", \"phone\", \"phone\", \"phone\", \"phone\", \"phone\", \"phone\", \"phone\", \"phone\", \"phones\", \"picture\", \"picture\", \"picture\", \"picture\", \"picture\", \"picture\", \"picture\", \"picture\", \"picture\", \"pitcher\", \"pitching\", \"pitt\", \"pitt\", \"pittsburgh\", \"pittsburgh\", \"pittsburgh\", \"pixmap\", \"planetary\", \"planetary\", \"plants\", \"plants\", \"platforms\", \"play\", \"play\", \"play\", \"play\", \"play\", \"play\", \"play\", \"played\", \"played\", \"played\", \"player\", \"player\", \"player\", \"player\", \"players\", \"players\", \"players\", \"playoff\", \"playoffs\", \"please\", \"please\", \"please\", \"please\", \"please\", \"please\", \"please\", \"please\", \"please\", \"please\", \"please\", \"plugs\", \"plus\", \"plus\", \"plus\", \"plus\", \"plus\", \"plus\", \"plus\", \"plus\", \"plymouth\", \"point\", \"point\", \"point\", \"point\", \"point\", \"point\", \"point\", \"point\", \"pointer\", \"points\", \"points\", \"points\", \"points\", \"points\", \"points\", \"points\", \"polygon\", \"polytechnic\", \"population\", \"population\", \"population\", \"population\", \"population\", \"port\", \"port\", \"port\", \"port\", \"portal\", \"portal\", \"posting\", \"posting\", \"posting\", \"posting\", \"posting\", \"posting\", \"posting\", \"posting\", \"posting\", \"posting\", \"posting\", \"posting\", \"posting\", \"power\", \"power\", \"power\", \"power\", \"power\", \"power\", \"power\", \"power\", \"power\", \"power\", \"power\", \"power\", \"power\", \"powerpc\", \"preferably\", \"president\", \"president\", \"president\", \"president\", \"prevention\", \"price\", \"price\", \"price\", \"price\", \"price\", \"price\", \"princeton\", \"princeton\", \"princeton\", \"printer\", \"printers\", \"printf\", \"prism\", \"prisoners\", \"privacy\", \"privacy\", \"private\", \"private\", \"private\", \"private\", \"private\", \"private\", \"private\", \"problem\", \"problem\", \"problem\", \"problem\", \"problem\", \"problem\", \"problem\", \"problem\", \"problem\", \"problem\", \"problem\", \"proceedings\", \"proceedings\", \"processing\", \"processing\", \"processing\", \"prog\", \"program\", \"program\", \"program\", \"program\", \"program\", \"program\", \"program\", \"programs\", \"programs\", \"programs\", \"programs\", \"programs\", \"programs\", \"programs\", \"project\", \"project\", \"project\", \"project\", \"project\", \"project\", \"project\", \"project\", \"propulsion\", \"propulsion\", \"protein\", \"proton\", \"psuvm\", \"public\", \"public\", \"public\", \"public\", \"public\", \"public\", \"public\", \"public\", \"public\", \"publish\", \"puck\", \"purdue\", \"pyron\", \"quadra\", \"quadra\", \"quantum\", \"quantum\", \"quebec\", \"question\", \"question\", \"question\", \"question\", \"question\", \"question\", \"question\", \"radar\", \"radio\", \"radio\", \"radio\", \"radio\", \"radio\", \"radio\", \"radio\", \"radiosity\", \"rainer\", \"ramsey\", \"random\", \"random\", \"random\", \"rangers\", \"rangers\", \"rare\", \"ravel\", \"readme\", \"really\", \"really\", \"really\", \"really\", \"really\", \"really\", \"really\", \"redesign\", \"reds\", \"reed\", \"reed\", \"reed\", \"refresh\", \"regulated\", \"religion\", \"religion\", \"religions\", \"religious\", \"religious\", \"remark\", \"remark\", \"reply\", \"reply\", \"reply\", \"reply\", \"reply\", \"reply\", \"reply\", \"reply\", \"reply\", \"reply\", \"reply\", \"reply\", \"reply\", \"reply\", \"reported\", \"reported\", \"reported\", \"reported\", \"reported\", \"reported\", \"reported\", \"republicans\", \"research\", \"research\", \"research\", \"research\", \"research\", \"research\", \"research\", \"research\", \"research\", \"research\", \"research\", \"reserve\", \"reserve\", \"reserve\", \"resource\", \"resource\", \"restaurant\", \"results\", \"results\", \"results\", \"results\", \"results\", \"results\", \"results\", \"results\", \"resurrection\", \"revelation\", \"rickey\", \"right\", \"right\", \"right\", \"right\", \"right\", \"right\", \"right\", \"right\", \"right\", \"right\", \"ripem\", \"risk\", \"risk\", \"risk\", \"risk\", \"risk\", \"robert\", \"robert\", \"robert\", \"robert\", \"robert\", \"robert\", \"robert\", \"robert\", \"robert\", \"robert\", \"robinson\", \"robinson\", \"rochester\", \"rochester\", \"rockefeller\", \"rockwell\", \"rockwell\", \"rose\", \"rose\", \"rows\", \"rtsg\", \"rules\", \"rules\", \"rules\", \"rules\", \"russian\", \"russian\", \"russian\", \"rutgers\", \"rutgers\", \"rutgers\", \"rwing\", \"sabbath\", \"said\", \"said\", \"said\", \"said\", \"said\", \"said\", \"said\", \"salary\", \"sale\", \"sale\", \"sale\", \"sale\", \"salmon\", \"sandvik\", \"sasghm\", \"satellite\", \"satellite\", \"satellites\", \"saves\", \"scheme\", \"scheme\", \"schism\", \"schneider\", \"schneider\", \"science\", \"science\", \"science\", \"science\", \"science\", \"science\", \"science\", \"science\", \"science\", \"science\", \"scientific\", \"scientific\", \"scientific\", \"scientific\", \"scientific\", \"score\", \"score\", \"scored\", \"scorer\", \"scoring\", \"scott\", \"scott\", \"scott\", \"scott\", \"scott\", \"scott\", \"scott\", \"scott\", \"scripture\", \"scsi\", \"scsi\", \"sdpa\", \"seagate\", \"season\", \"second\", \"second\", \"second\", \"second\", \"second\", \"second\", \"second\", \"second\", \"second\", \"second\", \"second\", \"secret\", \"secret\", \"secret\", \"secret\", \"section\", \"section\", \"section\", \"section\", \"section\", \"section\", \"section\", \"secular\", \"secure\", \"secure\", \"security\", \"security\", \"security\", \"sega\", \"seizures\", \"sell\", \"sell\", \"sell\", \"sell\", \"sell\", \"sell\", \"sell\", \"sell\", \"sell\", \"sell\", \"selling\", \"selling\", \"selling\", \"selling\", \"selling\", \"send\", \"send\", \"send\", \"send\", \"send\", \"send\", \"send\", \"send\", \"send\", \"send\", \"send\", \"sensitivity\", \"sensitivity\", \"sequences\", \"sera\", \"serdar\", \"server\", \"server\", \"server\", \"server\", \"server\", \"servers\", \"servers\", \"service\", \"service\", \"service\", \"service\", \"service\", \"service\", \"service\", \"service\", \"service\", \"service\", \"service\", \"service\", \"shaft\", \"shaft\", \"shaft\", \"shah\", \"shameful\", \"sharks\", \"shearson\", \"shipping\", \"shipping\", \"shit\", \"shouting\", \"shuttle\", \"shuttle\", \"simms\", \"simms\", \"sister\", \"sites\", \"sites\", \"sites\", \"skepticism\", \"skndiv\", \"skrudland\", \"slave\", \"slave\", \"sleeve\", \"slider\", \"smith\", \"smith\", \"smith\", \"smith\", \"smith\", \"smith\", \"smith\", \"smith\", \"smith\", \"smokeless\", \"socket\", \"software\", \"software\", \"software\", \"software\", \"software\", \"software\", \"software\", \"software\", \"software\", \"solar\", \"solar\", \"soldiers\", \"solntze\", \"something\", \"something\", \"something\", \"something\", \"something\", \"something\", \"something\", \"sony\", \"sorenson\", \"sound\", \"sound\", \"sound\", \"sound\", \"sound\", \"soundblaster\", \"source\", \"source\", \"source\", \"source\", \"source\", \"source\", \"source\", \"source\", \"source\", \"sources\", \"sources\", \"sources\", \"sources\", \"sources\", \"sources\", \"sources\", \"southwestern\", \"soviet\", \"space\", \"space\", \"space\", \"space\", \"spacecraft\", \"spacecraft\", \"spencer\", \"spirit\", \"standard\", \"standard\", \"standard\", \"standard\", \"standard\", \"standard\", \"standard\", \"standard\", \"standard\", \"stanford\", \"stanford\", \"stanford\", \"stanford\", \"stanford\", \"started\", \"started\", \"started\", \"started\", \"started\", \"started\", \"started\", \"state\", \"state\", \"state\", \"state\", \"state\", \"state\", \"state\", \"state\", \"state\", \"state\", \"state\", \"state\", \"states\", \"states\", \"states\", \"states\", \"states\", \"states\", \"states\", \"station\", \"station\", \"station\", \"station\", \"station\", \"station\", \"steam\", \"sternlight\", \"steve\", \"steve\", \"steve\", \"steve\", \"steve\", \"steve\", \"steve\", \"steve\", \"steve\", \"still\", \"still\", \"still\", \"still\", \"still\", \"still\", \"still\", \"still\", \"still\", \"still\", \"still\", \"stpl\", \"stratus\", \"stream\", \"stream\", \"stream\", \"studies\", \"studies\", \"studies\", \"studies\", \"studies\", \"studies\", \"studio\", \"study\", \"study\", \"study\", \"study\", \"study\", \"subject\", \"subject\", \"subject\", \"subject\", \"subject\", \"subject\", \"subject\", \"subject\", \"subject\", \"subject\", \"subject\", \"subject\", \"subject\", \"subject\", \"subject\", \"subject\", \"subject\", \"subject\", \"subject\", \"subjective\", \"subjective\", \"subjective\", \"suck\", \"sumgait\", \"sunos\", \"sunysb\", \"sunysb\", \"superstition\", \"superstition\", \"supply\", \"supply\", \"supply\", \"supply\", \"supply\", \"supply\", \"supply\", \"supply\", \"sussex\", \"svga\", \"symbol\", \"symbol\", \"symbol\", \"symptoms\", \"symptoms\", \"sync\", \"sync\", \"syndrome\", \"syquest\", \"system\", \"system\", \"system\", \"system\", \"system\", \"system\", \"system\", \"system\", \"system\", \"system\", \"system\", \"system\", \"system\", \"take\", \"take\", \"take\", \"take\", \"take\", \"take\", \"take\", \"tamu\", \"tape\", \"tape\", \"tape\", \"tape\", \"tape\", \"tape\", \"taught\", \"team\", \"team\", \"team\", \"team\", \"teams\", \"technology\", \"technology\", \"technology\", \"technology\", \"technology\", \"technology\", \"technology\", \"technology\", \"telescope\", \"telos\", \"temp\", \"testament\", \"texas\", \"texas\", \"texas\", \"texas\", \"texas\", \"texas\", \"texas\", \"thanks\", \"thanks\", \"thanks\", \"thanks\", \"thanks\", \"thanks\", \"thanks\", \"thanks\", \"thanks\", \"theory\", \"theory\", \"theory\", \"theory\", \"therapy\", \"therapy\", \"theseus\", \"things\", \"things\", \"things\", \"things\", \"things\", \"things\", \"things\", \"things\", \"things\", \"think\", \"think\", \"think\", \"think\", \"think\", \"think\", \"think\", \"think\", \"third\", \"third\", \"third\", \"third\", \"third\", \"third\", \"third\", \"third\", \"third\", \"three\", \"three\", \"three\", \"three\", \"three\", \"three\", \"three\", \"three\", \"three\", \"three\", \"three\", \"three\", \"three\", \"tigers\", \"time\", \"time\", \"time\", \"time\", \"time\", \"time\", \"time\", \"time\", \"time\", \"time\", \"time\", \"time\", \"timer\", \"timer\", \"timing\", \"timing\", \"timing\", \"timing\", \"tire\", \"tires\", \"titan\", \"tobacco\", \"today\", \"today\", \"today\", \"today\", \"today\", \"today\", \"today\", \"today\", \"told\", \"told\", \"told\", \"told\", \"told\", \"tony\", \"tony\", \"tony\", \"took\", \"took\", \"took\", \"took\", \"took\", \"took\", \"toolkit\", \"toolkits\", \"toronto\", \"toronto\", \"toronto\", \"toronto\", \"toshiba\", \"tourist\", \"tower\", \"tower\", \"tower\", \"towers\", \"transfer\", \"transfer\", \"transfer\", \"transfer\", \"transfer\", \"transfer\", \"transfer\", \"transfer\", \"transfer\", \"transfers\", \"treatment\", \"treatment\", \"treatment\", \"treatment\", \"troops\", \"troops\", \"true\", \"true\", \"true\", \"true\", \"true\", \"true\", \"true\", \"true\", \"true\", \"truetype\", \"truth\", \"truth\", \"truth\", \"turbo\", \"turgeon\", \"turkey\", \"turkish\", \"turks\", \"typing\", \"typing\", \"tyre\", \"tyre\", \"uchicago\", \"uchicago\", \"ucsu\", \"udel\", \"uicvm\", \"uiuc\", \"uiuc\", \"umanitoba\", \"umich\", \"undergrad\", \"unity\", \"university\", \"university\", \"university\", \"university\", \"university\", \"university\", \"university\", \"university\", \"university\", \"university\", \"university\", \"university\", \"university\", \"university\", \"university\", \"unix\", \"unix\", \"unix\", \"unix\", \"unix\", \"unix\", \"uoknor\", \"upenn\", \"upgrade\", \"upgrade\", \"upgraded\", \"urbana\", \"usaf\", \"used\", \"used\", \"used\", \"used\", \"used\", \"used\", \"used\", \"used\", \"used\", \"used\", \"used\", \"used\", \"used\", \"used\", \"usenet\", \"usenet\", \"usenet\", \"usenet\", \"usenet\", \"usenet\", \"usenet\", \"usenet\", \"usenet\", \"user\", \"user\", \"user\", \"user\", \"useragent\", \"users\", \"users\", \"users\", \"users\", \"users\", \"users\", \"users\", \"using\", \"using\", \"using\", \"using\", \"using\", \"using\", \"using\", \"using\", \"using\", \"using\", \"using\", \"utexas\", \"utexas\", \"utexas\", \"utkvm\", \"utrecht\", \"utxvms\", \"uucp\", \"uucp\", \"uucp\", \"uucp\", \"uucp\", \"uucp\", \"uucp\", \"uucp\", \"uucp\", \"uuencode\", \"uvic\", \"uwaterloo\", \"veal\", \"vehicle\", \"vehicle\", \"version\", \"version\", \"version\", \"version\", \"version\", \"version\", \"version\", \"version\", \"version\", \"version\", \"vesa\", \"vesselin\", \"video\", \"video\", \"video\", \"video\", \"video\", \"video\", \"villages\", \"virginia\", \"virginia\", \"virginia\", \"virginia\", \"virginia\", \"visual\", \"vitamin\", \"vnet\", \"vnet\", \"vnet\", \"voltage\", \"voltage\", \"volvo\", \"vram\", \"wade\", \"wagner\", \"wales\", \"walked\", \"walker\", \"walter\", \"walter\", \"walter\", \"want\", \"want\", \"want\", \"want\", \"want\", \"want\", \"want\", \"want\", \"want\", \"want\", \"want\", \"warwick\", \"washington\", \"washington\", \"washington\", \"washington\", \"washington\", \"washington\", \"washington\", \"washington\", \"washington\", \"water\", \"water\", \"water\", \"waterloo\", \"waterloo\", \"waters\", \"weapon\", \"weapons\", \"weapons\", \"weaver\", \"well\", \"well\", \"well\", \"well\", \"well\", \"well\", \"well\", \"well\", \"well\", \"well\", \"well\", \"well\", \"well\", \"went\", \"went\", \"went\", \"went\", \"went\", \"western\", \"western\", \"western\", \"western\", \"western\", \"western\", \"widget\", \"widgets\", \"williams\", \"williams\", \"williams\", \"williams\", \"window\", \"window\", \"window\", \"windows\", \"windows\", \"windows\", \"wings\", \"wings\", \"wire\", \"wire\", \"wires\", \"wires\", \"wiretap\", \"wiring\", \"wolverine\", \"wong\", \"word\", \"word\", \"word\", \"word\", \"word\", \"wordperfect\", \"words\", \"words\", \"words\", \"words\", \"words\", \"words\", \"words\", \"words\", \"work\", \"work\", \"work\", \"work\", \"work\", \"work\", \"work\", \"work\", \"work\", \"work\", \"work\", \"work\", \"world\", \"world\", \"world\", \"world\", \"world\", \"world\", \"world\", \"world\", \"world\", \"world\", \"world\", \"world\", \"world\", \"world\", \"world\", \"world\", \"worship\", \"would\", \"would\", \"would\", \"would\", \"would\", \"would\", \"would\", \"would\", \"would\", \"would\", \"would\", \"xlib\", \"xlib\", \"xpert\", \"xputimage\", \"xsun\", \"xterm\", \"xview\", \"xxdate\", \"yale\", \"yale\", \"yale\", \"yale\", \"yankees\", \"year\", \"year\", \"year\", \"year\", \"year\", \"year\", \"year\", \"year\", \"year\", \"year\", \"year\", \"years\", \"years\", \"years\", \"years\", \"years\", \"years\", \"years\", \"years\", \"years\", \"years\", \"years\", \"years\", \"zoology\", \"zuma\"]}, \"R\": 30, \"lambda.step\": 0.01, \"plot.opts\": {\"xlab\": \"PC1\", \"ylab\": \"PC2\"}, \"topic.order\": [8, 6, 12, 20, 15, 16, 13, 11, 7, 3, 4, 17, 2, 10, 14, 18, 5, 1, 19, 9]};\n",
       "\n",
       "function LDAvis_load_lib(url, callback){\n",
       "  var s = document.createElement('script');\n",
       "  s.src = url;\n",
       "  s.async = true;\n",
       "  s.onreadystatechange = s.onload = callback;\n",
       "  s.onerror = function(){console.warn(\"failed to load library \" + url);};\n",
       "  document.getElementsByTagName(\"head\")[0].appendChild(s);\n",
       "}\n",
       "\n",
       "if(typeof(LDAvis) !== \"undefined\"){\n",
       "   // already loaded: just create the visualization\n",
       "   !function(LDAvis){\n",
       "       new LDAvis(\"#\" + \"ldavis_el3577620933280969925559866626\", ldavis_el3577620933280969925559866626_data);\n",
       "   }(LDAvis);\n",
       "}else if(typeof define === \"function\" && define.amd){\n",
       "   // require.js is available: use it to load d3/LDAvis\n",
       "   require.config({paths: {d3: \"https://d3js.org/d3.v5\"}});\n",
       "   require([\"d3\"], function(d3){\n",
       "      window.d3 = d3;\n",
       "      LDAvis_load_lib(\"https://cdn.jsdelivr.net/gh/bmabey/pyLDAvis@3.4.0/pyLDAvis/js/ldavis.v3.0.0.js\", function(){\n",
       "        new LDAvis(\"#\" + \"ldavis_el3577620933280969925559866626\", ldavis_el3577620933280969925559866626_data);\n",
       "      });\n",
       "    });\n",
       "}else{\n",
       "    // require.js not available: dynamically load d3 & LDAvis\n",
       "    LDAvis_load_lib(\"https://d3js.org/d3.v5.js\", function(){\n",
       "         LDAvis_load_lib(\"https://cdn.jsdelivr.net/gh/bmabey/pyLDAvis@3.4.0/pyLDAvis/js/ldavis.v3.0.0.js\", function(){\n",
       "                 new LDAvis(\"#\" + \"ldavis_el3577620933280969925559866626\", ldavis_el3577620933280969925559866626_data);\n",
       "            })\n",
       "         });\n",
       "}\n",
       "</script>"
      ],
      "text/plain": [
       "<IPython.core.display.HTML object>"
      ]
     },
     "execution_count": 149,
     "metadata": {},
     "output_type": "execute_result"
    }
   ],
   "source": [
    "import pyLDAvis.gensim_models\n",
    "\n",
    "pyLDAvis.enable_notebook()\n",
    "vis = pyLDAvis.gensim_models.prepare(ldamodel, corpus, dictionary)\n",
    "pyLDAvis.display(vis)"
   ]
  },
  {
   "cell_type": "markdown",
   "metadata": {},
   "source": [
    "#### 문서별 토픽 분포보기\n",
    "\n",
    "- 훈련된 LDA 모델에 전체 데이터가 정수 인코딩된 결과를 넣어 확인"
   ]
  },
  {
   "cell_type": "code",
   "execution_count": 152,
   "metadata": {},
   "outputs": [
    {
     "data": {
      "text/plain": [
       "11314"
      ]
     },
     "execution_count": 152,
     "metadata": {},
     "output_type": "execute_result"
    }
   ],
   "source": [
    "len(ldamodel[corpus])"
   ]
  },
  {
   "cell_type": "code",
   "execution_count": 155,
   "metadata": {},
   "outputs": [
    {
     "data": {
      "text/html": [
       "<div>\n",
       "<style scoped>\n",
       "    .dataframe tbody tr th:only-of-type {\n",
       "        vertical-align: middle;\n",
       "    }\n",
       "\n",
       "    .dataframe tbody tr th {\n",
       "        vertical-align: top;\n",
       "    }\n",
       "\n",
       "    .dataframe thead th {\n",
       "        text-align: right;\n",
       "    }\n",
       "</style>\n",
       "<table border=\"1\" class=\"dataframe\">\n",
       "  <thead>\n",
       "    <tr style=\"text-align: right;\">\n",
       "      <th></th>\n",
       "      <th>토픽비중</th>\n",
       "    </tr>\n",
       "  </thead>\n",
       "  <tbody>\n",
       "    <tr>\n",
       "      <th>0</th>\n",
       "      <td>[(5, 0.3371243), (12, 0.6091101), (13, 0.04195...</td>\n",
       "    </tr>\n",
       "    <tr>\n",
       "      <th>1</th>\n",
       "      <td>[(0, 0.04223577), (3, 0.26113105), (5, 0.57612...</td>\n",
       "    </tr>\n",
       "    <tr>\n",
       "      <th>2</th>\n",
       "      <td>[(4, 0.08025471), (5, 0.26180047), (6, 0.02542...</td>\n",
       "    </tr>\n",
       "    <tr>\n",
       "      <th>3</th>\n",
       "      <td>[(0, 0.013123091), (5, 0.06490656), (7, 0.1797...</td>\n",
       "    </tr>\n",
       "    <tr>\n",
       "      <th>4</th>\n",
       "      <td>[(2, 0.20458028), (4, 0.52713245), (7, 0.19737...</td>\n",
       "    </tr>\n",
       "  </tbody>\n",
       "</table>\n",
       "</div>"
      ],
      "text/plain": [
       "                                                토픽비중\n",
       "0  [(5, 0.3371243), (12, 0.6091101), (13, 0.04195...\n",
       "1  [(0, 0.04223577), (3, 0.26113105), (5, 0.57612...\n",
       "2  [(4, 0.08025471), (5, 0.26180047), (6, 0.02542...\n",
       "3  [(0, 0.013123091), (5, 0.06490656), (7, 0.1797...\n",
       "4  [(2, 0.20458028), (4, 0.52713245), (7, 0.19737..."
      ]
     },
     "execution_count": 155,
     "metadata": {},
     "output_type": "execute_result"
    }
   ],
   "source": [
    "doc_topic_list = []\n",
    "for i, topic_list in enumerate(ldamodel[corpus]):\n",
    "    doc_topic_list.append(topic_list)\n",
    "doc_topic_df = pd.DataFrame({'토픽비중': doc_topic_list})\n",
    "doc_topic_df.head()"
   ]
  },
  {
   "cell_type": "markdown",
   "metadata": {},
   "source": [
    "-----"
   ]
  },
  {
   "cell_type": "markdown",
   "metadata": {},
   "source": [
    "### 연습문제.\n",
    "\n",
    "다음의 뉴스기사 제목에 대하여 주어진 조건에 따라 토픽모델링을 수행하고, 토픽모델링의 결과와 뉴스기사의 대분류 범주와 어느 정도 일치하는지 파악하시오.\n",
    "\n",
    "- 데이터셋 : 'kor_news_240326.xlsx'\n",
    "- 토픽수 : 9개\n",
    "- 벡터화\n",
    "    - CountVectorizor\n",
    "    - TfidfVectorizer\n",
    "- 토픽모델링 패키지\n",
    "    - sklearn의 LatentDirichletAllocation() 이용\n",
    "    - gensim 이용"
   ]
  },
  {
   "cell_type": "code",
   "execution_count": null,
   "metadata": {},
   "outputs": [],
   "source": []
  },
  {
   "cell_type": "code",
   "execution_count": null,
   "metadata": {},
   "outputs": [],
   "source": []
  },
  {
   "cell_type": "code",
   "execution_count": null,
   "metadata": {},
   "outputs": [],
   "source": []
  },
  {
   "cell_type": "code",
   "execution_count": null,
   "metadata": {},
   "outputs": [],
   "source": []
  },
  {
   "cell_type": "code",
   "execution_count": null,
   "metadata": {},
   "outputs": [],
   "source": []
  },
  {
   "cell_type": "markdown",
   "metadata": {},
   "source": [
    "----"
   ]
  }
 ],
 "metadata": {
  "kernelspec": {
   "display_name": "Python 3 (ipykernel)",
   "language": "python",
   "name": "python3"
  },
  "language_info": {
   "codemirror_mode": {
    "name": "ipython",
    "version": 3
   },
   "file_extension": ".py",
   "mimetype": "text/x-python",
   "name": "python",
   "nbconvert_exporter": "python",
   "pygments_lexer": "ipython3",
   "version": "3.11.7"
  }
 },
 "nbformat": 4,
 "nbformat_minor": 4
}
