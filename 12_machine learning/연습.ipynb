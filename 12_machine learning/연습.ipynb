{
 "cells": [
  {
   "cell_type": "code",
   "execution_count": 7,
   "id": "c33c6241-59e7-42f7-8387-3200f4f2da75",
   "metadata": {},
   "outputs": [],
   "source": [
    "import numpy as np"
   ]
  },
  {
   "cell_type": "code",
   "execution_count": 9,
   "id": "a711cdec-3c3e-469e-8690-42efc6f34d8c",
   "metadata": {},
   "outputs": [],
   "source": [
    "def scores(TP, FP, TN, FN):\n",
    "    acc = (TP + TN) / (TP + FP + TN + FN)\n",
    "    pre = TP / (TP + FP)\n",
    "    recall = TP / (TP + FN)\n",
    "    tnr = TN / (TN + FP)\n",
    "    tpr = TP / (TP + FN)\n",
    "    fpr = FP / (TN + FP)\n",
    "    F1 = 2 *(pre * recall) / (pre + recall)\n",
    "    G = np.sqrt(pre * recall)\n",
    "    \n",
    "    print(f'정확도: {acc:.4f}, 재현율: {recall:.4f}, 정밀도: {pre:.4f}')\n",
    "    print(f'민감도: {tpr:.4f}, 특이값: {tnr:.4f}, 1-특이값(FPR): {fpr:.4f}')\n",
    "    print(f'F1: {F1:.4f}, G: {G:.4f}')"
   ]
  },
  {
   "cell_type": "code",
   "execution_count": 10,
   "id": "e7a47739-6b61-43ac-905b-685abe96a906",
   "metadata": {},
   "outputs": [
    {
     "name": "stdout",
     "output_type": "stream",
     "text": [
      "A 의사\n",
      "정확도: 0.9900, 재현율: 0.5000, 정밀도: 1.0000\n",
      "민감도: 0.5000, 특이값: 1.0000, 1-특이값(FPR): 0.0000\n",
      "F1: 0.6667, G: 0.7071\n",
      "\n",
      "B 의사\n",
      "정확도: 0.9960, 재현율: 0.8000, 정밀도: 0.8000\n",
      "민감도: 0.8000, 특이값: 0.9980, 1-특이값(FPR): 0.0020\n",
      "F1: 0.8000, G: 0.8000\n"
     ]
    }
   ],
   "source": [
    "# A 의사 / TP_A, FP_A, TN_A, FN_A = 10, 0, 980, 10\n",
    "print('A 의사')\n",
    "scores(10,0,980,10)\n",
    "\n",
    "print()\n",
    "\n",
    "# B 의사 / TP_B, FP_B, TN_B, FN_B = 8,2,980,2\n",
    "print('B 의사')\n",
    "scores(8,2,980,2)"
   ]
  },
  {
   "cell_type": "markdown",
   "id": "c5d81c3a-8e50-4ac8-9d95-41edc2a317a1",
   "metadata": {},
   "source": [
    "=> B 의사의 성능이 더 뛰어나다."
   ]
  }
 ],
 "metadata": {
  "kernelspec": {
   "display_name": "Python 3 (ipykernel)",
   "language": "python",
   "name": "python3"
  },
  "language_info": {
   "codemirror_mode": {
    "name": "ipython",
    "version": 3
   },
   "file_extension": ".py",
   "mimetype": "text/x-python",
   "name": "python",
   "nbconvert_exporter": "python",
   "pygments_lexer": "ipython3",
   "version": "3.11.7"
  }
 },
 "nbformat": 4,
 "nbformat_minor": 5
}
