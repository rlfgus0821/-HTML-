{
 "cells": [
  {
   "cell_type": "code",
   "execution_count": 2,
   "metadata": {},
   "outputs": [],
   "source": [
    "import numpy as np\n",
    "import pandas as pd\n",
    "import matplotlib.pyplot as plt\n",
    "import seaborn as sns\n",
    "\n",
    "import warnings\n",
    "warnings.filterwarnings('ignore')"
   ]
  },
  {
   "cell_type": "markdown",
   "metadata": {},
   "source": [
    "# 문서 군집화(Document Clustering)"
   ]
  },
  {
   "cell_type": "markdown",
   "metadata": {},
   "source": [
    "- 비슷한 텍스트 구성의 문서를 군집화하는 것\n",
    "- 동일한 군집에 속하는 문서를 같은 카테고리 소속으로 분류할 수 있으므로 텍스트 분류 기반의 문서 분류와 유사하나\n",
    "- 텍스트 분류 기반의 문서 분류는 사전에 결정 카테고리 값을 가진 학습 데이터 세트가 필요한데 반해 학습 데이터 세트가 필요없는 비지도 학습"
   ]
  },
  {
   "cell_type": "markdown",
   "metadata": {},
   "source": [
    "## 문서 군집화 실습"
   ]
  },
  {
   "cell_type": "markdown",
   "metadata": {},
   "source": [
    "### 예제 데이터\n",
    "\n",
    "- UCI머신러닝 리포지토리에 있는 Opinion Review 데이터\n",
    "    - 출처 : https://archive.ics.uci.edu/dataset/191/opinosis+opinion+frasl+review\n",
    "- 51개 텍스트 파일로 구성\n",
    "    - Tripadvisor(호텔), Edmunds.xom(자동차), Amazon.com(전자제품) 사이트에서 가져온 리뷰 문서\n",
    "    - 각 문서는 약 100개 정도의 문장을 가지고 있음  "
   ]
  },
  {
   "cell_type": "markdown",
   "metadata": {},
   "source": [
    "### 데이터 준비\n",
    "\n",
    "- 파일을 읽고 데이터 프레임으로 변환"
   ]
  },
  {
   "cell_type": "code",
   "execution_count": 4,
   "metadata": {},
   "outputs": [],
   "source": [
    "import os, glob"
   ]
  },
  {
   "cell_type": "code",
   "execution_count": 7,
   "metadata": {},
   "outputs": [
    {
     "data": {
      "text/html": [
       "<div>\n",
       "<style scoped>\n",
       "    .dataframe tbody tr th:only-of-type {\n",
       "        vertical-align: middle;\n",
       "    }\n",
       "\n",
       "    .dataframe tbody tr th {\n",
       "        vertical-align: top;\n",
       "    }\n",
       "\n",
       "    .dataframe thead th {\n",
       "        text-align: right;\n",
       "    }\n",
       "</style>\n",
       "<table border=\"1\" class=\"dataframe\">\n",
       "  <thead>\n",
       "    <tr style=\"text-align: right;\">\n",
       "      <th></th>\n",
       "      <th>filename</th>\n",
       "      <th>opinion_text</th>\n",
       "    </tr>\n",
       "  </thead>\n",
       "  <tbody>\n",
       "    <tr>\n",
       "      <th>0</th>\n",
       "      <td>accuracy_garmin_nuvi_255W_gps</td>\n",
       "      <td>...</td>\n",
       "    </tr>\n",
       "    <tr>\n",
       "      <th>1</th>\n",
       "      <td>bathroom_bestwestern_hotel_sfo</td>\n",
       "      <td>...</td>\n",
       "    </tr>\n",
       "    <tr>\n",
       "      <th>2</th>\n",
       "      <td>battery-life_amazon_kindle</td>\n",
       "      <td>...</td>\n",
       "    </tr>\n",
       "  </tbody>\n",
       "</table>\n",
       "</div>"
      ],
      "text/plain": [
       "                         filename  \\\n",
       "0   accuracy_garmin_nuvi_255W_gps   \n",
       "1  bathroom_bestwestern_hotel_sfo   \n",
       "2      battery-life_amazon_kindle   \n",
       "\n",
       "                                        opinion_text  \n",
       "0                                                ...  \n",
       "1                                                ...  \n",
       "2                                                ...  "
      ]
     },
     "execution_count": 7,
     "metadata": {},
     "output_type": "execute_result"
    }
   ],
   "source": [
    "path = r'C:\\workspace_multi07\\web\\12_machine learning\\data\\OpinosisDataset1.0\\topics'\n",
    "all_files = glob.glob(os.path.join(path, '*.data'))\n",
    "\n",
    "text_list= []\n",
    "filename_list = []\n",
    "\n",
    "for file_ in all_files:\n",
    "    df = pd.read_table(file_, index_col=None, encoding='latin1')\n",
    "    text_list.append(df.to_string())\n",
    "    filename_list.append(file_.split('\\\\')[-1].split('.')[0])\n",
    "\n",
    "doc_df = pd.DataFrame({'filename': filename_list, 'opinion_text': text_list})\n",
    "doc_df.head(3)"
   ]
  },
  {
   "cell_type": "markdown",
   "metadata": {},
   "source": [
    "### 토큰화"
   ]
  },
  {
   "cell_type": "markdown",
   "metadata": {},
   "source": [
    "#### 토큰화 및 어근 추출을 위한 함수 LemNormalize(text) 정의\n",
    "- 소문자로 변환한 후 구두점을 제거(remove_punct_dict)\n",
    "- nltk.word_tokenize() 메서드로 단어 토큰화\n",
    "- LemTokens(tokens) 함수 호출하여 토큰화한 단어의 원형으로 변환\n",
    "- WordNetLemmatizer클래스에서 제공하는 lemmatize(token)을 이용하여 Lemmatization을 구현"
   ]
  },
  {
   "cell_type": "code",
   "execution_count": 8,
   "metadata": {},
   "outputs": [],
   "source": [
    "from nltk.stem import WordNetLemmatizer\n",
    "import nltk\n",
    "import string"
   ]
  },
  {
   "cell_type": "code",
   "execution_count": 13,
   "metadata": {},
   "outputs": [],
   "source": [
    "# 구두점 제거 string.punctuation -> '!\"#$%&\\'()*+,-./:;<=>?@[\\\\]^_`{|}~'\n",
    "# WordNetLemmatizer -> 단어의 원형을 반환 -> 과거형을 현재형, 복수형을 단수형\n",
    "punct_dict = dict((ord(punct),None) for punct in string.punctuation)\n",
    "lemmar = WordNetLemmatizer()\n",
    "\n",
    "def LemTokens(tokens):\n",
    "    return [lemmar.lemmatize(token) for token in tokens]\n",
    "\n",
    "def LemNormalize(text):\n",
    "    return LemTokens(nltk.word_tokenize(text.lower().translate(punct_dict)))"
   ]
  },
  {
   "cell_type": "code",
   "execution_count": 14,
   "metadata": {},
   "outputs": [
    {
     "data": {
      "text/plain": [
       "['this', 'is', 'good']"
      ]
     },
     "execution_count": 14,
     "metadata": {},
     "output_type": "execute_result"
    }
   ],
   "source": [
    "LemNormalize('This is Good!!!')"
   ]
  },
  {
   "cell_type": "markdown",
   "metadata": {},
   "source": [
    "#### TF-IDF벡터화\n",
    "\n",
    "- tokenizer로 LemNormalize() 함수를 이용"
   ]
  },
  {
   "cell_type": "code",
   "execution_count": 15,
   "metadata": {},
   "outputs": [],
   "source": [
    "from sklearn.feature_extraction.text import TfidfVectorizer\n",
    "\n",
    "# tokenizer= 토큰화 함수 넣으면 토큰화 적용\n",
    "tf = TfidfVectorizer(tokenizer= LemNormalize, stop_words='english',\n",
    "                     ngram_range= (1,2), min_df=0.5, max_df=0.85)\n",
    "\n",
    "ftr_vect = tf.fit_transform(doc_df['opinion_text'])"
   ]
  },
  {
   "cell_type": "code",
   "execution_count": 16,
   "metadata": {},
   "outputs": [
    {
     "data": {
      "text/plain": [
       "(51, 130)"
      ]
     },
     "execution_count": 16,
     "metadata": {},
     "output_type": "execute_result"
    }
   ],
   "source": [
    "ftr_vect.shape"
   ]
  },
  {
   "cell_type": "code",
   "execution_count": 17,
   "metadata": {},
   "outputs": [
    {
     "data": {
      "text/plain": [
       "array([[0.29125784, 0.        , 0.        , ..., 0.06483071, 0.        ,\n",
       "        0.05825157],\n",
       "       [0.        , 0.        , 0.        , ..., 0.        , 0.05658632,\n",
       "        0.        ],\n",
       "       [0.        , 0.        , 0.        , ..., 0.31138932, 0.        ,\n",
       "        0.13989448],\n",
       "       ...,\n",
       "       [0.        , 0.        , 0.        , ..., 0.        , 0.        ,\n",
       "        0.17480704],\n",
       "       [0.01585217, 0.01803886, 0.01803886, ..., 0.        , 0.08266723,\n",
       "        0.07926083],\n",
       "       [0.0388652 , 0.        , 0.        , ..., 0.        , 0.        ,\n",
       "        0.0777304 ]])"
      ]
     },
     "execution_count": 17,
     "metadata": {},
     "output_type": "execute_result"
    }
   ],
   "source": [
    "ftr_vect.toarray()"
   ]
  },
  {
   "cell_type": "markdown",
   "metadata": {},
   "source": [
    "### 군집화\n",
    "- 군집화 기법 : K-Means 적용"
   ]
  },
  {
   "cell_type": "code",
   "execution_count": 18,
   "metadata": {},
   "outputs": [],
   "source": [
    "from sklearn.cluster import KMeans\n",
    "\n",
    "kmeans = KMeans(n_clusters= 5, max_iter=10000, random_state=0)\n",
    "kmeans.fit(ftr_vect)\n",
    "cluster_labels= kmeans.labels_\n",
    "cluster_centers = kmeans.cluster_centers_"
   ]
  },
  {
   "cell_type": "code",
   "execution_count": 21,
   "metadata": {},
   "outputs": [
    {
     "data": {
      "text/html": [
       "<div>\n",
       "<style scoped>\n",
       "    .dataframe tbody tr th:only-of-type {\n",
       "        vertical-align: middle;\n",
       "    }\n",
       "\n",
       "    .dataframe tbody tr th {\n",
       "        vertical-align: top;\n",
       "    }\n",
       "\n",
       "    .dataframe thead th {\n",
       "        text-align: right;\n",
       "    }\n",
       "</style>\n",
       "<table border=\"1\" class=\"dataframe\">\n",
       "  <thead>\n",
       "    <tr style=\"text-align: right;\">\n",
       "      <th></th>\n",
       "      <th>filename</th>\n",
       "      <th>opinion_text</th>\n",
       "      <th>cluster_label</th>\n",
       "    </tr>\n",
       "  </thead>\n",
       "  <tbody>\n",
       "    <tr>\n",
       "      <th>0</th>\n",
       "      <td>accuracy_garmin_nuvi_255W_gps</td>\n",
       "      <td>...</td>\n",
       "      <td>3</td>\n",
       "    </tr>\n",
       "    <tr>\n",
       "      <th>1</th>\n",
       "      <td>bathroom_bestwestern_hotel_sfo</td>\n",
       "      <td>...</td>\n",
       "      <td>2</td>\n",
       "    </tr>\n",
       "    <tr>\n",
       "      <th>2</th>\n",
       "      <td>battery-life_amazon_kindle</td>\n",
       "      <td>...</td>\n",
       "      <td>1</td>\n",
       "    </tr>\n",
       "    <tr>\n",
       "      <th>3</th>\n",
       "      <td>battery-life_ipod_nano_8gb</td>\n",
       "      <td>...</td>\n",
       "      <td>1</td>\n",
       "    </tr>\n",
       "    <tr>\n",
       "      <th>4</th>\n",
       "      <td>battery-life_netbook_1005ha</td>\n",
       "      <td>...</td>\n",
       "      <td>1</td>\n",
       "    </tr>\n",
       "  </tbody>\n",
       "</table>\n",
       "</div>"
      ],
      "text/plain": [
       "                         filename  \\\n",
       "0   accuracy_garmin_nuvi_255W_gps   \n",
       "1  bathroom_bestwestern_hotel_sfo   \n",
       "2      battery-life_amazon_kindle   \n",
       "3      battery-life_ipod_nano_8gb   \n",
       "4     battery-life_netbook_1005ha   \n",
       "\n",
       "                                        opinion_text  cluster_label  \n",
       "0                                                ...              3  \n",
       "1                                                ...              2  \n",
       "2                                                ...              1  \n",
       "3                                                ...              1  \n",
       "4                                                ...              1  "
      ]
     },
     "execution_count": 21,
     "metadata": {},
     "output_type": "execute_result"
    }
   ],
   "source": [
    "doc_df['cluster_label'] = cluster_labels\n",
    "doc_df.head()"
   ]
  },
  {
   "cell_type": "markdown",
   "metadata": {},
   "source": [
    "#### 군집화 결과 확인"
   ]
  },
  {
   "cell_type": "markdown",
   "metadata": {},
   "source": [
    "- 'cluster_label'=0인 문서들"
   ]
  },
  {
   "cell_type": "code",
   "execution_count": 22,
   "metadata": {},
   "outputs": [
    {
     "data": {
      "text/html": [
       "<div>\n",
       "<style scoped>\n",
       "    .dataframe tbody tr th:only-of-type {\n",
       "        vertical-align: middle;\n",
       "    }\n",
       "\n",
       "    .dataframe tbody tr th {\n",
       "        vertical-align: top;\n",
       "    }\n",
       "\n",
       "    .dataframe thead th {\n",
       "        text-align: right;\n",
       "    }\n",
       "</style>\n",
       "<table border=\"1\" class=\"dataframe\">\n",
       "  <thead>\n",
       "    <tr style=\"text-align: right;\">\n",
       "      <th></th>\n",
       "      <th>filename</th>\n",
       "      <th>opinion_text</th>\n",
       "      <th>cluster_label</th>\n",
       "    </tr>\n",
       "  </thead>\n",
       "  <tbody>\n",
       "    <tr>\n",
       "      <th>6</th>\n",
       "      <td>comfort_honda_accord_2008</td>\n",
       "      <td>...</td>\n",
       "      <td>0</td>\n",
       "    </tr>\n",
       "    <tr>\n",
       "      <th>7</th>\n",
       "      <td>comfort_toyota_camry_2007</td>\n",
       "      <td>...</td>\n",
       "      <td>0</td>\n",
       "    </tr>\n",
       "    <tr>\n",
       "      <th>16</th>\n",
       "      <td>gas_mileage_toyota_camry_2007</td>\n",
       "      <td>...</td>\n",
       "      <td>0</td>\n",
       "    </tr>\n",
       "    <tr>\n",
       "      <th>17</th>\n",
       "      <td>interior_honda_accord_2008</td>\n",
       "      <td>...</td>\n",
       "      <td>0</td>\n",
       "    </tr>\n",
       "    <tr>\n",
       "      <th>18</th>\n",
       "      <td>interior_toyota_camry_2007</td>\n",
       "      <td>...</td>\n",
       "      <td>0</td>\n",
       "    </tr>\n",
       "    <tr>\n",
       "      <th>22</th>\n",
       "      <td>mileage_honda_accord_2008</td>\n",
       "      <td>...</td>\n",
       "      <td>0</td>\n",
       "    </tr>\n",
       "    <tr>\n",
       "      <th>24</th>\n",
       "      <td>parking_bestwestern_hotel_sfo</td>\n",
       "      <td>...</td>\n",
       "      <td>0</td>\n",
       "    </tr>\n",
       "    <tr>\n",
       "      <th>25</th>\n",
       "      <td>performance_honda_accord_2008</td>\n",
       "      <td>...</td>\n",
       "      <td>0</td>\n",
       "    </tr>\n",
       "    <tr>\n",
       "      <th>29</th>\n",
       "      <td>quality_toyota_camry_2007</td>\n",
       "      <td>...</td>\n",
       "      <td>0</td>\n",
       "    </tr>\n",
       "    <tr>\n",
       "      <th>37</th>\n",
       "      <td>seats_honda_accord_2008</td>\n",
       "      <td>...</td>\n",
       "      <td>0</td>\n",
       "    </tr>\n",
       "    <tr>\n",
       "      <th>47</th>\n",
       "      <td>transmission_toyota_camry_2007</td>\n",
       "      <td>...</td>\n",
       "      <td>0</td>\n",
       "    </tr>\n",
       "  </tbody>\n",
       "</table>\n",
       "</div>"
      ],
      "text/plain": [
       "                          filename  \\\n",
       "6        comfort_honda_accord_2008   \n",
       "7        comfort_toyota_camry_2007   \n",
       "16   gas_mileage_toyota_camry_2007   \n",
       "17      interior_honda_accord_2008   \n",
       "18      interior_toyota_camry_2007   \n",
       "22       mileage_honda_accord_2008   \n",
       "24   parking_bestwestern_hotel_sfo   \n",
       "25   performance_honda_accord_2008   \n",
       "29       quality_toyota_camry_2007   \n",
       "37         seats_honda_accord_2008   \n",
       "47  transmission_toyota_camry_2007   \n",
       "\n",
       "                                         opinion_text  cluster_label  \n",
       "6                                                 ...              0  \n",
       "7                                                 ...              0  \n",
       "16                                                ...              0  \n",
       "17                                                ...              0  \n",
       "18                                                ...              0  \n",
       "22                                                ...              0  \n",
       "24                                                ...              0  \n",
       "25                                                ...              0  \n",
       "29                                                ...              0  \n",
       "37                                                ...              0  \n",
       "47                                                ...              0  "
      ]
     },
     "execution_count": 22,
     "metadata": {},
     "output_type": "execute_result"
    }
   ],
   "source": [
    "doc_df[doc_df.cluster_label == 0].sort_values('filename')"
   ]
  },
  {
   "cell_type": "markdown",
   "metadata": {},
   "source": [
    "- 'cluster_label'=1인 문서들"
   ]
  },
  {
   "cell_type": "code",
   "execution_count": 23,
   "metadata": {},
   "outputs": [
    {
     "data": {
      "text/html": [
       "<div>\n",
       "<style scoped>\n",
       "    .dataframe tbody tr th:only-of-type {\n",
       "        vertical-align: middle;\n",
       "    }\n",
       "\n",
       "    .dataframe tbody tr th {\n",
       "        vertical-align: top;\n",
       "    }\n",
       "\n",
       "    .dataframe thead th {\n",
       "        text-align: right;\n",
       "    }\n",
       "</style>\n",
       "<table border=\"1\" class=\"dataframe\">\n",
       "  <thead>\n",
       "    <tr style=\"text-align: right;\">\n",
       "      <th></th>\n",
       "      <th>filename</th>\n",
       "      <th>opinion_text</th>\n",
       "      <th>cluster_label</th>\n",
       "    </tr>\n",
       "  </thead>\n",
       "  <tbody>\n",
       "    <tr>\n",
       "      <th>2</th>\n",
       "      <td>battery-life_amazon_kindle</td>\n",
       "      <td>...</td>\n",
       "      <td>1</td>\n",
       "    </tr>\n",
       "    <tr>\n",
       "      <th>3</th>\n",
       "      <td>battery-life_ipod_nano_8gb</td>\n",
       "      <td>...</td>\n",
       "      <td>1</td>\n",
       "    </tr>\n",
       "    <tr>\n",
       "      <th>4</th>\n",
       "      <td>battery-life_netbook_1005ha</td>\n",
       "      <td>...</td>\n",
       "      <td>1</td>\n",
       "    </tr>\n",
       "    <tr>\n",
       "      <th>5</th>\n",
       "      <td>buttons_amazon_kindle</td>\n",
       "      <td>...</td>\n",
       "      <td>1</td>\n",
       "    </tr>\n",
       "    <tr>\n",
       "      <th>10</th>\n",
       "      <td>eyesight-issues_amazon_kindle</td>\n",
       "      <td>...</td>\n",
       "      <td>1</td>\n",
       "    </tr>\n",
       "    <tr>\n",
       "      <th>11</th>\n",
       "      <td>features_windows7</td>\n",
       "      <td>...</td>\n",
       "      <td>1</td>\n",
       "    </tr>\n",
       "    <tr>\n",
       "      <th>12</th>\n",
       "      <td>fonts_amazon_kindle</td>\n",
       "      <td>...</td>\n",
       "      <td>1</td>\n",
       "    </tr>\n",
       "    <tr>\n",
       "      <th>19</th>\n",
       "      <td>keyboard_netbook_1005ha</td>\n",
       "      <td>...</td>\n",
       "      <td>1</td>\n",
       "    </tr>\n",
       "    <tr>\n",
       "      <th>23</th>\n",
       "      <td>navigation_amazon_kindle</td>\n",
       "      <td>...</td>\n",
       "      <td>1</td>\n",
       "    </tr>\n",
       "    <tr>\n",
       "      <th>26</th>\n",
       "      <td>performance_netbook_1005ha</td>\n",
       "      <td>...</td>\n",
       "      <td>1</td>\n",
       "    </tr>\n",
       "    <tr>\n",
       "      <th>27</th>\n",
       "      <td>price_amazon_kindle</td>\n",
       "      <td>...</td>\n",
       "      <td>1</td>\n",
       "    </tr>\n",
       "    <tr>\n",
       "      <th>35</th>\n",
       "      <td>screen_ipod_nano_8gb</td>\n",
       "      <td>...</td>\n",
       "      <td>1</td>\n",
       "    </tr>\n",
       "    <tr>\n",
       "      <th>36</th>\n",
       "      <td>screen_netbook_1005ha</td>\n",
       "      <td>...</td>\n",
       "      <td>1</td>\n",
       "    </tr>\n",
       "    <tr>\n",
       "      <th>41</th>\n",
       "      <td>size_asus_netbook_1005ha</td>\n",
       "      <td>...</td>\n",
       "      <td>1</td>\n",
       "    </tr>\n",
       "    <tr>\n",
       "      <th>42</th>\n",
       "      <td>sound_ipod_nano_8gb</td>\n",
       "      <td>headphone jack i got a clear case for it a...</td>\n",
       "      <td>1</td>\n",
       "    </tr>\n",
       "    <tr>\n",
       "      <th>44</th>\n",
       "      <td>speed_windows7</td>\n",
       "      <td>...</td>\n",
       "      <td>1</td>\n",
       "    </tr>\n",
       "    <tr>\n",
       "      <th>49</th>\n",
       "      <td>video_ipod_nano_8gb</td>\n",
       "      <td>...</td>\n",
       "      <td>1</td>\n",
       "    </tr>\n",
       "  </tbody>\n",
       "</table>\n",
       "</div>"
      ],
      "text/plain": [
       "                         filename  \\\n",
       "2      battery-life_amazon_kindle   \n",
       "3      battery-life_ipod_nano_8gb   \n",
       "4     battery-life_netbook_1005ha   \n",
       "5           buttons_amazon_kindle   \n",
       "10  eyesight-issues_amazon_kindle   \n",
       "11              features_windows7   \n",
       "12            fonts_amazon_kindle   \n",
       "19        keyboard_netbook_1005ha   \n",
       "23       navigation_amazon_kindle   \n",
       "26     performance_netbook_1005ha   \n",
       "27            price_amazon_kindle   \n",
       "35           screen_ipod_nano_8gb   \n",
       "36          screen_netbook_1005ha   \n",
       "41       size_asus_netbook_1005ha   \n",
       "42            sound_ipod_nano_8gb   \n",
       "44                 speed_windows7   \n",
       "49            video_ipod_nano_8gb   \n",
       "\n",
       "                                         opinion_text  cluster_label  \n",
       "2                                                 ...              1  \n",
       "3                                                 ...              1  \n",
       "4                                                 ...              1  \n",
       "5                                                 ...              1  \n",
       "10                                                ...              1  \n",
       "11                                                ...              1  \n",
       "12                                                ...              1  \n",
       "19                                                ...              1  \n",
       "23                                                ...              1  \n",
       "26                                                ...              1  \n",
       "27                                                ...              1  \n",
       "35                                                ...              1  \n",
       "36                                                ...              1  \n",
       "41                                                ...              1  \n",
       "42      headphone jack i got a clear case for it a...              1  \n",
       "44                                                ...              1  \n",
       "49                                                ...              1  "
      ]
     },
     "execution_count": 23,
     "metadata": {},
     "output_type": "execute_result"
    }
   ],
   "source": [
    "doc_df[doc_df.cluster_label == 1].sort_values('filename')"
   ]
  },
  {
   "cell_type": "markdown",
   "metadata": {},
   "source": [
    "- 'cluster_label'=2인 문서들"
   ]
  },
  {
   "cell_type": "code",
   "execution_count": 24,
   "metadata": {},
   "outputs": [
    {
     "data": {
      "text/html": [
       "<div>\n",
       "<style scoped>\n",
       "    .dataframe tbody tr th:only-of-type {\n",
       "        vertical-align: middle;\n",
       "    }\n",
       "\n",
       "    .dataframe tbody tr th {\n",
       "        vertical-align: top;\n",
       "    }\n",
       "\n",
       "    .dataframe thead th {\n",
       "        text-align: right;\n",
       "    }\n",
       "</style>\n",
       "<table border=\"1\" class=\"dataframe\">\n",
       "  <thead>\n",
       "    <tr style=\"text-align: right;\">\n",
       "      <th></th>\n",
       "      <th>filename</th>\n",
       "      <th>opinion_text</th>\n",
       "      <th>cluster_label</th>\n",
       "    </tr>\n",
       "  </thead>\n",
       "  <tbody>\n",
       "    <tr>\n",
       "      <th>1</th>\n",
       "      <td>bathroom_bestwestern_hotel_sfo</td>\n",
       "      <td>...</td>\n",
       "      <td>2</td>\n",
       "    </tr>\n",
       "    <tr>\n",
       "      <th>15</th>\n",
       "      <td>free_bestwestern_hotel_sfo</td>\n",
       "      <td>...</td>\n",
       "      <td>2</td>\n",
       "    </tr>\n",
       "    <tr>\n",
       "      <th>20</th>\n",
       "      <td>location_bestwestern_hotel_sfo</td>\n",
       "      <td>...</td>\n",
       "      <td>2</td>\n",
       "    </tr>\n",
       "    <tr>\n",
       "      <th>21</th>\n",
       "      <td>location_holiday_inn_london</td>\n",
       "      <td>...</td>\n",
       "      <td>2</td>\n",
       "    </tr>\n",
       "    <tr>\n",
       "      <th>28</th>\n",
       "      <td>price_holiday_inn_london</td>\n",
       "      <td>...</td>\n",
       "      <td>2</td>\n",
       "    </tr>\n",
       "    <tr>\n",
       "      <th>32</th>\n",
       "      <td>room_holiday_inn_london</td>\n",
       "      <td>...</td>\n",
       "      <td>2</td>\n",
       "    </tr>\n",
       "    <tr>\n",
       "      <th>30</th>\n",
       "      <td>rooms_bestwestern_hotel_sfo</td>\n",
       "      <td>...</td>\n",
       "      <td>2</td>\n",
       "    </tr>\n",
       "    <tr>\n",
       "      <th>31</th>\n",
       "      <td>rooms_swissotel_chicago</td>\n",
       "      <td>...</td>\n",
       "      <td>2</td>\n",
       "    </tr>\n",
       "    <tr>\n",
       "      <th>45</th>\n",
       "      <td>staff_bestwestern_hotel_sfo</td>\n",
       "      <td>...</td>\n",
       "      <td>2</td>\n",
       "    </tr>\n",
       "    <tr>\n",
       "      <th>46</th>\n",
       "      <td>staff_swissotel_chicago</td>\n",
       "      <td>...</td>\n",
       "      <td>2</td>\n",
       "    </tr>\n",
       "  </tbody>\n",
       "</table>\n",
       "</div>"
      ],
      "text/plain": [
       "                          filename  \\\n",
       "1   bathroom_bestwestern_hotel_sfo   \n",
       "15      free_bestwestern_hotel_sfo   \n",
       "20  location_bestwestern_hotel_sfo   \n",
       "21     location_holiday_inn_london   \n",
       "28        price_holiday_inn_london   \n",
       "32         room_holiday_inn_london   \n",
       "30     rooms_bestwestern_hotel_sfo   \n",
       "31         rooms_swissotel_chicago   \n",
       "45     staff_bestwestern_hotel_sfo   \n",
       "46         staff_swissotel_chicago   \n",
       "\n",
       "                                         opinion_text  cluster_label  \n",
       "1                                                 ...              2  \n",
       "15                                                ...              2  \n",
       "20                                                ...              2  \n",
       "21                                                ...              2  \n",
       "28                                                ...              2  \n",
       "32                                                ...              2  \n",
       "30                                                ...              2  \n",
       "31                                                ...              2  \n",
       "45                                                ...              2  \n",
       "46                                                ...              2  "
      ]
     },
     "execution_count": 24,
     "metadata": {},
     "output_type": "execute_result"
    }
   ],
   "source": [
    "doc_df[doc_df.cluster_label == 2].sort_values('filename')"
   ]
  },
  {
   "cell_type": "markdown",
   "metadata": {},
   "source": [
    "- 'cluster_label'=3인 문서들"
   ]
  },
  {
   "cell_type": "code",
   "execution_count": 25,
   "metadata": {},
   "outputs": [
    {
     "data": {
      "text/html": [
       "<div>\n",
       "<style scoped>\n",
       "    .dataframe tbody tr th:only-of-type {\n",
       "        vertical-align: middle;\n",
       "    }\n",
       "\n",
       "    .dataframe tbody tr th {\n",
       "        vertical-align: top;\n",
       "    }\n",
       "\n",
       "    .dataframe thead th {\n",
       "        text-align: right;\n",
       "    }\n",
       "</style>\n",
       "<table border=\"1\" class=\"dataframe\">\n",
       "  <thead>\n",
       "    <tr style=\"text-align: right;\">\n",
       "      <th></th>\n",
       "      <th>filename</th>\n",
       "      <th>opinion_text</th>\n",
       "      <th>cluster_label</th>\n",
       "    </tr>\n",
       "  </thead>\n",
       "  <tbody>\n",
       "    <tr>\n",
       "      <th>0</th>\n",
       "      <td>accuracy_garmin_nuvi_255W_gps</td>\n",
       "      <td>...</td>\n",
       "      <td>3</td>\n",
       "    </tr>\n",
       "    <tr>\n",
       "      <th>8</th>\n",
       "      <td>directions_garmin_nuvi_255W_gps</td>\n",
       "      <td>...</td>\n",
       "      <td>3</td>\n",
       "    </tr>\n",
       "    <tr>\n",
       "      <th>9</th>\n",
       "      <td>display_garmin_nuvi_255W_gps</td>\n",
       "      <td>...</td>\n",
       "      <td>3</td>\n",
       "    </tr>\n",
       "    <tr>\n",
       "      <th>33</th>\n",
       "      <td>satellite_garmin_nuvi_255W_gps</td>\n",
       "      <td>...</td>\n",
       "      <td>3</td>\n",
       "    </tr>\n",
       "    <tr>\n",
       "      <th>34</th>\n",
       "      <td>screen_garmin_nuvi_255W_gps</td>\n",
       "      <td>...</td>\n",
       "      <td>3</td>\n",
       "    </tr>\n",
       "    <tr>\n",
       "      <th>43</th>\n",
       "      <td>speed_garmin_nuvi_255W_gps</td>\n",
       "      <td>...</td>\n",
       "      <td>3</td>\n",
       "    </tr>\n",
       "    <tr>\n",
       "      <th>48</th>\n",
       "      <td>updates_garmin_nuvi_255W_gps</td>\n",
       "      <td>...</td>\n",
       "      <td>3</td>\n",
       "    </tr>\n",
       "    <tr>\n",
       "      <th>50</th>\n",
       "      <td>voice_garmin_nuvi_255W_gps</td>\n",
       "      <td>...</td>\n",
       "      <td>3</td>\n",
       "    </tr>\n",
       "  </tbody>\n",
       "</table>\n",
       "</div>"
      ],
      "text/plain": [
       "                           filename  \\\n",
       "0     accuracy_garmin_nuvi_255W_gps   \n",
       "8   directions_garmin_nuvi_255W_gps   \n",
       "9      display_garmin_nuvi_255W_gps   \n",
       "33   satellite_garmin_nuvi_255W_gps   \n",
       "34      screen_garmin_nuvi_255W_gps   \n",
       "43       speed_garmin_nuvi_255W_gps   \n",
       "48     updates_garmin_nuvi_255W_gps   \n",
       "50       voice_garmin_nuvi_255W_gps   \n",
       "\n",
       "                                         opinion_text  cluster_label  \n",
       "0                                                 ...              3  \n",
       "8                                                 ...              3  \n",
       "9                                                 ...              3  \n",
       "33                                                ...              3  \n",
       "34                                                ...              3  \n",
       "43                                                ...              3  \n",
       "48                                                ...              3  \n",
       "50                                                ...              3  "
      ]
     },
     "execution_count": 25,
     "metadata": {},
     "output_type": "execute_result"
    }
   ],
   "source": [
    "doc_df[doc_df.cluster_label == 3].sort_values('filename')"
   ]
  },
  {
   "cell_type": "markdown",
   "metadata": {},
   "source": [
    "- 'cluster_label'=4인 문서들"
   ]
  },
  {
   "cell_type": "code",
   "execution_count": 27,
   "metadata": {},
   "outputs": [
    {
     "data": {
      "text/html": [
       "<div>\n",
       "<style scoped>\n",
       "    .dataframe tbody tr th:only-of-type {\n",
       "        vertical-align: middle;\n",
       "    }\n",
       "\n",
       "    .dataframe tbody tr th {\n",
       "        vertical-align: top;\n",
       "    }\n",
       "\n",
       "    .dataframe thead th {\n",
       "        text-align: right;\n",
       "    }\n",
       "</style>\n",
       "<table border=\"1\" class=\"dataframe\">\n",
       "  <thead>\n",
       "    <tr style=\"text-align: right;\">\n",
       "      <th></th>\n",
       "      <th>filename</th>\n",
       "      <th>opinion_text</th>\n",
       "      <th>cluster_label</th>\n",
       "    </tr>\n",
       "  </thead>\n",
       "  <tbody>\n",
       "    <tr>\n",
       "      <th>13</th>\n",
       "      <td>food_holiday_inn_london</td>\n",
       "      <td>...</td>\n",
       "      <td>4</td>\n",
       "    </tr>\n",
       "    <tr>\n",
       "      <th>14</th>\n",
       "      <td>food_swissotel_chicago</td>\n",
       "      <td>...</td>\n",
       "      <td>4</td>\n",
       "    </tr>\n",
       "    <tr>\n",
       "      <th>38</th>\n",
       "      <td>service_bestwestern_hotel_sfo</td>\n",
       "      <td>...</td>\n",
       "      <td>4</td>\n",
       "    </tr>\n",
       "    <tr>\n",
       "      <th>39</th>\n",
       "      <td>service_holiday_inn_london</td>\n",
       "      <td>...</td>\n",
       "      <td>4</td>\n",
       "    </tr>\n",
       "    <tr>\n",
       "      <th>40</th>\n",
       "      <td>service_swissotel_hotel_chicago</td>\n",
       "      <td>...</td>\n",
       "      <td>4</td>\n",
       "    </tr>\n",
       "  </tbody>\n",
       "</table>\n",
       "</div>"
      ],
      "text/plain": [
       "                           filename  \\\n",
       "13          food_holiday_inn_london   \n",
       "14           food_swissotel_chicago   \n",
       "38    service_bestwestern_hotel_sfo   \n",
       "39       service_holiday_inn_london   \n",
       "40  service_swissotel_hotel_chicago   \n",
       "\n",
       "                                         opinion_text  cluster_label  \n",
       "13                                                ...              4  \n",
       "14                                                ...              4  \n",
       "38                                                ...              4  \n",
       "39                                                ...              4  \n",
       "40                                                ...              4  "
      ]
     },
     "execution_count": 27,
     "metadata": {},
     "output_type": "execute_result"
    }
   ],
   "source": [
    "doc_df[doc_df.cluster_label == 4].sort_values('filename')"
   ]
  },
  {
   "cell_type": "markdown",
   "metadata": {},
   "source": [
    "#### 3개 집합으로 군집화"
   ]
  },
  {
   "cell_type": "code",
   "execution_count": 29,
   "metadata": {},
   "outputs": [
    {
     "data": {
      "text/html": [
       "<div>\n",
       "<style scoped>\n",
       "    .dataframe tbody tr th:only-of-type {\n",
       "        vertical-align: middle;\n",
       "    }\n",
       "\n",
       "    .dataframe tbody tr th {\n",
       "        vertical-align: top;\n",
       "    }\n",
       "\n",
       "    .dataframe thead th {\n",
       "        text-align: right;\n",
       "    }\n",
       "</style>\n",
       "<table border=\"1\" class=\"dataframe\">\n",
       "  <thead>\n",
       "    <tr style=\"text-align: right;\">\n",
       "      <th></th>\n",
       "      <th>filename</th>\n",
       "      <th>opinion_text</th>\n",
       "      <th>cluster_label</th>\n",
       "      <th>cluster_label2</th>\n",
       "    </tr>\n",
       "  </thead>\n",
       "  <tbody>\n",
       "    <tr>\n",
       "      <th>0</th>\n",
       "      <td>accuracy_garmin_nuvi_255W_gps</td>\n",
       "      <td>...</td>\n",
       "      <td>3</td>\n",
       "      <td>1</td>\n",
       "    </tr>\n",
       "    <tr>\n",
       "      <th>1</th>\n",
       "      <td>bathroom_bestwestern_hotel_sfo</td>\n",
       "      <td>...</td>\n",
       "      <td>2</td>\n",
       "      <td>2</td>\n",
       "    </tr>\n",
       "    <tr>\n",
       "      <th>2</th>\n",
       "      <td>battery-life_amazon_kindle</td>\n",
       "      <td>...</td>\n",
       "      <td>1</td>\n",
       "      <td>1</td>\n",
       "    </tr>\n",
       "    <tr>\n",
       "      <th>3</th>\n",
       "      <td>battery-life_ipod_nano_8gb</td>\n",
       "      <td>...</td>\n",
       "      <td>1</td>\n",
       "      <td>1</td>\n",
       "    </tr>\n",
       "    <tr>\n",
       "      <th>4</th>\n",
       "      <td>battery-life_netbook_1005ha</td>\n",
       "      <td>...</td>\n",
       "      <td>1</td>\n",
       "      <td>1</td>\n",
       "    </tr>\n",
       "  </tbody>\n",
       "</table>\n",
       "</div>"
      ],
      "text/plain": [
       "                         filename  \\\n",
       "0   accuracy_garmin_nuvi_255W_gps   \n",
       "1  bathroom_bestwestern_hotel_sfo   \n",
       "2      battery-life_amazon_kindle   \n",
       "3      battery-life_ipod_nano_8gb   \n",
       "4     battery-life_netbook_1005ha   \n",
       "\n",
       "                                        opinion_text  cluster_label  \\\n",
       "0                                                ...              3   \n",
       "1                                                ...              2   \n",
       "2                                                ...              1   \n",
       "3                                                ...              1   \n",
       "4                                                ...              1   \n",
       "\n",
       "   cluster_label2  \n",
       "0               1  \n",
       "1               2  \n",
       "2               1  \n",
       "3               1  \n",
       "4               1  "
      ]
     },
     "execution_count": 29,
     "metadata": {},
     "output_type": "execute_result"
    }
   ],
   "source": [
    "kmeans = KMeans(n_clusters= 3, max_iter=10000, random_state=0)\n",
    "kmeans.fit(ftr_vect)\n",
    "cluster_labels= kmeans.labels_\n",
    "cluster_centers = kmeans.cluster_centers_\n",
    "doc_df['cluster_label2'] = cluster_labels\n",
    "doc_df.head()"
   ]
  },
  {
   "cell_type": "code",
   "execution_count": 35,
   "metadata": {},
   "outputs": [
    {
     "name": "stdout",
     "output_type": "stream",
     "text": [
      "cluster 0:\n",
      "['comfort_honda_accord_2008' 'comfort_toyota_camry_2007'\n",
      " 'gas_mileage_toyota_camry_2007' 'interior_honda_accord_2008'\n",
      " 'interior_toyota_camry_2007' 'mileage_honda_accord_2008'\n",
      " 'performance_honda_accord_2008' 'quality_toyota_camry_2007'\n",
      " 'seats_honda_accord_2008' 'sound_ipod_nano_8gb'\n",
      " 'transmission_toyota_camry_2007']\n",
      "\n",
      "cluster 1:\n",
      "['accuracy_garmin_nuvi_255W_gps' 'battery-life_amazon_kindle'\n",
      " 'battery-life_ipod_nano_8gb' 'battery-life_netbook_1005ha'\n",
      " 'buttons_amazon_kindle' 'directions_garmin_nuvi_255W_gps'\n",
      " 'display_garmin_nuvi_255W_gps' 'eyesight-issues_amazon_kindle'\n",
      " 'features_windows7' 'fonts_amazon_kindle' 'keyboard_netbook_1005ha'\n",
      " 'navigation_amazon_kindle' 'performance_netbook_1005ha'\n",
      " 'satellite_garmin_nuvi_255W_gps' 'screen_garmin_nuvi_255W_gps'\n",
      " 'screen_ipod_nano_8gb' 'screen_netbook_1005ha' 'size_asus_netbook_1005ha'\n",
      " 'speed_garmin_nuvi_255W_gps' 'speed_windows7'\n",
      " 'updates_garmin_nuvi_255W_gps' 'video_ipod_nano_8gb'\n",
      " 'voice_garmin_nuvi_255W_gps']\n",
      "\n",
      "cluster 2:\n",
      "['bathroom_bestwestern_hotel_sfo' 'food_holiday_inn_london'\n",
      " 'food_swissotel_chicago' 'free_bestwestern_hotel_sfo'\n",
      " 'location_bestwestern_hotel_sfo' 'location_holiday_inn_london'\n",
      " 'parking_bestwestern_hotel_sfo' 'price_amazon_kindle'\n",
      " 'price_holiday_inn_london' 'room_holiday_inn_london'\n",
      " 'rooms_bestwestern_hotel_sfo' 'rooms_swissotel_chicago'\n",
      " 'service_bestwestern_hotel_sfo' 'service_holiday_inn_london'\n",
      " 'service_swissotel_hotel_chicago' 'staff_bestwestern_hotel_sfo'\n",
      " 'staff_swissotel_chicago']\n",
      "\n"
     ]
    }
   ],
   "source": [
    "for i in range(3):\n",
    "    filenames = doc_df[doc_df.cluster_label2 == i].sort_values('filename')['filename']\n",
    "    print(f'cluster {i}:\\n{filenames.values}\\n')"
   ]
  },
  {
   "cell_type": "markdown",
   "metadata": {},
   "source": [
    "### 군집(Cluster)별 핵심 단어 추출하기\n",
    "- 군집에 속한 문서는 핵심 단어를 주측으로 군집화되어 있음\n",
    "- 각 군집을 구성하는 핵심 단어를 추출\n",
    "- KMeans 객체는 각 군집을 구성하는 단어 피처가 군집의 중심(centroid)을 기준으로 얼마나 가깝게 위치해 있는지 cluster_centers_ 속성으로 제공"
   ]
  },
  {
   "cell_type": "markdown",
   "metadata": {},
   "source": [
    "**cluster_centers_**\n",
    "- 배열 값으로 행은 개별 군집, 열은 개별 피처를 의미"
   ]
  },
  {
   "cell_type": "code",
   "execution_count": 36,
   "metadata": {},
   "outputs": [
    {
     "data": {
      "text/plain": [
       "(3, 130)"
      ]
     },
     "execution_count": 36,
     "metadata": {},
     "output_type": "execute_result"
    }
   ],
   "source": [
    "kmeans.cluster_centers_.shape"
   ]
  },
  {
   "cell_type": "markdown",
   "metadata": {},
   "source": [
    "#### 군집별 핵심 단어를 찾기 위한 함수 get_cluster_details() 정의\n",
    "\n",
    "- 함수 인수\n",
    "    - cluster_model : KMeans 군집화 객체\n",
    "    - cluster_data : 군집 데이터\n",
    "    - feature_names : 피처 이름\n",
    "    - clusters_num : 군집 수\n",
    "    - top_n_features"
   ]
  },
  {
   "cell_type": "code",
   "execution_count": 45,
   "metadata": {},
   "outputs": [],
   "source": [
    "def get_cluster_details(cluster_model, cluster_data, feature_names, cluster_num, top_n_feature):\n",
    "    details ={}\n",
    "    center_idx = cluster_model.cluster_centers_.argsort()[:,::-1]\n",
    "\n",
    "    for n in range(cluster_num):\n",
    "        details[n] = {}\n",
    "        details[n]['cluster'] = n\n",
    "        \n",
    "        top_idx = center_idx[n, :top_n_feature]\n",
    "        top_ftrs = [feature_names[i] for i in top_idx]\n",
    "        top_values = cluster_model.cluster_centers_[n, top_idx].tolist()\n",
    "\n",
    "        details[n]['top_ftrs'] = top_ftrs\n",
    "        details[n]['top_ftrs_values'] = top_values\n",
    "        filenames = cluster_data[cluster_data.cluster_label2 == n].filename\n",
    "        details[n]['filenames'] = filenames.values.tolist()\n",
    "    return details"
   ]
  },
  {
   "cell_type": "markdown",
   "metadata": {},
   "source": [
    "#### print_cluster_details(cluster_details) 함수 정의"
   ]
  },
  {
   "cell_type": "code",
   "execution_count": 46,
   "metadata": {},
   "outputs": [],
   "source": [
    "def print_cluster_details(cluster_details):\n",
    "    for n, detail in cluster_details.items():\n",
    "        print(f'-- cluster {n}')\n",
    "        print(f\"TOP features: {detail['top_ftrs']}\")\n",
    "        print(f\"Filenames: {detail['filenames']}\")\n",
    "        print('')"
   ]
  },
  {
   "cell_type": "markdown",
   "metadata": {},
   "source": [
    "- 군집별 핵심 단어 추출"
   ]
  },
  {
   "cell_type": "code",
   "execution_count": 47,
   "metadata": {},
   "outputs": [
    {
     "data": {
      "text/plain": [
       "{0: {'cluster': 0,\n",
       "  'top_ftrs': ['car',\n",
       "   'comfortable',\n",
       "   'quality',\n",
       "   'look',\n",
       "   'love',\n",
       "   'new',\n",
       "   'problem',\n",
       "   'feel',\n",
       "   'hard',\n",
       "   'excellent'],\n",
       "  'top_ftrs_values': [0.4191706463844818,\n",
       "   0.3174262011188621,\n",
       "   0.27826138137460127,\n",
       "   0.14045631161785385,\n",
       "   0.10741482330348945,\n",
       "   0.08947573945859684,\n",
       "   0.08914844645915125,\n",
       "   0.08466134518634005,\n",
       "   0.07048777826461795,\n",
       "   0.06845535233970032],\n",
       "  'filenames': ['comfort_honda_accord_2008',\n",
       "   'comfort_toyota_camry_2007',\n",
       "   'gas_mileage_toyota_camry_2007',\n",
       "   'interior_honda_accord_2008',\n",
       "   'interior_toyota_camry_2007',\n",
       "   'mileage_honda_accord_2008',\n",
       "   'performance_honda_accord_2008',\n",
       "   'quality_toyota_camry_2007',\n",
       "   'seats_honda_accord_2008',\n",
       "   'sound_ipod_nano_8gb',\n",
       "   'transmission_toyota_camry_2007']},\n",
       " 1: {'cluster': 1,\n",
       "  'top_ftrs': ['turn',\n",
       "   'easy',\n",
       "   'feature',\n",
       "   'size',\n",
       "   'use',\n",
       "   'fast',\n",
       "   'read',\n",
       "   'new',\n",
       "   'small',\n",
       "   'using'],\n",
       "  'top_ftrs_values': [0.21313991779008684,\n",
       "   0.21105265801436454,\n",
       "   0.19772516916784402,\n",
       "   0.18920801136213292,\n",
       "   0.18328313849480915,\n",
       "   0.11046827199616316,\n",
       "   0.10444803295898192,\n",
       "   0.10271289966607179,\n",
       "   0.09279945522805569,\n",
       "   0.09272643040970725],\n",
       "  'filenames': ['accuracy_garmin_nuvi_255W_gps',\n",
       "   'battery-life_amazon_kindle',\n",
       "   'battery-life_ipod_nano_8gb',\n",
       "   'battery-life_netbook_1005ha',\n",
       "   'buttons_amazon_kindle',\n",
       "   'directions_garmin_nuvi_255W_gps',\n",
       "   'display_garmin_nuvi_255W_gps',\n",
       "   'eyesight-issues_amazon_kindle',\n",
       "   'features_windows7',\n",
       "   'fonts_amazon_kindle',\n",
       "   'keyboard_netbook_1005ha',\n",
       "   'navigation_amazon_kindle',\n",
       "   'performance_netbook_1005ha',\n",
       "   'satellite_garmin_nuvi_255W_gps',\n",
       "   'screen_garmin_nuvi_255W_gps',\n",
       "   'screen_ipod_nano_8gb',\n",
       "   'screen_netbook_1005ha',\n",
       "   'size_asus_netbook_1005ha',\n",
       "   'speed_garmin_nuvi_255W_gps',\n",
       "   'speed_windows7',\n",
       "   'updates_garmin_nuvi_255W_gps',\n",
       "   'video_ipod_nano_8gb',\n",
       "   'voice_garmin_nuvi_255W_gps']},\n",
       " 2: {'cluster': 2,\n",
       "  'top_ftrs': ['room',\n",
       "   'service',\n",
       "   'price',\n",
       "   'night',\n",
       "   'u',\n",
       "   'excellent',\n",
       "   'day',\n",
       "   'area',\n",
       "   'car',\n",
       "   'place'],\n",
       "  'top_ftrs_values': [0.5394157610834714,\n",
       "   0.321291825216306,\n",
       "   0.17894890426737423,\n",
       "   0.10571717992234643,\n",
       "   0.0968152415038389,\n",
       "   0.07781856371720458,\n",
       "   0.07749688822898645,\n",
       "   0.06510473771523137,\n",
       "   0.06473807384475082,\n",
       "   0.06360626418968941],\n",
       "  'filenames': ['bathroom_bestwestern_hotel_sfo',\n",
       "   'food_holiday_inn_london',\n",
       "   'food_swissotel_chicago',\n",
       "   'free_bestwestern_hotel_sfo',\n",
       "   'location_bestwestern_hotel_sfo',\n",
       "   'location_holiday_inn_london',\n",
       "   'parking_bestwestern_hotel_sfo',\n",
       "   'price_amazon_kindle',\n",
       "   'price_holiday_inn_london',\n",
       "   'rooms_bestwestern_hotel_sfo',\n",
       "   'rooms_swissotel_chicago',\n",
       "   'room_holiday_inn_london',\n",
       "   'service_bestwestern_hotel_sfo',\n",
       "   'service_holiday_inn_london',\n",
       "   'service_swissotel_hotel_chicago',\n",
       "   'staff_bestwestern_hotel_sfo',\n",
       "   'staff_swissotel_chicago']}}"
      ]
     },
     "execution_count": 47,
     "metadata": {},
     "output_type": "execute_result"
    }
   ],
   "source": [
    "ftr_names = tf.get_feature_names_out()\n",
    "details = get_cluster_details(cluster_model= kmeans, \n",
    "                              cluster_data= doc_df, \n",
    "                              feature_names= ftr_names, cluster_num=3, top_n_feature=10)\n",
    "details"
   ]
  },
  {
   "cell_type": "code",
   "execution_count": 48,
   "metadata": {},
   "outputs": [
    {
     "name": "stdout",
     "output_type": "stream",
     "text": [
      "-- cluster 0\n",
      "TOP features: ['car', 'comfortable', 'quality', 'look', 'love', 'new', 'problem', 'feel', 'hard', 'excellent']\n",
      "Filenames: ['comfort_honda_accord_2008', 'comfort_toyota_camry_2007', 'gas_mileage_toyota_camry_2007', 'interior_honda_accord_2008', 'interior_toyota_camry_2007', 'mileage_honda_accord_2008', 'performance_honda_accord_2008', 'quality_toyota_camry_2007', 'seats_honda_accord_2008', 'sound_ipod_nano_8gb', 'transmission_toyota_camry_2007']\n",
      "\n",
      "-- cluster 1\n",
      "TOP features: ['turn', 'easy', 'feature', 'size', 'use', 'fast', 'read', 'new', 'small', 'using']\n",
      "Filenames: ['accuracy_garmin_nuvi_255W_gps', 'battery-life_amazon_kindle', 'battery-life_ipod_nano_8gb', 'battery-life_netbook_1005ha', 'buttons_amazon_kindle', 'directions_garmin_nuvi_255W_gps', 'display_garmin_nuvi_255W_gps', 'eyesight-issues_amazon_kindle', 'features_windows7', 'fonts_amazon_kindle', 'keyboard_netbook_1005ha', 'navigation_amazon_kindle', 'performance_netbook_1005ha', 'satellite_garmin_nuvi_255W_gps', 'screen_garmin_nuvi_255W_gps', 'screen_ipod_nano_8gb', 'screen_netbook_1005ha', 'size_asus_netbook_1005ha', 'speed_garmin_nuvi_255W_gps', 'speed_windows7', 'updates_garmin_nuvi_255W_gps', 'video_ipod_nano_8gb', 'voice_garmin_nuvi_255W_gps']\n",
      "\n",
      "-- cluster 2\n",
      "TOP features: ['room', 'service', 'price', 'night', 'u', 'excellent', 'day', 'area', 'car', 'place']\n",
      "Filenames: ['bathroom_bestwestern_hotel_sfo', 'food_holiday_inn_london', 'food_swissotel_chicago', 'free_bestwestern_hotel_sfo', 'location_bestwestern_hotel_sfo', 'location_holiday_inn_london', 'parking_bestwestern_hotel_sfo', 'price_amazon_kindle', 'price_holiday_inn_london', 'rooms_bestwestern_hotel_sfo', 'rooms_swissotel_chicago', 'room_holiday_inn_london', 'service_bestwestern_hotel_sfo', 'service_holiday_inn_london', 'service_swissotel_hotel_chicago', 'staff_bestwestern_hotel_sfo', 'staff_swissotel_chicago']\n",
      "\n"
     ]
    }
   ],
   "source": [
    "print_cluster_details(details)"
   ]
  },
  {
   "cell_type": "markdown",
   "metadata": {},
   "source": [
    "----"
   ]
  }
 ],
 "metadata": {
  "kernelspec": {
   "display_name": "Python 3 (ipykernel)",
   "language": "python",
   "name": "python3"
  },
  "language_info": {
   "codemirror_mode": {
    "name": "ipython",
    "version": 3
   },
   "file_extension": ".py",
   "mimetype": "text/x-python",
   "name": "python",
   "nbconvert_exporter": "python",
   "pygments_lexer": "ipython3",
   "version": "3.11.7"
  }
 },
 "nbformat": 4,
 "nbformat_minor": 4
}
