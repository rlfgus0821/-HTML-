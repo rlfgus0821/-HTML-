{
 "cells": [
  {
   "cell_type": "markdown",
   "id": "54a3557e-c33d-46db-8f1d-784c4d976d4d",
   "metadata": {},
   "source": [
    "## 연습문제. iris 데이터 품종 분류"
   ]
  },
  {
   "cell_type": "code",
   "execution_count": 3,
   "id": "6ed51b1a-59e9-49e6-9752-ca9d9b49a497",
   "metadata": {},
   "outputs": [],
   "source": [
    "import numpy as np\n",
    "from sklearn.datasets import load_iris\n",
    "from sklearn.model_selection import train_test_split\n",
    "from sklearn.tree import DecisionTreeClassifier\n",
    "from sklearn.model_selection import GridSearchCV\n",
    "from sklearn.neighbors import KNeighborsClassifier\n",
    "from sklearn.metrics import accuracy_score"
   ]
  },
  {
   "cell_type": "markdown",
   "id": "111e9da1-897e-4790-ab8d-eba2fa961304",
   "metadata": {},
   "source": [
    "1. KNN 알고리즘을 적용하여 분류하고 정확도를 제시하시오.\n",
    "\n",
    "- 학습용 데이터 70%, 테스트 데이터 30%로 주어 학습하고 평가\n",
    "- 학습용 데이터 75%, 테스트 데이터 25%로 주어 학습하고 평가"
   ]
  },
  {
   "cell_type": "code",
   "execution_count": 11,
   "id": "1cdf227c-7053-435c-93ea-2c6f78ca3860",
   "metadata": {},
   "outputs": [],
   "source": [
    "iris = load_iris()\n",
    "kn = KNeighborsClassifier()\n",
    "\n",
    "x = iris.data\n",
    "y = iris.target\n",
    "\n",
    "train_x, test_x, train_y, test_y = train_test_split(x, y,test_size=0.3)\n",
    "train_x75, test_x75, train_y75, test_y75 = train_test_split(x, y,test_size=0.25)"
   ]
  },
  {
   "cell_type": "code",
   "execution_count": 10,
   "id": "584bac4b-9beb-4118-8928-1f559803bf8f",
   "metadata": {},
   "outputs": [
    {
     "name": "stdout",
     "output_type": "stream",
     "text": [
      "train 70%의 정확도 : 1.0000\n"
     ]
    }
   ],
   "source": [
    "kn.fit(train_x, train_y)\n",
    "pred = kn.predict(test_x)\n",
    "print(f'train 70%의 정확도 : {kn.score(test_x, test_y):.4f}')"
   ]
  },
  {
   "cell_type": "code",
   "execution_count": null,
   "id": "3a5108d4-dfce-47f2-a7da-c2441073a7b6",
   "metadata": {},
   "outputs": [],
   "source": []
  },
  {
   "cell_type": "code",
   "execution_count": null,
   "id": "c3c3ff08-26bf-4876-981f-e865727ff458",
   "metadata": {},
   "outputs": [],
   "source": []
  },
  {
   "cell_type": "markdown",
   "id": "2a8af8a7-3811-4a14-8707-b4ea13617b2d",
   "metadata": {},
   "source": [
    "2. KNN 알고리즘을 적용하되, 교차검증을 수행하고 평균 정확도를 제시하시오.\n",
    "\n",
    "- 학습용 데이터 70%인 경우\n",
    "- cross_val_score() 함수 적용 : cv=5인 경우와 cv=3인 경우 비교"
   ]
  },
  {
   "cell_type": "code",
   "execution_count": null,
   "id": "bb66657a-905b-4145-bf93-76a39870bc4f",
   "metadata": {},
   "outputs": [],
   "source": []
  },
  {
   "cell_type": "markdown",
   "id": "3dad83d7-3cf5-442a-b503-86560147efd6",
   "metadata": {},
   "source": [
    "3. KNN 알고리즘을 적용하되, GridSearchCV를 이용하여 최적의 이웃개수를 찾아 제시하시오.\n",
    "- 학습용 데이터 75%인 경우 학습용 데이터를 이용하여 모델 튜닝 수행\n",
    "- 이웃의 수 = {5, 8, 10, 15, 20}"
   ]
  },
  {
   "cell_type": "code",
   "execution_count": null,
   "id": "496907f3-1edf-48b5-9078-daf178c5fbf0",
   "metadata": {},
   "outputs": [],
   "source": []
  },
  {
   "cell_type": "markdown",
   "id": "e0ce71ee-8456-4b8e-9ca4-fdec64b20bbe",
   "metadata": {},
   "source": [
    "4. 앞의 결과들을 DecisionTree 알고리즘을 사용한 분류 결과와 비교하시오."
   ]
  },
  {
   "cell_type": "code",
   "execution_count": null,
   "id": "c4526605-efe9-4a24-a847-89463032ef35",
   "metadata": {},
   "outputs": [],
   "source": []
  },
  {
   "cell_type": "markdown",
   "id": "5a1e80fc-5fce-432c-a539-025620f71371",
   "metadata": {},
   "source": [
    "---"
   ]
  }
 ],
 "metadata": {
  "kernelspec": {
   "display_name": "Python 3 (ipykernel)",
   "language": "python",
   "name": "python3"
  },
  "language_info": {
   "codemirror_mode": {
    "name": "ipython",
    "version": 3
   },
   "file_extension": ".py",
   "mimetype": "text/x-python",
   "name": "python",
   "nbconvert_exporter": "python",
   "pygments_lexer": "ipython3",
   "version": "3.11.7"
  }
 },
 "nbformat": 4,
 "nbformat_minor": 5
}
