{
 "cells": [
  {
   "cell_type": "markdown",
   "id": "54a3557e-c33d-46db-8f1d-784c4d976d4d",
   "metadata": {},
   "source": [
    "## 연습문제. iris 데이터 품종 분류"
   ]
  },
  {
   "cell_type": "code",
   "execution_count": 1,
   "id": "6ed51b1a-59e9-49e6-9752-ca9d9b49a497",
   "metadata": {},
   "outputs": [],
   "source": [
    "import numpy as np\n",
    "from sklearn.datasets import load_iris\n",
    "from sklearn.model_selection import train_test_split\n",
    "from sklearn.tree import DecisionTreeClassifier\n",
    "from sklearn.model_selection import GridSearchCV\n",
    "from sklearn.neighbors import KNeighborsClassifier\n",
    "from sklearn.metrics import accuracy_score"
   ]
  },
  {
   "cell_type": "markdown",
   "id": "111e9da1-897e-4790-ab8d-eba2fa961304",
   "metadata": {},
   "source": [
    "1. KNN 알고리즘을 적용하여 분류하고 정확도를 제시하시오.\n",
    "\n",
    "- 학습용 데이터 70%, 테스트 데이터 30%로 주어 학습하고 평가\n",
    "- 학습용 데이터 75%, 테스트 데이터 25%로 주어 학습하고 평가"
   ]
  },
  {
   "cell_type": "code",
   "execution_count": 16,
   "id": "60f6c6c6-e6f4-49d3-9f8c-96e09a06823e",
   "metadata": {},
   "outputs": [
    {
     "data": {
      "text/plain": [
       "150"
      ]
     },
     "execution_count": 16,
     "metadata": {},
     "output_type": "execute_result"
    }
   ],
   "source": [
    "iris = load_iris()\n",
    "kn = KNeighborsClassifier()\n",
    "len(iris.data)"
   ]
  },
  {
   "cell_type": "code",
   "execution_count": 23,
   "id": "9d0a4000-414c-4236-91bf-cfe291392103",
   "metadata": {},
   "outputs": [],
   "source": [
    "np.random.seed(0)\n",
    "idx = np.arange(150)\n",
    "np.random.shuffle(idx)\n",
    "\n",
    "x = iris.data\n",
    "y = iris.target"
   ]
  },
  {
   "cell_type": "code",
   "execution_count": 24,
   "id": "ad5a214a-7c54-4d1c-b930-58a4c86ac7cf",
   "metadata": {},
   "outputs": [],
   "source": [
    "# 30%\n",
    "train_x = x[idx[:105]]\n",
    "train_y = y[idx[:105]]\n",
    "test_x = x[idx[105:]]\n",
    "test_y = y[idx[105:]]\n",
    "\n",
    "# 25%\n",
    "train_x1 = x[idx[:112]]\n",
    "train_y1 = y[idx[:112]]\n",
    "test_x1 = x[idx[112:]]\n",
    "test_y1 = y[idx[112:]]"
   ]
  },
  {
   "cell_type": "code",
   "execution_count": 21,
   "id": "584bac4b-9beb-4118-8928-1f559803bf8f",
   "metadata": {},
   "outputs": [
    {
     "name": "stdout",
     "output_type": "stream",
     "text": [
      "train 70%의 정확도 : 0.9556\n"
     ]
    }
   ],
   "source": [
    "# 30%\n",
    "kn.fit(train_x, train_y)\n",
    "pred = kn.predict(test_x)\n",
    "print(f'train 70%의 정확도 : {kn.score(test_x, test_y):.4f}')"
   ]
  },
  {
   "cell_type": "code",
   "execution_count": 26,
   "id": "4e16389b-d011-4e94-a967-de628d2468da",
   "metadata": {},
   "outputs": [
    {
     "name": "stdout",
     "output_type": "stream",
     "text": [
      "train 75%의 정확도 : 0.9474\n"
     ]
    }
   ],
   "source": [
    "# 25%\n",
    "kn.fit(train_x1, train_y1)\n",
    "pred = kn.predict(test_x1)\n",
    "print(f'train 75%의 정확도 : {kn.score(test_x1, test_y1):.4f}')"
   ]
  },
  {
   "cell_type": "markdown",
   "id": "2a8af8a7-3811-4a14-8707-b4ea13617b2d",
   "metadata": {},
   "source": [
    "2. KNN 알고리즘을 적용하되, 교차검증을 수행하고 평균 정확도를 제시하시오.\n",
    "\n",
    "- 학습용 데이터 70%인 경우\n",
    "- cross_val_score() 함수 적용 : cv=5인 경우와 cv=3인 경우 비교"
   ]
  },
  {
   "cell_type": "code",
   "execution_count": 32,
   "id": "bb66657a-905b-4145-bf93-76a39870bc4f",
   "metadata": {},
   "outputs": [
    {
     "name": "stdout",
     "output_type": "stream",
     "text": [
      "cv=3: 0.9619, cv=5: 0.9714\n"
     ]
    }
   ],
   "source": [
    "from sklearn.model_selection import cross_val_score\n",
    "\n",
    "# 30%\n",
    "train_x = x[idx[:105]]\n",
    "train_y = y[idx[:105]]\n",
    "test_x = x[idx[105:]]\n",
    "test_y = y[idx[105:]]\n",
    "\n",
    "kn = KNeighborsClassifier()\n",
    "scores5 = np.mean(cross_val_score(kn,train_x,train_y, scoring='accuracy', cv=5))\n",
    "scores3 = np.mean(cross_val_score(kn,train_x,train_y, scoring='accuracy', cv=3))\n",
    "\n",
    "print(f'cv=3: {scores3:.4f}, cv=5: {scores5:.4f}')"
   ]
  },
  {
   "cell_type": "markdown",
   "id": "3dad83d7-3cf5-442a-b503-86560147efd6",
   "metadata": {},
   "source": [
    "3. KNN 알고리즘을 적용하되, GridSearchCV를 이용하여 최적의 이웃개수를 찾아 제시하시오.\n",
    "- 학습용 데이터 75%인 경우 학습용 데이터를 이용하여 모델 튜닝 수행\n",
    "- 이웃의 수 = {5, 8, 10, 15, 20}"
   ]
  },
  {
   "cell_type": "code",
   "execution_count": 35,
   "id": "496907f3-1edf-48b5-9078-daf178c5fbf0",
   "metadata": {},
   "outputs": [
    {
     "name": "stdout",
     "output_type": "stream",
     "text": [
      "최적의 이웃의 수: {'n_neighbors': 5}\n",
      "최고 평균 교차 검증 점수: 0.9727\n"
     ]
    }
   ],
   "source": [
    "from sklearn.model_selection import GridSearchCV\n",
    "params = {'n_neighbors': [5,8,10,15,20]}\n",
    "grid = GridSearchCV(kn,param_grid=params, cv=5)\n",
    "\n",
    "grid.fit(train_x1,train_y1)\n",
    "\n",
    "print(f'최적의 이웃의 수: {grid.best_params_}')\n",
    "print(f'최고 평균 교차 검증 점수: {grid.best_score_:.4f}')"
   ]
  },
  {
   "cell_type": "markdown",
   "id": "e0ce71ee-8456-4b8e-9ca4-fdec64b20bbe",
   "metadata": {},
   "source": [
    "4. 앞의 결과들을 DecisionTree 알고리즘을 사용한 분류 결과와 비교하시오."
   ]
  },
  {
   "cell_type": "code",
   "execution_count": 41,
   "id": "c4526605-efe9-4a24-a847-89463032ef35",
   "metadata": {},
   "outputs": [
    {
     "name": "stdout",
     "output_type": "stream",
     "text": [
      "train 70%의 acc: 0.9778, cv=5: 0.9333, cv=3: 0.9619\n",
      "train 75%의 acc: 0.9737, cv=5: 0.9553, cv=3: 0.9464\n"
     ]
    }
   ],
   "source": [
    "from sklearn.tree import DecisionTreeClassifier\n",
    "\n",
    "dt_clf = DecisionTreeClassifier()\n",
    "\n",
    "# 30%\n",
    "train_x, test_x, train_y, test_y = train_test_split(x,y, test_size=0.3, random_state=0)\n",
    "dt_clf.fit(train_x, train_y)\n",
    "pred = dt_clf.predict(test_x)\n",
    "acc30 = accuracy_score(test_y, pred)\n",
    "scores30_5 = np.mean(cross_val_score(dt_clf,train_x,train_y, scoring='accuracy', cv=5))\n",
    "scores30_3 = np.mean(cross_val_score(dt_clf,train_x,train_y, scoring='accuracy', cv=3))\n",
    "\n",
    "# 25%\n",
    "train_x1, test_x1, train_y1, test_y1 = train_test_split(x,y, test_size=0.25, random_state=0)\n",
    "dt_clf.fit(train_x1, train_y1)\n",
    "pred1 = dt_clf.predict(test_x1)\n",
    "acc25 = accuracy_score(test_y1, pred1)\n",
    "scores25_5 = np.mean(cross_val_score(dt_clf,train_x1,train_y1, scoring='accuracy', cv=5))\n",
    "scores25_3 = np.mean(cross_val_score(dt_clf,train_x1,train_y1, scoring='accuracy', cv=3))\n",
    "\n",
    "print(f'train 70%의 acc: {acc30:.4f}, cv=5: {scores30_5:.4f}, cv=3: {scores30_3:.4f}')\n",
    "print(f'train 75%의 acc: {acc25:.4f}, cv=5: {scores25_5:.4f}, cv=3: {scores25_3:.4f}')"
   ]
  },
  {
   "cell_type": "markdown",
   "id": "5a1e80fc-5fce-432c-a539-025620f71371",
   "metadata": {},
   "source": [
    "---"
   ]
  }
 ],
 "metadata": {
  "kernelspec": {
   "display_name": "Python 3 (ipykernel)",
   "language": "python",
   "name": "python3"
  },
  "language_info": {
   "codemirror_mode": {
    "name": "ipython",
    "version": 3
   },
   "file_extension": ".py",
   "mimetype": "text/x-python",
   "name": "python",
   "nbconvert_exporter": "python",
   "pygments_lexer": "ipython3",
   "version": "3.11.7"
  }
 },
 "nbformat": 4,
 "nbformat_minor": 5
}
