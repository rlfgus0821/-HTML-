{
 "cells": [
  {
   "cell_type": "code",
   "execution_count": 1,
   "metadata": {},
   "outputs": [],
   "source": [
    "import numpy as np\n",
    "import pandas as pd\n",
    "import matplotlib.pyplot as plt\n",
    "import seaborn as sns\n",
    "from sklearn.tree import DecisionTreeClassifier\n",
    "from sklearn.preprocessing import LabelEncoder\n",
    "from sklearn.datasets import load_iris\n",
    "\n",
    "import warnings\n",
    "warnings.filterwarnings('ignore')"
   ]
  },
  {
   "cell_type": "markdown",
   "metadata": {},
   "source": [
    "# 앙상블학습 : 보팅(voting)"
   ]
  },
  {
   "cell_type": "markdown",
   "metadata": {},
   "source": [
    "- 여러 예측기(estimator)의 결과들을 투표를 통해 최종 예측 결과로 결정하는 방식\n",
    "- 일반적으로 서로 다른 알고리즘을 가진 예측기(estimator)를 결합\n",
    "<br><br>\n",
    "- Voting: 여러 개의 다른 모델들로부터의 예측값을 투표를 통해 결정하는 방식\n",
    "    - Hard Voting: 여러 모델들의 예측값 중에서 가장 많이 나온 클래스를 최종 예측값으로 결정 / 다수결 원칙\n",
    "    - Soft Voting: 모델들의 예측값(확률)을 평균내어, 가장 높은 평균 확률을 가진 클래스를 최종 예측값으로 결정\n",
    "    - 이 방법은 모델의 신뢰도를 반영할 수 있어 hard voting보다 성능이 좋은 경우가 많다."
   ]
  },
  {
   "cell_type": "markdown",
   "metadata": {},
   "source": [
    "### 사이킷런의 보팅 분류기"
   ]
  },
  {
   "cell_type": "code",
   "execution_count": 2,
   "metadata": {},
   "outputs": [],
   "source": [
    "from sklearn.ensemble import VotingClassifier"
   ]
  },
  {
   "cell_type": "markdown",
   "metadata": {},
   "source": [
    "sklearn.ensemble.VotingClassifier\n",
    "- https://scikit-learn.org/stable/modules/generated/sklearn.ensemble.VotingClassifier.html"
   ]
  },
  {
   "cell_type": "raw",
   "metadata": {},
   "source": [
    "VotingClassifier(estimators, *, voting='hard', weights=None, n_jobs=None,\n",
    "                 flatten_transform=True, verbose=False)"
   ]
  },
  {
   "cell_type": "markdown",
   "metadata": {},
   "source": [
    "- estimators : 리스트 값으로 보팅에 사용될 여러 개의 Classifier 객체\n",
    "    - 모델이름과 객체명을 튜플로 구성한 리스트로 지정\n",
    "    - 예. [('LR', lr_clf),('KNN', knn_clf)]\n",
    "        - LinearRegression 객체 lr_clf의 이름을 'LR'\n",
    "        - KNN 객체 knn_clf 이름을 'KNN'으로 지정\n",
    "        \n",
    "    \n",
    "- voting : 보팅 방식 hard/soft(디폴트 : hard) "
   ]
  },
  {
   "cell_type": "markdown",
   "metadata": {},
   "source": [
    "## 실습. 유방암 악성/양성 종양 분류 예측"
   ]
  },
  {
   "cell_type": "markdown",
   "metadata": {},
   "source": [
    "### 위스콘신 유방암 데이터"
   ]
  },
  {
   "cell_type": "markdown",
   "metadata": {},
   "source": [
    "- **`sklearn.datasets.load_breast_cancer()`**\n",
    "- 유방암의 악성종양, 양성종양 여부를 결정하는 이진 분류 데이터 세트\n",
    "- 종양의 크기, 모양 등의 형태와 관련한 많은 피처 포함"
   ]
  },
  {
   "cell_type": "code",
   "execution_count": 3,
   "metadata": {},
   "outputs": [],
   "source": [
    "from sklearn.datasets import load_breast_cancer"
   ]
  },
  {
   "cell_type": "code",
   "execution_count": 26,
   "metadata": {},
   "outputs": [
    {
     "data": {
      "text/plain": [
       "dict_keys(['data', 'target', 'frame', 'target_names', 'DESCR', 'feature_names', 'filename', 'data_module'])"
      ]
     },
     "execution_count": 26,
     "metadata": {},
     "output_type": "execute_result"
    }
   ],
   "source": [
    "cancer = load_breast_cancer()\n",
    "cancer.keys()"
   ]
  },
  {
   "cell_type": "code",
   "execution_count": 5,
   "metadata": {},
   "outputs": [
    {
     "data": {
      "text/html": [
       "<div>\n",
       "<style scoped>\n",
       "    .dataframe tbody tr th:only-of-type {\n",
       "        vertical-align: middle;\n",
       "    }\n",
       "\n",
       "    .dataframe tbody tr th {\n",
       "        vertical-align: top;\n",
       "    }\n",
       "\n",
       "    .dataframe thead th {\n",
       "        text-align: right;\n",
       "    }\n",
       "</style>\n",
       "<table border=\"1\" class=\"dataframe\">\n",
       "  <thead>\n",
       "    <tr style=\"text-align: right;\">\n",
       "      <th></th>\n",
       "      <th>mean radius</th>\n",
       "      <th>mean texture</th>\n",
       "      <th>mean perimeter</th>\n",
       "      <th>mean area</th>\n",
       "      <th>mean smoothness</th>\n",
       "      <th>mean compactness</th>\n",
       "      <th>mean concavity</th>\n",
       "      <th>mean concave points</th>\n",
       "      <th>mean symmetry</th>\n",
       "      <th>mean fractal dimension</th>\n",
       "      <th>...</th>\n",
       "      <th>worst radius</th>\n",
       "      <th>worst texture</th>\n",
       "      <th>worst perimeter</th>\n",
       "      <th>worst area</th>\n",
       "      <th>worst smoothness</th>\n",
       "      <th>worst compactness</th>\n",
       "      <th>worst concavity</th>\n",
       "      <th>worst concave points</th>\n",
       "      <th>worst symmetry</th>\n",
       "      <th>worst fractal dimension</th>\n",
       "    </tr>\n",
       "  </thead>\n",
       "  <tbody>\n",
       "    <tr>\n",
       "      <th>0</th>\n",
       "      <td>17.99</td>\n",
       "      <td>10.38</td>\n",
       "      <td>122.8</td>\n",
       "      <td>1001.0</td>\n",
       "      <td>0.11840</td>\n",
       "      <td>0.27760</td>\n",
       "      <td>0.3001</td>\n",
       "      <td>0.14710</td>\n",
       "      <td>0.2419</td>\n",
       "      <td>0.07871</td>\n",
       "      <td>...</td>\n",
       "      <td>25.38</td>\n",
       "      <td>17.33</td>\n",
       "      <td>184.6</td>\n",
       "      <td>2019.0</td>\n",
       "      <td>0.1622</td>\n",
       "      <td>0.6656</td>\n",
       "      <td>0.7119</td>\n",
       "      <td>0.2654</td>\n",
       "      <td>0.4601</td>\n",
       "      <td>0.11890</td>\n",
       "    </tr>\n",
       "    <tr>\n",
       "      <th>1</th>\n",
       "      <td>20.57</td>\n",
       "      <td>17.77</td>\n",
       "      <td>132.9</td>\n",
       "      <td>1326.0</td>\n",
       "      <td>0.08474</td>\n",
       "      <td>0.07864</td>\n",
       "      <td>0.0869</td>\n",
       "      <td>0.07017</td>\n",
       "      <td>0.1812</td>\n",
       "      <td>0.05667</td>\n",
       "      <td>...</td>\n",
       "      <td>24.99</td>\n",
       "      <td>23.41</td>\n",
       "      <td>158.8</td>\n",
       "      <td>1956.0</td>\n",
       "      <td>0.1238</td>\n",
       "      <td>0.1866</td>\n",
       "      <td>0.2416</td>\n",
       "      <td>0.1860</td>\n",
       "      <td>0.2750</td>\n",
       "      <td>0.08902</td>\n",
       "    </tr>\n",
       "    <tr>\n",
       "      <th>2</th>\n",
       "      <td>19.69</td>\n",
       "      <td>21.25</td>\n",
       "      <td>130.0</td>\n",
       "      <td>1203.0</td>\n",
       "      <td>0.10960</td>\n",
       "      <td>0.15990</td>\n",
       "      <td>0.1974</td>\n",
       "      <td>0.12790</td>\n",
       "      <td>0.2069</td>\n",
       "      <td>0.05999</td>\n",
       "      <td>...</td>\n",
       "      <td>23.57</td>\n",
       "      <td>25.53</td>\n",
       "      <td>152.5</td>\n",
       "      <td>1709.0</td>\n",
       "      <td>0.1444</td>\n",
       "      <td>0.4245</td>\n",
       "      <td>0.4504</td>\n",
       "      <td>0.2430</td>\n",
       "      <td>0.3613</td>\n",
       "      <td>0.08758</td>\n",
       "    </tr>\n",
       "  </tbody>\n",
       "</table>\n",
       "<p>3 rows × 30 columns</p>\n",
       "</div>"
      ],
      "text/plain": [
       "   mean radius  mean texture  mean perimeter  mean area  mean smoothness  \\\n",
       "0        17.99         10.38           122.8     1001.0          0.11840   \n",
       "1        20.57         17.77           132.9     1326.0          0.08474   \n",
       "2        19.69         21.25           130.0     1203.0          0.10960   \n",
       "\n",
       "   mean compactness  mean concavity  mean concave points  mean symmetry  \\\n",
       "0           0.27760          0.3001              0.14710         0.2419   \n",
       "1           0.07864          0.0869              0.07017         0.1812   \n",
       "2           0.15990          0.1974              0.12790         0.2069   \n",
       "\n",
       "   mean fractal dimension  ...  worst radius  worst texture  worst perimeter  \\\n",
       "0                 0.07871  ...         25.38          17.33            184.6   \n",
       "1                 0.05667  ...         24.99          23.41            158.8   \n",
       "2                 0.05999  ...         23.57          25.53            152.5   \n",
       "\n",
       "   worst area  worst smoothness  worst compactness  worst concavity  \\\n",
       "0      2019.0            0.1622             0.6656           0.7119   \n",
       "1      1956.0            0.1238             0.1866           0.2416   \n",
       "2      1709.0            0.1444             0.4245           0.4504   \n",
       "\n",
       "   worst concave points  worst symmetry  worst fractal dimension  \n",
       "0                0.2654          0.4601                  0.11890  \n",
       "1                0.1860          0.2750                  0.08902  \n",
       "2                0.2430          0.3613                  0.08758  \n",
       "\n",
       "[3 rows x 30 columns]"
      ]
     },
     "execution_count": 5,
     "metadata": {},
     "output_type": "execute_result"
    }
   ],
   "source": [
    "cancer_df = pd.DataFrame(cancer.data, columns=cancer.feature_names)\n",
    "cancer_df.head(3)"
   ]
  },
  {
   "cell_type": "code",
   "execution_count": 6,
   "metadata": {
    "scrolled": true
   },
   "outputs": [
    {
     "data": {
      "text/plain": [
       "array([0, 0, 0, 0, 0, 0, 0, 0, 0, 0])"
      ]
     },
     "execution_count": 6,
     "metadata": {},
     "output_type": "execute_result"
    }
   ],
   "source": [
    "cancer.target[:10]"
   ]
  },
  {
   "cell_type": "code",
   "execution_count": 7,
   "metadata": {},
   "outputs": [
    {
     "data": {
      "text/plain": [
       "array(['malignant', 'benign'], dtype='<U9')"
      ]
     },
     "execution_count": 7,
     "metadata": {},
     "output_type": "execute_result"
    }
   ],
   "source": [
    "cancer.target_names"
   ]
  },
  {
   "cell_type": "markdown",
   "metadata": {},
   "source": [
    "### 보팅 분류기(Voting Classifier) 생성"
   ]
  },
  {
   "cell_type": "markdown",
   "metadata": {},
   "source": [
    "- 로지스틱 회귀와 KNN 기반의 소프트 보팅 방식으로 보팅 분류기 생성"
   ]
  },
  {
   "cell_type": "markdown",
   "metadata": {},
   "source": [
    "#### 관련 모듈 임포트"
   ]
  },
  {
   "cell_type": "code",
   "execution_count": 8,
   "metadata": {},
   "outputs": [],
   "source": [
    "from sklearn.linear_model import LogisticRegression\n",
    "from sklearn.neighbors import KNeighborsClassifier\n",
    "from sklearn.model_selection import train_test_split"
   ]
  },
  {
   "cell_type": "markdown",
   "metadata": {},
   "source": [
    "#### VotingClassifier 생성\n",
    "\n",
    "- 개별모델은 로지스틱 회귀와 KNN\n",
    "- 소프트보팅 방식"
   ]
  },
  {
   "cell_type": "code",
   "execution_count": 9,
   "metadata": {},
   "outputs": [
    {
     "data": {
      "text/html": [
       "<style>#sk-container-id-1 {color: black;background-color: white;}#sk-container-id-1 pre{padding: 0;}#sk-container-id-1 div.sk-toggleable {background-color: white;}#sk-container-id-1 label.sk-toggleable__label {cursor: pointer;display: block;width: 100%;margin-bottom: 0;padding: 0.3em;box-sizing: border-box;text-align: center;}#sk-container-id-1 label.sk-toggleable__label-arrow:before {content: \"▸\";float: left;margin-right: 0.25em;color: #696969;}#sk-container-id-1 label.sk-toggleable__label-arrow:hover:before {color: black;}#sk-container-id-1 div.sk-estimator:hover label.sk-toggleable__label-arrow:before {color: black;}#sk-container-id-1 div.sk-toggleable__content {max-height: 0;max-width: 0;overflow: hidden;text-align: left;background-color: #f0f8ff;}#sk-container-id-1 div.sk-toggleable__content pre {margin: 0.2em;color: black;border-radius: 0.25em;background-color: #f0f8ff;}#sk-container-id-1 input.sk-toggleable__control:checked~div.sk-toggleable__content {max-height: 200px;max-width: 100%;overflow: auto;}#sk-container-id-1 input.sk-toggleable__control:checked~label.sk-toggleable__label-arrow:before {content: \"▾\";}#sk-container-id-1 div.sk-estimator input.sk-toggleable__control:checked~label.sk-toggleable__label {background-color: #d4ebff;}#sk-container-id-1 div.sk-label input.sk-toggleable__control:checked~label.sk-toggleable__label {background-color: #d4ebff;}#sk-container-id-1 input.sk-hidden--visually {border: 0;clip: rect(1px 1px 1px 1px);clip: rect(1px, 1px, 1px, 1px);height: 1px;margin: -1px;overflow: hidden;padding: 0;position: absolute;width: 1px;}#sk-container-id-1 div.sk-estimator {font-family: monospace;background-color: #f0f8ff;border: 1px dotted black;border-radius: 0.25em;box-sizing: border-box;margin-bottom: 0.5em;}#sk-container-id-1 div.sk-estimator:hover {background-color: #d4ebff;}#sk-container-id-1 div.sk-parallel-item::after {content: \"\";width: 100%;border-bottom: 1px solid gray;flex-grow: 1;}#sk-container-id-1 div.sk-label:hover label.sk-toggleable__label {background-color: #d4ebff;}#sk-container-id-1 div.sk-serial::before {content: \"\";position: absolute;border-left: 1px solid gray;box-sizing: border-box;top: 0;bottom: 0;left: 50%;z-index: 0;}#sk-container-id-1 div.sk-serial {display: flex;flex-direction: column;align-items: center;background-color: white;padding-right: 0.2em;padding-left: 0.2em;position: relative;}#sk-container-id-1 div.sk-item {position: relative;z-index: 1;}#sk-container-id-1 div.sk-parallel {display: flex;align-items: stretch;justify-content: center;background-color: white;position: relative;}#sk-container-id-1 div.sk-item::before, #sk-container-id-1 div.sk-parallel-item::before {content: \"\";position: absolute;border-left: 1px solid gray;box-sizing: border-box;top: 0;bottom: 0;left: 50%;z-index: -1;}#sk-container-id-1 div.sk-parallel-item {display: flex;flex-direction: column;z-index: 1;position: relative;background-color: white;}#sk-container-id-1 div.sk-parallel-item:first-child::after {align-self: flex-end;width: 50%;}#sk-container-id-1 div.sk-parallel-item:last-child::after {align-self: flex-start;width: 50%;}#sk-container-id-1 div.sk-parallel-item:only-child::after {width: 0;}#sk-container-id-1 div.sk-dashed-wrapped {border: 1px dashed gray;margin: 0 0.4em 0.5em 0.4em;box-sizing: border-box;padding-bottom: 0.4em;background-color: white;}#sk-container-id-1 div.sk-label label {font-family: monospace;font-weight: bold;display: inline-block;line-height: 1.2em;}#sk-container-id-1 div.sk-label-container {text-align: center;}#sk-container-id-1 div.sk-container {/* jupyter's `normalize.less` sets `[hidden] { display: none; }` but bootstrap.min.css set `[hidden] { display: none !important; }` so we also need the `!important` here to be able to override the default hidden behavior on the sphinx rendered scikit-learn.org. See: https://github.com/scikit-learn/scikit-learn/issues/21755 */display: inline-block !important;position: relative;}#sk-container-id-1 div.sk-text-repr-fallback {display: none;}</style><div id=\"sk-container-id-1\" class=\"sk-top-container\"><div class=\"sk-text-repr-fallback\"><pre>VotingClassifier(estimators=[(&#x27;LR&#x27;, LogisticRegression()),\n",
       "                             (&#x27;KNN&#x27;, KNeighborsClassifier(n_neighbors=8))])</pre><b>In a Jupyter environment, please rerun this cell to show the HTML representation or trust the notebook. <br />On GitHub, the HTML representation is unable to render, please try loading this page with nbviewer.org.</b></div><div class=\"sk-container\" hidden><div class=\"sk-item sk-dashed-wrapped\"><div class=\"sk-label-container\"><div class=\"sk-label sk-toggleable\"><input class=\"sk-toggleable__control sk-hidden--visually\" id=\"sk-estimator-id-1\" type=\"checkbox\" ><label for=\"sk-estimator-id-1\" class=\"sk-toggleable__label sk-toggleable__label-arrow\">VotingClassifier</label><div class=\"sk-toggleable__content\"><pre>VotingClassifier(estimators=[(&#x27;LR&#x27;, LogisticRegression()),\n",
       "                             (&#x27;KNN&#x27;, KNeighborsClassifier(n_neighbors=8))])</pre></div></div></div><div class=\"sk-parallel\"><div class=\"sk-parallel-item\"><div class=\"sk-item\"><div class=\"sk-label-container\"><div class=\"sk-label sk-toggleable\"><label>LR</label></div></div><div class=\"sk-serial\"><div class=\"sk-item\"><div class=\"sk-estimator sk-toggleable\"><input class=\"sk-toggleable__control sk-hidden--visually\" id=\"sk-estimator-id-2\" type=\"checkbox\" ><label for=\"sk-estimator-id-2\" class=\"sk-toggleable__label sk-toggleable__label-arrow\">LogisticRegression</label><div class=\"sk-toggleable__content\"><pre>LogisticRegression()</pre></div></div></div></div></div></div><div class=\"sk-parallel-item\"><div class=\"sk-item\"><div class=\"sk-label-container\"><div class=\"sk-label sk-toggleable\"><label>KNN</label></div></div><div class=\"sk-serial\"><div class=\"sk-item\"><div class=\"sk-estimator sk-toggleable\"><input class=\"sk-toggleable__control sk-hidden--visually\" id=\"sk-estimator-id-3\" type=\"checkbox\" ><label for=\"sk-estimator-id-3\" class=\"sk-toggleable__label sk-toggleable__label-arrow\">KNeighborsClassifier</label><div class=\"sk-toggleable__content\"><pre>KNeighborsClassifier(n_neighbors=8)</pre></div></div></div></div></div></div></div></div></div></div>"
      ],
      "text/plain": [
       "VotingClassifier(estimators=[('LR', LogisticRegression()),\n",
       "                             ('KNN', KNeighborsClassifier(n_neighbors=8))])"
      ]
     },
     "execution_count": 9,
     "metadata": {},
     "output_type": "execute_result"
    }
   ],
   "source": [
    "# estimators -> 튜플을 갖는 리스트 형태\n",
    "lr_clf = LogisticRegression()\n",
    "knn_clf = KNeighborsClassifier(n_neighbors=8)\n",
    "estimators = [('LR',lr_clf),('KNN', knn_clf)]\n",
    "\n",
    "vo_clf = VotingClassifier(estimators= estimators)\n",
    "vo_clf"
   ]
  },
  {
   "cell_type": "markdown",
   "metadata": {},
   "source": [
    "#### Split Dataset "
   ]
  },
  {
   "cell_type": "code",
   "execution_count": 27,
   "metadata": {},
   "outputs": [],
   "source": [
    "train_x, test_x, train_y, test_y = train_test_split(cancer.data, cancer.target, \n",
    "                                                    test_size=0.2, random_state=156)"
   ]
  },
  {
   "cell_type": "markdown",
   "metadata": {},
   "source": [
    "#### VotingClassifier 학습/예측/평가"
   ]
  },
  {
   "cell_type": "code",
   "execution_count": 11,
   "metadata": {
    "scrolled": true
   },
   "outputs": [],
   "source": [
    "from sklearn.metrics import confusion_matrix, accuracy_score, precision_score, recall_score\n",
    "from sklearn.metrics import f1_score, roc_auc_score, precision_recall_curve, roc_curve\n",
    "\n",
    "# 이진 분류 모델의 성능지표\n",
    "def get_eval_score(test_y, pred, pred_proba_c1= None):\n",
    "    \n",
    "    # 혼동행렬(오차행렬)\n",
    "    confusion = confusion_matrix(test_y, pred)\n",
    "    # 정밀도(precision)\n",
    "    precision = precision_score(test_y, pred)\n",
    "    # 정확도(accuracy_score)\n",
    "    accuracy = accuracy_score(test_y, pred)\n",
    "    # 재현율(recall)\n",
    "    recall = recall_score(test_y, pred)\n",
    "    # F1 score\n",
    "    f1 = f1_score(test_y, pred)\n",
    "    # G-measure -> 정밀도와 재현율의 기하평균 -> np.sqrt(recall_socre*precision_score)\n",
    "    g = np.sqrt(recall_score(test_y, pred)*precision_score(test_y, pred))\n",
    "\n",
    "    print(f'confusion matrix:\\n{confusion}\\n')\n",
    "    print(f'accuracy: {accuracy:.4f}, precision: {precision:.4f}, recall: {recall:.4f}',end=' ')\n",
    "    print(f'F1: {f1:.4f}, G: {g:.4f}')\n",
    "    if pred_proba_c1 is not None:\n",
    "        auc = roc_auc_score(test_y, pred_proba_c1)\n",
    "        print(f'auc: {auc:.4f}')\n",
    "\n",
    "def get_eval_score2(test_y, pred, pred_proba = None):\n",
    "    \n",
    "    # 혼동행렬(오차행렬)\n",
    "    confusion = confusion_matrix(test_y, pred)\n",
    "    # 정밀도(precision)\n",
    "    precision = precision_score(test_y, pred, average='macro')\n",
    "    # 정확도(accuracy_score)\n",
    "    accuracy = accuracy_score(test_y, pred)\n",
    "    # 재현율(recall)\n",
    "    recall = recall_score(test_y, pred, average='macro')\n",
    "    # F1 score\n",
    "    f1 = f1_score(test_y, pred, average='macro')\n",
    "    # G-measure -> 정밀도와 재현율의 기하평균 -> np.sqrt(recall_socre*precision_score)\n",
    "    g = np.sqrt(recall * precision)\n",
    "\n",
    "    print(f'confusion matrix:\\n{confusion}\\n')\n",
    "    print(f'accuracy: {accuracy:.4f}, precision: {precision:.4f}, recall: {recall:.4f}',end=' ')\n",
    "    print(f'F1: {f1:.4f}, G: {g:.4f}')\n",
    "    if pred_proba is not None:\n",
    "        auc = roc_auc_score(test_y, pred_proba, average='macro', multi_class='ovo')\n",
    "        print(f'auc: {auc:.4f}')\n",
    "    print()"
   ]
  },
  {
   "cell_type": "code",
   "execution_count": 12,
   "metadata": {},
   "outputs": [
    {
     "name": "stdout",
     "output_type": "stream",
     "text": [
      "보팅을 통한 분류기 정확도: 0.9386\n"
     ]
    }
   ],
   "source": [
    "vo_clf.fit(train_x, train_y)\n",
    "pred = vo_clf.predict(test_x)\n",
    "print(f'보팅을 통한 분류기 정확도: {accuracy_score(test_y, pred):.4f}')"
   ]
  },
  {
   "cell_type": "code",
   "execution_count": 13,
   "metadata": {},
   "outputs": [
    {
     "name": "stdout",
     "output_type": "stream",
     "text": [
      "confusion matrix:\n",
      "[[35  2]\n",
      " [ 5 72]]\n",
      "\n",
      "accuracy: 0.9386, precision: 0.9730, recall: 0.9351 F1: 0.9536, G: 0.9538\n"
     ]
    }
   ],
   "source": [
    "get_eval_score(test_y, pred)"
   ]
  },
  {
   "cell_type": "markdown",
   "metadata": {},
   "source": [
    "문제. soft voting으로 학습"
   ]
  },
  {
   "cell_type": "code",
   "execution_count": 14,
   "metadata": {},
   "outputs": [
    {
     "name": "stdout",
     "output_type": "stream",
     "text": [
      "confusion matrix:\n",
      "[[32  5]\n",
      " [ 1 76]]\n",
      "\n",
      "accuracy: 0.9474, precision: 0.9383, recall: 0.9870 F1: 0.9620, G: 0.9623\n"
     ]
    }
   ],
   "source": [
    "vo_clf_soft = VotingClassifier(estimators= estimators, voting='soft')\n",
    "vo_clf_soft.fit(train_x, train_y)\n",
    "pred_soft = vo_clf_soft.predict(test_x)\n",
    "get_eval_score(test_y, pred_soft)"
   ]
  },
  {
   "cell_type": "markdown",
   "metadata": {},
   "source": [
    "#### 참고. 개별 모델별 학습/예측/평가"
   ]
  },
  {
   "cell_type": "code",
   "execution_count": 15,
   "metadata": {},
   "outputs": [
    {
     "name": "stdout",
     "output_type": "stream",
     "text": [
      "LogisticRegression()\n",
      "confusion matrix:\n",
      "[[32  5]\n",
      " [ 2 75]]\n",
      "\n",
      "accuracy: 0.9386, precision: 0.9375, recall: 0.9740 F1: 0.9554, G: 0.9556\n",
      "auc: 0.9881\n",
      "-------------------\n",
      "KNeighborsClassifier(n_neighbors=8)\n",
      "confusion matrix:\n",
      "[[34  3]\n",
      " [ 4 73]]\n",
      "\n",
      "accuracy: 0.9386, precision: 0.9605, recall: 0.9481 F1: 0.9542, G: 0.9543\n",
      "auc: 0.9544\n",
      "-------------------\n"
     ]
    }
   ],
   "source": [
    "classifiers = [lr_clf, knn_clf]\n",
    "for clf in classifiers:\n",
    "    clf.fit(train_x, train_y)\n",
    "    pred_y = clf.predict(test_x)\n",
    "    pred_proba = clf.predict_proba(test_x)[:,1]\n",
    "    print(clf)\n",
    "    get_eval_score(test_y, pred_y, pred_proba)\n",
    "    print('-------------------')"
   ]
  },
  {
   "cell_type": "markdown",
   "metadata": {},
   "source": [
    "#### 결정트리를 추가하여 하드보팅과 소프트보팅으로 학습하여 성능평가"
   ]
  },
  {
   "cell_type": "code",
   "execution_count": 16,
   "metadata": {},
   "outputs": [],
   "source": [
    "dt_clf = DecisionTreeClassifier(random_state=156)\n",
    "lr_clf = LogisticRegression()\n",
    "knn_clf = KNeighborsClassifier(n_neighbors=8)\n",
    "estimators = [('LR',lr_clf),('KNN', knn_clf),('DT',dt_clf)]"
   ]
  },
  {
   "cell_type": "markdown",
   "metadata": {},
   "source": [
    "- 하드보팅으로 학습"
   ]
  },
  {
   "cell_type": "code",
   "execution_count": 17,
   "metadata": {},
   "outputs": [
    {
     "name": "stdout",
     "output_type": "stream",
     "text": [
      "하드보팅 accuracy: 0.9386\n"
     ]
    }
   ],
   "source": [
    "# 하드 보팅\n",
    "vo_clf = VotingClassifier(estimators= estimators, voting='hard')\n",
    "\n",
    "vo_clf.fit(train_x, train_y)\n",
    "\n",
    "pred_y = vo_clf.predict(test_x)\n",
    "print(f'하드보팅 accuracy: {accuracy_score(test_y, pred_y):.4f}')"
   ]
  },
  {
   "cell_type": "markdown",
   "metadata": {},
   "source": [
    "- 소프트보팅으로 학습"
   ]
  },
  {
   "cell_type": "code",
   "execution_count": 18,
   "metadata": {},
   "outputs": [
    {
     "name": "stdout",
     "output_type": "stream",
     "text": [
      "소프트 보팅 accuracy: 0.9386\n"
     ]
    }
   ],
   "source": [
    "# 소프트 보팅\n",
    "vo_clf_soft = VotingClassifier(estimators=estimators, voting='soft')\n",
    "\n",
    "vo_clf_soft.fit(train_x, train_y)\n",
    "\n",
    "pred_soft = vo_clf_soft.predict(test_x)\n",
    "print(f'소프트 보팅 accuracy: {accuracy_score(test_y, pred_soft):.4f}')"
   ]
  },
  {
   "cell_type": "markdown",
   "metadata": {},
   "source": [
    "- 개별 모델별 학습/예측/평가"
   ]
  },
  {
   "cell_type": "code",
   "execution_count": 28,
   "metadata": {},
   "outputs": [
    {
     "name": "stdout",
     "output_type": "stream",
     "text": [
      "DecisionTreeClassifier()\n",
      "confusion matrix:\n",
      "[[33  4]\n",
      " [ 2 75]]\n",
      "\n",
      "accuracy: 0.9474, precision: 0.9494, recall: 0.9740 F1: 0.9615, G: 0.9616\n",
      "auc: 0.9330\n",
      "-------------------\n",
      "LogisticRegression()\n",
      "confusion matrix:\n",
      "[[32  5]\n",
      " [ 2 75]]\n",
      "\n",
      "accuracy: 0.9386, precision: 0.9375, recall: 0.9740 F1: 0.9554, G: 0.9556\n",
      "auc: 0.9881\n",
      "-------------------\n",
      "KNeighborsClassifier(n_neighbors=8)\n",
      "confusion matrix:\n",
      "[[34  3]\n",
      " [ 4 73]]\n",
      "\n",
      "accuracy: 0.9386, precision: 0.9605, recall: 0.9481 F1: 0.9542, G: 0.9543\n",
      "auc: 0.9544\n",
      "-------------------\n"
     ]
    }
   ],
   "source": [
    "classifiers = [dt_clf, lr_clf, knn_clf]\n",
    "for clf in classifiers:\n",
    "    clf.fit(train_x, train_y)\n",
    "    pred_y = clf.predict(test_x)\n",
    "    pred_proba = clf.predict_proba(test_x)[:,1]\n",
    "    print(clf)\n",
    "    get_eval_score(test_y, pred_y, pred_proba)\n",
    "    print('-------------------')"
   ]
  },
  {
   "cell_type": "markdown",
   "metadata": {},
   "source": [
    "-------------------------------------------------"
   ]
  },
  {
   "cell_type": "markdown",
   "metadata": {},
   "source": [
    "### 정리"
   ]
  },
  {
   "cell_type": "markdown",
   "metadata": {},
   "source": [
    "**ensemble**\n",
    "\n",
    "앙상블 학습: 여러 개의 학습 알고리즘을 결합하여 보다 높은 정확도의 예측 모델을 구축하는 방법론 \n",
    "- 여기서 voting, bagging, stacking은 앙상블 학습을 구현하는 대표적인 방법이다.\n",
    "\n",
    "1. Voting\n",
    "- Voting: 여러 개의 다른 모델들로부터의 예측값을 투표를 통해 결정하는 방식\n",
    "    - Hard Voting: 모델들의 예측값 중에서 가장 빈번하게 나온 클래스를 최종 예측값으로 결정 / 다수결 원칙\n",
    "    - Soft Voting: 모델들의 예측값(확률 = predict_proba())을 평균내어, 가장 높은 평균 확률을 가진 클래스를 최종 예측값으로 결정\n",
    "    - 이 방법은 모델의 신뢰도를 반영할 수 있어 hard voting보다 성능이 좋은 경우가 많다.\n",
    "\n",
    "2. Bagging\n",
    "- Bagging(Bootstrap Aggregating): 하나의 알고리즘으로 여러 개의 모델을 병렬로 훈련시키는 방법\n",
    "    - 각 모델은 원본 데이터셋에서 부트스트랩(복원 랜덤 샘플링)을 통해 생성된 서로 다른 서브셋을 사용하여 훈련\n",
    "    - 그 후, 모든 모델의 예측값을 평균(회귀의 경우) 또는 투표(분류의 경우)하여 최종 결과를 도출\n",
    "    - 대표적인 예로 랜덤 포레스트가 있다.\n",
    "\n",
    "3. Stacking\n",
    "- Stacking: 여러 다른 모델들의 예측값을 새로운 데이터셋으로 사용하여, 그 위에 다른 모델을 훈련시켜 최종 예측을 수행하는 방법\n",
    "    - 기본적으로, 첫 번째 레벨의 여러 모델들이 예측값을 생성하고, 이 예측값들을 입력으로 사용하여 두 번째 레벨의 모델이 최종 예측\n",
    "    - 이 과정은 더 많은 레벨로 확장될 수 있다. Stacking은 모델 간의 강점을 결합하여 더 정확한 예측을 도출하는 데 유용\n"
   ]
  }
 ],
 "metadata": {
  "kernelspec": {
   "display_name": "Python 3 (ipykernel)",
   "language": "python",
   "name": "python3"
  },
  "language_info": {
   "codemirror_mode": {
    "name": "ipython",
    "version": 3
   },
   "file_extension": ".py",
   "mimetype": "text/x-python",
   "name": "python",
   "nbconvert_exporter": "python",
   "pygments_lexer": "ipython3",
   "version": "3.11.7"
  }
 },
 "nbformat": 4,
 "nbformat_minor": 4
}
