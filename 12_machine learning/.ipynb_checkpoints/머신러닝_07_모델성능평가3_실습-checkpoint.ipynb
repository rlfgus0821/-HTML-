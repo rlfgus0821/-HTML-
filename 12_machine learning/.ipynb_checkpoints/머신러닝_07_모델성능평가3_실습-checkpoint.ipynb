{
 "cells": [
  {
   "cell_type": "markdown",
   "metadata": {},
   "source": [
    "## 실습. 타이타닉 생존자 예측 모델의 성능 평가"
   ]
  },
  {
   "cell_type": "code",
   "execution_count": null,
   "metadata": {},
   "outputs": [],
   "source": [
    "import numpy as np\n",
    "import pandas as pd\n",
    "import matplotlib.pyplot as plt\n",
    "import seaborn as sns"
   ]
  },
  {
   "cell_type": "code",
   "execution_count": 3,
   "metadata": {},
   "outputs": [],
   "source": [
    "import warnings\n",
    "warnings.filterwarnings('ignore')"
   ]
  },
  {
   "cell_type": "markdown",
   "metadata": {},
   "source": [
    "### 타이타닉 데이터에 대한 전처리"
   ]
  },
  {
   "cell_type": "code",
   "execution_count": 31,
   "metadata": {},
   "outputs": [],
   "source": [
    "from sklearn.preprocessing import LabelEncoder\n",
    "\n",
    "# 결측치 처리\n",
    "def fill_na(df):\n",
    "    df['Age'].fillna(df['Age'].mean(), inplace=True)\n",
    "    df['Cabin'].fillna('N', inplace=True)\n",
    "    df['Embarked'].fillna('N', inplace=True)\n",
    "    return df\n",
    "\n",
    "# 레이블 인코딩\n",
    "def encode_features(df):\n",
    "    df['Cabin'] = df['Cabin'].str[:1]\n",
    "    for ftr in ['Sex','Cabin','Embarked']: \n",
    "        encoder = LabelEncoder()\n",
    "        encoder.fit(df[ftr])\n",
    "        df[ftr] = encoder.transform(df[ftr])\n",
    "    return df\n",
    "\n",
    "# 원핫인코딩\n",
    "def encode_features2(df):\n",
    "    df['Cabin'] = df['Cabin'].str[:1]\n",
    "    ftrs = ['Sex','Cabin','Embarked']\n",
    "    dummy = pd.get_dummies(df[ftrs], dtype='int')\n",
    "    df.drop(ftrs, axis=1,inplace=True)\n",
    "    df = pd.concat([df, dummy], axis=1)\n",
    "    return df\n",
    "    \n",
    "# 불필요 열 삭제\n",
    "def drop_features(df):\n",
    "    df.drop(['PassengerId', 'Name', 'Ticket'], axis=1, inplace=True)\n",
    "    return df\n",
    "\n",
    "# 전처리 함수\n",
    "def preprocessing_features(df):\n",
    "    df = fill_na(df)\n",
    "    df = drop_features(df)\n",
    "    df = encode_features2(df)\n",
    "    return df"
   ]
  },
  {
   "cell_type": "markdown",
   "metadata": {},
   "source": [
    "### 로지스틱 회귀 모델로 생존자 예측"
   ]
  },
  {
   "cell_type": "code",
   "execution_count": 10,
   "metadata": {},
   "outputs": [],
   "source": [
    "from sklearn.model_selection import train_test_split\n",
    "from sklearn.linear_model import LogisticRegression"
   ]
  },
  {
   "cell_type": "code",
   "execution_count": 32,
   "metadata": {},
   "outputs": [],
   "source": [
    "# 원본 데이터 로딩\n",
    "titanic = pd.read_csv('data/titanic/train.csv')"
   ]
  },
  {
   "cell_type": "code",
   "execution_count": 33,
   "metadata": {},
   "outputs": [
    {
     "data": {
      "text/html": [
       "<div>\n",
       "<style scoped>\n",
       "    .dataframe tbody tr th:only-of-type {\n",
       "        vertical-align: middle;\n",
       "    }\n",
       "\n",
       "    .dataframe tbody tr th {\n",
       "        vertical-align: top;\n",
       "    }\n",
       "\n",
       "    .dataframe thead th {\n",
       "        text-align: right;\n",
       "    }\n",
       "</style>\n",
       "<table border=\"1\" class=\"dataframe\">\n",
       "  <thead>\n",
       "    <tr style=\"text-align: right;\">\n",
       "      <th></th>\n",
       "      <th>Survived</th>\n",
       "      <th>Pclass</th>\n",
       "      <th>Age</th>\n",
       "      <th>SibSp</th>\n",
       "      <th>Parch</th>\n",
       "      <th>Fare</th>\n",
       "      <th>Sex_female</th>\n",
       "      <th>Sex_male</th>\n",
       "      <th>Cabin_A</th>\n",
       "      <th>Cabin_B</th>\n",
       "      <th>...</th>\n",
       "      <th>Cabin_D</th>\n",
       "      <th>Cabin_E</th>\n",
       "      <th>Cabin_F</th>\n",
       "      <th>Cabin_G</th>\n",
       "      <th>Cabin_N</th>\n",
       "      <th>Cabin_T</th>\n",
       "      <th>Embarked_C</th>\n",
       "      <th>Embarked_N</th>\n",
       "      <th>Embarked_Q</th>\n",
       "      <th>Embarked_S</th>\n",
       "    </tr>\n",
       "  </thead>\n",
       "  <tbody>\n",
       "    <tr>\n",
       "      <th>0</th>\n",
       "      <td>0</td>\n",
       "      <td>3</td>\n",
       "      <td>22.0</td>\n",
       "      <td>1</td>\n",
       "      <td>0</td>\n",
       "      <td>7.2500</td>\n",
       "      <td>0</td>\n",
       "      <td>1</td>\n",
       "      <td>0</td>\n",
       "      <td>0</td>\n",
       "      <td>...</td>\n",
       "      <td>0</td>\n",
       "      <td>0</td>\n",
       "      <td>0</td>\n",
       "      <td>0</td>\n",
       "      <td>1</td>\n",
       "      <td>0</td>\n",
       "      <td>0</td>\n",
       "      <td>0</td>\n",
       "      <td>0</td>\n",
       "      <td>1</td>\n",
       "    </tr>\n",
       "    <tr>\n",
       "      <th>1</th>\n",
       "      <td>1</td>\n",
       "      <td>1</td>\n",
       "      <td>38.0</td>\n",
       "      <td>1</td>\n",
       "      <td>0</td>\n",
       "      <td>71.2833</td>\n",
       "      <td>1</td>\n",
       "      <td>0</td>\n",
       "      <td>0</td>\n",
       "      <td>0</td>\n",
       "      <td>...</td>\n",
       "      <td>0</td>\n",
       "      <td>0</td>\n",
       "      <td>0</td>\n",
       "      <td>0</td>\n",
       "      <td>0</td>\n",
       "      <td>0</td>\n",
       "      <td>1</td>\n",
       "      <td>0</td>\n",
       "      <td>0</td>\n",
       "      <td>0</td>\n",
       "    </tr>\n",
       "    <tr>\n",
       "      <th>2</th>\n",
       "      <td>1</td>\n",
       "      <td>3</td>\n",
       "      <td>26.0</td>\n",
       "      <td>0</td>\n",
       "      <td>0</td>\n",
       "      <td>7.9250</td>\n",
       "      <td>1</td>\n",
       "      <td>0</td>\n",
       "      <td>0</td>\n",
       "      <td>0</td>\n",
       "      <td>...</td>\n",
       "      <td>0</td>\n",
       "      <td>0</td>\n",
       "      <td>0</td>\n",
       "      <td>0</td>\n",
       "      <td>1</td>\n",
       "      <td>0</td>\n",
       "      <td>0</td>\n",
       "      <td>0</td>\n",
       "      <td>0</td>\n",
       "      <td>1</td>\n",
       "    </tr>\n",
       "  </tbody>\n",
       "</table>\n",
       "<p>3 rows × 21 columns</p>\n",
       "</div>"
      ],
      "text/plain": [
       "   Survived  Pclass   Age  SibSp  Parch     Fare  Sex_female  Sex_male  \\\n",
       "0         0       3  22.0      1      0   7.2500           0         1   \n",
       "1         1       1  38.0      1      0  71.2833           1         0   \n",
       "2         1       3  26.0      0      0   7.9250           1         0   \n",
       "\n",
       "   Cabin_A  Cabin_B  ...  Cabin_D  Cabin_E  Cabin_F  Cabin_G  Cabin_N  \\\n",
       "0        0        0  ...        0        0        0        0        1   \n",
       "1        0        0  ...        0        0        0        0        0   \n",
       "2        0        0  ...        0        0        0        0        1   \n",
       "\n",
       "   Cabin_T  Embarked_C  Embarked_N  Embarked_Q  Embarked_S  \n",
       "0        0           0           0           0           1  \n",
       "1        0           1           0           0           0  \n",
       "2        0           0           0           0           1  \n",
       "\n",
       "[3 rows x 21 columns]"
      ]
     },
     "execution_count": 33,
     "metadata": {},
     "output_type": "execute_result"
    }
   ],
   "source": [
    "# 데이터 전처리\n",
    "titanic_tr = preprocessing_features(titanic)\n",
    "titanic_tr.head(3)"
   ]
  },
  {
   "cell_type": "code",
   "execution_count": 35,
   "metadata": {},
   "outputs": [],
   "source": [
    "# 피처(X)와 타깃(y)\n",
    "x = titanic_tr.drop('Survived', axis=1)\n",
    "y = titanic_tr.Survived\n",
    "\n",
    "# 학습데이터/테스트 데이터 분할\n",
    "train_x, test_x, train_y, test_y = train_test_split(x,y, test_size=0.2, random_state=11)\n",
    "\n",
    "# 로지스틱 회귀 모델 생성\n",
    "lr_clf = LogisticRegression()\n",
    "\n",
    "# 학습\n",
    "lr_clf.fit(train_x, train_y)\n",
    "\n",
    "# 예측\n",
    "pred = lr_clf.predict(test_x)"
   ]
  },
  {
   "cell_type": "markdown",
   "metadata": {},
   "source": [
    "### 모델 평가"
   ]
  },
  {
   "cell_type": "markdown",
   "metadata": {},
   "source": [
    "####  평가지표 모듈 임포트"
   ]
  },
  {
   "cell_type": "code",
   "execution_count": 39,
   "metadata": {},
   "outputs": [],
   "source": [
    "from sklearn.metrics import confusion_matrix, accuracy_score, precision_score, recall_score\n",
    "from sklearn.metrics import f1_score, roc_auc_score, precision_recall_curve, roc_curve"
   ]
  },
  {
   "cell_type": "code",
   "execution_count": 60,
   "metadata": {},
   "outputs": [
    {
     "data": {
      "text/plain": [
       "array([[105,  13],\n",
       "       [ 13,  48]], dtype=int64)"
      ]
     },
     "execution_count": 60,
     "metadata": {},
     "output_type": "execute_result"
    }
   ],
   "source": [
    "# 혼동행렬(오차행렬)\n",
    "confusion_matrix(test_y, pred)"
   ]
  },
  {
   "cell_type": "code",
   "execution_count": 61,
   "metadata": {},
   "outputs": [
    {
     "data": {
      "text/plain": [
       "0.7868852459016393"
      ]
     },
     "execution_count": 61,
     "metadata": {},
     "output_type": "execute_result"
    }
   ],
   "source": [
    "# 정밀도(precision)\n",
    "precision_score(test_y, pred)"
   ]
  },
  {
   "cell_type": "code",
   "execution_count": 62,
   "metadata": {},
   "outputs": [
    {
     "data": {
      "text/plain": [
       "0.8547486033519553"
      ]
     },
     "execution_count": 62,
     "metadata": {},
     "output_type": "execute_result"
    }
   ],
   "source": [
    "# 정확도(accuracy_score)\n",
    "accuracy_score(test_y, pred)"
   ]
  },
  {
   "cell_type": "code",
   "execution_count": 63,
   "metadata": {},
   "outputs": [
    {
     "data": {
      "text/plain": [
       "0.7868852459016393"
      ]
     },
     "execution_count": 63,
     "metadata": {},
     "output_type": "execute_result"
    }
   ],
   "source": [
    "# 재현율(recall)\n",
    "recall_score(test_y, pred)"
   ]
  },
  {
   "cell_type": "code",
   "execution_count": 64,
   "metadata": {},
   "outputs": [
    {
     "data": {
      "text/plain": [
       "0.7868852459016392"
      ]
     },
     "execution_count": 64,
     "metadata": {},
     "output_type": "execute_result"
    }
   ],
   "source": [
    "# F1 score\n",
    "f1_score(test_y, pred)"
   ]
  },
  {
   "cell_type": "code",
   "execution_count": 65,
   "metadata": {},
   "outputs": [
    {
     "data": {
      "text/plain": [
       "0.7868852459016393"
      ]
     },
     "execution_count": 65,
     "metadata": {},
     "output_type": "execute_result"
    }
   ],
   "source": [
    "# G-measure -> 정밀도와 재현율의 기하평균 -> np.sqrt(recall_socre*precision_score)\n",
    "np.sqrt(recall_score(test_y, pred)*precision_score(test_y, pred))"
   ]
  },
  {
   "cell_type": "markdown",
   "metadata": {},
   "source": [
    "#### 분류모델 성능평가지표 출력 함수 작성"
   ]
  },
  {
   "cell_type": "code",
   "execution_count": 58,
   "metadata": {},
   "outputs": [],
   "source": [
    "def get_eval_score(test_y, pred):\n",
    "    \n",
    "    # 혼동행렬(오차행렬)\n",
    "    confusion = confusion_matrix(test_y, pred)\n",
    "    # 정밀도(precision)\n",
    "    precision = precision_score(test_y, pred)\n",
    "    # 정확도(accuracy_score)\n",
    "    accuracy = accuracy_score(test_y, pred)\n",
    "    # 재현율(recall)\n",
    "    recall = recall_score(test_y, pred)\n",
    "    # F1 score\n",
    "    f1 = f1_score(test_y, pred)\n",
    "    # G-measure -> 정밀도와 재현율의 기하평균 -> np.sqrt(recall_socre*precision_score)\n",
    "    g = np.sqrt(recall_score(test_y, pred)*precision_score(test_y, pred))\n",
    "    \n",
    "    print(f'confusion matrix:\\n{confusion}\\n')\n",
    "    print(f'accuracy: {accuracy:.4f}, precision: {precision:.4f}, recall: {recall:.4f}',end=' ')\n",
    "    print(f'F1: {f1:.4f}, G: {g:.4f}')"
   ]
  },
  {
   "cell_type": "markdown",
   "metadata": {},
   "source": [
    "#### 분류모델의 성능평가지표 결과"
   ]
  },
  {
   "cell_type": "code",
   "execution_count": 59,
   "metadata": {},
   "outputs": [
    {
     "name": "stdout",
     "output_type": "stream",
     "text": [
      "confusion matrix:\n",
      "[[105  13]\n",
      " [ 13  48]]\n",
      "\n",
      "accuracy: 0.8547, precision: 0.7869, recall: 0.7869 F1: 0.7869, G: 0.7869\n"
     ]
    }
   ],
   "source": [
    "get_eval_score(test_y, pred)"
   ]
  },
  {
   "cell_type": "markdown",
   "metadata": {},
   "source": [
    "### predict_proba() 메소드\n",
    "\n",
    ": Predict class probabilities of the input samples X"
   ]
  },
  {
   "cell_type": "code",
   "execution_count": 69,
   "metadata": {},
   "outputs": [
    {
     "data": {
      "text/plain": [
       "array([[0.46763247, 0.53236753],\n",
       "       [0.88347764, 0.11652236],\n",
       "       [0.86516647, 0.13483353],\n",
       "       [0.87550382, 0.12449618],\n",
       "       [0.85569983, 0.14430017],\n",
       "       [0.88910151, 0.11089849],\n",
       "       [0.89316134, 0.10683866],\n",
       "       [0.21703849, 0.78296151],\n",
       "       [0.79336907, 0.20663093],\n",
       "       [0.38083259, 0.61916741]])"
      ]
     },
     "execution_count": 69,
     "metadata": {},
     "output_type": "execute_result"
    }
   ],
   "source": [
    "# 첫 번째 컬럼:사망 확률(0) / 두 번째 컬럼:생존 확률(1) -> 두 확률 더하면 1\n",
    "lr_clf.predict_proba(test_x)[:10]"
   ]
  },
  {
   "cell_type": "code",
   "execution_count": 70,
   "metadata": {},
   "outputs": [
    {
     "data": {
      "text/plain": [
       "(179, 2)"
      ]
     },
     "execution_count": 70,
     "metadata": {},
     "output_type": "execute_result"
    }
   ],
   "source": [
    "lr_clf.predict_proba(test_x).shape"
   ]
  },
  {
   "cell_type": "markdown",
   "metadata": {},
   "source": [
    "predict_proba()의 결과는 예측 확률 array  \n",
    "- 첫 번째 컬럼: 0 Negative의 확률  \n",
    "- 두 번째 컬럼: 1 Positive의 확률  \n",
    "\n",
    "- 첫 번째 칼럼 값과 두 번재 칼럼 값을 더하면 1이 됨  \n",
    "[0.46162417 + 0.53837583] = 1"
   ]
  },
  {
   "cell_type": "markdown",
   "metadata": {},
   "source": [
    "### 분류 결정 임계값(threshold) 조절을 통한 평가지표 결과\n",
    "\n",
    ": Binarizer 클래스 활용\n",
    "- Binarizer(*, threshold=0.0, copy=True)\n",
    "- https://scikit-learn.org/stable/modules/generated/sklearn.preprocessing.Binarizer.html"
   ]
  },
  {
   "cell_type": "code",
   "execution_count": 72,
   "metadata": {},
   "outputs": [],
   "source": [
    "from sklearn.preprocessing import Binarizer"
   ]
  },
  {
   "cell_type": "code",
   "execution_count": 74,
   "metadata": {},
   "outputs": [
    {
     "data": {
      "text/plain": [
       "array([[0., 0., 1.],\n",
       "       [1., 0., 0.],\n",
       "       [0., 0., 1.]])"
      ]
     },
     "execution_count": 74,
     "metadata": {},
     "output_type": "execute_result"
    }
   ],
   "source": [
    "# threshold보다 작거나 같으면 0, 크면 1로 변환\n",
    "\n",
    "x = [[0.5, -1,2], [2,0,0],[0,1,1.2]]\n",
    "\n",
    "bin = Binarizer(threshold=1.0)\n",
    "bin.fit(x)\n",
    "result = bin.transform(x)\n",
    "result"
   ]
  },
  {
   "cell_type": "markdown",
   "metadata": {},
   "source": [
    "**분류 결정 임계값 0.5 기반에서 Binarizer를 이용하여 예측값 변환**"
   ]
  },
  {
   "cell_type": "code",
   "execution_count": 83,
   "metadata": {},
   "outputs": [],
   "source": [
    "pred_proba = lr_clf.predict_proba(test_x)"
   ]
  },
  {
   "cell_type": "code",
   "execution_count": 86,
   "metadata": {},
   "outputs": [
    {
     "data": {
      "text/plain": [
       "array([[1.],\n",
       "       [0.],\n",
       "       [0.],\n",
       "       [0.],\n",
       "       [0.],\n",
       "       [0.],\n",
       "       [0.],\n",
       "       [1.],\n",
       "       [0.],\n",
       "       [1.]])"
      ]
     },
     "execution_count": 86,
     "metadata": {},
     "output_type": "execute_result"
    }
   ],
   "source": [
    "pred_ = pred_proba[:,1].reshape(-1,1)\n",
    "b_pred = Binarizer(threshold=0.5).fit_transform(pred_)\n",
    "b_pred[:10]"
   ]
  },
  {
   "cell_type": "code",
   "execution_count": 87,
   "metadata": {},
   "outputs": [
    {
     "name": "stdout",
     "output_type": "stream",
     "text": [
      "confusion matrix:\n",
      "[[105  13]\n",
      " [ 13  48]]\n",
      "\n",
      "accuracy: 0.8547, precision: 0.7869, recall: 0.7869 F1: 0.7869, G: 0.7869\n"
     ]
    }
   ],
   "source": [
    "# 분류경계 임계값(threshold) = 0.5인 경우\n",
    "get_eval_score(test_y, b_pred)"
   ]
  },
  {
   "cell_type": "markdown",
   "metadata": {},
   "source": [
    "**분류 결정 임계값을 0.4로 변경**"
   ]
  },
  {
   "cell_type": "code",
   "execution_count": 114,
   "metadata": {},
   "outputs": [],
   "source": [
    "def get_eval_by_treshold(test_y, pred_proba_c1, threshold=0.5 ):\n",
    "    b_pred = Binarizer(threshold=threshold).fit_transform(pred_proba_c1)\n",
    "    print(f'threshold = {threshold}')\n",
    "    get_eval_score(test_y, b_pred)"
   ]
  },
  {
   "cell_type": "code",
   "execution_count": 100,
   "metadata": {},
   "outputs": [
    {
     "name": "stdout",
     "output_type": "stream",
     "text": [
      "threshold = 0.0\n",
      "confusion matrix:\n",
      "[[  0 118]\n",
      " [  0  61]]\n",
      "\n",
      "accuracy: 0.3408, precision: 0.3408, recall: 1.0000 F1: 0.5083, G: 0.5838\n",
      "-------------------------------------\n",
      "threshold = 0.1\n",
      "confusion matrix:\n",
      "[[23 95]\n",
      " [ 1 60]]\n",
      "\n",
      "accuracy: 0.4637, precision: 0.3871, recall: 0.9836 F1: 0.5556, G: 0.6171\n",
      "-------------------------------------\n",
      "threshold = 0.2\n",
      "confusion matrix:\n",
      "[[74 44]\n",
      " [ 6 55]]\n",
      "\n",
      "accuracy: 0.7207, precision: 0.5556, recall: 0.9016 F1: 0.6875, G: 0.7078\n",
      "-------------------------------------\n",
      "threshold = 0.30000000000000004\n",
      "confusion matrix:\n",
      "[[90 28]\n",
      " [ 8 53]]\n",
      "\n",
      "accuracy: 0.7989, precision: 0.6543, recall: 0.8689 F1: 0.7465, G: 0.7540\n",
      "-------------------------------------\n",
      "threshold = 0.4\n",
      "confusion matrix:\n",
      "[[98 20]\n",
      " [12 49]]\n",
      "\n",
      "accuracy: 0.8212, precision: 0.7101, recall: 0.8033 F1: 0.7538, G: 0.7553\n",
      "-------------------------------------\n",
      "threshold = 0.5\n",
      "confusion matrix:\n",
      "[[105  13]\n",
      " [ 13  48]]\n",
      "\n",
      "accuracy: 0.8547, precision: 0.7869, recall: 0.7869 F1: 0.7869, G: 0.7869\n",
      "-------------------------------------\n",
      "threshold = 0.6000000000000001\n",
      "confusion matrix:\n",
      "[[112   6]\n",
      " [ 17  44]]\n",
      "\n",
      "accuracy: 0.8715, precision: 0.8800, recall: 0.7213 F1: 0.7928, G: 0.7967\n",
      "-------------------------------------\n",
      "threshold = 0.7000000000000001\n",
      "confusion matrix:\n",
      "[[116   2]\n",
      " [ 28  33]]\n",
      "\n",
      "accuracy: 0.8324, precision: 0.9429, recall: 0.5410 F1: 0.6875, G: 0.7142\n",
      "-------------------------------------\n",
      "threshold = 0.8\n",
      "confusion matrix:\n",
      "[[117   1]\n",
      " [ 35  26]]\n",
      "\n",
      "accuracy: 0.7989, precision: 0.9630, recall: 0.4262 F1: 0.5909, G: 0.6407\n",
      "-------------------------------------\n",
      "threshold = 0.9\n",
      "confusion matrix:\n",
      "[[118   0]\n",
      " [ 46  15]]\n",
      "\n",
      "accuracy: 0.7430, precision: 1.0000, recall: 0.2459 F1: 0.3947, G: 0.4959\n",
      "-------------------------------------\n"
     ]
    }
   ],
   "source": [
    "for i in np.linspace(0,0.9,10):\n",
    "    get_eval_by_treshold(test_y, pred_, threshold= i)\n",
    "    print('-------------------------------------')"
   ]
  },
  {
   "attachments": {
    "image.png": {
     "image/png": "[encoded data removed]"
    }
   },
   "cell_type": "markdown",
   "metadata": {},
   "source": [
    "![image.png](attachment:image.png)"
   ]
  },
  {
   "cell_type": "markdown",
   "metadata": {},
   "source": [
    "#### 임계값(thresholds)에 따른 성능지표 변화"
   ]
  },
  {
   "cell_type": "code",
   "execution_count": 115,
   "metadata": {},
   "outputs": [],
   "source": [
    "def get_eval_by_thresholds(test_y, pred_proba_c1, thresholds):\n",
    "    for threshold in thresholds:\n",
    "        b_pred = Binarizer(threshold=threshold).fit_transform(pred_proba_c1)\n",
    "        print(f'In case: threshold = {threshold}')\n",
    "        get_eval_score(test_y, b_pred)\n",
    "        print('-------------------------------------')"
   ]
  },
  {
   "cell_type": "code",
   "execution_count": 116,
   "metadata": {
    "scrolled": true
   },
   "outputs": [
    {
     "name": "stdout",
     "output_type": "stream",
     "text": [
      "In case: threshold = 0.3\n",
      "confusion matrix:\n",
      "[[90 28]\n",
      " [ 8 53]]\n",
      "\n",
      "accuracy: 0.7989, precision: 0.6543, recall: 0.8689 F1: 0.7465, G: 0.7540\n",
      "-------------------------------------\n",
      "In case: threshold = 0.45\n",
      "confusion matrix:\n",
      "[[103  15]\n",
      " [ 13  48]]\n",
      "\n",
      "accuracy: 0.8436, precision: 0.7619, recall: 0.7869 F1: 0.7742, G: 0.7743\n",
      "-------------------------------------\n",
      "In case: threshold = 0.5\n",
      "confusion matrix:\n",
      "[[105  13]\n",
      " [ 13  48]]\n",
      "\n",
      "accuracy: 0.8547, precision: 0.7869, recall: 0.7869 F1: 0.7869, G: 0.7869\n",
      "-------------------------------------\n",
      "In case: threshold = 0.55\n",
      "confusion matrix:\n",
      "[[109   9]\n",
      " [ 15  46]]\n",
      "\n",
      "accuracy: 0.8659, precision: 0.8364, recall: 0.7541 F1: 0.7931, G: 0.7942\n",
      "-------------------------------------\n",
      "In case: threshold = 0.6\n",
      "confusion matrix:\n",
      "[[112   6]\n",
      " [ 17  44]]\n",
      "\n",
      "accuracy: 0.8715, precision: 0.8800, recall: 0.7213 F1: 0.7928, G: 0.7967\n",
      "-------------------------------------\n"
     ]
    }
   ],
   "source": [
    "thresholds = [0.3, 0.45, 0.5, 0.55, 0.6]\n",
    "get_eval_by_thresholds(test_y, pred_, thresholds)"
   ]
  },
  {
   "cell_type": "markdown",
   "metadata": {},
   "source": [
    "#### roc & auc"
   ]
  },
  {
   "cell_type": "markdown",
   "metadata": {},
   "source": [
    "- ROC_curve: FPR이 변할 때 TPR이 어떻게 변하는지를 나타내는 곡선\n",
    "    - FPR이 X축, TPR이 Y축 <br><br>\n",
    "- TPR(True Positive Rate) : 재현율과 같으며, 민감도(Sensitivity)라 부름\n",
    "    - 실제값 Positive(양성)가 정확히 예측되어야 하는 수준\n",
    "    - 예. 질병이 있는 사람이 질병이 있는 것(양성)으로 판정<br><br>\n",
    "- FPR(False Positive Rate) : 1-특이성(Specificity)\n",
    "    - 예. 질병이 없는 건강한 사람이 질병이 있는 것으로 예측되는 수준<br><br>\n",
    "- 특이성 : 실제값 Negative(음성)가 정확히 예측되어야 하는 수준\n",
    "    - 예. 질병이 없는 건강한 사람은 질병이 없는 것(음성)으로 판정"
   ]
  },
  {
   "cell_type": "code",
   "execution_count": 122,
   "metadata": {},
   "outputs": [],
   "source": [
    "fpr, tpr, thresholds = roc_curve(test_y, pred_)"
   ]
  },
  {
   "cell_type": "code",
   "execution_count": 119,
   "metadata": {},
   "outputs": [
    {
     "data": {
      "text/plain": [
       "array([0.        , 0.        , 0.        , 0.        , 0.        ,\n",
       "       0.00847458, 0.00847458, 0.01694915, 0.01694915, 0.01694915,\n",
       "       0.02542373, 0.02542373, 0.03389831, 0.03389831, 0.04237288,\n",
       "       0.04237288, 0.05084746, 0.05084746, 0.07627119, 0.07627119,\n",
       "       0.10169492, 0.10169492, 0.15254237, 0.15254237, 0.1779661 ,\n",
       "       0.1779661 , 0.18644068, 0.18644068, 0.19491525, 0.19491525,\n",
       "       0.24576271, 0.24576271, 0.3220339 , 0.34745763, 0.48305085,\n",
       "       0.5       , 0.5       , 0.53389831, 0.54237288, 0.62711864,\n",
       "       0.62711864, 0.6440678 , 0.6440678 , 0.68644068, 0.70338983,\n",
       "       0.75423729, 0.78813559, 0.80508475, 0.80508475, 0.8220339 ,\n",
       "       0.8220339 , 1.        ])"
      ]
     },
     "execution_count": 119,
     "metadata": {},
     "output_type": "execute_result"
    }
   ],
   "source": [
    "fpr"
   ]
  },
  {
   "cell_type": "code",
   "execution_count": 120,
   "metadata": {},
   "outputs": [
    {
     "data": {
      "text/plain": [
       "array([0.        , 0.01639344, 0.04918033, 0.08196721, 0.31147541,\n",
       "       0.31147541, 0.47540984, 0.47540984, 0.62295082, 0.6557377 ,\n",
       "       0.6557377 , 0.67213115, 0.67213115, 0.68852459, 0.68852459,\n",
       "       0.70491803, 0.70491803, 0.75409836, 0.75409836, 0.7704918 ,\n",
       "       0.7704918 , 0.78688525, 0.78688525, 0.80327869, 0.80327869,\n",
       "       0.81967213, 0.81967213, 0.85245902, 0.85245902, 0.86885246,\n",
       "       0.86885246, 0.90163934, 0.90163934, 0.90163934, 0.90163934,\n",
       "       0.90163934, 0.91803279, 0.91803279, 0.93442623, 0.93442623,\n",
       "       0.95081967, 0.95081967, 0.96721311, 0.96721311, 0.96721311,\n",
       "       0.96721311, 0.96721311, 0.96721311, 0.98360656, 0.98360656,\n",
       "       1.        , 1.        ])"
      ]
     },
     "execution_count": 120,
     "metadata": {},
     "output_type": "execute_result"
    }
   ],
   "source": [
    "tpr"
   ]
  },
  {
   "cell_type": "code",
   "execution_count": 123,
   "metadata": {
    "scrolled": true
   },
   "outputs": [
    {
     "data": {
      "text/plain": [
       "array([1.96904679, 0.96904679, 0.96850273, 0.96108837, 0.84911565,\n",
       "       0.84312683, 0.7699944 , 0.74366151, 0.66052314, 0.65917974,\n",
       "       0.65912586, 0.65397433, 0.64531607, 0.63499195, 0.63278683,\n",
       "       0.61916741, 0.60418248, 0.57777397, 0.55139238, 0.53236753,\n",
       "       0.51231832, 0.50230624, 0.44047528, 0.43356448, 0.39640057,\n",
       "       0.39629975, 0.39442506, 0.38005174, 0.37539747, 0.35686114,\n",
       "       0.29373056, 0.27593323, 0.22349965, 0.21769266, 0.13914983,\n",
       "       0.13914883, 0.13772949, 0.13485574, 0.1348374 , 0.12336099,\n",
       "       0.12210011, 0.11954553, 0.11652236, 0.108335  , 0.10821999,\n",
       "       0.10699032, 0.10683866, 0.10433066, 0.10148152, 0.09947876,\n",
       "       0.09947137, 0.01158539])"
      ]
     },
     "execution_count": 123,
     "metadata": {},
     "output_type": "execute_result"
    }
   ],
   "source": [
    "thresholds"
   ]
  },
  {
   "cell_type": "code",
   "execution_count": 129,
   "metadata": {},
   "outputs": [],
   "source": [
    "def roc_curve_plot(test_y, pred_proba_c1):\n",
    "    fpr,tpr,thresholds = roc_curve(test_y, pred_proba_c1)\n",
    "    plt.plot(fpr, tpr, label='ROC')\n",
    "    plt.plot([0,1],[0,1], 'k--', label='Random')\n",
    "    plt.xlabel('FPR')\n",
    "    plt.ylabel('TPR')\n",
    "    plt.legend()\n",
    "    plt.show()"
   ]
  },
  {
   "cell_type": "code",
   "execution_count": 130,
   "metadata": {},
   "outputs": [
    {
     "data": {
      "image/png": "[encoded data removed]",
      "text/plain": [
       "<Figure size 640x480 with 1 Axes>"
      ]
     },
     "metadata": {},
     "output_type": "display_data"
    }
   ],
   "source": [
    "roc_curve_plot(test_y, pred_)"
   ]
  },
  {
   "cell_type": "code",
   "execution_count": 131,
   "metadata": {},
   "outputs": [
    {
     "data": {
      "text/plain": [
       "0.9011530980828009"
      ]
     },
     "execution_count": 131,
     "metadata": {},
     "output_type": "execute_result"
    }
   ],
   "source": [
    "roc_auc_score(test_y, pred_)"
   ]
  },
  {
   "cell_type": "markdown",
   "metadata": {},
   "source": [
    "#### precision_recall_curve\n",
    "- 정밀도와 재현율은 상호 보완적인 평가 지표이기 때문에 어느 한쪽을 강제로 높이면 다른 하나의 수치는 떨어지는데 이를 정밀도/재현율의 트레이드 오프(trade-off) 라고 함\n"
   ]
  },
  {
   "cell_type": "code",
   "execution_count": 132,
   "metadata": {},
   "outputs": [],
   "source": [
    "prec, rec, thres = precision_recall_curve(test_y, pred_)"
   ]
  },
  {
   "cell_type": "code",
   "execution_count": 135,
   "metadata": {},
   "outputs": [
    {
     "data": {
      "text/plain": [
       "((166,), (166,), (165,))"
      ]
     },
     "execution_count": 135,
     "metadata": {},
     "output_type": "execute_result"
    }
   ],
   "source": [
    "prec.shape, rec.shape, thres.shape"
   ]
  },
  {
   "cell_type": "code",
   "execution_count": 140,
   "metadata": {},
   "outputs": [],
   "source": [
    "def precision_recall_curve_plot(test_y, pred_proba_c1):\n",
    "    prec, rec, thres = precision_recall_curve(test_y, pred_proba_c1)    \n",
    "    plt.plot(thres, prec[:-1], label='precision')\n",
    "    plt.plot(thres, rec[:-1], label='recall',ls='--')\n",
    "    plt.xlabel('threshold value')\n",
    "    plt.ylabel('Precision & Recall value')\n",
    "    start, end = plt.xlim()\n",
    "    plt.xticks(np.round(np.arange(start, end, 0.1),2))\n",
    "    plt.legend()\n",
    "    plt.grid()\n",
    "    plt.show()"
   ]
  },
  {
   "cell_type": "code",
   "execution_count": 141,
   "metadata": {},
   "outputs": [
    {
     "data": {
      "image/png": "[encoded data removed]",
      "text/plain": [
       "<Figure size 640x480 with 1 Axes>"
      ]
     },
     "metadata": {},
     "output_type": "display_data"
    }
   ],
   "source": [
    "precision_recall_curve_plot(test_y, pred_)"
   ]
  },
  {
   "cell_type": "markdown",
   "metadata": {},
   "source": [
    "#### 분류 평가 결과 함수 수정 : get_eval_score()"
   ]
  },
  {
   "cell_type": "code",
   "execution_count": 153,
   "metadata": {},
   "outputs": [],
   "source": [
    "def get_eval_score(test_y, pred, pred_proba_c1= None):\n",
    "    \n",
    "    # 혼동행렬(오차행렬)\n",
    "    confusion = confusion_matrix(test_y, pred)\n",
    "    # 정밀도(precision)\n",
    "    precision = precision_score(test_y, pred)\n",
    "    # 정확도(accuracy_score)\n",
    "    accuracy = accuracy_score(test_y, pred)\n",
    "    # 재현율(recall)\n",
    "    recall = recall_score(test_y, pred)\n",
    "    # F1 score\n",
    "    f1 = f1_score(test_y, pred)\n",
    "    # G-measure -> 정밀도와 재현율의 기하평균 -> np.sqrt(recall_socre*precision_score)\n",
    "    g = np.sqrt(recall_score(test_y, pred)*precision_score(test_y, pred))\n",
    "\n",
    "    print(f'confusion matrix:\\n{confusion}\\n')\n",
    "    print(f'accuracy: {accuracy:.4f}, precision: {precision:.4f}, recall: {recall:.4f}',end=' ')\n",
    "    print(f'F1: {f1:.4f}, G: {g:.4f}')\n",
    "    if pred_proba_c1 is not None:\n",
    "        auc = roc_auc_score(test_y, pred_proba_c1)\n",
    "        print(f'auc: {auc:.4f}')"
   ]
  },
  {
   "cell_type": "code",
   "execution_count": 144,
   "metadata": {},
   "outputs": [
    {
     "name": "stdout",
     "output_type": "stream",
     "text": [
      "confusion matrix:\n",
      "[[105  13]\n",
      " [ 13  48]]\n",
      "\n",
      "accuracy: 0.8547, precision: 0.7869, recall: 0.7869 F1: 0.7869, G: 0.7869\n"
     ]
    }
   ],
   "source": [
    "get_eval_score(test_y, pred)"
   ]
  },
  {
   "cell_type": "code",
   "execution_count": 154,
   "metadata": {
    "scrolled": true
   },
   "outputs": [
    {
     "name": "stdout",
     "output_type": "stream",
     "text": [
      "confusion matrix:\n",
      "[[105  13]\n",
      " [ 13  48]]\n",
      "\n",
      "accuracy: 0.8547, precision: 0.7869, recall: 0.7869 F1: 0.7869, G: 0.7869\n",
      "auc: 0.9012\n"
     ]
    }
   ],
   "source": [
    "get_eval_score(test_y, pred, pred_)"
   ]
  },
  {
   "cell_type": "markdown",
   "metadata": {},
   "source": [
    "------------------------------------------------"
   ]
  },
  {
   "cell_type": "markdown",
   "metadata": {},
   "source": [
    "- 타이타닉 데이터 전처리함수: preprocessing_features()\n",
    "- 성능평가지표: get_eval_score()\n",
    "- 정밀도와 재현율 curve plot: precision_recall_curve_plot()\n",
    "- Roc curve plot: roc_curve_plot()\n",
    "- 임계값(threshold)에 따른 성능지표 변화: get_eval_by_thresholds()"
   ]
  },
  {
   "cell_type": "code",
   "execution_count": 166,
   "metadata": {},
   "outputs": [],
   "source": [
    "# 이진 분류\n",
    "# 결측치 처리\n",
    "def fill_na(df):\n",
    "    df['Age'].fillna(df['Age'].mean(), inplace=True)\n",
    "    df['Cabin'].fillna('N', inplace=True)\n",
    "    df['Embarked'].fillna('N', inplace=True)\n",
    "    return df\n",
    "\n",
    "# 레이블 인코딩\n",
    "def encode_features(df):\n",
    "    df['Cabin'] = df['Cabin'].str[:1]\n",
    "    for ftr in ['Sex','Cabin','Embarked']: \n",
    "        encoder = LabelEncoder()\n",
    "        encoder.fit(df[ftr])\n",
    "        df[ftr] = encoder.transform(df[ftr])\n",
    "    return df\n",
    "\n",
    "# 원핫인코딩\n",
    "def encode_features2(df):\n",
    "    df['Cabin'] = df['Cabin'].str[:1]\n",
    "    ftrs = ['Sex','Cabin','Embarked']\n",
    "    dummy = pd.get_dummies(df[ftrs], dtype='int')\n",
    "    df.drop(ftrs, axis=1,inplace=True)\n",
    "    df = pd.concat([df, dummy], axis=1)\n",
    "    return df\n",
    "    \n",
    "# 불필요 열 삭제\n",
    "def drop_features(df):\n",
    "    df.drop(['PassengerId', 'Name', 'Ticket'], axis=1, inplace=True)\n",
    "    return df\n",
    "\n",
    "# 전처리 함수 / 라벨인코딩 적용\n",
    "def preprocessing_features(df):\n",
    "    df = fill_na(df)\n",
    "    df = drop_features(df)\n",
    "    df = encode_features(df)\n",
    "    return df\n",
    "\n",
    "# 전처리 함수 / 원핫인코딩 적용\n",
    "def preprocessing_features2(df):\n",
    "    df = fill_na(df)\n",
    "    df = drop_features(df)\n",
    "    df = encode_features2(df)\n",
    "    return df"
   ]
  },
  {
   "cell_type": "code",
   "execution_count": null,
   "metadata": {},
   "outputs": [],
   "source": [
    "def get_eval_score(test_y, pred, pred_proba_c1= None):\n",
    "    \n",
    "    # 혼동행렬(오차행렬)\n",
    "    confusion = confusion_matrix(test_y, pred)\n",
    "    # 정밀도(precision)\n",
    "    precision = precision_score(test_y, pred)\n",
    "    # 정확도(accuracy_score)\n",
    "    accuracy = accuracy_score(test_y, pred)\n",
    "    # 재현율(recall)\n",
    "    recall = recall_score(test_y, pred)\n",
    "    # F1 score\n",
    "    f1 = f1_score(test_y, pred)\n",
    "    # G-measure -> 정밀도와 재현율의 기하평균 -> np.sqrt(recall_socre*precision_score)\n",
    "    g = np.sqrt(recall_score(test_y, pred)*precision_score(test_y, pred))\n",
    "\n",
    "    print(f'confusion matrix:\\n{confusion}\\n')\n",
    "    print(f'accuracy: {accuracy:.4f}, precision: {precision:.4f}, recall: {recall:.4f}',end=' ')\n",
    "    print(f'F1: {f1:.4f}, G: {g:.4f}')\n",
    "    if pred_proba_c1 is not None:\n",
    "        auc = roc_auc_score(test_y, pred_proba_c1)\n",
    "        print(f'auc: {auc:.4f}')"
   ]
  },
  {
   "cell_type": "code",
   "execution_count": null,
   "metadata": {},
   "outputs": [],
   "source": [
    "def precision_recall_curve_plot(test_y, pred_proba_c1):\n",
    "    prec, rec, thres = precision_recall_curve(test_y, pred_proba_c1)    \n",
    "    plt.plot(thres, prec[:-1], label='precision')\n",
    "    plt.plot(thres, rec[:-1], label='recall',ls='--')\n",
    "    plt.xlabel('threshold value')\n",
    "    plt.ylabel('Precision & Recall value')\n",
    "    start, end = plt.xlim()\n",
    "    plt.xticks(np.round(np.arange(start, end, 0.1),2))\n",
    "    plt.legend()\n",
    "    plt.grid()\n",
    "    plt.show()"
   ]
  },
  {
   "cell_type": "code",
   "execution_count": null,
   "metadata": {},
   "outputs": [],
   "source": [
    "def roc_curve_plot(test_y, pred_proba_c1):\n",
    "    fpr,tpr,thresholds = roc_curve(test_y, pred_proba_c1)\n",
    "    plt.plot(fpr, tpr, label='ROC')\n",
    "    plt.plot([0,1],[0,1], 'k--', label='Random')\n",
    "    plt.xlabel('FPR')\n",
    "    plt.ylabel('TPR')\n",
    "    plt.legend()\n",
    "    plt.show()"
   ]
  },
  {
   "cell_type": "code",
   "execution_count": 167,
   "metadata": {},
   "outputs": [],
   "source": [
    "# 임계값을 따른 성능지표\n",
    "from sklearn.preprocessing import Binarizer\n",
    "# thresholds는 0~1을 따름\n",
    "def get_eval_by_thresholds(test_y, pred_proba_c1, thresholds):\n",
    "    for threshold in thresholds:\n",
    "        b_pred = Binarizer(threshold=threshold).fit_transform(pred_proba_c1)\n",
    "        print(f'In case: threshold = {threshold}')\n",
    "        get_eval_score(test_y, b_pred)\n",
    "        print('-------------------------------------')"
   ]
  },
  {
   "cell_type": "markdown",
   "metadata": {},
   "source": [
    "### 문제.\n",
    "\n",
    "타이타닉 데이터를 결정트리와 로지스틱 회귀를 이용하여 생존자를 예측하고, 예측 성능 결과를 앞에서 작성한 get_eval_score()를 이용하여 생성하고 어떤 모델이 좋은 결과를 냈는지 비교하시오.\n",
    "\n",
    "- 데이터 전처리에서 범주형 데이터는 원-핫 인코딩을 사용한 경우와 라벨 인코딩을 사용한 경우로 나누어 각각 모델을 학습하고 예측한 결과를 비교하시오.\n",
    "\n",
    "    1. [#Case1] 모델: 로지스틱회귀, 전처리 : 라벨인코딩 적용\n",
    "    2. [#Case2] 모델: 로지스틱회귀, 전처리 : 원핫인코딩 적용\n",
    "    3. [#Case3] 모델: 결정트리, 전처리 : 라벨인코딩 적용\n",
    "    4. [#Case4] 모델: 결정트리, 전처리 : 원핫인코딩 적용\n"
   ]
  },
  {
   "cell_type": "code",
   "execution_count": 158,
   "metadata": {},
   "outputs": [],
   "source": [
    "from sklearn.tree import DecisionTreeClassifier\n",
    "from sklearn.linear_model import LogisticRegression\n",
    "from sklearn.preprocessing import LabelEncoder"
   ]
  },
  {
   "cell_type": "code",
   "execution_count": 159,
   "metadata": {},
   "outputs": [],
   "source": [
    "dt_clf = DecisionTreeClassifier()\n",
    "lr_clf = LogisticRegression()"
   ]
  },
  {
   "cell_type": "code",
   "execution_count": null,
   "metadata": {},
   "outputs": [],
   "source": [
    "titanic = pd.read_csv('data/titanic/train.csv')\n",
    "\n",
    "# 라벨 인코딩\n",
    "titanic_tr1 =preprocessing_features()\n",
    "x1 = titanic_tr1.drop('Survived', axis=1)\n",
    "y1 = titanic_tr1.Survived\n",
    "\n",
    "# 원핫인코딩\n",
    "titanic_tr2 =preprocessing_features2()\n",
    "x2 = titanic_tr2.drop('Survived', axis=1)\n",
    "y2 = titanic_tr2.Survived\n",
    "\n",
    "# 학습데이터/테스트 데이터 분할\n",
    "train_x, test_x, train_y, test_y = train_test_split(x,y, test_size=0.2, random_state=11)"
   ]
  },
  {
   "cell_type": "markdown",
   "metadata": {},
   "source": [
    "-----"
   ]
  }
 ],
 "metadata": {
  "kernelspec": {
   "display_name": "Python 3 (ipykernel)",
   "language": "python",
   "name": "python3"
  },
  "language_info": {
   "codemirror_mode": {
    "name": "ipython",
    "version": 3
   },
   "file_extension": ".py",
   "mimetype": "text/x-python",
   "name": "python",
   "nbconvert_exporter": "python",
   "pygments_lexer": "ipython3",
   "version": "3.11.7"
  }
 },
 "nbformat": 4,
 "nbformat_minor": 4
}
