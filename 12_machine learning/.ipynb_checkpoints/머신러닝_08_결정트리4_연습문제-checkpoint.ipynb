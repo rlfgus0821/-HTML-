{
 "cells": [
  {
   "cell_type": "markdown",
   "metadata": {},
   "source": [
    "## 연습문제. 결정트리"
   ]
  },
  {
   "cell_type": "code",
   "execution_count": 1,
   "metadata": {},
   "outputs": [],
   "source": [
    "import numpy as np\n",
    "import pandas as pd\n",
    "import matplotlib.pyplot as plt\n",
    "import seaborn as sns\n",
    "from sklearn.preprocessing import LabelEncoder\n",
    "from sklearn.tree import DecisionTreeClassifier\n",
    "from sklearn.model_selection import train_test_split\n",
    "from sklearn.metrics import confusion_matrix, accuracy_score, precision_score, recall_score\n",
    "from sklearn.metrics import f1_score, roc_auc_score, precision_recall_curve, roc_curve\n",
    "from sklearn.model_selection import cross_val_score\n",
    "from sklearn.model_selection import GridSearchCV"
   ]
  },
  {
   "cell_type": "code",
   "execution_count": 2,
   "metadata": {},
   "outputs": [],
   "source": [
    "import warnings\n",
    "warnings.filterwarnings('ignore')"
   ]
  },
  {
   "cell_type": "markdown",
   "metadata": {},
   "source": [
    "### 실습문제: 타이타닉 데이터에 대한 결정트리를 생성하고 예측하시오."
   ]
  },
  {
   "cell_type": "markdown",
   "metadata": {},
   "source": [
    "#### 1. 필요한 모듈 임포트"
   ]
  },
  {
   "cell_type": "code",
   "execution_count": 3,
   "metadata": {},
   "outputs": [],
   "source": [
    "titanic = pd.read_csv('data/titanic/train.csv')"
   ]
  },
  {
   "cell_type": "markdown",
   "metadata": {},
   "source": [
    "#### 2. 데이터 로딩 및 데이터 전처리\n",
    "\n",
    "- 라벨인코딩만 사용"
   ]
  },
  {
   "cell_type": "code",
   "execution_count": 4,
   "metadata": {},
   "outputs": [],
   "source": [
    "# 이진 분류\n",
    "# 결측치 처리\n",
    "def fill_na(df):\n",
    "    df['Age'].fillna(df['Age'].mean(), inplace=True)\n",
    "    df['Cabin'].fillna('N', inplace=True)\n",
    "    df['Embarked'].fillna('N', inplace=True)\n",
    "    return df\n",
    "\n",
    "# 레이블 인코딩\n",
    "def encode_features(df):\n",
    "    df['Cabin'] = df['Cabin'].str[:1]\n",
    "    for ftr in ['Sex','Cabin','Embarked']: \n",
    "        encoder = LabelEncoder()\n",
    "        encoder.fit(df[ftr])\n",
    "        df[ftr] = encoder.transform(df[ftr])\n",
    "    return df\n",
    "\n",
    "# 원핫인코딩\n",
    "def encode_features2(df):\n",
    "    df['Cabin'] = df['Cabin'].str[:1]\n",
    "    ftrs = ['Sex','Cabin','Embarked']\n",
    "    dummy = pd.get_dummies(df[ftrs], dtype='int')\n",
    "    df.drop(ftrs, axis=1,inplace=True)\n",
    "    df = pd.concat([df, dummy], axis=1)\n",
    "    return df\n",
    "    \n",
    "# 불필요 열 삭제\n",
    "def drop_features(df):\n",
    "    df.drop(['PassengerId', 'Name', 'Ticket'], axis=1, inplace=True)\n",
    "    return df\n",
    "\n",
    "# 전처리 함수 / 라벨인코딩 적용\n",
    "def preprocessing_features(df):\n",
    "    df = fill_na(df)\n",
    "    df = drop_features(df)\n",
    "    df = encode_features(df)\n",
    "    return df\n",
    "\n",
    "# 전처리 함수 / 원핫인코딩 적용\n",
    "def preprocessing_features2(df):\n",
    "    df = fill_na(df)\n",
    "    df = drop_features(df)\n",
    "    df = encode_features2(df)\n",
    "    return df"
   ]
  },
  {
   "cell_type": "code",
   "execution_count": 5,
   "metadata": {},
   "outputs": [
    {
     "data": {
      "text/html": [
       "<div>\n",
       "<style scoped>\n",
       "    .dataframe tbody tr th:only-of-type {\n",
       "        vertical-align: middle;\n",
       "    }\n",
       "\n",
       "    .dataframe tbody tr th {\n",
       "        vertical-align: top;\n",
       "    }\n",
       "\n",
       "    .dataframe thead th {\n",
       "        text-align: right;\n",
       "    }\n",
       "</style>\n",
       "<table border=\"1\" class=\"dataframe\">\n",
       "  <thead>\n",
       "    <tr style=\"text-align: right;\">\n",
       "      <th></th>\n",
       "      <th>Survived</th>\n",
       "      <th>Pclass</th>\n",
       "      <th>Sex</th>\n",
       "      <th>Age</th>\n",
       "      <th>SibSp</th>\n",
       "      <th>Parch</th>\n",
       "      <th>Fare</th>\n",
       "      <th>Cabin</th>\n",
       "      <th>Embarked</th>\n",
       "    </tr>\n",
       "  </thead>\n",
       "  <tbody>\n",
       "    <tr>\n",
       "      <th>0</th>\n",
       "      <td>0</td>\n",
       "      <td>3</td>\n",
       "      <td>1</td>\n",
       "      <td>22.0</td>\n",
       "      <td>1</td>\n",
       "      <td>0</td>\n",
       "      <td>7.2500</td>\n",
       "      <td>7</td>\n",
       "      <td>3</td>\n",
       "    </tr>\n",
       "    <tr>\n",
       "      <th>1</th>\n",
       "      <td>1</td>\n",
       "      <td>1</td>\n",
       "      <td>0</td>\n",
       "      <td>38.0</td>\n",
       "      <td>1</td>\n",
       "      <td>0</td>\n",
       "      <td>71.2833</td>\n",
       "      <td>2</td>\n",
       "      <td>0</td>\n",
       "    </tr>\n",
       "    <tr>\n",
       "      <th>2</th>\n",
       "      <td>1</td>\n",
       "      <td>3</td>\n",
       "      <td>0</td>\n",
       "      <td>26.0</td>\n",
       "      <td>0</td>\n",
       "      <td>0</td>\n",
       "      <td>7.9250</td>\n",
       "      <td>7</td>\n",
       "      <td>3</td>\n",
       "    </tr>\n",
       "  </tbody>\n",
       "</table>\n",
       "</div>"
      ],
      "text/plain": [
       "   Survived  Pclass  Sex   Age  SibSp  Parch     Fare  Cabin  Embarked\n",
       "0         0       3    1  22.0      1      0   7.2500      7         3\n",
       "1         1       1    0  38.0      1      0  71.2833      2         0\n",
       "2         1       3    0  26.0      0      0   7.9250      7         3"
      ]
     },
     "execution_count": 5,
     "metadata": {},
     "output_type": "execute_result"
    }
   ],
   "source": [
    "titanic_cl = preprocessing_features(titanic)\n",
    "titanic_cl.head(3)"
   ]
  },
  {
   "cell_type": "code",
   "execution_count": 6,
   "metadata": {},
   "outputs": [
    {
     "name": "stdout",
     "output_type": "stream",
     "text": [
      "<class 'pandas.core.frame.DataFrame'>\n",
      "RangeIndex: 891 entries, 0 to 890\n",
      "Data columns (total 9 columns):\n",
      " #   Column    Non-Null Count  Dtype  \n",
      "---  ------    --------------  -----  \n",
      " 0   Survived  891 non-null    int64  \n",
      " 1   Pclass    891 non-null    int64  \n",
      " 2   Sex       891 non-null    int32  \n",
      " 3   Age       891 non-null    float64\n",
      " 4   SibSp     891 non-null    int64  \n",
      " 5   Parch     891 non-null    int64  \n",
      " 6   Fare      891 non-null    float64\n",
      " 7   Cabin     891 non-null    int32  \n",
      " 8   Embarked  891 non-null    int32  \n",
      "dtypes: float64(2), int32(3), int64(4)\n",
      "memory usage: 52.3 KB\n"
     ]
    }
   ],
   "source": [
    "x = titanic_cl.drop('Survived', axis=1)\n",
    "y = titanic_cl.Survived\n",
    "titanic_cl.info()"
   ]
  },
  {
   "cell_type": "markdown",
   "metadata": {},
   "source": [
    "#### 3. 제약조건을 주지 않은 경우의 결정트리 생성\n",
    "\n",
    "- feature importances 시각화\n",
    "- depth와 leaf 노드수를 출력"
   ]
  },
  {
   "cell_type": "code",
   "execution_count": 13,
   "metadata": {},
   "outputs": [],
   "source": [
    "def plot_importance(clf, feature_names):\n",
    "    importances = clf.feature_importances_\n",
    "    idx = list(reversed(np.argsort(importances)))\n",
    "    ftr_names = [feature_names[i] for i in idx]\n",
    "    plt.figure(figsize=(5,3))\n",
    "    sns.barplot(x=importances[idx], y= ftr_names)\n",
    "    plt.title('Feature Importances')\n",
    "    plt.show()"
   ]
  },
  {
   "cell_type": "code",
   "execution_count": 17,
   "metadata": {},
   "outputs": [
    {
     "name": "stdout",
     "output_type": "stream",
     "text": [
      "depth: 21, leaf노드 수: 171\n"
     ]
    },
    {
     "data": {
      "image/png": "[encoded data removed]",
      "text/plain": [
       "<Figure size 500x300 with 1 Axes>"
      ]
     },
     "metadata": {},
     "output_type": "display_data"
    }
   ],
   "source": [
    "# feature importances 시각화\n",
    "\n",
    "train_x, test_x, train_y, test_y = train_test_split(x,y, test_size=0.2, random_state=0)\n",
    "dt_clf = DecisionTreeClassifier(random_state=0)\n",
    "dt_clf.fit(train_x, train_y)\n",
    "\n",
    "# depth와 leaf 노드수를 출력\n",
    "print(f'depth: {dt_clf.get_depth()}, leaf노드 수: {dt_clf.get_n_leaves()}')\n",
    "\n",
    "plot_importance(dt_clf, train_x.columns)"
   ]
  },
  {
   "cell_type": "markdown",
   "metadata": {},
   "source": [
    "#### 4. max_depth를 2에서 20까지 변화시켜가면서 가장 최적의 결과를 주는 max_depth 찾기\n",
    "- 성능지표는 roc_auc_score를 사용\n",
    "- cross_val_score를 사용"
   ]
  },
  {
   "cell_type": "code",
   "execution_count": 9,
   "metadata": {},
   "outputs": [
    {
     "name": "stdout",
     "output_type": "stream",
     "text": [
      "max_depth2: roc_auc_score의 평균: 0.8121\n",
      "max_depth3: roc_auc_score의 평균: 0.8379\n",
      "max_depth4: roc_auc_score의 평균: 0.8414\n",
      "max_depth5: roc_auc_score의 평균: 0.8399\n",
      "max_depth6: roc_auc_score의 평균: 0.8254\n",
      "max_depth7: roc_auc_score의 평균: 0.8100\n",
      "max_depth8: roc_auc_score의 평균: 0.7944\n",
      "max_depth9: roc_auc_score의 평균: 0.7981\n",
      "max_depth10: roc_auc_score의 평균: 0.7655\n",
      "max_depth11: roc_auc_score의 평균: 0.7750\n",
      "max_depth12: roc_auc_score의 평균: 0.7666\n",
      "max_depth13: roc_auc_score의 평균: 0.7664\n",
      "max_depth14: roc_auc_score의 평균: 0.7738\n",
      "max_depth15: roc_auc_score의 평균: 0.7744\n",
      "max_depth16: roc_auc_score의 평균: 0.7756\n",
      "max_depth17: roc_auc_score의 평균: 0.7742\n",
      "max_depth18: roc_auc_score의 평균: 0.7736\n",
      "max_depth19: roc_auc_score의 평균: 0.7761\n",
      "max_depth20: roc_auc_score의 평균: 0.7776\n",
      "-------------------------------------------\n",
      "가장 최적의 max_depth = 4, roc_auc_score: 0.8414\n"
     ]
    }
   ],
   "source": [
    "score = 0\n",
    "depth = 0\n",
    "for i in range(2,21):\n",
    "    dt_clf = DecisionTreeClassifier(max_depth=i, random_state=0)\n",
    "    scores = cross_val_score(dt_clf, x, y, cv=5, scoring='roc_auc')\n",
    "    mean = np.mean(scores)\n",
    "    print(f'max_depth{i}: roc_auc_score의 평균: {mean:.4f}')\n",
    "    \n",
    "    if mean > score:\n",
    "        score = mean\n",
    "        depth = i\n",
    "\n",
    "print('-------------------------------------------')\n",
    "print(f'가장 최적의 max_depth = {depth}, roc_auc_score: {score:.4f}')"
   ]
  },
  {
   "cell_type": "markdown",
   "metadata": {},
   "source": [
    "#### 5. GridSearchCV를 이용하여 최적의 성능을 가지는 하이퍼파라미터 찾기\n",
    "- min_samples_splits = {2, 4, 8, 16, 24}\n",
    "- max_depth = {2, 4, 6, 8, 10}\n",
    "- min_samples_leaf = {1, 3, 5, 7, 9, 15}\n",
    "- 성능지표는 roc_auc_score로 지정"
   ]
  },
  {
   "cell_type": "code",
   "execution_count": 20,
   "metadata": {},
   "outputs": [
    {
     "name": "stdout",
     "output_type": "stream",
     "text": [
      "최적의 하이퍼파라미터: {'max_depth': 4, 'min_samples_leaf': 15, 'min_samples_split': 2}\n",
      "최적의 교차 검증 정확도: 0.8365\n",
      "\n",
      "최적의 Estimator: DecisionTreeClassifier(max_depth=4, min_samples_leaf=15, random_state=0)\n",
      "\n"
     ]
    }
   ],
   "source": [
    "params={'max_depth': [2,4,6,8,10], 'min_samples_split':[2, 4, 8, 16, 24],'min_samples_leaf': [1, 3, 5, 7, 9, 15]}\n",
    "dt_clf = DecisionTreeClassifier(random_state=0)\n",
    "grid = GridSearchCV(dt_clf, param_grid=params, cv=3, scoring='roc_auc')\n",
    "\n",
    "grid.fit(train_x, train_y)\n",
    "best_dt = grid.best_estimator_\n",
    "\n",
    "print(f'최적의 하이퍼파라미터: {grid.best_params_}')\n",
    "print(f'최적의 교차 검증 정확도: {grid.best_score_:.4f}\\n')\n",
    "print(f'최적의 Estimator: {grid.best_estimator_}\\n')"
   ]
  },
  {
   "cell_type": "markdown",
   "metadata": {},
   "source": [
    "#### 6. 5번에서 찾은 최적의 성능을 갖는 estimator를 이용하여 예측 평가"
   ]
  },
  {
   "cell_type": "code",
   "execution_count": 11,
   "metadata": {},
   "outputs": [],
   "source": [
    "# 다진 분류 모델의 성능지표 -> average='macro'\n",
    "from sklearn.metrics import confusion_matrix, accuracy_score, precision_score\n",
    "from sklearn.metrics import recall_score, f1_score, roc_auc_score\n",
    "\n",
    "def get_eval_score2(test_y, pred, pred_proba = None):\n",
    "    \n",
    "    # 혼동행렬(오차행렬)\n",
    "    confusion = confusion_matrix(test_y, pred)\n",
    "    # 정밀도(precision)\n",
    "    precision = precision_score(test_y, pred, average='macro')\n",
    "    # 정확도(accuracy_score)\n",
    "    accuracy = accuracy_score(test_y, pred)\n",
    "    # 재현율(recall)\n",
    "    recall = recall_score(test_y, pred, average='macro')\n",
    "    # F1 score\n",
    "    f1 = f1_score(test_y, pred, average='macro')\n",
    "    # G-measure -> 정밀도와 재현율의 기하평균 -> np.sqrt(recall_socre*precision_score)\n",
    "    g = np.sqrt(recall * precision)\n",
    "\n",
    "    print(f'confusion matrix:\\n{confusion}\\n')\n",
    "    print(f'accuracy: {accuracy:.4f}, precision: {precision:.4f}, recall: {recall:.4f}',end=' ')\n",
    "    print(f'F1: {f1:.4f}, G: {g:.4f}')\n",
    "    if pred_proba is not None:\n",
    "        auc = roc_auc_score(test_y, pred_proba, average='macro', multi_class='ovo')\n",
    "        print(f'auc: {auc:.4f}')\n",
    "    print()"
   ]
  },
  {
   "cell_type": "code",
   "execution_count": 21,
   "metadata": {},
   "outputs": [
    {
     "name": "stdout",
     "output_type": "stream",
     "text": [
      "confusion matrix:\n",
      "[[95 15]\n",
      " [17 52]]\n",
      "\n",
      "accuracy: 0.8212, precision: 0.8122, recall: 0.8086 F1: 0.8103, G: 0.8104\n",
      "\n"
     ]
    }
   ],
   "source": [
    "dt_clf1 = grid.best_estimator_\n",
    "\n",
    "dt_clf1.fit(train_x, train_y)\n",
    "pred_y = dt_clf1.predict(test_x)\n",
    "get_eval_score2(test_y, pred_y)"
   ]
  },
  {
   "cell_type": "markdown",
   "metadata": {},
   "source": [
    "----------------------------------"
   ]
  }
 ],
 "metadata": {
  "kernelspec": {
   "display_name": "Python 3 (ipykernel)",
   "language": "python",
   "name": "python3"
  },
  "language_info": {
   "codemirror_mode": {
    "name": "ipython",
    "version": 3
   },
   "file_extension": ".py",
   "mimetype": "text/x-python",
   "name": "python",
   "nbconvert_exporter": "python",
   "pygments_lexer": "ipython3",
   "version": "3.11.7"
  }
 },
 "nbformat": 4,
 "nbformat_minor": 4
}
