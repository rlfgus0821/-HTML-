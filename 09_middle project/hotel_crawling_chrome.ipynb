{
 "cells": [
  {
   "cell_type": "code",
   "execution_count": 1,
   "id": "d6fc3b58-c0e5-4ad3-9f0c-944fca92fe1b",
   "metadata": {},
   "outputs": [],
   "source": [
    "import requests\n",
    "from bs4 import BeautifulSoup\n",
    "import numpy as np\n",
    "import pandas as pd\n",
    "import selenium\n",
    "from selenium import webdriver\n",
    "from selenium.webdriver.common.by import By\n",
    "from selenium.webdriver.chrome.service import Service\n",
    "from webdriver_manager.chrome import ChromeDriverManager\n",
    "from selenium.webdriver.support.ui import WebDriverWait\n",
    "from selenium.webdriver.support import expected_conditions as EC\n",
    "\n",
    "from selenium.common.exceptions import NoSuchElementException,StaleElementReferenceException\n",
    "from selenium.webdriver.common.action_chains import ActionChains"
   ]
  },
  {
   "cell_type": "markdown",
   "id": "af96fb40-6b3e-4f12-a87f-632b70b7b400",
   "metadata": {},
   "source": [
    "## 크롬 드라이버 객체 생성"
   ]
  },
  {
   "cell_type": "code",
   "execution_count": 2,
   "id": "2d1a6863-5f80-46c2-8226-7eff720de35c",
   "metadata": {},
   "outputs": [],
   "source": [
    "service = Service(executable_path=ChromeDriverManager().install())"
   ]
  },
  {
   "cell_type": "code",
   "execution_count": 3,
   "id": "21e6e388-1ee3-4ea8-90df-529b162c03f6",
   "metadata": {},
   "outputs": [],
   "source": [
    "driver = webdriver.Chrome(service=service)"
   ]
  },
  {
   "cell_type": "markdown",
   "id": "45016151-ae51-4257-af71-76868fc31bcf",
   "metadata": {},
   "source": [
    "### 웹페이지 로드(여기어때)"
   ]
  },
  {
   "cell_type": "code",
   "execution_count": 4,
   "id": "23ed835f-a527-43ee-b0fd-897989db876e",
   "metadata": {},
   "outputs": [],
   "source": [
    "# 여기어때\n",
    "url = 'https://www.yeogi.com/'\n",
    "driver.get(url)"
   ]
  },
  {
   "cell_type": "code",
   "execution_count": 5,
   "id": "a8be6b05-c7e9-4d78-884f-f46f32a83032",
   "metadata": {},
   "outputs": [
    {
     "data": {
      "text/plain": [
       "['//*[@id=\"__next\"]/main/section[10]/article/div[1]/a',\n",
       " '//*[@id=\"__next\"]/main/section[10]/article/div[2]/a',\n",
       " '//*[@id=\"__next\"]/main/section[10]/article/div[3]/a',\n",
       " '//*[@id=\"__next\"]/main/section[10]/article/div[4]/a',\n",
       " '//*[@id=\"__next\"]/main/section[10]/article/div[5]/a',\n",
       " '//*[@id=\"__next\"]/main/section[10]/article/div[6]/a',\n",
       " '//*[@id=\"__next\"]/main/section[10]/article/div[7]/a',\n",
       " '//*[@id=\"__next\"]/main/section[10]/article/div[8]/a',\n",
       " '//*[@id=\"__next\"]/main/section[10]/article/div[9]/a',\n",
       " '//*[@id=\"__next\"]/main/section[10]/article/div[10]/a',\n",
       " '//*[@id=\"__next\"]/main/section[10]/article/div[11]/a',\n",
       " '//*[@id=\"__next\"]/main/section[10]/article/div[12]/a',\n",
       " '//*[@id=\"__next\"]/main/section[10]/article/div[13]/a',\n",
       " '//*[@id=\"__next\"]/main/section[10]/article/div[14]/a',\n",
       " '//*[@id=\"__next\"]/main/section[10]/article/div[15]/a',\n",
       " '//*[@id=\"__next\"]/main/section[10]/article/div[16]/a',\n",
       " '//*[@id=\"__next\"]/main/section[10]/article/div[17]/a']"
      ]
     },
     "execution_count": 5,
     "metadata": {},
     "output_type": "execute_result"
    }
   ],
   "source": [
    "# 국내 여행지 접근 xpaths\n",
    "xpaths_place = []\n",
    "for i in np.arange(1,18):\n",
    "    xpaths_place.append('//*[@id=\"__next\"]/main/section[10]/article/div[' + str(i) + ']/a')\n",
    "xpaths_place"
   ]
  },
  {
   "cell_type": "markdown",
   "id": "62ff8eda-2014-41ea-b20c-e6ec02cc40ba",
   "metadata": {},
   "source": [
    "# 호텔 & 리조트 버튼 클릭하여 목록 보기\n",
    "\n",
    "xpath = '//*[@id=\"category2\"]/div/div[2]/div[3]/button'\n",
    "hotel_click = WebDriverWait(driver, 10).until(EC.element_to_be_clickable((By.XPATH, xpath)))\n",
    "hotel_click.click()"
   ]
  },
  {
   "cell_type": "code",
   "execution_count": 6,
   "id": "039e75e1-f56a-45e6-a7a5-d65b4edd852b",
   "metadata": {},
   "outputs": [
    {
     "data": {
      "text/plain": [
       "['//*[@id=\"__next\"]/div[1]/main/section/div[2]/a[1]',\n",
       " '//*[@id=\"__next\"]/div[1]/main/section/div[2]/a[2]',\n",
       " '//*[@id=\"__next\"]/div[1]/main/section/div[2]/a[3]',\n",
       " '//*[@id=\"__next\"]/div[1]/main/section/div[2]/a[4]',\n",
       " '//*[@id=\"__next\"]/div[1]/main/section/div[2]/a[5]',\n",
       " '//*[@id=\"__next\"]/div[1]/main/section/div[2]/a[6]',\n",
       " '//*[@id=\"__next\"]/div[1]/main/section/div[2]/a[7]',\n",
       " '//*[@id=\"__next\"]/div[1]/main/section/div[2]/a[8]',\n",
       " '//*[@id=\"__next\"]/div[1]/main/section/div[2]/a[9]',\n",
       " '//*[@id=\"__next\"]/div[1]/main/section/div[2]/a[10]',\n",
       " '//*[@id=\"__next\"]/div[1]/main/section/div[2]/a[11]',\n",
       " '//*[@id=\"__next\"]/div[1]/main/section/div[2]/a[12]',\n",
       " '//*[@id=\"__next\"]/div[1]/main/section/div[2]/a[13]',\n",
       " '//*[@id=\"__next\"]/div[1]/main/section/div[2]/a[14]',\n",
       " '//*[@id=\"__next\"]/div[1]/main/section/div[2]/a[15]',\n",
       " '//*[@id=\"__next\"]/div[1]/main/section/div[2]/a[16]',\n",
       " '//*[@id=\"__next\"]/div[1]/main/section/div[2]/a[17]',\n",
       " '//*[@id=\"__next\"]/div[1]/main/section/div[2]/a[18]',\n",
       " '//*[@id=\"__next\"]/div[1]/main/section/div[2]/a[19]',\n",
       " '//*[@id=\"__next\"]/div[1]/main/section/div[2]/a[20]',\n",
       " '//*[@id=\"__next\"]/div[1]/main/section/div[2]/a[21]']"
      ]
     },
     "execution_count": 6,
     "metadata": {},
     "output_type": "execute_result"
    }
   ],
   "source": [
    "# 각 호텔 들어가는 xpath\n",
    "xpath_select_hotels = []\n",
    "for i in np.arange(1,22):\n",
    "    xpath_select_hotels.append('//*[@id=\"__next\"]/div[1]/main/section/div[2]/a[' + str(i) + ']')\n",
    "xpath_select_hotels"
   ]
  },
  {
   "cell_type": "code",
   "execution_count": 7,
   "id": "9aac9414-4efe-4e9f-ac3a-4cb08d0a0ceb",
   "metadata": {},
   "outputs": [
    {
     "data": {
      "text/plain": [
       "['//*[@id=\"__next\"]/div[1]/main/section/div[2]/div/div/div/button[3]',\n",
       " '//*[@id=\"__next\"]/div[1]/main/section/div[2]/div/div/div/button[4]',\n",
       " '//*[@id=\"__next\"]/div[1]/main/section/div[2]/div/div/div/button[5]',\n",
       " '//*[@id=\"__next\"]/div[1]/main/section/div[2]/div/div/div/button[6]',\n",
       " '//*[@id=\"__next\"]/div[1]/main/section/div[2]/div/div/div/button[7]']"
      ]
     },
     "execution_count": 7,
     "metadata": {},
     "output_type": "execute_result"
    }
   ],
   "source": [
    "# 버튼은 1~7(최대) 1번과 7번은 이동화살표, 1,2 번 스킵\n",
    "# 호텔 리스트 페이지 이동 접근 xpath\n",
    "xpath_select_button_hotels = []\n",
    "for i in np.arange(3,8):\n",
    "    xpath_select_button_hotels.append('//*[@id=\"__next\"]/div[1]/main/section/div[2]/div/div/div/button[' + str(i) + ']')\n",
    "xpath_select_button_hotels"
   ]
  },
  {
   "cell_type": "code",
   "execution_count": 8,
   "id": "b14e798b-2ff9-40fe-84c7-3fefef90284f",
   "metadata": {},
   "outputs": [
    {
     "data": {
      "text/plain": [
       "['//*[@id=\"review\"]/div[8]/div/div/button[3]',\n",
       " '//*[@id=\"review\"]/div[8]/div/div/button[4]',\n",
       " '//*[@id=\"review\"]/div[8]/div/div/button[5]',\n",
       " '//*[@id=\"review\"]/div[8]/div/div/button[6]',\n",
       " '//*[@id=\"review\"]/div[8]/div/div/button[7]']"
      ]
     },
     "execution_count": 8,
     "metadata": {},
     "output_type": "execute_result"
    }
   ],
   "source": [
    "# 호텔 리뷰 버튼 접근 xpath\n",
    "xpath_select_button_reviews = []\n",
    "for i in np.arange(3,8):\n",
    "    xpath_select_button_reviews.append('//*[@id=\"review\"]/div[8]/div/div/button[' + str(i) + ']')\n",
    "xpath_select_button_reviews"
   ]
  },
  {
   "cell_type": "markdown",
   "id": "940a6db1-4869-43f7-a6f3-86d8e4cd98a3",
   "metadata": {},
   "source": [
    "### 호텔 데이터 크롤링"
   ]
  },
  {
   "cell_type": "code",
   "execution_count": 9,
   "id": "ed2c8778-cd18-43cd-9ded-1fcc0f1fbc97",
   "metadata": {},
   "outputs": [],
   "source": [
    "# 별점, 작성 시기 추출\n",
    "def get_stars_date(stars_date_elements):\n",
    "    lists = []\n",
    "    star1 = 0\n",
    "    star2 = 0\n",
    "    for idx in range(len(stars_date_elements)):\n",
    "        try:\n",
    "            star1 = len(stars_date_elements[idx].find_elements(By.CLASS_NAME, 'css-7zs8ep'))\n",
    "        except NoSuchElementException as e:\n",
    "            print('1점도 없음')\n",
    "        try:\n",
    "            star2 = len(stars_date_elements[idx].find_elements(By.CLASS_NAME, 'css-1um40mz'))\n",
    "        except NoSuchElementException as e:\n",
    "            pass\n",
    "        point = star1 + star2/2\n",
    "        date = stars_date_elements[idx].text\n",
    "        lists.append([point, date])\n",
    "    \n",
    "    return lists"
   ]
  },
  {
   "cell_type": "code",
   "execution_count": 1,
   "id": "60be2076-3d12-4793-82f5-3c816239e96d",
   "metadata": {},
   "outputs": [],
   "source": [
    "# 호텔 리뷰 추출, 별점&작성시기 통합\n",
    "def get_reviews():\n",
    "    review_dict = []\n",
    "    button_num=0\n",
    "    count = 0 # 테스트용 변수\n",
    "\n",
    "    while(True):\n",
    "        reviews = driver.find_elements(By.CLASS_NAME,'css-nyr29c')\n",
    "        stars_date_elements = driver.find_elements(By.CLASS_NAME, 'css-1xow60n')\n",
    "        \n",
    "        # 데이터 수집\n",
    "        review_dict_five = get_stars_date(stars_date_elements)\n",
    "        \n",
    "        for idx in range(len(reviews)):\n",
    "            review_dict_five[idx].append(reviews[idx].text)\n",
    "            count += 1\n",
    "    \n",
    "        # 리뷰 데이터 통합\n",
    "        review_dict.extend(review_dict_five)    \n",
    "        \n",
    "        # 수집 기간 설정 \n",
    "        if len(review_dict) > 0:\n",
    "            for idx in range(-5,0):\n",
    "                if review_dict[idx][1] == '2년 전':\n",
    "                    del review_dict[idx:]\n",
    "                    break\n",
    "            \n",
    "        # 페이지 이동\n",
    "        try:\n",
    "            button_check = driver.find_element(By.XPATH, xpath_select_button_reviews[button_num])\n",
    "            button_num +=1\n",
    "\n",
    "            # 테스트용 50개까지\n",
    "            if count > 5:\n",
    "                print(count)\n",
    "                break\n",
    "            \n",
    "            if button_check.get_attribute('disabled') is not None: # 버튼 비활성화 > 페이지 종료\n",
    "                print(f'요소 끝, 최종 댓글 개수 : {count}')\n",
    "                break\n",
    "                \n",
    "            else:\n",
    "                if button_check.get_attribute('class') == 'css-dv31e9':\n",
    "                    button_num = 0\n",
    "                    print('화살표 접근')\n",
    "                actions = ActionChains(driver).move_to_element(driver.find_element(By.XPATH, '//*[@id=\"__next\"]/div[1]/main/section/div[1]'))\n",
    "                actions.perform()\n",
    "                button_check.click()\n",
    "                driver.implicitly_wait(5)\n",
    "                \n",
    "        except NoSuchElementException as e:\n",
    "            print('접근 오류')\n",
    "            break\n",
    "    \n",
    "    # [[별 점수1, 리뷰내용1],[별 점수2, 리뷰내용2],..]\n",
    "    return review_dict\n",
    "    \n",
    "# get_reviews()"
   ]
  },
  {
   "cell_type": "code",
   "execution_count": 2,
   "id": "f40ab131-280c-4a79-85f2-2ee4755859d6",
   "metadata": {},
   "outputs": [],
   "source": [
    "def get_hotel_data(xpath):\n",
    "\n",
    "    \"\"\"\n",
    "    # 호텔 세부사항으로 이동\n",
    "    # driver.find_element(By.XPATH,'xpath').click()\n",
    "    # driver.switch_to.window(driver.window_handles[-1])\n",
    "    \"\"\"\n",
    "    \n",
    "    # 호텔명\n",
    "    hotel_name = driver.find_element(By.CLASS_NAME,'css-e3nxqe').text\n",
    "    hotel_dict['호텔명'] = hotel_name\n",
    "    print(driver.find_element(By.CLASS_NAME,'css-e3nxqe').text)\n",
    "\n",
    "    # 서비스 및 부대시설\n",
    "    hotel_service = driver.find_element(By.CLASS_NAME,'css-1vbs9oj').text.split('\\n')\n",
    "    hotel_dict['서비스 및 부대시설'] = hotel_service\n",
    "    print(driver.find_element(By.CLASS_NAME,'css-1vbs9oj').text.split('\\n'))\n",
    "\n",
    "    # 숙소 소개\n",
    "    hotel_intro = driver.find_element(By.CLASS_NAME,'css-l22fxz').text\n",
    "    hotel_dict['숙소 소개'] = hotel_intro\n",
    "    print(driver.find_element(By.CLASS_NAME,'css-l22fxz').text)\n",
    "    \n",
    "    # 판매자 정보 (사업자 번호)\n",
    "    sell_user = driver.find_element(By.CLASS_NAME,'css-h9kvaf')\n",
    "    actions = ActionChains(driver).move_to_element(sell_user)\n",
    "    actions.perform()\n",
    "    sell_user.click()\n",
    "    \n",
    "    hotel_dict['사업자 번호'] = driver.find_elements(By.CLASS_NAME,'css-138kqsc')[-1].text\n",
    "    WebDriverWait(driver, 10).until(EC.element_to_be_clickable((By.XPATH, '//*[@id=\"modal-wrapper\"]/div/div/header/div/div[1]'))).click()\n",
    "\n",
    "\n",
    "    \"\"\"\n",
    "    # 리뷰 순서 변경\n",
    "    review_ascending = driver.find_element(By.CLASS_NAME,'css-tfi2u7')\n",
    "    actions = ActionChains(driver).move_to_element(sell_user)\n",
    "    actions.perform()\n",
    "    review_ascending.click()  \n",
    "    driver.find_element(By.CLASS_NAME,'css-1t2cu3a').click()\n",
    "    \"\"\"\n",
    "\n",
    "    # 리뷰 데이터 추적\n",
    "    get_reviews()\n",
    "    \n",
    "    \"\"\"\n",
    "    # 호텔 리스트로 이동\n",
    "    # driver.close()\n",
    "    # driver.switch_to.window(driver.window_handles[0])\n",
    "    \"\"\"\n",
    "\n",
    "    # 구현 요구 영역\n",
    "    # 호텔명 , 서비스 및 부대시설 , 숙소 소개, 판매자 정보, 리뷰정보 통합시키고 return 하기\n",
    "    return 0\n",
    "\n",
    "# get_hotel_data()"
   ]
  },
  {
   "cell_type": "code",
   "execution_count": null,
   "id": "45a09aad-34f7-4d19-802d-b45af7264d90",
   "metadata": {},
   "outputs": [],
   "source": [
    "# 여기 어때 메인 페이지 기준 탐색 시작\n",
    "# 지역별 링크\n",
    "# 데이터 담을 방식 지정 필요함.\n",
    "for region_path in xpaths_place:\n",
    "    # 지역 이동(서울, 경기 등..)\n",
    "    WebDriverWait(driver, 10).until(EC.element_to_be_clickable((By.XPATH, region_path))).click()\n",
    "    \n",
    "    # 호텔 & 리조트 버튼 클릭하여 목록 보기\n",
    "    xpath_select_type = '//*[@id=\"category2\"]/div/div[2]/div[3]/button'\n",
    "    WebDriverWait(driver, 10).until(EC.element_to_be_clickable((By.XPATH, xpath_select_type))).click()\n",
    "\n",
    "    # 각 호텔 들어가는 xpath\n",
    "    for select_hotel in xpath_select_hotels: \n",
    "        WebDriverWait(driver, 10).until(EC.element_to_be_clickable((By.XPATH, select_hotel))).click()\n",
    "\n",
    "        # 리뷰\n",
    "        get_reviews()\n",
    "\n",
    "    \n",
    "    # 여기 어때 메인 페이지로 이동\n",
    "    driver.find_element(By.XPATH, '//*[@id=\"__next\"]/div[1]/header/div[1]/div[1]/a/svg/path').click()\n",
    "    "
   ]
  }
 ],
 "metadata": {
  "kernelspec": {
   "display_name": "Python 3 (ipykernel)",
   "language": "python",
   "name": "python3"
  },
  "language_info": {
   "codemirror_mode": {
    "name": "ipython",
    "version": 3
   },
   "file_extension": ".py",
   "mimetype": "text/x-python",
   "name": "python",
   "nbconvert_exporter": "python",
   "pygments_lexer": "ipython3",
   "version": "3.11.7"
  }
 },
 "nbformat": 4,
 "nbformat_minor": 5
}
