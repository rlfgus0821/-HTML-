{
 "cells": [
  {
   "cell_type": "code",
   "execution_count": 28,
   "id": "2ebd3ee5-cf3d-4713-ab75-5f677db2f586",
   "metadata": {},
   "outputs": [],
   "source": [
    "import requests\n",
    "from bs4 import BeautifulSoup\n",
    "import numpy as np\n",
    "import pandas as pd\n",
    "import selenium\n",
    "from selenium import webdriver\n",
    "from selenium.webdriver.common.by import By\n",
    "from selenium.webdriver.chrome.service import Service\n",
    "from webdriver_manager.chrome import ChromeDriverManager\n",
    "\n",
    "from selenium.common.exceptions import NoSuchElementException,StaleElementReferenceException\n",
    "from selenium.webdriver.common.action_chains import ActionChains\n",
    "\n",
    "service = Service(executable_path=ChromeDriverManager().install())"
   ]
  },
  {
   "cell_type": "code",
   "execution_count": 22,
   "id": "20d817a2-8590-4021-a0a4-7b3e2e78f0c1",
   "metadata": {},
   "outputs": [],
   "source": [
    "driver = webdriver.Chrome(service=service)"
   ]
  },
  {
   "cell_type": "code",
   "execution_count": 23,
   "id": "ea679850-d038-4c47-9903-e2640b86c42e",
   "metadata": {},
   "outputs": [],
   "source": [
    "# 여기어때\n",
    "url = 'https://www.yeogi.com/'\n",
    "driver.get(url)"
   ]
  },
  {
   "cell_type": "code",
   "execution_count": 24,
   "id": "97a714f1-43eb-4d73-83bb-e93527804a49",
   "metadata": {},
   "outputs": [],
   "source": [
    "# xpath = '//*[@id=\"__next\"]/main/section[10]/article/div[1]/a'\n",
    "# travel_button = driver.find_element(By.XPATH, xpath)\n",
    "from selenium.webdriver.support.ui import WebDriverWait\n",
    "from selenium.webdriver.support import expected_conditions as EC"
   ]
  },
  {
   "cell_type": "code",
   "execution_count": 5,
   "id": "3ed08777-eaa4-4a61-b2dd-335cef190d28",
   "metadata": {},
   "outputs": [
    {
     "data": {
      "text/plain": [
       "[]"
      ]
     },
     "execution_count": 5,
     "metadata": {},
     "output_type": "execute_result"
    }
   ],
   "source": [
    "reviews = driver.find_elements(By.CLASS_NAME,'css-nyr29c')\n",
    "stars_date_elements = driver.find_elements(By.CLASS_NAME, 'css-1xow60n')\n",
    "\n",
    "reviews"
   ]
  },
  {
   "cell_type": "code",
   "execution_count": 6,
   "id": "ee1127d0-f2b9-4ebf-8aa4-946693b21ce6",
   "metadata": {},
   "outputs": [],
   "source": [
    "# for region_path in xpaths_place:\n",
    "#     # 지역 이동(서울, 경기 등..)\n",
    "#     driver.find_element(By.XPATH, region_path).click()\n",
    "\n",
    "#     # 호텔 & 리조트 버튼 클릭하여 목록 보기\n",
    "#     xpath_select_type = '//*[@id=\"category2\"]/div/div[2]/div[3]/button'\n",
    "#     driver.find_element(By.XPATH, xpath_select_type).click()\n",
    "\n",
    "#     # 각 호텔 들어가는 xpath\n",
    "#     for select_hotel in xpath_select_hotels: \n",
    "#         driver.find_element(By.XPATH, select_hotel).click()\n",
    "\n",
    "#         # 리뷰\n",
    "#         get_reviews()\n",
    "\n",
    "    \n",
    "#     # 여기 어때 메인 페이지로 이동\n",
    "#     driver.find_element(By.XPATH, '//*[@id=\"__next\"]/div[1]/header/div[1]/div[1]/a/svg/path').click()"
   ]
  },
  {
   "cell_type": "code",
   "execution_count": 25,
   "id": "5b8ef19b-e07c-483c-afea-2103900736f9",
   "metadata": {},
   "outputs": [],
   "source": [
    "gyeonggi_link = WebDriverWait(driver, 10).until(EC.element_to_be_clickable((By.XPATH, '//*[@id=\"__next\"]/main/section[10]/article/div[1]/a')))\n",
    "gyeonggi_link.click()\n",
    "\n",
    "xpath = '//*[@id=\"category2\"]/div/div[2]/div[3]/button'\n",
    "\n",
    "hotel_click = WebDriverWait(driver, 10).until(EC.element_to_be_clickable((By.XPATH, xpath)))\n",
    "hotel_click.click()\n",
    "\n",
    "xpath = '//*[@id=\"__next\"]/div[1]/main/section/div[2]/a[1]/div[1]/div[2]/div[1]/div/div[1]/div[1]/h3'\n",
    "hotel_click1 = WebDriverWait(driver, 10).until(EC.element_to_be_clickable((By.XPATH, xpath)))\n",
    "hotel_click1.click()\n",
    "\n",
    "# rxpath = '//*[@id=\"__next\"]/div[1]/main/div/section[2]/div/div[1]/div/div[2]/div[1]/button'\n",
    "# review_click = WebDriverWait(driver, 10).until(EC.element_to_be_clickable((By.XPATH, rxpath)))\n",
    "# review_click.click()\n",
    "\n",
    "# xpath1 = '//*[@id=\"review\"]/div[3]/div/div[2]/div[3]/div[1]/p'\n",
    "# driver.find_element(By.XPATH, xpath1)\n"
   ]
  },
  {
   "cell_type": "code",
   "execution_count": 20,
   "id": "c5f0d9eb-9f0e-4af3-ad72-dfb21b3ccf53",
   "metadata": {},
   "outputs": [
    {
     "ename": "NoSuchElementException",
     "evalue": "Message: no such element: Unable to locate element: {\"method\":\"css selector\",\"selector\":\".css-e3nxqe\"}\n  (Session info: chrome=124.0.6367.62); For documentation on this error, please visit: https://www.selenium.dev/documentation/webdriver/troubleshooting/errors#no-such-element-exception\nStacktrace:\n\tGetHandleVerifier [0x00CAC113+48259]\n\t(No symbol) [0x00C3CA41]\n\t(No symbol) [0x00B30A17]\n\t(No symbol) [0x00B70BED]\n\t(No symbol) [0x00B70C9B]\n\t(No symbol) [0x00BABC12]\n\t(No symbol) [0x00B90DE4]\n\t(No symbol) [0x00BA9B9C]\n\t(No symbol) [0x00B90B36]\n\t(No symbol) [0x00B6570D]\n\t(No symbol) [0x00B662CD]\n\tGetHandleVerifier [0x00F66533+2908323]\n\tGetHandleVerifier [0x00FA3B4B+3159739]\n\tGetHandleVerifier [0x00D4505B+674763]\n\tGetHandleVerifier [0x00D4B21C+699788]\n\t(No symbol) [0x00C46244]\n\t(No symbol) [0x00C42298]\n\t(No symbol) [0x00C4242C]\n\t(No symbol) [0x00C34BB0]\n\tBaseThreadInitThunk [0x76DAFCC9+25]\n\tRtlGetAppContainerNamedObjectPath [0x77B27C5E+286]\n\tRtlGetAppContainerNamedObjectPath [0x77B27C2E+238]\n",
     "output_type": "error",
     "traceback": [
      "\u001b[1;31m---------------------------------------------------------------------------\u001b[0m",
      "\u001b[1;31mNoSuchElementException\u001b[0m                    Traceback (most recent call last)",
      "Cell \u001b[1;32mIn[20], line 4\u001b[0m\n\u001b[0;32m      1\u001b[0m hotel_dict\u001b[38;5;241m=\u001b[39m{}\n\u001b[0;32m      3\u001b[0m \u001b[38;5;66;03m# 호텔명\u001b[39;00m\n\u001b[1;32m----> 4\u001b[0m hotel_name \u001b[38;5;241m=\u001b[39m driver\u001b[38;5;241m.\u001b[39mfind_element(By\u001b[38;5;241m.\u001b[39mCLASS_NAME,\u001b[38;5;124m'\u001b[39m\u001b[38;5;124mcss-e3nxqe\u001b[39m\u001b[38;5;124m'\u001b[39m)\u001b[38;5;241m.\u001b[39mtext\n\u001b[0;32m      5\u001b[0m hotel_dict[\u001b[38;5;124m'\u001b[39m\u001b[38;5;124m호텔명\u001b[39m\u001b[38;5;124m'\u001b[39m] \u001b[38;5;241m=\u001b[39m hotel_name\n\u001b[0;32m      7\u001b[0m \u001b[38;5;66;03m# 서비스 및 부대시설\u001b[39;00m\n",
      "File \u001b[1;32m~\\AppData\\Roaming\\Python\\Python311\\site-packages\\selenium\\webdriver\\remote\\webdriver.py:741\u001b[0m, in \u001b[0;36mWebDriver.find_element\u001b[1;34m(self, by, value)\u001b[0m\n\u001b[0;32m    738\u001b[0m     by \u001b[38;5;241m=\u001b[39m By\u001b[38;5;241m.\u001b[39mCSS_SELECTOR\n\u001b[0;32m    739\u001b[0m     value \u001b[38;5;241m=\u001b[39m \u001b[38;5;124mf\u001b[39m\u001b[38;5;124m'\u001b[39m\u001b[38;5;124m[name=\u001b[39m\u001b[38;5;124m\"\u001b[39m\u001b[38;5;132;01m{\u001b[39;00mvalue\u001b[38;5;132;01m}\u001b[39;00m\u001b[38;5;124m\"\u001b[39m\u001b[38;5;124m]\u001b[39m\u001b[38;5;124m'\u001b[39m\n\u001b[1;32m--> 741\u001b[0m \u001b[38;5;28;01mreturn\u001b[39;00m \u001b[38;5;28mself\u001b[39m\u001b[38;5;241m.\u001b[39mexecute(Command\u001b[38;5;241m.\u001b[39mFIND_ELEMENT, {\u001b[38;5;124m\"\u001b[39m\u001b[38;5;124musing\u001b[39m\u001b[38;5;124m\"\u001b[39m: by, \u001b[38;5;124m\"\u001b[39m\u001b[38;5;124mvalue\u001b[39m\u001b[38;5;124m\"\u001b[39m: value})[\u001b[38;5;124m\"\u001b[39m\u001b[38;5;124mvalue\u001b[39m\u001b[38;5;124m\"\u001b[39m]\n",
      "File \u001b[1;32m~\\AppData\\Roaming\\Python\\Python311\\site-packages\\selenium\\webdriver\\remote\\webdriver.py:347\u001b[0m, in \u001b[0;36mWebDriver.execute\u001b[1;34m(self, driver_command, params)\u001b[0m\n\u001b[0;32m    345\u001b[0m response \u001b[38;5;241m=\u001b[39m \u001b[38;5;28mself\u001b[39m\u001b[38;5;241m.\u001b[39mcommand_executor\u001b[38;5;241m.\u001b[39mexecute(driver_command, params)\n\u001b[0;32m    346\u001b[0m \u001b[38;5;28;01mif\u001b[39;00m response:\n\u001b[1;32m--> 347\u001b[0m     \u001b[38;5;28mself\u001b[39m\u001b[38;5;241m.\u001b[39merror_handler\u001b[38;5;241m.\u001b[39mcheck_response(response)\n\u001b[0;32m    348\u001b[0m     response[\u001b[38;5;124m\"\u001b[39m\u001b[38;5;124mvalue\u001b[39m\u001b[38;5;124m\"\u001b[39m] \u001b[38;5;241m=\u001b[39m \u001b[38;5;28mself\u001b[39m\u001b[38;5;241m.\u001b[39m_unwrap_value(response\u001b[38;5;241m.\u001b[39mget(\u001b[38;5;124m\"\u001b[39m\u001b[38;5;124mvalue\u001b[39m\u001b[38;5;124m\"\u001b[39m, \u001b[38;5;28;01mNone\u001b[39;00m))\n\u001b[0;32m    349\u001b[0m     \u001b[38;5;28;01mreturn\u001b[39;00m response\n",
      "File \u001b[1;32m~\\AppData\\Roaming\\Python\\Python311\\site-packages\\selenium\\webdriver\\remote\\errorhandler.py:229\u001b[0m, in \u001b[0;36mErrorHandler.check_response\u001b[1;34m(self, response)\u001b[0m\n\u001b[0;32m    227\u001b[0m         alert_text \u001b[38;5;241m=\u001b[39m value[\u001b[38;5;124m\"\u001b[39m\u001b[38;5;124malert\u001b[39m\u001b[38;5;124m\"\u001b[39m]\u001b[38;5;241m.\u001b[39mget(\u001b[38;5;124m\"\u001b[39m\u001b[38;5;124mtext\u001b[39m\u001b[38;5;124m\"\u001b[39m)\n\u001b[0;32m    228\u001b[0m     \u001b[38;5;28;01mraise\u001b[39;00m exception_class(message, screen, stacktrace, alert_text)  \u001b[38;5;66;03m# type: ignore[call-arg]  # mypy is not smart enough here\u001b[39;00m\n\u001b[1;32m--> 229\u001b[0m \u001b[38;5;28;01mraise\u001b[39;00m exception_class(message, screen, stacktrace)\n",
      "\u001b[1;31mNoSuchElementException\u001b[0m: Message: no such element: Unable to locate element: {\"method\":\"css selector\",\"selector\":\".css-e3nxqe\"}\n  (Session info: chrome=124.0.6367.62); For documentation on this error, please visit: https://www.selenium.dev/documentation/webdriver/troubleshooting/errors#no-such-element-exception\nStacktrace:\n\tGetHandleVerifier [0x00CAC113+48259]\n\t(No symbol) [0x00C3CA41]\n\t(No symbol) [0x00B30A17]\n\t(No symbol) [0x00B70BED]\n\t(No symbol) [0x00B70C9B]\n\t(No symbol) [0x00BABC12]\n\t(No symbol) [0x00B90DE4]\n\t(No symbol) [0x00BA9B9C]\n\t(No symbol) [0x00B90B36]\n\t(No symbol) [0x00B6570D]\n\t(No symbol) [0x00B662CD]\n\tGetHandleVerifier [0x00F66533+2908323]\n\tGetHandleVerifier [0x00FA3B4B+3159739]\n\tGetHandleVerifier [0x00D4505B+674763]\n\tGetHandleVerifier [0x00D4B21C+699788]\n\t(No symbol) [0x00C46244]\n\t(No symbol) [0x00C42298]\n\t(No symbol) [0x00C4242C]\n\t(No symbol) [0x00C34BB0]\n\tBaseThreadInitThunk [0x76DAFCC9+25]\n\tRtlGetAppContainerNamedObjectPath [0x77B27C5E+286]\n\tRtlGetAppContainerNamedObjectPath [0x77B27C2E+238]\n"
     ]
    }
   ],
   "source": [
    "hotel_dict={}\n",
    "\n",
    "# 호텔명\n",
    "hotel_name = driver.find_element(By.CLASS_NAME,'css-e3nxqe').text\n",
    "hotel_dict['호텔명'] = hotel_name\n",
    "\n",
    "# 서비스 및 부대시설\n",
    "hotel_service = driver.find_element(By.CLASS_NAME,'css-1vbs9oj').text.split('\\n')\n",
    "hotel_dict['서비스 및 부대시설'] = hotel_service\n",
    "driver.find_element(By.CLASS_NAME,'css-1vbs9oj').text.split('\\n')\n",
    "\n",
    "# 숙소 소개\n",
    "hotel_intro = driver.find_element(By.CLASS_NAME,'css-l22fxz').text\n",
    "hotel_dict['숙소 소개'] = hotel_intro\n",
    "driver.find_element(By.CLASS_NAME,'css-l22fxz').text\n",
    "\n",
    "# 판매자 정보 (사업자 번호)\n",
    "sell_user = driver.find_element(By.CLASS_NAME,'css-h9kvaf')\n",
    "actions = ActionChains(driver).move_to_element(sell_user)\n",
    "actions.perform()\n",
    "sell_user.click()\n",
    "\n",
    "hotel_dict['사업자 번호'] = WebDriverWait(driver, 10).until(EC.presence_of_element_located((By.CLASS_NAME, \"css-e3nxqe\")))[-1].text\n",
    "\n",
    "\n",
    "WebDriverWait(driver, 10).until(EC.element_to_be_clickable((By.XPATH, '//*[@id=\"modal-wrapper\"]/div/div/header/div/div[1]'))).click()\n"
   ]
  },
  {
   "cell_type": "code",
   "execution_count": null,
   "id": "432f8865-0a38-4f52-96db-f1b1009ee312",
   "metadata": {},
   "outputs": [],
   "source": [
    "hotel_dict"
   ]
  }
 ],
 "metadata": {
  "kernelspec": {
   "display_name": "Python 3 (ipykernel)",
   "language": "python",
   "name": "python3"
  },
  "language_info": {
   "codemirror_mode": {
    "name": "ipython",
    "version": 3
   },
   "file_extension": ".py",
   "mimetype": "text/x-python",
   "name": "python",
   "nbconvert_exporter": "python",
   "pygments_lexer": "ipython3",
   "version": "3.11.7"
  }
 },
 "nbformat": 4,
 "nbformat_minor": 5
}
