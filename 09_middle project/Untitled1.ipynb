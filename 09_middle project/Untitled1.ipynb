{
 "cells": [
  {
   "cell_type": "code",
   "execution_count": 1,
   "id": "2ebd3ee5-cf3d-4713-ab75-5f677db2f586",
   "metadata": {},
   "outputs": [],
   "source": [
    "import requests\n",
    "from bs4 import BeautifulSoup\n",
    "import numpy as np\n",
    "import pandas as pd\n",
    "import selenium\n",
    "from selenium import webdriver\n",
    "from selenium.webdriver.common.by import By\n",
    "from selenium.webdriver.chrome.service import Service\n",
    "from webdriver_manager.chrome import ChromeDriverManager\n",
    "\n",
    "from selenium.common.exceptions import NoSuchElementException,StaleElementReferenceException\n",
    "from selenium.webdriver.common.action_chains import ActionChains\n",
    "\n",
    "service = Service(executable_path=ChromeDriverManager().install())"
   ]
  },
  {
   "cell_type": "code",
   "execution_count": 2,
   "id": "20d817a2-8590-4021-a0a4-7b3e2e78f0c1",
   "metadata": {},
   "outputs": [],
   "source": [
    "driver = webdriver.Chrome(service=service)"
   ]
  },
  {
   "cell_type": "code",
   "execution_count": 3,
   "id": "ea679850-d038-4c47-9903-e2640b86c42e",
   "metadata": {},
   "outputs": [],
   "source": [
    "# 여기어때\n",
    "url = 'https://www.yeogi.com/'\n",
    "driver.get(url)"
   ]
  },
  {
   "cell_type": "code",
   "execution_count": 4,
   "id": "97a714f1-43eb-4d73-83bb-e93527804a49",
   "metadata": {},
   "outputs": [],
   "source": [
    "# xpath = '//*[@id=\"__next\"]/main/section[10]/article/div[1]/a'\n",
    "# travel_button = driver.find_element(By.XPATH, xpath)\n",
    "from selenium.webdriver.support.ui import WebDriverWait\n",
    "from selenium.webdriver.support import expected_conditions as EC"
   ]
  },
  {
   "cell_type": "markdown",
   "id": "8771442a-de41-4708-9a96-82dca121524c",
   "metadata": {},
   "source": [
    "reviews = driver.find_elements(By.CLASS_NAME,'css-nyr29c')\n",
    "stars_date_elements = driver.find_elements(By.CLASS_NAME, 'css-1xow60n')\n",
    "\n",
    "reviews"
   ]
  },
  {
   "cell_type": "code",
   "execution_count": 5,
   "id": "ee1127d0-f2b9-4ebf-8aa4-946693b21ce6",
   "metadata": {},
   "outputs": [],
   "source": [
    "# for region_path in xpaths_place:\n",
    "#     # 지역 이동(서울, 경기 등..)\n",
    "#     driver.find_element(By.XPATH, region_path).click()\n",
    "\n",
    "#     # 호텔 & 리조트 버튼 클릭하여 목록 보기\n",
    "#     xpath_select_type = '//*[@id=\"category2\"]/div/div[2]/div[3]/button'\n",
    "#     driver.find_element(By.XPATH, xpath_select_type).click()\n",
    "\n",
    "#     # 각 호텔 들어가는 xpath\n",
    "#     for select_hotel in xpath_select_hotels: \n",
    "#         driver.find_element(By.XPATH, select_hotel).click()\n",
    "\n",
    "#         # 리뷰\n",
    "#         get_reviews()\n",
    "\n",
    "    \n",
    "#     # 여기 어때 메인 페이지로 이동\n",
    "#     driver.find_element(By.XPATH, '//*[@id=\"__next\"]/div[1]/header/div[1]/div[1]/a/svg/path').click()"
   ]
  },
  {
   "cell_type": "code",
   "execution_count": 15,
   "id": "5b8ef19b-e07c-483c-afea-2103900736f9",
   "metadata": {},
   "outputs": [
    {
     "ename": "TimeoutException",
     "evalue": "Message: \n",
     "output_type": "error",
     "traceback": [
      "\u001b[1;31m---------------------------------------------------------------------------\u001b[0m",
      "\u001b[1;31mTimeoutException\u001b[0m                          Traceback (most recent call last)",
      "Cell \u001b[1;32mIn[15], line 15\u001b[0m\n\u001b[0;32m     13\u001b[0m reviews \u001b[38;5;241m=\u001b[39m []\n\u001b[0;32m     14\u001b[0m stars_date_elements \u001b[38;5;241m=\u001b[39m []\n\u001b[1;32m---> 15\u001b[0m rxpath \u001b[38;5;241m=\u001b[39m WebDriverWait(driver, \u001b[38;5;241m10\u001b[39m)\u001b[38;5;241m.\u001b[39muntil(EC\u001b[38;5;241m.\u001b[39mpresence_of_all_elements_located((By\u001b[38;5;241m.\u001b[39mCLASS_NAME, \u001b[38;5;124m'\u001b[39m\u001b[38;5;124mcss-nyr29c\u001b[39m\u001b[38;5;124m'\u001b[39m)))\n\u001b[0;32m     17\u001b[0m \u001b[38;5;28;01mfor\u001b[39;00m i \u001b[38;5;129;01min\u001b[39;00m \u001b[38;5;28mrange\u001b[39m(\u001b[38;5;28mlen\u001b[39m(rxpath)):\n\u001b[0;32m     18\u001b[0m     reviews\u001b[38;5;241m.\u001b[39mappend(rxpath[i]\u001b[38;5;241m.\u001b[39mtext)\n",
      "File \u001b[1;32m~\\AppData\\Roaming\\Python\\Python311\\site-packages\\selenium\\webdriver\\support\\wait.py:105\u001b[0m, in \u001b[0;36mWebDriverWait.until\u001b[1;34m(self, method, message)\u001b[0m\n\u001b[0;32m    103\u001b[0m     \u001b[38;5;28;01mif\u001b[39;00m time\u001b[38;5;241m.\u001b[39mmonotonic() \u001b[38;5;241m>\u001b[39m end_time:\n\u001b[0;32m    104\u001b[0m         \u001b[38;5;28;01mbreak\u001b[39;00m\n\u001b[1;32m--> 105\u001b[0m \u001b[38;5;28;01mraise\u001b[39;00m TimeoutException(message, screen, stacktrace)\n",
      "\u001b[1;31mTimeoutException\u001b[0m: Message: \n"
     ]
    }
   ],
   "source": [
    "gyeonggi_link = WebDriverWait(driver, 10).until(EC.element_to_be_clickable((By.XPATH, '//*[@id=\"__next\"]/main/section[10]/article/div[1]/a')))\n",
    "gyeonggi_link.click()\n",
    "\n",
    "xpath = '//*[@id=\"category2\"]/div/div[2]/div[3]/button'\n",
    "\n",
    "hotel_click = WebDriverWait(driver, 10).until(EC.element_to_be_clickable((By.XPATH, xpath)))\n",
    "hotel_click.click()\n",
    "\n",
    "xpath = '//*[@id=\"__next\"]/div[1]/main/section/div[2]/a[1]/div[1]/div[2]/div[1]/div/div[1]/div[1]/h3'\n",
    "hotel_click1 = WebDriverWait(driver, 10).until(EC.element_to_be_clickable((By.XPATH, xpath)))\n",
    "hotel_click1.click()\n",
    "\n",
    "reviews = []\n",
    "stars_date_elements = []\n",
    "rxpath = WebDriverWait(driver, 10).until(EC.presence_of_all_elements_located((By.CLASS_NAME, 'css-nyr29c')))\n",
    "\n",
    "for i in range(len(rxpath)):\n",
    "    reviews.append(rxpath[i].text)\n",
    "    stars_date_elements.append(WebDriverWait(driver, 10).until(EC.presence_of_all_elements_located((By.CLASS_NAME, 'css-1xow60n'))[i].text))\n",
    "     \n",
    "# xpath1 = '//*[@id=\"review\"]/div[3]/div/div[2]/div[3]/div[1]/p'\n",
    "# driver.find_element(By.XPATH, xpath1)\n",
    "reviews"
   ]
  },
  {
   "cell_type": "code",
   "execution_count": null,
   "id": "77c1fda1-1dc3-4557-98d1-e0b49a19887f",
   "metadata": {},
   "outputs": [],
   "source": [
    "hotel_dict={}\n",
    "\n",
    "# 호텔명\n",
    "hotel_name = driver.find_element(By.CLASS_NAME,'css-e3nxqe').text\n",
    "hotel_dict['호텔명'] = hotel_name\n",
    "\n",
    "# 서비스 및 부대시설\n",
    "hotel_service = driver.find_element(By.CLASS_NAME,'css-1vbs9oj').text.split('\\n')\n",
    "hotel_dict['서비스 및 부대시설'] = hotel_service\n",
    "driver.find_element(By.CLASS_NAME,'css-1vbs9oj').text.split('\\n')\n",
    "\n",
    "# 숙소 소개\n",
    "hotel_intro = driver.find_element(By.CLASS_NAME,'css-l22fxz').text\n",
    "hotel_dict['숙소 소개'] = hotel_intro\n",
    "driver.find_element(By.CLASS_NAME,'css-l22fxz').text\n",
    "\n",
    "# 판매자 정보 (사업자 번호)\n",
    "sell_user = driver.find_element(By.CLASS_NAME,'css-h9kvaf')\n",
    "actions = ActionChains(driver).move_to_element(sell_user)\n",
    "actions.perform()\n",
    "sell_user.click()\n",
    "\n",
    "hotel_dict['사업자 번호'] = WebDriverWait(driver, 10).until(EC.presence_of_element_located((By.CLASS_NAME, \"css-e3nxqe\")))[-1].text\n",
    "\n",
    "\n",
    "WebDriverWait(driver, 10).until(EC.element_to_be_clickable((By.XPATH, '//*[@id=\"modal-wrapper\"]/div/div/header/div/div[1]'))).click()\n"
   ]
  },
  {
   "cell_type": "code",
   "execution_count": null,
   "id": "432f8865-0a38-4f52-96db-f1b1009ee312",
   "metadata": {},
   "outputs": [],
   "source": [
    "hotel_dict"
   ]
  }
 ],
 "metadata": {
  "kernelspec": {
   "display_name": "Python 3 (ipykernel)",
   "language": "python",
   "name": "python3"
  },
  "language_info": {
   "codemirror_mode": {
    "name": "ipython",
    "version": 3
   },
   "file_extension": ".py",
   "mimetype": "text/x-python",
   "name": "python",
   "nbconvert_exporter": "python",
   "pygments_lexer": "ipython3",
   "version": "3.11.7"
  }
 },
 "nbformat": 4,
 "nbformat_minor": 5
}
