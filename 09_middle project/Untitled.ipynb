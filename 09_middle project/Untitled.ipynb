{
 "cells": [
  {
   "cell_type": "code",
   "execution_count": 1,
   "id": "bf50478f-9bac-4156-9c69-3083488dee29",
   "metadata": {},
   "outputs": [],
   "source": [
    "import pandas as pd"
   ]
  },
  {
   "cell_type": "code",
   "execution_count": 26,
   "id": "6f8da992-59dc-49b3-8a3b-a53711a9d0a1",
   "metadata": {},
   "outputs": [
    {
     "name": "stderr",
     "output_type": "stream",
     "text": [
      "C:\\Users\\gillhk\\AppData\\Local\\Temp\\ipykernel_24392\\2750483394.py:2: DtypeWarning: Columns (11) have mixed types. Specify dtype option on import or set low_memory=False.\n",
      "  all_home = pd.read_csv('data/전국 숙박업 정보.csv', encoding='CP949')\n"
     ]
    }
   ],
   "source": [
    "randm = pd.read_excel('data/전국관광지정보표준데이터.xlsx')\n",
    "all_home = pd.read_csv('data/전국 숙박업 정보.csv', encoding='CP949')\n",
    "home2023 =pd.read_csv('data/지역별 숙박시설 관련 키워드 정보(202309).csv', encoding='utf-8')\n",
    "home1 =pd.read_csv('data/fulldata_03_11_01_P_관광숙박업.csv', encoding='CP949')"
   ]
  },
  {
   "cell_type": "code",
   "execution_count": 6,
   "id": "a4c29494-72d8-4ed2-a34a-ebf606e40b48",
   "metadata": {},
   "outputs": [
    {
     "data": {
      "text/plain": [
       "Index(['관광지명', '관광지구분', '소재지도로명주소', '소재지지번주소', '위도', '경도', '면적', '공공편익시설정보',\n",
       "       '숙박시설정보', '운동및오락시설정보', '휴양및문화시설정보', '접객시설정보', '지원시설정보', '지정일자', '수용인원수',\n",
       "       '주차가능수', '관광지소개', '관리기관전화번호', '관리기관명', '데이터기준일자', '제공기관코드', '제공기관명'],\n",
       "      dtype='object')"
      ]
     },
     "execution_count": 6,
     "metadata": {},
     "output_type": "execute_result"
    }
   ],
   "source": [
    "randm.columns"
   ]
  },
  {
   "cell_type": "code",
   "execution_count": 9,
   "id": "b09da3b4-d587-4fe7-83b0-0de7880d3320",
   "metadata": {},
   "outputs": [
    {
     "data": {
      "text/plain": [
       "625"
      ]
     },
     "execution_count": 9,
     "metadata": {},
     "output_type": "execute_result"
    }
   ],
   "source": [
    "randm['숙박시설정보'].isna().sum()"
   ]
  },
  {
   "cell_type": "code",
   "execution_count": 11,
   "id": "137c293a-432b-4276-a967-9c7c7d70954a",
   "metadata": {},
   "outputs": [
    {
     "data": {
      "text/plain": [
       "0"
      ]
     },
     "execution_count": 11,
     "metadata": {},
     "output_type": "execute_result"
    }
   ],
   "source": [
    "randm['위도'].isna().sum()"
   ]
  },
  {
   "cell_type": "code",
   "execution_count": 10,
   "id": "8b91a678-e0f7-47bc-b51f-a474f61b74ac",
   "metadata": {},
   "outputs": [
    {
     "data": {
      "text/plain": [
       "0"
      ]
     },
     "execution_count": 10,
     "metadata": {},
     "output_type": "execute_result"
    }
   ],
   "source": [
    "randm['경도'].isna().sum()"
   ]
  },
  {
   "cell_type": "code",
   "execution_count": 19,
   "id": "9a9ebb22-f033-48f9-8500-e0eee4517372",
   "metadata": {},
   "outputs": [
    {
     "data": {
      "text/html": [
       "<div>\n",
       "<style scoped>\n",
       "    .dataframe tbody tr th:only-of-type {\n",
       "        vertical-align: middle;\n",
       "    }\n",
       "\n",
       "    .dataframe tbody tr th {\n",
       "        vertical-align: top;\n",
       "    }\n",
       "\n",
       "    .dataframe thead th {\n",
       "        text-align: right;\n",
       "    }\n",
       "</style>\n",
       "<table border=\"1\" class=\"dataframe\">\n",
       "  <thead>\n",
       "    <tr style=\"text-align: right;\">\n",
       "      <th></th>\n",
       "      <th>관광지명</th>\n",
       "      <th>관광지구분</th>\n",
       "      <th>소재지지번주소</th>\n",
       "      <th>위도</th>\n",
       "      <th>경도</th>\n",
       "    </tr>\n",
       "  </thead>\n",
       "  <tbody>\n",
       "    <tr>\n",
       "      <th>0</th>\n",
       "      <td>일제 경성호국신사 계단(108계단)</td>\n",
       "      <td>관광지</td>\n",
       "      <td>서울특별시 용산구 용산동2가 1-346</td>\n",
       "      <td>37.546023</td>\n",
       "      <td>126.982542</td>\n",
       "    </tr>\n",
       "    <tr>\n",
       "      <th>1</th>\n",
       "      <td>찬바람재</td>\n",
       "      <td>관광지</td>\n",
       "      <td>서울특별시 용산구 용산동2가 7-99</td>\n",
       "      <td>37.534815</td>\n",
       "      <td>126.987014</td>\n",
       "    </tr>\n",
       "    <tr>\n",
       "      <th>2</th>\n",
       "      <td>옛 남영동 대공분실(민주인권기념관)</td>\n",
       "      <td>관광지</td>\n",
       "      <td>서울특별시 용산구 갈월동 98-8</td>\n",
       "      <td>37.541012</td>\n",
       "      <td>126.971634</td>\n",
       "    </tr>\n",
       "    <tr>\n",
       "      <th>3</th>\n",
       "      <td>옛 용산공설시장(현 남영아케이드)</td>\n",
       "      <td>관광지</td>\n",
       "      <td>서울특별시 용산구 남영동 28-8</td>\n",
       "      <td>37.543723</td>\n",
       "      <td>126.972924</td>\n",
       "    </tr>\n",
       "    <tr>\n",
       "      <th>4</th>\n",
       "      <td>전쟁기념관</td>\n",
       "      <td>관광지</td>\n",
       "      <td>서울특별시 용산구 용산동1가 8</td>\n",
       "      <td>37.537314</td>\n",
       "      <td>126.978466</td>\n",
       "    </tr>\n",
       "    <tr>\n",
       "      <th>...</th>\n",
       "      <td>...</td>\n",
       "      <td>...</td>\n",
       "      <td>...</td>\n",
       "      <td>...</td>\n",
       "      <td>...</td>\n",
       "    </tr>\n",
       "    <tr>\n",
       "      <th>919</th>\n",
       "      <td>팔봉산관광지</td>\n",
       "      <td>관광지</td>\n",
       "      <td>NaN</td>\n",
       "      <td>37.703098</td>\n",
       "      <td>127.695183</td>\n",
       "    </tr>\n",
       "    <tr>\n",
       "      <th>920</th>\n",
       "      <td>소노벨비발디파크</td>\n",
       "      <td>관광단지</td>\n",
       "      <td>NaN</td>\n",
       "      <td>37.652337</td>\n",
       "      <td>127.687335</td>\n",
       "    </tr>\n",
       "    <tr>\n",
       "      <th>921</th>\n",
       "      <td>오전약수관광지</td>\n",
       "      <td>관광지</td>\n",
       "      <td>경상북도 봉화군 물야면 오전리 95-35</td>\n",
       "      <td>37.012095</td>\n",
       "      <td>128.745721</td>\n",
       "    </tr>\n",
       "    <tr>\n",
       "      <th>922</th>\n",
       "      <td>다덕약수관광지</td>\n",
       "      <td>관광지</td>\n",
       "      <td>경상북도 봉화군 봉성면 우곡리 505-5</td>\n",
       "      <td>36.914122</td>\n",
       "      <td>128.827323</td>\n",
       "    </tr>\n",
       "    <tr>\n",
       "      <th>923</th>\n",
       "      <td>다도박물관</td>\n",
       "      <td>관광지</td>\n",
       "      <td>경기도 김포시 월곶면 개곡리 832</td>\n",
       "      <td>37.737504</td>\n",
       "      <td>126.574437</td>\n",
       "    </tr>\n",
       "  </tbody>\n",
       "</table>\n",
       "<p>924 rows × 5 columns</p>\n",
       "</div>"
      ],
      "text/plain": [
       "                    관광지명 관광지구분                 소재지지번주소         위도          경도\n",
       "0    일제 경성호국신사 계단(108계단)   관광지   서울특별시 용산구 용산동2가 1-346  37.546023  126.982542\n",
       "1                   찬바람재   관광지    서울특별시 용산구 용산동2가 7-99  37.534815  126.987014\n",
       "2    옛 남영동 대공분실(민주인권기념관)   관광지      서울특별시 용산구 갈월동 98-8  37.541012  126.971634\n",
       "3     옛 용산공설시장(현 남영아케이드)   관광지      서울특별시 용산구 남영동 28-8  37.543723  126.972924\n",
       "4                  전쟁기념관   관광지       서울특별시 용산구 용산동1가 8  37.537314  126.978466\n",
       "..                   ...   ...                     ...        ...         ...\n",
       "919               팔봉산관광지   관광지                     NaN  37.703098  127.695183\n",
       "920             소노벨비발디파크  관광단지                     NaN  37.652337  127.687335\n",
       "921              오전약수관광지   관광지  경상북도 봉화군 물야면 오전리 95-35  37.012095  128.745721\n",
       "922              다덕약수관광지   관광지  경상북도 봉화군 봉성면 우곡리 505-5  36.914122  128.827323\n",
       "923                다도박물관   관광지     경기도 김포시 월곶면 개곡리 832  37.737504  126.574437\n",
       "\n",
       "[924 rows x 5 columns]"
      ]
     },
     "execution_count": 19,
     "metadata": {},
     "output_type": "execute_result"
    }
   ],
   "source": [
    "randm[['관광지명', '관광지구분','소재지지번주소', '위도', '경도']]"
   ]
  },
  {
   "cell_type": "code",
   "execution_count": 18,
   "id": "7f793ecf-556b-4123-983a-bf9c974ae9e2",
   "metadata": {},
   "outputs": [
    {
     "data": {
      "text/plain": [
       "관광지명         0\n",
       "관광지구분        0\n",
       "소재지지번주소    145\n",
       "위도           0\n",
       "경도           0\n",
       "dtype: int64"
      ]
     },
     "execution_count": 18,
     "metadata": {},
     "output_type": "execute_result"
    }
   ],
   "source": [
    "randm[['관광지명', '관광지구분','소재지지번주소', '위도', '경도']].isna().sum()"
   ]
  },
  {
   "cell_type": "code",
   "execution_count": 17,
   "id": "8fad17c6-83ff-4ab0-8a74-1476e2ea08cb",
   "metadata": {},
   "outputs": [
    {
     "data": {
      "text/plain": [
       "75"
      ]
     },
     "execution_count": 17,
     "metadata": {},
     "output_type": "execute_result"
    }
   ],
   "source": [
    "randm['소재지도로명주소'].isna().sum()"
   ]
  },
  {
   "cell_type": "code",
   "execution_count": 21,
   "id": "512d10b4-1a82-4cd2-abc8-623f40df9338",
   "metadata": {},
   "outputs": [
    {
     "data": {
      "text/plain": [
       "array(['관광지', '관광단지'], dtype=object)"
      ]
     },
     "execution_count": 21,
     "metadata": {},
     "output_type": "execute_result"
    }
   ],
   "source": [
    "randm['관광지구분'].unique()"
   ]
  },
  {
   "cell_type": "code",
   "execution_count": 27,
   "id": "87192d81-f824-45fe-bc3f-294dfd961739",
   "metadata": {},
   "outputs": [
    {
     "data": {
      "text/html": [
       "<div>\n",
       "<style scoped>\n",
       "    .dataframe tbody tr th:only-of-type {\n",
       "        vertical-align: middle;\n",
       "    }\n",
       "\n",
       "    .dataframe tbody tr th {\n",
       "        vertical-align: top;\n",
       "    }\n",
       "\n",
       "    .dataframe thead th {\n",
       "        text-align: right;\n",
       "    }\n",
       "</style>\n",
       "<table border=\"1\" class=\"dataframe\">\n",
       "  <thead>\n",
       "    <tr style=\"text-align: right;\">\n",
       "      <th></th>\n",
       "      <th>번호</th>\n",
       "      <th>개방서비스명</th>\n",
       "      <th>개방서비스아이디</th>\n",
       "      <th>개방자치단체코드</th>\n",
       "      <th>관리번호</th>\n",
       "      <th>인허가일자</th>\n",
       "      <th>인허가취소일자</th>\n",
       "      <th>영업상태구분코드</th>\n",
       "      <th>영업상태명</th>\n",
       "      <th>상세영업상태코드</th>\n",
       "      <th>...</th>\n",
       "      <th>한실수</th>\n",
       "      <th>양실수</th>\n",
       "      <th>조건부허가신고사유</th>\n",
       "      <th>조건부허가시작일자</th>\n",
       "      <th>조건부허가종료일자</th>\n",
       "      <th>건물소유구분명</th>\n",
       "      <th>여성종사자수</th>\n",
       "      <th>남성종사자수</th>\n",
       "      <th>다중이용업소여부</th>\n",
       "      <th>Unnamed: 44</th>\n",
       "    </tr>\n",
       "  </thead>\n",
       "  <tbody>\n",
       "    <tr>\n",
       "      <th>0</th>\n",
       "      <td>1</td>\n",
       "      <td>숙박업</td>\n",
       "      <td>03_11_03_P</td>\n",
       "      <td>3620000</td>\n",
       "      <td>3620000-201-2005-00005</td>\n",
       "      <td>2005-08-18</td>\n",
       "      <td>NaN</td>\n",
       "      <td>1</td>\n",
       "      <td>영업/정상</td>\n",
       "      <td>1</td>\n",
       "      <td>...</td>\n",
       "      <td>8.0</td>\n",
       "      <td>24.0</td>\n",
       "      <td>NaN</td>\n",
       "      <td>NaN</td>\n",
       "      <td>NaN</td>\n",
       "      <td>임대</td>\n",
       "      <td>NaN</td>\n",
       "      <td>NaN</td>\n",
       "      <td>N</td>\n",
       "      <td>NaN</td>\n",
       "    </tr>\n",
       "    <tr>\n",
       "      <th>1</th>\n",
       "      <td>2</td>\n",
       "      <td>숙박업</td>\n",
       "      <td>03_11_03_P</td>\n",
       "      <td>3620000</td>\n",
       "      <td>3620000-201-2000-00013</td>\n",
       "      <td>2000-06-15</td>\n",
       "      <td>NaN</td>\n",
       "      <td>1</td>\n",
       "      <td>영업/정상</td>\n",
       "      <td>1</td>\n",
       "      <td>...</td>\n",
       "      <td>1.0</td>\n",
       "      <td>41.0</td>\n",
       "      <td>NaN</td>\n",
       "      <td>NaN</td>\n",
       "      <td>NaN</td>\n",
       "      <td>NaN</td>\n",
       "      <td>NaN</td>\n",
       "      <td>NaN</td>\n",
       "      <td>N</td>\n",
       "      <td>NaN</td>\n",
       "    </tr>\n",
       "    <tr>\n",
       "      <th>2</th>\n",
       "      <td>3</td>\n",
       "      <td>숙박업</td>\n",
       "      <td>03_11_03_P</td>\n",
       "      <td>3620000</td>\n",
       "      <td>3620000-214-1985-00002</td>\n",
       "      <td>1985-11-19</td>\n",
       "      <td>NaN</td>\n",
       "      <td>1</td>\n",
       "      <td>영업/정상</td>\n",
       "      <td>1</td>\n",
       "      <td>...</td>\n",
       "      <td>8.0</td>\n",
       "      <td>8.0</td>\n",
       "      <td>NaN</td>\n",
       "      <td>NaN</td>\n",
       "      <td>NaN</td>\n",
       "      <td>자가</td>\n",
       "      <td>NaN</td>\n",
       "      <td>NaN</td>\n",
       "      <td>N</td>\n",
       "      <td>NaN</td>\n",
       "    </tr>\n",
       "  </tbody>\n",
       "</table>\n",
       "<p>3 rows × 45 columns</p>\n",
       "</div>"
      ],
      "text/plain": [
       "   번호 개방서비스명    개방서비스아이디  개방자치단체코드                    관리번호       인허가일자  \\\n",
       "0   1    숙박업  03_11_03_P   3620000  3620000-201-2005-00005  2005-08-18   \n",
       "1   2    숙박업  03_11_03_P   3620000  3620000-201-2000-00013  2000-06-15   \n",
       "2   3    숙박업  03_11_03_P   3620000  3620000-214-1985-00002  1985-11-19   \n",
       "\n",
       "   인허가취소일자  영업상태구분코드  영업상태명  상세영업상태코드  ...  한실수   양실수  조건부허가신고사유  조건부허가시작일자  \\\n",
       "0      NaN         1  영업/정상         1  ...  8.0  24.0        NaN        NaN   \n",
       "1      NaN         1  영업/정상         1  ...  1.0  41.0        NaN        NaN   \n",
       "2      NaN         1  영업/정상         1  ...  8.0   8.0        NaN        NaN   \n",
       "\n",
       "   조건부허가종료일자 건물소유구분명  여성종사자수 남성종사자수 다중이용업소여부 Unnamed: 44  \n",
       "0        NaN      임대     NaN    NaN        N         NaN  \n",
       "1        NaN     NaN     NaN    NaN        N         NaN  \n",
       "2        NaN      자가     NaN    NaN        N         NaN  \n",
       "\n",
       "[3 rows x 45 columns]"
      ]
     },
     "execution_count": 27,
     "metadata": {},
     "output_type": "execute_result"
    }
   ],
   "source": [
    "all_home.head(3)"
   ]
  },
  {
   "cell_type": "code",
   "execution_count": 28,
   "id": "5ceb1e53-c86f-498e-8d51-9dd0cf6e783e",
   "metadata": {},
   "outputs": [
    {
     "data": {
      "text/plain": [
       "Index(['번호', '개방서비스명', '개방서비스아이디', '개방자치단체코드', '관리번호', '인허가일자', '인허가취소일자',\n",
       "       '영업상태구분코드', '영업상태명', '상세영업상태코드', '상세영업상태명', '폐업일자', '휴업시작일자', '휴업종료일자',\n",
       "       '재개업일자', '소재지전화', '소재지면적', '소재지우편번호', '소재지전체주소', '도로명전체주소', '도로명우편번호',\n",
       "       '사업장명', '최종수정시점', '데이터갱신구분', '데이터갱신일자', '업태구분명', '좌표정보(x)', '좌표정보(y)',\n",
       "       '위생업태명', '건물지상층수', '건물지하층수', '사용시작지상층', '사용끝지상층', '사용시작지하층', '사용끝지하층',\n",
       "       '한실수', '양실수', '조건부허가신고사유', '조건부허가시작일자', '조건부허가종료일자', '건물소유구분명',\n",
       "       '여성종사자수', '남성종사자수', '다중이용업소여부', 'Unnamed: 44'],\n",
       "      dtype='object')"
      ]
     },
     "execution_count": 28,
     "metadata": {},
     "output_type": "execute_result"
    }
   ],
   "source": [
    "all_home.columns"
   ]
  },
  {
   "cell_type": "code",
   "execution_count": 30,
   "id": "87dca3f8-d2f8-4cc2-bf69-496423cda20e",
   "metadata": {},
   "outputs": [
    {
     "data": {
      "text/plain": [
       "array(['여관업', '숙박업(생활)', '일반호텔', '여인숙업', '숙박업 기타', '관광호텔', '휴양콘도미니엄업',\n",
       "       nan], dtype=object)"
      ]
     },
     "execution_count": 30,
     "metadata": {},
     "output_type": "execute_result"
    }
   ],
   "source": [
    "all_home['업태구분명'].unique()"
   ]
  },
  {
   "cell_type": "code",
   "execution_count": 33,
   "id": "446dec48-807f-4f2c-966c-006482e2c218",
   "metadata": {},
   "outputs": [
    {
     "data": {
      "text/html": [
       "<div>\n",
       "<style scoped>\n",
       "    .dataframe tbody tr th:only-of-type {\n",
       "        vertical-align: middle;\n",
       "    }\n",
       "\n",
       "    .dataframe tbody tr th {\n",
       "        vertical-align: top;\n",
       "    }\n",
       "\n",
       "    .dataframe thead th {\n",
       "        text-align: right;\n",
       "    }\n",
       "</style>\n",
       "<table border=\"1\" class=\"dataframe\">\n",
       "  <thead>\n",
       "    <tr style=\"text-align: right;\">\n",
       "      <th></th>\n",
       "      <th>번호</th>\n",
       "      <th>개방서비스명</th>\n",
       "      <th>개방서비스아이디</th>\n",
       "      <th>개방자치단체코드</th>\n",
       "      <th>관리번호</th>\n",
       "      <th>인허가일자</th>\n",
       "      <th>인허가취소일자</th>\n",
       "      <th>영업상태구분코드</th>\n",
       "      <th>영업상태명</th>\n",
       "      <th>상세영업상태코드</th>\n",
       "      <th>...</th>\n",
       "      <th>안내소유무</th>\n",
       "      <th>기획여행보험시작일자</th>\n",
       "      <th>기획여행보험종료일자</th>\n",
       "      <th>자본금</th>\n",
       "      <th>보험시작일자</th>\n",
       "      <th>보험종료일자</th>\n",
       "      <th>부대시설내역</th>\n",
       "      <th>시설규모</th>\n",
       "      <th>관광숙박업상세명</th>\n",
       "      <th>Unnamed: 64</th>\n",
       "    </tr>\n",
       "  </thead>\n",
       "  <tbody>\n",
       "    <tr>\n",
       "      <th>0</th>\n",
       "      <td>1</td>\n",
       "      <td>관광숙박업</td>\n",
       "      <td>03_11_01_P</td>\n",
       "      <td>4600000</td>\n",
       "      <td>CDFI2260032007000001</td>\n",
       "      <td>2007-04-02</td>\n",
       "      <td>NaN</td>\n",
       "      <td>2</td>\n",
       "      <td>휴업</td>\n",
       "      <td>2</td>\n",
       "      <td>...</td>\n",
       "      <td>NaN</td>\n",
       "      <td>NaN</td>\n",
       "      <td>NaN</td>\n",
       "      <td>1.500000e+09</td>\n",
       "      <td>NaN</td>\n",
       "      <td>NaN</td>\n",
       "      <td>NaN</td>\n",
       "      <td>452.0</td>\n",
       "      <td>관광호텔업</td>\n",
       "      <td>NaN</td>\n",
       "    </tr>\n",
       "    <tr>\n",
       "      <th>1</th>\n",
       "      <td>2</td>\n",
       "      <td>관광숙박업</td>\n",
       "      <td>03_11_01_P</td>\n",
       "      <td>4530000</td>\n",
       "      <td>CDFI2260032018000001</td>\n",
       "      <td>2018-05-11</td>\n",
       "      <td>NaN</td>\n",
       "      <td>2</td>\n",
       "      <td>휴업</td>\n",
       "      <td>2</td>\n",
       "      <td>...</td>\n",
       "      <td>NaN</td>\n",
       "      <td>NaN</td>\n",
       "      <td>NaN</td>\n",
       "      <td>NaN</td>\n",
       "      <td>NaN</td>\n",
       "      <td>NaN</td>\n",
       "      <td>NaN</td>\n",
       "      <td>NaN</td>\n",
       "      <td>관광호텔업</td>\n",
       "      <td>NaN</td>\n",
       "    </tr>\n",
       "    <tr>\n",
       "      <th>2</th>\n",
       "      <td>3</td>\n",
       "      <td>관광숙박업</td>\n",
       "      <td>03_11_01_P</td>\n",
       "      <td>3470000</td>\n",
       "      <td>CDFI2260031989000001</td>\n",
       "      <td>1989-04-14</td>\n",
       "      <td>NaN</td>\n",
       "      <td>2</td>\n",
       "      <td>휴업</td>\n",
       "      <td>2</td>\n",
       "      <td>...</td>\n",
       "      <td>NaN</td>\n",
       "      <td>NaN</td>\n",
       "      <td>NaN</td>\n",
       "      <td>0.000000e+00</td>\n",
       "      <td>NaN</td>\n",
       "      <td>NaN</td>\n",
       "      <td>NaN</td>\n",
       "      <td>9999.0</td>\n",
       "      <td>관광호텔업</td>\n",
       "      <td>NaN</td>\n",
       "    </tr>\n",
       "  </tbody>\n",
       "</table>\n",
       "<p>3 rows × 65 columns</p>\n",
       "</div>"
      ],
      "text/plain": [
       "   번호 개방서비스명    개방서비스아이디  개방자치단체코드                  관리번호       인허가일자 인허가취소일자  \\\n",
       "0   1  관광숙박업  03_11_01_P   4600000  CDFI2260032007000001  2007-04-02     NaN   \n",
       "1   2  관광숙박업  03_11_01_P   4530000  CDFI2260032018000001  2018-05-11     NaN   \n",
       "2   3  관광숙박업  03_11_01_P   3470000  CDFI2260031989000001  1989-04-14     NaN   \n",
       "\n",
       "   영업상태구분코드 영업상태명  상세영업상태코드  ... 안내소유무 기획여행보험시작일자 기획여행보험종료일자           자본금  \\\n",
       "0         2    휴업         2  ...   NaN        NaN        NaN  1.500000e+09   \n",
       "1         2    휴업         2  ...   NaN        NaN        NaN           NaN   \n",
       "2         2    휴업         2  ...   NaN        NaN        NaN  0.000000e+00   \n",
       "\n",
       "   보험시작일자 보험종료일자  부대시설내역    시설규모 관광숙박업상세명 Unnamed: 64  \n",
       "0     NaN    NaN     NaN   452.0    관광호텔업         NaN  \n",
       "1     NaN    NaN     NaN     NaN    관광호텔업         NaN  \n",
       "2     NaN    NaN     NaN  9999.0    관광호텔업         NaN  \n",
       "\n",
       "[3 rows x 65 columns]"
      ]
     },
     "execution_count": 33,
     "metadata": {},
     "output_type": "execute_result"
    }
   ],
   "source": [
    "home1.head(3)"
   ]
  },
  {
   "cell_type": "code",
   "execution_count": 36,
   "id": "0ce1edf5-6c8b-4ae5-827b-74059731e427",
   "metadata": {},
   "outputs": [
    {
     "data": {
      "text/plain": [
       "Index(['번호', '개방서비스명', '개방서비스아이디', '개방자치단체코드', '관리번호', '인허가일자', '인허가취소일자',\n",
       "       '영업상태구분코드', '영업상태명', '상세영업상태코드', '상세영업상태명', '폐업일자', '휴업시작일자', '휴업종료일자',\n",
       "       '재개업일자', '소재지전화', '소재지면적', '소재지우편번호', '소재지전체주소', '도로명전체주소', '도로명우편번호',\n",
       "       '사업장명', '최종수정시점', '데이터갱신구분', '데이터갱신일자', '업태구분명', '좌표정보(x)', '좌표정보(y)',\n",
       "       '문화체육업종명', '문화사업자구분명', '지역구분명', '총층수', '주변환경명', '제작취급품목내용', '보험기관명',\n",
       "       '건물용도명', '지상층수', '지하층수', '객실수', '건축연면적', '영문상호명', '영문상호주소', '선박총톤수',\n",
       "       '선박척수', '선박제원', '무대면적', '좌석수', '기념품종류', '회의실별동시수용인원', '시설면적', '놀이기구수내역',\n",
       "       '놀이시설수', '방송시설유무', '발전시설유무', '의무실유무', '안내소유무', '기획여행보험시작일자',\n",
       "       '기획여행보험종료일자', '자본금', '보험시작일자', '보험종료일자', '부대시설내역', '시설규모', '관광숙박업상세명',\n",
       "       'Unnamed: 64'],\n",
       "      dtype='object')"
      ]
     },
     "execution_count": 36,
     "metadata": {},
     "output_type": "execute_result"
    }
   ],
   "source": [
    "home1.columns"
   ]
  },
  {
   "cell_type": "code",
   "execution_count": 40,
   "id": "71dc1210-ec88-423c-babd-904fb93fc0a8",
   "metadata": {},
   "outputs": [
    {
     "data": {
      "text/plain": [
       "array(['휴업', '폐업', '영업/정상', '취소/말소/만료/정지/중지'], dtype=object)"
      ]
     },
     "execution_count": 40,
     "metadata": {},
     "output_type": "execute_result"
    }
   ],
   "source": [
    "home1['영업상태명'].unique()"
   ]
  },
  {
   "cell_type": "code",
   "execution_count": 44,
   "id": "9adbf1f2-fbbc-42d6-b5bc-d2a73791a7da",
   "metadata": {},
   "outputs": [
    {
     "data": {
      "text/plain": [
       "0"
      ]
     },
     "execution_count": 44,
     "metadata": {},
     "output_type": "execute_result"
    }
   ],
   "source": [
    "home1 = home1[home1['영업상태명'] == '영업/정상']\n",
    "home1['사업장명'].isna().sum()"
   ]
  }
 ],
 "metadata": {
  "kernelspec": {
   "display_name": "Python 3 (ipykernel)",
   "language": "python",
   "name": "python3"
  },
  "language_info": {
   "codemirror_mode": {
    "name": "ipython",
    "version": 3
   },
   "file_extension": ".py",
   "mimetype": "text/x-python",
   "name": "python",
   "nbconvert_exporter": "python",
   "pygments_lexer": "ipython3",
   "version": "3.11.7"
  }
 },
 "nbformat": 4,
 "nbformat_minor": 5
}
