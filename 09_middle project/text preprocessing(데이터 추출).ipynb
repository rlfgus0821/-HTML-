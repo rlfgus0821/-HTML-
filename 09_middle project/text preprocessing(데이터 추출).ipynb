{
 "cells": [
  {
   "cell_type": "code",
   "execution_count": 50,
   "id": "9a53eefc-121e-4373-be40-c339c5091bde",
   "metadata": {},
   "outputs": [],
   "source": [
    "import pandas as pd\n",
    "import numpy as np\n",
    "import matplotlib.pyplot as plt\n",
    "import seaborn as sns\n",
    "from nltk.probability import FreqDist\n",
    "import string\n",
    "from wordcloud import WordCloud\n",
    "from konlpy.tag import Okt\n",
    "from collections import Counter\n",
    "import ast\n",
    "\n",
    "import platform\n",
    "from matplotlib import font_manager, rc\n",
    "\n",
    "plt.rcParams['axes.unicode_minus']=False\n",
    "\n",
    "path = 'c:/Windows/Fonts/malgun.ttf'\n",
    "font_name = font_manager.FontProperties(fname=path).get_name()\n",
    "rc('font',family=font_name)"
   ]
  },
  {
   "cell_type": "code",
   "execution_count": 69,
   "id": "6f66da10-dc77-47d2-976c-bc4783c7b5c4",
   "metadata": {},
   "outputs": [],
   "source": [
    "cnam = pd.read_csv('data/전처리1 데이터/충남1.csv')\n",
    "one = pd.read_csv('data/전처리1 데이터/강원1.csv')\n",
    "gg = pd.read_csv('data/전처리1 데이터/경기1.csv')\n",
    "ic = pd.read_csv('data/전처리1 데이터/인천1.csv')\n",
    "cbook = pd.read_csv('data/전처리1 데이터/충북1.csv')\n",
    "jeju = pd.read_csv('data/전처리1 데이터/제주도1.csv')\n",
    "seoul = pd.read_csv('data/전처리1 데이터/서울1.csv')\n",
    "gnam = pd.read_csv('data/전처리1 데이터/경남1.csv')\n",
    "gbook = pd.read_csv('data/전처리1 데이터/경북1.csv')\n",
    "daegu = pd.read_csv('data/전처리1 데이터/대구1.csv')\n",
    "daej = pd.read_csv('data/전처리1 데이터/대전1.csv')\n",
    "busan = pd.read_csv('data/전처리1 데이터/부산1.csv')\n",
    "sejong = pd.read_csv('data/전처리1 데이터/세종1.csv')\n",
    "ulsan = pd.read_csv('data/전처리1 데이터/울산1.csv')\n",
    "jnam = pd.read_csv('data/전처리1 데이터/전남1.csv')\n",
    "jbook = pd.read_csv('data/전처리1 데이터/전북1.csv')\n",
    "gj = pd.read_csv('data/전처리1 데이터/광주1.csv')"
   ]
  },
  {
   "cell_type": "markdown",
   "id": "8ae56c23-a4dd-4a0d-b092-ed11050ff8bd",
   "metadata": {},
   "source": [
    "## 결측치 처리 및 형태 변경, 정렬"
   ]
  },
  {
   "cell_type": "code",
   "execution_count": 70,
   "id": "0dc9ed87-dd08-4916-8b77-b68b691c2400",
   "metadata": {},
   "outputs": [],
   "source": [
    "# 1. 딕셔너리에 문자열이 덮혀있어서 제거\n",
    "def dict(df):\n",
    "    for i in range(len(df)):\n",
    "        df.at[i, 'good_keyword_ratio'] = ast.literal_eval(df.at[i, 'good_keyword_ratio'])\n",
    "        df.at[i, 'services'] = ast.literal_eval(df.at[i, 'services'])\n",
    "        df.at[i, 'star&reviews'] = ast.literal_eval(df.at[i, 'star&reviews'])\n",
    "        df.at[i, 'good_keyword_freq'] = ast.literal_eval(df.at[i, 'good_keyword_freq'])\n",
    "        df.at[i, 'good_keyword'] = ast.literal_eval(df.at[i, 'good_keyword'])\n",
    "        df.at[i, 'bad_keyword'] = ast.literal_eval(df.at[i, 'bad_keyword'])        \n",
    "    return df "
   ]
  },
  {
   "cell_type": "code",
   "execution_count": 71,
   "id": "87fe9a2a-829d-41f0-b0df-88a9dfe00fdb",
   "metadata": {},
   "outputs": [],
   "source": [
    "# 2. 리뷰 높은순 정렬\n",
    "def review_sort(df):\n",
    "    for i in range(len(df)):\n",
    "        reviews = df.loc[i, 'star&reviews']\n",
    "        # NaN인 경우 빈 리스트로 처리\n",
    "        if isinstance(reviews, float) and np.isnan(reviews):\n",
    "            sorted_reviews = []\n",
    "        else:\n",
    "            sorted_reviews = sorted(reviews, key=lambda x: x[0], reverse=True)\n",
    "        df.loc[i, 'star&reviews'] = str(sorted_reviews)\n",
    "        df.at[i, 'star&reviews'] = ast.literal_eval(df.at[i, 'star&reviews'])\n",
    "    return df"
   ]
  },
  {
   "cell_type": "code",
   "execution_count": 72,
   "id": "07b8db6c-d19b-4c4d-af33-08d41eb73ade",
   "metadata": {},
   "outputs": [],
   "source": [
    "# 3. 키워드 빈도수 정리\n",
    "def count_keyword(df, keywordlist):\n",
    "    df['good_keyword_freq'] = pd.Series(dtype=str)\n",
    "    for i in range(len(df)):\n",
    "        keyword_freq = {}\n",
    "        for keyword in keywordlist:\n",
    "            try:\n",
    "                if df.loc[i, 'good'].count(keyword):\n",
    "                    freq = df.loc[i,'good'].count(keyword)\n",
    "                    keyword_freq[keyword] = freq\n",
    "            except:\n",
    "                keyword_freq[keyword] = 0\n",
    "        df.loc[i,'good_keyword_freq'] = str(keyword_freq)"
   ]
  },
  {
   "cell_type": "code",
   "execution_count": 73,
   "id": "1dddc65a-d62c-4942-aeb7-638390907bc0",
   "metadata": {},
   "outputs": [],
   "source": [
    "# 'services'에 nan값을 []로 변경\n",
    "lists = cnam, one, gg, ic, cbook, jeju, seoul, gnam, gbook, daegu,daej, busan, sejong, ulsan, jnam, jbook, gj\n",
    "for idx, df in enumerate(lists):\n",
    "    lists[idx]['services'] = df['services'].fillna(\"[]\")\n",
    "cnam, one, gg, ic, cbook, jeju, seoul, gnam, gbook, daegu,daej, busan, sejong, ulsan, jnam, jbook, gj = lists"
   ]
  },
  {
   "cell_type": "code",
   "execution_count": 74,
   "id": "c43be313-07a0-4f63-a59f-47a61ab54f38",
   "metadata": {},
   "outputs": [],
   "source": [
    "# 지역별 긍정 키워드 TOP10\n",
    "one_keywordlist = '청결 객실 시설 바다 직원 속초 이용 가격 예약 위치'.split()\n",
    "cnam_keywordlist = '청결 시설 객실 이용 직원 주변 조식 가격 화장실 주차'.split()\n",
    "gg_keywordlist = '청결 객실 직원 이용 시설 주변 주차 침대 조식 가격'.split()\n",
    "ic_keywordlist = '청결 객실 시설 직원 이용 주변 가격 주차 체크 근처'.split()\n",
    "cbook_keywordlist = '청결 객실 시설 직원 이용 주변 조식 청주 예약 생각'.split()\n",
    "jeju_keywordlist = '청결 직원 가격 객실 시설 이용 침대 위치 근처 주차'.split()\n",
    "seoul_keywordlist = '청결 객실 직원 이용 위치 가격 시설 체크 조식 근처'.split()\n",
    "gnam_keywordlist = '청결 객실 시설 직원 이용 조식 예약 주변 바다 침대'.split()\n",
    "gbook_keywordlist = '청결 객실 시설 조식 직원 경주 이용 가격 위치 가족'.split()\n",
    "daegu_keywordlist = '청결 조식 시설 객실 직원 이용 주변 주차 가격 예약'.split()\n",
    "daej_keywordlist = '청결 객실 가격 조식 주차 이용 직원 시설 위치 주변'.split()\n",
    "busan_keywordlist = '청결 객실 직원 위치 바다 이용 가격 시설 해운대 오션'.split()\n",
    "sejong_keywordlist = '청결 시설 여유 주차 식당 상태 주변 청소 침구 주차공간'.split()\n",
    "ulsan_keywordlist = '청결 객실 주차 시설 위치 직원 조식 가격 침대 이용'.split()\n",
    "jnam_keywordlist = '청결 객실 시설 직원 여수 조식 가격 침대 이용 바다'.split()\n",
    "jbook_keywordlist = '청결 직원 객실 시설 전주 조식 마을 이용 침대 위치'.split()\n",
    "gj_keywordlist = '청결 조식 시설 직원 객실 이용 주차 침대 가격 주변'.split()"
   ]
  },
  {
   "cell_type": "code",
   "execution_count": 75,
   "id": "8bda6e3f-3272-48fc-ac00-8a2e30adebb7",
   "metadata": {},
   "outputs": [],
   "source": [
    "# 키워드 빈도수 세기 모든 지역 진행\n",
    "lists = [cnam, one, gg, ic, cbook, jeju, seoul, gnam, gbook, daegu,daej, busan, sejong, ulsan, jnam, jbook, gj]\n",
    "keyword_lists =[cnam_keywordlist, one_keywordlist, gg_keywordlist, ic_keywordlist, cbook_keywordlist, jeju_keywordlist, seoul_keywordlist, gnam_keywordlist, gbook_keywordlist,daegu_keywordlist, daej_keywordlist, busan_keywordlist, sejong_keywordlist, ulsan_keywordlist,jnam_keywordlist, jbook_keywordlist, gj_keywordlist]\n",
    "\n",
    "keyword_dict = {}\n",
    "for idx, df in enumerate(lists):\n",
    "    count_keyword(lists[idx], keyword_lists[idx])\n",
    "\n",
    "cnam, one, gg, ic, cbook, jeju, seoul, gnam, gbook, daegu,daej, busan, sejong, ulsan, jnam, jbook, gj = lists"
   ]
  },
  {
   "cell_type": "code",
   "execution_count": 76,
   "id": "955348b2-8d08-4559-9026-ef54abd14dfa",
   "metadata": {},
   "outputs": [],
   "source": [
    "# 모든 지역 진행\n",
    "lists = cnam, one, gg, ic, cbook, jeju, seoul, gnam, gbook, daegu,daej, busan, sejong, ulsan, jnam, jbook, gj\n",
    "\n",
    "for i in lists:\n",
    "    dict(i)\n",
    "    review_sort(i)\n",
    "\n",
    "cnam, one, gg, ic, cbook, jeju, seoul, gnam, gbook, daegu,daej, busan, sejong, ulsan, jnam, jbook, gj = lists"
   ]
  },
  {
   "cell_type": "code",
   "execution_count": 77,
   "id": "9f46399d-bc57-4832-9ed4-cbf9da9adfc5",
   "metadata": {},
   "outputs": [],
   "source": [
    "cnam.to_csv('충남1.csv',index=False)\n",
    "one.to_csv('강원1.csv',index=False)\n",
    "gg.to_csv('경기1.csv',index=False)\n",
    "ic.to_csv('인천1.csv',index=False)\n",
    "cbook.to_csv('충북1.csv',index=False)\n",
    "jeju.to_csv('제주도1.csv',index=False)\n",
    "seoul.to_csv('서울1.csv',index=False)\n",
    "gnam.to_csv('경남1.csv',index=False)\n",
    "gbook.to_csv('경북1.csv',index=False)\n",
    "daegu.to_csv('대구1.csv',index=False)\n",
    "daej.to_csv('대전1.csv',index=False)\n",
    "busan.to_csv('부산1.csv',index=False)\n",
    "sejong.to_csv('세종1.csv',index=False)\n",
    "ulsan.to_csv('울산1.csv',index=False)\n",
    "jnam.to_csv('전남1.csv',index=False)\n",
    "jbook.to_csv('전북1.csv',index=False)\n",
    "gj.to_csv('광주1.csv',index=False)"
   ]
  },
  {
   "cell_type": "markdown",
   "id": "368a8eb0-07bd-488a-bb19-40ace01396e8",
   "metadata": {},
   "source": [
    "------------------------------------------------------------------------------------------------------------------------------------------------------------------------------------"
   ]
  },
  {
   "cell_type": "markdown",
   "id": "d2a9ee7f-7250-4df4-a44d-765b95772775",
   "metadata": {},
   "source": [
    "## 키워드를 입력하면 해당 키워드의 상위 n개의 데이터 추출"
   ]
  },
  {
   "cell_type": "code",
   "execution_count": 59,
   "id": "84929c34-e31b-40b4-a225-b79dbedac335",
   "metadata": {},
   "outputs": [],
   "source": [
    "# TOP10긍정 키워드 비율 딕셔너리에서 키워드 선택하면 그 키워드 topn 정렬 후 추출\n",
    "def ratio_topn(df,keyword,n):\n",
    "# 'good_keyword_ratio' 열의 각 행에 있는 딕셔너리를 기반으로 keyword 키의 값을 추출하여 리스트에 저장\n",
    "    clean_list = []\n",
    "    for i in range(len(df['good_keyword_ratio'])):\n",
    "        dict = df.at[i, 'good_keyword_ratio']\n",
    "        if keyword in dict:\n",
    "            clean_list.append(dict[keyword])\n",
    "        else:  # keyword 키가 없으면 기본값으로 0을 추가\n",
    "            clean_list.append(0)  \n",
    "    # 데이터프레임을 정렬\n",
    "    df_sorted = df.iloc[pd.Series(clean_list).sort_values(ascending=False).index][:n]\n",
    "    return df_sorted"
   ]
  },
  {
   "cell_type": "code",
   "execution_count": 61,
   "id": "bde7fd79-42ae-4325-8e2c-434d608e053f",
   "metadata": {},
   "outputs": [],
   "source": [
    "# TOP10긍정 키워드 빈도수 딕셔너리에서 키워드 선택하면 그 키워드 topn 정렬 후 추출\n",
    "def freq_topn(df,keyword,n):\n",
    "    clean_list = []\n",
    "    for i in range(len(df['good_keyword_freq'])):\n",
    "        dict = df.at[i, 'good_keyword_freq']\n",
    "        if keyword in dict:\n",
    "            clean_list.append(dict[keyword])\n",
    "        else:  # keyword 키가 없으면 기본값으로 0을 추가\n",
    "            clean_list.append(0)  \n",
    "    # 데이터프레임을 정렬\n",
    "    df_sorted = df.iloc[pd.Series(clean_list).sort_values(ascending=False).index][:n]\n",
    "    return df_sorted"
   ]
  },
  {
   "cell_type": "code",
   "execution_count": 62,
   "id": "89649c0d-df4a-4c71-8f54-670c8f48ffb5",
   "metadata": {},
   "outputs": [],
   "source": [
    "# TOPn 리뷰 추출\n",
    "def review_topn(df,hotel_name, n):\n",
    "    for i in range(len(df)):\n",
    "        reviews = df[df['hotel_name'] == hotel_name]['star&reviews'].tolist()\n",
    "        sorted_reviews = sorted(reviews, key=lambda x: x[0], reverse=True)\n",
    "        result = sorted_reviews[0][:n]\n",
    "    return result"
   ]
  },
  {
   "cell_type": "markdown",
   "id": "90d3e9c5-62be-4659-8c39-c9bcf1e1e2e9",
   "metadata": {},
   "source": [
    "------------------------------------------------------------------------------------------------------------------------------------------------------------------------------------"
   ]
  },
  {
   "cell_type": "markdown",
   "id": "85c5d408-07dc-425b-b3ff-eb561bab308a",
   "metadata": {},
   "source": [
    "## 호텔 클릭시 -> 호텔명 / 시설정보 / 리뷰 n개 추출"
   ]
  },
  {
   "cell_type": "code",
   "execution_count": 63,
   "id": "403ceb89-3c66-4c78-b414-20c6691f698b",
   "metadata": {},
   "outputs": [],
   "source": [
    "def click_hotel(df,hotel_name,n):\n",
    "    hotel = df[df['hotel_name'] == hotel_name]['hotel_name'].iloc[0]\n",
    "    services = df[df['hotel_name'] == hotel_name]['services'].iloc[0]\n",
    "    review = review_topn(df,hotel_name,n)\n",
    "    return hotel, services, review"
   ]
  },
  {
   "cell_type": "markdown",
   "id": "c84a80d6-8370-46c9-ada3-c8f5251b6d8f",
   "metadata": {},
   "source": [
    "## 키워드 빈도수로 할 경우"
   ]
  },
  {
   "cell_type": "code",
   "execution_count": 64,
   "id": "2b3f05c5-c216-4e7d-987a-5983a362014c",
   "metadata": {},
   "outputs": [
    {
     "data": {
      "text/plain": [
       "['더 베네치아 스위트',\n",
       " '속초 비즈니스 호텔 카멜',\n",
       " '센텀마크 호텔 양양',\n",
       " '르부르낙산 바이 체스터톤스',\n",
       " '강릉씨티호텔',\n",
       " '어반스테이 속초등대해변',\n",
       " '속초 아이파크스위트 호텔앤레지던스',\n",
       " '청초호베스트호텔',\n",
       " '어반스테이 속초해변 AB',\n",
       " '하이오션 경포']"
      ]
     },
     "execution_count": 64,
     "metadata": {},
     "output_type": "execute_result"
    }
   ],
   "source": [
    "one_sor_freq = freq_topn(one,'청결',10)\n",
    "one_sor_freq['hotel_name'].tolist()"
   ]
  },
  {
   "cell_type": "code",
   "execution_count": 65,
   "id": "0290ddab-0ab2-4c67-b1cd-4c7c190dfd00",
   "metadata": {},
   "outputs": [
    {
     "data": {
      "text/plain": [
       "('속초 비즈니스 호텔 카멜',\n",
       " ['조식포함',\n",
       "  '와이파이',\n",
       "  '욕실용품',\n",
       "  '금연',\n",
       "  'TV',\n",
       "  '엘레베이터',\n",
       "  '에어컨',\n",
       "  '냉장고',\n",
       "  '짐보관가능',\n",
       "  '객실샤워실',\n",
       "  '무료주차',\n",
       "  '카페',\n",
       "  '드라이기',\n",
       "  '카드결제',\n",
       "  '주차장'],\n",
       " [[5.0, '3일 전', '깨끗하고 항상 친절합니다'],\n",
       "  [5.0, '5일 전', '방도 깔끔하고 수압이나 소음 하나도 불편한게 없었습니다!'],\n",
       "  [5.0, '6일 전', '역시 믿고 보는 숙소~\\n짱입니다^^']])"
      ]
     },
     "execution_count": 65,
     "metadata": {},
     "output_type": "execute_result"
    }
   ],
   "source": [
    "click_hotel(one_sor_freq,'속초 비즈니스 호텔 카멜',3)"
   ]
  },
  {
   "cell_type": "markdown",
   "id": "ae9bd6e4-7dea-46ab-b414-e2667b0b49ad",
   "metadata": {},
   "source": [
    "## 키워드 비율로 할 경우"
   ]
  },
  {
   "cell_type": "code",
   "execution_count": 66,
   "id": "2965843a-0e03-4080-98be-667718837453",
   "metadata": {},
   "outputs": [
    {
     "data": {
      "text/plain": [
       "['속초 비즈니스 호텔 카멜',\n",
       " '더 베네치아 스위트',\n",
       " '센텀마크 호텔 양양',\n",
       " '강릉씨티호텔',\n",
       " '동해오션시티 레지던스호텔',\n",
       " '청초호베스트호텔',\n",
       " '라마다 속초',\n",
       " '오션투유리조트 설악비치 호텔&콘도',\n",
       " '속초 아이파크스위트 호텔앤레지던스',\n",
       " '하이원 그랜드 호텔 메인타워']"
      ]
     },
     "execution_count": 66,
     "metadata": {},
     "output_type": "execute_result"
    }
   ],
   "source": [
    "one_sor_ratio = ratio_topn(one,'청결',10)\n",
    "one_sor_ratio['hotel_name'].tolist()"
   ]
  },
  {
   "cell_type": "code",
   "execution_count": 67,
   "id": "a867ff81-9567-4977-bbcd-661d6857c329",
   "metadata": {},
   "outputs": [],
   "source": [
    "hotel, services, review = click_hotel(one_sor_ratio,'속초 비즈니스 호텔 카멜',3)"
   ]
  },
  {
   "cell_type": "code",
   "execution_count": 68,
   "id": "f53d38ec-9483-463e-8e05-c807b5df07da",
   "metadata": {},
   "outputs": [
    {
     "data": {
      "text/plain": [
       "'속초 비즈니스 호텔 카멜'"
      ]
     },
     "execution_count": 68,
     "metadata": {},
     "output_type": "execute_result"
    }
   ],
   "source": [
    "hotel"
   ]
  },
  {
   "cell_type": "code",
   "execution_count": 19,
   "id": "18adfc72-949a-40af-9890-1e165453bc86",
   "metadata": {},
   "outputs": [
    {
     "data": {
      "text/plain": [
       "['조식포함',\n",
       " '와이파이',\n",
       " '욕실용품',\n",
       " '금연',\n",
       " 'TV',\n",
       " '엘레베이터',\n",
       " '에어컨',\n",
       " '냉장고',\n",
       " '짐보관가능',\n",
       " '객실샤워실',\n",
       " '무료주차',\n",
       " '카페',\n",
       " '드라이기',\n",
       " '카드결제',\n",
       " '주차장']"
      ]
     },
     "execution_count": 19,
     "metadata": {},
     "output_type": "execute_result"
    }
   ],
   "source": [
    "services"
   ]
  },
  {
   "cell_type": "code",
   "execution_count": 20,
   "id": "45644fc5-7215-444f-8283-f8857488ab08",
   "metadata": {},
   "outputs": [
    {
     "data": {
      "text/plain": [
       "[[5.0, '3일 전', '깨끗하고 항상 친절합니다'],\n",
       " [5.0, '5일 전', '방도 깔끔하고 수압이나 소음 하나도 불편한게 없었습니다!'],\n",
       " [5.0, '6일 전', '역시 믿고 보는 숙소~\\n짱입니다^^']]"
      ]
     },
     "execution_count": 20,
     "metadata": {},
     "output_type": "execute_result"
    }
   ],
   "source": [
    "review"
   ]
  }
 ],
 "metadata": {
  "kernelspec": {
   "display_name": "Python 3 (ipykernel)",
   "language": "python",
   "name": "python3"
  },
  "language_info": {
   "codemirror_mode": {
    "name": "ipython",
    "version": 3
   },
   "file_extension": ".py",
   "mimetype": "text/x-python",
   "name": "python",
   "nbconvert_exporter": "python",
   "pygments_lexer": "ipython3",
   "version": "3.11.7"
  }
 },
 "nbformat": 4,
 "nbformat_minor": 5
}
