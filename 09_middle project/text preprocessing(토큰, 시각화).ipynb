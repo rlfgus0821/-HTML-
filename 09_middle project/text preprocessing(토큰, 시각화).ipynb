{
 "cells": [
  {
   "cell_type": "code",
   "execution_count": 65,
   "id": "6c51f5c3-78b7-4835-a888-ec1a372f3a0e",
   "metadata": {},
   "outputs": [],
   "source": [
    "import pandas as pd\n",
    "import numpy as np\n",
    "import matplotlib.pyplot as plt\n",
    "import seaborn as sns\n",
    "from nltk.probability import FreqDist\n",
    "import string\n",
    "from wordcloud import WordCloud\n",
    "from konlpy.tag import Okt\n",
    "from collections import Counter\n",
    "import ast\n",
    "\n",
    "import platform\n",
    "from matplotlib import font_manager, rc\n",
    "\n",
    "plt.rcParams['axes.unicode_minus']=False\n",
    "\n",
    "path = 'c:/Windows/Fonts/malgun.ttf'\n",
    "font_name = font_manager.FontProperties(fname=path).get_name()\n",
    "rc('font',family=font_name)"
   ]
  },
  {
   "cell_type": "markdown",
   "id": "aa3a02e8-1e00-46d6-ae9b-c87158753e9f",
   "metadata": {},
   "source": [
    "## good, bad 리뷰 나누고 TOP10 키워드 빈도수 세기"
   ]
  },
  {
   "cell_type": "code",
   "execution_count": 83,
   "id": "c2be0b04-26d3-4036-b431-37eaa3c5ee5b",
   "metadata": {},
   "outputs": [],
   "source": [
    "cnam = pd.read_csv('data/충남.csv')\n",
    "one = pd.read_csv('data/강원.csv')\n",
    "gg = pd.read_csv('data/경기.csv')\n",
    "ic = pd.read_csv('data/인천.csv')\n",
    "cbook = pd.read_csv('data/충북.csv')\n",
    "jeju = pd.read_csv('data/제주도.csv')\n",
    "seoul = pd.read_csv('data/서울.csv')\n",
    "gnam = pd.read_csv('data/경남.csv')\n",
    "gbook = pd.read_csv('data/경북.csv')\n",
    "daegu = pd.read_csv('data/대구.csv')\n",
    "daej = pd.read_csv('data/대전.csv')\n",
    "busan = pd.read_csv('data/부산.csv')\n",
    "sejong = pd.read_csv('data/세종.csv')\n",
    "ulsan = pd.read_csv('data/울산.csv')\n",
    "jnam = pd.read_csv('data/전남.csv')\n",
    "jbook = pd.read_csv('data/전북.csv')\n",
    "gj = pd.read_csv('data/광주.csv')"
   ]
  },
  {
   "cell_type": "code",
   "execution_count": 84,
   "id": "9e9a2fda-2bc2-4594-b58d-6b4590feb4b2",
   "metadata": {
    "scrolled": true
   },
   "outputs": [],
   "source": [
    "# 1. 긍정 / 부정 나누기\n",
    "def goodbad(df):\n",
    "    # 특수기호 지우기(string.punctuation = '!\"#$%&\\'()*+,-./:;<=>?@[\\\\]^_`{|}~')\n",
    "    def remove_punctuation(text):\n",
    "        return ''.join([i for i in text if i not in string.punctuation])\n",
    "        \n",
    "    df['good'] = pd.Series(dtype=str)\n",
    "    df['bad'] = pd.Series(dtype=str)\n",
    "    # 모든 행을 돌리기\n",
    "    for i in range(len(df)):\n",
    "        # i행의 모든 평점, 리뷰\n",
    "        list = eval(df.loc[i,'star&reviews'])\n",
    "        go_list = []\n",
    "        ba_list = []\n",
    "        # 모든 리뷰 돌리기\n",
    "        for hotel in range(len(list)):\n",
    "            # 별점이 3점 이상 -> good\n",
    "            if eval(df.loc[i,'star&reviews'])[hotel][0] >= 3.0:\n",
    "                go_list.append(eval(df.loc[i,'star&reviews'])[hotel][2]) \n",
    "                \n",
    "            # 별점이 3점 이하 -> bad\n",
    "            elif eval(df.loc[i,'star&reviews'])[hotel][0] <= 3.0:\n",
    "                ba_list.append(eval(df.loc[i,'star&reviews'])[hotel][2])\n",
    "        go_list_join = ' '.join(go_list) \n",
    "        ba_list_join = ' '.join(ba_list)\n",
    "        good_list_join = remove_punctuation(go_list_join)\n",
    "        bad_list_join = remove_punctuation(ba_list_join)\n",
    "        \n",
    "        good_list_join =good_list_join.replace('\\n', '')\n",
    "        bad_list_join = bad_list_join.replace('\\n', '')\n",
    "        \n",
    "        df.loc[i, 'good'] = ''.join(good_list_join)\n",
    "        df.loc[i, 'bad'] = ''.join(bad_list_join)"
   ]
  },
  {
   "cell_type": "code",
   "execution_count": 4,
   "id": "4eaf3c2c-80b2-4a06-b663-a39e2118b0dd",
   "metadata": {},
   "outputs": [],
   "source": [
    "# 2. 유사단어들 한 단어로 통일시키기\n",
    "def replace_word_good(word, replace, df):\n",
    "    for i in range(len(df)):\n",
    "        re_list = []\n",
    "        good_split = df.loc[i, 'good'].split()\n",
    "        for j in range(len(good_split)):\n",
    "            if word in good_split[j]:\n",
    "                good_split[j] = replace\n",
    "                re_list.append(good_split[j])\n",
    "            else:\n",
    "                re_list.append(good_split[j])\n",
    "        df.loc[i, 'good'] = ' '.join(re_list)\n",
    "    return df"
   ]
  },
  {
   "cell_type": "code",
   "execution_count": 5,
   "id": "fea4ca68-cb79-465a-9a15-3716326fa2fc",
   "metadata": {},
   "outputs": [],
   "source": [
    "# 2-1. 유사단어들 한 단어로 통일시키기\n",
    "def replace_word_bad(word, replace, df):\n",
    "    for i in range(len(df)):\n",
    "        re_list = []\n",
    "        good_split = df.loc[i, 'bad'].split()\n",
    "        for j in range(len(good_split)):\n",
    "            if word in good_split[j]:\n",
    "                good_split[j] = replace\n",
    "                re_list.append(good_split[j])\n",
    "            else:\n",
    "                re_list.append(good_split[j])\n",
    "        df.loc[i, 'bad'] = ' '.join(re_list)\n",
    "    return df"
   ]
  },
  {
   "cell_type": "code",
   "execution_count": 6,
   "id": "ba56ed6d-f74a-4b1a-bc4e-f57c84cc1ca0",
   "metadata": {},
   "outputs": [],
   "source": [
    "# 3. 서비스 o,x로 표시\n",
    "def services(df, service_list):\n",
    "    import ast\n",
    "    # 새로운 열을 추가하여 'O' 또는 'X'로 표시\n",
    "    for service in service_list:\n",
    "        df[service] = df['services'].apply(lambda x: 'O' if service in ast.literal_eval(x) else 'X')\n",
    "    return df"
   ]
  },
  {
   "cell_type": "code",
   "execution_count": 145,
   "id": "87dbae5d-cc5e-4e5c-9ec0-850050304047",
   "metadata": {},
   "outputs": [],
   "source": [
    "# 4. 키워드 개수 세기\n",
    "def count_keyword(df, keywordlist):\n",
    "    df['good_keyword_ratio'] = pd.Series(dtype=str)\n",
    "    for i in range(len(df)):\n",
    "        keyword_ratios = {}\n",
    "        for keyword in keywordlist:\n",
    "            if df.loc[i,'good'].count(keyword) != 0:\n",
    "                ratio = df.loc[i,'good'].count(keyword) / len(df.loc[i,'good']) * 100\n",
    "                keyword_ratios[keyword] = f'{ratio:.2f}%'\n",
    "            else:\n",
    "                keyword_ratios[keyword] = f'0%'\n",
    "        df.loc[i,'good_keyword_ratio'] = str(keyword_ratios)"
   ]
  },
  {
   "cell_type": "code",
   "execution_count": 8,
   "id": "146db6dd-a27a-492a-b0da-197aee663d49",
   "metadata": {},
   "outputs": [],
   "source": [
    "# 5. keyword TOPn 보여주기\n",
    "def keyword_topn(df,keyword,n):\n",
    "    df1 = df.sort_values(keyword,ascending=False)[['region','hotel_name','services','location','무료주차', '객실샤워실', '냉장고', '레스토랑', '엘리베이터', '카페', '짐보관가능', '피트니스',\n",
    "       '미니바', '수영장', '편의점', '장애인편의시설', '사우나', '프린터사용', '라운지']][:n]\n",
    "    return df1"
   ]
  },
  {
   "cell_type": "code",
   "execution_count": 24,
   "id": "cd8cf2b4-bbd1-49f5-9dc7-3ce575d95d77",
   "metadata": {},
   "outputs": [],
   "source": [
    "# 6. 호텔마다 리뷰 토큰화\n",
    "def tokens(df):\n",
    "    # 단어 열 생성\n",
    "    df['good_keyword'] = pd.Series(dtype=str)\n",
    "    df['bad_keyword'] = pd.Series(dtype=str)\n",
    "    \n",
    "    for i in range(len(df)):\n",
    "        good_list_join = df.loc[i,'good']\n",
    "        bad_list_join = df.loc[i, 'bad']\n",
    "        # 단어 토큰화\n",
    "        okt = Okt()\n",
    "        noun_good = []\n",
    "        noun_bad = []\n",
    "        for good, tag in okt.pos(good_list_join):\n",
    "            if tag == 'Noun':\n",
    "                noun_good.append(good)\n",
    "            elif tag == 'Adjective':\n",
    "                noun_good.append(good)\n",
    "        for bad, tag in okt.pos(bad_list_join):\n",
    "            if tag == 'Noun':\n",
    "                noun_bad.append(bad)\n",
    "            elif tag == 'Adjective':\n",
    "                noun_bad.append(bad)\n",
    "\n",
    "        df.loc[i,'good_keyword'] = ' '.join(noun_good)\n",
    "\n",
    "        df.loc[i,'bad_keyword'] = ' '.join(noun_bad)\n",
    "\n",
    "    return df"
   ]
  },
  {
   "cell_type": "code",
   "execution_count": 25,
   "id": "a54c3286-be42-4363-9305-2149ec19bbf2",
   "metadata": {},
   "outputs": [],
   "source": [
    "# 7. 호텔마다 리뷰 불용어 제거\n",
    "def remove_nu(df):\n",
    "    \n",
    "    # 불용어 / '호텔'이란 단어도 너무 많이 나와 불용어에 추가\n",
    "    stopwords_kr = pd.read_csv('data/한국어_불용어리스트.csv', encoding='CP949', sep='\\t')\n",
    "    stopwords = list(stopwords_kr['stopwords'])\n",
    "    for i in range(len(df)):\n",
    "        word_tokens_good = df.loc[i,'good_keyword'].split()\n",
    "        word_tokens_bad = df.loc[i,'bad_keyword'].split()\n",
    "\n",
    "        # 불용어 제거 / tag이용해서 'Noun'만 추출가능\n",
    "        token_rv_good = [word for word in word_tokens_good if len(word) > 1 and (word not in stopwords)]\n",
    "        token_rv_bad = [word for word in word_tokens_bad if len(word) > 1 and (word not in stopwords)]\n",
    "    \n",
    "        df.loc[i,'good_keyword'] = str(token_rv_good)\n",
    "        df.loc[i,'bad_keyword'] = str(token_rv_bad)\n",
    "        # good_list_join = ' '.join(token_rv_good)\n",
    "        # bad_list_join = ' '.join(token_rv_bad)\n",
    "    \n",
    "    return df"
   ]
  },
  {
   "cell_type": "code",
   "execution_count": 165,
   "id": "178e3fd4-70f8-4ffb-acad-2a6041880df6",
   "metadata": {},
   "outputs": [],
   "source": [
    "# 호텔 이름에 붙어있는 불필요 정보 제거\n",
    "def name(df):\n",
    "    for i in range(len(df)):\n",
    "        if df['hotel_name'][i].split()[0] == '[반짝특가]':\n",
    "            df['hotel_name'][i] = ' '.join(df.loc[i]['hotel_name'].split()[1:])\n",
    "        elif df['hotel_name'][i].split()[0] == '★당일특가★':\n",
    "            df['hotel_name'][i] = ' '.join(df.loc[i]['hotel_name'].split()[1:])"
   ]
  },
  {
   "cell_type": "code",
   "execution_count": 94,
   "id": "a86a86f6-ba2f-4a46-84fa-1b7b4d60dd8c",
   "metadata": {},
   "outputs": [],
   "source": [
    "seoul['star&reviews'][16] = \"[]\""
   ]
  },
  {
   "cell_type": "code",
   "execution_count": 96,
   "id": "ddeb5804-b6ab-450d-b908-4a449bdc9800",
   "metadata": {},
   "outputs": [],
   "source": [
    "# 긍정 / 부정 나누고 단어 통일화하고 토큰화 후 불용어 제거\n",
    "lists = [cnam,one,gg,ic,cbook,jeju,seoul,gnam,gbook,daegu,daej,busan,sejong,ulsan,jnam,jbook,gj]\n",
    "for i in lists:\n",
    "    goodbad(i)\n",
    "    replace_word_good('깨끗','청결',i)\n",
    "    replace_word_good('청결','청결',i)\n",
    "    replace_word_good('깔끔','청결',i)\n",
    "    replace_word_good('가성','가격',i)\n",
    "    replace_word_good('가격','가격',i)\n",
    "    replace_word_good('저렴','가격',i)\n",
    "    replace_word_good('친절','친절',i)\n",
    "    replace_word_good('사장','직원',i)\n",
    "    replace_word_good('직원','직원',i)\n",
    "    replace_word_bad('더러','청결',i)\n",
    "    replace_word_bad('더럽','청결',i)\n",
    "    replace_word_bad('비싸','가격',i)\n",
    "    replace_word_bad('비쌈','가격',i)\n",
    "    tokens(i)\n",
    "    remove_nu(i)"
   ]
  },
  {
   "cell_type": "code",
   "execution_count": 127,
   "id": "13f3ee8d-65a7-440a-abaf-9d4311423132",
   "metadata": {},
   "outputs": [],
   "source": [
    "# 지역별 긍정 키워드 TOP10\n",
    "one_keywordlist = '청결 객실 시설 바다 직원 속초 이용 가격 예약 위치'.split()\n",
    "cnam_keywordlist = '청결 시설 객실 이용 직원 주변 조식 가격 화장실 주차'.split()\n",
    "gg_keywordlist = '청결 객실 직원 이용 시설 주변 주차 침대 조식 가격'.split()\n",
    "ic_keywordlist = '청결 객실 시설 직원 이용 주변 가격 주차 체크 근처'.split()\n",
    "cbook_keywordlist = '청결 객실 시설 직원 이용 주변 조식 청주 예약 생각'.split()\n",
    "jeju_keywordlist = '청결 직원 가격 객실 시설 이용 침대 위치 근처 주차'.split()\n",
    "seoul_keywordlist = '청결 객실 직원 이용 위치 가격 시설 체크 조식 근처'.split()\n",
    "gnam_keywordlist = '청결 객실 시설 직원 이용 조식 예약 주변 바다 침대'.split()\n",
    "gbook_keywordlist = '청결 객실 시설 조식 직원 경주 이용 가격 위치 가족'.split()\n",
    "daegu_keywordlist = '청결 조식 시설 객실 직원 이용 주변 주차 가격 예약'.split()\n",
    "daej_keywordlist = '청결 객실 가격 조식 주차 이용 직원 시설 위치 주변'.split()\n",
    "busan_keywordlist = '청결 객실 직원 위치 바다 이용 가격 시설 해운대 오션'.split()\n",
    "sejong_keywordlist = '청결 시설 여유 주차 식당 상태 주변 청소 침구 주차공간'.split()\n",
    "ulsan_keywordlist = '청결 객실 주차 시설 위치 직원 조식 가격 침대 이용'.split()\n",
    "jnam_keywordlist = '청결 객실 시설 직원 여수 조식 가격 침대 이용 바다'.split()\n",
    "jbook_keywordlist = '청결 직원 객실 시설 전주 조식 마을 이용 침대 위치'.split()\n",
    "gj_keywordlist = '청결 조식 시설 직원 객실 이용 주차 침대 가격 주변'.split()"
   ]
  },
  {
   "cell_type": "code",
   "execution_count": 148,
   "id": "bfb8c7f8-a7c1-420c-9def-9739a9cb4742",
   "metadata": {},
   "outputs": [],
   "source": [
    "# 지역별 긍정 키워드 TOP10을 호텔마다 적용하여 단어 비율 추출\n",
    "lists = [cnam, one, gg, ic, cbook, jeju, seoul, gnam, gbook, daegu,daej, busan, sejong, ulsan, jnam, jbook, gj]\n",
    "\n",
    "count_keyword(cnam,cnam_keywordlist)\n",
    "count_keyword(one,one_keywordlist)\n",
    "count_keyword(gg,gg_keywordlist)\n",
    "count_keyword(ic,ic_keywordlist)\n",
    "count_keyword(jeju,jeju_keywordlist)\n",
    "count_keyword(gnam,gnam_keywordlist)\n",
    "count_keyword(gbook,gbook_keywordlist)\n",
    "count_keyword(daegu,daegu_keywordlist)\n",
    "count_keyword(busan,busan_keywordlist)\n",
    "count_keyword(sejong,sejong_keywordlist)\n",
    "count_keyword(jnam,jnam_keywordlist)\n",
    "count_keyword(jbook,jbook_keywordlist)\n",
    "count_keyword(gj,gj_keywordlist)\n",
    "count_keyword(cbook,cbook_keywordlist)\n",
    "count_keyword(seoul,seoul_keywordlist)\n",
    "count_keyword(daej,daej_keywordlist)\n",
    "count_keyword(ulsan,ulsan_keywordlist)"
   ]
  },
  {
   "cell_type": "code",
   "execution_count": null,
   "id": "da6f03f5-506d-4714-a82c-7dd2ab3c2398",
   "metadata": {},
   "outputs": [],
   "source": [
    "keyword_topn(gg_ic,'청결',10).head(3)"
   ]
  },
  {
   "cell_type": "markdown",
   "id": "99dc6a4c-a076-4e87-8e85-0d85edffbf74",
   "metadata": {},
   "source": [
    "## 위도와 경도 추가하기"
   ]
  },
  {
   "cell_type": "code",
   "execution_count": 424,
   "id": "73d10d14-96cd-4036-8cbd-59a8e680a1ca",
   "metadata": {},
   "outputs": [],
   "source": [
    "juso = pd.read_csv('df_regions_전국호텔위도경도_전체.csv')\n",
    "\n",
    "# 위도 경도 추가시키는 함수\n",
    "def jusoconcat(df,region,juso=juso):\n",
    "    df1 = juso[juso['region'] == region].sort_values('location')[['위도','경도']]\n",
    "    df2 = df.sort_values('location')\n",
    "    # df3 = pd.concat([df2,df1],axis=1)\n",
    "    df3 = pd.merge(df2, df1, on='location', how='left')\n",
    "    df = df3.sort_index()\n",
    "    return df"
   ]
  },
  {
   "cell_type": "code",
   "execution_count": null,
   "id": "94cbd7df-629c-4aab-b74b-635cac7cfe15",
   "metadata": {},
   "outputs": [],
   "source": [
    "# 인덱스 통일시키기\n",
    "lists = [cnam, one, gg, ic, cbook, jeju, seoul, gnam, gbook, daegu,daej, busan, sejong, ulsan, jnam, jbook, gj]\n",
    "city = ['충남', '강원', '경기', '인천', '충북', '제주도', '서울', '경남', '경북', '대구', '대전', '부산', '세종', '울산', '전남', '전북', '광주']\n",
    "\n",
    "for idx, df in enumerate(lists):\n",
    "    lists[idx] = df.set_index('location')\n",
    "\n",
    "juso1 = juso.set_index('location')\n",
    "\n",
    "# 호텔마다 위도 경도 추가하기\n",
    "for idx, df in enumerate(lists):\n",
    "    lists[idx] = jusoconcat(lists[idx],city[idx],juso1)\n",
    "    lists[idx].drop_duplicates(subset=['hotel_name'], keep='first', inplace=True)\n",
    "    lists[idx] = lists[idx].reset_index()"
   ]
  },
  {
   "cell_type": "code",
   "execution_count": 430,
   "id": "772ce5fb-c9ef-4f3a-8095-ebb8bf726ef8",
   "metadata": {},
   "outputs": [],
   "source": [
    "# 열 통일\n",
    "new_order = ['region','hotel_name','services','location','star&reviews','good','bad','good_keyword','bad_keyword','good_keyword_ratio','위도','경도']\n",
    "\n",
    "cnam1 = lists[0].reindex(columns=new_order)\n",
    "one1 = lists[1].reindex(columns=new_order)\n",
    "gg1 = lists[2].reindex(columns=new_order)\n",
    "ic1 = lists[3].reindex(columns=new_order)\n",
    "cbook1 = lists[4].reindex(columns=new_order)\n",
    "jeju1 = lists[5].reindex(columns=new_order)\n",
    "seoul1 = lists[6].reindex(columns=new_order)\n",
    "gnam1 = lists[7].reindex(columns=new_order)\n",
    "gbook1 = lists[8].reindex(columns=new_order)\n",
    "daegu1 = lists[9].reindex(columns=new_order)\n",
    "daej1 = lists[10].reindex(columns=new_order)\n",
    "busan1 = lists[11].reindex(columns=new_order)\n",
    "sejong1 = lists[12].reindex(columns=new_order)\n",
    "ulsan1 = lists[13].reindex(columns=new_order)\n",
    "jnam1 = lists[14].reindex(columns=new_order)\n",
    "jbook1 = lists[15].reindex(columns=new_order)\n",
    "gj1 = lists[16].reindex(columns=new_order)\n"
   ]
  },
  {
   "cell_type": "code",
   "execution_count": 433,
   "id": "9287b4a2-9a88-4b5d-874d-9b764eef608f",
   "metadata": {},
   "outputs": [
    {
     "name": "stdout",
     "output_type": "stream",
     "text": [
      "50\n",
      "50\n",
      "50\n",
      "50\n",
      "48\n",
      "50\n",
      "50\n",
      "50\n",
      "50\n",
      "47\n",
      "40\n",
      "50\n",
      "2\n",
      "28\n",
      "50\n",
      "49\n",
      "50\n"
     ]
    }
   ],
   "source": [
    "# 개수가 달라지지 않았는지 확인\n",
    "lists = [cnam1, one1, gg1, ic1, cbook1, jeju1, seoul1, gnam1, gbook1, daegu1,daej1, busan1, sejong1, ulsan1, jnam1, jbook1, gj1]\n",
    "for i in lists:\n",
    "    print(f'{len(i)}')\n"
   ]
  },
  {
   "cell_type": "code",
   "execution_count": 162,
   "id": "fbf6cfc3-7f32-4f96-abd5-108ab8c01c45",
   "metadata": {},
   "outputs": [],
   "source": [
    "# 호텔이름에 당일특가 등 불필요한 정보 제거 \n",
    "lists = [cnam, one, gg, ic, cbook, jeju, seoul, gnam, gbook, daegu,daej, busan, sejong, ulsan, jnam, jbook, gj]\n",
    "for i in lists:\n",
    "    name(i)"
   ]
  },
  {
   "cell_type": "code",
   "execution_count": 438,
   "id": "aed0fec2-7b93-45df-83c0-ee6621b878ba",
   "metadata": {},
   "outputs": [],
   "source": [
    "cnam1.to_csv('충남1.csv',index=False)\n",
    "one1.to_csv('강원1.csv',index=False)\n",
    "gg1.to_csv('경기1.csv',index=False)\n",
    "ic1.to_csv('인천1.csv',index=False)\n",
    "cbook1.to_csv('충북1.csv',index=False)\n",
    "jeju1.to_csv('제주도1.csv',index=False)\n",
    "seoul1.to_csv('서울1.csv',index=False)\n",
    "gnam1.to_csv('경남1.csv',index=False)\n",
    "gbook1.to_csv('경북1.csv',index=False)\n",
    "daegu1.to_csv('대구1.csv',index=False)\n",
    "daej1.to_csv('대전1.csv',index=False)\n",
    "busan1.to_csv('부산1.csv',index=False)\n",
    "sejong1.to_csv('세종1.csv',index=False)\n",
    "ulsan1.to_csv('울산1.csv',index=False)\n",
    "jnam1.to_csv('전남1.csv',index=False)\n",
    "jbook1.to_csv('전북1.csv',index=False)\n",
    "gj1.to_csv('광주1.csv',index=False)"
   ]
  },
  {
   "cell_type": "markdown",
   "id": "506d98ee-dd28-46d3-a6d3-f2679c50b233",
   "metadata": {},
   "source": [
    "------------------------------------------------------------------------------------------------------------------------------------------------"
   ]
  },
  {
   "cell_type": "markdown",
   "id": "2fb26c30-812e-422e-a5a2-1d9109bf344c",
   "metadata": {},
   "source": [
    "## 함수화"
   ]
  },
  {
   "cell_type": "code",
   "execution_count": null,
   "id": "407a42f5-50fb-45de-9e97-6e3d41a811f5",
   "metadata": {},
   "outputs": [],
   "source": [
    "def goodbad_wordcloud(df, region): \n",
    "\n",
    "    df_sr = pd.DataFrame(df[df['region']==region]['star&reviews'])\n",
    "    good_list = []\n",
    "    bad_list= []\n",
    "    # 각 행에 대해 반복\n",
    "    for i in range(len(df_sr)):\n",
    "        list = eval(df_sr['star&reviews'][i])\n",
    "        for hotel in range(len(list)):\n",
    "                # 'star&reviews' 열의 값을 평가하고 리스트로 변환\n",
    "                reviews_list = list[hotel]\n",
    "                if reviews_list[0] >= 3:\n",
    "                    good_list.append(reviews_list[2])\n",
    "                elif  reviews_list[0] <=3:\n",
    "                    bad_list.append(reviews_list[2])\n",
    "\n",
    "    # good / bad 별 review 합치기\n",
    "    good_list_join = ' '.join(good_list)\n",
    "    bad_list_join = ' '.join(bad_list)\n",
    "    \n",
    "    # 특수기호 지우기(string.punctuation = '!\"#$%&\\'()*+,-./:;<=>?@[\\\\]^_`{|}~')\n",
    "    def remove_punctuation(text):\n",
    "        return ''.join([i for i in text if i not in string.punctuation])\n",
    "    good_list_join =good_list_join.replace('\\n', '').replace(' ', '')\n",
    "    bad_list_join = bad_list_join.replace('\\n', '').replace(' ', '')\n",
    "        \n",
    "    good_list_join = remove_punctuation(good_list_join)\n",
    "    bad_list_join = remove_punctuation(bad_list_join)\n",
    "    \n",
    "    # 불용어 / '호텔'이란 단어도 너무 많이 나와 불용어에 추가\n",
    "    stopwords_kr = pd.read_csv('한국어 불용어 리스트.csv', encoding='CP949', sep='\\t')\n",
    "    stopwords_kr = list(stopwords_kr['stopwaords'])\n",
    "\n",
    "    # 단어 토큰화\n",
    "    okt = Okt()\n",
    "    word_tokens_good = okt.pos(good_list_join)\n",
    "    word_tokens_bad = okt.pos(bad_list_join)\n",
    "    \n",
    "    # 불용어 제거 / tag이용해서 'Noun'만 추출가능\n",
    "    \n",
    "    token_rv_good = [word for word, tag in word_tokens_good if len(word) > 1 if word not in stopwords]\n",
    "    token_rv_bad = [word for word, tag in word_tokens_bad if len(word) > 1 if word not in stopwords]\n",
    "    freq_good = pd.DataFrame(pd.Series(Counter(token_rv_good)).sort_values(ascending=False), columns=['freq'])\n",
    "    freq_bad = pd.DataFrame(pd.Series(Counter(token_rv_bad)).sort_values(ascending=False), columns=['freq'])\n",
    "\n",
    "    good_list_join = ' '.join(token_rv_good)\n",
    "    bad_list_join = ' '.join(token_rv_bad)\n",
    "\n",
    "    font_path = 'C:/Windows/Fonts/malgun.ttf'\n",
    "    \n",
    "    # 긍정 워드클라우드\n",
    "    wordcloud = WordCloud(width = 600, height = 600, max_words=20000, font_path = font_path, background_color='white').generate(good_list_join)\n",
    "    plt.figure(figsize=(20, 10))\n",
    "    plt.imshow(wordcloud)\n",
    "    plt.axis('off')\n",
    "    plt.title(f\"{region}의 긍정 키워드\", fontsize=16)\n",
    "    plt.show()\n",
    "    \n",
    "    # 부정 워드클라우드\n",
    "    wordcloud = WordCloud(width = 600, height = 600, max_words=20000, font_path = font_path, background_color='white').generate(bad_list_join)\n",
    "    plt.figure(figsize=(20, 10))\n",
    "    plt.imshow(wordcloud)\n",
    "    plt.axis('off')\n",
    "    plt.title(f\"{region}의 부정 키워드\", fontsize=16)\n",
    "    plt.show()\n",
    "    \n",
    "    return freq_good, freq_bad"
   ]
  },
  {
   "cell_type": "code",
   "execution_count": null,
   "id": "ae8ca4f4-7d19-4a0b-ac3c-81acc2dde044",
   "metadata": {},
   "outputs": [],
   "source": [
    "good, bad = goodbad_wordcloud(gg_ic,'경기')"
   ]
  },
  {
   "cell_type": "code",
   "execution_count": null,
   "id": "10c0dff2-48f0-4cd4-8359-19153d318ee0",
   "metadata": {},
   "outputs": [],
   "source": [
    "good"
   ]
  },
  {
   "cell_type": "code",
   "execution_count": null,
   "id": "607f39fb-c319-47e6-a2dd-25ffefb93e32",
   "metadata": {},
   "outputs": [],
   "source": [
    "bad"
   ]
  },
  {
   "cell_type": "markdown",
   "id": "913f9e47-219d-4739-845f-e0e895676489",
   "metadata": {},
   "source": [
    "--------------------------------------------------------------------------------------------------------------------------------------------------"
   ]
  },
  {
   "cell_type": "markdown",
   "id": "aa241255-4df1-4796-a817-3f58ca67ec74",
   "metadata": {},
   "source": [
    "## 함수 분할"
   ]
  },
  {
   "cell_type": "code",
   "execution_count": null,
   "id": "584b2b59-9458-408f-a1c8-243e2b902042",
   "metadata": {},
   "outputs": [],
   "source": [
    "def tokens(df,region):\n",
    "    df_sr = pd.DataFrame(df[df['region']==region]['star&reviews'])\n",
    "    good_list = []\n",
    "    bad_list= []\n",
    "    # 각 행에 대해 반복\n",
    "    for i in range(len(df_sr)):\n",
    "        list = eval(df_sr['star&reviews'].iloc[i])\n",
    "        for hotel in range(len(list)):\n",
    "                # 'star&reviews' 열의 값을 평가하고 리스트로 변환\n",
    "                reviews_list = list[hotel]\n",
    "                if reviews_list[0] >= 3:\n",
    "                    good_list.append(reviews_list[2])\n",
    "                elif  reviews_list[0] <=3:\n",
    "                    bad_list.append(reviews_list[2])\n",
    "\n",
    "    # good / bad 별 review 합치기\n",
    "    good_list_join = ' '.join(good_list)\n",
    "    bad_list_join = ' '.join(bad_list)\n",
    "    \n",
    "    # 특수기호 지우기(string.punctuation = '!\"#$%&\\'()*+,-./:;<=>?@[\\\\]^_`{|}~')\n",
    "    def remove_punctuation(text):\n",
    "        return ''.join([i for i in text if i not in string.punctuation])\n",
    "    good_list_join =good_list_join.replace('\\n', '').replace(' ', '')\n",
    "    bad_list_join = bad_list_join.replace('\\n', '').replace(' ', '')\n",
    "        \n",
    "    good_list_join = remove_punctuation(good_list_join)\n",
    "    bad_list_join = remove_punctuation(bad_list_join)\n",
    "    \n",
    "    # 불용어 / '호텔'이란 단어도 너무 많이 나와 불용어에 추가\n",
    "    stopwords_kr = pd.read_csv('한국어 불용어 리스트.csv', encoding='CP949', sep='\\t')\n",
    "    stopwords_kr.loc[len(stopwords_kr)] = '호텔'\n",
    "\n",
    "    # 단어 토큰화\n",
    "    okt = Okt()\n",
    "    word_tokens_good = okt.pos(good_list_join)\n",
    "    word_tokens_bad = okt.pos(bad_list_join)\n",
    "\n",
    "    return word_tokens_good, word_tokens_bad"
   ]
  },
  {
   "cell_type": "code",
   "execution_count": null,
   "id": "a7bddab0-933a-4433-8d4b-68a491195d31",
   "metadata": {},
   "outputs": [],
   "source": [
    "def remove_nu(word_tokens_good, word_tokens_bad):\n",
    "\n",
    "    # 불용어 / '호텔'이란 단어도 너무 많이 나와 불용어에 추가\n",
    "    stopwords_kr = pd.read_csv('data/한국어 불용어 리스트.csv', encoding='CP949', sep='\\t')\n",
    "    stopwords_kr.loc[len(stopwords_kr)] = '호텔'\n",
    "    stopwords = stopwords_kr['휴'].tolist()\n",
    "    \n",
    "    # 불용어 제거 / tag이용해서 'Noun'만 추출가능\n",
    "    token_rv_good = [word for word, tag in word_tokens_good if len(word) > 1 if word not in stopwords]\n",
    "    token_rv_bad = [word for word, tag in word_tokens_bad if len(word) > 1 if word not in stopwords]\n",
    "    freq_good = pd.DataFrame(pd.Series(Counter(token_rv_good)).sort_values(ascending=False), columns=['freq'])\n",
    "    freq_bad = pd.DataFrame(pd.Series(Counter(token_rv_bad)).sort_values(ascending=False), columns=['freq'])\n",
    "\n",
    "    good_list_join = ' '.join(token_rv_good)\n",
    "    bad_list_join = ' '.join(token_rv_bad)\n",
    "\n",
    "    return good_list_join, bad_list_join, freq_good, freq_bad"
   ]
  },
  {
   "cell_type": "code",
   "execution_count": null,
   "id": "b80ecfae-db8a-467b-afce-740ae416c517",
   "metadata": {},
   "outputs": [],
   "source": [
    "def word_colud(good_list_join,bad_list_join):\n",
    "    font_path = 'C:/Windows/Fonts/malgun.ttf'\n",
    "    \n",
    "    # 긍정 워드클라우드\n",
    "    wordcloud = WordCloud(width = 600, height = 600, max_words=20000, font_path = font_path, background_color='white').generate(good_list_join)\n",
    "    plt.figure(figsize=(20, 10))\n",
    "    plt.imshow(wordcloud)\n",
    "    plt.axis('off')\n",
    "    plt.title(f\"{region}의 긍정 키워드\", fontsize=16)\n",
    "    plt.show()\n",
    "    \n",
    "    # 부정 워드클라우드\n",
    "    wordcloud = WordCloud(width = 600, height = 600, max_words=20000, font_path = font_path, background_color='white').generate(bad_list_join)\n",
    "    plt.figure(figsize=(20, 10))\n",
    "    plt.imshow(wordcloud)\n",
    "    plt.axis('off')\n",
    "    plt.title(f\"{region}의 부정 키워드\", fontsize=16)\n",
    "    plt.show()"
   ]
  },
  {
   "cell_type": "markdown",
   "id": "2b21a6d7-1b49-4c33-9581-23ac7649c3ec",
   "metadata": {},
   "source": [
    "## TEST"
   ]
  },
  {
   "cell_type": "code",
   "execution_count": null,
   "id": "095dee33-66bc-4be1-b34a-c01f61e1b0eb",
   "metadata": {},
   "outputs": [],
   "source": [
    "gg_ic = pd.read_csv('df_gg_ic.csv')"
   ]
  },
  {
   "cell_type": "code",
   "execution_count": null,
   "id": "363002aa-117e-43a9-93e2-cee979387790",
   "metadata": {},
   "outputs": [],
   "source": [
    "good, bad = tokens(gg_ic,'충남')"
   ]
  },
  {
   "cell_type": "code",
   "execution_count": null,
   "id": "bc8a6210-46a1-410b-b90f-33894266f33b",
   "metadata": {},
   "outputs": [],
   "source": [
    "bad_adj =[]\n",
    "for word, tag in bad:\n",
    "    if tag == 'Adjective':\n",
    "        bad_adj.append(word)\n",
    "v = ''.join(bad_adj)\n",
    "v"
   ]
  },
  {
   "cell_type": "code",
   "execution_count": null,
   "id": "20d2ddd6-086e-4530-8447-41e09fb1450b",
   "metadata": {},
   "outputs": [],
   "source": [
    "noun = []\n",
    "for word, tag in bad:\n",
    "    if tag == 'Noun':\n",
    "        noun.append((word, tag))\n",
    "    elif tag == 'Adjective':\n",
    "        if word in ['불친절','시끄','불편','눅눅','간지럽','지저분','더러워','건조','청결','좁','낡','오래']:\n",
    "            noun.append((word, tag))\n",
    "noun"
   ]
  },
  {
   "cell_type": "code",
   "execution_count": null,
   "id": "803bb570-445f-4a20-ac02-c7494b97a745",
   "metadata": {},
   "outputs": [],
   "source": [
    "a,b,c,d = remove_nu(good,noun)"
   ]
  },
  {
   "cell_type": "code",
   "execution_count": null,
   "id": "dc6c147a-acf6-43f7-8fd9-35952f513df1",
   "metadata": {},
   "outputs": [],
   "source": [
    "a_list = a.split()"
   ]
  },
  {
   "cell_type": "code",
   "execution_count": null,
   "id": "47fa0c28-bcbe-44e7-aca8-6431e2c28ffd",
   "metadata": {},
   "outputs": [],
   "source": [
    "df_a = pd.DataFrame(a_list)"
   ]
  },
  {
   "cell_type": "code",
   "execution_count": null,
   "id": "ad5c1bcf-6a13-402a-8c3c-c0a981c1170c",
   "metadata": {},
   "outputs": [],
   "source": [
    "df_a.to_csv('a')"
   ]
  },
  {
   "cell_type": "code",
   "execution_count": null,
   "id": "f44947af-d725-4824-b8d0-cda1aaf1d9ad",
   "metadata": {},
   "outputs": [],
   "source": [
    "df_a.values.tolist()[:10]"
   ]
  },
  {
   "cell_type": "code",
   "execution_count": null,
   "id": "b750166b-bcb2-4e08-a63c-40aa0189b83d",
   "metadata": {},
   "outputs": [],
   "source": [
    "words = []\n",
    "for i in df_a.values.tolist():\n",
    "    word = i[0]\n",
    "    words.append(word)\n",
    "    text = ' '.join(words)\n",
    "\n",
    "text\n",
    "# range(len(df_a.values.tolist()))"
   ]
  },
  {
   "cell_type": "markdown",
   "id": "70d14e26-9e4b-40c4-9ba7-68754429ce8e",
   "metadata": {},
   "source": [
    "### 같은 의미 단어 동일화"
   ]
  },
  {
   "cell_type": "code",
   "execution_count": null,
   "id": "f3e4fd63-d6d4-4507-a3aa-7d67eb10dd77",
   "metadata": {},
   "outputs": [],
   "source": [
    "# 'aa'라는 단어가 들어간 문자열 찾아서 단어 통일 시키기\n",
    "\n",
    "def replace_word(word, replace, text_list):\n",
    "    for i in range(len(text_list)):\n",
    "        if word in text_list[i]:\n",
    "            text_list[i] = replace\n",
    "    return text_list"
   ]
  },
  {
   "cell_type": "code",
   "execution_count": null,
   "id": "4b20ecd8-2198-4fcc-ba04-b0652ee198b5",
   "metadata": {},
   "outputs": [],
   "source": [
    "a_list"
   ]
  },
  {
   "cell_type": "code",
   "execution_count": null,
   "id": "f9241942-2a00-400d-9376-a41f3c50ded0",
   "metadata": {},
   "outputs": [],
   "source": [
    "a_list = replace_word('깨끗','청결', a_list)\n",
    "a_list = replace_word('깔끔','청결', a_list)\n",
    "a_list = replace_word('가성','가격', a_list)\n",
    "a_list = replace_word('가격','가격', a_list)\n",
    "a_list = replace_word('좋','만족', a_list)\n",
    "a_list = replace_word('괜찮','만족', a_list)\n",
    "a_list = replace_word('훌륭','만족', a_list)"
   ]
  },
  {
   "cell_type": "markdown",
   "id": "6f0af033-e78f-4afb-8760-48cc660cbde4",
   "metadata": {},
   "source": [
    "## 결과"
   ]
  },
  {
   "cell_type": "code",
   "execution_count": null,
   "id": "bb783530-7f77-49fb-b5c3-8307d6231d18",
   "metadata": {},
   "outputs": [],
   "source": [
    "# 긍정 워드클라우드\n",
    "font_path = 'C:/Windows/Fonts/malgun.ttf'\n",
    "wordcloud = WordCloud(width = 600, height = 600, max_words=50, font_path = font_path, background_color='white').generate(text)\n",
    "plt.figure(figsize=(10, 10))\n",
    "plt.imshow(wordcloud)\n",
    "plt.axis('off')\n",
    "plt.show()"
   ]
  },
  {
   "cell_type": "code",
   "execution_count": null,
   "id": "48bd4033-cad2-4bb9-81f1-921d90d111fb",
   "metadata": {},
   "outputs": [],
   "source": [
    "# okt pos 확인하기(word_tokens_good, word_tokens_bad)\n",
    "tokens(df,region)\n",
    "\n",
    "# 불용어 처리 후 워드클라우드에 넣을 text문장으로 join (good_list_join, bad_list_join, freq_good, freq_bad)\n",
    "remove_nu(word_tokens_good, word_tokens_bad)\n",
    "\n",
    "# 워드 클라우드 하기\n",
    "word_colud(good_list_join,bad_list_join)"
   ]
  }
 ],
 "metadata": {
  "kernelspec": {
   "display_name": "Python 3 (ipykernel)",
   "language": "python",
   "name": "python3"
  },
  "language_info": {
   "codemirror_mode": {
    "name": "ipython",
    "version": 3
   },
   "file_extension": ".py",
   "mimetype": "text/x-python",
   "name": "python",
   "nbconvert_exporter": "python",
   "pygments_lexer": "ipython3",
   "version": "3.11.7"
  }
 },
 "nbformat": 4,
 "nbformat_minor": 5
}
