{
 "cells": [
  {
   "cell_type": "code",
   "execution_count": 1,
   "id": "68e748bf-532e-4471-8986-045bbd15b992",
   "metadata": {},
   "outputs": [],
   "source": [
    "import pandas as pd\n",
    "import numpy as np"
   ]
  },
  {
   "cell_type": "code",
   "execution_count": 2,
   "id": "30b69464-4411-4a60-92ef-f049c56bd4a6",
   "metadata": {},
   "outputs": [],
   "source": [
    "# 그래프에서 한글폰트 지원\n",
    "import matplotlib.pyplot as plt\n",
    "import platform\n",
    "\n",
    "from matplotlib import font_manager, rc\n",
    "plt.rcParams['axes.unicode_minus'] = False\n",
    "\n",
    "if platform.system() == 'Darwin':  # 맥OS \n",
    "    rc('font', family='AppleGothic')\n",
    "elif platform.system() == 'Windows':  # 윈도우\n",
    "    path = \"c:/Windows/Fonts/malgun.ttf\"\n",
    "    font_name = font_manager.FontProperties(fname=path).get_name()\n",
    "    rc('font', family=font_name)\n",
    "else:\n",
    "    print('Unknown system...  sorry~~~')"
   ]
  },
  {
   "cell_type": "code",
   "execution_count": 3,
   "id": "a22b943b-a6b0-494c-a7fe-9acc3a431068",
   "metadata": {},
   "outputs": [],
   "source": [
    "pay=pd.read_csv('data/서울시 상권분석서비스(소득소비-행정동).csv', encoding='cp949')"
   ]
  },
  {
   "cell_type": "code",
   "execution_count": 4,
   "id": "6e3113dc-5fdd-4d50-b07b-f78718e04683",
   "metadata": {},
   "outputs": [],
   "source": [
    "road=pd.read_csv('data/서울시 상권분석서비스(길단위인구-행정동).csv', encoding='cp949')"
   ]
  },
  {
   "cell_type": "code",
   "execution_count": 5,
   "id": "85c27c49-2d73-4756-81bb-6371a1f3be61",
   "metadata": {},
   "outputs": [],
   "source": [
    "worker=pd.read_csv('data/서울시 상권분석서비스(직장인구-행정동).csv', encoding='cp949')"
   ]
  },
  {
   "cell_type": "code",
   "execution_count": 6,
   "id": "76ff81a1-5b11-4d94-90ec-b870ee96a703",
   "metadata": {},
   "outputs": [],
   "source": [
    "money=pd.read_csv('data/서울시_상권분석서비스(추정매출-행정동)_2022년.csv', encoding='cp949')"
   ]
  },
  {
   "cell_type": "code",
   "execution_count": 7,
   "id": "ac017911-361a-40b3-a2f2-3885c76ebc89",
   "metadata": {},
   "outputs": [],
   "source": [
    "shop=pd.read_csv('data/서울시 상권분석서비스(점포-행정동).csv', encoding='cp949')"
   ]
  },
  {
   "cell_type": "code",
   "execution_count": 8,
   "id": "65cdedf4-87dc-4e0b-bf7f-c6f0f3ec9d52",
   "metadata": {},
   "outputs": [],
   "source": [
    "home=pd.read_csv('data/서울시 상권분석서비스(상주인구-행정동).csv', encoding='cp949')"
   ]
  },
  {
   "cell_type": "code",
   "execution_count": 9,
   "id": "7a37d182-8981-4a94-841c-7686e3ef55a1",
   "metadata": {},
   "outputs": [
    {
     "data": {
      "text/plain": [
       "기준_년분기_코드           0\n",
       "행정동_코드              0\n",
       "행정동_코드_명            0\n",
       "총_유동인구_수            0\n",
       "남성_유동인구_수           0\n",
       "여성_유동인구_수           0\n",
       "연령대_10_유동인구_수       0\n",
       "연령대_20_유동인구_수       0\n",
       "연령대_30_유동인구_수       0\n",
       "연령대_40_유동인구_수       0\n",
       "연령대_50_유동인구_수       0\n",
       "연령대_60_이상_유동인구_수    0\n",
       "시간대_00_06_유동인구_수    0\n",
       "시간대_06_11_유동인구_수    0\n",
       "시간대_11_14_유동인구_수    0\n",
       "시간대_14_17_유동인구_수    0\n",
       "시간대_17_21_유동인구_수    0\n",
       "시간대_21_24_유동인구_수    0\n",
       "월요일_유동인구_수          0\n",
       "화요일_유동인구_수          0\n",
       "수요일_유동인구_수          0\n",
       "목요일_유동인구_수          0\n",
       "금요일_유동인구_수          0\n",
       "토요일_유동인구_수          0\n",
       "일요일_유동인구_수          0\n",
       "dtype: int64"
      ]
     },
     "execution_count": 9,
     "metadata": {},
     "output_type": "execute_result"
    }
   ],
   "source": [
    "pd.DataFrame(road).isnull().sum()"
   ]
  },
  {
   "cell_type": "markdown",
   "id": "ed07ffda-9032-424e-9d37-59c37ca7d448",
   "metadata": {},
   "source": [
    "### 22년도 데이터 추출"
   ]
  },
  {
   "cell_type": "code",
   "execution_count": 10,
   "id": "9263ece9-39a9-42e3-aa54-85a9ef110160",
   "metadata": {},
   "outputs": [],
   "source": [
    "worker1 = worker[worker['기준_년분기_코드'].isin([20221, 20222, 20223, 20224])]\n",
    "road1 = road[road['기준_년분기_코드'].isin([20221, 20222, 20223, 20224])]\n",
    "shop1 = shop[shop['기준_년분기_코드'].isin([20221, 20222, 20223, 20224])]\n",
    "pay1 = pay[pay['기준_년분기_코드'].isin([20221, 20222, 20223, 20224])]\n",
    "money1 = money[money['기준_년분기_코드'].isin([20221, 20222, 20223, 20224])]\n",
    "home1 = home[home['기준_년분기_코드'].isin([20221, 20222, 20223, 20224])]"
   ]
  },
  {
   "cell_type": "markdown",
   "id": "bad0c33b-24a7-4368-a4f0-4758ae7ec795",
   "metadata": {},
   "source": [
    "### 인구데이터 별 TOP5 씩 추출"
   ]
  },
  {
   "cell_type": "code",
   "execution_count": 11,
   "id": "69defeb1-b688-4d28-b128-a8a5a619098f",
   "metadata": {},
   "outputs": [],
   "source": [
    "# 인구 데이터 중 비교적 최근인 2022년4분기 데이터 추출하여 사용\n",
    "worker2 = worker[worker['기준_년분기_코드'].isin([20224])]\n",
    "road2 = road[road['기준_년분기_코드'].isin([20224])]\n",
    "home2 = home[home['기준_년분기_코드'].isin([20224])]"
   ]
  },
  {
   "cell_type": "code",
   "execution_count": 12,
   "id": "292d20c7-6e6b-4e47-aadc-fc8f428aff60",
   "metadata": {},
   "outputs": [
    {
     "data": {
      "text/html": [
       "<div>\n",
       "<style scoped>\n",
       "    .dataframe tbody tr th:only-of-type {\n",
       "        vertical-align: middle;\n",
       "    }\n",
       "\n",
       "    .dataframe tbody tr th {\n",
       "        vertical-align: top;\n",
       "    }\n",
       "\n",
       "    .dataframe thead th {\n",
       "        text-align: right;\n",
       "    }\n",
       "</style>\n",
       "<table border=\"1\" class=\"dataframe\">\n",
       "  <thead>\n",
       "    <tr style=\"text-align: right;\">\n",
       "      <th></th>\n",
       "      <th>기준_년분기_코드</th>\n",
       "      <th>행정동_코드</th>\n",
       "      <th>행정동_코드_명</th>\n",
       "      <th>총_직장_인구_수</th>\n",
       "      <th>남성_직장_인구_수</th>\n",
       "      <th>여성_직장_인구_수</th>\n",
       "      <th>연령대_10_직장_인구_수</th>\n",
       "      <th>연령대_20_직장_인구_수</th>\n",
       "      <th>연령대_30_직장_인구_수</th>\n",
       "      <th>연령대_40_직장_인구_수</th>\n",
       "      <th>...</th>\n",
       "      <th>남성연령대_30_직장_인구_수</th>\n",
       "      <th>남성연령대_40_직장_인구_수</th>\n",
       "      <th>남성연령대_50_직장_인구_수</th>\n",
       "      <th>남성연령대_60_이상_직장_인구_수</th>\n",
       "      <th>여성연령대_10_직장_인구_수</th>\n",
       "      <th>여성연령대_20_직장_인구_수</th>\n",
       "      <th>여성연령대_30_직장_인구_수</th>\n",
       "      <th>여성연령대_40_직장_인구_수</th>\n",
       "      <th>여성연령대_50_직장_인구_수</th>\n",
       "      <th>여성연령대_60_이상_직장_인구_수</th>\n",
       "    </tr>\n",
       "  </thead>\n",
       "  <tbody>\n",
       "    <tr>\n",
       "      <th>7317</th>\n",
       "      <td>20224</td>\n",
       "      <td>11560540</td>\n",
       "      <td>여의동</td>\n",
       "      <td>217817</td>\n",
       "      <td>154569</td>\n",
       "      <td>63248</td>\n",
       "      <td>520</td>\n",
       "      <td>40050</td>\n",
       "      <td>78066</td>\n",
       "      <td>55998</td>\n",
       "      <td>...</td>\n",
       "      <td>55804</td>\n",
       "      <td>43252</td>\n",
       "      <td>26581</td>\n",
       "      <td>6628</td>\n",
       "      <td>325</td>\n",
       "      <td>17941</td>\n",
       "      <td>22262</td>\n",
       "      <td>12746</td>\n",
       "      <td>6815</td>\n",
       "      <td>3159</td>\n",
       "    </tr>\n",
       "  </tbody>\n",
       "</table>\n",
       "<p>1 rows × 24 columns</p>\n",
       "</div>"
      ],
      "text/plain": [
       "      기준_년분기_코드    행정동_코드 행정동_코드_명  총_직장_인구_수  남성_직장_인구_수  여성_직장_인구_수  \\\n",
       "7317      20224  11560540      여의동     217817      154569       63248   \n",
       "\n",
       "      연령대_10_직장_인구_수  연령대_20_직장_인구_수  연령대_30_직장_인구_수  연령대_40_직장_인구_수  ...  \\\n",
       "7317             520           40050           78066           55998  ...   \n",
       "\n",
       "      남성연령대_30_직장_인구_수  남성연령대_40_직장_인구_수  남성연령대_50_직장_인구_수  \\\n",
       "7317             55804             43252             26581   \n",
       "\n",
       "      남성연령대_60_이상_직장_인구_수  여성연령대_10_직장_인구_수  여성연령대_20_직장_인구_수  \\\n",
       "7317                 6628               325             17941   \n",
       "\n",
       "      여성연령대_30_직장_인구_수  여성연령대_40_직장_인구_수  여성연령대_50_직장_인구_수  \\\n",
       "7317             22262             12746              6815   \n",
       "\n",
       "      여성연령대_60_이상_직장_인구_수  \n",
       "7317                 3159  \n",
       "\n",
       "[1 rows x 24 columns]"
      ]
     },
     "execution_count": 12,
     "metadata": {},
     "output_type": "execute_result"
    }
   ],
   "source": [
    "worker2[worker2['행정동_코드_명'] == '여의동']"
   ]
  },
  {
   "cell_type": "code",
   "execution_count": 13,
   "id": "2b0b4ef4-78c7-4464-b511-7da91be2bdc8",
   "metadata": {},
   "outputs": [],
   "source": [
    "# 행정동 이름으로 인덱스 변경\n",
    "worker2.set_index(['행정동_코드_명'], inplace=True)\n",
    "road2.set_index(['행정동_코드_명'], inplace=True)\n",
    "home2.set_index(['행정동_코드_명'], inplace=True)"
   ]
  },
  {
   "cell_type": "markdown",
   "id": "562c6b35-3dab-4b6b-ae10-a39bcbc1ee0e",
   "metadata": {},
   "source": [
    "### 인구 데이터 별 TOP10 행정동 추출"
   ]
  },
  {
   "cell_type": "code",
   "execution_count": 14,
   "id": "f7d319a3-3291-4eea-b4f9-5039bed77241",
   "metadata": {},
   "outputs": [
    {
     "data": {
      "text/plain": [
       "행정동_코드_명\n",
       "여의동            217817\n",
       "도곡2동           192577\n",
       "역삼1동           170825\n",
       "삼성1동           130157\n",
       "종로1?2?3?4가동     97451\n",
       "반포4동            94714\n",
       "대치2동            92377\n",
       "가산동             84451\n",
       "문래동             81647\n",
       "소공동             77533\n",
       "Name: 총_직장_인구_수, dtype: int64"
      ]
     },
     "execution_count": 14,
     "metadata": {},
     "output_type": "execute_result"
    }
   ],
   "source": [
    "worker2['총_직장_인구_수'].nlargest(10)"
   ]
  },
  {
   "cell_type": "code",
   "execution_count": 15,
   "id": "7d099b16-6311-4ed4-add3-7dce3c015560",
   "metadata": {},
   "outputs": [
    {
     "data": {
      "text/plain": [
       "행정동_코드_명\n",
       "역삼1동           21577405\n",
       "서교동            17759583\n",
       "북아현동           17582013\n",
       "길동             16941692\n",
       "화곡1동           16707796\n",
       "공덕동            14866522\n",
       "종로1?2?3?4가동    14211700\n",
       "용신동            13996313\n",
       "송천동            12737853\n",
       "제기동            12720943\n",
       "Name: 총_유동인구_수, dtype: int64"
      ]
     },
     "execution_count": 15,
     "metadata": {},
     "output_type": "execute_result"
    }
   ],
   "source": [
    "road2['총_유동인구_수'].nlargest(10)"
   ]
  },
  {
   "cell_type": "code",
   "execution_count": 16,
   "id": "d82590c1-2dc0-4ea6-87c7-512656f60281",
   "metadata": {},
   "outputs": [
    {
     "data": {
      "text/plain": [
       "행정동_코드_명\n",
       "화곡1동    51684\n",
       "진관동     50293\n",
       "역촌동     48771\n",
       "양재1동    47758\n",
       "신정3동    47275\n",
       "길동      46207\n",
       "상도1동    46157\n",
       "우장산동    46018\n",
       "목5동     44710\n",
       "방화1동    44245\n",
       "Name: 총_상주인구_수, dtype: int64"
      ]
     },
     "execution_count": 16,
     "metadata": {},
     "output_type": "execute_result"
    }
   ],
   "source": [
    "home2['총_상주인구_수'].nlargest(10)"
   ]
  },
  {
   "cell_type": "markdown",
   "id": "e5713fb9-6f78-4015-ab70-be376787129c",
   "metadata": {},
   "source": [
    "### TOP5의 필요한 성별, 연령대 데이터 추출"
   ]
  },
  {
   "cell_type": "code",
   "execution_count": 17,
   "id": "975acb8a-02cf-4da3-852c-84f4f86028a5",
   "metadata": {},
   "outputs": [],
   "source": [
    "worker3 = worker2[['연령대_10_직장_인구_수', '연령대_20_직장_인구_수',\t\n",
    "'연령대_30_직장_인구_수', '연령대_40_직장_인구_수', '연령대_50_직장_인구_수','연령대_60_이상_직장_인구_수']]"
   ]
  },
  {
   "cell_type": "code",
   "execution_count": 18,
   "id": "6a948b64-aa43-4f7e-bd62-891c5707f8ef",
   "metadata": {},
   "outputs": [],
   "source": [
    "home3 = home2[['연령대_10_상주인구_수', '연령대_20_상주인구_수',\t\n",
    "'연령대_30_상주인구_수', '연령대_40_상주인구_수', '연령대_50_상주인구_수','연령대_60_이상_상주인구_수']]"
   ]
  },
  {
   "cell_type": "code",
   "execution_count": 19,
   "id": "8c0fe8cf-c7e9-4518-850e-cc06411853f2",
   "metadata": {},
   "outputs": [],
   "source": [
    "road3 = road2[['시간대_00_06_유동인구_수',\n",
    "       '시간대_06_11_유동인구_수', '시간대_11_14_유동인구_수', '시간대_14_17_유동인구_수',\n",
    "       '시간대_17_21_유동인구_수', '시간대_21_24_유동인구_수', '월요일_유동인구_수', '화요일_유동인구_수',\n",
    "       '수요일_유동인구_수', '목요일_유동인구_수', '금요일_유동인구_수', '토요일_유동인구_수', '일요일_유동인구_수']]"
   ]
  },
  {
   "cell_type": "markdown",
   "id": "7acfd1db-fd66-4a97-bfb1-8db5c947b990",
   "metadata": {},
   "source": [
    "### 2022년 4분기 총 직장인구 대비 행정동 TOP5의 비율 추출"
   ]
  },
  {
   "cell_type": "code",
   "execution_count": 20,
   "id": "ec8a6701-5a8d-4173-81ea-61c8e8afea7c",
   "metadata": {},
   "outputs": [
    {
     "name": "stderr",
     "output_type": "stream",
     "text": [
      "C:\\Users\\gillhk\\AppData\\Local\\Temp\\ipykernel_23188\\328031423.py:2: SettingWithCopyWarning: \n",
      "A value is trying to be set on a copy of a slice from a DataFrame\n",
      "\n",
      "See the caveats in the documentation: https://pandas.pydata.org/pandas-docs/stable/user_guide/indexing.html#returning-a-view-versus-a-copy\n",
      "  worker2.rename(index={'종로1?2?3?4가동':'종로1.2.3.4가동'}, inplace=True)\n",
      "C:\\Users\\gillhk\\AppData\\Local\\Temp\\ipykernel_23188\\328031423.py:3: SettingWithCopyWarning: \n",
      "A value is trying to be set on a copy of a slice from a DataFrame\n",
      "\n",
      "See the caveats in the documentation: https://pandas.pydata.org/pandas-docs/stable/user_guide/indexing.html#returning-a-view-versus-a-copy\n",
      "  worker3.rename(index={'종로1?2?3?4가동':'종로1.2.3.4가동'}, inplace=True)\n"
     ]
    },
    {
     "data": {
      "text/plain": [
       "기준_년분기_코드                 20224\n",
       "행정동_코드                 11110615\n",
       "총_직장_인구_수                 97451\n",
       "남성_직장_인구_수                53687\n",
       "여성_직장_인구_수                43764\n",
       "연령대_10_직장_인구_수             1427\n",
       "연령대_20_직장_인구_수            19755\n",
       "연령대_30_직장_인구_수            29598\n",
       "연령대_40_직장_인구_수            26670\n",
       "연령대_50_직장_인구_수            15288\n",
       "연령대_60_이상_직장_인구_수          4713\n",
       "남성연령대_10_직장_인구_수            620\n",
       "남성연령대_20_직장_인구_수           8610\n",
       "남성연령대_30_직장_인구_수          14862\n",
       "남성연령대_40_직장_인구_수          15621\n",
       "남성연령대_50_직장_인구_수          10763\n",
       "남성연령대_60_이상_직장_인구_수        3211\n",
       "여성연령대_10_직장_인구_수            807\n",
       "여성연령대_20_직장_인구_수          11145\n",
       "여성연령대_30_직장_인구_수          14736\n",
       "여성연령대_40_직장_인구_수          11049\n",
       "여성연령대_50_직장_인구_수           4525\n",
       "여성연령대_60_이상_직장_인구_수        1502\n",
       "Name: 종로1.2.3.4가동, dtype: int64"
      ]
     },
     "execution_count": 20,
     "metadata": {},
     "output_type": "execute_result"
    }
   ],
   "source": [
    "# 잘못 표시된 종로1?2?3?4가동을 종로 1.2.3.4가동으로 이름 변경 \n",
    "worker2.rename(index={'종로1?2?3?4가동':'종로1.2.3.4가동'}, inplace=True)\n",
    "worker3.rename(index={'종로1?2?3?4가동':'종로1.2.3.4가동'}, inplace=True)\n",
    "worker2.loc['종로1.2.3.4가동']"
   ]
  },
  {
   "cell_type": "code",
   "execution_count": 21,
   "id": "af71778d-13ae-4744-8508-697954ba3e19",
   "metadata": {},
   "outputs": [
    {
     "data": {
      "text/plain": [
       "4.5"
      ]
     },
     "execution_count": 21,
     "metadata": {},
     "output_type": "execute_result"
    }
   ],
   "source": [
    "# 직장인구 TOP1 여의동의 2022년 4분기 총 직장인구 대비 비율 -> 4.5%\n",
    "round(worker2.loc['여의동']['총_직장_인구_수'] / worker2['총_직장_인구_수'].sum() * 100,1)"
   ]
  },
  {
   "cell_type": "code",
   "execution_count": 22,
   "id": "1daa55f7-64f2-47b4-9b3a-a609255d5e90",
   "metadata": {},
   "outputs": [
    {
     "data": {
      "text/plain": [
       "4.0"
      ]
     },
     "execution_count": 22,
     "metadata": {},
     "output_type": "execute_result"
    }
   ],
   "source": [
    "# 직장인구 TOP2 도곡2동의 2022년 4분기 총 직장인구 대비 비율 -> 4.0%\n",
    "round(worker2.loc['도곡2동']['총_직장_인구_수'] / worker2['총_직장_인구_수'].sum() * 100,1)"
   ]
  },
  {
   "cell_type": "code",
   "execution_count": 23,
   "id": "a33d96cb-01e1-4691-9d34-8351b3b8fbbd",
   "metadata": {},
   "outputs": [
    {
     "data": {
      "text/plain": [
       "3.6"
      ]
     },
     "execution_count": 23,
     "metadata": {},
     "output_type": "execute_result"
    }
   ],
   "source": [
    "# 직장인구 TOP3 역삼1동의 2022년 4분기 총 직장인구 대비 비율 -> 3.6%\n",
    "round(worker2.loc['역삼1동']['총_직장_인구_수'] / worker2['총_직장_인구_수'].sum() * 100,1)"
   ]
  },
  {
   "cell_type": "code",
   "execution_count": 24,
   "id": "43646428-5e41-45a6-8a01-3bfce645c377",
   "metadata": {},
   "outputs": [
    {
     "data": {
      "text/plain": [
       "2.7"
      ]
     },
     "execution_count": 24,
     "metadata": {},
     "output_type": "execute_result"
    }
   ],
   "source": [
    "# 직장인구 TOP4 삼성1동의 2022년 4분기 총 직장인구 대비 비율 -> 2.7%\n",
    "round(worker2.loc['삼성1동']['총_직장_인구_수'] / worker2['총_직장_인구_수'].sum() * 100,1)"
   ]
  },
  {
   "cell_type": "code",
   "execution_count": 25,
   "id": "6e7ebf8f-aed7-47c2-9537-58f7b01408b5",
   "metadata": {},
   "outputs": [
    {
     "data": {
      "text/plain": [
       "2.0"
      ]
     },
     "execution_count": 25,
     "metadata": {},
     "output_type": "execute_result"
    }
   ],
   "source": [
    "# 직장인구 TOP5 종로1.2.3.4가동의 2022년 4분기 총 직장인구 대비 비율 -> 2.0%\n",
    "round(worker2.loc['종로1.2.3.4가동']['총_직장_인구_수'] / worker2['총_직장_인구_수'].sum() * 100,1)"
   ]
  },
  {
   "cell_type": "markdown",
   "id": "6ff57ca2-6cf7-4a8a-b7b8-6921dccf6133",
   "metadata": {},
   "source": [
    "### 2022년 총 상주인구 대비 행정동 TOP5의 비율 추출"
   ]
  },
  {
   "cell_type": "code",
   "execution_count": 26,
   "id": "a9337d1b-68db-45f7-94d8-a05dccc9de74",
   "metadata": {},
   "outputs": [
    {
     "data": {
      "text/plain": [
       "0.55"
      ]
     },
     "execution_count": 26,
     "metadata": {},
     "output_type": "execute_result"
    }
   ],
   "source": [
    "# 상주인구 TOP1 화곡1동의 2022년 4분기 총 상주인구 대비 비율 -> 0.55%\n",
    "round(home2.loc['화곡1동']['총_상주인구_수'] / home2['총_상주인구_수'].sum() * 100,2)"
   ]
  },
  {
   "cell_type": "code",
   "execution_count": 27,
   "id": "43b2b70c-1c5b-4c87-a783-8b5a11463520",
   "metadata": {},
   "outputs": [
    {
     "data": {
      "text/plain": [
       "0.53"
      ]
     },
     "execution_count": 27,
     "metadata": {},
     "output_type": "execute_result"
    }
   ],
   "source": [
    "# 상주인구 TOP2 진관동의 2022년 4분기 총 상주인구 대비 비율 -> 0.53%\n",
    "round(home2.loc['진관동']['총_상주인구_수'] / home2['총_상주인구_수'].sum() * 100,2)"
   ]
  },
  {
   "cell_type": "code",
   "execution_count": 28,
   "id": "3a2db519-cf5d-400c-b0ec-f7b3eb0227ae",
   "metadata": {},
   "outputs": [
    {
     "data": {
      "text/plain": [
       "0.52"
      ]
     },
     "execution_count": 28,
     "metadata": {},
     "output_type": "execute_result"
    }
   ],
   "source": [
    "# 상주인구 TOP3 역촌동의 2022년 4분기 총 상주인구 대비 비율 -> 0.52%\n",
    "round(home2.loc['역촌동']['총_상주인구_수'] / home2['총_상주인구_수'].sum() * 100,2)"
   ]
  },
  {
   "cell_type": "code",
   "execution_count": 29,
   "id": "11d3ef78-e0b7-46d1-921d-92cad1b0e93c",
   "metadata": {},
   "outputs": [
    {
     "data": {
      "text/plain": [
       "0.51"
      ]
     },
     "execution_count": 29,
     "metadata": {},
     "output_type": "execute_result"
    }
   ],
   "source": [
    "# 상주인구 TOP4 양재1동의 2022년 4분기 총 상주인구 대비 비율 -> 0.51%\n",
    "round(home2.loc['양재1동']['총_상주인구_수'] / home2['총_상주인구_수'].sum() * 100,2)"
   ]
  },
  {
   "cell_type": "code",
   "execution_count": 30,
   "id": "bfde4818-707d-4309-9090-a3ad881dfd1b",
   "metadata": {},
   "outputs": [
    {
     "data": {
      "text/plain": [
       "0.5"
      ]
     },
     "execution_count": 30,
     "metadata": {},
     "output_type": "execute_result"
    }
   ],
   "source": [
    "# 상주인구 TOP5 신정3동의 2022년 4분기 총 상주인구 대비 비율 -> 0.5%\n",
    "round(home2.loc['신정3동']['총_상주인구_수'] / home2['총_상주인구_수'].sum() * 100,2)"
   ]
  },
  {
   "cell_type": "markdown",
   "id": "031f5056-4142-493e-9886-7b1cf47aa385",
   "metadata": {},
   "source": [
    "### 2022년 총 유동인구 대비 행정동 TOP5의 비율 추출"
   ]
  },
  {
   "cell_type": "code",
   "execution_count": 31,
   "id": "8e289688-e829-4765-95c3-a4765e9e5722",
   "metadata": {},
   "outputs": [
    {
     "data": {
      "text/plain": [
       "0.91"
      ]
     },
     "execution_count": 31,
     "metadata": {},
     "output_type": "execute_result"
    }
   ],
   "source": [
    "# 유동인구 TOP1 역삼1동의 2022년 4분기 총 유동인구 대비 비율 -> 0.91%\n",
    "round(road2.loc['역삼1동']['총_유동인구_수'] / road2['총_유동인구_수'].sum() * 100,2)"
   ]
  },
  {
   "cell_type": "code",
   "execution_count": 32,
   "id": "b85d807f-784c-4f15-909c-2f2695d06c37",
   "metadata": {},
   "outputs": [
    {
     "data": {
      "text/plain": [
       "0.75"
      ]
     },
     "execution_count": 32,
     "metadata": {},
     "output_type": "execute_result"
    }
   ],
   "source": [
    "# 유동인구 TOP2 서교동의 2022년 4분기 총 유동인구 대비 비율 -> 0.75%\n",
    "round(road2.loc['서교동']['총_유동인구_수'] / road2['총_유동인구_수'].sum() * 100,2)"
   ]
  },
  {
   "cell_type": "code",
   "execution_count": 33,
   "id": "a7360552-90f6-40ae-ab10-71be4a25cf42",
   "metadata": {},
   "outputs": [
    {
     "data": {
      "text/plain": [
       "0.75"
      ]
     },
     "execution_count": 33,
     "metadata": {},
     "output_type": "execute_result"
    }
   ],
   "source": [
    "# 유동인구 TOP3 북아현동의 2022년 4분기 총 유동인구 대비 비율 -> 0.75%\n",
    "round(road2.loc['북아현동']['총_유동인구_수'] / road2['총_유동인구_수'].sum() * 100,2)"
   ]
  },
  {
   "cell_type": "code",
   "execution_count": 34,
   "id": "a9b685aa-ede6-4a23-a33a-15d4a8422c7c",
   "metadata": {},
   "outputs": [
    {
     "data": {
      "text/plain": [
       "0.72"
      ]
     },
     "execution_count": 34,
     "metadata": {},
     "output_type": "execute_result"
    }
   ],
   "source": [
    "# 유동인구 TOP4 길동의 2022년 4분기 총 유동인구 대비 비율 -> 0.72%\n",
    "round(road2.loc['길동']['총_유동인구_수'] / road2['총_유동인구_수'].sum() * 100,2)"
   ]
  },
  {
   "cell_type": "code",
   "execution_count": 35,
   "id": "57f010ce-6d77-493c-94f0-e96cda916127",
   "metadata": {},
   "outputs": [
    {
     "data": {
      "text/plain": [
       "0.71"
      ]
     },
     "execution_count": 35,
     "metadata": {},
     "output_type": "execute_result"
    }
   ],
   "source": [
    "# 유동인구 TOP5 화곡1동의 2022년 4분기 총 유동인구 대비 비율 -> 0.71%\n",
    "round(road2.loc['화곡1동']['총_유동인구_수'] / road2['총_유동인구_수'].sum() * 100,2)"
   ]
  },
  {
   "cell_type": "markdown",
   "id": "3d528371-d26c-4be8-89dd-7e3f48181fb4",
   "metadata": {},
   "source": [
    "### 인구 데이터 별 TOP5 행정동 세부 인구분석"
   ]
  },
  {
   "cell_type": "markdown",
   "id": "b33be136-ebb3-4dae-a793-f1247763d404",
   "metadata": {},
   "source": [
    "#### 직장인구 TOP5 (여의동, 도곡2동, 역삼1동, 삼성1동, 종로1.2.3.4가동)"
   ]
  },
  {
   "cell_type": "code",
   "execution_count": 36,
   "id": "edbde58c-bc5d-4d38-a4d3-551e22dab685",
   "metadata": {},
   "outputs": [
    {
     "name": "stderr",
     "output_type": "stream",
     "text": [
      "C:\\Users\\gillhk\\AppData\\Local\\Temp\\ipykernel_23188\\3711962039.py:2: SettingWithCopyWarning: \n",
      "A value is trying to be set on a copy of a slice from a DataFrame\n",
      "\n",
      "See the caveats in the documentation: https://pandas.pydata.org/pandas-docs/stable/user_guide/indexing.html#returning-a-view-versus-a-copy\n",
      "  worker3.rename(columns={'연령대_10_직장_인구_수': '10대', '연령대_20_직장_인구_수':'20대',\n"
     ]
    }
   ],
   "source": [
    "# 보기 좋게 컬럼이름변경\n",
    "worker3.rename(columns={'연령대_10_직장_인구_수': '10대', '연령대_20_직장_인구_수':'20대',\t\n",
    "'연령대_30_직장_인구_수':'30대', '연령대_40_직장_인구_수':'40대', '연령대_50_직장_인구_수':'50대','연령대_60_이상_직장_인구_수':'60대 이상'}, inplace=True)"
   ]
  },
  {
   "cell_type": "code",
   "execution_count": 37,
   "id": "65388d74-91d4-4cd0-9620-e475e2ab992d",
   "metadata": {},
   "outputs": [
    {
     "name": "stderr",
     "output_type": "stream",
     "text": [
      "C:\\Users\\gillhk\\AppData\\Local\\Temp\\ipykernel_23188\\2021429579.py:2: SettingWithCopyWarning: \n",
      "A value is trying to be set on a copy of a slice from a DataFrame\n",
      "\n",
      "See the caveats in the documentation: https://pandas.pydata.org/pandas-docs/stable/user_guide/indexing.html#returning-a-view-versus-a-copy\n",
      "  home3.rename(columns={'연령대_10_상주인구_수': '10대', '연령대_20_상주인구_수':'20대',\n"
     ]
    }
   ],
   "source": [
    "# 보기 좋게 컬럼이름변경\n",
    "home3.rename(columns={'연령대_10_상주인구_수': '10대', '연령대_20_상주인구_수':'20대',\t\n",
    "'연령대_30_상주인구_수':'30대', '연령대_40_상주인구_수':'40대', '연령대_50_상주인구_수':'50대','연령대_60_이상_상주인구_수':'60대 이상'}, inplace=True)"
   ]
  },
  {
   "cell_type": "code",
   "execution_count": 38,
   "id": "145ce3fe-3dfa-4a82-a584-7483c616fd66",
   "metadata": {},
   "outputs": [
    {
     "name": "stderr",
     "output_type": "stream",
     "text": [
      "C:\\Users\\gillhk\\AppData\\Local\\Temp\\ipykernel_23188\\778168339.py:2: SettingWithCopyWarning: \n",
      "A value is trying to be set on a copy of a slice from a DataFrame\n",
      "\n",
      "See the caveats in the documentation: https://pandas.pydata.org/pandas-docs/stable/user_guide/indexing.html#returning-a-view-versus-a-copy\n",
      "  road3.rename(columns={'시간대_00_06_유동인구_수':'00~06',\n"
     ]
    }
   ],
   "source": [
    "# 보기 좋게 컬럼이름변경\n",
    "road3.rename(columns={'시간대_00_06_유동인구_수':'00~06',\n",
    "       '시간대_06_11_유동인구_수':'06~11', '시간대_11_14_유동인구_수':'11~14', '시간대_14_17_유동인구_수':'14~17',\n",
    "       '시간대_17_21_유동인구_수':'17~21', '시간대_21_24_유동인구_수':'21~24', '월요일_유동인구_수':'월요일', \n",
    "                      '화요일_유동인구_수':'화요일', '수요일_유동인구_수':'수요일', '목요일_유동인구_수':'목요일', \n",
    "                      '금요일_유동인구_수':'금요일', '토요일_유동인구_수':'토요일', '일요일_유동인구_수':'일요일'}, inplace=True)"
   ]
  },
  {
   "cell_type": "code",
   "execution_count": 39,
   "id": "6cc200fe-3ea7-487c-ace3-9fa9e745c998",
   "metadata": {},
   "outputs": [
    {
     "data": {
      "text/plain": [
       "Index(['00~06', '06~11', '11~14', '14~17', '17~21', '21~24', '월요일', '화요일',\n",
       "       '수요일', '목요일', '금요일', '토요일', '일요일'],\n",
       "      dtype='object')"
      ]
     },
     "execution_count": 39,
     "metadata": {},
     "output_type": "execute_result"
    }
   ],
   "source": [
    "road3.columns"
   ]
  },
  {
   "cell_type": "code",
   "execution_count": 40,
   "id": "7374ec14-e5d8-451c-9629-b759e700608a",
   "metadata": {},
   "outputs": [],
   "source": [
    "road4 = road3[['00~06', '06~11', '11~14', '14~17', '17~21', '21~24']]\n",
    "road5 = road3[['월요일', '화요일','수요일', '목요일', '금요일', '토요일', '일요일']]"
   ]
  },
  {
   "cell_type": "code",
   "execution_count": 41,
   "id": "4898bd46-941d-40d2-b77a-78f9ee10a577",
   "metadata": {},
   "outputs": [
    {
     "data": {
      "image/png": "[encoded data removed]",
      "text/plain": [
       "<Figure size 300x300 with 1 Axes>"
      ]
     },
     "metadata": {},
     "output_type": "display_data"
    }
   ],
   "source": [
    "# 여의동 연령 별 직장 인구수\n",
    "worker3.loc['여의동'].plot.bar(figsize=(3,3), fontsize=8)\n",
    "plt.show()"
   ]
  },
  {
   "cell_type": "code",
   "execution_count": 42,
   "id": "91a73198-e91a-4e33-a1c0-20c6f3443126",
   "metadata": {},
   "outputs": [
    {
     "data": {
      "image/png": "[encoded data removed]",
      "text/plain": [
       "<Figure size 300x300 with 1 Axes>"
      ]
     },
     "metadata": {},
     "output_type": "display_data"
    }
   ],
   "source": [
    "# 여의동 연령 별 상주 인구수\n",
    "home3.loc['여의동'].plot.bar(figsize=(3,3), fontsize=8)\n",
    "plt.show()"
   ]
  },
  {
   "cell_type": "code",
   "execution_count": 43,
   "id": "fbd9997d-be31-49a9-a88e-e5beecfc5f11",
   "metadata": {},
   "outputs": [
    {
     "data": {
      "image/png": "[encoded data removed]",
      "text/plain": [
       "<Figure size 300x300 with 1 Axes>"
      ]
     },
     "metadata": {},
     "output_type": "display_data"
    }
   ],
   "source": [
    "# 여의동 요일 별 유동 인구수\n",
    "road5.loc['여의동'].plot.bar(figsize=(3,3), fontsize=8, color='g')\n",
    "plt.show()"
   ]
  },
  {
   "cell_type": "code",
   "execution_count": 44,
   "id": "a54f4860-1972-4d51-8045-5aef255506bd",
   "metadata": {},
   "outputs": [
    {
     "data": {
      "image/png": "[encoded data removed]",
      "text/plain": [
       "<Figure size 300x300 with 1 Axes>"
      ]
     },
     "metadata": {},
     "output_type": "display_data"
    }
   ],
   "source": [
    "# 여의동 시간 별 유동 인구수\n",
    "road4.loc['여의동'].plot.bar(figsize=(3,3), fontsize=8, color='g')\n",
    "plt.show()"
   ]
  },
  {
   "cell_type": "markdown",
   "id": "4ad030d6-7ddd-4d78-a01b-981fe5614f85",
   "metadata": {},
   "source": [
    "#### 유동인구 TOP5 (역삼1동, 서교동, 북아현동, 길동, 화곡1동)"
   ]
  },
  {
   "cell_type": "code",
   "execution_count": 45,
   "id": "9dab9c3e-8e80-4098-bde7-dc87ddf23a07",
   "metadata": {},
   "outputs": [
    {
     "data": {
      "image/png": "[encoded data removed]",
      "text/plain": [
       "<Figure size 300x300 with 1 Axes>"
      ]
     },
     "metadata": {},
     "output_type": "display_data"
    }
   ],
   "source": [
    "# 역삼1동 연령 별 직장 인구수\n",
    "worker3.loc['역삼1동'].plot.bar(figsize=(3,3), fontsize=8)\n",
    "plt.show()"
   ]
  },
  {
   "cell_type": "code",
   "execution_count": 46,
   "id": "5d0c3c8f-c5f6-42b1-a631-e015d6a31688",
   "metadata": {},
   "outputs": [
    {
     "data": {
      "image/png": "[encoded data removed]",
      "text/plain": [
       "<Figure size 300x300 with 1 Axes>"
      ]
     },
     "metadata": {},
     "output_type": "display_data"
    }
   ],
   "source": [
    "# 역삼1동 연령 별 상주 인구수\n",
    "home3.loc['역삼1동'].plot.bar(figsize=(3,3), fontsize=8)\n",
    "plt.show()"
   ]
  },
  {
   "cell_type": "code",
   "execution_count": 47,
   "id": "0ec0cd60-a3f6-4193-9dec-ca00c368daf4",
   "metadata": {},
   "outputs": [
    {
     "data": {
      "image/png": "[encoded data removed]",
      "text/plain": [
       "<Figure size 300x300 with 1 Axes>"
      ]
     },
     "metadata": {},
     "output_type": "display_data"
    }
   ],
   "source": [
    "# 역삼1동 요일 별 유동 인구수\n",
    "road5.loc['역삼1동'].plot.bar(figsize=(3,3), fontsize=8, color='g')\n",
    "plt.show()"
   ]
  },
  {
   "cell_type": "code",
   "execution_count": 48,
   "id": "a45ef440-dc51-4470-b3ab-267dced0f433",
   "metadata": {},
   "outputs": [
    {
     "data": {
      "image/png": "[encoded data removed]",
      "text/plain": [
       "<Figure size 300x300 with 1 Axes>"
      ]
     },
     "metadata": {},
     "output_type": "display_data"
    }
   ],
   "source": [
    "# 역삼1동 시간 별 유동 인구수\n",
    "road4.loc['역삼1동'].plot.bar(figsize=(3,3), fontsize=8, color='g')\n",
    "plt.show()"
   ]
  },
  {
   "cell_type": "code",
   "execution_count": 49,
   "id": "397aa532-9734-49e9-a52a-5785616e0ee7",
   "metadata": {},
   "outputs": [
    {
     "data": {
      "image/png": "[encoded data removed]",
      "text/plain": [
       "<Figure size 300x300 with 1 Axes>"
      ]
     },
     "metadata": {},
     "output_type": "display_data"
    }
   ],
   "source": [
    "# 서교동 연령 별 직장 인구수\n",
    "worker3.loc['서교동'].plot.bar(figsize=(3,3), fontsize=8)\n",
    "plt.show()"
   ]
  },
  {
   "cell_type": "code",
   "execution_count": 50,
   "id": "a7fd4cc3-c884-4391-a5fb-0cfdd1cbcf9a",
   "metadata": {},
   "outputs": [
    {
     "data": {
      "image/png": "[encoded data removed]",
      "text/plain": [
       "<Figure size 300x300 with 1 Axes>"
      ]
     },
     "metadata": {},
     "output_type": "display_data"
    }
   ],
   "source": [
    "# 서교동 연령 별 상주 인구수\n",
    "home3.loc['서교동'].plot.bar(figsize=(3,3), fontsize=8)\n",
    "plt.show()"
   ]
  },
  {
   "cell_type": "code",
   "execution_count": 51,
   "id": "044c3ec4-a942-4be9-8706-bd3c93053f6e",
   "metadata": {},
   "outputs": [
    {
     "data": {
      "image/png": "[encoded data removed]",
      "text/plain": [
       "<Figure size 300x300 with 1 Axes>"
      ]
     },
     "metadata": {},
     "output_type": "display_data"
    }
   ],
   "source": [
    "# 서교동 요일 별 유동 인구수\n",
    "road5.loc['서교동'].plot.bar(figsize=(3,3), fontsize=8, color='g')\n",
    "plt.show()"
   ]
  },
  {
   "cell_type": "code",
   "execution_count": 52,
   "id": "a4905d70-a3f7-45d1-9704-51e3bb6aa10e",
   "metadata": {},
   "outputs": [
    {
     "data": {
      "image/png": "[encoded data removed]",
      "text/plain": [
       "<Figure size 300x300 with 1 Axes>"
      ]
     },
     "metadata": {},
     "output_type": "display_data"
    }
   ],
   "source": [
    "# 서교동 시간 별 유동 인구수\n",
    "road4.loc['서교동'].plot.bar(figsize=(3,3), fontsize=8, color='g')\n",
    "plt.show()"
   ]
  },
  {
   "cell_type": "code",
   "execution_count": 53,
   "id": "887b0324-b52c-4fa7-a46f-bc1c7c832ca2",
   "metadata": {},
   "outputs": [
    {
     "data": {
      "image/png": "[encoded data removed]",
      "text/plain": [
       "<Figure size 300x300 with 1 Axes>"
      ]
     },
     "metadata": {},
     "output_type": "display_data"
    }
   ],
   "source": [
    "# 북아현동 연령 별 직장 인구수\n",
    "worker3.loc['북아현동'].plot.bar(figsize=(3,3), fontsize=8)\n",
    "plt.show()"
   ]
  },
  {
   "cell_type": "code",
   "execution_count": 54,
   "id": "212e0e3d-6903-49b2-a3bd-e5272274b5e7",
   "metadata": {},
   "outputs": [
    {
     "data": {
      "image/png": "[encoded data removed]",
      "text/plain": [
       "<Figure size 300x300 with 1 Axes>"
      ]
     },
     "metadata": {},
     "output_type": "display_data"
    }
   ],
   "source": [
    "# 북아현동 연령 별 상주 인구수\n",
    "home3.loc['북아현동'].plot.bar(figsize=(3,3), fontsize=8)\n",
    "plt.show()"
   ]
  },
  {
   "cell_type": "code",
   "execution_count": 55,
   "id": "5adf2716-5094-46ad-bbf8-0f798792d102",
   "metadata": {},
   "outputs": [
    {
     "data": {
      "image/png": "[encoded data removed]",
      "text/plain": [
       "<Figure size 300x300 with 1 Axes>"
      ]
     },
     "metadata": {},
     "output_type": "display_data"
    }
   ],
   "source": [
    "# 북아현동 요일 별 유동 인구수\n",
    "road5.loc['북아현동'].plot.bar(figsize=(3,3), fontsize=8, color='g')\n",
    "plt.show()"
   ]
  },
  {
   "cell_type": "code",
   "execution_count": 56,
   "id": "4625b5fb-29a0-4ebb-accf-85d11a2498a7",
   "metadata": {},
   "outputs": [
    {
     "data": {
      "image/png": "[encoded data removed]",
      "text/plain": [
       "<Figure size 300x300 with 1 Axes>"
      ]
     },
     "metadata": {},
     "output_type": "display_data"
    }
   ],
   "source": [
    "# 북아현동 시간 별 유동 인구수\n",
    "road4.loc['북아현동'].plot.bar(figsize=(3,3), fontsize=8, color='g')\n",
    "plt.show()"
   ]
  },
  {
   "cell_type": "code",
   "execution_count": 57,
   "id": "ceb2aa9a-459f-4fc8-83fb-eac7021e3c5b",
   "metadata": {},
   "outputs": [
    {
     "data": {
      "image/png": "[encoded data removed]",
      "text/plain": [
       "<Figure size 300x300 with 1 Axes>"
      ]
     },
     "metadata": {},
     "output_type": "display_data"
    }
   ],
   "source": [
    "# 길동 연령 별 직장 인구수\n",
    "worker3.loc['길동'].plot.bar(figsize=(3,3), fontsize=8)\n",
    "plt.show()"
   ]
  },
  {
   "cell_type": "code",
   "execution_count": 58,
   "id": "a3b59f09-48a3-4b50-a5de-20972848d668",
   "metadata": {},
   "outputs": [
    {
     "data": {
      "image/png": "[encoded data removed]",
      "text/plain": [
       "<Figure size 300x300 with 1 Axes>"
      ]
     },
     "metadata": {},
     "output_type": "display_data"
    }
   ],
   "source": [
    "# 길동 연령 별 상주 인구수\n",
    "home3.loc['길동'].plot.bar(figsize=(3,3), fontsize=8)\n",
    "plt.show()"
   ]
  },
  {
   "cell_type": "code",
   "execution_count": 59,
   "id": "6faf248e-1e1f-4a14-bbe6-7145c014f489",
   "metadata": {},
   "outputs": [
    {
     "data": {
      "image/png": "[encoded data removed]",
      "text/plain": [
       "<Figure size 300x300 with 1 Axes>"
      ]
     },
     "metadata": {},
     "output_type": "display_data"
    }
   ],
   "source": [
    "# 길동 요일 별 유동 인구수\n",
    "road5.loc['길동'].plot.bar(figsize=(3,3), fontsize=8, color='g')\n",
    "plt.show()"
   ]
  },
  {
   "cell_type": "code",
   "execution_count": 60,
   "id": "e8489c87-b905-409c-9f81-db687e4fd87c",
   "metadata": {},
   "outputs": [
    {
     "data": {
      "image/png": "[encoded data removed]",
      "text/plain": [
       "<Figure size 300x300 with 1 Axes>"
      ]
     },
     "metadata": {},
     "output_type": "display_data"
    }
   ],
   "source": [
    "# 길동 시간 별 유동 인구수\n",
    "road4.loc['길동'].plot.bar(figsize=(3,3), fontsize=8, color='g')\n",
    "plt.show()"
   ]
  },
  {
   "cell_type": "code",
   "execution_count": 61,
   "id": "52e6ec69-a372-4a6d-b922-7e9fb9e738cd",
   "metadata": {},
   "outputs": [
    {
     "data": {
      "image/png": "[encoded data removed]",
      "text/plain": [
       "<Figure size 300x300 with 1 Axes>"
      ]
     },
     "metadata": {},
     "output_type": "display_data"
    }
   ],
   "source": [
    "# 화곡1동 연령 별 직장 인구수\n",
    "worker3.loc['화곡1동'].plot.bar(figsize=(3,3), fontsize=8)\n",
    "plt.show()"
   ]
  },
  {
   "cell_type": "code",
   "execution_count": 62,
   "id": "feb3aacb-0ae1-42f1-b339-b0d81439136a",
   "metadata": {},
   "outputs": [
    {
     "data": {
      "image/png": "[encoded data removed]",
      "text/plain": [
       "<Figure size 300x300 with 1 Axes>"
      ]
     },
     "metadata": {},
     "output_type": "display_data"
    }
   ],
   "source": [
    "# 화곡1동 연령 별 상주 인구수\n",
    "home3.loc['화곡1동'].plot.bar(figsize=(3,3), fontsize=8)\n",
    "plt.show()"
   ]
  },
  {
   "cell_type": "code",
   "execution_count": 63,
   "id": "1a19a643-fbb1-49c6-808f-8f4da92e9d18",
   "metadata": {},
   "outputs": [
    {
     "data": {
      "image/png": "[encoded data removed]",
      "text/plain": [
       "<Figure size 300x300 with 1 Axes>"
      ]
     },
     "metadata": {},
     "output_type": "display_data"
    }
   ],
   "source": [
    "# 화곡1동 요일 별 유동 인구수\n",
    "road5.loc['화곡1동'].plot.bar(figsize=(3,3), fontsize=8, color='g')\n",
    "plt.show()"
   ]
  },
  {
   "cell_type": "code",
   "execution_count": 64,
   "id": "bebedb44-cc0d-449c-9e9e-872dae1b50d7",
   "metadata": {},
   "outputs": [
    {
     "data": {
      "image/png": "[encoded data removed]",
      "text/plain": [
       "<Figure size 300x300 with 1 Axes>"
      ]
     },
     "metadata": {},
     "output_type": "display_data"
    }
   ],
   "source": [
    "# 화곡1동 시간 별 유동 인구수\n",
    "road4.loc['화곡1동'].plot.bar(figsize=(3,3), fontsize=8, color='g')\n",
    "plt.show()"
   ]
  },
  {
   "cell_type": "markdown",
   "id": "839f1ab4-a620-498d-b2ea-2991ed015166",
   "metadata": {},
   "source": [
    "### 인구 데이터 별 TOP5 행정동 매출 금액 및 건수, 점포 수"
   ]
  },
  {
   "cell_type": "code",
   "execution_count": 65,
   "id": "77f931d6-bfc7-485a-ac87-07d97a6d75e8",
   "metadata": {},
   "outputs": [
    {
     "data": {
      "text/plain": [
       "Index(['기준_년분기_코드', '행정동_코드', '행정동_코드_명', '서비스_업종_코드', '서비스_업종_코드_명',\n",
       "       '당월_매출_금액', '당월_매출_건수', '주중_매출_금액', '주말_매출_금액', '월요일_매출_금액',\n",
       "       '화요일_매출_금액', '수요일_매출_금액', '목요일_매출_금액', '금요일_매출_금액', '토요일_매출_금액',\n",
       "       '일요일_매출_금액', '시간대_00~06_매출_금액', '시간대_06~11_매출_금액', '시간대_11~14_매출_금액',\n",
       "       '시간대_14~17_매출_금액', '시간대_17~21_매출_금액', '시간대_21~24_매출_금액', '남성_매출_금액',\n",
       "       '여성_매출_금액', '연령대_10_매출_금액', '연령대_20_매출_금액', '연령대_30_매출_금액',\n",
       "       '연령대_40_매출_금액', '연령대_50_매출_금액', '연령대_60_이상_매출_금액', '주중_매출_건수',\n",
       "       '주말_매출_건수', '월요일_매출_건수', '화요일_매출_건수', '수요일_매출_건수', '목요일_매출_건수',\n",
       "       '금요일_매출_건수', '토요일_매출_건수', '일요일_매출_건수', '시간대_건수~06_매출_건수',\n",
       "       '시간대_건수~11_매출_건수', '시간대_건수~14_매출_건수', '시간대_건수~17_매출_건수',\n",
       "       '시간대_건수~21_매출_건수', '시간대_건수~24_매출_건수', '남성_매출_건수', '여성_매출_건수',\n",
       "       '연령대_10_매출_건수', '연령대_20_매출_건수', '연령대_30_매출_건수', '연령대_40_매출_건수',\n",
       "       '연령대_50_매출_건수', '연령대_60_이상_매출_건수'],\n",
       "      dtype='object')"
      ]
     },
     "execution_count": 65,
     "metadata": {},
     "output_type": "execute_result"
    }
   ],
   "source": [
    "money.columns"
   ]
  },
  {
   "cell_type": "code",
   "execution_count": 70,
   "id": "f3646002-cb64-473d-a9c5-6602b7970320",
   "metadata": {},
   "outputs": [
    {
     "data": {
      "text/plain": [
       "array(['치과의원', '일반의류', '미용실', '핸드폰', '중식음식점', '골프연습장', '운동/경기용품',\n",
       "       '스포츠 강습', '커피-음료', '네일숍', '문구', '피부관리실', '패스트푸드점', '육류판매', '화초',\n",
       "       '가구', '호프-간이주점', '화장품', '일반교습학원', '가전제품수리', '안경', '당구장', '서적',\n",
       "       '한의원', '여관', '신발', '반찬가게', '예술학원', '분식전문점', '미곡판매', '노래방', '조명용품',\n",
       "       '수산물판매', '슈퍼마켓', '편의점', '시계및귀금속', '일식음식점', '제과점', '스포츠클럽', '청과상',\n",
       "       '자동차수리', '가전제품', '전자상거래업', 'PC방', '철물점', '섬유제품', '양식음식점', '세탁소',\n",
       "       '한식음식점', '의약품', '치킨전문점', '인테리어', '의료기기', '일반의원', '애완동물', '외국어학원',\n",
       "       '자전거 및 기타운송장비', '자동차미용', '부동산중개업', '컴퓨터및주변장치판매', '가방', '완구', '고시원'],\n",
       "      dtype=object)"
      ]
     },
     "execution_count": 70,
     "metadata": {},
     "output_type": "execute_result"
    }
   ],
   "source": [
    "money['서비스_업종_코드_명'].unique()"
   ]
  },
  {
   "cell_type": "code",
   "execution_count": 75,
   "id": "71674f45-1053-4a43-880f-bfa7b3e88cc9",
   "metadata": {},
   "outputs": [],
   "source": [
    "# 서비스 업종 중 요식업 관련 업종만 추출\n",
    "money1 = money[money['서비스_업종_코드_명'].isin(['중식음식점', '패스트푸드점','호프-간이주점','분식전문점', '일식음식점',\n",
    "                                          '치킨전문점','양식음식점', '한식음식점'])]"
   ]
  },
  {
   "cell_type": "code",
   "execution_count": 97,
   "id": "0a503a2c-0cec-4c17-a958-a15edce133db",
   "metadata": {},
   "outputs": [],
   "source": [
    "# # 분기별로 나뉘어진 매출을 1년치로 합산\n",
    "group_money = money1.groupby(['행정동_코드_명','서비스_업종_코드_명']).sum()"
   ]
  },
  {
   "cell_type": "code",
   "execution_count": 101,
   "id": "9cba8a80-a60e-4349-9d30-781349ee1633",
   "metadata": {},
   "outputs": [],
   "source": [
    "# 시간별, 연령별, 요일별로 구분하여 추출\n",
    "moneytime = group_money[['시간대_00~06_매출_금액', '시간대_06~11_매출_금액', '시간대_11~14_매출_금액',\n",
    "       '시간대_14~17_매출_금액', '시간대_17~21_매출_금액', '시간대_21~24_매출_금액']]\n",
    "moneyday = group_money[['월요일_매출_금액','화요일_매출_금액', '수요일_매출_금액', '목요일_매출_금액', '금요일_매출_금액', '토요일_매출_금액',\n",
    "       '일요일_매출_금액']]\n",
    "moneyage = group_money[['연령대_10_매출_금액', '연령대_20_매출_금액', '연령대_30_매출_금액',\n",
    "       '연령대_40_매출_금액', '연령대_50_매출_금액', '연령대_60_이상_매출_금액']]"
   ]
  }
 ],
 "metadata": {
  "kernelspec": {
   "display_name": "Python 3 (ipykernel)",
   "language": "python",
   "name": "python3"
  },
  "language_info": {
   "codemirror_mode": {
    "name": "ipython",
    "version": 3
   },
   "file_extension": ".py",
   "mimetype": "text/x-python",
   "name": "python",
   "nbconvert_exporter": "python",
   "pygments_lexer": "ipython3",
   "version": "3.11.7"
  }
 },
 "nbformat": 4,
 "nbformat_minor": 5
}
