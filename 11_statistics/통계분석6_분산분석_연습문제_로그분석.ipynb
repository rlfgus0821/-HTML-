{
 "cells": [
  {
   "cell_type": "markdown",
   "id": "4c331bd3",
   "metadata": {},
   "source": [
    "# 연습문제: 로그 데이터 분석"
   ]
  },
  {
   "cell_type": "markdown",
   "id": "be7f156e",
   "metadata": {},
   "source": [
    "다음 데이터는 깃허브 서비스에서 요일 별 사용자들의 푸시 횟수로, 요일별로 푸시 횟수가 다르다고 한다. 분산분석을 수행하여 검증하시오.\n",
    "\n",
    "- 데이터파일 : log_push.csv"
   ]
  },
  {
   "cell_type": "markdown",
   "id": "b41c2b56",
   "metadata": {},
   "source": [
    "### 필요 모듈 임포트"
   ]
  },
  {
   "cell_type": "code",
   "execution_count": null,
   "id": "ab0c39c6",
   "metadata": {},
   "outputs": [],
   "source": []
  },
  {
   "cell_type": "markdown",
   "id": "ab5d965e",
   "metadata": {},
   "source": [
    "#### 분산분석을 위한 모듈들 임포트"
   ]
  },
  {
   "cell_type": "code",
   "execution_count": null,
   "id": "926015e6",
   "metadata": {},
   "outputs": [],
   "source": []
  },
  {
   "cell_type": "markdown",
   "id": "674551be",
   "metadata": {},
   "source": [
    "### 데이터 수집"
   ]
  },
  {
   "cell_type": "code",
   "execution_count": null,
   "id": "cabea8df",
   "metadata": {},
   "outputs": [],
   "source": []
  },
  {
   "cell_type": "markdown",
   "id": "97542179",
   "metadata": {},
   "source": [
    "### 데이터 기초 정보 파악"
   ]
  },
  {
   "cell_type": "markdown",
   "id": "7ab33234",
   "metadata": {},
   "source": [
    ": 데이터 일부, 변수, 관측값수, 결측치 여부, 변수의 데이터타입, 기술통계량 등을 확인"
   ]
  },
  {
   "cell_type": "code",
   "execution_count": null,
   "id": "3fcd67af",
   "metadata": {},
   "outputs": [],
   "source": []
  },
  {
   "cell_type": "code",
   "execution_count": null,
   "id": "8ccfd0e5",
   "metadata": {},
   "outputs": [],
   "source": []
  },
  {
   "cell_type": "code",
   "execution_count": null,
   "id": "8a84ec87",
   "metadata": {},
   "outputs": [],
   "source": []
  },
  {
   "cell_type": "markdown",
   "id": "d0d0310f",
   "metadata": {},
   "source": [
    "### 데이터 가공"
   ]
  },
  {
   "cell_type": "markdown",
   "id": "0b4f7902",
   "metadata": {},
   "source": [
    "#### log_date컬럼을 이용하여 요일 컬럼(day_of_week) 생성"
   ]
  },
  {
   "cell_type": "markdown",
   "id": "0c7d73e2",
   "metadata": {},
   "source": [
    "- log_date를 날짜형식으로 변경"
   ]
  },
  {
   "cell_type": "code",
   "execution_count": null,
   "id": "e04a614c",
   "metadata": {},
   "outputs": [],
   "source": []
  },
  {
   "cell_type": "code",
   "execution_count": null,
   "id": "a4788fc3",
   "metadata": {},
   "outputs": [],
   "source": []
  },
  {
   "cell_type": "markdown",
   "id": "4afc11ff",
   "metadata": {},
   "source": [
    "- log_date를 이용하여 요일 컬럼(day_of_week) 생성"
   ]
  },
  {
   "cell_type": "code",
   "execution_count": null,
   "id": "46c1bc5f",
   "metadata": {},
   "outputs": [],
   "source": []
  },
  {
   "cell_type": "code",
   "execution_count": null,
   "id": "9f138b6e",
   "metadata": {
    "scrolled": true
   },
   "outputs": [],
   "source": []
  },
  {
   "cell_type": "markdown",
   "id": "9e316104",
   "metadata": {},
   "source": [
    "- 요일 컬럼의 데이터를 범주형(Category)으로 변경 "
   ]
  },
  {
   "cell_type": "code",
   "execution_count": null,
   "id": "b279f916",
   "metadata": {},
   "outputs": [],
   "source": []
  },
  {
   "cell_type": "code",
   "execution_count": null,
   "id": "25e0481d",
   "metadata": {
    "scrolled": true
   },
   "outputs": [],
   "source": []
  },
  {
   "cell_type": "markdown",
   "id": "cc0a80b2",
   "metadata": {},
   "source": [
    "### 데이터 탐색 및 시각화"
   ]
  },
  {
   "cell_type": "markdown",
   "id": "a88860c9",
   "metadata": {},
   "source": [
    "#### 요일별 빈도수"
   ]
  },
  {
   "cell_type": "code",
   "execution_count": null,
   "id": "82d107b3",
   "metadata": {
    "scrolled": true
   },
   "outputs": [],
   "source": []
  },
  {
   "cell_type": "markdown",
   "id": "dd360411",
   "metadata": {},
   "source": [
    "#### 요일별 push수에 대한 기술통계량"
   ]
  },
  {
   "cell_type": "code",
   "execution_count": null,
   "id": "03add5eb",
   "metadata": {},
   "outputs": [],
   "source": []
  },
  {
   "cell_type": "markdown",
   "id": "490bd09f",
   "metadata": {},
   "source": [
    "#### 요일별 push수에 대한 박스플롯"
   ]
  },
  {
   "cell_type": "code",
   "execution_count": null,
   "id": "afb2d004",
   "metadata": {
    "scrolled": true
   },
   "outputs": [],
   "source": []
  },
  {
   "cell_type": "markdown",
   "id": "9c266409",
   "metadata": {},
   "source": [
    "#### push_count에 대한 요일별  히스토그램\n",
    "\n",
    "- matplotlib을 이용하여 요일별 히스토그램을 한 윈도우에 겹쳐서 그리기"
   ]
  },
  {
   "cell_type": "code",
   "execution_count": null,
   "id": "854872e2",
   "metadata": {},
   "outputs": [],
   "source": []
  },
  {
   "cell_type": "markdown",
   "id": "a4a3298a",
   "metadata": {},
   "source": [
    "- seaborn을 이용하여 요일별 히스토그램 그리기"
   ]
  },
  {
   "cell_type": "code",
   "execution_count": null,
   "id": "7e4ff277",
   "metadata": {
    "scrolled": true
   },
   "outputs": [],
   "source": []
  },
  {
   "cell_type": "markdown",
   "id": "19f6a78c",
   "metadata": {},
   "source": [
    "### 이상치 탐색 및 제거"
   ]
  },
  {
   "cell_type": "code",
   "execution_count": null,
   "id": "45c7f4c9",
   "metadata": {},
   "outputs": [],
   "source": []
  },
  {
   "cell_type": "markdown",
   "id": "610ef47e",
   "metadata": {},
   "source": [
    "#### 이상치 제거 후 push_count의 요일별 박스플롯"
   ]
  },
  {
   "cell_type": "code",
   "execution_count": null,
   "id": "ad1998ca",
   "metadata": {
    "scrolled": true
   },
   "outputs": [],
   "source": []
  },
  {
   "cell_type": "code",
   "execution_count": null,
   "id": "f44a6bfe",
   "metadata": {},
   "outputs": [],
   "source": []
  },
  {
   "cell_type": "markdown",
   "id": "12ed1b30",
   "metadata": {},
   "source": [
    "## 일원분산분석"
   ]
  },
  {
   "cell_type": "markdown",
   "id": "1a6fcd42",
   "metadata": {},
   "source": [
    "### 1. 가설 설정"
   ]
  },
  {
   "cell_type": "raw",
   "id": "223bcdce",
   "metadata": {},
   "source": []
  },
  {
   "cell_type": "markdown",
   "id": "184dc098",
   "metadata": {},
   "source": [
    "### 2. 정규성 검정"
   ]
  },
  {
   "cell_type": "markdown",
   "id": "891f0fc9",
   "metadata": {},
   "source": [
    "- 원 데이터로 요일별 push_count의 정규성 검정"
   ]
  },
  {
   "cell_type": "code",
   "execution_count": null,
   "id": "a2e06d7c",
   "metadata": {},
   "outputs": [],
   "source": []
  },
  {
   "cell_type": "markdown",
   "id": "cfc2e5b1",
   "metadata": {},
   "source": [
    "- 이상치 제거한 데이터로 요일별 push_count의 정규성 검정"
   ]
  },
  {
   "cell_type": "code",
   "execution_count": null,
   "id": "dc26ead1",
   "metadata": {},
   "outputs": [],
   "source": []
  },
  {
   "cell_type": "markdown",
   "id": "91547a46",
   "metadata": {},
   "source": [
    "### 3. 등분산성 검정"
   ]
  },
  {
   "cell_type": "code",
   "execution_count": null,
   "id": "844deb22",
   "metadata": {},
   "outputs": [],
   "source": []
  },
  {
   "cell_type": "code",
   "execution_count": null,
   "id": "f065db56",
   "metadata": {},
   "outputs": [],
   "source": []
  },
  {
   "cell_type": "markdown",
   "id": "543454dc",
   "metadata": {},
   "source": [
    "### 4. 분산분석 수행\n",
    "- 가정 검정 결과에 맞게 분석을 수행하시오."
   ]
  },
  {
   "cell_type": "code",
   "execution_count": null,
   "id": "08ebb130",
   "metadata": {},
   "outputs": [],
   "source": []
  },
  {
   "cell_type": "code",
   "execution_count": null,
   "id": "92bcaa73",
   "metadata": {},
   "outputs": [],
   "source": []
  },
  {
   "cell_type": "markdown",
   "id": "2f2cb4b7",
   "metadata": {},
   "source": [
    "### 5. 사후검정 수행"
   ]
  },
  {
   "cell_type": "markdown",
   "id": "a2553b7a",
   "metadata": {},
   "source": [
    "- 어느 요일간에 차이가 있는가?"
   ]
  },
  {
   "cell_type": "code",
   "execution_count": null,
   "id": "55e39b6f",
   "metadata": {},
   "outputs": [],
   "source": []
  },
  {
   "cell_type": "code",
   "execution_count": null,
   "id": "161b489c",
   "metadata": {},
   "outputs": [],
   "source": []
  },
  {
   "cell_type": "code",
   "execution_count": null,
   "id": "4b97ac80",
   "metadata": {},
   "outputs": [],
   "source": []
  },
  {
   "cell_type": "markdown",
   "id": "83325fec",
   "metadata": {},
   "source": [
    "----------------------------------"
   ]
  }
 ],
 "metadata": {
  "kernelspec": {
   "display_name": "Python 3 (ipykernel)",
   "language": "python",
   "name": "python3"
  },
  "language_info": {
   "codemirror_mode": {
    "name": "ipython",
    "version": 3
   },
   "file_extension": ".py",
   "mimetype": "text/x-python",
   "name": "python",
   "nbconvert_exporter": "python",
   "pygments_lexer": "ipython3",
   "version": "3.11.7"
  }
 },
 "nbformat": 4,
 "nbformat_minor": 5
}
