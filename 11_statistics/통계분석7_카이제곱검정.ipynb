{
 "cells": [
  {
   "cell_type": "markdown",
   "id": "24e6f631",
   "metadata": {},
   "source": [
    "# 카이제곱 검정"
   ]
  },
  {
   "cell_type": "code",
   "execution_count": null,
   "id": "cfafcc06",
   "metadata": {},
   "outputs": [],
   "source": [
    "import numpy as np\n",
    "import pandas as pd\n",
    "from scipy import stats\n",
    "import matplotlib.pyplot as plt\n",
    "\n",
    "%precision 5"
   ]
  },
  {
   "cell_type": "markdown",
   "id": "7cf7cf3d",
   "metadata": {},
   "source": [
    "###  카이제곱 분포"
   ]
  },
  {
   "cell_type": "code",
   "execution_count": null,
   "id": "e4343f42",
   "metadata": {},
   "outputs": [],
   "source": []
  },
  {
   "cell_type": "markdown",
   "id": "79e117ca",
   "metadata": {},
   "source": [
    "## 적합도 검정"
   ]
  },
  {
   "cell_type": "code",
   "execution_count": null,
   "id": "0a4fd891",
   "metadata": {
    "scrolled": true
   },
   "outputs": [],
   "source": []
  },
  {
   "cell_type": "markdown",
   "id": "b64e7542",
   "metadata": {},
   "source": [
    "## 독립성 검정"
   ]
  },
  {
   "cell_type": "markdown",
   "id": "cfe783d3",
   "metadata": {},
   "source": [
    "#### 예제. 흡연유무와 폐암여부 연관성"
   ]
  },
  {
   "cell_type": "code",
   "execution_count": null,
   "id": "aed97f8c",
   "metadata": {},
   "outputs": [],
   "source": []
  },
  {
   "cell_type": "code",
   "execution_count": null,
   "id": "7a6922c8",
   "metadata": {},
   "outputs": [],
   "source": []
  },
  {
   "cell_type": "markdown",
   "id": "201e67ea",
   "metadata": {},
   "source": [
    "#### 예제. 당뇨와 비만의 연관성"
   ]
  },
  {
   "cell_type": "code",
   "execution_count": null,
   "id": "73c819e2",
   "metadata": {},
   "outputs": [],
   "source": []
  },
  {
   "cell_type": "code",
   "execution_count": null,
   "id": "45e0064e",
   "metadata": {},
   "outputs": [],
   "source": []
  },
  {
   "cell_type": "code",
   "execution_count": null,
   "id": "bb897343",
   "metadata": {},
   "outputs": [],
   "source": []
  },
  {
   "cell_type": "code",
   "execution_count": null,
   "id": "4b01d800",
   "metadata": {},
   "outputs": [],
   "source": []
  },
  {
   "cell_type": "code",
   "execution_count": null,
   "id": "89fbdd8b",
   "metadata": {},
   "outputs": [],
   "source": []
  },
  {
   "cell_type": "markdown",
   "id": "1003aab8",
   "metadata": {},
   "source": [
    "## 동질성 검정"
   ]
  },
  {
   "cell_type": "markdown",
   "id": "2e7ff7fc",
   "metadata": {},
   "source": [
    "#### 예제. \n",
    "\n",
    "A,B,C 서로 다른 3가지 헤드라인의 분포가 같은가?"
   ]
  },
  {
   "cell_type": "code",
   "execution_count": null,
   "id": "a1a6d46c",
   "metadata": {},
   "outputs": [],
   "source": []
  },
  {
   "cell_type": "code",
   "execution_count": null,
   "id": "20f75bcd",
   "metadata": {
    "scrolled": true
   },
   "outputs": [],
   "source": []
  },
  {
   "cell_type": "markdown",
   "id": "33d2fe43",
   "metadata": {},
   "source": [
    "### Fisher's Exact Test\n",
    "\n",
    ": 빈도 수가 극치 적거나(5개 이하 빈도가 전체 셀 중 20% 이상 존재하는 경우), 서로의 빈도 수 차이가 많이 나는 경우"
   ]
  },
  {
   "cell_type": "markdown",
   "id": "ddd9736e",
   "metadata": {},
   "source": [
    "#### 예제"
   ]
  },
  {
   "cell_type": "code",
   "execution_count": null,
   "id": "d7694f05",
   "metadata": {},
   "outputs": [],
   "source": []
  },
  {
   "cell_type": "code",
   "execution_count": null,
   "id": "121144d0",
   "metadata": {
    "scrolled": true
   },
   "outputs": [],
   "source": []
  },
  {
   "cell_type": "markdown",
   "id": "08f22270",
   "metadata": {},
   "source": [
    "#### 예제"
   ]
  },
  {
   "cell_type": "code",
   "execution_count": null,
   "id": "83c4d244",
   "metadata": {},
   "outputs": [],
   "source": []
  },
  {
   "cell_type": "code",
   "execution_count": null,
   "id": "e1c592fc",
   "metadata": {},
   "outputs": [],
   "source": []
  },
  {
   "cell_type": "markdown",
   "id": "2dee8fc6",
   "metadata": {},
   "source": [
    "--------------------------------------"
   ]
  }
 ],
 "metadata": {
  "kernelspec": {
   "display_name": "Python 3 (ipykernel)",
   "language": "python",
   "name": "python3"
  },
  "language_info": {
   "codemirror_mode": {
    "name": "ipython",
    "version": 3
   },
   "file_extension": ".py",
   "mimetype": "text/x-python",
   "name": "python",
   "nbconvert_exporter": "python",
   "pygments_lexer": "ipython3",
   "version": "3.11.7"
  }
 },
 "nbformat": 4,
 "nbformat_minor": 5
}
