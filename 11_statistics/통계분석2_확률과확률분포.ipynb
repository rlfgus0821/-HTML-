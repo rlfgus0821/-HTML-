{
 "cells": [
  {
   "cell_type": "markdown",
   "metadata": {},
   "source": [
    "# 확률과 확률분포"
   ]
  },
  {
   "cell_type": "markdown",
   "metadata": {},
   "source": [
    "## 확률"
   ]
  },
  {
   "cell_type": "markdown",
   "metadata": {},
   "source": [
    "- 확률(probability)\n",
    "    - 어떤 사건(event)이 일어날 가능성\n",
    "    - 예. \n",
    "        - 동전 던지기에서 앞면이 나올 가능성\n",
    "        - 주사위 던지기에서 특정 눈금이 나올 확률\n",
    "        - 주식투자에서 이득을 볼 가능성\n",
    "        \n",
    "        \n",
    "\n",
    "- 의사결정\n",
    "    - 확실성(certainty) 보다는 불확실한 상황에서 이루어지는 경우가 많음\n",
    "    - 미래에 대한 불확실성의 정도가 더욱 심하다고 할 수 있음 \n",
    "    - 불확실성 하에서 의사결정의 오류를 줄이기 위해 확률에 대한 연구 필요"
   ]
  },
  {
   "cell_type": "markdown",
   "metadata": {},
   "source": [
    "### 확률의 기본"
   ]
  },
  {
   "cell_type": "markdown",
   "metadata": {},
   "source": [
    "- 표본공간과 표본점\n",
    "- 사상(사건)\n",
    "- 확률의 정의\n",
    "    - 객관적 확률(고전적/경험적확률)\n",
    "    - 주관적 확률\n",
    "    - 공리적 확률  \n",
    "- 합사건 / 곱사건\n",
    "- 상호배반\n",
    "- 종속사건과 독립사건\n",
    "- 결합확률 / 주변확률\n",
    "- 조건부 확률\n",
    "- 분할\n",
    "- 전확률의 정리\n",
    "- 베이즈 정리"
   ]
  },
  {
   "cell_type": "markdown",
   "metadata": {},
   "source": [
    "## 확률변수와 확률분포"
   ]
  },
  {
   "cell_type": "markdown",
   "metadata": {},
   "source": [
    "### 확률변수(random variable)\n",
    "- 실험이나 관찰의 결과 값을 1:1 실수로 대응시키는 함수\n",
    "- 일정한 확률로 나타나는(발생하는) 사건에 대해 숫자를 부여한 변수\n",
    "- ex) 동전을 던졌을 때 나오는 확률 변수 -> (앞면 -> 1 / 뒷면 -> 0) \n",
    "\n",
    "#### 확률변수 구분\n",
    "- 이산 확률변수(discrete random variable) : 변수가 취할 수 있는 값의 개수가 유한 (ex)주사위 눈 개수(1~6)) \n",
    "- 연속 확률변수(continuous random variable) : 변수가 취할 수 있는 값의 개수가 무한 (ex)몸무게 -> 범위의 최대 최소가 정할 수 없는 경우) "
   ]
  },
  {
   "cell_type": "markdown",
   "metadata": {},
   "source": [
    "### 확률분포(probability distribution)\n",
    "\n",
    "- 확률변수가 취할 수 있는 모든 값에 대해 각각의 확률을 대응시킨 것\n",
    "- ex) 동전을 던졌을 때 나오는 확률 분포 -> 확률 변수(앞면 -> 1 / 뒷면 -> 0) -> 확률 분포(1-> 1/2, 0->1/2)\n",
    "\n",
    "#### 확률분포 구분\n",
    "- 확률질량함수(probability mass function: pmf) : 확률변수가 이산형인 경우\n",
    "- 확률밀도함수(probability density function: pdf) : 확률변수가 연속형인 경우"
   ]
  },
  {
   "cell_type": "code",
   "execution_count": 1,
   "metadata": {},
   "outputs": [],
   "source": [
    "import numpy as np\n",
    "import pandas as pd\n",
    "import matplotlib.pyplot as plt"
   ]
  },
  {
   "cell_type": "code",
   "execution_count": 2,
   "metadata": {},
   "outputs": [
    {
     "data": {
      "text/plain": [
       "'%.3f'"
      ]
     },
     "execution_count": 2,
     "metadata": {},
     "output_type": "execute_result"
    }
   ],
   "source": [
    "# 소수점 이하 자리 정하기\n",
    "%precision 3 "
   ]
  },
  {
   "cell_type": "markdown",
   "metadata": {},
   "source": [
    "#### 1) 공정한 주사위의 확률분포를 구하는 실험"
   ]
  },
  {
   "cell_type": "code",
   "execution_count": 3,
   "metadata": {},
   "outputs": [
    {
     "data": {
      "text/plain": [
       "[0.167, 0.167, 0.167, 0.167, 0.167, 0.167]"
      ]
     },
     "execution_count": 3,
     "metadata": {},
     "output_type": "execute_result"
    }
   ],
   "source": [
    "# 확률변수 X: 주사위의 눈의 수\n",
    "dice = [1,2,3,4,5,6]\n",
    "\n",
    "# 확률 P(X=dice)\n",
    "prob = [1/6] * 6\n",
    "prob"
   ]
  },
  {
   "cell_type": "code",
   "execution_count": 4,
   "metadata": {},
   "outputs": [
    {
     "data": {
      "text/plain": [
       "4"
      ]
     },
     "execution_count": 4,
     "metadata": {},
     "output_type": "execute_result"
    }
   ],
   "source": [
    "np.random.seed(0)\n",
    "np.random.choice(dice, p=prob)"
   ]
  },
  {
   "cell_type": "code",
   "execution_count": 5,
   "metadata": {},
   "outputs": [
    {
     "data": {
      "text/plain": [
       "array([5, 4, 4, 3, 4, 3, 6, 6, 3, 5, 4, 4, 6, 1, 1, 1, 5, 5, 6, 6, 5, 3,\n",
       "       5, 1, 4, 1, 6, 4, 3, 2, 5, 3, 4, 1, 4, 4, 4, 6, 5, 3, 3, 5, 1, 5,\n",
       "       5, 2, 1, 2, 3, 4, 3, 6, 1, 2, 1, 4, 2, 3, 2, 1, 1, 4, 1, 2, 3, 5,\n",
       "       1, 6, 1, 6, 3, 6, 4, 5, 1, 2, 1, 2, 1, 2, 3, 1, 5, 4, 2, 4, 1, 4,\n",
       "       6, 2, 5, 1, 5, 2, 2, 4, 1, 5, 1, 5])"
      ]
     },
     "execution_count": 5,
     "metadata": {},
     "output_type": "execute_result"
    }
   ],
   "source": [
    "num_trial = 100\n",
    "sample = np.random.choice(dice,size=num_trial,p=prob)\n",
    "sample"
   ]
  },
  {
   "cell_type": "code",
   "execution_count": 6,
   "metadata": {},
   "outputs": [
    {
     "data": {
      "text/plain": [
       "(array([23, 14, 14, 19, 18, 12], dtype=int64),\n",
       " array([1., 2., 3., 4., 5., 6., 7.]))"
      ]
     },
     "execution_count": 6,
     "metadata": {},
     "output_type": "execute_result"
    }
   ],
   "source": [
    "# 빈도수 계산\n",
    "freq, bins = np.histogram(sample, bins=6, range=(1,7))\n",
    "freq, bins"
   ]
  },
  {
   "cell_type": "code",
   "execution_count": 7,
   "metadata": {},
   "outputs": [
    {
     "data": {
      "text/html": [
       "<div>\n",
       "<style scoped>\n",
       "    .dataframe tbody tr th:only-of-type {\n",
       "        vertical-align: middle;\n",
       "    }\n",
       "\n",
       "    .dataframe tbody tr th {\n",
       "        vertical-align: top;\n",
       "    }\n",
       "\n",
       "    .dataframe thead th {\n",
       "        text-align: right;\n",
       "    }\n",
       "</style>\n",
       "<table border=\"1\" class=\"dataframe\">\n",
       "  <thead>\n",
       "    <tr style=\"text-align: right;\">\n",
       "      <th></th>\n",
       "      <th>frequency</th>\n",
       "      <th>rel_freq</th>\n",
       "    </tr>\n",
       "    <tr>\n",
       "      <th>dice</th>\n",
       "      <th></th>\n",
       "      <th></th>\n",
       "    </tr>\n",
       "  </thead>\n",
       "  <tbody>\n",
       "    <tr>\n",
       "      <th>1</th>\n",
       "      <td>23</td>\n",
       "      <td>0.23</td>\n",
       "    </tr>\n",
       "    <tr>\n",
       "      <th>2</th>\n",
       "      <td>14</td>\n",
       "      <td>0.14</td>\n",
       "    </tr>\n",
       "    <tr>\n",
       "      <th>3</th>\n",
       "      <td>14</td>\n",
       "      <td>0.14</td>\n",
       "    </tr>\n",
       "    <tr>\n",
       "      <th>4</th>\n",
       "      <td>19</td>\n",
       "      <td>0.19</td>\n",
       "    </tr>\n",
       "    <tr>\n",
       "      <th>5</th>\n",
       "      <td>18</td>\n",
       "      <td>0.18</td>\n",
       "    </tr>\n",
       "    <tr>\n",
       "      <th>6</th>\n",
       "      <td>12</td>\n",
       "      <td>0.12</td>\n",
       "    </tr>\n",
       "  </tbody>\n",
       "</table>\n",
       "</div>"
      ],
      "text/plain": [
       "      frequency  rel_freq\n",
       "dice                     \n",
       "1            23      0.23\n",
       "2            14      0.14\n",
       "3            14      0.14\n",
       "4            19      0.19\n",
       "5            18      0.18\n",
       "6            12      0.12"
      ]
     },
     "execution_count": 7,
     "metadata": {},
     "output_type": "execute_result"
    }
   ],
   "source": [
    "dice_df = pd.DataFrame({'frequency':freq , 'rel_freq': freq/num_trial},\n",
    "                      index=pd.Index(np.arange(1,7), name='dice'))\n",
    "dice_df"
   ]
  },
  {
   "cell_type": "code",
   "execution_count": 8,
   "metadata": {},
   "outputs": [
    {
     "data": {
      "image/png": "[encoded data removed]",
      "text/plain": [
       "<Figure size 640x480 with 1 Axes>"
      ]
     },
     "metadata": {},
     "output_type": "display_data"
    }
   ],
   "source": [
    "plt.hist(sample, bins=6,range=(1,7),rwidth=0.8, density=True)\n",
    "plt.xticks(np.linspace(1.5,6.5,6),list('123456'))\n",
    "plt.xlabel('dice')\n",
    "plt.ylabel('relative frequency')\n",
    "plt.hlines(prob, np.arange(1,7), np.arange(2,8),color='gray')\n",
    "plt.show()"
   ]
  },
  {
   "cell_type": "code",
   "execution_count": 9,
   "metadata": {},
   "outputs": [],
   "source": [
    "def draw_dice_hist(num, prob):\n",
    "    sample = np.random.choice(dice, size=num, p=prob)\n",
    "    plt.figure(figsize=(6,4))\n",
    "    plt.hist(sample, bins=6,range=(1,7),rwidth=0.8, density=True)\n",
    "    plt.xticks(np.linspace(1.5,6.5,6),list('123456'))\n",
    "    plt.xlabel('dice')\n",
    "    plt.ylabel('relative frequency')\n",
    "    plt.hlines(prob, np.arange(1,7), np.arange(2,8),color='gray')\n",
    "    plt.show()"
   ]
  },
  {
   "cell_type": "markdown",
   "metadata": {},
   "source": [
    "#### 10000번 시도 : 실제 확률분포에 가까워짐"
   ]
  },
  {
   "cell_type": "code",
   "execution_count": 10,
   "metadata": {},
   "outputs": [
    {
     "data": {
      "image/png": "[encoded data removed]",
      "text/plain": [
       "<Figure size 600x400 with 1 Axes>"
      ]
     },
     "metadata": {},
     "output_type": "display_data"
    }
   ],
   "source": [
    "num_trial =10000\n",
    "draw_dice_hist(num_trial, prob)"
   ]
  },
  {
   "cell_type": "markdown",
   "metadata": {},
   "source": [
    "- 모집단: 분석대상 전체 집합\n",
    "- 모평균: 모집단의 평균 / 시그마(확률변수i * 확률)"
   ]
  },
  {
   "cell_type": "code",
   "execution_count": 11,
   "metadata": {},
   "outputs": [
    {
     "data": {
      "text/plain": [
       "3.500"
      ]
     },
     "execution_count": 11,
     "metadata": {},
     "output_type": "execute_result"
    }
   ],
   "source": [
    "mu = 0\n",
    "for x, p in zip(dice,prob):\n",
    "    mu += x*p\n",
    "mu"
   ]
  },
  {
   "cell_type": "code",
   "execution_count": 12,
   "metadata": {},
   "outputs": [
    {
     "data": {
      "text/plain": [
       "3.500"
      ]
     },
     "execution_count": 12,
     "metadata": {},
     "output_type": "execute_result"
    }
   ],
   "source": [
    "np.sum([x*p for x,p in zip(dice, prob)])"
   ]
  },
  {
   "cell_type": "code",
   "execution_count": 13,
   "metadata": {},
   "outputs": [
    {
     "data": {
      "text/plain": [
       "3.500"
      ]
     },
     "execution_count": 13,
     "metadata": {},
     "output_type": "execute_result"
    }
   ],
   "source": [
    "np.dot(dice,prob)"
   ]
  },
  {
   "cell_type": "markdown",
   "metadata": {},
   "source": [
    "- 표본: 모집단에서 선택된 모집단 구성단위의 일부\n",
    "- 표본평균"
   ]
  },
  {
   "cell_type": "code",
   "execution_count": 14,
   "metadata": {},
   "outputs": [
    {
     "data": {
      "text/plain": [
       "3.310"
      ]
     },
     "execution_count": 14,
     "metadata": {},
     "output_type": "execute_result"
    }
   ],
   "source": [
    "np.sum(dice_df.index * dice_df.rel_freq)"
   ]
  },
  {
   "cell_type": "markdown",
   "metadata": {},
   "source": [
    "#### 2) 불공정한 주사위의 확률분포를 구하는 실험"
   ]
  },
  {
   "cell_type": "code",
   "execution_count": 15,
   "metadata": {},
   "outputs": [],
   "source": [
    "prob = [1/21,2/21,3/21,4/21,5/21,6/21]"
   ]
  },
  {
   "cell_type": "code",
   "execution_count": 16,
   "metadata": {},
   "outputs": [],
   "source": [
    "def make_dice_df(num, prob):\n",
    "    dice = [1,2,3,4,5,6]\n",
    "    sample = np.random.choice(dice,size=num,p=prob)\n",
    "    freq, bin = np.histogram(sample, bins=6, range=(1,7))\n",
    "    dice_df = pd.DataFrame({'freq':freq, 'rel_freq':freq/num},\n",
    "                          index = [1,2,3,4,5,6])\n",
    "    return dice_df"
   ]
  },
  {
   "cell_type": "code",
   "execution_count": 17,
   "metadata": {},
   "outputs": [
    {
     "data": {
      "text/html": [
       "<div>\n",
       "<style scoped>\n",
       "    .dataframe tbody tr th:only-of-type {\n",
       "        vertical-align: middle;\n",
       "    }\n",
       "\n",
       "    .dataframe tbody tr th {\n",
       "        vertical-align: top;\n",
       "    }\n",
       "\n",
       "    .dataframe thead th {\n",
       "        text-align: right;\n",
       "    }\n",
       "</style>\n",
       "<table border=\"1\" class=\"dataframe\">\n",
       "  <thead>\n",
       "    <tr style=\"text-align: right;\">\n",
       "      <th></th>\n",
       "      <th>freq</th>\n",
       "      <th>rel_freq</th>\n",
       "    </tr>\n",
       "  </thead>\n",
       "  <tbody>\n",
       "    <tr>\n",
       "      <th>1</th>\n",
       "      <td>3</td>\n",
       "      <td>0.03</td>\n",
       "    </tr>\n",
       "    <tr>\n",
       "      <th>2</th>\n",
       "      <td>7</td>\n",
       "      <td>0.07</td>\n",
       "    </tr>\n",
       "    <tr>\n",
       "      <th>3</th>\n",
       "      <td>20</td>\n",
       "      <td>0.20</td>\n",
       "    </tr>\n",
       "    <tr>\n",
       "      <th>4</th>\n",
       "      <td>22</td>\n",
       "      <td>0.22</td>\n",
       "    </tr>\n",
       "    <tr>\n",
       "      <th>5</th>\n",
       "      <td>23</td>\n",
       "      <td>0.23</td>\n",
       "    </tr>\n",
       "    <tr>\n",
       "      <th>6</th>\n",
       "      <td>25</td>\n",
       "      <td>0.25</td>\n",
       "    </tr>\n",
       "  </tbody>\n",
       "</table>\n",
       "</div>"
      ],
      "text/plain": [
       "   freq  rel_freq\n",
       "1     3      0.03\n",
       "2     7      0.07\n",
       "3    20      0.20\n",
       "4    22      0.22\n",
       "5    23      0.23\n",
       "6    25      0.25"
      ]
     },
     "execution_count": 17,
     "metadata": {},
     "output_type": "execute_result"
    }
   ],
   "source": [
    "num_trial =100\n",
    "make_dice_df(num_trial, prob)"
   ]
  },
  {
   "cell_type": "code",
   "execution_count": 18,
   "metadata": {},
   "outputs": [
    {
     "data": {
      "image/png": "[encoded data removed]",
      "text/plain": [
       "<Figure size 600x400 with 1 Axes>"
      ]
     },
     "metadata": {},
     "output_type": "display_data"
    }
   ],
   "source": [
    "draw_dice_hist(num_trial, prob)"
   ]
  },
  {
   "cell_type": "markdown",
   "metadata": {},
   "source": [
    "#### 10000번 시도 : 실제 확률분포에 가까워짐"
   ]
  },
  {
   "cell_type": "code",
   "execution_count": 19,
   "metadata": {},
   "outputs": [
    {
     "data": {
      "image/png": "[encoded data removed]",
      "text/plain": [
       "<Figure size 600x400 with 1 Axes>"
      ]
     },
     "metadata": {},
     "output_type": "display_data"
    }
   ],
   "source": [
    "draw_dice_hist(10000, prob)"
   ]
  },
  {
   "cell_type": "markdown",
   "metadata": {},
   "source": [
    "- 모평균(기대값)"
   ]
  },
  {
   "cell_type": "code",
   "execution_count": 20,
   "metadata": {},
   "outputs": [
    {
     "data": {
      "text/plain": [
       "4.333"
      ]
     },
     "execution_count": 20,
     "metadata": {},
     "output_type": "execute_result"
    }
   ],
   "source": [
    "np.dot(dice, prob)"
   ]
  },
  {
   "cell_type": "markdown",
   "metadata": {},
   "source": [
    "- 표본평균"
   ]
  },
  {
   "cell_type": "code",
   "execution_count": 21,
   "metadata": {},
   "outputs": [
    {
     "data": {
      "text/html": [
       "<div>\n",
       "<style scoped>\n",
       "    .dataframe tbody tr th:only-of-type {\n",
       "        vertical-align: middle;\n",
       "    }\n",
       "\n",
       "    .dataframe tbody tr th {\n",
       "        vertical-align: top;\n",
       "    }\n",
       "\n",
       "    .dataframe thead th {\n",
       "        text-align: right;\n",
       "    }\n",
       "</style>\n",
       "<table border=\"1\" class=\"dataframe\">\n",
       "  <thead>\n",
       "    <tr style=\"text-align: right;\">\n",
       "      <th></th>\n",
       "      <th>freq</th>\n",
       "      <th>rel_freq</th>\n",
       "    </tr>\n",
       "  </thead>\n",
       "  <tbody>\n",
       "    <tr>\n",
       "      <th>1</th>\n",
       "      <td>5</td>\n",
       "      <td>0.05</td>\n",
       "    </tr>\n",
       "    <tr>\n",
       "      <th>2</th>\n",
       "      <td>8</td>\n",
       "      <td>0.08</td>\n",
       "    </tr>\n",
       "    <tr>\n",
       "      <th>3</th>\n",
       "      <td>9</td>\n",
       "      <td>0.09</td>\n",
       "    </tr>\n",
       "    <tr>\n",
       "      <th>4</th>\n",
       "      <td>20</td>\n",
       "      <td>0.20</td>\n",
       "    </tr>\n",
       "    <tr>\n",
       "      <th>5</th>\n",
       "      <td>22</td>\n",
       "      <td>0.22</td>\n",
       "    </tr>\n",
       "    <tr>\n",
       "      <th>6</th>\n",
       "      <td>36</td>\n",
       "      <td>0.36</td>\n",
       "    </tr>\n",
       "  </tbody>\n",
       "</table>\n",
       "</div>"
      ],
      "text/plain": [
       "   freq  rel_freq\n",
       "1     5      0.05\n",
       "2     8      0.08\n",
       "3     9      0.09\n",
       "4    20      0.20\n",
       "5    22      0.22\n",
       "6    36      0.36"
      ]
     },
     "execution_count": 21,
     "metadata": {},
     "output_type": "execute_result"
    }
   ],
   "source": [
    "dice_df = make_dice_df(100, prob)\n",
    "dice_df"
   ]
  },
  {
   "cell_type": "code",
   "execution_count": 22,
   "metadata": {},
   "outputs": [
    {
     "data": {
      "text/plain": [
       "4.540"
      ]
     },
     "execution_count": 22,
     "metadata": {},
     "output_type": "execute_result"
    }
   ],
   "source": [
    "np.dot(dice_df.index, dice_df.rel_freq)"
   ]
  },
  {
   "cell_type": "markdown",
   "metadata": {},
   "source": [
    "## 확률분포의 평균(mean)과 분산(variance)"
   ]
  },
  {
   "attachments": {},
   "cell_type": "markdown",
   "metadata": {},
   "source": [
    "####  확률분포의 평균(mean)\n",
    "\n",
    "- 기대값(expected value)\n",
    "    -  확률 변수의 기대값(${E}$)은 각 사건이 벌어졌을 때의 이득과 그 사건이 벌어질 확률을 곱한 것을 전체 사건에 대해 합한 값 \n",
    "\n",
    "- 어떤 확률적 사건에 대한 평균의 의미\n",
    "- ${E(X)}$ 또는 ${μ_X }$ 로 표시\n",
    "- 이산확률분포의 기대값 : 확률을 가중값으로 사용한 가중평균\n",
    "- 연속확률분포의 기대값 : 적분개념의 면적\n",
    "    \n",
    "\n",
    "\n",
    "- 모평균(population mean) : ${ μ}$\n",
    "    - 모집단의 평균"
   ]
  },
  {
   "cell_type": "code",
   "execution_count": 23,
   "metadata": {},
   "outputs": [],
   "source": [
    "# 공정한 주사위 눈에 대한 확률\n",
    "\n",
    "x_set = np.array([1,2,3,4,5,6])\n",
    "\n",
    "# 확률 질량 함수 pmf\n",
    "# 확률 질량 함수 = 각 확률변수마다의 확률\n",
    "def f(x):\n",
    "    if x in x_set:\n",
    "        return 1/6\n",
    "    else:\n",
    "        return 0 "
   ]
  },
  {
   "cell_type": "code",
   "execution_count": 24,
   "metadata": {},
   "outputs": [
    {
     "data": {
      "text/plain": [
       "[0.167, 0.167, 0.167, 0.167, 0.167, 0.167]"
      ]
     },
     "execution_count": 24,
     "metadata": {},
     "output_type": "execute_result"
    }
   ],
   "source": [
    "list(map(f,x_set))"
   ]
  },
  {
   "cell_type": "code",
   "execution_count": 25,
   "metadata": {},
   "outputs": [
    {
     "data": {
      "text/plain": [
       "[array([1, 2, 3, 4, 5, 6]), <function __main__.f(x)>]"
      ]
     },
     "execution_count": 25,
     "metadata": {},
     "output_type": "execute_result"
    }
   ],
   "source": [
    "x = [x_set, f]\n",
    "x"
   ]
  },
  {
   "cell_type": "markdown",
   "metadata": {},
   "source": [
    "#### 기대값 함수"
   ]
  },
  {
   "cell_type": "code",
   "execution_count": 26,
   "metadata": {},
   "outputs": [],
   "source": [
    "# 확률 변수(x_set) * 확률(f(x))을 더하기 \n",
    "def E(x):\n",
    "    x_set, f = x\n",
    "    return np.sum([xi*f(xi) for xi in x_set])"
   ]
  },
  {
   "cell_type": "code",
   "execution_count": 27,
   "metadata": {},
   "outputs": [
    {
     "data": {
      "text/plain": [
       "3.500"
      ]
     },
     "execution_count": 27,
     "metadata": {},
     "output_type": "execute_result"
    }
   ],
   "source": [
    "E(x)"
   ]
  },
  {
   "cell_type": "code",
   "execution_count": 28,
   "metadata": {},
   "outputs": [],
   "source": [
    "def E2(x, g=lambda x:2*x+3):\n",
    "    x_set, f =x\n",
    "    return np.sum([g(xi)*f(xi) for xi in x_set])"
   ]
  },
  {
   "cell_type": "code",
   "execution_count": 29,
   "metadata": {},
   "outputs": [
    {
     "data": {
      "text/plain": [
       "10.000"
      ]
     },
     "execution_count": 29,
     "metadata": {},
     "output_type": "execute_result"
    }
   ],
   "source": [
    "E2(x)"
   ]
  },
  {
   "attachments": {},
   "cell_type": "markdown",
   "metadata": {},
   "source": [
    "#### 확률분포의 분산(variance)\n",
    "\n",
    "- ${Var(X)}$  표시\n",
    "- 확률변수의 평균(기대값)으로부터의 편차의 제곱에 대한 기대값으로 계산\n",
    "\n"
   ]
  },
  {
   "cell_type": "code",
   "execution_count": 30,
   "metadata": {},
   "outputs": [],
   "source": [
    "def V(x):\n",
    "    x_set, f = x\n",
    "    mu = E(x)\n",
    "    return np.sum([(xi-mu)**2 * f(xi) for xi in x_set])"
   ]
  },
  {
   "cell_type": "code",
   "execution_count": 31,
   "metadata": {},
   "outputs": [
    {
     "data": {
      "text/plain": [
       "2.917"
      ]
     },
     "execution_count": 31,
     "metadata": {},
     "output_type": "execute_result"
    }
   ],
   "source": [
    "V(x)"
   ]
  },
  {
   "cell_type": "code",
   "execution_count": 32,
   "metadata": {},
   "outputs": [
    {
     "data": {
      "text/plain": [
       "2.917"
      ]
     },
     "execution_count": 32,
     "metadata": {},
     "output_type": "execute_result"
    }
   ],
   "source": [
    "np.dot(dice, dice)/6 - E(x)**2"
   ]
  },
  {
   "cell_type": "code",
   "execution_count": 33,
   "metadata": {},
   "outputs": [],
   "source": [
    "# 불공정한 주사위에 대한 확률분포\n",
    "def f2(x):\n",
    "    if x in x_set:\n",
    "        return x/21\n",
    "    else:\n",
    "        return 0 "
   ]
  },
  {
   "cell_type": "code",
   "execution_count": 34,
   "metadata": {},
   "outputs": [
    {
     "data": {
      "text/plain": [
       "0.048"
      ]
     },
     "execution_count": 34,
     "metadata": {},
     "output_type": "execute_result"
    }
   ],
   "source": [
    "f2(1)"
   ]
  },
  {
   "cell_type": "code",
   "execution_count": 35,
   "metadata": {},
   "outputs": [
    {
     "data": {
      "text/plain": [
       "[array([1, 2, 3, 4, 5, 6]), <function __main__.f2(x)>]"
      ]
     },
     "execution_count": 35,
     "metadata": {},
     "output_type": "execute_result"
    }
   ],
   "source": [
    "x2 = [x_set, f2]\n",
    "x2"
   ]
  },
  {
   "cell_type": "code",
   "execution_count": 36,
   "metadata": {},
   "outputs": [
    {
     "data": {
      "text/plain": [
       "4.333"
      ]
     },
     "execution_count": 36,
     "metadata": {},
     "output_type": "execute_result"
    }
   ],
   "source": [
    "E(x2)"
   ]
  },
  {
   "cell_type": "code",
   "execution_count": 37,
   "metadata": {},
   "outputs": [
    {
     "data": {
      "text/plain": [
       "2.222"
      ]
     },
     "execution_count": 37,
     "metadata": {},
     "output_type": "execute_result"
    }
   ],
   "source": [
    "V(x2)"
   ]
  },
  {
   "cell_type": "markdown",
   "metadata": {},
   "source": [
    "------"
   ]
  },
  {
   "cell_type": "code",
   "execution_count": 38,
   "metadata": {},
   "outputs": [],
   "source": [
    "from scipy import stats"
   ]
  },
  {
   "cell_type": "markdown",
   "metadata": {},
   "source": [
    "- https://scipy.org/\n",
    "- https://docs.scipy.org/doc/scipy/reference/index.html\n",
    "- https://docs.scipy.org/doc/scipy/reference/stats.html"
   ]
  },
  {
   "cell_type": "markdown",
   "metadata": {},
   "source": [
    "## 이산형 확률분포"
   ]
  },
  {
   "cell_type": "markdown",
   "metadata": {},
   "source": [
    "- 베르누이 분포\n",
    "- 이항분포\n",
    "- 포아송분포\n",
    "- 기하분포"
   ]
  },
  {
   "cell_type": "markdown",
   "metadata": {},
   "source": [
    "### 이항분포(binomial distribution)\n",
    "\n",
    "- $ X $ ~ $ B(n,p) $\n",
    "- ex) 주사위를 10회 던져서 숫자 6이 나오는 횟수 이 분포는 n = 10이고 p = 1/6인 이항분포이다"
   ]
  },
  {
   "cell_type": "markdown",
   "metadata": {},
   "source": [
    "**연습문제1**\n",
    "- X~B(n= 10, p=0.5)인 이항분포의 확률분포를 계산하고 막대그래프로 그리기\n",
    "- np.comb(n,p) * p**k * (1-p)**(n-k)"
   ]
  },
  {
   "cell_type": "code",
   "execution_count": 39,
   "metadata": {},
   "outputs": [
    {
     "data": {
      "text/plain": [
       "45"
      ]
     },
     "execution_count": 39,
     "metadata": {},
     "output_type": "execute_result"
    }
   ],
   "source": [
    "# 조합 -> math.comb()\n",
    "import math\n",
    "# 순서가 상관없는 10개 중 2개를 선택하는 경우의 수\n",
    "math.comb(10,2)"
   ]
  },
  {
   "cell_type": "code",
   "execution_count": 40,
   "metadata": {},
   "outputs": [
    {
     "data": {
      "text/plain": [
       "[0.001, 0.010, 0.044, 0.117, 0.205, 0.246, 0.205, 0.117, 0.044, 0.010, 0.001]"
      ]
     },
     "execution_count": 40,
     "metadata": {},
     "output_type": "execute_result"
    }
   ],
   "source": [
    "n, p = 10 ,0.5\n",
    "[math.comb(n,k)*p**k * (1-p)**(n-k) for k in range(n+1)]"
   ]
  },
  {
   "cell_type": "code",
   "execution_count": 41,
   "metadata": {},
   "outputs": [],
   "source": [
    "def binom_pmf(n,p):\n",
    "    px = {k:math.comb(n,k)*p**k * (1-p)**(n-k) for k in range(n+1)}\n",
    "    return px"
   ]
  },
  {
   "cell_type": "code",
   "execution_count": 42,
   "metadata": {},
   "outputs": [
    {
     "data": {
      "text/plain": [
       "{0: 0.001,\n",
       " 1: 0.010,\n",
       " 2: 0.044,\n",
       " 3: 0.117,\n",
       " 4: 0.205,\n",
       " 5: 0.246,\n",
       " 6: 0.205,\n",
       " 7: 0.117,\n",
       " 8: 0.044,\n",
       " 9: 0.010,\n",
       " 10: 0.001}"
      ]
     },
     "execution_count": 42,
     "metadata": {},
     "output_type": "execute_result"
    }
   ],
   "source": [
    "binom_pmf(10,0.5)"
   ]
  },
  {
   "cell_type": "code",
   "execution_count": 43,
   "metadata": {},
   "outputs": [],
   "source": [
    "def draw_binom_pmf(n,p):\n",
    "    px = binom_pmf(n,p)\n",
    "    pmf = pd.DataFrame.from_dict(px, orient='index', columns=['P(X)'])\n",
    "    print(pmf)\n",
    "    plt.figure(figsize=(6,4))\n",
    "    plt.bar(pmf.index, pmf['P(X)'])\n",
    "    plt.title(f'X~B(n={n},p={p})')\n",
    "    plt.xlabel('X')\n",
    "    plt.ylabel('P(X)')\n",
    "    plt.show()\n",
    "    return pmf"
   ]
  },
  {
   "cell_type": "code",
   "execution_count": 44,
   "metadata": {},
   "outputs": [
    {
     "name": "stdout",
     "output_type": "stream",
     "text": [
      "        P(X)\n",
      "0   0.000977\n",
      "1   0.009766\n",
      "2   0.043945\n",
      "3   0.117188\n",
      "4   0.205078\n",
      "5   0.246094\n",
      "6   0.205078\n",
      "7   0.117188\n",
      "8   0.043945\n",
      "9   0.009766\n",
      "10  0.000977\n"
     ]
    },
    {
     "data": {
      "image/png": "[encoded data removed]",
      "text/plain": [
       "<Figure size 600x400 with 1 Axes>"
      ]
     },
     "metadata": {},
     "output_type": "display_data"
    }
   ],
   "source": [
    "pmf = draw_binom_pmf(n,p)"
   ]
  },
  {
   "cell_type": "markdown",
   "metadata": {},
   "source": [
    "- 기대값과 분산을 계산"
   ]
  },
  {
   "cell_type": "code",
   "execution_count": 45,
   "metadata": {},
   "outputs": [
    {
     "name": "stdout",
     "output_type": "stream",
     "text": [
      "X~B(n=10,p=0.5)의 E(x)는 5.0, Var(x)는 2.5\n"
     ]
    }
   ],
   "source": [
    "Ex = n*p\n",
    "Var = n*p*(1-p)\n",
    "print(f'X~B(n=10,p=0.5)의 E(x)는 {Ex}, Var(x)는 {Var}')"
   ]
  },
  {
   "cell_type": "code",
   "execution_count": 46,
   "metadata": {},
   "outputs": [
    {
     "data": {
      "text/html": [
       "<div>\n",
       "<style scoped>\n",
       "    .dataframe tbody tr th:only-of-type {\n",
       "        vertical-align: middle;\n",
       "    }\n",
       "\n",
       "    .dataframe tbody tr th {\n",
       "        vertical-align: top;\n",
       "    }\n",
       "\n",
       "    .dataframe thead th {\n",
       "        text-align: right;\n",
       "    }\n",
       "</style>\n",
       "<table border=\"1\" class=\"dataframe\">\n",
       "  <thead>\n",
       "    <tr style=\"text-align: right;\">\n",
       "      <th></th>\n",
       "      <th>P(X)</th>\n",
       "    </tr>\n",
       "  </thead>\n",
       "  <tbody>\n",
       "    <tr>\n",
       "      <th>0</th>\n",
       "      <td>0.000977</td>\n",
       "    </tr>\n",
       "    <tr>\n",
       "      <th>1</th>\n",
       "      <td>0.009766</td>\n",
       "    </tr>\n",
       "    <tr>\n",
       "      <th>2</th>\n",
       "      <td>0.043945</td>\n",
       "    </tr>\n",
       "    <tr>\n",
       "      <th>3</th>\n",
       "      <td>0.117188</td>\n",
       "    </tr>\n",
       "    <tr>\n",
       "      <th>4</th>\n",
       "      <td>0.205078</td>\n",
       "    </tr>\n",
       "    <tr>\n",
       "      <th>5</th>\n",
       "      <td>0.246094</td>\n",
       "    </tr>\n",
       "    <tr>\n",
       "      <th>6</th>\n",
       "      <td>0.205078</td>\n",
       "    </tr>\n",
       "    <tr>\n",
       "      <th>7</th>\n",
       "      <td>0.117188</td>\n",
       "    </tr>\n",
       "    <tr>\n",
       "      <th>8</th>\n",
       "      <td>0.043945</td>\n",
       "    </tr>\n",
       "    <tr>\n",
       "      <th>9</th>\n",
       "      <td>0.009766</td>\n",
       "    </tr>\n",
       "    <tr>\n",
       "      <th>10</th>\n",
       "      <td>0.000977</td>\n",
       "    </tr>\n",
       "  </tbody>\n",
       "</table>\n",
       "</div>"
      ],
      "text/plain": [
       "        P(X)\n",
       "0   0.000977\n",
       "1   0.009766\n",
       "2   0.043945\n",
       "3   0.117188\n",
       "4   0.205078\n",
       "5   0.246094\n",
       "6   0.205078\n",
       "7   0.117188\n",
       "8   0.043945\n",
       "9   0.009766\n",
       "10  0.000977"
      ]
     },
     "execution_count": 46,
     "metadata": {},
     "output_type": "execute_result"
    }
   ],
   "source": [
    "pmf"
   ]
  },
  {
   "cell_type": "code",
   "execution_count": 47,
   "metadata": {},
   "outputs": [
    {
     "data": {
      "text/plain": [
       "5.000"
      ]
     },
     "execution_count": 47,
     "metadata": {},
     "output_type": "execute_result"
    }
   ],
   "source": [
    "# 기대값(모평균)\n",
    "# np.dot -> 2개의 배열에 같은 위치의 값을 곱하고 더한 것\n",
    "# ex) a=[1,2,3,4], b=[9,8,7,6] / np.dot(a,b) = 1*9+2*8+3*7+4*6\n",
    "np.dot(pmf.index, pmf['P(X)'])"
   ]
  },
  {
   "cell_type": "code",
   "execution_count": 48,
   "metadata": {},
   "outputs": [
    {
     "data": {
      "text/plain": [
       "2.500"
      ]
     },
     "execution_count": 48,
     "metadata": {},
     "output_type": "execute_result"
    }
   ],
   "source": [
    "# 모분산\n",
    "np.dot((pmf.index-Ex)**2, pmf['P(X)'])"
   ]
  },
  {
   "cell_type": "code",
   "execution_count": 49,
   "metadata": {},
   "outputs": [
    {
     "data": {
      "text/plain": [
       "2.500"
      ]
     },
     "execution_count": 49,
     "metadata": {},
     "output_type": "execute_result"
    }
   ],
   "source": [
    "# 모분산\n",
    "np.dot(pmf.index**2, pmf['P(X)']) - Ex**2"
   ]
  },
  {
   "cell_type": "markdown",
   "metadata": {},
   "source": [
    "- 누적확률분포 계산"
   ]
  },
  {
   "cell_type": "code",
   "execution_count": 50,
   "metadata": {},
   "outputs": [],
   "source": [
    "# np.cumsum -> 누적해서 더하기\n",
    "def binom_cdf(n,p):\n",
    "    px = binom_pmf(n,p)\n",
    "    np.cumsum(list(px.values()))\n",
    "    cdf = pd.DataFrame(np.cumsum(list(px.values())), index=pd.Index(np.arange(n+1), name='X'),\n",
    "            columns=['F(x)'])\n",
    "    return cdf"
   ]
  },
  {
   "cell_type": "code",
   "execution_count": 51,
   "metadata": {},
   "outputs": [],
   "source": [
    "cdf = binom_cdf(n,p)"
   ]
  },
  {
   "cell_type": "code",
   "execution_count": 52,
   "metadata": {},
   "outputs": [
    {
     "data": {
      "text/plain": [
       "F(x)    0.623047\n",
       "Name: 5, dtype: float64"
      ]
     },
     "execution_count": 52,
     "metadata": {},
     "output_type": "execute_result"
    }
   ],
   "source": [
    "cdf.loc[5]"
   ]
  },
  {
   "cell_type": "markdown",
   "metadata": {},
   "source": [
    "**연습문제2**\n",
    "- X~B(n=5, p=0.3)인 이항분포의 확률분포를 계산하고 막대그래프로 그리기"
   ]
  },
  {
   "cell_type": "code",
   "execution_count": 53,
   "metadata": {},
   "outputs": [
    {
     "name": "stdout",
     "output_type": "stream",
     "text": [
      "      P(X)\n",
      "0  0.16807\n",
      "1  0.36015\n",
      "2  0.30870\n",
      "3  0.13230\n",
      "4  0.02835\n",
      "5  0.00243\n"
     ]
    },
    {
     "data": {
      "image/png": "[encoded data removed]",
      "text/plain": [
       "<Figure size 600x400 with 1 Axes>"
      ]
     },
     "metadata": {},
     "output_type": "display_data"
    },
    {
     "data": {
      "text/html": [
       "<div>\n",
       "<style scoped>\n",
       "    .dataframe tbody tr th:only-of-type {\n",
       "        vertical-align: middle;\n",
       "    }\n",
       "\n",
       "    .dataframe tbody tr th {\n",
       "        vertical-align: top;\n",
       "    }\n",
       "\n",
       "    .dataframe thead th {\n",
       "        text-align: right;\n",
       "    }\n",
       "</style>\n",
       "<table border=\"1\" class=\"dataframe\">\n",
       "  <thead>\n",
       "    <tr style=\"text-align: right;\">\n",
       "      <th></th>\n",
       "      <th>P(X)</th>\n",
       "    </tr>\n",
       "  </thead>\n",
       "  <tbody>\n",
       "    <tr>\n",
       "      <th>0</th>\n",
       "      <td>0.16807</td>\n",
       "    </tr>\n",
       "    <tr>\n",
       "      <th>1</th>\n",
       "      <td>0.36015</td>\n",
       "    </tr>\n",
       "    <tr>\n",
       "      <th>2</th>\n",
       "      <td>0.30870</td>\n",
       "    </tr>\n",
       "    <tr>\n",
       "      <th>3</th>\n",
       "      <td>0.13230</td>\n",
       "    </tr>\n",
       "    <tr>\n",
       "      <th>4</th>\n",
       "      <td>0.02835</td>\n",
       "    </tr>\n",
       "    <tr>\n",
       "      <th>5</th>\n",
       "      <td>0.00243</td>\n",
       "    </tr>\n",
       "  </tbody>\n",
       "</table>\n",
       "</div>"
      ],
      "text/plain": [
       "      P(X)\n",
       "0  0.16807\n",
       "1  0.36015\n",
       "2  0.30870\n",
       "3  0.13230\n",
       "4  0.02835\n",
       "5  0.00243"
      ]
     },
     "execution_count": 53,
     "metadata": {},
     "output_type": "execute_result"
    }
   ],
   "source": [
    "draw_binom_pmf(5,0.3)"
   ]
  },
  {
   "cell_type": "code",
   "execution_count": 54,
   "metadata": {},
   "outputs": [
    {
     "data": {
      "text/html": [
       "<div>\n",
       "<style scoped>\n",
       "    .dataframe tbody tr th:only-of-type {\n",
       "        vertical-align: middle;\n",
       "    }\n",
       "\n",
       "    .dataframe tbody tr th {\n",
       "        vertical-align: top;\n",
       "    }\n",
       "\n",
       "    .dataframe thead th {\n",
       "        text-align: right;\n",
       "    }\n",
       "</style>\n",
       "<table border=\"1\" class=\"dataframe\">\n",
       "  <thead>\n",
       "    <tr style=\"text-align: right;\">\n",
       "      <th></th>\n",
       "      <th>F(x)</th>\n",
       "    </tr>\n",
       "    <tr>\n",
       "      <th>X</th>\n",
       "      <th></th>\n",
       "    </tr>\n",
       "  </thead>\n",
       "  <tbody>\n",
       "    <tr>\n",
       "      <th>0</th>\n",
       "      <td>0.16807</td>\n",
       "    </tr>\n",
       "    <tr>\n",
       "      <th>1</th>\n",
       "      <td>0.52822</td>\n",
       "    </tr>\n",
       "    <tr>\n",
       "      <th>2</th>\n",
       "      <td>0.83692</td>\n",
       "    </tr>\n",
       "    <tr>\n",
       "      <th>3</th>\n",
       "      <td>0.96922</td>\n",
       "    </tr>\n",
       "    <tr>\n",
       "      <th>4</th>\n",
       "      <td>0.99757</td>\n",
       "    </tr>\n",
       "    <tr>\n",
       "      <th>5</th>\n",
       "      <td>1.00000</td>\n",
       "    </tr>\n",
       "  </tbody>\n",
       "</table>\n",
       "</div>"
      ],
      "text/plain": [
       "      F(x)\n",
       "X         \n",
       "0  0.16807\n",
       "1  0.52822\n",
       "2  0.83692\n",
       "3  0.96922\n",
       "4  0.99757\n",
       "5  1.00000"
      ]
     },
     "execution_count": 54,
     "metadata": {},
     "output_type": "execute_result"
    }
   ],
   "source": [
    "binom_cdf(5,0.3)"
   ]
  },
  {
   "cell_type": "code",
   "execution_count": 55,
   "metadata": {},
   "outputs": [
    {
     "name": "stdout",
     "output_type": "stream",
     "text": [
      "             P(X)\n",
      "0    7.888609e-31\n",
      "1    7.888609e-29\n",
      "2    3.904861e-27\n",
      "3    1.275588e-25\n",
      "4    3.093301e-24\n",
      "..            ...\n",
      "96   3.093301e-24\n",
      "97   1.275588e-25\n",
      "98   3.904861e-27\n",
      "99   7.888609e-29\n",
      "100  7.888609e-31\n",
      "\n",
      "[101 rows x 1 columns]\n"
     ]
    },
    {
     "data": {
      "image/png": "[encoded data removed]",
      "text/plain": [
       "<Figure size 600x400 with 1 Axes>"
      ]
     },
     "metadata": {},
     "output_type": "display_data"
    },
    {
     "data": {
      "text/html": [
       "<div>\n",
       "<style scoped>\n",
       "    .dataframe tbody tr th:only-of-type {\n",
       "        vertical-align: middle;\n",
       "    }\n",
       "\n",
       "    .dataframe tbody tr th {\n",
       "        vertical-align: top;\n",
       "    }\n",
       "\n",
       "    .dataframe thead th {\n",
       "        text-align: right;\n",
       "    }\n",
       "</style>\n",
       "<table border=\"1\" class=\"dataframe\">\n",
       "  <thead>\n",
       "    <tr style=\"text-align: right;\">\n",
       "      <th></th>\n",
       "      <th>P(X)</th>\n",
       "    </tr>\n",
       "  </thead>\n",
       "  <tbody>\n",
       "    <tr>\n",
       "      <th>0</th>\n",
       "      <td>7.888609e-31</td>\n",
       "    </tr>\n",
       "    <tr>\n",
       "      <th>1</th>\n",
       "      <td>7.888609e-29</td>\n",
       "    </tr>\n",
       "    <tr>\n",
       "      <th>2</th>\n",
       "      <td>3.904861e-27</td>\n",
       "    </tr>\n",
       "    <tr>\n",
       "      <th>3</th>\n",
       "      <td>1.275588e-25</td>\n",
       "    </tr>\n",
       "    <tr>\n",
       "      <th>4</th>\n",
       "      <td>3.093301e-24</td>\n",
       "    </tr>\n",
       "    <tr>\n",
       "      <th>...</th>\n",
       "      <td>...</td>\n",
       "    </tr>\n",
       "    <tr>\n",
       "      <th>96</th>\n",
       "      <td>3.093301e-24</td>\n",
       "    </tr>\n",
       "    <tr>\n",
       "      <th>97</th>\n",
       "      <td>1.275588e-25</td>\n",
       "    </tr>\n",
       "    <tr>\n",
       "      <th>98</th>\n",
       "      <td>3.904861e-27</td>\n",
       "    </tr>\n",
       "    <tr>\n",
       "      <th>99</th>\n",
       "      <td>7.888609e-29</td>\n",
       "    </tr>\n",
       "    <tr>\n",
       "      <th>100</th>\n",
       "      <td>7.888609e-31</td>\n",
       "    </tr>\n",
       "  </tbody>\n",
       "</table>\n",
       "<p>101 rows × 1 columns</p>\n",
       "</div>"
      ],
      "text/plain": [
       "             P(X)\n",
       "0    7.888609e-31\n",
       "1    7.888609e-29\n",
       "2    3.904861e-27\n",
       "3    1.275588e-25\n",
       "4    3.093301e-24\n",
       "..            ...\n",
       "96   3.093301e-24\n",
       "97   1.275588e-25\n",
       "98   3.904861e-27\n",
       "99   7.888609e-29\n",
       "100  7.888609e-31\n",
       "\n",
       "[101 rows x 1 columns]"
      ]
     },
     "execution_count": 55,
     "metadata": {},
     "output_type": "execute_result"
    }
   ],
   "source": [
    "draw_binom_pmf(100,0.5)"
   ]
  },
  {
   "cell_type": "markdown",
   "metadata": {},
   "source": [
    "- scipy.stat 모듈의 API"
   ]
  },
  {
   "cell_type": "code",
   "execution_count": 56,
   "metadata": {},
   "outputs": [],
   "source": [
    "from scipy import stats"
   ]
  },
  {
   "cell_type": "code",
   "execution_count": 65,
   "metadata": {},
   "outputs": [],
   "source": [
    "# stats.binom()\n",
    "n, p = 10, 0.5\n",
    "rv = stats.binom(n,p)"
   ]
  },
  {
   "cell_type": "code",
   "execution_count": 66,
   "metadata": {},
   "outputs": [
    {
     "data": {
      "text/plain": [
       "array([0.001, 0.01 , 0.044, 0.117, 0.205, 0.246, 0.205, 0.117, 0.044,\n",
       "       0.01 , 0.001])"
      ]
     },
     "execution_count": 66,
     "metadata": {},
     "output_type": "execute_result"
    }
   ],
   "source": [
    "# pmf -> 확률질량함수 구하기\n",
    "rv.pmf(np.arange(n+1))"
   ]
  },
  {
   "cell_type": "code",
   "execution_count": 59,
   "metadata": {},
   "outputs": [],
   "source": [
    "def draw_binom_pmf2(n,p):\n",
    "    rv = stats.binom(n,p)\n",
    "    x_set = np.arange(n+1)\n",
    "    plt.figure(figsize=(6,4))\n",
    "    plt.bar(x_set, rv.pmf(x_set))\n",
    "    plt.title(f'X~B(n={n},p={p})')\n",
    "    plt.xlabel('X')\n",
    "    plt.ylabel('P(X)')\n",
    "    plt.show()\n",
    "    return pmf"
   ]
  },
  {
   "cell_type": "code",
   "execution_count": 60,
   "metadata": {
    "scrolled": true
   },
   "outputs": [
    {
     "data": {
      "image/png": "[encoded data removed]",
      "text/plain": [
       "<Figure size 600x400 with 1 Axes>"
      ]
     },
     "metadata": {},
     "output_type": "display_data"
    },
    {
     "data": {
      "text/html": [
       "<div>\n",
       "<style scoped>\n",
       "    .dataframe tbody tr th:only-of-type {\n",
       "        vertical-align: middle;\n",
       "    }\n",
       "\n",
       "    .dataframe tbody tr th {\n",
       "        vertical-align: top;\n",
       "    }\n",
       "\n",
       "    .dataframe thead th {\n",
       "        text-align: right;\n",
       "    }\n",
       "</style>\n",
       "<table border=\"1\" class=\"dataframe\">\n",
       "  <thead>\n",
       "    <tr style=\"text-align: right;\">\n",
       "      <th></th>\n",
       "      <th>P(X)</th>\n",
       "    </tr>\n",
       "  </thead>\n",
       "  <tbody>\n",
       "    <tr>\n",
       "      <th>0</th>\n",
       "      <td>0.000977</td>\n",
       "    </tr>\n",
       "    <tr>\n",
       "      <th>1</th>\n",
       "      <td>0.009766</td>\n",
       "    </tr>\n",
       "    <tr>\n",
       "      <th>2</th>\n",
       "      <td>0.043945</td>\n",
       "    </tr>\n",
       "    <tr>\n",
       "      <th>3</th>\n",
       "      <td>0.117188</td>\n",
       "    </tr>\n",
       "    <tr>\n",
       "      <th>4</th>\n",
       "      <td>0.205078</td>\n",
       "    </tr>\n",
       "    <tr>\n",
       "      <th>5</th>\n",
       "      <td>0.246094</td>\n",
       "    </tr>\n",
       "    <tr>\n",
       "      <th>6</th>\n",
       "      <td>0.205078</td>\n",
       "    </tr>\n",
       "    <tr>\n",
       "      <th>7</th>\n",
       "      <td>0.117188</td>\n",
       "    </tr>\n",
       "    <tr>\n",
       "      <th>8</th>\n",
       "      <td>0.043945</td>\n",
       "    </tr>\n",
       "    <tr>\n",
       "      <th>9</th>\n",
       "      <td>0.009766</td>\n",
       "    </tr>\n",
       "    <tr>\n",
       "      <th>10</th>\n",
       "      <td>0.000977</td>\n",
       "    </tr>\n",
       "  </tbody>\n",
       "</table>\n",
       "</div>"
      ],
      "text/plain": [
       "        P(X)\n",
       "0   0.000977\n",
       "1   0.009766\n",
       "2   0.043945\n",
       "3   0.117188\n",
       "4   0.205078\n",
       "5   0.246094\n",
       "6   0.205078\n",
       "7   0.117188\n",
       "8   0.043945\n",
       "9   0.009766\n",
       "10  0.000977"
      ]
     },
     "execution_count": 60,
     "metadata": {},
     "output_type": "execute_result"
    }
   ],
   "source": [
    "draw_binom_pmf2(n,p)"
   ]
  },
  {
   "cell_type": "code",
   "execution_count": 61,
   "metadata": {},
   "outputs": [
    {
     "data": {
      "text/plain": [
       "(5.000, 2.500)"
      ]
     },
     "execution_count": 61,
     "metadata": {},
     "output_type": "execute_result"
    }
   ],
   "source": [
    "# scipy.stats 모듈의 binom().stats(): 기대값, 분산\n",
    "rv.stats()"
   ]
  },
  {
   "cell_type": "code",
   "execution_count": 63,
   "metadata": {},
   "outputs": [
    {
     "data": {
      "text/plain": [
       "<scipy.stats._distn_infrastructure.rv_discrete_frozen at 0x1b929035610>"
      ]
     },
     "execution_count": 63,
     "metadata": {},
     "output_type": "execute_result"
    }
   ],
   "source": [
    "stats.binom(n,p)"
   ]
  },
  {
   "cell_type": "code",
   "execution_count": 62,
   "metadata": {},
   "outputs": [
    {
     "data": {
      "text/plain": [
       "(5.000, 5.000, 2.500)"
      ]
     },
     "execution_count": 62,
     "metadata": {},
     "output_type": "execute_result"
    }
   ],
   "source": [
    "rv.median(), rv.mean(), rv.var()"
   ]
  },
  {
   "cell_type": "markdown",
   "metadata": {},
   "source": [
    "**연습문제3**\n",
    "- X~B(n=100,p=0.5)인 경우 p(X<=k)=0.9를 만족하는 k구하기\n",
    "- scipy.stats.binom().ppf()를 이용\n",
    "- 이항 분포의 누적 분포 함수의 역함수를 계산하여 주어진 확률에 해당하는 분포의 값을 찾는 데 사용"
   ]
  },
  {
   "cell_type": "code",
   "execution_count": 68,
   "metadata": {},
   "outputs": [
    {
     "data": {
      "text/plain": [
       "56.000"
      ]
     },
     "execution_count": 68,
     "metadata": {},
     "output_type": "execute_result"
    }
   ],
   "source": [
    "# 확률이 0.9에 해당하는 횟수 찾아내기 -> ppf()\n",
    "n,p=100,0.5\n",
    "rv2 = stats.binom(n,p)\n",
    "rv2.ppf(0.9)"
   ]
  },
  {
   "cell_type": "markdown",
   "metadata": {},
   "source": [
    "### 포아송 분포\n",
    "\n",
    "- 단위시간(면적,공간) 동안 발생하는 사건의 수의 분포\n",
    "- 특정 시간 동안 사건의 평균 발생률이 주어졌을 때, 그 시간 동안 사건이 발생하는 횟수의 확률 분포\n",
    "- 단위 시간 안에 어떤 사건이 몇 번 발생할 것인지를 표현하는 이산 확률 분포\n",
    "- 모수: λ(평균)\n",
    "- 확률변수 X >=0, X={0,1,2,...}\n",
    "- 확률함수: $ {λ^x e^{-λ}} \\over x! $\n",
    "- 기대값(모평균 μ) = λ\n",
    "- 분산 = λ\n",
    "- λ가 커질수록 정규분포를 따름\n",
    "- scipy.stats.poisson(λ)"
   ]
  },
  {
   "cell_type": "code",
   "execution_count": 82,
   "metadata": {},
   "outputs": [
    {
     "data": {
      "image/png": "[encoded data removed]",
      "text/plain": [
       "<Figure size 640x480 with 1 Axes>"
      ]
     },
     "metadata": {},
     "output_type": "display_data"
    }
   ],
   "source": [
    "lam = 3\n",
    "x_set = list(range(11))\n",
    "poi_rv = stats.poisson(lam)\n",
    "px = poi_rv.pmf(x_set)\n",
    "plt.bar(x_set, px)\n",
    "plt.title(f'x~poisson(λ={lam})')\n",
    "plt.show()"
   ]
  },
  {
   "cell_type": "code",
   "execution_count": 77,
   "metadata": {},
   "outputs": [
    {
     "data": {
      "image/png": "[encoded data removed]",
      "text/plain": [
       "<Figure size 640x480 with 1 Axes>"
      ]
     },
     "metadata": {},
     "output_type": "display_data"
    }
   ],
   "source": [
    "x_set = list(range(31))\n",
    "for lam in [3,5,8,15]:\n",
    "    poi_rv = stats.poisson(lam)\n",
    "    px = poi_rv.pmf(x_set)\n",
    "    plt.plot(x_set, px, label=f'λ={lam}')\n",
    "plt.title('x~poisson(λ)')\n",
    "plt.legend()\n",
    "plt.show()"
   ]
  },
  {
   "cell_type": "markdown",
   "metadata": {},
   "source": [
    "## 연속형 확률분포"
   ]
  },
  {
   "cell_type": "markdown",
   "metadata": {},
   "source": [
    "- 정규분포\n",
    "- t분포\n",
    "- 카이제곱분포\n",
    "- F분포"
   ]
  },
  {
   "cell_type": "markdown",
   "metadata": {},
   "source": [
    "### 정규분포"
   ]
  },
  {
   "cell_type": "markdown",
   "metadata": {},
   "source": [
    "$ X $ ~ $ N( \\mu , \\sigma^2 ) $ "
   ]
  },
  {
   "cell_type": "markdown",
   "metadata": {},
   "source": [
    "- 평균과 분산에 의해 모양이 결정\n",
    "- 좌우대칭, 종모양\n",
    "- 현실 데이터의 분포\n",
    "- 모수: 평균, 분산 $σ^2$\n",
    "- 확률밀도함수(pdf): $ {1 \\over {σ \\sqrt{2 \\pi}}} e^{ - (x- \\mu )^2  \\over 2 \\sigma^2 }$\n",
    "- 확률변수: 모든 실수구간 $(-∞, +∞) $\n",
    "- scipy.stats.norm(μ, σ)"
   ]
  },
  {
   "cell_type": "markdown",
   "metadata": {},
   "source": [
    "#### scipy.stats의 norm() 함수"
   ]
  },
  {
   "cell_type": "code",
   "execution_count": 85,
   "metadata": {},
   "outputs": [
    {
     "data": {
      "image/png": "[encoded data removed]",
      "text/plain": [
       "<Figure size 640x480 with 1 Axes>"
      ]
     },
     "metadata": {},
     "output_type": "display_data"
    }
   ],
   "source": [
    "# 이산형 -> pmf / 연속형 -> pdf() -> 확률질량함수 구하기 \n",
    "x_set = np.linspace(-5,5,100)\n",
    "for mu, sigma in [(0,1),(0,2),(1,1)]:\n",
    "    rv = stats.norm(mu, sigma)\n",
    "    fx = rv.pdf(x_set)\n",
    "    plt.plot(x_set, fx, label=f'μ={mu}, σ={sigma}')\n",
    "plt.title('X~N(μ, σ)')\n",
    "plt.show()"
   ]
  },
  {
   "cell_type": "markdown",
   "metadata": {},
   "source": [
    "표준정규분포 Z~N(0,1)\n",
    "\n",
    "$ Z = { {x - \\mu} \\over \\sigma }$"
   ]
  },
  {
   "cell_type": "markdown",
   "metadata": {},
   "source": [
    "문제. 어느 과목의 시험을 더 잘본 것인가?\n",
    "\n",
    "어느 학생이 수학은 80점, 영어는 85점을 받았다고 할 때, 어느 과목을 더 잘봤다고 할 수 있을까?\n",
    "\n",
    "|과목|분포|표준화|환산점수|\n",
    "|---|---|---|---:|\n",
    "|수학|$N(60, 10^2)$| Z= (80-60)/10|2|\n",
    "|영어|$N(80, 5^2)$| Z= (85-80)/5|1|\n",
    "\n",
    "=> 환산점수가 수학이 더 높아 수학과목을 더 잘봤다고 할 수 있다."
   ]
  },
  {
   "cell_type": "markdown",
   "metadata": {},
   "source": [
    "**$ P(-1.5<=Z<=1.5)= $?**\n",
    "\n",
    "P(Z<=1.5)-P(Z <= -1.5)"
   ]
  },
  {
   "cell_type": "code",
   "execution_count": 87,
   "metadata": {},
   "outputs": [],
   "source": [
    "norm_rv= stats.norm(0,1)"
   ]
  },
  {
   "cell_type": "code",
   "execution_count": 89,
   "metadata": {},
   "outputs": [
    {
     "data": {
      "text/plain": [
       "(0.933, 0.067)"
      ]
     },
     "execution_count": 89,
     "metadata": {},
     "output_type": "execute_result"
    }
   ],
   "source": [
    "norm_rv.cdf(1.5), norm_rv.cdf(-1.5)"
   ]
  },
  {
   "cell_type": "code",
   "execution_count": 90,
   "metadata": {},
   "outputs": [
    {
     "data": {
      "text/plain": [
       "0.866"
      ]
     },
     "execution_count": 90,
     "metadata": {},
     "output_type": "execute_result"
    }
   ],
   "source": [
    "norm_rv.cdf(1.5) -  norm_rv.cdf(-1.5)"
   ]
  },
  {
   "cell_type": "markdown",
   "metadata": {},
   "source": [
    "$ P(0<=Z<=k) = 0.4$을 만족하는 k는?"
   ]
  },
  {
   "cell_type": "code",
   "execution_count": 94,
   "metadata": {},
   "outputs": [
    {
     "data": {
      "text/plain": [
       "1.282"
      ]
     },
     "execution_count": 94,
     "metadata": {},
     "output_type": "execute_result"
    }
   ],
   "source": [
    "# 0.4를 구하는데 0.9를 넣은 이유는 생성한 정규분포는 norm(0,1)이기 때문에-0.5~0.5라서 0.4는 90%의 해당\n",
    "norm_rv.ppf(0.9)"
   ]
  },
  {
   "cell_type": "markdown",
   "metadata": {},
   "source": [
    "### t분포"
   ]
  },
  {
   "cell_type": "markdown",
   "metadata": {},
   "source": [
    "- student's t 분포 (Gosset)\n",
    "- 소표본(n<30) 검정에서 정규분포를 대신해서 활용\n",
    "- 두 집단의 평균차이 검정, 한 집단의 모평균 추정/검정\n",
    "- 좌우대칭, 정규분포 보다 가운데 봉우리 조금 낮음, 꼬리부분이 더 두텁다.\n",
    "- scipy.stats.t(df)\n",
    "- 자유도(degree of freedom)에 의해 모양이 결정\n",
    "- 자유가 커질수록 정규분포에 근사"
   ]
  },
  {
   "cell_type": "code",
   "execution_count": 97,
   "metadata": {},
   "outputs": [
    {
     "data": {
      "image/png": "[encoded data removed]",
      "text/plain": [
       "<Figure size 640x480 with 1 Axes>"
      ]
     },
     "metadata": {},
     "output_type": "display_data"
    }
   ],
   "source": [
    "x_set = np.linspace(-5,5,100)\n",
    "norm_rv = stats.norm(0,1)\n",
    "norm_fx = rv.pdf(x_set)\n",
    "plt.plot(x_set, norm_fx, label='N(0,1)')\n",
    "\n",
    "for df in [3, 5,15]:\n",
    "    rv = stats.t(df)\n",
    "    fx = rv.pdf(x_set)\n",
    "    plt.plot(x_set, fx, label=f't(df={df})')\n",
    "    \n",
    "plt.legend()\n",
    "plt.show()"
   ]
  },
  {
   "cell_type": "code",
   "execution_count": null,
   "metadata": {},
   "outputs": [],
   "source": []
  },
  {
   "cell_type": "markdown",
   "metadata": {},
   "source": [
    "-----"
   ]
  }
 ],
 "metadata": {
  "kernelspec": {
   "display_name": "Python 3 (ipykernel)",
   "language": "python",
   "name": "python3"
  },
  "language_info": {
   "codemirror_mode": {
    "name": "ipython",
    "version": 3
   },
   "file_extension": ".py",
   "mimetype": "text/x-python",
   "name": "python",
   "nbconvert_exporter": "python",
   "pygments_lexer": "ipython3",
   "version": "3.11.7"
  },
  "toc": {
   "nav_menu": {},
   "number_sections": true,
   "sideBar": true,
   "skip_h1_title": false,
   "toc_cell": false,
   "toc_position": {},
   "toc_section_display": "block",
   "toc_window_display": false
  }
 },
 "nbformat": 4,
 "nbformat_minor": 4
}
