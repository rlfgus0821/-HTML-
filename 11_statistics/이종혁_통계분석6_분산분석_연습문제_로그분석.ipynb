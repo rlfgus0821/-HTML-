{
 "cells": [
  {
   "cell_type": "markdown",
   "id": "4c331bd3",
   "metadata": {},
   "source": [
    "# 연습문제: 로그 데이터 분석"
   ]
  },
  {
   "cell_type": "markdown",
   "id": "be7f156e",
   "metadata": {},
   "source": [
    "다음 데이터는 깃허브 서비스에서 요일 별 사용자들의 푸시 횟수로, 요일별로 푸시 횟수가 다르다고 한다. 분산분석을 수행하여 검증하시오.\n",
    "\n",
    "- 데이터파일 : log_push.csv"
   ]
  },
  {
   "cell_type": "markdown",
   "id": "b41c2b56",
   "metadata": {},
   "source": [
    "### 필요 모듈 임포트"
   ]
  },
  {
   "cell_type": "code",
   "execution_count": 1,
   "id": "ab0c39c6",
   "metadata": {},
   "outputs": [
    {
     "data": {
      "text/plain": [
       "'%.5f'"
      ]
     },
     "execution_count": 1,
     "metadata": {},
     "output_type": "execute_result"
    }
   ],
   "source": [
    "import numpy as np\n",
    "import pandas as pd\n",
    "import matplotlib.pyplot as plt\n",
    "import seaborn as sns\n",
    "from scipy import stats \n",
    "\n",
    "%precision 5"
   ]
  },
  {
   "cell_type": "markdown",
   "id": "ab5d965e",
   "metadata": {},
   "source": [
    "#### 분산분석을 위한 모듈들 임포트"
   ]
  },
  {
   "cell_type": "code",
   "execution_count": 54,
   "id": "eec5513d-0b79-445d-850e-8fd76271623c",
   "metadata": {},
   "outputs": [],
   "source": [
    "plt.rcParams[\"font.family\"] = 'Malgun Gothic'\n",
    "import statsmodels\n",
    "from statsmodels.formula.api import ols\n",
    "from statsmodels.stats.anova import anova_lm"
   ]
  },
  {
   "cell_type": "markdown",
   "id": "674551be",
   "metadata": {},
   "source": [
    "### 데이터 수집"
   ]
  },
  {
   "cell_type": "code",
   "execution_count": 3,
   "id": "926015e6",
   "metadata": {},
   "outputs": [
    {
     "data": {
      "text/html": [
       "<div>\n",
       "<style scoped>\n",
       "    .dataframe tbody tr th:only-of-type {\n",
       "        vertical-align: middle;\n",
       "    }\n",
       "\n",
       "    .dataframe tbody tr th {\n",
       "        vertical-align: top;\n",
       "    }\n",
       "\n",
       "    .dataframe thead th {\n",
       "        text-align: right;\n",
       "    }\n",
       "</style>\n",
       "<table border=\"1\" class=\"dataframe\">\n",
       "  <thead>\n",
       "    <tr style=\"text-align: right;\">\n",
       "      <th></th>\n",
       "      <th>log_date</th>\n",
       "      <th>push_count</th>\n",
       "    </tr>\n",
       "  </thead>\n",
       "  <tbody>\n",
       "    <tr>\n",
       "      <th>0</th>\n",
       "      <td>19-02-01</td>\n",
       "      <td>736729</td>\n",
       "    </tr>\n",
       "    <tr>\n",
       "      <th>1</th>\n",
       "      <td>19-02-02</td>\n",
       "      <td>511067</td>\n",
       "    </tr>\n",
       "    <tr>\n",
       "      <th>2</th>\n",
       "      <td>19-02-03</td>\n",
       "      <td>528724</td>\n",
       "    </tr>\n",
       "    <tr>\n",
       "      <th>3</th>\n",
       "      <td>19-02-04</td>\n",
       "      <td>709256</td>\n",
       "    </tr>\n",
       "    <tr>\n",
       "      <th>4</th>\n",
       "      <td>19-02-05</td>\n",
       "      <td>740087</td>\n",
       "    </tr>\n",
       "    <tr>\n",
       "      <th>...</th>\n",
       "      <td>...</td>\n",
       "      <td>...</td>\n",
       "    </tr>\n",
       "    <tr>\n",
       "      <th>343</th>\n",
       "      <td>20-01-10</td>\n",
       "      <td>1000151</td>\n",
       "    </tr>\n",
       "    <tr>\n",
       "      <th>344</th>\n",
       "      <td>20-01-11</td>\n",
       "      <td>729593</td>\n",
       "    </tr>\n",
       "    <tr>\n",
       "      <th>345</th>\n",
       "      <td>20-01-12</td>\n",
       "      <td>748161</td>\n",
       "    </tr>\n",
       "    <tr>\n",
       "      <th>346</th>\n",
       "      <td>20-01-13</td>\n",
       "      <td>1034195</td>\n",
       "    </tr>\n",
       "    <tr>\n",
       "      <th>347</th>\n",
       "      <td>20-01-14</td>\n",
       "      <td>1067085</td>\n",
       "    </tr>\n",
       "  </tbody>\n",
       "</table>\n",
       "<p>348 rows × 2 columns</p>\n",
       "</div>"
      ],
      "text/plain": [
       "     log_date  push_count\n",
       "0    19-02-01      736729\n",
       "1    19-02-02      511067\n",
       "2    19-02-03      528724\n",
       "3    19-02-04      709256\n",
       "4    19-02-05      740087\n",
       "..        ...         ...\n",
       "343  20-01-10     1000151\n",
       "344  20-01-11      729593\n",
       "345  20-01-12      748161\n",
       "346  20-01-13     1034195\n",
       "347  20-01-14     1067085\n",
       "\n",
       "[348 rows x 2 columns]"
      ]
     },
     "execution_count": 3,
     "metadata": {},
     "output_type": "execute_result"
    }
   ],
   "source": [
    "df = pd.read_csv('data/log_push.csv')\n",
    "df"
   ]
  },
  {
   "cell_type": "markdown",
   "id": "97542179",
   "metadata": {},
   "source": [
    "### 데이터 기초 정보 파악"
   ]
  },
  {
   "cell_type": "markdown",
   "id": "7ab33234",
   "metadata": {},
   "source": [
    ": 데이터 일부, 변수, 관측값수, 결측치 여부, 변수의 데이터타입, 기술통계량 등을 확인"
   ]
  },
  {
   "cell_type": "code",
   "execution_count": 4,
   "id": "3fcd67af",
   "metadata": {},
   "outputs": [
    {
     "name": "stdout",
     "output_type": "stream",
     "text": [
      "<class 'pandas.core.frame.DataFrame'>\n",
      "RangeIndex: 348 entries, 0 to 347\n",
      "Data columns (total 2 columns):\n",
      " #   Column      Non-Null Count  Dtype \n",
      "---  ------      --------------  ----- \n",
      " 0   log_date    348 non-null    object\n",
      " 1   push_count  348 non-null    int64 \n",
      "dtypes: int64(1), object(1)\n",
      "memory usage: 5.6+ KB\n"
     ]
    }
   ],
   "source": [
    "df.info()"
   ]
  },
  {
   "cell_type": "markdown",
   "id": "d0d0310f",
   "metadata": {},
   "source": [
    "### 데이터 가공"
   ]
  },
  {
   "cell_type": "markdown",
   "id": "0b4f7902",
   "metadata": {},
   "source": [
    "#### log_date컬럼을 이용하여 요일 컬럼(day_of_week) 생성"
   ]
  },
  {
   "cell_type": "markdown",
   "id": "0c7d73e2",
   "metadata": {},
   "source": [
    "- log_date를 날짜형식으로 변경"
   ]
  },
  {
   "cell_type": "code",
   "execution_count": 5,
   "id": "166a3d79-503b-4caf-a823-21e427aec28d",
   "metadata": {},
   "outputs": [],
   "source": [
    "# 날짜 데이터로 변환하기 위해 연도로 추정되는 앞에 20 추가해주기"
   ]
  },
  {
   "cell_type": "code",
   "execution_count": 6,
   "id": "8d2d4f4b-3e10-49f8-ac33-1b2cbb561b03",
   "metadata": {},
   "outputs": [
    {
     "data": {
      "text/plain": [
       "0      2019-02-01\n",
       "1      2019-02-02\n",
       "2      2019-02-03\n",
       "3      2019-02-04\n",
       "4      2019-02-05\n",
       "          ...    \n",
       "343    2020-01-10\n",
       "344    2020-01-11\n",
       "345    2020-01-12\n",
       "346    2020-01-13\n",
       "347    2020-01-14\n",
       "Name: log_date, Length: 348, dtype: object"
      ]
     },
     "execution_count": 6,
     "metadata": {},
     "output_type": "execute_result"
    }
   ],
   "source": [
    "df.log_date = '20' + df.log_date\n",
    "df.log_date"
   ]
  },
  {
   "cell_type": "code",
   "execution_count": 7,
   "id": "e04a614c",
   "metadata": {},
   "outputs": [
    {
     "name": "stdout",
     "output_type": "stream",
     "text": [
      "<class 'pandas.core.frame.DataFrame'>\n",
      "RangeIndex: 348 entries, 0 to 347\n",
      "Data columns (total 2 columns):\n",
      " #   Column      Non-Null Count  Dtype         \n",
      "---  ------      --------------  -----         \n",
      " 0   log_date    348 non-null    datetime64[ns]\n",
      " 1   push_count  348 non-null    int64         \n",
      "dtypes: datetime64[ns](1), int64(1)\n",
      "memory usage: 5.6 KB\n"
     ]
    }
   ],
   "source": [
    "df.log_date = pd.to_datetime(df['log_date'], format='%Y-%m-%d')\n",
    "df.info()"
   ]
  },
  {
   "cell_type": "code",
   "execution_count": 8,
   "id": "a4788fc3",
   "metadata": {},
   "outputs": [
    {
     "data": {
      "text/html": [
       "<div>\n",
       "<style scoped>\n",
       "    .dataframe tbody tr th:only-of-type {\n",
       "        vertical-align: middle;\n",
       "    }\n",
       "\n",
       "    .dataframe tbody tr th {\n",
       "        vertical-align: top;\n",
       "    }\n",
       "\n",
       "    .dataframe thead th {\n",
       "        text-align: right;\n",
       "    }\n",
       "</style>\n",
       "<table border=\"1\" class=\"dataframe\">\n",
       "  <thead>\n",
       "    <tr style=\"text-align: right;\">\n",
       "      <th></th>\n",
       "      <th>log_date</th>\n",
       "      <th>push_count</th>\n",
       "    </tr>\n",
       "  </thead>\n",
       "  <tbody>\n",
       "    <tr>\n",
       "      <th>0</th>\n",
       "      <td>2019-02-01</td>\n",
       "      <td>736729</td>\n",
       "    </tr>\n",
       "    <tr>\n",
       "      <th>1</th>\n",
       "      <td>2019-02-02</td>\n",
       "      <td>511067</td>\n",
       "    </tr>\n",
       "    <tr>\n",
       "      <th>2</th>\n",
       "      <td>2019-02-03</td>\n",
       "      <td>528724</td>\n",
       "    </tr>\n",
       "    <tr>\n",
       "      <th>3</th>\n",
       "      <td>2019-02-04</td>\n",
       "      <td>709256</td>\n",
       "    </tr>\n",
       "    <tr>\n",
       "      <th>4</th>\n",
       "      <td>2019-02-05</td>\n",
       "      <td>740087</td>\n",
       "    </tr>\n",
       "    <tr>\n",
       "      <th>...</th>\n",
       "      <td>...</td>\n",
       "      <td>...</td>\n",
       "    </tr>\n",
       "    <tr>\n",
       "      <th>343</th>\n",
       "      <td>2020-01-10</td>\n",
       "      <td>1000151</td>\n",
       "    </tr>\n",
       "    <tr>\n",
       "      <th>344</th>\n",
       "      <td>2020-01-11</td>\n",
       "      <td>729593</td>\n",
       "    </tr>\n",
       "    <tr>\n",
       "      <th>345</th>\n",
       "      <td>2020-01-12</td>\n",
       "      <td>748161</td>\n",
       "    </tr>\n",
       "    <tr>\n",
       "      <th>346</th>\n",
       "      <td>2020-01-13</td>\n",
       "      <td>1034195</td>\n",
       "    </tr>\n",
       "    <tr>\n",
       "      <th>347</th>\n",
       "      <td>2020-01-14</td>\n",
       "      <td>1067085</td>\n",
       "    </tr>\n",
       "  </tbody>\n",
       "</table>\n",
       "<p>348 rows × 2 columns</p>\n",
       "</div>"
      ],
      "text/plain": [
       "      log_date  push_count\n",
       "0   2019-02-01      736729\n",
       "1   2019-02-02      511067\n",
       "2   2019-02-03      528724\n",
       "3   2019-02-04      709256\n",
       "4   2019-02-05      740087\n",
       "..         ...         ...\n",
       "343 2020-01-10     1000151\n",
       "344 2020-01-11      729593\n",
       "345 2020-01-12      748161\n",
       "346 2020-01-13     1034195\n",
       "347 2020-01-14     1067085\n",
       "\n",
       "[348 rows x 2 columns]"
      ]
     },
     "execution_count": 8,
     "metadata": {},
     "output_type": "execute_result"
    }
   ],
   "source": [
    "df"
   ]
  },
  {
   "cell_type": "markdown",
   "id": "4afc11ff",
   "metadata": {},
   "source": [
    "- log_date를 이용하여 요일 컬럼(day_of_week) 생성"
   ]
  },
  {
   "cell_type": "code",
   "execution_count": 9,
   "id": "46c1bc5f",
   "metadata": {},
   "outputs": [
    {
     "data": {
      "text/html": [
       "<div>\n",
       "<style scoped>\n",
       "    .dataframe tbody tr th:only-of-type {\n",
       "        vertical-align: middle;\n",
       "    }\n",
       "\n",
       "    .dataframe tbody tr th {\n",
       "        vertical-align: top;\n",
       "    }\n",
       "\n",
       "    .dataframe thead th {\n",
       "        text-align: right;\n",
       "    }\n",
       "</style>\n",
       "<table border=\"1\" class=\"dataframe\">\n",
       "  <thead>\n",
       "    <tr style=\"text-align: right;\">\n",
       "      <th></th>\n",
       "      <th>log_date</th>\n",
       "      <th>push_count</th>\n",
       "      <th>day_of_week</th>\n",
       "    </tr>\n",
       "  </thead>\n",
       "  <tbody>\n",
       "    <tr>\n",
       "      <th>0</th>\n",
       "      <td>2019-02-01</td>\n",
       "      <td>736729</td>\n",
       "      <td>Friday</td>\n",
       "    </tr>\n",
       "    <tr>\n",
       "      <th>1</th>\n",
       "      <td>2019-02-02</td>\n",
       "      <td>511067</td>\n",
       "      <td>Saturday</td>\n",
       "    </tr>\n",
       "    <tr>\n",
       "      <th>2</th>\n",
       "      <td>2019-02-03</td>\n",
       "      <td>528724</td>\n",
       "      <td>Sunday</td>\n",
       "    </tr>\n",
       "    <tr>\n",
       "      <th>3</th>\n",
       "      <td>2019-02-04</td>\n",
       "      <td>709256</td>\n",
       "      <td>Monday</td>\n",
       "    </tr>\n",
       "    <tr>\n",
       "      <th>4</th>\n",
       "      <td>2019-02-05</td>\n",
       "      <td>740087</td>\n",
       "      <td>Tuesday</td>\n",
       "    </tr>\n",
       "    <tr>\n",
       "      <th>...</th>\n",
       "      <td>...</td>\n",
       "      <td>...</td>\n",
       "      <td>...</td>\n",
       "    </tr>\n",
       "    <tr>\n",
       "      <th>343</th>\n",
       "      <td>2020-01-10</td>\n",
       "      <td>1000151</td>\n",
       "      <td>Friday</td>\n",
       "    </tr>\n",
       "    <tr>\n",
       "      <th>344</th>\n",
       "      <td>2020-01-11</td>\n",
       "      <td>729593</td>\n",
       "      <td>Saturday</td>\n",
       "    </tr>\n",
       "    <tr>\n",
       "      <th>345</th>\n",
       "      <td>2020-01-12</td>\n",
       "      <td>748161</td>\n",
       "      <td>Sunday</td>\n",
       "    </tr>\n",
       "    <tr>\n",
       "      <th>346</th>\n",
       "      <td>2020-01-13</td>\n",
       "      <td>1034195</td>\n",
       "      <td>Monday</td>\n",
       "    </tr>\n",
       "    <tr>\n",
       "      <th>347</th>\n",
       "      <td>2020-01-14</td>\n",
       "      <td>1067085</td>\n",
       "      <td>Tuesday</td>\n",
       "    </tr>\n",
       "  </tbody>\n",
       "</table>\n",
       "<p>348 rows × 3 columns</p>\n",
       "</div>"
      ],
      "text/plain": [
       "      log_date  push_count day_of_week\n",
       "0   2019-02-01      736729      Friday\n",
       "1   2019-02-02      511067    Saturday\n",
       "2   2019-02-03      528724      Sunday\n",
       "3   2019-02-04      709256      Monday\n",
       "4   2019-02-05      740087     Tuesday\n",
       "..         ...         ...         ...\n",
       "343 2020-01-10     1000151      Friday\n",
       "344 2020-01-11      729593    Saturday\n",
       "345 2020-01-12      748161      Sunday\n",
       "346 2020-01-13     1034195      Monday\n",
       "347 2020-01-14     1067085     Tuesday\n",
       "\n",
       "[348 rows x 3 columns]"
      ]
     },
     "execution_count": 9,
     "metadata": {},
     "output_type": "execute_result"
    }
   ],
   "source": [
    "df['day_of_week'] = df['log_date'].dt.day_name()\n",
    "df"
   ]
  },
  {
   "cell_type": "markdown",
   "id": "9e316104",
   "metadata": {},
   "source": [
    "- 요일 컬럼의 데이터를 범주형(Category)으로 변경 "
   ]
  },
  {
   "cell_type": "code",
   "execution_count": 10,
   "id": "b279f916",
   "metadata": {},
   "outputs": [
    {
     "name": "stdout",
     "output_type": "stream",
     "text": [
      "<class 'pandas.core.frame.DataFrame'>\n",
      "RangeIndex: 348 entries, 0 to 347\n",
      "Data columns (total 3 columns):\n",
      " #   Column       Non-Null Count  Dtype         \n",
      "---  ------       --------------  -----         \n",
      " 0   log_date     348 non-null    datetime64[ns]\n",
      " 1   push_count   348 non-null    int64         \n",
      " 2   day_of_week  348 non-null    object        \n",
      "dtypes: datetime64[ns](1), int64(1), object(1)\n",
      "memory usage: 8.3+ KB\n"
     ]
    }
   ],
   "source": [
    "df.info()"
   ]
  },
  {
   "cell_type": "code",
   "execution_count": 11,
   "id": "25e0481d",
   "metadata": {
    "scrolled": true
   },
   "outputs": [
    {
     "name": "stdout",
     "output_type": "stream",
     "text": [
      "<class 'pandas.core.frame.DataFrame'>\n",
      "RangeIndex: 348 entries, 0 to 347\n",
      "Data columns (total 3 columns):\n",
      " #   Column       Non-Null Count  Dtype         \n",
      "---  ------       --------------  -----         \n",
      " 0   log_date     348 non-null    datetime64[ns]\n",
      " 1   push_count   348 non-null    int64         \n",
      " 2   day_of_week  348 non-null    category      \n",
      "dtypes: category(1), datetime64[ns](1), int64(1)\n",
      "memory usage: 6.3 KB\n"
     ]
    }
   ],
   "source": [
    "# 카테고리 변환 후 메모리 8.3k => 6.3k\n",
    "df = df.astype({'day_of_week':'category'})\n",
    "df.info()"
   ]
  },
  {
   "cell_type": "code",
   "execution_count": 12,
   "id": "18954d95-cdea-4318-9044-790fd8c521f7",
   "metadata": {},
   "outputs": [
    {
     "data": {
      "text/html": [
       "<div>\n",
       "<style scoped>\n",
       "    .dataframe tbody tr th:only-of-type {\n",
       "        vertical-align: middle;\n",
       "    }\n",
       "\n",
       "    .dataframe tbody tr th {\n",
       "        vertical-align: top;\n",
       "    }\n",
       "\n",
       "    .dataframe thead th {\n",
       "        text-align: right;\n",
       "    }\n",
       "</style>\n",
       "<table border=\"1\" class=\"dataframe\">\n",
       "  <thead>\n",
       "    <tr style=\"text-align: right;\">\n",
       "      <th></th>\n",
       "      <th>day_of_week</th>\n",
       "      <th>push_count</th>\n",
       "    </tr>\n",
       "  </thead>\n",
       "  <tbody>\n",
       "    <tr>\n",
       "      <th>0</th>\n",
       "      <td>Friday</td>\n",
       "      <td>736729</td>\n",
       "    </tr>\n",
       "    <tr>\n",
       "      <th>1</th>\n",
       "      <td>Saturday</td>\n",
       "      <td>511067</td>\n",
       "    </tr>\n",
       "    <tr>\n",
       "      <th>2</th>\n",
       "      <td>Sunday</td>\n",
       "      <td>528724</td>\n",
       "    </tr>\n",
       "    <tr>\n",
       "      <th>3</th>\n",
       "      <td>Monday</td>\n",
       "      <td>709256</td>\n",
       "    </tr>\n",
       "    <tr>\n",
       "      <th>4</th>\n",
       "      <td>Tuesday</td>\n",
       "      <td>740087</td>\n",
       "    </tr>\n",
       "    <tr>\n",
       "      <th>...</th>\n",
       "      <td>...</td>\n",
       "      <td>...</td>\n",
       "    </tr>\n",
       "    <tr>\n",
       "      <th>343</th>\n",
       "      <td>Friday</td>\n",
       "      <td>1000151</td>\n",
       "    </tr>\n",
       "    <tr>\n",
       "      <th>344</th>\n",
       "      <td>Saturday</td>\n",
       "      <td>729593</td>\n",
       "    </tr>\n",
       "    <tr>\n",
       "      <th>345</th>\n",
       "      <td>Sunday</td>\n",
       "      <td>748161</td>\n",
       "    </tr>\n",
       "    <tr>\n",
       "      <th>346</th>\n",
       "      <td>Monday</td>\n",
       "      <td>1034195</td>\n",
       "    </tr>\n",
       "    <tr>\n",
       "      <th>347</th>\n",
       "      <td>Tuesday</td>\n",
       "      <td>1067085</td>\n",
       "    </tr>\n",
       "  </tbody>\n",
       "</table>\n",
       "<p>348 rows × 2 columns</p>\n",
       "</div>"
      ],
      "text/plain": [
       "    day_of_week  push_count\n",
       "0        Friday      736729\n",
       "1      Saturday      511067\n",
       "2        Sunday      528724\n",
       "3        Monday      709256\n",
       "4       Tuesday      740087\n",
       "..          ...         ...\n",
       "343      Friday     1000151\n",
       "344    Saturday      729593\n",
       "345      Sunday      748161\n",
       "346      Monday     1034195\n",
       "347     Tuesday     1067085\n",
       "\n",
       "[348 rows x 2 columns]"
      ]
     },
     "execution_count": 12,
     "metadata": {},
     "output_type": "execute_result"
    }
   ],
   "source": [
    "df2 = df[['day_of_week', 'push_count']]\n",
    "df2"
   ]
  },
  {
   "cell_type": "markdown",
   "id": "cc0a80b2",
   "metadata": {},
   "source": [
    "### 데이터 탐색 및 시각화"
   ]
  },
  {
   "cell_type": "markdown",
   "id": "a88860c9",
   "metadata": {},
   "source": [
    "#### 요일별 빈도수"
   ]
  },
  {
   "cell_type": "code",
   "execution_count": 13,
   "id": "82d107b3",
   "metadata": {
    "scrolled": true
   },
   "outputs": [
    {
     "data": {
      "text/plain": [
       "day_of_week\n",
       "Friday       50\n",
       "Monday       50\n",
       "Saturday     50\n",
       "Sunday       50\n",
       "Tuesday      50\n",
       "Thursday     49\n",
       "Wednesday    49\n",
       "Name: count, dtype: int64"
      ]
     },
     "execution_count": 13,
     "metadata": {},
     "output_type": "execute_result"
    }
   ],
   "source": [
    "df.day_of_week.value_counts()"
   ]
  },
  {
   "cell_type": "markdown",
   "id": "dd360411",
   "metadata": {},
   "source": [
    "#### 요일별 push수에 대한 기술통계량"
   ]
  },
  {
   "cell_type": "code",
   "execution_count": 14,
   "id": "9a9b32b5-026b-4b4e-8d0f-ff0b735edb1f",
   "metadata": {},
   "outputs": [
    {
     "name": "stderr",
     "output_type": "stream",
     "text": [
      "C:\\Users\\Bert\\AppData\\Local\\Temp\\ipykernel_14644\\2910439821.py:1: FutureWarning: The default of observed=False is deprecated and will be changed to True in a future version of pandas. Pass observed=False to retain current behavior or observed=True to adopt the future default and silence this warning.\n",
      "  df['push_count'].groupby(df['day_of_week']).describe()\n"
     ]
    },
    {
     "data": {
      "text/html": [
       "<div>\n",
       "<style scoped>\n",
       "    .dataframe tbody tr th:only-of-type {\n",
       "        vertical-align: middle;\n",
       "    }\n",
       "\n",
       "    .dataframe tbody tr th {\n",
       "        vertical-align: top;\n",
       "    }\n",
       "\n",
       "    .dataframe thead th {\n",
       "        text-align: right;\n",
       "    }\n",
       "</style>\n",
       "<table border=\"1\" class=\"dataframe\">\n",
       "  <thead>\n",
       "    <tr style=\"text-align: right;\">\n",
       "      <th></th>\n",
       "      <th>count</th>\n",
       "      <th>mean</th>\n",
       "      <th>std</th>\n",
       "      <th>min</th>\n",
       "      <th>25%</th>\n",
       "      <th>50%</th>\n",
       "      <th>75%</th>\n",
       "      <th>max</th>\n",
       "    </tr>\n",
       "    <tr>\n",
       "      <th>day_of_week</th>\n",
       "      <th></th>\n",
       "      <th></th>\n",
       "      <th></th>\n",
       "      <th></th>\n",
       "      <th></th>\n",
       "      <th></th>\n",
       "      <th></th>\n",
       "      <th></th>\n",
       "    </tr>\n",
       "  </thead>\n",
       "  <tbody>\n",
       "    <tr>\n",
       "      <th>Friday</th>\n",
       "      <td>50.0</td>\n",
       "      <td>897827.440000</td>\n",
       "      <td>68275.935770</td>\n",
       "      <td>660287.0</td>\n",
       "      <td>872606.25</td>\n",
       "      <td>906519.5</td>\n",
       "      <td>928941.00</td>\n",
       "      <td>1022900.0</td>\n",
       "    </tr>\n",
       "    <tr>\n",
       "      <th>Monday</th>\n",
       "      <td>50.0</td>\n",
       "      <td>955284.360000</td>\n",
       "      <td>70766.469732</td>\n",
       "      <td>709256.0</td>\n",
       "      <td>921506.75</td>\n",
       "      <td>954091.0</td>\n",
       "      <td>1004844.25</td>\n",
       "      <td>1087212.0</td>\n",
       "    </tr>\n",
       "    <tr>\n",
       "      <th>Saturday</th>\n",
       "      <td>50.0</td>\n",
       "      <td>657864.100000</td>\n",
       "      <td>46452.600564</td>\n",
       "      <td>511067.0</td>\n",
       "      <td>636199.75</td>\n",
       "      <td>653765.0</td>\n",
       "      <td>696757.50</td>\n",
       "      <td>738410.0</td>\n",
       "    </tr>\n",
       "    <tr>\n",
       "      <th>Sunday</th>\n",
       "      <td>50.0</td>\n",
       "      <td>689255.040000</td>\n",
       "      <td>51013.933708</td>\n",
       "      <td>528724.0</td>\n",
       "      <td>650460.50</td>\n",
       "      <td>695012.0</td>\n",
       "      <td>730139.75</td>\n",
       "      <td>766976.0</td>\n",
       "    </tr>\n",
       "    <tr>\n",
       "      <th>Thursday</th>\n",
       "      <td>49.0</td>\n",
       "      <td>952641.510204</td>\n",
       "      <td>118751.401232</td>\n",
       "      <td>286155.0</td>\n",
       "      <td>940762.00</td>\n",
       "      <td>963577.0</td>\n",
       "      <td>1008383.00</td>\n",
       "      <td>1109582.0</td>\n",
       "    </tr>\n",
       "    <tr>\n",
       "      <th>Tuesday</th>\n",
       "      <td>50.0</td>\n",
       "      <td>987446.620000</td>\n",
       "      <td>83908.212000</td>\n",
       "      <td>693257.0</td>\n",
       "      <td>960108.25</td>\n",
       "      <td>987347.5</td>\n",
       "      <td>1015885.00</td>\n",
       "      <td>1135921.0</td>\n",
       "    </tr>\n",
       "    <tr>\n",
       "      <th>Wednesday</th>\n",
       "      <td>49.0</td>\n",
       "      <td>971072.448980</td>\n",
       "      <td>102305.775606</td>\n",
       "      <td>570350.0</td>\n",
       "      <td>945094.00</td>\n",
       "      <td>985706.0</td>\n",
       "      <td>1029029.00</td>\n",
       "      <td>1121567.0</td>\n",
       "    </tr>\n",
       "  </tbody>\n",
       "</table>\n",
       "</div>"
      ],
      "text/plain": [
       "             count           mean            std       min        25%  \\\n",
       "day_of_week                                                             \n",
       "Friday        50.0  897827.440000   68275.935770  660287.0  872606.25   \n",
       "Monday        50.0  955284.360000   70766.469732  709256.0  921506.75   \n",
       "Saturday      50.0  657864.100000   46452.600564  511067.0  636199.75   \n",
       "Sunday        50.0  689255.040000   51013.933708  528724.0  650460.50   \n",
       "Thursday      49.0  952641.510204  118751.401232  286155.0  940762.00   \n",
       "Tuesday       50.0  987446.620000   83908.212000  693257.0  960108.25   \n",
       "Wednesday     49.0  971072.448980  102305.775606  570350.0  945094.00   \n",
       "\n",
       "                  50%         75%        max  \n",
       "day_of_week                                   \n",
       "Friday       906519.5   928941.00  1022900.0  \n",
       "Monday       954091.0  1004844.25  1087212.0  \n",
       "Saturday     653765.0   696757.50   738410.0  \n",
       "Sunday       695012.0   730139.75   766976.0  \n",
       "Thursday     963577.0  1008383.00  1109582.0  \n",
       "Tuesday      987347.5  1015885.00  1135921.0  \n",
       "Wednesday    985706.0  1029029.00  1121567.0  "
      ]
     },
     "execution_count": 14,
     "metadata": {},
     "output_type": "execute_result"
    }
   ],
   "source": [
    "df['push_count'].groupby(df['day_of_week']).describe()"
   ]
  },
  {
   "cell_type": "code",
   "execution_count": 15,
   "id": "800fd8c4-3d7c-40f1-89d1-50a61ae34950",
   "metadata": {},
   "outputs": [
    {
     "name": "stderr",
     "output_type": "stream",
     "text": [
      "C:\\Users\\Bert\\AppData\\Local\\Temp\\ipykernel_14644\\1940308953.py:2: FutureWarning: The default of observed=False is deprecated and will be changed to True in a future version of pandas. Pass observed=False to retain current behavior or observed=True to adopt the future default and silence this warning.\n",
      "  df2.groupby(by='day_of_week').describe()\n"
     ]
    },
    {
     "data": {
      "text/html": [
       "<div>\n",
       "<style scoped>\n",
       "    .dataframe tbody tr th:only-of-type {\n",
       "        vertical-align: middle;\n",
       "    }\n",
       "\n",
       "    .dataframe tbody tr th {\n",
       "        vertical-align: top;\n",
       "    }\n",
       "\n",
       "    .dataframe thead tr th {\n",
       "        text-align: left;\n",
       "    }\n",
       "\n",
       "    .dataframe thead tr:last-of-type th {\n",
       "        text-align: right;\n",
       "    }\n",
       "</style>\n",
       "<table border=\"1\" class=\"dataframe\">\n",
       "  <thead>\n",
       "    <tr>\n",
       "      <th></th>\n",
       "      <th colspan=\"8\" halign=\"left\">push_count</th>\n",
       "    </tr>\n",
       "    <tr>\n",
       "      <th></th>\n",
       "      <th>count</th>\n",
       "      <th>mean</th>\n",
       "      <th>std</th>\n",
       "      <th>min</th>\n",
       "      <th>25%</th>\n",
       "      <th>50%</th>\n",
       "      <th>75%</th>\n",
       "      <th>max</th>\n",
       "    </tr>\n",
       "    <tr>\n",
       "      <th>day_of_week</th>\n",
       "      <th></th>\n",
       "      <th></th>\n",
       "      <th></th>\n",
       "      <th></th>\n",
       "      <th></th>\n",
       "      <th></th>\n",
       "      <th></th>\n",
       "      <th></th>\n",
       "    </tr>\n",
       "  </thead>\n",
       "  <tbody>\n",
       "    <tr>\n",
       "      <th>Friday</th>\n",
       "      <td>50.0</td>\n",
       "      <td>897827.440000</td>\n",
       "      <td>68275.935770</td>\n",
       "      <td>660287.0</td>\n",
       "      <td>872606.25</td>\n",
       "      <td>906519.5</td>\n",
       "      <td>928941.00</td>\n",
       "      <td>1022900.0</td>\n",
       "    </tr>\n",
       "    <tr>\n",
       "      <th>Monday</th>\n",
       "      <td>50.0</td>\n",
       "      <td>955284.360000</td>\n",
       "      <td>70766.469732</td>\n",
       "      <td>709256.0</td>\n",
       "      <td>921506.75</td>\n",
       "      <td>954091.0</td>\n",
       "      <td>1004844.25</td>\n",
       "      <td>1087212.0</td>\n",
       "    </tr>\n",
       "    <tr>\n",
       "      <th>Saturday</th>\n",
       "      <td>50.0</td>\n",
       "      <td>657864.100000</td>\n",
       "      <td>46452.600564</td>\n",
       "      <td>511067.0</td>\n",
       "      <td>636199.75</td>\n",
       "      <td>653765.0</td>\n",
       "      <td>696757.50</td>\n",
       "      <td>738410.0</td>\n",
       "    </tr>\n",
       "    <tr>\n",
       "      <th>Sunday</th>\n",
       "      <td>50.0</td>\n",
       "      <td>689255.040000</td>\n",
       "      <td>51013.933708</td>\n",
       "      <td>528724.0</td>\n",
       "      <td>650460.50</td>\n",
       "      <td>695012.0</td>\n",
       "      <td>730139.75</td>\n",
       "      <td>766976.0</td>\n",
       "    </tr>\n",
       "    <tr>\n",
       "      <th>Thursday</th>\n",
       "      <td>49.0</td>\n",
       "      <td>952641.510204</td>\n",
       "      <td>118751.401232</td>\n",
       "      <td>286155.0</td>\n",
       "      <td>940762.00</td>\n",
       "      <td>963577.0</td>\n",
       "      <td>1008383.00</td>\n",
       "      <td>1109582.0</td>\n",
       "    </tr>\n",
       "    <tr>\n",
       "      <th>Tuesday</th>\n",
       "      <td>50.0</td>\n",
       "      <td>987446.620000</td>\n",
       "      <td>83908.212000</td>\n",
       "      <td>693257.0</td>\n",
       "      <td>960108.25</td>\n",
       "      <td>987347.5</td>\n",
       "      <td>1015885.00</td>\n",
       "      <td>1135921.0</td>\n",
       "    </tr>\n",
       "    <tr>\n",
       "      <th>Wednesday</th>\n",
       "      <td>49.0</td>\n",
       "      <td>971072.448980</td>\n",
       "      <td>102305.775606</td>\n",
       "      <td>570350.0</td>\n",
       "      <td>945094.00</td>\n",
       "      <td>985706.0</td>\n",
       "      <td>1029029.00</td>\n",
       "      <td>1121567.0</td>\n",
       "    </tr>\n",
       "  </tbody>\n",
       "</table>\n",
       "</div>"
      ],
      "text/plain": [
       "            push_count                                                     \\\n",
       "                 count           mean            std       min        25%   \n",
       "day_of_week                                                                 \n",
       "Friday            50.0  897827.440000   68275.935770  660287.0  872606.25   \n",
       "Monday            50.0  955284.360000   70766.469732  709256.0  921506.75   \n",
       "Saturday          50.0  657864.100000   46452.600564  511067.0  636199.75   \n",
       "Sunday            50.0  689255.040000   51013.933708  528724.0  650460.50   \n",
       "Thursday          49.0  952641.510204  118751.401232  286155.0  940762.00   \n",
       "Tuesday           50.0  987446.620000   83908.212000  693257.0  960108.25   \n",
       "Wednesday         49.0  971072.448980  102305.775606  570350.0  945094.00   \n",
       "\n",
       "                                              \n",
       "                  50%         75%        max  \n",
       "day_of_week                                   \n",
       "Friday       906519.5   928941.00  1022900.0  \n",
       "Monday       954091.0  1004844.25  1087212.0  \n",
       "Saturday     653765.0   696757.50   738410.0  \n",
       "Sunday       695012.0   730139.75   766976.0  \n",
       "Thursday     963577.0  1008383.00  1109582.0  \n",
       "Tuesday      987347.5  1015885.00  1135921.0  \n",
       "Wednesday    985706.0  1029029.00  1121567.0  "
      ]
     },
     "execution_count": 15,
     "metadata": {},
     "output_type": "execute_result"
    }
   ],
   "source": [
    "# 어떤 방식이 더 좋은지 비교해봄...\n",
    "df2.groupby(by='day_of_week').describe()"
   ]
  },
  {
   "cell_type": "markdown",
   "id": "490bd09f",
   "metadata": {},
   "source": [
    "#### 요일별 push수에 대한 박스플롯"
   ]
  },
  {
   "cell_type": "code",
   "execution_count": 16,
   "id": "afb2d004",
   "metadata": {},
   "outputs": [
    {
     "name": "stderr",
     "output_type": "stream",
     "text": [
      "C:\\Users\\Bert\\anaconda3\\Lib\\site-packages\\seaborn\\categorical.py:641: FutureWarning: The default of observed=False is deprecated and will be changed to True in a future version of pandas. Pass observed=False to retain current behavior or observed=True to adopt the future default and silence this warning.\n",
      "  grouped_vals = vals.groupby(grouper)\n"
     ]
    },
    {
     "data": {
      "image/png": "[encoded data removed]",
      "text/plain": [
       "<Figure size 640x480 with 1 Axes>"
      ]
     },
     "metadata": {},
     "output_type": "display_data"
    }
   ],
   "source": [
    "sns.boxplot(data=df, x='day_of_week', y='push_count')\n",
    "\n",
    "plt.show()"
   ]
  },
  {
   "cell_type": "markdown",
   "id": "9c266409",
   "metadata": {},
   "source": [
    "#### push_count에 대한 요일별  히스토그램\n",
    "\n",
    "- matplotlib을 이용하여 요일별 히스토그램을 한 윈도우에 겹쳐서 그리기"
   ]
  },
  {
   "cell_type": "code",
   "execution_count": 17,
   "id": "ba526aa6-ae9b-4864-abdb-6eacb385d880",
   "metadata": {},
   "outputs": [],
   "source": [
    "# 조금씩 밀리는거 수정해주고 변수 만드는거 반복문 코드 미완성"
   ]
  },
  {
   "cell_type": "code",
   "execution_count": 34,
   "id": "0e1214a4-1360-46c3-8cc4-a24b209aabf9",
   "metadata": {},
   "outputs": [],
   "source": [
    "mon = df[df.day_of_week == 'Monday'].push_count\n",
    "tue = df[df.day_of_week == 'Tuesday'].push_count\n",
    "wed = df[df.day_of_week == 'Wednesday'].push_count\n",
    "thu = df[df.day_of_week == 'Thursday'].push_count\n",
    "fri = df[df.day_of_week == 'Friday'].push_count\n",
    "sat = df[df.day_of_week == 'Saturday'].push_count\n",
    "sun = df[df.day_of_week == 'Sunday'].push_count"
   ]
  },
  {
   "cell_type": "code",
   "execution_count": 36,
   "id": "9d1c54d3-d5ad-418a-99f8-d614f388a187",
   "metadata": {},
   "outputs": [
    {
     "data": {
      "image/png": "[encoded data removed]",
      "text/plain": [
       "<Figure size 640x480 with 1 Axes>"
      ]
     },
     "metadata": {},
     "output_type": "display_data"
    }
   ],
   "source": [
    "plt.hist(mon, alpha=0.5)\n",
    "plt.hist(tue, alpha=0.5)\n",
    "plt.hist(wed, alpha=0.5)\n",
    "plt.hist(thu, alpha=0.5)\n",
    "plt.hist(fri, alpha=0.5)\n",
    "plt.hist(sat, alpha=0.5)\n",
    "plt.hist(sun, alpha=0.5)\n",
    "\n",
    "\n",
    "plt.show()"
   ]
  },
  {
   "cell_type": "markdown",
   "id": "a4a3298a",
   "metadata": {},
   "source": [
    "- seaborn을 이용하여 요일별 히스토그램 그리기"
   ]
  },
  {
   "cell_type": "code",
   "execution_count": 20,
   "id": "40fd3e60-d10c-4392-8ade-586cde70f622",
   "metadata": {},
   "outputs": [
    {
     "name": "stderr",
     "output_type": "stream",
     "text": [
      "C:\\Users\\Bert\\anaconda3\\Lib\\site-packages\\seaborn\\_oldcore.py:1119: FutureWarning: use_inf_as_na option is deprecated and will be removed in a future version. Convert inf values to NaN before operating instead.\n",
      "  with pd.option_context('mode.use_inf_as_na', True):\n",
      "C:\\Users\\Bert\\anaconda3\\Lib\\site-packages\\seaborn\\_oldcore.py:1057: FutureWarning: The default of observed=False is deprecated and will be changed to True in a future version of pandas. Pass observed=False to retain current behavior or observed=True to adopt the future default and silence this warning.\n",
      "  grouped_data = data.groupby(\n"
     ]
    },
    {
     "data": {
      "image/png": "[encoded data removed]",
      "text/plain": [
       "<Figure size 640x480 with 1 Axes>"
      ]
     },
     "metadata": {},
     "output_type": "display_data"
    }
   ],
   "source": [
    "sns.histplot(x='push_count', hue='day_of_week', data=df)\n",
    "\n",
    "plt.show()"
   ]
  },
  {
   "cell_type": "markdown",
   "id": "19f6a78c",
   "metadata": {},
   "source": [
    "### 이상치 탐색 및 제거"
   ]
  },
  {
   "cell_type": "code",
   "execution_count": 37,
   "id": "45c7f4c9",
   "metadata": {},
   "outputs": [
    {
     "name": "stdout",
     "output_type": "stream",
     "text": [
      "0.25     921506.75\n",
      "0.75    1004844.25\n",
      "Name: push_count, dtype: float64\n"
     ]
    }
   ],
   "source": [
    "print(mon.quantile([0.25, 0.75]))"
   ]
  },
  {
   "cell_type": "code",
   "execution_count": 38,
   "id": "08a77e59-986d-4117-a159-31c4e1e0fc41",
   "metadata": {},
   "outputs": [],
   "source": [
    "def remove_outlier(x):\n",
    "    quartile = x.quantile([0.25, 0.75])\n",
    "    q1 = quartile[0.25]\n",
    "    q3 = quartile[0.75]\n",
    "    IQR = q3 - q1\n",
    "    up = q3 + IQR*1.5\n",
    "    lw = q1 - IQR*1.5\n",
    "    return x[(x<=up) & (x>=lw)]"
   ]
  },
  {
   "cell_type": "markdown",
   "id": "610ef47e",
   "metadata": {},
   "source": [
    "#### 이상치 제거 후 push_count의 요일별 박스플롯"
   ]
  },
  {
   "cell_type": "code",
   "execution_count": 48,
   "id": "38923534-0dcc-45a4-af07-edec684fcf82",
   "metadata": {},
   "outputs": [
    {
     "data": {
      "image/png": "[encoded data removed]",
      "text/plain": [
       "<Figure size 600x400 with 1 Axes>"
      ]
     },
     "metadata": {},
     "output_type": "display_data"
    }
   ],
   "source": [
    "mon_o = remove_outlier(mon)\n",
    "tue_o = remove_outlier(tue)\n",
    "wed_o = remove_outlier(wed)\n",
    "thu_o = remove_outlier(thu)\n",
    "fri_o = remove_outlier(fri)\n",
    "sat_o = remove_outlier(sat)\n",
    "sun_o = remove_outlier(sun)\n",
    "\n",
    "plt.figure(figsize=(6,4))\n",
    "plt.boxplot([mon_o,tue_o,wed_o,thu_o,fri_o,sat_o,sun_o])\n",
    "plt.xticks([1,2,3,4,5,6,7], ['Mon', 'Tue', 'Wed', 'Thu', 'Fri', 'Sat', 'Sun'])\n",
    "\n",
    "plt.show()"
   ]
  },
  {
   "cell_type": "code",
   "execution_count": 49,
   "id": "ad1998ca",
   "metadata": {
    "scrolled": true
   },
   "outputs": [
    {
     "data": {
      "text/plain": [
       "0.25     953277.5\n",
       "0.75    1029843.5\n",
       "Name: push_count, dtype: float64"
      ]
     },
     "execution_count": 49,
     "metadata": {},
     "output_type": "execute_result"
    }
   ],
   "source": [
    "wed_o.quantile([0.25, 0.75])"
   ]
  },
  {
   "cell_type": "code",
   "execution_count": 41,
   "id": "1f1c4862-1e6c-469e-8206-4bed914279e3",
   "metadata": {},
   "outputs": [
    {
     "data": {
      "text/plain": [
       "0.25     945094.0\n",
       "0.75    1029029.0\n",
       "Name: push_count, dtype: float64"
      ]
     },
     "execution_count": 41,
     "metadata": {},
     "output_type": "execute_result"
    }
   ],
   "source": [
    "wed.quantile([0.25, 0.75])"
   ]
  },
  {
   "cell_type": "code",
   "execution_count": 40,
   "id": "352cd0ca-8dbb-4dae-80f6-948e925e8fc9",
   "metadata": {},
   "outputs": [
    {
     "data": {
      "text/plain": [
       "570350"
      ]
     },
     "execution_count": 40,
     "metadata": {},
     "output_type": "execute_result"
    }
   ],
   "source": [
    "wed.min()"
   ]
  },
  {
   "cell_type": "code",
   "execution_count": 50,
   "id": "f44a6bfe",
   "metadata": {},
   "outputs": [
    {
     "data": {
      "text/plain": [
       "828340"
      ]
     },
     "execution_count": 50,
     "metadata": {},
     "output_type": "execute_result"
    }
   ],
   "source": [
    "wed_o.min()"
   ]
  },
  {
   "cell_type": "markdown",
   "id": "12ed1b30",
   "metadata": {},
   "source": [
    "## 일원분산분석"
   ]
  },
  {
   "cell_type": "markdown",
   "id": "1a6fcd42",
   "metadata": {},
   "source": [
    "### 1. 가설 설정"
   ]
  },
  {
   "cell_type": "raw",
   "id": "223bcdce",
   "metadata": {},
   "source": [
    "H0 : 요일 별 사용자들의 푸시 횟수는 같다\n",
    "H1 : 요일 별 사용자들의 푸시 횟누는 다르다"
   ]
  },
  {
   "cell_type": "markdown",
   "id": "184dc098",
   "metadata": {},
   "source": [
    "### 2. 정규성 검정"
   ]
  },
  {
   "cell_type": "markdown",
   "id": "891f0fc9",
   "metadata": {},
   "source": [
    "- 원 데이터로 요일별 push_count의 정규성 검정"
   ]
  },
  {
   "cell_type": "code",
   "execution_count": 47,
   "id": "a2e06d7c",
   "metadata": {},
   "outputs": [
    {
     "name": "stdout",
     "output_type": "stream",
     "text": [
      "Mon = ShapiroResult(statistic=0.9503620862960815, pvalue=0.03530443087220192)\n",
      "tue = ShapiroResult(statistic=0.8026376962661743, pvalue=1.0089271427204949e-06)\n",
      "wed = ShapiroResult(statistic=0.7955165505409241, pvalue=8.438798886345467e-07)\n",
      "thu = ShapiroResult(statistic=0.6433736085891724, pvalue=1.169132346490187e-09)\n",
      "fri = ShapiroResult(statistic=0.9204057455062866, pvalue=0.0024389552418142557)\n",
      "sat = ShapiroResult(statistic=0.9624285101890564, pvalue=0.11236860603094101)\n",
      "sun = ShapiroResult(statistic=0.9517913460731506, pvalue=0.04043339192867279)\n"
     ]
    }
   ],
   "source": [
    "print(f'Mon = {stats.shapiro(mon)}')\n",
    "print(f'tue = {stats.shapiro(tue)}')\n",
    "print(f'wed = {stats.shapiro(wed)}')\n",
    "print(f'thu = {stats.shapiro(thu)}')\n",
    "print(f'fri = {stats.shapiro(fri)}')\n",
    "print(f'sat = {stats.shapiro(sat)}')\n",
    "print(f'sun = {stats.shapiro(sun)}')"
   ]
  },
  {
   "cell_type": "markdown",
   "id": "cfc2e5b1",
   "metadata": {},
   "source": [
    "- 이상치 제거한 데이터로 요일별 push_count의 정규성 검정"
   ]
  },
  {
   "cell_type": "code",
   "execution_count": 52,
   "id": "dc26ead1",
   "metadata": {},
   "outputs": [
    {
     "name": "stdout",
     "output_type": "stream",
     "text": [
      "Mon = ShapiroResult(statistic=0.9882591366767883, pvalue=0.9085348844528198)\n",
      "tue = ShapiroResult(statistic=0.9531018137931824, pvalue=0.07741213589906693)\n",
      "wed = ShapiroResult(statistic=0.9800050854682922, pvalue=0.5924699902534485)\n",
      "thu = ShapiroResult(statistic=0.9782475829124451, pvalue=0.536057710647583)\n",
      "fri = ShapiroResult(statistic=0.9857093095779419, pvalue=0.8369612097740173)\n",
      "sat = ShapiroResult(statistic=0.9630802273750305, pvalue=0.12684005498886108)\n",
      "sun = ShapiroResult(statistic=0.9575085639953613, pvalue=0.07481363415718079)\n"
     ]
    }
   ],
   "source": [
    "print(f'Mon = {stats.shapiro(mon_o)}')\n",
    "print(f'tue = {stats.shapiro(tue_o)}')\n",
    "print(f'wed = {stats.shapiro(wed_o)}')\n",
    "print(f'thu = {stats.shapiro(thu_o)}')\n",
    "print(f'fri = {stats.shapiro(fri_o)}')\n",
    "print(f'sat = {stats.shapiro(sat_o)}')\n",
    "print(f'sun = {stats.shapiro(sun_o)}')"
   ]
  },
  {
   "cell_type": "markdown",
   "id": "91547a46",
   "metadata": {},
   "source": [
    "### 3. 등분산성 검정"
   ]
  },
  {
   "cell_type": "code",
   "execution_count": 53,
   "id": "844deb22",
   "metadata": {},
   "outputs": [
    {
     "data": {
      "text/plain": [
       "LeveneResult(statistic=2.1706182771306146, pvalue=0.04555511566154481)"
      ]
     },
     "execution_count": 53,
     "metadata": {},
     "output_type": "execute_result"
    }
   ],
   "source": [
    "stats.levene(mon_o,tue_o,wed_o,thu_o,fri_o,sat_o,sun_o)"
   ]
  },
  {
   "cell_type": "code",
   "execution_count": null,
   "id": "f065db56",
   "metadata": {},
   "outputs": [],
   "source": []
  },
  {
   "cell_type": "markdown",
   "id": "543454dc",
   "metadata": {},
   "source": [
    "### 4. 분산분석 수행\n",
    "- 가정 검정 결과에 맞게 분석을 수행하시오."
   ]
  },
  {
   "cell_type": "code",
   "execution_count": 56,
   "id": "08ebb130",
   "metadata": {},
   "outputs": [
    {
     "data": {
      "text/html": [
       "<div>\n",
       "<style scoped>\n",
       "    .dataframe tbody tr th:only-of-type {\n",
       "        vertical-align: middle;\n",
       "    }\n",
       "\n",
       "    .dataframe tbody tr th {\n",
       "        vertical-align: top;\n",
       "    }\n",
       "\n",
       "    .dataframe thead th {\n",
       "        text-align: right;\n",
       "    }\n",
       "</style>\n",
       "<table border=\"1\" class=\"dataframe\">\n",
       "  <thead>\n",
       "    <tr style=\"text-align: right;\">\n",
       "      <th></th>\n",
       "      <th>df</th>\n",
       "      <th>sum_sq</th>\n",
       "      <th>mean_sq</th>\n",
       "      <th>F</th>\n",
       "      <th>PR(&gt;F)</th>\n",
       "    </tr>\n",
       "  </thead>\n",
       "  <tbody>\n",
       "    <tr>\n",
       "      <th>C(day_of_week)</th>\n",
       "      <td>6.0</td>\n",
       "      <td>5.808557e+12</td>\n",
       "      <td>9.680928e+11</td>\n",
       "      <td>147.947552</td>\n",
       "      <td>9.431775e-92</td>\n",
       "    </tr>\n",
       "    <tr>\n",
       "      <th>Residual</th>\n",
       "      <td>341.0</td>\n",
       "      <td>2.231329e+12</td>\n",
       "      <td>6.543486e+09</td>\n",
       "      <td>NaN</td>\n",
       "      <td>NaN</td>\n",
       "    </tr>\n",
       "  </tbody>\n",
       "</table>\n",
       "</div>"
      ],
      "text/plain": [
       "                   df        sum_sq       mean_sq           F        PR(>F)\n",
       "C(day_of_week)    6.0  5.808557e+12  9.680928e+11  147.947552  9.431775e-92\n",
       "Residual        341.0  2.231329e+12  6.543486e+09         NaN           NaN"
      ]
     },
     "execution_count": 56,
     "metadata": {},
     "output_type": "execute_result"
    }
   ],
   "source": [
    "model = ols('push_count~C(day_of_week)', df).fit()\n",
    "anova_lm(model)"
   ]
  },
  {
   "cell_type": "code",
   "execution_count": 60,
   "id": "92bcaa73",
   "metadata": {},
   "outputs": [
    {
     "data": {
      "text/html": [
       "<div>\n",
       "<style scoped>\n",
       "    .dataframe tbody tr th:only-of-type {\n",
       "        vertical-align: middle;\n",
       "    }\n",
       "\n",
       "    .dataframe tbody tr th {\n",
       "        vertical-align: top;\n",
       "    }\n",
       "\n",
       "    .dataframe thead th {\n",
       "        text-align: right;\n",
       "    }\n",
       "</style>\n",
       "<table border=\"1\" class=\"dataframe\">\n",
       "  <thead>\n",
       "    <tr style=\"text-align: right;\">\n",
       "      <th></th>\n",
       "      <th>log_date</th>\n",
       "      <th>push_count</th>\n",
       "      <th>day_of_week</th>\n",
       "    </tr>\n",
       "  </thead>\n",
       "  <tbody>\n",
       "    <tr>\n",
       "      <th>0</th>\n",
       "      <td>2019-02-01</td>\n",
       "      <td>736729</td>\n",
       "      <td>Friday</td>\n",
       "    </tr>\n",
       "    <tr>\n",
       "      <th>1</th>\n",
       "      <td>2019-02-02</td>\n",
       "      <td>511067</td>\n",
       "      <td>Saturday</td>\n",
       "    </tr>\n",
       "    <tr>\n",
       "      <th>2</th>\n",
       "      <td>2019-02-03</td>\n",
       "      <td>528724</td>\n",
       "      <td>Sunday</td>\n",
       "    </tr>\n",
       "    <tr>\n",
       "      <th>3</th>\n",
       "      <td>2019-02-04</td>\n",
       "      <td>709256</td>\n",
       "      <td>Monday</td>\n",
       "    </tr>\n",
       "    <tr>\n",
       "      <th>4</th>\n",
       "      <td>2019-02-05</td>\n",
       "      <td>740087</td>\n",
       "      <td>Tuesday</td>\n",
       "    </tr>\n",
       "    <tr>\n",
       "      <th>...</th>\n",
       "      <td>...</td>\n",
       "      <td>...</td>\n",
       "      <td>...</td>\n",
       "    </tr>\n",
       "    <tr>\n",
       "      <th>343</th>\n",
       "      <td>2020-01-10</td>\n",
       "      <td>1000151</td>\n",
       "      <td>Friday</td>\n",
       "    </tr>\n",
       "    <tr>\n",
       "      <th>344</th>\n",
       "      <td>2020-01-11</td>\n",
       "      <td>729593</td>\n",
       "      <td>Saturday</td>\n",
       "    </tr>\n",
       "    <tr>\n",
       "      <th>345</th>\n",
       "      <td>2020-01-12</td>\n",
       "      <td>748161</td>\n",
       "      <td>Sunday</td>\n",
       "    </tr>\n",
       "    <tr>\n",
       "      <th>346</th>\n",
       "      <td>2020-01-13</td>\n",
       "      <td>1034195</td>\n",
       "      <td>Monday</td>\n",
       "    </tr>\n",
       "    <tr>\n",
       "      <th>347</th>\n",
       "      <td>2020-01-14</td>\n",
       "      <td>1067085</td>\n",
       "      <td>Tuesday</td>\n",
       "    </tr>\n",
       "  </tbody>\n",
       "</table>\n",
       "<p>348 rows × 3 columns</p>\n",
       "</div>"
      ],
      "text/plain": [
       "      log_date  push_count day_of_week\n",
       "0   2019-02-01      736729      Friday\n",
       "1   2019-02-02      511067    Saturday\n",
       "2   2019-02-03      528724      Sunday\n",
       "3   2019-02-04      709256      Monday\n",
       "4   2019-02-05      740087     Tuesday\n",
       "..         ...         ...         ...\n",
       "343 2020-01-10     1000151      Friday\n",
       "344 2020-01-11      729593    Saturday\n",
       "345 2020-01-12      748161      Sunday\n",
       "346 2020-01-13     1034195      Monday\n",
       "347 2020-01-14     1067085     Tuesday\n",
       "\n",
       "[348 rows x 3 columns]"
      ]
     },
     "execution_count": 60,
     "metadata": {},
     "output_type": "execute_result"
    }
   ],
   "source": [
    "df"
   ]
  },
  {
   "cell_type": "markdown",
   "id": "2f2cb4b7",
   "metadata": {},
   "source": [
    "### 5. 사후검정 수행"
   ]
  },
  {
   "cell_type": "markdown",
   "id": "a2553b7a",
   "metadata": {},
   "source": [
    "- 어느 요일간에 차이가 있는가?"
   ]
  },
  {
   "cell_type": "code",
   "execution_count": 59,
   "id": "161b489c",
   "metadata": {},
   "outputs": [],
   "source": [
    "from statsmodels.sandbox.stats.multicomp import MultiComparison"
   ]
  },
  {
   "cell_type": "code",
   "execution_count": 61,
   "id": "4b97ac80",
   "metadata": {},
   "outputs": [
    {
     "data": {
      "text/html": [
       "<table class=\"simpletable\">\n",
       "<caption>Test Multiple Comparison ttest_ind \n",
       "FWER=0.05 method=bonf\n",
       "alphacSidak=0.00, alphacBonf=0.002</caption>\n",
       "<tr>\n",
       "   <th>group1</th>   <th>group2</th>     <th>stat</th>    <th>pval</th>  <th>pval_corr</th> <th>reject</th>\n",
       "</tr>\n",
       "<tr>\n",
       "   <td>Friday</td>   <td>Monday</td>    <td>-4.1317</td> <td>0.0001</td>  <td>0.0016</td>    <td>True</td> \n",
       "</tr>\n",
       "<tr>\n",
       "   <td>Friday</td>  <td>Saturday</td>   <td>20.5473</td>   <td>0.0</td>     <td>0.0</td>     <td>True</td> \n",
       "</tr>\n",
       "<tr>\n",
       "   <td>Friday</td>   <td>Sunday</td>    <td>17.3043</td>   <td>0.0</td>     <td>0.0</td>     <td>True</td> \n",
       "</tr>\n",
       "<tr>\n",
       "   <td>Friday</td>  <td>Thursday</td>   <td>-2.8226</td> <td>0.0058</td>  <td>0.1214</td>    <td>False</td>\n",
       "</tr>\n",
       "<tr>\n",
       "   <td>Friday</td>   <td>Tuesday</td>   <td>-5.858</td>    <td>0.0</td>     <td>0.0</td>     <td>True</td> \n",
       "</tr>\n",
       "<tr>\n",
       "   <td>Friday</td>  <td>Wednesday</td>  <td>-4.1979</td> <td>0.0001</td>  <td>0.0013</td>    <td>True</td> \n",
       "</tr>\n",
       "<tr>\n",
       "   <td>Monday</td>  <td>Saturday</td>   <td>24.8442</td>   <td>0.0</td>     <td>0.0</td>     <td>True</td> \n",
       "</tr>\n",
       "<tr>\n",
       "   <td>Monday</td>   <td>Sunday</td>    <td>21.5632</td>   <td>0.0</td>     <td>0.0</td>     <td>True</td> \n",
       "</tr>\n",
       "<tr>\n",
       "   <td>Monday</td>  <td>Thursday</td>   <td>0.1348</td>   <td>0.893</td>    <td>1.0</td>     <td>False</td>\n",
       "</tr>\n",
       "<tr>\n",
       "   <td>Monday</td>   <td>Tuesday</td>   <td>-2.0719</td> <td>0.0409</td>   <td>0.859</td>    <td>False</td>\n",
       "</tr>\n",
       "<tr>\n",
       "   <td>Monday</td>  <td>Wednesday</td>  <td>-0.8945</td> <td>0.3733</td>    <td>1.0</td>     <td>False</td>\n",
       "</tr>\n",
       "<tr>\n",
       "  <td>Saturday</td>  <td>Sunday</td>    <td>-3.2172</td> <td>0.0018</td>  <td>0.0369</td>    <td>True</td> \n",
       "</tr>\n",
       "<tr>\n",
       "  <td>Saturday</td> <td>Thursday</td>  <td>-16.3256</td>   <td>0.0</td>     <td>0.0</td>     <td>True</td> \n",
       "</tr>\n",
       "<tr>\n",
       "  <td>Saturday</td>  <td>Tuesday</td>  <td>-24.2992</td>   <td>0.0</td>     <td>0.0</td>     <td>True</td> \n",
       "</tr>\n",
       "<tr>\n",
       "  <td>Saturday</td> <td>Wednesday</td> <td>-19.6783</td>   <td>0.0</td>     <td>0.0</td>     <td>True</td> \n",
       "</tr>\n",
       "<tr>\n",
       "   <td>Sunday</td>  <td>Thursday</td>  <td>-14.3882</td>   <td>0.0</td>     <td>0.0</td>     <td>True</td> \n",
       "</tr>\n",
       "<tr>\n",
       "   <td>Sunday</td>   <td>Tuesday</td>  <td>-21.4721</td>   <td>0.0</td>     <td>0.0</td>     <td>True</td> \n",
       "</tr>\n",
       "<tr>\n",
       "   <td>Sunday</td>  <td>Wednesday</td> <td>-17.3972</td>   <td>0.0</td>     <td>0.0</td>     <td>True</td> \n",
       "</tr>\n",
       "<tr>\n",
       "  <td>Thursday</td>  <td>Tuesday</td>   <td>-1.6869</td> <td>0.0948</td>    <td>1.0</td>     <td>False</td>\n",
       "</tr>\n",
       "<tr>\n",
       "  <td>Thursday</td> <td>Wednesday</td>  <td>-0.8231</td> <td>0.4125</td>    <td>1.0</td>     <td>False</td>\n",
       "</tr>\n",
       "<tr>\n",
       "   <td>Tuesday</td> <td>Wednesday</td>  <td>0.8715</td>  <td>0.3856</td>    <td>1.0</td>     <td>False</td>\n",
       "</tr>\n",
       "</table>"
      ],
      "text/latex": [
       "\\begin{center}\n",
       "\\begin{tabular}{cccccc}\n",
       "\\toprule\n",
       "\\textbf{group1} & \\textbf{group2} & \\textbf{stat} & \\textbf{pval} & \\textbf{pval\\_corr} & \\textbf{reject}  \\\\\n",
       "\\midrule\n",
       "     Friday     &      Monday     &    -4.1317    &     0.0001    &        0.0016       &       True       \\\\\n",
       "     Friday     &     Saturday    &    20.5473    &      0.0      &         0.0         &       True       \\\\\n",
       "     Friday     &      Sunday     &    17.3043    &      0.0      &         0.0         &       True       \\\\\n",
       "     Friday     &     Thursday    &    -2.8226    &     0.0058    &        0.1214       &      False       \\\\\n",
       "     Friday     &     Tuesday     &     -5.858    &      0.0      &         0.0         &       True       \\\\\n",
       "     Friday     &    Wednesday    &    -4.1979    &     0.0001    &        0.0013       &       True       \\\\\n",
       "     Monday     &     Saturday    &    24.8442    &      0.0      &         0.0         &       True       \\\\\n",
       "     Monday     &      Sunday     &    21.5632    &      0.0      &         0.0         &       True       \\\\\n",
       "     Monday     &     Thursday    &     0.1348    &     0.893     &         1.0         &      False       \\\\\n",
       "     Monday     &     Tuesday     &    -2.0719    &     0.0409    &        0.859        &      False       \\\\\n",
       "     Monday     &    Wednesday    &    -0.8945    &     0.3733    &         1.0         &      False       \\\\\n",
       "    Saturday    &      Sunday     &    -3.2172    &     0.0018    &        0.0369       &       True       \\\\\n",
       "    Saturday    &     Thursday    &    -16.3256   &      0.0      &         0.0         &       True       \\\\\n",
       "    Saturday    &     Tuesday     &    -24.2992   &      0.0      &         0.0         &       True       \\\\\n",
       "    Saturday    &    Wednesday    &    -19.6783   &      0.0      &         0.0         &       True       \\\\\n",
       "     Sunday     &     Thursday    &    -14.3882   &      0.0      &         0.0         &       True       \\\\\n",
       "     Sunday     &     Tuesday     &    -21.4721   &      0.0      &         0.0         &       True       \\\\\n",
       "     Sunday     &    Wednesday    &    -17.3972   &      0.0      &         0.0         &       True       \\\\\n",
       "    Thursday    &     Tuesday     &    -1.6869    &     0.0948    &         1.0         &      False       \\\\\n",
       "    Thursday    &    Wednesday    &    -0.8231    &     0.4125    &         1.0         &      False       \\\\\n",
       "    Tuesday     &    Wednesday    &     0.8715    &     0.3856    &         1.0         &      False       \\\\\n",
       "\\bottomrule\n",
       "\\end{tabular}\n",
       "%\\caption{Test Multiple Comparison ttest_ind \n",
       "FWER=0.05 method=bonf\n",
       "alphacSidak=0.00, alphacBonf=0.002}\n",
       "\\end{center}"
      ],
      "text/plain": [
       "<class 'statsmodels.iolib.table.SimpleTable'>"
      ]
     },
     "execution_count": 61,
     "metadata": {},
     "output_type": "execute_result"
    }
   ],
   "source": [
    "comp = MultiComparison(df.push_count, df.day_of_week)\n",
    "result = comp.allpairtest(stats.ttest_ind, method='bonf')\n",
    "result[0]"
   ]
  },
  {
   "cell_type": "code",
   "execution_count": null,
   "id": "6d9869eb-fc6c-4590-b0af-ee97766919e4",
   "metadata": {},
   "outputs": [],
   "source": []
  },
  {
   "cell_type": "code",
   "execution_count": 62,
   "id": "166e118e-0019-4a05-a843-4e03340d958b",
   "metadata": {},
   "outputs": [],
   "source": [
    "from statsmodels.stats.multicomp import pairwise_tukeyhsd"
   ]
  },
  {
   "cell_type": "code",
   "execution_count": 63,
   "id": "5283aae9-021c-400d-b2aa-7e1ef30260bf",
   "metadata": {},
   "outputs": [
    {
     "data": {
      "text/html": [
       "<table class=\"simpletable\">\n",
       "<caption>Multiple Comparison of Means - Tukey HSD, FWER=0.05</caption>\n",
       "<tr>\n",
       "   <th>group1</th>   <th>group2</th>    <th>meandiff</th>    <th>p-adj</th>    <th>lower</th>       <th>upper</th>    <th>reject</th>\n",
       "</tr>\n",
       "<tr>\n",
       "   <td>Friday</td>   <td>Monday</td>    <td>57456.92</td>   <td>0.0079</td>   <td>9471.29</td>    <td>105442.55</td>   <td>True</td> \n",
       "</tr>\n",
       "<tr>\n",
       "   <td>Friday</td>  <td>Saturday</td>  <td>-239963.34</td>    <td>0.0</td>  <td>-287948.97</td>  <td>-191977.71</td>   <td>True</td> \n",
       "</tr>\n",
       "<tr>\n",
       "   <td>Friday</td>   <td>Sunday</td>    <td>-208572.4</td>    <td>0.0</td>  <td>-256558.03</td>  <td>-160586.77</td>   <td>True</td> \n",
       "</tr>\n",
       "<tr>\n",
       "   <td>Friday</td>  <td>Thursday</td>  <td>54814.0702</td>  <td>0.0145</td>  <td>6584.237</td>   <td>103043.9035</td>  <td>True</td> \n",
       "</tr>\n",
       "<tr>\n",
       "   <td>Friday</td>   <td>Tuesday</td>   <td>89619.18</td>     <td>0.0</td>   <td>41633.55</td>    <td>137604.81</td>   <td>True</td> \n",
       "</tr>\n",
       "<tr>\n",
       "   <td>Friday</td>  <td>Wednesday</td>  <td>73245.009</td>  <td>0.0002</td> <td>25015.1757</td>  <td>121474.8422</td>  <td>True</td> \n",
       "</tr>\n",
       "<tr>\n",
       "   <td>Monday</td>  <td>Saturday</td>  <td>-297420.26</td>    <td>0.0</td>  <td>-345405.89</td>  <td>-249434.63</td>   <td>True</td> \n",
       "</tr>\n",
       "<tr>\n",
       "   <td>Monday</td>   <td>Sunday</td>   <td>-266029.32</td>    <td>0.0</td>  <td>-314014.95</td>  <td>-218043.69</td>   <td>True</td> \n",
       "</tr>\n",
       "<tr>\n",
       "   <td>Monday</td>  <td>Thursday</td>  <td>-2642.8498</td>    <td>1.0</td>  <td>-50872.683</td>  <td>45586.9835</td>   <td>False</td>\n",
       "</tr>\n",
       "<tr>\n",
       "   <td>Monday</td>   <td>Tuesday</td>   <td>32162.26</td>   <td>0.4242</td>  <td>-15823.37</td>   <td>80147.89</td>    <td>False</td>\n",
       "</tr>\n",
       "<tr>\n",
       "   <td>Monday</td>  <td>Wednesday</td>  <td>15788.089</td>  <td>0.9599</td> <td>-32441.7443</td> <td>64017.9222</td>   <td>False</td>\n",
       "</tr>\n",
       "<tr>\n",
       "  <td>Saturday</td>  <td>Sunday</td>    <td>31390.94</td>   <td>0.4551</td>  <td>-16594.69</td>   <td>79376.57</td>    <td>False</td>\n",
       "</tr>\n",
       "<tr>\n",
       "  <td>Saturday</td> <td>Thursday</td>  <td>294777.4102</td>   <td>0.0</td>  <td>246547.577</td>  <td>343007.2435</td>  <td>True</td> \n",
       "</tr>\n",
       "<tr>\n",
       "  <td>Saturday</td>  <td>Tuesday</td>   <td>329582.52</td>    <td>0.0</td>   <td>281596.89</td>   <td>377568.15</td>   <td>True</td> \n",
       "</tr>\n",
       "<tr>\n",
       "  <td>Saturday</td> <td>Wednesday</td> <td>313208.349</td>    <td>0.0</td>  <td>264978.5157</td> <td>361438.1822</td>  <td>True</td> \n",
       "</tr>\n",
       "<tr>\n",
       "   <td>Sunday</td>  <td>Thursday</td>  <td>263386.4702</td>   <td>0.0</td>  <td>215156.637</td>  <td>311616.3035</td>  <td>True</td> \n",
       "</tr>\n",
       "<tr>\n",
       "   <td>Sunday</td>   <td>Tuesday</td>   <td>298191.58</td>    <td>0.0</td>   <td>250205.95</td>   <td>346177.21</td>   <td>True</td> \n",
       "</tr>\n",
       "<tr>\n",
       "   <td>Sunday</td>  <td>Wednesday</td> <td>281817.409</td>    <td>0.0</td>  <td>233587.5757</td> <td>330047.2422</td>  <td>True</td> \n",
       "</tr>\n",
       "<tr>\n",
       "  <td>Thursday</td>  <td>Tuesday</td>  <td>34805.1098</td>  <td>0.3314</td> <td>-13424.7235</td>  <td>83034.943</td>   <td>False</td>\n",
       "</tr>\n",
       "<tr>\n",
       "  <td>Thursday</td> <td>Wednesday</td> <td>18430.9388</td>  <td>0.9192</td> <td>-30041.8675</td>  <td>66903.745</td>   <td>False</td>\n",
       "</tr>\n",
       "<tr>\n",
       "   <td>Tuesday</td> <td>Wednesday</td> <td>-16374.171</td>  <td>0.9522</td> <td>-64604.0043</td> <td>31855.6622</td>   <td>False</td>\n",
       "</tr>\n",
       "</table>"
      ],
      "text/latex": [
       "\\begin{center}\n",
       "\\begin{tabular}{ccccccc}\n",
       "\\toprule\n",
       "\\textbf{group1} & \\textbf{group2} & \\textbf{meandiff} & \\textbf{p-adj} & \\textbf{lower} & \\textbf{upper} & \\textbf{reject}  \\\\\n",
       "\\midrule\n",
       "     Friday     &      Monday     &      57456.92     &     0.0079     &    9471.29     &   105442.55    &       True       \\\\\n",
       "     Friday     &     Saturday    &     -239963.34    &      0.0       &   -287948.97   &   -191977.71   &       True       \\\\\n",
       "     Friday     &      Sunday     &     -208572.4     &      0.0       &   -256558.03   &   -160586.77   &       True       \\\\\n",
       "     Friday     &     Thursday    &     54814.0702    &     0.0145     &    6584.237    &  103043.9035   &       True       \\\\\n",
       "     Friday     &     Tuesday     &      89619.18     &      0.0       &    41633.55    &   137604.81    &       True       \\\\\n",
       "     Friday     &    Wednesday    &     73245.009     &     0.0002     &   25015.1757   &  121474.8422   &       True       \\\\\n",
       "     Monday     &     Saturday    &     -297420.26    &      0.0       &   -345405.89   &   -249434.63   &       True       \\\\\n",
       "     Monday     &      Sunday     &     -266029.32    &      0.0       &   -314014.95   &   -218043.69   &       True       \\\\\n",
       "     Monday     &     Thursday    &     -2642.8498    &      1.0       &   -50872.683   &   45586.9835   &      False       \\\\\n",
       "     Monday     &     Tuesday     &      32162.26     &     0.4242     &   -15823.37    &    80147.89    &      False       \\\\\n",
       "     Monday     &    Wednesday    &     15788.089     &     0.9599     &  -32441.7443   &   64017.9222   &      False       \\\\\n",
       "    Saturday    &      Sunday     &      31390.94     &     0.4551     &   -16594.69    &    79376.57    &      False       \\\\\n",
       "    Saturday    &     Thursday    &    294777.4102    &      0.0       &   246547.577   &  343007.2435   &       True       \\\\\n",
       "    Saturday    &     Tuesday     &     329582.52     &      0.0       &   281596.89    &   377568.15    &       True       \\\\\n",
       "    Saturday    &    Wednesday    &     313208.349    &      0.0       &  264978.5157   &  361438.1822   &       True       \\\\\n",
       "     Sunday     &     Thursday    &    263386.4702    &      0.0       &   215156.637   &  311616.3035   &       True       \\\\\n",
       "     Sunday     &     Tuesday     &     298191.58     &      0.0       &   250205.95    &   346177.21    &       True       \\\\\n",
       "     Sunday     &    Wednesday    &     281817.409    &      0.0       &  233587.5757   &  330047.2422   &       True       \\\\\n",
       "    Thursday    &     Tuesday     &     34805.1098    &     0.3314     &  -13424.7235   &   83034.943    &      False       \\\\\n",
       "    Thursday    &    Wednesday    &     18430.9388    &     0.9192     &  -30041.8675   &   66903.745    &      False       \\\\\n",
       "    Tuesday     &    Wednesday    &     -16374.171    &     0.9522     &  -64604.0043   &   31855.6622   &      False       \\\\\n",
       "\\bottomrule\n",
       "\\end{tabular}\n",
       "%\\caption{Multiple Comparison of Means - Tukey HSD, FWER=0.05}\n",
       "\\end{center}"
      ],
      "text/plain": [
       "<class 'statsmodels.iolib.table.SimpleTable'>"
      ]
     },
     "execution_count": 63,
     "metadata": {},
     "output_type": "execute_result"
    }
   ],
   "source": [
    "hsd = pairwise_tukeyhsd(df.push_count,  df.day_of_week)\n",
    "hsd.summary()"
   ]
  },
  {
   "cell_type": "code",
   "execution_count": 64,
   "id": "7027b7c6-337c-4c0a-893c-7a1ab55b2410",
   "metadata": {},
   "outputs": [
    {
     "data": {
      "image/png": "[encoded data removed]",
      "text/plain": [
       "<Figure size 1000x600 with 1 Axes>"
      ]
     },
     "metadata": {},
     "output_type": "display_data"
    }
   ],
   "source": [
    "fig = hsd.plot_simultaneous()"
   ]
  },
  {
   "cell_type": "markdown",
   "id": "e9d44bb9-3ecc-442c-9d22-0e237833cf96",
   "metadata": {},
   "source": [
    "(토요일,일요일) , (월요일,화요일,수요일,목요일)"
   ]
  },
  {
   "cell_type": "markdown",
   "id": "83325fec",
   "metadata": {},
   "source": [
    "----------------------------------"
   ]
  }
 ],
 "metadata": {
  "kernelspec": {
   "display_name": "Python 3 (ipykernel)",
   "language": "python",
   "name": "python3"
  },
  "language_info": {
   "codemirror_mode": {
    "name": "ipython",
    "version": 3
   },
   "file_extension": ".py",
   "mimetype": "text/x-python",
   "name": "python",
   "nbconvert_exporter": "python",
   "pygments_lexer": "ipython3",
   "version": "3.11.7"
  }
 },
 "nbformat": 4,
 "nbformat_minor": 5
}
