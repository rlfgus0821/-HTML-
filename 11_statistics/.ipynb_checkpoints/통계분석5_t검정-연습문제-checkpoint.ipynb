{
 "cells": [
  {
   "cell_type": "code",
   "execution_count": 4,
   "metadata": {},
   "outputs": [
    {
     "data": {
      "text/plain": [
       "'%.3f'"
      ]
     },
     "execution_count": 4,
     "metadata": {},
     "output_type": "execute_result"
    }
   ],
   "source": [
    "import numpy as np\n",
    "import pandas as pd\n",
    "from scipy import stats\n",
    "import matplotlib.pyplot as plt\n",
    "import seaborn as sns\n",
    "\n",
    "%precision 3"
   ]
  },
  {
   "cell_type": "code",
   "execution_count": 5,
   "metadata": {},
   "outputs": [],
   "source": [
    "import platform\n",
    "from matplotlib import font_manager, rc\n",
    "\n",
    "plt.rcParams['axes.unicode_minus']=False\n",
    "\n",
    "path = 'c:/Windows/Fonts/malgun.ttf'\n",
    "font_name = font_manager.FontProperties(fname=path).get_name()\n",
    "rc('font',family=font_name)"
   ]
  },
  {
   "cell_type": "markdown",
   "metadata": {},
   "source": [
    "### 문제1. 초등학생 신체데이터\n",
    "\n",
    "2018년 초등학생 키와 몸무게 자료이다. 초등학교 6학년 남학생의 평균키는 152.5라고 한다. 2018년에 표본조사된 6학년 남학생의 키는 152.5보다 큰가? 유의수준 5%에서 가설검정을 수행하시오."
   ]
  },
  {
   "cell_type": "code",
   "execution_count": 7,
   "metadata": {},
   "outputs": [
    {
     "data": {
      "text/html": [
       "<div>\n",
       "<style scoped>\n",
       "    .dataframe tbody tr th:only-of-type {\n",
       "        vertical-align: middle;\n",
       "    }\n",
       "\n",
       "    .dataframe tbody tr th {\n",
       "        vertical-align: top;\n",
       "    }\n",
       "\n",
       "    .dataframe thead th {\n",
       "        text-align: right;\n",
       "    }\n",
       "</style>\n",
       "<table border=\"1\" class=\"dataframe\">\n",
       "  <thead>\n",
       "    <tr style=\"text-align: right;\">\n",
       "      <th></th>\n",
       "      <th>개인ID</th>\n",
       "      <th>도시규모</th>\n",
       "      <th>도시규모별 분석용</th>\n",
       "      <th>광역시도</th>\n",
       "      <th>학교급별</th>\n",
       "      <th>학년</th>\n",
       "      <th>성별</th>\n",
       "      <th>생년월일</th>\n",
       "      <th>건강검진일</th>\n",
       "      <th>키</th>\n",
       "      <th>몸무게</th>\n",
       "    </tr>\n",
       "  </thead>\n",
       "  <tbody>\n",
       "    <tr>\n",
       "      <th>0</th>\n",
       "      <td>212111q</td>\n",
       "      <td>특별/광역시</td>\n",
       "      <td>1</td>\n",
       "      <td>서울</td>\n",
       "      <td>초</td>\n",
       "      <td>1</td>\n",
       "      <td>남</td>\n",
       "      <td>20110302</td>\n",
       "      <td>20180511</td>\n",
       "      <td>124.1</td>\n",
       "      <td>25.3</td>\n",
       "    </tr>\n",
       "    <tr>\n",
       "      <th>1</th>\n",
       "      <td>212112w</td>\n",
       "      <td>특별/광역시</td>\n",
       "      <td>1</td>\n",
       "      <td>서울</td>\n",
       "      <td>초</td>\n",
       "      <td>1</td>\n",
       "      <td>남</td>\n",
       "      <td>20110111</td>\n",
       "      <td>20180511</td>\n",
       "      <td>131.1</td>\n",
       "      <td>30.8</td>\n",
       "    </tr>\n",
       "    <tr>\n",
       "      <th>2</th>\n",
       "      <td>212113e</td>\n",
       "      <td>특별/광역시</td>\n",
       "      <td>1</td>\n",
       "      <td>서울</td>\n",
       "      <td>초</td>\n",
       "      <td>1</td>\n",
       "      <td>남</td>\n",
       "      <td>20110719</td>\n",
       "      <td>20180511</td>\n",
       "      <td>121.1</td>\n",
       "      <td>27.4</td>\n",
       "    </tr>\n",
       "  </tbody>\n",
       "</table>\n",
       "</div>"
      ],
      "text/plain": [
       "      개인ID    도시규모  도시규모별 분석용 광역시도 학교급별  학년 성별      생년월일     건강검진일      키  \\\n",
       "0  212111q  특별/광역시          1   서울    초   1  남  20110302  20180511  124.1   \n",
       "1  212112w  특별/광역시          1   서울    초   1  남  20110111  20180511  131.1   \n",
       "2  212113e  특별/광역시          1   서울    초   1  남  20110719  20180511  121.1   \n",
       "\n",
       "    몸무게  \n",
       "0  25.3  \n",
       "1  30.8  \n",
       "2  27.4  "
      ]
     },
     "execution_count": 7,
     "metadata": {},
     "output_type": "execute_result"
    }
   ],
   "source": [
    "df = pd.read_excel('data/학생건강검사_초등학생2018.xlsx')\n",
    "df.head(3)"
   ]
  },
  {
   "cell_type": "code",
   "execution_count": 9,
   "metadata": {
    "scrolled": true
   },
   "outputs": [
    {
     "name": "stdout",
     "output_type": "stream",
     "text": [
      "<class 'pandas.core.frame.DataFrame'>\n",
      "RangeIndex: 17413 entries, 0 to 17412\n",
      "Data columns (total 11 columns):\n",
      " #   Column     Non-Null Count  Dtype  \n",
      "---  ------     --------------  -----  \n",
      " 0   개인ID       17413 non-null  object \n",
      " 1   도시규모       17413 non-null  object \n",
      " 2   도시규모별 분석용  17413 non-null  int64  \n",
      " 3   광역시도       17413 non-null  object \n",
      " 4   학교급별       17413 non-null  object \n",
      " 5   학년         17413 non-null  int64  \n",
      " 6   성별         17413 non-null  object \n",
      " 7   생년월일       17413 non-null  int64  \n",
      " 8   건강검진일      17413 non-null  int64  \n",
      " 9   키          17409 non-null  float64\n",
      " 10  몸무게        17409 non-null  float64\n",
      "dtypes: float64(2), int64(4), object(5)\n",
      "memory usage: 1.5+ MB\n"
     ]
    }
   ],
   "source": [
    "# 데이터 전처리 : 확인\n",
    "df.info()"
   ]
  },
  {
   "cell_type": "code",
   "execution_count": 10,
   "metadata": {},
   "outputs": [
    {
     "data": {
      "text/html": [
       "<div>\n",
       "<style scoped>\n",
       "    .dataframe tbody tr th:only-of-type {\n",
       "        vertical-align: middle;\n",
       "    }\n",
       "\n",
       "    .dataframe tbody tr th {\n",
       "        vertical-align: top;\n",
       "    }\n",
       "\n",
       "    .dataframe thead th {\n",
       "        text-align: right;\n",
       "    }\n",
       "</style>\n",
       "<table border=\"1\" class=\"dataframe\">\n",
       "  <thead>\n",
       "    <tr style=\"text-align: right;\">\n",
       "      <th></th>\n",
       "      <th>도시규모별 분석용</th>\n",
       "      <th>학년</th>\n",
       "      <th>생년월일</th>\n",
       "      <th>건강검진일</th>\n",
       "      <th>키</th>\n",
       "      <th>몸무게</th>\n",
       "    </tr>\n",
       "  </thead>\n",
       "  <tbody>\n",
       "    <tr>\n",
       "      <th>count</th>\n",
       "      <td>17413.000000</td>\n",
       "      <td>17413.000000</td>\n",
       "      <td>1.741300e+04</td>\n",
       "      <td>1.741300e+04</td>\n",
       "      <td>17409.000000</td>\n",
       "      <td>17409.000000</td>\n",
       "    </tr>\n",
       "    <tr>\n",
       "      <th>mean</th>\n",
       "      <td>1.370757</td>\n",
       "      <td>3.505140</td>\n",
       "      <td>2.008562e+07</td>\n",
       "      <td>2.018048e+07</td>\n",
       "      <td>136.549526</td>\n",
       "      <td>35.426282</td>\n",
       "    </tr>\n",
       "    <tr>\n",
       "      <th>std</th>\n",
       "      <td>0.716322</td>\n",
       "      <td>1.702736</td>\n",
       "      <td>1.704658e+04</td>\n",
       "      <td>8.058907e+01</td>\n",
       "      <td>12.028290</td>\n",
       "      <td>11.608591</td>\n",
       "    </tr>\n",
       "    <tr>\n",
       "      <th>min</th>\n",
       "      <td>1.000000</td>\n",
       "      <td>1.000000</td>\n",
       "      <td>2.005012e+07</td>\n",
       "      <td>2.018031e+07</td>\n",
       "      <td>100.000000</td>\n",
       "      <td>13.000000</td>\n",
       "    </tr>\n",
       "    <tr>\n",
       "      <th>25%</th>\n",
       "      <td>1.000000</td>\n",
       "      <td>2.000000</td>\n",
       "      <td>2.007070e+07</td>\n",
       "      <td>2.018042e+07</td>\n",
       "      <td>127.200000</td>\n",
       "      <td>26.500000</td>\n",
       "    </tr>\n",
       "    <tr>\n",
       "      <th>50%</th>\n",
       "      <td>1.000000</td>\n",
       "      <td>4.000000</td>\n",
       "      <td>2.008123e+07</td>\n",
       "      <td>2.018050e+07</td>\n",
       "      <td>136.000000</td>\n",
       "      <td>33.000000</td>\n",
       "    </tr>\n",
       "    <tr>\n",
       "      <th>75%</th>\n",
       "      <td>1.000000</td>\n",
       "      <td>5.000000</td>\n",
       "      <td>2.010070e+07</td>\n",
       "      <td>2.018052e+07</td>\n",
       "      <td>145.300000</td>\n",
       "      <td>42.000000</td>\n",
       "    </tr>\n",
       "    <tr>\n",
       "      <th>max</th>\n",
       "      <td>3.000000</td>\n",
       "      <td>6.000000</td>\n",
       "      <td>2.012021e+07</td>\n",
       "      <td>2.018083e+07</td>\n",
       "      <td>179.300000</td>\n",
       "      <td>113.100000</td>\n",
       "    </tr>\n",
       "  </tbody>\n",
       "</table>\n",
       "</div>"
      ],
      "text/plain": [
       "          도시규모별 분석용            학년          생년월일         건강검진일             키  \\\n",
       "count  17413.000000  17413.000000  1.741300e+04  1.741300e+04  17409.000000   \n",
       "mean       1.370757      3.505140  2.008562e+07  2.018048e+07    136.549526   \n",
       "std        0.716322      1.702736  1.704658e+04  8.058907e+01     12.028290   \n",
       "min        1.000000      1.000000  2.005012e+07  2.018031e+07    100.000000   \n",
       "25%        1.000000      2.000000  2.007070e+07  2.018042e+07    127.200000   \n",
       "50%        1.000000      4.000000  2.008123e+07  2.018050e+07    136.000000   \n",
       "75%        1.000000      5.000000  2.010070e+07  2.018052e+07    145.300000   \n",
       "max        3.000000      6.000000  2.012021e+07  2.018083e+07    179.300000   \n",
       "\n",
       "                몸무게  \n",
       "count  17409.000000  \n",
       "mean      35.426282  \n",
       "std       11.608591  \n",
       "min       13.000000  \n",
       "25%       26.500000  \n",
       "50%       33.000000  \n",
       "75%       42.000000  \n",
       "max      113.100000  "
      ]
     },
     "execution_count": 10,
     "metadata": {},
     "output_type": "execute_result"
    }
   ],
   "source": [
    "df.describe()"
   ]
  },
  {
   "cell_type": "code",
   "execution_count": 17,
   "metadata": {},
   "outputs": [
    {
     "data": {
      "text/html": [
       "<div>\n",
       "<style scoped>\n",
       "    .dataframe tbody tr th:only-of-type {\n",
       "        vertical-align: middle;\n",
       "    }\n",
       "\n",
       "    .dataframe tbody tr th {\n",
       "        vertical-align: top;\n",
       "    }\n",
       "\n",
       "    .dataframe thead th {\n",
       "        text-align: right;\n",
       "    }\n",
       "</style>\n",
       "<table border=\"1\" class=\"dataframe\">\n",
       "  <thead>\n",
       "    <tr style=\"text-align: right;\">\n",
       "      <th></th>\n",
       "      <th>개인ID</th>\n",
       "      <th>도시규모</th>\n",
       "      <th>도시규모별 분석용</th>\n",
       "      <th>광역시도</th>\n",
       "      <th>학교급별</th>\n",
       "      <th>학년</th>\n",
       "      <th>성별</th>\n",
       "      <th>생년월일</th>\n",
       "      <th>건강검진일</th>\n",
       "      <th>키</th>\n",
       "      <th>몸무게</th>\n",
       "    </tr>\n",
       "  </thead>\n",
       "  <tbody>\n",
       "    <tr>\n",
       "      <th>5349</th>\n",
       "      <td>8478114z</td>\n",
       "      <td>특별/광역시</td>\n",
       "      <td>1</td>\n",
       "      <td>광주</td>\n",
       "      <td>초</td>\n",
       "      <td>1</td>\n",
       "      <td>남</td>\n",
       "      <td>20111018</td>\n",
       "      <td>20180607</td>\n",
       "      <td>NaN</td>\n",
       "      <td>NaN</td>\n",
       "    </tr>\n",
       "    <tr>\n",
       "      <th>5969</th>\n",
       "      <td>7789246h</td>\n",
       "      <td>특별/광역시</td>\n",
       "      <td>1</td>\n",
       "      <td>대전</td>\n",
       "      <td>초</td>\n",
       "      <td>2</td>\n",
       "      <td>남</td>\n",
       "      <td>20100318</td>\n",
       "      <td>20180515</td>\n",
       "      <td>NaN</td>\n",
       "      <td>NaN</td>\n",
       "    </tr>\n",
       "    <tr>\n",
       "      <th>11439</th>\n",
       "      <td>5569215m</td>\n",
       "      <td>시</td>\n",
       "      <td>1</td>\n",
       "      <td>충남</td>\n",
       "      <td>초</td>\n",
       "      <td>2</td>\n",
       "      <td>남</td>\n",
       "      <td>20100808</td>\n",
       "      <td>20180529</td>\n",
       "      <td>NaN</td>\n",
       "      <td>NaN</td>\n",
       "    </tr>\n",
       "    <tr>\n",
       "      <th>14696</th>\n",
       "      <td>2753219u</td>\n",
       "      <td>시</td>\n",
       "      <td>1</td>\n",
       "      <td>경북</td>\n",
       "      <td>초</td>\n",
       "      <td>2</td>\n",
       "      <td>여</td>\n",
       "      <td>20100518</td>\n",
       "      <td>20180705</td>\n",
       "      <td>NaN</td>\n",
       "      <td>NaN</td>\n",
       "    </tr>\n",
       "  </tbody>\n",
       "</table>\n",
       "</div>"
      ],
      "text/plain": [
       "           개인ID    도시규모  도시규모별 분석용 광역시도 학교급별  학년 성별      생년월일     건강검진일   키  \\\n",
       "5349   8478114z  특별/광역시          1   광주    초   1  남  20111018  20180607 NaN   \n",
       "5969   7789246h  특별/광역시          1   대전    초   2  남  20100318  20180515 NaN   \n",
       "11439  5569215m       시          1   충남    초   2  남  20100808  20180529 NaN   \n",
       "14696  2753219u       시          1   경북    초   2  여  20100518  20180705 NaN   \n",
       "\n",
       "       몸무게  \n",
       "5349   NaN  \n",
       "5969   NaN  \n",
       "11439  NaN  \n",
       "14696  NaN  "
      ]
     },
     "execution_count": 17,
     "metadata": {},
     "output_type": "execute_result"
    }
   ],
   "source": [
    "# 결측치가 있는 데이터만 가져오기\n",
    "df[df.isna().any(axis=1)]"
   ]
  },
  {
   "cell_type": "code",
   "execution_count": 20,
   "metadata": {},
   "outputs": [
    {
     "data": {
      "text/html": [
       "<div>\n",
       "<style scoped>\n",
       "    .dataframe tbody tr th:only-of-type {\n",
       "        vertical-align: middle;\n",
       "    }\n",
       "\n",
       "    .dataframe tbody tr th {\n",
       "        vertical-align: top;\n",
       "    }\n",
       "\n",
       "    .dataframe thead th {\n",
       "        text-align: right;\n",
       "    }\n",
       "</style>\n",
       "<table border=\"1\" class=\"dataframe\">\n",
       "  <thead>\n",
       "    <tr style=\"text-align: right;\">\n",
       "      <th></th>\n",
       "      <th>개인ID</th>\n",
       "      <th>도시규모</th>\n",
       "      <th>도시규모별 분석용</th>\n",
       "      <th>광역시도</th>\n",
       "      <th>학교급별</th>\n",
       "      <th>학년</th>\n",
       "      <th>성별</th>\n",
       "      <th>생년월일</th>\n",
       "      <th>건강검진일</th>\n",
       "      <th>키</th>\n",
       "      <th>몸무게</th>\n",
       "    </tr>\n",
       "  </thead>\n",
       "  <tbody>\n",
       "    <tr>\n",
       "      <th>45</th>\n",
       "      <td>212611z</td>\n",
       "      <td>특별/광역시</td>\n",
       "      <td>1</td>\n",
       "      <td>서울</td>\n",
       "      <td>초</td>\n",
       "      <td>6</td>\n",
       "      <td>남</td>\n",
       "      <td>20060612</td>\n",
       "      <td>20180402</td>\n",
       "      <td>154.3</td>\n",
       "      <td>67.3</td>\n",
       "    </tr>\n",
       "    <tr>\n",
       "      <th>46</th>\n",
       "      <td>212612x</td>\n",
       "      <td>특별/광역시</td>\n",
       "      <td>1</td>\n",
       "      <td>서울</td>\n",
       "      <td>초</td>\n",
       "      <td>6</td>\n",
       "      <td>남</td>\n",
       "      <td>20060314</td>\n",
       "      <td>20180402</td>\n",
       "      <td>140.2</td>\n",
       "      <td>28.5</td>\n",
       "    </tr>\n",
       "    <tr>\n",
       "      <th>47</th>\n",
       "      <td>212613c</td>\n",
       "      <td>특별/광역시</td>\n",
       "      <td>1</td>\n",
       "      <td>서울</td>\n",
       "      <td>초</td>\n",
       "      <td>6</td>\n",
       "      <td>남</td>\n",
       "      <td>20060727</td>\n",
       "      <td>20180402</td>\n",
       "      <td>156.3</td>\n",
       "      <td>56.6</td>\n",
       "    </tr>\n",
       "  </tbody>\n",
       "</table>\n",
       "</div>"
      ],
      "text/plain": [
       "       개인ID    도시규모  도시규모별 분석용 광역시도 학교급별  학년 성별      생년월일     건강검진일      키  \\\n",
       "45  212611z  특별/광역시          1   서울    초   6  남  20060612  20180402  154.3   \n",
       "46  212612x  특별/광역시          1   서울    초   6  남  20060314  20180402  140.2   \n",
       "47  212613c  특별/광역시          1   서울    초   6  남  20060727  20180402  156.3   \n",
       "\n",
       "     몸무게  \n",
       "45  67.3  \n",
       "46  28.5  \n",
       "47  56.6  "
      ]
     },
     "execution_count": 20,
     "metadata": {},
     "output_type": "execute_result"
    }
   ],
   "source": [
    "six = df[(df.학년 == 6) & (df.성별 == '남')]\n",
    "six.head(3)"
   ]
  },
  {
   "cell_type": "code",
   "execution_count": 21,
   "metadata": {},
   "outputs": [
    {
     "data": {
      "image/png": "[encoded data removed]",
      "text/plain": [
       "<Figure size 300x300 with 1 Axes>"
      ]
     },
     "metadata": {},
     "output_type": "display_data"
    }
   ],
   "source": [
    "# 시각화\n",
    "plt.figure(figsize=(3,3))\n",
    "sns.boxplot(six.키.values)\n",
    "plt.show()"
   ]
  },
  {
   "cell_type": "code",
   "execution_count": 25,
   "metadata": {},
   "outputs": [
    {
     "data": {
      "text/plain": [
       "10.200"
      ]
     },
     "execution_count": 25,
     "metadata": {},
     "output_type": "execute_result"
    }
   ],
   "source": [
    "# 이상치 제거\n",
    "sixm_h = six.키\n",
    "\n",
    "quartile = sixm_h.quantile([0.25,0.75])\n",
    "q1 = quartile[0.25]\n",
    "q3 = quartile[0.75]\n",
    "IQR = q3 - q1\n",
    "IQR"
   ]
  },
  {
   "cell_type": "code",
   "execution_count": 26,
   "metadata": {},
   "outputs": [
    {
     "name": "stdout",
     "output_type": "stream",
     "text": [
      "upper: 172.500, lower: 131.700\n"
     ]
    }
   ],
   "source": [
    "up_hinge = q3 + IQR*1.5\n",
    "lw_hinge = q1 - IQR*1.5\n",
    "print(f'upper: {up_hinge:.3f}, lower: {lw_hinge:.3f}')"
   ]
  },
  {
   "cell_type": "code",
   "execution_count": 30,
   "metadata": {},
   "outputs": [
    {
     "data": {
      "text/plain": [
       "(1370     173.2\n",
       " 3771     175.6\n",
       " 6146     174.1\n",
       " 11857    179.3\n",
       " 12603    174.5\n",
       " 16438    175.0\n",
       " Name: 키, dtype: float64,\n",
       " 207     124.9\n",
       " 8896    129.6\n",
       " 9957    131.5\n",
       " Name: 키, dtype: float64)"
      ]
     },
     "execution_count": 30,
     "metadata": {},
     "output_type": "execute_result"
    }
   ],
   "source": [
    "sixm_h[sixm_h > up_hinge], sixm_h[sixm_h < lw_hinge]"
   ]
  },
  {
   "cell_type": "code",
   "execution_count": 40,
   "metadata": {},
   "outputs": [],
   "source": [
    "def remove_outlier(x):\n",
    "    quartile = x.quantile([0.25,0.75])\n",
    "    q1 = quartile[0.25]\n",
    "    q3 = quartile[0.75]\n",
    "    IQR = q3 - q1\n",
    "    up_hinge = q3 + IQR*1.5\n",
    "    lw_hinge = q1 - IQR*1.5\n",
    "    # print(f'upper: {up_hinge:.3f}, lower: {lw_hinge:.3f}')\n",
    "    return x[(x <= up_hinge) & (x >= lw_hinge)]"
   ]
  },
  {
   "cell_type": "code",
   "execution_count": 45,
   "metadata": {},
   "outputs": [
    {
     "data": {
      "image/png": "[encoded data removed]",
      "text/plain": [
       "<Figure size 300x300 with 1 Axes>"
      ]
     },
     "metadata": {},
     "output_type": "display_data"
    }
   ],
   "source": [
    "# 이상치 제거\n",
    "sixm_out = remove_outlier(sixm_h)\n",
    "\n",
    "# 시각화\n",
    "plt.figure(figsize=(3,3))\n",
    "sns.boxplot(sixm_out.values)\n",
    "plt.show()"
   ]
  },
  {
   "cell_type": "code",
   "execution_count": 48,
   "metadata": {},
   "outputs": [
    {
     "data": {
      "text/plain": [
       "ShapiroResult(statistic=0.9973423480987549, pvalue=0.004537361208349466)"
      ]
     },
     "execution_count": 48,
     "metadata": {},
     "output_type": "execute_result"
    }
   ],
   "source": [
    "# 정규성 검정\n",
    "stats.shapiro(six.키)"
   ]
  },
  {
   "cell_type": "code",
   "execution_count": 24,
   "metadata": {},
   "outputs": [
    {
     "data": {
      "text/plain": [
       "KstestResult(statistic=1.0, pvalue=0.0, statistic_location=124.9, statistic_sign=-1)"
      ]
     },
     "execution_count": 24,
     "metadata": {},
     "output_type": "execute_result"
    }
   ],
   "source": [
    "# K-S 적합도 검정(정규성 검정)\n",
    "stats.ks_1samp(six.키, stats.norm.cdf)"
   ]
  },
  {
   "cell_type": "markdown",
   "metadata": {},
   "source": [
    "표본의 수가 매우 큰 경우 Shapiro-Wilk 검정의 경우 귀무가설을 기각할 가능성이 높아지므로, 정규성 검정을 수행하지 않음.\n",
    "\n",
    "참고. 표본의 수가 2000개 이상인 경우 Jarque_bera test 사용하여 정규성 검정 수행\n",
    "- 왜도와 첨도를 기반으로 하는 적합도(정규성)검정 수행\n",
    "- scipy.stats.jarque_bera()"
   ]
  },
  {
   "cell_type": "code",
   "execution_count": 53,
   "metadata": {},
   "outputs": [
    {
     "data": {
      "text/plain": [
       "SignificanceResult(statistic=8.36245013587501, pvalue=0.015279777330862053)"
      ]
     },
     "execution_count": 53,
     "metadata": {},
     "output_type": "execute_result"
    }
   ],
   "source": [
    "stats.jarque_bera(six.키)"
   ]
  },
  {
   "cell_type": "code",
   "execution_count": 50,
   "metadata": {},
   "outputs": [
    {
     "data": {
      "text/plain": [
       "TtestResult(statistic=-0.8239901093043531, pvalue=0.7949714928673939, df=1757)"
      ]
     },
     "execution_count": 50,
     "metadata": {},
     "output_type": "execute_result"
    }
   ],
   "source": [
    "# ttest 수행(이상치 제거 전)\n",
    "# 귀무가설: 남학생 평균 키 = 152.5\n",
    "# 대립가설: 남학생 평균 키 > 152.5\n",
    "stats.ttest_1samp(six.키, popmean= 152.5, alternative='greater')"
   ]
  },
  {
   "cell_type": "code",
   "execution_count": 52,
   "metadata": {},
   "outputs": [
    {
     "data": {
      "text/plain": [
       "TtestResult(statistic=-1.0550667389955646, pvalue=0.854229697064722, df=1748)"
      ]
     },
     "execution_count": 52,
     "metadata": {},
     "output_type": "execute_result"
    }
   ],
   "source": [
    "# ttest 수행(이상치 제거 후)\n",
    "stats.ttest_1samp(sixm_out, popmean= 152.5, alternative='greater')"
   ]
  },
  {
   "cell_type": "markdown",
   "metadata": {},
   "source": [
    "결론 => 귀무가설을 기각할 수 없다. -> 6학년 남학생의 평균 키는 152.5보다 크지않다.\n"
   ]
  },
  {
   "cell_type": "markdown",
   "metadata": {},
   "source": [
    "### 문제2.\n",
    "\n",
    "초등학교 1학년 남자와 여자의 혈압에 차이가 있는지 유의수준 5%에서 가설검정을 수행하시오.(모분산을 모름)"
   ]
  },
  {
   "cell_type": "code",
   "execution_count": 55,
   "metadata": {},
   "outputs": [],
   "source": [
    "male = [114, 96, 80, 102, 94, 94, 98, 92, 94, 100, 108, 110, 90, 90, 82, 106]\n",
    "female = [108, 98, 88, 86, 100, 98, 104, 102, 94]"
   ]
  },
  {
   "cell_type": "code",
   "execution_count": 58,
   "metadata": {},
   "outputs": [
    {
     "data": {
      "image/png": "[encoded data removed]",
      "text/plain": [
       "<Figure size 400x400 with 1 Axes>"
      ]
     },
     "metadata": {},
     "output_type": "display_data"
    }
   ],
   "source": [
    "# 1. EDA\n",
    "plt.figure(figsize=(4,4))\n",
    "plt.boxplot([male, female])\n",
    "plt.xticks([1,2], ['male','female'])\n",
    "\n",
    "plt.show()"
   ]
  },
  {
   "cell_type": "code",
   "execution_count": 43,
   "metadata": {},
   "outputs": [
    {
     "data": {
      "text/plain": [
       "(ShapiroResult(statistic=0.9729188680648804, pvalue=0.8833826780319214),\n",
       " ShapiroResult(statistic=0.9574437141418457, pvalue=0.7712220549583435))"
      ]
     },
     "execution_count": 43,
     "metadata": {},
     "output_type": "execute_result"
    }
   ],
   "source": [
    "# 2. 정규성 검정\n",
    "stats.shapiro(male), stats.shapiro(female)"
   ]
  },
  {
   "cell_type": "code",
   "execution_count": 45,
   "metadata": {},
   "outputs": [
    {
     "data": {
      "text/plain": [
       "LeveneResult(statistic=0.782472546935884, pvalue=0.38554013266768483)"
      ]
     },
     "execution_count": 45,
     "metadata": {},
     "output_type": "execute_result"
    }
   ],
   "source": [
    "# 3. 등분산성 검정\n",
    "stats.levene(male, female)"
   ]
  },
  {
   "cell_type": "code",
   "execution_count": 46,
   "metadata": {},
   "outputs": [
    {
     "data": {
      "text/plain": [
       "TtestResult(statistic=-0.18597961132240054, pvalue=0.8540912649163084, df=23.0)"
      ]
     },
     "execution_count": 46,
     "metadata": {},
     "output_type": "execute_result"
    }
   ],
   "source": [
    "# 4. 독립표본 ttest 수행\n",
    "stats.ttest_ind(male, female)"
   ]
  },
  {
   "cell_type": "markdown",
   "metadata": {},
   "source": [
    "결론: 두 그룹의 평균은 차이가 없다. -> 귀무가설을 기각할 수 없다. -> 1학년 여자와 남자의 혈압은 차이가 있다."
   ]
  },
  {
   "cell_type": "markdown",
   "metadata": {},
   "source": [
    "---"
   ]
  }
 ],
 "metadata": {
  "kernelspec": {
   "display_name": "Python 3 (ipykernel)",
   "language": "python",
   "name": "python3"
  },
  "language_info": {
   "codemirror_mode": {
    "name": "ipython",
    "version": 3
   },
   "file_extension": ".py",
   "mimetype": "text/x-python",
   "name": "python",
   "nbconvert_exporter": "python",
   "pygments_lexer": "ipython3",
   "version": "3.11.7"
  }
 },
 "nbformat": 4,
 "nbformat_minor": 4
}
