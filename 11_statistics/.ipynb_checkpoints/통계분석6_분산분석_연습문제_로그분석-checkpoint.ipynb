{
 "cells": [
  {
   "cell_type": "markdown",
   "id": "4c331bd3",
   "metadata": {},
   "source": [
    "# 연습문제: 로그 데이터 분석"
   ]
  },
  {
   "cell_type": "markdown",
   "id": "be7f156e",
   "metadata": {},
   "source": [
    "다음 데이터는 깃허브 서비스에서 요일 별 사용자들의 푸시 횟수로, 요일별로 푸시 횟수가 다르다고 한다. 분산분석을 수행하여 검증하시오.\n",
    "\n",
    "- 데이터파일 : log_push.csv"
   ]
  },
  {
   "cell_type": "markdown",
   "id": "b41c2b56",
   "metadata": {},
   "source": [
    "### 필요 모듈 임포트"
   ]
  },
  {
   "cell_type": "code",
   "execution_count": 5,
   "id": "ab0c39c6",
   "metadata": {},
   "outputs": [],
   "source": [
    "import numpy as np\n",
    "import pandas as pd\n",
    "import matplotlib.pyplot as plt\n",
    "import seaborn as sns\n",
    "from scipy import stats \n",
    "plt.rcParams[\"font.family\"] = 'Malgun Gothic'\n",
    "\n",
    "%precision 3\n",
    "\n",
    "# 분산분석을 위한 모듈들 임포트\n",
    "import statsmodels\n",
    "from statsmodels.formula.api import ols\n",
    "from statsmodels.stats.anova import anova_lm"
   ]
  },
  {
   "cell_type": "markdown",
   "id": "674551be",
   "metadata": {},
   "source": [
    "### 데이터 수집"
   ]
  },
  {
   "cell_type": "code",
   "execution_count": 6,
   "id": "cabea8df",
   "metadata": {},
   "outputs": [
    {
     "data": {
      "text/html": [
       "<div>\n",
       "<style scoped>\n",
       "    .dataframe tbody tr th:only-of-type {\n",
       "        vertical-align: middle;\n",
       "    }\n",
       "\n",
       "    .dataframe tbody tr th {\n",
       "        vertical-align: top;\n",
       "    }\n",
       "\n",
       "    .dataframe thead th {\n",
       "        text-align: right;\n",
       "    }\n",
       "</style>\n",
       "<table border=\"1\" class=\"dataframe\">\n",
       "  <thead>\n",
       "    <tr style=\"text-align: right;\">\n",
       "      <th></th>\n",
       "      <th>log_date</th>\n",
       "      <th>push_count</th>\n",
       "    </tr>\n",
       "  </thead>\n",
       "  <tbody>\n",
       "    <tr>\n",
       "      <th>0</th>\n",
       "      <td>19-02-01</td>\n",
       "      <td>736729</td>\n",
       "    </tr>\n",
       "    <tr>\n",
       "      <th>1</th>\n",
       "      <td>19-02-02</td>\n",
       "      <td>511067</td>\n",
       "    </tr>\n",
       "    <tr>\n",
       "      <th>2</th>\n",
       "      <td>19-02-03</td>\n",
       "      <td>528724</td>\n",
       "    </tr>\n",
       "  </tbody>\n",
       "</table>\n",
       "</div>"
      ],
      "text/plain": [
       "   log_date  push_count\n",
       "0  19-02-01      736729\n",
       "1  19-02-02      511067\n",
       "2  19-02-03      528724"
      ]
     },
     "execution_count": 6,
     "metadata": {},
     "output_type": "execute_result"
    }
   ],
   "source": [
    "log = pd.read_csv('data/log_push.csv')\n",
    "log.head(3)"
   ]
  },
  {
   "cell_type": "markdown",
   "id": "97542179",
   "metadata": {},
   "source": [
    "### 데이터 기초 정보 파악"
   ]
  },
  {
   "cell_type": "markdown",
   "id": "7ab33234",
   "metadata": {},
   "source": [
    ": 데이터 일부, 변수, 관측값수, 결측치 여부, 변수의 데이터타입, 기술통계량 등을 확인"
   ]
  },
  {
   "cell_type": "code",
   "execution_count": 5,
   "id": "3fcd67af",
   "metadata": {},
   "outputs": [
    {
     "name": "stdout",
     "output_type": "stream",
     "text": [
      "<class 'pandas.core.frame.DataFrame'>\n",
      "RangeIndex: 348 entries, 0 to 347\n",
      "Data columns (total 2 columns):\n",
      " #   Column      Non-Null Count  Dtype \n",
      "---  ------      --------------  ----- \n",
      " 0   log_date    348 non-null    object\n",
      " 1   push_count  348 non-null    int64 \n",
      "dtypes: int64(1), object(1)\n",
      "memory usage: 5.6+ KB\n"
     ]
    }
   ],
   "source": [
    "log.info()"
   ]
  },
  {
   "cell_type": "code",
   "execution_count": 6,
   "id": "8ccfd0e5",
   "metadata": {},
   "outputs": [
    {
     "data": {
      "text/html": [
       "<div>\n",
       "<style scoped>\n",
       "    .dataframe tbody tr th:only-of-type {\n",
       "        vertical-align: middle;\n",
       "    }\n",
       "\n",
       "    .dataframe tbody tr th {\n",
       "        vertical-align: top;\n",
       "    }\n",
       "\n",
       "    .dataframe thead th {\n",
       "        text-align: right;\n",
       "    }\n",
       "</style>\n",
       "<table border=\"1\" class=\"dataframe\">\n",
       "  <thead>\n",
       "    <tr style=\"text-align: right;\">\n",
       "      <th></th>\n",
       "      <th>push_count</th>\n",
       "    </tr>\n",
       "  </thead>\n",
       "  <tbody>\n",
       "    <tr>\n",
       "      <th>count</th>\n",
       "      <td>3.480000e+02</td>\n",
       "    </tr>\n",
       "    <tr>\n",
       "      <th>mean</th>\n",
       "      <td>8.725456e+05</td>\n",
       "    </tr>\n",
       "    <tr>\n",
       "      <th>std</th>\n",
       "      <td>1.522160e+05</td>\n",
       "    </tr>\n",
       "    <tr>\n",
       "      <th>min</th>\n",
       "      <td>2.861550e+05</td>\n",
       "    </tr>\n",
       "    <tr>\n",
       "      <th>25%</th>\n",
       "      <td>7.229318e+05</td>\n",
       "    </tr>\n",
       "    <tr>\n",
       "      <th>50%</th>\n",
       "      <td>9.278870e+05</td>\n",
       "    </tr>\n",
       "    <tr>\n",
       "      <th>75%</th>\n",
       "      <td>9.864538e+05</td>\n",
       "    </tr>\n",
       "    <tr>\n",
       "      <th>max</th>\n",
       "      <td>1.135921e+06</td>\n",
       "    </tr>\n",
       "  </tbody>\n",
       "</table>\n",
       "</div>"
      ],
      "text/plain": [
       "         push_count\n",
       "count  3.480000e+02\n",
       "mean   8.725456e+05\n",
       "std    1.522160e+05\n",
       "min    2.861550e+05\n",
       "25%    7.229318e+05\n",
       "50%    9.278870e+05\n",
       "75%    9.864538e+05\n",
       "max    1.135921e+06"
      ]
     },
     "execution_count": 6,
     "metadata": {},
     "output_type": "execute_result"
    }
   ],
   "source": [
    "log.describe()"
   ]
  },
  {
   "cell_type": "code",
   "execution_count": 9,
   "id": "8a84ec87",
   "metadata": {},
   "outputs": [
    {
     "data": {
      "text/plain": [
       "log_date      0\n",
       "push_count    0\n",
       "dtype: int64"
      ]
     },
     "execution_count": 9,
     "metadata": {},
     "output_type": "execute_result"
    }
   ],
   "source": [
    "log.isna().sum()"
   ]
  },
  {
   "cell_type": "markdown",
   "id": "d0d0310f",
   "metadata": {},
   "source": [
    "### 데이터 가공"
   ]
  },
  {
   "cell_type": "markdown",
   "id": "0b4f7902",
   "metadata": {},
   "source": [
    "#### log_date컬럼을 이용하여 요일 컬럼(day_of_week) 생성"
   ]
  },
  {
   "cell_type": "markdown",
   "id": "0c7d73e2",
   "metadata": {},
   "source": [
    "- log_date를 날짜형식으로 변경"
   ]
  },
  {
   "cell_type": "code",
   "execution_count": 7,
   "id": "763e65c7-560b-47e7-a247-4da017219310",
   "metadata": {},
   "outputs": [
    {
     "data": {
      "text/plain": [
       "0     2019-02-01\n",
       "1     2019-02-02\n",
       "2     2019-02-03\n",
       "3     2019-02-04\n",
       "4     2019-02-05\n",
       "         ...    \n",
       "343   2020-01-10\n",
       "344   2020-01-11\n",
       "345   2020-01-12\n",
       "346   2020-01-13\n",
       "347   2020-01-14\n",
       "Name: date, Length: 348, dtype: datetime64[ns]"
      ]
     },
     "execution_count": 7,
     "metadata": {},
     "output_type": "execute_result"
    }
   ],
   "source": [
    "log.log_date = '20' + log.log_date\n",
    "\n",
    "log['date'] = pd.to_datetime(log['log_date'])\n",
    "log.date"
   ]
  },
  {
   "cell_type": "markdown",
   "id": "4afc11ff",
   "metadata": {},
   "source": [
    "- log_date를 이용하여 요일 컬럼(day_of_week) 생성"
   ]
  },
  {
   "cell_type": "code",
   "execution_count": 8,
   "id": "46c1bc5f",
   "metadata": {},
   "outputs": [
    {
     "data": {
      "text/html": [
       "<div>\n",
       "<style scoped>\n",
       "    .dataframe tbody tr th:only-of-type {\n",
       "        vertical-align: middle;\n",
       "    }\n",
       "\n",
       "    .dataframe tbody tr th {\n",
       "        vertical-align: top;\n",
       "    }\n",
       "\n",
       "    .dataframe thead th {\n",
       "        text-align: right;\n",
       "    }\n",
       "</style>\n",
       "<table border=\"1\" class=\"dataframe\">\n",
       "  <thead>\n",
       "    <tr style=\"text-align: right;\">\n",
       "      <th></th>\n",
       "      <th>log_date</th>\n",
       "      <th>push_count</th>\n",
       "      <th>date</th>\n",
       "      <th>day_of_week</th>\n",
       "    </tr>\n",
       "  </thead>\n",
       "  <tbody>\n",
       "    <tr>\n",
       "      <th>0</th>\n",
       "      <td>2019-02-01</td>\n",
       "      <td>736729</td>\n",
       "      <td>2019-02-01</td>\n",
       "      <td>Friday</td>\n",
       "    </tr>\n",
       "    <tr>\n",
       "      <th>1</th>\n",
       "      <td>2019-02-02</td>\n",
       "      <td>511067</td>\n",
       "      <td>2019-02-02</td>\n",
       "      <td>Saturday</td>\n",
       "    </tr>\n",
       "    <tr>\n",
       "      <th>2</th>\n",
       "      <td>2019-02-03</td>\n",
       "      <td>528724</td>\n",
       "      <td>2019-02-03</td>\n",
       "      <td>Sunday</td>\n",
       "    </tr>\n",
       "  </tbody>\n",
       "</table>\n",
       "</div>"
      ],
      "text/plain": [
       "     log_date  push_count       date day_of_week\n",
       "0  2019-02-01      736729 2019-02-01      Friday\n",
       "1  2019-02-02      511067 2019-02-02    Saturday\n",
       "2  2019-02-03      528724 2019-02-03      Sunday"
      ]
     },
     "execution_count": 8,
     "metadata": {},
     "output_type": "execute_result"
    }
   ],
   "source": [
    "log['day_of_week'] = log['date'].dt.day_name()\n",
    "log.head(3)"
   ]
  },
  {
   "cell_type": "markdown",
   "id": "9e316104",
   "metadata": {},
   "source": [
    "- 요일 컬럼의 데이터를 범주형(Category)으로 변경 "
   ]
  },
  {
   "cell_type": "code",
   "execution_count": 9,
   "id": "9f138b6e",
   "metadata": {
    "scrolled": true
   },
   "outputs": [],
   "source": [
    "log['day_of_week'] = log['day_of_week'].astype('category')"
   ]
  },
  {
   "cell_type": "code",
   "execution_count": 30,
   "id": "25e0481d",
   "metadata": {
    "scrolled": true
   },
   "outputs": [
    {
     "name": "stdout",
     "output_type": "stream",
     "text": [
      "<class 'pandas.core.frame.DataFrame'>\n",
      "RangeIndex: 348 entries, 0 to 347\n",
      "Data columns (total 4 columns):\n",
      " #   Column       Non-Null Count  Dtype         \n",
      "---  ------       --------------  -----         \n",
      " 0   log_date     348 non-null    object        \n",
      " 1   push_count   348 non-null    int64         \n",
      " 2   date         348 non-null    datetime64[ns]\n",
      " 3   day_of_week  348 non-null    category      \n",
      "dtypes: category(1), datetime64[ns](1), int64(1), object(1)\n",
      "memory usage: 9.0+ KB\n"
     ]
    }
   ],
   "source": [
    "log.info()"
   ]
  },
  {
   "cell_type": "markdown",
   "id": "cc0a80b2",
   "metadata": {},
   "source": [
    "### 데이터 탐색 및 시각화"
   ]
  },
  {
   "cell_type": "markdown",
   "id": "a88860c9",
   "metadata": {},
   "source": [
    "#### 요일별 빈도수"
   ]
  },
  {
   "cell_type": "code",
   "execution_count": 31,
   "id": "82d107b3",
   "metadata": {
    "scrolled": true
   },
   "outputs": [
    {
     "data": {
      "text/plain": [
       "day_of_week\n",
       "Friday       50\n",
       "Monday       50\n",
       "Saturday     50\n",
       "Sunday       50\n",
       "Tuesday      50\n",
       "Thursday     49\n",
       "Wednesday    49\n",
       "Name: count, dtype: int64"
      ]
     },
     "execution_count": 31,
     "metadata": {},
     "output_type": "execute_result"
    }
   ],
   "source": [
    "log.day_of_week.value_counts()"
   ]
  },
  {
   "cell_type": "markdown",
   "id": "dd360411",
   "metadata": {},
   "source": [
    "#### 요일별 push수에 대한 기술통계량"
   ]
  },
  {
   "cell_type": "code",
   "execution_count": 38,
   "id": "03add5eb",
   "metadata": {},
   "outputs": [
    {
     "name": "stderr",
     "output_type": "stream",
     "text": [
      "C:\\Users\\gillhk\\AppData\\Local\\Temp\\ipykernel_23428\\1441212783.py:1: FutureWarning: The default of observed=False is deprecated and will be changed to True in a future version of pandas. Pass observed=False to retain current behavior or observed=True to adopt the future default and silence this warning.\n",
      "  log['push_count'].groupby(log.day_of_week).describe()\n"
     ]
    },
    {
     "data": {
      "text/html": [
       "<div>\n",
       "<style scoped>\n",
       "    .dataframe tbody tr th:only-of-type {\n",
       "        vertical-align: middle;\n",
       "    }\n",
       "\n",
       "    .dataframe tbody tr th {\n",
       "        vertical-align: top;\n",
       "    }\n",
       "\n",
       "    .dataframe thead th {\n",
       "        text-align: right;\n",
       "    }\n",
       "</style>\n",
       "<table border=\"1\" class=\"dataframe\">\n",
       "  <thead>\n",
       "    <tr style=\"text-align: right;\">\n",
       "      <th></th>\n",
       "      <th>count</th>\n",
       "      <th>mean</th>\n",
       "      <th>std</th>\n",
       "      <th>min</th>\n",
       "      <th>25%</th>\n",
       "      <th>50%</th>\n",
       "      <th>75%</th>\n",
       "      <th>max</th>\n",
       "    </tr>\n",
       "    <tr>\n",
       "      <th>day_of_week</th>\n",
       "      <th></th>\n",
       "      <th></th>\n",
       "      <th></th>\n",
       "      <th></th>\n",
       "      <th></th>\n",
       "      <th></th>\n",
       "      <th></th>\n",
       "      <th></th>\n",
       "    </tr>\n",
       "  </thead>\n",
       "  <tbody>\n",
       "    <tr>\n",
       "      <th>Friday</th>\n",
       "      <td>50.0</td>\n",
       "      <td>897827.440000</td>\n",
       "      <td>68275.935770</td>\n",
       "      <td>660287.0</td>\n",
       "      <td>872606.25</td>\n",
       "      <td>906519.5</td>\n",
       "      <td>928941.00</td>\n",
       "      <td>1022900.0</td>\n",
       "    </tr>\n",
       "    <tr>\n",
       "      <th>Monday</th>\n",
       "      <td>50.0</td>\n",
       "      <td>955284.360000</td>\n",
       "      <td>70766.469732</td>\n",
       "      <td>709256.0</td>\n",
       "      <td>921506.75</td>\n",
       "      <td>954091.0</td>\n",
       "      <td>1004844.25</td>\n",
       "      <td>1087212.0</td>\n",
       "    </tr>\n",
       "    <tr>\n",
       "      <th>Saturday</th>\n",
       "      <td>50.0</td>\n",
       "      <td>657864.100000</td>\n",
       "      <td>46452.600564</td>\n",
       "      <td>511067.0</td>\n",
       "      <td>636199.75</td>\n",
       "      <td>653765.0</td>\n",
       "      <td>696757.50</td>\n",
       "      <td>738410.0</td>\n",
       "    </tr>\n",
       "    <tr>\n",
       "      <th>Sunday</th>\n",
       "      <td>50.0</td>\n",
       "      <td>689255.040000</td>\n",
       "      <td>51013.933708</td>\n",
       "      <td>528724.0</td>\n",
       "      <td>650460.50</td>\n",
       "      <td>695012.0</td>\n",
       "      <td>730139.75</td>\n",
       "      <td>766976.0</td>\n",
       "    </tr>\n",
       "    <tr>\n",
       "      <th>Thursday</th>\n",
       "      <td>49.0</td>\n",
       "      <td>952641.510204</td>\n",
       "      <td>118751.401232</td>\n",
       "      <td>286155.0</td>\n",
       "      <td>940762.00</td>\n",
       "      <td>963577.0</td>\n",
       "      <td>1008383.00</td>\n",
       "      <td>1109582.0</td>\n",
       "    </tr>\n",
       "    <tr>\n",
       "      <th>Tuesday</th>\n",
       "      <td>50.0</td>\n",
       "      <td>987446.620000</td>\n",
       "      <td>83908.212000</td>\n",
       "      <td>693257.0</td>\n",
       "      <td>960108.25</td>\n",
       "      <td>987347.5</td>\n",
       "      <td>1015885.00</td>\n",
       "      <td>1135921.0</td>\n",
       "    </tr>\n",
       "    <tr>\n",
       "      <th>Wednesday</th>\n",
       "      <td>49.0</td>\n",
       "      <td>971072.448980</td>\n",
       "      <td>102305.775606</td>\n",
       "      <td>570350.0</td>\n",
       "      <td>945094.00</td>\n",
       "      <td>985706.0</td>\n",
       "      <td>1029029.00</td>\n",
       "      <td>1121567.0</td>\n",
       "    </tr>\n",
       "  </tbody>\n",
       "</table>\n",
       "</div>"
      ],
      "text/plain": [
       "             count           mean            std       min        25%  \\\n",
       "day_of_week                                                             \n",
       "Friday        50.0  897827.440000   68275.935770  660287.0  872606.25   \n",
       "Monday        50.0  955284.360000   70766.469732  709256.0  921506.75   \n",
       "Saturday      50.0  657864.100000   46452.600564  511067.0  636199.75   \n",
       "Sunday        50.0  689255.040000   51013.933708  528724.0  650460.50   \n",
       "Thursday      49.0  952641.510204  118751.401232  286155.0  940762.00   \n",
       "Tuesday       50.0  987446.620000   83908.212000  693257.0  960108.25   \n",
       "Wednesday     49.0  971072.448980  102305.775606  570350.0  945094.00   \n",
       "\n",
       "                  50%         75%        max  \n",
       "day_of_week                                   \n",
       "Friday       906519.5   928941.00  1022900.0  \n",
       "Monday       954091.0  1004844.25  1087212.0  \n",
       "Saturday     653765.0   696757.50   738410.0  \n",
       "Sunday       695012.0   730139.75   766976.0  \n",
       "Thursday     963577.0  1008383.00  1109582.0  \n",
       "Tuesday      987347.5  1015885.00  1135921.0  \n",
       "Wednesday    985706.0  1029029.00  1121567.0  "
      ]
     },
     "execution_count": 38,
     "metadata": {},
     "output_type": "execute_result"
    }
   ],
   "source": [
    "log['push_count'].groupby(log.day_of_week).describe()"
   ]
  },
  {
   "cell_type": "markdown",
   "id": "490bd09f",
   "metadata": {},
   "source": [
    "#### 요일별 push수에 대한 박스플롯"
   ]
  },
  {
   "cell_type": "code",
   "execution_count": 10,
   "id": "afb2d004",
   "metadata": {
    "scrolled": true
   },
   "outputs": [
    {
     "name": "stderr",
     "output_type": "stream",
     "text": [
      "C:\\ProgramData\\anaconda3\\Lib\\site-packages\\seaborn\\categorical.py:641: FutureWarning: The default of observed=False is deprecated and will be changed to True in a future version of pandas. Pass observed=False to retain current behavior or observed=True to adopt the future default and silence this warning.\n",
      "  grouped_vals = vals.groupby(grouper)\n"
     ]
    },
    {
     "data": {
      "image/png": "[encoded data removed]",
      "text/plain": [
       "<Figure size 300x300 with 1 Axes>"
      ]
     },
     "metadata": {},
     "output_type": "display_data"
    }
   ],
   "source": [
    "plt.figure(figsize=(3,3))\n",
    "sns.boxplot(x=log.day_of_week, y=log.push_count)\n",
    "plt.show()"
   ]
  },
  {
   "cell_type": "markdown",
   "id": "9c266409",
   "metadata": {},
   "source": [
    "#### push_count에 대한 요일별  히스토그램\n",
    "\n",
    "- matplotlib을 이용하여 요일별 히스토그램을 한 윈도우에 겹쳐서 그리기"
   ]
  },
  {
   "cell_type": "code",
   "execution_count": 11,
   "id": "1607464b-4ac8-4cf3-a5ee-e62cd5816c6b",
   "metadata": {},
   "outputs": [
    {
     "data": {
      "text/plain": [
       "['Friday', 'Saturday', 'Sunday', 'Monday', 'Tuesday', 'Wednesday', 'Thursday']"
      ]
     },
     "execution_count": 11,
     "metadata": {},
     "output_type": "execute_result"
    }
   ],
   "source": [
    "log.day_of_week.unique().tolist()"
   ]
  },
  {
   "cell_type": "code",
   "execution_count": 12,
   "id": "854872e2",
   "metadata": {},
   "outputs": [
    {
     "data": {
      "image/png": "[encoded data removed]",
      "text/plain": [
       "<Figure size 640x480 with 1 Axes>"
      ]
     },
     "metadata": {},
     "output_type": "display_data"
    }
   ],
   "source": [
    "days = log.day_of_week.unique().tolist()\n",
    "\n",
    "for day in days:\n",
    "\n",
    "    text = log[log['day_of_week'] == day]\n",
    "    plt.hist(text['push_count'], label=day)\n",
    "\n",
    "plt.legend()\n",
    "plt.xlabel('Push_count')\n",
    "plt.ylabel('빈도')\n",
    "plt.show()"
   ]
  },
  {
   "cell_type": "markdown",
   "id": "a4a3298a",
   "metadata": {},
   "source": [
    "- seaborn을 이용하여 요일별 히스토그램 그리기"
   ]
  },
  {
   "cell_type": "code",
   "execution_count": 47,
   "id": "7e4ff277",
   "metadata": {
    "scrolled": true
   },
   "outputs": [
    {
     "name": "stderr",
     "output_type": "stream",
     "text": [
      "C:\\ProgramData\\anaconda3\\Lib\\site-packages\\seaborn\\_oldcore.py:1119: FutureWarning: use_inf_as_na option is deprecated and will be removed in a future version. Convert inf values to NaN before operating instead.\n",
      "  with pd.option_context('mode.use_inf_as_na', True):\n",
      "C:\\ProgramData\\anaconda3\\Lib\\site-packages\\seaborn\\_oldcore.py:1057: FutureWarning: The default of observed=False is deprecated and will be changed to True in a future version of pandas. Pass observed=False to retain current behavior or observed=True to adopt the future default and silence this warning.\n",
      "  grouped_data = data.groupby(\n"
     ]
    },
    {
     "data": {
      "image/png": "[encoded data removed]",
      "text/plain": [
       "<Figure size 640x480 with 1 Axes>"
      ]
     },
     "metadata": {},
     "output_type": "display_data"
    }
   ],
   "source": [
    "sns.histplot(x=log.push_count, hue=log.day_of_week)\n",
    "plt.show()"
   ]
  },
  {
   "cell_type": "markdown",
   "id": "19f6a78c",
   "metadata": {},
   "source": [
    "### 이상치 탐색 및 제거"
   ]
  },
  {
   "cell_type": "code",
   "execution_count": 39,
   "id": "66e2ebed-c1b1-4b27-b7d7-36936a95e069",
   "metadata": {},
   "outputs": [],
   "source": [
    "# 이상치 제거 함수\n",
    "def remove_outliers(day):\n",
    "    q1 = day['push_count'].quantile(0.25)\n",
    "    q3 = day['push_count'].quantile(0.75)\n",
    "    IQR = q3 - q1\n",
    "    lower = q1 - 1.5 * IQR\n",
    "    upper = q3 + 1.5 * IQR\n",
    "    return day[(day['push_count'] >= lower) & (day['push_count'] <= upper)]"
   ]
  },
  {
   "cell_type": "code",
   "execution_count": 41,
   "id": "91634c7f-b1f9-46a8-b9a0-1dc2f10a914b",
   "metadata": {},
   "outputs": [
    {
     "data": {
      "text/html": [
       "<div>\n",
       "<style scoped>\n",
       "    .dataframe tbody tr th:only-of-type {\n",
       "        vertical-align: middle;\n",
       "    }\n",
       "\n",
       "    .dataframe tbody tr th {\n",
       "        vertical-align: top;\n",
       "    }\n",
       "\n",
       "    .dataframe thead th {\n",
       "        text-align: right;\n",
       "    }\n",
       "</style>\n",
       "<table border=\"1\" class=\"dataframe\">\n",
       "  <thead>\n",
       "    <tr style=\"text-align: right;\">\n",
       "      <th></th>\n",
       "      <th>log_date</th>\n",
       "      <th>push_count</th>\n",
       "      <th>date</th>\n",
       "      <th>day_of_week</th>\n",
       "    </tr>\n",
       "  </thead>\n",
       "  <tbody>\n",
       "    <tr>\n",
       "      <th>0</th>\n",
       "      <td>2019-02-07</td>\n",
       "      <td>855820</td>\n",
       "      <td>2019-02-07</td>\n",
       "      <td>Thursday</td>\n",
       "    </tr>\n",
       "    <tr>\n",
       "      <th>1</th>\n",
       "      <td>2019-02-14</td>\n",
       "      <td>910286</td>\n",
       "      <td>2019-02-14</td>\n",
       "      <td>Thursday</td>\n",
       "    </tr>\n",
       "    <tr>\n",
       "      <th>2</th>\n",
       "      <td>2019-02-21</td>\n",
       "      <td>955522</td>\n",
       "      <td>2019-02-21</td>\n",
       "      <td>Thursday</td>\n",
       "    </tr>\n",
       "  </tbody>\n",
       "</table>\n",
       "</div>"
      ],
      "text/plain": [
       "     log_date  push_count       date day_of_week\n",
       "0  2019-02-07      855820 2019-02-07    Thursday\n",
       "1  2019-02-14      910286 2019-02-14    Thursday\n",
       "2  2019-02-21      955522 2019-02-21    Thursday"
      ]
     },
     "execution_count": 41,
     "metadata": {},
     "output_type": "execute_result"
    }
   ],
   "source": [
    "# 이상치 제거\n",
    "days = log.day_of_week.unique().tolist()\n",
    "log_clean = pd.DataFrame()  # 빈 데이터프레임 생성\n",
    "for day in days:\n",
    "    df = remove_outliers(log[log['day_of_week'] == day])\n",
    "    if log_clean1 is False:\n",
    "        log_clean1 = pd.concat([log_clean, df], ignore_index=True)\n",
    "    else:\n",
    "        log_clean1 = pd.concat([log_clean1, df], ignore_index=True)\n",
    "log_clean1.head(3)"
   ]
  },
  {
   "cell_type": "markdown",
   "id": "610ef47e",
   "metadata": {},
   "source": [
    "#### 이상치 제거 후 push_count의 요일별 박스플롯"
   ]
  },
  {
   "cell_type": "code",
   "execution_count": 42,
   "id": "27fcba05-a1bc-4b89-b95f-933308ab1d2c",
   "metadata": {},
   "outputs": [
    {
     "data": {
      "text/plain": [
       "<Figure size 600x400 with 0 Axes>"
      ]
     },
     "metadata": {},
     "output_type": "display_data"
    },
    {
     "data": {
      "image/png": "[encoded data removed]",
      "text/plain": [
       "<Figure size 640x480 with 1 Axes>"
      ]
     },
     "metadata": {},
     "output_type": "display_data"
    }
   ],
   "source": [
    "plt.figure(figsize=(6, 4))\n",
    "log_clean1.boxplot(column='push_count', by='day_of_week')\n",
    "plt.xlabel('요일')\n",
    "plt.ylabel('Push 수')\n",
    "plt.show()"
   ]
  },
  {
   "cell_type": "markdown",
   "id": "12ed1b30",
   "metadata": {},
   "source": [
    "## 일원분산분석"
   ]
  },
  {
   "cell_type": "markdown",
   "id": "1a6fcd42",
   "metadata": {},
   "source": [
    "### 1. 가설 설정"
   ]
  },
  {
   "cell_type": "raw",
   "id": "223bcdce",
   "metadata": {},
   "source": [
    "H0 : 요일 별 푸시 횟수는 같다\n",
    "H1 : 요일 별 푸시 횟수는 같지않다."
   ]
  },
  {
   "cell_type": "markdown",
   "id": "184dc098",
   "metadata": {},
   "source": [
    "### 2. 정규성 검정"
   ]
  },
  {
   "cell_type": "markdown",
   "id": "891f0fc9",
   "metadata": {},
   "source": [
    "- 원 데이터로 요일별 push_count의 정규성 검정"
   ]
  },
  {
   "cell_type": "code",
   "execution_count": 49,
   "id": "a2e06d7c",
   "metadata": {},
   "outputs": [
    {
     "name": "stdout",
     "output_type": "stream",
     "text": [
      "Friday = ShapiroResult(statistic=0.9204057455062866, pvalue=0.0024389552418142557)\n",
      "Saturday = ShapiroResult(statistic=0.9624285101890564, pvalue=0.11236860603094101)\n",
      "Sunday = ShapiroResult(statistic=0.9517913460731506, pvalue=0.04043339192867279)\n",
      "Monday = ShapiroResult(statistic=0.9503620862960815, pvalue=0.03530443087220192)\n",
      "Tuesday = ShapiroResult(statistic=0.8026376962661743, pvalue=1.0089271427204949e-06)\n",
      "Wednesday = ShapiroResult(statistic=0.7955165505409241, pvalue=8.438798886345467e-07)\n",
      "Thursday = ShapiroResult(statistic=0.6433736085891724, pvalue=1.169132346490187e-09)\n"
     ]
    }
   ],
   "source": [
    "days = log.day_of_week.unique().tolist()\n",
    "\n",
    "for day in days:\n",
    "    text = log[log['day_of_week'] == day].push_count\n",
    "    print(f'{day} = {stats.shapiro(text)}')"
   ]
  },
  {
   "cell_type": "markdown",
   "id": "cfc2e5b1",
   "metadata": {},
   "source": [
    "- 이상치 제거한 데이터로 요일별 push_count의 정규성 검정"
   ]
  },
  {
   "cell_type": "code",
   "execution_count": 44,
   "id": "dc26ead1",
   "metadata": {},
   "outputs": [
    {
     "name": "stdout",
     "output_type": "stream",
     "text": [
      "Thursday = ShapiroResult(statistic=0.9732093214988708, pvalue=0.0013132516760379076)\n",
      "Friday = ShapiroResult(statistic=0.9810277819633484, pvalue=0.05192483216524124)\n",
      "Saturday = ShapiroResult(statistic=0.9603638648986816, pvalue=0.00031006979406811297)\n",
      "Sunday = ShapiroResult(statistic=0.9546321630477905, pvalue=9.630421118345112e-05)\n",
      "Monday = ShapiroResult(statistic=0.9838047027587891, pvalue=0.08781745284795761)\n",
      "Tuesday = ShapiroResult(statistic=0.9481521844863892, pvalue=8.747570973355323e-05)\n",
      "Wednesday = ShapiroResult(statistic=0.9755293726921082, pvalue=0.012388103641569614)\n"
     ]
    }
   ],
   "source": [
    "days = log_clean1.day_of_week.unique().tolist()\n",
    "\n",
    "for day in days:\n",
    "    text = log_clean1[log_clean1['day_of_week'] == day].push_count\n",
    "    print(f'{day} = {stats.shapiro(text)}')"
   ]
  },
  {
   "cell_type": "markdown",
   "id": "91547a46",
   "metadata": {},
   "source": [
    "### 3. 등분산성 검정"
   ]
  },
  {
   "cell_type": "markdown",
   "id": "251b0900-dea0-433a-b708-027043c78a22",
   "metadata": {},
   "source": [
    "*연산자: unpacking하는 연산자\n",
    "- ex) d = [[1, 2, 3], [4, 5, 6], [7, 8, 9]] -> [1, 2, 3], [4, 5, 6], [7, 8, 9]\n",
    "- stats.levene(d)는 하나의 리스트안에 여러개의 리스트가 있어 하나의 인자로 처리하는 데\n",
    "- stats.levene(*d)는 하나의 리스트를 unpacking하여 여러개의 리스트로 존재하여 여러개의 인자로 처리하여 가능"
   ]
  },
  {
   "cell_type": "code",
   "execution_count": 45,
   "id": "844deb22",
   "metadata": {},
   "outputs": [
    {
     "data": {
      "text/plain": [
       "LeveneResult(statistic=6.515709714256102, pvalue=9.21209921852702e-07)"
      ]
     },
     "execution_count": 45,
     "metadata": {},
     "output_type": "execute_result"
    }
   ],
   "source": [
    "days = log_clean1.day_of_week.unique().tolist()\n",
    "d = []\n",
    "for day in days:\n",
    "    text = log_clean1[log_clean1['day_of_week'] == day].push_count\n",
    "    d.append(text)\n",
    "stats.levene(*d)"
   ]
  },
  {
   "cell_type": "markdown",
   "id": "543454dc",
   "metadata": {},
   "source": [
    "### 4. 분산분석 수행\n",
    "- 가정 검정 결과에 맞게 분석을 수행하시오."
   ]
  },
  {
   "cell_type": "code",
   "execution_count": 46,
   "id": "f065db56",
   "metadata": {},
   "outputs": [
    {
     "data": {
      "text/html": [
       "<div>\n",
       "<style scoped>\n",
       "    .dataframe tbody tr th:only-of-type {\n",
       "        vertical-align: middle;\n",
       "    }\n",
       "\n",
       "    .dataframe tbody tr th {\n",
       "        vertical-align: top;\n",
       "    }\n",
       "\n",
       "    .dataframe thead th {\n",
       "        text-align: right;\n",
       "    }\n",
       "</style>\n",
       "<table border=\"1\" class=\"dataframe\">\n",
       "  <thead>\n",
       "    <tr style=\"text-align: right;\">\n",
       "      <th></th>\n",
       "      <th>df</th>\n",
       "      <th>sum_sq</th>\n",
       "      <th>mean_sq</th>\n",
       "      <th>F</th>\n",
       "      <th>PR(&gt;F)</th>\n",
       "    </tr>\n",
       "  </thead>\n",
       "  <tbody>\n",
       "    <tr>\n",
       "      <th>C(day_of_week)</th>\n",
       "      <td>6.0</td>\n",
       "      <td>1.831400e+13</td>\n",
       "      <td>3.052334e+12</td>\n",
       "      <td>1197.239686</td>\n",
       "      <td>0.0</td>\n",
       "    </tr>\n",
       "    <tr>\n",
       "      <th>Residual</th>\n",
       "      <td>1023.0</td>\n",
       "      <td>2.608114e+12</td>\n",
       "      <td>2.549476e+09</td>\n",
       "      <td>NaN</td>\n",
       "      <td>NaN</td>\n",
       "    </tr>\n",
       "  </tbody>\n",
       "</table>\n",
       "</div>"
      ],
      "text/plain": [
       "                    df        sum_sq       mean_sq            F  PR(>F)\n",
       "C(day_of_week)     6.0  1.831400e+13  3.052334e+12  1197.239686     0.0\n",
       "Residual        1023.0  2.608114e+12  2.549476e+09          NaN     NaN"
      ]
     },
     "execution_count": 46,
     "metadata": {},
     "output_type": "execute_result"
    }
   ],
   "source": [
    "model = ols('push_count~C(day_of_week)', log_clean1).fit()\n",
    "anova_lm(model)"
   ]
  },
  {
   "cell_type": "markdown",
   "id": "2f2cb4b7",
   "metadata": {},
   "source": [
    "### 5. 사후검정 수행"
   ]
  },
  {
   "cell_type": "markdown",
   "id": "a2553b7a",
   "metadata": {},
   "source": [
    "- 어느 요일간에 차이가 있는가?"
   ]
  },
  {
   "cell_type": "code",
   "execution_count": 48,
   "id": "681dfc39-1911-4ffc-8f31-46f2db08c464",
   "metadata": {},
   "outputs": [],
   "source": [
    "from statsmodels.stats.multicomp import pairwise_tukeyhsd"
   ]
  },
  {
   "cell_type": "code",
   "execution_count": 49,
   "id": "3ad8537c-ea2e-4d26-9932-2c86d8994d26",
   "metadata": {},
   "outputs": [
    {
     "data": {
      "text/html": [
       "<table class=\"simpletable\">\n",
       "<caption>Multiple Comparison of Means - Tukey HSD, FWER=0.05</caption>\n",
       "<tr>\n",
       "   <th>group1</th>   <th>group2</th>     <th>meandiff</th>    <th>p-adj</th>     <th>lower</th>        <th>upper</th>    <th>reject</th>\n",
       "</tr>\n",
       "<tr>\n",
       "   <td>Friday</td>   <td>Monday</td>    <td>56419.0417</td>    <td>0.0</td>   <td>38649.7113</td>    <td>74188.372</td>   <td>True</td> \n",
       "</tr>\n",
       "<tr>\n",
       "   <td>Friday</td>  <td>Saturday</td>  <td>-246525.5408</td>   <td>0.0</td>  <td>-264205.9176</td> <td>-228845.1641</td>  <td>True</td> \n",
       "</tr>\n",
       "<tr>\n",
       "   <td>Friday</td>   <td>Sunday</td>   <td>-214854.3163</td>   <td>0.0</td>  <td>-232534.6931</td> <td>-197173.9396</td>  <td>True</td> \n",
       "</tr>\n",
       "<tr>\n",
       "   <td>Friday</td>  <td>Thursday</td>   <td>67736.5652</td>    <td>0.0</td>   <td>50938.9829</td>   <td>84534.1475</td>   <td>True</td> \n",
       "</tr>\n",
       "<tr>\n",
       "   <td>Friday</td>   <td>Tuesday</td>    <td>87068.314</td>    <td>0.0</td>    <td>68800.418</td>   <td>105336.2099</td>  <td>True</td> \n",
       "</tr>\n",
       "<tr>\n",
       "   <td>Friday</td>  <td>Wednesday</td>  <td>80161.0319</td>    <td>0.0</td>   <td>62299.4344</td>   <td>98022.6294</td>   <td>True</td> \n",
       "</tr>\n",
       "<tr>\n",
       "   <td>Monday</td>  <td>Saturday</td>  <td>-302944.5825</td>   <td>0.0</td>  <td>-320433.9409</td> <td>-285455.2241</td>  <td>True</td> \n",
       "</tr>\n",
       "<tr>\n",
       "   <td>Monday</td>   <td>Sunday</td>    <td>-271273.358</td>   <td>0.0</td>  <td>-288762.7164</td> <td>-253783.9996</td>  <td>True</td> \n",
       "</tr>\n",
       "<tr>\n",
       "   <td>Monday</td>  <td>Thursday</td>   <td>11317.5236</td>  <td>0.4059</td>  <td>-5278.8828</td>   <td>27913.9299</td>   <td>False</td>\n",
       "</tr>\n",
       "<tr>\n",
       "   <td>Monday</td>   <td>Tuesday</td>   <td>30649.2723</td>    <td>0.0</td>   <td>12566.1875</td>   <td>48732.3571</td>   <td>True</td> \n",
       "</tr>\n",
       "<tr>\n",
       "   <td>Monday</td>  <td>Wednesday</td>  <td>23741.9902</td>  <td>0.0015</td>   <td>6069.4523</td>   <td>41414.5282</td>   <td>True</td> \n",
       "</tr>\n",
       "<tr>\n",
       "  <td>Saturday</td>  <td>Sunday</td>    <td>31671.2245</td>    <td>0.0</td>    <td>14272.251</td>    <td>49070.198</td>   <td>True</td> \n",
       "</tr>\n",
       "<tr>\n",
       "  <td>Saturday</td> <td>Thursday</td>   <td>314262.106</td>    <td>0.0</td>   <td>297760.975</td>   <td>330763.2371</td>  <td>True</td> \n",
       "</tr>\n",
       "<tr>\n",
       "  <td>Saturday</td>  <td>Tuesday</td>   <td>333593.8548</td>   <td>0.0</td>   <td>315598.1726</td>  <td>351589.537</td>   <td>True</td> \n",
       "</tr>\n",
       "<tr>\n",
       "  <td>Saturday</td> <td>Wednesday</td>  <td>326686.5727</td>   <td>0.0</td>   <td>309103.478</td>   <td>344269.6675</td>  <td>True</td> \n",
       "</tr>\n",
       "<tr>\n",
       "   <td>Sunday</td>  <td>Thursday</td>   <td>282590.8815</td>   <td>0.0</td>   <td>266089.7505</td>  <td>299092.0126</td>  <td>True</td> \n",
       "</tr>\n",
       "<tr>\n",
       "   <td>Sunday</td>   <td>Tuesday</td>   <td>301922.6303</td>   <td>0.0</td>   <td>283926.9481</td>  <td>319918.3125</td>  <td>True</td> \n",
       "</tr>\n",
       "<tr>\n",
       "   <td>Sunday</td>  <td>Wednesday</td>  <td>295015.3482</td>   <td>0.0</td>   <td>277432.2535</td>  <td>312598.443</td>   <td>True</td> \n",
       "</tr>\n",
       "<tr>\n",
       "  <td>Thursday</td>  <td>Tuesday</td>   <td>19331.7487</td>  <td>0.0154</td>   <td>2202.6032</td>   <td>36460.8942</td>   <td>True</td> \n",
       "</tr>\n",
       "<tr>\n",
       "  <td>Thursday</td> <td>Wednesday</td>  <td>12424.4667</td>  <td>0.2971</td>  <td>-4270.6903</td>   <td>29119.6237</td>   <td>False</td>\n",
       "</tr>\n",
       "<tr>\n",
       "   <td>Tuesday</td> <td>Wednesday</td>   <td>-6907.282</td>  <td>0.9212</td>  <td>-25081.0411</td>   <td>11266.477</td>   <td>False</td>\n",
       "</tr>\n",
       "</table>"
      ],
      "text/latex": [
       "\\begin{center}\n",
       "\\begin{tabular}{ccccccc}\n",
       "\\toprule\n",
       "\\textbf{group1} & \\textbf{group2} & \\textbf{meandiff} & \\textbf{p-adj} & \\textbf{lower} & \\textbf{upper} & \\textbf{reject}  \\\\\n",
       "\\midrule\n",
       "     Friday     &      Monday     &     56419.0417    &      0.0       &   38649.7113   &   74188.372    &       True       \\\\\n",
       "     Friday     &     Saturday    &    -246525.5408   &      0.0       &  -264205.9176  &  -228845.1641  &       True       \\\\\n",
       "     Friday     &      Sunday     &    -214854.3163   &      0.0       &  -232534.6931  &  -197173.9396  &       True       \\\\\n",
       "     Friday     &     Thursday    &     67736.5652    &      0.0       &   50938.9829   &   84534.1475   &       True       \\\\\n",
       "     Friday     &     Tuesday     &     87068.314     &      0.0       &   68800.418    &  105336.2099   &       True       \\\\\n",
       "     Friday     &    Wednesday    &     80161.0319    &      0.0       &   62299.4344   &   98022.6294   &       True       \\\\\n",
       "     Monday     &     Saturday    &    -302944.5825   &      0.0       &  -320433.9409  &  -285455.2241  &       True       \\\\\n",
       "     Monday     &      Sunday     &    -271273.358    &      0.0       &  -288762.7164  &  -253783.9996  &       True       \\\\\n",
       "     Monday     &     Thursday    &     11317.5236    &     0.4059     &   -5278.8828   &   27913.9299   &      False       \\\\\n",
       "     Monday     &     Tuesday     &     30649.2723    &      0.0       &   12566.1875   &   48732.3571   &       True       \\\\\n",
       "     Monday     &    Wednesday    &     23741.9902    &     0.0015     &   6069.4523    &   41414.5282   &       True       \\\\\n",
       "    Saturday    &      Sunday     &     31671.2245    &      0.0       &   14272.251    &   49070.198    &       True       \\\\\n",
       "    Saturday    &     Thursday    &     314262.106    &      0.0       &   297760.975   &  330763.2371   &       True       \\\\\n",
       "    Saturday    &     Tuesday     &    333593.8548    &      0.0       &  315598.1726   &   351589.537   &       True       \\\\\n",
       "    Saturday    &    Wednesday    &    326686.5727    &      0.0       &   309103.478   &  344269.6675   &       True       \\\\\n",
       "     Sunday     &     Thursday    &    282590.8815    &      0.0       &  266089.7505   &  299092.0126   &       True       \\\\\n",
       "     Sunday     &     Tuesday     &    301922.6303    &      0.0       &  283926.9481   &  319918.3125   &       True       \\\\\n",
       "     Sunday     &    Wednesday    &    295015.3482    &      0.0       &  277432.2535   &   312598.443   &       True       \\\\\n",
       "    Thursday    &     Tuesday     &     19331.7487    &     0.0154     &   2202.6032    &   36460.8942   &       True       \\\\\n",
       "    Thursday    &    Wednesday    &     12424.4667    &     0.2971     &   -4270.6903   &   29119.6237   &      False       \\\\\n",
       "    Tuesday     &    Wednesday    &     -6907.282     &     0.9212     &  -25081.0411   &   11266.477    &      False       \\\\\n",
       "\\bottomrule\n",
       "\\end{tabular}\n",
       "%\\caption{Multiple Comparison of Means - Tukey HSD, FWER=0.05}\n",
       "\\end{center}"
      ],
      "text/plain": [
       "<class 'statsmodels.iolib.table.SimpleTable'>"
      ]
     },
     "execution_count": 49,
     "metadata": {},
     "output_type": "execute_result"
    }
   ],
   "source": [
    "hsd = pairwise_tukeyhsd(log_clean1.push_count,  log_clean1.day_of_week, alpha=0.05)\n",
    "hsd.summary()"
   ]
  },
  {
   "cell_type": "code",
   "execution_count": 50,
   "id": "161b489c",
   "metadata": {},
   "outputs": [
    {
     "data": {
      "image/png": "[encoded data removed]",
      "text/plain": [
       "<Figure size 1000x600 with 1 Axes>"
      ]
     },
     "metadata": {},
     "output_type": "display_data"
    }
   ],
   "source": [
    "fig = hsd.plot_simultaneous()"
   ]
  },
  {
   "cell_type": "markdown",
   "id": "119b6541-413e-4a76-b25d-8759cb65d0f4",
   "metadata": {},
   "source": [
    "=> H0 기각 => 토요일&일요일 / 월요일 & 화요일 & 수요일 & 목요일 끼리 비슷하다."
   ]
  },
  {
   "cell_type": "markdown",
   "id": "83325fec",
   "metadata": {},
   "source": [
    "----------------------------------"
   ]
  }
 ],
 "metadata": {
  "kernelspec": {
   "display_name": "Python 3 (ipykernel)",
   "language": "python",
   "name": "python3"
  },
  "language_info": {
   "codemirror_mode": {
    "name": "ipython",
    "version": 3
   },
   "file_extension": ".py",
   "mimetype": "text/x-python",
   "name": "python",
   "nbconvert_exporter": "python",
   "pygments_lexer": "ipython3",
   "version": "3.11.7"
  }
 },
 "nbformat": 4,
 "nbformat_minor": 5
}
