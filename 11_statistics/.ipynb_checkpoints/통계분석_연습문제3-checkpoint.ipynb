{
 "cells": [
  {
   "cell_type": "code",
   "execution_count": 1,
   "id": "e957653c-0869-495c-8c6c-f75300207597",
   "metadata": {},
   "outputs": [
    {
     "data": {
      "text/plain": [
       "'%.4f'"
      ]
     },
     "execution_count": 1,
     "metadata": {},
     "output_type": "execute_result"
    }
   ],
   "source": [
    "import numpy as np\n",
    "import pandas as pd\n",
    "import matplotlib.pyplot as plt\n",
    "from scipy import stats\n",
    "\n",
    "%precision 4"
   ]
  },
  {
   "cell_type": "markdown",
   "id": "dfaee24e-e5e2-46fa-a934-ca1d37bca59f",
   "metadata": {},
   "source": [
    "![image.png](attachment:cfbf4123-54ae-4fd3-af94-c7b0ff99e040.png)"
   ]
  },
  {
   "cell_type": "raw",
   "id": "2a445ef5-50ee-43f6-94f2-69132ef7bae2",
   "metadata": {},
   "source": [
    "1.\r\n",
    "1) 구간추정\r\n",
    "2) t분포\r\n",
    "작아지게 짧아\r",
    "넓어지게) 넓어"
   ]
  },
  {
   "cell_type": "markdown",
   "id": "800dc83b-9f4c-4fe0-b4d1-9679b3e1c21b",
   "metadata": {},
   "source": [
    "![image.png](attachment:b1539936-10fa-4799-9962-70cb3e07f3cf.png)"
   ]
  },
  {
   "cell_type": "raw",
   "id": "12520acb-877b-49e2-91b6-562cdb4635eb",
   "metadata": {},
   "source": [
    "\r\n",
    "2.\r\n",
    "H0음주운전 과거보다 적발사례가 줄어들지 않았다었다\r\n",
    "H음주운전 과거보다 적발사례가 줄어들었다\n",
    "않았다\r\n",
    "국민총의료비가 코로나 이전보다 줄어들지 않았다 것이다\r",
    "국민총의료비가 코로나 이전보다 줄어들 것이다\n",
    "\n",
    "지 않았다최근에 개발한 타이어의 평균 수명이 이전 제품보다 늘지 않았다보다 늘었최근에 개발한 타이어의 평균 수명이 이전 제품보다 늘었다\n",
    "\n",
    " 늘지 않인터넷 사용 시간이 코로나 이전보다 늘어나지 않았다전보다 늘인터넷 사용 시간이 코로나 이전보다 늘어났다\n",
    " 늘어나지매출액에 차이가 있지 않을 것이다차이가 있매출액에 차이가 있지 않을 것이다\n",
    "가 있지 흡연율에 변화가 있지 않을 것이다에 변화가흡연율에 변화가 있을 것이다변화가 있지 않을 것이다"
   ]
  },
  {
   "cell_type": "markdown",
   "id": "66c82ee8-a140-49b0-a2b0-97ea9be7a219",
   "metadata": {},
   "source": [
    "![image.png](attachment:847521e0-3784-4802-9577-e2aabb9590bf.png)"
   ]
  },
  {
   "cell_type": "raw",
   "id": "77348708-9a0d-4df9-9dca-946af012fac1",
   "metadata": {},
   "source": [
    "3.\r\n",
    "1) O\r\n",
    "2) X, p값이 α의 크기보다 크다면 귀무가설을 기각하지 않는다.\r\n",
    "3) X, 양측검정의 경우 p-value는 2배를 해줘야 함."
   ]
  },
  {
   "cell_type": "markdown",
   "id": "bf1224d5-a400-4cbc-8e63-38270f173dab",
   "metadata": {},
   "source": [
    "![image.png](attachment:fd73acf6-4963-4e71-82f0-ca7382b744fa.png)"
   ]
  },
  {
   "cell_type": "code",
   "execution_count": 2,
   "id": "07665877-984c-4f4d-807d-36fc105a414d",
   "metadata": {},
   "outputs": [
    {
     "data": {
      "text/plain": [
       "(33.0400, 36.9600)"
      ]
     },
     "execution_count": 2,
     "metadata": {},
     "output_type": "execute_result"
    }
   ],
   "source": [
    "4. \n",
    "s_mean, s_std, n, alpha = 35, 5, 25, 0.05\n",
    "eb = stats.norm().isf(alpha/2) * s_std / np.sqrt(n)\n",
    "lower = s_mean - eb\n",
    "upper = s_mean + eb\n",
    "lower, upper"
   ]
  },
  {
   "cell_type": "markdown",
   "id": "15560e3d-34aa-4138-87ba-26e34d2dfb89",
   "metadata": {},
   "source": [
    "![image.png](attachment:dd3294b6-a075-4f39-a6e2-327e62827ecb.png)"
   ]
  },
  {
   "cell_type": "code",
   "execution_count": 6,
   "id": "5fb5c3f5-6bbd-4c40-9edd-f147bddee51a",
   "metadata": {},
   "outputs": [],
   "source": [
    "# 5.\n",
    "def CI1(s_mean, s_std, n, alpha):\n",
    "    eb = stats.norm().isf(alpha/2) * s_std / np.sqrt(n)\n",
    "    lower = s_mean - eb\n",
    "    upper = s_mean + eb\n",
    "    return lower, upper"
   ]
  },
  {
   "cell_type": "code",
   "execution_count": 7,
   "id": "d103e33f-d0dd-4d86-863b-0554908b5b17",
   "metadata": {},
   "outputs": [
    {
     "data": {
      "text/plain": [
       "(163.4261, 176.5739)"
      ]
     },
     "execution_count": 7,
     "metadata": {},
     "output_type": "execute_result"
    }
   ],
   "source": [
    "# 신뢰수준 95%\n",
    "s_mean, s_std, n = 170, 15, 20\n",
    "CI1(170, 15, 20, 0.05)"
   ]
  },
  {
   "cell_type": "code",
   "execution_count": 8,
   "id": "e05f087a-23a5-40bc-b5bd-b00d3da793b2",
   "metadata": {},
   "outputs": [
    {
     "data": {
      "text/plain": [
       "(161.3604, 178.6396)"
      ]
     },
     "execution_count": 8,
     "metadata": {},
     "output_type": "execute_result"
    }
   ],
   "source": [
    "# 신뢰수준 99%\n",
    "CI1(170, 15, 20, 0.01)"
   ]
  },
  {
   "cell_type": "markdown",
   "id": "68998532-a8b4-4603-a1f0-179ee0b5b9ca",
   "metadata": {},
   "source": [
    "![image.png](attachment:d704c05a-ef10-4511-b750-1555840f6e1e.png)"
   ]
  },
  {
   "cell_type": "code",
   "execution_count": 10,
   "id": "80c764f9-4762-4bc9-95ee-e4aa562cfda3",
   "metadata": {},
   "outputs": [
    {
     "data": {
      "text/plain": [
       "0.2265"
      ]
     },
     "execution_count": 10,
     "metadata": {},
     "output_type": "execute_result"
    }
   ],
   "source": [
    "# 6.\n",
    "df = pd.read_excel('data/S기업 점심비용.xlsx')\n",
    "p_mean = 6300\n",
    "s_mean = df.lunch.mean()\n",
    "s_std = df.lunch.std()\n",
    "n = len(df)\n",
    "\n",
    "t_stats, p_value = stats.ttest_1samp(df.lunch, p_mean)\n",
    "p_value"
   ]
  },
  {
   "cell_type": "raw",
   "id": "bac1e34a-e440-4730-b528-4cde7fb194d8",
   "metadata": {},
   "source": [
    "=> p-value(0.2265) > 유의값 (0.05) 이므로 H0을 기각할 수 없다."
   ]
  },
  {
   "cell_type": "markdown",
   "id": "12c452bf-17a5-40f7-96f2-f30c4783f673",
   "metadata": {},
   "source": [
    "![image.png](attachment:e12fa033-e829-4a0b-86a1-3fdcb9e68682.png)"
   ]
  },
  {
   "cell_type": "code",
   "execution_count": 11,
   "id": "19fa75e9-3eec-4d39-b8d5-99f20874222d",
   "metadata": {},
   "outputs": [
    {
     "data": {
      "text/plain": [
       "0.0064"
      ]
     },
     "execution_count": 11,
     "metadata": {},
     "output_type": "execute_result"
    }
   ],
   "source": [
    "# 7.\n",
    "df = pd.read_csv('data/스마트폰_이용시간.csv')\n",
    "p_mean = 35\n",
    "s_mean = df['27'].mean()\n",
    "s_std = df['27'].std()\n",
    "n = len(df)\n",
    "t_stats, p_value = stats.ttest_1samp(df['27'], p_mean)\n",
    "p_value"
   ]
  },
  {
   "cell_type": "raw",
   "id": "afdfa353-eb71-4a75-b1c8-21443d5b49ab",
   "metadata": {},
   "source": [
    "=> p-value (0.0057) < alpha=0.05 이므로 귀무가설을 기각할 수 있다."
   ]
  }
 ],
 "metadata": {
  "kernelspec": {
   "display_name": "Python 3 (ipykernel)",
   "language": "python",
   "name": "python3"
  },
  "language_info": {
   "codemirror_mode": {
    "name": "ipython",
    "version": 3
   },
   "file_extension": ".py",
   "mimetype": "text/x-python",
   "name": "python",
   "nbconvert_exporter": "python",
   "pygments_lexer": "ipython3",
   "version": "3.11.7"
  }
 },
 "nbformat": 4,
 "nbformat_minor": 5
}
