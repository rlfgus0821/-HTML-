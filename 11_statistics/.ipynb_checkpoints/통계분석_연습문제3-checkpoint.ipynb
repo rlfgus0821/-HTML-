{
 "cells": [
  {
   "cell_type": "code",
   "execution_count": 15,
   "id": "e957653c-0869-495c-8c6c-f75300207597",
   "metadata": {},
   "outputs": [
    {
     "data": {
      "text/plain": [
       "'%.3f'"
      ]
     },
     "execution_count": 15,
     "metadata": {},
     "output_type": "execute_result"
    }
   ],
   "source": [
    "import numpy as np\n",
    "import pandas as pd\n",
    "import matplotlib.pyplot as plt\n",
    "from scipy import stats\n",
    "\n",
    "%precision 3"
   ]
  },
  {
   "cell_type": "raw",
   "id": "2a445ef5-50ee-43f6-94f2-69132ef7bae2",
   "metadata": {},
   "source": [
    "1.\r\n",
    "1) 구간추정\r\n",
    "2) t분포\r\n",
    "작아지게 짧아\r",
    "넓어지게) 넓어"
   ]
  },
  {
   "cell_type": "raw",
   "id": "12520acb-877b-49e2-91b6-562cdb4635eb",
   "metadata": {},
   "source": [
    "\r\n",
    "2.\r\n",
    "H0음주운전 과거보다 적발사례가 줄어들지 않었다\r\n",
    "H음주운전 과거보다 적발사례가 줄어들었다\n",
    "않았다\r\n",
    "국민총의료비가 코로나 이전보다 줄어들지 않았다 것이다\r",
    "국민총의료비가 코로나 이전보다 줄어들 것이다\n",
    "\n",
    "지 않았다최근에 개발한 타이어의 평균 수명이 이전 제품보다 늘지 않았다보다 늘었최근에 개발한 타이어의 평균 수명이 이전 제품보다 늘었다\n",
    "\n",
    " 늘지 않인터넷 사용 시간이 코로나 이전보다 늘어나지 않았다전보다 늘인터넷 사용 시간이 코로나 이전보다 늘어났다\n",
    " 늘어나지매출액에 차이가 있지 않을 것이다차이가 있매출액에 차이가 있지 않을 것이다\n",
    "가 있지 흡연율에 변화가 있지 않을 것이다에 변화가흡연율에 변화가 있을 것이다변화가 있지 않을 것이다"
   ]
  },
  {
   "cell_type": "raw",
   "id": "77348708-9a0d-4df9-9dca-946af012fac1",
   "metadata": {},
   "source": [
    "3.\r\n",
    "1) O\r\n",
    "2) X, p값이 α의 크기보다 크다면 귀무가설을 기각하지 않는다.\r\n",
    "3) X, 양측검정의 경우 p-value는 2배를 해줘야 함."
   ]
  },
  {
   "cell_type": "markdown",
   "id": "bf1224d5-a400-4cbc-8e63-38270f173dab",
   "metadata": {},
   "source": [
    "4. 사당에서 출발하는 통학버스의 학교도착 소요시간을 25번 조사한 결과 평균이 35분, 표준편차는 5분으로 조사되었다. 소요시간 평균에 대한 95% 신뢰구간을 계산하시오."
   ]
  },
  {
   "cell_type": "code",
   "execution_count": 34,
   "id": "5fb5c3f5-6bbd-4c40-9edd-f147bddee51a",
   "metadata": {},
   "outputs": [],
   "source": [
    "def CI1(s_mean, s_std, n, alpha):\n",
    "    eb = stats.t(n-1).isf(alpha/2) * s_std / np.sqrt(n)\n",
    "    lower = s_mean - eb\n",
    "    upper = s_mean + eb\n",
    "    return lower, upper"
   ]
  },
  {
   "cell_type": "code",
   "execution_count": 33,
   "id": "07665877-984c-4f4d-807d-36fc105a414d",
   "metadata": {},
   "outputs": [
    {
     "data": {
      "text/plain": [
       "(32.936, 37.064)"
      ]
     },
     "execution_count": 33,
     "metadata": {},
     "output_type": "execute_result"
    }
   ],
   "source": [
    "CI1(35, 5, 25, 0.05)"
   ]
  },
  {
   "cell_type": "code",
   "execution_count": 29,
   "id": "5594b46a-5a41-401e-8636-f0dd0f7585e4",
   "metadata": {},
   "outputs": [
    {
     "data": {
      "text/plain": [
       "(-0.063, 0.063)"
      ]
     },
     "execution_count": 29,
     "metadata": {},
     "output_type": "execute_result"
    }
   ],
   "source": [
    "s_mean, s_std, n, alpha = 35,5,25,0.05\n",
    "stats.t(n-1).interval(alpha)"
   ]
  },
  {
   "cell_type": "markdown",
   "id": "15560e3d-34aa-4138-87ba-26e34d2dfb89",
   "metadata": {},
   "source": [
    "5. 신입생 중 임의로 20명을 선택하여 신장을 조사한 결과 평균은 170cm, 표준편차는 15cm로 조사되었다. 신입생의 신장에 대한 95%와 99% 신뢰구간을 계산하시오."
   ]
  },
  {
   "cell_type": "code",
   "execution_count": 28,
   "id": "d103e33f-d0dd-4d86-863b-0554908b5b17",
   "metadata": {},
   "outputs": [
    {
     "data": {
      "text/plain": [
       "(162.980, 177.020)"
      ]
     },
     "execution_count": 28,
     "metadata": {},
     "output_type": "execute_result"
    }
   ],
   "source": [
    "# 신뢰수준 95%\n",
    "CI1(170, 15, 20, 0.05)"
   ]
  },
  {
   "cell_type": "code",
   "execution_count": 8,
   "id": "e05f087a-23a5-40bc-b5bd-b00d3da793b2",
   "metadata": {},
   "outputs": [
    {
     "data": {
      "text/plain": [
       "(161.3604, 178.6396)"
      ]
     },
     "execution_count": 8,
     "metadata": {},
     "output_type": "execute_result"
    }
   ],
   "source": [
    "# 신뢰수준 99%\n",
    "CI1(170, 15, 20, 0.01)"
   ]
  },
  {
   "cell_type": "markdown",
   "id": "68998532-a8b4-4603-a1f0-179ee0b5b9ca",
   "metadata": {},
   "source": [
    "6. 직장인 전문 여론조사기관인 A리서치는 직장인들의 평균 점심비용(음료 제외)은 6,300원으로 조사되었고 발표하였다. 이에 구내식당이 없는 S기업 직원 중 100명을 대상으로 일주일간 점심비용의 평균을 조사한 결과((S기업 점심비용.xlsx)를 이용하여 A리서치가 발표한 내용에 대해 S기업의 조사결과와 차이가 있는지에 대해 유의수준 5%하에서 가설을 세우고 검정하시오."
   ]
  },
  {
   "cell_type": "code",
   "execution_count": 49,
   "id": "80c764f9-4762-4bc9-95ee-e4aa562cfda3",
   "metadata": {},
   "outputs": [
    {
     "name": "stdout",
     "output_type": "stream",
     "text": [
      "t통계량:1.2169\n",
      "p_value = 0.227 > 유의수준 = 0.05이므로 기각할 수 없다.\n"
     ]
    }
   ],
   "source": [
    "# 6.\n",
    "s_df = pd.read_excel('data/S기업 점심비용.xlsx')\n",
    "p_mean = 6300\n",
    "s_mean = s_df.lunch.mean()\n",
    "s_std = s_df.lunch.std()\n",
    "n = len(df)\n",
    "\n",
    "t_stats, p_value = stats.ttest_1samp(s_df.lunch, p_mean)\n",
    "if p_value < alpha:\n",
    "    print(f't통계량:{t_stats:.4f}\\np_value = {p_value:.3f} < 유의수준 = {alpha}이므로 기각할 수 있다.')\n",
    "else:\n",
    "    print(f't통계량:{t_stats:.4f}\\np_value = {p_value:.3f} > 유의수준 = {alpha}이므로 기각할 수 없다.')\n"
   ]
  },
  {
   "cell_type": "markdown",
   "id": "12c452bf-17a5-40f7-96f2-f30c4783f673",
   "metadata": {},
   "source": [
    "7. 인터넷신문 B사는 성인 500명을 대상으로 주당 스마트폰 이용시간을 조사한 결과 평균 35시간(1일 5시간)으로 발표하였다. 이에 파이썬 과목을 수강하는 40명의 대학생을 상대로 주당 스마트폰 이용시간을 조사한 결과(스마트폰_이용시간.csv)를 토대로 인터넷신문 B사의 발표내용에 대해 차이가 있는지에 대해 유의수준 5%하에서 가설을 세우고 검정하시오."
   ]
  },
  {
   "cell_type": "code",
   "execution_count": 51,
   "id": "19fa75e9-3eec-4d39-b8d5-99f20874222d",
   "metadata": {},
   "outputs": [
    {
     "name": "stdout",
     "output_type": "stream",
     "text": [
      "t통계량:2.8860\n",
      "p_value = 0.006 < 유의수준 = 0.05이므로 기각할 수 있다.\n"
     ]
    }
   ],
   "source": [
    "# 7.\n",
    "df = pd.read_csv('data/스마트폰_이용시간.csv')\n",
    "p_mean = 35\n",
    "s_mean = df['27'].mean()\n",
    "s_std = df['27'].std()\n",
    "n = len(df)\n",
    "t_stats, p_value = stats.ttest_1samp(df['27'], p_mean)\n",
    "if p_value < alpha:\n",
    "    print(f't통계량:{t_stats:.4f}\\np_value = {p_value:.3f} < 유의수준 = {alpha}이므로 기각할 수 있다.')\n",
    "else:\n",
    "    print(f't통계량:{t_stats:.4f}\\np_value = {p_value:.3f} > 유의수준 = {alpha}이므로 기각할 수 없다.')"
   ]
  }
 ],
 "metadata": {
  "kernelspec": {
   "display_name": "Python 3 (ipykernel)",
   "language": "python",
   "name": "python3"
  },
  "language_info": {
   "codemirror_mode": {
    "name": "ipython",
    "version": 3
   },
   "file_extension": ".py",
   "mimetype": "text/x-python",
   "name": "python",
   "nbconvert_exporter": "python",
   "pygments_lexer": "ipython3",
   "version": "3.11.7"
  }
 },
 "nbformat": 4,
 "nbformat_minor": 5
}
