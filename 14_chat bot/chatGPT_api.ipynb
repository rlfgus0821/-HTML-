{
 "cells": [
  {
   "cell_type": "markdown",
   "id": "0596616a-f0dc-4d0e-a19f-540cd463ea21",
   "metadata": {},
   "source": [
    "### GPT API 연동"
   ]
  },
  {
   "cell_type": "code",
   "execution_count": 1,
   "id": "7b6438f2-fbe1-45fb-8bd3-d7a0426df57e",
   "metadata": {},
   "outputs": [],
   "source": [
    "import openai\n",
    "import numpy as np\n",
    "import pandas as pd"
   ]
  },
  {
   "cell_type": "code",
   "execution_count": 2,
   "id": "93c43e68-6058-4e5d-ad99-93712fa2cc5e",
   "metadata": {},
   "outputs": [],
   "source": [
    "import os\n",
    "\n",
    "client = openai.OpenAI(api_key=os.getenv(\"OPENAI_API_KEY\"))"
   ]
  },
  {
   "cell_type": "code",
   "execution_count": 6,
   "id": "04d39922-d44b-4275-bd6d-df3883148945",
   "metadata": {},
   "outputs": [
    {
     "data": {
      "text/plain": [
       "dict_keys(['id', 'choices', 'created', 'model', 'object', 'service_tier', 'system_fingerprint', 'usage'])"
      ]
     },
     "execution_count": 6,
     "metadata": {},
     "output_type": "execute_result"
    }
   ],
   "source": [
    "api_key = os.environ['OPENAI_API_KEY']\n",
    "client = OpenAI(api_key= api_key)\n",
    "model = 'gpt-3.5-turbo'\n",
    "messages= [{'role': 'system' , 'content':'당신은 친절한 어시스턴트입니다.'},\n",
    "          {'role': 'user' , 'content':'2020년 대한민국 대통령은 누구인가요?'}]\n",
    "response = client.chat.completions.create(model= model, messages= messages).model_dump()\n",
    "response.keys()"
   ]
  },
  {
   "cell_type": "code",
   "execution_count": 9,
   "id": "f5b8d015-9eb9-4917-9886-788040120e8c",
   "metadata": {},
   "outputs": [
    {
     "data": {
      "text/plain": [
       "dict_keys(['finish_reason', 'index', 'logprobs', 'message'])"
      ]
     },
     "execution_count": 9,
     "metadata": {},
     "output_type": "execute_result"
    }
   ],
   "source": [
    "response['choices'][0].keys()"
   ]
  },
  {
   "cell_type": "code",
   "execution_count": 10,
   "id": "3182695a-2fdf-48e2-9767-55b4ff94949e",
   "metadata": {},
   "outputs": [
    {
     "data": {
      "text/plain": [
       "{'content': '2022020년 대한민국 대통령은 문재인 대통령이셨습니다.',\n",
       " 'role': 'assistant',\n",
       " 'function_call': None,\n",
       " 'tool_calls': None}"
      ]
     },
     "execution_count": 10,
     "metadata": {},
     "output_type": "execute_result"
    }
   ],
   "source": [
    "response['choices'][0]['message']"
   ]
  },
  {
   "cell_type": "code",
   "execution_count": 11,
   "id": "0b41bbfa-e83c-4ff2-a6f6-fae40b9e0d4c",
   "metadata": {},
   "outputs": [
    {
     "data": {
      "text/plain": [
       "'2022020년 대한민국 대통령은 문재인 대통령이셨습니다.'"
      ]
     },
     "execution_count": 11,
     "metadata": {},
     "output_type": "execute_result"
    }
   ],
   "source": [
    "response['choices'][0]['message']['content']"
   ]
  },
  {
   "cell_type": "markdown",
   "id": "b1aeeae2-c6ad-4875-9919-1ed419b2441e",
   "metadata": {},
   "source": [
    "### 프롬프트 구성 사례"
   ]
  },
  {
   "cell_type": "code",
   "execution_count": 12,
   "id": "77d1c143-79c9-4620-999c-1aa1d9fd5534",
   "metadata": {},
   "outputs": [
    {
     "name": "stdout",
     "output_type": "stream",
     "text": [
      "- 프롬프트 엔지니어링과 분석가의 정의\n",
      "- 두 역할의 차이점과 공통점\n",
      "- 프롬프트 엔지니어링과 분석가의 중요성\n",
      "- 실제 업무에서의 활용사례 및 성과\n",
      "- 두 역할을 수행하기 위한 필요한 기술과 역량\n"
     ]
    }
   ],
   "source": [
    "model = 'gpt-3.5-turbo'\n",
    "prompt= '''\n",
    "내일 다음 주제로 대학교에서 발표할 반제문을 작성해야해.\n",
    "발제문의 주요 내용을 블릿 기호로 간략히 정리해줘\n",
    "주제: {agenda}'''.format(agenda='프롬프트 엔지니어링과 분석가의 역할')\n",
    "\n",
    "messages= [{'role': 'user' , 'content':prompt}]\n",
    "response = client.chat.completions.create(model= model, messages= messages).model_dump()\n",
    "print(response['choices'][0]['message']['content'])"
   ]
  },
  {
   "cell_type": "markdown",
   "id": "aa6db3d3-b70f-49d6-94c0-1f1c0f7bb22d",
   "metadata": {},
   "source": [
    "### 프롬프팅 테크닉"
   ]
  },
  {
   "cell_type": "markdown",
   "id": "b5acc8c7-c12c-42e1-a66d-4cef54315599",
   "metadata": {},
   "source": [
    "### TOT(Tree of Thoughts)"
   ]
  },
  {
   "cell_type": "code",
   "execution_count": null,
   "id": "d8de57d1-4b3e-4600-af2c-cb1e2665675c",
   "metadata": {},
   "outputs": [],
   "source": []
  },
  {
   "cell_type": "code",
   "execution_count": null,
   "id": "ef07c596-6c14-4c39-8768-b8856433ee71",
   "metadata": {},
   "outputs": [],
   "source": []
  },
  {
   "cell_type": "code",
   "execution_count": null,
   "id": "d186e92a-30ca-4f3d-8fd7-bc28bcba685c",
   "metadata": {},
   "outputs": [],
   "source": []
  }
 ],
 "metadata": {
  "kernelspec": {
   "display_name": "Python 3 (ipykernel)",
   "language": "python",
   "name": "python3"
  },
  "language_info": {
   "codemirror_mode": {
    "name": "ipython",
    "version": 3
   },
   "file_extension": ".py",
   "mimetype": "text/x-python",
   "name": "python",
   "nbconvert_exporter": "python",
   "pygments_lexer": "ipython3",
   "version": "3.11.7"
  }
 },
 "nbformat": 4,
 "nbformat_minor": 5
}
