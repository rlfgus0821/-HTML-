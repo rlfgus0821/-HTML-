{
 "cells": [
  {
   "cell_type": "markdown",
   "id": "035433a4",
   "metadata": {},
   "source": [
    "### Numpy 연습문제3"
   ]
  },
  {
   "cell_type": "code",
   "execution_count": 35,
   "id": "dc8e17f9",
   "metadata": {},
   "outputs": [],
   "source": [
    "import numpy as np"
   ]
  },
  {
   "cell_type": "markdown",
   "id": "ab73396f",
   "metadata": {},
   "source": [
    "### 연습문제. 마스크 인덱싱"
   ]
  },
  {
   "cell_type": "code",
   "execution_count": 34,
   "id": "ce0dd3ac",
   "metadata": {},
   "outputs": [],
   "source": [
    "names = np.array(['Beomwoo','Beomwoo','Kim','Joan','Lee','Beomwoo',\n",
    "                  'Park','Beomwoo'])\n",
    "data = np.random.randn(8,4)  # 표준정규분포난수"
   ]
  },
  {
   "cell_type": "code",
   "execution_count": 36,
   "id": "719932ad",
   "metadata": {
    "scrolled": true
   },
   "outputs": [
    {
     "data": {
      "text/plain": [
       "array([[-0.40618165,  0.3280674 , -0.37119806, -1.11285073],\n",
       "       [-1.9986285 , -0.90069215, -0.44198883,  0.12862539],\n",
       "       [-1.71602106, -0.75255992,  0.98789371,  0.61172768],\n",
       "       [ 0.35799252, -1.49675036, -0.23253812,  1.14107112],\n",
       "       [-2.15933824, -0.19889371, -0.93168989,  0.06366116],\n",
       "       [ 0.18355602, -0.76731819,  0.68241964, -1.49308159],\n",
       "       [-0.9375372 , -0.24631064, -0.44128999,  0.8117707 ],\n",
       "       [-0.50192211,  1.38010133, -1.41740265, -0.27303674]])"
      ]
     },
     "execution_count": 36,
     "metadata": {},
     "output_type": "execute_result"
    }
   ],
   "source": [
    "data"
   ]
  },
  {
   "cell_type": "markdown",
   "id": "d2f00f67",
   "metadata": {},
   "source": [
    "#### 문제1. data array에서 0번째 열이 0보다 작은 행 데이터 가져오기"
   ]
  },
  {
   "cell_type": "code",
   "execution_count": 37,
   "id": "b518df58-56b3-4e92-a417-018127179afb",
   "metadata": {},
   "outputs": [
    {
     "data": {
      "text/plain": [
       "array([-0.40618165, -1.9986285 , -1.71602106, -2.15933824, -0.9375372 ,\n",
       "       -0.50192211])"
      ]
     },
     "execution_count": 37,
     "metadata": {},
     "output_type": "execute_result"
    }
   ],
   "source": [
    "arr = data[:,0]\n",
    "data[arr < 0, 0]"
   ]
  },
  {
   "cell_type": "markdown",
   "id": "8dee5f6b",
   "metadata": {},
   "source": [
    "#### 문제2. data array에서 0번째 열이 0보다 작은 행의 2, 3번째 열 데이터 가져오기"
   ]
  },
  {
   "cell_type": "code",
   "execution_count": 42,
   "id": "ccca0fb8-903a-4dfb-8876-205717f7fc04",
   "metadata": {
    "scrolled": true
   },
   "outputs": [
    {
     "data": {
      "text/plain": [
       "array([[ 0.3280674 , -0.37119806],\n",
       "       [-0.90069215, -0.44198883],\n",
       "       [-0.75255992,  0.98789371],\n",
       "       [-0.19889371, -0.93168989],\n",
       "       [-0.24631064, -0.44128999],\n",
       "       [ 1.38010133, -1.41740265]])"
      ]
     },
     "execution_count": 42,
     "metadata": {},
     "output_type": "execute_result"
    }
   ],
   "source": [
    "arr = data[:,0]\n",
    "arr1 = data[arr < 0, 1:3]\n",
    "arr1"
   ]
  },
  {
   "cell_type": "markdown",
   "id": "5cc888e2",
   "metadata": {},
   "source": [
    "----------------------------------------------"
   ]
  },
  {
   "cell_type": "markdown",
   "id": "2872c994",
   "metadata": {},
   "source": [
    "### 연습문제: 정렬"
   ]
  },
  {
   "cell_type": "code",
   "execution_count": 43,
   "id": "36ba6d67",
   "metadata": {},
   "outputs": [],
   "source": [
    "name_array = np.array(['John', 'Mike', 'Sarah', 'Kate', 'Samuel'])\n",
    "score_array = np.array([78, 95, 84, 98, 88])"
   ]
  },
  {
   "cell_type": "markdown",
   "id": "726dbc9a",
   "metadata": {},
   "source": [
    "#### 문제1. 위 행렬에서 성적의 오름차순으로 학생의 이름을 출력하시오."
   ]
  },
  {
   "cell_type": "code",
   "execution_count": 44,
   "id": "a5634d57",
   "metadata": {},
   "outputs": [
    {
     "data": {
      "text/plain": [
       "array(['John', 'Sarah', 'Samuel', 'Mike', 'Kate'], dtype='<U6')"
      ]
     },
     "execution_count": 44,
     "metadata": {},
     "output_type": "execute_result"
    }
   ],
   "source": [
    "name_array[np.argsort(score_array)]"
   ]
  },
  {
   "cell_type": "markdown",
   "id": "26f12f79",
   "metadata": {},
   "source": [
    "#### 문제2. 성적이 가장 좋은 사람의 이름을 출력하시오"
   ]
  },
  {
   "cell_type": "code",
   "execution_count": 30,
   "id": "e842b6f9",
   "metadata": {},
   "outputs": [
    {
     "data": {
      "text/plain": [
       "'Kate'"
      ]
     },
     "execution_count": 30,
     "metadata": {},
     "output_type": "execute_result"
    }
   ],
   "source": [
    "name_array[np.argmax(score_array)]"
   ]
  }
 ],
 "metadata": {
  "kernelspec": {
   "display_name": "Python 3 (ipykernel)",
   "language": "python",
   "name": "python3"
  },
  "language_info": {
   "codemirror_mode": {
    "name": "ipython",
    "version": 3
   },
   "file_extension": ".py",
   "mimetype": "text/x-python",
   "name": "python",
   "nbconvert_exporter": "python",
   "pygments_lexer": "ipython3",
   "version": "3.11.7"
  }
 },
 "nbformat": 4,
 "nbformat_minor": 5
}
