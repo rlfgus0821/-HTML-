{
 "cells": [
  {
   "cell_type": "markdown",
   "id": "75a2f0d6",
   "metadata": {},
   "source": [
    "## Numpy 연습문제2"
   ]
  },
  {
   "cell_type": "code",
   "execution_count": 1,
   "id": "c7d94cdc",
   "metadata": {},
   "outputs": [],
   "source": [
    "import numpy as np"
   ]
  },
  {
   "cell_type": "markdown",
   "id": "ce6bc591",
   "metadata": {},
   "source": [
    "#### 1. 값 20~49를 갖는 벡터 x  생성하기"
   ]
  },
  {
   "cell_type": "code",
   "execution_count": 13,
   "id": "8187b84f",
   "metadata": {},
   "outputs": [],
   "source": [
    "x = np.arange(20,50)"
   ]
  },
  {
   "cell_type": "markdown",
   "id": "ab1b401c",
   "metadata": {},
   "source": [
    "#### 2. 1번에서 생성한 벡터 요소를 역순으로 갖는 벡터 출력하기 "
   ]
  },
  {
   "cell_type": "code",
   "execution_count": 3,
   "id": "47a7d869",
   "metadata": {},
   "outputs": [
    {
     "data": {
      "text/plain": [
       "array([49, 48, 47, 46, 45, 44, 43, 42, 41, 40, 39, 38, 37, 36, 35, 34, 33,\n",
       "       32, 31, 30, 29, 28, 27, 26, 25, 24, 23, 22, 21, 20])"
      ]
     },
     "execution_count": 3,
     "metadata": {},
     "output_type": "execute_result"
    }
   ],
   "source": [
    "x[::-1]"
   ]
  },
  {
   "cell_type": "markdown",
   "id": "fbb1f612",
   "metadata": {},
   "source": [
    "#### 3. 다음의 코드의 실행 결과를 예상해보기"
   ]
  },
  {
   "cell_type": "markdown",
   "id": "d33d1418",
   "metadata": {},
   "source": [
    "**1)**"
   ]
  },
  {
   "cell_type": "code",
   "execution_count": 4,
   "id": "c0771783-fd0b-4067-a062-592fea6e47ef",
   "metadata": {},
   "outputs": [
    {
     "data": {
      "text/plain": [
       "nan"
      ]
     },
     "execution_count": 4,
     "metadata": {},
     "output_type": "execute_result"
    }
   ],
   "source": [
    "0 * np.nan"
   ]
  },
  {
   "cell_type": "markdown",
   "id": "3a0b8761",
   "metadata": {},
   "source": [
    "**2)**"
   ]
  },
  {
   "cell_type": "code",
   "execution_count": 5,
   "id": "7b5ab2f3-addc-4f20-984a-906d8fb4ebca",
   "metadata": {},
   "outputs": [
    {
     "data": {
      "text/plain": [
       "False"
      ]
     },
     "execution_count": 5,
     "metadata": {},
     "output_type": "execute_result"
    }
   ],
   "source": [
    "np.nan == np.nan"
   ]
  },
  {
   "cell_type": "markdown",
   "id": "e908946d",
   "metadata": {},
   "source": [
    "**3)**"
   ]
  },
  {
   "cell_type": "code",
   "execution_count": 6,
   "id": "c598be11-27b6-4c3e-95c7-cfaf5cafbb22",
   "metadata": {},
   "outputs": [
    {
     "data": {
      "text/plain": [
       "nan"
      ]
     },
     "execution_count": 6,
     "metadata": {},
     "output_type": "execute_result"
    }
   ],
   "source": [
    "np.nan - np.nan"
   ]
  },
  {
   "cell_type": "markdown",
   "id": "98528724",
   "metadata": {},
   "source": [
    "**4)**"
   ]
  },
  {
   "cell_type": "code",
   "execution_count": 7,
   "id": "52d202fd-5fb1-43b0-9ce9-73396bf020ee",
   "metadata": {},
   "outputs": [
    {
     "data": {
      "text/plain": [
       "False"
      ]
     },
     "execution_count": 7,
     "metadata": {},
     "output_type": "execute_result"
    }
   ],
   "source": [
    "np.inf > np.nan"
   ]
  },
  {
   "cell_type": "markdown",
   "id": "ae18edf7",
   "metadata": {},
   "source": [
    "**5)**"
   ]
  },
  {
   "cell_type": "code",
   "execution_count": 2,
   "id": "7d872d88-03d1-4637-905c-9f706e1cf540",
   "metadata": {},
   "outputs": [
    {
     "data": {
      "text/plain": [
       "True"
      ]
     },
     "execution_count": 2,
     "metadata": {},
     "output_type": "execute_result"
    }
   ],
   "source": [
    "np.nan in set([np.nan])"
   ]
  },
  {
   "cell_type": "markdown",
   "id": "318c2e9c",
   "metadata": {},
   "source": [
    "#### 4. 모두 1의 요소를 갖는 5X3 크기 행렬 A와 3X2 크기 행렬 B 생성하기"
   ]
  },
  {
   "cell_type": "code",
   "execution_count": 6,
   "id": "2f988fcd",
   "metadata": {},
   "outputs": [],
   "source": [
    "A = np.ones((5,3))\n",
    "B = np.ones((3,2))"
   ]
  },
  {
   "cell_type": "markdown",
   "id": "018e7359",
   "metadata": {},
   "source": [
    "#### 5. 4번에서 생성한 두 행렬의 곱(dot)을 한 결과는?"
   ]
  },
  {
   "cell_type": "code",
   "execution_count": 9,
   "id": "ddca391b",
   "metadata": {},
   "outputs": [
    {
     "data": {
      "text/plain": [
       "array([[3., 3.],\n",
       "       [3., 3.],\n",
       "       [3., 3.],\n",
       "       [3., 3.],\n",
       "       [3., 3.]])"
      ]
     },
     "execution_count": 9,
     "metadata": {},
     "output_type": "execute_result"
    }
   ],
   "source": [
    "np.dot(A,B) # = A.dot(B)"
   ]
  },
  {
   "cell_type": "markdown",
   "id": "8e736ddb",
   "metadata": {},
   "source": [
    "#### 6. 다음의 결과를 예상하시오."
   ]
  },
  {
   "cell_type": "markdown",
   "id": "4ff45003",
   "metadata": {},
   "source": [
    "**1)**"
   ]
  },
  {
   "cell_type": "code",
   "execution_count": 10,
   "id": "434be176-4be2-484a-96cd-e82c73e5e0bc",
   "metadata": {},
   "outputs": [
    {
     "data": {
      "text/plain": [
       "1.0"
      ]
     },
     "execution_count": 10,
     "metadata": {},
     "output_type": "execute_result"
    }
   ],
   "source": [
    "np.array(0) / np.array(0)"
   ]
  },
  {
   "cell_type": "markdown",
   "id": "296eb6aa",
   "metadata": {},
   "source": [
    "**2)**"
   ]
  },
  {
   "cell_type": "code",
   "execution_count": 17,
   "id": "76d023e3-f0b4-417f-be18-df55d93bc2b7",
   "metadata": {},
   "outputs": [
    {
     "name": "stderr",
     "output_type": "stream",
     "text": [
      "C:\\Users\\gillhk\\AppData\\Local\\Temp\\ipykernel_20564\\2018018105.py:1: RuntimeWarning: divide by zero encountered in floor_divide\n",
      "  np.array(0) // np.array(0)\n"
     ]
    },
    {
     "data": {
      "text/plain": [
       "0"
      ]
     },
     "execution_count": 17,
     "metadata": {},
     "output_type": "execute_result"
    }
   ],
   "source": [
    "np.array(0) // np.array(0)"
   ]
  },
  {
   "cell_type": "markdown",
   "id": "ff663312",
   "metadata": {},
   "source": [
    "**3)**"
   ]
  },
  {
   "cell_type": "code",
   "execution_count": 19,
   "id": "c4afb5be-f47e-4afe-9e5d-53b672b03939",
   "metadata": {},
   "outputs": [
    {
     "name": "stderr",
     "output_type": "stream",
     "text": [
      "C:\\Users\\gillhk\\AppData\\Local\\Temp\\ipykernel_20564\\699728972.py:1: RuntimeWarning: invalid value encountered in cast\n",
      "  np.array([np.nan]).astype(int).astype(float)\n"
     ]
    },
    {
     "data": {
      "text/plain": [
       "array([-2.14748365e+09])"
      ]
     },
     "execution_count": 19,
     "metadata": {},
     "output_type": "execute_result"
    }
   ],
   "source": [
    "np.array([np.nan]).astype(int).astype(float)"
   ]
  },
  {
   "cell_type": "markdown",
   "id": "033314bc",
   "metadata": {},
   "source": [
    "#### 7. 1번에서 생성한 벡터에서 30에서 38사이의 모든 요소 가져오기"
   ]
  },
  {
   "cell_type": "code",
   "execution_count": 15,
   "id": "44d5008b-4aef-4dfa-8199-178fbd6784d4",
   "metadata": {},
   "outputs": [
    {
     "data": {
      "text/plain": [
       "array([False, False, False, False, False, False, False, False, False,\n",
       "       False,  True,  True,  True,  True,  True,  True,  True,  True,\n",
       "        True, False, False, False, False, False, False, False, False,\n",
       "       False, False, False])"
      ]
     },
     "execution_count": 15,
     "metadata": {},
     "output_type": "execute_result"
    }
   ],
   "source": [
    "(x>29) & (x<39)"
   ]
  },
  {
   "cell_type": "code",
   "execution_count": 14,
   "id": "c57c9bb2",
   "metadata": {},
   "outputs": [
    {
     "data": {
      "text/plain": [
       "array([30, 31, 32, 33, 34, 35, 36, 37, 38])"
      ]
     },
     "execution_count": 14,
     "metadata": {},
     "output_type": "execute_result"
    }
   ],
   "source": [
    "x[(x>29) & (x<39)]"
   ]
  },
  {
   "cell_type": "markdown",
   "id": "8a00709d",
   "metadata": {},
   "source": [
    "#### 8. 크기 10의 실수 랜덤 벡터를 생성하고, 최대값을 0으로 변경하기"
   ]
  },
  {
   "cell_type": "code",
   "execution_count": 11,
   "id": "7d9caf3f",
   "metadata": {},
   "outputs": [
    {
     "data": {
      "text/plain": [
       "array([0.5526014 , 0.33438535, 0.03229989, 0.74633242, 0.16563063,\n",
       "       0.38213174, 0.        , 0.27192386, 0.79467936, 0.90330444])"
      ]
     },
     "execution_count": 11,
     "metadata": {},
     "output_type": "execute_result"
    }
   ],
   "source": [
    "a = np.random.rand(10)\n",
    "a[a.argmax()]=0\n",
    "a"
   ]
  },
  {
   "cell_type": "markdown",
   "id": "ef49effa",
   "metadata": {},
   "source": [
    "#### 9. 1에서 10사이의 실수를 등간격으로 50개 갖는 벡터를 생성하되 32비트 실수로 생성하기"
   ]
  },
  {
   "cell_type": "code",
   "execution_count": 48,
   "id": "100f7793",
   "metadata": {},
   "outputs": [],
   "source": [
    "b = np.linspace(1,10,50,dtype='float32')"
   ]
  },
  {
   "cell_type": "markdown",
   "id": "ed925f2a",
   "metadata": {},
   "source": [
    "#### 10. 9번에서 생성한 벡터를 32비트 정수형으로 변환하기"
   ]
  },
  {
   "cell_type": "code",
   "execution_count": 49,
   "id": "bac916de",
   "metadata": {
    "scrolled": true
   },
   "outputs": [
    {
     "data": {
      "text/plain": [
       "array([ 1,  1,  1,  1,  1,  1,  2,  2,  2,  2,  2,  3,  3,  3,  3,  3,  3,\n",
       "        4,  4,  4,  4,  4,  5,  5,  5,  5,  5,  5,  6,  6,  6,  6,  6,  7,\n",
       "        7,  7,  7,  7,  7,  8,  8,  8,  8,  8,  9,  9,  9,  9,  9, 10])"
      ]
     },
     "execution_count": 49,
     "metadata": {},
     "output_type": "execute_result"
    }
   ],
   "source": [
    "b.astype(int)"
   ]
  },
  {
   "cell_type": "markdown",
   "id": "53226649",
   "metadata": {},
   "source": [
    "#### 11. 2022년 12월에 해당하는 모든 날짜를 갖는 벡터 생성하기\n",
    "\n",
    "- 힌트 : arange()함수 사용하되 데이터 유형을 'datetime64[D]'로 지정할 것"
   ]
  },
  {
   "cell_type": "code",
   "execution_count": 22,
   "id": "be3f9053",
   "metadata": {},
   "outputs": [
    {
     "data": {
      "text/plain": [
       "array(['2022-12-01', '2022-12-02', '2022-12-03', '2022-12-04',\n",
       "       '2022-12-05', '2022-12-06', '2022-12-07', '2022-12-08',\n",
       "       '2022-12-09', '2022-12-10', '2022-12-11', '2022-12-12',\n",
       "       '2022-12-13', '2022-12-14', '2022-12-15', '2022-12-16',\n",
       "       '2022-12-17', '2022-12-18', '2022-12-19', '2022-12-20',\n",
       "       '2022-12-21', '2022-12-22', '2022-12-23', '2022-12-24',\n",
       "       '2022-12-25', '2022-12-26', '2022-12-27', '2022-12-28',\n",
       "       '2022-12-29', '2022-12-30', '2022-12-31'], dtype='datetime64[D]')"
      ]
     },
     "execution_count": 22,
     "metadata": {},
     "output_type": "execute_result"
    }
   ],
   "source": [
    "np.arange('2022-12','2023-01',dtype='datetime64[D]')"
   ]
  },
  {
   "cell_type": "markdown",
   "id": "bc23786a",
   "metadata": {},
   "source": [
    "#### 12. 오늘의 날짜를 생성하고, 어제, 내일의 날짜 생성해보기\n",
    "- 힌트 : np.datetime64('today'), np.timedelta64() 사용"
   ]
  },
  {
   "cell_type": "code",
   "execution_count": 19,
   "id": "3073b489",
   "metadata": {},
   "outputs": [
    {
     "data": {
      "text/plain": [
       "numpy.datetime64('2024-03-19')"
      ]
     },
     "execution_count": 19,
     "metadata": {},
     "output_type": "execute_result"
    }
   ],
   "source": [
    "np.datetime64('today')"
   ]
  },
  {
   "cell_type": "code",
   "execution_count": 23,
   "id": "567eff5e",
   "metadata": {},
   "outputs": [
    {
     "data": {
      "text/plain": [
       "numpy.datetime64('2024-03-20')"
      ]
     },
     "execution_count": 23,
     "metadata": {},
     "output_type": "execute_result"
    }
   ],
   "source": [
    "# 내일\n",
    "np.datetime64('today')+np.timedelta64(1) "
   ]
  },
  {
   "cell_type": "code",
   "execution_count": 24,
   "id": "731e1033",
   "metadata": {},
   "outputs": [
    {
     "data": {
      "text/plain": [
       "numpy.datetime64('2024-03-18')"
      ]
     },
     "execution_count": 24,
     "metadata": {},
     "output_type": "execute_result"
    }
   ],
   "source": [
    "# 어제\n",
    "np.datetime64('today')-np.timedelta64(1) "
   ]
  },
  {
   "cell_type": "markdown",
   "id": "78960b0f",
   "metadata": {},
   "source": [
    "----"
   ]
  },
  {
   "cell_type": "code",
   "execution_count": null,
   "id": "ede66aa7-9c5a-47dc-829b-6573243cbc2e",
   "metadata": {},
   "outputs": [],
   "source": []
  }
 ],
 "metadata": {
  "kernelspec": {
   "display_name": "Python 3 (ipykernel)",
   "language": "python",
   "name": "python3"
  },
  "language_info": {
   "codemirror_mode": {
    "name": "ipython",
    "version": 3
   },
   "file_extension": ".py",
   "mimetype": "text/x-python",
   "name": "python",
   "nbconvert_exporter": "python",
   "pygments_lexer": "ipython3",
   "version": "3.11.7"
  }
 },
 "nbformat": 4,
 "nbformat_minor": 5
}
